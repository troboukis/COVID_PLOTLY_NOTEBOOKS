{
 "cells": [
  {
   "cell_type": "code",
   "execution_count": 1,
   "metadata": {},
   "outputs": [],
   "source": [
    "import warnings\n",
    "warnings.filterwarnings(\"ignore\")"
   ]
  },
  {
   "cell_type": "code",
   "execution_count": 2,
   "metadata": {},
   "outputs": [],
   "source": [
    "import pandas as pd\n",
    "import numpy as np\n",
    "import plotly.graph_objects as go\n",
    "import cufflinks as cf\n",
    "\n",
    "import matplotlib\n",
    "import matplotlib.pyplot as plt\n"
   ]
  },
  {
   "cell_type": "code",
   "execution_count": 3,
   "metadata": {},
   "outputs": [],
   "source": [
    "import chart_studio.plotly as py\n",
    "import plotly.tools as tls\n",
    "import plotly.graph_objs as go"
   ]
  },
  {
   "cell_type": "code",
   "execution_count": 4,
   "metadata": {},
   "outputs": [],
   "source": [
    "%matplotlib inline\n",
    "matplotlib.rcParams['pdf.fonttype'] = 42\n",
    "matplotlib.rcParams['ps.fonttype'] = 42\n",
    "pd.set_option('display.max_rows', 1500)\n",
    "pd.set_option('display.max_columns', 500)\n",
    "pd.set_option('display.width', 1000)\n",
    "pd.set_option('display.max_colwidth', None)"
   ]
  },
  {
   "cell_type": "code",
   "execution_count": 5,
   "metadata": {},
   "outputs": [],
   "source": [
    "baseURL = \"https://raw.githubusercontent.com/CSSEGISandData/COVID-19/master/csse_covid_19_data/csse_covid_19_time_series/\"\n",
    "def loadData(fileName, columnName):\n",
    "    data = pd.read_csv(baseURL + fileName) \\\n",
    "             .drop(['Lat', 'Long'], axis=1) \\\n",
    "             .melt(id_vars=['Province/State', 'Country/Region'], \n",
    "                 var_name='Date', value_name=columnName) \\\n",
    "             .astype({'Date':'datetime64[ns]', columnName:'Int64'}, \n",
    "                 errors='ignore')\n",
    "    data['Province/State'].fillna('<all>', inplace=True)\n",
    "    data[columnName].fillna(0, inplace=True)\n",
    "    return data"
   ]
  },
  {
   "cell_type": "code",
   "execution_count": 6,
   "metadata": {},
   "outputs": [],
   "source": [
    "df = loadData(\"time_series_covid19_confirmed_global.csv\", \"cases\")"
   ]
  },
  {
   "cell_type": "code",
   "execution_count": 7,
   "metadata": {},
   "outputs": [
    {
     "data": {
      "text/plain": [
       "array(['Afghanistan', 'Albania', 'Algeria', 'Andorra', 'Angola',\n",
       "       'Antigua and Barbuda', 'Argentina', 'Armenia', 'Australia',\n",
       "       'Austria', 'Azerbaijan', 'Bahamas', 'Bahrain', 'Bangladesh',\n",
       "       'Barbados', 'Belarus', 'Belgium', 'Benin', 'Bhutan', 'Bolivia',\n",
       "       'Bosnia and Herzegovina', 'Brazil', 'Brunei', 'Bulgaria',\n",
       "       'Burkina Faso', 'Cabo Verde', 'Cambodia', 'Cameroon', 'Canada',\n",
       "       'Central African Republic', 'Chad', 'Chile', 'China', 'Colombia',\n",
       "       'Congo (Brazzaville)', 'Congo (Kinshasa)', 'Costa Rica',\n",
       "       \"Cote d'Ivoire\", 'Croatia', 'Diamond Princess', 'Cuba', 'Cyprus',\n",
       "       'Czechia', 'Denmark', 'Djibouti', 'Dominican Republic', 'Ecuador',\n",
       "       'Egypt', 'El Salvador', 'Equatorial Guinea', 'Eritrea', 'Estonia',\n",
       "       'Eswatini', 'Ethiopia', 'Fiji', 'Finland', 'France', 'Gabon',\n",
       "       'Gambia', 'Georgia', 'Germany', 'Ghana', 'Greece', 'Guatemala',\n",
       "       'Guinea', 'Guyana', 'Haiti', 'Holy See', 'Honduras', 'Hungary',\n",
       "       'Iceland', 'India', 'Indonesia', 'Iran', 'Iraq', 'Ireland',\n",
       "       'Israel', 'Italy', 'Jamaica', 'Japan', 'Jordan', 'Kazakhstan',\n",
       "       'Kenya', 'Korea, South', 'Kuwait', 'Kyrgyzstan', 'Latvia',\n",
       "       'Lebanon', 'Liberia', 'Liechtenstein', 'Lithuania', 'Luxembourg',\n",
       "       'Madagascar', 'Malaysia', 'Maldives', 'Malta', 'Mauritania',\n",
       "       'Mauritius', 'Mexico', 'Moldova', 'Monaco', 'Mongolia',\n",
       "       'Montenegro', 'Morocco', 'Namibia', 'Nepal', 'Netherlands',\n",
       "       'New Zealand', 'Nicaragua', 'Niger', 'Nigeria', 'North Macedonia',\n",
       "       'Norway', 'Oman', 'Pakistan', 'Panama', 'Papua New Guinea',\n",
       "       'Paraguay', 'Peru', 'Philippines', 'Poland', 'Portugal', 'Qatar',\n",
       "       'Romania', 'Russia', 'Rwanda', 'Saint Lucia',\n",
       "       'Saint Vincent and the Grenadines', 'San Marino', 'Saudi Arabia',\n",
       "       'Senegal', 'Serbia', 'Seychelles', 'Singapore', 'Slovakia',\n",
       "       'Slovenia', 'Somalia', 'South Africa', 'Spain', 'Sri Lanka',\n",
       "       'Sudan', 'Suriname', 'Sweden', 'Switzerland', 'Taiwan*',\n",
       "       'Tanzania', 'Thailand', 'Togo', 'Trinidad and Tobago', 'Tunisia',\n",
       "       'Turkey', 'Uganda', 'Ukraine', 'United Arab Emirates',\n",
       "       'United Kingdom', 'Uruguay', 'US', 'Uzbekistan', 'Venezuela',\n",
       "       'Vietnam', 'Zambia', 'Zimbabwe', 'Dominica', 'Grenada',\n",
       "       'Mozambique', 'Syria', 'Timor-Leste', 'Belize', 'Laos', 'Libya',\n",
       "       'West Bank and Gaza', 'Guinea-Bissau', 'Mali',\n",
       "       'Saint Kitts and Nevis', 'Kosovo', 'Burma', 'MS Zaandam',\n",
       "       'Botswana', 'Burundi', 'Sierra Leone', 'Malawi'], dtype=object)"
      ]
     },
     "execution_count": 7,
     "metadata": {},
     "output_type": "execute_result"
    }
   ],
   "source": [
    "df['Country/Region'].unique()"
   ]
  },
  {
   "cell_type": "code",
   "execution_count": 8,
   "metadata": {},
   "outputs": [],
   "source": [
    "countries=pd.read_csv('https://raw.githubusercontent.com/iMEdD-Lab/open-data/master/COVID-19/countriesMapping.csv')"
   ]
  },
  {
   "cell_type": "code",
   "execution_count": 9,
   "metadata": {},
   "outputs": [
    {
     "data": {
      "text/html": [
       "<div>\n",
       "<style scoped>\n",
       "    .dataframe tbody tr th:only-of-type {\n",
       "        vertical-align: middle;\n",
       "    }\n",
       "\n",
       "    .dataframe tbody tr th {\n",
       "        vertical-align: top;\n",
       "    }\n",
       "\n",
       "    .dataframe thead th {\n",
       "        text-align: right;\n",
       "    }\n",
       "</style>\n",
       "<table border=\"1\" class=\"dataframe\">\n",
       "  <thead>\n",
       "    <tr style=\"text-align: right;\">\n",
       "      <th></th>\n",
       "      <th>name_x</th>\n",
       "      <th>alpha2</th>\n",
       "      <th>alpha3_x</th>\n",
       "      <th>country</th>\n",
       "      <th>country_h</th>\n",
       "      <th>country_w</th>\n",
       "      <th>country_p</th>\n",
       "    </tr>\n",
       "  </thead>\n",
       "  <tbody>\n",
       "    <tr>\n",
       "      <th>0</th>\n",
       "      <td>Άγ. Λουκία</td>\n",
       "      <td>lc</td>\n",
       "      <td>lca</td>\n",
       "      <td>Saint Lucia</td>\n",
       "      <td>NaN</td>\n",
       "      <td>NaN</td>\n",
       "      <td>NaN</td>\n",
       "    </tr>\n",
       "    <tr>\n",
       "      <th>1</th>\n",
       "      <td>Άγ. Βικέντιος &amp; Γρεναδίνες</td>\n",
       "      <td>vc</td>\n",
       "      <td>vct</td>\n",
       "      <td>Saint Vincent and the Grenadines</td>\n",
       "      <td>NaN</td>\n",
       "      <td>St. Vincent Grenadines</td>\n",
       "      <td>St. Vincent &amp; Grenadines</td>\n",
       "    </tr>\n",
       "    <tr>\n",
       "      <th>2</th>\n",
       "      <td>Άγ. Μαρίνος</td>\n",
       "      <td>s</td>\n",
       "      <td>smr</td>\n",
       "      <td>San Marino</td>\n",
       "      <td>NaN</td>\n",
       "      <td>NaN</td>\n",
       "      <td>NaN</td>\n",
       "    </tr>\n",
       "    <tr>\n",
       "      <th>3</th>\n",
       "      <td>Αγ. Χριστόφορος &amp; Νέβις</td>\n",
       "      <td>kn</td>\n",
       "      <td>kna</td>\n",
       "      <td>Saint Kitts and Nevis</td>\n",
       "      <td>NaN</td>\n",
       "      <td>NaN</td>\n",
       "      <td>Saint Kitts &amp; Nevis</td>\n",
       "    </tr>\n",
       "    <tr>\n",
       "      <th>4</th>\n",
       "      <td>Αζερμπαϊτζάν</td>\n",
       "      <td>az</td>\n",
       "      <td>aze</td>\n",
       "      <td>Azerbaijan</td>\n",
       "      <td>NaN</td>\n",
       "      <td>NaN</td>\n",
       "      <td>NaN</td>\n",
       "    </tr>\n",
       "    <tr>\n",
       "      <th>5</th>\n",
       "      <td>Αίγυπτος</td>\n",
       "      <td>eg</td>\n",
       "      <td>egy</td>\n",
       "      <td>Egypt</td>\n",
       "      <td>NaN</td>\n",
       "      <td>NaN</td>\n",
       "      <td>NaN</td>\n",
       "    </tr>\n",
       "    <tr>\n",
       "      <th>6</th>\n",
       "      <td>Αιθιοπία</td>\n",
       "      <td>et</td>\n",
       "      <td>eth</td>\n",
       "      <td>Ethiopia</td>\n",
       "      <td>NaN</td>\n",
       "      <td>NaN</td>\n",
       "      <td>NaN</td>\n",
       "    </tr>\n",
       "    <tr>\n",
       "      <th>7</th>\n",
       "      <td>Αϊτή</td>\n",
       "      <td>ht</td>\n",
       "      <td>hti</td>\n",
       "      <td>Haiti</td>\n",
       "      <td>NaN</td>\n",
       "      <td>NaN</td>\n",
       "      <td>NaN</td>\n",
       "    </tr>\n",
       "    <tr>\n",
       "      <th>8</th>\n",
       "      <td>Αλβανία</td>\n",
       "      <td>al</td>\n",
       "      <td>alb</td>\n",
       "      <td>Albania</td>\n",
       "      <td>NaN</td>\n",
       "      <td>NaN</td>\n",
       "      <td>NaN</td>\n",
       "    </tr>\n",
       "    <tr>\n",
       "      <th>9</th>\n",
       "      <td>Αλγερία</td>\n",
       "      <td>dz</td>\n",
       "      <td>dza</td>\n",
       "      <td>Algeria</td>\n",
       "      <td>NaN</td>\n",
       "      <td>NaN</td>\n",
       "      <td>NaN</td>\n",
       "    </tr>\n",
       "    <tr>\n",
       "      <th>10</th>\n",
       "      <td>Ανγκόλα</td>\n",
       "      <td>ao</td>\n",
       "      <td>ago</td>\n",
       "      <td>Angola</td>\n",
       "      <td>NaN</td>\n",
       "      <td>NaN</td>\n",
       "      <td>NaN</td>\n",
       "    </tr>\n",
       "    <tr>\n",
       "      <th>11</th>\n",
       "      <td>Ανδόρρα</td>\n",
       "      <td>ad</td>\n",
       "      <td>and</td>\n",
       "      <td>Andorra</td>\n",
       "      <td>NaN</td>\n",
       "      <td>NaN</td>\n",
       "      <td>NaN</td>\n",
       "    </tr>\n",
       "    <tr>\n",
       "      <th>12</th>\n",
       "      <td>Αντίγκουα &amp; Μπαρμπούντα</td>\n",
       "      <td>ag</td>\n",
       "      <td>atg</td>\n",
       "      <td>Antigua and Barbuda</td>\n",
       "      <td>NaN</td>\n",
       "      <td>NaN</td>\n",
       "      <td>NaN</td>\n",
       "    </tr>\n",
       "    <tr>\n",
       "      <th>13</th>\n",
       "      <td>Αργεντινή</td>\n",
       "      <td>ar</td>\n",
       "      <td>arg</td>\n",
       "      <td>Argentina</td>\n",
       "      <td>NaN</td>\n",
       "      <td>NaN</td>\n",
       "      <td>NaN</td>\n",
       "    </tr>\n",
       "    <tr>\n",
       "      <th>14</th>\n",
       "      <td>Αρμενία</td>\n",
       "      <td>am</td>\n",
       "      <td>arm</td>\n",
       "      <td>Armenia</td>\n",
       "      <td>NaN</td>\n",
       "      <td>NaN</td>\n",
       "      <td>NaN</td>\n",
       "    </tr>\n",
       "    <tr>\n",
       "      <th>15</th>\n",
       "      <td>Αυστραλία</td>\n",
       "      <td>au</td>\n",
       "      <td>aus</td>\n",
       "      <td>Australia</td>\n",
       "      <td>NaN</td>\n",
       "      <td>NaN</td>\n",
       "      <td>NaN</td>\n",
       "    </tr>\n",
       "    <tr>\n",
       "      <th>16</th>\n",
       "      <td>Αυστρία</td>\n",
       "      <td>at</td>\n",
       "      <td>aut</td>\n",
       "      <td>Austria</td>\n",
       "      <td>NaN</td>\n",
       "      <td>NaN</td>\n",
       "      <td>NaN</td>\n",
       "    </tr>\n",
       "    <tr>\n",
       "      <th>17</th>\n",
       "      <td>Αφγανιστάν</td>\n",
       "      <td>af</td>\n",
       "      <td>afg</td>\n",
       "      <td>Afghanistan</td>\n",
       "      <td>NaN</td>\n",
       "      <td>NaN</td>\n",
       "      <td>NaN</td>\n",
       "    </tr>\n",
       "    <tr>\n",
       "      <th>18</th>\n",
       "      <td>Βανουάτου</td>\n",
       "      <td>vu</td>\n",
       "      <td>vut</td>\n",
       "      <td>Vanuatu</td>\n",
       "      <td>NaN</td>\n",
       "      <td>NaN</td>\n",
       "      <td>NaN</td>\n",
       "    </tr>\n",
       "    <tr>\n",
       "      <th>19</th>\n",
       "      <td>Βέλγιο</td>\n",
       "      <td>be</td>\n",
       "      <td>bel</td>\n",
       "      <td>Belgium</td>\n",
       "      <td>NaN</td>\n",
       "      <td>NaN</td>\n",
       "      <td>NaN</td>\n",
       "    </tr>\n",
       "    <tr>\n",
       "      <th>20</th>\n",
       "      <td>Βοσνία-Ερζεγοβίνη</td>\n",
       "      <td>ba</td>\n",
       "      <td>bih</td>\n",
       "      <td>Bosnia and Herzegovina</td>\n",
       "      <td>NaN</td>\n",
       "      <td>NaN</td>\n",
       "      <td>NaN</td>\n",
       "    </tr>\n",
       "    <tr>\n",
       "      <th>21</th>\n",
       "      <td>Βουλγαρία</td>\n",
       "      <td>bg</td>\n",
       "      <td>bgr</td>\n",
       "      <td>Bulgaria</td>\n",
       "      <td>NaN</td>\n",
       "      <td>NaN</td>\n",
       "      <td>NaN</td>\n",
       "    </tr>\n",
       "    <tr>\n",
       "      <th>22</th>\n",
       "      <td>Βραζιλία</td>\n",
       "      <td>br</td>\n",
       "      <td>bra</td>\n",
       "      <td>Brazil</td>\n",
       "      <td>NaN</td>\n",
       "      <td>NaN</td>\n",
       "      <td>NaN</td>\n",
       "    </tr>\n",
       "    <tr>\n",
       "      <th>23</th>\n",
       "      <td>Γαλλία</td>\n",
       "      <td>fr</td>\n",
       "      <td>fra</td>\n",
       "      <td>France</td>\n",
       "      <td>NaN</td>\n",
       "      <td>NaN</td>\n",
       "      <td>NaN</td>\n",
       "    </tr>\n",
       "    <tr>\n",
       "      <th>24</th>\n",
       "      <td>Γερμανία</td>\n",
       "      <td>de</td>\n",
       "      <td>deu</td>\n",
       "      <td>Germany</td>\n",
       "      <td>NaN</td>\n",
       "      <td>NaN</td>\n",
       "      <td>NaN</td>\n",
       "    </tr>\n",
       "    <tr>\n",
       "      <th>25</th>\n",
       "      <td>Γεωργία</td>\n",
       "      <td>ge</td>\n",
       "      <td>geo</td>\n",
       "      <td>Georgia</td>\n",
       "      <td>NaN</td>\n",
       "      <td>NaN</td>\n",
       "      <td>NaN</td>\n",
       "    </tr>\n",
       "    <tr>\n",
       "      <th>26</th>\n",
       "      <td>Γκάμπια</td>\n",
       "      <td>gm</td>\n",
       "      <td>gmb</td>\n",
       "      <td>Gambia</td>\n",
       "      <td>NaN</td>\n",
       "      <td>NaN</td>\n",
       "      <td>NaN</td>\n",
       "    </tr>\n",
       "    <tr>\n",
       "      <th>27</th>\n",
       "      <td>Γκαμπόν</td>\n",
       "      <td>ga</td>\n",
       "      <td>gab</td>\n",
       "      <td>Gabon</td>\n",
       "      <td>NaN</td>\n",
       "      <td>NaN</td>\n",
       "      <td>NaN</td>\n",
       "    </tr>\n",
       "    <tr>\n",
       "      <th>28</th>\n",
       "      <td>Γκάνα</td>\n",
       "      <td>gh</td>\n",
       "      <td>gha</td>\n",
       "      <td>Ghana</td>\n",
       "      <td>NaN</td>\n",
       "      <td>NaN</td>\n",
       "      <td>NaN</td>\n",
       "    </tr>\n",
       "    <tr>\n",
       "      <th>29</th>\n",
       "      <td>Γουατεμάλα</td>\n",
       "      <td>gt</td>\n",
       "      <td>gtm</td>\n",
       "      <td>Guatemala</td>\n",
       "      <td>NaN</td>\n",
       "      <td>NaN</td>\n",
       "      <td>NaN</td>\n",
       "    </tr>\n",
       "    <tr>\n",
       "      <th>30</th>\n",
       "      <td>Γουιάνα</td>\n",
       "      <td>gy</td>\n",
       "      <td>guy</td>\n",
       "      <td>Guyana</td>\n",
       "      <td>NaN</td>\n",
       "      <td>NaN</td>\n",
       "      <td>NaN</td>\n",
       "    </tr>\n",
       "    <tr>\n",
       "      <th>31</th>\n",
       "      <td>Γουινέα</td>\n",
       "      <td>gn</td>\n",
       "      <td>gin</td>\n",
       "      <td>Guinea</td>\n",
       "      <td>NaN</td>\n",
       "      <td>NaN</td>\n",
       "      <td>NaN</td>\n",
       "    </tr>\n",
       "    <tr>\n",
       "      <th>32</th>\n",
       "      <td>Γρενάδα</td>\n",
       "      <td>gd</td>\n",
       "      <td>grd</td>\n",
       "      <td>Grenada</td>\n",
       "      <td>NaN</td>\n",
       "      <td>NaN</td>\n",
       "      <td>NaN</td>\n",
       "    </tr>\n",
       "    <tr>\n",
       "      <th>33</th>\n",
       "      <td>Δανία</td>\n",
       "      <td>dk</td>\n",
       "      <td>dnk</td>\n",
       "      <td>Denmark</td>\n",
       "      <td>NaN</td>\n",
       "      <td>NaN</td>\n",
       "      <td>NaN</td>\n",
       "    </tr>\n",
       "    <tr>\n",
       "      <th>34</th>\n",
       "      <td>Δομινικανή Δημ/τία</td>\n",
       "      <td>do</td>\n",
       "      <td>dom</td>\n",
       "      <td>Dominican Republic</td>\n",
       "      <td>NaN</td>\n",
       "      <td>NaN</td>\n",
       "      <td>NaN</td>\n",
       "    </tr>\n",
       "    <tr>\n",
       "      <th>35</th>\n",
       "      <td>Ελ Σαλβαδόρ</td>\n",
       "      <td>sv</td>\n",
       "      <td>slv</td>\n",
       "      <td>El Salvador</td>\n",
       "      <td>NaN</td>\n",
       "      <td>NaN</td>\n",
       "      <td>NaN</td>\n",
       "    </tr>\n",
       "    <tr>\n",
       "      <th>36</th>\n",
       "      <td>Ελβετία</td>\n",
       "      <td>ch</td>\n",
       "      <td>che</td>\n",
       "      <td>Switzerland</td>\n",
       "      <td>NaN</td>\n",
       "      <td>NaN</td>\n",
       "      <td>NaN</td>\n",
       "    </tr>\n",
       "    <tr>\n",
       "      <th>37</th>\n",
       "      <td>Ελλάδα</td>\n",
       "      <td>gr</td>\n",
       "      <td>grc</td>\n",
       "      <td>Greece</td>\n",
       "      <td>NaN</td>\n",
       "      <td>NaN</td>\n",
       "      <td>NaN</td>\n",
       "    </tr>\n",
       "    <tr>\n",
       "      <th>38</th>\n",
       "      <td>Ερυθραία</td>\n",
       "      <td>er</td>\n",
       "      <td>eri</td>\n",
       "      <td>Eritrea</td>\n",
       "      <td>NaN</td>\n",
       "      <td>NaN</td>\n",
       "      <td>NaN</td>\n",
       "    </tr>\n",
       "    <tr>\n",
       "      <th>39</th>\n",
       "      <td>Εσθονία</td>\n",
       "      <td>ee</td>\n",
       "      <td>est</td>\n",
       "      <td>Estonia</td>\n",
       "      <td>NaN</td>\n",
       "      <td>NaN</td>\n",
       "      <td>NaN</td>\n",
       "    </tr>\n",
       "    <tr>\n",
       "      <th>40</th>\n",
       "      <td>Ζάμπια</td>\n",
       "      <td>zm</td>\n",
       "      <td>zmb</td>\n",
       "      <td>Zambia</td>\n",
       "      <td>NaN</td>\n",
       "      <td>NaN</td>\n",
       "      <td>NaN</td>\n",
       "    </tr>\n",
       "    <tr>\n",
       "      <th>41</th>\n",
       "      <td>Ζιμπάμπουε</td>\n",
       "      <td>zw</td>\n",
       "      <td>zwe</td>\n",
       "      <td>Zimbabwe</td>\n",
       "      <td>NaN</td>\n",
       "      <td>NaN</td>\n",
       "      <td>NaN</td>\n",
       "    </tr>\n",
       "    <tr>\n",
       "      <th>42</th>\n",
       "      <td>Ην. Αραβικά Εμιράτα</td>\n",
       "      <td>ae</td>\n",
       "      <td>are</td>\n",
       "      <td>United Arab Emirates</td>\n",
       "      <td>NaN</td>\n",
       "      <td>UAE</td>\n",
       "      <td>NaN</td>\n",
       "    </tr>\n",
       "    <tr>\n",
       "      <th>43</th>\n",
       "      <td>ΗΠΑ</td>\n",
       "      <td>us</td>\n",
       "      <td>usa</td>\n",
       "      <td>United States of America</td>\n",
       "      <td>US</td>\n",
       "      <td>USA</td>\n",
       "      <td>United States</td>\n",
       "    </tr>\n",
       "    <tr>\n",
       "      <th>44</th>\n",
       "      <td>Ιαπωνία</td>\n",
       "      <td>jp</td>\n",
       "      <td>jpn</td>\n",
       "      <td>Japan</td>\n",
       "      <td>NaN</td>\n",
       "      <td>NaN</td>\n",
       "      <td>NaN</td>\n",
       "    </tr>\n",
       "    <tr>\n",
       "      <th>45</th>\n",
       "      <td>Ινδία</td>\n",
       "      <td>in</td>\n",
       "      <td>ind</td>\n",
       "      <td>India</td>\n",
       "      <td>NaN</td>\n",
       "      <td>NaN</td>\n",
       "      <td>NaN</td>\n",
       "    </tr>\n",
       "    <tr>\n",
       "      <th>46</th>\n",
       "      <td>Ινδονησία</td>\n",
       "      <td>id</td>\n",
       "      <td>idn</td>\n",
       "      <td>Indonesia</td>\n",
       "      <td>NaN</td>\n",
       "      <td>NaN</td>\n",
       "      <td>NaN</td>\n",
       "    </tr>\n",
       "    <tr>\n",
       "      <th>47</th>\n",
       "      <td>Ιορδανία</td>\n",
       "      <td>jo</td>\n",
       "      <td>jor</td>\n",
       "      <td>Jordan</td>\n",
       "      <td>NaN</td>\n",
       "      <td>NaN</td>\n",
       "      <td>NaN</td>\n",
       "    </tr>\n",
       "    <tr>\n",
       "      <th>48</th>\n",
       "      <td>Ιράκ</td>\n",
       "      <td>iq</td>\n",
       "      <td>irq</td>\n",
       "      <td>Iraq</td>\n",
       "      <td>NaN</td>\n",
       "      <td>NaN</td>\n",
       "      <td>NaN</td>\n",
       "    </tr>\n",
       "    <tr>\n",
       "      <th>49</th>\n",
       "      <td>Ιρλανδία</td>\n",
       "      <td>ie</td>\n",
       "      <td>irl</td>\n",
       "      <td>Ireland</td>\n",
       "      <td>NaN</td>\n",
       "      <td>NaN</td>\n",
       "      <td>NaN</td>\n",
       "    </tr>\n",
       "    <tr>\n",
       "      <th>50</th>\n",
       "      <td>Ισημερινή Γουινέα</td>\n",
       "      <td>gq</td>\n",
       "      <td>gnq</td>\n",
       "      <td>Equatorial Guinea</td>\n",
       "      <td>NaN</td>\n",
       "      <td>NaN</td>\n",
       "      <td>NaN</td>\n",
       "    </tr>\n",
       "    <tr>\n",
       "      <th>51</th>\n",
       "      <td>Ισημερινός</td>\n",
       "      <td>ec</td>\n",
       "      <td>ecu</td>\n",
       "      <td>Ecuador</td>\n",
       "      <td>NaN</td>\n",
       "      <td>NaN</td>\n",
       "      <td>NaN</td>\n",
       "    </tr>\n",
       "    <tr>\n",
       "      <th>52</th>\n",
       "      <td>Ισλανδία</td>\n",
       "      <td>is</td>\n",
       "      <td>isl</td>\n",
       "      <td>Iceland</td>\n",
       "      <td>NaN</td>\n",
       "      <td>NaN</td>\n",
       "      <td>NaN</td>\n",
       "    </tr>\n",
       "    <tr>\n",
       "      <th>53</th>\n",
       "      <td>Ισπανία</td>\n",
       "      <td>es</td>\n",
       "      <td>esp</td>\n",
       "      <td>Spain</td>\n",
       "      <td>NaN</td>\n",
       "      <td>NaN</td>\n",
       "      <td>NaN</td>\n",
       "    </tr>\n",
       "    <tr>\n",
       "      <th>54</th>\n",
       "      <td>Ισραήλ</td>\n",
       "      <td>il</td>\n",
       "      <td>isr</td>\n",
       "      <td>Israel</td>\n",
       "      <td>NaN</td>\n",
       "      <td>NaN</td>\n",
       "      <td>NaN</td>\n",
       "    </tr>\n",
       "    <tr>\n",
       "      <th>55</th>\n",
       "      <td>Ιταλία</td>\n",
       "      <td>it</td>\n",
       "      <td>ita</td>\n",
       "      <td>Italy</td>\n",
       "      <td>NaN</td>\n",
       "      <td>NaN</td>\n",
       "      <td>NaN</td>\n",
       "    </tr>\n",
       "    <tr>\n",
       "      <th>56</th>\n",
       "      <td>Καζακστάν</td>\n",
       "      <td>kz</td>\n",
       "      <td>kaz</td>\n",
       "      <td>Kazakhstan</td>\n",
       "      <td>NaN</td>\n",
       "      <td>NaN</td>\n",
       "      <td>NaN</td>\n",
       "    </tr>\n",
       "    <tr>\n",
       "      <th>57</th>\n",
       "      <td>Καμερούν</td>\n",
       "      <td>cm</td>\n",
       "      <td>cmr</td>\n",
       "      <td>Cameroon</td>\n",
       "      <td>NaN</td>\n",
       "      <td>NaN</td>\n",
       "      <td>NaN</td>\n",
       "    </tr>\n",
       "    <tr>\n",
       "      <th>58</th>\n",
       "      <td>Καμπότζη</td>\n",
       "      <td>kh</td>\n",
       "      <td>khm</td>\n",
       "      <td>Cambodia</td>\n",
       "      <td>NaN</td>\n",
       "      <td>NaN</td>\n",
       "      <td>NaN</td>\n",
       "    </tr>\n",
       "    <tr>\n",
       "      <th>59</th>\n",
       "      <td>Καναδάς</td>\n",
       "      <td>ca</td>\n",
       "      <td>can</td>\n",
       "      <td>Canada</td>\n",
       "      <td>NaN</td>\n",
       "      <td>NaN</td>\n",
       "      <td>NaN</td>\n",
       "    </tr>\n",
       "    <tr>\n",
       "      <th>60</th>\n",
       "      <td>Κατάρ</td>\n",
       "      <td>qa</td>\n",
       "      <td>qat</td>\n",
       "      <td>Qatar</td>\n",
       "      <td>NaN</td>\n",
       "      <td>NaN</td>\n",
       "      <td>NaN</td>\n",
       "    </tr>\n",
       "    <tr>\n",
       "      <th>61</th>\n",
       "      <td>Κεντροαφρικανική Δημ/τία</td>\n",
       "      <td>cf</td>\n",
       "      <td>caf</td>\n",
       "      <td>Central African Republic</td>\n",
       "      <td>NaN</td>\n",
       "      <td>CAR</td>\n",
       "      <td>NaN</td>\n",
       "    </tr>\n",
       "    <tr>\n",
       "      <th>62</th>\n",
       "      <td>Κένυα</td>\n",
       "      <td>ke</td>\n",
       "      <td>ken</td>\n",
       "      <td>Kenya</td>\n",
       "      <td>NaN</td>\n",
       "      <td>NaN</td>\n",
       "      <td>NaN</td>\n",
       "    </tr>\n",
       "    <tr>\n",
       "      <th>63</th>\n",
       "      <td>Κίνα</td>\n",
       "      <td>cn</td>\n",
       "      <td>chn</td>\n",
       "      <td>China</td>\n",
       "      <td>NaN</td>\n",
       "      <td>NaN</td>\n",
       "      <td>NaN</td>\n",
       "    </tr>\n",
       "    <tr>\n",
       "      <th>64</th>\n",
       "      <td>Κιργιζία</td>\n",
       "      <td>kg</td>\n",
       "      <td>kgz</td>\n",
       "      <td>Kyrgyzstan</td>\n",
       "      <td>NaN</td>\n",
       "      <td>NaN</td>\n",
       "      <td>NaN</td>\n",
       "    </tr>\n",
       "    <tr>\n",
       "      <th>65</th>\n",
       "      <td>Κιριμπάτι</td>\n",
       "      <td>ki</td>\n",
       "      <td>kir</td>\n",
       "      <td>Kiribati</td>\n",
       "      <td>NaN</td>\n",
       "      <td>NaN</td>\n",
       "      <td>NaN</td>\n",
       "    </tr>\n",
       "    <tr>\n",
       "      <th>66</th>\n",
       "      <td>Κολομβία</td>\n",
       "      <td>co</td>\n",
       "      <td>col</td>\n",
       "      <td>Colombia</td>\n",
       "      <td>NaN</td>\n",
       "      <td>NaN</td>\n",
       "      <td>NaN</td>\n",
       "    </tr>\n",
       "    <tr>\n",
       "      <th>67</th>\n",
       "      <td>Κομόρες</td>\n",
       "      <td>km</td>\n",
       "      <td>com</td>\n",
       "      <td>Comoros</td>\n",
       "      <td>NaN</td>\n",
       "      <td>NaN</td>\n",
       "      <td>NaN</td>\n",
       "    </tr>\n",
       "    <tr>\n",
       "      <th>68</th>\n",
       "      <td>Κόστα Ρίκα</td>\n",
       "      <td>cr</td>\n",
       "      <td>cri</td>\n",
       "      <td>Costa Rica</td>\n",
       "      <td>NaN</td>\n",
       "      <td>NaN</td>\n",
       "      <td>NaN</td>\n",
       "    </tr>\n",
       "    <tr>\n",
       "      <th>69</th>\n",
       "      <td>Κούβα</td>\n",
       "      <td>cu</td>\n",
       "      <td>cub</td>\n",
       "      <td>Cuba</td>\n",
       "      <td>NaN</td>\n",
       "      <td>NaN</td>\n",
       "      <td>NaN</td>\n",
       "    </tr>\n",
       "    <tr>\n",
       "      <th>70</th>\n",
       "      <td>Κουβέιτ</td>\n",
       "      <td>kw</td>\n",
       "      <td>kwt</td>\n",
       "      <td>Kuwait</td>\n",
       "      <td>NaN</td>\n",
       "      <td>NaN</td>\n",
       "      <td>NaN</td>\n",
       "    </tr>\n",
       "    <tr>\n",
       "      <th>71</th>\n",
       "      <td>Κροατία</td>\n",
       "      <td>hr</td>\n",
       "      <td>hrv</td>\n",
       "      <td>Croatia</td>\n",
       "      <td>NaN</td>\n",
       "      <td>NaN</td>\n",
       "      <td>NaN</td>\n",
       "    </tr>\n",
       "    <tr>\n",
       "      <th>72</th>\n",
       "      <td>Κύπρος</td>\n",
       "      <td>cy</td>\n",
       "      <td>cyp</td>\n",
       "      <td>Cyprus</td>\n",
       "      <td>NaN</td>\n",
       "      <td>NaN</td>\n",
       "      <td>NaN</td>\n",
       "    </tr>\n",
       "    <tr>\n",
       "      <th>73</th>\n",
       "      <td>Λεσότο</td>\n",
       "      <td>ls</td>\n",
       "      <td>lso</td>\n",
       "      <td>Lesotho</td>\n",
       "      <td>NaN</td>\n",
       "      <td>NaN</td>\n",
       "      <td>NaN</td>\n",
       "    </tr>\n",
       "    <tr>\n",
       "      <th>74</th>\n",
       "      <td>Λεττονία</td>\n",
       "      <td>lv</td>\n",
       "      <td>lva</td>\n",
       "      <td>Latvia</td>\n",
       "      <td>NaN</td>\n",
       "      <td>NaN</td>\n",
       "      <td>NaN</td>\n",
       "    </tr>\n",
       "    <tr>\n",
       "      <th>75</th>\n",
       "      <td>Λευκορωσία</td>\n",
       "      <td>by</td>\n",
       "      <td>blr</td>\n",
       "      <td>Belarus</td>\n",
       "      <td>NaN</td>\n",
       "      <td>NaN</td>\n",
       "      <td>NaN</td>\n",
       "    </tr>\n",
       "    <tr>\n",
       "      <th>76</th>\n",
       "      <td>Λίβανος</td>\n",
       "      <td>lb</td>\n",
       "      <td>lbn</td>\n",
       "      <td>Lebanon</td>\n",
       "      <td>NaN</td>\n",
       "      <td>NaN</td>\n",
       "      <td>NaN</td>\n",
       "    </tr>\n",
       "    <tr>\n",
       "      <th>77</th>\n",
       "      <td>Λιβερία</td>\n",
       "      <td>lr</td>\n",
       "      <td>lbr</td>\n",
       "      <td>Liberia</td>\n",
       "      <td>NaN</td>\n",
       "      <td>NaN</td>\n",
       "      <td>NaN</td>\n",
       "    </tr>\n",
       "    <tr>\n",
       "      <th>78</th>\n",
       "      <td>Λιβύη</td>\n",
       "      <td>ly</td>\n",
       "      <td>lby</td>\n",
       "      <td>Libya</td>\n",
       "      <td>NaN</td>\n",
       "      <td>NaN</td>\n",
       "      <td>NaN</td>\n",
       "    </tr>\n",
       "    <tr>\n",
       "      <th>79</th>\n",
       "      <td>Λιθουανία</td>\n",
       "      <td>lt</td>\n",
       "      <td>ltu</td>\n",
       "      <td>Lithuania</td>\n",
       "      <td>NaN</td>\n",
       "      <td>NaN</td>\n",
       "      <td>NaN</td>\n",
       "    </tr>\n",
       "    <tr>\n",
       "      <th>80</th>\n",
       "      <td>Λίχτενσταϊν</td>\n",
       "      <td>li</td>\n",
       "      <td>lie</td>\n",
       "      <td>Liechtenstein</td>\n",
       "      <td>NaN</td>\n",
       "      <td>NaN</td>\n",
       "      <td>NaN</td>\n",
       "    </tr>\n",
       "    <tr>\n",
       "      <th>81</th>\n",
       "      <td>Λουξεμβούργο</td>\n",
       "      <td>lu</td>\n",
       "      <td>lux</td>\n",
       "      <td>Luxembourg</td>\n",
       "      <td>NaN</td>\n",
       "      <td>NaN</td>\n",
       "      <td>NaN</td>\n",
       "    </tr>\n",
       "    <tr>\n",
       "      <th>82</th>\n",
       "      <td>Μαδαγασκάρη</td>\n",
       "      <td>mg</td>\n",
       "      <td>mdg</td>\n",
       "      <td>Madagascar</td>\n",
       "      <td>NaN</td>\n",
       "      <td>NaN</td>\n",
       "      <td>NaN</td>\n",
       "    </tr>\n",
       "    <tr>\n",
       "      <th>83</th>\n",
       "      <td>Μαλαισία</td>\n",
       "      <td>my</td>\n",
       "      <td>mys</td>\n",
       "      <td>Malaysia</td>\n",
       "      <td>NaN</td>\n",
       "      <td>NaN</td>\n",
       "      <td>NaN</td>\n",
       "    </tr>\n",
       "    <tr>\n",
       "      <th>84</th>\n",
       "      <td>Μαλάουι</td>\n",
       "      <td>mw</td>\n",
       "      <td>mwi</td>\n",
       "      <td>Malawi</td>\n",
       "      <td>NaN</td>\n",
       "      <td>NaN</td>\n",
       "      <td>NaN</td>\n",
       "    </tr>\n",
       "    <tr>\n",
       "      <th>85</th>\n",
       "      <td>Μαλδίβες</td>\n",
       "      <td>mv</td>\n",
       "      <td>mdv</td>\n",
       "      <td>Maldives</td>\n",
       "      <td>NaN</td>\n",
       "      <td>NaN</td>\n",
       "      <td>NaN</td>\n",
       "    </tr>\n",
       "    <tr>\n",
       "      <th>86</th>\n",
       "      <td>Μάλι</td>\n",
       "      <td>ml</td>\n",
       "      <td>mli</td>\n",
       "      <td>Mali</td>\n",
       "      <td>NaN</td>\n",
       "      <td>NaN</td>\n",
       "      <td>NaN</td>\n",
       "    </tr>\n",
       "    <tr>\n",
       "      <th>87</th>\n",
       "      <td>Μάλτα</td>\n",
       "      <td>mt</td>\n",
       "      <td>mlt</td>\n",
       "      <td>Malta</td>\n",
       "      <td>NaN</td>\n",
       "      <td>NaN</td>\n",
       "      <td>NaN</td>\n",
       "    </tr>\n",
       "    <tr>\n",
       "      <th>88</th>\n",
       "      <td>Μαρόκο</td>\n",
       "      <td>ma</td>\n",
       "      <td>mar</td>\n",
       "      <td>Morocco</td>\n",
       "      <td>NaN</td>\n",
       "      <td>NaN</td>\n",
       "      <td>NaN</td>\n",
       "    </tr>\n",
       "    <tr>\n",
       "      <th>89</th>\n",
       "      <td>Μαυρίκιος</td>\n",
       "      <td>mu</td>\n",
       "      <td>mus</td>\n",
       "      <td>Mauritius</td>\n",
       "      <td>NaN</td>\n",
       "      <td>NaN</td>\n",
       "      <td>NaN</td>\n",
       "    </tr>\n",
       "    <tr>\n",
       "      <th>90</th>\n",
       "      <td>Μαυριτανία</td>\n",
       "      <td>mr</td>\n",
       "      <td>mrt</td>\n",
       "      <td>Mauritania</td>\n",
       "      <td>NaN</td>\n",
       "      <td>NaN</td>\n",
       "      <td>NaN</td>\n",
       "    </tr>\n",
       "    <tr>\n",
       "      <th>91</th>\n",
       "      <td>Μαυροβούνιο</td>\n",
       "      <td>me</td>\n",
       "      <td>mne</td>\n",
       "      <td>Montenegro</td>\n",
       "      <td>NaN</td>\n",
       "      <td>NaN</td>\n",
       "      <td>NaN</td>\n",
       "    </tr>\n",
       "    <tr>\n",
       "      <th>92</th>\n",
       "      <td>Μεξικό</td>\n",
       "      <td>mx</td>\n",
       "      <td>mex</td>\n",
       "      <td>Mexico</td>\n",
       "      <td>NaN</td>\n",
       "      <td>NaN</td>\n",
       "      <td>NaN</td>\n",
       "    </tr>\n",
       "    <tr>\n",
       "      <th>93</th>\n",
       "      <td>Μιανμάρ</td>\n",
       "      <td>mm</td>\n",
       "      <td>mmr</td>\n",
       "      <td>Myanmar</td>\n",
       "      <td>NaN</td>\n",
       "      <td>NaN</td>\n",
       "      <td>NaN</td>\n",
       "    </tr>\n",
       "    <tr>\n",
       "      <th>94</th>\n",
       "      <td>Μογγολία</td>\n",
       "      <td>mn</td>\n",
       "      <td>mng</td>\n",
       "      <td>Mongolia</td>\n",
       "      <td>NaN</td>\n",
       "      <td>NaN</td>\n",
       "      <td>NaN</td>\n",
       "    </tr>\n",
       "    <tr>\n",
       "      <th>95</th>\n",
       "      <td>Μοζαμβίκη</td>\n",
       "      <td>mz</td>\n",
       "      <td>moz</td>\n",
       "      <td>Mozambique</td>\n",
       "      <td>NaN</td>\n",
       "      <td>NaN</td>\n",
       "      <td>NaN</td>\n",
       "    </tr>\n",
       "    <tr>\n",
       "      <th>96</th>\n",
       "      <td>Μονακό</td>\n",
       "      <td>mc</td>\n",
       "      <td>mco</td>\n",
       "      <td>Monaco</td>\n",
       "      <td>NaN</td>\n",
       "      <td>NaN</td>\n",
       "      <td>NaN</td>\n",
       "    </tr>\n",
       "    <tr>\n",
       "      <th>97</th>\n",
       "      <td>Μπανγκλαντές</td>\n",
       "      <td>bd</td>\n",
       "      <td>bgd</td>\n",
       "      <td>Bangladesh</td>\n",
       "      <td>NaN</td>\n",
       "      <td>NaN</td>\n",
       "      <td>NaN</td>\n",
       "    </tr>\n",
       "    <tr>\n",
       "      <th>98</th>\n",
       "      <td>Μπαρμπάντος</td>\n",
       "      <td>bb</td>\n",
       "      <td>brb</td>\n",
       "      <td>Barbados</td>\n",
       "      <td>NaN</td>\n",
       "      <td>NaN</td>\n",
       "      <td>NaN</td>\n",
       "    </tr>\n",
       "    <tr>\n",
       "      <th>99</th>\n",
       "      <td>Μπαχρέιν</td>\n",
       "      <td>bh</td>\n",
       "      <td>bhr</td>\n",
       "      <td>Bahrain</td>\n",
       "      <td>NaN</td>\n",
       "      <td>NaN</td>\n",
       "      <td>NaN</td>\n",
       "    </tr>\n",
       "    <tr>\n",
       "      <th>100</th>\n",
       "      <td>Μπελίζ</td>\n",
       "      <td>bz</td>\n",
       "      <td>blz</td>\n",
       "      <td>Belize</td>\n",
       "      <td>NaN</td>\n",
       "      <td>NaN</td>\n",
       "      <td>NaN</td>\n",
       "    </tr>\n",
       "    <tr>\n",
       "      <th>101</th>\n",
       "      <td>Μπενίν</td>\n",
       "      <td>bj</td>\n",
       "      <td>ben</td>\n",
       "      <td>Benin</td>\n",
       "      <td>NaN</td>\n",
       "      <td>NaN</td>\n",
       "      <td>NaN</td>\n",
       "    </tr>\n",
       "    <tr>\n",
       "      <th>102</th>\n",
       "      <td>Μποτσουάνα</td>\n",
       "      <td>bw</td>\n",
       "      <td>bwa</td>\n",
       "      <td>Botswana</td>\n",
       "      <td>NaN</td>\n",
       "      <td>NaN</td>\n",
       "      <td>NaN</td>\n",
       "    </tr>\n",
       "    <tr>\n",
       "      <th>103</th>\n",
       "      <td>Μπουρκίνα Φάσο</td>\n",
       "      <td>bf</td>\n",
       "      <td>bfa</td>\n",
       "      <td>Burkina Faso</td>\n",
       "      <td>NaN</td>\n",
       "      <td>NaN</td>\n",
       "      <td>NaN</td>\n",
       "    </tr>\n",
       "    <tr>\n",
       "      <th>104</th>\n",
       "      <td>Μπουρούντι</td>\n",
       "      <td>bi</td>\n",
       "      <td>bdi</td>\n",
       "      <td>Burundi</td>\n",
       "      <td>NaN</td>\n",
       "      <td>NaN</td>\n",
       "      <td>NaN</td>\n",
       "    </tr>\n",
       "    <tr>\n",
       "      <th>105</th>\n",
       "      <td>Μπουτάν</td>\n",
       "      <td>bt</td>\n",
       "      <td>btn</td>\n",
       "      <td>Bhutan</td>\n",
       "      <td>NaN</td>\n",
       "      <td>NaN</td>\n",
       "      <td>NaN</td>\n",
       "    </tr>\n",
       "    <tr>\n",
       "      <th>106</th>\n",
       "      <td>Ναμίμπια</td>\n",
       "      <td>na</td>\n",
       "      <td>nam</td>\n",
       "      <td>Namibia</td>\n",
       "      <td>NaN</td>\n",
       "      <td>NaN</td>\n",
       "      <td>NaN</td>\n",
       "    </tr>\n",
       "    <tr>\n",
       "      <th>107</th>\n",
       "      <td>Ναουρού</td>\n",
       "      <td>nr</td>\n",
       "      <td>nru</td>\n",
       "      <td>Nauru</td>\n",
       "      <td>NaN</td>\n",
       "      <td>NaN</td>\n",
       "      <td>NaN</td>\n",
       "    </tr>\n",
       "    <tr>\n",
       "      <th>108</th>\n",
       "      <td>Νέα Ζηλανδία</td>\n",
       "      <td>nz</td>\n",
       "      <td>nzl</td>\n",
       "      <td>New Zealand</td>\n",
       "      <td>NaN</td>\n",
       "      <td>NaN</td>\n",
       "      <td>NaN</td>\n",
       "    </tr>\n",
       "    <tr>\n",
       "      <th>109</th>\n",
       "      <td>Νεπάλ</td>\n",
       "      <td>np</td>\n",
       "      <td>npl</td>\n",
       "      <td>Nepal</td>\n",
       "      <td>NaN</td>\n",
       "      <td>NaN</td>\n",
       "      <td>NaN</td>\n",
       "    </tr>\n",
       "    <tr>\n",
       "      <th>110</th>\n",
       "      <td>Νήσοι Μάρσαλ</td>\n",
       "      <td>mh</td>\n",
       "      <td>mhl</td>\n",
       "      <td>Marshall Islands</td>\n",
       "      <td>NaN</td>\n",
       "      <td>NaN</td>\n",
       "      <td>NaN</td>\n",
       "    </tr>\n",
       "    <tr>\n",
       "      <th>111</th>\n",
       "      <td>Νήσοι Σολομώντα</td>\n",
       "      <td>sb</td>\n",
       "      <td>slb</td>\n",
       "      <td>Solomon Islands</td>\n",
       "      <td>NaN</td>\n",
       "      <td>NaN</td>\n",
       "      <td>NaN</td>\n",
       "    </tr>\n",
       "    <tr>\n",
       "      <th>112</th>\n",
       "      <td>Νίγηρας</td>\n",
       "      <td>ne</td>\n",
       "      <td>ner</td>\n",
       "      <td>Niger</td>\n",
       "      <td>NaN</td>\n",
       "      <td>NaN</td>\n",
       "      <td>NaN</td>\n",
       "    </tr>\n",
       "    <tr>\n",
       "      <th>113</th>\n",
       "      <td>Νιγηρία</td>\n",
       "      <td>ng</td>\n",
       "      <td>nga</td>\n",
       "      <td>Nigeria</td>\n",
       "      <td>NaN</td>\n",
       "      <td>NaN</td>\n",
       "      <td>NaN</td>\n",
       "    </tr>\n",
       "    <tr>\n",
       "      <th>114</th>\n",
       "      <td>Νικαράγουα</td>\n",
       "      <td>ni</td>\n",
       "      <td>nic</td>\n",
       "      <td>Nicaragua</td>\n",
       "      <td>NaN</td>\n",
       "      <td>NaN</td>\n",
       "      <td>NaN</td>\n",
       "    </tr>\n",
       "    <tr>\n",
       "      <th>115</th>\n",
       "      <td>Νορβηγία</td>\n",
       "      <td>no</td>\n",
       "      <td>nor</td>\n",
       "      <td>Norway</td>\n",
       "      <td>NaN</td>\n",
       "      <td>NaN</td>\n",
       "      <td>NaN</td>\n",
       "    </tr>\n",
       "    <tr>\n",
       "      <th>116</th>\n",
       "      <td>Νότια Αφρική</td>\n",
       "      <td>za</td>\n",
       "      <td>zaf</td>\n",
       "      <td>South Africa</td>\n",
       "      <td>NaN</td>\n",
       "      <td>NaN</td>\n",
       "      <td>NaN</td>\n",
       "    </tr>\n",
       "    <tr>\n",
       "      <th>117</th>\n",
       "      <td>Νότιο Σουδάν</td>\n",
       "      <td>ss</td>\n",
       "      <td>ssd</td>\n",
       "      <td>South Sudan</td>\n",
       "      <td>NaN</td>\n",
       "      <td>NaN</td>\n",
       "      <td>NaN</td>\n",
       "    </tr>\n",
       "    <tr>\n",
       "      <th>118</th>\n",
       "      <td>Δομινίκα</td>\n",
       "      <td>dm</td>\n",
       "      <td>dma</td>\n",
       "      <td>Dominica</td>\n",
       "      <td>NaN</td>\n",
       "      <td>NaN</td>\n",
       "      <td>NaN</td>\n",
       "    </tr>\n",
       "    <tr>\n",
       "      <th>119</th>\n",
       "      <td>Ολλανδία</td>\n",
       "      <td>nl</td>\n",
       "      <td>nld</td>\n",
       "      <td>Netherlands</td>\n",
       "      <td>NaN</td>\n",
       "      <td>NaN</td>\n",
       "      <td>NaN</td>\n",
       "    </tr>\n",
       "    <tr>\n",
       "      <th>120</th>\n",
       "      <td>Ομάν</td>\n",
       "      <td>om</td>\n",
       "      <td>omn</td>\n",
       "      <td>Oman</td>\n",
       "      <td>NaN</td>\n",
       "      <td>NaN</td>\n",
       "      <td>NaN</td>\n",
       "    </tr>\n",
       "    <tr>\n",
       "      <th>121</th>\n",
       "      <td>Ονδούρα</td>\n",
       "      <td>hn</td>\n",
       "      <td>hnd</td>\n",
       "      <td>Honduras</td>\n",
       "      <td>NaN</td>\n",
       "      <td>NaN</td>\n",
       "      <td>NaN</td>\n",
       "    </tr>\n",
       "    <tr>\n",
       "      <th>122</th>\n",
       "      <td>Ουγγαρία</td>\n",
       "      <td>hu</td>\n",
       "      <td>hun</td>\n",
       "      <td>Hungary</td>\n",
       "      <td>NaN</td>\n",
       "      <td>NaN</td>\n",
       "      <td>NaN</td>\n",
       "    </tr>\n",
       "    <tr>\n",
       "      <th>123</th>\n",
       "      <td>Ουγκάντα</td>\n",
       "      <td>ug</td>\n",
       "      <td>uga</td>\n",
       "      <td>Uganda</td>\n",
       "      <td>NaN</td>\n",
       "      <td>NaN</td>\n",
       "      <td>NaN</td>\n",
       "    </tr>\n",
       "    <tr>\n",
       "      <th>124</th>\n",
       "      <td>Ουζμπεκιστάν</td>\n",
       "      <td>uz</td>\n",
       "      <td>uzb</td>\n",
       "      <td>Uzbekistan</td>\n",
       "      <td>NaN</td>\n",
       "      <td>NaN</td>\n",
       "      <td>NaN</td>\n",
       "    </tr>\n",
       "    <tr>\n",
       "      <th>125</th>\n",
       "      <td>Ουκρανία</td>\n",
       "      <td>ua</td>\n",
       "      <td>ukr</td>\n",
       "      <td>Ukraine</td>\n",
       "      <td>NaN</td>\n",
       "      <td>NaN</td>\n",
       "      <td>NaN</td>\n",
       "    </tr>\n",
       "    <tr>\n",
       "      <th>126</th>\n",
       "      <td>Ουρουγουάη</td>\n",
       "      <td>uy</td>\n",
       "      <td>ury</td>\n",
       "      <td>Uruguay</td>\n",
       "      <td>NaN</td>\n",
       "      <td>NaN</td>\n",
       "      <td>NaN</td>\n",
       "    </tr>\n",
       "    <tr>\n",
       "      <th>127</th>\n",
       "      <td>Πακιστάν</td>\n",
       "      <td>pk</td>\n",
       "      <td>pak</td>\n",
       "      <td>Pakistan</td>\n",
       "      <td>NaN</td>\n",
       "      <td>NaN</td>\n",
       "      <td>NaN</td>\n",
       "    </tr>\n",
       "    <tr>\n",
       "      <th>128</th>\n",
       "      <td>Παλάου</td>\n",
       "      <td>pw</td>\n",
       "      <td>plw</td>\n",
       "      <td>Palau</td>\n",
       "      <td>NaN</td>\n",
       "      <td>NaN</td>\n",
       "      <td>NaN</td>\n",
       "    </tr>\n",
       "    <tr>\n",
       "      <th>129</th>\n",
       "      <td>Παναμάς</td>\n",
       "      <td>pa</td>\n",
       "      <td>pan</td>\n",
       "      <td>Panama</td>\n",
       "      <td>NaN</td>\n",
       "      <td>NaN</td>\n",
       "      <td>NaN</td>\n",
       "    </tr>\n",
       "    <tr>\n",
       "      <th>130</th>\n",
       "      <td>Παπούα Ν. Γουινέα</td>\n",
       "      <td>pg</td>\n",
       "      <td>png</td>\n",
       "      <td>Papua New Guinea</td>\n",
       "      <td>NaN</td>\n",
       "      <td>NaN</td>\n",
       "      <td>NaN</td>\n",
       "    </tr>\n",
       "    <tr>\n",
       "      <th>131</th>\n",
       "      <td>Παραγουάη</td>\n",
       "      <td>py</td>\n",
       "      <td>pry</td>\n",
       "      <td>Paraguay</td>\n",
       "      <td>NaN</td>\n",
       "      <td>NaN</td>\n",
       "      <td>NaN</td>\n",
       "    </tr>\n",
       "    <tr>\n",
       "      <th>132</th>\n",
       "      <td>Περού</td>\n",
       "      <td>pe</td>\n",
       "      <td>per</td>\n",
       "      <td>Peru</td>\n",
       "      <td>NaN</td>\n",
       "      <td>NaN</td>\n",
       "      <td>NaN</td>\n",
       "    </tr>\n",
       "    <tr>\n",
       "      <th>133</th>\n",
       "      <td>Πολωνία</td>\n",
       "      <td>pl</td>\n",
       "      <td>pol</td>\n",
       "      <td>Poland</td>\n",
       "      <td>NaN</td>\n",
       "      <td>NaN</td>\n",
       "      <td>NaN</td>\n",
       "    </tr>\n",
       "    <tr>\n",
       "      <th>134</th>\n",
       "      <td>Πορτογαλία</td>\n",
       "      <td>pt</td>\n",
       "      <td>prt</td>\n",
       "      <td>Portugal</td>\n",
       "      <td>NaN</td>\n",
       "      <td>NaN</td>\n",
       "      <td>NaN</td>\n",
       "    </tr>\n",
       "    <tr>\n",
       "      <th>135</th>\n",
       "      <td>Ρουάντα</td>\n",
       "      <td>rw</td>\n",
       "      <td>rwa</td>\n",
       "      <td>Rwanda</td>\n",
       "      <td>NaN</td>\n",
       "      <td>NaN</td>\n",
       "      <td>NaN</td>\n",
       "    </tr>\n",
       "    <tr>\n",
       "      <th>136</th>\n",
       "      <td>Ρουμανία</td>\n",
       "      <td>ro</td>\n",
       "      <td>rou</td>\n",
       "      <td>Romania</td>\n",
       "      <td>NaN</td>\n",
       "      <td>NaN</td>\n",
       "      <td>NaN</td>\n",
       "    </tr>\n",
       "    <tr>\n",
       "      <th>137</th>\n",
       "      <td>Σαμόα</td>\n",
       "      <td>ws</td>\n",
       "      <td>wsm</td>\n",
       "      <td>Samoa</td>\n",
       "      <td>NaN</td>\n",
       "      <td>NaN</td>\n",
       "      <td>NaN</td>\n",
       "    </tr>\n",
       "    <tr>\n",
       "      <th>138</th>\n",
       "      <td>Σάο Τομέ &amp; Πρίνσιπε</td>\n",
       "      <td>st</td>\n",
       "      <td>stp</td>\n",
       "      <td>Sao Tome and Principe</td>\n",
       "      <td>NaN</td>\n",
       "      <td>NaN</td>\n",
       "      <td>Sao Tome &amp; Principe</td>\n",
       "    </tr>\n",
       "    <tr>\n",
       "      <th>139</th>\n",
       "      <td>Σαουδική Αραβία</td>\n",
       "      <td>sa</td>\n",
       "      <td>sau</td>\n",
       "      <td>Saudi Arabia</td>\n",
       "      <td>NaN</td>\n",
       "      <td>NaN</td>\n",
       "      <td>NaN</td>\n",
       "    </tr>\n",
       "    <tr>\n",
       "      <th>140</th>\n",
       "      <td>Σενεγάλη</td>\n",
       "      <td>sn</td>\n",
       "      <td>sen</td>\n",
       "      <td>Senegal</td>\n",
       "      <td>NaN</td>\n",
       "      <td>NaN</td>\n",
       "      <td>NaN</td>\n",
       "    </tr>\n",
       "    <tr>\n",
       "      <th>141</th>\n",
       "      <td>Σεϋχέλλες</td>\n",
       "      <td>sc</td>\n",
       "      <td>syc</td>\n",
       "      <td>Seychelles</td>\n",
       "      <td>NaN</td>\n",
       "      <td>NaN</td>\n",
       "      <td>NaN</td>\n",
       "    </tr>\n",
       "    <tr>\n",
       "      <th>142</th>\n",
       "      <td>Σιέρα Λεόνε</td>\n",
       "      <td>sl</td>\n",
       "      <td>sle</td>\n",
       "      <td>Sierra Leone</td>\n",
       "      <td>NaN</td>\n",
       "      <td>NaN</td>\n",
       "      <td>NaN</td>\n",
       "    </tr>\n",
       "    <tr>\n",
       "      <th>143</th>\n",
       "      <td>Σιγκαπούρη</td>\n",
       "      <td>sg</td>\n",
       "      <td>sgp</td>\n",
       "      <td>Singapore</td>\n",
       "      <td>NaN</td>\n",
       "      <td>NaN</td>\n",
       "      <td>NaN</td>\n",
       "    </tr>\n",
       "    <tr>\n",
       "      <th>144</th>\n",
       "      <td>Σλοβακία</td>\n",
       "      <td>sk</td>\n",
       "      <td>svk</td>\n",
       "      <td>Slovakia</td>\n",
       "      <td>NaN</td>\n",
       "      <td>NaN</td>\n",
       "      <td>NaN</td>\n",
       "    </tr>\n",
       "    <tr>\n",
       "      <th>145</th>\n",
       "      <td>Σλοβενία</td>\n",
       "      <td>si</td>\n",
       "      <td>svn</td>\n",
       "      <td>Slovenia</td>\n",
       "      <td>NaN</td>\n",
       "      <td>NaN</td>\n",
       "      <td>NaN</td>\n",
       "    </tr>\n",
       "    <tr>\n",
       "      <th>146</th>\n",
       "      <td>Σομαλία</td>\n",
       "      <td>so</td>\n",
       "      <td>som</td>\n",
       "      <td>Somalia</td>\n",
       "      <td>NaN</td>\n",
       "      <td>NaN</td>\n",
       "      <td>NaN</td>\n",
       "    </tr>\n",
       "    <tr>\n",
       "      <th>147</th>\n",
       "      <td>Σουδάν</td>\n",
       "      <td>sd</td>\n",
       "      <td>sdn</td>\n",
       "      <td>Sudan</td>\n",
       "      <td>NaN</td>\n",
       "      <td>NaN</td>\n",
       "      <td>NaN</td>\n",
       "    </tr>\n",
       "    <tr>\n",
       "      <th>148</th>\n",
       "      <td>Σουηδία</td>\n",
       "      <td>se</td>\n",
       "      <td>swe</td>\n",
       "      <td>Sweden</td>\n",
       "      <td>NaN</td>\n",
       "      <td>NaN</td>\n",
       "      <td>NaN</td>\n",
       "    </tr>\n",
       "    <tr>\n",
       "      <th>149</th>\n",
       "      <td>Σουρινάμ</td>\n",
       "      <td>sr</td>\n",
       "      <td>sur</td>\n",
       "      <td>Suriname</td>\n",
       "      <td>NaN</td>\n",
       "      <td>NaN</td>\n",
       "      <td>NaN</td>\n",
       "    </tr>\n",
       "    <tr>\n",
       "      <th>150</th>\n",
       "      <td>Σρι Λάνκα</td>\n",
       "      <td>lk</td>\n",
       "      <td>lka</td>\n",
       "      <td>Sri Lanka</td>\n",
       "      <td>NaN</td>\n",
       "      <td>NaN</td>\n",
       "      <td>NaN</td>\n",
       "    </tr>\n",
       "    <tr>\n",
       "      <th>151</th>\n",
       "      <td>Ταϊλάνδη</td>\n",
       "      <td>th</td>\n",
       "      <td>tha</td>\n",
       "      <td>Thailand</td>\n",
       "      <td>NaN</td>\n",
       "      <td>NaN</td>\n",
       "      <td>NaN</td>\n",
       "    </tr>\n",
       "    <tr>\n",
       "      <th>152</th>\n",
       "      <td>Τατζικιστάν</td>\n",
       "      <td>tj</td>\n",
       "      <td>tjk</td>\n",
       "      <td>Tajikistan</td>\n",
       "      <td>NaN</td>\n",
       "      <td>NaN</td>\n",
       "      <td>NaN</td>\n",
       "    </tr>\n",
       "    <tr>\n",
       "      <th>153</th>\n",
       "      <td>Τζαμάικα</td>\n",
       "      <td>jm</td>\n",
       "      <td>jam</td>\n",
       "      <td>Jamaica</td>\n",
       "      <td>NaN</td>\n",
       "      <td>NaN</td>\n",
       "      <td>NaN</td>\n",
       "    </tr>\n",
       "    <tr>\n",
       "      <th>154</th>\n",
       "      <td>Τζιμπουτί</td>\n",
       "      <td>dj</td>\n",
       "      <td>dji</td>\n",
       "      <td>Djibouti</td>\n",
       "      <td>NaN</td>\n",
       "      <td>NaN</td>\n",
       "      <td>NaN</td>\n",
       "    </tr>\n",
       "    <tr>\n",
       "      <th>155</th>\n",
       "      <td>Τόγκα</td>\n",
       "      <td>to</td>\n",
       "      <td>ton</td>\n",
       "      <td>Tonga</td>\n",
       "      <td>NaN</td>\n",
       "      <td>NaN</td>\n",
       "      <td>NaN</td>\n",
       "    </tr>\n",
       "    <tr>\n",
       "      <th>156</th>\n",
       "      <td>Τόγκο</td>\n",
       "      <td>tg</td>\n",
       "      <td>tgo</td>\n",
       "      <td>Togo</td>\n",
       "      <td>NaN</td>\n",
       "      <td>NaN</td>\n",
       "      <td>NaN</td>\n",
       "    </tr>\n",
       "    <tr>\n",
       "      <th>157</th>\n",
       "      <td>Τουβαλού</td>\n",
       "      <td>tv</td>\n",
       "      <td>tuv</td>\n",
       "      <td>Tuvalu</td>\n",
       "      <td>NaN</td>\n",
       "      <td>NaN</td>\n",
       "      <td>NaN</td>\n",
       "    </tr>\n",
       "    <tr>\n",
       "      <th>158</th>\n",
       "      <td>Τουρκία</td>\n",
       "      <td>tr</td>\n",
       "      <td>tur</td>\n",
       "      <td>Turkey</td>\n",
       "      <td>NaN</td>\n",
       "      <td>NaN</td>\n",
       "      <td>NaN</td>\n",
       "    </tr>\n",
       "    <tr>\n",
       "      <th>159</th>\n",
       "      <td>Τουρκμενιστάν</td>\n",
       "      <td>tm</td>\n",
       "      <td>tkm</td>\n",
       "      <td>Turkmenistan</td>\n",
       "      <td>NaN</td>\n",
       "      <td>NaN</td>\n",
       "      <td>NaN</td>\n",
       "    </tr>\n",
       "    <tr>\n",
       "      <th>160</th>\n",
       "      <td>Τρινιντάντ &amp; Τομπάγκο</td>\n",
       "      <td>tt</td>\n",
       "      <td>tto</td>\n",
       "      <td>Trinidad and Tobago</td>\n",
       "      <td>NaN</td>\n",
       "      <td>NaN</td>\n",
       "      <td>NaN</td>\n",
       "    </tr>\n",
       "    <tr>\n",
       "      <th>161</th>\n",
       "      <td>Τσαντ</td>\n",
       "      <td>td</td>\n",
       "      <td>tcd</td>\n",
       "      <td>Chad</td>\n",
       "      <td>NaN</td>\n",
       "      <td>NaN</td>\n",
       "      <td>NaN</td>\n",
       "    </tr>\n",
       "    <tr>\n",
       "      <th>162</th>\n",
       "      <td>Τυνησία</td>\n",
       "      <td>tn</td>\n",
       "      <td>tun</td>\n",
       "      <td>Tunisia</td>\n",
       "      <td>NaN</td>\n",
       "      <td>NaN</td>\n",
       "      <td>NaN</td>\n",
       "    </tr>\n",
       "    <tr>\n",
       "      <th>163</th>\n",
       "      <td>Υεμένη</td>\n",
       "      <td>ye</td>\n",
       "      <td>yem</td>\n",
       "      <td>Yemen</td>\n",
       "      <td>NaN</td>\n",
       "      <td>NaN</td>\n",
       "      <td>NaN</td>\n",
       "    </tr>\n",
       "    <tr>\n",
       "      <th>164</th>\n",
       "      <td>Φιλιππίνες</td>\n",
       "      <td>ph</td>\n",
       "      <td>phl</td>\n",
       "      <td>Philippines</td>\n",
       "      <td>NaN</td>\n",
       "      <td>NaN</td>\n",
       "      <td>NaN</td>\n",
       "    </tr>\n",
       "    <tr>\n",
       "      <th>165</th>\n",
       "      <td>Φινλανδία</td>\n",
       "      <td>fi</td>\n",
       "      <td>fin</td>\n",
       "      <td>Finland</td>\n",
       "      <td>NaN</td>\n",
       "      <td>NaN</td>\n",
       "      <td>NaN</td>\n",
       "    </tr>\n",
       "    <tr>\n",
       "      <th>166</th>\n",
       "      <td>Φίτζι</td>\n",
       "      <td>fj</td>\n",
       "      <td>fji</td>\n",
       "      <td>Fiji</td>\n",
       "      <td>NaN</td>\n",
       "      <td>NaN</td>\n",
       "      <td>NaN</td>\n",
       "    </tr>\n",
       "    <tr>\n",
       "      <th>167</th>\n",
       "      <td>Χιλή</td>\n",
       "      <td>cl</td>\n",
       "      <td>chl</td>\n",
       "      <td>Chile</td>\n",
       "      <td>NaN</td>\n",
       "      <td>NaN</td>\n",
       "      <td>NaN</td>\n",
       "    </tr>\n",
       "    <tr>\n",
       "      <th>168</th>\n",
       "      <td>Αρούμπα</td>\n",
       "      <td>NaN</td>\n",
       "      <td>NaN</td>\n",
       "      <td>Aruba</td>\n",
       "      <td>NaN</td>\n",
       "      <td>NaN</td>\n",
       "      <td>NaN</td>\n",
       "    </tr>\n",
       "    <tr>\n",
       "      <th>169</th>\n",
       "      <td>Ανγκουίλα</td>\n",
       "      <td>NaN</td>\n",
       "      <td>NaN</td>\n",
       "      <td>Anguilla</td>\n",
       "      <td>NaN</td>\n",
       "      <td>NaN</td>\n",
       "      <td>NaN</td>\n",
       "    </tr>\n",
       "    <tr>\n",
       "      <th>170</th>\n",
       "      <td>Άλαντ</td>\n",
       "      <td>NaN</td>\n",
       "      <td>NaN</td>\n",
       "      <td>Aland</td>\n",
       "      <td>NaN</td>\n",
       "      <td>NaN</td>\n",
       "      <td>NaN</td>\n",
       "    </tr>\n",
       "    <tr>\n",
       "      <th>171</th>\n",
       "      <td>Αμερικανική Σαμόα</td>\n",
       "      <td>NaN</td>\n",
       "      <td>NaN</td>\n",
       "      <td>American Samoa</td>\n",
       "      <td>NaN</td>\n",
       "      <td>NaN</td>\n",
       "      <td>NaN</td>\n",
       "    </tr>\n",
       "    <tr>\n",
       "      <th>172</th>\n",
       "      <td>Ανταρκτική</td>\n",
       "      <td>NaN</td>\n",
       "      <td>NaN</td>\n",
       "      <td>Antarctica</td>\n",
       "      <td>NaN</td>\n",
       "      <td>NaN</td>\n",
       "      <td>NaN</td>\n",
       "    </tr>\n",
       "    <tr>\n",
       "      <th>173</th>\n",
       "      <td>Νησιά Άσμορ &amp; Κάρτιερ</td>\n",
       "      <td>NaN</td>\n",
       "      <td>NaN</td>\n",
       "      <td>Ashmore and Cartier Islands</td>\n",
       "      <td>NaN</td>\n",
       "      <td>NaN</td>\n",
       "      <td>NaN</td>\n",
       "    </tr>\n",
       "    <tr>\n",
       "      <th>174</th>\n",
       "      <td>Γαλλικά Νότια &amp; Ανταρκτικά Εδάφη</td>\n",
       "      <td>NaN</td>\n",
       "      <td>NaN</td>\n",
       "      <td>French Southern and Antarctic Lands</td>\n",
       "      <td>NaN</td>\n",
       "      <td>NaN</td>\n",
       "      <td>NaN</td>\n",
       "    </tr>\n",
       "    <tr>\n",
       "      <th>175</th>\n",
       "      <td>Μπαχάμες</td>\n",
       "      <td>NaN</td>\n",
       "      <td>NaN</td>\n",
       "      <td>The Bahamas</td>\n",
       "      <td>NaN</td>\n",
       "      <td>Bahamas</td>\n",
       "      <td>NaN</td>\n",
       "    </tr>\n",
       "    <tr>\n",
       "      <th>176</th>\n",
       "      <td>Bajo Nuevo Bank (Petrel Is.)</td>\n",
       "      <td>NaN</td>\n",
       "      <td>NaN</td>\n",
       "      <td>Bajo Nuevo Bank (Petrel Is.)</td>\n",
       "      <td>NaN</td>\n",
       "      <td>NaN</td>\n",
       "      <td>NaN</td>\n",
       "    </tr>\n",
       "    <tr>\n",
       "      <th>177</th>\n",
       "      <td>Άγιος Βαρθολομαίος</td>\n",
       "      <td>NaN</td>\n",
       "      <td>NaN</td>\n",
       "      <td>Saint Barthelemy</td>\n",
       "      <td>NaN</td>\n",
       "      <td>St. Barth</td>\n",
       "      <td>NaN</td>\n",
       "    </tr>\n",
       "    <tr>\n",
       "      <th>178</th>\n",
       "      <td>Βερμούδες</td>\n",
       "      <td>NaN</td>\n",
       "      <td>NaN</td>\n",
       "      <td>Bermuda</td>\n",
       "      <td>NaN</td>\n",
       "      <td>NaN</td>\n",
       "      <td>NaN</td>\n",
       "    </tr>\n",
       "    <tr>\n",
       "      <th>179</th>\n",
       "      <td>Βολιβία</td>\n",
       "      <td>NaN</td>\n",
       "      <td>NaN</td>\n",
       "      <td>Bolivia</td>\n",
       "      <td>NaN</td>\n",
       "      <td>NaN</td>\n",
       "      <td>NaN</td>\n",
       "    </tr>\n",
       "    <tr>\n",
       "      <th>180</th>\n",
       "      <td>Μπρουνέι</td>\n",
       "      <td>NaN</td>\n",
       "      <td>NaN</td>\n",
       "      <td>Brunei</td>\n",
       "      <td>NaN</td>\n",
       "      <td>NaN</td>\n",
       "      <td>NaN</td>\n",
       "    </tr>\n",
       "    <tr>\n",
       "      <th>181</th>\n",
       "      <td>Ακτή Ελεφαντοστού</td>\n",
       "      <td>NaN</td>\n",
       "      <td>NaN</td>\n",
       "      <td>Ivory Coast</td>\n",
       "      <td>Cote d'Ivoire</td>\n",
       "      <td>NaN</td>\n",
       "      <td>Côte d'Ivoire</td>\n",
       "    </tr>\n",
       "    <tr>\n",
       "      <th>182</th>\n",
       "      <td>Νήσος Κλίππερτον</td>\n",
       "      <td>NaN</td>\n",
       "      <td>NaN</td>\n",
       "      <td>Clipperton Island</td>\n",
       "      <td>NaN</td>\n",
       "      <td>NaN</td>\n",
       "      <td>NaN</td>\n",
       "    </tr>\n",
       "    <tr>\n",
       "      <th>183</th>\n",
       "      <td>Πράσινη Γραμμή (Κύπρος)</td>\n",
       "      <td>NaN</td>\n",
       "      <td>NaN</td>\n",
       "      <td>Cyprus No Mans Area</td>\n",
       "      <td>NaN</td>\n",
       "      <td>NaN</td>\n",
       "      <td>NaN</td>\n",
       "    </tr>\n",
       "    <tr>\n",
       "      <th>184</th>\n",
       "      <td>Λαϊκή Δημ/τία Κονγκό</td>\n",
       "      <td>NaN</td>\n",
       "      <td>NaN</td>\n",
       "      <td>Democratic Republic of the Congo</td>\n",
       "      <td>Congo (Kinshasa)</td>\n",
       "      <td>DRC</td>\n",
       "      <td>DR Congo</td>\n",
       "    </tr>\n",
       "    <tr>\n",
       "      <th>185</th>\n",
       "      <td>Δημ/τία Κονγκό</td>\n",
       "      <td>NaN</td>\n",
       "      <td>NaN</td>\n",
       "      <td>Republic of Congo</td>\n",
       "      <td>NaN</td>\n",
       "      <td>Congo</td>\n",
       "      <td>NaN</td>\n",
       "    </tr>\n",
       "    <tr>\n",
       "      <th>186</th>\n",
       "      <td>Νήσοι Κουκ</td>\n",
       "      <td>NaN</td>\n",
       "      <td>NaN</td>\n",
       "      <td>Cook Islands</td>\n",
       "      <td>NaN</td>\n",
       "      <td>NaN</td>\n",
       "      <td>NaN</td>\n",
       "    </tr>\n",
       "    <tr>\n",
       "      <th>187</th>\n",
       "      <td>Πράσινο Ακρωτήριο</td>\n",
       "      <td>NaN</td>\n",
       "      <td>NaN</td>\n",
       "      <td>Cape Verde</td>\n",
       "      <td>NaN</td>\n",
       "      <td>Cabo Verde</td>\n",
       "      <td>NaN</td>\n",
       "    </tr>\n",
       "    <tr>\n",
       "      <th>188</th>\n",
       "      <td>Ύφαλοι Θάλασσας Κοραλλίων</td>\n",
       "      <td>NaN</td>\n",
       "      <td>NaN</td>\n",
       "      <td>Coral Sea Islands</td>\n",
       "      <td>NaN</td>\n",
       "      <td>NaN</td>\n",
       "      <td>NaN</td>\n",
       "    </tr>\n",
       "    <tr>\n",
       "      <th>189</th>\n",
       "      <td>Κουρασάο</td>\n",
       "      <td>NaN</td>\n",
       "      <td>NaN</td>\n",
       "      <td>Curaçao</td>\n",
       "      <td>NaN</td>\n",
       "      <td>NaN</td>\n",
       "      <td>NaN</td>\n",
       "    </tr>\n",
       "    <tr>\n",
       "      <th>190</th>\n",
       "      <td>Νησιά Κέιμαν</td>\n",
       "      <td>NaN</td>\n",
       "      <td>NaN</td>\n",
       "      <td>Cayman Islands</td>\n",
       "      <td>NaN</td>\n",
       "      <td>NaN</td>\n",
       "      <td>NaN</td>\n",
       "    </tr>\n",
       "    <tr>\n",
       "      <th>191</th>\n",
       "      <td>Κατεχόμενα Βόρεια Κύπρος</td>\n",
       "      <td>NaN</td>\n",
       "      <td>NaN</td>\n",
       "      <td>Northern Cyprus</td>\n",
       "      <td>NaN</td>\n",
       "      <td>NaN</td>\n",
       "      <td>NaN</td>\n",
       "    </tr>\n",
       "    <tr>\n",
       "      <th>192</th>\n",
       "      <td>Τσεχία</td>\n",
       "      <td>NaN</td>\n",
       "      <td>NaN</td>\n",
       "      <td>Czech Republic</td>\n",
       "      <td>Czechia</td>\n",
       "      <td>NaN</td>\n",
       "      <td>Czech Republic (Czechia)</td>\n",
       "    </tr>\n",
       "    <tr>\n",
       "      <th>193</th>\n",
       "      <td>Περιοχές Κυρίαρχων Βάσεων Ακρωτηρίου &amp; Δεκέλιας</td>\n",
       "      <td>NaN</td>\n",
       "      <td>NaN</td>\n",
       "      <td>Dhekelia Sovereign Base Area</td>\n",
       "      <td>NaN</td>\n",
       "      <td>NaN</td>\n",
       "      <td>NaN</td>\n",
       "    </tr>\n",
       "    <tr>\n",
       "      <th>194</th>\n",
       "      <td>Νήσοι Φώκλαντ</td>\n",
       "      <td>NaN</td>\n",
       "      <td>NaN</td>\n",
       "      <td>Falkland Islands</td>\n",
       "      <td>NaN</td>\n",
       "      <td>NaN</td>\n",
       "      <td>NaN</td>\n",
       "    </tr>\n",
       "    <tr>\n",
       "      <th>195</th>\n",
       "      <td>Νήσοι Φερόε</td>\n",
       "      <td>NaN</td>\n",
       "      <td>NaN</td>\n",
       "      <td>Faroe Islands</td>\n",
       "      <td>NaN</td>\n",
       "      <td>Faeroe Islands</td>\n",
       "      <td>NaN</td>\n",
       "    </tr>\n",
       "    <tr>\n",
       "      <th>196</th>\n",
       "      <td>Ομόσπονδες Πολιτείες Μικρονησίας</td>\n",
       "      <td>NaN</td>\n",
       "      <td>NaN</td>\n",
       "      <td>Federated States of Micronesia</td>\n",
       "      <td>NaN</td>\n",
       "      <td>NaN</td>\n",
       "      <td>Micronesia</td>\n",
       "    </tr>\n",
       "    <tr>\n",
       "      <th>197</th>\n",
       "      <td>Ην. Βασίλειο</td>\n",
       "      <td>NaN</td>\n",
       "      <td>NaN</td>\n",
       "      <td>United Kingdom</td>\n",
       "      <td>NaN</td>\n",
       "      <td>UK</td>\n",
       "      <td>NaN</td>\n",
       "    </tr>\n",
       "    <tr>\n",
       "      <th>198</th>\n",
       "      <td>Γκέρνσεϊ</td>\n",
       "      <td>NaN</td>\n",
       "      <td>NaN</td>\n",
       "      <td>Guernsey</td>\n",
       "      <td>NaN</td>\n",
       "      <td>NaN</td>\n",
       "      <td>NaN</td>\n",
       "    </tr>\n",
       "    <tr>\n",
       "      <th>199</th>\n",
       "      <td>Γιβραλτάρ</td>\n",
       "      <td>NaN</td>\n",
       "      <td>NaN</td>\n",
       "      <td>Gibraltar</td>\n",
       "      <td>NaN</td>\n",
       "      <td>NaN</td>\n",
       "      <td>NaN</td>\n",
       "    </tr>\n",
       "    <tr>\n",
       "      <th>200</th>\n",
       "      <td>Γουινέα-Μπισσάου</td>\n",
       "      <td>NaN</td>\n",
       "      <td>NaN</td>\n",
       "      <td>Guinea Bissau</td>\n",
       "      <td>NaN</td>\n",
       "      <td>NaN</td>\n",
       "      <td>Guinea-Bissau</td>\n",
       "    </tr>\n",
       "    <tr>\n",
       "      <th>201</th>\n",
       "      <td>Γροιλανδία</td>\n",
       "      <td>NaN</td>\n",
       "      <td>NaN</td>\n",
       "      <td>Greenland</td>\n",
       "      <td>NaN</td>\n",
       "      <td>NaN</td>\n",
       "      <td>NaN</td>\n",
       "    </tr>\n",
       "    <tr>\n",
       "      <th>202</th>\n",
       "      <td>Γκουάμ</td>\n",
       "      <td>NaN</td>\n",
       "      <td>NaN</td>\n",
       "      <td>Guam</td>\n",
       "      <td>NaN</td>\n",
       "      <td>NaN</td>\n",
       "      <td>NaN</td>\n",
       "    </tr>\n",
       "    <tr>\n",
       "      <th>203</th>\n",
       "      <td>Χονγκ Κονγκ</td>\n",
       "      <td>NaN</td>\n",
       "      <td>NaN</td>\n",
       "      <td>Hong Kong S.A.R.</td>\n",
       "      <td>NaN</td>\n",
       "      <td>Hong Kong</td>\n",
       "      <td>NaN</td>\n",
       "    </tr>\n",
       "    <tr>\n",
       "      <th>204</th>\n",
       "      <td>Νήσοι Χερντ &amp; ΜακΝτόναλντ</td>\n",
       "      <td>NaN</td>\n",
       "      <td>NaN</td>\n",
       "      <td>Heard Island and McDonald Islands</td>\n",
       "      <td>NaN</td>\n",
       "      <td>NaN</td>\n",
       "      <td>NaN</td>\n",
       "    </tr>\n",
       "    <tr>\n",
       "      <th>205</th>\n",
       "      <td>Νήσος Μαν</td>\n",
       "      <td>NaN</td>\n",
       "      <td>NaN</td>\n",
       "      <td>Isle of Man</td>\n",
       "      <td>NaN</td>\n",
       "      <td>NaN</td>\n",
       "      <td>NaN</td>\n",
       "    </tr>\n",
       "    <tr>\n",
       "      <th>206</th>\n",
       "      <td>Περιοχή Ινδικού Ωκ/νού</td>\n",
       "      <td>NaN</td>\n",
       "      <td>NaN</td>\n",
       "      <td>Indian Ocean Territories</td>\n",
       "      <td>NaN</td>\n",
       "      <td>NaN</td>\n",
       "      <td>NaN</td>\n",
       "    </tr>\n",
       "    <tr>\n",
       "      <th>207</th>\n",
       "      <td>Βρετανικό έδαφος Ινδικού Ωκ/νού</td>\n",
       "      <td>NaN</td>\n",
       "      <td>NaN</td>\n",
       "      <td>British Indian Ocean Territory</td>\n",
       "      <td>NaN</td>\n",
       "      <td>NaN</td>\n",
       "      <td>NaN</td>\n",
       "    </tr>\n",
       "    <tr>\n",
       "      <th>208</th>\n",
       "      <td>Ιράν</td>\n",
       "      <td>NaN</td>\n",
       "      <td>NaN</td>\n",
       "      <td>Iran</td>\n",
       "      <td>NaN</td>\n",
       "      <td>NaN</td>\n",
       "      <td>NaN</td>\n",
       "    </tr>\n",
       "    <tr>\n",
       "      <th>209</th>\n",
       "      <td>Τζέρσι</td>\n",
       "      <td>NaN</td>\n",
       "      <td>NaN</td>\n",
       "      <td>Jersey</td>\n",
       "      <td>NaN</td>\n",
       "      <td>NaN</td>\n",
       "      <td>NaN</td>\n",
       "    </tr>\n",
       "    <tr>\n",
       "      <th>210</th>\n",
       "      <td>Κοσμοδρόμιο του Μπαϊκώνου</td>\n",
       "      <td>NaN</td>\n",
       "      <td>NaN</td>\n",
       "      <td>Baykonur Cosmodrome</td>\n",
       "      <td>NaN</td>\n",
       "      <td>NaN</td>\n",
       "      <td>NaN</td>\n",
       "    </tr>\n",
       "    <tr>\n",
       "      <th>211</th>\n",
       "      <td>Παγετώνας Σιάχεν</td>\n",
       "      <td>NaN</td>\n",
       "      <td>NaN</td>\n",
       "      <td>Siachen Glacier</td>\n",
       "      <td>NaN</td>\n",
       "      <td>NaN</td>\n",
       "      <td>NaN</td>\n",
       "    </tr>\n",
       "    <tr>\n",
       "      <th>212</th>\n",
       "      <td>Νότια Κορέα</td>\n",
       "      <td>NaN</td>\n",
       "      <td>NaN</td>\n",
       "      <td>South Korea</td>\n",
       "      <td>Korea, South</td>\n",
       "      <td>S. Korea</td>\n",
       "      <td>NaN</td>\n",
       "    </tr>\n",
       "    <tr>\n",
       "      <th>213</th>\n",
       "      <td>Κόσοβο</td>\n",
       "      <td>NaN</td>\n",
       "      <td>NaN</td>\n",
       "      <td>Kosovo</td>\n",
       "      <td>NaN</td>\n",
       "      <td>NaN</td>\n",
       "      <td>NaN</td>\n",
       "    </tr>\n",
       "    <tr>\n",
       "      <th>214</th>\n",
       "      <td>Λάος</td>\n",
       "      <td>NaN</td>\n",
       "      <td>NaN</td>\n",
       "      <td>Laos</td>\n",
       "      <td>NaN</td>\n",
       "      <td>NaN</td>\n",
       "      <td>NaN</td>\n",
       "    </tr>\n",
       "    <tr>\n",
       "      <th>215</th>\n",
       "      <td>Μακάου</td>\n",
       "      <td>NaN</td>\n",
       "      <td>NaN</td>\n",
       "      <td>Macao S.A.R</td>\n",
       "      <td>NaN</td>\n",
       "      <td>Macao</td>\n",
       "      <td>NaN</td>\n",
       "    </tr>\n",
       "    <tr>\n",
       "      <th>216</th>\n",
       "      <td>Άγιος Μαρτίνος</td>\n",
       "      <td>NaN</td>\n",
       "      <td>NaN</td>\n",
       "      <td>Saint Martin</td>\n",
       "      <td>NaN</td>\n",
       "      <td>NaN</td>\n",
       "      <td>NaN</td>\n",
       "    </tr>\n",
       "    <tr>\n",
       "      <th>217</th>\n",
       "      <td>Μολδοβία</td>\n",
       "      <td>NaN</td>\n",
       "      <td>NaN</td>\n",
       "      <td>Moldova</td>\n",
       "      <td>NaN</td>\n",
       "      <td>NaN</td>\n",
       "      <td>NaN</td>\n",
       "    </tr>\n",
       "    <tr>\n",
       "      <th>218</th>\n",
       "      <td>Βόρεια Μακεδονία</td>\n",
       "      <td>NaN</td>\n",
       "      <td>NaN</td>\n",
       "      <td>Macedonia</td>\n",
       "      <td>North Macedonia</td>\n",
       "      <td>NaN</td>\n",
       "      <td>NaN</td>\n",
       "    </tr>\n",
       "    <tr>\n",
       "      <th>219</th>\n",
       "      <td>Νήσοι Βόρειες Μαριάνες</td>\n",
       "      <td>NaN</td>\n",
       "      <td>NaN</td>\n",
       "      <td>Northern Mariana Islands</td>\n",
       "      <td>NaN</td>\n",
       "      <td>NaN</td>\n",
       "      <td>NaN</td>\n",
       "    </tr>\n",
       "    <tr>\n",
       "      <th>220</th>\n",
       "      <td>Μοντσερράτ</td>\n",
       "      <td>NaN</td>\n",
       "      <td>NaN</td>\n",
       "      <td>Montserrat</td>\n",
       "      <td>NaN</td>\n",
       "      <td>NaN</td>\n",
       "      <td>NaN</td>\n",
       "    </tr>\n",
       "    <tr>\n",
       "      <th>221</th>\n",
       "      <td>Νέα Καληδονία</td>\n",
       "      <td>NaN</td>\n",
       "      <td>NaN</td>\n",
       "      <td>New Caledonia</td>\n",
       "      <td>NaN</td>\n",
       "      <td>NaN</td>\n",
       "      <td>NaN</td>\n",
       "    </tr>\n",
       "    <tr>\n",
       "      <th>222</th>\n",
       "      <td>Νήσος Νόρφολκ</td>\n",
       "      <td>NaN</td>\n",
       "      <td>NaN</td>\n",
       "      <td>Norfolk Island</td>\n",
       "      <td>NaN</td>\n",
       "      <td>NaN</td>\n",
       "      <td>NaN</td>\n",
       "    </tr>\n",
       "    <tr>\n",
       "      <th>223</th>\n",
       "      <td>Νιούε</td>\n",
       "      <td>NaN</td>\n",
       "      <td>NaN</td>\n",
       "      <td>Niue</td>\n",
       "      <td>NaN</td>\n",
       "      <td>NaN</td>\n",
       "      <td>NaN</td>\n",
       "    </tr>\n",
       "    <tr>\n",
       "      <th>224</th>\n",
       "      <td>Πίτκαϊρν</td>\n",
       "      <td>NaN</td>\n",
       "      <td>NaN</td>\n",
       "      <td>Pitcairn Islands</td>\n",
       "      <td>NaN</td>\n",
       "      <td>NaN</td>\n",
       "      <td>NaN</td>\n",
       "    </tr>\n",
       "    <tr>\n",
       "      <th>225</th>\n",
       "      <td>Νησιά Σπράτλυ</td>\n",
       "      <td>NaN</td>\n",
       "      <td>NaN</td>\n",
       "      <td>Spratly Islands</td>\n",
       "      <td>NaN</td>\n",
       "      <td>NaN</td>\n",
       "      <td>NaN</td>\n",
       "    </tr>\n",
       "    <tr>\n",
       "      <th>226</th>\n",
       "      <td>Πουέρτο Ρίκο</td>\n",
       "      <td>NaN</td>\n",
       "      <td>NaN</td>\n",
       "      <td>Puerto Rico</td>\n",
       "      <td>NaN</td>\n",
       "      <td>NaN</td>\n",
       "      <td>NaN</td>\n",
       "    </tr>\n",
       "    <tr>\n",
       "      <th>227</th>\n",
       "      <td>Βόρεια Κορέα</td>\n",
       "      <td>NaN</td>\n",
       "      <td>NaN</td>\n",
       "      <td>North Korea</td>\n",
       "      <td>NaN</td>\n",
       "      <td>NaN</td>\n",
       "      <td>NaN</td>\n",
       "    </tr>\n",
       "    <tr>\n",
       "      <th>228</th>\n",
       "      <td>Παλεστίνη</td>\n",
       "      <td>NaN</td>\n",
       "      <td>NaN</td>\n",
       "      <td>Palestine</td>\n",
       "      <td>NaN</td>\n",
       "      <td>NaN</td>\n",
       "      <td>State of Palestine</td>\n",
       "    </tr>\n",
       "    <tr>\n",
       "      <th>229</th>\n",
       "      <td>Γαλλική Πολυνησία</td>\n",
       "      <td>NaN</td>\n",
       "      <td>NaN</td>\n",
       "      <td>French Polynesia</td>\n",
       "      <td>NaN</td>\n",
       "      <td>NaN</td>\n",
       "      <td>NaN</td>\n",
       "    </tr>\n",
       "    <tr>\n",
       "      <th>230</th>\n",
       "      <td>Ρωσία</td>\n",
       "      <td>NaN</td>\n",
       "      <td>NaN</td>\n",
       "      <td>Russia</td>\n",
       "      <td>NaN</td>\n",
       "      <td>NaN</td>\n",
       "      <td>NaN</td>\n",
       "    </tr>\n",
       "    <tr>\n",
       "      <th>231</th>\n",
       "      <td>Δυτική Σαχάρα</td>\n",
       "      <td>NaN</td>\n",
       "      <td>NaN</td>\n",
       "      <td>Western Sahara</td>\n",
       "      <td>NaN</td>\n",
       "      <td>NaN</td>\n",
       "      <td>NaN</td>\n",
       "    </tr>\n",
       "    <tr>\n",
       "      <th>232</th>\n",
       "      <td>Ύφαλος Σκαρμπόροου</td>\n",
       "      <td>NaN</td>\n",
       "      <td>NaN</td>\n",
       "      <td>Scarborough Reef</td>\n",
       "      <td>NaN</td>\n",
       "      <td>NaN</td>\n",
       "      <td>NaN</td>\n",
       "    </tr>\n",
       "    <tr>\n",
       "      <th>233</th>\n",
       "      <td>Νήσος Σερανίγια</td>\n",
       "      <td>NaN</td>\n",
       "      <td>NaN</td>\n",
       "      <td>Serranilla Bank</td>\n",
       "      <td>NaN</td>\n",
       "      <td>NaN</td>\n",
       "      <td>NaN</td>\n",
       "    </tr>\n",
       "    <tr>\n",
       "      <th>234</th>\n",
       "      <td>Νήσοι Νότια Γεωργία &amp; Νότιες Σάντουιτς</td>\n",
       "      <td>NaN</td>\n",
       "      <td>NaN</td>\n",
       "      <td>South Georgia and South Sandwich Islands</td>\n",
       "      <td>NaN</td>\n",
       "      <td>NaN</td>\n",
       "      <td>NaN</td>\n",
       "    </tr>\n",
       "    <tr>\n",
       "      <th>235</th>\n",
       "      <td>Άγ. Ελένη</td>\n",
       "      <td>NaN</td>\n",
       "      <td>NaN</td>\n",
       "      <td>Saint Helena</td>\n",
       "      <td>NaN</td>\n",
       "      <td>NaN</td>\n",
       "      <td>NaN</td>\n",
       "    </tr>\n",
       "    <tr>\n",
       "      <th>236</th>\n",
       "      <td>Σομαλιλάνδη</td>\n",
       "      <td>NaN</td>\n",
       "      <td>NaN</td>\n",
       "      <td>Somaliland</td>\n",
       "      <td>NaN</td>\n",
       "      <td>NaN</td>\n",
       "      <td>NaN</td>\n",
       "    </tr>\n",
       "    <tr>\n",
       "      <th>237</th>\n",
       "      <td>Σεντ Πιέρ &amp; Μικελόν</td>\n",
       "      <td>NaN</td>\n",
       "      <td>NaN</td>\n",
       "      <td>Saint Pierre and Miquelon</td>\n",
       "      <td>NaN</td>\n",
       "      <td>NaN</td>\n",
       "      <td>Saint Pierre &amp; Miquelon</td>\n",
       "    </tr>\n",
       "    <tr>\n",
       "      <th>238</th>\n",
       "      <td>Σερβία</td>\n",
       "      <td>NaN</td>\n",
       "      <td>NaN</td>\n",
       "      <td>Republic of Serbia</td>\n",
       "      <td>Serbia</td>\n",
       "      <td>NaN</td>\n",
       "      <td>NaN</td>\n",
       "    </tr>\n",
       "    <tr>\n",
       "      <th>239</th>\n",
       "      <td>Σουαζιλάνδη</td>\n",
       "      <td>NaN</td>\n",
       "      <td>NaN</td>\n",
       "      <td>Swaziland</td>\n",
       "      <td>NaN</td>\n",
       "      <td>Eswatini</td>\n",
       "      <td>NaN</td>\n",
       "    </tr>\n",
       "    <tr>\n",
       "      <th>240</th>\n",
       "      <td>Άγ. Μαρτίνος</td>\n",
       "      <td>NaN</td>\n",
       "      <td>NaN</td>\n",
       "      <td>Sint Maarten</td>\n",
       "      <td>NaN</td>\n",
       "      <td>NaN</td>\n",
       "      <td>NaN</td>\n",
       "    </tr>\n",
       "    <tr>\n",
       "      <th>241</th>\n",
       "      <td>Συρία</td>\n",
       "      <td>NaN</td>\n",
       "      <td>NaN</td>\n",
       "      <td>Syria</td>\n",
       "      <td>NaN</td>\n",
       "      <td>NaN</td>\n",
       "      <td>NaN</td>\n",
       "    </tr>\n",
       "    <tr>\n",
       "      <th>242</th>\n",
       "      <td>Νήσοι Τουρκ &amp; Κάικος</td>\n",
       "      <td>NaN</td>\n",
       "      <td>NaN</td>\n",
       "      <td>Turks and Caicos Islands</td>\n",
       "      <td>NaN</td>\n",
       "      <td>Turks and Caicos</td>\n",
       "      <td>NaN</td>\n",
       "    </tr>\n",
       "    <tr>\n",
       "      <th>243</th>\n",
       "      <td>Ανατολικό Τιμόρ</td>\n",
       "      <td>NaN</td>\n",
       "      <td>NaN</td>\n",
       "      <td>East Timor</td>\n",
       "      <td>NaN</td>\n",
       "      <td>Timor-Leste</td>\n",
       "      <td>NaN</td>\n",
       "    </tr>\n",
       "    <tr>\n",
       "      <th>244</th>\n",
       "      <td>Ταϊβάν</td>\n",
       "      <td>NaN</td>\n",
       "      <td>NaN</td>\n",
       "      <td>Taiwan</td>\n",
       "      <td>Taiwan*</td>\n",
       "      <td>NaN</td>\n",
       "      <td>NaN</td>\n",
       "    </tr>\n",
       "    <tr>\n",
       "      <th>245</th>\n",
       "      <td>Τανζανία</td>\n",
       "      <td>NaN</td>\n",
       "      <td>NaN</td>\n",
       "      <td>United Republic of Tanzania</td>\n",
       "      <td>NaN</td>\n",
       "      <td>Tanzania</td>\n",
       "      <td>NaN</td>\n",
       "    </tr>\n",
       "    <tr>\n",
       "      <th>246</th>\n",
       "      <td>Απομακρυσμένες Νησίδες ΗΠΑ</td>\n",
       "      <td>NaN</td>\n",
       "      <td>NaN</td>\n",
       "      <td>United States Minor Outlying Islands</td>\n",
       "      <td>NaN</td>\n",
       "      <td>NaN</td>\n",
       "      <td>NaN</td>\n",
       "    </tr>\n",
       "    <tr>\n",
       "      <th>247</th>\n",
       "      <td>Αμερικανική Ναυτική Βάση Γκουαντάναμο</td>\n",
       "      <td>NaN</td>\n",
       "      <td>NaN</td>\n",
       "      <td>US Naval Base Guantanamo Bay</td>\n",
       "      <td>NaN</td>\n",
       "      <td>NaN</td>\n",
       "      <td>NaN</td>\n",
       "    </tr>\n",
       "    <tr>\n",
       "      <th>248</th>\n",
       "      <td>Βατικανό</td>\n",
       "      <td>NaN</td>\n",
       "      <td>NaN</td>\n",
       "      <td>Vatican</td>\n",
       "      <td>Holy See</td>\n",
       "      <td>Vatican City</td>\n",
       "      <td>NaN</td>\n",
       "    </tr>\n",
       "    <tr>\n",
       "      <th>249</th>\n",
       "      <td>Βενεζουέλα</td>\n",
       "      <td>NaN</td>\n",
       "      <td>NaN</td>\n",
       "      <td>Venezuela</td>\n",
       "      <td>NaN</td>\n",
       "      <td>NaN</td>\n",
       "      <td>NaN</td>\n",
       "    </tr>\n",
       "    <tr>\n",
       "      <th>250</th>\n",
       "      <td>Βρετανικές Παρθένες Νήσοι</td>\n",
       "      <td>NaN</td>\n",
       "      <td>NaN</td>\n",
       "      <td>British Virgin Islands</td>\n",
       "      <td>NaN</td>\n",
       "      <td>NaN</td>\n",
       "      <td>NaN</td>\n",
       "    </tr>\n",
       "    <tr>\n",
       "      <th>251</th>\n",
       "      <td>Αμερικανικές Παρθένοι Νήσοι</td>\n",
       "      <td>NaN</td>\n",
       "      <td>NaN</td>\n",
       "      <td>United States Virgin Islands</td>\n",
       "      <td>NaN</td>\n",
       "      <td>U.S. Virgin Islands</td>\n",
       "      <td>NaN</td>\n",
       "    </tr>\n",
       "    <tr>\n",
       "      <th>252</th>\n",
       "      <td>Βιετνάμ</td>\n",
       "      <td>NaN</td>\n",
       "      <td>NaN</td>\n",
       "      <td>Vietnam</td>\n",
       "      <td>NaN</td>\n",
       "      <td>NaN</td>\n",
       "      <td>NaN</td>\n",
       "    </tr>\n",
       "    <tr>\n",
       "      <th>253</th>\n",
       "      <td>Νήσοι Ουώλις &amp; Φουτούνα</td>\n",
       "      <td>NaN</td>\n",
       "      <td>NaN</td>\n",
       "      <td>Wallis and Futuna</td>\n",
       "      <td>NaN</td>\n",
       "      <td>NaN</td>\n",
       "      <td>Wallis &amp; Futuna</td>\n",
       "    </tr>\n",
       "    <tr>\n",
       "      <th>254</th>\n",
       "      <td>Περιοχή Κυρίαρχων Βάσεων Ακρωτηρίου</td>\n",
       "      <td>NaN</td>\n",
       "      <td>NaN</td>\n",
       "      <td>Akrotiri Sovereign Base Area</td>\n",
       "      <td>NaN</td>\n",
       "      <td>NaN</td>\n",
       "      <td>NaN</td>\n",
       "    </tr>\n",
       "    <tr>\n",
       "      <th>255</th>\n",
       "      <td>Ρεϋνιόν</td>\n",
       "      <td>NaN</td>\n",
       "      <td>NaN</td>\n",
       "      <td>NaN</td>\n",
       "      <td>NaN</td>\n",
       "      <td>Réunion</td>\n",
       "      <td>Réunion</td>\n",
       "    </tr>\n",
       "    <tr>\n",
       "      <th>256</th>\n",
       "      <td>Γουαδελούπη</td>\n",
       "      <td>NaN</td>\n",
       "      <td>NaN</td>\n",
       "      <td>NaN</td>\n",
       "      <td>NaN</td>\n",
       "      <td>Guadeloupe</td>\n",
       "      <td>Guadeloupe</td>\n",
       "    </tr>\n",
       "    <tr>\n",
       "      <th>257</th>\n",
       "      <td>Μαρτινίκα</td>\n",
       "      <td>NaN</td>\n",
       "      <td>NaN</td>\n",
       "      <td>NaN</td>\n",
       "      <td>NaN</td>\n",
       "      <td>Martinique</td>\n",
       "      <td>Martinique</td>\n",
       "    </tr>\n",
       "    <tr>\n",
       "      <th>258</th>\n",
       "      <td>Αγγλονορμανδικές Νήσοι</td>\n",
       "      <td>NaN</td>\n",
       "      <td>NaN</td>\n",
       "      <td>NaN</td>\n",
       "      <td>NaN</td>\n",
       "      <td>Channel Islands</td>\n",
       "      <td>Channel Islands</td>\n",
       "    </tr>\n",
       "    <tr>\n",
       "      <th>259</th>\n",
       "      <td>Μαγιότ</td>\n",
       "      <td>NaN</td>\n",
       "      <td>NaN</td>\n",
       "      <td>NaN</td>\n",
       "      <td>NaN</td>\n",
       "      <td>Mayotte</td>\n",
       "      <td>Mayotte</td>\n",
       "    </tr>\n",
       "    <tr>\n",
       "      <th>260</th>\n",
       "      <td>Γαλλική Γουιάνα</td>\n",
       "      <td>NaN</td>\n",
       "      <td>NaN</td>\n",
       "      <td>NaN</td>\n",
       "      <td>NaN</td>\n",
       "      <td>French Guiana</td>\n",
       "      <td>French Guiana</td>\n",
       "    </tr>\n",
       "    <tr>\n",
       "      <th>261</th>\n",
       "      <td>Κρουαζιερόπλοιο Diamond Princess</td>\n",
       "      <td>NaN</td>\n",
       "      <td>NaN</td>\n",
       "      <td>NaN</td>\n",
       "      <td>NaN</td>\n",
       "      <td>Diamond Princess</td>\n",
       "      <td>NaN</td>\n",
       "    </tr>\n",
       "  </tbody>\n",
       "</table>\n",
       "</div>"
      ],
      "text/plain": [
       "                                              name_x alpha2 alpha3_x                                   country         country_h               country_w                 country_p\n",
       "0                                         Άγ. Λουκία     lc      lca                               Saint Lucia               NaN                     NaN                       NaN\n",
       "1                         Άγ. Βικέντιος & Γρεναδίνες     vc      vct          Saint Vincent and the Grenadines               NaN  St. Vincent Grenadines  St. Vincent & Grenadines\n",
       "2                                        Άγ. Μαρίνος      s      smr                                San Marino               NaN                     NaN                       NaN\n",
       "3                            Αγ. Χριστόφορος & Νέβις     kn      kna                     Saint Kitts and Nevis               NaN                     NaN       Saint Kitts & Nevis\n",
       "4                                       Αζερμπαϊτζάν     az      aze                                Azerbaijan               NaN                     NaN                       NaN\n",
       "5                                           Αίγυπτος     eg      egy                                     Egypt               NaN                     NaN                       NaN\n",
       "6                                           Αιθιοπία     et      eth                                  Ethiopia               NaN                     NaN                       NaN\n",
       "7                                               Αϊτή     ht      hti                                     Haiti               NaN                     NaN                       NaN\n",
       "8                                            Αλβανία     al      alb                                   Albania               NaN                     NaN                       NaN\n",
       "9                                            Αλγερία     dz      dza                                   Algeria               NaN                     NaN                       NaN\n",
       "10                                           Ανγκόλα     ao      ago                                    Angola               NaN                     NaN                       NaN\n",
       "11                                           Ανδόρρα     ad      and                                   Andorra               NaN                     NaN                       NaN\n",
       "12                           Αντίγκουα & Μπαρμπούντα     ag      atg                       Antigua and Barbuda               NaN                     NaN                       NaN\n",
       "13                                         Αργεντινή     ar      arg                                 Argentina               NaN                     NaN                       NaN\n",
       "14                                           Αρμενία     am      arm                                   Armenia               NaN                     NaN                       NaN\n",
       "15                                         Αυστραλία     au      aus                                 Australia               NaN                     NaN                       NaN\n",
       "16                                           Αυστρία     at      aut                                   Austria               NaN                     NaN                       NaN\n",
       "17                                        Αφγανιστάν     af      afg                               Afghanistan               NaN                     NaN                       NaN\n",
       "18                                         Βανουάτου     vu      vut                                   Vanuatu               NaN                     NaN                       NaN\n",
       "19                                            Βέλγιο     be      bel                                   Belgium               NaN                     NaN                       NaN\n",
       "20                                 Βοσνία-Ερζεγοβίνη     ba      bih                    Bosnia and Herzegovina               NaN                     NaN                       NaN\n",
       "21                                         Βουλγαρία     bg      bgr                                  Bulgaria               NaN                     NaN                       NaN\n",
       "22                                          Βραζιλία     br      bra                                    Brazil               NaN                     NaN                       NaN\n",
       "23                                            Γαλλία     fr      fra                                    France               NaN                     NaN                       NaN\n",
       "24                                          Γερμανία     de      deu                                   Germany               NaN                     NaN                       NaN\n",
       "25                                           Γεωργία     ge      geo                                   Georgia               NaN                     NaN                       NaN\n",
       "26                                           Γκάμπια     gm      gmb                                    Gambia               NaN                     NaN                       NaN\n",
       "27                                           Γκαμπόν     ga      gab                                     Gabon               NaN                     NaN                       NaN\n",
       "28                                             Γκάνα     gh      gha                                     Ghana               NaN                     NaN                       NaN\n",
       "29                                        Γουατεμάλα     gt      gtm                                 Guatemala               NaN                     NaN                       NaN\n",
       "30                                           Γουιάνα     gy      guy                                    Guyana               NaN                     NaN                       NaN\n",
       "31                                           Γουινέα     gn      gin                                    Guinea               NaN                     NaN                       NaN\n",
       "32                                           Γρενάδα     gd      grd                                   Grenada               NaN                     NaN                       NaN\n",
       "33                                             Δανία     dk      dnk                                   Denmark               NaN                     NaN                       NaN\n",
       "34                                Δομινικανή Δημ/τία     do      dom                        Dominican Republic               NaN                     NaN                       NaN\n",
       "35                                       Ελ Σαλβαδόρ     sv      slv                               El Salvador               NaN                     NaN                       NaN\n",
       "36                                           Ελβετία     ch      che                               Switzerland               NaN                     NaN                       NaN\n",
       "37                                            Ελλάδα     gr      grc                                    Greece               NaN                     NaN                       NaN\n",
       "38                                          Ερυθραία     er      eri                                   Eritrea               NaN                     NaN                       NaN\n",
       "39                                           Εσθονία     ee      est                                   Estonia               NaN                     NaN                       NaN\n",
       "40                                            Ζάμπια     zm      zmb                                    Zambia               NaN                     NaN                       NaN\n",
       "41                                        Ζιμπάμπουε     zw      zwe                                  Zimbabwe               NaN                     NaN                       NaN\n",
       "42                               Ην. Αραβικά Εμιράτα     ae      are                      United Arab Emirates               NaN                     UAE                       NaN\n",
       "43                                               ΗΠΑ     us      usa                  United States of America                US                     USA             United States\n",
       "44                                           Ιαπωνία     jp      jpn                                     Japan               NaN                     NaN                       NaN\n",
       "45                                             Ινδία     in      ind                                     India               NaN                     NaN                       NaN\n",
       "46                                         Ινδονησία     id      idn                                 Indonesia               NaN                     NaN                       NaN\n",
       "47                                          Ιορδανία     jo      jor                                    Jordan               NaN                     NaN                       NaN\n",
       "48                                              Ιράκ     iq      irq                                      Iraq               NaN                     NaN                       NaN\n",
       "49                                          Ιρλανδία     ie      irl                                   Ireland               NaN                     NaN                       NaN\n",
       "50                                 Ισημερινή Γουινέα     gq      gnq                         Equatorial Guinea               NaN                     NaN                       NaN\n",
       "51                                        Ισημερινός     ec      ecu                                   Ecuador               NaN                     NaN                       NaN\n",
       "52                                          Ισλανδία     is      isl                                   Iceland               NaN                     NaN                       NaN\n",
       "53                                           Ισπανία     es      esp                                     Spain               NaN                     NaN                       NaN\n",
       "54                                            Ισραήλ     il      isr                                    Israel               NaN                     NaN                       NaN\n",
       "55                                            Ιταλία     it      ita                                     Italy               NaN                     NaN                       NaN\n",
       "56                                         Καζακστάν     kz      kaz                                Kazakhstan               NaN                     NaN                       NaN\n",
       "57                                          Καμερούν     cm      cmr                                  Cameroon               NaN                     NaN                       NaN\n",
       "58                                          Καμπότζη     kh      khm                                  Cambodia               NaN                     NaN                       NaN\n",
       "59                                           Καναδάς     ca      can                                    Canada               NaN                     NaN                       NaN\n",
       "60                                             Κατάρ     qa      qat                                     Qatar               NaN                     NaN                       NaN\n",
       "61                          Κεντροαφρικανική Δημ/τία     cf      caf                  Central African Republic               NaN                     CAR                       NaN\n",
       "62                                             Κένυα     ke      ken                                     Kenya               NaN                     NaN                       NaN\n",
       "63                                              Κίνα     cn      chn                                     China               NaN                     NaN                       NaN\n",
       "64                                          Κιργιζία     kg      kgz                                Kyrgyzstan               NaN                     NaN                       NaN\n",
       "65                                         Κιριμπάτι     ki      kir                                  Kiribati               NaN                     NaN                       NaN\n",
       "66                                          Κολομβία     co      col                                  Colombia               NaN                     NaN                       NaN\n",
       "67                                           Κομόρες     km      com                                   Comoros               NaN                     NaN                       NaN\n",
       "68                                        Κόστα Ρίκα     cr      cri                                Costa Rica               NaN                     NaN                       NaN\n",
       "69                                             Κούβα     cu      cub                                      Cuba               NaN                     NaN                       NaN\n",
       "70                                           Κουβέιτ     kw      kwt                                    Kuwait               NaN                     NaN                       NaN\n",
       "71                                           Κροατία     hr      hrv                                   Croatia               NaN                     NaN                       NaN\n",
       "72                                            Κύπρος     cy      cyp                                    Cyprus               NaN                     NaN                       NaN\n",
       "73                                            Λεσότο     ls      lso                                   Lesotho               NaN                     NaN                       NaN\n",
       "74                                          Λεττονία     lv      lva                                    Latvia               NaN                     NaN                       NaN\n",
       "75                                        Λευκορωσία     by      blr                                   Belarus               NaN                     NaN                       NaN\n",
       "76                                           Λίβανος     lb      lbn                                   Lebanon               NaN                     NaN                       NaN\n",
       "77                                           Λιβερία     lr      lbr                                   Liberia               NaN                     NaN                       NaN\n",
       "78                                             Λιβύη     ly      lby                                     Libya               NaN                     NaN                       NaN\n",
       "79                                         Λιθουανία     lt      ltu                                 Lithuania               NaN                     NaN                       NaN\n",
       "80                                       Λίχτενσταϊν     li      lie                             Liechtenstein               NaN                     NaN                       NaN\n",
       "81                                      Λουξεμβούργο     lu      lux                                Luxembourg               NaN                     NaN                       NaN\n",
       "82                                       Μαδαγασκάρη     mg      mdg                                Madagascar               NaN                     NaN                       NaN\n",
       "83                                          Μαλαισία     my      mys                                  Malaysia               NaN                     NaN                       NaN\n",
       "84                                           Μαλάουι     mw      mwi                                    Malawi               NaN                     NaN                       NaN\n",
       "85                                          Μαλδίβες     mv      mdv                                  Maldives               NaN                     NaN                       NaN\n",
       "86                                              Μάλι     ml      mli                                      Mali               NaN                     NaN                       NaN\n",
       "87                                             Μάλτα     mt      mlt                                     Malta               NaN                     NaN                       NaN\n",
       "88                                            Μαρόκο     ma      mar                                   Morocco               NaN                     NaN                       NaN\n",
       "89                                         Μαυρίκιος     mu      mus                                 Mauritius               NaN                     NaN                       NaN\n",
       "90                                        Μαυριτανία     mr      mrt                                Mauritania               NaN                     NaN                       NaN\n",
       "91                                       Μαυροβούνιο     me      mne                                Montenegro               NaN                     NaN                       NaN\n",
       "92                                            Μεξικό     mx      mex                                    Mexico               NaN                     NaN                       NaN\n",
       "93                                           Μιανμάρ     mm      mmr                                   Myanmar               NaN                     NaN                       NaN\n",
       "94                                          Μογγολία     mn      mng                                  Mongolia               NaN                     NaN                       NaN\n",
       "95                                         Μοζαμβίκη     mz      moz                                Mozambique               NaN                     NaN                       NaN\n",
       "96                                            Μονακό     mc      mco                                    Monaco               NaN                     NaN                       NaN\n",
       "97                                      Μπανγκλαντές     bd      bgd                                Bangladesh               NaN                     NaN                       NaN\n",
       "98                                       Μπαρμπάντος     bb      brb                                  Barbados               NaN                     NaN                       NaN\n",
       "99                                          Μπαχρέιν     bh      bhr                                   Bahrain               NaN                     NaN                       NaN\n",
       "100                                           Μπελίζ     bz      blz                                    Belize               NaN                     NaN                       NaN\n",
       "101                                           Μπενίν     bj      ben                                     Benin               NaN                     NaN                       NaN\n",
       "102                                       Μποτσουάνα     bw      bwa                                  Botswana               NaN                     NaN                       NaN\n",
       "103                                   Μπουρκίνα Φάσο     bf      bfa                              Burkina Faso               NaN                     NaN                       NaN\n",
       "104                                       Μπουρούντι     bi      bdi                                   Burundi               NaN                     NaN                       NaN\n",
       "105                                          Μπουτάν     bt      btn                                    Bhutan               NaN                     NaN                       NaN\n",
       "106                                         Ναμίμπια     na      nam                                   Namibia               NaN                     NaN                       NaN\n",
       "107                                          Ναουρού     nr      nru                                     Nauru               NaN                     NaN                       NaN\n",
       "108                                     Νέα Ζηλανδία     nz      nzl                               New Zealand               NaN                     NaN                       NaN\n",
       "109                                            Νεπάλ     np      npl                                     Nepal               NaN                     NaN                       NaN\n",
       "110                                     Νήσοι Μάρσαλ     mh      mhl                          Marshall Islands               NaN                     NaN                       NaN\n",
       "111                                  Νήσοι Σολομώντα     sb      slb                           Solomon Islands               NaN                     NaN                       NaN\n",
       "112                                          Νίγηρας     ne      ner                                     Niger               NaN                     NaN                       NaN\n",
       "113                                          Νιγηρία     ng      nga                                   Nigeria               NaN                     NaN                       NaN\n",
       "114                                       Νικαράγουα     ni      nic                                 Nicaragua               NaN                     NaN                       NaN\n",
       "115                                         Νορβηγία     no      nor                                    Norway               NaN                     NaN                       NaN\n",
       "116                                     Νότια Αφρική     za      zaf                              South Africa               NaN                     NaN                       NaN\n",
       "117                                     Νότιο Σουδάν     ss      ssd                               South Sudan               NaN                     NaN                       NaN\n",
       "118                                         Δομινίκα     dm      dma                                  Dominica               NaN                     NaN                       NaN\n",
       "119                                         Ολλανδία     nl      nld                               Netherlands               NaN                     NaN                       NaN\n",
       "120                                             Ομάν     om      omn                                      Oman               NaN                     NaN                       NaN\n",
       "121                                          Ονδούρα     hn      hnd                                  Honduras               NaN                     NaN                       NaN\n",
       "122                                         Ουγγαρία     hu      hun                                   Hungary               NaN                     NaN                       NaN\n",
       "123                                         Ουγκάντα     ug      uga                                    Uganda               NaN                     NaN                       NaN\n",
       "124                                     Ουζμπεκιστάν     uz      uzb                                Uzbekistan               NaN                     NaN                       NaN\n",
       "125                                         Ουκρανία     ua      ukr                                   Ukraine               NaN                     NaN                       NaN\n",
       "126                                       Ουρουγουάη     uy      ury                                   Uruguay               NaN                     NaN                       NaN\n",
       "127                                         Πακιστάν     pk      pak                                  Pakistan               NaN                     NaN                       NaN\n",
       "128                                           Παλάου     pw      plw                                     Palau               NaN                     NaN                       NaN\n",
       "129                                          Παναμάς     pa      pan                                    Panama               NaN                     NaN                       NaN\n",
       "130                                Παπούα Ν. Γουινέα     pg      png                          Papua New Guinea               NaN                     NaN                       NaN\n",
       "131                                        Παραγουάη     py      pry                                  Paraguay               NaN                     NaN                       NaN\n",
       "132                                            Περού     pe      per                                      Peru               NaN                     NaN                       NaN\n",
       "133                                          Πολωνία     pl      pol                                    Poland               NaN                     NaN                       NaN\n",
       "134                                       Πορτογαλία     pt      prt                                  Portugal               NaN                     NaN                       NaN\n",
       "135                                          Ρουάντα     rw      rwa                                    Rwanda               NaN                     NaN                       NaN\n",
       "136                                         Ρουμανία     ro      rou                                   Romania               NaN                     NaN                       NaN\n",
       "137                                            Σαμόα     ws      wsm                                     Samoa               NaN                     NaN                       NaN\n",
       "138                              Σάο Τομέ & Πρίνσιπε     st      stp                     Sao Tome and Principe               NaN                     NaN       Sao Tome & Principe\n",
       "139                                  Σαουδική Αραβία     sa      sau                              Saudi Arabia               NaN                     NaN                       NaN\n",
       "140                                         Σενεγάλη     sn      sen                                   Senegal               NaN                     NaN                       NaN\n",
       "141                                        Σεϋχέλλες     sc      syc                                Seychelles               NaN                     NaN                       NaN\n",
       "142                                      Σιέρα Λεόνε     sl      sle                              Sierra Leone               NaN                     NaN                       NaN\n",
       "143                                       Σιγκαπούρη     sg      sgp                                 Singapore               NaN                     NaN                       NaN\n",
       "144                                         Σλοβακία     sk      svk                                  Slovakia               NaN                     NaN                       NaN\n",
       "145                                         Σλοβενία     si      svn                                  Slovenia               NaN                     NaN                       NaN\n",
       "146                                          Σομαλία     so      som                                   Somalia               NaN                     NaN                       NaN\n",
       "147                                           Σουδάν     sd      sdn                                     Sudan               NaN                     NaN                       NaN\n",
       "148                                          Σουηδία     se      swe                                    Sweden               NaN                     NaN                       NaN\n",
       "149                                         Σουρινάμ     sr      sur                                  Suriname               NaN                     NaN                       NaN\n",
       "150                                        Σρι Λάνκα     lk      lka                                 Sri Lanka               NaN                     NaN                       NaN\n",
       "151                                         Ταϊλάνδη     th      tha                                  Thailand               NaN                     NaN                       NaN\n",
       "152                                      Τατζικιστάν     tj      tjk                                Tajikistan               NaN                     NaN                       NaN\n",
       "153                                         Τζαμάικα     jm      jam                                   Jamaica               NaN                     NaN                       NaN\n",
       "154                                        Τζιμπουτί     dj      dji                                  Djibouti               NaN                     NaN                       NaN\n",
       "155                                            Τόγκα     to      ton                                     Tonga               NaN                     NaN                       NaN\n",
       "156                                            Τόγκο     tg      tgo                                      Togo               NaN                     NaN                       NaN\n",
       "157                                         Τουβαλού     tv      tuv                                    Tuvalu               NaN                     NaN                       NaN\n",
       "158                                          Τουρκία     tr      tur                                    Turkey               NaN                     NaN                       NaN\n",
       "159                                    Τουρκμενιστάν     tm      tkm                              Turkmenistan               NaN                     NaN                       NaN\n",
       "160                            Τρινιντάντ & Τομπάγκο     tt      tto                       Trinidad and Tobago               NaN                     NaN                       NaN\n",
       "161                                            Τσαντ     td      tcd                                      Chad               NaN                     NaN                       NaN\n",
       "162                                          Τυνησία     tn      tun                                   Tunisia               NaN                     NaN                       NaN\n",
       "163                                           Υεμένη     ye      yem                                     Yemen               NaN                     NaN                       NaN\n",
       "164                                       Φιλιππίνες     ph      phl                               Philippines               NaN                     NaN                       NaN\n",
       "165                                        Φινλανδία     fi      fin                                   Finland               NaN                     NaN                       NaN\n",
       "166                                            Φίτζι     fj      fji                                      Fiji               NaN                     NaN                       NaN\n",
       "167                                             Χιλή     cl      chl                                     Chile               NaN                     NaN                       NaN\n",
       "168                                          Αρούμπα    NaN      NaN                                     Aruba               NaN                     NaN                       NaN\n",
       "169                                        Ανγκουίλα    NaN      NaN                                  Anguilla               NaN                     NaN                       NaN\n",
       "170                                            Άλαντ    NaN      NaN                                     Aland               NaN                     NaN                       NaN\n",
       "171                                Αμερικανική Σαμόα    NaN      NaN                            American Samoa               NaN                     NaN                       NaN\n",
       "172                                       Ανταρκτική    NaN      NaN                                Antarctica               NaN                     NaN                       NaN\n",
       "173                            Νησιά Άσμορ & Κάρτιερ    NaN      NaN               Ashmore and Cartier Islands               NaN                     NaN                       NaN\n",
       "174                 Γαλλικά Νότια & Ανταρκτικά Εδάφη    NaN      NaN       French Southern and Antarctic Lands               NaN                     NaN                       NaN\n",
       "175                                         Μπαχάμες    NaN      NaN                               The Bahamas               NaN                 Bahamas                       NaN\n",
       "176                     Bajo Nuevo Bank (Petrel Is.)    NaN      NaN              Bajo Nuevo Bank (Petrel Is.)               NaN                     NaN                       NaN\n",
       "177                               Άγιος Βαρθολομαίος    NaN      NaN                          Saint Barthelemy               NaN               St. Barth                       NaN\n",
       "178                                        Βερμούδες    NaN      NaN                                   Bermuda               NaN                     NaN                       NaN\n",
       "179                                          Βολιβία    NaN      NaN                                   Bolivia               NaN                     NaN                       NaN\n",
       "180                                         Μπρουνέι    NaN      NaN                                    Brunei               NaN                     NaN                       NaN\n",
       "181                                Ακτή Ελεφαντοστού    NaN      NaN                               Ivory Coast     Cote d'Ivoire                     NaN             Côte d'Ivoire\n",
       "182                                 Νήσος Κλίππερτον    NaN      NaN                         Clipperton Island               NaN                     NaN                       NaN\n",
       "183                          Πράσινη Γραμμή (Κύπρος)    NaN      NaN                       Cyprus No Mans Area               NaN                     NaN                       NaN\n",
       "184                             Λαϊκή Δημ/τία Κονγκό    NaN      NaN          Democratic Republic of the Congo  Congo (Kinshasa)                     DRC                  DR Congo\n",
       "185                                   Δημ/τία Κονγκό    NaN      NaN                         Republic of Congo               NaN                   Congo                       NaN\n",
       "186                                       Νήσοι Κουκ    NaN      NaN                              Cook Islands               NaN                     NaN                       NaN\n",
       "187                                Πράσινο Ακρωτήριο    NaN      NaN                                Cape Verde               NaN              Cabo Verde                       NaN\n",
       "188                        Ύφαλοι Θάλασσας Κοραλλίων    NaN      NaN                         Coral Sea Islands               NaN                     NaN                       NaN\n",
       "189                                         Κουρασάο    NaN      NaN                                   Curaçao               NaN                     NaN                       NaN\n",
       "190                                     Νησιά Κέιμαν    NaN      NaN                            Cayman Islands               NaN                     NaN                       NaN\n",
       "191                         Κατεχόμενα Βόρεια Κύπρος    NaN      NaN                           Northern Cyprus               NaN                     NaN                       NaN\n",
       "192                                           Τσεχία    NaN      NaN                            Czech Republic           Czechia                     NaN  Czech Republic (Czechia)\n",
       "193  Περιοχές Κυρίαρχων Βάσεων Ακρωτηρίου & Δεκέλιας    NaN      NaN              Dhekelia Sovereign Base Area               NaN                     NaN                       NaN\n",
       "194                                    Νήσοι Φώκλαντ    NaN      NaN                          Falkland Islands               NaN                     NaN                       NaN\n",
       "195                                      Νήσοι Φερόε    NaN      NaN                             Faroe Islands               NaN          Faeroe Islands                       NaN\n",
       "196                 Ομόσπονδες Πολιτείες Μικρονησίας    NaN      NaN            Federated States of Micronesia               NaN                     NaN                Micronesia\n",
       "197                                     Ην. Βασίλειο    NaN      NaN                            United Kingdom               NaN                      UK                       NaN\n",
       "198                                         Γκέρνσεϊ    NaN      NaN                                  Guernsey               NaN                     NaN                       NaN\n",
       "199                                        Γιβραλτάρ    NaN      NaN                                 Gibraltar               NaN                     NaN                       NaN\n",
       "200                                 Γουινέα-Μπισσάου    NaN      NaN                             Guinea Bissau               NaN                     NaN             Guinea-Bissau\n",
       "201                                       Γροιλανδία    NaN      NaN                                 Greenland               NaN                     NaN                       NaN\n",
       "202                                           Γκουάμ    NaN      NaN                                      Guam               NaN                     NaN                       NaN\n",
       "203                                      Χονγκ Κονγκ    NaN      NaN                          Hong Kong S.A.R.               NaN               Hong Kong                       NaN\n",
       "204                        Νήσοι Χερντ & ΜακΝτόναλντ    NaN      NaN         Heard Island and McDonald Islands               NaN                     NaN                       NaN\n",
       "205                                        Νήσος Μαν    NaN      NaN                               Isle of Man               NaN                     NaN                       NaN\n",
       "206                   Περιοχή Ινδικού Ωκ/νού            NaN      NaN                  Indian Ocean Territories               NaN                     NaN                       NaN\n",
       "207                  Βρετανικό έδαφος Ινδικού Ωκ/νού    NaN      NaN            British Indian Ocean Territory               NaN                     NaN                       NaN\n",
       "208                                             Ιράν    NaN      NaN                                      Iran               NaN                     NaN                       NaN\n",
       "209                                           Τζέρσι    NaN      NaN                                    Jersey               NaN                     NaN                       NaN\n",
       "210                        Κοσμοδρόμιο του Μπαϊκώνου    NaN      NaN                       Baykonur Cosmodrome               NaN                     NaN                       NaN\n",
       "211                                 Παγετώνας Σιάχεν    NaN      NaN                           Siachen Glacier               NaN                     NaN                       NaN\n",
       "212                                      Νότια Κορέα    NaN      NaN                               South Korea      Korea, South                S. Korea                       NaN\n",
       "213                                           Κόσοβο    NaN      NaN                                    Kosovo               NaN                     NaN                       NaN\n",
       "214                                             Λάος    NaN      NaN                                      Laos               NaN                     NaN                       NaN\n",
       "215                                           Μακάου    NaN      NaN                               Macao S.A.R               NaN                   Macao                       NaN\n",
       "216                                   Άγιος Μαρτίνος    NaN      NaN                              Saint Martin               NaN                     NaN                       NaN\n",
       "217                                         Μολδοβία    NaN      NaN                                   Moldova               NaN                     NaN                       NaN\n",
       "218                                 Βόρεια Μακεδονία    NaN      NaN                                 Macedonia   North Macedonia                     NaN                       NaN\n",
       "219                           Νήσοι Βόρειες Μαριάνες    NaN      NaN                  Northern Mariana Islands               NaN                     NaN                       NaN\n",
       "220                                       Μοντσερράτ    NaN      NaN                                Montserrat               NaN                     NaN                       NaN\n",
       "221                                    Νέα Καληδονία    NaN      NaN                             New Caledonia               NaN                     NaN                       NaN\n",
       "222                                    Νήσος Νόρφολκ    NaN      NaN                            Norfolk Island               NaN                     NaN                       NaN\n",
       "223                                            Νιούε    NaN      NaN                                      Niue               NaN                     NaN                       NaN\n",
       "224                                         Πίτκαϊρν    NaN      NaN                          Pitcairn Islands               NaN                     NaN                       NaN\n",
       "225                                    Νησιά Σπράτλυ    NaN      NaN                           Spratly Islands               NaN                     NaN                       NaN\n",
       "226                                     Πουέρτο Ρίκο    NaN      NaN                               Puerto Rico               NaN                     NaN                       NaN\n",
       "227                                     Βόρεια Κορέα    NaN      NaN                               North Korea               NaN                     NaN                       NaN\n",
       "228                                        Παλεστίνη    NaN      NaN                                 Palestine               NaN                     NaN        State of Palestine\n",
       "229                                Γαλλική Πολυνησία    NaN      NaN                          French Polynesia               NaN                     NaN                       NaN\n",
       "230                                            Ρωσία    NaN      NaN                                    Russia               NaN                     NaN                       NaN\n",
       "231                                    Δυτική Σαχάρα    NaN      NaN                            Western Sahara               NaN                     NaN                       NaN\n",
       "232                               Ύφαλος Σκαρμπόροου    NaN      NaN                          Scarborough Reef               NaN                     NaN                       NaN\n",
       "233                                  Νήσος Σερανίγια    NaN      NaN                           Serranilla Bank               NaN                     NaN                       NaN\n",
       "234           Νήσοι Νότια Γεωργία & Νότιες Σάντουιτς    NaN      NaN  South Georgia and South Sandwich Islands               NaN                     NaN                       NaN\n",
       "235                                        Άγ. Ελένη    NaN      NaN                              Saint Helena               NaN                     NaN                       NaN\n",
       "236                                      Σομαλιλάνδη    NaN      NaN                                Somaliland               NaN                     NaN                       NaN\n",
       "237                              Σεντ Πιέρ & Μικελόν    NaN      NaN                 Saint Pierre and Miquelon               NaN                     NaN   Saint Pierre & Miquelon\n",
       "238                                           Σερβία    NaN      NaN                        Republic of Serbia            Serbia                     NaN                       NaN\n",
       "239                                      Σουαζιλάνδη    NaN      NaN                                 Swaziland               NaN                Eswatini                       NaN\n",
       "240                                     Άγ. Μαρτίνος    NaN      NaN                              Sint Maarten               NaN                     NaN                       NaN\n",
       "241                                            Συρία    NaN      NaN                                     Syria               NaN                     NaN                       NaN\n",
       "242                             Νήσοι Τουρκ & Κάικος    NaN      NaN                  Turks and Caicos Islands               NaN        Turks and Caicos                       NaN\n",
       "243                                  Ανατολικό Τιμόρ    NaN      NaN                                East Timor               NaN             Timor-Leste                       NaN\n",
       "244                                           Ταϊβάν    NaN      NaN                                    Taiwan           Taiwan*                     NaN                       NaN\n",
       "245                                         Τανζανία    NaN      NaN               United Republic of Tanzania               NaN                Tanzania                       NaN\n",
       "246                       Απομακρυσμένες Νησίδες ΗΠΑ    NaN      NaN      United States Minor Outlying Islands               NaN                     NaN                       NaN\n",
       "247            Αμερικανική Ναυτική Βάση Γκουαντάναμο    NaN      NaN              US Naval Base Guantanamo Bay               NaN                     NaN                       NaN\n",
       "248                                         Βατικανό    NaN      NaN                                   Vatican          Holy See            Vatican City                       NaN\n",
       "249                                       Βενεζουέλα    NaN      NaN                                 Venezuela               NaN                     NaN                       NaN\n",
       "250                        Βρετανικές Παρθένες Νήσοι    NaN      NaN                    British Virgin Islands               NaN                     NaN                       NaN\n",
       "251                      Αμερικανικές Παρθένοι Νήσοι    NaN      NaN              United States Virgin Islands               NaN     U.S. Virgin Islands                       NaN\n",
       "252                                          Βιετνάμ    NaN      NaN                                   Vietnam               NaN                     NaN                       NaN\n",
       "253                          Νήσοι Ουώλις & Φουτούνα    NaN      NaN                         Wallis and Futuna               NaN                     NaN           Wallis & Futuna\n",
       "254              Περιοχή Κυρίαρχων Βάσεων Ακρωτηρίου    NaN      NaN              Akrotiri Sovereign Base Area               NaN                     NaN                       NaN\n",
       "255                                          Ρεϋνιόν    NaN      NaN                                       NaN               NaN                Réunion                    Réunion\n",
       "256                                      Γουαδελούπη    NaN      NaN                                       NaN               NaN              Guadeloupe                Guadeloupe\n",
       "257                                        Μαρτινίκα    NaN      NaN                                       NaN               NaN              Martinique                Martinique\n",
       "258                           Αγγλονορμανδικές Νήσοι    NaN      NaN                                       NaN               NaN         Channel Islands           Channel Islands\n",
       "259                                           Μαγιότ    NaN      NaN                                       NaN               NaN                 Mayotte                   Mayotte\n",
       "260                                  Γαλλική Γουιάνα    NaN      NaN                                       NaN               NaN           French Guiana             French Guiana\n",
       "261                 Κρουαζιερόπλοιο Diamond Princess    NaN      NaN                                       NaN               NaN        Diamond Princess                       NaN"
      ]
     },
     "execution_count": 9,
     "metadata": {},
     "output_type": "execute_result"
    }
   ],
   "source": [
    "countries"
   ]
  },
  {
   "cell_type": "code",
   "execution_count": 10,
   "metadata": {},
   "outputs": [],
   "source": [
    "countries['country_h'].fillna(countries['country'],inplace=True)\n",
    "countries['name_x'].fillna(countries['country'],inplace=True)\n",
    "countries['name_x'].fillna(countries['country_w'],inplace=True)"
   ]
  },
  {
   "cell_type": "code",
   "execution_count": 11,
   "metadata": {},
   "outputs": [],
   "source": [
    "df=pd.merge(df,countries, how='left', left_on='Country/Region', right_on='country_h')"
   ]
  },
  {
   "cell_type": "code",
   "execution_count": 48,
   "metadata": {},
   "outputs": [
    {
     "data": {
      "text/html": [
       "<div>\n",
       "<style scoped>\n",
       "    .dataframe tbody tr th:only-of-type {\n",
       "        vertical-align: middle;\n",
       "    }\n",
       "\n",
       "    .dataframe tbody tr th {\n",
       "        vertical-align: top;\n",
       "    }\n",
       "\n",
       "    .dataframe thead th {\n",
       "        text-align: right;\n",
       "    }\n",
       "</style>\n",
       "<table border=\"1\" class=\"dataframe\">\n",
       "  <thead>\n",
       "    <tr style=\"text-align: right;\">\n",
       "      <th></th>\n",
       "      <th>Province/State</th>\n",
       "      <th>Country/Region</th>\n",
       "      <th>Date</th>\n",
       "      <th>cases</th>\n",
       "      <th>name_x</th>\n",
       "      <th>alpha2</th>\n",
       "      <th>alpha3_x</th>\n",
       "      <th>country</th>\n",
       "      <th>country_h</th>\n",
       "      <th>country_w</th>\n",
       "      <th>country_p</th>\n",
       "    </tr>\n",
       "  </thead>\n",
       "  <tbody>\n",
       "    <tr>\n",
       "      <th>0</th>\n",
       "      <td>&lt;all&gt;</td>\n",
       "      <td>Afghanistan</td>\n",
       "      <td>2020-01-22</td>\n",
       "      <td>0</td>\n",
       "      <td>Αφγανιστάν</td>\n",
       "      <td>af</td>\n",
       "      <td>afg</td>\n",
       "      <td>Afghanistan</td>\n",
       "      <td>Afghanistan</td>\n",
       "      <td>NaN</td>\n",
       "      <td>NaN</td>\n",
       "    </tr>\n",
       "    <tr>\n",
       "      <th>1</th>\n",
       "      <td>&lt;all&gt;</td>\n",
       "      <td>Albania</td>\n",
       "      <td>2020-01-22</td>\n",
       "      <td>0</td>\n",
       "      <td>Αλβανία</td>\n",
       "      <td>al</td>\n",
       "      <td>alb</td>\n",
       "      <td>Albania</td>\n",
       "      <td>Albania</td>\n",
       "      <td>NaN</td>\n",
       "      <td>NaN</td>\n",
       "    </tr>\n",
       "    <tr>\n",
       "      <th>2</th>\n",
       "      <td>&lt;all&gt;</td>\n",
       "      <td>Algeria</td>\n",
       "      <td>2020-01-22</td>\n",
       "      <td>0</td>\n",
       "      <td>Αλγερία</td>\n",
       "      <td>dz</td>\n",
       "      <td>dza</td>\n",
       "      <td>Algeria</td>\n",
       "      <td>Algeria</td>\n",
       "      <td>NaN</td>\n",
       "      <td>NaN</td>\n",
       "    </tr>\n",
       "    <tr>\n",
       "      <th>3</th>\n",
       "      <td>&lt;all&gt;</td>\n",
       "      <td>Andorra</td>\n",
       "      <td>2020-01-22</td>\n",
       "      <td>0</td>\n",
       "      <td>Ανδόρρα</td>\n",
       "      <td>ad</td>\n",
       "      <td>and</td>\n",
       "      <td>Andorra</td>\n",
       "      <td>Andorra</td>\n",
       "      <td>NaN</td>\n",
       "      <td>NaN</td>\n",
       "    </tr>\n",
       "    <tr>\n",
       "      <th>4</th>\n",
       "      <td>&lt;all&gt;</td>\n",
       "      <td>Angola</td>\n",
       "      <td>2020-01-22</td>\n",
       "      <td>0</td>\n",
       "      <td>Ανγκόλα</td>\n",
       "      <td>ao</td>\n",
       "      <td>ago</td>\n",
       "      <td>Angola</td>\n",
       "      <td>Angola</td>\n",
       "      <td>NaN</td>\n",
       "      <td>NaN</td>\n",
       "    </tr>\n",
       "  </tbody>\n",
       "</table>\n",
       "</div>"
      ],
      "text/plain": [
       "  Province/State Country/Region       Date  cases      name_x alpha2 alpha3_x      country    country_h country_w country_p\n",
       "0          <all>    Afghanistan 2020-01-22      0  Αφγανιστάν     af      afg  Afghanistan  Afghanistan       NaN       NaN\n",
       "1          <all>        Albania 2020-01-22      0     Αλβανία     al      alb      Albania      Albania       NaN       NaN\n",
       "2          <all>        Algeria 2020-01-22      0     Αλγερία     dz      dza      Algeria      Algeria       NaN       NaN\n",
       "3          <all>        Andorra 2020-01-22      0     Ανδόρρα     ad      and      Andorra      Andorra       NaN       NaN\n",
       "4          <all>         Angola 2020-01-22      0     Ανγκόλα     ao      ago       Angola       Angola       NaN       NaN"
      ]
     },
     "execution_count": 48,
     "metadata": {},
     "output_type": "execute_result"
    }
   ],
   "source": [
    "df.head()"
   ]
  },
  {
   "cell_type": "code",
   "execution_count": 12,
   "metadata": {},
   "outputs": [],
   "source": [
    "df1=df.groupby(['Country/Region','Date','name_x'])['cases'].sum().reset_index()"
   ]
  },
  {
   "cell_type": "code",
   "execution_count": 47,
   "metadata": {
    "scrolled": false
   },
   "outputs": [
    {
     "data": {
      "application/vnd.plotly.v1+json": {
       "config": {
        "plotlyServerURL": "https://plot.ly"
       },
       "data": [
        {
         "customdata": [
          [
           "Αφγανιστάν"
          ],
          [
           "Αφγανιστάν"
          ],
          [
           "Αφγανιστάν"
          ],
          [
           "Αφγανιστάν"
          ],
          [
           "Αφγανιστάν"
          ],
          [
           "Αφγανιστάν"
          ],
          [
           "Αφγανιστάν"
          ]
         ],
         "hoverlabel": {
          "namelength": 0
         },
         "hovertemplate": "Χώρα=%{customdata[0]}<br>Αριθμός Κρουσμάτων=%{y}",
         "legendgroup": "Αφγανιστάν",
         "line": {
          "color": "rgb(3, 5, 18)",
          "dash": "solid",
          "shape": "spline"
         },
         "mode": "lines",
         "name": "Αφγανιστάν",
         "showlegend": true,
         "type": "scatter",
         "xaxis": "x",
         "y": [
          110,
          110,
          120,
          170,
          174,
          237,
          273
         ],
         "yaxis": "y"
        },
        {
         "customdata": [
          [
           "Αλβανία"
          ],
          [
           "Αλβανία"
          ],
          [
           "Αλβανία"
          ],
          [
           "Αλβανία"
          ],
          [
           "Αλβανία"
          ],
          [
           "Αλβανία"
          ],
          [
           "Αλβανία"
          ],
          [
           "Αλβανία"
          ],
          [
           "Αλβανία"
          ],
          [
           "Αλβανία"
          ],
          [
           "Αλβανία"
          ]
         ],
         "hoverlabel": {
          "namelength": 0
         },
         "hovertemplate": "Χώρα=%{customdata[0]}<br>Αριθμός Κρουσμάτων=%{y}",
         "legendgroup": "Αλβανία",
         "line": {
          "color": "rgb(25, 25, 51)",
          "dash": "solid",
          "shape": "spline"
         },
         "mode": "lines",
         "name": "Αλβανία",
         "showlegend": true,
         "type": "scatter",
         "xaxis": "x",
         "y": [
          104,
          123,
          146,
          174,
          186,
          197,
          212,
          223,
          243,
          259,
          277
         ],
         "yaxis": "y"
        },
        {
         "customdata": [
          [
           "Αλγερία"
          ],
          [
           "Αλγερία"
          ],
          [
           "Αλγερία"
          ],
          [
           "Αλγερία"
          ],
          [
           "Αλγερία"
          ],
          [
           "Αλγερία"
          ],
          [
           "Αλγερία"
          ],
          [
           "Αλγερία"
          ],
          [
           "Αλγερία"
          ],
          [
           "Αλγερία"
          ],
          [
           "Αλγερία"
          ],
          [
           "Αλγερία"
          ],
          [
           "Αλγερία"
          ]
         ],
         "hoverlabel": {
          "namelength": 0
         },
         "hovertemplate": "Χώρα=%{customdata[0]}<br>Αριθμός Κρουσμάτων=%{y}",
         "legendgroup": "Αλγερία",
         "line": {
          "color": "rgb(44, 42, 87)",
          "dash": "solid",
          "shape": "spline"
         },
         "mode": "lines",
         "name": "Αλγερία",
         "showlegend": true,
         "type": "scatter",
         "xaxis": "x",
         "y": [
          139,
          201,
          230,
          264,
          302,
          367,
          409,
          454,
          511,
          584,
          716,
          847,
          986
         ],
         "yaxis": "y"
        },
        {
         "customdata": [
          [
           "Ανδόρρα"
          ],
          [
           "Ανδόρρα"
          ],
          [
           "Ανδόρρα"
          ],
          [
           "Ανδόρρα"
          ],
          [
           "Ανδόρρα"
          ],
          [
           "Ανδόρρα"
          ],
          [
           "Ανδόρρα"
          ],
          [
           "Ανδόρρα"
          ],
          [
           "Ανδόρρα"
          ],
          [
           "Ανδόρρα"
          ],
          [
           "Ανδόρρα"
          ],
          [
           "Ανδόρρα"
          ]
         ],
         "hoverlabel": {
          "namelength": 0
         },
         "hovertemplate": "Χώρα=%{customdata[0]}<br>Αριθμός Κρουσμάτων=%{y}",
         "legendgroup": "Ανδόρρα",
         "line": {
          "color": "rgb(58, 60, 125)",
          "dash": "solid",
          "shape": "spline"
         },
         "mode": "lines",
         "name": "Ανδόρρα",
         "showlegend": true,
         "type": "scatter",
         "xaxis": "x",
         "y": [
          113,
          133,
          164,
          188,
          224,
          267,
          308,
          334,
          370,
          376,
          390,
          428
         ],
         "yaxis": "y"
        },
        {
         "customdata": [
          [
           "Αργεντινή"
          ],
          [
           "Αργεντινή"
          ],
          [
           "Αργεντινή"
          ],
          [
           "Αργεντινή"
          ],
          [
           "Αργεντινή"
          ],
          [
           "Αργεντινή"
          ],
          [
           "Αργεντινή"
          ],
          [
           "Αργεντινή"
          ],
          [
           "Αργεντινή"
          ],
          [
           "Αργεντινή"
          ],
          [
           "Αργεντινή"
          ],
          [
           "Αργεντινή"
          ],
          [
           "Αργεντινή"
          ],
          [
           "Αργεντινή"
          ]
         ],
         "hoverlabel": {
          "namelength": 0
         },
         "hovertemplate": "Χώρα=%{customdata[0]}<br>Αριθμός Κρουσμάτων=%{y}",
         "legendgroup": "Αργεντινή",
         "line": {
          "color": "rgb(62, 83, 160)",
          "dash": "solid",
          "shape": "spline"
         },
         "mode": "lines",
         "name": "Αργεντινή",
         "showlegend": true,
         "type": "scatter",
         "xaxis": "x",
         "y": [
          128,
          158,
          266,
          301,
          387,
          387,
          502,
          589,
          690,
          745,
          820,
          1054,
          1054,
          1133
         ],
         "yaxis": "y"
        },
        {
         "customdata": [
          [
           "Αρμενία"
          ],
          [
           "Αρμενία"
          ],
          [
           "Αρμενία"
          ],
          [
           "Αρμενία"
          ],
          [
           "Αρμενία"
          ],
          [
           "Αρμενία"
          ],
          [
           "Αρμενία"
          ],
          [
           "Αρμενία"
          ],
          [
           "Αρμενία"
          ],
          [
           "Αρμενία"
          ],
          [
           "Αρμενία"
          ],
          [
           "Αρμενία"
          ],
          [
           "Αρμενία"
          ],
          [
           "Αρμενία"
          ],
          [
           "Αρμενία"
          ]
         ],
         "hoverlabel": {
          "namelength": 0
         },
         "hovertemplate": "Χώρα=%{customdata[0]}<br>Αριθμός Κρουσμάτων=%{y}",
         "legendgroup": "Αρμενία",
         "line": {
          "color": "rgb(62, 109, 178)",
          "dash": "solid",
          "shape": "spline"
         },
         "mode": "lines",
         "name": "Αρμενία",
         "showlegend": true,
         "type": "scatter",
         "xaxis": "x",
         "y": [
          115,
          136,
          160,
          194,
          235,
          249,
          265,
          290,
          329,
          407,
          424,
          482,
          532,
          571,
          663
         ],
         "yaxis": "y"
        },
        {
         "customdata": [
          [
           "Αυστραλία"
          ],
          [
           "Αυστραλία"
          ],
          [
           "Αυστραλία"
          ],
          [
           "Αυστραλία"
          ],
          [
           "Αυστραλία"
          ],
          [
           "Αυστραλία"
          ],
          [
           "Αυστραλία"
          ],
          [
           "Αυστραλία"
          ],
          [
           "Αυστραλία"
          ],
          [
           "Αυστραλία"
          ],
          [
           "Αυστραλία"
          ],
          [
           "Αυστραλία"
          ],
          [
           "Αυστραλία"
          ],
          [
           "Αυστραλία"
          ],
          [
           "Αυστραλία"
          ],
          [
           "Αυστραλία"
          ],
          [
           "Αυστραλία"
          ],
          [
           "Αυστραλία"
          ],
          [
           "Αυστραλία"
          ],
          [
           "Αυστραλία"
          ],
          [
           "Αυστραλία"
          ],
          [
           "Αυστραλία"
          ],
          [
           "Αυστραλία"
          ],
          [
           "Αυστραλία"
          ]
         ],
         "hoverlabel": {
          "namelength": 0
         },
         "hovertemplate": "Χώρα=%{customdata[0]}<br>Αριθμός Κρουσμάτων=%{y}",
         "legendgroup": "Αυστραλία",
         "line": {
          "color": "rgb(72, 134, 187)",
          "dash": "solid",
          "shape": "spline"
         },
         "mode": "lines",
         "name": "Αυστραλία",
         "showlegend": true,
         "type": "scatter",
         "xaxis": "x",
         "y": [
          107,
          128,
          128,
          200,
          250,
          297,
          377,
          452,
          568,
          681,
          791,
          1071,
          1549,
          1682,
          2044,
          2364,
          2810,
          3143,
          3640,
          3984,
          4361,
          4559,
          4862,
          5116
         ],
         "yaxis": "y"
        },
        {
         "customdata": [
          [
           "Αυστρία"
          ],
          [
           "Αυστρία"
          ],
          [
           "Αυστρία"
          ],
          [
           "Αυστρία"
          ],
          [
           "Αυστρία"
          ],
          [
           "Αυστρία"
          ],
          [
           "Αυστρία"
          ],
          [
           "Αυστρία"
          ],
          [
           "Αυστρία"
          ],
          [
           "Αυστρία"
          ],
          [
           "Αυστρία"
          ],
          [
           "Αυστρία"
          ],
          [
           "Αυστρία"
          ],
          [
           "Αυστρία"
          ],
          [
           "Αυστρία"
          ],
          [
           "Αυστρία"
          ],
          [
           "Αυστρία"
          ],
          [
           "Αυστρία"
          ],
          [
           "Αυστρία"
          ],
          [
           "Αυστρία"
          ],
          [
           "Αυστρία"
          ],
          [
           "Αυστρία"
          ],
          [
           "Αυστρία"
          ],
          [
           "Αυστρία"
          ],
          [
           "Αυστρία"
          ],
          [
           "Αυστρία"
          ]
         ],
         "hoverlabel": {
          "namelength": 0
         },
         "hovertemplate": "Χώρα=%{customdata[0]}<br>Αριθμός Κρουσμάτων=%{y}",
         "legendgroup": "Αυστρία",
         "line": {
          "color": "rgb(89, 159, 196)",
          "dash": "solid",
          "shape": "spline"
         },
         "mode": "lines",
         "name": "Αυστρία",
         "showlegend": true,
         "type": "scatter",
         "xaxis": "x",
         "y": [
          104,
          131,
          182,
          246,
          302,
          504,
          655,
          860,
          1018,
          1332,
          1646,
          2013,
          2388,
          2814,
          3582,
          4474,
          5283,
          5588,
          6909,
          7657,
          8271,
          8788,
          9618,
          10180,
          10711,
          11129
         ],
         "yaxis": "y"
        },
        {
         "customdata": [
          [
           "Αζερμπαϊτζάν"
          ],
          [
           "Αζερμπαϊτζάν"
          ],
          [
           "Αζερμπαϊτζάν"
          ],
          [
           "Αζερμπαϊτζάν"
          ],
          [
           "Αζερμπαϊτζάν"
          ],
          [
           "Αζερμπαϊτζάν"
          ],
          [
           "Αζερμπαϊτζάν"
          ],
          [
           "Αζερμπαϊτζάν"
          ]
         ],
         "hoverlabel": {
          "namelength": 0
         },
         "hovertemplate": "Χώρα=%{customdata[0]}<br>Αριθμός Κρουσμάτων=%{y}",
         "legendgroup": "Αζερμπαϊτζάν",
         "line": {
          "color": "rgb(114, 184, 205)",
          "dash": "solid",
          "shape": "spline"
         },
         "mode": "lines",
         "name": "Αζερμπαϊτζάν",
         "showlegend": true,
         "type": "scatter",
         "xaxis": "x",
         "y": [
          122,
          165,
          182,
          209,
          273,
          298,
          359,
          400
         ],
         "yaxis": "y"
        },
        {
         "customdata": [
          [
           "Μπαχρέιν"
          ],
          [
           "Μπαχρέιν"
          ],
          [
           "Μπαχρέιν"
          ],
          [
           "Μπαχρέιν"
          ],
          [
           "Μπαχρέιν"
          ],
          [
           "Μπαχρέιν"
          ],
          [
           "Μπαχρέιν"
          ],
          [
           "Μπαχρέιν"
          ],
          [
           "Μπαχρέιν"
          ],
          [
           "Μπαχρέιν"
          ],
          [
           "Μπαχρέιν"
          ],
          [
           "Μπαχρέιν"
          ],
          [
           "Μπαχρέιν"
          ],
          [
           "Μπαχρέιν"
          ],
          [
           "Μπαχρέιν"
          ],
          [
           "Μπαχρέιν"
          ],
          [
           "Μπαχρέιν"
          ],
          [
           "Μπαχρέιν"
          ],
          [
           "Μπαχρέιν"
          ],
          [
           "Μπαχρέιν"
          ],
          [
           "Μπαχρέιν"
          ],
          [
           "Μπαχρέιν"
          ],
          [
           "Μπαχρέιν"
          ],
          [
           "Μπαχρέιν"
          ]
         ],
         "hoverlabel": {
          "namelength": 0
         },
         "hovertemplate": "Χώρα=%{customdata[0]}<br>Αριθμός Κρουσμάτων=%{y}",
         "legendgroup": "Μπαχρέιν",
         "line": {
          "color": "rgb(149, 207, 216)",
          "dash": "solid",
          "shape": "spline"
         },
         "mode": "lines",
         "name": "Μπαχρέιν",
         "showlegend": true,
         "type": "scatter",
         "xaxis": "x",
         "y": [
          110,
          195,
          195,
          195,
          210,
          214,
          214,
          228,
          256,
          278,
          285,
          305,
          334,
          377,
          392,
          419,
          458,
          466,
          476,
          499,
          515,
          567,
          569,
          643
         ],
         "yaxis": "y"
        },
        {
         "customdata": [
          [
           "Λευκορωσία"
          ],
          [
           "Λευκορωσία"
          ],
          [
           "Λευκορωσία"
          ],
          [
           "Λευκορωσία"
          ]
         ],
         "hoverlabel": {
          "namelength": 0
         },
         "hovertemplate": "Χώρα=%{customdata[0]}<br>Αριθμός Κρουσμάτων=%{y}",
         "legendgroup": "Λευκορωσία",
         "line": {
          "color": "rgb(192, 229, 232)",
          "dash": "solid",
          "shape": "spline"
         },
         "mode": "lines",
         "name": "Λευκορωσία",
         "showlegend": true,
         "type": "scatter",
         "xaxis": "x",
         "y": [
          152,
          152,
          163,
          304
         ],
         "yaxis": "y"
        },
        {
         "customdata": [
          [
           "Βέλγιο"
          ],
          [
           "Βέλγιο"
          ],
          [
           "Βέλγιο"
          ],
          [
           "Βέλγιο"
          ],
          [
           "Βέλγιο"
          ],
          [
           "Βέλγιο"
          ],
          [
           "Βέλγιο"
          ],
          [
           "Βέλγιο"
          ],
          [
           "Βέλγιο"
          ],
          [
           "Βέλγιο"
          ],
          [
           "Βέλγιο"
          ],
          [
           "Βέλγιο"
          ],
          [
           "Βέλγιο"
          ],
          [
           "Βέλγιο"
          ],
          [
           "Βέλγιο"
          ],
          [
           "Βέλγιο"
          ],
          [
           "Βέλγιο"
          ],
          [
           "Βέλγιο"
          ],
          [
           "Βέλγιο"
          ],
          [
           "Βέλγιο"
          ],
          [
           "Βέλγιο"
          ],
          [
           "Βέλγιο"
          ],
          [
           "Βέλγιο"
          ],
          [
           "Βέλγιο"
          ],
          [
           "Βέλγιο"
          ],
          [
           "Βέλγιο"
          ],
          [
           "Βέλγιο"
          ],
          [
           "Βέλγιο"
          ]
         ],
         "hoverlabel": {
          "namelength": 0
         },
         "hovertemplate": "Χώρα=%{customdata[0]}<br>Αριθμός Κρουσμάτων=%{y}",
         "legendgroup": "Βέλγιο",
         "line": {
          "color": "rgb(234, 252, 253)",
          "dash": "solid",
          "shape": "spline"
         },
         "mode": "lines",
         "name": "Βέλγιο",
         "showlegend": true,
         "type": "scatter",
         "xaxis": "x",
         "y": [
          109,
          169,
          200,
          239,
          267,
          314,
          314,
          559,
          689,
          886,
          1058,
          1243,
          1486,
          1795,
          2257,
          2815,
          3401,
          3743,
          4269,
          4937,
          6235,
          7284,
          9134,
          10836,
          11899,
          12775,
          13964,
          15348
         ],
         "yaxis": "y"
        },
        {
         "customdata": [
          [
           "Βολιβία"
          ],
          [
           "Βολιβία"
          ],
          [
           "Βολιβία"
          ]
         ],
         "hoverlabel": {
          "namelength": 0
         },
         "hovertemplate": "Χώρα=%{customdata[0]}<br>Αριθμός Κρουσμάτων=%{y}",
         "legendgroup": "Βολιβία",
         "line": {
          "color": "rgb(3, 5, 18)",
          "dash": "solid",
          "shape": "spline"
         },
         "mode": "lines",
         "name": "Βολιβία",
         "showlegend": true,
         "type": "scatter",
         "xaxis": "x",
         "y": [
          107,
          115,
          123
         ],
         "yaxis": "y"
        },
        {
         "customdata": [
          [
           "Βοσνία-Ερζεγοβίνη"
          ],
          [
           "Βοσνία-Ερζεγοβίνη"
          ],
          [
           "Βοσνία-Ερζεγοβίνη"
          ],
          [
           "Βοσνία-Ερζεγοβίνη"
          ],
          [
           "Βοσνία-Ερζεγοβίνη"
          ],
          [
           "Βοσνία-Ερζεγοβίνη"
          ],
          [
           "Βοσνία-Ερζεγοβίνη"
          ],
          [
           "Βοσνία-Ερζεγοβίνη"
          ],
          [
           "Βοσνία-Ερζεγοβίνη"
          ],
          [
           "Βοσνία-Ερζεγοβίνη"
          ],
          [
           "Βοσνία-Ερζεγοβίνη"
          ],
          [
           "Βοσνία-Ερζεγοβίνη"
          ]
         ],
         "hoverlabel": {
          "namelength": 0
         },
         "hovertemplate": "Χώρα=%{customdata[0]}<br>Αριθμός Κρουσμάτων=%{y}",
         "legendgroup": "Βοσνία-Ερζεγοβίνη",
         "line": {
          "color": "rgb(25, 25, 51)",
          "dash": "solid",
          "shape": "spline"
         },
         "mode": "lines",
         "name": "Βοσνία-Ερζεγοβίνη",
         "showlegend": true,
         "type": "scatter",
         "xaxis": "x",
         "y": [
          126,
          136,
          166,
          176,
          191,
          237,
          258,
          323,
          368,
          420,
          459,
          533
         ],
         "yaxis": "y"
        },
        {
         "customdata": [
          [
           "Βραζιλία"
          ],
          [
           "Βραζιλία"
          ],
          [
           "Βραζιλία"
          ],
          [
           "Βραζιλία"
          ],
          [
           "Βραζιλία"
          ],
          [
           "Βραζιλία"
          ],
          [
           "Βραζιλία"
          ],
          [
           "Βραζιλία"
          ],
          [
           "Βραζιλία"
          ],
          [
           "Βραζιλία"
          ],
          [
           "Βραζιλία"
          ],
          [
           "Βραζιλία"
          ],
          [
           "Βραζιλία"
          ],
          [
           "Βραζιλία"
          ],
          [
           "Βραζιλία"
          ],
          [
           "Βραζιλία"
          ],
          [
           "Βραζιλία"
          ],
          [
           "Βραζιλία"
          ],
          [
           "Βραζιλία"
          ],
          [
           "Βραζιλία"
          ],
          [
           "Βραζιλία"
          ]
         ],
         "hoverlabel": {
          "namelength": 0
         },
         "hovertemplate": "Χώρα=%{customdata[0]}<br>Αριθμός Κρουσμάτων=%{y}",
         "legendgroup": "Βραζιλία",
         "line": {
          "color": "rgb(44, 42, 87)",
          "dash": "solid",
          "shape": "spline"
         },
         "mode": "lines",
         "name": "Βραζιλία",
         "showlegend": true,
         "type": "scatter",
         "xaxis": "x",
         "y": [
          151,
          151,
          162,
          200,
          321,
          372,
          621,
          793,
          1021,
          1546,
          1924,
          2247,
          2554,
          2985,
          3417,
          3904,
          4256,
          4579,
          5717,
          6836,
          8044
         ],
         "yaxis": "y"
        },
        {
         "customdata": [
          [
           "Μπρουνέι"
          ],
          [
           "Μπρουνέι"
          ],
          [
           "Μπρουνέι"
          ],
          [
           "Μπρουνέι"
          ],
          [
           "Μπρουνέι"
          ],
          [
           "Μπρουνέι"
          ],
          [
           "Μπρουνέι"
          ],
          [
           "Μπρουνέι"
          ],
          [
           "Μπρουνέι"
          ],
          [
           "Μπρουνέι"
          ]
         ],
         "hoverlabel": {
          "namelength": 0
         },
         "hovertemplate": "Χώρα=%{customdata[0]}<br>Αριθμός Κρουσμάτων=%{y}",
         "legendgroup": "Μπρουνέι",
         "line": {
          "color": "rgb(58, 60, 125)",
          "dash": "solid",
          "shape": "spline"
         },
         "mode": "lines",
         "name": "Μπρουνέι",
         "showlegend": true,
         "type": "scatter",
         "xaxis": "x",
         "y": [
          104,
          109,
          114,
          115,
          120,
          126,
          127,
          129,
          131,
          133
         ],
         "yaxis": "y"
        },
        {
         "customdata": [
          [
           "Βουλγαρία"
          ],
          [
           "Βουλγαρία"
          ],
          [
           "Βουλγαρία"
          ],
          [
           "Βουλγαρία"
          ],
          [
           "Βουλγαρία"
          ],
          [
           "Βουλγαρία"
          ],
          [
           "Βουλγαρία"
          ],
          [
           "Βουλγαρία"
          ],
          [
           "Βουλγαρία"
          ],
          [
           "Βουλγαρία"
          ],
          [
           "Βουλγαρία"
          ],
          [
           "Βουλγαρία"
          ],
          [
           "Βουλγαρία"
          ],
          [
           "Βουλγαρία"
          ]
         ],
         "hoverlabel": {
          "namelength": 0
         },
         "hovertemplate": "Χώρα=%{customdata[0]}<br>Αριθμός Κρουσμάτων=%{y}",
         "legendgroup": "Βουλγαρία",
         "line": {
          "color": "rgb(62, 83, 160)",
          "dash": "solid",
          "shape": "spline"
         },
         "mode": "lines",
         "name": "Βουλγαρία",
         "showlegend": true,
         "type": "scatter",
         "xaxis": "x",
         "y": [
          127,
          163,
          187,
          201,
          218,
          242,
          264,
          293,
          331,
          346,
          359,
          399,
          422,
          457
         ],
         "yaxis": "y"
        },
        {
         "customdata": [
          [
           "Μπουρκίνα Φάσο"
          ],
          [
           "Μπουρκίνα Φάσο"
          ],
          [
           "Μπουρκίνα Φάσο"
          ],
          [
           "Μπουρκίνα Φάσο"
          ],
          [
           "Μπουρκίνα Φάσο"
          ],
          [
           "Μπουρκίνα Φάσο"
          ],
          [
           "Μπουρκίνα Φάσο"
          ],
          [
           "Μπουρκίνα Φάσο"
          ],
          [
           "Μπουρκίνα Φάσο"
          ],
          [
           "Μπουρκίνα Φάσο"
          ]
         ],
         "hoverlabel": {
          "namelength": 0
         },
         "hovertemplate": "Χώρα=%{customdata[0]}<br>Αριθμός Κρουσμάτων=%{y}",
         "legendgroup": "Μπουρκίνα Φάσο",
         "line": {
          "color": "rgb(62, 109, 178)",
          "dash": "solid",
          "shape": "spline"
         },
         "mode": "lines",
         "name": "Μπουρκίνα Φάσο",
         "showlegend": true,
         "type": "scatter",
         "xaxis": "x",
         "y": [
          114,
          146,
          152,
          180,
          207,
          222,
          246,
          261,
          282,
          288
         ],
         "yaxis": "y"
        },
        {
         "customdata": [
          [
           "Καμπότζη"
          ],
          [
           "Καμπότζη"
          ],
          [
           "Καμπότζη"
          ],
          [
           "Καμπότζη"
          ],
          [
           "Καμπότζη"
          ]
         ],
         "hoverlabel": {
          "namelength": 0
         },
         "hovertemplate": "Χώρα=%{customdata[0]}<br>Αριθμός Κρουσμάτων=%{y}",
         "legendgroup": "Καμπότζη",
         "line": {
          "color": "rgb(72, 134, 187)",
          "dash": "solid",
          "shape": "spline"
         },
         "mode": "lines",
         "name": "Καμπότζη",
         "showlegend": true,
         "type": "scatter",
         "xaxis": "x",
         "y": [
          103,
          107,
          109,
          109,
          110
         ],
         "yaxis": "y"
        },
        {
         "customdata": [
          [
           "Καμερούν"
          ],
          [
           "Καμερούν"
          ],
          [
           "Καμερούν"
          ],
          [
           "Καμερούν"
          ],
          [
           "Καμερούν"
          ]
         ],
         "hoverlabel": {
          "namelength": 0
         },
         "hovertemplate": "Χώρα=%{customdata[0]}<br>Αριθμός Κρουσμάτων=%{y}",
         "legendgroup": "Καμερούν",
         "line": {
          "color": "rgb(89, 159, 196)",
          "dash": "solid",
          "shape": "spline"
         },
         "mode": "lines",
         "name": "Καμερούν",
         "showlegend": true,
         "type": "scatter",
         "xaxis": "x",
         "y": [
          139,
          139,
          193,
          233,
          306
         ],
         "yaxis": "y"
        },
        {
         "customdata": [
          [
           "Καναδάς"
          ],
          [
           "Καναδάς"
          ],
          [
           "Καναδάς"
          ],
          [
           "Καναδάς"
          ],
          [
           "Καναδάς"
          ],
          [
           "Καναδάς"
          ],
          [
           "Καναδάς"
          ],
          [
           "Καναδάς"
          ],
          [
           "Καναδάς"
          ],
          [
           "Καναδάς"
          ],
          [
           "Καναδάς"
          ],
          [
           "Καναδάς"
          ],
          [
           "Καναδάς"
          ],
          [
           "Καναδάς"
          ],
          [
           "Καναδάς"
          ],
          [
           "Καναδάς"
          ],
          [
           "Καναδάς"
          ],
          [
           "Καναδάς"
          ],
          [
           "Καναδάς"
          ],
          [
           "Καναδάς"
          ],
          [
           "Καναδάς"
          ],
          [
           "Καναδάς"
          ],
          [
           "Καναδάς"
          ]
         ],
         "hoverlabel": {
          "namelength": 0
         },
         "hovertemplate": "Χώρα=%{customdata[0]}<br>Αριθμός Κρουσμάτων=%{y}",
         "legendgroup": "Καναδάς",
         "line": {
          "color": "rgb(114, 184, 205)",
          "dash": "solid",
          "shape": "spline"
         },
         "mode": "lines",
         "name": "Καναδάς",
         "showlegend": true,
         "type": "scatter",
         "xaxis": "x",
         "y": [
          108,
          117,
          193,
          198,
          252,
          415,
          478,
          657,
          800,
          943,
          1277,
          1469,
          2088,
          2790,
          3251,
          4042,
          4682,
          5576,
          6280,
          7398,
          8527,
          9560,
          11284
         ],
         "yaxis": "y"
        },
        {
         "customdata": [
          [
           "Χιλή"
          ],
          [
           "Χιλή"
          ],
          [
           "Χιλή"
          ],
          [
           "Χιλή"
          ],
          [
           "Χιλή"
          ],
          [
           "Χιλή"
          ],
          [
           "Χιλή"
          ],
          [
           "Χιλή"
          ],
          [
           "Χιλή"
          ],
          [
           "Χιλή"
          ],
          [
           "Χιλή"
          ],
          [
           "Χιλή"
          ],
          [
           "Χιλή"
          ],
          [
           "Χιλή"
          ],
          [
           "Χιλή"
          ],
          [
           "Χιλή"
          ],
          [
           "Χιλή"
          ],
          [
           "Χιλή"
          ]
         ],
         "hoverlabel": {
          "namelength": 0
         },
         "hovertemplate": "Χώρα=%{customdata[0]}<br>Αριθμός Κρουσμάτων=%{y}",
         "legendgroup": "Χιλή",
         "line": {
          "color": "rgb(149, 207, 216)",
          "dash": "solid",
          "shape": "spline"
         },
         "mode": "lines",
         "name": "Χιλή",
         "showlegend": true,
         "type": "scatter",
         "xaxis": "x",
         "y": [
          155,
          201,
          238,
          238,
          434,
          537,
          632,
          746,
          922,
          1142,
          1306,
          1610,
          1909,
          2139,
          2449,
          2738,
          3031,
          3404
         ],
         "yaxis": "y"
        },
        {
         "customdata": [
          [
           "Κολομβία"
          ],
          [
           "Κολομβία"
          ],
          [
           "Κολομβία"
          ],
          [
           "Κολομβία"
          ],
          [
           "Κολομβία"
          ],
          [
           "Κολομβία"
          ],
          [
           "Κολομβία"
          ],
          [
           "Κολομβία"
          ],
          [
           "Κολομβία"
          ],
          [
           "Κολομβία"
          ],
          [
           "Κολομβία"
          ],
          [
           "Κολομβία"
          ],
          [
           "Κολομβία"
          ],
          [
           "Κολομβία"
          ],
          [
           "Κολομβία"
          ]
         ],
         "hoverlabel": {
          "namelength": 0
         },
         "hovertemplate": "Χώρα=%{customdata[0]}<br>Αριθμός Κρουσμάτων=%{y}",
         "legendgroup": "Κολομβία",
         "line": {
          "color": "rgb(192, 229, 232)",
          "dash": "solid",
          "shape": "spline"
         },
         "mode": "lines",
         "name": "Κολομβία",
         "showlegend": true,
         "type": "scatter",
         "xaxis": "x",
         "y": [
          102,
          128,
          196,
          231,
          277,
          378,
          470,
          491,
          539,
          608,
          702,
          798,
          906,
          1065,
          1161
         ],
         "yaxis": "y"
        },
        {
         "customdata": [
          [
           "Λαϊκή Δημ/τία Κονγκό"
          ],
          [
           "Λαϊκή Δημ/τία Κονγκό"
          ]
         ],
         "hoverlabel": {
          "namelength": 0
         },
         "hovertemplate": "Χώρα=%{customdata[0]}<br>Αριθμός Κρουσμάτων=%{y}",
         "legendgroup": "Λαϊκή Δημ/τία Κονγκό",
         "line": {
          "color": "rgb(234, 252, 253)",
          "dash": "solid",
          "shape": "spline"
         },
         "mode": "lines",
         "name": "Λαϊκή Δημ/τία Κονγκό",
         "showlegend": true,
         "type": "scatter",
         "xaxis": "x",
         "y": [
          109,
          134
         ],
         "yaxis": "y"
        },
        {
         "customdata": [
          [
           "Κόστα Ρίκα"
          ],
          [
           "Κόστα Ρίκα"
          ],
          [
           "Κόστα Ρίκα"
          ],
          [
           "Κόστα Ρίκα"
          ],
          [
           "Κόστα Ρίκα"
          ],
          [
           "Κόστα Ρίκα"
          ],
          [
           "Κόστα Ρίκα"
          ],
          [
           "Κόστα Ρίκα"
          ],
          [
           "Κόστα Ρίκα"
          ],
          [
           "Κόστα Ρίκα"
          ],
          [
           "Κόστα Ρίκα"
          ],
          [
           "Κόστα Ρίκα"
          ],
          [
           "Κόστα Ρίκα"
          ]
         ],
         "hoverlabel": {
          "namelength": 0
         },
         "hovertemplate": "Χώρα=%{customdata[0]}<br>Αριθμός Κρουσμάτων=%{y}",
         "legendgroup": "Κόστα Ρίκα",
         "line": {
          "color": "rgb(3, 5, 18)",
          "dash": "solid",
          "shape": "spline"
         },
         "mode": "lines",
         "name": "Κόστα Ρίκα",
         "showlegend": true,
         "type": "scatter",
         "xaxis": "x",
         "y": [
          117,
          134,
          158,
          177,
          201,
          231,
          263,
          295,
          314,
          330,
          347,
          375,
          396
         ],
         "yaxis": "y"
        },
        {
         "customdata": [
          [
           "Ακτή Ελεφαντοστού"
          ],
          [
           "Ακτή Ελεφαντοστού"
          ],
          [
           "Ακτή Ελεφαντοστού"
          ],
          [
           "Ακτή Ελεφαντοστού"
          ],
          [
           "Ακτή Ελεφαντοστού"
          ],
          [
           "Ακτή Ελεφαντοστού"
          ],
          [
           "Ακτή Ελεφαντοστού"
          ]
         ],
         "hoverlabel": {
          "namelength": 0
         },
         "hovertemplate": "Χώρα=%{customdata[0]}<br>Αριθμός Κρουσμάτων=%{y}",
         "legendgroup": "Ακτή Ελεφαντοστού",
         "line": {
          "color": "rgb(25, 25, 51)",
          "dash": "solid",
          "shape": "spline"
         },
         "mode": "lines",
         "name": "Ακτή Ελεφαντοστού",
         "showlegend": true,
         "type": "scatter",
         "xaxis": "x",
         "y": [
          101,
          101,
          165,
          168,
          179,
          190,
          194
         ],
         "yaxis": "y"
        },
        {
         "customdata": [
          [
           "Κροατία"
          ],
          [
           "Κροατία"
          ],
          [
           "Κροατία"
          ],
          [
           "Κροατία"
          ],
          [
           "Κροατία"
          ],
          [
           "Κροατία"
          ],
          [
           "Κροατία"
          ],
          [
           "Κροατία"
          ],
          [
           "Κροατία"
          ],
          [
           "Κροατία"
          ],
          [
           "Κροατία"
          ],
          [
           "Κροατία"
          ],
          [
           "Κροατία"
          ],
          [
           "Κροατία"
          ],
          [
           "Κροατία"
          ]
         ],
         "hoverlabel": {
          "namelength": 0
         },
         "hovertemplate": "Χώρα=%{customdata[0]}<br>Αριθμός Κρουσμάτων=%{y}",
         "legendgroup": "Κροατία",
         "line": {
          "color": "rgb(44, 42, 87)",
          "dash": "solid",
          "shape": "spline"
         },
         "mode": "lines",
         "name": "Κροατία",
         "showlegend": true,
         "type": "scatter",
         "xaxis": "x",
         "y": [
          105,
          128,
          206,
          254,
          315,
          382,
          442,
          495,
          586,
          657,
          713,
          790,
          867,
          963,
          1011
         ],
         "yaxis": "y"
        },
        {
         "customdata": [
          [
           "Κούβα"
          ],
          [
           "Κούβα"
          ],
          [
           "Κούβα"
          ],
          [
           "Κούβα"
          ],
          [
           "Κούβα"
          ],
          [
           "Κούβα"
          ]
         ],
         "hoverlabel": {
          "namelength": 0
         },
         "hovertemplate": "Χώρα=%{customdata[0]}<br>Αριθμός Κρουσμάτων=%{y}",
         "legendgroup": "Κούβα",
         "line": {
          "color": "rgb(58, 60, 125)",
          "dash": "solid",
          "shape": "spline"
         },
         "mode": "lines",
         "name": "Κούβα",
         "showlegend": true,
         "type": "scatter",
         "xaxis": "x",
         "y": [
          119,
          139,
          170,
          186,
          212,
          233
         ],
         "yaxis": "y"
        },
        {
         "customdata": [
          [
           "Κύπρος"
          ],
          [
           "Κύπρος"
          ],
          [
           "Κύπρος"
          ],
          [
           "Κύπρος"
          ],
          [
           "Κύπρος"
          ],
          [
           "Κύπρος"
          ],
          [
           "Κύπρος"
          ],
          [
           "Κύπρος"
          ],
          [
           "Κύπρος"
          ],
          [
           "Κύπρος"
          ],
          [
           "Κύπρος"
          ]
         ],
         "hoverlabel": {
          "namelength": 0
         },
         "hovertemplate": "Χώρα=%{customdata[0]}<br>Αριθμός Κρουσμάτων=%{y}",
         "legendgroup": "Κύπρος",
         "line": {
          "color": "rgb(62, 83, 160)",
          "dash": "solid",
          "shape": "spline"
         },
         "mode": "lines",
         "name": "Κύπρος",
         "showlegend": true,
         "type": "scatter",
         "xaxis": "x",
         "y": [
          116,
          124,
          132,
          146,
          162,
          179,
          214,
          230,
          262,
          320,
          356
         ],
         "yaxis": "y"
        },
        {
         "customdata": [
          [
           "Τσεχία"
          ],
          [
           "Τσεχία"
          ],
          [
           "Τσεχία"
          ],
          [
           "Τσεχία"
          ],
          [
           "Τσεχία"
          ],
          [
           "Τσεχία"
          ],
          [
           "Τσεχία"
          ],
          [
           "Τσεχία"
          ],
          [
           "Τσεχία"
          ],
          [
           "Τσεχία"
          ],
          [
           "Τσεχία"
          ],
          [
           "Τσεχία"
          ],
          [
           "Τσεχία"
          ],
          [
           "Τσεχία"
          ],
          [
           "Τσεχία"
          ],
          [
           "Τσεχία"
          ],
          [
           "Τσεχία"
          ],
          [
           "Τσεχία"
          ],
          [
           "Τσεχία"
          ],
          [
           "Τσεχία"
          ],
          [
           "Τσεχία"
          ]
         ],
         "hoverlabel": {
          "namelength": 0
         },
         "hovertemplate": "Χώρα=%{customdata[0]}<br>Αριθμός Κρουσμάτων=%{y}",
         "legendgroup": "Τσεχία",
         "line": {
          "color": "rgb(62, 109, 178)",
          "dash": "solid",
          "shape": "spline"
         },
         "mode": "lines",
         "name": "Τσεχία",
         "showlegend": true,
         "type": "scatter",
         "xaxis": "x",
         "y": [
          141,
          189,
          253,
          298,
          396,
          464,
          694,
          833,
          995,
          1120,
          1236,
          1394,
          1654,
          1925,
          2279,
          2631,
          2817,
          3001,
          3308,
          3508,
          3858
         ],
         "yaxis": "y"
        },
        {
         "customdata": [
          [
           "Δανία"
          ],
          [
           "Δανία"
          ],
          [
           "Δανία"
          ],
          [
           "Δανία"
          ],
          [
           "Δανία"
          ],
          [
           "Δανία"
          ],
          [
           "Δανία"
          ],
          [
           "Δανία"
          ],
          [
           "Δανία"
          ],
          [
           "Δανία"
          ],
          [
           "Δανία"
          ],
          [
           "Δανία"
          ],
          [
           "Δανία"
          ],
          [
           "Δανία"
          ],
          [
           "Δανία"
          ],
          [
           "Δανία"
          ],
          [
           "Δανία"
          ],
          [
           "Δανία"
          ],
          [
           "Δανία"
          ],
          [
           "Δανία"
          ],
          [
           "Δανία"
          ],
          [
           "Δανία"
          ],
          [
           "Δανία"
          ],
          [
           "Δανία"
          ]
         ],
         "hoverlabel": {
          "namelength": 0
         },
         "hovertemplate": "Χώρα=%{customdata[0]}<br>Αριθμός Κρουσμάτων=%{y}",
         "legendgroup": "Δανία",
         "line": {
          "color": "rgb(72, 134, 187)",
          "dash": "solid",
          "shape": "spline"
         },
         "mode": "lines",
         "name": "Δανία",
         "showlegend": true,
         "type": "scatter",
         "xaxis": "x",
         "y": [
          264,
          444,
          617,
          804,
          836,
          875,
          933,
          1025,
          1116,
          1225,
          1337,
          1420,
          1514,
          1572,
          1718,
          1862,
          2023,
          2200,
          2366,
          2564,
          2755,
          3039,
          3290,
          3573
         ],
         "yaxis": "y"
        },
        {
         "customdata": [
          [
           "Δομινικανή Δημ/τία"
          ],
          [
           "Δομινικανή Δημ/τία"
          ],
          [
           "Δομινικανή Δημ/τία"
          ],
          [
           "Δομινικανή Δημ/τία"
          ],
          [
           "Δομινικανή Δημ/τία"
          ],
          [
           "Δομινικανή Δημ/τία"
          ],
          [
           "Δομινικανή Δημ/τία"
          ],
          [
           "Δομινικανή Δημ/τία"
          ],
          [
           "Δομινικανή Δημ/τία"
          ],
          [
           "Δομινικανή Δημ/τία"
          ],
          [
           "Δομινικανή Δημ/τία"
          ],
          [
           "Δομινικανή Δημ/τία"
          ],
          [
           "Δομινικανή Δημ/τία"
          ]
         ],
         "hoverlabel": {
          "namelength": 0
         },
         "hovertemplate": "Χώρα=%{customdata[0]}<br>Αριθμός Κρουσμάτων=%{y}",
         "legendgroup": "Δομινικανή Δημ/τία",
         "line": {
          "color": "rgb(89, 159, 196)",
          "dash": "solid",
          "shape": "spline"
         },
         "mode": "lines",
         "name": "Δομινικανή Δημ/τία",
         "showlegend": true,
         "type": "scatter",
         "xaxis": "x",
         "y": [
          112,
          202,
          245,
          312,
          392,
          488,
          581,
          719,
          859,
          901,
          1109,
          1284,
          1380
         ],
         "yaxis": "y"
        },
        {
         "customdata": [
          [
           "Ισημερινός"
          ],
          [
           "Ισημερινός"
          ],
          [
           "Ισημερινός"
          ],
          [
           "Ισημερινός"
          ],
          [
           "Ισημερινός"
          ],
          [
           "Ισημερινός"
          ],
          [
           "Ισημερινός"
          ],
          [
           "Ισημερινός"
          ],
          [
           "Ισημερινός"
          ],
          [
           "Ισημερινός"
          ],
          [
           "Ισημερινός"
          ],
          [
           "Ισημερινός"
          ],
          [
           "Ισημερινός"
          ],
          [
           "Ισημερινός"
          ],
          [
           "Ισημερινός"
          ],
          [
           "Ισημερινός"
          ]
         ],
         "hoverlabel": {
          "namelength": 0
         },
         "hovertemplate": "Χώρα=%{customdata[0]}<br>Αριθμός Κρουσμάτων=%{y}",
         "legendgroup": "Ισημερινός",
         "line": {
          "color": "rgb(114, 184, 205)",
          "dash": "solid",
          "shape": "spline"
         },
         "mode": "lines",
         "name": "Ισημερινός",
         "showlegend": true,
         "type": "scatter",
         "xaxis": "x",
         "y": [
          111,
          199,
          367,
          506,
          789,
          981,
          1082,
          1173,
          1403,
          1595,
          1823,
          1924,
          1962,
          2240,
          2748,
          3163
         ],
         "yaxis": "y"
        },
        {
         "customdata": [
          [
           "Αίγυπτος"
          ],
          [
           "Αίγυπτος"
          ],
          [
           "Αίγυπτος"
          ],
          [
           "Αίγυπτος"
          ],
          [
           "Αίγυπτος"
          ],
          [
           "Αίγυπτος"
          ],
          [
           "Αίγυπτος"
          ],
          [
           "Αίγυπτος"
          ],
          [
           "Αίγυπτος"
          ],
          [
           "Αίγυπτος"
          ],
          [
           "Αίγυπτος"
          ],
          [
           "Αίγυπτος"
          ],
          [
           "Αίγυπτος"
          ],
          [
           "Αίγυπτος"
          ],
          [
           "Αίγυπτος"
          ],
          [
           "Αίγυπτος"
          ],
          [
           "Αίγυπτος"
          ],
          [
           "Αίγυπτος"
          ],
          [
           "Αίγυπτος"
          ],
          [
           "Αίγυπτος"
          ]
         ],
         "hoverlabel": {
          "namelength": 0
         },
         "hovertemplate": "Χώρα=%{customdata[0]}<br>Αριθμός Κρουσμάτων=%{y}",
         "legendgroup": "Αίγυπτος",
         "line": {
          "color": "rgb(149, 207, 216)",
          "dash": "solid",
          "shape": "spline"
         },
         "mode": "lines",
         "name": "Αίγυπτος",
         "showlegend": true,
         "type": "scatter",
         "xaxis": "x",
         "y": [
          109,
          110,
          150,
          196,
          196,
          256,
          285,
          294,
          327,
          366,
          402,
          456,
          495,
          536,
          576,
          609,
          656,
          710,
          779,
          865
         ],
         "yaxis": "y"
        },
        {
         "customdata": [
          [
           "Εσθονία"
          ],
          [
           "Εσθονία"
          ],
          [
           "Εσθονία"
          ],
          [
           "Εσθονία"
          ],
          [
           "Εσθονία"
          ],
          [
           "Εσθονία"
          ],
          [
           "Εσθονία"
          ],
          [
           "Εσθονία"
          ],
          [
           "Εσθονία"
          ],
          [
           "Εσθονία"
          ],
          [
           "Εσθονία"
          ],
          [
           "Εσθονία"
          ],
          [
           "Εσθονία"
          ],
          [
           "Εσθονία"
          ],
          [
           "Εσθονία"
          ],
          [
           "Εσθονία"
          ],
          [
           "Εσθονία"
          ],
          [
           "Εσθονία"
          ],
          [
           "Εσθονία"
          ],
          [
           "Εσθονία"
          ]
         ],
         "hoverlabel": {
          "namelength": 0
         },
         "hovertemplate": "Χώρα=%{customdata[0]}<br>Αριθμός Κρουσμάτων=%{y}",
         "legendgroup": "Εσθονία",
         "line": {
          "color": "rgb(192, 229, 232)",
          "dash": "solid",
          "shape": "spline"
         },
         "mode": "lines",
         "name": "Εσθονία",
         "showlegend": true,
         "type": "scatter",
         "xaxis": "x",
         "y": [
          115,
          171,
          205,
          225,
          258,
          267,
          283,
          306,
          326,
          352,
          369,
          404,
          538,
          575,
          645,
          679,
          715,
          745,
          779,
          858
         ],
         "yaxis": "y"
        },
        {
         "customdata": [
          [
           "Φινλανδία"
          ],
          [
           "Φινλανδία"
          ],
          [
           "Φινλανδία"
          ],
          [
           "Φινλανδία"
          ],
          [
           "Φινλανδία"
          ],
          [
           "Φινλανδία"
          ],
          [
           "Φινλανδία"
          ],
          [
           "Φινλανδία"
          ],
          [
           "Φινλανδία"
          ],
          [
           "Φινλανδία"
          ],
          [
           "Φινλανδία"
          ],
          [
           "Φινλανδία"
          ],
          [
           "Φινλανδία"
          ],
          [
           "Φινλανδία"
          ],
          [
           "Φινλανδία"
          ],
          [
           "Φινλανδία"
          ],
          [
           "Φινλανδία"
          ],
          [
           "Φινλανδία"
          ],
          [
           "Φινλανδία"
          ],
          [
           "Φινλανδία"
          ],
          [
           "Φινλανδία"
          ]
         ],
         "hoverlabel": {
          "namelength": 0
         },
         "hovertemplate": "Χώρα=%{customdata[0]}<br>Αριθμός Κρουσμάτων=%{y}",
         "legendgroup": "Φινλανδία",
         "line": {
          "color": "rgb(234, 252, 253)",
          "dash": "solid",
          "shape": "spline"
         },
         "mode": "lines",
         "name": "Φινλανδία",
         "showlegend": true,
         "type": "scatter",
         "xaxis": "x",
         "y": [
          155,
          225,
          244,
          277,
          321,
          336,
          400,
          450,
          523,
          626,
          700,
          792,
          880,
          958,
          1041,
          1167,
          1240,
          1352,
          1418,
          1446,
          1518
         ],
         "yaxis": "y"
        },
        {
         "customdata": [
          [
           "Γαλλία"
          ],
          [
           "Γαλλία"
          ],
          [
           "Γαλλία"
          ],
          [
           "Γαλλία"
          ],
          [
           "Γαλλία"
          ],
          [
           "Γαλλία"
          ],
          [
           "Γαλλία"
          ],
          [
           "Γαλλία"
          ],
          [
           "Γαλλία"
          ],
          [
           "Γαλλία"
          ],
          [
           "Γαλλία"
          ],
          [
           "Γαλλία"
          ],
          [
           "Γαλλία"
          ],
          [
           "Γαλλία"
          ],
          [
           "Γαλλία"
          ],
          [
           "Γαλλία"
          ],
          [
           "Γαλλία"
          ],
          [
           "Γαλλία"
          ],
          [
           "Γαλλία"
          ],
          [
           "Γαλλία"
          ],
          [
           "Γαλλία"
          ],
          [
           "Γαλλία"
          ],
          [
           "Γαλλία"
          ],
          [
           "Γαλλία"
          ],
          [
           "Γαλλία"
          ],
          [
           "Γαλλία"
          ],
          [
           "Γαλλία"
          ],
          [
           "Γαλλία"
          ],
          [
           "Γαλλία"
          ],
          [
           "Γαλλία"
          ],
          [
           "Γαλλία"
          ],
          [
           "Γαλλία"
          ],
          [
           "Γαλλία"
          ],
          [
           "Γαλλία"
          ]
         ],
         "hoverlabel": {
          "namelength": 0
         },
         "hovertemplate": "Χώρα=%{customdata[0]}<br>Αριθμός Κρουσμάτων=%{y}",
         "legendgroup": "Γαλλία",
         "line": {
          "color": "rgb(3, 5, 18)",
          "dash": "solid",
          "shape": "spline"
         },
         "mode": "lines",
         "name": "Γαλλία",
         "showlegend": true,
         "type": "scatter",
         "xaxis": "x",
         "y": [
          100,
          130,
          191,
          204,
          288,
          380,
          656,
          959,
          1136,
          1219,
          1794,
          2293,
          2293,
          3681,
          4496,
          4532,
          6683,
          7715,
          9124,
          10970,
          12758,
          14463,
          16243,
          20123,
          22622,
          25600,
          29551,
          33402,
          38105,
          40708,
          45170,
          52827,
          57749,
          59929
         ],
         "yaxis": "y"
        },
        {
         "customdata": [
          [
           "Γεωργία"
          ],
          [
           "Γεωργία"
          ],
          [
           "Γεωργία"
          ],
          [
           "Γεωργία"
          ]
         ],
         "hoverlabel": {
          "namelength": 0
         },
         "hovertemplate": "Χώρα=%{customdata[0]}<br>Αριθμός Κρουσμάτων=%{y}",
         "legendgroup": "Γεωργία",
         "line": {
          "color": "rgb(25, 25, 51)",
          "dash": "solid",
          "shape": "spline"
         },
         "mode": "lines",
         "name": "Γεωργία",
         "showlegend": true,
         "type": "scatter",
         "xaxis": "x",
         "y": [
          103,
          110,
          117,
          134
         ],
         "yaxis": "y"
        },
        {
         "customdata": [
          [
           "Γερμανία"
          ],
          [
           "Γερμανία"
          ],
          [
           "Γερμανία"
          ],
          [
           "Γερμανία"
          ],
          [
           "Γερμανία"
          ],
          [
           "Γερμανία"
          ],
          [
           "Γερμανία"
          ],
          [
           "Γερμανία"
          ],
          [
           "Γερμανία"
          ],
          [
           "Γερμανία"
          ],
          [
           "Γερμανία"
          ],
          [
           "Γερμανία"
          ],
          [
           "Γερμανία"
          ],
          [
           "Γερμανία"
          ],
          [
           "Γερμανία"
          ],
          [
           "Γερμανία"
          ],
          [
           "Γερμανία"
          ],
          [
           "Γερμανία"
          ],
          [
           "Γερμανία"
          ],
          [
           "Γερμανία"
          ],
          [
           "Γερμανία"
          ],
          [
           "Γερμανία"
          ],
          [
           "Γερμανία"
          ],
          [
           "Γερμανία"
          ],
          [
           "Γερμανία"
          ],
          [
           "Γερμανία"
          ],
          [
           "Γερμανία"
          ],
          [
           "Γερμανία"
          ],
          [
           "Γερμανία"
          ],
          [
           "Γερμανία"
          ],
          [
           "Γερμανία"
          ],
          [
           "Γερμανία"
          ],
          [
           "Γερμανία"
          ]
         ],
         "hoverlabel": {
          "namelength": 0
         },
         "hovertemplate": "Χώρα=%{customdata[0]}<br>Αριθμός Κρουσμάτων=%{y}",
         "legendgroup": "Γερμανία",
         "line": {
          "color": "rgb(44, 42, 87)",
          "dash": "solid",
          "shape": "spline"
         },
         "mode": "lines",
         "name": "Γερμανία",
         "showlegend": true,
         "type": "scatter",
         "xaxis": "x",
         "y": [
          130,
          159,
          196,
          262,
          482,
          670,
          799,
          1040,
          1176,
          1457,
          1908,
          2078,
          3675,
          4585,
          5795,
          7272,
          9257,
          12327,
          15320,
          19848,
          22213,
          24873,
          29056,
          32986,
          37323,
          43938,
          50871,
          57695,
          62095,
          66885,
          71808,
          77872,
          84794
         ],
         "yaxis": "y"
        },
        {
         "customdata": [
          [
           "Γκάνα"
          ],
          [
           "Γκάνα"
          ],
          [
           "Γκάνα"
          ],
          [
           "Γκάνα"
          ],
          [
           "Γκάνα"
          ],
          [
           "Γκάνα"
          ],
          [
           "Γκάνα"
          ],
          [
           "Γκάνα"
          ]
         ],
         "hoverlabel": {
          "namelength": 0
         },
         "hovertemplate": "Χώρα=%{customdata[0]}<br>Αριθμός Κρουσμάτων=%{y}",
         "legendgroup": "Γκάνα",
         "line": {
          "color": "rgb(58, 60, 125)",
          "dash": "solid",
          "shape": "spline"
         },
         "mode": "lines",
         "name": "Γκάνα",
         "showlegend": true,
         "type": "scatter",
         "xaxis": "x",
         "y": [
          132,
          137,
          141,
          152,
          152,
          161,
          195,
          204
         ],
         "yaxis": "y"
        },
        {
         "customdata": [
          [
           "Ελλάδα"
          ],
          [
           "Ελλάδα"
          ],
          [
           "Ελλάδα"
          ],
          [
           "Ελλάδα"
          ],
          [
           "Ελλάδα"
          ],
          [
           "Ελλάδα"
          ],
          [
           "Ελλάδα"
          ],
          [
           "Ελλάδα"
          ],
          [
           "Ελλάδα"
          ],
          [
           "Ελλάδα"
          ],
          [
           "Ελλάδα"
          ],
          [
           "Ελλάδα"
          ],
          [
           "Ελλάδα"
          ],
          [
           "Ελλάδα"
          ],
          [
           "Ελλάδα"
          ],
          [
           "Ελλάδα"
          ],
          [
           "Ελλάδα"
          ],
          [
           "Ελλάδα"
          ],
          [
           "Ελλάδα"
          ],
          [
           "Ελλάδα"
          ],
          [
           "Ελλάδα"
          ]
         ],
         "hoverlabel": {
          "namelength": 0
         },
         "hovertemplate": "Χώρα=%{customdata[0]}<br>Αριθμός Κρουσμάτων=%{y}",
         "legendgroup": "Ελλάδα",
         "line": {
          "color": "rgb(62, 83, 160)",
          "dash": "solid",
          "shape": "spline"
         },
         "mode": "lines",
         "name": "Ελλάδα",
         "showlegend": true,
         "type": "scatter",
         "xaxis": "x",
         "y": [
          190,
          228,
          331,
          331,
          387,
          418,
          418,
          495,
          530,
          624,
          695,
          743,
          821,
          892,
          966,
          1061,
          1156,
          1212,
          1314,
          1415,
          1544
         ],
         "yaxis": "y"
        },
        {
         "customdata": [
          [
           "Ονδούρα"
          ],
          [
           "Ονδούρα"
          ],
          [
           "Ονδούρα"
          ],
          [
           "Ονδούρα"
          ],
          [
           "Ονδούρα"
          ]
         ],
         "hoverlabel": {
          "namelength": 0
         },
         "hovertemplate": "Χώρα=%{customdata[0]}<br>Αριθμός Κρουσμάτων=%{y}",
         "legendgroup": "Ονδούρα",
         "line": {
          "color": "rgb(62, 109, 178)",
          "dash": "solid",
          "shape": "spline"
         },
         "mode": "lines",
         "name": "Ονδούρα",
         "showlegend": true,
         "type": "scatter",
         "xaxis": "x",
         "y": [
          110,
          139,
          141,
          172,
          219
         ],
         "yaxis": "y"
        },
        {
         "customdata": [
          [
           "Ουγγαρία"
          ],
          [
           "Ουγγαρία"
          ],
          [
           "Ουγγαρία"
          ],
          [
           "Ουγγαρία"
          ],
          [
           "Ουγγαρία"
          ],
          [
           "Ουγγαρία"
          ],
          [
           "Ουγγαρία"
          ],
          [
           "Ουγγαρία"
          ],
          [
           "Ουγγαρία"
          ],
          [
           "Ουγγαρία"
          ],
          [
           "Ουγγαρία"
          ],
          [
           "Ουγγαρία"
          ],
          [
           "Ουγγαρία"
          ]
         ],
         "hoverlabel": {
          "namelength": 0
         },
         "hovertemplate": "Χώρα=%{customdata[0]}<br>Αριθμός Κρουσμάτων=%{y}",
         "legendgroup": "Ουγγαρία",
         "line": {
          "color": "rgb(72, 134, 187)",
          "dash": "solid",
          "shape": "spline"
         },
         "mode": "lines",
         "name": "Ουγγαρία",
         "showlegend": true,
         "type": "scatter",
         "xaxis": "x",
         "y": [
          103,
          131,
          167,
          187,
          226,
          261,
          300,
          343,
          408,
          447,
          492,
          525,
          585
         ],
         "yaxis": "y"
        },
        {
         "customdata": [
          [
           "Ισλανδία"
          ],
          [
           "Ισλανδία"
          ],
          [
           "Ισλανδία"
          ],
          [
           "Ισλανδία"
          ],
          [
           "Ισλανδία"
          ],
          [
           "Ισλανδία"
          ],
          [
           "Ισλανδία"
          ],
          [
           "Ισλανδία"
          ],
          [
           "Ισλανδία"
          ],
          [
           "Ισλανδία"
          ],
          [
           "Ισλανδία"
          ],
          [
           "Ισλανδία"
          ],
          [
           "Ισλανδία"
          ],
          [
           "Ισλανδία"
          ],
          [
           "Ισλανδία"
          ],
          [
           "Ισλανδία"
          ],
          [
           "Ισλανδία"
          ],
          [
           "Ισλανδία"
          ],
          [
           "Ισλανδία"
          ],
          [
           "Ισλανδία"
          ],
          [
           "Ισλανδία"
          ],
          [
           "Ισλανδία"
          ]
         ],
         "hoverlabel": {
          "namelength": 0
         },
         "hovertemplate": "Χώρα=%{customdata[0]}<br>Αριθμός Κρουσμάτων=%{y}",
         "legendgroup": "Ισλανδία",
         "line": {
          "color": "rgb(89, 159, 196)",
          "dash": "solid",
          "shape": "spline"
         },
         "mode": "lines",
         "name": "Ισλανδία",
         "showlegend": true,
         "type": "scatter",
         "xaxis": "x",
         "y": [
          103,
          134,
          156,
          171,
          180,
          220,
          250,
          330,
          409,
          473,
          568,
          588,
          648,
          737,
          802,
          890,
          963,
          1020,
          1086,
          1135,
          1220,
          1319
         ],
         "yaxis": "y"
        },
        {
         "customdata": [
          [
           "Ινδία"
          ],
          [
           "Ινδία"
          ],
          [
           "Ινδία"
          ],
          [
           "Ινδία"
          ],
          [
           "Ινδία"
          ],
          [
           "Ινδία"
          ],
          [
           "Ινδία"
          ],
          [
           "Ινδία"
          ],
          [
           "Ινδία"
          ],
          [
           "Ινδία"
          ],
          [
           "Ινδία"
          ],
          [
           "Ινδία"
          ],
          [
           "Ινδία"
          ],
          [
           "Ινδία"
          ],
          [
           "Ινδία"
          ],
          [
           "Ινδία"
          ],
          [
           "Ινδία"
          ],
          [
           "Ινδία"
          ],
          [
           "Ινδία"
          ],
          [
           "Ινδία"
          ]
         ],
         "hoverlabel": {
          "namelength": 0
         },
         "hovertemplate": "Χώρα=%{customdata[0]}<br>Αριθμός Κρουσμάτων=%{y}",
         "legendgroup": "Ινδία",
         "line": {
          "color": "rgb(114, 184, 205)",
          "dash": "solid",
          "shape": "spline"
         },
         "mode": "lines",
         "name": "Ινδία",
         "showlegend": true,
         "type": "scatter",
         "xaxis": "x",
         "y": [
          102,
          113,
          119,
          142,
          156,
          194,
          244,
          330,
          396,
          499,
          536,
          657,
          727,
          887,
          987,
          1024,
          1251,
          1397,
          1998,
          2543
         ],
         "yaxis": "y"
        },
        {
         "customdata": [
          [
           "Ινδονησία"
          ],
          [
           "Ινδονησία"
          ],
          [
           "Ινδονησία"
          ],
          [
           "Ινδονησία"
          ],
          [
           "Ινδονησία"
          ],
          [
           "Ινδονησία"
          ],
          [
           "Ινδονησία"
          ],
          [
           "Ινδονησία"
          ],
          [
           "Ινδονησία"
          ],
          [
           "Ινδονησία"
          ],
          [
           "Ινδονησία"
          ],
          [
           "Ινδονησία"
          ],
          [
           "Ινδονησία"
          ],
          [
           "Ινδονησία"
          ],
          [
           "Ινδονησία"
          ],
          [
           "Ινδονησία"
          ],
          [
           "Ινδονησία"
          ],
          [
           "Ινδονησία"
          ],
          [
           "Ινδονησία"
          ]
         ],
         "hoverlabel": {
          "namelength": 0
         },
         "hovertemplate": "Χώρα=%{customdata[0]}<br>Αριθμός Κρουσμάτων=%{y}",
         "legendgroup": "Ινδονησία",
         "line": {
          "color": "rgb(149, 207, 216)",
          "dash": "solid",
          "shape": "spline"
         },
         "mode": "lines",
         "name": "Ινδονησία",
         "showlegend": true,
         "type": "scatter",
         "xaxis": "x",
         "y": [
          117,
          134,
          172,
          227,
          311,
          369,
          450,
          514,
          579,
          686,
          790,
          893,
          1046,
          1155,
          1285,
          1414,
          1528,
          1677,
          1790
         ],
         "yaxis": "y"
        },
        {
         "customdata": [
          [
           "Ιράν"
          ],
          [
           "Ιράν"
          ],
          [
           "Ιράν"
          ],
          [
           "Ιράν"
          ],
          [
           "Ιράν"
          ],
          [
           "Ιράν"
          ],
          [
           "Ιράν"
          ],
          [
           "Ιράν"
          ],
          [
           "Ιράν"
          ],
          [
           "Ιράν"
          ],
          [
           "Ιράν"
          ],
          [
           "Ιράν"
          ],
          [
           "Ιράν"
          ],
          [
           "Ιράν"
          ],
          [
           "Ιράν"
          ],
          [
           "Ιράν"
          ],
          [
           "Ιράν"
          ],
          [
           "Ιράν"
          ],
          [
           "Ιράν"
          ],
          [
           "Ιράν"
          ],
          [
           "Ιράν"
          ],
          [
           "Ιράν"
          ],
          [
           "Ιράν"
          ],
          [
           "Ιράν"
          ],
          [
           "Ιράν"
          ],
          [
           "Ιράν"
          ],
          [
           "Ιράν"
          ],
          [
           "Ιράν"
          ],
          [
           "Ιράν"
          ],
          [
           "Ιράν"
          ],
          [
           "Ιράν"
          ],
          [
           "Ιράν"
          ],
          [
           "Ιράν"
          ],
          [
           "Ιράν"
          ],
          [
           "Ιράν"
          ],
          [
           "Ιράν"
          ],
          [
           "Ιράν"
          ]
         ],
         "hoverlabel": {
          "namelength": 0
         },
         "hovertemplate": "Χώρα=%{customdata[0]}<br>Αριθμός Κρουσμάτων=%{y}",
         "legendgroup": "Ιράν",
         "line": {
          "color": "rgb(192, 229, 232)",
          "dash": "solid",
          "shape": "spline"
         },
         "mode": "lines",
         "name": "Ιράν",
         "showlegend": true,
         "type": "scatter",
         "xaxis": "x",
         "y": [
          139,
          245,
          388,
          593,
          978,
          1501,
          2336,
          2922,
          3513,
          4747,
          5823,
          6566,
          7161,
          8042,
          9000,
          10075,
          11364,
          12729,
          13938,
          14991,
          16169,
          17361,
          18407,
          19644,
          20610,
          21638,
          23049,
          24811,
          27017,
          29406,
          32332,
          35408,
          38309,
          41495,
          44605,
          47593,
          50468
         ],
         "yaxis": "y"
        },
        {
         "customdata": [
          [
           "Ιράκ"
          ],
          [
           "Ιράκ"
          ],
          [
           "Ιράκ"
          ],
          [
           "Ιράκ"
          ],
          [
           "Ιράκ"
          ],
          [
           "Ιράκ"
          ],
          [
           "Ιράκ"
          ],
          [
           "Ιράκ"
          ],
          [
           "Ιράκ"
          ],
          [
           "Ιράκ"
          ],
          [
           "Ιράκ"
          ],
          [
           "Ιράκ"
          ],
          [
           "Ιράκ"
          ],
          [
           "Ιράκ"
          ],
          [
           "Ιράκ"
          ],
          [
           "Ιράκ"
          ],
          [
           "Ιράκ"
          ],
          [
           "Ιράκ"
          ],
          [
           "Ιράκ"
          ],
          [
           "Ιράκ"
          ],
          [
           "Ιράκ"
          ]
         ],
         "hoverlabel": {
          "namelength": 0
         },
         "hovertemplate": "Χώρα=%{customdata[0]}<br>Αριθμός Κρουσμάτων=%{y}",
         "legendgroup": "Ιράκ",
         "line": {
          "color": "rgb(234, 252, 253)",
          "dash": "solid",
          "shape": "spline"
         },
         "mode": "lines",
         "name": "Ιράκ",
         "showlegend": true,
         "type": "scatter",
         "xaxis": "x",
         "y": [
          101,
          110,
          116,
          124,
          154,
          164,
          192,
          208,
          214,
          233,
          266,
          316,
          346,
          382,
          458,
          506,
          547,
          630,
          694,
          728,
          772
         ],
         "yaxis": "y"
        },
        {
         "customdata": [
          [
           "Ιρλανδία"
          ],
          [
           "Ιρλανδία"
          ],
          [
           "Ιρλανδία"
          ],
          [
           "Ιρλανδία"
          ],
          [
           "Ιρλανδία"
          ],
          [
           "Ιρλανδία"
          ],
          [
           "Ιρλανδία"
          ],
          [
           "Ιρλανδία"
          ],
          [
           "Ιρλανδία"
          ],
          [
           "Ιρλανδία"
          ],
          [
           "Ιρλανδία"
          ],
          [
           "Ιρλανδία"
          ],
          [
           "Ιρλανδία"
          ],
          [
           "Ιρλανδία"
          ],
          [
           "Ιρλανδία"
          ],
          [
           "Ιρλανδία"
          ],
          [
           "Ιρλανδία"
          ],
          [
           "Ιρλανδία"
          ],
          [
           "Ιρλανδία"
          ],
          [
           "Ιρλανδία"
          ]
         ],
         "hoverlabel": {
          "namelength": 0
         },
         "hovertemplate": "Χώρα=%{customdata[0]}<br>Αριθμός Κρουσμάτων=%{y}",
         "legendgroup": "Ιρλανδία",
         "line": {
          "color": "rgb(3, 5, 18)",
          "dash": "solid",
          "shape": "spline"
         },
         "mode": "lines",
         "name": "Ιρλανδία",
         "showlegend": true,
         "type": "scatter",
         "xaxis": "x",
         "y": [
          129,
          129,
          169,
          223,
          292,
          557,
          683,
          785,
          906,
          1125,
          1329,
          1564,
          1819,
          2121,
          2415,
          2615,
          2910,
          3235,
          3447,
          3849
         ],
         "yaxis": "y"
        },
        {
         "customdata": [
          [
           "Ισραήλ"
          ],
          [
           "Ισραήλ"
          ],
          [
           "Ισραήλ"
          ],
          [
           "Ισραήλ"
          ],
          [
           "Ισραήλ"
          ],
          [
           "Ισραήλ"
          ],
          [
           "Ισραήλ"
          ],
          [
           "Ισραήλ"
          ],
          [
           "Ισραήλ"
          ],
          [
           "Ισραήλ"
          ],
          [
           "Ισραήλ"
          ],
          [
           "Ισραήλ"
          ],
          [
           "Ισραήλ"
          ],
          [
           "Ισραήλ"
          ],
          [
           "Ισραήλ"
          ],
          [
           "Ισραήλ"
          ],
          [
           "Ισραήλ"
          ],
          [
           "Ισραήλ"
          ],
          [
           "Ισραήλ"
          ],
          [
           "Ισραήλ"
          ],
          [
           "Ισραήλ"
          ],
          [
           "Ισραήλ"
          ]
         ],
         "hoverlabel": {
          "namelength": 0
         },
         "hovertemplate": "Χώρα=%{customdata[0]}<br>Αριθμός Κρουσμάτων=%{y}",
         "legendgroup": "Ισραήλ",
         "line": {
          "color": "rgb(25, 25, 51)",
          "dash": "solid",
          "shape": "spline"
         },
         "mode": "lines",
         "name": "Ισραήλ",
         "showlegend": true,
         "type": "scatter",
         "xaxis": "x",
         "y": [
          100,
          126,
          155,
          213,
          218,
          250,
          304,
          427,
          529,
          712,
          883,
          1071,
          1238,
          2369,
          2693,
          3035,
          3619,
          4247,
          4695,
          5358,
          6092,
          6857
         ],
         "yaxis": "y"
        },
        {
         "customdata": [
          [
           "Ιταλία"
          ],
          [
           "Ιταλία"
          ],
          [
           "Ιταλία"
          ],
          [
           "Ιταλία"
          ],
          [
           "Ιταλία"
          ],
          [
           "Ιταλία"
          ],
          [
           "Ιταλία"
          ],
          [
           "Ιταλία"
          ],
          [
           "Ιταλία"
          ],
          [
           "Ιταλία"
          ],
          [
           "Ιταλία"
          ],
          [
           "Ιταλία"
          ],
          [
           "Ιταλία"
          ],
          [
           "Ιταλία"
          ],
          [
           "Ιταλία"
          ],
          [
           "Ιταλία"
          ],
          [
           "Ιταλία"
          ],
          [
           "Ιταλία"
          ],
          [
           "Ιταλία"
          ],
          [
           "Ιταλία"
          ],
          [
           "Ιταλία"
          ],
          [
           "Ιταλία"
          ],
          [
           "Ιταλία"
          ],
          [
           "Ιταλία"
          ],
          [
           "Ιταλία"
          ],
          [
           "Ιταλία"
          ],
          [
           "Ιταλία"
          ],
          [
           "Ιταλία"
          ],
          [
           "Ιταλία"
          ],
          [
           "Ιταλία"
          ],
          [
           "Ιταλία"
          ],
          [
           "Ιταλία"
          ],
          [
           "Ιταλία"
          ],
          [
           "Ιταλία"
          ],
          [
           "Ιταλία"
          ],
          [
           "Ιταλία"
          ],
          [
           "Ιταλία"
          ],
          [
           "Ιταλία"
          ],
          [
           "Ιταλία"
          ],
          [
           "Ιταλία"
          ]
         ],
         "hoverlabel": {
          "namelength": 0
         },
         "hovertemplate": "Χώρα=%{customdata[0]}<br>Αριθμός Κρουσμάτων=%{y}",
         "legendgroup": "Ιταλία",
         "line": {
          "color": "rgb(44, 42, 87)",
          "dash": "solid",
          "shape": "spline"
         },
         "mode": "lines",
         "name": "Ιταλία",
         "showlegend": true,
         "type": "scatter",
         "xaxis": "x",
         "y": [
          155,
          229,
          322,
          453,
          655,
          888,
          1128,
          1694,
          2036,
          2502,
          3089,
          3858,
          4636,
          5883,
          7375,
          9172,
          10149,
          12462,
          12462,
          17660,
          21157,
          24747,
          27980,
          31506,
          35713,
          41035,
          47021,
          53578,
          59138,
          63927,
          69176,
          74386,
          80589,
          86498,
          92472,
          97689,
          101739,
          105792,
          110574,
          115242
         ],
         "yaxis": "y"
        },
        {
         "customdata": [
          [
           "Ιαπωνία"
          ],
          [
           "Ιαπωνία"
          ],
          [
           "Ιαπωνία"
          ],
          [
           "Ιαπωνία"
          ],
          [
           "Ιαπωνία"
          ],
          [
           "Ιαπωνία"
          ],
          [
           "Ιαπωνία"
          ],
          [
           "Ιαπωνία"
          ],
          [
           "Ιαπωνία"
          ],
          [
           "Ιαπωνία"
          ],
          [
           "Ιαπωνία"
          ],
          [
           "Ιαπωνία"
          ],
          [
           "Ιαπωνία"
          ],
          [
           "Ιαπωνία"
          ],
          [
           "Ιαπωνία"
          ],
          [
           "Ιαπωνία"
          ],
          [
           "Ιαπωνία"
          ],
          [
           "Ιαπωνία"
          ],
          [
           "Ιαπωνία"
          ],
          [
           "Ιαπωνία"
          ],
          [
           "Ιαπωνία"
          ],
          [
           "Ιαπωνία"
          ],
          [
           "Ιαπωνία"
          ],
          [
           "Ιαπωνία"
          ],
          [
           "Ιαπωνία"
          ],
          [
           "Ιαπωνία"
          ],
          [
           "Ιαπωνία"
          ],
          [
           "Ιαπωνία"
          ],
          [
           "Ιαπωνία"
          ],
          [
           "Ιαπωνία"
          ],
          [
           "Ιαπωνία"
          ],
          [
           "Ιαπωνία"
          ],
          [
           "Ιαπωνία"
          ],
          [
           "Ιαπωνία"
          ],
          [
           "Ιαπωνία"
          ],
          [
           "Ιαπωνία"
          ],
          [
           "Ιαπωνία"
          ],
          [
           "Ιαπωνία"
          ],
          [
           "Ιαπωνία"
          ],
          [
           "Ιαπωνία"
          ],
          [
           "Ιαπωνία"
          ],
          [
           "Ιαπωνία"
          ]
         ],
         "hoverlabel": {
          "namelength": 0
         },
         "hovertemplate": "Χώρα=%{customdata[0]}<br>Αριθμός Κρουσμάτων=%{y}",
         "legendgroup": "Ιαπωνία",
         "line": {
          "color": "rgb(58, 60, 125)",
          "dash": "solid",
          "shape": "spline"
         },
         "mode": "lines",
         "name": "Ιαπωνία",
         "showlegend": true,
         "type": "scatter",
         "xaxis": "x",
         "y": [
          105,
          122,
          147,
          159,
          170,
          189,
          214,
          228,
          241,
          256,
          274,
          293,
          331,
          360,
          420,
          461,
          502,
          511,
          581,
          639,
          639,
          701,
          773,
          839,
          839,
          878,
          889,
          924,
          963,
          1007,
          1101,
          1128,
          1193,
          1307,
          1387,
          1468,
          1693,
          1866,
          1866,
          1953,
          2178,
          2495
         ],
         "yaxis": "y"
        },
        {
         "customdata": [
          [
           "Ιορδανία"
          ],
          [
           "Ιορδανία"
          ],
          [
           "Ιορδανία"
          ],
          [
           "Ιορδανία"
          ],
          [
           "Ιορδανία"
          ],
          [
           "Ιορδανία"
          ],
          [
           "Ιορδανία"
          ],
          [
           "Ιορδανία"
          ],
          [
           "Ιορδανία"
          ],
          [
           "Ιορδανία"
          ],
          [
           "Ιορδανία"
          ],
          [
           "Ιορδανία"
          ]
         ],
         "hoverlabel": {
          "namelength": 0
         },
         "hovertemplate": "Χώρα=%{customdata[0]}<br>Αριθμός Κρουσμάτων=%{y}",
         "legendgroup": "Ιορδανία",
         "line": {
          "color": "rgb(62, 83, 160)",
          "dash": "solid",
          "shape": "spline"
         },
         "mode": "lines",
         "name": "Ιορδανία",
         "showlegend": true,
         "type": "scatter",
         "xaxis": "x",
         "y": [
          112,
          127,
          154,
          172,
          212,
          235,
          246,
          259,
          268,
          274,
          278,
          299
         ],
         "yaxis": "y"
        },
        {
         "customdata": [
          [
           "Καζακστάν"
          ],
          [
           "Καζακστάν"
          ],
          [
           "Καζακστάν"
          ],
          [
           "Καζακστάν"
          ],
          [
           "Καζακστάν"
          ],
          [
           "Καζακστάν"
          ],
          [
           "Καζακστάν"
          ],
          [
           "Καζακστάν"
          ]
         ],
         "hoverlabel": {
          "namelength": 0
         },
         "hovertemplate": "Χώρα=%{customdata[0]}<br>Αριθμός Κρουσμάτων=%{y}",
         "legendgroup": "Καζακστάν",
         "line": {
          "color": "rgb(62, 109, 178)",
          "dash": "solid",
          "shape": "spline"
         },
         "mode": "lines",
         "name": "Καζακστάν",
         "showlegend": true,
         "type": "scatter",
         "xaxis": "x",
         "y": [
          111,
          150,
          228,
          284,
          302,
          343,
          380,
          435
         ],
         "yaxis": "y"
        },
        {
         "customdata": [
          [
           "Κένυα"
          ]
         ],
         "hoverlabel": {
          "namelength": 0
         },
         "hovertemplate": "Χώρα=%{customdata[0]}<br>Αριθμός Κρουσμάτων=%{y}",
         "legendgroup": "Κένυα",
         "line": {
          "color": "rgb(72, 134, 187)",
          "dash": "solid",
          "shape": "spline"
         },
         "mode": "lines",
         "name": "Κένυα",
         "showlegend": true,
         "type": "scatter",
         "xaxis": "x",
         "y": [
          110
         ],
         "yaxis": "y"
        },
        {
         "customdata": [
          [
           "Νότια Κορέα"
          ],
          [
           "Νότια Κορέα"
          ],
          [
           "Νότια Κορέα"
          ],
          [
           "Νότια Κορέα"
          ],
          [
           "Νότια Κορέα"
          ],
          [
           "Νότια Κορέα"
          ],
          [
           "Νότια Κορέα"
          ],
          [
           "Νότια Κορέα"
          ],
          [
           "Νότια Κορέα"
          ],
          [
           "Νότια Κορέα"
          ],
          [
           "Νότια Κορέα"
          ],
          [
           "Νότια Κορέα"
          ],
          [
           "Νότια Κορέα"
          ],
          [
           "Νότια Κορέα"
          ],
          [
           "Νότια Κορέα"
          ],
          [
           "Νότια Κορέα"
          ],
          [
           "Νότια Κορέα"
          ],
          [
           "Νότια Κορέα"
          ],
          [
           "Νότια Κορέα"
          ],
          [
           "Νότια Κορέα"
          ],
          [
           "Νότια Κορέα"
          ],
          [
           "Νότια Κορέα"
          ],
          [
           "Νότια Κορέα"
          ],
          [
           "Νότια Κορέα"
          ],
          [
           "Νότια Κορέα"
          ],
          [
           "Νότια Κορέα"
          ],
          [
           "Νότια Κορέα"
          ],
          [
           "Νότια Κορέα"
          ],
          [
           "Νότια Κορέα"
          ],
          [
           "Νότια Κορέα"
          ],
          [
           "Νότια Κορέα"
          ],
          [
           "Νότια Κορέα"
          ],
          [
           "Νότια Κορέα"
          ],
          [
           "Νότια Κορέα"
          ],
          [
           "Νότια Κορέα"
          ],
          [
           "Νότια Κορέα"
          ],
          [
           "Νότια Κορέα"
          ],
          [
           "Νότια Κορέα"
          ],
          [
           "Νότια Κορέα"
          ],
          [
           "Νότια Κορέα"
          ],
          [
           "Νότια Κορέα"
          ],
          [
           "Νότια Κορέα"
          ],
          [
           "Νότια Κορέα"
          ]
         ],
         "hoverlabel": {
          "namelength": 0
         },
         "hovertemplate": "Χώρα=%{customdata[0]}<br>Αριθμός Κρουσμάτων=%{y}",
         "legendgroup": "Νότια Κορέα",
         "line": {
          "color": "rgb(89, 159, 196)",
          "dash": "solid",
          "shape": "spline"
         },
         "mode": "lines",
         "name": "Νότια Κορέα",
         "showlegend": true,
         "type": "scatter",
         "xaxis": "x",
         "y": [
          104,
          204,
          433,
          602,
          833,
          977,
          1261,
          1766,
          2337,
          3150,
          3736,
          4335,
          5186,
          5621,
          6088,
          6593,
          7041,
          7314,
          7478,
          7513,
          7755,
          7869,
          7979,
          8086,
          8162,
          8236,
          8320,
          8413,
          8565,
          8652,
          8799,
          8961,
          8961,
          9037,
          9137,
          9241,
          9332,
          9478,
          9583,
          9661,
          9786,
          9887,
          9976
         ],
         "yaxis": "y"
        },
        {
         "customdata": [
          [
           "Κόσοβο"
          ],
          [
           "Κόσοβο"
          ],
          [
           "Κόσοβο"
          ]
         ],
         "hoverlabel": {
          "namelength": 0
         },
         "hovertemplate": "Χώρα=%{customdata[0]}<br>Αριθμός Κρουσμάτων=%{y}",
         "legendgroup": "Κόσοβο",
         "line": {
          "color": "rgb(114, 184, 205)",
          "dash": "solid",
          "shape": "spline"
         },
         "mode": "lines",
         "name": "Κόσοβο",
         "showlegend": true,
         "type": "scatter",
         "xaxis": "x",
         "y": [
          112,
          125,
          125
         ],
         "yaxis": "y"
        },
        {
         "customdata": [
          [
           "Κουβέιτ"
          ],
          [
           "Κουβέιτ"
          ],
          [
           "Κουβέιτ"
          ],
          [
           "Κουβέιτ"
          ],
          [
           "Κουβέιτ"
          ],
          [
           "Κουβέιτ"
          ],
          [
           "Κουβέιτ"
          ],
          [
           "Κουβέιτ"
          ],
          [
           "Κουβέιτ"
          ],
          [
           "Κουβέιτ"
          ],
          [
           "Κουβέιτ"
          ],
          [
           "Κουβέιτ"
          ],
          [
           "Κουβέιτ"
          ],
          [
           "Κουβέιτ"
          ],
          [
           "Κουβέιτ"
          ],
          [
           "Κουβέιτ"
          ],
          [
           "Κουβέιτ"
          ],
          [
           "Κουβέιτ"
          ],
          [
           "Κουβέιτ"
          ],
          [
           "Κουβέιτ"
          ]
         ],
         "hoverlabel": {
          "namelength": 0
         },
         "hovertemplate": "Χώρα=%{customdata[0]}<br>Αριθμός Κρουσμάτων=%{y}",
         "legendgroup": "Κουβέιτ",
         "line": {
          "color": "rgb(149, 207, 216)",
          "dash": "solid",
          "shape": "spline"
         },
         "mode": "lines",
         "name": "Κουβέιτ",
         "showlegend": true,
         "type": "scatter",
         "xaxis": "x",
         "y": [
          104,
          112,
          123,
          130,
          142,
          148,
          159,
          176,
          188,
          189,
          191,
          195,
          208,
          225,
          235,
          255,
          266,
          289,
          317,
          342
         ],
         "yaxis": "y"
        },
        {
         "customdata": [
          [
           "Κιργιζία"
          ],
          [
           "Κιργιζία"
          ],
          [
           "Κιργιζία"
          ]
         ],
         "hoverlabel": {
          "namelength": 0
         },
         "hovertemplate": "Χώρα=%{customdata[0]}<br>Αριθμός Κρουσμάτων=%{y}",
         "legendgroup": "Κιργιζία",
         "line": {
          "color": "rgb(192, 229, 232)",
          "dash": "solid",
          "shape": "spline"
         },
         "mode": "lines",
         "name": "Κιργιζία",
         "showlegend": true,
         "type": "scatter",
         "xaxis": "x",
         "y": [
          107,
          111,
          116
         ],
         "yaxis": "y"
        },
        {
         "customdata": [
          [
           "Λεττονία"
          ],
          [
           "Λεττονία"
          ],
          [
           "Λεττονία"
          ],
          [
           "Λεττονία"
          ],
          [
           "Λεττονία"
          ],
          [
           "Λεττονία"
          ],
          [
           "Λεττονία"
          ],
          [
           "Λεττονία"
          ],
          [
           "Λεττονία"
          ],
          [
           "Λεττονία"
          ],
          [
           "Λεττονία"
          ],
          [
           "Λεττονία"
          ],
          [
           "Λεττονία"
          ],
          [
           "Λεττονία"
          ]
         ],
         "hoverlabel": {
          "namelength": 0
         },
         "hovertemplate": "Χώρα=%{customdata[0]}<br>Αριθμός Κρουσμάτων=%{y}",
         "legendgroup": "Λεττονία",
         "line": {
          "color": "rgb(234, 252, 253)",
          "dash": "solid",
          "shape": "spline"
         },
         "mode": "lines",
         "name": "Λεττονία",
         "showlegend": true,
         "type": "scatter",
         "xaxis": "x",
         "y": [
          111,
          124,
          139,
          180,
          197,
          221,
          244,
          280,
          305,
          347,
          376,
          398,
          446,
          458
         ],
         "yaxis": "y"
        },
        {
         "customdata": [
          [
           "Λίβανος"
          ],
          [
           "Λίβανος"
          ],
          [
           "Λίβανος"
          ],
          [
           "Λίβανος"
          ],
          [
           "Λίβανος"
          ],
          [
           "Λίβανος"
          ],
          [
           "Λίβανος"
          ],
          [
           "Λίβανος"
          ],
          [
           "Λίβανος"
          ],
          [
           "Λίβανος"
          ],
          [
           "Λίβανος"
          ],
          [
           "Λίβανος"
          ],
          [
           "Λίβανος"
          ],
          [
           "Λίβανος"
          ],
          [
           "Λίβανος"
          ],
          [
           "Λίβανος"
          ],
          [
           "Λίβανος"
          ],
          [
           "Λίβανος"
          ],
          [
           "Λίβανος"
          ]
         ],
         "hoverlabel": {
          "namelength": 0
         },
         "hovertemplate": "Χώρα=%{customdata[0]}<br>Αριθμός Κρουσμάτων=%{y}",
         "legendgroup": "Λίβανος",
         "line": {
          "color": "rgb(3, 5, 18)",
          "dash": "solid",
          "shape": "spline"
         },
         "mode": "lines",
         "name": "Λίβανος",
         "showlegend": true,
         "type": "scatter",
         "xaxis": "x",
         "y": [
          110,
          110,
          120,
          133,
          157,
          163,
          187,
          248,
          267,
          318,
          333,
          368,
          391,
          412,
          438,
          446,
          470,
          479,
          494
         ],
         "yaxis": "y"
        },
        {
         "customdata": [
          [
           "Λιθουανία"
          ],
          [
           "Λιθουανία"
          ],
          [
           "Λιθουανία"
          ],
          [
           "Λιθουανία"
          ],
          [
           "Λιθουανία"
          ],
          [
           "Λιθουανία"
          ],
          [
           "Λιθουανία"
          ],
          [
           "Λιθουανία"
          ],
          [
           "Λιθουανία"
          ],
          [
           "Λιθουανία"
          ],
          [
           "Λιθουανία"
          ],
          [
           "Λιθουανία"
          ]
         ],
         "hoverlabel": {
          "namelength": 0
         },
         "hovertemplate": "Χώρα=%{customdata[0]}<br>Αριθμός Κρουσμάτων=%{y}",
         "legendgroup": "Λιθουανία",
         "line": {
          "color": "rgb(25, 25, 51)",
          "dash": "solid",
          "shape": "spline"
         },
         "mode": "lines",
         "name": "Λιθουανία",
         "showlegend": true,
         "type": "scatter",
         "xaxis": "x",
         "y": [
          143,
          179,
          209,
          274,
          299,
          358,
          394,
          460,
          491,
          537,
          581,
          649
         ],
         "yaxis": "y"
        },
        {
         "customdata": [
          [
           "Λουξεμβούργο"
          ],
          [
           "Λουξεμβούργο"
          ],
          [
           "Λουξεμβούργο"
          ],
          [
           "Λουξεμβούργο"
          ],
          [
           "Λουξεμβούργο"
          ],
          [
           "Λουξεμβούργο"
          ],
          [
           "Λουξεμβούργο"
          ],
          [
           "Λουξεμβούργο"
          ],
          [
           "Λουξεμβούργο"
          ],
          [
           "Λουξεμβούργο"
          ],
          [
           "Λουξεμβούργο"
          ],
          [
           "Λουξεμβούργο"
          ],
          [
           "Λουξεμβούργο"
          ],
          [
           "Λουξεμβούργο"
          ],
          [
           "Λουξεμβούργο"
          ],
          [
           "Λουξεμβούργο"
          ],
          [
           "Λουξεμβούργο"
          ]
         ],
         "hoverlabel": {
          "namelength": 0
         },
         "hovertemplate": "Χώρα=%{customdata[0]}<br>Αριθμός Κρουσμάτων=%{y}",
         "legendgroup": "Λουξεμβούργο",
         "line": {
          "color": "rgb(44, 42, 87)",
          "dash": "solid",
          "shape": "spline"
         },
         "mode": "lines",
         "name": "Λουξεμβούργο",
         "showlegend": true,
         "type": "scatter",
         "xaxis": "x",
         "y": [
          140,
          203,
          335,
          484,
          670,
          798,
          875,
          1099,
          1333,
          1453,
          1605,
          1831,
          1950,
          1988,
          2178,
          2319,
          2487
         ],
         "yaxis": "y"
        },
        {
         "customdata": [
          [
           "Μαλαισία"
          ],
          [
           "Μαλαισία"
          ],
          [
           "Μαλαισία"
          ],
          [
           "Μαλαισία"
          ],
          [
           "Μαλαισία"
          ],
          [
           "Μαλαισία"
          ],
          [
           "Μαλαισία"
          ],
          [
           "Μαλαισία"
          ],
          [
           "Μαλαισία"
          ],
          [
           "Μαλαισία"
          ],
          [
           "Μαλαισία"
          ],
          [
           "Μαλαισία"
          ],
          [
           "Μαλαισία"
          ],
          [
           "Μαλαισία"
          ],
          [
           "Μαλαισία"
          ],
          [
           "Μαλαισία"
          ],
          [
           "Μαλαισία"
          ],
          [
           "Μαλαισία"
          ],
          [
           "Μαλαισία"
          ],
          [
           "Μαλαισία"
          ],
          [
           "Μαλαισία"
          ],
          [
           "Μαλαισία"
          ],
          [
           "Μαλαισία"
          ],
          [
           "Μαλαισία"
          ],
          [
           "Μαλαισία"
          ]
         ],
         "hoverlabel": {
          "namelength": 0
         },
         "hovertemplate": "Χώρα=%{customdata[0]}<br>Αριθμός Κρουσμάτων=%{y}",
         "legendgroup": "Μαλαισία",
         "line": {
          "color": "rgb(58, 60, 125)",
          "dash": "solid",
          "shape": "spline"
         },
         "mode": "lines",
         "name": "Μαλαισία",
         "showlegend": true,
         "type": "scatter",
         "xaxis": "x",
         "y": [
          117,
          129,
          149,
          149,
          197,
          238,
          428,
          566,
          673,
          790,
          900,
          1030,
          1183,
          1306,
          1518,
          1624,
          1796,
          2031,
          2161,
          2320,
          2470,
          2626,
          2766,
          2908,
          3116
         ],
         "yaxis": "y"
        },
        {
         "customdata": [
          [
           "Μάλτα"
          ],
          [
           "Μάλτα"
          ],
          [
           "Μάλτα"
          ],
          [
           "Μάλτα"
          ],
          [
           "Μάλτα"
          ],
          [
           "Μάλτα"
          ],
          [
           "Μάλτα"
          ],
          [
           "Μάλτα"
          ],
          [
           "Μάλτα"
          ],
          [
           "Μάλτα"
          ],
          [
           "Μάλτα"
          ]
         ],
         "hoverlabel": {
          "namelength": 0
         },
         "hovertemplate": "Χώρα=%{customdata[0]}<br>Αριθμός Κρουσμάτων=%{y}",
         "legendgroup": "Μάλτα",
         "line": {
          "color": "rgb(62, 83, 160)",
          "dash": "solid",
          "shape": "spline"
         },
         "mode": "lines",
         "name": "Μάλτα",
         "showlegend": true,
         "type": "scatter",
         "xaxis": "x",
         "y": [
          107,
          110,
          129,
          134,
          139,
          149,
          151,
          156,
          169,
          188,
          196
         ],
         "yaxis": "y"
        },
        {
         "customdata": [
          [
           "Μαυρίκιος"
          ],
          [
           "Μαυρίκιος"
          ],
          [
           "Μαυρίκιος"
          ],
          [
           "Μαυρίκιος"
          ],
          [
           "Μαυρίκιος"
          ],
          [
           "Μαυρίκιος"
          ]
         ],
         "hoverlabel": {
          "namelength": 0
         },
         "hovertemplate": "Χώρα=%{customdata[0]}<br>Αριθμός Κρουσμάτων=%{y}",
         "legendgroup": "Μαυρίκιος",
         "line": {
          "color": "rgb(62, 109, 178)",
          "dash": "solid",
          "shape": "spline"
         },
         "mode": "lines",
         "name": "Μαυρίκιος",
         "showlegend": true,
         "type": "scatter",
         "xaxis": "x",
         "y": [
          102,
          107,
          128,
          143,
          161,
          169
         ],
         "yaxis": "y"
        },
        {
         "customdata": [
          [
           "Μεξικό"
          ],
          [
           "Μεξικό"
          ],
          [
           "Μεξικό"
          ],
          [
           "Μεξικό"
          ],
          [
           "Μεξικό"
          ],
          [
           "Μεξικό"
          ],
          [
           "Μεξικό"
          ],
          [
           "Μεξικό"
          ],
          [
           "Μεξικό"
          ],
          [
           "Μεξικό"
          ],
          [
           "Μεξικό"
          ],
          [
           "Μεξικό"
          ],
          [
           "Μεξικό"
          ],
          [
           "Μεξικό"
          ],
          [
           "Μεξικό"
          ]
         ],
         "hoverlabel": {
          "namelength": 0
         },
         "hovertemplate": "Χώρα=%{customdata[0]}<br>Αριθμός Κρουσμάτων=%{y}",
         "legendgroup": "Μεξικό",
         "line": {
          "color": "rgb(72, 134, 187)",
          "dash": "solid",
          "shape": "spline"
         },
         "mode": "lines",
         "name": "Μεξικό",
         "showlegend": true,
         "type": "scatter",
         "xaxis": "x",
         "y": [
          118,
          164,
          203,
          251,
          316,
          367,
          405,
          475,
          585,
          717,
          848,
          993,
          1094,
          1215,
          1378
         ],
         "yaxis": "y"
        },
        {
         "customdata": [
          [
           "Μολδοβία"
          ],
          [
           "Μολδοβία"
          ],
          [
           "Μολδοβία"
          ],
          [
           "Μολδοβία"
          ],
          [
           "Μολδοβία"
          ],
          [
           "Μολδοβία"
          ],
          [
           "Μολδοβία"
          ],
          [
           "Μολδοβία"
          ],
          [
           "Μολδοβία"
          ],
          [
           "Μολδοβία"
          ],
          [
           "Μολδοβία"
          ]
         ],
         "hoverlabel": {
          "namelength": 0
         },
         "hovertemplate": "Χώρα=%{customdata[0]}<br>Αριθμός Κρουσμάτων=%{y}",
         "legendgroup": "Μολδοβία",
         "line": {
          "color": "rgb(89, 159, 196)",
          "dash": "solid",
          "shape": "spline"
         },
         "mode": "lines",
         "name": "Μολδοβία",
         "showlegend": true,
         "type": "scatter",
         "xaxis": "x",
         "y": [
          109,
          125,
          149,
          177,
          199,
          231,
          263,
          298,
          353,
          423,
          505
         ],
         "yaxis": "y"
        },
        {
         "customdata": [
          [
           "Μαυροβούνιο"
          ],
          [
           "Μαυροβούνιο"
          ],
          [
           "Μαυροβούνιο"
          ]
         ],
         "hoverlabel": {
          "namelength": 0
         },
         "hovertemplate": "Χώρα=%{customdata[0]}<br>Αριθμός Κρουσμάτων=%{y}",
         "legendgroup": "Μαυροβούνιο",
         "line": {
          "color": "rgb(114, 184, 205)",
          "dash": "solid",
          "shape": "spline"
         },
         "mode": "lines",
         "name": "Μαυροβούνιο",
         "showlegend": true,
         "type": "scatter",
         "xaxis": "x",
         "y": [
          109,
          123,
          144
         ],
         "yaxis": "y"
        },
        {
         "customdata": [
          [
           "Μαρόκο"
          ],
          [
           "Μαρόκο"
          ],
          [
           "Μαρόκο"
          ],
          [
           "Μαρόκο"
          ],
          [
           "Μαρόκο"
          ],
          [
           "Μαρόκο"
          ],
          [
           "Μαρόκο"
          ],
          [
           "Μαρόκο"
          ],
          [
           "Μαρόκο"
          ],
          [
           "Μαρόκο"
          ],
          [
           "Μαρόκο"
          ],
          [
           "Μαρόκο"
          ]
         ],
         "hoverlabel": {
          "namelength": 0
         },
         "hovertemplate": "Χώρα=%{customdata[0]}<br>Αριθμός Κρουσμάτων=%{y}",
         "legendgroup": "Μαρόκο",
         "line": {
          "color": "rgb(149, 207, 216)",
          "dash": "solid",
          "shape": "spline"
         },
         "mode": "lines",
         "name": "Μαρόκο",
         "showlegend": true,
         "type": "scatter",
         "xaxis": "x",
         "y": [
          115,
          143,
          170,
          225,
          275,
          345,
          402,
          479,
          556,
          617,
          654,
          708
         ],
         "yaxis": "y"
        },
        {
         "customdata": [
          [
           "Ολλανδία"
          ],
          [
           "Ολλανδία"
          ],
          [
           "Ολλανδία"
          ],
          [
           "Ολλανδία"
          ],
          [
           "Ολλανδία"
          ],
          [
           "Ολλανδία"
          ],
          [
           "Ολλανδία"
          ],
          [
           "Ολλανδία"
          ],
          [
           "Ολλανδία"
          ],
          [
           "Ολλανδία"
          ],
          [
           "Ολλανδία"
          ],
          [
           "Ολλανδία"
          ],
          [
           "Ολλανδία"
          ],
          [
           "Ολλανδία"
          ],
          [
           "Ολλανδία"
          ],
          [
           "Ολλανδία"
          ],
          [
           "Ολλανδία"
          ],
          [
           "Ολλανδία"
          ],
          [
           "Ολλανδία"
          ],
          [
           "Ολλανδία"
          ],
          [
           "Ολλανδία"
          ],
          [
           "Ολλανδία"
          ],
          [
           "Ολλανδία"
          ],
          [
           "Ολλανδία"
          ],
          [
           "Ολλανδία"
          ],
          [
           "Ολλανδία"
          ],
          [
           "Ολλανδία"
          ],
          [
           "Ολλανδία"
          ]
         ],
         "hoverlabel": {
          "namelength": 0
         },
         "hovertemplate": "Χώρα=%{customdata[0]}<br>Αριθμός Κρουσμάτων=%{y}",
         "legendgroup": "Ολλανδία",
         "line": {
          "color": "rgb(192, 229, 232)",
          "dash": "solid",
          "shape": "spline"
         },
         "mode": "lines",
         "name": "Ολλανδία",
         "showlegend": true,
         "type": "scatter",
         "xaxis": "x",
         "y": [
          128,
          188,
          265,
          321,
          382,
          503,
          503,
          806,
          962,
          1138,
          1416,
          1711,
          2058,
          2467,
          3003,
          3640,
          4217,
          4764,
          5580,
          6438,
          7468,
          8647,
          9819,
          10930,
          11817,
          12667,
          13696,
          14788
         ],
         "yaxis": "y"
        },
        {
         "customdata": [
          [
           "Νέα Ζηλανδία"
          ],
          [
           "Νέα Ζηλανδία"
          ],
          [
           "Νέα Ζηλανδία"
          ],
          [
           "Νέα Ζηλανδία"
          ],
          [
           "Νέα Ζηλανδία"
          ],
          [
           "Νέα Ζηλανδία"
          ],
          [
           "Νέα Ζηλανδία"
          ],
          [
           "Νέα Ζηλανδία"
          ],
          [
           "Νέα Ζηλανδία"
          ],
          [
           "Νέα Ζηλανδία"
          ],
          [
           "Νέα Ζηλανδία"
          ],
          [
           "Νέα Ζηλανδία"
          ]
         ],
         "hoverlabel": {
          "namelength": 0
         },
         "hovertemplate": "Χώρα=%{customdata[0]}<br>Αριθμός Κρουσμάτων=%{y}",
         "legendgroup": "Νέα Ζηλανδία",
         "line": {
          "color": "rgb(234, 252, 253)",
          "dash": "solid",
          "shape": "spline"
         },
         "mode": "lines",
         "name": "Νέα Ζηλανδία",
         "showlegend": true,
         "type": "scatter",
         "xaxis": "x",
         "y": [
          102,
          102,
          155,
          205,
          283,
          368,
          451,
          514,
          589,
          647,
          708,
          797
         ],
         "yaxis": "y"
        },
        {
         "customdata": [
          [
           "Νιγηρία"
          ],
          [
           "Νιγηρία"
          ],
          [
           "Νιγηρία"
          ],
          [
           "Νιγηρία"
          ],
          [
           "Νιγηρία"
          ]
         ],
         "hoverlabel": {
          "namelength": 0
         },
         "hovertemplate": "Χώρα=%{customdata[0]}<br>Αριθμός Κρουσμάτων=%{y}",
         "legendgroup": "Νιγηρία",
         "line": {
          "color": "rgb(3, 5, 18)",
          "dash": "solid",
          "shape": "spline"
         },
         "mode": "lines",
         "name": "Νιγηρία",
         "showlegend": true,
         "type": "scatter",
         "xaxis": "x",
         "y": [
          111,
          131,
          135,
          174,
          184
         ],
         "yaxis": "y"
        },
        {
         "customdata": [
          [
           "Βόρεια Μακεδονία"
          ],
          [
           "Βόρεια Μακεδονία"
          ],
          [
           "Βόρεια Μακεδονία"
          ],
          [
           "Βόρεια Μακεδονία"
          ],
          [
           "Βόρεια Μακεδονία"
          ],
          [
           "Βόρεια Μακεδονία"
          ],
          [
           "Βόρεια Μακεδονία"
          ],
          [
           "Βόρεια Μακεδονία"
          ],
          [
           "Βόρεια Μακεδονία"
          ],
          [
           "Βόρεια Μακεδονία"
          ],
          [
           "Βόρεια Μακεδονία"
          ],
          [
           "Βόρεια Μακεδονία"
          ]
         ],
         "hoverlabel": {
          "namelength": 0
         },
         "hovertemplate": "Χώρα=%{customdata[0]}<br>Αριθμός Κρουσμάτων=%{y}",
         "legendgroup": "Βόρεια Μακεδονία",
         "line": {
          "color": "rgb(25, 25, 51)",
          "dash": "solid",
          "shape": "spline"
         },
         "mode": "lines",
         "name": "Βόρεια Μακεδονία",
         "showlegend": true,
         "type": "scatter",
         "xaxis": "x",
         "y": [
          115,
          136,
          148,
          177,
          201,
          219,
          241,
          259,
          285,
          329,
          354,
          384
         ],
         "yaxis": "y"
        },
        {
         "customdata": [
          [
           "Νορβηγία"
          ],
          [
           "Νορβηγία"
          ],
          [
           "Νορβηγία"
          ],
          [
           "Νορβηγία"
          ],
          [
           "Νορβηγία"
          ],
          [
           "Νορβηγία"
          ],
          [
           "Νορβηγία"
          ],
          [
           "Νορβηγία"
          ],
          [
           "Νορβηγία"
          ],
          [
           "Νορβηγία"
          ],
          [
           "Νορβηγία"
          ],
          [
           "Νορβηγία"
          ],
          [
           "Νορβηγία"
          ],
          [
           "Νορβηγία"
          ],
          [
           "Νορβηγία"
          ],
          [
           "Νορβηγία"
          ],
          [
           "Νορβηγία"
          ],
          [
           "Νορβηγία"
          ],
          [
           "Νορβηγία"
          ],
          [
           "Νορβηγία"
          ],
          [
           "Νορβηγία"
          ],
          [
           "Νορβηγία"
          ],
          [
           "Νορβηγία"
          ],
          [
           "Νορβηγία"
          ],
          [
           "Νορβηγία"
          ],
          [
           "Νορβηγία"
          ],
          [
           "Νορβηγία"
          ],
          [
           "Νορβηγία"
          ]
         ],
         "hoverlabel": {
          "namelength": 0
         },
         "hovertemplate": "Χώρα=%{customdata[0]}<br>Αριθμός Κρουσμάτων=%{y}",
         "legendgroup": "Νορβηγία",
         "line": {
          "color": "rgb(44, 42, 87)",
          "dash": "solid",
          "shape": "spline"
         },
         "mode": "lines",
         "name": "Νορβηγία",
         "showlegend": true,
         "type": "scatter",
         "xaxis": "x",
         "y": [
          108,
          147,
          176,
          205,
          400,
          598,
          702,
          996,
          1090,
          1221,
          1333,
          1463,
          1550,
          1746,
          1914,
          2118,
          2385,
          2621,
          2863,
          3084,
          3369,
          3755,
          4015,
          4284,
          4445,
          4641,
          4863,
          5147
         ],
         "yaxis": "y"
        },
        {
         "customdata": [
          [
           "Ομάν"
          ],
          [
           "Ομάν"
          ],
          [
           "Ομάν"
          ],
          [
           "Ομάν"
          ],
          [
           "Ομάν"
          ],
          [
           "Ομάν"
          ],
          [
           "Ομάν"
          ],
          [
           "Ομάν"
          ]
         ],
         "hoverlabel": {
          "namelength": 0
         },
         "hovertemplate": "Χώρα=%{customdata[0]}<br>Αριθμός Κρουσμάτων=%{y}",
         "legendgroup": "Ομάν",
         "line": {
          "color": "rgb(58, 60, 125)",
          "dash": "solid",
          "shape": "spline"
         },
         "mode": "lines",
         "name": "Ομάν",
         "showlegend": true,
         "type": "scatter",
         "xaxis": "x",
         "y": [
          109,
          131,
          152,
          167,
          179,
          192,
          210,
          231
         ],
         "yaxis": "y"
        },
        {
         "customdata": [
          [
           "Πακιστάν"
          ],
          [
           "Πακιστάν"
          ],
          [
           "Πακιστάν"
          ],
          [
           "Πακιστάν"
          ],
          [
           "Πακιστάν"
          ],
          [
           "Πακιστάν"
          ],
          [
           "Πακιστάν"
          ],
          [
           "Πακιστάν"
          ],
          [
           "Πακιστάν"
          ],
          [
           "Πακιστάν"
          ],
          [
           "Πακιστάν"
          ],
          [
           "Πακιστάν"
          ],
          [
           "Πακιστάν"
          ],
          [
           "Πακιστάν"
          ],
          [
           "Πακιστάν"
          ],
          [
           "Πακιστάν"
          ],
          [
           "Πακιστάν"
          ],
          [
           "Πακιστάν"
          ]
         ],
         "hoverlabel": {
          "namelength": 0
         },
         "hovertemplate": "Χώρα=%{customdata[0]}<br>Αριθμός Κρουσμάτων=%{y}",
         "legendgroup": "Πακιστάν",
         "line": {
          "color": "rgb(62, 83, 160)",
          "dash": "solid",
          "shape": "spline"
         },
         "mode": "lines",
         "name": "Πακιστάν",
         "showlegend": true,
         "type": "scatter",
         "xaxis": "x",
         "y": [
          136,
          236,
          299,
          454,
          501,
          730,
          776,
          875,
          972,
          1063,
          1201,
          1373,
          1495,
          1597,
          1717,
          1938,
          2118,
          2421
         ],
         "yaxis": "y"
        },
        {
         "customdata": [
          [
           "Παναμάς"
          ],
          [
           "Παναμάς"
          ],
          [
           "Παναμάς"
          ],
          [
           "Παναμάς"
          ],
          [
           "Παναμάς"
          ],
          [
           "Παναμάς"
          ],
          [
           "Παναμάς"
          ],
          [
           "Παναμάς"
          ],
          [
           "Παναμάς"
          ],
          [
           "Παναμάς"
          ],
          [
           "Παναμάς"
          ],
          [
           "Παναμάς"
          ],
          [
           "Παναμάς"
          ],
          [
           "Παναμάς"
          ],
          [
           "Παναμάς"
          ]
         ],
         "hoverlabel": {
          "namelength": 0
         },
         "hovertemplate": "Χώρα=%{customdata[0]}<br>Αριθμός Κρουσμάτων=%{y}",
         "legendgroup": "Παναμάς",
         "line": {
          "color": "rgb(62, 109, 178)",
          "dash": "solid",
          "shape": "spline"
         },
         "mode": "lines",
         "name": "Παναμάς",
         "showlegend": true,
         "type": "scatter",
         "xaxis": "x",
         "y": [
          109,
          137,
          200,
          313,
          345,
          345,
          443,
          558,
          674,
          786,
          901,
          989,
          1181,
          1181,
          1317
         ],
         "yaxis": "y"
        },
        {
         "customdata": [
          [
           "Περού"
          ],
          [
           "Περού"
          ],
          [
           "Περού"
          ],
          [
           "Περού"
          ],
          [
           "Περού"
          ],
          [
           "Περού"
          ],
          [
           "Περού"
          ],
          [
           "Περού"
          ],
          [
           "Περού"
          ],
          [
           "Περού"
          ],
          [
           "Περού"
          ],
          [
           "Περού"
          ],
          [
           "Περού"
          ],
          [
           "Περού"
          ],
          [
           "Περού"
          ],
          [
           "Περού"
          ],
          [
           "Περού"
          ]
         ],
         "hoverlabel": {
          "namelength": 0
         },
         "hovertemplate": "Χώρα=%{customdata[0]}<br>Αριθμός Κρουσμάτων=%{y}",
         "legendgroup": "Περού",
         "line": {
          "color": "rgb(72, 134, 187)",
          "dash": "solid",
          "shape": "spline"
         },
         "mode": "lines",
         "name": "Περού",
         "showlegend": true,
         "type": "scatter",
         "xaxis": "x",
         "y": [
          117,
          145,
          234,
          234,
          318,
          363,
          395,
          416,
          480,
          580,
          635,
          671,
          852,
          950,
          1065,
          1323,
          1414
         ],
         "yaxis": "y"
        },
        {
         "customdata": [
          [
           "Φιλιππίνες"
          ],
          [
           "Φιλιππίνες"
          ],
          [
           "Φιλιππίνες"
          ],
          [
           "Φιλιππίνες"
          ],
          [
           "Φιλιππίνες"
          ],
          [
           "Φιλιππίνες"
          ],
          [
           "Φιλιππίνες"
          ],
          [
           "Φιλιππίνες"
          ],
          [
           "Φιλιππίνες"
          ],
          [
           "Φιλιππίνες"
          ],
          [
           "Φιλιππίνες"
          ],
          [
           "Φιλιππίνες"
          ],
          [
           "Φιλιππίνες"
          ],
          [
           "Φιλιππίνες"
          ],
          [
           "Φιλιππίνες"
          ],
          [
           "Φιλιππίνες"
          ],
          [
           "Φιλιππίνες"
          ],
          [
           "Φιλιππίνες"
          ],
          [
           "Φιλιππίνες"
          ],
          [
           "Φιλιππίνες"
          ]
         ],
         "hoverlabel": {
          "namelength": 0
         },
         "hovertemplate": "Χώρα=%{customdata[0]}<br>Αριθμός Κρουσμάτων=%{y}",
         "legendgroup": "Φιλιππίνες",
         "line": {
          "color": "rgb(89, 159, 196)",
          "dash": "solid",
          "shape": "spline"
         },
         "mode": "lines",
         "name": "Φιλιππίνες",
         "showlegend": true,
         "type": "scatter",
         "xaxis": "x",
         "y": [
          111,
          140,
          142,
          187,
          202,
          217,
          230,
          307,
          380,
          462,
          552,
          636,
          707,
          803,
          1075,
          1418,
          1546,
          2084,
          2311,
          2633
         ],
         "yaxis": "y"
        },
        {
         "customdata": [
          [
           "Πολωνία"
          ],
          [
           "Πολωνία"
          ],
          [
           "Πολωνία"
          ],
          [
           "Πολωνία"
          ],
          [
           "Πολωνία"
          ],
          [
           "Πολωνία"
          ],
          [
           "Πολωνία"
          ],
          [
           "Πολωνία"
          ],
          [
           "Πολωνία"
          ],
          [
           "Πολωνία"
          ],
          [
           "Πολωνία"
          ],
          [
           "Πολωνία"
          ],
          [
           "Πολωνία"
          ],
          [
           "Πολωνία"
          ],
          [
           "Πολωνία"
          ],
          [
           "Πολωνία"
          ],
          [
           "Πολωνία"
          ],
          [
           "Πολωνία"
          ],
          [
           "Πολωνία"
          ],
          [
           "Πολωνία"
          ]
         ],
         "hoverlabel": {
          "namelength": 0
         },
         "hovertemplate": "Χώρα=%{customdata[0]}<br>Αριθμός Κρουσμάτων=%{y}",
         "legendgroup": "Πολωνία",
         "line": {
          "color": "rgb(114, 184, 205)",
          "dash": "solid",
          "shape": "spline"
         },
         "mode": "lines",
         "name": "Πολωνία",
         "showlegend": true,
         "type": "scatter",
         "xaxis": "x",
         "y": [
          103,
          119,
          177,
          238,
          251,
          355,
          425,
          536,
          634,
          749,
          901,
          1051,
          1221,
          1389,
          1638,
          1862,
          2055,
          2311,
          2554,
          2946
         ],
         "yaxis": "y"
        },
        {
         "customdata": [
          [
           "Πορτογαλία"
          ],
          [
           "Πορτογαλία"
          ],
          [
           "Πορτογαλία"
          ],
          [
           "Πορτογαλία"
          ],
          [
           "Πορτογαλία"
          ],
          [
           "Πορτογαλία"
          ],
          [
           "Πορτογαλία"
          ],
          [
           "Πορτογαλία"
          ],
          [
           "Πορτογαλία"
          ],
          [
           "Πορτογαλία"
          ],
          [
           "Πορτογαλία"
          ],
          [
           "Πορτογαλία"
          ],
          [
           "Πορτογαλία"
          ],
          [
           "Πορτογαλία"
          ],
          [
           "Πορτογαλία"
          ],
          [
           "Πορτογαλία"
          ],
          [
           "Πορτογαλία"
          ],
          [
           "Πορτογαλία"
          ],
          [
           "Πορτογαλία"
          ],
          [
           "Πορτογαλία"
          ],
          [
           "Πορτογαλία"
          ]
         ],
         "hoverlabel": {
          "namelength": 0
         },
         "hovertemplate": "Χώρα=%{customdata[0]}<br>Αριθμός Κρουσμάτων=%{y}",
         "legendgroup": "Πορτογαλία",
         "line": {
          "color": "rgb(149, 207, 216)",
          "dash": "solid",
          "shape": "spline"
         },
         "mode": "lines",
         "name": "Πορτογαλία",
         "showlegend": true,
         "type": "scatter",
         "xaxis": "x",
         "y": [
          112,
          169,
          245,
          331,
          448,
          448,
          785,
          1020,
          1280,
          1600,
          2060,
          2362,
          2995,
          3544,
          4268,
          5170,
          5962,
          6408,
          7443,
          8251,
          9034
         ],
         "yaxis": "y"
        },
        {
         "customdata": [
          [
           "Κατάρ"
          ],
          [
           "Κατάρ"
          ],
          [
           "Κατάρ"
          ],
          [
           "Κατάρ"
          ],
          [
           "Κατάρ"
          ],
          [
           "Κατάρ"
          ],
          [
           "Κατάρ"
          ],
          [
           "Κατάρ"
          ],
          [
           "Κατάρ"
          ],
          [
           "Κατάρ"
          ],
          [
           "Κατάρ"
          ],
          [
           "Κατάρ"
          ],
          [
           "Κατάρ"
          ],
          [
           "Κατάρ"
          ],
          [
           "Κατάρ"
          ],
          [
           "Κατάρ"
          ],
          [
           "Κατάρ"
          ],
          [
           "Κατάρ"
          ],
          [
           "Κατάρ"
          ],
          [
           "Κατάρ"
          ],
          [
           "Κατάρ"
          ],
          [
           "Κατάρ"
          ],
          [
           "Κατάρ"
          ]
         ],
         "hoverlabel": {
          "namelength": 0
         },
         "hovertemplate": "Χώρα=%{customdata[0]}<br>Αριθμός Κρουσμάτων=%{y}",
         "legendgroup": "Κατάρ",
         "line": {
          "color": "rgb(192, 229, 232)",
          "dash": "solid",
          "shape": "spline"
         },
         "mode": "lines",
         "name": "Κατάρ",
         "showlegend": true,
         "type": "scatter",
         "xaxis": "x",
         "y": [
          262,
          262,
          320,
          337,
          401,
          439,
          439,
          452,
          460,
          470,
          481,
          494,
          501,
          526,
          537,
          549,
          562,
          590,
          634,
          693,
          781,
          835,
          949
         ],
         "yaxis": "y"
        },
        {
         "customdata": [
          [
           "Ρουμανία"
          ],
          [
           "Ρουμανία"
          ],
          [
           "Ρουμανία"
          ],
          [
           "Ρουμανία"
          ],
          [
           "Ρουμανία"
          ],
          [
           "Ρουμανία"
          ],
          [
           "Ρουμανία"
          ],
          [
           "Ρουμανία"
          ],
          [
           "Ρουμανία"
          ],
          [
           "Ρουμανία"
          ],
          [
           "Ρουμανία"
          ],
          [
           "Ρουμανία"
          ],
          [
           "Ρουμανία"
          ],
          [
           "Ρουμανία"
          ],
          [
           "Ρουμανία"
          ],
          [
           "Ρουμανία"
          ],
          [
           "Ρουμανία"
          ],
          [
           "Ρουμανία"
          ],
          [
           "Ρουμανία"
          ],
          [
           "Ρουμανία"
          ]
         ],
         "hoverlabel": {
          "namelength": 0
         },
         "hovertemplate": "Χώρα=%{customdata[0]}<br>Αριθμός Κρουσμάτων=%{y}",
         "legendgroup": "Ρουμανία",
         "line": {
          "color": "rgb(234, 252, 253)",
          "dash": "solid",
          "shape": "spline"
         },
         "mode": "lines",
         "name": "Ρουμανία",
         "showlegend": true,
         "type": "scatter",
         "xaxis": "x",
         "y": [
          123,
          131,
          158,
          184,
          260,
          277,
          308,
          367,
          433,
          576,
          794,
          906,
          1029,
          1292,
          1452,
          1815,
          2109,
          2245,
          2460,
          2738
         ],
         "yaxis": "y"
        },
        {
         "customdata": [
          [
           "Ρωσία"
          ],
          [
           "Ρωσία"
          ],
          [
           "Ρωσία"
          ],
          [
           "Ρωσία"
          ],
          [
           "Ρωσία"
          ],
          [
           "Ρωσία"
          ],
          [
           "Ρωσία"
          ],
          [
           "Ρωσία"
          ],
          [
           "Ρωσία"
          ],
          [
           "Ρωσία"
          ],
          [
           "Ρωσία"
          ],
          [
           "Ρωσία"
          ],
          [
           "Ρωσία"
          ],
          [
           "Ρωσία"
          ],
          [
           "Ρωσία"
          ],
          [
           "Ρωσία"
          ],
          [
           "Ρωσία"
          ]
         ],
         "hoverlabel": {
          "namelength": 0
         },
         "hovertemplate": "Χώρα=%{customdata[0]}<br>Αριθμός Κρουσμάτων=%{y}",
         "legendgroup": "Ρωσία",
         "line": {
          "color": "rgb(3, 5, 18)",
          "dash": "solid",
          "shape": "spline"
         },
         "mode": "lines",
         "name": "Ρωσία",
         "showlegend": true,
         "type": "scatter",
         "xaxis": "x",
         "y": [
          114,
          147,
          199,
          253,
          306,
          367,
          438,
          495,
          658,
          840,
          1036,
          1264,
          1534,
          1836,
          2337,
          2777,
          3548
         ],
         "yaxis": "y"
        },
        {
         "customdata": [
          [
           "Άγ. Μαρίνος"
          ],
          [
           "Άγ. Μαρίνος"
          ],
          [
           "Άγ. Μαρίνος"
          ],
          [
           "Άγ. Μαρίνος"
          ],
          [
           "Άγ. Μαρίνος"
          ],
          [
           "Άγ. Μαρίνος"
          ],
          [
           "Άγ. Μαρίνος"
          ],
          [
           "Άγ. Μαρίνος"
          ],
          [
           "Άγ. Μαρίνος"
          ],
          [
           "Άγ. Μαρίνος"
          ],
          [
           "Άγ. Μαρίνος"
          ],
          [
           "Άγ. Μαρίνος"
          ],
          [
           "Άγ. Μαρίνος"
          ],
          [
           "Άγ. Μαρίνος"
          ],
          [
           "Άγ. Μαρίνος"
          ],
          [
           "Άγ. Μαρίνος"
          ],
          [
           "Άγ. Μαρίνος"
          ],
          [
           "Άγ. Μαρίνος"
          ],
          [
           "Άγ. Μαρίνος"
          ]
         ],
         "hoverlabel": {
          "namelength": 0
         },
         "hovertemplate": "Χώρα=%{customdata[0]}<br>Αριθμός Κρουσμάτων=%{y}",
         "legendgroup": "Άγ. Μαρίνος",
         "line": {
          "color": "rgb(25, 25, 51)",
          "dash": "solid",
          "shape": "spline"
         },
         "mode": "lines",
         "name": "Άγ. Μαρίνος",
         "showlegend": true,
         "type": "scatter",
         "xaxis": "x",
         "y": [
          101,
          109,
          109,
          119,
          119,
          144,
          144,
          175,
          187,
          187,
          208,
          208,
          223,
          224,
          224,
          230,
          236,
          236,
          245
         ],
         "yaxis": "y"
        },
        {
         "customdata": [
          [
           "Σαουδική Αραβία"
          ],
          [
           "Σαουδική Αραβία"
          ],
          [
           "Σαουδική Αραβία"
          ],
          [
           "Σαουδική Αραβία"
          ],
          [
           "Σαουδική Αραβία"
          ],
          [
           "Σαουδική Αραβία"
          ],
          [
           "Σαουδική Αραβία"
          ],
          [
           "Σαουδική Αραβία"
          ],
          [
           "Σαουδική Αραβία"
          ],
          [
           "Σαουδική Αραβία"
          ],
          [
           "Σαουδική Αραβία"
          ],
          [
           "Σαουδική Αραβία"
          ],
          [
           "Σαουδική Αραβία"
          ],
          [
           "Σαουδική Αραβία"
          ],
          [
           "Σαουδική Αραβία"
          ],
          [
           "Σαουδική Αραβία"
          ],
          [
           "Σαουδική Αραβία"
          ],
          [
           "Σαουδική Αραβία"
          ],
          [
           "Σαουδική Αραβία"
          ],
          [
           "Σαουδική Αραβία"
          ]
         ],
         "hoverlabel": {
          "namelength": 0
         },
         "hovertemplate": "Χώρα=%{customdata[0]}<br>Αριθμός Κρουσμάτων=%{y}",
         "legendgroup": "Σαουδική Αραβία",
         "line": {
          "color": "rgb(44, 42, 87)",
          "dash": "solid",
          "shape": "spline"
         },
         "mode": "lines",
         "name": "Σαουδική Αραβία",
         "showlegend": true,
         "type": "scatter",
         "xaxis": "x",
         "y": [
          103,
          103,
          118,
          171,
          171,
          274,
          344,
          392,
          511,
          562,
          767,
          900,
          1012,
          1104,
          1203,
          1299,
          1453,
          1563,
          1720,
          1885
         ],
         "yaxis": "y"
        },
        {
         "customdata": [
          [
           "Σενεγάλη"
          ],
          [
           "Σενεγάλη"
          ],
          [
           "Σενεγάλη"
          ],
          [
           "Σενεγάλη"
          ],
          [
           "Σενεγάλη"
          ],
          [
           "Σενεγάλη"
          ],
          [
           "Σενεγάλη"
          ],
          [
           "Σενεγάλη"
          ]
         ],
         "hoverlabel": {
          "namelength": 0
         },
         "hovertemplate": "Χώρα=%{customdata[0]}<br>Αριθμός Κρουσμάτων=%{y}",
         "legendgroup": "Σενεγάλη",
         "line": {
          "color": "rgb(58, 60, 125)",
          "dash": "solid",
          "shape": "spline"
         },
         "mode": "lines",
         "name": "Σενεγάλη",
         "showlegend": true,
         "type": "scatter",
         "xaxis": "x",
         "y": [
          105,
          119,
          130,
          142,
          162,
          175,
          190,
          195
         ],
         "yaxis": "y"
        },
        {
         "customdata": [
          [
           "Σερβία"
          ],
          [
           "Σερβία"
          ],
          [
           "Σερβία"
          ],
          [
           "Σερβία"
          ],
          [
           "Σερβία"
          ],
          [
           "Σερβία"
          ],
          [
           "Σερβία"
          ],
          [
           "Σερβία"
          ],
          [
           "Σερβία"
          ],
          [
           "Σερβία"
          ],
          [
           "Σερβία"
          ],
          [
           "Σερβία"
          ],
          [
           "Σερβία"
          ],
          [
           "Σερβία"
          ],
          [
           "Σερβία"
          ]
         ],
         "hoverlabel": {
          "namelength": 0
         },
         "hovertemplate": "Χώρα=%{customdata[0]}<br>Αριθμός Κρουσμάτων=%{y}",
         "legendgroup": "Σερβία",
         "line": {
          "color": "rgb(62, 83, 160)",
          "dash": "solid",
          "shape": "spline"
         },
         "mode": "lines",
         "name": "Σερβία",
         "showlegend": true,
         "type": "scatter",
         "xaxis": "x",
         "y": [
          103,
          135,
          171,
          222,
          249,
          303,
          384,
          384,
          457,
          659,
          741,
          785,
          900,
          1060,
          1171
         ],
         "yaxis": "y"
        },
        {
         "customdata": [
          [
           "Σιγκαπούρη"
          ],
          [
           "Σιγκαπούρη"
          ],
          [
           "Σιγκαπούρη"
          ],
          [
           "Σιγκαπούρη"
          ],
          [
           "Σιγκαπούρη"
          ],
          [
           "Σιγκαπούρη"
          ],
          [
           "Σιγκαπούρη"
          ],
          [
           "Σιγκαπούρη"
          ],
          [
           "Σιγκαπούρη"
          ],
          [
           "Σιγκαπούρη"
          ],
          [
           "Σιγκαπούρη"
          ],
          [
           "Σιγκαπούρη"
          ],
          [
           "Σιγκαπούρη"
          ],
          [
           "Σιγκαπούρη"
          ],
          [
           "Σιγκαπούρη"
          ],
          [
           "Σιγκαπούρη"
          ],
          [
           "Σιγκαπούρη"
          ],
          [
           "Σιγκαπούρη"
          ],
          [
           "Σιγκαπούρη"
          ],
          [
           "Σιγκαπούρη"
          ],
          [
           "Σιγκαπούρη"
          ],
          [
           "Σιγκαπούρη"
          ],
          [
           "Σιγκαπούρη"
          ],
          [
           "Σιγκαπούρη"
          ],
          [
           "Σιγκαπούρη"
          ],
          [
           "Σιγκαπούρη"
          ],
          [
           "Σιγκαπούρη"
          ],
          [
           "Σιγκαπούρη"
          ],
          [
           "Σιγκαπούρη"
          ],
          [
           "Σιγκαπούρη"
          ],
          [
           "Σιγκαπούρη"
          ],
          [
           "Σιγκαπούρη"
          ],
          [
           "Σιγκαπούρη"
          ],
          [
           "Σιγκαπούρη"
          ]
         ],
         "hoverlabel": {
          "namelength": 0
         },
         "hovertemplate": "Χώρα=%{customdata[0]}<br>Αριθμός Κρουσμάτων=%{y}",
         "legendgroup": "Σιγκαπούρη",
         "line": {
          "color": "rgb(62, 109, 178)",
          "dash": "solid",
          "shape": "spline"
         },
         "mode": "lines",
         "name": "Σιγκαπούρη",
         "showlegend": true,
         "type": "scatter",
         "xaxis": "x",
         "y": [
          102,
          106,
          108,
          110,
          110,
          117,
          130,
          138,
          150,
          150,
          160,
          178,
          178,
          200,
          212,
          226,
          243,
          266,
          313,
          345,
          385,
          432,
          455,
          509,
          558,
          631,
          683,
          732,
          802,
          844,
          879,
          926,
          1000,
          1049
         ],
         "yaxis": "y"
        },
        {
         "customdata": [
          [
           "Σλοβακία"
          ],
          [
           "Σλοβακία"
          ],
          [
           "Σλοβακία"
          ],
          [
           "Σλοβακία"
          ],
          [
           "Σλοβακία"
          ],
          [
           "Σλοβακία"
          ],
          [
           "Σλοβακία"
          ],
          [
           "Σλοβακία"
          ],
          [
           "Σλοβακία"
          ],
          [
           "Σλοβακία"
          ],
          [
           "Σλοβακία"
          ],
          [
           "Σλοβακία"
          ],
          [
           "Σλοβακία"
          ],
          [
           "Σλοβακία"
          ],
          [
           "Σλοβακία"
          ],
          [
           "Σλοβακία"
          ]
         ],
         "hoverlabel": {
          "namelength": 0
         },
         "hovertemplate": "Χώρα=%{customdata[0]}<br>Αριθμός Κρουσμάτων=%{y}",
         "legendgroup": "Σλοβακία",
         "line": {
          "color": "rgb(72, 134, 187)",
          "dash": "solid",
          "shape": "spline"
         },
         "mode": "lines",
         "name": "Σλοβακία",
         "showlegend": true,
         "type": "scatter",
         "xaxis": "x",
         "y": [
          105,
          123,
          137,
          178,
          185,
          186,
          204,
          216,
          226,
          269,
          292,
          314,
          336,
          363,
          400,
          426
         ],
         "yaxis": "y"
        },
        {
         "customdata": [
          [
           "Σλοβενία"
          ],
          [
           "Σλοβενία"
          ],
          [
           "Σλοβενία"
          ],
          [
           "Σλοβενία"
          ],
          [
           "Σλοβενία"
          ],
          [
           "Σλοβενία"
          ],
          [
           "Σλοβενία"
          ],
          [
           "Σλοβενία"
          ],
          [
           "Σλοβενία"
          ],
          [
           "Σλοβενία"
          ],
          [
           "Σλοβενία"
          ],
          [
           "Σλοβενία"
          ],
          [
           "Σλοβενία"
          ],
          [
           "Σλοβενία"
          ],
          [
           "Σλοβενία"
          ],
          [
           "Σλοβενία"
          ],
          [
           "Σλοβενία"
          ],
          [
           "Σλοβενία"
          ],
          [
           "Σλοβενία"
          ],
          [
           "Σλοβενία"
          ],
          [
           "Σλοβενία"
          ]
         ],
         "hoverlabel": {
          "namelength": 0
         },
         "hovertemplate": "Χώρα=%{customdata[0]}<br>Αριθμός Κρουσμάτων=%{y}",
         "legendgroup": "Σλοβενία",
         "line": {
          "color": "rgb(89, 159, 196)",
          "dash": "solid",
          "shape": "spline"
         },
         "mode": "lines",
         "name": "Σλοβενία",
         "showlegend": true,
         "type": "scatter",
         "xaxis": "x",
         "y": [
          141,
          181,
          219,
          253,
          275,
          275,
          286,
          341,
          383,
          414,
          442,
          480,
          528,
          562,
          632,
          684,
          730,
          756,
          802,
          841,
          897
         ],
         "yaxis": "y"
        },
        {
         "customdata": [
          [
           "Νότια Αφρική"
          ],
          [
           "Νότια Αφρική"
          ],
          [
           "Νότια Αφρική"
          ],
          [
           "Νότια Αφρική"
          ],
          [
           "Νότια Αφρική"
          ],
          [
           "Νότια Αφρική"
          ],
          [
           "Νότια Αφρική"
          ],
          [
           "Νότια Αφρική"
          ],
          [
           "Νότια Αφρική"
          ],
          [
           "Νότια Αφρική"
          ],
          [
           "Νότια Αφρική"
          ],
          [
           "Νότια Αφρική"
          ],
          [
           "Νότια Αφρική"
          ],
          [
           "Νότια Αφρική"
          ],
          [
           "Νότια Αφρική"
          ],
          [
           "Νότια Αφρική"
          ]
         ],
         "hoverlabel": {
          "namelength": 0
         },
         "hovertemplate": "Χώρα=%{customdata[0]}<br>Αριθμός Κρουσμάτων=%{y}",
         "legendgroup": "Νότια Αφρική",
         "line": {
          "color": "rgb(114, 184, 205)",
          "dash": "solid",
          "shape": "spline"
         },
         "mode": "lines",
         "name": "Νότια Αφρική",
         "showlegend": true,
         "type": "scatter",
         "xaxis": "x",
         "y": [
          116,
          150,
          202,
          240,
          274,
          402,
          554,
          709,
          927,
          1170,
          1187,
          1280,
          1326,
          1353,
          1380,
          1462
         ],
         "yaxis": "y"
        },
        {
         "customdata": [
          [
           "Ισπανία"
          ],
          [
           "Ισπανία"
          ],
          [
           "Ισπανία"
          ],
          [
           "Ισπανία"
          ],
          [
           "Ισπανία"
          ],
          [
           "Ισπανία"
          ],
          [
           "Ισπανία"
          ],
          [
           "Ισπανία"
          ],
          [
           "Ισπανία"
          ],
          [
           "Ισπανία"
          ],
          [
           "Ισπανία"
          ],
          [
           "Ισπανία"
          ],
          [
           "Ισπανία"
          ],
          [
           "Ισπανία"
          ],
          [
           "Ισπανία"
          ],
          [
           "Ισπανία"
          ],
          [
           "Ισπανία"
          ],
          [
           "Ισπανία"
          ],
          [
           "Ισπανία"
          ],
          [
           "Ισπανία"
          ],
          [
           "Ισπανία"
          ],
          [
           "Ισπανία"
          ],
          [
           "Ισπανία"
          ],
          [
           "Ισπανία"
          ],
          [
           "Ισπανία"
          ],
          [
           "Ισπανία"
          ],
          [
           "Ισπανία"
          ],
          [
           "Ισπανία"
          ],
          [
           "Ισπανία"
          ],
          [
           "Ισπανία"
          ],
          [
           "Ισπανία"
          ],
          [
           "Ισπανία"
          ]
         ],
         "hoverlabel": {
          "namelength": 0
         },
         "hovertemplate": "Χώρα=%{customdata[0]}<br>Αριθμός Κρουσμάτων=%{y}",
         "legendgroup": "Ισπανία",
         "line": {
          "color": "rgb(149, 207, 216)",
          "dash": "solid",
          "shape": "spline"
         },
         "mode": "lines",
         "name": "Ισπανία",
         "showlegend": true,
         "type": "scatter",
         "xaxis": "x",
         "y": [
          120,
          165,
          222,
          259,
          400,
          500,
          673,
          1073,
          1695,
          2277,
          2277,
          5232,
          6391,
          7798,
          9942,
          11748,
          13910,
          17963,
          20410,
          25374,
          28768,
          35136,
          39885,
          49515,
          57786,
          65719,
          73235,
          80110,
          87956,
          95923,
          104118,
          112065
         ],
         "yaxis": "y"
        },
        {
         "customdata": [
          [
           "Σρι Λάνκα"
          ],
          [
           "Σρι Λάνκα"
          ],
          [
           "Σρι Λάνκα"
          ],
          [
           "Σρι Λάνκα"
          ],
          [
           "Σρι Λάνκα"
          ],
          [
           "Σρι Λάνκα"
          ],
          [
           "Σρι Λάνκα"
          ],
          [
           "Σρι Λάνκα"
          ],
          [
           "Σρι Λάνκα"
          ],
          [
           "Σρι Λάνκα"
          ]
         ],
         "hoverlabel": {
          "namelength": 0
         },
         "hovertemplate": "Χώρα=%{customdata[0]}<br>Αριθμός Κρουσμάτων=%{y}",
         "legendgroup": "Σρι Λάνκα",
         "line": {
          "color": "rgb(192, 229, 232)",
          "dash": "solid",
          "shape": "spline"
         },
         "mode": "lines",
         "name": "Σρι Λάνκα",
         "showlegend": true,
         "type": "scatter",
         "xaxis": "x",
         "y": [
          102,
          102,
          106,
          106,
          113,
          117,
          122,
          143,
          146,
          151
         ],
         "yaxis": "y"
        },
        {
         "customdata": [
          [
           "Σουηδία"
          ],
          [
           "Σουηδία"
          ],
          [
           "Σουηδία"
          ],
          [
           "Σουηδία"
          ],
          [
           "Σουηδία"
          ],
          [
           "Σουηδία"
          ],
          [
           "Σουηδία"
          ],
          [
           "Σουηδία"
          ],
          [
           "Σουηδία"
          ],
          [
           "Σουηδία"
          ],
          [
           "Σουηδία"
          ],
          [
           "Σουηδία"
          ],
          [
           "Σουηδία"
          ],
          [
           "Σουηδία"
          ],
          [
           "Σουηδία"
          ],
          [
           "Σουηδία"
          ],
          [
           "Σουηδία"
          ],
          [
           "Σουηδία"
          ],
          [
           "Σουηδία"
          ],
          [
           "Σουηδία"
          ],
          [
           "Σουηδία"
          ],
          [
           "Σουηδία"
          ],
          [
           "Σουηδία"
          ],
          [
           "Σουηδία"
          ],
          [
           "Σουηδία"
          ],
          [
           "Σουηδία"
          ],
          [
           "Σουηδία"
          ],
          [
           "Σουηδία"
          ]
         ],
         "hoverlabel": {
          "namelength": 0
         },
         "hovertemplate": "Χώρα=%{customdata[0]}<br>Αριθμός Κρουσμάτων=%{y}",
         "legendgroup": "Σουηδία",
         "line": {
          "color": "rgb(234, 252, 253)",
          "dash": "solid",
          "shape": "spline"
         },
         "mode": "lines",
         "name": "Σουηδία",
         "showlegend": true,
         "type": "scatter",
         "xaxis": "x",
         "y": [
          101,
          161,
          203,
          248,
          355,
          500,
          599,
          814,
          961,
          1022,
          1103,
          1190,
          1279,
          1439,
          1639,
          1763,
          1934,
          2046,
          2286,
          2526,
          2840,
          3069,
          3447,
          3700,
          4028,
          4435,
          4947,
          5568
         ],
         "yaxis": "y"
        },
        {
         "customdata": [
          [
           "Ελβετία"
          ],
          [
           "Ελβετία"
          ],
          [
           "Ελβετία"
          ],
          [
           "Ελβετία"
          ],
          [
           "Ελβετία"
          ],
          [
           "Ελβετία"
          ],
          [
           "Ελβετία"
          ],
          [
           "Ελβετία"
          ],
          [
           "Ελβετία"
          ],
          [
           "Ελβετία"
          ],
          [
           "Ελβετία"
          ],
          [
           "Ελβετία"
          ],
          [
           "Ελβετία"
          ],
          [
           "Ελβετία"
          ],
          [
           "Ελβετία"
          ],
          [
           "Ελβετία"
          ],
          [
           "Ελβετία"
          ],
          [
           "Ελβετία"
          ],
          [
           "Ελβετία"
          ],
          [
           "Ελβετία"
          ],
          [
           "Ελβετία"
          ],
          [
           "Ελβετία"
          ],
          [
           "Ελβετία"
          ],
          [
           "Ελβετία"
          ],
          [
           "Ελβετία"
          ],
          [
           "Ελβετία"
          ],
          [
           "Ελβετία"
          ],
          [
           "Ελβετία"
          ],
          [
           "Ελβετία"
          ]
         ],
         "hoverlabel": {
          "namelength": 0
         },
         "hovertemplate": "Χώρα=%{customdata[0]}<br>Αριθμός Κρουσμάτων=%{y}",
         "legendgroup": "Ελβετία",
         "line": {
          "color": "rgb(3, 5, 18)",
          "dash": "solid",
          "shape": "spline"
         },
         "mode": "lines",
         "name": "Ελβετία",
         "showlegend": true,
         "type": "scatter",
         "xaxis": "x",
         "y": [
          114,
          214,
          268,
          337,
          374,
          491,
          652,
          652,
          1139,
          1359,
          2200,
          2200,
          2700,
          3028,
          4075,
          5294,
          6575,
          7474,
          8795,
          9877,
          10897,
          11811,
          12928,
          14076,
          14829,
          15922,
          16605,
          17768,
          18827
         ],
         "yaxis": "y"
        },
        {
         "customdata": [
          [
           "Ταϊβάν"
          ],
          [
           "Ταϊβάν"
          ],
          [
           "Ταϊβάν"
          ],
          [
           "Ταϊβάν"
          ],
          [
           "Ταϊβάν"
          ],
          [
           "Ταϊβάν"
          ],
          [
           "Ταϊβάν"
          ],
          [
           "Ταϊβάν"
          ],
          [
           "Ταϊβάν"
          ],
          [
           "Ταϊβάν"
          ],
          [
           "Ταϊβάν"
          ],
          [
           "Ταϊβάν"
          ],
          [
           "Ταϊβάν"
          ],
          [
           "Ταϊβάν"
          ],
          [
           "Ταϊβάν"
          ],
          [
           "Ταϊβάν"
          ]
         ],
         "hoverlabel": {
          "namelength": 0
         },
         "hovertemplate": "Χώρα=%{customdata[0]}<br>Αριθμός Κρουσμάτων=%{y}",
         "legendgroup": "Ταϊβάν",
         "line": {
          "color": "rgb(25, 25, 51)",
          "dash": "solid",
          "shape": "spline"
         },
         "mode": "lines",
         "name": "Ταϊβάν",
         "showlegend": true,
         "type": "scatter",
         "xaxis": "x",
         "y": [
          100,
          108,
          135,
          153,
          169,
          195,
          215,
          235,
          252,
          267,
          283,
          298,
          306,
          322,
          329,
          339
         ],
         "yaxis": "y"
        },
        {
         "customdata": [
          [
           "Ταϊλάνδη"
          ],
          [
           "Ταϊλάνδη"
          ],
          [
           "Ταϊλάνδη"
          ],
          [
           "Ταϊλάνδη"
          ],
          [
           "Ταϊλάνδη"
          ],
          [
           "Ταϊλάνδη"
          ],
          [
           "Ταϊλάνδη"
          ],
          [
           "Ταϊλάνδη"
          ],
          [
           "Ταϊλάνδη"
          ],
          [
           "Ταϊλάνδη"
          ],
          [
           "Ταϊλάνδη"
          ],
          [
           "Ταϊλάνδη"
          ],
          [
           "Ταϊλάνδη"
          ],
          [
           "Ταϊλάνδη"
          ],
          [
           "Ταϊλάνδη"
          ],
          [
           "Ταϊλάνδη"
          ],
          [
           "Ταϊλάνδη"
          ],
          [
           "Ταϊλάνδη"
          ],
          [
           "Ταϊλάνδη"
          ]
         ],
         "hoverlabel": {
          "namelength": 0
         },
         "hovertemplate": "Χώρα=%{customdata[0]}<br>Αριθμός Κρουσμάτων=%{y}",
         "legendgroup": "Ταϊλάνδη",
         "line": {
          "color": "rgb(44, 42, 87)",
          "dash": "solid",
          "shape": "spline"
         },
         "mode": "lines",
         "name": "Ταϊλάνδη",
         "showlegend": true,
         "type": "scatter",
         "xaxis": "x",
         "y": [
          114,
          147,
          177,
          212,
          272,
          322,
          411,
          599,
          721,
          827,
          934,
          1045,
          1136,
          1245,
          1388,
          1524,
          1651,
          1771,
          1875
         ],
         "yaxis": "y"
        },
        {
         "customdata": [
          [
           "Τυνησία"
          ],
          [
           "Τυνησία"
          ],
          [
           "Τυνησία"
          ],
          [
           "Τυνησία"
          ],
          [
           "Τυνησία"
          ],
          [
           "Τυνησία"
          ],
          [
           "Τυνησία"
          ],
          [
           "Τυνησία"
          ],
          [
           "Τυνησία"
          ],
          [
           "Τυνησία"
          ]
         ],
         "hoverlabel": {
          "namelength": 0
         },
         "hovertemplate": "Χώρα=%{customdata[0]}<br>Αριθμός Κρουσμάτων=%{y}",
         "legendgroup": "Τυνησία",
         "line": {
          "color": "rgb(58, 60, 125)",
          "dash": "solid",
          "shape": "spline"
         },
         "mode": "lines",
         "name": "Τυνησία",
         "showlegend": true,
         "type": "scatter",
         "xaxis": "x",
         "y": [
          114,
          173,
          197,
          227,
          278,
          312,
          312,
          394,
          423,
          455
         ],
         "yaxis": "y"
        },
        {
         "customdata": [
          [
           "Τουρκία"
          ],
          [
           "Τουρκία"
          ],
          [
           "Τουρκία"
          ],
          [
           "Τουρκία"
          ],
          [
           "Τουρκία"
          ],
          [
           "Τουρκία"
          ],
          [
           "Τουρκία"
          ],
          [
           "Τουρκία"
          ],
          [
           "Τουρκία"
          ],
          [
           "Τουρκία"
          ],
          [
           "Τουρκία"
          ],
          [
           "Τουρκία"
          ],
          [
           "Τουρκία"
          ],
          [
           "Τουρκία"
          ],
          [
           "Τουρκία"
          ]
         ],
         "hoverlabel": {
          "namelength": 0
         },
         "hovertemplate": "Χώρα=%{customdata[0]}<br>Αριθμός Κρουσμάτων=%{y}",
         "legendgroup": "Τουρκία",
         "line": {
          "color": "rgb(62, 83, 160)",
          "dash": "solid",
          "shape": "spline"
         },
         "mode": "lines",
         "name": "Τουρκία",
         "showlegend": true,
         "type": "scatter",
         "xaxis": "x",
         "y": [
          192,
          359,
          670,
          1236,
          1529,
          1872,
          2433,
          3629,
          5698,
          7402,
          9217,
          10827,
          13531,
          15679,
          18135
         ],
         "yaxis": "y"
        },
        {
         "customdata": [
          [
           "ΗΠΑ"
          ],
          [
           "ΗΠΑ"
          ],
          [
           "ΗΠΑ"
          ],
          [
           "ΗΠΑ"
          ],
          [
           "ΗΠΑ"
          ],
          [
           "ΗΠΑ"
          ],
          [
           "ΗΠΑ"
          ],
          [
           "ΗΠΑ"
          ],
          [
           "ΗΠΑ"
          ],
          [
           "ΗΠΑ"
          ],
          [
           "ΗΠΑ"
          ],
          [
           "ΗΠΑ"
          ],
          [
           "ΗΠΑ"
          ],
          [
           "ΗΠΑ"
          ],
          [
           "ΗΠΑ"
          ],
          [
           "ΗΠΑ"
          ],
          [
           "ΗΠΑ"
          ],
          [
           "ΗΠΑ"
          ],
          [
           "ΗΠΑ"
          ],
          [
           "ΗΠΑ"
          ],
          [
           "ΗΠΑ"
          ],
          [
           "ΗΠΑ"
          ],
          [
           "ΗΠΑ"
          ],
          [
           "ΗΠΑ"
          ],
          [
           "ΗΠΑ"
          ],
          [
           "ΗΠΑ"
          ],
          [
           "ΗΠΑ"
          ],
          [
           "ΗΠΑ"
          ],
          [
           "ΗΠΑ"
          ],
          [
           "ΗΠΑ"
          ],
          [
           "ΗΠΑ"
          ]
         ],
         "hoverlabel": {
          "namelength": 0
         },
         "hovertemplate": "Χώρα=%{customdata[0]}<br>Αριθμός Κρουσμάτων=%{y}",
         "legendgroup": "ΗΠΑ",
         "line": {
          "color": "rgb(62, 109, 178)",
          "dash": "solid",
          "shape": "spline"
         },
         "mode": "lines",
         "name": "ΗΠΑ",
         "showlegend": true,
         "type": "scatter",
         "xaxis": "x",
         "y": [
          118,
          149,
          217,
          262,
          402,
          518,
          583,
          959,
          1281,
          1663,
          2179,
          2727,
          3499,
          4632,
          6421,
          7783,
          13677,
          19100,
          25489,
          33276,
          43847,
          53740,
          65778,
          83836,
          101657,
          121478,
          140886,
          161807,
          188172,
          213372,
          243453
         ],
         "yaxis": "y"
        },
        {
         "customdata": [
          [
           "Ουκρανία"
          ],
          [
           "Ουκρανία"
          ],
          [
           "Ουκρανία"
          ],
          [
           "Ουκρανία"
          ],
          [
           "Ουκρανία"
          ],
          [
           "Ουκρανία"
          ],
          [
           "Ουκρανία"
          ],
          [
           "Ουκρανία"
          ],
          [
           "Ουκρανία"
          ]
         ],
         "hoverlabel": {
          "namelength": 0
         },
         "hovertemplate": "Χώρα=%{customdata[0]}<br>Αριθμός Κρουσμάτων=%{y}",
         "legendgroup": "Ουκρανία",
         "line": {
          "color": "rgb(72, 134, 187)",
          "dash": "solid",
          "shape": "spline"
         },
         "mode": "lines",
         "name": "Ουκρανία",
         "showlegend": true,
         "type": "scatter",
         "xaxis": "x",
         "y": [
          145,
          196,
          310,
          356,
          475,
          548,
          645,
          794,
          897
         ],
         "yaxis": "y"
        },
        {
         "customdata": [
          [
           "Ην. Αραβικά Εμιράτα"
          ],
          [
           "Ην. Αραβικά Εμιράτα"
          ],
          [
           "Ην. Αραβικά Εμιράτα"
          ],
          [
           "Ην. Αραβικά Εμιράτα"
          ],
          [
           "Ην. Αραβικά Εμιράτα"
          ],
          [
           "Ην. Αραβικά Εμιράτα"
          ],
          [
           "Ην. Αραβικά Εμιράτα"
          ],
          [
           "Ην. Αραβικά Εμιράτα"
          ],
          [
           "Ην. Αραβικά Εμιράτα"
          ],
          [
           "Ην. Αραβικά Εμιράτα"
          ],
          [
           "Ην. Αραβικά Εμιράτα"
          ],
          [
           "Ην. Αραβικά Εμιράτα"
          ],
          [
           "Ην. Αραβικά Εμιράτα"
          ],
          [
           "Ην. Αραβικά Εμιράτα"
          ],
          [
           "Ην. Αραβικά Εμιράτα"
          ],
          [
           "Ην. Αραβικά Εμιράτα"
          ]
         ],
         "hoverlabel": {
          "namelength": 0
         },
         "hovertemplate": "Χώρα=%{customdata[0]}<br>Αριθμός Κρουσμάτων=%{y}",
         "legendgroup": "Ην. Αραβικά Εμιράτα",
         "line": {
          "color": "rgb(89, 159, 196)",
          "dash": "solid",
          "shape": "spline"
         },
         "mode": "lines",
         "name": "Ην. Αραβικά Εμιράτα",
         "showlegend": true,
         "type": "scatter",
         "xaxis": "x",
         "y": [
          113,
          140,
          140,
          153,
          153,
          198,
          248,
          333,
          333,
          405,
          468,
          570,
          611,
          664,
          814,
          1024
         ],
         "yaxis": "y"
        },
        {
         "customdata": [
          [
           "Ην. Βασίλειο"
          ],
          [
           "Ην. Βασίλειο"
          ],
          [
           "Ην. Βασίλειο"
          ],
          [
           "Ην. Βασίλειο"
          ],
          [
           "Ην. Βασίλειο"
          ],
          [
           "Ην. Βασίλειο"
          ],
          [
           "Ην. Βασίλειο"
          ],
          [
           "Ην. Βασίλειο"
          ],
          [
           "Ην. Βασίλειο"
          ],
          [
           "Ην. Βασίλειο"
          ],
          [
           "Ην. Βασίλειο"
          ],
          [
           "Ην. Βασίλειο"
          ],
          [
           "Ην. Βασίλειο"
          ],
          [
           "Ην. Βασίλειο"
          ],
          [
           "Ην. Βασίλειο"
          ],
          [
           "Ην. Βασίλειο"
          ],
          [
           "Ην. Βασίλειο"
          ],
          [
           "Ην. Βασίλειο"
          ],
          [
           "Ην. Βασίλειο"
          ],
          [
           "Ην. Βασίλειο"
          ],
          [
           "Ην. Βασίλειο"
          ],
          [
           "Ην. Βασίλειο"
          ],
          [
           "Ην. Βασίλειο"
          ],
          [
           "Ην. Βασίλειο"
          ],
          [
           "Ην. Βασίλειο"
          ],
          [
           "Ην. Βασίλειο"
          ],
          [
           "Ην. Βασίλειο"
          ],
          [
           "Ην. Βασίλειο"
          ],
          [
           "Ην. Βασίλειο"
          ]
         ],
         "hoverlabel": {
          "namelength": 0
         },
         "hovertemplate": "Χώρα=%{customdata[0]}<br>Αριθμός Κρουσμάτων=%{y}",
         "legendgroup": "Ην. Βασίλειο",
         "line": {
          "color": "rgb(114, 184, 205)",
          "dash": "solid",
          "shape": "spline"
         },
         "mode": "lines",
         "name": "Ην. Βασίλειο",
         "showlegend": true,
         "type": "scatter",
         "xaxis": "x",
         "y": [
          116,
          164,
          207,
          274,
          322,
          384,
          459,
          459,
          802,
          1144,
          1145,
          1551,
          1960,
          2642,
          2716,
          4014,
          5067,
          5745,
          6726,
          8164,
          9640,
          11812,
          14745,
          17312,
          19780,
          22453,
          25481,
          29865,
          34173
         ],
         "yaxis": "y"
        },
        {
         "customdata": [
          [
           "Ουρουγουάη"
          ],
          [
           "Ουρουγουάη"
          ],
          [
           "Ουρουγουάη"
          ],
          [
           "Ουρουγουάη"
          ],
          [
           "Ουρουγουάη"
          ],
          [
           "Ουρουγουάη"
          ],
          [
           "Ουρουγουάη"
          ],
          [
           "Ουρουγουάη"
          ],
          [
           "Ουρουγουάη"
          ],
          [
           "Ουρουγουάη"
          ],
          [
           "Ουρουγουάη"
          ],
          [
           "Ουρουγουάη"
          ],
          [
           "Ουρουγουάη"
          ]
         ],
         "hoverlabel": {
          "namelength": 0
         },
         "hovertemplate": "Χώρα=%{customdata[0]}<br>Αριθμός Κρουσμάτων=%{y}",
         "legendgroup": "Ουρουγουάη",
         "line": {
          "color": "rgb(149, 207, 216)",
          "dash": "solid",
          "shape": "spline"
         },
         "mode": "lines",
         "name": "Ουρουγουάη",
         "showlegend": true,
         "type": "scatter",
         "xaxis": "x",
         "y": [
          110,
          158,
          162,
          162,
          189,
          217,
          238,
          274,
          304,
          310,
          338,
          338,
          350
         ],
         "yaxis": "y"
        },
        {
         "customdata": [
          [
           "Ουζμπεκιστάν"
          ],
          [
           "Ουζμπεκιστάν"
          ],
          [
           "Ουζμπεκιστάν"
          ],
          [
           "Ουζμπεκιστάν"
          ],
          [
           "Ουζμπεκιστάν"
          ],
          [
           "Ουζμπεκιστάν"
          ]
         ],
         "hoverlabel": {
          "namelength": 0
         },
         "hovertemplate": "Χώρα=%{customdata[0]}<br>Αριθμός Κρουσμάτων=%{y}",
         "legendgroup": "Ουζμπεκιστάν",
         "line": {
          "color": "rgb(192, 229, 232)",
          "dash": "solid",
          "shape": "spline"
         },
         "mode": "lines",
         "name": "Ουζμπεκιστάν",
         "showlegend": true,
         "type": "scatter",
         "xaxis": "x",
         "y": [
          104,
          144,
          149,
          172,
          181,
          205
         ],
         "yaxis": "y"
        },
        {
         "customdata": [
          [
           "Βενεζουέλα"
          ],
          [
           "Βενεζουέλα"
          ],
          [
           "Βενεζουέλα"
          ],
          [
           "Βενεζουέλα"
          ],
          [
           "Βενεζουέλα"
          ],
          [
           "Βενεζουέλα"
          ],
          [
           "Βενεζουέλα"
          ],
          [
           "Βενεζουέλα"
          ]
         ],
         "hoverlabel": {
          "namelength": 0
         },
         "hovertemplate": "Χώρα=%{customdata[0]}<br>Αριθμός Κρουσμάτων=%{y}",
         "legendgroup": "Βενεζουέλα",
         "line": {
          "color": "rgb(234, 252, 253)",
          "dash": "solid",
          "shape": "spline"
         },
         "mode": "lines",
         "name": "Βενεζουέλα",
         "showlegend": true,
         "type": "scatter",
         "xaxis": "x",
         "y": [
          107,
          107,
          119,
          119,
          135,
          135,
          143,
          146
         ],
         "yaxis": "y"
        },
        {
         "customdata": [
          [
           "Βιετνάμ"
          ],
          [
           "Βιετνάμ"
          ],
          [
           "Βιετνάμ"
          ],
          [
           "Βιετνάμ"
          ],
          [
           "Βιετνάμ"
          ],
          [
           "Βιετνάμ"
          ],
          [
           "Βιετνάμ"
          ],
          [
           "Βιετνάμ"
          ],
          [
           "Βιετνάμ"
          ],
          [
           "Βιετνάμ"
          ],
          [
           "Βιετνάμ"
          ],
          [
           "Βιετνάμ"
          ]
         ],
         "hoverlabel": {
          "namelength": 0
         },
         "hovertemplate": "Χώρα=%{customdata[0]}<br>Αριθμός Κρουσμάτων=%{y}",
         "legendgroup": "Βιετνάμ",
         "line": {
          "color": "rgb(3, 5, 18)",
          "dash": "solid",
          "shape": "spline"
         },
         "mode": "lines",
         "name": "Βιετνάμ",
         "showlegend": true,
         "type": "scatter",
         "xaxis": "x",
         "y": [
          113,
          123,
          134,
          141,
          153,
          163,
          174,
          188,
          203,
          212,
          218,
          233
         ],
         "yaxis": "y"
        }
       ],
       "layout": {
        "font": {
         "color": "#114B5F",
         "family": "Roboto",
         "size": 11
        },
        "height": 500,
        "hoverlabel": {
         "align": "left",
         "bgcolor": "white",
         "font": {
          "family": "Roboto",
          "size": 12
         }
        },
        "hovermode": "closest",
        "legend": {
         "bgcolor": "LightSteelBlue",
         "bordercolor": "Black",
         "borderwidth": 0.3,
         "font": {
          "color": "black",
          "family": "roboto",
          "size": 10
         },
         "itemsizing": "constant",
         "title": {
          "text": ""
         },
         "tracegroupgap": 0,
         "traceorder": "normal"
        },
        "paper_bgcolor": "#E6ECEC",
        "plot_bgcolor": "#E6ECEC",
        "showlegend": true,
        "template": {
         "data": {
          "bar": [
           {
            "error_x": {
             "color": "#2a3f5f"
            },
            "error_y": {
             "color": "#2a3f5f"
            },
            "marker": {
             "line": {
              "color": "#E5ECF6",
              "width": 0.5
             }
            },
            "type": "bar"
           }
          ],
          "barpolar": [
           {
            "marker": {
             "line": {
              "color": "#E5ECF6",
              "width": 0.5
             }
            },
            "type": "barpolar"
           }
          ],
          "carpet": [
           {
            "aaxis": {
             "endlinecolor": "#2a3f5f",
             "gridcolor": "white",
             "linecolor": "white",
             "minorgridcolor": "white",
             "startlinecolor": "#2a3f5f"
            },
            "baxis": {
             "endlinecolor": "#2a3f5f",
             "gridcolor": "white",
             "linecolor": "white",
             "minorgridcolor": "white",
             "startlinecolor": "#2a3f5f"
            },
            "type": "carpet"
           }
          ],
          "choropleth": [
           {
            "colorbar": {
             "outlinewidth": 0,
             "ticks": ""
            },
            "type": "choropleth"
           }
          ],
          "contour": [
           {
            "colorbar": {
             "outlinewidth": 0,
             "ticks": ""
            },
            "colorscale": [
             [
              0,
              "#0d0887"
             ],
             [
              0.1111111111111111,
              "#46039f"
             ],
             [
              0.2222222222222222,
              "#7201a8"
             ],
             [
              0.3333333333333333,
              "#9c179e"
             ],
             [
              0.4444444444444444,
              "#bd3786"
             ],
             [
              0.5555555555555556,
              "#d8576b"
             ],
             [
              0.6666666666666666,
              "#ed7953"
             ],
             [
              0.7777777777777778,
              "#fb9f3a"
             ],
             [
              0.8888888888888888,
              "#fdca26"
             ],
             [
              1,
              "#f0f921"
             ]
            ],
            "type": "contour"
           }
          ],
          "contourcarpet": [
           {
            "colorbar": {
             "outlinewidth": 0,
             "ticks": ""
            },
            "type": "contourcarpet"
           }
          ],
          "heatmap": [
           {
            "colorbar": {
             "outlinewidth": 0,
             "ticks": ""
            },
            "colorscale": [
             [
              0,
              "#0d0887"
             ],
             [
              0.1111111111111111,
              "#46039f"
             ],
             [
              0.2222222222222222,
              "#7201a8"
             ],
             [
              0.3333333333333333,
              "#9c179e"
             ],
             [
              0.4444444444444444,
              "#bd3786"
             ],
             [
              0.5555555555555556,
              "#d8576b"
             ],
             [
              0.6666666666666666,
              "#ed7953"
             ],
             [
              0.7777777777777778,
              "#fb9f3a"
             ],
             [
              0.8888888888888888,
              "#fdca26"
             ],
             [
              1,
              "#f0f921"
             ]
            ],
            "type": "heatmap"
           }
          ],
          "heatmapgl": [
           {
            "colorbar": {
             "outlinewidth": 0,
             "ticks": ""
            },
            "colorscale": [
             [
              0,
              "#0d0887"
             ],
             [
              0.1111111111111111,
              "#46039f"
             ],
             [
              0.2222222222222222,
              "#7201a8"
             ],
             [
              0.3333333333333333,
              "#9c179e"
             ],
             [
              0.4444444444444444,
              "#bd3786"
             ],
             [
              0.5555555555555556,
              "#d8576b"
             ],
             [
              0.6666666666666666,
              "#ed7953"
             ],
             [
              0.7777777777777778,
              "#fb9f3a"
             ],
             [
              0.8888888888888888,
              "#fdca26"
             ],
             [
              1,
              "#f0f921"
             ]
            ],
            "type": "heatmapgl"
           }
          ],
          "histogram": [
           {
            "marker": {
             "colorbar": {
              "outlinewidth": 0,
              "ticks": ""
             }
            },
            "type": "histogram"
           }
          ],
          "histogram2d": [
           {
            "colorbar": {
             "outlinewidth": 0,
             "ticks": ""
            },
            "colorscale": [
             [
              0,
              "#0d0887"
             ],
             [
              0.1111111111111111,
              "#46039f"
             ],
             [
              0.2222222222222222,
              "#7201a8"
             ],
             [
              0.3333333333333333,
              "#9c179e"
             ],
             [
              0.4444444444444444,
              "#bd3786"
             ],
             [
              0.5555555555555556,
              "#d8576b"
             ],
             [
              0.6666666666666666,
              "#ed7953"
             ],
             [
              0.7777777777777778,
              "#fb9f3a"
             ],
             [
              0.8888888888888888,
              "#fdca26"
             ],
             [
              1,
              "#f0f921"
             ]
            ],
            "type": "histogram2d"
           }
          ],
          "histogram2dcontour": [
           {
            "colorbar": {
             "outlinewidth": 0,
             "ticks": ""
            },
            "colorscale": [
             [
              0,
              "#0d0887"
             ],
             [
              0.1111111111111111,
              "#46039f"
             ],
             [
              0.2222222222222222,
              "#7201a8"
             ],
             [
              0.3333333333333333,
              "#9c179e"
             ],
             [
              0.4444444444444444,
              "#bd3786"
             ],
             [
              0.5555555555555556,
              "#d8576b"
             ],
             [
              0.6666666666666666,
              "#ed7953"
             ],
             [
              0.7777777777777778,
              "#fb9f3a"
             ],
             [
              0.8888888888888888,
              "#fdca26"
             ],
             [
              1,
              "#f0f921"
             ]
            ],
            "type": "histogram2dcontour"
           }
          ],
          "mesh3d": [
           {
            "colorbar": {
             "outlinewidth": 0,
             "ticks": ""
            },
            "type": "mesh3d"
           }
          ],
          "parcoords": [
           {
            "line": {
             "colorbar": {
              "outlinewidth": 0,
              "ticks": ""
             }
            },
            "type": "parcoords"
           }
          ],
          "pie": [
           {
            "automargin": true,
            "type": "pie"
           }
          ],
          "scatter": [
           {
            "marker": {
             "colorbar": {
              "outlinewidth": 0,
              "ticks": ""
             }
            },
            "type": "scatter"
           }
          ],
          "scatter3d": [
           {
            "line": {
             "colorbar": {
              "outlinewidth": 0,
              "ticks": ""
             }
            },
            "marker": {
             "colorbar": {
              "outlinewidth": 0,
              "ticks": ""
             }
            },
            "type": "scatter3d"
           }
          ],
          "scattercarpet": [
           {
            "marker": {
             "colorbar": {
              "outlinewidth": 0,
              "ticks": ""
             }
            },
            "type": "scattercarpet"
           }
          ],
          "scattergeo": [
           {
            "marker": {
             "colorbar": {
              "outlinewidth": 0,
              "ticks": ""
             }
            },
            "type": "scattergeo"
           }
          ],
          "scattergl": [
           {
            "marker": {
             "colorbar": {
              "outlinewidth": 0,
              "ticks": ""
             }
            },
            "type": "scattergl"
           }
          ],
          "scattermapbox": [
           {
            "marker": {
             "colorbar": {
              "outlinewidth": 0,
              "ticks": ""
             }
            },
            "type": "scattermapbox"
           }
          ],
          "scatterpolar": [
           {
            "marker": {
             "colorbar": {
              "outlinewidth": 0,
              "ticks": ""
             }
            },
            "type": "scatterpolar"
           }
          ],
          "scatterpolargl": [
           {
            "marker": {
             "colorbar": {
              "outlinewidth": 0,
              "ticks": ""
             }
            },
            "type": "scatterpolargl"
           }
          ],
          "scatterternary": [
           {
            "marker": {
             "colorbar": {
              "outlinewidth": 0,
              "ticks": ""
             }
            },
            "type": "scatterternary"
           }
          ],
          "surface": [
           {
            "colorbar": {
             "outlinewidth": 0,
             "ticks": ""
            },
            "colorscale": [
             [
              0,
              "#0d0887"
             ],
             [
              0.1111111111111111,
              "#46039f"
             ],
             [
              0.2222222222222222,
              "#7201a8"
             ],
             [
              0.3333333333333333,
              "#9c179e"
             ],
             [
              0.4444444444444444,
              "#bd3786"
             ],
             [
              0.5555555555555556,
              "#d8576b"
             ],
             [
              0.6666666666666666,
              "#ed7953"
             ],
             [
              0.7777777777777778,
              "#fb9f3a"
             ],
             [
              0.8888888888888888,
              "#fdca26"
             ],
             [
              1,
              "#f0f921"
             ]
            ],
            "type": "surface"
           }
          ],
          "table": [
           {
            "cells": {
             "fill": {
              "color": "#EBF0F8"
             },
             "line": {
              "color": "white"
             }
            },
            "header": {
             "fill": {
              "color": "#C8D4E3"
             },
             "line": {
              "color": "white"
             }
            },
            "type": "table"
           }
          ]
         },
         "layout": {
          "annotationdefaults": {
           "arrowcolor": "#2a3f5f",
           "arrowhead": 0,
           "arrowwidth": 1
          },
          "coloraxis": {
           "colorbar": {
            "outlinewidth": 0,
            "ticks": ""
           }
          },
          "colorscale": {
           "diverging": [
            [
             0,
             "#8e0152"
            ],
            [
             0.1,
             "#c51b7d"
            ],
            [
             0.2,
             "#de77ae"
            ],
            [
             0.3,
             "#f1b6da"
            ],
            [
             0.4,
             "#fde0ef"
            ],
            [
             0.5,
             "#f7f7f7"
            ],
            [
             0.6,
             "#e6f5d0"
            ],
            [
             0.7,
             "#b8e186"
            ],
            [
             0.8,
             "#7fbc41"
            ],
            [
             0.9,
             "#4d9221"
            ],
            [
             1,
             "#276419"
            ]
           ],
           "sequential": [
            [
             0,
             "#0d0887"
            ],
            [
             0.1111111111111111,
             "#46039f"
            ],
            [
             0.2222222222222222,
             "#7201a8"
            ],
            [
             0.3333333333333333,
             "#9c179e"
            ],
            [
             0.4444444444444444,
             "#bd3786"
            ],
            [
             0.5555555555555556,
             "#d8576b"
            ],
            [
             0.6666666666666666,
             "#ed7953"
            ],
            [
             0.7777777777777778,
             "#fb9f3a"
            ],
            [
             0.8888888888888888,
             "#fdca26"
            ],
            [
             1,
             "#f0f921"
            ]
           ],
           "sequentialminus": [
            [
             0,
             "#0d0887"
            ],
            [
             0.1111111111111111,
             "#46039f"
            ],
            [
             0.2222222222222222,
             "#7201a8"
            ],
            [
             0.3333333333333333,
             "#9c179e"
            ],
            [
             0.4444444444444444,
             "#bd3786"
            ],
            [
             0.5555555555555556,
             "#d8576b"
            ],
            [
             0.6666666666666666,
             "#ed7953"
            ],
            [
             0.7777777777777778,
             "#fb9f3a"
            ],
            [
             0.8888888888888888,
             "#fdca26"
            ],
            [
             1,
             "#f0f921"
            ]
           ]
          },
          "colorway": [
           "#636efa",
           "#EF553B",
           "#00cc96",
           "#ab63fa",
           "#FFA15A",
           "#19d3f3",
           "#FF6692",
           "#B6E880",
           "#FF97FF",
           "#FECB52"
          ],
          "font": {
           "color": "#2a3f5f"
          },
          "geo": {
           "bgcolor": "white",
           "lakecolor": "white",
           "landcolor": "#E5ECF6",
           "showlakes": true,
           "showland": true,
           "subunitcolor": "white"
          },
          "hoverlabel": {
           "align": "left"
          },
          "hovermode": "closest",
          "mapbox": {
           "style": "light"
          },
          "paper_bgcolor": "white",
          "plot_bgcolor": "#E5ECF6",
          "polar": {
           "angularaxis": {
            "gridcolor": "white",
            "linecolor": "white",
            "ticks": ""
           },
           "bgcolor": "#E5ECF6",
           "radialaxis": {
            "gridcolor": "white",
            "linecolor": "white",
            "ticks": ""
           }
          },
          "scene": {
           "xaxis": {
            "backgroundcolor": "#E5ECF6",
            "gridcolor": "white",
            "gridwidth": 2,
            "linecolor": "white",
            "showbackground": true,
            "ticks": "",
            "zerolinecolor": "white"
           },
           "yaxis": {
            "backgroundcolor": "#E5ECF6",
            "gridcolor": "white",
            "gridwidth": 2,
            "linecolor": "white",
            "showbackground": true,
            "ticks": "",
            "zerolinecolor": "white"
           },
           "zaxis": {
            "backgroundcolor": "#E5ECF6",
            "gridcolor": "white",
            "gridwidth": 2,
            "linecolor": "white",
            "showbackground": true,
            "ticks": "",
            "zerolinecolor": "white"
           }
          },
          "shapedefaults": {
           "line": {
            "color": "#2a3f5f"
           }
          },
          "ternary": {
           "aaxis": {
            "gridcolor": "white",
            "linecolor": "white",
            "ticks": ""
           },
           "baxis": {
            "gridcolor": "white",
            "linecolor": "white",
            "ticks": ""
           },
           "bgcolor": "#E5ECF6",
           "caxis": {
            "gridcolor": "white",
            "linecolor": "white",
            "ticks": ""
           }
          },
          "title": {
           "x": 0.05
          },
          "xaxis": {
           "automargin": true,
           "gridcolor": "white",
           "linecolor": "white",
           "ticks": "",
           "title": {
            "standoff": 15
           },
           "zerolinecolor": "white",
           "zerolinewidth": 2
          },
          "yaxis": {
           "automargin": true,
           "gridcolor": "white",
           "linecolor": "white",
           "ticks": "",
           "title": {
            "standoff": 15
           },
           "zerolinecolor": "white",
           "zerolinewidth": 2
          }
         }
        },
        "title": {
         "text": "Μετά τα 100 πρώτα κρούσματα ανά ημέρα (χωρίς την Κίνα)"
        },
        "width": 750,
        "xaxis": {
         "anchor": "y",
         "domain": [
          0,
          1
         ],
         "gridcolor": "#F8FAFA",
         "gridwidth": 0.1,
         "linecolor": "#F8FAFA",
         "linewidth": 0.1,
         "showgrid": true,
         "showline": false,
         "showticklabels": true,
         "tickvals": [
          5,
          10,
          15,
          20,
          25,
          30,
          35,
          40,
          45
         ],
         "title": {
          "font": {
           "color": "#114B5F",
           "size": 11
          },
          "text": "Ημέρες από το 100ο κρούσμα"
         }
        },
        "yaxis": {
         "anchor": "x",
         "domain": [
          0,
          1
         ],
         "gridcolor": "#F8FAFA",
         "gridwidth": 0.1,
         "linecolor": "#BA3A0A",
         "linewidth": 2,
         "nticks": 4,
         "showgrid": true,
         "showline": true,
         "showticklabels": true,
         "title": {
          "font": {
           "color": "#114B5F",
           "size": 11
          },
          "text": "Αριθμός κρουσμάτων"
         },
         "type": "log"
        }
       }
      },
      "text/html": [
       "<div>\n",
       "        \n",
       "        \n",
       "            <div id=\"cd29cc0f-91b9-4bc0-8d8d-c4ab5dff97ad\" class=\"plotly-graph-div\" style=\"height:500px; width:750px;\"></div>\n",
       "            <script type=\"text/javascript\">\n",
       "                require([\"plotly\"], function(Plotly) {\n",
       "                    window.PLOTLYENV=window.PLOTLYENV || {};\n",
       "                    \n",
       "                if (document.getElementById(\"cd29cc0f-91b9-4bc0-8d8d-c4ab5dff97ad\")) {\n",
       "                    Plotly.newPlot(\n",
       "                        'cd29cc0f-91b9-4bc0-8d8d-c4ab5dff97ad',\n",
       "                        [{\"customdata\": [[\"\\u0391\\u03c6\\u03b3\\u03b1\\u03bd\\u03b9\\u03c3\\u03c4\\u03ac\\u03bd\"], [\"\\u0391\\u03c6\\u03b3\\u03b1\\u03bd\\u03b9\\u03c3\\u03c4\\u03ac\\u03bd\"], [\"\\u0391\\u03c6\\u03b3\\u03b1\\u03bd\\u03b9\\u03c3\\u03c4\\u03ac\\u03bd\"], [\"\\u0391\\u03c6\\u03b3\\u03b1\\u03bd\\u03b9\\u03c3\\u03c4\\u03ac\\u03bd\"], [\"\\u0391\\u03c6\\u03b3\\u03b1\\u03bd\\u03b9\\u03c3\\u03c4\\u03ac\\u03bd\"], [\"\\u0391\\u03c6\\u03b3\\u03b1\\u03bd\\u03b9\\u03c3\\u03c4\\u03ac\\u03bd\"], [\"\\u0391\\u03c6\\u03b3\\u03b1\\u03bd\\u03b9\\u03c3\\u03c4\\u03ac\\u03bd\"]], \"hoverlabel\": {\"namelength\": 0}, \"hovertemplate\": \"\\u03a7\\u03ce\\u03c1\\u03b1=%{customdata[0]}<br>\\u0391\\u03c1\\u03b9\\u03b8\\u03bc\\u03cc\\u03c2 \\u039a\\u03c1\\u03bf\\u03c5\\u03c3\\u03bc\\u03ac\\u03c4\\u03c9\\u03bd=%{y}\", \"legendgroup\": \"\\u0391\\u03c6\\u03b3\\u03b1\\u03bd\\u03b9\\u03c3\\u03c4\\u03ac\\u03bd\", \"line\": {\"color\": \"rgb(3, 5, 18)\", \"dash\": \"solid\", \"shape\": \"spline\"}, \"mode\": \"lines\", \"name\": \"\\u0391\\u03c6\\u03b3\\u03b1\\u03bd\\u03b9\\u03c3\\u03c4\\u03ac\\u03bd\", \"showlegend\": true, \"type\": \"scatter\", \"xaxis\": \"x\", \"y\": [110, 110, 120, 170, 174, 237, 273], \"yaxis\": \"y\"}, {\"customdata\": [[\"\\u0391\\u03bb\\u03b2\\u03b1\\u03bd\\u03af\\u03b1\"], [\"\\u0391\\u03bb\\u03b2\\u03b1\\u03bd\\u03af\\u03b1\"], [\"\\u0391\\u03bb\\u03b2\\u03b1\\u03bd\\u03af\\u03b1\"], [\"\\u0391\\u03bb\\u03b2\\u03b1\\u03bd\\u03af\\u03b1\"], [\"\\u0391\\u03bb\\u03b2\\u03b1\\u03bd\\u03af\\u03b1\"], [\"\\u0391\\u03bb\\u03b2\\u03b1\\u03bd\\u03af\\u03b1\"], [\"\\u0391\\u03bb\\u03b2\\u03b1\\u03bd\\u03af\\u03b1\"], [\"\\u0391\\u03bb\\u03b2\\u03b1\\u03bd\\u03af\\u03b1\"], [\"\\u0391\\u03bb\\u03b2\\u03b1\\u03bd\\u03af\\u03b1\"], [\"\\u0391\\u03bb\\u03b2\\u03b1\\u03bd\\u03af\\u03b1\"], [\"\\u0391\\u03bb\\u03b2\\u03b1\\u03bd\\u03af\\u03b1\"]], \"hoverlabel\": {\"namelength\": 0}, \"hovertemplate\": \"\\u03a7\\u03ce\\u03c1\\u03b1=%{customdata[0]}<br>\\u0391\\u03c1\\u03b9\\u03b8\\u03bc\\u03cc\\u03c2 \\u039a\\u03c1\\u03bf\\u03c5\\u03c3\\u03bc\\u03ac\\u03c4\\u03c9\\u03bd=%{y}\", \"legendgroup\": \"\\u0391\\u03bb\\u03b2\\u03b1\\u03bd\\u03af\\u03b1\", \"line\": {\"color\": \"rgb(25, 25, 51)\", \"dash\": \"solid\", \"shape\": \"spline\"}, \"mode\": \"lines\", \"name\": \"\\u0391\\u03bb\\u03b2\\u03b1\\u03bd\\u03af\\u03b1\", \"showlegend\": true, \"type\": \"scatter\", \"xaxis\": \"x\", \"y\": [104, 123, 146, 174, 186, 197, 212, 223, 243, 259, 277], \"yaxis\": \"y\"}, {\"customdata\": [[\"\\u0391\\u03bb\\u03b3\\u03b5\\u03c1\\u03af\\u03b1\"], [\"\\u0391\\u03bb\\u03b3\\u03b5\\u03c1\\u03af\\u03b1\"], [\"\\u0391\\u03bb\\u03b3\\u03b5\\u03c1\\u03af\\u03b1\"], [\"\\u0391\\u03bb\\u03b3\\u03b5\\u03c1\\u03af\\u03b1\"], [\"\\u0391\\u03bb\\u03b3\\u03b5\\u03c1\\u03af\\u03b1\"], [\"\\u0391\\u03bb\\u03b3\\u03b5\\u03c1\\u03af\\u03b1\"], [\"\\u0391\\u03bb\\u03b3\\u03b5\\u03c1\\u03af\\u03b1\"], [\"\\u0391\\u03bb\\u03b3\\u03b5\\u03c1\\u03af\\u03b1\"], [\"\\u0391\\u03bb\\u03b3\\u03b5\\u03c1\\u03af\\u03b1\"], [\"\\u0391\\u03bb\\u03b3\\u03b5\\u03c1\\u03af\\u03b1\"], [\"\\u0391\\u03bb\\u03b3\\u03b5\\u03c1\\u03af\\u03b1\"], [\"\\u0391\\u03bb\\u03b3\\u03b5\\u03c1\\u03af\\u03b1\"], [\"\\u0391\\u03bb\\u03b3\\u03b5\\u03c1\\u03af\\u03b1\"]], \"hoverlabel\": {\"namelength\": 0}, \"hovertemplate\": \"\\u03a7\\u03ce\\u03c1\\u03b1=%{customdata[0]}<br>\\u0391\\u03c1\\u03b9\\u03b8\\u03bc\\u03cc\\u03c2 \\u039a\\u03c1\\u03bf\\u03c5\\u03c3\\u03bc\\u03ac\\u03c4\\u03c9\\u03bd=%{y}\", \"legendgroup\": \"\\u0391\\u03bb\\u03b3\\u03b5\\u03c1\\u03af\\u03b1\", \"line\": {\"color\": \"rgb(44, 42, 87)\", \"dash\": \"solid\", \"shape\": \"spline\"}, \"mode\": \"lines\", \"name\": \"\\u0391\\u03bb\\u03b3\\u03b5\\u03c1\\u03af\\u03b1\", \"showlegend\": true, \"type\": \"scatter\", \"xaxis\": \"x\", \"y\": [139, 201, 230, 264, 302, 367, 409, 454, 511, 584, 716, 847, 986], \"yaxis\": \"y\"}, {\"customdata\": [[\"\\u0391\\u03bd\\u03b4\\u03cc\\u03c1\\u03c1\\u03b1\"], [\"\\u0391\\u03bd\\u03b4\\u03cc\\u03c1\\u03c1\\u03b1\"], [\"\\u0391\\u03bd\\u03b4\\u03cc\\u03c1\\u03c1\\u03b1\"], [\"\\u0391\\u03bd\\u03b4\\u03cc\\u03c1\\u03c1\\u03b1\"], [\"\\u0391\\u03bd\\u03b4\\u03cc\\u03c1\\u03c1\\u03b1\"], [\"\\u0391\\u03bd\\u03b4\\u03cc\\u03c1\\u03c1\\u03b1\"], [\"\\u0391\\u03bd\\u03b4\\u03cc\\u03c1\\u03c1\\u03b1\"], [\"\\u0391\\u03bd\\u03b4\\u03cc\\u03c1\\u03c1\\u03b1\"], [\"\\u0391\\u03bd\\u03b4\\u03cc\\u03c1\\u03c1\\u03b1\"], [\"\\u0391\\u03bd\\u03b4\\u03cc\\u03c1\\u03c1\\u03b1\"], [\"\\u0391\\u03bd\\u03b4\\u03cc\\u03c1\\u03c1\\u03b1\"], [\"\\u0391\\u03bd\\u03b4\\u03cc\\u03c1\\u03c1\\u03b1\"]], \"hoverlabel\": {\"namelength\": 0}, \"hovertemplate\": \"\\u03a7\\u03ce\\u03c1\\u03b1=%{customdata[0]}<br>\\u0391\\u03c1\\u03b9\\u03b8\\u03bc\\u03cc\\u03c2 \\u039a\\u03c1\\u03bf\\u03c5\\u03c3\\u03bc\\u03ac\\u03c4\\u03c9\\u03bd=%{y}\", \"legendgroup\": \"\\u0391\\u03bd\\u03b4\\u03cc\\u03c1\\u03c1\\u03b1\", \"line\": {\"color\": \"rgb(58, 60, 125)\", \"dash\": \"solid\", \"shape\": \"spline\"}, \"mode\": \"lines\", \"name\": \"\\u0391\\u03bd\\u03b4\\u03cc\\u03c1\\u03c1\\u03b1\", \"showlegend\": true, \"type\": \"scatter\", \"xaxis\": \"x\", \"y\": [113, 133, 164, 188, 224, 267, 308, 334, 370, 376, 390, 428], \"yaxis\": \"y\"}, {\"customdata\": [[\"\\u0391\\u03c1\\u03b3\\u03b5\\u03bd\\u03c4\\u03b9\\u03bd\\u03ae\"], [\"\\u0391\\u03c1\\u03b3\\u03b5\\u03bd\\u03c4\\u03b9\\u03bd\\u03ae\"], [\"\\u0391\\u03c1\\u03b3\\u03b5\\u03bd\\u03c4\\u03b9\\u03bd\\u03ae\"], [\"\\u0391\\u03c1\\u03b3\\u03b5\\u03bd\\u03c4\\u03b9\\u03bd\\u03ae\"], [\"\\u0391\\u03c1\\u03b3\\u03b5\\u03bd\\u03c4\\u03b9\\u03bd\\u03ae\"], [\"\\u0391\\u03c1\\u03b3\\u03b5\\u03bd\\u03c4\\u03b9\\u03bd\\u03ae\"], [\"\\u0391\\u03c1\\u03b3\\u03b5\\u03bd\\u03c4\\u03b9\\u03bd\\u03ae\"], [\"\\u0391\\u03c1\\u03b3\\u03b5\\u03bd\\u03c4\\u03b9\\u03bd\\u03ae\"], [\"\\u0391\\u03c1\\u03b3\\u03b5\\u03bd\\u03c4\\u03b9\\u03bd\\u03ae\"], [\"\\u0391\\u03c1\\u03b3\\u03b5\\u03bd\\u03c4\\u03b9\\u03bd\\u03ae\"], [\"\\u0391\\u03c1\\u03b3\\u03b5\\u03bd\\u03c4\\u03b9\\u03bd\\u03ae\"], [\"\\u0391\\u03c1\\u03b3\\u03b5\\u03bd\\u03c4\\u03b9\\u03bd\\u03ae\"], [\"\\u0391\\u03c1\\u03b3\\u03b5\\u03bd\\u03c4\\u03b9\\u03bd\\u03ae\"], [\"\\u0391\\u03c1\\u03b3\\u03b5\\u03bd\\u03c4\\u03b9\\u03bd\\u03ae\"]], \"hoverlabel\": {\"namelength\": 0}, \"hovertemplate\": \"\\u03a7\\u03ce\\u03c1\\u03b1=%{customdata[0]}<br>\\u0391\\u03c1\\u03b9\\u03b8\\u03bc\\u03cc\\u03c2 \\u039a\\u03c1\\u03bf\\u03c5\\u03c3\\u03bc\\u03ac\\u03c4\\u03c9\\u03bd=%{y}\", \"legendgroup\": \"\\u0391\\u03c1\\u03b3\\u03b5\\u03bd\\u03c4\\u03b9\\u03bd\\u03ae\", \"line\": {\"color\": \"rgb(62, 83, 160)\", \"dash\": \"solid\", \"shape\": \"spline\"}, \"mode\": \"lines\", \"name\": \"\\u0391\\u03c1\\u03b3\\u03b5\\u03bd\\u03c4\\u03b9\\u03bd\\u03ae\", \"showlegend\": true, \"type\": \"scatter\", \"xaxis\": \"x\", \"y\": [128, 158, 266, 301, 387, 387, 502, 589, 690, 745, 820, 1054, 1054, 1133], \"yaxis\": \"y\"}, {\"customdata\": [[\"\\u0391\\u03c1\\u03bc\\u03b5\\u03bd\\u03af\\u03b1\"], [\"\\u0391\\u03c1\\u03bc\\u03b5\\u03bd\\u03af\\u03b1\"], [\"\\u0391\\u03c1\\u03bc\\u03b5\\u03bd\\u03af\\u03b1\"], [\"\\u0391\\u03c1\\u03bc\\u03b5\\u03bd\\u03af\\u03b1\"], [\"\\u0391\\u03c1\\u03bc\\u03b5\\u03bd\\u03af\\u03b1\"], [\"\\u0391\\u03c1\\u03bc\\u03b5\\u03bd\\u03af\\u03b1\"], [\"\\u0391\\u03c1\\u03bc\\u03b5\\u03bd\\u03af\\u03b1\"], [\"\\u0391\\u03c1\\u03bc\\u03b5\\u03bd\\u03af\\u03b1\"], [\"\\u0391\\u03c1\\u03bc\\u03b5\\u03bd\\u03af\\u03b1\"], [\"\\u0391\\u03c1\\u03bc\\u03b5\\u03bd\\u03af\\u03b1\"], [\"\\u0391\\u03c1\\u03bc\\u03b5\\u03bd\\u03af\\u03b1\"], [\"\\u0391\\u03c1\\u03bc\\u03b5\\u03bd\\u03af\\u03b1\"], [\"\\u0391\\u03c1\\u03bc\\u03b5\\u03bd\\u03af\\u03b1\"], [\"\\u0391\\u03c1\\u03bc\\u03b5\\u03bd\\u03af\\u03b1\"], [\"\\u0391\\u03c1\\u03bc\\u03b5\\u03bd\\u03af\\u03b1\"]], \"hoverlabel\": {\"namelength\": 0}, \"hovertemplate\": \"\\u03a7\\u03ce\\u03c1\\u03b1=%{customdata[0]}<br>\\u0391\\u03c1\\u03b9\\u03b8\\u03bc\\u03cc\\u03c2 \\u039a\\u03c1\\u03bf\\u03c5\\u03c3\\u03bc\\u03ac\\u03c4\\u03c9\\u03bd=%{y}\", \"legendgroup\": \"\\u0391\\u03c1\\u03bc\\u03b5\\u03bd\\u03af\\u03b1\", \"line\": {\"color\": \"rgb(62, 109, 178)\", \"dash\": \"solid\", \"shape\": \"spline\"}, \"mode\": \"lines\", \"name\": \"\\u0391\\u03c1\\u03bc\\u03b5\\u03bd\\u03af\\u03b1\", \"showlegend\": true, \"type\": \"scatter\", \"xaxis\": \"x\", \"y\": [115, 136, 160, 194, 235, 249, 265, 290, 329, 407, 424, 482, 532, 571, 663], \"yaxis\": \"y\"}, {\"customdata\": [[\"\\u0391\\u03c5\\u03c3\\u03c4\\u03c1\\u03b1\\u03bb\\u03af\\u03b1\"], [\"\\u0391\\u03c5\\u03c3\\u03c4\\u03c1\\u03b1\\u03bb\\u03af\\u03b1\"], [\"\\u0391\\u03c5\\u03c3\\u03c4\\u03c1\\u03b1\\u03bb\\u03af\\u03b1\"], [\"\\u0391\\u03c5\\u03c3\\u03c4\\u03c1\\u03b1\\u03bb\\u03af\\u03b1\"], [\"\\u0391\\u03c5\\u03c3\\u03c4\\u03c1\\u03b1\\u03bb\\u03af\\u03b1\"], [\"\\u0391\\u03c5\\u03c3\\u03c4\\u03c1\\u03b1\\u03bb\\u03af\\u03b1\"], [\"\\u0391\\u03c5\\u03c3\\u03c4\\u03c1\\u03b1\\u03bb\\u03af\\u03b1\"], [\"\\u0391\\u03c5\\u03c3\\u03c4\\u03c1\\u03b1\\u03bb\\u03af\\u03b1\"], [\"\\u0391\\u03c5\\u03c3\\u03c4\\u03c1\\u03b1\\u03bb\\u03af\\u03b1\"], [\"\\u0391\\u03c5\\u03c3\\u03c4\\u03c1\\u03b1\\u03bb\\u03af\\u03b1\"], [\"\\u0391\\u03c5\\u03c3\\u03c4\\u03c1\\u03b1\\u03bb\\u03af\\u03b1\"], [\"\\u0391\\u03c5\\u03c3\\u03c4\\u03c1\\u03b1\\u03bb\\u03af\\u03b1\"], [\"\\u0391\\u03c5\\u03c3\\u03c4\\u03c1\\u03b1\\u03bb\\u03af\\u03b1\"], [\"\\u0391\\u03c5\\u03c3\\u03c4\\u03c1\\u03b1\\u03bb\\u03af\\u03b1\"], [\"\\u0391\\u03c5\\u03c3\\u03c4\\u03c1\\u03b1\\u03bb\\u03af\\u03b1\"], [\"\\u0391\\u03c5\\u03c3\\u03c4\\u03c1\\u03b1\\u03bb\\u03af\\u03b1\"], [\"\\u0391\\u03c5\\u03c3\\u03c4\\u03c1\\u03b1\\u03bb\\u03af\\u03b1\"], [\"\\u0391\\u03c5\\u03c3\\u03c4\\u03c1\\u03b1\\u03bb\\u03af\\u03b1\"], [\"\\u0391\\u03c5\\u03c3\\u03c4\\u03c1\\u03b1\\u03bb\\u03af\\u03b1\"], [\"\\u0391\\u03c5\\u03c3\\u03c4\\u03c1\\u03b1\\u03bb\\u03af\\u03b1\"], [\"\\u0391\\u03c5\\u03c3\\u03c4\\u03c1\\u03b1\\u03bb\\u03af\\u03b1\"], [\"\\u0391\\u03c5\\u03c3\\u03c4\\u03c1\\u03b1\\u03bb\\u03af\\u03b1\"], [\"\\u0391\\u03c5\\u03c3\\u03c4\\u03c1\\u03b1\\u03bb\\u03af\\u03b1\"], [\"\\u0391\\u03c5\\u03c3\\u03c4\\u03c1\\u03b1\\u03bb\\u03af\\u03b1\"]], \"hoverlabel\": {\"namelength\": 0}, \"hovertemplate\": \"\\u03a7\\u03ce\\u03c1\\u03b1=%{customdata[0]}<br>\\u0391\\u03c1\\u03b9\\u03b8\\u03bc\\u03cc\\u03c2 \\u039a\\u03c1\\u03bf\\u03c5\\u03c3\\u03bc\\u03ac\\u03c4\\u03c9\\u03bd=%{y}\", \"legendgroup\": \"\\u0391\\u03c5\\u03c3\\u03c4\\u03c1\\u03b1\\u03bb\\u03af\\u03b1\", \"line\": {\"color\": \"rgb(72, 134, 187)\", \"dash\": \"solid\", \"shape\": \"spline\"}, \"mode\": \"lines\", \"name\": \"\\u0391\\u03c5\\u03c3\\u03c4\\u03c1\\u03b1\\u03bb\\u03af\\u03b1\", \"showlegend\": true, \"type\": \"scatter\", \"xaxis\": \"x\", \"y\": [107, 128, 128, 200, 250, 297, 377, 452, 568, 681, 791, 1071, 1549, 1682, 2044, 2364, 2810, 3143, 3640, 3984, 4361, 4559, 4862, 5116], \"yaxis\": \"y\"}, {\"customdata\": [[\"\\u0391\\u03c5\\u03c3\\u03c4\\u03c1\\u03af\\u03b1\"], [\"\\u0391\\u03c5\\u03c3\\u03c4\\u03c1\\u03af\\u03b1\"], [\"\\u0391\\u03c5\\u03c3\\u03c4\\u03c1\\u03af\\u03b1\"], [\"\\u0391\\u03c5\\u03c3\\u03c4\\u03c1\\u03af\\u03b1\"], [\"\\u0391\\u03c5\\u03c3\\u03c4\\u03c1\\u03af\\u03b1\"], [\"\\u0391\\u03c5\\u03c3\\u03c4\\u03c1\\u03af\\u03b1\"], [\"\\u0391\\u03c5\\u03c3\\u03c4\\u03c1\\u03af\\u03b1\"], [\"\\u0391\\u03c5\\u03c3\\u03c4\\u03c1\\u03af\\u03b1\"], [\"\\u0391\\u03c5\\u03c3\\u03c4\\u03c1\\u03af\\u03b1\"], [\"\\u0391\\u03c5\\u03c3\\u03c4\\u03c1\\u03af\\u03b1\"], [\"\\u0391\\u03c5\\u03c3\\u03c4\\u03c1\\u03af\\u03b1\"], [\"\\u0391\\u03c5\\u03c3\\u03c4\\u03c1\\u03af\\u03b1\"], [\"\\u0391\\u03c5\\u03c3\\u03c4\\u03c1\\u03af\\u03b1\"], [\"\\u0391\\u03c5\\u03c3\\u03c4\\u03c1\\u03af\\u03b1\"], [\"\\u0391\\u03c5\\u03c3\\u03c4\\u03c1\\u03af\\u03b1\"], [\"\\u0391\\u03c5\\u03c3\\u03c4\\u03c1\\u03af\\u03b1\"], [\"\\u0391\\u03c5\\u03c3\\u03c4\\u03c1\\u03af\\u03b1\"], [\"\\u0391\\u03c5\\u03c3\\u03c4\\u03c1\\u03af\\u03b1\"], [\"\\u0391\\u03c5\\u03c3\\u03c4\\u03c1\\u03af\\u03b1\"], [\"\\u0391\\u03c5\\u03c3\\u03c4\\u03c1\\u03af\\u03b1\"], [\"\\u0391\\u03c5\\u03c3\\u03c4\\u03c1\\u03af\\u03b1\"], [\"\\u0391\\u03c5\\u03c3\\u03c4\\u03c1\\u03af\\u03b1\"], [\"\\u0391\\u03c5\\u03c3\\u03c4\\u03c1\\u03af\\u03b1\"], [\"\\u0391\\u03c5\\u03c3\\u03c4\\u03c1\\u03af\\u03b1\"], [\"\\u0391\\u03c5\\u03c3\\u03c4\\u03c1\\u03af\\u03b1\"], [\"\\u0391\\u03c5\\u03c3\\u03c4\\u03c1\\u03af\\u03b1\"]], \"hoverlabel\": {\"namelength\": 0}, \"hovertemplate\": \"\\u03a7\\u03ce\\u03c1\\u03b1=%{customdata[0]}<br>\\u0391\\u03c1\\u03b9\\u03b8\\u03bc\\u03cc\\u03c2 \\u039a\\u03c1\\u03bf\\u03c5\\u03c3\\u03bc\\u03ac\\u03c4\\u03c9\\u03bd=%{y}\", \"legendgroup\": \"\\u0391\\u03c5\\u03c3\\u03c4\\u03c1\\u03af\\u03b1\", \"line\": {\"color\": \"rgb(89, 159, 196)\", \"dash\": \"solid\", \"shape\": \"spline\"}, \"mode\": \"lines\", \"name\": \"\\u0391\\u03c5\\u03c3\\u03c4\\u03c1\\u03af\\u03b1\", \"showlegend\": true, \"type\": \"scatter\", \"xaxis\": \"x\", \"y\": [104, 131, 182, 246, 302, 504, 655, 860, 1018, 1332, 1646, 2013, 2388, 2814, 3582, 4474, 5283, 5588, 6909, 7657, 8271, 8788, 9618, 10180, 10711, 11129], \"yaxis\": \"y\"}, {\"customdata\": [[\"\\u0391\\u03b6\\u03b5\\u03c1\\u03bc\\u03c0\\u03b1\\u03ca\\u03c4\\u03b6\\u03ac\\u03bd\"], [\"\\u0391\\u03b6\\u03b5\\u03c1\\u03bc\\u03c0\\u03b1\\u03ca\\u03c4\\u03b6\\u03ac\\u03bd\"], [\"\\u0391\\u03b6\\u03b5\\u03c1\\u03bc\\u03c0\\u03b1\\u03ca\\u03c4\\u03b6\\u03ac\\u03bd\"], [\"\\u0391\\u03b6\\u03b5\\u03c1\\u03bc\\u03c0\\u03b1\\u03ca\\u03c4\\u03b6\\u03ac\\u03bd\"], [\"\\u0391\\u03b6\\u03b5\\u03c1\\u03bc\\u03c0\\u03b1\\u03ca\\u03c4\\u03b6\\u03ac\\u03bd\"], [\"\\u0391\\u03b6\\u03b5\\u03c1\\u03bc\\u03c0\\u03b1\\u03ca\\u03c4\\u03b6\\u03ac\\u03bd\"], [\"\\u0391\\u03b6\\u03b5\\u03c1\\u03bc\\u03c0\\u03b1\\u03ca\\u03c4\\u03b6\\u03ac\\u03bd\"], [\"\\u0391\\u03b6\\u03b5\\u03c1\\u03bc\\u03c0\\u03b1\\u03ca\\u03c4\\u03b6\\u03ac\\u03bd\"]], \"hoverlabel\": {\"namelength\": 0}, \"hovertemplate\": \"\\u03a7\\u03ce\\u03c1\\u03b1=%{customdata[0]}<br>\\u0391\\u03c1\\u03b9\\u03b8\\u03bc\\u03cc\\u03c2 \\u039a\\u03c1\\u03bf\\u03c5\\u03c3\\u03bc\\u03ac\\u03c4\\u03c9\\u03bd=%{y}\", \"legendgroup\": \"\\u0391\\u03b6\\u03b5\\u03c1\\u03bc\\u03c0\\u03b1\\u03ca\\u03c4\\u03b6\\u03ac\\u03bd\", \"line\": {\"color\": \"rgb(114, 184, 205)\", \"dash\": \"solid\", \"shape\": \"spline\"}, \"mode\": \"lines\", \"name\": \"\\u0391\\u03b6\\u03b5\\u03c1\\u03bc\\u03c0\\u03b1\\u03ca\\u03c4\\u03b6\\u03ac\\u03bd\", \"showlegend\": true, \"type\": \"scatter\", \"xaxis\": \"x\", \"y\": [122, 165, 182, 209, 273, 298, 359, 400], \"yaxis\": \"y\"}, {\"customdata\": [[\"\\u039c\\u03c0\\u03b1\\u03c7\\u03c1\\u03ad\\u03b9\\u03bd\"], [\"\\u039c\\u03c0\\u03b1\\u03c7\\u03c1\\u03ad\\u03b9\\u03bd\"], [\"\\u039c\\u03c0\\u03b1\\u03c7\\u03c1\\u03ad\\u03b9\\u03bd\"], [\"\\u039c\\u03c0\\u03b1\\u03c7\\u03c1\\u03ad\\u03b9\\u03bd\"], [\"\\u039c\\u03c0\\u03b1\\u03c7\\u03c1\\u03ad\\u03b9\\u03bd\"], [\"\\u039c\\u03c0\\u03b1\\u03c7\\u03c1\\u03ad\\u03b9\\u03bd\"], [\"\\u039c\\u03c0\\u03b1\\u03c7\\u03c1\\u03ad\\u03b9\\u03bd\"], [\"\\u039c\\u03c0\\u03b1\\u03c7\\u03c1\\u03ad\\u03b9\\u03bd\"], [\"\\u039c\\u03c0\\u03b1\\u03c7\\u03c1\\u03ad\\u03b9\\u03bd\"], [\"\\u039c\\u03c0\\u03b1\\u03c7\\u03c1\\u03ad\\u03b9\\u03bd\"], [\"\\u039c\\u03c0\\u03b1\\u03c7\\u03c1\\u03ad\\u03b9\\u03bd\"], [\"\\u039c\\u03c0\\u03b1\\u03c7\\u03c1\\u03ad\\u03b9\\u03bd\"], [\"\\u039c\\u03c0\\u03b1\\u03c7\\u03c1\\u03ad\\u03b9\\u03bd\"], [\"\\u039c\\u03c0\\u03b1\\u03c7\\u03c1\\u03ad\\u03b9\\u03bd\"], [\"\\u039c\\u03c0\\u03b1\\u03c7\\u03c1\\u03ad\\u03b9\\u03bd\"], [\"\\u039c\\u03c0\\u03b1\\u03c7\\u03c1\\u03ad\\u03b9\\u03bd\"], [\"\\u039c\\u03c0\\u03b1\\u03c7\\u03c1\\u03ad\\u03b9\\u03bd\"], [\"\\u039c\\u03c0\\u03b1\\u03c7\\u03c1\\u03ad\\u03b9\\u03bd\"], [\"\\u039c\\u03c0\\u03b1\\u03c7\\u03c1\\u03ad\\u03b9\\u03bd\"], [\"\\u039c\\u03c0\\u03b1\\u03c7\\u03c1\\u03ad\\u03b9\\u03bd\"], [\"\\u039c\\u03c0\\u03b1\\u03c7\\u03c1\\u03ad\\u03b9\\u03bd\"], [\"\\u039c\\u03c0\\u03b1\\u03c7\\u03c1\\u03ad\\u03b9\\u03bd\"], [\"\\u039c\\u03c0\\u03b1\\u03c7\\u03c1\\u03ad\\u03b9\\u03bd\"], [\"\\u039c\\u03c0\\u03b1\\u03c7\\u03c1\\u03ad\\u03b9\\u03bd\"]], \"hoverlabel\": {\"namelength\": 0}, \"hovertemplate\": \"\\u03a7\\u03ce\\u03c1\\u03b1=%{customdata[0]}<br>\\u0391\\u03c1\\u03b9\\u03b8\\u03bc\\u03cc\\u03c2 \\u039a\\u03c1\\u03bf\\u03c5\\u03c3\\u03bc\\u03ac\\u03c4\\u03c9\\u03bd=%{y}\", \"legendgroup\": \"\\u039c\\u03c0\\u03b1\\u03c7\\u03c1\\u03ad\\u03b9\\u03bd\", \"line\": {\"color\": \"rgb(149, 207, 216)\", \"dash\": \"solid\", \"shape\": \"spline\"}, \"mode\": \"lines\", \"name\": \"\\u039c\\u03c0\\u03b1\\u03c7\\u03c1\\u03ad\\u03b9\\u03bd\", \"showlegend\": true, \"type\": \"scatter\", \"xaxis\": \"x\", \"y\": [110, 195, 195, 195, 210, 214, 214, 228, 256, 278, 285, 305, 334, 377, 392, 419, 458, 466, 476, 499, 515, 567, 569, 643], \"yaxis\": \"y\"}, {\"customdata\": [[\"\\u039b\\u03b5\\u03c5\\u03ba\\u03bf\\u03c1\\u03c9\\u03c3\\u03af\\u03b1\"], [\"\\u039b\\u03b5\\u03c5\\u03ba\\u03bf\\u03c1\\u03c9\\u03c3\\u03af\\u03b1\"], [\"\\u039b\\u03b5\\u03c5\\u03ba\\u03bf\\u03c1\\u03c9\\u03c3\\u03af\\u03b1\"], [\"\\u039b\\u03b5\\u03c5\\u03ba\\u03bf\\u03c1\\u03c9\\u03c3\\u03af\\u03b1\"]], \"hoverlabel\": {\"namelength\": 0}, \"hovertemplate\": \"\\u03a7\\u03ce\\u03c1\\u03b1=%{customdata[0]}<br>\\u0391\\u03c1\\u03b9\\u03b8\\u03bc\\u03cc\\u03c2 \\u039a\\u03c1\\u03bf\\u03c5\\u03c3\\u03bc\\u03ac\\u03c4\\u03c9\\u03bd=%{y}\", \"legendgroup\": \"\\u039b\\u03b5\\u03c5\\u03ba\\u03bf\\u03c1\\u03c9\\u03c3\\u03af\\u03b1\", \"line\": {\"color\": \"rgb(192, 229, 232)\", \"dash\": \"solid\", \"shape\": \"spline\"}, \"mode\": \"lines\", \"name\": \"\\u039b\\u03b5\\u03c5\\u03ba\\u03bf\\u03c1\\u03c9\\u03c3\\u03af\\u03b1\", \"showlegend\": true, \"type\": \"scatter\", \"xaxis\": \"x\", \"y\": [152, 152, 163, 304], \"yaxis\": \"y\"}, {\"customdata\": [[\"\\u0392\\u03ad\\u03bb\\u03b3\\u03b9\\u03bf\"], [\"\\u0392\\u03ad\\u03bb\\u03b3\\u03b9\\u03bf\"], [\"\\u0392\\u03ad\\u03bb\\u03b3\\u03b9\\u03bf\"], [\"\\u0392\\u03ad\\u03bb\\u03b3\\u03b9\\u03bf\"], [\"\\u0392\\u03ad\\u03bb\\u03b3\\u03b9\\u03bf\"], [\"\\u0392\\u03ad\\u03bb\\u03b3\\u03b9\\u03bf\"], [\"\\u0392\\u03ad\\u03bb\\u03b3\\u03b9\\u03bf\"], [\"\\u0392\\u03ad\\u03bb\\u03b3\\u03b9\\u03bf\"], [\"\\u0392\\u03ad\\u03bb\\u03b3\\u03b9\\u03bf\"], [\"\\u0392\\u03ad\\u03bb\\u03b3\\u03b9\\u03bf\"], [\"\\u0392\\u03ad\\u03bb\\u03b3\\u03b9\\u03bf\"], [\"\\u0392\\u03ad\\u03bb\\u03b3\\u03b9\\u03bf\"], [\"\\u0392\\u03ad\\u03bb\\u03b3\\u03b9\\u03bf\"], [\"\\u0392\\u03ad\\u03bb\\u03b3\\u03b9\\u03bf\"], [\"\\u0392\\u03ad\\u03bb\\u03b3\\u03b9\\u03bf\"], [\"\\u0392\\u03ad\\u03bb\\u03b3\\u03b9\\u03bf\"], [\"\\u0392\\u03ad\\u03bb\\u03b3\\u03b9\\u03bf\"], [\"\\u0392\\u03ad\\u03bb\\u03b3\\u03b9\\u03bf\"], [\"\\u0392\\u03ad\\u03bb\\u03b3\\u03b9\\u03bf\"], [\"\\u0392\\u03ad\\u03bb\\u03b3\\u03b9\\u03bf\"], [\"\\u0392\\u03ad\\u03bb\\u03b3\\u03b9\\u03bf\"], [\"\\u0392\\u03ad\\u03bb\\u03b3\\u03b9\\u03bf\"], [\"\\u0392\\u03ad\\u03bb\\u03b3\\u03b9\\u03bf\"], [\"\\u0392\\u03ad\\u03bb\\u03b3\\u03b9\\u03bf\"], [\"\\u0392\\u03ad\\u03bb\\u03b3\\u03b9\\u03bf\"], [\"\\u0392\\u03ad\\u03bb\\u03b3\\u03b9\\u03bf\"], [\"\\u0392\\u03ad\\u03bb\\u03b3\\u03b9\\u03bf\"], [\"\\u0392\\u03ad\\u03bb\\u03b3\\u03b9\\u03bf\"]], \"hoverlabel\": {\"namelength\": 0}, \"hovertemplate\": \"\\u03a7\\u03ce\\u03c1\\u03b1=%{customdata[0]}<br>\\u0391\\u03c1\\u03b9\\u03b8\\u03bc\\u03cc\\u03c2 \\u039a\\u03c1\\u03bf\\u03c5\\u03c3\\u03bc\\u03ac\\u03c4\\u03c9\\u03bd=%{y}\", \"legendgroup\": \"\\u0392\\u03ad\\u03bb\\u03b3\\u03b9\\u03bf\", \"line\": {\"color\": \"rgb(234, 252, 253)\", \"dash\": \"solid\", \"shape\": \"spline\"}, \"mode\": \"lines\", \"name\": \"\\u0392\\u03ad\\u03bb\\u03b3\\u03b9\\u03bf\", \"showlegend\": true, \"type\": \"scatter\", \"xaxis\": \"x\", \"y\": [109, 169, 200, 239, 267, 314, 314, 559, 689, 886, 1058, 1243, 1486, 1795, 2257, 2815, 3401, 3743, 4269, 4937, 6235, 7284, 9134, 10836, 11899, 12775, 13964, 15348], \"yaxis\": \"y\"}, {\"customdata\": [[\"\\u0392\\u03bf\\u03bb\\u03b9\\u03b2\\u03af\\u03b1\"], [\"\\u0392\\u03bf\\u03bb\\u03b9\\u03b2\\u03af\\u03b1\"], [\"\\u0392\\u03bf\\u03bb\\u03b9\\u03b2\\u03af\\u03b1\"]], \"hoverlabel\": {\"namelength\": 0}, \"hovertemplate\": \"\\u03a7\\u03ce\\u03c1\\u03b1=%{customdata[0]}<br>\\u0391\\u03c1\\u03b9\\u03b8\\u03bc\\u03cc\\u03c2 \\u039a\\u03c1\\u03bf\\u03c5\\u03c3\\u03bc\\u03ac\\u03c4\\u03c9\\u03bd=%{y}\", \"legendgroup\": \"\\u0392\\u03bf\\u03bb\\u03b9\\u03b2\\u03af\\u03b1\", \"line\": {\"color\": \"rgb(3, 5, 18)\", \"dash\": \"solid\", \"shape\": \"spline\"}, \"mode\": \"lines\", \"name\": \"\\u0392\\u03bf\\u03bb\\u03b9\\u03b2\\u03af\\u03b1\", \"showlegend\": true, \"type\": \"scatter\", \"xaxis\": \"x\", \"y\": [107, 115, 123], \"yaxis\": \"y\"}, {\"customdata\": [[\"\\u0392\\u03bf\\u03c3\\u03bd\\u03af\\u03b1-\\u0395\\u03c1\\u03b6\\u03b5\\u03b3\\u03bf\\u03b2\\u03af\\u03bd\\u03b7\"], [\"\\u0392\\u03bf\\u03c3\\u03bd\\u03af\\u03b1-\\u0395\\u03c1\\u03b6\\u03b5\\u03b3\\u03bf\\u03b2\\u03af\\u03bd\\u03b7\"], [\"\\u0392\\u03bf\\u03c3\\u03bd\\u03af\\u03b1-\\u0395\\u03c1\\u03b6\\u03b5\\u03b3\\u03bf\\u03b2\\u03af\\u03bd\\u03b7\"], [\"\\u0392\\u03bf\\u03c3\\u03bd\\u03af\\u03b1-\\u0395\\u03c1\\u03b6\\u03b5\\u03b3\\u03bf\\u03b2\\u03af\\u03bd\\u03b7\"], [\"\\u0392\\u03bf\\u03c3\\u03bd\\u03af\\u03b1-\\u0395\\u03c1\\u03b6\\u03b5\\u03b3\\u03bf\\u03b2\\u03af\\u03bd\\u03b7\"], [\"\\u0392\\u03bf\\u03c3\\u03bd\\u03af\\u03b1-\\u0395\\u03c1\\u03b6\\u03b5\\u03b3\\u03bf\\u03b2\\u03af\\u03bd\\u03b7\"], [\"\\u0392\\u03bf\\u03c3\\u03bd\\u03af\\u03b1-\\u0395\\u03c1\\u03b6\\u03b5\\u03b3\\u03bf\\u03b2\\u03af\\u03bd\\u03b7\"], [\"\\u0392\\u03bf\\u03c3\\u03bd\\u03af\\u03b1-\\u0395\\u03c1\\u03b6\\u03b5\\u03b3\\u03bf\\u03b2\\u03af\\u03bd\\u03b7\"], [\"\\u0392\\u03bf\\u03c3\\u03bd\\u03af\\u03b1-\\u0395\\u03c1\\u03b6\\u03b5\\u03b3\\u03bf\\u03b2\\u03af\\u03bd\\u03b7\"], [\"\\u0392\\u03bf\\u03c3\\u03bd\\u03af\\u03b1-\\u0395\\u03c1\\u03b6\\u03b5\\u03b3\\u03bf\\u03b2\\u03af\\u03bd\\u03b7\"], [\"\\u0392\\u03bf\\u03c3\\u03bd\\u03af\\u03b1-\\u0395\\u03c1\\u03b6\\u03b5\\u03b3\\u03bf\\u03b2\\u03af\\u03bd\\u03b7\"], [\"\\u0392\\u03bf\\u03c3\\u03bd\\u03af\\u03b1-\\u0395\\u03c1\\u03b6\\u03b5\\u03b3\\u03bf\\u03b2\\u03af\\u03bd\\u03b7\"]], \"hoverlabel\": {\"namelength\": 0}, \"hovertemplate\": \"\\u03a7\\u03ce\\u03c1\\u03b1=%{customdata[0]}<br>\\u0391\\u03c1\\u03b9\\u03b8\\u03bc\\u03cc\\u03c2 \\u039a\\u03c1\\u03bf\\u03c5\\u03c3\\u03bc\\u03ac\\u03c4\\u03c9\\u03bd=%{y}\", \"legendgroup\": \"\\u0392\\u03bf\\u03c3\\u03bd\\u03af\\u03b1-\\u0395\\u03c1\\u03b6\\u03b5\\u03b3\\u03bf\\u03b2\\u03af\\u03bd\\u03b7\", \"line\": {\"color\": \"rgb(25, 25, 51)\", \"dash\": \"solid\", \"shape\": \"spline\"}, \"mode\": \"lines\", \"name\": \"\\u0392\\u03bf\\u03c3\\u03bd\\u03af\\u03b1-\\u0395\\u03c1\\u03b6\\u03b5\\u03b3\\u03bf\\u03b2\\u03af\\u03bd\\u03b7\", \"showlegend\": true, \"type\": \"scatter\", \"xaxis\": \"x\", \"y\": [126, 136, 166, 176, 191, 237, 258, 323, 368, 420, 459, 533], \"yaxis\": \"y\"}, {\"customdata\": [[\"\\u0392\\u03c1\\u03b1\\u03b6\\u03b9\\u03bb\\u03af\\u03b1\"], [\"\\u0392\\u03c1\\u03b1\\u03b6\\u03b9\\u03bb\\u03af\\u03b1\"], [\"\\u0392\\u03c1\\u03b1\\u03b6\\u03b9\\u03bb\\u03af\\u03b1\"], [\"\\u0392\\u03c1\\u03b1\\u03b6\\u03b9\\u03bb\\u03af\\u03b1\"], [\"\\u0392\\u03c1\\u03b1\\u03b6\\u03b9\\u03bb\\u03af\\u03b1\"], [\"\\u0392\\u03c1\\u03b1\\u03b6\\u03b9\\u03bb\\u03af\\u03b1\"], [\"\\u0392\\u03c1\\u03b1\\u03b6\\u03b9\\u03bb\\u03af\\u03b1\"], [\"\\u0392\\u03c1\\u03b1\\u03b6\\u03b9\\u03bb\\u03af\\u03b1\"], [\"\\u0392\\u03c1\\u03b1\\u03b6\\u03b9\\u03bb\\u03af\\u03b1\"], [\"\\u0392\\u03c1\\u03b1\\u03b6\\u03b9\\u03bb\\u03af\\u03b1\"], [\"\\u0392\\u03c1\\u03b1\\u03b6\\u03b9\\u03bb\\u03af\\u03b1\"], [\"\\u0392\\u03c1\\u03b1\\u03b6\\u03b9\\u03bb\\u03af\\u03b1\"], [\"\\u0392\\u03c1\\u03b1\\u03b6\\u03b9\\u03bb\\u03af\\u03b1\"], [\"\\u0392\\u03c1\\u03b1\\u03b6\\u03b9\\u03bb\\u03af\\u03b1\"], [\"\\u0392\\u03c1\\u03b1\\u03b6\\u03b9\\u03bb\\u03af\\u03b1\"], [\"\\u0392\\u03c1\\u03b1\\u03b6\\u03b9\\u03bb\\u03af\\u03b1\"], [\"\\u0392\\u03c1\\u03b1\\u03b6\\u03b9\\u03bb\\u03af\\u03b1\"], [\"\\u0392\\u03c1\\u03b1\\u03b6\\u03b9\\u03bb\\u03af\\u03b1\"], [\"\\u0392\\u03c1\\u03b1\\u03b6\\u03b9\\u03bb\\u03af\\u03b1\"], [\"\\u0392\\u03c1\\u03b1\\u03b6\\u03b9\\u03bb\\u03af\\u03b1\"], [\"\\u0392\\u03c1\\u03b1\\u03b6\\u03b9\\u03bb\\u03af\\u03b1\"]], \"hoverlabel\": {\"namelength\": 0}, \"hovertemplate\": \"\\u03a7\\u03ce\\u03c1\\u03b1=%{customdata[0]}<br>\\u0391\\u03c1\\u03b9\\u03b8\\u03bc\\u03cc\\u03c2 \\u039a\\u03c1\\u03bf\\u03c5\\u03c3\\u03bc\\u03ac\\u03c4\\u03c9\\u03bd=%{y}\", \"legendgroup\": \"\\u0392\\u03c1\\u03b1\\u03b6\\u03b9\\u03bb\\u03af\\u03b1\", \"line\": {\"color\": \"rgb(44, 42, 87)\", \"dash\": \"solid\", \"shape\": \"spline\"}, \"mode\": \"lines\", \"name\": \"\\u0392\\u03c1\\u03b1\\u03b6\\u03b9\\u03bb\\u03af\\u03b1\", \"showlegend\": true, \"type\": \"scatter\", \"xaxis\": \"x\", \"y\": [151, 151, 162, 200, 321, 372, 621, 793, 1021, 1546, 1924, 2247, 2554, 2985, 3417, 3904, 4256, 4579, 5717, 6836, 8044], \"yaxis\": \"y\"}, {\"customdata\": [[\"\\u039c\\u03c0\\u03c1\\u03bf\\u03c5\\u03bd\\u03ad\\u03b9\"], [\"\\u039c\\u03c0\\u03c1\\u03bf\\u03c5\\u03bd\\u03ad\\u03b9\"], [\"\\u039c\\u03c0\\u03c1\\u03bf\\u03c5\\u03bd\\u03ad\\u03b9\"], [\"\\u039c\\u03c0\\u03c1\\u03bf\\u03c5\\u03bd\\u03ad\\u03b9\"], [\"\\u039c\\u03c0\\u03c1\\u03bf\\u03c5\\u03bd\\u03ad\\u03b9\"], [\"\\u039c\\u03c0\\u03c1\\u03bf\\u03c5\\u03bd\\u03ad\\u03b9\"], [\"\\u039c\\u03c0\\u03c1\\u03bf\\u03c5\\u03bd\\u03ad\\u03b9\"], [\"\\u039c\\u03c0\\u03c1\\u03bf\\u03c5\\u03bd\\u03ad\\u03b9\"], [\"\\u039c\\u03c0\\u03c1\\u03bf\\u03c5\\u03bd\\u03ad\\u03b9\"], [\"\\u039c\\u03c0\\u03c1\\u03bf\\u03c5\\u03bd\\u03ad\\u03b9\"]], \"hoverlabel\": {\"namelength\": 0}, \"hovertemplate\": \"\\u03a7\\u03ce\\u03c1\\u03b1=%{customdata[0]}<br>\\u0391\\u03c1\\u03b9\\u03b8\\u03bc\\u03cc\\u03c2 \\u039a\\u03c1\\u03bf\\u03c5\\u03c3\\u03bc\\u03ac\\u03c4\\u03c9\\u03bd=%{y}\", \"legendgroup\": \"\\u039c\\u03c0\\u03c1\\u03bf\\u03c5\\u03bd\\u03ad\\u03b9\", \"line\": {\"color\": \"rgb(58, 60, 125)\", \"dash\": \"solid\", \"shape\": \"spline\"}, \"mode\": \"lines\", \"name\": \"\\u039c\\u03c0\\u03c1\\u03bf\\u03c5\\u03bd\\u03ad\\u03b9\", \"showlegend\": true, \"type\": \"scatter\", \"xaxis\": \"x\", \"y\": [104, 109, 114, 115, 120, 126, 127, 129, 131, 133], \"yaxis\": \"y\"}, {\"customdata\": [[\"\\u0392\\u03bf\\u03c5\\u03bb\\u03b3\\u03b1\\u03c1\\u03af\\u03b1\"], [\"\\u0392\\u03bf\\u03c5\\u03bb\\u03b3\\u03b1\\u03c1\\u03af\\u03b1\"], [\"\\u0392\\u03bf\\u03c5\\u03bb\\u03b3\\u03b1\\u03c1\\u03af\\u03b1\"], [\"\\u0392\\u03bf\\u03c5\\u03bb\\u03b3\\u03b1\\u03c1\\u03af\\u03b1\"], [\"\\u0392\\u03bf\\u03c5\\u03bb\\u03b3\\u03b1\\u03c1\\u03af\\u03b1\"], [\"\\u0392\\u03bf\\u03c5\\u03bb\\u03b3\\u03b1\\u03c1\\u03af\\u03b1\"], [\"\\u0392\\u03bf\\u03c5\\u03bb\\u03b3\\u03b1\\u03c1\\u03af\\u03b1\"], [\"\\u0392\\u03bf\\u03c5\\u03bb\\u03b3\\u03b1\\u03c1\\u03af\\u03b1\"], [\"\\u0392\\u03bf\\u03c5\\u03bb\\u03b3\\u03b1\\u03c1\\u03af\\u03b1\"], [\"\\u0392\\u03bf\\u03c5\\u03bb\\u03b3\\u03b1\\u03c1\\u03af\\u03b1\"], [\"\\u0392\\u03bf\\u03c5\\u03bb\\u03b3\\u03b1\\u03c1\\u03af\\u03b1\"], [\"\\u0392\\u03bf\\u03c5\\u03bb\\u03b3\\u03b1\\u03c1\\u03af\\u03b1\"], [\"\\u0392\\u03bf\\u03c5\\u03bb\\u03b3\\u03b1\\u03c1\\u03af\\u03b1\"], [\"\\u0392\\u03bf\\u03c5\\u03bb\\u03b3\\u03b1\\u03c1\\u03af\\u03b1\"]], \"hoverlabel\": {\"namelength\": 0}, \"hovertemplate\": \"\\u03a7\\u03ce\\u03c1\\u03b1=%{customdata[0]}<br>\\u0391\\u03c1\\u03b9\\u03b8\\u03bc\\u03cc\\u03c2 \\u039a\\u03c1\\u03bf\\u03c5\\u03c3\\u03bc\\u03ac\\u03c4\\u03c9\\u03bd=%{y}\", \"legendgroup\": \"\\u0392\\u03bf\\u03c5\\u03bb\\u03b3\\u03b1\\u03c1\\u03af\\u03b1\", \"line\": {\"color\": \"rgb(62, 83, 160)\", \"dash\": \"solid\", \"shape\": \"spline\"}, \"mode\": \"lines\", \"name\": \"\\u0392\\u03bf\\u03c5\\u03bb\\u03b3\\u03b1\\u03c1\\u03af\\u03b1\", \"showlegend\": true, \"type\": \"scatter\", \"xaxis\": \"x\", \"y\": [127, 163, 187, 201, 218, 242, 264, 293, 331, 346, 359, 399, 422, 457], \"yaxis\": \"y\"}, {\"customdata\": [[\"\\u039c\\u03c0\\u03bf\\u03c5\\u03c1\\u03ba\\u03af\\u03bd\\u03b1 \\u03a6\\u03ac\\u03c3\\u03bf\"], [\"\\u039c\\u03c0\\u03bf\\u03c5\\u03c1\\u03ba\\u03af\\u03bd\\u03b1 \\u03a6\\u03ac\\u03c3\\u03bf\"], [\"\\u039c\\u03c0\\u03bf\\u03c5\\u03c1\\u03ba\\u03af\\u03bd\\u03b1 \\u03a6\\u03ac\\u03c3\\u03bf\"], [\"\\u039c\\u03c0\\u03bf\\u03c5\\u03c1\\u03ba\\u03af\\u03bd\\u03b1 \\u03a6\\u03ac\\u03c3\\u03bf\"], [\"\\u039c\\u03c0\\u03bf\\u03c5\\u03c1\\u03ba\\u03af\\u03bd\\u03b1 \\u03a6\\u03ac\\u03c3\\u03bf\"], [\"\\u039c\\u03c0\\u03bf\\u03c5\\u03c1\\u03ba\\u03af\\u03bd\\u03b1 \\u03a6\\u03ac\\u03c3\\u03bf\"], [\"\\u039c\\u03c0\\u03bf\\u03c5\\u03c1\\u03ba\\u03af\\u03bd\\u03b1 \\u03a6\\u03ac\\u03c3\\u03bf\"], [\"\\u039c\\u03c0\\u03bf\\u03c5\\u03c1\\u03ba\\u03af\\u03bd\\u03b1 \\u03a6\\u03ac\\u03c3\\u03bf\"], [\"\\u039c\\u03c0\\u03bf\\u03c5\\u03c1\\u03ba\\u03af\\u03bd\\u03b1 \\u03a6\\u03ac\\u03c3\\u03bf\"], [\"\\u039c\\u03c0\\u03bf\\u03c5\\u03c1\\u03ba\\u03af\\u03bd\\u03b1 \\u03a6\\u03ac\\u03c3\\u03bf\"]], \"hoverlabel\": {\"namelength\": 0}, \"hovertemplate\": \"\\u03a7\\u03ce\\u03c1\\u03b1=%{customdata[0]}<br>\\u0391\\u03c1\\u03b9\\u03b8\\u03bc\\u03cc\\u03c2 \\u039a\\u03c1\\u03bf\\u03c5\\u03c3\\u03bc\\u03ac\\u03c4\\u03c9\\u03bd=%{y}\", \"legendgroup\": \"\\u039c\\u03c0\\u03bf\\u03c5\\u03c1\\u03ba\\u03af\\u03bd\\u03b1 \\u03a6\\u03ac\\u03c3\\u03bf\", \"line\": {\"color\": \"rgb(62, 109, 178)\", \"dash\": \"solid\", \"shape\": \"spline\"}, \"mode\": \"lines\", \"name\": \"\\u039c\\u03c0\\u03bf\\u03c5\\u03c1\\u03ba\\u03af\\u03bd\\u03b1 \\u03a6\\u03ac\\u03c3\\u03bf\", \"showlegend\": true, \"type\": \"scatter\", \"xaxis\": \"x\", \"y\": [114, 146, 152, 180, 207, 222, 246, 261, 282, 288], \"yaxis\": \"y\"}, {\"customdata\": [[\"\\u039a\\u03b1\\u03bc\\u03c0\\u03cc\\u03c4\\u03b6\\u03b7\"], [\"\\u039a\\u03b1\\u03bc\\u03c0\\u03cc\\u03c4\\u03b6\\u03b7\"], [\"\\u039a\\u03b1\\u03bc\\u03c0\\u03cc\\u03c4\\u03b6\\u03b7\"], [\"\\u039a\\u03b1\\u03bc\\u03c0\\u03cc\\u03c4\\u03b6\\u03b7\"], [\"\\u039a\\u03b1\\u03bc\\u03c0\\u03cc\\u03c4\\u03b6\\u03b7\"]], \"hoverlabel\": {\"namelength\": 0}, \"hovertemplate\": \"\\u03a7\\u03ce\\u03c1\\u03b1=%{customdata[0]}<br>\\u0391\\u03c1\\u03b9\\u03b8\\u03bc\\u03cc\\u03c2 \\u039a\\u03c1\\u03bf\\u03c5\\u03c3\\u03bc\\u03ac\\u03c4\\u03c9\\u03bd=%{y}\", \"legendgroup\": \"\\u039a\\u03b1\\u03bc\\u03c0\\u03cc\\u03c4\\u03b6\\u03b7\", \"line\": {\"color\": \"rgb(72, 134, 187)\", \"dash\": \"solid\", \"shape\": \"spline\"}, \"mode\": \"lines\", \"name\": \"\\u039a\\u03b1\\u03bc\\u03c0\\u03cc\\u03c4\\u03b6\\u03b7\", \"showlegend\": true, \"type\": \"scatter\", \"xaxis\": \"x\", \"y\": [103, 107, 109, 109, 110], \"yaxis\": \"y\"}, {\"customdata\": [[\"\\u039a\\u03b1\\u03bc\\u03b5\\u03c1\\u03bf\\u03cd\\u03bd\"], [\"\\u039a\\u03b1\\u03bc\\u03b5\\u03c1\\u03bf\\u03cd\\u03bd\"], [\"\\u039a\\u03b1\\u03bc\\u03b5\\u03c1\\u03bf\\u03cd\\u03bd\"], [\"\\u039a\\u03b1\\u03bc\\u03b5\\u03c1\\u03bf\\u03cd\\u03bd\"], [\"\\u039a\\u03b1\\u03bc\\u03b5\\u03c1\\u03bf\\u03cd\\u03bd\"]], \"hoverlabel\": {\"namelength\": 0}, \"hovertemplate\": \"\\u03a7\\u03ce\\u03c1\\u03b1=%{customdata[0]}<br>\\u0391\\u03c1\\u03b9\\u03b8\\u03bc\\u03cc\\u03c2 \\u039a\\u03c1\\u03bf\\u03c5\\u03c3\\u03bc\\u03ac\\u03c4\\u03c9\\u03bd=%{y}\", \"legendgroup\": \"\\u039a\\u03b1\\u03bc\\u03b5\\u03c1\\u03bf\\u03cd\\u03bd\", \"line\": {\"color\": \"rgb(89, 159, 196)\", \"dash\": \"solid\", \"shape\": \"spline\"}, \"mode\": \"lines\", \"name\": \"\\u039a\\u03b1\\u03bc\\u03b5\\u03c1\\u03bf\\u03cd\\u03bd\", \"showlegend\": true, \"type\": \"scatter\", \"xaxis\": \"x\", \"y\": [139, 139, 193, 233, 306], \"yaxis\": \"y\"}, {\"customdata\": [[\"\\u039a\\u03b1\\u03bd\\u03b1\\u03b4\\u03ac\\u03c2\"], [\"\\u039a\\u03b1\\u03bd\\u03b1\\u03b4\\u03ac\\u03c2\"], [\"\\u039a\\u03b1\\u03bd\\u03b1\\u03b4\\u03ac\\u03c2\"], [\"\\u039a\\u03b1\\u03bd\\u03b1\\u03b4\\u03ac\\u03c2\"], [\"\\u039a\\u03b1\\u03bd\\u03b1\\u03b4\\u03ac\\u03c2\"], [\"\\u039a\\u03b1\\u03bd\\u03b1\\u03b4\\u03ac\\u03c2\"], [\"\\u039a\\u03b1\\u03bd\\u03b1\\u03b4\\u03ac\\u03c2\"], [\"\\u039a\\u03b1\\u03bd\\u03b1\\u03b4\\u03ac\\u03c2\"], [\"\\u039a\\u03b1\\u03bd\\u03b1\\u03b4\\u03ac\\u03c2\"], [\"\\u039a\\u03b1\\u03bd\\u03b1\\u03b4\\u03ac\\u03c2\"], [\"\\u039a\\u03b1\\u03bd\\u03b1\\u03b4\\u03ac\\u03c2\"], [\"\\u039a\\u03b1\\u03bd\\u03b1\\u03b4\\u03ac\\u03c2\"], [\"\\u039a\\u03b1\\u03bd\\u03b1\\u03b4\\u03ac\\u03c2\"], [\"\\u039a\\u03b1\\u03bd\\u03b1\\u03b4\\u03ac\\u03c2\"], [\"\\u039a\\u03b1\\u03bd\\u03b1\\u03b4\\u03ac\\u03c2\"], [\"\\u039a\\u03b1\\u03bd\\u03b1\\u03b4\\u03ac\\u03c2\"], [\"\\u039a\\u03b1\\u03bd\\u03b1\\u03b4\\u03ac\\u03c2\"], [\"\\u039a\\u03b1\\u03bd\\u03b1\\u03b4\\u03ac\\u03c2\"], [\"\\u039a\\u03b1\\u03bd\\u03b1\\u03b4\\u03ac\\u03c2\"], [\"\\u039a\\u03b1\\u03bd\\u03b1\\u03b4\\u03ac\\u03c2\"], [\"\\u039a\\u03b1\\u03bd\\u03b1\\u03b4\\u03ac\\u03c2\"], [\"\\u039a\\u03b1\\u03bd\\u03b1\\u03b4\\u03ac\\u03c2\"], [\"\\u039a\\u03b1\\u03bd\\u03b1\\u03b4\\u03ac\\u03c2\"]], \"hoverlabel\": {\"namelength\": 0}, \"hovertemplate\": \"\\u03a7\\u03ce\\u03c1\\u03b1=%{customdata[0]}<br>\\u0391\\u03c1\\u03b9\\u03b8\\u03bc\\u03cc\\u03c2 \\u039a\\u03c1\\u03bf\\u03c5\\u03c3\\u03bc\\u03ac\\u03c4\\u03c9\\u03bd=%{y}\", \"legendgroup\": \"\\u039a\\u03b1\\u03bd\\u03b1\\u03b4\\u03ac\\u03c2\", \"line\": {\"color\": \"rgb(114, 184, 205)\", \"dash\": \"solid\", \"shape\": \"spline\"}, \"mode\": \"lines\", \"name\": \"\\u039a\\u03b1\\u03bd\\u03b1\\u03b4\\u03ac\\u03c2\", \"showlegend\": true, \"type\": \"scatter\", \"xaxis\": \"x\", \"y\": [108, 117, 193, 198, 252, 415, 478, 657, 800, 943, 1277, 1469, 2088, 2790, 3251, 4042, 4682, 5576, 6280, 7398, 8527, 9560, 11284], \"yaxis\": \"y\"}, {\"customdata\": [[\"\\u03a7\\u03b9\\u03bb\\u03ae\"], [\"\\u03a7\\u03b9\\u03bb\\u03ae\"], [\"\\u03a7\\u03b9\\u03bb\\u03ae\"], [\"\\u03a7\\u03b9\\u03bb\\u03ae\"], [\"\\u03a7\\u03b9\\u03bb\\u03ae\"], [\"\\u03a7\\u03b9\\u03bb\\u03ae\"], [\"\\u03a7\\u03b9\\u03bb\\u03ae\"], [\"\\u03a7\\u03b9\\u03bb\\u03ae\"], [\"\\u03a7\\u03b9\\u03bb\\u03ae\"], [\"\\u03a7\\u03b9\\u03bb\\u03ae\"], [\"\\u03a7\\u03b9\\u03bb\\u03ae\"], [\"\\u03a7\\u03b9\\u03bb\\u03ae\"], [\"\\u03a7\\u03b9\\u03bb\\u03ae\"], [\"\\u03a7\\u03b9\\u03bb\\u03ae\"], [\"\\u03a7\\u03b9\\u03bb\\u03ae\"], [\"\\u03a7\\u03b9\\u03bb\\u03ae\"], [\"\\u03a7\\u03b9\\u03bb\\u03ae\"], [\"\\u03a7\\u03b9\\u03bb\\u03ae\"]], \"hoverlabel\": {\"namelength\": 0}, \"hovertemplate\": \"\\u03a7\\u03ce\\u03c1\\u03b1=%{customdata[0]}<br>\\u0391\\u03c1\\u03b9\\u03b8\\u03bc\\u03cc\\u03c2 \\u039a\\u03c1\\u03bf\\u03c5\\u03c3\\u03bc\\u03ac\\u03c4\\u03c9\\u03bd=%{y}\", \"legendgroup\": \"\\u03a7\\u03b9\\u03bb\\u03ae\", \"line\": {\"color\": \"rgb(149, 207, 216)\", \"dash\": \"solid\", \"shape\": \"spline\"}, \"mode\": \"lines\", \"name\": \"\\u03a7\\u03b9\\u03bb\\u03ae\", \"showlegend\": true, \"type\": \"scatter\", \"xaxis\": \"x\", \"y\": [155, 201, 238, 238, 434, 537, 632, 746, 922, 1142, 1306, 1610, 1909, 2139, 2449, 2738, 3031, 3404], \"yaxis\": \"y\"}, {\"customdata\": [[\"\\u039a\\u03bf\\u03bb\\u03bf\\u03bc\\u03b2\\u03af\\u03b1\"], [\"\\u039a\\u03bf\\u03bb\\u03bf\\u03bc\\u03b2\\u03af\\u03b1\"], [\"\\u039a\\u03bf\\u03bb\\u03bf\\u03bc\\u03b2\\u03af\\u03b1\"], [\"\\u039a\\u03bf\\u03bb\\u03bf\\u03bc\\u03b2\\u03af\\u03b1\"], [\"\\u039a\\u03bf\\u03bb\\u03bf\\u03bc\\u03b2\\u03af\\u03b1\"], [\"\\u039a\\u03bf\\u03bb\\u03bf\\u03bc\\u03b2\\u03af\\u03b1\"], [\"\\u039a\\u03bf\\u03bb\\u03bf\\u03bc\\u03b2\\u03af\\u03b1\"], [\"\\u039a\\u03bf\\u03bb\\u03bf\\u03bc\\u03b2\\u03af\\u03b1\"], [\"\\u039a\\u03bf\\u03bb\\u03bf\\u03bc\\u03b2\\u03af\\u03b1\"], [\"\\u039a\\u03bf\\u03bb\\u03bf\\u03bc\\u03b2\\u03af\\u03b1\"], [\"\\u039a\\u03bf\\u03bb\\u03bf\\u03bc\\u03b2\\u03af\\u03b1\"], [\"\\u039a\\u03bf\\u03bb\\u03bf\\u03bc\\u03b2\\u03af\\u03b1\"], [\"\\u039a\\u03bf\\u03bb\\u03bf\\u03bc\\u03b2\\u03af\\u03b1\"], [\"\\u039a\\u03bf\\u03bb\\u03bf\\u03bc\\u03b2\\u03af\\u03b1\"], [\"\\u039a\\u03bf\\u03bb\\u03bf\\u03bc\\u03b2\\u03af\\u03b1\"]], \"hoverlabel\": {\"namelength\": 0}, \"hovertemplate\": \"\\u03a7\\u03ce\\u03c1\\u03b1=%{customdata[0]}<br>\\u0391\\u03c1\\u03b9\\u03b8\\u03bc\\u03cc\\u03c2 \\u039a\\u03c1\\u03bf\\u03c5\\u03c3\\u03bc\\u03ac\\u03c4\\u03c9\\u03bd=%{y}\", \"legendgroup\": \"\\u039a\\u03bf\\u03bb\\u03bf\\u03bc\\u03b2\\u03af\\u03b1\", \"line\": {\"color\": \"rgb(192, 229, 232)\", \"dash\": \"solid\", \"shape\": \"spline\"}, \"mode\": \"lines\", \"name\": \"\\u039a\\u03bf\\u03bb\\u03bf\\u03bc\\u03b2\\u03af\\u03b1\", \"showlegend\": true, \"type\": \"scatter\", \"xaxis\": \"x\", \"y\": [102, 128, 196, 231, 277, 378, 470, 491, 539, 608, 702, 798, 906, 1065, 1161], \"yaxis\": \"y\"}, {\"customdata\": [[\"\\u039b\\u03b1\\u03ca\\u03ba\\u03ae \\u0394\\u03b7\\u03bc/\\u03c4\\u03af\\u03b1 \\u039a\\u03bf\\u03bd\\u03b3\\u03ba\\u03cc\"], [\"\\u039b\\u03b1\\u03ca\\u03ba\\u03ae \\u0394\\u03b7\\u03bc/\\u03c4\\u03af\\u03b1 \\u039a\\u03bf\\u03bd\\u03b3\\u03ba\\u03cc\"]], \"hoverlabel\": {\"namelength\": 0}, \"hovertemplate\": \"\\u03a7\\u03ce\\u03c1\\u03b1=%{customdata[0]}<br>\\u0391\\u03c1\\u03b9\\u03b8\\u03bc\\u03cc\\u03c2 \\u039a\\u03c1\\u03bf\\u03c5\\u03c3\\u03bc\\u03ac\\u03c4\\u03c9\\u03bd=%{y}\", \"legendgroup\": \"\\u039b\\u03b1\\u03ca\\u03ba\\u03ae \\u0394\\u03b7\\u03bc/\\u03c4\\u03af\\u03b1 \\u039a\\u03bf\\u03bd\\u03b3\\u03ba\\u03cc\", \"line\": {\"color\": \"rgb(234, 252, 253)\", \"dash\": \"solid\", \"shape\": \"spline\"}, \"mode\": \"lines\", \"name\": \"\\u039b\\u03b1\\u03ca\\u03ba\\u03ae \\u0394\\u03b7\\u03bc/\\u03c4\\u03af\\u03b1 \\u039a\\u03bf\\u03bd\\u03b3\\u03ba\\u03cc\", \"showlegend\": true, \"type\": \"scatter\", \"xaxis\": \"x\", \"y\": [109, 134], \"yaxis\": \"y\"}, {\"customdata\": [[\"\\u039a\\u03cc\\u03c3\\u03c4\\u03b1 \\u03a1\\u03af\\u03ba\\u03b1\"], [\"\\u039a\\u03cc\\u03c3\\u03c4\\u03b1 \\u03a1\\u03af\\u03ba\\u03b1\"], [\"\\u039a\\u03cc\\u03c3\\u03c4\\u03b1 \\u03a1\\u03af\\u03ba\\u03b1\"], [\"\\u039a\\u03cc\\u03c3\\u03c4\\u03b1 \\u03a1\\u03af\\u03ba\\u03b1\"], [\"\\u039a\\u03cc\\u03c3\\u03c4\\u03b1 \\u03a1\\u03af\\u03ba\\u03b1\"], [\"\\u039a\\u03cc\\u03c3\\u03c4\\u03b1 \\u03a1\\u03af\\u03ba\\u03b1\"], [\"\\u039a\\u03cc\\u03c3\\u03c4\\u03b1 \\u03a1\\u03af\\u03ba\\u03b1\"], [\"\\u039a\\u03cc\\u03c3\\u03c4\\u03b1 \\u03a1\\u03af\\u03ba\\u03b1\"], [\"\\u039a\\u03cc\\u03c3\\u03c4\\u03b1 \\u03a1\\u03af\\u03ba\\u03b1\"], [\"\\u039a\\u03cc\\u03c3\\u03c4\\u03b1 \\u03a1\\u03af\\u03ba\\u03b1\"], [\"\\u039a\\u03cc\\u03c3\\u03c4\\u03b1 \\u03a1\\u03af\\u03ba\\u03b1\"], [\"\\u039a\\u03cc\\u03c3\\u03c4\\u03b1 \\u03a1\\u03af\\u03ba\\u03b1\"], [\"\\u039a\\u03cc\\u03c3\\u03c4\\u03b1 \\u03a1\\u03af\\u03ba\\u03b1\"]], \"hoverlabel\": {\"namelength\": 0}, \"hovertemplate\": \"\\u03a7\\u03ce\\u03c1\\u03b1=%{customdata[0]}<br>\\u0391\\u03c1\\u03b9\\u03b8\\u03bc\\u03cc\\u03c2 \\u039a\\u03c1\\u03bf\\u03c5\\u03c3\\u03bc\\u03ac\\u03c4\\u03c9\\u03bd=%{y}\", \"legendgroup\": \"\\u039a\\u03cc\\u03c3\\u03c4\\u03b1 \\u03a1\\u03af\\u03ba\\u03b1\", \"line\": {\"color\": \"rgb(3, 5, 18)\", \"dash\": \"solid\", \"shape\": \"spline\"}, \"mode\": \"lines\", \"name\": \"\\u039a\\u03cc\\u03c3\\u03c4\\u03b1 \\u03a1\\u03af\\u03ba\\u03b1\", \"showlegend\": true, \"type\": \"scatter\", \"xaxis\": \"x\", \"y\": [117, 134, 158, 177, 201, 231, 263, 295, 314, 330, 347, 375, 396], \"yaxis\": \"y\"}, {\"customdata\": [[\"\\u0391\\u03ba\\u03c4\\u03ae \\u0395\\u03bb\\u03b5\\u03c6\\u03b1\\u03bd\\u03c4\\u03bf\\u03c3\\u03c4\\u03bf\\u03cd\"], [\"\\u0391\\u03ba\\u03c4\\u03ae \\u0395\\u03bb\\u03b5\\u03c6\\u03b1\\u03bd\\u03c4\\u03bf\\u03c3\\u03c4\\u03bf\\u03cd\"], [\"\\u0391\\u03ba\\u03c4\\u03ae \\u0395\\u03bb\\u03b5\\u03c6\\u03b1\\u03bd\\u03c4\\u03bf\\u03c3\\u03c4\\u03bf\\u03cd\"], [\"\\u0391\\u03ba\\u03c4\\u03ae \\u0395\\u03bb\\u03b5\\u03c6\\u03b1\\u03bd\\u03c4\\u03bf\\u03c3\\u03c4\\u03bf\\u03cd\"], [\"\\u0391\\u03ba\\u03c4\\u03ae \\u0395\\u03bb\\u03b5\\u03c6\\u03b1\\u03bd\\u03c4\\u03bf\\u03c3\\u03c4\\u03bf\\u03cd\"], [\"\\u0391\\u03ba\\u03c4\\u03ae \\u0395\\u03bb\\u03b5\\u03c6\\u03b1\\u03bd\\u03c4\\u03bf\\u03c3\\u03c4\\u03bf\\u03cd\"], [\"\\u0391\\u03ba\\u03c4\\u03ae \\u0395\\u03bb\\u03b5\\u03c6\\u03b1\\u03bd\\u03c4\\u03bf\\u03c3\\u03c4\\u03bf\\u03cd\"]], \"hoverlabel\": {\"namelength\": 0}, \"hovertemplate\": \"\\u03a7\\u03ce\\u03c1\\u03b1=%{customdata[0]}<br>\\u0391\\u03c1\\u03b9\\u03b8\\u03bc\\u03cc\\u03c2 \\u039a\\u03c1\\u03bf\\u03c5\\u03c3\\u03bc\\u03ac\\u03c4\\u03c9\\u03bd=%{y}\", \"legendgroup\": \"\\u0391\\u03ba\\u03c4\\u03ae \\u0395\\u03bb\\u03b5\\u03c6\\u03b1\\u03bd\\u03c4\\u03bf\\u03c3\\u03c4\\u03bf\\u03cd\", \"line\": {\"color\": \"rgb(25, 25, 51)\", \"dash\": \"solid\", \"shape\": \"spline\"}, \"mode\": \"lines\", \"name\": \"\\u0391\\u03ba\\u03c4\\u03ae \\u0395\\u03bb\\u03b5\\u03c6\\u03b1\\u03bd\\u03c4\\u03bf\\u03c3\\u03c4\\u03bf\\u03cd\", \"showlegend\": true, \"type\": \"scatter\", \"xaxis\": \"x\", \"y\": [101, 101, 165, 168, 179, 190, 194], \"yaxis\": \"y\"}, {\"customdata\": [[\"\\u039a\\u03c1\\u03bf\\u03b1\\u03c4\\u03af\\u03b1\"], [\"\\u039a\\u03c1\\u03bf\\u03b1\\u03c4\\u03af\\u03b1\"], [\"\\u039a\\u03c1\\u03bf\\u03b1\\u03c4\\u03af\\u03b1\"], [\"\\u039a\\u03c1\\u03bf\\u03b1\\u03c4\\u03af\\u03b1\"], [\"\\u039a\\u03c1\\u03bf\\u03b1\\u03c4\\u03af\\u03b1\"], [\"\\u039a\\u03c1\\u03bf\\u03b1\\u03c4\\u03af\\u03b1\"], [\"\\u039a\\u03c1\\u03bf\\u03b1\\u03c4\\u03af\\u03b1\"], [\"\\u039a\\u03c1\\u03bf\\u03b1\\u03c4\\u03af\\u03b1\"], [\"\\u039a\\u03c1\\u03bf\\u03b1\\u03c4\\u03af\\u03b1\"], [\"\\u039a\\u03c1\\u03bf\\u03b1\\u03c4\\u03af\\u03b1\"], [\"\\u039a\\u03c1\\u03bf\\u03b1\\u03c4\\u03af\\u03b1\"], [\"\\u039a\\u03c1\\u03bf\\u03b1\\u03c4\\u03af\\u03b1\"], [\"\\u039a\\u03c1\\u03bf\\u03b1\\u03c4\\u03af\\u03b1\"], [\"\\u039a\\u03c1\\u03bf\\u03b1\\u03c4\\u03af\\u03b1\"], [\"\\u039a\\u03c1\\u03bf\\u03b1\\u03c4\\u03af\\u03b1\"]], \"hoverlabel\": {\"namelength\": 0}, \"hovertemplate\": \"\\u03a7\\u03ce\\u03c1\\u03b1=%{customdata[0]}<br>\\u0391\\u03c1\\u03b9\\u03b8\\u03bc\\u03cc\\u03c2 \\u039a\\u03c1\\u03bf\\u03c5\\u03c3\\u03bc\\u03ac\\u03c4\\u03c9\\u03bd=%{y}\", \"legendgroup\": \"\\u039a\\u03c1\\u03bf\\u03b1\\u03c4\\u03af\\u03b1\", \"line\": {\"color\": \"rgb(44, 42, 87)\", \"dash\": \"solid\", \"shape\": \"spline\"}, \"mode\": \"lines\", \"name\": \"\\u039a\\u03c1\\u03bf\\u03b1\\u03c4\\u03af\\u03b1\", \"showlegend\": true, \"type\": \"scatter\", \"xaxis\": \"x\", \"y\": [105, 128, 206, 254, 315, 382, 442, 495, 586, 657, 713, 790, 867, 963, 1011], \"yaxis\": \"y\"}, {\"customdata\": [[\"\\u039a\\u03bf\\u03cd\\u03b2\\u03b1\"], [\"\\u039a\\u03bf\\u03cd\\u03b2\\u03b1\"], [\"\\u039a\\u03bf\\u03cd\\u03b2\\u03b1\"], [\"\\u039a\\u03bf\\u03cd\\u03b2\\u03b1\"], [\"\\u039a\\u03bf\\u03cd\\u03b2\\u03b1\"], [\"\\u039a\\u03bf\\u03cd\\u03b2\\u03b1\"]], \"hoverlabel\": {\"namelength\": 0}, \"hovertemplate\": \"\\u03a7\\u03ce\\u03c1\\u03b1=%{customdata[0]}<br>\\u0391\\u03c1\\u03b9\\u03b8\\u03bc\\u03cc\\u03c2 \\u039a\\u03c1\\u03bf\\u03c5\\u03c3\\u03bc\\u03ac\\u03c4\\u03c9\\u03bd=%{y}\", \"legendgroup\": \"\\u039a\\u03bf\\u03cd\\u03b2\\u03b1\", \"line\": {\"color\": \"rgb(58, 60, 125)\", \"dash\": \"solid\", \"shape\": \"spline\"}, \"mode\": \"lines\", \"name\": \"\\u039a\\u03bf\\u03cd\\u03b2\\u03b1\", \"showlegend\": true, \"type\": \"scatter\", \"xaxis\": \"x\", \"y\": [119, 139, 170, 186, 212, 233], \"yaxis\": \"y\"}, {\"customdata\": [[\"\\u039a\\u03cd\\u03c0\\u03c1\\u03bf\\u03c2\"], [\"\\u039a\\u03cd\\u03c0\\u03c1\\u03bf\\u03c2\"], [\"\\u039a\\u03cd\\u03c0\\u03c1\\u03bf\\u03c2\"], [\"\\u039a\\u03cd\\u03c0\\u03c1\\u03bf\\u03c2\"], [\"\\u039a\\u03cd\\u03c0\\u03c1\\u03bf\\u03c2\"], [\"\\u039a\\u03cd\\u03c0\\u03c1\\u03bf\\u03c2\"], [\"\\u039a\\u03cd\\u03c0\\u03c1\\u03bf\\u03c2\"], [\"\\u039a\\u03cd\\u03c0\\u03c1\\u03bf\\u03c2\"], [\"\\u039a\\u03cd\\u03c0\\u03c1\\u03bf\\u03c2\"], [\"\\u039a\\u03cd\\u03c0\\u03c1\\u03bf\\u03c2\"], [\"\\u039a\\u03cd\\u03c0\\u03c1\\u03bf\\u03c2\"]], \"hoverlabel\": {\"namelength\": 0}, \"hovertemplate\": \"\\u03a7\\u03ce\\u03c1\\u03b1=%{customdata[0]}<br>\\u0391\\u03c1\\u03b9\\u03b8\\u03bc\\u03cc\\u03c2 \\u039a\\u03c1\\u03bf\\u03c5\\u03c3\\u03bc\\u03ac\\u03c4\\u03c9\\u03bd=%{y}\", \"legendgroup\": \"\\u039a\\u03cd\\u03c0\\u03c1\\u03bf\\u03c2\", \"line\": {\"color\": \"rgb(62, 83, 160)\", \"dash\": \"solid\", \"shape\": \"spline\"}, \"mode\": \"lines\", \"name\": \"\\u039a\\u03cd\\u03c0\\u03c1\\u03bf\\u03c2\", \"showlegend\": true, \"type\": \"scatter\", \"xaxis\": \"x\", \"y\": [116, 124, 132, 146, 162, 179, 214, 230, 262, 320, 356], \"yaxis\": \"y\"}, {\"customdata\": [[\"\\u03a4\\u03c3\\u03b5\\u03c7\\u03af\\u03b1\"], [\"\\u03a4\\u03c3\\u03b5\\u03c7\\u03af\\u03b1\"], [\"\\u03a4\\u03c3\\u03b5\\u03c7\\u03af\\u03b1\"], [\"\\u03a4\\u03c3\\u03b5\\u03c7\\u03af\\u03b1\"], [\"\\u03a4\\u03c3\\u03b5\\u03c7\\u03af\\u03b1\"], [\"\\u03a4\\u03c3\\u03b5\\u03c7\\u03af\\u03b1\"], [\"\\u03a4\\u03c3\\u03b5\\u03c7\\u03af\\u03b1\"], [\"\\u03a4\\u03c3\\u03b5\\u03c7\\u03af\\u03b1\"], [\"\\u03a4\\u03c3\\u03b5\\u03c7\\u03af\\u03b1\"], [\"\\u03a4\\u03c3\\u03b5\\u03c7\\u03af\\u03b1\"], [\"\\u03a4\\u03c3\\u03b5\\u03c7\\u03af\\u03b1\"], [\"\\u03a4\\u03c3\\u03b5\\u03c7\\u03af\\u03b1\"], [\"\\u03a4\\u03c3\\u03b5\\u03c7\\u03af\\u03b1\"], [\"\\u03a4\\u03c3\\u03b5\\u03c7\\u03af\\u03b1\"], [\"\\u03a4\\u03c3\\u03b5\\u03c7\\u03af\\u03b1\"], [\"\\u03a4\\u03c3\\u03b5\\u03c7\\u03af\\u03b1\"], [\"\\u03a4\\u03c3\\u03b5\\u03c7\\u03af\\u03b1\"], [\"\\u03a4\\u03c3\\u03b5\\u03c7\\u03af\\u03b1\"], [\"\\u03a4\\u03c3\\u03b5\\u03c7\\u03af\\u03b1\"], [\"\\u03a4\\u03c3\\u03b5\\u03c7\\u03af\\u03b1\"], [\"\\u03a4\\u03c3\\u03b5\\u03c7\\u03af\\u03b1\"]], \"hoverlabel\": {\"namelength\": 0}, \"hovertemplate\": \"\\u03a7\\u03ce\\u03c1\\u03b1=%{customdata[0]}<br>\\u0391\\u03c1\\u03b9\\u03b8\\u03bc\\u03cc\\u03c2 \\u039a\\u03c1\\u03bf\\u03c5\\u03c3\\u03bc\\u03ac\\u03c4\\u03c9\\u03bd=%{y}\", \"legendgroup\": \"\\u03a4\\u03c3\\u03b5\\u03c7\\u03af\\u03b1\", \"line\": {\"color\": \"rgb(62, 109, 178)\", \"dash\": \"solid\", \"shape\": \"spline\"}, \"mode\": \"lines\", \"name\": \"\\u03a4\\u03c3\\u03b5\\u03c7\\u03af\\u03b1\", \"showlegend\": true, \"type\": \"scatter\", \"xaxis\": \"x\", \"y\": [141, 189, 253, 298, 396, 464, 694, 833, 995, 1120, 1236, 1394, 1654, 1925, 2279, 2631, 2817, 3001, 3308, 3508, 3858], \"yaxis\": \"y\"}, {\"customdata\": [[\"\\u0394\\u03b1\\u03bd\\u03af\\u03b1\"], [\"\\u0394\\u03b1\\u03bd\\u03af\\u03b1\"], [\"\\u0394\\u03b1\\u03bd\\u03af\\u03b1\"], [\"\\u0394\\u03b1\\u03bd\\u03af\\u03b1\"], [\"\\u0394\\u03b1\\u03bd\\u03af\\u03b1\"], [\"\\u0394\\u03b1\\u03bd\\u03af\\u03b1\"], [\"\\u0394\\u03b1\\u03bd\\u03af\\u03b1\"], [\"\\u0394\\u03b1\\u03bd\\u03af\\u03b1\"], [\"\\u0394\\u03b1\\u03bd\\u03af\\u03b1\"], [\"\\u0394\\u03b1\\u03bd\\u03af\\u03b1\"], [\"\\u0394\\u03b1\\u03bd\\u03af\\u03b1\"], [\"\\u0394\\u03b1\\u03bd\\u03af\\u03b1\"], [\"\\u0394\\u03b1\\u03bd\\u03af\\u03b1\"], [\"\\u0394\\u03b1\\u03bd\\u03af\\u03b1\"], [\"\\u0394\\u03b1\\u03bd\\u03af\\u03b1\"], [\"\\u0394\\u03b1\\u03bd\\u03af\\u03b1\"], [\"\\u0394\\u03b1\\u03bd\\u03af\\u03b1\"], [\"\\u0394\\u03b1\\u03bd\\u03af\\u03b1\"], [\"\\u0394\\u03b1\\u03bd\\u03af\\u03b1\"], [\"\\u0394\\u03b1\\u03bd\\u03af\\u03b1\"], [\"\\u0394\\u03b1\\u03bd\\u03af\\u03b1\"], [\"\\u0394\\u03b1\\u03bd\\u03af\\u03b1\"], [\"\\u0394\\u03b1\\u03bd\\u03af\\u03b1\"], [\"\\u0394\\u03b1\\u03bd\\u03af\\u03b1\"]], \"hoverlabel\": {\"namelength\": 0}, \"hovertemplate\": \"\\u03a7\\u03ce\\u03c1\\u03b1=%{customdata[0]}<br>\\u0391\\u03c1\\u03b9\\u03b8\\u03bc\\u03cc\\u03c2 \\u039a\\u03c1\\u03bf\\u03c5\\u03c3\\u03bc\\u03ac\\u03c4\\u03c9\\u03bd=%{y}\", \"legendgroup\": \"\\u0394\\u03b1\\u03bd\\u03af\\u03b1\", \"line\": {\"color\": \"rgb(72, 134, 187)\", \"dash\": \"solid\", \"shape\": \"spline\"}, \"mode\": \"lines\", \"name\": \"\\u0394\\u03b1\\u03bd\\u03af\\u03b1\", \"showlegend\": true, \"type\": \"scatter\", \"xaxis\": \"x\", \"y\": [264, 444, 617, 804, 836, 875, 933, 1025, 1116, 1225, 1337, 1420, 1514, 1572, 1718, 1862, 2023, 2200, 2366, 2564, 2755, 3039, 3290, 3573], \"yaxis\": \"y\"}, {\"customdata\": [[\"\\u0394\\u03bf\\u03bc\\u03b9\\u03bd\\u03b9\\u03ba\\u03b1\\u03bd\\u03ae \\u0394\\u03b7\\u03bc/\\u03c4\\u03af\\u03b1\"], [\"\\u0394\\u03bf\\u03bc\\u03b9\\u03bd\\u03b9\\u03ba\\u03b1\\u03bd\\u03ae \\u0394\\u03b7\\u03bc/\\u03c4\\u03af\\u03b1\"], [\"\\u0394\\u03bf\\u03bc\\u03b9\\u03bd\\u03b9\\u03ba\\u03b1\\u03bd\\u03ae \\u0394\\u03b7\\u03bc/\\u03c4\\u03af\\u03b1\"], [\"\\u0394\\u03bf\\u03bc\\u03b9\\u03bd\\u03b9\\u03ba\\u03b1\\u03bd\\u03ae \\u0394\\u03b7\\u03bc/\\u03c4\\u03af\\u03b1\"], [\"\\u0394\\u03bf\\u03bc\\u03b9\\u03bd\\u03b9\\u03ba\\u03b1\\u03bd\\u03ae \\u0394\\u03b7\\u03bc/\\u03c4\\u03af\\u03b1\"], [\"\\u0394\\u03bf\\u03bc\\u03b9\\u03bd\\u03b9\\u03ba\\u03b1\\u03bd\\u03ae \\u0394\\u03b7\\u03bc/\\u03c4\\u03af\\u03b1\"], [\"\\u0394\\u03bf\\u03bc\\u03b9\\u03bd\\u03b9\\u03ba\\u03b1\\u03bd\\u03ae \\u0394\\u03b7\\u03bc/\\u03c4\\u03af\\u03b1\"], [\"\\u0394\\u03bf\\u03bc\\u03b9\\u03bd\\u03b9\\u03ba\\u03b1\\u03bd\\u03ae \\u0394\\u03b7\\u03bc/\\u03c4\\u03af\\u03b1\"], [\"\\u0394\\u03bf\\u03bc\\u03b9\\u03bd\\u03b9\\u03ba\\u03b1\\u03bd\\u03ae \\u0394\\u03b7\\u03bc/\\u03c4\\u03af\\u03b1\"], [\"\\u0394\\u03bf\\u03bc\\u03b9\\u03bd\\u03b9\\u03ba\\u03b1\\u03bd\\u03ae \\u0394\\u03b7\\u03bc/\\u03c4\\u03af\\u03b1\"], [\"\\u0394\\u03bf\\u03bc\\u03b9\\u03bd\\u03b9\\u03ba\\u03b1\\u03bd\\u03ae \\u0394\\u03b7\\u03bc/\\u03c4\\u03af\\u03b1\"], [\"\\u0394\\u03bf\\u03bc\\u03b9\\u03bd\\u03b9\\u03ba\\u03b1\\u03bd\\u03ae \\u0394\\u03b7\\u03bc/\\u03c4\\u03af\\u03b1\"], [\"\\u0394\\u03bf\\u03bc\\u03b9\\u03bd\\u03b9\\u03ba\\u03b1\\u03bd\\u03ae \\u0394\\u03b7\\u03bc/\\u03c4\\u03af\\u03b1\"]], \"hoverlabel\": {\"namelength\": 0}, \"hovertemplate\": \"\\u03a7\\u03ce\\u03c1\\u03b1=%{customdata[0]}<br>\\u0391\\u03c1\\u03b9\\u03b8\\u03bc\\u03cc\\u03c2 \\u039a\\u03c1\\u03bf\\u03c5\\u03c3\\u03bc\\u03ac\\u03c4\\u03c9\\u03bd=%{y}\", \"legendgroup\": \"\\u0394\\u03bf\\u03bc\\u03b9\\u03bd\\u03b9\\u03ba\\u03b1\\u03bd\\u03ae \\u0394\\u03b7\\u03bc/\\u03c4\\u03af\\u03b1\", \"line\": {\"color\": \"rgb(89, 159, 196)\", \"dash\": \"solid\", \"shape\": \"spline\"}, \"mode\": \"lines\", \"name\": \"\\u0394\\u03bf\\u03bc\\u03b9\\u03bd\\u03b9\\u03ba\\u03b1\\u03bd\\u03ae \\u0394\\u03b7\\u03bc/\\u03c4\\u03af\\u03b1\", \"showlegend\": true, \"type\": \"scatter\", \"xaxis\": \"x\", \"y\": [112, 202, 245, 312, 392, 488, 581, 719, 859, 901, 1109, 1284, 1380], \"yaxis\": \"y\"}, {\"customdata\": [[\"\\u0399\\u03c3\\u03b7\\u03bc\\u03b5\\u03c1\\u03b9\\u03bd\\u03cc\\u03c2\"], [\"\\u0399\\u03c3\\u03b7\\u03bc\\u03b5\\u03c1\\u03b9\\u03bd\\u03cc\\u03c2\"], [\"\\u0399\\u03c3\\u03b7\\u03bc\\u03b5\\u03c1\\u03b9\\u03bd\\u03cc\\u03c2\"], [\"\\u0399\\u03c3\\u03b7\\u03bc\\u03b5\\u03c1\\u03b9\\u03bd\\u03cc\\u03c2\"], [\"\\u0399\\u03c3\\u03b7\\u03bc\\u03b5\\u03c1\\u03b9\\u03bd\\u03cc\\u03c2\"], [\"\\u0399\\u03c3\\u03b7\\u03bc\\u03b5\\u03c1\\u03b9\\u03bd\\u03cc\\u03c2\"], [\"\\u0399\\u03c3\\u03b7\\u03bc\\u03b5\\u03c1\\u03b9\\u03bd\\u03cc\\u03c2\"], [\"\\u0399\\u03c3\\u03b7\\u03bc\\u03b5\\u03c1\\u03b9\\u03bd\\u03cc\\u03c2\"], [\"\\u0399\\u03c3\\u03b7\\u03bc\\u03b5\\u03c1\\u03b9\\u03bd\\u03cc\\u03c2\"], [\"\\u0399\\u03c3\\u03b7\\u03bc\\u03b5\\u03c1\\u03b9\\u03bd\\u03cc\\u03c2\"], [\"\\u0399\\u03c3\\u03b7\\u03bc\\u03b5\\u03c1\\u03b9\\u03bd\\u03cc\\u03c2\"], [\"\\u0399\\u03c3\\u03b7\\u03bc\\u03b5\\u03c1\\u03b9\\u03bd\\u03cc\\u03c2\"], [\"\\u0399\\u03c3\\u03b7\\u03bc\\u03b5\\u03c1\\u03b9\\u03bd\\u03cc\\u03c2\"], [\"\\u0399\\u03c3\\u03b7\\u03bc\\u03b5\\u03c1\\u03b9\\u03bd\\u03cc\\u03c2\"], [\"\\u0399\\u03c3\\u03b7\\u03bc\\u03b5\\u03c1\\u03b9\\u03bd\\u03cc\\u03c2\"], [\"\\u0399\\u03c3\\u03b7\\u03bc\\u03b5\\u03c1\\u03b9\\u03bd\\u03cc\\u03c2\"]], \"hoverlabel\": {\"namelength\": 0}, \"hovertemplate\": \"\\u03a7\\u03ce\\u03c1\\u03b1=%{customdata[0]}<br>\\u0391\\u03c1\\u03b9\\u03b8\\u03bc\\u03cc\\u03c2 \\u039a\\u03c1\\u03bf\\u03c5\\u03c3\\u03bc\\u03ac\\u03c4\\u03c9\\u03bd=%{y}\", \"legendgroup\": \"\\u0399\\u03c3\\u03b7\\u03bc\\u03b5\\u03c1\\u03b9\\u03bd\\u03cc\\u03c2\", \"line\": {\"color\": \"rgb(114, 184, 205)\", \"dash\": \"solid\", \"shape\": \"spline\"}, \"mode\": \"lines\", \"name\": \"\\u0399\\u03c3\\u03b7\\u03bc\\u03b5\\u03c1\\u03b9\\u03bd\\u03cc\\u03c2\", \"showlegend\": true, \"type\": \"scatter\", \"xaxis\": \"x\", \"y\": [111, 199, 367, 506, 789, 981, 1082, 1173, 1403, 1595, 1823, 1924, 1962, 2240, 2748, 3163], \"yaxis\": \"y\"}, {\"customdata\": [[\"\\u0391\\u03af\\u03b3\\u03c5\\u03c0\\u03c4\\u03bf\\u03c2\"], [\"\\u0391\\u03af\\u03b3\\u03c5\\u03c0\\u03c4\\u03bf\\u03c2\"], [\"\\u0391\\u03af\\u03b3\\u03c5\\u03c0\\u03c4\\u03bf\\u03c2\"], [\"\\u0391\\u03af\\u03b3\\u03c5\\u03c0\\u03c4\\u03bf\\u03c2\"], [\"\\u0391\\u03af\\u03b3\\u03c5\\u03c0\\u03c4\\u03bf\\u03c2\"], [\"\\u0391\\u03af\\u03b3\\u03c5\\u03c0\\u03c4\\u03bf\\u03c2\"], [\"\\u0391\\u03af\\u03b3\\u03c5\\u03c0\\u03c4\\u03bf\\u03c2\"], [\"\\u0391\\u03af\\u03b3\\u03c5\\u03c0\\u03c4\\u03bf\\u03c2\"], [\"\\u0391\\u03af\\u03b3\\u03c5\\u03c0\\u03c4\\u03bf\\u03c2\"], [\"\\u0391\\u03af\\u03b3\\u03c5\\u03c0\\u03c4\\u03bf\\u03c2\"], [\"\\u0391\\u03af\\u03b3\\u03c5\\u03c0\\u03c4\\u03bf\\u03c2\"], [\"\\u0391\\u03af\\u03b3\\u03c5\\u03c0\\u03c4\\u03bf\\u03c2\"], [\"\\u0391\\u03af\\u03b3\\u03c5\\u03c0\\u03c4\\u03bf\\u03c2\"], [\"\\u0391\\u03af\\u03b3\\u03c5\\u03c0\\u03c4\\u03bf\\u03c2\"], [\"\\u0391\\u03af\\u03b3\\u03c5\\u03c0\\u03c4\\u03bf\\u03c2\"], [\"\\u0391\\u03af\\u03b3\\u03c5\\u03c0\\u03c4\\u03bf\\u03c2\"], [\"\\u0391\\u03af\\u03b3\\u03c5\\u03c0\\u03c4\\u03bf\\u03c2\"], [\"\\u0391\\u03af\\u03b3\\u03c5\\u03c0\\u03c4\\u03bf\\u03c2\"], [\"\\u0391\\u03af\\u03b3\\u03c5\\u03c0\\u03c4\\u03bf\\u03c2\"], [\"\\u0391\\u03af\\u03b3\\u03c5\\u03c0\\u03c4\\u03bf\\u03c2\"]], \"hoverlabel\": {\"namelength\": 0}, \"hovertemplate\": \"\\u03a7\\u03ce\\u03c1\\u03b1=%{customdata[0]}<br>\\u0391\\u03c1\\u03b9\\u03b8\\u03bc\\u03cc\\u03c2 \\u039a\\u03c1\\u03bf\\u03c5\\u03c3\\u03bc\\u03ac\\u03c4\\u03c9\\u03bd=%{y}\", \"legendgroup\": \"\\u0391\\u03af\\u03b3\\u03c5\\u03c0\\u03c4\\u03bf\\u03c2\", \"line\": {\"color\": \"rgb(149, 207, 216)\", \"dash\": \"solid\", \"shape\": \"spline\"}, \"mode\": \"lines\", \"name\": \"\\u0391\\u03af\\u03b3\\u03c5\\u03c0\\u03c4\\u03bf\\u03c2\", \"showlegend\": true, \"type\": \"scatter\", \"xaxis\": \"x\", \"y\": [109, 110, 150, 196, 196, 256, 285, 294, 327, 366, 402, 456, 495, 536, 576, 609, 656, 710, 779, 865], \"yaxis\": \"y\"}, {\"customdata\": [[\"\\u0395\\u03c3\\u03b8\\u03bf\\u03bd\\u03af\\u03b1\"], [\"\\u0395\\u03c3\\u03b8\\u03bf\\u03bd\\u03af\\u03b1\"], [\"\\u0395\\u03c3\\u03b8\\u03bf\\u03bd\\u03af\\u03b1\"], [\"\\u0395\\u03c3\\u03b8\\u03bf\\u03bd\\u03af\\u03b1\"], [\"\\u0395\\u03c3\\u03b8\\u03bf\\u03bd\\u03af\\u03b1\"], [\"\\u0395\\u03c3\\u03b8\\u03bf\\u03bd\\u03af\\u03b1\"], [\"\\u0395\\u03c3\\u03b8\\u03bf\\u03bd\\u03af\\u03b1\"], [\"\\u0395\\u03c3\\u03b8\\u03bf\\u03bd\\u03af\\u03b1\"], [\"\\u0395\\u03c3\\u03b8\\u03bf\\u03bd\\u03af\\u03b1\"], [\"\\u0395\\u03c3\\u03b8\\u03bf\\u03bd\\u03af\\u03b1\"], [\"\\u0395\\u03c3\\u03b8\\u03bf\\u03bd\\u03af\\u03b1\"], [\"\\u0395\\u03c3\\u03b8\\u03bf\\u03bd\\u03af\\u03b1\"], [\"\\u0395\\u03c3\\u03b8\\u03bf\\u03bd\\u03af\\u03b1\"], [\"\\u0395\\u03c3\\u03b8\\u03bf\\u03bd\\u03af\\u03b1\"], [\"\\u0395\\u03c3\\u03b8\\u03bf\\u03bd\\u03af\\u03b1\"], [\"\\u0395\\u03c3\\u03b8\\u03bf\\u03bd\\u03af\\u03b1\"], [\"\\u0395\\u03c3\\u03b8\\u03bf\\u03bd\\u03af\\u03b1\"], [\"\\u0395\\u03c3\\u03b8\\u03bf\\u03bd\\u03af\\u03b1\"], [\"\\u0395\\u03c3\\u03b8\\u03bf\\u03bd\\u03af\\u03b1\"], [\"\\u0395\\u03c3\\u03b8\\u03bf\\u03bd\\u03af\\u03b1\"]], \"hoverlabel\": {\"namelength\": 0}, \"hovertemplate\": \"\\u03a7\\u03ce\\u03c1\\u03b1=%{customdata[0]}<br>\\u0391\\u03c1\\u03b9\\u03b8\\u03bc\\u03cc\\u03c2 \\u039a\\u03c1\\u03bf\\u03c5\\u03c3\\u03bc\\u03ac\\u03c4\\u03c9\\u03bd=%{y}\", \"legendgroup\": \"\\u0395\\u03c3\\u03b8\\u03bf\\u03bd\\u03af\\u03b1\", \"line\": {\"color\": \"rgb(192, 229, 232)\", \"dash\": \"solid\", \"shape\": \"spline\"}, \"mode\": \"lines\", \"name\": \"\\u0395\\u03c3\\u03b8\\u03bf\\u03bd\\u03af\\u03b1\", \"showlegend\": true, \"type\": \"scatter\", \"xaxis\": \"x\", \"y\": [115, 171, 205, 225, 258, 267, 283, 306, 326, 352, 369, 404, 538, 575, 645, 679, 715, 745, 779, 858], \"yaxis\": \"y\"}, {\"customdata\": [[\"\\u03a6\\u03b9\\u03bd\\u03bb\\u03b1\\u03bd\\u03b4\\u03af\\u03b1\"], [\"\\u03a6\\u03b9\\u03bd\\u03bb\\u03b1\\u03bd\\u03b4\\u03af\\u03b1\"], [\"\\u03a6\\u03b9\\u03bd\\u03bb\\u03b1\\u03bd\\u03b4\\u03af\\u03b1\"], [\"\\u03a6\\u03b9\\u03bd\\u03bb\\u03b1\\u03bd\\u03b4\\u03af\\u03b1\"], [\"\\u03a6\\u03b9\\u03bd\\u03bb\\u03b1\\u03bd\\u03b4\\u03af\\u03b1\"], [\"\\u03a6\\u03b9\\u03bd\\u03bb\\u03b1\\u03bd\\u03b4\\u03af\\u03b1\"], [\"\\u03a6\\u03b9\\u03bd\\u03bb\\u03b1\\u03bd\\u03b4\\u03af\\u03b1\"], [\"\\u03a6\\u03b9\\u03bd\\u03bb\\u03b1\\u03bd\\u03b4\\u03af\\u03b1\"], [\"\\u03a6\\u03b9\\u03bd\\u03bb\\u03b1\\u03bd\\u03b4\\u03af\\u03b1\"], [\"\\u03a6\\u03b9\\u03bd\\u03bb\\u03b1\\u03bd\\u03b4\\u03af\\u03b1\"], [\"\\u03a6\\u03b9\\u03bd\\u03bb\\u03b1\\u03bd\\u03b4\\u03af\\u03b1\"], [\"\\u03a6\\u03b9\\u03bd\\u03bb\\u03b1\\u03bd\\u03b4\\u03af\\u03b1\"], [\"\\u03a6\\u03b9\\u03bd\\u03bb\\u03b1\\u03bd\\u03b4\\u03af\\u03b1\"], [\"\\u03a6\\u03b9\\u03bd\\u03bb\\u03b1\\u03bd\\u03b4\\u03af\\u03b1\"], [\"\\u03a6\\u03b9\\u03bd\\u03bb\\u03b1\\u03bd\\u03b4\\u03af\\u03b1\"], [\"\\u03a6\\u03b9\\u03bd\\u03bb\\u03b1\\u03bd\\u03b4\\u03af\\u03b1\"], [\"\\u03a6\\u03b9\\u03bd\\u03bb\\u03b1\\u03bd\\u03b4\\u03af\\u03b1\"], [\"\\u03a6\\u03b9\\u03bd\\u03bb\\u03b1\\u03bd\\u03b4\\u03af\\u03b1\"], [\"\\u03a6\\u03b9\\u03bd\\u03bb\\u03b1\\u03bd\\u03b4\\u03af\\u03b1\"], [\"\\u03a6\\u03b9\\u03bd\\u03bb\\u03b1\\u03bd\\u03b4\\u03af\\u03b1\"], [\"\\u03a6\\u03b9\\u03bd\\u03bb\\u03b1\\u03bd\\u03b4\\u03af\\u03b1\"]], \"hoverlabel\": {\"namelength\": 0}, \"hovertemplate\": \"\\u03a7\\u03ce\\u03c1\\u03b1=%{customdata[0]}<br>\\u0391\\u03c1\\u03b9\\u03b8\\u03bc\\u03cc\\u03c2 \\u039a\\u03c1\\u03bf\\u03c5\\u03c3\\u03bc\\u03ac\\u03c4\\u03c9\\u03bd=%{y}\", \"legendgroup\": \"\\u03a6\\u03b9\\u03bd\\u03bb\\u03b1\\u03bd\\u03b4\\u03af\\u03b1\", \"line\": {\"color\": \"rgb(234, 252, 253)\", \"dash\": \"solid\", \"shape\": \"spline\"}, \"mode\": \"lines\", \"name\": \"\\u03a6\\u03b9\\u03bd\\u03bb\\u03b1\\u03bd\\u03b4\\u03af\\u03b1\", \"showlegend\": true, \"type\": \"scatter\", \"xaxis\": \"x\", \"y\": [155, 225, 244, 277, 321, 336, 400, 450, 523, 626, 700, 792, 880, 958, 1041, 1167, 1240, 1352, 1418, 1446, 1518], \"yaxis\": \"y\"}, {\"customdata\": [[\"\\u0393\\u03b1\\u03bb\\u03bb\\u03af\\u03b1\"], [\"\\u0393\\u03b1\\u03bb\\u03bb\\u03af\\u03b1\"], [\"\\u0393\\u03b1\\u03bb\\u03bb\\u03af\\u03b1\"], [\"\\u0393\\u03b1\\u03bb\\u03bb\\u03af\\u03b1\"], [\"\\u0393\\u03b1\\u03bb\\u03bb\\u03af\\u03b1\"], [\"\\u0393\\u03b1\\u03bb\\u03bb\\u03af\\u03b1\"], [\"\\u0393\\u03b1\\u03bb\\u03bb\\u03af\\u03b1\"], [\"\\u0393\\u03b1\\u03bb\\u03bb\\u03af\\u03b1\"], [\"\\u0393\\u03b1\\u03bb\\u03bb\\u03af\\u03b1\"], [\"\\u0393\\u03b1\\u03bb\\u03bb\\u03af\\u03b1\"], [\"\\u0393\\u03b1\\u03bb\\u03bb\\u03af\\u03b1\"], [\"\\u0393\\u03b1\\u03bb\\u03bb\\u03af\\u03b1\"], [\"\\u0393\\u03b1\\u03bb\\u03bb\\u03af\\u03b1\"], [\"\\u0393\\u03b1\\u03bb\\u03bb\\u03af\\u03b1\"], [\"\\u0393\\u03b1\\u03bb\\u03bb\\u03af\\u03b1\"], [\"\\u0393\\u03b1\\u03bb\\u03bb\\u03af\\u03b1\"], [\"\\u0393\\u03b1\\u03bb\\u03bb\\u03af\\u03b1\"], [\"\\u0393\\u03b1\\u03bb\\u03bb\\u03af\\u03b1\"], [\"\\u0393\\u03b1\\u03bb\\u03bb\\u03af\\u03b1\"], [\"\\u0393\\u03b1\\u03bb\\u03bb\\u03af\\u03b1\"], [\"\\u0393\\u03b1\\u03bb\\u03bb\\u03af\\u03b1\"], [\"\\u0393\\u03b1\\u03bb\\u03bb\\u03af\\u03b1\"], [\"\\u0393\\u03b1\\u03bb\\u03bb\\u03af\\u03b1\"], [\"\\u0393\\u03b1\\u03bb\\u03bb\\u03af\\u03b1\"], [\"\\u0393\\u03b1\\u03bb\\u03bb\\u03af\\u03b1\"], [\"\\u0393\\u03b1\\u03bb\\u03bb\\u03af\\u03b1\"], [\"\\u0393\\u03b1\\u03bb\\u03bb\\u03af\\u03b1\"], [\"\\u0393\\u03b1\\u03bb\\u03bb\\u03af\\u03b1\"], [\"\\u0393\\u03b1\\u03bb\\u03bb\\u03af\\u03b1\"], [\"\\u0393\\u03b1\\u03bb\\u03bb\\u03af\\u03b1\"], [\"\\u0393\\u03b1\\u03bb\\u03bb\\u03af\\u03b1\"], [\"\\u0393\\u03b1\\u03bb\\u03bb\\u03af\\u03b1\"], [\"\\u0393\\u03b1\\u03bb\\u03bb\\u03af\\u03b1\"], [\"\\u0393\\u03b1\\u03bb\\u03bb\\u03af\\u03b1\"]], \"hoverlabel\": {\"namelength\": 0}, \"hovertemplate\": \"\\u03a7\\u03ce\\u03c1\\u03b1=%{customdata[0]}<br>\\u0391\\u03c1\\u03b9\\u03b8\\u03bc\\u03cc\\u03c2 \\u039a\\u03c1\\u03bf\\u03c5\\u03c3\\u03bc\\u03ac\\u03c4\\u03c9\\u03bd=%{y}\", \"legendgroup\": \"\\u0393\\u03b1\\u03bb\\u03bb\\u03af\\u03b1\", \"line\": {\"color\": \"rgb(3, 5, 18)\", \"dash\": \"solid\", \"shape\": \"spline\"}, \"mode\": \"lines\", \"name\": \"\\u0393\\u03b1\\u03bb\\u03bb\\u03af\\u03b1\", \"showlegend\": true, \"type\": \"scatter\", \"xaxis\": \"x\", \"y\": [100, 130, 191, 204, 288, 380, 656, 959, 1136, 1219, 1794, 2293, 2293, 3681, 4496, 4532, 6683, 7715, 9124, 10970, 12758, 14463, 16243, 20123, 22622, 25600, 29551, 33402, 38105, 40708, 45170, 52827, 57749, 59929], \"yaxis\": \"y\"}, {\"customdata\": [[\"\\u0393\\u03b5\\u03c9\\u03c1\\u03b3\\u03af\\u03b1\"], [\"\\u0393\\u03b5\\u03c9\\u03c1\\u03b3\\u03af\\u03b1\"], [\"\\u0393\\u03b5\\u03c9\\u03c1\\u03b3\\u03af\\u03b1\"], [\"\\u0393\\u03b5\\u03c9\\u03c1\\u03b3\\u03af\\u03b1\"]], \"hoverlabel\": {\"namelength\": 0}, \"hovertemplate\": \"\\u03a7\\u03ce\\u03c1\\u03b1=%{customdata[0]}<br>\\u0391\\u03c1\\u03b9\\u03b8\\u03bc\\u03cc\\u03c2 \\u039a\\u03c1\\u03bf\\u03c5\\u03c3\\u03bc\\u03ac\\u03c4\\u03c9\\u03bd=%{y}\", \"legendgroup\": \"\\u0393\\u03b5\\u03c9\\u03c1\\u03b3\\u03af\\u03b1\", \"line\": {\"color\": \"rgb(25, 25, 51)\", \"dash\": \"solid\", \"shape\": \"spline\"}, \"mode\": \"lines\", \"name\": \"\\u0393\\u03b5\\u03c9\\u03c1\\u03b3\\u03af\\u03b1\", \"showlegend\": true, \"type\": \"scatter\", \"xaxis\": \"x\", \"y\": [103, 110, 117, 134], \"yaxis\": \"y\"}, {\"customdata\": [[\"\\u0393\\u03b5\\u03c1\\u03bc\\u03b1\\u03bd\\u03af\\u03b1\"], [\"\\u0393\\u03b5\\u03c1\\u03bc\\u03b1\\u03bd\\u03af\\u03b1\"], [\"\\u0393\\u03b5\\u03c1\\u03bc\\u03b1\\u03bd\\u03af\\u03b1\"], [\"\\u0393\\u03b5\\u03c1\\u03bc\\u03b1\\u03bd\\u03af\\u03b1\"], [\"\\u0393\\u03b5\\u03c1\\u03bc\\u03b1\\u03bd\\u03af\\u03b1\"], [\"\\u0393\\u03b5\\u03c1\\u03bc\\u03b1\\u03bd\\u03af\\u03b1\"], [\"\\u0393\\u03b5\\u03c1\\u03bc\\u03b1\\u03bd\\u03af\\u03b1\"], [\"\\u0393\\u03b5\\u03c1\\u03bc\\u03b1\\u03bd\\u03af\\u03b1\"], [\"\\u0393\\u03b5\\u03c1\\u03bc\\u03b1\\u03bd\\u03af\\u03b1\"], [\"\\u0393\\u03b5\\u03c1\\u03bc\\u03b1\\u03bd\\u03af\\u03b1\"], [\"\\u0393\\u03b5\\u03c1\\u03bc\\u03b1\\u03bd\\u03af\\u03b1\"], [\"\\u0393\\u03b5\\u03c1\\u03bc\\u03b1\\u03bd\\u03af\\u03b1\"], [\"\\u0393\\u03b5\\u03c1\\u03bc\\u03b1\\u03bd\\u03af\\u03b1\"], [\"\\u0393\\u03b5\\u03c1\\u03bc\\u03b1\\u03bd\\u03af\\u03b1\"], [\"\\u0393\\u03b5\\u03c1\\u03bc\\u03b1\\u03bd\\u03af\\u03b1\"], [\"\\u0393\\u03b5\\u03c1\\u03bc\\u03b1\\u03bd\\u03af\\u03b1\"], [\"\\u0393\\u03b5\\u03c1\\u03bc\\u03b1\\u03bd\\u03af\\u03b1\"], [\"\\u0393\\u03b5\\u03c1\\u03bc\\u03b1\\u03bd\\u03af\\u03b1\"], [\"\\u0393\\u03b5\\u03c1\\u03bc\\u03b1\\u03bd\\u03af\\u03b1\"], [\"\\u0393\\u03b5\\u03c1\\u03bc\\u03b1\\u03bd\\u03af\\u03b1\"], [\"\\u0393\\u03b5\\u03c1\\u03bc\\u03b1\\u03bd\\u03af\\u03b1\"], [\"\\u0393\\u03b5\\u03c1\\u03bc\\u03b1\\u03bd\\u03af\\u03b1\"], [\"\\u0393\\u03b5\\u03c1\\u03bc\\u03b1\\u03bd\\u03af\\u03b1\"], [\"\\u0393\\u03b5\\u03c1\\u03bc\\u03b1\\u03bd\\u03af\\u03b1\"], [\"\\u0393\\u03b5\\u03c1\\u03bc\\u03b1\\u03bd\\u03af\\u03b1\"], [\"\\u0393\\u03b5\\u03c1\\u03bc\\u03b1\\u03bd\\u03af\\u03b1\"], [\"\\u0393\\u03b5\\u03c1\\u03bc\\u03b1\\u03bd\\u03af\\u03b1\"], [\"\\u0393\\u03b5\\u03c1\\u03bc\\u03b1\\u03bd\\u03af\\u03b1\"], [\"\\u0393\\u03b5\\u03c1\\u03bc\\u03b1\\u03bd\\u03af\\u03b1\"], [\"\\u0393\\u03b5\\u03c1\\u03bc\\u03b1\\u03bd\\u03af\\u03b1\"], [\"\\u0393\\u03b5\\u03c1\\u03bc\\u03b1\\u03bd\\u03af\\u03b1\"], [\"\\u0393\\u03b5\\u03c1\\u03bc\\u03b1\\u03bd\\u03af\\u03b1\"], [\"\\u0393\\u03b5\\u03c1\\u03bc\\u03b1\\u03bd\\u03af\\u03b1\"]], \"hoverlabel\": {\"namelength\": 0}, \"hovertemplate\": \"\\u03a7\\u03ce\\u03c1\\u03b1=%{customdata[0]}<br>\\u0391\\u03c1\\u03b9\\u03b8\\u03bc\\u03cc\\u03c2 \\u039a\\u03c1\\u03bf\\u03c5\\u03c3\\u03bc\\u03ac\\u03c4\\u03c9\\u03bd=%{y}\", \"legendgroup\": \"\\u0393\\u03b5\\u03c1\\u03bc\\u03b1\\u03bd\\u03af\\u03b1\", \"line\": {\"color\": \"rgb(44, 42, 87)\", \"dash\": \"solid\", \"shape\": \"spline\"}, \"mode\": \"lines\", \"name\": \"\\u0393\\u03b5\\u03c1\\u03bc\\u03b1\\u03bd\\u03af\\u03b1\", \"showlegend\": true, \"type\": \"scatter\", \"xaxis\": \"x\", \"y\": [130, 159, 196, 262, 482, 670, 799, 1040, 1176, 1457, 1908, 2078, 3675, 4585, 5795, 7272, 9257, 12327, 15320, 19848, 22213, 24873, 29056, 32986, 37323, 43938, 50871, 57695, 62095, 66885, 71808, 77872, 84794], \"yaxis\": \"y\"}, {\"customdata\": [[\"\\u0393\\u03ba\\u03ac\\u03bd\\u03b1\"], [\"\\u0393\\u03ba\\u03ac\\u03bd\\u03b1\"], [\"\\u0393\\u03ba\\u03ac\\u03bd\\u03b1\"], [\"\\u0393\\u03ba\\u03ac\\u03bd\\u03b1\"], [\"\\u0393\\u03ba\\u03ac\\u03bd\\u03b1\"], [\"\\u0393\\u03ba\\u03ac\\u03bd\\u03b1\"], [\"\\u0393\\u03ba\\u03ac\\u03bd\\u03b1\"], [\"\\u0393\\u03ba\\u03ac\\u03bd\\u03b1\"]], \"hoverlabel\": {\"namelength\": 0}, \"hovertemplate\": \"\\u03a7\\u03ce\\u03c1\\u03b1=%{customdata[0]}<br>\\u0391\\u03c1\\u03b9\\u03b8\\u03bc\\u03cc\\u03c2 \\u039a\\u03c1\\u03bf\\u03c5\\u03c3\\u03bc\\u03ac\\u03c4\\u03c9\\u03bd=%{y}\", \"legendgroup\": \"\\u0393\\u03ba\\u03ac\\u03bd\\u03b1\", \"line\": {\"color\": \"rgb(58, 60, 125)\", \"dash\": \"solid\", \"shape\": \"spline\"}, \"mode\": \"lines\", \"name\": \"\\u0393\\u03ba\\u03ac\\u03bd\\u03b1\", \"showlegend\": true, \"type\": \"scatter\", \"xaxis\": \"x\", \"y\": [132, 137, 141, 152, 152, 161, 195, 204], \"yaxis\": \"y\"}, {\"customdata\": [[\"\\u0395\\u03bb\\u03bb\\u03ac\\u03b4\\u03b1\"], [\"\\u0395\\u03bb\\u03bb\\u03ac\\u03b4\\u03b1\"], [\"\\u0395\\u03bb\\u03bb\\u03ac\\u03b4\\u03b1\"], [\"\\u0395\\u03bb\\u03bb\\u03ac\\u03b4\\u03b1\"], [\"\\u0395\\u03bb\\u03bb\\u03ac\\u03b4\\u03b1\"], [\"\\u0395\\u03bb\\u03bb\\u03ac\\u03b4\\u03b1\"], [\"\\u0395\\u03bb\\u03bb\\u03ac\\u03b4\\u03b1\"], [\"\\u0395\\u03bb\\u03bb\\u03ac\\u03b4\\u03b1\"], [\"\\u0395\\u03bb\\u03bb\\u03ac\\u03b4\\u03b1\"], [\"\\u0395\\u03bb\\u03bb\\u03ac\\u03b4\\u03b1\"], [\"\\u0395\\u03bb\\u03bb\\u03ac\\u03b4\\u03b1\"], [\"\\u0395\\u03bb\\u03bb\\u03ac\\u03b4\\u03b1\"], [\"\\u0395\\u03bb\\u03bb\\u03ac\\u03b4\\u03b1\"], [\"\\u0395\\u03bb\\u03bb\\u03ac\\u03b4\\u03b1\"], [\"\\u0395\\u03bb\\u03bb\\u03ac\\u03b4\\u03b1\"], [\"\\u0395\\u03bb\\u03bb\\u03ac\\u03b4\\u03b1\"], [\"\\u0395\\u03bb\\u03bb\\u03ac\\u03b4\\u03b1\"], [\"\\u0395\\u03bb\\u03bb\\u03ac\\u03b4\\u03b1\"], [\"\\u0395\\u03bb\\u03bb\\u03ac\\u03b4\\u03b1\"], [\"\\u0395\\u03bb\\u03bb\\u03ac\\u03b4\\u03b1\"], [\"\\u0395\\u03bb\\u03bb\\u03ac\\u03b4\\u03b1\"]], \"hoverlabel\": {\"namelength\": 0}, \"hovertemplate\": \"\\u03a7\\u03ce\\u03c1\\u03b1=%{customdata[0]}<br>\\u0391\\u03c1\\u03b9\\u03b8\\u03bc\\u03cc\\u03c2 \\u039a\\u03c1\\u03bf\\u03c5\\u03c3\\u03bc\\u03ac\\u03c4\\u03c9\\u03bd=%{y}\", \"legendgroup\": \"\\u0395\\u03bb\\u03bb\\u03ac\\u03b4\\u03b1\", \"line\": {\"color\": \"rgb(62, 83, 160)\", \"dash\": \"solid\", \"shape\": \"spline\"}, \"mode\": \"lines\", \"name\": \"\\u0395\\u03bb\\u03bb\\u03ac\\u03b4\\u03b1\", \"showlegend\": true, \"type\": \"scatter\", \"xaxis\": \"x\", \"y\": [190, 228, 331, 331, 387, 418, 418, 495, 530, 624, 695, 743, 821, 892, 966, 1061, 1156, 1212, 1314, 1415, 1544], \"yaxis\": \"y\"}, {\"customdata\": [[\"\\u039f\\u03bd\\u03b4\\u03bf\\u03cd\\u03c1\\u03b1\"], [\"\\u039f\\u03bd\\u03b4\\u03bf\\u03cd\\u03c1\\u03b1\"], [\"\\u039f\\u03bd\\u03b4\\u03bf\\u03cd\\u03c1\\u03b1\"], [\"\\u039f\\u03bd\\u03b4\\u03bf\\u03cd\\u03c1\\u03b1\"], [\"\\u039f\\u03bd\\u03b4\\u03bf\\u03cd\\u03c1\\u03b1\"]], \"hoverlabel\": {\"namelength\": 0}, \"hovertemplate\": \"\\u03a7\\u03ce\\u03c1\\u03b1=%{customdata[0]}<br>\\u0391\\u03c1\\u03b9\\u03b8\\u03bc\\u03cc\\u03c2 \\u039a\\u03c1\\u03bf\\u03c5\\u03c3\\u03bc\\u03ac\\u03c4\\u03c9\\u03bd=%{y}\", \"legendgroup\": \"\\u039f\\u03bd\\u03b4\\u03bf\\u03cd\\u03c1\\u03b1\", \"line\": {\"color\": \"rgb(62, 109, 178)\", \"dash\": \"solid\", \"shape\": \"spline\"}, \"mode\": \"lines\", \"name\": \"\\u039f\\u03bd\\u03b4\\u03bf\\u03cd\\u03c1\\u03b1\", \"showlegend\": true, \"type\": \"scatter\", \"xaxis\": \"x\", \"y\": [110, 139, 141, 172, 219], \"yaxis\": \"y\"}, {\"customdata\": [[\"\\u039f\\u03c5\\u03b3\\u03b3\\u03b1\\u03c1\\u03af\\u03b1\"], [\"\\u039f\\u03c5\\u03b3\\u03b3\\u03b1\\u03c1\\u03af\\u03b1\"], [\"\\u039f\\u03c5\\u03b3\\u03b3\\u03b1\\u03c1\\u03af\\u03b1\"], [\"\\u039f\\u03c5\\u03b3\\u03b3\\u03b1\\u03c1\\u03af\\u03b1\"], [\"\\u039f\\u03c5\\u03b3\\u03b3\\u03b1\\u03c1\\u03af\\u03b1\"], [\"\\u039f\\u03c5\\u03b3\\u03b3\\u03b1\\u03c1\\u03af\\u03b1\"], [\"\\u039f\\u03c5\\u03b3\\u03b3\\u03b1\\u03c1\\u03af\\u03b1\"], [\"\\u039f\\u03c5\\u03b3\\u03b3\\u03b1\\u03c1\\u03af\\u03b1\"], [\"\\u039f\\u03c5\\u03b3\\u03b3\\u03b1\\u03c1\\u03af\\u03b1\"], [\"\\u039f\\u03c5\\u03b3\\u03b3\\u03b1\\u03c1\\u03af\\u03b1\"], [\"\\u039f\\u03c5\\u03b3\\u03b3\\u03b1\\u03c1\\u03af\\u03b1\"], [\"\\u039f\\u03c5\\u03b3\\u03b3\\u03b1\\u03c1\\u03af\\u03b1\"], [\"\\u039f\\u03c5\\u03b3\\u03b3\\u03b1\\u03c1\\u03af\\u03b1\"]], \"hoverlabel\": {\"namelength\": 0}, \"hovertemplate\": \"\\u03a7\\u03ce\\u03c1\\u03b1=%{customdata[0]}<br>\\u0391\\u03c1\\u03b9\\u03b8\\u03bc\\u03cc\\u03c2 \\u039a\\u03c1\\u03bf\\u03c5\\u03c3\\u03bc\\u03ac\\u03c4\\u03c9\\u03bd=%{y}\", \"legendgroup\": \"\\u039f\\u03c5\\u03b3\\u03b3\\u03b1\\u03c1\\u03af\\u03b1\", \"line\": {\"color\": \"rgb(72, 134, 187)\", \"dash\": \"solid\", \"shape\": \"spline\"}, \"mode\": \"lines\", \"name\": \"\\u039f\\u03c5\\u03b3\\u03b3\\u03b1\\u03c1\\u03af\\u03b1\", \"showlegend\": true, \"type\": \"scatter\", \"xaxis\": \"x\", \"y\": [103, 131, 167, 187, 226, 261, 300, 343, 408, 447, 492, 525, 585], \"yaxis\": \"y\"}, {\"customdata\": [[\"\\u0399\\u03c3\\u03bb\\u03b1\\u03bd\\u03b4\\u03af\\u03b1\"], [\"\\u0399\\u03c3\\u03bb\\u03b1\\u03bd\\u03b4\\u03af\\u03b1\"], [\"\\u0399\\u03c3\\u03bb\\u03b1\\u03bd\\u03b4\\u03af\\u03b1\"], [\"\\u0399\\u03c3\\u03bb\\u03b1\\u03bd\\u03b4\\u03af\\u03b1\"], [\"\\u0399\\u03c3\\u03bb\\u03b1\\u03bd\\u03b4\\u03af\\u03b1\"], [\"\\u0399\\u03c3\\u03bb\\u03b1\\u03bd\\u03b4\\u03af\\u03b1\"], [\"\\u0399\\u03c3\\u03bb\\u03b1\\u03bd\\u03b4\\u03af\\u03b1\"], [\"\\u0399\\u03c3\\u03bb\\u03b1\\u03bd\\u03b4\\u03af\\u03b1\"], [\"\\u0399\\u03c3\\u03bb\\u03b1\\u03bd\\u03b4\\u03af\\u03b1\"], [\"\\u0399\\u03c3\\u03bb\\u03b1\\u03bd\\u03b4\\u03af\\u03b1\"], [\"\\u0399\\u03c3\\u03bb\\u03b1\\u03bd\\u03b4\\u03af\\u03b1\"], [\"\\u0399\\u03c3\\u03bb\\u03b1\\u03bd\\u03b4\\u03af\\u03b1\"], [\"\\u0399\\u03c3\\u03bb\\u03b1\\u03bd\\u03b4\\u03af\\u03b1\"], [\"\\u0399\\u03c3\\u03bb\\u03b1\\u03bd\\u03b4\\u03af\\u03b1\"], [\"\\u0399\\u03c3\\u03bb\\u03b1\\u03bd\\u03b4\\u03af\\u03b1\"], [\"\\u0399\\u03c3\\u03bb\\u03b1\\u03bd\\u03b4\\u03af\\u03b1\"], [\"\\u0399\\u03c3\\u03bb\\u03b1\\u03bd\\u03b4\\u03af\\u03b1\"], [\"\\u0399\\u03c3\\u03bb\\u03b1\\u03bd\\u03b4\\u03af\\u03b1\"], [\"\\u0399\\u03c3\\u03bb\\u03b1\\u03bd\\u03b4\\u03af\\u03b1\"], [\"\\u0399\\u03c3\\u03bb\\u03b1\\u03bd\\u03b4\\u03af\\u03b1\"], [\"\\u0399\\u03c3\\u03bb\\u03b1\\u03bd\\u03b4\\u03af\\u03b1\"], [\"\\u0399\\u03c3\\u03bb\\u03b1\\u03bd\\u03b4\\u03af\\u03b1\"]], \"hoverlabel\": {\"namelength\": 0}, \"hovertemplate\": \"\\u03a7\\u03ce\\u03c1\\u03b1=%{customdata[0]}<br>\\u0391\\u03c1\\u03b9\\u03b8\\u03bc\\u03cc\\u03c2 \\u039a\\u03c1\\u03bf\\u03c5\\u03c3\\u03bc\\u03ac\\u03c4\\u03c9\\u03bd=%{y}\", \"legendgroup\": \"\\u0399\\u03c3\\u03bb\\u03b1\\u03bd\\u03b4\\u03af\\u03b1\", \"line\": {\"color\": \"rgb(89, 159, 196)\", \"dash\": \"solid\", \"shape\": \"spline\"}, \"mode\": \"lines\", \"name\": \"\\u0399\\u03c3\\u03bb\\u03b1\\u03bd\\u03b4\\u03af\\u03b1\", \"showlegend\": true, \"type\": \"scatter\", \"xaxis\": \"x\", \"y\": [103, 134, 156, 171, 180, 220, 250, 330, 409, 473, 568, 588, 648, 737, 802, 890, 963, 1020, 1086, 1135, 1220, 1319], \"yaxis\": \"y\"}, {\"customdata\": [[\"\\u0399\\u03bd\\u03b4\\u03af\\u03b1\"], [\"\\u0399\\u03bd\\u03b4\\u03af\\u03b1\"], [\"\\u0399\\u03bd\\u03b4\\u03af\\u03b1\"], [\"\\u0399\\u03bd\\u03b4\\u03af\\u03b1\"], [\"\\u0399\\u03bd\\u03b4\\u03af\\u03b1\"], [\"\\u0399\\u03bd\\u03b4\\u03af\\u03b1\"], [\"\\u0399\\u03bd\\u03b4\\u03af\\u03b1\"], [\"\\u0399\\u03bd\\u03b4\\u03af\\u03b1\"], [\"\\u0399\\u03bd\\u03b4\\u03af\\u03b1\"], [\"\\u0399\\u03bd\\u03b4\\u03af\\u03b1\"], [\"\\u0399\\u03bd\\u03b4\\u03af\\u03b1\"], [\"\\u0399\\u03bd\\u03b4\\u03af\\u03b1\"], [\"\\u0399\\u03bd\\u03b4\\u03af\\u03b1\"], [\"\\u0399\\u03bd\\u03b4\\u03af\\u03b1\"], [\"\\u0399\\u03bd\\u03b4\\u03af\\u03b1\"], [\"\\u0399\\u03bd\\u03b4\\u03af\\u03b1\"], [\"\\u0399\\u03bd\\u03b4\\u03af\\u03b1\"], [\"\\u0399\\u03bd\\u03b4\\u03af\\u03b1\"], [\"\\u0399\\u03bd\\u03b4\\u03af\\u03b1\"], [\"\\u0399\\u03bd\\u03b4\\u03af\\u03b1\"]], \"hoverlabel\": {\"namelength\": 0}, \"hovertemplate\": \"\\u03a7\\u03ce\\u03c1\\u03b1=%{customdata[0]}<br>\\u0391\\u03c1\\u03b9\\u03b8\\u03bc\\u03cc\\u03c2 \\u039a\\u03c1\\u03bf\\u03c5\\u03c3\\u03bc\\u03ac\\u03c4\\u03c9\\u03bd=%{y}\", \"legendgroup\": \"\\u0399\\u03bd\\u03b4\\u03af\\u03b1\", \"line\": {\"color\": \"rgb(114, 184, 205)\", \"dash\": \"solid\", \"shape\": \"spline\"}, \"mode\": \"lines\", \"name\": \"\\u0399\\u03bd\\u03b4\\u03af\\u03b1\", \"showlegend\": true, \"type\": \"scatter\", \"xaxis\": \"x\", \"y\": [102, 113, 119, 142, 156, 194, 244, 330, 396, 499, 536, 657, 727, 887, 987, 1024, 1251, 1397, 1998, 2543], \"yaxis\": \"y\"}, {\"customdata\": [[\"\\u0399\\u03bd\\u03b4\\u03bf\\u03bd\\u03b7\\u03c3\\u03af\\u03b1\"], [\"\\u0399\\u03bd\\u03b4\\u03bf\\u03bd\\u03b7\\u03c3\\u03af\\u03b1\"], [\"\\u0399\\u03bd\\u03b4\\u03bf\\u03bd\\u03b7\\u03c3\\u03af\\u03b1\"], [\"\\u0399\\u03bd\\u03b4\\u03bf\\u03bd\\u03b7\\u03c3\\u03af\\u03b1\"], [\"\\u0399\\u03bd\\u03b4\\u03bf\\u03bd\\u03b7\\u03c3\\u03af\\u03b1\"], [\"\\u0399\\u03bd\\u03b4\\u03bf\\u03bd\\u03b7\\u03c3\\u03af\\u03b1\"], [\"\\u0399\\u03bd\\u03b4\\u03bf\\u03bd\\u03b7\\u03c3\\u03af\\u03b1\"], [\"\\u0399\\u03bd\\u03b4\\u03bf\\u03bd\\u03b7\\u03c3\\u03af\\u03b1\"], [\"\\u0399\\u03bd\\u03b4\\u03bf\\u03bd\\u03b7\\u03c3\\u03af\\u03b1\"], [\"\\u0399\\u03bd\\u03b4\\u03bf\\u03bd\\u03b7\\u03c3\\u03af\\u03b1\"], [\"\\u0399\\u03bd\\u03b4\\u03bf\\u03bd\\u03b7\\u03c3\\u03af\\u03b1\"], [\"\\u0399\\u03bd\\u03b4\\u03bf\\u03bd\\u03b7\\u03c3\\u03af\\u03b1\"], [\"\\u0399\\u03bd\\u03b4\\u03bf\\u03bd\\u03b7\\u03c3\\u03af\\u03b1\"], [\"\\u0399\\u03bd\\u03b4\\u03bf\\u03bd\\u03b7\\u03c3\\u03af\\u03b1\"], [\"\\u0399\\u03bd\\u03b4\\u03bf\\u03bd\\u03b7\\u03c3\\u03af\\u03b1\"], [\"\\u0399\\u03bd\\u03b4\\u03bf\\u03bd\\u03b7\\u03c3\\u03af\\u03b1\"], [\"\\u0399\\u03bd\\u03b4\\u03bf\\u03bd\\u03b7\\u03c3\\u03af\\u03b1\"], [\"\\u0399\\u03bd\\u03b4\\u03bf\\u03bd\\u03b7\\u03c3\\u03af\\u03b1\"], [\"\\u0399\\u03bd\\u03b4\\u03bf\\u03bd\\u03b7\\u03c3\\u03af\\u03b1\"]], \"hoverlabel\": {\"namelength\": 0}, \"hovertemplate\": \"\\u03a7\\u03ce\\u03c1\\u03b1=%{customdata[0]}<br>\\u0391\\u03c1\\u03b9\\u03b8\\u03bc\\u03cc\\u03c2 \\u039a\\u03c1\\u03bf\\u03c5\\u03c3\\u03bc\\u03ac\\u03c4\\u03c9\\u03bd=%{y}\", \"legendgroup\": \"\\u0399\\u03bd\\u03b4\\u03bf\\u03bd\\u03b7\\u03c3\\u03af\\u03b1\", \"line\": {\"color\": \"rgb(149, 207, 216)\", \"dash\": \"solid\", \"shape\": \"spline\"}, \"mode\": \"lines\", \"name\": \"\\u0399\\u03bd\\u03b4\\u03bf\\u03bd\\u03b7\\u03c3\\u03af\\u03b1\", \"showlegend\": true, \"type\": \"scatter\", \"xaxis\": \"x\", \"y\": [117, 134, 172, 227, 311, 369, 450, 514, 579, 686, 790, 893, 1046, 1155, 1285, 1414, 1528, 1677, 1790], \"yaxis\": \"y\"}, {\"customdata\": [[\"\\u0399\\u03c1\\u03ac\\u03bd\"], [\"\\u0399\\u03c1\\u03ac\\u03bd\"], [\"\\u0399\\u03c1\\u03ac\\u03bd\"], [\"\\u0399\\u03c1\\u03ac\\u03bd\"], [\"\\u0399\\u03c1\\u03ac\\u03bd\"], [\"\\u0399\\u03c1\\u03ac\\u03bd\"], [\"\\u0399\\u03c1\\u03ac\\u03bd\"], [\"\\u0399\\u03c1\\u03ac\\u03bd\"], [\"\\u0399\\u03c1\\u03ac\\u03bd\"], [\"\\u0399\\u03c1\\u03ac\\u03bd\"], [\"\\u0399\\u03c1\\u03ac\\u03bd\"], [\"\\u0399\\u03c1\\u03ac\\u03bd\"], [\"\\u0399\\u03c1\\u03ac\\u03bd\"], [\"\\u0399\\u03c1\\u03ac\\u03bd\"], [\"\\u0399\\u03c1\\u03ac\\u03bd\"], [\"\\u0399\\u03c1\\u03ac\\u03bd\"], [\"\\u0399\\u03c1\\u03ac\\u03bd\"], [\"\\u0399\\u03c1\\u03ac\\u03bd\"], [\"\\u0399\\u03c1\\u03ac\\u03bd\"], [\"\\u0399\\u03c1\\u03ac\\u03bd\"], [\"\\u0399\\u03c1\\u03ac\\u03bd\"], [\"\\u0399\\u03c1\\u03ac\\u03bd\"], [\"\\u0399\\u03c1\\u03ac\\u03bd\"], [\"\\u0399\\u03c1\\u03ac\\u03bd\"], [\"\\u0399\\u03c1\\u03ac\\u03bd\"], [\"\\u0399\\u03c1\\u03ac\\u03bd\"], [\"\\u0399\\u03c1\\u03ac\\u03bd\"], [\"\\u0399\\u03c1\\u03ac\\u03bd\"], [\"\\u0399\\u03c1\\u03ac\\u03bd\"], [\"\\u0399\\u03c1\\u03ac\\u03bd\"], [\"\\u0399\\u03c1\\u03ac\\u03bd\"], [\"\\u0399\\u03c1\\u03ac\\u03bd\"], [\"\\u0399\\u03c1\\u03ac\\u03bd\"], [\"\\u0399\\u03c1\\u03ac\\u03bd\"], [\"\\u0399\\u03c1\\u03ac\\u03bd\"], [\"\\u0399\\u03c1\\u03ac\\u03bd\"], [\"\\u0399\\u03c1\\u03ac\\u03bd\"]], \"hoverlabel\": {\"namelength\": 0}, \"hovertemplate\": \"\\u03a7\\u03ce\\u03c1\\u03b1=%{customdata[0]}<br>\\u0391\\u03c1\\u03b9\\u03b8\\u03bc\\u03cc\\u03c2 \\u039a\\u03c1\\u03bf\\u03c5\\u03c3\\u03bc\\u03ac\\u03c4\\u03c9\\u03bd=%{y}\", \"legendgroup\": \"\\u0399\\u03c1\\u03ac\\u03bd\", \"line\": {\"color\": \"rgb(192, 229, 232)\", \"dash\": \"solid\", \"shape\": \"spline\"}, \"mode\": \"lines\", \"name\": \"\\u0399\\u03c1\\u03ac\\u03bd\", \"showlegend\": true, \"type\": \"scatter\", \"xaxis\": \"x\", \"y\": [139, 245, 388, 593, 978, 1501, 2336, 2922, 3513, 4747, 5823, 6566, 7161, 8042, 9000, 10075, 11364, 12729, 13938, 14991, 16169, 17361, 18407, 19644, 20610, 21638, 23049, 24811, 27017, 29406, 32332, 35408, 38309, 41495, 44605, 47593, 50468], \"yaxis\": \"y\"}, {\"customdata\": [[\"\\u0399\\u03c1\\u03ac\\u03ba\"], [\"\\u0399\\u03c1\\u03ac\\u03ba\"], [\"\\u0399\\u03c1\\u03ac\\u03ba\"], [\"\\u0399\\u03c1\\u03ac\\u03ba\"], [\"\\u0399\\u03c1\\u03ac\\u03ba\"], [\"\\u0399\\u03c1\\u03ac\\u03ba\"], [\"\\u0399\\u03c1\\u03ac\\u03ba\"], [\"\\u0399\\u03c1\\u03ac\\u03ba\"], [\"\\u0399\\u03c1\\u03ac\\u03ba\"], [\"\\u0399\\u03c1\\u03ac\\u03ba\"], [\"\\u0399\\u03c1\\u03ac\\u03ba\"], [\"\\u0399\\u03c1\\u03ac\\u03ba\"], [\"\\u0399\\u03c1\\u03ac\\u03ba\"], [\"\\u0399\\u03c1\\u03ac\\u03ba\"], [\"\\u0399\\u03c1\\u03ac\\u03ba\"], [\"\\u0399\\u03c1\\u03ac\\u03ba\"], [\"\\u0399\\u03c1\\u03ac\\u03ba\"], [\"\\u0399\\u03c1\\u03ac\\u03ba\"], [\"\\u0399\\u03c1\\u03ac\\u03ba\"], [\"\\u0399\\u03c1\\u03ac\\u03ba\"], [\"\\u0399\\u03c1\\u03ac\\u03ba\"]], \"hoverlabel\": {\"namelength\": 0}, \"hovertemplate\": \"\\u03a7\\u03ce\\u03c1\\u03b1=%{customdata[0]}<br>\\u0391\\u03c1\\u03b9\\u03b8\\u03bc\\u03cc\\u03c2 \\u039a\\u03c1\\u03bf\\u03c5\\u03c3\\u03bc\\u03ac\\u03c4\\u03c9\\u03bd=%{y}\", \"legendgroup\": \"\\u0399\\u03c1\\u03ac\\u03ba\", \"line\": {\"color\": \"rgb(234, 252, 253)\", \"dash\": \"solid\", \"shape\": \"spline\"}, \"mode\": \"lines\", \"name\": \"\\u0399\\u03c1\\u03ac\\u03ba\", \"showlegend\": true, \"type\": \"scatter\", \"xaxis\": \"x\", \"y\": [101, 110, 116, 124, 154, 164, 192, 208, 214, 233, 266, 316, 346, 382, 458, 506, 547, 630, 694, 728, 772], \"yaxis\": \"y\"}, {\"customdata\": [[\"\\u0399\\u03c1\\u03bb\\u03b1\\u03bd\\u03b4\\u03af\\u03b1\"], [\"\\u0399\\u03c1\\u03bb\\u03b1\\u03bd\\u03b4\\u03af\\u03b1\"], [\"\\u0399\\u03c1\\u03bb\\u03b1\\u03bd\\u03b4\\u03af\\u03b1\"], [\"\\u0399\\u03c1\\u03bb\\u03b1\\u03bd\\u03b4\\u03af\\u03b1\"], [\"\\u0399\\u03c1\\u03bb\\u03b1\\u03bd\\u03b4\\u03af\\u03b1\"], [\"\\u0399\\u03c1\\u03bb\\u03b1\\u03bd\\u03b4\\u03af\\u03b1\"], [\"\\u0399\\u03c1\\u03bb\\u03b1\\u03bd\\u03b4\\u03af\\u03b1\"], [\"\\u0399\\u03c1\\u03bb\\u03b1\\u03bd\\u03b4\\u03af\\u03b1\"], [\"\\u0399\\u03c1\\u03bb\\u03b1\\u03bd\\u03b4\\u03af\\u03b1\"], [\"\\u0399\\u03c1\\u03bb\\u03b1\\u03bd\\u03b4\\u03af\\u03b1\"], [\"\\u0399\\u03c1\\u03bb\\u03b1\\u03bd\\u03b4\\u03af\\u03b1\"], [\"\\u0399\\u03c1\\u03bb\\u03b1\\u03bd\\u03b4\\u03af\\u03b1\"], [\"\\u0399\\u03c1\\u03bb\\u03b1\\u03bd\\u03b4\\u03af\\u03b1\"], [\"\\u0399\\u03c1\\u03bb\\u03b1\\u03bd\\u03b4\\u03af\\u03b1\"], [\"\\u0399\\u03c1\\u03bb\\u03b1\\u03bd\\u03b4\\u03af\\u03b1\"], [\"\\u0399\\u03c1\\u03bb\\u03b1\\u03bd\\u03b4\\u03af\\u03b1\"], [\"\\u0399\\u03c1\\u03bb\\u03b1\\u03bd\\u03b4\\u03af\\u03b1\"], [\"\\u0399\\u03c1\\u03bb\\u03b1\\u03bd\\u03b4\\u03af\\u03b1\"], [\"\\u0399\\u03c1\\u03bb\\u03b1\\u03bd\\u03b4\\u03af\\u03b1\"], [\"\\u0399\\u03c1\\u03bb\\u03b1\\u03bd\\u03b4\\u03af\\u03b1\"]], \"hoverlabel\": {\"namelength\": 0}, \"hovertemplate\": \"\\u03a7\\u03ce\\u03c1\\u03b1=%{customdata[0]}<br>\\u0391\\u03c1\\u03b9\\u03b8\\u03bc\\u03cc\\u03c2 \\u039a\\u03c1\\u03bf\\u03c5\\u03c3\\u03bc\\u03ac\\u03c4\\u03c9\\u03bd=%{y}\", \"legendgroup\": \"\\u0399\\u03c1\\u03bb\\u03b1\\u03bd\\u03b4\\u03af\\u03b1\", \"line\": {\"color\": \"rgb(3, 5, 18)\", \"dash\": \"solid\", \"shape\": \"spline\"}, \"mode\": \"lines\", \"name\": \"\\u0399\\u03c1\\u03bb\\u03b1\\u03bd\\u03b4\\u03af\\u03b1\", \"showlegend\": true, \"type\": \"scatter\", \"xaxis\": \"x\", \"y\": [129, 129, 169, 223, 292, 557, 683, 785, 906, 1125, 1329, 1564, 1819, 2121, 2415, 2615, 2910, 3235, 3447, 3849], \"yaxis\": \"y\"}, {\"customdata\": [[\"\\u0399\\u03c3\\u03c1\\u03b1\\u03ae\\u03bb\"], [\"\\u0399\\u03c3\\u03c1\\u03b1\\u03ae\\u03bb\"], [\"\\u0399\\u03c3\\u03c1\\u03b1\\u03ae\\u03bb\"], [\"\\u0399\\u03c3\\u03c1\\u03b1\\u03ae\\u03bb\"], [\"\\u0399\\u03c3\\u03c1\\u03b1\\u03ae\\u03bb\"], [\"\\u0399\\u03c3\\u03c1\\u03b1\\u03ae\\u03bb\"], [\"\\u0399\\u03c3\\u03c1\\u03b1\\u03ae\\u03bb\"], [\"\\u0399\\u03c3\\u03c1\\u03b1\\u03ae\\u03bb\"], [\"\\u0399\\u03c3\\u03c1\\u03b1\\u03ae\\u03bb\"], [\"\\u0399\\u03c3\\u03c1\\u03b1\\u03ae\\u03bb\"], [\"\\u0399\\u03c3\\u03c1\\u03b1\\u03ae\\u03bb\"], [\"\\u0399\\u03c3\\u03c1\\u03b1\\u03ae\\u03bb\"], [\"\\u0399\\u03c3\\u03c1\\u03b1\\u03ae\\u03bb\"], [\"\\u0399\\u03c3\\u03c1\\u03b1\\u03ae\\u03bb\"], [\"\\u0399\\u03c3\\u03c1\\u03b1\\u03ae\\u03bb\"], [\"\\u0399\\u03c3\\u03c1\\u03b1\\u03ae\\u03bb\"], [\"\\u0399\\u03c3\\u03c1\\u03b1\\u03ae\\u03bb\"], [\"\\u0399\\u03c3\\u03c1\\u03b1\\u03ae\\u03bb\"], [\"\\u0399\\u03c3\\u03c1\\u03b1\\u03ae\\u03bb\"], [\"\\u0399\\u03c3\\u03c1\\u03b1\\u03ae\\u03bb\"], [\"\\u0399\\u03c3\\u03c1\\u03b1\\u03ae\\u03bb\"], [\"\\u0399\\u03c3\\u03c1\\u03b1\\u03ae\\u03bb\"]], \"hoverlabel\": {\"namelength\": 0}, \"hovertemplate\": \"\\u03a7\\u03ce\\u03c1\\u03b1=%{customdata[0]}<br>\\u0391\\u03c1\\u03b9\\u03b8\\u03bc\\u03cc\\u03c2 \\u039a\\u03c1\\u03bf\\u03c5\\u03c3\\u03bc\\u03ac\\u03c4\\u03c9\\u03bd=%{y}\", \"legendgroup\": \"\\u0399\\u03c3\\u03c1\\u03b1\\u03ae\\u03bb\", \"line\": {\"color\": \"rgb(25, 25, 51)\", \"dash\": \"solid\", \"shape\": \"spline\"}, \"mode\": \"lines\", \"name\": \"\\u0399\\u03c3\\u03c1\\u03b1\\u03ae\\u03bb\", \"showlegend\": true, \"type\": \"scatter\", \"xaxis\": \"x\", \"y\": [100, 126, 155, 213, 218, 250, 304, 427, 529, 712, 883, 1071, 1238, 2369, 2693, 3035, 3619, 4247, 4695, 5358, 6092, 6857], \"yaxis\": \"y\"}, {\"customdata\": [[\"\\u0399\\u03c4\\u03b1\\u03bb\\u03af\\u03b1\"], [\"\\u0399\\u03c4\\u03b1\\u03bb\\u03af\\u03b1\"], [\"\\u0399\\u03c4\\u03b1\\u03bb\\u03af\\u03b1\"], [\"\\u0399\\u03c4\\u03b1\\u03bb\\u03af\\u03b1\"], [\"\\u0399\\u03c4\\u03b1\\u03bb\\u03af\\u03b1\"], [\"\\u0399\\u03c4\\u03b1\\u03bb\\u03af\\u03b1\"], [\"\\u0399\\u03c4\\u03b1\\u03bb\\u03af\\u03b1\"], [\"\\u0399\\u03c4\\u03b1\\u03bb\\u03af\\u03b1\"], [\"\\u0399\\u03c4\\u03b1\\u03bb\\u03af\\u03b1\"], [\"\\u0399\\u03c4\\u03b1\\u03bb\\u03af\\u03b1\"], [\"\\u0399\\u03c4\\u03b1\\u03bb\\u03af\\u03b1\"], [\"\\u0399\\u03c4\\u03b1\\u03bb\\u03af\\u03b1\"], [\"\\u0399\\u03c4\\u03b1\\u03bb\\u03af\\u03b1\"], [\"\\u0399\\u03c4\\u03b1\\u03bb\\u03af\\u03b1\"], [\"\\u0399\\u03c4\\u03b1\\u03bb\\u03af\\u03b1\"], [\"\\u0399\\u03c4\\u03b1\\u03bb\\u03af\\u03b1\"], [\"\\u0399\\u03c4\\u03b1\\u03bb\\u03af\\u03b1\"], [\"\\u0399\\u03c4\\u03b1\\u03bb\\u03af\\u03b1\"], [\"\\u0399\\u03c4\\u03b1\\u03bb\\u03af\\u03b1\"], [\"\\u0399\\u03c4\\u03b1\\u03bb\\u03af\\u03b1\"], [\"\\u0399\\u03c4\\u03b1\\u03bb\\u03af\\u03b1\"], [\"\\u0399\\u03c4\\u03b1\\u03bb\\u03af\\u03b1\"], [\"\\u0399\\u03c4\\u03b1\\u03bb\\u03af\\u03b1\"], [\"\\u0399\\u03c4\\u03b1\\u03bb\\u03af\\u03b1\"], [\"\\u0399\\u03c4\\u03b1\\u03bb\\u03af\\u03b1\"], [\"\\u0399\\u03c4\\u03b1\\u03bb\\u03af\\u03b1\"], [\"\\u0399\\u03c4\\u03b1\\u03bb\\u03af\\u03b1\"], [\"\\u0399\\u03c4\\u03b1\\u03bb\\u03af\\u03b1\"], [\"\\u0399\\u03c4\\u03b1\\u03bb\\u03af\\u03b1\"], [\"\\u0399\\u03c4\\u03b1\\u03bb\\u03af\\u03b1\"], [\"\\u0399\\u03c4\\u03b1\\u03bb\\u03af\\u03b1\"], [\"\\u0399\\u03c4\\u03b1\\u03bb\\u03af\\u03b1\"], [\"\\u0399\\u03c4\\u03b1\\u03bb\\u03af\\u03b1\"], [\"\\u0399\\u03c4\\u03b1\\u03bb\\u03af\\u03b1\"], [\"\\u0399\\u03c4\\u03b1\\u03bb\\u03af\\u03b1\"], [\"\\u0399\\u03c4\\u03b1\\u03bb\\u03af\\u03b1\"], [\"\\u0399\\u03c4\\u03b1\\u03bb\\u03af\\u03b1\"], [\"\\u0399\\u03c4\\u03b1\\u03bb\\u03af\\u03b1\"], [\"\\u0399\\u03c4\\u03b1\\u03bb\\u03af\\u03b1\"], [\"\\u0399\\u03c4\\u03b1\\u03bb\\u03af\\u03b1\"]], \"hoverlabel\": {\"namelength\": 0}, \"hovertemplate\": \"\\u03a7\\u03ce\\u03c1\\u03b1=%{customdata[0]}<br>\\u0391\\u03c1\\u03b9\\u03b8\\u03bc\\u03cc\\u03c2 \\u039a\\u03c1\\u03bf\\u03c5\\u03c3\\u03bc\\u03ac\\u03c4\\u03c9\\u03bd=%{y}\", \"legendgroup\": \"\\u0399\\u03c4\\u03b1\\u03bb\\u03af\\u03b1\", \"line\": {\"color\": \"rgb(44, 42, 87)\", \"dash\": \"solid\", \"shape\": \"spline\"}, \"mode\": \"lines\", \"name\": \"\\u0399\\u03c4\\u03b1\\u03bb\\u03af\\u03b1\", \"showlegend\": true, \"type\": \"scatter\", \"xaxis\": \"x\", \"y\": [155, 229, 322, 453, 655, 888, 1128, 1694, 2036, 2502, 3089, 3858, 4636, 5883, 7375, 9172, 10149, 12462, 12462, 17660, 21157, 24747, 27980, 31506, 35713, 41035, 47021, 53578, 59138, 63927, 69176, 74386, 80589, 86498, 92472, 97689, 101739, 105792, 110574, 115242], \"yaxis\": \"y\"}, {\"customdata\": [[\"\\u0399\\u03b1\\u03c0\\u03c9\\u03bd\\u03af\\u03b1\"], [\"\\u0399\\u03b1\\u03c0\\u03c9\\u03bd\\u03af\\u03b1\"], [\"\\u0399\\u03b1\\u03c0\\u03c9\\u03bd\\u03af\\u03b1\"], [\"\\u0399\\u03b1\\u03c0\\u03c9\\u03bd\\u03af\\u03b1\"], [\"\\u0399\\u03b1\\u03c0\\u03c9\\u03bd\\u03af\\u03b1\"], [\"\\u0399\\u03b1\\u03c0\\u03c9\\u03bd\\u03af\\u03b1\"], [\"\\u0399\\u03b1\\u03c0\\u03c9\\u03bd\\u03af\\u03b1\"], [\"\\u0399\\u03b1\\u03c0\\u03c9\\u03bd\\u03af\\u03b1\"], [\"\\u0399\\u03b1\\u03c0\\u03c9\\u03bd\\u03af\\u03b1\"], [\"\\u0399\\u03b1\\u03c0\\u03c9\\u03bd\\u03af\\u03b1\"], [\"\\u0399\\u03b1\\u03c0\\u03c9\\u03bd\\u03af\\u03b1\"], [\"\\u0399\\u03b1\\u03c0\\u03c9\\u03bd\\u03af\\u03b1\"], [\"\\u0399\\u03b1\\u03c0\\u03c9\\u03bd\\u03af\\u03b1\"], [\"\\u0399\\u03b1\\u03c0\\u03c9\\u03bd\\u03af\\u03b1\"], [\"\\u0399\\u03b1\\u03c0\\u03c9\\u03bd\\u03af\\u03b1\"], [\"\\u0399\\u03b1\\u03c0\\u03c9\\u03bd\\u03af\\u03b1\"], [\"\\u0399\\u03b1\\u03c0\\u03c9\\u03bd\\u03af\\u03b1\"], [\"\\u0399\\u03b1\\u03c0\\u03c9\\u03bd\\u03af\\u03b1\"], [\"\\u0399\\u03b1\\u03c0\\u03c9\\u03bd\\u03af\\u03b1\"], [\"\\u0399\\u03b1\\u03c0\\u03c9\\u03bd\\u03af\\u03b1\"], [\"\\u0399\\u03b1\\u03c0\\u03c9\\u03bd\\u03af\\u03b1\"], [\"\\u0399\\u03b1\\u03c0\\u03c9\\u03bd\\u03af\\u03b1\"], [\"\\u0399\\u03b1\\u03c0\\u03c9\\u03bd\\u03af\\u03b1\"], [\"\\u0399\\u03b1\\u03c0\\u03c9\\u03bd\\u03af\\u03b1\"], [\"\\u0399\\u03b1\\u03c0\\u03c9\\u03bd\\u03af\\u03b1\"], [\"\\u0399\\u03b1\\u03c0\\u03c9\\u03bd\\u03af\\u03b1\"], [\"\\u0399\\u03b1\\u03c0\\u03c9\\u03bd\\u03af\\u03b1\"], [\"\\u0399\\u03b1\\u03c0\\u03c9\\u03bd\\u03af\\u03b1\"], [\"\\u0399\\u03b1\\u03c0\\u03c9\\u03bd\\u03af\\u03b1\"], [\"\\u0399\\u03b1\\u03c0\\u03c9\\u03bd\\u03af\\u03b1\"], [\"\\u0399\\u03b1\\u03c0\\u03c9\\u03bd\\u03af\\u03b1\"], [\"\\u0399\\u03b1\\u03c0\\u03c9\\u03bd\\u03af\\u03b1\"], [\"\\u0399\\u03b1\\u03c0\\u03c9\\u03bd\\u03af\\u03b1\"], [\"\\u0399\\u03b1\\u03c0\\u03c9\\u03bd\\u03af\\u03b1\"], [\"\\u0399\\u03b1\\u03c0\\u03c9\\u03bd\\u03af\\u03b1\"], [\"\\u0399\\u03b1\\u03c0\\u03c9\\u03bd\\u03af\\u03b1\"], [\"\\u0399\\u03b1\\u03c0\\u03c9\\u03bd\\u03af\\u03b1\"], [\"\\u0399\\u03b1\\u03c0\\u03c9\\u03bd\\u03af\\u03b1\"], [\"\\u0399\\u03b1\\u03c0\\u03c9\\u03bd\\u03af\\u03b1\"], [\"\\u0399\\u03b1\\u03c0\\u03c9\\u03bd\\u03af\\u03b1\"], [\"\\u0399\\u03b1\\u03c0\\u03c9\\u03bd\\u03af\\u03b1\"], [\"\\u0399\\u03b1\\u03c0\\u03c9\\u03bd\\u03af\\u03b1\"]], \"hoverlabel\": {\"namelength\": 0}, \"hovertemplate\": \"\\u03a7\\u03ce\\u03c1\\u03b1=%{customdata[0]}<br>\\u0391\\u03c1\\u03b9\\u03b8\\u03bc\\u03cc\\u03c2 \\u039a\\u03c1\\u03bf\\u03c5\\u03c3\\u03bc\\u03ac\\u03c4\\u03c9\\u03bd=%{y}\", \"legendgroup\": \"\\u0399\\u03b1\\u03c0\\u03c9\\u03bd\\u03af\\u03b1\", \"line\": {\"color\": \"rgb(58, 60, 125)\", \"dash\": \"solid\", \"shape\": \"spline\"}, \"mode\": \"lines\", \"name\": \"\\u0399\\u03b1\\u03c0\\u03c9\\u03bd\\u03af\\u03b1\", \"showlegend\": true, \"type\": \"scatter\", \"xaxis\": \"x\", \"y\": [105, 122, 147, 159, 170, 189, 214, 228, 241, 256, 274, 293, 331, 360, 420, 461, 502, 511, 581, 639, 639, 701, 773, 839, 839, 878, 889, 924, 963, 1007, 1101, 1128, 1193, 1307, 1387, 1468, 1693, 1866, 1866, 1953, 2178, 2495], \"yaxis\": \"y\"}, {\"customdata\": [[\"\\u0399\\u03bf\\u03c1\\u03b4\\u03b1\\u03bd\\u03af\\u03b1\"], [\"\\u0399\\u03bf\\u03c1\\u03b4\\u03b1\\u03bd\\u03af\\u03b1\"], [\"\\u0399\\u03bf\\u03c1\\u03b4\\u03b1\\u03bd\\u03af\\u03b1\"], [\"\\u0399\\u03bf\\u03c1\\u03b4\\u03b1\\u03bd\\u03af\\u03b1\"], [\"\\u0399\\u03bf\\u03c1\\u03b4\\u03b1\\u03bd\\u03af\\u03b1\"], [\"\\u0399\\u03bf\\u03c1\\u03b4\\u03b1\\u03bd\\u03af\\u03b1\"], [\"\\u0399\\u03bf\\u03c1\\u03b4\\u03b1\\u03bd\\u03af\\u03b1\"], [\"\\u0399\\u03bf\\u03c1\\u03b4\\u03b1\\u03bd\\u03af\\u03b1\"], [\"\\u0399\\u03bf\\u03c1\\u03b4\\u03b1\\u03bd\\u03af\\u03b1\"], [\"\\u0399\\u03bf\\u03c1\\u03b4\\u03b1\\u03bd\\u03af\\u03b1\"], [\"\\u0399\\u03bf\\u03c1\\u03b4\\u03b1\\u03bd\\u03af\\u03b1\"], [\"\\u0399\\u03bf\\u03c1\\u03b4\\u03b1\\u03bd\\u03af\\u03b1\"]], \"hoverlabel\": {\"namelength\": 0}, \"hovertemplate\": \"\\u03a7\\u03ce\\u03c1\\u03b1=%{customdata[0]}<br>\\u0391\\u03c1\\u03b9\\u03b8\\u03bc\\u03cc\\u03c2 \\u039a\\u03c1\\u03bf\\u03c5\\u03c3\\u03bc\\u03ac\\u03c4\\u03c9\\u03bd=%{y}\", \"legendgroup\": \"\\u0399\\u03bf\\u03c1\\u03b4\\u03b1\\u03bd\\u03af\\u03b1\", \"line\": {\"color\": \"rgb(62, 83, 160)\", \"dash\": \"solid\", \"shape\": \"spline\"}, \"mode\": \"lines\", \"name\": \"\\u0399\\u03bf\\u03c1\\u03b4\\u03b1\\u03bd\\u03af\\u03b1\", \"showlegend\": true, \"type\": \"scatter\", \"xaxis\": \"x\", \"y\": [112, 127, 154, 172, 212, 235, 246, 259, 268, 274, 278, 299], \"yaxis\": \"y\"}, {\"customdata\": [[\"\\u039a\\u03b1\\u03b6\\u03b1\\u03ba\\u03c3\\u03c4\\u03ac\\u03bd\"], [\"\\u039a\\u03b1\\u03b6\\u03b1\\u03ba\\u03c3\\u03c4\\u03ac\\u03bd\"], [\"\\u039a\\u03b1\\u03b6\\u03b1\\u03ba\\u03c3\\u03c4\\u03ac\\u03bd\"], [\"\\u039a\\u03b1\\u03b6\\u03b1\\u03ba\\u03c3\\u03c4\\u03ac\\u03bd\"], [\"\\u039a\\u03b1\\u03b6\\u03b1\\u03ba\\u03c3\\u03c4\\u03ac\\u03bd\"], [\"\\u039a\\u03b1\\u03b6\\u03b1\\u03ba\\u03c3\\u03c4\\u03ac\\u03bd\"], [\"\\u039a\\u03b1\\u03b6\\u03b1\\u03ba\\u03c3\\u03c4\\u03ac\\u03bd\"], [\"\\u039a\\u03b1\\u03b6\\u03b1\\u03ba\\u03c3\\u03c4\\u03ac\\u03bd\"]], \"hoverlabel\": {\"namelength\": 0}, \"hovertemplate\": \"\\u03a7\\u03ce\\u03c1\\u03b1=%{customdata[0]}<br>\\u0391\\u03c1\\u03b9\\u03b8\\u03bc\\u03cc\\u03c2 \\u039a\\u03c1\\u03bf\\u03c5\\u03c3\\u03bc\\u03ac\\u03c4\\u03c9\\u03bd=%{y}\", \"legendgroup\": \"\\u039a\\u03b1\\u03b6\\u03b1\\u03ba\\u03c3\\u03c4\\u03ac\\u03bd\", \"line\": {\"color\": \"rgb(62, 109, 178)\", \"dash\": \"solid\", \"shape\": \"spline\"}, \"mode\": \"lines\", \"name\": \"\\u039a\\u03b1\\u03b6\\u03b1\\u03ba\\u03c3\\u03c4\\u03ac\\u03bd\", \"showlegend\": true, \"type\": \"scatter\", \"xaxis\": \"x\", \"y\": [111, 150, 228, 284, 302, 343, 380, 435], \"yaxis\": \"y\"}, {\"customdata\": [[\"\\u039a\\u03ad\\u03bd\\u03c5\\u03b1\"]], \"hoverlabel\": {\"namelength\": 0}, \"hovertemplate\": \"\\u03a7\\u03ce\\u03c1\\u03b1=%{customdata[0]}<br>\\u0391\\u03c1\\u03b9\\u03b8\\u03bc\\u03cc\\u03c2 \\u039a\\u03c1\\u03bf\\u03c5\\u03c3\\u03bc\\u03ac\\u03c4\\u03c9\\u03bd=%{y}\", \"legendgroup\": \"\\u039a\\u03ad\\u03bd\\u03c5\\u03b1\", \"line\": {\"color\": \"rgb(72, 134, 187)\", \"dash\": \"solid\", \"shape\": \"spline\"}, \"mode\": \"lines\", \"name\": \"\\u039a\\u03ad\\u03bd\\u03c5\\u03b1\", \"showlegend\": true, \"type\": \"scatter\", \"xaxis\": \"x\", \"y\": [110], \"yaxis\": \"y\"}, {\"customdata\": [[\"\\u039d\\u03cc\\u03c4\\u03b9\\u03b1 \\u039a\\u03bf\\u03c1\\u03ad\\u03b1\"], [\"\\u039d\\u03cc\\u03c4\\u03b9\\u03b1 \\u039a\\u03bf\\u03c1\\u03ad\\u03b1\"], [\"\\u039d\\u03cc\\u03c4\\u03b9\\u03b1 \\u039a\\u03bf\\u03c1\\u03ad\\u03b1\"], [\"\\u039d\\u03cc\\u03c4\\u03b9\\u03b1 \\u039a\\u03bf\\u03c1\\u03ad\\u03b1\"], [\"\\u039d\\u03cc\\u03c4\\u03b9\\u03b1 \\u039a\\u03bf\\u03c1\\u03ad\\u03b1\"], [\"\\u039d\\u03cc\\u03c4\\u03b9\\u03b1 \\u039a\\u03bf\\u03c1\\u03ad\\u03b1\"], [\"\\u039d\\u03cc\\u03c4\\u03b9\\u03b1 \\u039a\\u03bf\\u03c1\\u03ad\\u03b1\"], [\"\\u039d\\u03cc\\u03c4\\u03b9\\u03b1 \\u039a\\u03bf\\u03c1\\u03ad\\u03b1\"], [\"\\u039d\\u03cc\\u03c4\\u03b9\\u03b1 \\u039a\\u03bf\\u03c1\\u03ad\\u03b1\"], [\"\\u039d\\u03cc\\u03c4\\u03b9\\u03b1 \\u039a\\u03bf\\u03c1\\u03ad\\u03b1\"], [\"\\u039d\\u03cc\\u03c4\\u03b9\\u03b1 \\u039a\\u03bf\\u03c1\\u03ad\\u03b1\"], [\"\\u039d\\u03cc\\u03c4\\u03b9\\u03b1 \\u039a\\u03bf\\u03c1\\u03ad\\u03b1\"], [\"\\u039d\\u03cc\\u03c4\\u03b9\\u03b1 \\u039a\\u03bf\\u03c1\\u03ad\\u03b1\"], [\"\\u039d\\u03cc\\u03c4\\u03b9\\u03b1 \\u039a\\u03bf\\u03c1\\u03ad\\u03b1\"], [\"\\u039d\\u03cc\\u03c4\\u03b9\\u03b1 \\u039a\\u03bf\\u03c1\\u03ad\\u03b1\"], [\"\\u039d\\u03cc\\u03c4\\u03b9\\u03b1 \\u039a\\u03bf\\u03c1\\u03ad\\u03b1\"], [\"\\u039d\\u03cc\\u03c4\\u03b9\\u03b1 \\u039a\\u03bf\\u03c1\\u03ad\\u03b1\"], [\"\\u039d\\u03cc\\u03c4\\u03b9\\u03b1 \\u039a\\u03bf\\u03c1\\u03ad\\u03b1\"], [\"\\u039d\\u03cc\\u03c4\\u03b9\\u03b1 \\u039a\\u03bf\\u03c1\\u03ad\\u03b1\"], [\"\\u039d\\u03cc\\u03c4\\u03b9\\u03b1 \\u039a\\u03bf\\u03c1\\u03ad\\u03b1\"], [\"\\u039d\\u03cc\\u03c4\\u03b9\\u03b1 \\u039a\\u03bf\\u03c1\\u03ad\\u03b1\"], [\"\\u039d\\u03cc\\u03c4\\u03b9\\u03b1 \\u039a\\u03bf\\u03c1\\u03ad\\u03b1\"], [\"\\u039d\\u03cc\\u03c4\\u03b9\\u03b1 \\u039a\\u03bf\\u03c1\\u03ad\\u03b1\"], [\"\\u039d\\u03cc\\u03c4\\u03b9\\u03b1 \\u039a\\u03bf\\u03c1\\u03ad\\u03b1\"], [\"\\u039d\\u03cc\\u03c4\\u03b9\\u03b1 \\u039a\\u03bf\\u03c1\\u03ad\\u03b1\"], [\"\\u039d\\u03cc\\u03c4\\u03b9\\u03b1 \\u039a\\u03bf\\u03c1\\u03ad\\u03b1\"], [\"\\u039d\\u03cc\\u03c4\\u03b9\\u03b1 \\u039a\\u03bf\\u03c1\\u03ad\\u03b1\"], [\"\\u039d\\u03cc\\u03c4\\u03b9\\u03b1 \\u039a\\u03bf\\u03c1\\u03ad\\u03b1\"], [\"\\u039d\\u03cc\\u03c4\\u03b9\\u03b1 \\u039a\\u03bf\\u03c1\\u03ad\\u03b1\"], [\"\\u039d\\u03cc\\u03c4\\u03b9\\u03b1 \\u039a\\u03bf\\u03c1\\u03ad\\u03b1\"], [\"\\u039d\\u03cc\\u03c4\\u03b9\\u03b1 \\u039a\\u03bf\\u03c1\\u03ad\\u03b1\"], [\"\\u039d\\u03cc\\u03c4\\u03b9\\u03b1 \\u039a\\u03bf\\u03c1\\u03ad\\u03b1\"], [\"\\u039d\\u03cc\\u03c4\\u03b9\\u03b1 \\u039a\\u03bf\\u03c1\\u03ad\\u03b1\"], [\"\\u039d\\u03cc\\u03c4\\u03b9\\u03b1 \\u039a\\u03bf\\u03c1\\u03ad\\u03b1\"], [\"\\u039d\\u03cc\\u03c4\\u03b9\\u03b1 \\u039a\\u03bf\\u03c1\\u03ad\\u03b1\"], [\"\\u039d\\u03cc\\u03c4\\u03b9\\u03b1 \\u039a\\u03bf\\u03c1\\u03ad\\u03b1\"], [\"\\u039d\\u03cc\\u03c4\\u03b9\\u03b1 \\u039a\\u03bf\\u03c1\\u03ad\\u03b1\"], [\"\\u039d\\u03cc\\u03c4\\u03b9\\u03b1 \\u039a\\u03bf\\u03c1\\u03ad\\u03b1\"], [\"\\u039d\\u03cc\\u03c4\\u03b9\\u03b1 \\u039a\\u03bf\\u03c1\\u03ad\\u03b1\"], [\"\\u039d\\u03cc\\u03c4\\u03b9\\u03b1 \\u039a\\u03bf\\u03c1\\u03ad\\u03b1\"], [\"\\u039d\\u03cc\\u03c4\\u03b9\\u03b1 \\u039a\\u03bf\\u03c1\\u03ad\\u03b1\"], [\"\\u039d\\u03cc\\u03c4\\u03b9\\u03b1 \\u039a\\u03bf\\u03c1\\u03ad\\u03b1\"], [\"\\u039d\\u03cc\\u03c4\\u03b9\\u03b1 \\u039a\\u03bf\\u03c1\\u03ad\\u03b1\"]], \"hoverlabel\": {\"namelength\": 0}, \"hovertemplate\": \"\\u03a7\\u03ce\\u03c1\\u03b1=%{customdata[0]}<br>\\u0391\\u03c1\\u03b9\\u03b8\\u03bc\\u03cc\\u03c2 \\u039a\\u03c1\\u03bf\\u03c5\\u03c3\\u03bc\\u03ac\\u03c4\\u03c9\\u03bd=%{y}\", \"legendgroup\": \"\\u039d\\u03cc\\u03c4\\u03b9\\u03b1 \\u039a\\u03bf\\u03c1\\u03ad\\u03b1\", \"line\": {\"color\": \"rgb(89, 159, 196)\", \"dash\": \"solid\", \"shape\": \"spline\"}, \"mode\": \"lines\", \"name\": \"\\u039d\\u03cc\\u03c4\\u03b9\\u03b1 \\u039a\\u03bf\\u03c1\\u03ad\\u03b1\", \"showlegend\": true, \"type\": \"scatter\", \"xaxis\": \"x\", \"y\": [104, 204, 433, 602, 833, 977, 1261, 1766, 2337, 3150, 3736, 4335, 5186, 5621, 6088, 6593, 7041, 7314, 7478, 7513, 7755, 7869, 7979, 8086, 8162, 8236, 8320, 8413, 8565, 8652, 8799, 8961, 8961, 9037, 9137, 9241, 9332, 9478, 9583, 9661, 9786, 9887, 9976], \"yaxis\": \"y\"}, {\"customdata\": [[\"\\u039a\\u03cc\\u03c3\\u03bf\\u03b2\\u03bf\"], [\"\\u039a\\u03cc\\u03c3\\u03bf\\u03b2\\u03bf\"], [\"\\u039a\\u03cc\\u03c3\\u03bf\\u03b2\\u03bf\"]], \"hoverlabel\": {\"namelength\": 0}, \"hovertemplate\": \"\\u03a7\\u03ce\\u03c1\\u03b1=%{customdata[0]}<br>\\u0391\\u03c1\\u03b9\\u03b8\\u03bc\\u03cc\\u03c2 \\u039a\\u03c1\\u03bf\\u03c5\\u03c3\\u03bc\\u03ac\\u03c4\\u03c9\\u03bd=%{y}\", \"legendgroup\": \"\\u039a\\u03cc\\u03c3\\u03bf\\u03b2\\u03bf\", \"line\": {\"color\": \"rgb(114, 184, 205)\", \"dash\": \"solid\", \"shape\": \"spline\"}, \"mode\": \"lines\", \"name\": \"\\u039a\\u03cc\\u03c3\\u03bf\\u03b2\\u03bf\", \"showlegend\": true, \"type\": \"scatter\", \"xaxis\": \"x\", \"y\": [112, 125, 125], \"yaxis\": \"y\"}, {\"customdata\": [[\"\\u039a\\u03bf\\u03c5\\u03b2\\u03ad\\u03b9\\u03c4\"], [\"\\u039a\\u03bf\\u03c5\\u03b2\\u03ad\\u03b9\\u03c4\"], [\"\\u039a\\u03bf\\u03c5\\u03b2\\u03ad\\u03b9\\u03c4\"], [\"\\u039a\\u03bf\\u03c5\\u03b2\\u03ad\\u03b9\\u03c4\"], [\"\\u039a\\u03bf\\u03c5\\u03b2\\u03ad\\u03b9\\u03c4\"], [\"\\u039a\\u03bf\\u03c5\\u03b2\\u03ad\\u03b9\\u03c4\"], [\"\\u039a\\u03bf\\u03c5\\u03b2\\u03ad\\u03b9\\u03c4\"], [\"\\u039a\\u03bf\\u03c5\\u03b2\\u03ad\\u03b9\\u03c4\"], [\"\\u039a\\u03bf\\u03c5\\u03b2\\u03ad\\u03b9\\u03c4\"], [\"\\u039a\\u03bf\\u03c5\\u03b2\\u03ad\\u03b9\\u03c4\"], [\"\\u039a\\u03bf\\u03c5\\u03b2\\u03ad\\u03b9\\u03c4\"], [\"\\u039a\\u03bf\\u03c5\\u03b2\\u03ad\\u03b9\\u03c4\"], [\"\\u039a\\u03bf\\u03c5\\u03b2\\u03ad\\u03b9\\u03c4\"], [\"\\u039a\\u03bf\\u03c5\\u03b2\\u03ad\\u03b9\\u03c4\"], [\"\\u039a\\u03bf\\u03c5\\u03b2\\u03ad\\u03b9\\u03c4\"], [\"\\u039a\\u03bf\\u03c5\\u03b2\\u03ad\\u03b9\\u03c4\"], [\"\\u039a\\u03bf\\u03c5\\u03b2\\u03ad\\u03b9\\u03c4\"], [\"\\u039a\\u03bf\\u03c5\\u03b2\\u03ad\\u03b9\\u03c4\"], [\"\\u039a\\u03bf\\u03c5\\u03b2\\u03ad\\u03b9\\u03c4\"], [\"\\u039a\\u03bf\\u03c5\\u03b2\\u03ad\\u03b9\\u03c4\"]], \"hoverlabel\": {\"namelength\": 0}, \"hovertemplate\": \"\\u03a7\\u03ce\\u03c1\\u03b1=%{customdata[0]}<br>\\u0391\\u03c1\\u03b9\\u03b8\\u03bc\\u03cc\\u03c2 \\u039a\\u03c1\\u03bf\\u03c5\\u03c3\\u03bc\\u03ac\\u03c4\\u03c9\\u03bd=%{y}\", \"legendgroup\": \"\\u039a\\u03bf\\u03c5\\u03b2\\u03ad\\u03b9\\u03c4\", \"line\": {\"color\": \"rgb(149, 207, 216)\", \"dash\": \"solid\", \"shape\": \"spline\"}, \"mode\": \"lines\", \"name\": \"\\u039a\\u03bf\\u03c5\\u03b2\\u03ad\\u03b9\\u03c4\", \"showlegend\": true, \"type\": \"scatter\", \"xaxis\": \"x\", \"y\": [104, 112, 123, 130, 142, 148, 159, 176, 188, 189, 191, 195, 208, 225, 235, 255, 266, 289, 317, 342], \"yaxis\": \"y\"}, {\"customdata\": [[\"\\u039a\\u03b9\\u03c1\\u03b3\\u03b9\\u03b6\\u03af\\u03b1\"], [\"\\u039a\\u03b9\\u03c1\\u03b3\\u03b9\\u03b6\\u03af\\u03b1\"], [\"\\u039a\\u03b9\\u03c1\\u03b3\\u03b9\\u03b6\\u03af\\u03b1\"]], \"hoverlabel\": {\"namelength\": 0}, \"hovertemplate\": \"\\u03a7\\u03ce\\u03c1\\u03b1=%{customdata[0]}<br>\\u0391\\u03c1\\u03b9\\u03b8\\u03bc\\u03cc\\u03c2 \\u039a\\u03c1\\u03bf\\u03c5\\u03c3\\u03bc\\u03ac\\u03c4\\u03c9\\u03bd=%{y}\", \"legendgroup\": \"\\u039a\\u03b9\\u03c1\\u03b3\\u03b9\\u03b6\\u03af\\u03b1\", \"line\": {\"color\": \"rgb(192, 229, 232)\", \"dash\": \"solid\", \"shape\": \"spline\"}, \"mode\": \"lines\", \"name\": \"\\u039a\\u03b9\\u03c1\\u03b3\\u03b9\\u03b6\\u03af\\u03b1\", \"showlegend\": true, \"type\": \"scatter\", \"xaxis\": \"x\", \"y\": [107, 111, 116], \"yaxis\": \"y\"}, {\"customdata\": [[\"\\u039b\\u03b5\\u03c4\\u03c4\\u03bf\\u03bd\\u03af\\u03b1\"], [\"\\u039b\\u03b5\\u03c4\\u03c4\\u03bf\\u03bd\\u03af\\u03b1\"], [\"\\u039b\\u03b5\\u03c4\\u03c4\\u03bf\\u03bd\\u03af\\u03b1\"], [\"\\u039b\\u03b5\\u03c4\\u03c4\\u03bf\\u03bd\\u03af\\u03b1\"], [\"\\u039b\\u03b5\\u03c4\\u03c4\\u03bf\\u03bd\\u03af\\u03b1\"], [\"\\u039b\\u03b5\\u03c4\\u03c4\\u03bf\\u03bd\\u03af\\u03b1\"], [\"\\u039b\\u03b5\\u03c4\\u03c4\\u03bf\\u03bd\\u03af\\u03b1\"], [\"\\u039b\\u03b5\\u03c4\\u03c4\\u03bf\\u03bd\\u03af\\u03b1\"], [\"\\u039b\\u03b5\\u03c4\\u03c4\\u03bf\\u03bd\\u03af\\u03b1\"], [\"\\u039b\\u03b5\\u03c4\\u03c4\\u03bf\\u03bd\\u03af\\u03b1\"], [\"\\u039b\\u03b5\\u03c4\\u03c4\\u03bf\\u03bd\\u03af\\u03b1\"], [\"\\u039b\\u03b5\\u03c4\\u03c4\\u03bf\\u03bd\\u03af\\u03b1\"], [\"\\u039b\\u03b5\\u03c4\\u03c4\\u03bf\\u03bd\\u03af\\u03b1\"], [\"\\u039b\\u03b5\\u03c4\\u03c4\\u03bf\\u03bd\\u03af\\u03b1\"]], \"hoverlabel\": {\"namelength\": 0}, \"hovertemplate\": \"\\u03a7\\u03ce\\u03c1\\u03b1=%{customdata[0]}<br>\\u0391\\u03c1\\u03b9\\u03b8\\u03bc\\u03cc\\u03c2 \\u039a\\u03c1\\u03bf\\u03c5\\u03c3\\u03bc\\u03ac\\u03c4\\u03c9\\u03bd=%{y}\", \"legendgroup\": \"\\u039b\\u03b5\\u03c4\\u03c4\\u03bf\\u03bd\\u03af\\u03b1\", \"line\": {\"color\": \"rgb(234, 252, 253)\", \"dash\": \"solid\", \"shape\": \"spline\"}, \"mode\": \"lines\", \"name\": \"\\u039b\\u03b5\\u03c4\\u03c4\\u03bf\\u03bd\\u03af\\u03b1\", \"showlegend\": true, \"type\": \"scatter\", \"xaxis\": \"x\", \"y\": [111, 124, 139, 180, 197, 221, 244, 280, 305, 347, 376, 398, 446, 458], \"yaxis\": \"y\"}, {\"customdata\": [[\"\\u039b\\u03af\\u03b2\\u03b1\\u03bd\\u03bf\\u03c2\"], [\"\\u039b\\u03af\\u03b2\\u03b1\\u03bd\\u03bf\\u03c2\"], [\"\\u039b\\u03af\\u03b2\\u03b1\\u03bd\\u03bf\\u03c2\"], [\"\\u039b\\u03af\\u03b2\\u03b1\\u03bd\\u03bf\\u03c2\"], [\"\\u039b\\u03af\\u03b2\\u03b1\\u03bd\\u03bf\\u03c2\"], [\"\\u039b\\u03af\\u03b2\\u03b1\\u03bd\\u03bf\\u03c2\"], [\"\\u039b\\u03af\\u03b2\\u03b1\\u03bd\\u03bf\\u03c2\"], [\"\\u039b\\u03af\\u03b2\\u03b1\\u03bd\\u03bf\\u03c2\"], [\"\\u039b\\u03af\\u03b2\\u03b1\\u03bd\\u03bf\\u03c2\"], [\"\\u039b\\u03af\\u03b2\\u03b1\\u03bd\\u03bf\\u03c2\"], [\"\\u039b\\u03af\\u03b2\\u03b1\\u03bd\\u03bf\\u03c2\"], [\"\\u039b\\u03af\\u03b2\\u03b1\\u03bd\\u03bf\\u03c2\"], [\"\\u039b\\u03af\\u03b2\\u03b1\\u03bd\\u03bf\\u03c2\"], [\"\\u039b\\u03af\\u03b2\\u03b1\\u03bd\\u03bf\\u03c2\"], [\"\\u039b\\u03af\\u03b2\\u03b1\\u03bd\\u03bf\\u03c2\"], [\"\\u039b\\u03af\\u03b2\\u03b1\\u03bd\\u03bf\\u03c2\"], [\"\\u039b\\u03af\\u03b2\\u03b1\\u03bd\\u03bf\\u03c2\"], [\"\\u039b\\u03af\\u03b2\\u03b1\\u03bd\\u03bf\\u03c2\"], [\"\\u039b\\u03af\\u03b2\\u03b1\\u03bd\\u03bf\\u03c2\"]], \"hoverlabel\": {\"namelength\": 0}, \"hovertemplate\": \"\\u03a7\\u03ce\\u03c1\\u03b1=%{customdata[0]}<br>\\u0391\\u03c1\\u03b9\\u03b8\\u03bc\\u03cc\\u03c2 \\u039a\\u03c1\\u03bf\\u03c5\\u03c3\\u03bc\\u03ac\\u03c4\\u03c9\\u03bd=%{y}\", \"legendgroup\": \"\\u039b\\u03af\\u03b2\\u03b1\\u03bd\\u03bf\\u03c2\", \"line\": {\"color\": \"rgb(3, 5, 18)\", \"dash\": \"solid\", \"shape\": \"spline\"}, \"mode\": \"lines\", \"name\": \"\\u039b\\u03af\\u03b2\\u03b1\\u03bd\\u03bf\\u03c2\", \"showlegend\": true, \"type\": \"scatter\", \"xaxis\": \"x\", \"y\": [110, 110, 120, 133, 157, 163, 187, 248, 267, 318, 333, 368, 391, 412, 438, 446, 470, 479, 494], \"yaxis\": \"y\"}, {\"customdata\": [[\"\\u039b\\u03b9\\u03b8\\u03bf\\u03c5\\u03b1\\u03bd\\u03af\\u03b1\"], [\"\\u039b\\u03b9\\u03b8\\u03bf\\u03c5\\u03b1\\u03bd\\u03af\\u03b1\"], [\"\\u039b\\u03b9\\u03b8\\u03bf\\u03c5\\u03b1\\u03bd\\u03af\\u03b1\"], [\"\\u039b\\u03b9\\u03b8\\u03bf\\u03c5\\u03b1\\u03bd\\u03af\\u03b1\"], [\"\\u039b\\u03b9\\u03b8\\u03bf\\u03c5\\u03b1\\u03bd\\u03af\\u03b1\"], [\"\\u039b\\u03b9\\u03b8\\u03bf\\u03c5\\u03b1\\u03bd\\u03af\\u03b1\"], [\"\\u039b\\u03b9\\u03b8\\u03bf\\u03c5\\u03b1\\u03bd\\u03af\\u03b1\"], [\"\\u039b\\u03b9\\u03b8\\u03bf\\u03c5\\u03b1\\u03bd\\u03af\\u03b1\"], [\"\\u039b\\u03b9\\u03b8\\u03bf\\u03c5\\u03b1\\u03bd\\u03af\\u03b1\"], [\"\\u039b\\u03b9\\u03b8\\u03bf\\u03c5\\u03b1\\u03bd\\u03af\\u03b1\"], [\"\\u039b\\u03b9\\u03b8\\u03bf\\u03c5\\u03b1\\u03bd\\u03af\\u03b1\"], [\"\\u039b\\u03b9\\u03b8\\u03bf\\u03c5\\u03b1\\u03bd\\u03af\\u03b1\"]], \"hoverlabel\": {\"namelength\": 0}, \"hovertemplate\": \"\\u03a7\\u03ce\\u03c1\\u03b1=%{customdata[0]}<br>\\u0391\\u03c1\\u03b9\\u03b8\\u03bc\\u03cc\\u03c2 \\u039a\\u03c1\\u03bf\\u03c5\\u03c3\\u03bc\\u03ac\\u03c4\\u03c9\\u03bd=%{y}\", \"legendgroup\": \"\\u039b\\u03b9\\u03b8\\u03bf\\u03c5\\u03b1\\u03bd\\u03af\\u03b1\", \"line\": {\"color\": \"rgb(25, 25, 51)\", \"dash\": \"solid\", \"shape\": \"spline\"}, \"mode\": \"lines\", \"name\": \"\\u039b\\u03b9\\u03b8\\u03bf\\u03c5\\u03b1\\u03bd\\u03af\\u03b1\", \"showlegend\": true, \"type\": \"scatter\", \"xaxis\": \"x\", \"y\": [143, 179, 209, 274, 299, 358, 394, 460, 491, 537, 581, 649], \"yaxis\": \"y\"}, {\"customdata\": [[\"\\u039b\\u03bf\\u03c5\\u03be\\u03b5\\u03bc\\u03b2\\u03bf\\u03cd\\u03c1\\u03b3\\u03bf\"], [\"\\u039b\\u03bf\\u03c5\\u03be\\u03b5\\u03bc\\u03b2\\u03bf\\u03cd\\u03c1\\u03b3\\u03bf\"], [\"\\u039b\\u03bf\\u03c5\\u03be\\u03b5\\u03bc\\u03b2\\u03bf\\u03cd\\u03c1\\u03b3\\u03bf\"], [\"\\u039b\\u03bf\\u03c5\\u03be\\u03b5\\u03bc\\u03b2\\u03bf\\u03cd\\u03c1\\u03b3\\u03bf\"], [\"\\u039b\\u03bf\\u03c5\\u03be\\u03b5\\u03bc\\u03b2\\u03bf\\u03cd\\u03c1\\u03b3\\u03bf\"], [\"\\u039b\\u03bf\\u03c5\\u03be\\u03b5\\u03bc\\u03b2\\u03bf\\u03cd\\u03c1\\u03b3\\u03bf\"], [\"\\u039b\\u03bf\\u03c5\\u03be\\u03b5\\u03bc\\u03b2\\u03bf\\u03cd\\u03c1\\u03b3\\u03bf\"], [\"\\u039b\\u03bf\\u03c5\\u03be\\u03b5\\u03bc\\u03b2\\u03bf\\u03cd\\u03c1\\u03b3\\u03bf\"], [\"\\u039b\\u03bf\\u03c5\\u03be\\u03b5\\u03bc\\u03b2\\u03bf\\u03cd\\u03c1\\u03b3\\u03bf\"], [\"\\u039b\\u03bf\\u03c5\\u03be\\u03b5\\u03bc\\u03b2\\u03bf\\u03cd\\u03c1\\u03b3\\u03bf\"], [\"\\u039b\\u03bf\\u03c5\\u03be\\u03b5\\u03bc\\u03b2\\u03bf\\u03cd\\u03c1\\u03b3\\u03bf\"], [\"\\u039b\\u03bf\\u03c5\\u03be\\u03b5\\u03bc\\u03b2\\u03bf\\u03cd\\u03c1\\u03b3\\u03bf\"], [\"\\u039b\\u03bf\\u03c5\\u03be\\u03b5\\u03bc\\u03b2\\u03bf\\u03cd\\u03c1\\u03b3\\u03bf\"], [\"\\u039b\\u03bf\\u03c5\\u03be\\u03b5\\u03bc\\u03b2\\u03bf\\u03cd\\u03c1\\u03b3\\u03bf\"], [\"\\u039b\\u03bf\\u03c5\\u03be\\u03b5\\u03bc\\u03b2\\u03bf\\u03cd\\u03c1\\u03b3\\u03bf\"], [\"\\u039b\\u03bf\\u03c5\\u03be\\u03b5\\u03bc\\u03b2\\u03bf\\u03cd\\u03c1\\u03b3\\u03bf\"], [\"\\u039b\\u03bf\\u03c5\\u03be\\u03b5\\u03bc\\u03b2\\u03bf\\u03cd\\u03c1\\u03b3\\u03bf\"]], \"hoverlabel\": {\"namelength\": 0}, \"hovertemplate\": \"\\u03a7\\u03ce\\u03c1\\u03b1=%{customdata[0]}<br>\\u0391\\u03c1\\u03b9\\u03b8\\u03bc\\u03cc\\u03c2 \\u039a\\u03c1\\u03bf\\u03c5\\u03c3\\u03bc\\u03ac\\u03c4\\u03c9\\u03bd=%{y}\", \"legendgroup\": \"\\u039b\\u03bf\\u03c5\\u03be\\u03b5\\u03bc\\u03b2\\u03bf\\u03cd\\u03c1\\u03b3\\u03bf\", \"line\": {\"color\": \"rgb(44, 42, 87)\", \"dash\": \"solid\", \"shape\": \"spline\"}, \"mode\": \"lines\", \"name\": \"\\u039b\\u03bf\\u03c5\\u03be\\u03b5\\u03bc\\u03b2\\u03bf\\u03cd\\u03c1\\u03b3\\u03bf\", \"showlegend\": true, \"type\": \"scatter\", \"xaxis\": \"x\", \"y\": [140, 203, 335, 484, 670, 798, 875, 1099, 1333, 1453, 1605, 1831, 1950, 1988, 2178, 2319, 2487], \"yaxis\": \"y\"}, {\"customdata\": [[\"\\u039c\\u03b1\\u03bb\\u03b1\\u03b9\\u03c3\\u03af\\u03b1\"], [\"\\u039c\\u03b1\\u03bb\\u03b1\\u03b9\\u03c3\\u03af\\u03b1\"], [\"\\u039c\\u03b1\\u03bb\\u03b1\\u03b9\\u03c3\\u03af\\u03b1\"], [\"\\u039c\\u03b1\\u03bb\\u03b1\\u03b9\\u03c3\\u03af\\u03b1\"], [\"\\u039c\\u03b1\\u03bb\\u03b1\\u03b9\\u03c3\\u03af\\u03b1\"], [\"\\u039c\\u03b1\\u03bb\\u03b1\\u03b9\\u03c3\\u03af\\u03b1\"], [\"\\u039c\\u03b1\\u03bb\\u03b1\\u03b9\\u03c3\\u03af\\u03b1\"], [\"\\u039c\\u03b1\\u03bb\\u03b1\\u03b9\\u03c3\\u03af\\u03b1\"], [\"\\u039c\\u03b1\\u03bb\\u03b1\\u03b9\\u03c3\\u03af\\u03b1\"], [\"\\u039c\\u03b1\\u03bb\\u03b1\\u03b9\\u03c3\\u03af\\u03b1\"], [\"\\u039c\\u03b1\\u03bb\\u03b1\\u03b9\\u03c3\\u03af\\u03b1\"], [\"\\u039c\\u03b1\\u03bb\\u03b1\\u03b9\\u03c3\\u03af\\u03b1\"], [\"\\u039c\\u03b1\\u03bb\\u03b1\\u03b9\\u03c3\\u03af\\u03b1\"], [\"\\u039c\\u03b1\\u03bb\\u03b1\\u03b9\\u03c3\\u03af\\u03b1\"], [\"\\u039c\\u03b1\\u03bb\\u03b1\\u03b9\\u03c3\\u03af\\u03b1\"], [\"\\u039c\\u03b1\\u03bb\\u03b1\\u03b9\\u03c3\\u03af\\u03b1\"], [\"\\u039c\\u03b1\\u03bb\\u03b1\\u03b9\\u03c3\\u03af\\u03b1\"], [\"\\u039c\\u03b1\\u03bb\\u03b1\\u03b9\\u03c3\\u03af\\u03b1\"], [\"\\u039c\\u03b1\\u03bb\\u03b1\\u03b9\\u03c3\\u03af\\u03b1\"], [\"\\u039c\\u03b1\\u03bb\\u03b1\\u03b9\\u03c3\\u03af\\u03b1\"], [\"\\u039c\\u03b1\\u03bb\\u03b1\\u03b9\\u03c3\\u03af\\u03b1\"], [\"\\u039c\\u03b1\\u03bb\\u03b1\\u03b9\\u03c3\\u03af\\u03b1\"], [\"\\u039c\\u03b1\\u03bb\\u03b1\\u03b9\\u03c3\\u03af\\u03b1\"], [\"\\u039c\\u03b1\\u03bb\\u03b1\\u03b9\\u03c3\\u03af\\u03b1\"], [\"\\u039c\\u03b1\\u03bb\\u03b1\\u03b9\\u03c3\\u03af\\u03b1\"]], \"hoverlabel\": {\"namelength\": 0}, \"hovertemplate\": \"\\u03a7\\u03ce\\u03c1\\u03b1=%{customdata[0]}<br>\\u0391\\u03c1\\u03b9\\u03b8\\u03bc\\u03cc\\u03c2 \\u039a\\u03c1\\u03bf\\u03c5\\u03c3\\u03bc\\u03ac\\u03c4\\u03c9\\u03bd=%{y}\", \"legendgroup\": \"\\u039c\\u03b1\\u03bb\\u03b1\\u03b9\\u03c3\\u03af\\u03b1\", \"line\": {\"color\": \"rgb(58, 60, 125)\", \"dash\": \"solid\", \"shape\": \"spline\"}, \"mode\": \"lines\", \"name\": \"\\u039c\\u03b1\\u03bb\\u03b1\\u03b9\\u03c3\\u03af\\u03b1\", \"showlegend\": true, \"type\": \"scatter\", \"xaxis\": \"x\", \"y\": [117, 129, 149, 149, 197, 238, 428, 566, 673, 790, 900, 1030, 1183, 1306, 1518, 1624, 1796, 2031, 2161, 2320, 2470, 2626, 2766, 2908, 3116], \"yaxis\": \"y\"}, {\"customdata\": [[\"\\u039c\\u03ac\\u03bb\\u03c4\\u03b1\"], [\"\\u039c\\u03ac\\u03bb\\u03c4\\u03b1\"], [\"\\u039c\\u03ac\\u03bb\\u03c4\\u03b1\"], [\"\\u039c\\u03ac\\u03bb\\u03c4\\u03b1\"], [\"\\u039c\\u03ac\\u03bb\\u03c4\\u03b1\"], [\"\\u039c\\u03ac\\u03bb\\u03c4\\u03b1\"], [\"\\u039c\\u03ac\\u03bb\\u03c4\\u03b1\"], [\"\\u039c\\u03ac\\u03bb\\u03c4\\u03b1\"], [\"\\u039c\\u03ac\\u03bb\\u03c4\\u03b1\"], [\"\\u039c\\u03ac\\u03bb\\u03c4\\u03b1\"], [\"\\u039c\\u03ac\\u03bb\\u03c4\\u03b1\"]], \"hoverlabel\": {\"namelength\": 0}, \"hovertemplate\": \"\\u03a7\\u03ce\\u03c1\\u03b1=%{customdata[0]}<br>\\u0391\\u03c1\\u03b9\\u03b8\\u03bc\\u03cc\\u03c2 \\u039a\\u03c1\\u03bf\\u03c5\\u03c3\\u03bc\\u03ac\\u03c4\\u03c9\\u03bd=%{y}\", \"legendgroup\": \"\\u039c\\u03ac\\u03bb\\u03c4\\u03b1\", \"line\": {\"color\": \"rgb(62, 83, 160)\", \"dash\": \"solid\", \"shape\": \"spline\"}, \"mode\": \"lines\", \"name\": \"\\u039c\\u03ac\\u03bb\\u03c4\\u03b1\", \"showlegend\": true, \"type\": \"scatter\", \"xaxis\": \"x\", \"y\": [107, 110, 129, 134, 139, 149, 151, 156, 169, 188, 196], \"yaxis\": \"y\"}, {\"customdata\": [[\"\\u039c\\u03b1\\u03c5\\u03c1\\u03af\\u03ba\\u03b9\\u03bf\\u03c2\"], [\"\\u039c\\u03b1\\u03c5\\u03c1\\u03af\\u03ba\\u03b9\\u03bf\\u03c2\"], [\"\\u039c\\u03b1\\u03c5\\u03c1\\u03af\\u03ba\\u03b9\\u03bf\\u03c2\"], [\"\\u039c\\u03b1\\u03c5\\u03c1\\u03af\\u03ba\\u03b9\\u03bf\\u03c2\"], [\"\\u039c\\u03b1\\u03c5\\u03c1\\u03af\\u03ba\\u03b9\\u03bf\\u03c2\"], [\"\\u039c\\u03b1\\u03c5\\u03c1\\u03af\\u03ba\\u03b9\\u03bf\\u03c2\"]], \"hoverlabel\": {\"namelength\": 0}, \"hovertemplate\": \"\\u03a7\\u03ce\\u03c1\\u03b1=%{customdata[0]}<br>\\u0391\\u03c1\\u03b9\\u03b8\\u03bc\\u03cc\\u03c2 \\u039a\\u03c1\\u03bf\\u03c5\\u03c3\\u03bc\\u03ac\\u03c4\\u03c9\\u03bd=%{y}\", \"legendgroup\": \"\\u039c\\u03b1\\u03c5\\u03c1\\u03af\\u03ba\\u03b9\\u03bf\\u03c2\", \"line\": {\"color\": \"rgb(62, 109, 178)\", \"dash\": \"solid\", \"shape\": \"spline\"}, \"mode\": \"lines\", \"name\": \"\\u039c\\u03b1\\u03c5\\u03c1\\u03af\\u03ba\\u03b9\\u03bf\\u03c2\", \"showlegend\": true, \"type\": \"scatter\", \"xaxis\": \"x\", \"y\": [102, 107, 128, 143, 161, 169], \"yaxis\": \"y\"}, {\"customdata\": [[\"\\u039c\\u03b5\\u03be\\u03b9\\u03ba\\u03cc\"], [\"\\u039c\\u03b5\\u03be\\u03b9\\u03ba\\u03cc\"], [\"\\u039c\\u03b5\\u03be\\u03b9\\u03ba\\u03cc\"], [\"\\u039c\\u03b5\\u03be\\u03b9\\u03ba\\u03cc\"], [\"\\u039c\\u03b5\\u03be\\u03b9\\u03ba\\u03cc\"], [\"\\u039c\\u03b5\\u03be\\u03b9\\u03ba\\u03cc\"], [\"\\u039c\\u03b5\\u03be\\u03b9\\u03ba\\u03cc\"], [\"\\u039c\\u03b5\\u03be\\u03b9\\u03ba\\u03cc\"], [\"\\u039c\\u03b5\\u03be\\u03b9\\u03ba\\u03cc\"], [\"\\u039c\\u03b5\\u03be\\u03b9\\u03ba\\u03cc\"], [\"\\u039c\\u03b5\\u03be\\u03b9\\u03ba\\u03cc\"], [\"\\u039c\\u03b5\\u03be\\u03b9\\u03ba\\u03cc\"], [\"\\u039c\\u03b5\\u03be\\u03b9\\u03ba\\u03cc\"], [\"\\u039c\\u03b5\\u03be\\u03b9\\u03ba\\u03cc\"], [\"\\u039c\\u03b5\\u03be\\u03b9\\u03ba\\u03cc\"]], \"hoverlabel\": {\"namelength\": 0}, \"hovertemplate\": \"\\u03a7\\u03ce\\u03c1\\u03b1=%{customdata[0]}<br>\\u0391\\u03c1\\u03b9\\u03b8\\u03bc\\u03cc\\u03c2 \\u039a\\u03c1\\u03bf\\u03c5\\u03c3\\u03bc\\u03ac\\u03c4\\u03c9\\u03bd=%{y}\", \"legendgroup\": \"\\u039c\\u03b5\\u03be\\u03b9\\u03ba\\u03cc\", \"line\": {\"color\": \"rgb(72, 134, 187)\", \"dash\": \"solid\", \"shape\": \"spline\"}, \"mode\": \"lines\", \"name\": \"\\u039c\\u03b5\\u03be\\u03b9\\u03ba\\u03cc\", \"showlegend\": true, \"type\": \"scatter\", \"xaxis\": \"x\", \"y\": [118, 164, 203, 251, 316, 367, 405, 475, 585, 717, 848, 993, 1094, 1215, 1378], \"yaxis\": \"y\"}, {\"customdata\": [[\"\\u039c\\u03bf\\u03bb\\u03b4\\u03bf\\u03b2\\u03af\\u03b1\"], [\"\\u039c\\u03bf\\u03bb\\u03b4\\u03bf\\u03b2\\u03af\\u03b1\"], [\"\\u039c\\u03bf\\u03bb\\u03b4\\u03bf\\u03b2\\u03af\\u03b1\"], [\"\\u039c\\u03bf\\u03bb\\u03b4\\u03bf\\u03b2\\u03af\\u03b1\"], [\"\\u039c\\u03bf\\u03bb\\u03b4\\u03bf\\u03b2\\u03af\\u03b1\"], [\"\\u039c\\u03bf\\u03bb\\u03b4\\u03bf\\u03b2\\u03af\\u03b1\"], [\"\\u039c\\u03bf\\u03bb\\u03b4\\u03bf\\u03b2\\u03af\\u03b1\"], [\"\\u039c\\u03bf\\u03bb\\u03b4\\u03bf\\u03b2\\u03af\\u03b1\"], [\"\\u039c\\u03bf\\u03bb\\u03b4\\u03bf\\u03b2\\u03af\\u03b1\"], [\"\\u039c\\u03bf\\u03bb\\u03b4\\u03bf\\u03b2\\u03af\\u03b1\"], [\"\\u039c\\u03bf\\u03bb\\u03b4\\u03bf\\u03b2\\u03af\\u03b1\"]], \"hoverlabel\": {\"namelength\": 0}, \"hovertemplate\": \"\\u03a7\\u03ce\\u03c1\\u03b1=%{customdata[0]}<br>\\u0391\\u03c1\\u03b9\\u03b8\\u03bc\\u03cc\\u03c2 \\u039a\\u03c1\\u03bf\\u03c5\\u03c3\\u03bc\\u03ac\\u03c4\\u03c9\\u03bd=%{y}\", \"legendgroup\": \"\\u039c\\u03bf\\u03bb\\u03b4\\u03bf\\u03b2\\u03af\\u03b1\", \"line\": {\"color\": \"rgb(89, 159, 196)\", \"dash\": \"solid\", \"shape\": \"spline\"}, \"mode\": \"lines\", \"name\": \"\\u039c\\u03bf\\u03bb\\u03b4\\u03bf\\u03b2\\u03af\\u03b1\", \"showlegend\": true, \"type\": \"scatter\", \"xaxis\": \"x\", \"y\": [109, 125, 149, 177, 199, 231, 263, 298, 353, 423, 505], \"yaxis\": \"y\"}, {\"customdata\": [[\"\\u039c\\u03b1\\u03c5\\u03c1\\u03bf\\u03b2\\u03bf\\u03cd\\u03bd\\u03b9\\u03bf\"], [\"\\u039c\\u03b1\\u03c5\\u03c1\\u03bf\\u03b2\\u03bf\\u03cd\\u03bd\\u03b9\\u03bf\"], [\"\\u039c\\u03b1\\u03c5\\u03c1\\u03bf\\u03b2\\u03bf\\u03cd\\u03bd\\u03b9\\u03bf\"]], \"hoverlabel\": {\"namelength\": 0}, \"hovertemplate\": \"\\u03a7\\u03ce\\u03c1\\u03b1=%{customdata[0]}<br>\\u0391\\u03c1\\u03b9\\u03b8\\u03bc\\u03cc\\u03c2 \\u039a\\u03c1\\u03bf\\u03c5\\u03c3\\u03bc\\u03ac\\u03c4\\u03c9\\u03bd=%{y}\", \"legendgroup\": \"\\u039c\\u03b1\\u03c5\\u03c1\\u03bf\\u03b2\\u03bf\\u03cd\\u03bd\\u03b9\\u03bf\", \"line\": {\"color\": \"rgb(114, 184, 205)\", \"dash\": \"solid\", \"shape\": \"spline\"}, \"mode\": \"lines\", \"name\": \"\\u039c\\u03b1\\u03c5\\u03c1\\u03bf\\u03b2\\u03bf\\u03cd\\u03bd\\u03b9\\u03bf\", \"showlegend\": true, \"type\": \"scatter\", \"xaxis\": \"x\", \"y\": [109, 123, 144], \"yaxis\": \"y\"}, {\"customdata\": [[\"\\u039c\\u03b1\\u03c1\\u03cc\\u03ba\\u03bf\"], [\"\\u039c\\u03b1\\u03c1\\u03cc\\u03ba\\u03bf\"], [\"\\u039c\\u03b1\\u03c1\\u03cc\\u03ba\\u03bf\"], [\"\\u039c\\u03b1\\u03c1\\u03cc\\u03ba\\u03bf\"], [\"\\u039c\\u03b1\\u03c1\\u03cc\\u03ba\\u03bf\"], [\"\\u039c\\u03b1\\u03c1\\u03cc\\u03ba\\u03bf\"], [\"\\u039c\\u03b1\\u03c1\\u03cc\\u03ba\\u03bf\"], [\"\\u039c\\u03b1\\u03c1\\u03cc\\u03ba\\u03bf\"], [\"\\u039c\\u03b1\\u03c1\\u03cc\\u03ba\\u03bf\"], [\"\\u039c\\u03b1\\u03c1\\u03cc\\u03ba\\u03bf\"], [\"\\u039c\\u03b1\\u03c1\\u03cc\\u03ba\\u03bf\"], [\"\\u039c\\u03b1\\u03c1\\u03cc\\u03ba\\u03bf\"]], \"hoverlabel\": {\"namelength\": 0}, \"hovertemplate\": \"\\u03a7\\u03ce\\u03c1\\u03b1=%{customdata[0]}<br>\\u0391\\u03c1\\u03b9\\u03b8\\u03bc\\u03cc\\u03c2 \\u039a\\u03c1\\u03bf\\u03c5\\u03c3\\u03bc\\u03ac\\u03c4\\u03c9\\u03bd=%{y}\", \"legendgroup\": \"\\u039c\\u03b1\\u03c1\\u03cc\\u03ba\\u03bf\", \"line\": {\"color\": \"rgb(149, 207, 216)\", \"dash\": \"solid\", \"shape\": \"spline\"}, \"mode\": \"lines\", \"name\": \"\\u039c\\u03b1\\u03c1\\u03cc\\u03ba\\u03bf\", \"showlegend\": true, \"type\": \"scatter\", \"xaxis\": \"x\", \"y\": [115, 143, 170, 225, 275, 345, 402, 479, 556, 617, 654, 708], \"yaxis\": \"y\"}, {\"customdata\": [[\"\\u039f\\u03bb\\u03bb\\u03b1\\u03bd\\u03b4\\u03af\\u03b1\"], [\"\\u039f\\u03bb\\u03bb\\u03b1\\u03bd\\u03b4\\u03af\\u03b1\"], [\"\\u039f\\u03bb\\u03bb\\u03b1\\u03bd\\u03b4\\u03af\\u03b1\"], [\"\\u039f\\u03bb\\u03bb\\u03b1\\u03bd\\u03b4\\u03af\\u03b1\"], [\"\\u039f\\u03bb\\u03bb\\u03b1\\u03bd\\u03b4\\u03af\\u03b1\"], [\"\\u039f\\u03bb\\u03bb\\u03b1\\u03bd\\u03b4\\u03af\\u03b1\"], [\"\\u039f\\u03bb\\u03bb\\u03b1\\u03bd\\u03b4\\u03af\\u03b1\"], [\"\\u039f\\u03bb\\u03bb\\u03b1\\u03bd\\u03b4\\u03af\\u03b1\"], [\"\\u039f\\u03bb\\u03bb\\u03b1\\u03bd\\u03b4\\u03af\\u03b1\"], [\"\\u039f\\u03bb\\u03bb\\u03b1\\u03bd\\u03b4\\u03af\\u03b1\"], [\"\\u039f\\u03bb\\u03bb\\u03b1\\u03bd\\u03b4\\u03af\\u03b1\"], [\"\\u039f\\u03bb\\u03bb\\u03b1\\u03bd\\u03b4\\u03af\\u03b1\"], [\"\\u039f\\u03bb\\u03bb\\u03b1\\u03bd\\u03b4\\u03af\\u03b1\"], [\"\\u039f\\u03bb\\u03bb\\u03b1\\u03bd\\u03b4\\u03af\\u03b1\"], [\"\\u039f\\u03bb\\u03bb\\u03b1\\u03bd\\u03b4\\u03af\\u03b1\"], [\"\\u039f\\u03bb\\u03bb\\u03b1\\u03bd\\u03b4\\u03af\\u03b1\"], [\"\\u039f\\u03bb\\u03bb\\u03b1\\u03bd\\u03b4\\u03af\\u03b1\"], [\"\\u039f\\u03bb\\u03bb\\u03b1\\u03bd\\u03b4\\u03af\\u03b1\"], [\"\\u039f\\u03bb\\u03bb\\u03b1\\u03bd\\u03b4\\u03af\\u03b1\"], [\"\\u039f\\u03bb\\u03bb\\u03b1\\u03bd\\u03b4\\u03af\\u03b1\"], [\"\\u039f\\u03bb\\u03bb\\u03b1\\u03bd\\u03b4\\u03af\\u03b1\"], [\"\\u039f\\u03bb\\u03bb\\u03b1\\u03bd\\u03b4\\u03af\\u03b1\"], [\"\\u039f\\u03bb\\u03bb\\u03b1\\u03bd\\u03b4\\u03af\\u03b1\"], [\"\\u039f\\u03bb\\u03bb\\u03b1\\u03bd\\u03b4\\u03af\\u03b1\"], [\"\\u039f\\u03bb\\u03bb\\u03b1\\u03bd\\u03b4\\u03af\\u03b1\"], [\"\\u039f\\u03bb\\u03bb\\u03b1\\u03bd\\u03b4\\u03af\\u03b1\"], [\"\\u039f\\u03bb\\u03bb\\u03b1\\u03bd\\u03b4\\u03af\\u03b1\"], [\"\\u039f\\u03bb\\u03bb\\u03b1\\u03bd\\u03b4\\u03af\\u03b1\"]], \"hoverlabel\": {\"namelength\": 0}, \"hovertemplate\": \"\\u03a7\\u03ce\\u03c1\\u03b1=%{customdata[0]}<br>\\u0391\\u03c1\\u03b9\\u03b8\\u03bc\\u03cc\\u03c2 \\u039a\\u03c1\\u03bf\\u03c5\\u03c3\\u03bc\\u03ac\\u03c4\\u03c9\\u03bd=%{y}\", \"legendgroup\": \"\\u039f\\u03bb\\u03bb\\u03b1\\u03bd\\u03b4\\u03af\\u03b1\", \"line\": {\"color\": \"rgb(192, 229, 232)\", \"dash\": \"solid\", \"shape\": \"spline\"}, \"mode\": \"lines\", \"name\": \"\\u039f\\u03bb\\u03bb\\u03b1\\u03bd\\u03b4\\u03af\\u03b1\", \"showlegend\": true, \"type\": \"scatter\", \"xaxis\": \"x\", \"y\": [128, 188, 265, 321, 382, 503, 503, 806, 962, 1138, 1416, 1711, 2058, 2467, 3003, 3640, 4217, 4764, 5580, 6438, 7468, 8647, 9819, 10930, 11817, 12667, 13696, 14788], \"yaxis\": \"y\"}, {\"customdata\": [[\"\\u039d\\u03ad\\u03b1 \\u0396\\u03b7\\u03bb\\u03b1\\u03bd\\u03b4\\u03af\\u03b1\"], [\"\\u039d\\u03ad\\u03b1 \\u0396\\u03b7\\u03bb\\u03b1\\u03bd\\u03b4\\u03af\\u03b1\"], [\"\\u039d\\u03ad\\u03b1 \\u0396\\u03b7\\u03bb\\u03b1\\u03bd\\u03b4\\u03af\\u03b1\"], [\"\\u039d\\u03ad\\u03b1 \\u0396\\u03b7\\u03bb\\u03b1\\u03bd\\u03b4\\u03af\\u03b1\"], [\"\\u039d\\u03ad\\u03b1 \\u0396\\u03b7\\u03bb\\u03b1\\u03bd\\u03b4\\u03af\\u03b1\"], [\"\\u039d\\u03ad\\u03b1 \\u0396\\u03b7\\u03bb\\u03b1\\u03bd\\u03b4\\u03af\\u03b1\"], [\"\\u039d\\u03ad\\u03b1 \\u0396\\u03b7\\u03bb\\u03b1\\u03bd\\u03b4\\u03af\\u03b1\"], [\"\\u039d\\u03ad\\u03b1 \\u0396\\u03b7\\u03bb\\u03b1\\u03bd\\u03b4\\u03af\\u03b1\"], [\"\\u039d\\u03ad\\u03b1 \\u0396\\u03b7\\u03bb\\u03b1\\u03bd\\u03b4\\u03af\\u03b1\"], [\"\\u039d\\u03ad\\u03b1 \\u0396\\u03b7\\u03bb\\u03b1\\u03bd\\u03b4\\u03af\\u03b1\"], [\"\\u039d\\u03ad\\u03b1 \\u0396\\u03b7\\u03bb\\u03b1\\u03bd\\u03b4\\u03af\\u03b1\"], [\"\\u039d\\u03ad\\u03b1 \\u0396\\u03b7\\u03bb\\u03b1\\u03bd\\u03b4\\u03af\\u03b1\"]], \"hoverlabel\": {\"namelength\": 0}, \"hovertemplate\": \"\\u03a7\\u03ce\\u03c1\\u03b1=%{customdata[0]}<br>\\u0391\\u03c1\\u03b9\\u03b8\\u03bc\\u03cc\\u03c2 \\u039a\\u03c1\\u03bf\\u03c5\\u03c3\\u03bc\\u03ac\\u03c4\\u03c9\\u03bd=%{y}\", \"legendgroup\": \"\\u039d\\u03ad\\u03b1 \\u0396\\u03b7\\u03bb\\u03b1\\u03bd\\u03b4\\u03af\\u03b1\", \"line\": {\"color\": \"rgb(234, 252, 253)\", \"dash\": \"solid\", \"shape\": \"spline\"}, \"mode\": \"lines\", \"name\": \"\\u039d\\u03ad\\u03b1 \\u0396\\u03b7\\u03bb\\u03b1\\u03bd\\u03b4\\u03af\\u03b1\", \"showlegend\": true, \"type\": \"scatter\", \"xaxis\": \"x\", \"y\": [102, 102, 155, 205, 283, 368, 451, 514, 589, 647, 708, 797], \"yaxis\": \"y\"}, {\"customdata\": [[\"\\u039d\\u03b9\\u03b3\\u03b7\\u03c1\\u03af\\u03b1\"], [\"\\u039d\\u03b9\\u03b3\\u03b7\\u03c1\\u03af\\u03b1\"], [\"\\u039d\\u03b9\\u03b3\\u03b7\\u03c1\\u03af\\u03b1\"], [\"\\u039d\\u03b9\\u03b3\\u03b7\\u03c1\\u03af\\u03b1\"], [\"\\u039d\\u03b9\\u03b3\\u03b7\\u03c1\\u03af\\u03b1\"]], \"hoverlabel\": {\"namelength\": 0}, \"hovertemplate\": \"\\u03a7\\u03ce\\u03c1\\u03b1=%{customdata[0]}<br>\\u0391\\u03c1\\u03b9\\u03b8\\u03bc\\u03cc\\u03c2 \\u039a\\u03c1\\u03bf\\u03c5\\u03c3\\u03bc\\u03ac\\u03c4\\u03c9\\u03bd=%{y}\", \"legendgroup\": \"\\u039d\\u03b9\\u03b3\\u03b7\\u03c1\\u03af\\u03b1\", \"line\": {\"color\": \"rgb(3, 5, 18)\", \"dash\": \"solid\", \"shape\": \"spline\"}, \"mode\": \"lines\", \"name\": \"\\u039d\\u03b9\\u03b3\\u03b7\\u03c1\\u03af\\u03b1\", \"showlegend\": true, \"type\": \"scatter\", \"xaxis\": \"x\", \"y\": [111, 131, 135, 174, 184], \"yaxis\": \"y\"}, {\"customdata\": [[\"\\u0392\\u03cc\\u03c1\\u03b5\\u03b9\\u03b1 \\u039c\\u03b1\\u03ba\\u03b5\\u03b4\\u03bf\\u03bd\\u03af\\u03b1\"], [\"\\u0392\\u03cc\\u03c1\\u03b5\\u03b9\\u03b1 \\u039c\\u03b1\\u03ba\\u03b5\\u03b4\\u03bf\\u03bd\\u03af\\u03b1\"], [\"\\u0392\\u03cc\\u03c1\\u03b5\\u03b9\\u03b1 \\u039c\\u03b1\\u03ba\\u03b5\\u03b4\\u03bf\\u03bd\\u03af\\u03b1\"], [\"\\u0392\\u03cc\\u03c1\\u03b5\\u03b9\\u03b1 \\u039c\\u03b1\\u03ba\\u03b5\\u03b4\\u03bf\\u03bd\\u03af\\u03b1\"], [\"\\u0392\\u03cc\\u03c1\\u03b5\\u03b9\\u03b1 \\u039c\\u03b1\\u03ba\\u03b5\\u03b4\\u03bf\\u03bd\\u03af\\u03b1\"], [\"\\u0392\\u03cc\\u03c1\\u03b5\\u03b9\\u03b1 \\u039c\\u03b1\\u03ba\\u03b5\\u03b4\\u03bf\\u03bd\\u03af\\u03b1\"], [\"\\u0392\\u03cc\\u03c1\\u03b5\\u03b9\\u03b1 \\u039c\\u03b1\\u03ba\\u03b5\\u03b4\\u03bf\\u03bd\\u03af\\u03b1\"], [\"\\u0392\\u03cc\\u03c1\\u03b5\\u03b9\\u03b1 \\u039c\\u03b1\\u03ba\\u03b5\\u03b4\\u03bf\\u03bd\\u03af\\u03b1\"], [\"\\u0392\\u03cc\\u03c1\\u03b5\\u03b9\\u03b1 \\u039c\\u03b1\\u03ba\\u03b5\\u03b4\\u03bf\\u03bd\\u03af\\u03b1\"], [\"\\u0392\\u03cc\\u03c1\\u03b5\\u03b9\\u03b1 \\u039c\\u03b1\\u03ba\\u03b5\\u03b4\\u03bf\\u03bd\\u03af\\u03b1\"], [\"\\u0392\\u03cc\\u03c1\\u03b5\\u03b9\\u03b1 \\u039c\\u03b1\\u03ba\\u03b5\\u03b4\\u03bf\\u03bd\\u03af\\u03b1\"], [\"\\u0392\\u03cc\\u03c1\\u03b5\\u03b9\\u03b1 \\u039c\\u03b1\\u03ba\\u03b5\\u03b4\\u03bf\\u03bd\\u03af\\u03b1\"]], \"hoverlabel\": {\"namelength\": 0}, \"hovertemplate\": \"\\u03a7\\u03ce\\u03c1\\u03b1=%{customdata[0]}<br>\\u0391\\u03c1\\u03b9\\u03b8\\u03bc\\u03cc\\u03c2 \\u039a\\u03c1\\u03bf\\u03c5\\u03c3\\u03bc\\u03ac\\u03c4\\u03c9\\u03bd=%{y}\", \"legendgroup\": \"\\u0392\\u03cc\\u03c1\\u03b5\\u03b9\\u03b1 \\u039c\\u03b1\\u03ba\\u03b5\\u03b4\\u03bf\\u03bd\\u03af\\u03b1\", \"line\": {\"color\": \"rgb(25, 25, 51)\", \"dash\": \"solid\", \"shape\": \"spline\"}, \"mode\": \"lines\", \"name\": \"\\u0392\\u03cc\\u03c1\\u03b5\\u03b9\\u03b1 \\u039c\\u03b1\\u03ba\\u03b5\\u03b4\\u03bf\\u03bd\\u03af\\u03b1\", \"showlegend\": true, \"type\": \"scatter\", \"xaxis\": \"x\", \"y\": [115, 136, 148, 177, 201, 219, 241, 259, 285, 329, 354, 384], \"yaxis\": \"y\"}, {\"customdata\": [[\"\\u039d\\u03bf\\u03c1\\u03b2\\u03b7\\u03b3\\u03af\\u03b1\"], [\"\\u039d\\u03bf\\u03c1\\u03b2\\u03b7\\u03b3\\u03af\\u03b1\"], [\"\\u039d\\u03bf\\u03c1\\u03b2\\u03b7\\u03b3\\u03af\\u03b1\"], [\"\\u039d\\u03bf\\u03c1\\u03b2\\u03b7\\u03b3\\u03af\\u03b1\"], [\"\\u039d\\u03bf\\u03c1\\u03b2\\u03b7\\u03b3\\u03af\\u03b1\"], [\"\\u039d\\u03bf\\u03c1\\u03b2\\u03b7\\u03b3\\u03af\\u03b1\"], [\"\\u039d\\u03bf\\u03c1\\u03b2\\u03b7\\u03b3\\u03af\\u03b1\"], [\"\\u039d\\u03bf\\u03c1\\u03b2\\u03b7\\u03b3\\u03af\\u03b1\"], [\"\\u039d\\u03bf\\u03c1\\u03b2\\u03b7\\u03b3\\u03af\\u03b1\"], [\"\\u039d\\u03bf\\u03c1\\u03b2\\u03b7\\u03b3\\u03af\\u03b1\"], [\"\\u039d\\u03bf\\u03c1\\u03b2\\u03b7\\u03b3\\u03af\\u03b1\"], [\"\\u039d\\u03bf\\u03c1\\u03b2\\u03b7\\u03b3\\u03af\\u03b1\"], [\"\\u039d\\u03bf\\u03c1\\u03b2\\u03b7\\u03b3\\u03af\\u03b1\"], [\"\\u039d\\u03bf\\u03c1\\u03b2\\u03b7\\u03b3\\u03af\\u03b1\"], [\"\\u039d\\u03bf\\u03c1\\u03b2\\u03b7\\u03b3\\u03af\\u03b1\"], [\"\\u039d\\u03bf\\u03c1\\u03b2\\u03b7\\u03b3\\u03af\\u03b1\"], [\"\\u039d\\u03bf\\u03c1\\u03b2\\u03b7\\u03b3\\u03af\\u03b1\"], [\"\\u039d\\u03bf\\u03c1\\u03b2\\u03b7\\u03b3\\u03af\\u03b1\"], [\"\\u039d\\u03bf\\u03c1\\u03b2\\u03b7\\u03b3\\u03af\\u03b1\"], [\"\\u039d\\u03bf\\u03c1\\u03b2\\u03b7\\u03b3\\u03af\\u03b1\"], [\"\\u039d\\u03bf\\u03c1\\u03b2\\u03b7\\u03b3\\u03af\\u03b1\"], [\"\\u039d\\u03bf\\u03c1\\u03b2\\u03b7\\u03b3\\u03af\\u03b1\"], [\"\\u039d\\u03bf\\u03c1\\u03b2\\u03b7\\u03b3\\u03af\\u03b1\"], [\"\\u039d\\u03bf\\u03c1\\u03b2\\u03b7\\u03b3\\u03af\\u03b1\"], [\"\\u039d\\u03bf\\u03c1\\u03b2\\u03b7\\u03b3\\u03af\\u03b1\"], [\"\\u039d\\u03bf\\u03c1\\u03b2\\u03b7\\u03b3\\u03af\\u03b1\"], [\"\\u039d\\u03bf\\u03c1\\u03b2\\u03b7\\u03b3\\u03af\\u03b1\"], [\"\\u039d\\u03bf\\u03c1\\u03b2\\u03b7\\u03b3\\u03af\\u03b1\"]], \"hoverlabel\": {\"namelength\": 0}, \"hovertemplate\": \"\\u03a7\\u03ce\\u03c1\\u03b1=%{customdata[0]}<br>\\u0391\\u03c1\\u03b9\\u03b8\\u03bc\\u03cc\\u03c2 \\u039a\\u03c1\\u03bf\\u03c5\\u03c3\\u03bc\\u03ac\\u03c4\\u03c9\\u03bd=%{y}\", \"legendgroup\": \"\\u039d\\u03bf\\u03c1\\u03b2\\u03b7\\u03b3\\u03af\\u03b1\", \"line\": {\"color\": \"rgb(44, 42, 87)\", \"dash\": \"solid\", \"shape\": \"spline\"}, \"mode\": \"lines\", \"name\": \"\\u039d\\u03bf\\u03c1\\u03b2\\u03b7\\u03b3\\u03af\\u03b1\", \"showlegend\": true, \"type\": \"scatter\", \"xaxis\": \"x\", \"y\": [108, 147, 176, 205, 400, 598, 702, 996, 1090, 1221, 1333, 1463, 1550, 1746, 1914, 2118, 2385, 2621, 2863, 3084, 3369, 3755, 4015, 4284, 4445, 4641, 4863, 5147], \"yaxis\": \"y\"}, {\"customdata\": [[\"\\u039f\\u03bc\\u03ac\\u03bd\"], [\"\\u039f\\u03bc\\u03ac\\u03bd\"], [\"\\u039f\\u03bc\\u03ac\\u03bd\"], [\"\\u039f\\u03bc\\u03ac\\u03bd\"], [\"\\u039f\\u03bc\\u03ac\\u03bd\"], [\"\\u039f\\u03bc\\u03ac\\u03bd\"], [\"\\u039f\\u03bc\\u03ac\\u03bd\"], [\"\\u039f\\u03bc\\u03ac\\u03bd\"]], \"hoverlabel\": {\"namelength\": 0}, \"hovertemplate\": \"\\u03a7\\u03ce\\u03c1\\u03b1=%{customdata[0]}<br>\\u0391\\u03c1\\u03b9\\u03b8\\u03bc\\u03cc\\u03c2 \\u039a\\u03c1\\u03bf\\u03c5\\u03c3\\u03bc\\u03ac\\u03c4\\u03c9\\u03bd=%{y}\", \"legendgroup\": \"\\u039f\\u03bc\\u03ac\\u03bd\", \"line\": {\"color\": \"rgb(58, 60, 125)\", \"dash\": \"solid\", \"shape\": \"spline\"}, \"mode\": \"lines\", \"name\": \"\\u039f\\u03bc\\u03ac\\u03bd\", \"showlegend\": true, \"type\": \"scatter\", \"xaxis\": \"x\", \"y\": [109, 131, 152, 167, 179, 192, 210, 231], \"yaxis\": \"y\"}, {\"customdata\": [[\"\\u03a0\\u03b1\\u03ba\\u03b9\\u03c3\\u03c4\\u03ac\\u03bd\"], [\"\\u03a0\\u03b1\\u03ba\\u03b9\\u03c3\\u03c4\\u03ac\\u03bd\"], [\"\\u03a0\\u03b1\\u03ba\\u03b9\\u03c3\\u03c4\\u03ac\\u03bd\"], [\"\\u03a0\\u03b1\\u03ba\\u03b9\\u03c3\\u03c4\\u03ac\\u03bd\"], [\"\\u03a0\\u03b1\\u03ba\\u03b9\\u03c3\\u03c4\\u03ac\\u03bd\"], [\"\\u03a0\\u03b1\\u03ba\\u03b9\\u03c3\\u03c4\\u03ac\\u03bd\"], [\"\\u03a0\\u03b1\\u03ba\\u03b9\\u03c3\\u03c4\\u03ac\\u03bd\"], [\"\\u03a0\\u03b1\\u03ba\\u03b9\\u03c3\\u03c4\\u03ac\\u03bd\"], [\"\\u03a0\\u03b1\\u03ba\\u03b9\\u03c3\\u03c4\\u03ac\\u03bd\"], [\"\\u03a0\\u03b1\\u03ba\\u03b9\\u03c3\\u03c4\\u03ac\\u03bd\"], [\"\\u03a0\\u03b1\\u03ba\\u03b9\\u03c3\\u03c4\\u03ac\\u03bd\"], [\"\\u03a0\\u03b1\\u03ba\\u03b9\\u03c3\\u03c4\\u03ac\\u03bd\"], [\"\\u03a0\\u03b1\\u03ba\\u03b9\\u03c3\\u03c4\\u03ac\\u03bd\"], [\"\\u03a0\\u03b1\\u03ba\\u03b9\\u03c3\\u03c4\\u03ac\\u03bd\"], [\"\\u03a0\\u03b1\\u03ba\\u03b9\\u03c3\\u03c4\\u03ac\\u03bd\"], [\"\\u03a0\\u03b1\\u03ba\\u03b9\\u03c3\\u03c4\\u03ac\\u03bd\"], [\"\\u03a0\\u03b1\\u03ba\\u03b9\\u03c3\\u03c4\\u03ac\\u03bd\"], [\"\\u03a0\\u03b1\\u03ba\\u03b9\\u03c3\\u03c4\\u03ac\\u03bd\"]], \"hoverlabel\": {\"namelength\": 0}, \"hovertemplate\": \"\\u03a7\\u03ce\\u03c1\\u03b1=%{customdata[0]}<br>\\u0391\\u03c1\\u03b9\\u03b8\\u03bc\\u03cc\\u03c2 \\u039a\\u03c1\\u03bf\\u03c5\\u03c3\\u03bc\\u03ac\\u03c4\\u03c9\\u03bd=%{y}\", \"legendgroup\": \"\\u03a0\\u03b1\\u03ba\\u03b9\\u03c3\\u03c4\\u03ac\\u03bd\", \"line\": {\"color\": \"rgb(62, 83, 160)\", \"dash\": \"solid\", \"shape\": \"spline\"}, \"mode\": \"lines\", \"name\": \"\\u03a0\\u03b1\\u03ba\\u03b9\\u03c3\\u03c4\\u03ac\\u03bd\", \"showlegend\": true, \"type\": \"scatter\", \"xaxis\": \"x\", \"y\": [136, 236, 299, 454, 501, 730, 776, 875, 972, 1063, 1201, 1373, 1495, 1597, 1717, 1938, 2118, 2421], \"yaxis\": \"y\"}, {\"customdata\": [[\"\\u03a0\\u03b1\\u03bd\\u03b1\\u03bc\\u03ac\\u03c2\"], [\"\\u03a0\\u03b1\\u03bd\\u03b1\\u03bc\\u03ac\\u03c2\"], [\"\\u03a0\\u03b1\\u03bd\\u03b1\\u03bc\\u03ac\\u03c2\"], [\"\\u03a0\\u03b1\\u03bd\\u03b1\\u03bc\\u03ac\\u03c2\"], [\"\\u03a0\\u03b1\\u03bd\\u03b1\\u03bc\\u03ac\\u03c2\"], [\"\\u03a0\\u03b1\\u03bd\\u03b1\\u03bc\\u03ac\\u03c2\"], [\"\\u03a0\\u03b1\\u03bd\\u03b1\\u03bc\\u03ac\\u03c2\"], [\"\\u03a0\\u03b1\\u03bd\\u03b1\\u03bc\\u03ac\\u03c2\"], [\"\\u03a0\\u03b1\\u03bd\\u03b1\\u03bc\\u03ac\\u03c2\"], [\"\\u03a0\\u03b1\\u03bd\\u03b1\\u03bc\\u03ac\\u03c2\"], [\"\\u03a0\\u03b1\\u03bd\\u03b1\\u03bc\\u03ac\\u03c2\"], [\"\\u03a0\\u03b1\\u03bd\\u03b1\\u03bc\\u03ac\\u03c2\"], [\"\\u03a0\\u03b1\\u03bd\\u03b1\\u03bc\\u03ac\\u03c2\"], [\"\\u03a0\\u03b1\\u03bd\\u03b1\\u03bc\\u03ac\\u03c2\"], [\"\\u03a0\\u03b1\\u03bd\\u03b1\\u03bc\\u03ac\\u03c2\"]], \"hoverlabel\": {\"namelength\": 0}, \"hovertemplate\": \"\\u03a7\\u03ce\\u03c1\\u03b1=%{customdata[0]}<br>\\u0391\\u03c1\\u03b9\\u03b8\\u03bc\\u03cc\\u03c2 \\u039a\\u03c1\\u03bf\\u03c5\\u03c3\\u03bc\\u03ac\\u03c4\\u03c9\\u03bd=%{y}\", \"legendgroup\": \"\\u03a0\\u03b1\\u03bd\\u03b1\\u03bc\\u03ac\\u03c2\", \"line\": {\"color\": \"rgb(62, 109, 178)\", \"dash\": \"solid\", \"shape\": \"spline\"}, \"mode\": \"lines\", \"name\": \"\\u03a0\\u03b1\\u03bd\\u03b1\\u03bc\\u03ac\\u03c2\", \"showlegend\": true, \"type\": \"scatter\", \"xaxis\": \"x\", \"y\": [109, 137, 200, 313, 345, 345, 443, 558, 674, 786, 901, 989, 1181, 1181, 1317], \"yaxis\": \"y\"}, {\"customdata\": [[\"\\u03a0\\u03b5\\u03c1\\u03bf\\u03cd\"], [\"\\u03a0\\u03b5\\u03c1\\u03bf\\u03cd\"], [\"\\u03a0\\u03b5\\u03c1\\u03bf\\u03cd\"], [\"\\u03a0\\u03b5\\u03c1\\u03bf\\u03cd\"], [\"\\u03a0\\u03b5\\u03c1\\u03bf\\u03cd\"], [\"\\u03a0\\u03b5\\u03c1\\u03bf\\u03cd\"], [\"\\u03a0\\u03b5\\u03c1\\u03bf\\u03cd\"], [\"\\u03a0\\u03b5\\u03c1\\u03bf\\u03cd\"], [\"\\u03a0\\u03b5\\u03c1\\u03bf\\u03cd\"], [\"\\u03a0\\u03b5\\u03c1\\u03bf\\u03cd\"], [\"\\u03a0\\u03b5\\u03c1\\u03bf\\u03cd\"], [\"\\u03a0\\u03b5\\u03c1\\u03bf\\u03cd\"], [\"\\u03a0\\u03b5\\u03c1\\u03bf\\u03cd\"], [\"\\u03a0\\u03b5\\u03c1\\u03bf\\u03cd\"], [\"\\u03a0\\u03b5\\u03c1\\u03bf\\u03cd\"], [\"\\u03a0\\u03b5\\u03c1\\u03bf\\u03cd\"], [\"\\u03a0\\u03b5\\u03c1\\u03bf\\u03cd\"]], \"hoverlabel\": {\"namelength\": 0}, \"hovertemplate\": \"\\u03a7\\u03ce\\u03c1\\u03b1=%{customdata[0]}<br>\\u0391\\u03c1\\u03b9\\u03b8\\u03bc\\u03cc\\u03c2 \\u039a\\u03c1\\u03bf\\u03c5\\u03c3\\u03bc\\u03ac\\u03c4\\u03c9\\u03bd=%{y}\", \"legendgroup\": \"\\u03a0\\u03b5\\u03c1\\u03bf\\u03cd\", \"line\": {\"color\": \"rgb(72, 134, 187)\", \"dash\": \"solid\", \"shape\": \"spline\"}, \"mode\": \"lines\", \"name\": \"\\u03a0\\u03b5\\u03c1\\u03bf\\u03cd\", \"showlegend\": true, \"type\": \"scatter\", \"xaxis\": \"x\", \"y\": [117, 145, 234, 234, 318, 363, 395, 416, 480, 580, 635, 671, 852, 950, 1065, 1323, 1414], \"yaxis\": \"y\"}, {\"customdata\": [[\"\\u03a6\\u03b9\\u03bb\\u03b9\\u03c0\\u03c0\\u03af\\u03bd\\u03b5\\u03c2\"], [\"\\u03a6\\u03b9\\u03bb\\u03b9\\u03c0\\u03c0\\u03af\\u03bd\\u03b5\\u03c2\"], [\"\\u03a6\\u03b9\\u03bb\\u03b9\\u03c0\\u03c0\\u03af\\u03bd\\u03b5\\u03c2\"], [\"\\u03a6\\u03b9\\u03bb\\u03b9\\u03c0\\u03c0\\u03af\\u03bd\\u03b5\\u03c2\"], [\"\\u03a6\\u03b9\\u03bb\\u03b9\\u03c0\\u03c0\\u03af\\u03bd\\u03b5\\u03c2\"], [\"\\u03a6\\u03b9\\u03bb\\u03b9\\u03c0\\u03c0\\u03af\\u03bd\\u03b5\\u03c2\"], [\"\\u03a6\\u03b9\\u03bb\\u03b9\\u03c0\\u03c0\\u03af\\u03bd\\u03b5\\u03c2\"], [\"\\u03a6\\u03b9\\u03bb\\u03b9\\u03c0\\u03c0\\u03af\\u03bd\\u03b5\\u03c2\"], [\"\\u03a6\\u03b9\\u03bb\\u03b9\\u03c0\\u03c0\\u03af\\u03bd\\u03b5\\u03c2\"], [\"\\u03a6\\u03b9\\u03bb\\u03b9\\u03c0\\u03c0\\u03af\\u03bd\\u03b5\\u03c2\"], [\"\\u03a6\\u03b9\\u03bb\\u03b9\\u03c0\\u03c0\\u03af\\u03bd\\u03b5\\u03c2\"], [\"\\u03a6\\u03b9\\u03bb\\u03b9\\u03c0\\u03c0\\u03af\\u03bd\\u03b5\\u03c2\"], [\"\\u03a6\\u03b9\\u03bb\\u03b9\\u03c0\\u03c0\\u03af\\u03bd\\u03b5\\u03c2\"], [\"\\u03a6\\u03b9\\u03bb\\u03b9\\u03c0\\u03c0\\u03af\\u03bd\\u03b5\\u03c2\"], [\"\\u03a6\\u03b9\\u03bb\\u03b9\\u03c0\\u03c0\\u03af\\u03bd\\u03b5\\u03c2\"], [\"\\u03a6\\u03b9\\u03bb\\u03b9\\u03c0\\u03c0\\u03af\\u03bd\\u03b5\\u03c2\"], [\"\\u03a6\\u03b9\\u03bb\\u03b9\\u03c0\\u03c0\\u03af\\u03bd\\u03b5\\u03c2\"], [\"\\u03a6\\u03b9\\u03bb\\u03b9\\u03c0\\u03c0\\u03af\\u03bd\\u03b5\\u03c2\"], [\"\\u03a6\\u03b9\\u03bb\\u03b9\\u03c0\\u03c0\\u03af\\u03bd\\u03b5\\u03c2\"], [\"\\u03a6\\u03b9\\u03bb\\u03b9\\u03c0\\u03c0\\u03af\\u03bd\\u03b5\\u03c2\"]], \"hoverlabel\": {\"namelength\": 0}, \"hovertemplate\": \"\\u03a7\\u03ce\\u03c1\\u03b1=%{customdata[0]}<br>\\u0391\\u03c1\\u03b9\\u03b8\\u03bc\\u03cc\\u03c2 \\u039a\\u03c1\\u03bf\\u03c5\\u03c3\\u03bc\\u03ac\\u03c4\\u03c9\\u03bd=%{y}\", \"legendgroup\": \"\\u03a6\\u03b9\\u03bb\\u03b9\\u03c0\\u03c0\\u03af\\u03bd\\u03b5\\u03c2\", \"line\": {\"color\": \"rgb(89, 159, 196)\", \"dash\": \"solid\", \"shape\": \"spline\"}, \"mode\": \"lines\", \"name\": \"\\u03a6\\u03b9\\u03bb\\u03b9\\u03c0\\u03c0\\u03af\\u03bd\\u03b5\\u03c2\", \"showlegend\": true, \"type\": \"scatter\", \"xaxis\": \"x\", \"y\": [111, 140, 142, 187, 202, 217, 230, 307, 380, 462, 552, 636, 707, 803, 1075, 1418, 1546, 2084, 2311, 2633], \"yaxis\": \"y\"}, {\"customdata\": [[\"\\u03a0\\u03bf\\u03bb\\u03c9\\u03bd\\u03af\\u03b1\"], [\"\\u03a0\\u03bf\\u03bb\\u03c9\\u03bd\\u03af\\u03b1\"], [\"\\u03a0\\u03bf\\u03bb\\u03c9\\u03bd\\u03af\\u03b1\"], [\"\\u03a0\\u03bf\\u03bb\\u03c9\\u03bd\\u03af\\u03b1\"], [\"\\u03a0\\u03bf\\u03bb\\u03c9\\u03bd\\u03af\\u03b1\"], [\"\\u03a0\\u03bf\\u03bb\\u03c9\\u03bd\\u03af\\u03b1\"], [\"\\u03a0\\u03bf\\u03bb\\u03c9\\u03bd\\u03af\\u03b1\"], [\"\\u03a0\\u03bf\\u03bb\\u03c9\\u03bd\\u03af\\u03b1\"], [\"\\u03a0\\u03bf\\u03bb\\u03c9\\u03bd\\u03af\\u03b1\"], [\"\\u03a0\\u03bf\\u03bb\\u03c9\\u03bd\\u03af\\u03b1\"], [\"\\u03a0\\u03bf\\u03bb\\u03c9\\u03bd\\u03af\\u03b1\"], [\"\\u03a0\\u03bf\\u03bb\\u03c9\\u03bd\\u03af\\u03b1\"], [\"\\u03a0\\u03bf\\u03bb\\u03c9\\u03bd\\u03af\\u03b1\"], [\"\\u03a0\\u03bf\\u03bb\\u03c9\\u03bd\\u03af\\u03b1\"], [\"\\u03a0\\u03bf\\u03bb\\u03c9\\u03bd\\u03af\\u03b1\"], [\"\\u03a0\\u03bf\\u03bb\\u03c9\\u03bd\\u03af\\u03b1\"], [\"\\u03a0\\u03bf\\u03bb\\u03c9\\u03bd\\u03af\\u03b1\"], [\"\\u03a0\\u03bf\\u03bb\\u03c9\\u03bd\\u03af\\u03b1\"], [\"\\u03a0\\u03bf\\u03bb\\u03c9\\u03bd\\u03af\\u03b1\"], [\"\\u03a0\\u03bf\\u03bb\\u03c9\\u03bd\\u03af\\u03b1\"]], \"hoverlabel\": {\"namelength\": 0}, \"hovertemplate\": \"\\u03a7\\u03ce\\u03c1\\u03b1=%{customdata[0]}<br>\\u0391\\u03c1\\u03b9\\u03b8\\u03bc\\u03cc\\u03c2 \\u039a\\u03c1\\u03bf\\u03c5\\u03c3\\u03bc\\u03ac\\u03c4\\u03c9\\u03bd=%{y}\", \"legendgroup\": \"\\u03a0\\u03bf\\u03bb\\u03c9\\u03bd\\u03af\\u03b1\", \"line\": {\"color\": \"rgb(114, 184, 205)\", \"dash\": \"solid\", \"shape\": \"spline\"}, \"mode\": \"lines\", \"name\": \"\\u03a0\\u03bf\\u03bb\\u03c9\\u03bd\\u03af\\u03b1\", \"showlegend\": true, \"type\": \"scatter\", \"xaxis\": \"x\", \"y\": [103, 119, 177, 238, 251, 355, 425, 536, 634, 749, 901, 1051, 1221, 1389, 1638, 1862, 2055, 2311, 2554, 2946], \"yaxis\": \"y\"}, {\"customdata\": [[\"\\u03a0\\u03bf\\u03c1\\u03c4\\u03bf\\u03b3\\u03b1\\u03bb\\u03af\\u03b1\"], [\"\\u03a0\\u03bf\\u03c1\\u03c4\\u03bf\\u03b3\\u03b1\\u03bb\\u03af\\u03b1\"], [\"\\u03a0\\u03bf\\u03c1\\u03c4\\u03bf\\u03b3\\u03b1\\u03bb\\u03af\\u03b1\"], [\"\\u03a0\\u03bf\\u03c1\\u03c4\\u03bf\\u03b3\\u03b1\\u03bb\\u03af\\u03b1\"], [\"\\u03a0\\u03bf\\u03c1\\u03c4\\u03bf\\u03b3\\u03b1\\u03bb\\u03af\\u03b1\"], [\"\\u03a0\\u03bf\\u03c1\\u03c4\\u03bf\\u03b3\\u03b1\\u03bb\\u03af\\u03b1\"], [\"\\u03a0\\u03bf\\u03c1\\u03c4\\u03bf\\u03b3\\u03b1\\u03bb\\u03af\\u03b1\"], [\"\\u03a0\\u03bf\\u03c1\\u03c4\\u03bf\\u03b3\\u03b1\\u03bb\\u03af\\u03b1\"], [\"\\u03a0\\u03bf\\u03c1\\u03c4\\u03bf\\u03b3\\u03b1\\u03bb\\u03af\\u03b1\"], [\"\\u03a0\\u03bf\\u03c1\\u03c4\\u03bf\\u03b3\\u03b1\\u03bb\\u03af\\u03b1\"], [\"\\u03a0\\u03bf\\u03c1\\u03c4\\u03bf\\u03b3\\u03b1\\u03bb\\u03af\\u03b1\"], [\"\\u03a0\\u03bf\\u03c1\\u03c4\\u03bf\\u03b3\\u03b1\\u03bb\\u03af\\u03b1\"], [\"\\u03a0\\u03bf\\u03c1\\u03c4\\u03bf\\u03b3\\u03b1\\u03bb\\u03af\\u03b1\"], [\"\\u03a0\\u03bf\\u03c1\\u03c4\\u03bf\\u03b3\\u03b1\\u03bb\\u03af\\u03b1\"], [\"\\u03a0\\u03bf\\u03c1\\u03c4\\u03bf\\u03b3\\u03b1\\u03bb\\u03af\\u03b1\"], [\"\\u03a0\\u03bf\\u03c1\\u03c4\\u03bf\\u03b3\\u03b1\\u03bb\\u03af\\u03b1\"], [\"\\u03a0\\u03bf\\u03c1\\u03c4\\u03bf\\u03b3\\u03b1\\u03bb\\u03af\\u03b1\"], [\"\\u03a0\\u03bf\\u03c1\\u03c4\\u03bf\\u03b3\\u03b1\\u03bb\\u03af\\u03b1\"], [\"\\u03a0\\u03bf\\u03c1\\u03c4\\u03bf\\u03b3\\u03b1\\u03bb\\u03af\\u03b1\"], [\"\\u03a0\\u03bf\\u03c1\\u03c4\\u03bf\\u03b3\\u03b1\\u03bb\\u03af\\u03b1\"], [\"\\u03a0\\u03bf\\u03c1\\u03c4\\u03bf\\u03b3\\u03b1\\u03bb\\u03af\\u03b1\"]], \"hoverlabel\": {\"namelength\": 0}, \"hovertemplate\": \"\\u03a7\\u03ce\\u03c1\\u03b1=%{customdata[0]}<br>\\u0391\\u03c1\\u03b9\\u03b8\\u03bc\\u03cc\\u03c2 \\u039a\\u03c1\\u03bf\\u03c5\\u03c3\\u03bc\\u03ac\\u03c4\\u03c9\\u03bd=%{y}\", \"legendgroup\": \"\\u03a0\\u03bf\\u03c1\\u03c4\\u03bf\\u03b3\\u03b1\\u03bb\\u03af\\u03b1\", \"line\": {\"color\": \"rgb(149, 207, 216)\", \"dash\": \"solid\", \"shape\": \"spline\"}, \"mode\": \"lines\", \"name\": \"\\u03a0\\u03bf\\u03c1\\u03c4\\u03bf\\u03b3\\u03b1\\u03bb\\u03af\\u03b1\", \"showlegend\": true, \"type\": \"scatter\", \"xaxis\": \"x\", \"y\": [112, 169, 245, 331, 448, 448, 785, 1020, 1280, 1600, 2060, 2362, 2995, 3544, 4268, 5170, 5962, 6408, 7443, 8251, 9034], \"yaxis\": \"y\"}, {\"customdata\": [[\"\\u039a\\u03b1\\u03c4\\u03ac\\u03c1\"], [\"\\u039a\\u03b1\\u03c4\\u03ac\\u03c1\"], [\"\\u039a\\u03b1\\u03c4\\u03ac\\u03c1\"], [\"\\u039a\\u03b1\\u03c4\\u03ac\\u03c1\"], [\"\\u039a\\u03b1\\u03c4\\u03ac\\u03c1\"], [\"\\u039a\\u03b1\\u03c4\\u03ac\\u03c1\"], [\"\\u039a\\u03b1\\u03c4\\u03ac\\u03c1\"], [\"\\u039a\\u03b1\\u03c4\\u03ac\\u03c1\"], [\"\\u039a\\u03b1\\u03c4\\u03ac\\u03c1\"], [\"\\u039a\\u03b1\\u03c4\\u03ac\\u03c1\"], [\"\\u039a\\u03b1\\u03c4\\u03ac\\u03c1\"], [\"\\u039a\\u03b1\\u03c4\\u03ac\\u03c1\"], [\"\\u039a\\u03b1\\u03c4\\u03ac\\u03c1\"], [\"\\u039a\\u03b1\\u03c4\\u03ac\\u03c1\"], [\"\\u039a\\u03b1\\u03c4\\u03ac\\u03c1\"], [\"\\u039a\\u03b1\\u03c4\\u03ac\\u03c1\"], [\"\\u039a\\u03b1\\u03c4\\u03ac\\u03c1\"], [\"\\u039a\\u03b1\\u03c4\\u03ac\\u03c1\"], [\"\\u039a\\u03b1\\u03c4\\u03ac\\u03c1\"], [\"\\u039a\\u03b1\\u03c4\\u03ac\\u03c1\"], [\"\\u039a\\u03b1\\u03c4\\u03ac\\u03c1\"], [\"\\u039a\\u03b1\\u03c4\\u03ac\\u03c1\"], [\"\\u039a\\u03b1\\u03c4\\u03ac\\u03c1\"]], \"hoverlabel\": {\"namelength\": 0}, \"hovertemplate\": \"\\u03a7\\u03ce\\u03c1\\u03b1=%{customdata[0]}<br>\\u0391\\u03c1\\u03b9\\u03b8\\u03bc\\u03cc\\u03c2 \\u039a\\u03c1\\u03bf\\u03c5\\u03c3\\u03bc\\u03ac\\u03c4\\u03c9\\u03bd=%{y}\", \"legendgroup\": \"\\u039a\\u03b1\\u03c4\\u03ac\\u03c1\", \"line\": {\"color\": \"rgb(192, 229, 232)\", \"dash\": \"solid\", \"shape\": \"spline\"}, \"mode\": \"lines\", \"name\": \"\\u039a\\u03b1\\u03c4\\u03ac\\u03c1\", \"showlegend\": true, \"type\": \"scatter\", \"xaxis\": \"x\", \"y\": [262, 262, 320, 337, 401, 439, 439, 452, 460, 470, 481, 494, 501, 526, 537, 549, 562, 590, 634, 693, 781, 835, 949], \"yaxis\": \"y\"}, {\"customdata\": [[\"\\u03a1\\u03bf\\u03c5\\u03bc\\u03b1\\u03bd\\u03af\\u03b1\"], [\"\\u03a1\\u03bf\\u03c5\\u03bc\\u03b1\\u03bd\\u03af\\u03b1\"], [\"\\u03a1\\u03bf\\u03c5\\u03bc\\u03b1\\u03bd\\u03af\\u03b1\"], [\"\\u03a1\\u03bf\\u03c5\\u03bc\\u03b1\\u03bd\\u03af\\u03b1\"], [\"\\u03a1\\u03bf\\u03c5\\u03bc\\u03b1\\u03bd\\u03af\\u03b1\"], [\"\\u03a1\\u03bf\\u03c5\\u03bc\\u03b1\\u03bd\\u03af\\u03b1\"], [\"\\u03a1\\u03bf\\u03c5\\u03bc\\u03b1\\u03bd\\u03af\\u03b1\"], [\"\\u03a1\\u03bf\\u03c5\\u03bc\\u03b1\\u03bd\\u03af\\u03b1\"], [\"\\u03a1\\u03bf\\u03c5\\u03bc\\u03b1\\u03bd\\u03af\\u03b1\"], [\"\\u03a1\\u03bf\\u03c5\\u03bc\\u03b1\\u03bd\\u03af\\u03b1\"], [\"\\u03a1\\u03bf\\u03c5\\u03bc\\u03b1\\u03bd\\u03af\\u03b1\"], [\"\\u03a1\\u03bf\\u03c5\\u03bc\\u03b1\\u03bd\\u03af\\u03b1\"], [\"\\u03a1\\u03bf\\u03c5\\u03bc\\u03b1\\u03bd\\u03af\\u03b1\"], [\"\\u03a1\\u03bf\\u03c5\\u03bc\\u03b1\\u03bd\\u03af\\u03b1\"], [\"\\u03a1\\u03bf\\u03c5\\u03bc\\u03b1\\u03bd\\u03af\\u03b1\"], [\"\\u03a1\\u03bf\\u03c5\\u03bc\\u03b1\\u03bd\\u03af\\u03b1\"], [\"\\u03a1\\u03bf\\u03c5\\u03bc\\u03b1\\u03bd\\u03af\\u03b1\"], [\"\\u03a1\\u03bf\\u03c5\\u03bc\\u03b1\\u03bd\\u03af\\u03b1\"], [\"\\u03a1\\u03bf\\u03c5\\u03bc\\u03b1\\u03bd\\u03af\\u03b1\"], [\"\\u03a1\\u03bf\\u03c5\\u03bc\\u03b1\\u03bd\\u03af\\u03b1\"]], \"hoverlabel\": {\"namelength\": 0}, \"hovertemplate\": \"\\u03a7\\u03ce\\u03c1\\u03b1=%{customdata[0]}<br>\\u0391\\u03c1\\u03b9\\u03b8\\u03bc\\u03cc\\u03c2 \\u039a\\u03c1\\u03bf\\u03c5\\u03c3\\u03bc\\u03ac\\u03c4\\u03c9\\u03bd=%{y}\", \"legendgroup\": \"\\u03a1\\u03bf\\u03c5\\u03bc\\u03b1\\u03bd\\u03af\\u03b1\", \"line\": {\"color\": \"rgb(234, 252, 253)\", \"dash\": \"solid\", \"shape\": \"spline\"}, \"mode\": \"lines\", \"name\": \"\\u03a1\\u03bf\\u03c5\\u03bc\\u03b1\\u03bd\\u03af\\u03b1\", \"showlegend\": true, \"type\": \"scatter\", \"xaxis\": \"x\", \"y\": [123, 131, 158, 184, 260, 277, 308, 367, 433, 576, 794, 906, 1029, 1292, 1452, 1815, 2109, 2245, 2460, 2738], \"yaxis\": \"y\"}, {\"customdata\": [[\"\\u03a1\\u03c9\\u03c3\\u03af\\u03b1\"], [\"\\u03a1\\u03c9\\u03c3\\u03af\\u03b1\"], [\"\\u03a1\\u03c9\\u03c3\\u03af\\u03b1\"], [\"\\u03a1\\u03c9\\u03c3\\u03af\\u03b1\"], [\"\\u03a1\\u03c9\\u03c3\\u03af\\u03b1\"], [\"\\u03a1\\u03c9\\u03c3\\u03af\\u03b1\"], [\"\\u03a1\\u03c9\\u03c3\\u03af\\u03b1\"], [\"\\u03a1\\u03c9\\u03c3\\u03af\\u03b1\"], [\"\\u03a1\\u03c9\\u03c3\\u03af\\u03b1\"], [\"\\u03a1\\u03c9\\u03c3\\u03af\\u03b1\"], [\"\\u03a1\\u03c9\\u03c3\\u03af\\u03b1\"], [\"\\u03a1\\u03c9\\u03c3\\u03af\\u03b1\"], [\"\\u03a1\\u03c9\\u03c3\\u03af\\u03b1\"], [\"\\u03a1\\u03c9\\u03c3\\u03af\\u03b1\"], [\"\\u03a1\\u03c9\\u03c3\\u03af\\u03b1\"], [\"\\u03a1\\u03c9\\u03c3\\u03af\\u03b1\"], [\"\\u03a1\\u03c9\\u03c3\\u03af\\u03b1\"]], \"hoverlabel\": {\"namelength\": 0}, \"hovertemplate\": \"\\u03a7\\u03ce\\u03c1\\u03b1=%{customdata[0]}<br>\\u0391\\u03c1\\u03b9\\u03b8\\u03bc\\u03cc\\u03c2 \\u039a\\u03c1\\u03bf\\u03c5\\u03c3\\u03bc\\u03ac\\u03c4\\u03c9\\u03bd=%{y}\", \"legendgroup\": \"\\u03a1\\u03c9\\u03c3\\u03af\\u03b1\", \"line\": {\"color\": \"rgb(3, 5, 18)\", \"dash\": \"solid\", \"shape\": \"spline\"}, \"mode\": \"lines\", \"name\": \"\\u03a1\\u03c9\\u03c3\\u03af\\u03b1\", \"showlegend\": true, \"type\": \"scatter\", \"xaxis\": \"x\", \"y\": [114, 147, 199, 253, 306, 367, 438, 495, 658, 840, 1036, 1264, 1534, 1836, 2337, 2777, 3548], \"yaxis\": \"y\"}, {\"customdata\": [[\"\\u0386\\u03b3. \\u039c\\u03b1\\u03c1\\u03af\\u03bd\\u03bf\\u03c2\"], [\"\\u0386\\u03b3. \\u039c\\u03b1\\u03c1\\u03af\\u03bd\\u03bf\\u03c2\"], [\"\\u0386\\u03b3. \\u039c\\u03b1\\u03c1\\u03af\\u03bd\\u03bf\\u03c2\"], [\"\\u0386\\u03b3. \\u039c\\u03b1\\u03c1\\u03af\\u03bd\\u03bf\\u03c2\"], [\"\\u0386\\u03b3. \\u039c\\u03b1\\u03c1\\u03af\\u03bd\\u03bf\\u03c2\"], [\"\\u0386\\u03b3. \\u039c\\u03b1\\u03c1\\u03af\\u03bd\\u03bf\\u03c2\"], [\"\\u0386\\u03b3. \\u039c\\u03b1\\u03c1\\u03af\\u03bd\\u03bf\\u03c2\"], [\"\\u0386\\u03b3. \\u039c\\u03b1\\u03c1\\u03af\\u03bd\\u03bf\\u03c2\"], [\"\\u0386\\u03b3. \\u039c\\u03b1\\u03c1\\u03af\\u03bd\\u03bf\\u03c2\"], [\"\\u0386\\u03b3. \\u039c\\u03b1\\u03c1\\u03af\\u03bd\\u03bf\\u03c2\"], [\"\\u0386\\u03b3. \\u039c\\u03b1\\u03c1\\u03af\\u03bd\\u03bf\\u03c2\"], [\"\\u0386\\u03b3. \\u039c\\u03b1\\u03c1\\u03af\\u03bd\\u03bf\\u03c2\"], [\"\\u0386\\u03b3. \\u039c\\u03b1\\u03c1\\u03af\\u03bd\\u03bf\\u03c2\"], [\"\\u0386\\u03b3. \\u039c\\u03b1\\u03c1\\u03af\\u03bd\\u03bf\\u03c2\"], [\"\\u0386\\u03b3. \\u039c\\u03b1\\u03c1\\u03af\\u03bd\\u03bf\\u03c2\"], [\"\\u0386\\u03b3. \\u039c\\u03b1\\u03c1\\u03af\\u03bd\\u03bf\\u03c2\"], [\"\\u0386\\u03b3. \\u039c\\u03b1\\u03c1\\u03af\\u03bd\\u03bf\\u03c2\"], [\"\\u0386\\u03b3. \\u039c\\u03b1\\u03c1\\u03af\\u03bd\\u03bf\\u03c2\"], [\"\\u0386\\u03b3. \\u039c\\u03b1\\u03c1\\u03af\\u03bd\\u03bf\\u03c2\"]], \"hoverlabel\": {\"namelength\": 0}, \"hovertemplate\": \"\\u03a7\\u03ce\\u03c1\\u03b1=%{customdata[0]}<br>\\u0391\\u03c1\\u03b9\\u03b8\\u03bc\\u03cc\\u03c2 \\u039a\\u03c1\\u03bf\\u03c5\\u03c3\\u03bc\\u03ac\\u03c4\\u03c9\\u03bd=%{y}\", \"legendgroup\": \"\\u0386\\u03b3. \\u039c\\u03b1\\u03c1\\u03af\\u03bd\\u03bf\\u03c2\", \"line\": {\"color\": \"rgb(25, 25, 51)\", \"dash\": \"solid\", \"shape\": \"spline\"}, \"mode\": \"lines\", \"name\": \"\\u0386\\u03b3. \\u039c\\u03b1\\u03c1\\u03af\\u03bd\\u03bf\\u03c2\", \"showlegend\": true, \"type\": \"scatter\", \"xaxis\": \"x\", \"y\": [101, 109, 109, 119, 119, 144, 144, 175, 187, 187, 208, 208, 223, 224, 224, 230, 236, 236, 245], \"yaxis\": \"y\"}, {\"customdata\": [[\"\\u03a3\\u03b1\\u03bf\\u03c5\\u03b4\\u03b9\\u03ba\\u03ae \\u0391\\u03c1\\u03b1\\u03b2\\u03af\\u03b1\"], [\"\\u03a3\\u03b1\\u03bf\\u03c5\\u03b4\\u03b9\\u03ba\\u03ae \\u0391\\u03c1\\u03b1\\u03b2\\u03af\\u03b1\"], [\"\\u03a3\\u03b1\\u03bf\\u03c5\\u03b4\\u03b9\\u03ba\\u03ae \\u0391\\u03c1\\u03b1\\u03b2\\u03af\\u03b1\"], [\"\\u03a3\\u03b1\\u03bf\\u03c5\\u03b4\\u03b9\\u03ba\\u03ae \\u0391\\u03c1\\u03b1\\u03b2\\u03af\\u03b1\"], [\"\\u03a3\\u03b1\\u03bf\\u03c5\\u03b4\\u03b9\\u03ba\\u03ae \\u0391\\u03c1\\u03b1\\u03b2\\u03af\\u03b1\"], [\"\\u03a3\\u03b1\\u03bf\\u03c5\\u03b4\\u03b9\\u03ba\\u03ae \\u0391\\u03c1\\u03b1\\u03b2\\u03af\\u03b1\"], [\"\\u03a3\\u03b1\\u03bf\\u03c5\\u03b4\\u03b9\\u03ba\\u03ae \\u0391\\u03c1\\u03b1\\u03b2\\u03af\\u03b1\"], [\"\\u03a3\\u03b1\\u03bf\\u03c5\\u03b4\\u03b9\\u03ba\\u03ae \\u0391\\u03c1\\u03b1\\u03b2\\u03af\\u03b1\"], [\"\\u03a3\\u03b1\\u03bf\\u03c5\\u03b4\\u03b9\\u03ba\\u03ae \\u0391\\u03c1\\u03b1\\u03b2\\u03af\\u03b1\"], [\"\\u03a3\\u03b1\\u03bf\\u03c5\\u03b4\\u03b9\\u03ba\\u03ae \\u0391\\u03c1\\u03b1\\u03b2\\u03af\\u03b1\"], [\"\\u03a3\\u03b1\\u03bf\\u03c5\\u03b4\\u03b9\\u03ba\\u03ae \\u0391\\u03c1\\u03b1\\u03b2\\u03af\\u03b1\"], [\"\\u03a3\\u03b1\\u03bf\\u03c5\\u03b4\\u03b9\\u03ba\\u03ae \\u0391\\u03c1\\u03b1\\u03b2\\u03af\\u03b1\"], [\"\\u03a3\\u03b1\\u03bf\\u03c5\\u03b4\\u03b9\\u03ba\\u03ae \\u0391\\u03c1\\u03b1\\u03b2\\u03af\\u03b1\"], [\"\\u03a3\\u03b1\\u03bf\\u03c5\\u03b4\\u03b9\\u03ba\\u03ae \\u0391\\u03c1\\u03b1\\u03b2\\u03af\\u03b1\"], [\"\\u03a3\\u03b1\\u03bf\\u03c5\\u03b4\\u03b9\\u03ba\\u03ae \\u0391\\u03c1\\u03b1\\u03b2\\u03af\\u03b1\"], [\"\\u03a3\\u03b1\\u03bf\\u03c5\\u03b4\\u03b9\\u03ba\\u03ae \\u0391\\u03c1\\u03b1\\u03b2\\u03af\\u03b1\"], [\"\\u03a3\\u03b1\\u03bf\\u03c5\\u03b4\\u03b9\\u03ba\\u03ae \\u0391\\u03c1\\u03b1\\u03b2\\u03af\\u03b1\"], [\"\\u03a3\\u03b1\\u03bf\\u03c5\\u03b4\\u03b9\\u03ba\\u03ae \\u0391\\u03c1\\u03b1\\u03b2\\u03af\\u03b1\"], [\"\\u03a3\\u03b1\\u03bf\\u03c5\\u03b4\\u03b9\\u03ba\\u03ae \\u0391\\u03c1\\u03b1\\u03b2\\u03af\\u03b1\"], [\"\\u03a3\\u03b1\\u03bf\\u03c5\\u03b4\\u03b9\\u03ba\\u03ae \\u0391\\u03c1\\u03b1\\u03b2\\u03af\\u03b1\"]], \"hoverlabel\": {\"namelength\": 0}, \"hovertemplate\": \"\\u03a7\\u03ce\\u03c1\\u03b1=%{customdata[0]}<br>\\u0391\\u03c1\\u03b9\\u03b8\\u03bc\\u03cc\\u03c2 \\u039a\\u03c1\\u03bf\\u03c5\\u03c3\\u03bc\\u03ac\\u03c4\\u03c9\\u03bd=%{y}\", \"legendgroup\": \"\\u03a3\\u03b1\\u03bf\\u03c5\\u03b4\\u03b9\\u03ba\\u03ae \\u0391\\u03c1\\u03b1\\u03b2\\u03af\\u03b1\", \"line\": {\"color\": \"rgb(44, 42, 87)\", \"dash\": \"solid\", \"shape\": \"spline\"}, \"mode\": \"lines\", \"name\": \"\\u03a3\\u03b1\\u03bf\\u03c5\\u03b4\\u03b9\\u03ba\\u03ae \\u0391\\u03c1\\u03b1\\u03b2\\u03af\\u03b1\", \"showlegend\": true, \"type\": \"scatter\", \"xaxis\": \"x\", \"y\": [103, 103, 118, 171, 171, 274, 344, 392, 511, 562, 767, 900, 1012, 1104, 1203, 1299, 1453, 1563, 1720, 1885], \"yaxis\": \"y\"}, {\"customdata\": [[\"\\u03a3\\u03b5\\u03bd\\u03b5\\u03b3\\u03ac\\u03bb\\u03b7\"], [\"\\u03a3\\u03b5\\u03bd\\u03b5\\u03b3\\u03ac\\u03bb\\u03b7\"], [\"\\u03a3\\u03b5\\u03bd\\u03b5\\u03b3\\u03ac\\u03bb\\u03b7\"], [\"\\u03a3\\u03b5\\u03bd\\u03b5\\u03b3\\u03ac\\u03bb\\u03b7\"], [\"\\u03a3\\u03b5\\u03bd\\u03b5\\u03b3\\u03ac\\u03bb\\u03b7\"], [\"\\u03a3\\u03b5\\u03bd\\u03b5\\u03b3\\u03ac\\u03bb\\u03b7\"], [\"\\u03a3\\u03b5\\u03bd\\u03b5\\u03b3\\u03ac\\u03bb\\u03b7\"], [\"\\u03a3\\u03b5\\u03bd\\u03b5\\u03b3\\u03ac\\u03bb\\u03b7\"]], \"hoverlabel\": {\"namelength\": 0}, \"hovertemplate\": \"\\u03a7\\u03ce\\u03c1\\u03b1=%{customdata[0]}<br>\\u0391\\u03c1\\u03b9\\u03b8\\u03bc\\u03cc\\u03c2 \\u039a\\u03c1\\u03bf\\u03c5\\u03c3\\u03bc\\u03ac\\u03c4\\u03c9\\u03bd=%{y}\", \"legendgroup\": \"\\u03a3\\u03b5\\u03bd\\u03b5\\u03b3\\u03ac\\u03bb\\u03b7\", \"line\": {\"color\": \"rgb(58, 60, 125)\", \"dash\": \"solid\", \"shape\": \"spline\"}, \"mode\": \"lines\", \"name\": \"\\u03a3\\u03b5\\u03bd\\u03b5\\u03b3\\u03ac\\u03bb\\u03b7\", \"showlegend\": true, \"type\": \"scatter\", \"xaxis\": \"x\", \"y\": [105, 119, 130, 142, 162, 175, 190, 195], \"yaxis\": \"y\"}, {\"customdata\": [[\"\\u03a3\\u03b5\\u03c1\\u03b2\\u03af\\u03b1\"], [\"\\u03a3\\u03b5\\u03c1\\u03b2\\u03af\\u03b1\"], [\"\\u03a3\\u03b5\\u03c1\\u03b2\\u03af\\u03b1\"], [\"\\u03a3\\u03b5\\u03c1\\u03b2\\u03af\\u03b1\"], [\"\\u03a3\\u03b5\\u03c1\\u03b2\\u03af\\u03b1\"], [\"\\u03a3\\u03b5\\u03c1\\u03b2\\u03af\\u03b1\"], [\"\\u03a3\\u03b5\\u03c1\\u03b2\\u03af\\u03b1\"], [\"\\u03a3\\u03b5\\u03c1\\u03b2\\u03af\\u03b1\"], [\"\\u03a3\\u03b5\\u03c1\\u03b2\\u03af\\u03b1\"], [\"\\u03a3\\u03b5\\u03c1\\u03b2\\u03af\\u03b1\"], [\"\\u03a3\\u03b5\\u03c1\\u03b2\\u03af\\u03b1\"], [\"\\u03a3\\u03b5\\u03c1\\u03b2\\u03af\\u03b1\"], [\"\\u03a3\\u03b5\\u03c1\\u03b2\\u03af\\u03b1\"], [\"\\u03a3\\u03b5\\u03c1\\u03b2\\u03af\\u03b1\"], [\"\\u03a3\\u03b5\\u03c1\\u03b2\\u03af\\u03b1\"]], \"hoverlabel\": {\"namelength\": 0}, \"hovertemplate\": \"\\u03a7\\u03ce\\u03c1\\u03b1=%{customdata[0]}<br>\\u0391\\u03c1\\u03b9\\u03b8\\u03bc\\u03cc\\u03c2 \\u039a\\u03c1\\u03bf\\u03c5\\u03c3\\u03bc\\u03ac\\u03c4\\u03c9\\u03bd=%{y}\", \"legendgroup\": \"\\u03a3\\u03b5\\u03c1\\u03b2\\u03af\\u03b1\", \"line\": {\"color\": \"rgb(62, 83, 160)\", \"dash\": \"solid\", \"shape\": \"spline\"}, \"mode\": \"lines\", \"name\": \"\\u03a3\\u03b5\\u03c1\\u03b2\\u03af\\u03b1\", \"showlegend\": true, \"type\": \"scatter\", \"xaxis\": \"x\", \"y\": [103, 135, 171, 222, 249, 303, 384, 384, 457, 659, 741, 785, 900, 1060, 1171], \"yaxis\": \"y\"}, {\"customdata\": [[\"\\u03a3\\u03b9\\u03b3\\u03ba\\u03b1\\u03c0\\u03bf\\u03cd\\u03c1\\u03b7\"], [\"\\u03a3\\u03b9\\u03b3\\u03ba\\u03b1\\u03c0\\u03bf\\u03cd\\u03c1\\u03b7\"], [\"\\u03a3\\u03b9\\u03b3\\u03ba\\u03b1\\u03c0\\u03bf\\u03cd\\u03c1\\u03b7\"], [\"\\u03a3\\u03b9\\u03b3\\u03ba\\u03b1\\u03c0\\u03bf\\u03cd\\u03c1\\u03b7\"], [\"\\u03a3\\u03b9\\u03b3\\u03ba\\u03b1\\u03c0\\u03bf\\u03cd\\u03c1\\u03b7\"], [\"\\u03a3\\u03b9\\u03b3\\u03ba\\u03b1\\u03c0\\u03bf\\u03cd\\u03c1\\u03b7\"], [\"\\u03a3\\u03b9\\u03b3\\u03ba\\u03b1\\u03c0\\u03bf\\u03cd\\u03c1\\u03b7\"], [\"\\u03a3\\u03b9\\u03b3\\u03ba\\u03b1\\u03c0\\u03bf\\u03cd\\u03c1\\u03b7\"], [\"\\u03a3\\u03b9\\u03b3\\u03ba\\u03b1\\u03c0\\u03bf\\u03cd\\u03c1\\u03b7\"], [\"\\u03a3\\u03b9\\u03b3\\u03ba\\u03b1\\u03c0\\u03bf\\u03cd\\u03c1\\u03b7\"], [\"\\u03a3\\u03b9\\u03b3\\u03ba\\u03b1\\u03c0\\u03bf\\u03cd\\u03c1\\u03b7\"], [\"\\u03a3\\u03b9\\u03b3\\u03ba\\u03b1\\u03c0\\u03bf\\u03cd\\u03c1\\u03b7\"], [\"\\u03a3\\u03b9\\u03b3\\u03ba\\u03b1\\u03c0\\u03bf\\u03cd\\u03c1\\u03b7\"], [\"\\u03a3\\u03b9\\u03b3\\u03ba\\u03b1\\u03c0\\u03bf\\u03cd\\u03c1\\u03b7\"], [\"\\u03a3\\u03b9\\u03b3\\u03ba\\u03b1\\u03c0\\u03bf\\u03cd\\u03c1\\u03b7\"], [\"\\u03a3\\u03b9\\u03b3\\u03ba\\u03b1\\u03c0\\u03bf\\u03cd\\u03c1\\u03b7\"], [\"\\u03a3\\u03b9\\u03b3\\u03ba\\u03b1\\u03c0\\u03bf\\u03cd\\u03c1\\u03b7\"], [\"\\u03a3\\u03b9\\u03b3\\u03ba\\u03b1\\u03c0\\u03bf\\u03cd\\u03c1\\u03b7\"], [\"\\u03a3\\u03b9\\u03b3\\u03ba\\u03b1\\u03c0\\u03bf\\u03cd\\u03c1\\u03b7\"], [\"\\u03a3\\u03b9\\u03b3\\u03ba\\u03b1\\u03c0\\u03bf\\u03cd\\u03c1\\u03b7\"], [\"\\u03a3\\u03b9\\u03b3\\u03ba\\u03b1\\u03c0\\u03bf\\u03cd\\u03c1\\u03b7\"], [\"\\u03a3\\u03b9\\u03b3\\u03ba\\u03b1\\u03c0\\u03bf\\u03cd\\u03c1\\u03b7\"], [\"\\u03a3\\u03b9\\u03b3\\u03ba\\u03b1\\u03c0\\u03bf\\u03cd\\u03c1\\u03b7\"], [\"\\u03a3\\u03b9\\u03b3\\u03ba\\u03b1\\u03c0\\u03bf\\u03cd\\u03c1\\u03b7\"], [\"\\u03a3\\u03b9\\u03b3\\u03ba\\u03b1\\u03c0\\u03bf\\u03cd\\u03c1\\u03b7\"], [\"\\u03a3\\u03b9\\u03b3\\u03ba\\u03b1\\u03c0\\u03bf\\u03cd\\u03c1\\u03b7\"], [\"\\u03a3\\u03b9\\u03b3\\u03ba\\u03b1\\u03c0\\u03bf\\u03cd\\u03c1\\u03b7\"], [\"\\u03a3\\u03b9\\u03b3\\u03ba\\u03b1\\u03c0\\u03bf\\u03cd\\u03c1\\u03b7\"], [\"\\u03a3\\u03b9\\u03b3\\u03ba\\u03b1\\u03c0\\u03bf\\u03cd\\u03c1\\u03b7\"], [\"\\u03a3\\u03b9\\u03b3\\u03ba\\u03b1\\u03c0\\u03bf\\u03cd\\u03c1\\u03b7\"], [\"\\u03a3\\u03b9\\u03b3\\u03ba\\u03b1\\u03c0\\u03bf\\u03cd\\u03c1\\u03b7\"], [\"\\u03a3\\u03b9\\u03b3\\u03ba\\u03b1\\u03c0\\u03bf\\u03cd\\u03c1\\u03b7\"], [\"\\u03a3\\u03b9\\u03b3\\u03ba\\u03b1\\u03c0\\u03bf\\u03cd\\u03c1\\u03b7\"], [\"\\u03a3\\u03b9\\u03b3\\u03ba\\u03b1\\u03c0\\u03bf\\u03cd\\u03c1\\u03b7\"]], \"hoverlabel\": {\"namelength\": 0}, \"hovertemplate\": \"\\u03a7\\u03ce\\u03c1\\u03b1=%{customdata[0]}<br>\\u0391\\u03c1\\u03b9\\u03b8\\u03bc\\u03cc\\u03c2 \\u039a\\u03c1\\u03bf\\u03c5\\u03c3\\u03bc\\u03ac\\u03c4\\u03c9\\u03bd=%{y}\", \"legendgroup\": \"\\u03a3\\u03b9\\u03b3\\u03ba\\u03b1\\u03c0\\u03bf\\u03cd\\u03c1\\u03b7\", \"line\": {\"color\": \"rgb(62, 109, 178)\", \"dash\": \"solid\", \"shape\": \"spline\"}, \"mode\": \"lines\", \"name\": \"\\u03a3\\u03b9\\u03b3\\u03ba\\u03b1\\u03c0\\u03bf\\u03cd\\u03c1\\u03b7\", \"showlegend\": true, \"type\": \"scatter\", \"xaxis\": \"x\", \"y\": [102, 106, 108, 110, 110, 117, 130, 138, 150, 150, 160, 178, 178, 200, 212, 226, 243, 266, 313, 345, 385, 432, 455, 509, 558, 631, 683, 732, 802, 844, 879, 926, 1000, 1049], \"yaxis\": \"y\"}, {\"customdata\": [[\"\\u03a3\\u03bb\\u03bf\\u03b2\\u03b1\\u03ba\\u03af\\u03b1\"], [\"\\u03a3\\u03bb\\u03bf\\u03b2\\u03b1\\u03ba\\u03af\\u03b1\"], [\"\\u03a3\\u03bb\\u03bf\\u03b2\\u03b1\\u03ba\\u03af\\u03b1\"], [\"\\u03a3\\u03bb\\u03bf\\u03b2\\u03b1\\u03ba\\u03af\\u03b1\"], [\"\\u03a3\\u03bb\\u03bf\\u03b2\\u03b1\\u03ba\\u03af\\u03b1\"], [\"\\u03a3\\u03bb\\u03bf\\u03b2\\u03b1\\u03ba\\u03af\\u03b1\"], [\"\\u03a3\\u03bb\\u03bf\\u03b2\\u03b1\\u03ba\\u03af\\u03b1\"], [\"\\u03a3\\u03bb\\u03bf\\u03b2\\u03b1\\u03ba\\u03af\\u03b1\"], [\"\\u03a3\\u03bb\\u03bf\\u03b2\\u03b1\\u03ba\\u03af\\u03b1\"], [\"\\u03a3\\u03bb\\u03bf\\u03b2\\u03b1\\u03ba\\u03af\\u03b1\"], [\"\\u03a3\\u03bb\\u03bf\\u03b2\\u03b1\\u03ba\\u03af\\u03b1\"], [\"\\u03a3\\u03bb\\u03bf\\u03b2\\u03b1\\u03ba\\u03af\\u03b1\"], [\"\\u03a3\\u03bb\\u03bf\\u03b2\\u03b1\\u03ba\\u03af\\u03b1\"], [\"\\u03a3\\u03bb\\u03bf\\u03b2\\u03b1\\u03ba\\u03af\\u03b1\"], [\"\\u03a3\\u03bb\\u03bf\\u03b2\\u03b1\\u03ba\\u03af\\u03b1\"], [\"\\u03a3\\u03bb\\u03bf\\u03b2\\u03b1\\u03ba\\u03af\\u03b1\"]], \"hoverlabel\": {\"namelength\": 0}, \"hovertemplate\": \"\\u03a7\\u03ce\\u03c1\\u03b1=%{customdata[0]}<br>\\u0391\\u03c1\\u03b9\\u03b8\\u03bc\\u03cc\\u03c2 \\u039a\\u03c1\\u03bf\\u03c5\\u03c3\\u03bc\\u03ac\\u03c4\\u03c9\\u03bd=%{y}\", \"legendgroup\": \"\\u03a3\\u03bb\\u03bf\\u03b2\\u03b1\\u03ba\\u03af\\u03b1\", \"line\": {\"color\": \"rgb(72, 134, 187)\", \"dash\": \"solid\", \"shape\": \"spline\"}, \"mode\": \"lines\", \"name\": \"\\u03a3\\u03bb\\u03bf\\u03b2\\u03b1\\u03ba\\u03af\\u03b1\", \"showlegend\": true, \"type\": \"scatter\", \"xaxis\": \"x\", \"y\": [105, 123, 137, 178, 185, 186, 204, 216, 226, 269, 292, 314, 336, 363, 400, 426], \"yaxis\": \"y\"}, {\"customdata\": [[\"\\u03a3\\u03bb\\u03bf\\u03b2\\u03b5\\u03bd\\u03af\\u03b1\"], [\"\\u03a3\\u03bb\\u03bf\\u03b2\\u03b5\\u03bd\\u03af\\u03b1\"], [\"\\u03a3\\u03bb\\u03bf\\u03b2\\u03b5\\u03bd\\u03af\\u03b1\"], [\"\\u03a3\\u03bb\\u03bf\\u03b2\\u03b5\\u03bd\\u03af\\u03b1\"], [\"\\u03a3\\u03bb\\u03bf\\u03b2\\u03b5\\u03bd\\u03af\\u03b1\"], [\"\\u03a3\\u03bb\\u03bf\\u03b2\\u03b5\\u03bd\\u03af\\u03b1\"], [\"\\u03a3\\u03bb\\u03bf\\u03b2\\u03b5\\u03bd\\u03af\\u03b1\"], [\"\\u03a3\\u03bb\\u03bf\\u03b2\\u03b5\\u03bd\\u03af\\u03b1\"], [\"\\u03a3\\u03bb\\u03bf\\u03b2\\u03b5\\u03bd\\u03af\\u03b1\"], [\"\\u03a3\\u03bb\\u03bf\\u03b2\\u03b5\\u03bd\\u03af\\u03b1\"], [\"\\u03a3\\u03bb\\u03bf\\u03b2\\u03b5\\u03bd\\u03af\\u03b1\"], [\"\\u03a3\\u03bb\\u03bf\\u03b2\\u03b5\\u03bd\\u03af\\u03b1\"], [\"\\u03a3\\u03bb\\u03bf\\u03b2\\u03b5\\u03bd\\u03af\\u03b1\"], [\"\\u03a3\\u03bb\\u03bf\\u03b2\\u03b5\\u03bd\\u03af\\u03b1\"], [\"\\u03a3\\u03bb\\u03bf\\u03b2\\u03b5\\u03bd\\u03af\\u03b1\"], [\"\\u03a3\\u03bb\\u03bf\\u03b2\\u03b5\\u03bd\\u03af\\u03b1\"], [\"\\u03a3\\u03bb\\u03bf\\u03b2\\u03b5\\u03bd\\u03af\\u03b1\"], [\"\\u03a3\\u03bb\\u03bf\\u03b2\\u03b5\\u03bd\\u03af\\u03b1\"], [\"\\u03a3\\u03bb\\u03bf\\u03b2\\u03b5\\u03bd\\u03af\\u03b1\"], [\"\\u03a3\\u03bb\\u03bf\\u03b2\\u03b5\\u03bd\\u03af\\u03b1\"], [\"\\u03a3\\u03bb\\u03bf\\u03b2\\u03b5\\u03bd\\u03af\\u03b1\"]], \"hoverlabel\": {\"namelength\": 0}, \"hovertemplate\": \"\\u03a7\\u03ce\\u03c1\\u03b1=%{customdata[0]}<br>\\u0391\\u03c1\\u03b9\\u03b8\\u03bc\\u03cc\\u03c2 \\u039a\\u03c1\\u03bf\\u03c5\\u03c3\\u03bc\\u03ac\\u03c4\\u03c9\\u03bd=%{y}\", \"legendgroup\": \"\\u03a3\\u03bb\\u03bf\\u03b2\\u03b5\\u03bd\\u03af\\u03b1\", \"line\": {\"color\": \"rgb(89, 159, 196)\", \"dash\": \"solid\", \"shape\": \"spline\"}, \"mode\": \"lines\", \"name\": \"\\u03a3\\u03bb\\u03bf\\u03b2\\u03b5\\u03bd\\u03af\\u03b1\", \"showlegend\": true, \"type\": \"scatter\", \"xaxis\": \"x\", \"y\": [141, 181, 219, 253, 275, 275, 286, 341, 383, 414, 442, 480, 528, 562, 632, 684, 730, 756, 802, 841, 897], \"yaxis\": \"y\"}, {\"customdata\": [[\"\\u039d\\u03cc\\u03c4\\u03b9\\u03b1 \\u0391\\u03c6\\u03c1\\u03b9\\u03ba\\u03ae\"], [\"\\u039d\\u03cc\\u03c4\\u03b9\\u03b1 \\u0391\\u03c6\\u03c1\\u03b9\\u03ba\\u03ae\"], [\"\\u039d\\u03cc\\u03c4\\u03b9\\u03b1 \\u0391\\u03c6\\u03c1\\u03b9\\u03ba\\u03ae\"], [\"\\u039d\\u03cc\\u03c4\\u03b9\\u03b1 \\u0391\\u03c6\\u03c1\\u03b9\\u03ba\\u03ae\"], [\"\\u039d\\u03cc\\u03c4\\u03b9\\u03b1 \\u0391\\u03c6\\u03c1\\u03b9\\u03ba\\u03ae\"], [\"\\u039d\\u03cc\\u03c4\\u03b9\\u03b1 \\u0391\\u03c6\\u03c1\\u03b9\\u03ba\\u03ae\"], [\"\\u039d\\u03cc\\u03c4\\u03b9\\u03b1 \\u0391\\u03c6\\u03c1\\u03b9\\u03ba\\u03ae\"], [\"\\u039d\\u03cc\\u03c4\\u03b9\\u03b1 \\u0391\\u03c6\\u03c1\\u03b9\\u03ba\\u03ae\"], [\"\\u039d\\u03cc\\u03c4\\u03b9\\u03b1 \\u0391\\u03c6\\u03c1\\u03b9\\u03ba\\u03ae\"], [\"\\u039d\\u03cc\\u03c4\\u03b9\\u03b1 \\u0391\\u03c6\\u03c1\\u03b9\\u03ba\\u03ae\"], [\"\\u039d\\u03cc\\u03c4\\u03b9\\u03b1 \\u0391\\u03c6\\u03c1\\u03b9\\u03ba\\u03ae\"], [\"\\u039d\\u03cc\\u03c4\\u03b9\\u03b1 \\u0391\\u03c6\\u03c1\\u03b9\\u03ba\\u03ae\"], [\"\\u039d\\u03cc\\u03c4\\u03b9\\u03b1 \\u0391\\u03c6\\u03c1\\u03b9\\u03ba\\u03ae\"], [\"\\u039d\\u03cc\\u03c4\\u03b9\\u03b1 \\u0391\\u03c6\\u03c1\\u03b9\\u03ba\\u03ae\"], [\"\\u039d\\u03cc\\u03c4\\u03b9\\u03b1 \\u0391\\u03c6\\u03c1\\u03b9\\u03ba\\u03ae\"], [\"\\u039d\\u03cc\\u03c4\\u03b9\\u03b1 \\u0391\\u03c6\\u03c1\\u03b9\\u03ba\\u03ae\"]], \"hoverlabel\": {\"namelength\": 0}, \"hovertemplate\": \"\\u03a7\\u03ce\\u03c1\\u03b1=%{customdata[0]}<br>\\u0391\\u03c1\\u03b9\\u03b8\\u03bc\\u03cc\\u03c2 \\u039a\\u03c1\\u03bf\\u03c5\\u03c3\\u03bc\\u03ac\\u03c4\\u03c9\\u03bd=%{y}\", \"legendgroup\": \"\\u039d\\u03cc\\u03c4\\u03b9\\u03b1 \\u0391\\u03c6\\u03c1\\u03b9\\u03ba\\u03ae\", \"line\": {\"color\": \"rgb(114, 184, 205)\", \"dash\": \"solid\", \"shape\": \"spline\"}, \"mode\": \"lines\", \"name\": \"\\u039d\\u03cc\\u03c4\\u03b9\\u03b1 \\u0391\\u03c6\\u03c1\\u03b9\\u03ba\\u03ae\", \"showlegend\": true, \"type\": \"scatter\", \"xaxis\": \"x\", \"y\": [116, 150, 202, 240, 274, 402, 554, 709, 927, 1170, 1187, 1280, 1326, 1353, 1380, 1462], \"yaxis\": \"y\"}, {\"customdata\": [[\"\\u0399\\u03c3\\u03c0\\u03b1\\u03bd\\u03af\\u03b1\"], [\"\\u0399\\u03c3\\u03c0\\u03b1\\u03bd\\u03af\\u03b1\"], [\"\\u0399\\u03c3\\u03c0\\u03b1\\u03bd\\u03af\\u03b1\"], [\"\\u0399\\u03c3\\u03c0\\u03b1\\u03bd\\u03af\\u03b1\"], [\"\\u0399\\u03c3\\u03c0\\u03b1\\u03bd\\u03af\\u03b1\"], [\"\\u0399\\u03c3\\u03c0\\u03b1\\u03bd\\u03af\\u03b1\"], [\"\\u0399\\u03c3\\u03c0\\u03b1\\u03bd\\u03af\\u03b1\"], [\"\\u0399\\u03c3\\u03c0\\u03b1\\u03bd\\u03af\\u03b1\"], [\"\\u0399\\u03c3\\u03c0\\u03b1\\u03bd\\u03af\\u03b1\"], [\"\\u0399\\u03c3\\u03c0\\u03b1\\u03bd\\u03af\\u03b1\"], [\"\\u0399\\u03c3\\u03c0\\u03b1\\u03bd\\u03af\\u03b1\"], [\"\\u0399\\u03c3\\u03c0\\u03b1\\u03bd\\u03af\\u03b1\"], [\"\\u0399\\u03c3\\u03c0\\u03b1\\u03bd\\u03af\\u03b1\"], [\"\\u0399\\u03c3\\u03c0\\u03b1\\u03bd\\u03af\\u03b1\"], [\"\\u0399\\u03c3\\u03c0\\u03b1\\u03bd\\u03af\\u03b1\"], [\"\\u0399\\u03c3\\u03c0\\u03b1\\u03bd\\u03af\\u03b1\"], [\"\\u0399\\u03c3\\u03c0\\u03b1\\u03bd\\u03af\\u03b1\"], [\"\\u0399\\u03c3\\u03c0\\u03b1\\u03bd\\u03af\\u03b1\"], [\"\\u0399\\u03c3\\u03c0\\u03b1\\u03bd\\u03af\\u03b1\"], [\"\\u0399\\u03c3\\u03c0\\u03b1\\u03bd\\u03af\\u03b1\"], [\"\\u0399\\u03c3\\u03c0\\u03b1\\u03bd\\u03af\\u03b1\"], [\"\\u0399\\u03c3\\u03c0\\u03b1\\u03bd\\u03af\\u03b1\"], [\"\\u0399\\u03c3\\u03c0\\u03b1\\u03bd\\u03af\\u03b1\"], [\"\\u0399\\u03c3\\u03c0\\u03b1\\u03bd\\u03af\\u03b1\"], [\"\\u0399\\u03c3\\u03c0\\u03b1\\u03bd\\u03af\\u03b1\"], [\"\\u0399\\u03c3\\u03c0\\u03b1\\u03bd\\u03af\\u03b1\"], [\"\\u0399\\u03c3\\u03c0\\u03b1\\u03bd\\u03af\\u03b1\"], [\"\\u0399\\u03c3\\u03c0\\u03b1\\u03bd\\u03af\\u03b1\"], [\"\\u0399\\u03c3\\u03c0\\u03b1\\u03bd\\u03af\\u03b1\"], [\"\\u0399\\u03c3\\u03c0\\u03b1\\u03bd\\u03af\\u03b1\"], [\"\\u0399\\u03c3\\u03c0\\u03b1\\u03bd\\u03af\\u03b1\"], [\"\\u0399\\u03c3\\u03c0\\u03b1\\u03bd\\u03af\\u03b1\"]], \"hoverlabel\": {\"namelength\": 0}, \"hovertemplate\": \"\\u03a7\\u03ce\\u03c1\\u03b1=%{customdata[0]}<br>\\u0391\\u03c1\\u03b9\\u03b8\\u03bc\\u03cc\\u03c2 \\u039a\\u03c1\\u03bf\\u03c5\\u03c3\\u03bc\\u03ac\\u03c4\\u03c9\\u03bd=%{y}\", \"legendgroup\": \"\\u0399\\u03c3\\u03c0\\u03b1\\u03bd\\u03af\\u03b1\", \"line\": {\"color\": \"rgb(149, 207, 216)\", \"dash\": \"solid\", \"shape\": \"spline\"}, \"mode\": \"lines\", \"name\": \"\\u0399\\u03c3\\u03c0\\u03b1\\u03bd\\u03af\\u03b1\", \"showlegend\": true, \"type\": \"scatter\", \"xaxis\": \"x\", \"y\": [120, 165, 222, 259, 400, 500, 673, 1073, 1695, 2277, 2277, 5232, 6391, 7798, 9942, 11748, 13910, 17963, 20410, 25374, 28768, 35136, 39885, 49515, 57786, 65719, 73235, 80110, 87956, 95923, 104118, 112065], \"yaxis\": \"y\"}, {\"customdata\": [[\"\\u03a3\\u03c1\\u03b9 \\u039b\\u03ac\\u03bd\\u03ba\\u03b1\"], [\"\\u03a3\\u03c1\\u03b9 \\u039b\\u03ac\\u03bd\\u03ba\\u03b1\"], [\"\\u03a3\\u03c1\\u03b9 \\u039b\\u03ac\\u03bd\\u03ba\\u03b1\"], [\"\\u03a3\\u03c1\\u03b9 \\u039b\\u03ac\\u03bd\\u03ba\\u03b1\"], [\"\\u03a3\\u03c1\\u03b9 \\u039b\\u03ac\\u03bd\\u03ba\\u03b1\"], [\"\\u03a3\\u03c1\\u03b9 \\u039b\\u03ac\\u03bd\\u03ba\\u03b1\"], [\"\\u03a3\\u03c1\\u03b9 \\u039b\\u03ac\\u03bd\\u03ba\\u03b1\"], [\"\\u03a3\\u03c1\\u03b9 \\u039b\\u03ac\\u03bd\\u03ba\\u03b1\"], [\"\\u03a3\\u03c1\\u03b9 \\u039b\\u03ac\\u03bd\\u03ba\\u03b1\"], [\"\\u03a3\\u03c1\\u03b9 \\u039b\\u03ac\\u03bd\\u03ba\\u03b1\"]], \"hoverlabel\": {\"namelength\": 0}, \"hovertemplate\": \"\\u03a7\\u03ce\\u03c1\\u03b1=%{customdata[0]}<br>\\u0391\\u03c1\\u03b9\\u03b8\\u03bc\\u03cc\\u03c2 \\u039a\\u03c1\\u03bf\\u03c5\\u03c3\\u03bc\\u03ac\\u03c4\\u03c9\\u03bd=%{y}\", \"legendgroup\": \"\\u03a3\\u03c1\\u03b9 \\u039b\\u03ac\\u03bd\\u03ba\\u03b1\", \"line\": {\"color\": \"rgb(192, 229, 232)\", \"dash\": \"solid\", \"shape\": \"spline\"}, \"mode\": \"lines\", \"name\": \"\\u03a3\\u03c1\\u03b9 \\u039b\\u03ac\\u03bd\\u03ba\\u03b1\", \"showlegend\": true, \"type\": \"scatter\", \"xaxis\": \"x\", \"y\": [102, 102, 106, 106, 113, 117, 122, 143, 146, 151], \"yaxis\": \"y\"}, {\"customdata\": [[\"\\u03a3\\u03bf\\u03c5\\u03b7\\u03b4\\u03af\\u03b1\"], [\"\\u03a3\\u03bf\\u03c5\\u03b7\\u03b4\\u03af\\u03b1\"], [\"\\u03a3\\u03bf\\u03c5\\u03b7\\u03b4\\u03af\\u03b1\"], [\"\\u03a3\\u03bf\\u03c5\\u03b7\\u03b4\\u03af\\u03b1\"], [\"\\u03a3\\u03bf\\u03c5\\u03b7\\u03b4\\u03af\\u03b1\"], [\"\\u03a3\\u03bf\\u03c5\\u03b7\\u03b4\\u03af\\u03b1\"], [\"\\u03a3\\u03bf\\u03c5\\u03b7\\u03b4\\u03af\\u03b1\"], [\"\\u03a3\\u03bf\\u03c5\\u03b7\\u03b4\\u03af\\u03b1\"], [\"\\u03a3\\u03bf\\u03c5\\u03b7\\u03b4\\u03af\\u03b1\"], [\"\\u03a3\\u03bf\\u03c5\\u03b7\\u03b4\\u03af\\u03b1\"], [\"\\u03a3\\u03bf\\u03c5\\u03b7\\u03b4\\u03af\\u03b1\"], [\"\\u03a3\\u03bf\\u03c5\\u03b7\\u03b4\\u03af\\u03b1\"], [\"\\u03a3\\u03bf\\u03c5\\u03b7\\u03b4\\u03af\\u03b1\"], [\"\\u03a3\\u03bf\\u03c5\\u03b7\\u03b4\\u03af\\u03b1\"], [\"\\u03a3\\u03bf\\u03c5\\u03b7\\u03b4\\u03af\\u03b1\"], [\"\\u03a3\\u03bf\\u03c5\\u03b7\\u03b4\\u03af\\u03b1\"], [\"\\u03a3\\u03bf\\u03c5\\u03b7\\u03b4\\u03af\\u03b1\"], [\"\\u03a3\\u03bf\\u03c5\\u03b7\\u03b4\\u03af\\u03b1\"], [\"\\u03a3\\u03bf\\u03c5\\u03b7\\u03b4\\u03af\\u03b1\"], [\"\\u03a3\\u03bf\\u03c5\\u03b7\\u03b4\\u03af\\u03b1\"], [\"\\u03a3\\u03bf\\u03c5\\u03b7\\u03b4\\u03af\\u03b1\"], [\"\\u03a3\\u03bf\\u03c5\\u03b7\\u03b4\\u03af\\u03b1\"], [\"\\u03a3\\u03bf\\u03c5\\u03b7\\u03b4\\u03af\\u03b1\"], [\"\\u03a3\\u03bf\\u03c5\\u03b7\\u03b4\\u03af\\u03b1\"], [\"\\u03a3\\u03bf\\u03c5\\u03b7\\u03b4\\u03af\\u03b1\"], [\"\\u03a3\\u03bf\\u03c5\\u03b7\\u03b4\\u03af\\u03b1\"], [\"\\u03a3\\u03bf\\u03c5\\u03b7\\u03b4\\u03af\\u03b1\"], [\"\\u03a3\\u03bf\\u03c5\\u03b7\\u03b4\\u03af\\u03b1\"]], \"hoverlabel\": {\"namelength\": 0}, \"hovertemplate\": \"\\u03a7\\u03ce\\u03c1\\u03b1=%{customdata[0]}<br>\\u0391\\u03c1\\u03b9\\u03b8\\u03bc\\u03cc\\u03c2 \\u039a\\u03c1\\u03bf\\u03c5\\u03c3\\u03bc\\u03ac\\u03c4\\u03c9\\u03bd=%{y}\", \"legendgroup\": \"\\u03a3\\u03bf\\u03c5\\u03b7\\u03b4\\u03af\\u03b1\", \"line\": {\"color\": \"rgb(234, 252, 253)\", \"dash\": \"solid\", \"shape\": \"spline\"}, \"mode\": \"lines\", \"name\": \"\\u03a3\\u03bf\\u03c5\\u03b7\\u03b4\\u03af\\u03b1\", \"showlegend\": true, \"type\": \"scatter\", \"xaxis\": \"x\", \"y\": [101, 161, 203, 248, 355, 500, 599, 814, 961, 1022, 1103, 1190, 1279, 1439, 1639, 1763, 1934, 2046, 2286, 2526, 2840, 3069, 3447, 3700, 4028, 4435, 4947, 5568], \"yaxis\": \"y\"}, {\"customdata\": [[\"\\u0395\\u03bb\\u03b2\\u03b5\\u03c4\\u03af\\u03b1\"], [\"\\u0395\\u03bb\\u03b2\\u03b5\\u03c4\\u03af\\u03b1\"], [\"\\u0395\\u03bb\\u03b2\\u03b5\\u03c4\\u03af\\u03b1\"], [\"\\u0395\\u03bb\\u03b2\\u03b5\\u03c4\\u03af\\u03b1\"], [\"\\u0395\\u03bb\\u03b2\\u03b5\\u03c4\\u03af\\u03b1\"], [\"\\u0395\\u03bb\\u03b2\\u03b5\\u03c4\\u03af\\u03b1\"], [\"\\u0395\\u03bb\\u03b2\\u03b5\\u03c4\\u03af\\u03b1\"], [\"\\u0395\\u03bb\\u03b2\\u03b5\\u03c4\\u03af\\u03b1\"], [\"\\u0395\\u03bb\\u03b2\\u03b5\\u03c4\\u03af\\u03b1\"], [\"\\u0395\\u03bb\\u03b2\\u03b5\\u03c4\\u03af\\u03b1\"], [\"\\u0395\\u03bb\\u03b2\\u03b5\\u03c4\\u03af\\u03b1\"], [\"\\u0395\\u03bb\\u03b2\\u03b5\\u03c4\\u03af\\u03b1\"], [\"\\u0395\\u03bb\\u03b2\\u03b5\\u03c4\\u03af\\u03b1\"], [\"\\u0395\\u03bb\\u03b2\\u03b5\\u03c4\\u03af\\u03b1\"], [\"\\u0395\\u03bb\\u03b2\\u03b5\\u03c4\\u03af\\u03b1\"], [\"\\u0395\\u03bb\\u03b2\\u03b5\\u03c4\\u03af\\u03b1\"], [\"\\u0395\\u03bb\\u03b2\\u03b5\\u03c4\\u03af\\u03b1\"], [\"\\u0395\\u03bb\\u03b2\\u03b5\\u03c4\\u03af\\u03b1\"], [\"\\u0395\\u03bb\\u03b2\\u03b5\\u03c4\\u03af\\u03b1\"], [\"\\u0395\\u03bb\\u03b2\\u03b5\\u03c4\\u03af\\u03b1\"], [\"\\u0395\\u03bb\\u03b2\\u03b5\\u03c4\\u03af\\u03b1\"], [\"\\u0395\\u03bb\\u03b2\\u03b5\\u03c4\\u03af\\u03b1\"], [\"\\u0395\\u03bb\\u03b2\\u03b5\\u03c4\\u03af\\u03b1\"], [\"\\u0395\\u03bb\\u03b2\\u03b5\\u03c4\\u03af\\u03b1\"], [\"\\u0395\\u03bb\\u03b2\\u03b5\\u03c4\\u03af\\u03b1\"], [\"\\u0395\\u03bb\\u03b2\\u03b5\\u03c4\\u03af\\u03b1\"], [\"\\u0395\\u03bb\\u03b2\\u03b5\\u03c4\\u03af\\u03b1\"], [\"\\u0395\\u03bb\\u03b2\\u03b5\\u03c4\\u03af\\u03b1\"], [\"\\u0395\\u03bb\\u03b2\\u03b5\\u03c4\\u03af\\u03b1\"]], \"hoverlabel\": {\"namelength\": 0}, \"hovertemplate\": \"\\u03a7\\u03ce\\u03c1\\u03b1=%{customdata[0]}<br>\\u0391\\u03c1\\u03b9\\u03b8\\u03bc\\u03cc\\u03c2 \\u039a\\u03c1\\u03bf\\u03c5\\u03c3\\u03bc\\u03ac\\u03c4\\u03c9\\u03bd=%{y}\", \"legendgroup\": \"\\u0395\\u03bb\\u03b2\\u03b5\\u03c4\\u03af\\u03b1\", \"line\": {\"color\": \"rgb(3, 5, 18)\", \"dash\": \"solid\", \"shape\": \"spline\"}, \"mode\": \"lines\", \"name\": \"\\u0395\\u03bb\\u03b2\\u03b5\\u03c4\\u03af\\u03b1\", \"showlegend\": true, \"type\": \"scatter\", \"xaxis\": \"x\", \"y\": [114, 214, 268, 337, 374, 491, 652, 652, 1139, 1359, 2200, 2200, 2700, 3028, 4075, 5294, 6575, 7474, 8795, 9877, 10897, 11811, 12928, 14076, 14829, 15922, 16605, 17768, 18827], \"yaxis\": \"y\"}, {\"customdata\": [[\"\\u03a4\\u03b1\\u03ca\\u03b2\\u03ac\\u03bd\"], [\"\\u03a4\\u03b1\\u03ca\\u03b2\\u03ac\\u03bd\"], [\"\\u03a4\\u03b1\\u03ca\\u03b2\\u03ac\\u03bd\"], [\"\\u03a4\\u03b1\\u03ca\\u03b2\\u03ac\\u03bd\"], [\"\\u03a4\\u03b1\\u03ca\\u03b2\\u03ac\\u03bd\"], [\"\\u03a4\\u03b1\\u03ca\\u03b2\\u03ac\\u03bd\"], [\"\\u03a4\\u03b1\\u03ca\\u03b2\\u03ac\\u03bd\"], [\"\\u03a4\\u03b1\\u03ca\\u03b2\\u03ac\\u03bd\"], [\"\\u03a4\\u03b1\\u03ca\\u03b2\\u03ac\\u03bd\"], [\"\\u03a4\\u03b1\\u03ca\\u03b2\\u03ac\\u03bd\"], [\"\\u03a4\\u03b1\\u03ca\\u03b2\\u03ac\\u03bd\"], [\"\\u03a4\\u03b1\\u03ca\\u03b2\\u03ac\\u03bd\"], [\"\\u03a4\\u03b1\\u03ca\\u03b2\\u03ac\\u03bd\"], [\"\\u03a4\\u03b1\\u03ca\\u03b2\\u03ac\\u03bd\"], [\"\\u03a4\\u03b1\\u03ca\\u03b2\\u03ac\\u03bd\"], [\"\\u03a4\\u03b1\\u03ca\\u03b2\\u03ac\\u03bd\"]], \"hoverlabel\": {\"namelength\": 0}, \"hovertemplate\": \"\\u03a7\\u03ce\\u03c1\\u03b1=%{customdata[0]}<br>\\u0391\\u03c1\\u03b9\\u03b8\\u03bc\\u03cc\\u03c2 \\u039a\\u03c1\\u03bf\\u03c5\\u03c3\\u03bc\\u03ac\\u03c4\\u03c9\\u03bd=%{y}\", \"legendgroup\": \"\\u03a4\\u03b1\\u03ca\\u03b2\\u03ac\\u03bd\", \"line\": {\"color\": \"rgb(25, 25, 51)\", \"dash\": \"solid\", \"shape\": \"spline\"}, \"mode\": \"lines\", \"name\": \"\\u03a4\\u03b1\\u03ca\\u03b2\\u03ac\\u03bd\", \"showlegend\": true, \"type\": \"scatter\", \"xaxis\": \"x\", \"y\": [100, 108, 135, 153, 169, 195, 215, 235, 252, 267, 283, 298, 306, 322, 329, 339], \"yaxis\": \"y\"}, {\"customdata\": [[\"\\u03a4\\u03b1\\u03ca\\u03bb\\u03ac\\u03bd\\u03b4\\u03b7\"], [\"\\u03a4\\u03b1\\u03ca\\u03bb\\u03ac\\u03bd\\u03b4\\u03b7\"], [\"\\u03a4\\u03b1\\u03ca\\u03bb\\u03ac\\u03bd\\u03b4\\u03b7\"], [\"\\u03a4\\u03b1\\u03ca\\u03bb\\u03ac\\u03bd\\u03b4\\u03b7\"], [\"\\u03a4\\u03b1\\u03ca\\u03bb\\u03ac\\u03bd\\u03b4\\u03b7\"], [\"\\u03a4\\u03b1\\u03ca\\u03bb\\u03ac\\u03bd\\u03b4\\u03b7\"], [\"\\u03a4\\u03b1\\u03ca\\u03bb\\u03ac\\u03bd\\u03b4\\u03b7\"], [\"\\u03a4\\u03b1\\u03ca\\u03bb\\u03ac\\u03bd\\u03b4\\u03b7\"], [\"\\u03a4\\u03b1\\u03ca\\u03bb\\u03ac\\u03bd\\u03b4\\u03b7\"], [\"\\u03a4\\u03b1\\u03ca\\u03bb\\u03ac\\u03bd\\u03b4\\u03b7\"], [\"\\u03a4\\u03b1\\u03ca\\u03bb\\u03ac\\u03bd\\u03b4\\u03b7\"], [\"\\u03a4\\u03b1\\u03ca\\u03bb\\u03ac\\u03bd\\u03b4\\u03b7\"], [\"\\u03a4\\u03b1\\u03ca\\u03bb\\u03ac\\u03bd\\u03b4\\u03b7\"], [\"\\u03a4\\u03b1\\u03ca\\u03bb\\u03ac\\u03bd\\u03b4\\u03b7\"], [\"\\u03a4\\u03b1\\u03ca\\u03bb\\u03ac\\u03bd\\u03b4\\u03b7\"], [\"\\u03a4\\u03b1\\u03ca\\u03bb\\u03ac\\u03bd\\u03b4\\u03b7\"], [\"\\u03a4\\u03b1\\u03ca\\u03bb\\u03ac\\u03bd\\u03b4\\u03b7\"], [\"\\u03a4\\u03b1\\u03ca\\u03bb\\u03ac\\u03bd\\u03b4\\u03b7\"], [\"\\u03a4\\u03b1\\u03ca\\u03bb\\u03ac\\u03bd\\u03b4\\u03b7\"]], \"hoverlabel\": {\"namelength\": 0}, \"hovertemplate\": \"\\u03a7\\u03ce\\u03c1\\u03b1=%{customdata[0]}<br>\\u0391\\u03c1\\u03b9\\u03b8\\u03bc\\u03cc\\u03c2 \\u039a\\u03c1\\u03bf\\u03c5\\u03c3\\u03bc\\u03ac\\u03c4\\u03c9\\u03bd=%{y}\", \"legendgroup\": \"\\u03a4\\u03b1\\u03ca\\u03bb\\u03ac\\u03bd\\u03b4\\u03b7\", \"line\": {\"color\": \"rgb(44, 42, 87)\", \"dash\": \"solid\", \"shape\": \"spline\"}, \"mode\": \"lines\", \"name\": \"\\u03a4\\u03b1\\u03ca\\u03bb\\u03ac\\u03bd\\u03b4\\u03b7\", \"showlegend\": true, \"type\": \"scatter\", \"xaxis\": \"x\", \"y\": [114, 147, 177, 212, 272, 322, 411, 599, 721, 827, 934, 1045, 1136, 1245, 1388, 1524, 1651, 1771, 1875], \"yaxis\": \"y\"}, {\"customdata\": [[\"\\u03a4\\u03c5\\u03bd\\u03b7\\u03c3\\u03af\\u03b1\"], [\"\\u03a4\\u03c5\\u03bd\\u03b7\\u03c3\\u03af\\u03b1\"], [\"\\u03a4\\u03c5\\u03bd\\u03b7\\u03c3\\u03af\\u03b1\"], [\"\\u03a4\\u03c5\\u03bd\\u03b7\\u03c3\\u03af\\u03b1\"], [\"\\u03a4\\u03c5\\u03bd\\u03b7\\u03c3\\u03af\\u03b1\"], [\"\\u03a4\\u03c5\\u03bd\\u03b7\\u03c3\\u03af\\u03b1\"], [\"\\u03a4\\u03c5\\u03bd\\u03b7\\u03c3\\u03af\\u03b1\"], [\"\\u03a4\\u03c5\\u03bd\\u03b7\\u03c3\\u03af\\u03b1\"], [\"\\u03a4\\u03c5\\u03bd\\u03b7\\u03c3\\u03af\\u03b1\"], [\"\\u03a4\\u03c5\\u03bd\\u03b7\\u03c3\\u03af\\u03b1\"]], \"hoverlabel\": {\"namelength\": 0}, \"hovertemplate\": \"\\u03a7\\u03ce\\u03c1\\u03b1=%{customdata[0]}<br>\\u0391\\u03c1\\u03b9\\u03b8\\u03bc\\u03cc\\u03c2 \\u039a\\u03c1\\u03bf\\u03c5\\u03c3\\u03bc\\u03ac\\u03c4\\u03c9\\u03bd=%{y}\", \"legendgroup\": \"\\u03a4\\u03c5\\u03bd\\u03b7\\u03c3\\u03af\\u03b1\", \"line\": {\"color\": \"rgb(58, 60, 125)\", \"dash\": \"solid\", \"shape\": \"spline\"}, \"mode\": \"lines\", \"name\": \"\\u03a4\\u03c5\\u03bd\\u03b7\\u03c3\\u03af\\u03b1\", \"showlegend\": true, \"type\": \"scatter\", \"xaxis\": \"x\", \"y\": [114, 173, 197, 227, 278, 312, 312, 394, 423, 455], \"yaxis\": \"y\"}, {\"customdata\": [[\"\\u03a4\\u03bf\\u03c5\\u03c1\\u03ba\\u03af\\u03b1\"], [\"\\u03a4\\u03bf\\u03c5\\u03c1\\u03ba\\u03af\\u03b1\"], [\"\\u03a4\\u03bf\\u03c5\\u03c1\\u03ba\\u03af\\u03b1\"], [\"\\u03a4\\u03bf\\u03c5\\u03c1\\u03ba\\u03af\\u03b1\"], [\"\\u03a4\\u03bf\\u03c5\\u03c1\\u03ba\\u03af\\u03b1\"], [\"\\u03a4\\u03bf\\u03c5\\u03c1\\u03ba\\u03af\\u03b1\"], [\"\\u03a4\\u03bf\\u03c5\\u03c1\\u03ba\\u03af\\u03b1\"], [\"\\u03a4\\u03bf\\u03c5\\u03c1\\u03ba\\u03af\\u03b1\"], [\"\\u03a4\\u03bf\\u03c5\\u03c1\\u03ba\\u03af\\u03b1\"], [\"\\u03a4\\u03bf\\u03c5\\u03c1\\u03ba\\u03af\\u03b1\"], [\"\\u03a4\\u03bf\\u03c5\\u03c1\\u03ba\\u03af\\u03b1\"], [\"\\u03a4\\u03bf\\u03c5\\u03c1\\u03ba\\u03af\\u03b1\"], [\"\\u03a4\\u03bf\\u03c5\\u03c1\\u03ba\\u03af\\u03b1\"], [\"\\u03a4\\u03bf\\u03c5\\u03c1\\u03ba\\u03af\\u03b1\"], [\"\\u03a4\\u03bf\\u03c5\\u03c1\\u03ba\\u03af\\u03b1\"]], \"hoverlabel\": {\"namelength\": 0}, \"hovertemplate\": \"\\u03a7\\u03ce\\u03c1\\u03b1=%{customdata[0]}<br>\\u0391\\u03c1\\u03b9\\u03b8\\u03bc\\u03cc\\u03c2 \\u039a\\u03c1\\u03bf\\u03c5\\u03c3\\u03bc\\u03ac\\u03c4\\u03c9\\u03bd=%{y}\", \"legendgroup\": \"\\u03a4\\u03bf\\u03c5\\u03c1\\u03ba\\u03af\\u03b1\", \"line\": {\"color\": \"rgb(62, 83, 160)\", \"dash\": \"solid\", \"shape\": \"spline\"}, \"mode\": \"lines\", \"name\": \"\\u03a4\\u03bf\\u03c5\\u03c1\\u03ba\\u03af\\u03b1\", \"showlegend\": true, \"type\": \"scatter\", \"xaxis\": \"x\", \"y\": [192, 359, 670, 1236, 1529, 1872, 2433, 3629, 5698, 7402, 9217, 10827, 13531, 15679, 18135], \"yaxis\": \"y\"}, {\"customdata\": [[\"\\u0397\\u03a0\\u0391\"], [\"\\u0397\\u03a0\\u0391\"], [\"\\u0397\\u03a0\\u0391\"], [\"\\u0397\\u03a0\\u0391\"], [\"\\u0397\\u03a0\\u0391\"], [\"\\u0397\\u03a0\\u0391\"], [\"\\u0397\\u03a0\\u0391\"], [\"\\u0397\\u03a0\\u0391\"], [\"\\u0397\\u03a0\\u0391\"], [\"\\u0397\\u03a0\\u0391\"], [\"\\u0397\\u03a0\\u0391\"], [\"\\u0397\\u03a0\\u0391\"], [\"\\u0397\\u03a0\\u0391\"], [\"\\u0397\\u03a0\\u0391\"], [\"\\u0397\\u03a0\\u0391\"], [\"\\u0397\\u03a0\\u0391\"], [\"\\u0397\\u03a0\\u0391\"], [\"\\u0397\\u03a0\\u0391\"], [\"\\u0397\\u03a0\\u0391\"], [\"\\u0397\\u03a0\\u0391\"], [\"\\u0397\\u03a0\\u0391\"], [\"\\u0397\\u03a0\\u0391\"], [\"\\u0397\\u03a0\\u0391\"], [\"\\u0397\\u03a0\\u0391\"], [\"\\u0397\\u03a0\\u0391\"], [\"\\u0397\\u03a0\\u0391\"], [\"\\u0397\\u03a0\\u0391\"], [\"\\u0397\\u03a0\\u0391\"], [\"\\u0397\\u03a0\\u0391\"], [\"\\u0397\\u03a0\\u0391\"], [\"\\u0397\\u03a0\\u0391\"]], \"hoverlabel\": {\"namelength\": 0}, \"hovertemplate\": \"\\u03a7\\u03ce\\u03c1\\u03b1=%{customdata[0]}<br>\\u0391\\u03c1\\u03b9\\u03b8\\u03bc\\u03cc\\u03c2 \\u039a\\u03c1\\u03bf\\u03c5\\u03c3\\u03bc\\u03ac\\u03c4\\u03c9\\u03bd=%{y}\", \"legendgroup\": \"\\u0397\\u03a0\\u0391\", \"line\": {\"color\": \"rgb(62, 109, 178)\", \"dash\": \"solid\", \"shape\": \"spline\"}, \"mode\": \"lines\", \"name\": \"\\u0397\\u03a0\\u0391\", \"showlegend\": true, \"type\": \"scatter\", \"xaxis\": \"x\", \"y\": [118, 149, 217, 262, 402, 518, 583, 959, 1281, 1663, 2179, 2727, 3499, 4632, 6421, 7783, 13677, 19100, 25489, 33276, 43847, 53740, 65778, 83836, 101657, 121478, 140886, 161807, 188172, 213372, 243453], \"yaxis\": \"y\"}, {\"customdata\": [[\"\\u039f\\u03c5\\u03ba\\u03c1\\u03b1\\u03bd\\u03af\\u03b1\"], [\"\\u039f\\u03c5\\u03ba\\u03c1\\u03b1\\u03bd\\u03af\\u03b1\"], [\"\\u039f\\u03c5\\u03ba\\u03c1\\u03b1\\u03bd\\u03af\\u03b1\"], [\"\\u039f\\u03c5\\u03ba\\u03c1\\u03b1\\u03bd\\u03af\\u03b1\"], [\"\\u039f\\u03c5\\u03ba\\u03c1\\u03b1\\u03bd\\u03af\\u03b1\"], [\"\\u039f\\u03c5\\u03ba\\u03c1\\u03b1\\u03bd\\u03af\\u03b1\"], [\"\\u039f\\u03c5\\u03ba\\u03c1\\u03b1\\u03bd\\u03af\\u03b1\"], [\"\\u039f\\u03c5\\u03ba\\u03c1\\u03b1\\u03bd\\u03af\\u03b1\"], [\"\\u039f\\u03c5\\u03ba\\u03c1\\u03b1\\u03bd\\u03af\\u03b1\"]], \"hoverlabel\": {\"namelength\": 0}, \"hovertemplate\": \"\\u03a7\\u03ce\\u03c1\\u03b1=%{customdata[0]}<br>\\u0391\\u03c1\\u03b9\\u03b8\\u03bc\\u03cc\\u03c2 \\u039a\\u03c1\\u03bf\\u03c5\\u03c3\\u03bc\\u03ac\\u03c4\\u03c9\\u03bd=%{y}\", \"legendgroup\": \"\\u039f\\u03c5\\u03ba\\u03c1\\u03b1\\u03bd\\u03af\\u03b1\", \"line\": {\"color\": \"rgb(72, 134, 187)\", \"dash\": \"solid\", \"shape\": \"spline\"}, \"mode\": \"lines\", \"name\": \"\\u039f\\u03c5\\u03ba\\u03c1\\u03b1\\u03bd\\u03af\\u03b1\", \"showlegend\": true, \"type\": \"scatter\", \"xaxis\": \"x\", \"y\": [145, 196, 310, 356, 475, 548, 645, 794, 897], \"yaxis\": \"y\"}, {\"customdata\": [[\"\\u0397\\u03bd. \\u0391\\u03c1\\u03b1\\u03b2\\u03b9\\u03ba\\u03ac \\u0395\\u03bc\\u03b9\\u03c1\\u03ac\\u03c4\\u03b1\"], [\"\\u0397\\u03bd. \\u0391\\u03c1\\u03b1\\u03b2\\u03b9\\u03ba\\u03ac \\u0395\\u03bc\\u03b9\\u03c1\\u03ac\\u03c4\\u03b1\"], [\"\\u0397\\u03bd. \\u0391\\u03c1\\u03b1\\u03b2\\u03b9\\u03ba\\u03ac \\u0395\\u03bc\\u03b9\\u03c1\\u03ac\\u03c4\\u03b1\"], [\"\\u0397\\u03bd. \\u0391\\u03c1\\u03b1\\u03b2\\u03b9\\u03ba\\u03ac \\u0395\\u03bc\\u03b9\\u03c1\\u03ac\\u03c4\\u03b1\"], [\"\\u0397\\u03bd. \\u0391\\u03c1\\u03b1\\u03b2\\u03b9\\u03ba\\u03ac \\u0395\\u03bc\\u03b9\\u03c1\\u03ac\\u03c4\\u03b1\"], [\"\\u0397\\u03bd. \\u0391\\u03c1\\u03b1\\u03b2\\u03b9\\u03ba\\u03ac \\u0395\\u03bc\\u03b9\\u03c1\\u03ac\\u03c4\\u03b1\"], [\"\\u0397\\u03bd. \\u0391\\u03c1\\u03b1\\u03b2\\u03b9\\u03ba\\u03ac \\u0395\\u03bc\\u03b9\\u03c1\\u03ac\\u03c4\\u03b1\"], [\"\\u0397\\u03bd. \\u0391\\u03c1\\u03b1\\u03b2\\u03b9\\u03ba\\u03ac \\u0395\\u03bc\\u03b9\\u03c1\\u03ac\\u03c4\\u03b1\"], [\"\\u0397\\u03bd. \\u0391\\u03c1\\u03b1\\u03b2\\u03b9\\u03ba\\u03ac \\u0395\\u03bc\\u03b9\\u03c1\\u03ac\\u03c4\\u03b1\"], [\"\\u0397\\u03bd. \\u0391\\u03c1\\u03b1\\u03b2\\u03b9\\u03ba\\u03ac \\u0395\\u03bc\\u03b9\\u03c1\\u03ac\\u03c4\\u03b1\"], [\"\\u0397\\u03bd. \\u0391\\u03c1\\u03b1\\u03b2\\u03b9\\u03ba\\u03ac \\u0395\\u03bc\\u03b9\\u03c1\\u03ac\\u03c4\\u03b1\"], [\"\\u0397\\u03bd. \\u0391\\u03c1\\u03b1\\u03b2\\u03b9\\u03ba\\u03ac \\u0395\\u03bc\\u03b9\\u03c1\\u03ac\\u03c4\\u03b1\"], [\"\\u0397\\u03bd. \\u0391\\u03c1\\u03b1\\u03b2\\u03b9\\u03ba\\u03ac \\u0395\\u03bc\\u03b9\\u03c1\\u03ac\\u03c4\\u03b1\"], [\"\\u0397\\u03bd. \\u0391\\u03c1\\u03b1\\u03b2\\u03b9\\u03ba\\u03ac \\u0395\\u03bc\\u03b9\\u03c1\\u03ac\\u03c4\\u03b1\"], [\"\\u0397\\u03bd. \\u0391\\u03c1\\u03b1\\u03b2\\u03b9\\u03ba\\u03ac \\u0395\\u03bc\\u03b9\\u03c1\\u03ac\\u03c4\\u03b1\"], [\"\\u0397\\u03bd. \\u0391\\u03c1\\u03b1\\u03b2\\u03b9\\u03ba\\u03ac \\u0395\\u03bc\\u03b9\\u03c1\\u03ac\\u03c4\\u03b1\"]], \"hoverlabel\": {\"namelength\": 0}, \"hovertemplate\": \"\\u03a7\\u03ce\\u03c1\\u03b1=%{customdata[0]}<br>\\u0391\\u03c1\\u03b9\\u03b8\\u03bc\\u03cc\\u03c2 \\u039a\\u03c1\\u03bf\\u03c5\\u03c3\\u03bc\\u03ac\\u03c4\\u03c9\\u03bd=%{y}\", \"legendgroup\": \"\\u0397\\u03bd. \\u0391\\u03c1\\u03b1\\u03b2\\u03b9\\u03ba\\u03ac \\u0395\\u03bc\\u03b9\\u03c1\\u03ac\\u03c4\\u03b1\", \"line\": {\"color\": \"rgb(89, 159, 196)\", \"dash\": \"solid\", \"shape\": \"spline\"}, \"mode\": \"lines\", \"name\": \"\\u0397\\u03bd. \\u0391\\u03c1\\u03b1\\u03b2\\u03b9\\u03ba\\u03ac \\u0395\\u03bc\\u03b9\\u03c1\\u03ac\\u03c4\\u03b1\", \"showlegend\": true, \"type\": \"scatter\", \"xaxis\": \"x\", \"y\": [113, 140, 140, 153, 153, 198, 248, 333, 333, 405, 468, 570, 611, 664, 814, 1024], \"yaxis\": \"y\"}, {\"customdata\": [[\"\\u0397\\u03bd. \\u0392\\u03b1\\u03c3\\u03af\\u03bb\\u03b5\\u03b9\\u03bf\"], [\"\\u0397\\u03bd. \\u0392\\u03b1\\u03c3\\u03af\\u03bb\\u03b5\\u03b9\\u03bf\"], [\"\\u0397\\u03bd. \\u0392\\u03b1\\u03c3\\u03af\\u03bb\\u03b5\\u03b9\\u03bf\"], [\"\\u0397\\u03bd. \\u0392\\u03b1\\u03c3\\u03af\\u03bb\\u03b5\\u03b9\\u03bf\"], [\"\\u0397\\u03bd. \\u0392\\u03b1\\u03c3\\u03af\\u03bb\\u03b5\\u03b9\\u03bf\"], [\"\\u0397\\u03bd. \\u0392\\u03b1\\u03c3\\u03af\\u03bb\\u03b5\\u03b9\\u03bf\"], [\"\\u0397\\u03bd. \\u0392\\u03b1\\u03c3\\u03af\\u03bb\\u03b5\\u03b9\\u03bf\"], [\"\\u0397\\u03bd. \\u0392\\u03b1\\u03c3\\u03af\\u03bb\\u03b5\\u03b9\\u03bf\"], [\"\\u0397\\u03bd. \\u0392\\u03b1\\u03c3\\u03af\\u03bb\\u03b5\\u03b9\\u03bf\"], [\"\\u0397\\u03bd. \\u0392\\u03b1\\u03c3\\u03af\\u03bb\\u03b5\\u03b9\\u03bf\"], [\"\\u0397\\u03bd. \\u0392\\u03b1\\u03c3\\u03af\\u03bb\\u03b5\\u03b9\\u03bf\"], [\"\\u0397\\u03bd. \\u0392\\u03b1\\u03c3\\u03af\\u03bb\\u03b5\\u03b9\\u03bf\"], [\"\\u0397\\u03bd. \\u0392\\u03b1\\u03c3\\u03af\\u03bb\\u03b5\\u03b9\\u03bf\"], [\"\\u0397\\u03bd. \\u0392\\u03b1\\u03c3\\u03af\\u03bb\\u03b5\\u03b9\\u03bf\"], [\"\\u0397\\u03bd. \\u0392\\u03b1\\u03c3\\u03af\\u03bb\\u03b5\\u03b9\\u03bf\"], [\"\\u0397\\u03bd. \\u0392\\u03b1\\u03c3\\u03af\\u03bb\\u03b5\\u03b9\\u03bf\"], [\"\\u0397\\u03bd. \\u0392\\u03b1\\u03c3\\u03af\\u03bb\\u03b5\\u03b9\\u03bf\"], [\"\\u0397\\u03bd. \\u0392\\u03b1\\u03c3\\u03af\\u03bb\\u03b5\\u03b9\\u03bf\"], [\"\\u0397\\u03bd. \\u0392\\u03b1\\u03c3\\u03af\\u03bb\\u03b5\\u03b9\\u03bf\"], [\"\\u0397\\u03bd. \\u0392\\u03b1\\u03c3\\u03af\\u03bb\\u03b5\\u03b9\\u03bf\"], [\"\\u0397\\u03bd. \\u0392\\u03b1\\u03c3\\u03af\\u03bb\\u03b5\\u03b9\\u03bf\"], [\"\\u0397\\u03bd. \\u0392\\u03b1\\u03c3\\u03af\\u03bb\\u03b5\\u03b9\\u03bf\"], [\"\\u0397\\u03bd. \\u0392\\u03b1\\u03c3\\u03af\\u03bb\\u03b5\\u03b9\\u03bf\"], [\"\\u0397\\u03bd. \\u0392\\u03b1\\u03c3\\u03af\\u03bb\\u03b5\\u03b9\\u03bf\"], [\"\\u0397\\u03bd. \\u0392\\u03b1\\u03c3\\u03af\\u03bb\\u03b5\\u03b9\\u03bf\"], [\"\\u0397\\u03bd. \\u0392\\u03b1\\u03c3\\u03af\\u03bb\\u03b5\\u03b9\\u03bf\"], [\"\\u0397\\u03bd. \\u0392\\u03b1\\u03c3\\u03af\\u03bb\\u03b5\\u03b9\\u03bf\"], [\"\\u0397\\u03bd. \\u0392\\u03b1\\u03c3\\u03af\\u03bb\\u03b5\\u03b9\\u03bf\"], [\"\\u0397\\u03bd. \\u0392\\u03b1\\u03c3\\u03af\\u03bb\\u03b5\\u03b9\\u03bf\"]], \"hoverlabel\": {\"namelength\": 0}, \"hovertemplate\": \"\\u03a7\\u03ce\\u03c1\\u03b1=%{customdata[0]}<br>\\u0391\\u03c1\\u03b9\\u03b8\\u03bc\\u03cc\\u03c2 \\u039a\\u03c1\\u03bf\\u03c5\\u03c3\\u03bc\\u03ac\\u03c4\\u03c9\\u03bd=%{y}\", \"legendgroup\": \"\\u0397\\u03bd. \\u0392\\u03b1\\u03c3\\u03af\\u03bb\\u03b5\\u03b9\\u03bf\", \"line\": {\"color\": \"rgb(114, 184, 205)\", \"dash\": \"solid\", \"shape\": \"spline\"}, \"mode\": \"lines\", \"name\": \"\\u0397\\u03bd. \\u0392\\u03b1\\u03c3\\u03af\\u03bb\\u03b5\\u03b9\\u03bf\", \"showlegend\": true, \"type\": \"scatter\", \"xaxis\": \"x\", \"y\": [116, 164, 207, 274, 322, 384, 459, 459, 802, 1144, 1145, 1551, 1960, 2642, 2716, 4014, 5067, 5745, 6726, 8164, 9640, 11812, 14745, 17312, 19780, 22453, 25481, 29865, 34173], \"yaxis\": \"y\"}, {\"customdata\": [[\"\\u039f\\u03c5\\u03c1\\u03bf\\u03c5\\u03b3\\u03bf\\u03c5\\u03ac\\u03b7\"], [\"\\u039f\\u03c5\\u03c1\\u03bf\\u03c5\\u03b3\\u03bf\\u03c5\\u03ac\\u03b7\"], [\"\\u039f\\u03c5\\u03c1\\u03bf\\u03c5\\u03b3\\u03bf\\u03c5\\u03ac\\u03b7\"], [\"\\u039f\\u03c5\\u03c1\\u03bf\\u03c5\\u03b3\\u03bf\\u03c5\\u03ac\\u03b7\"], [\"\\u039f\\u03c5\\u03c1\\u03bf\\u03c5\\u03b3\\u03bf\\u03c5\\u03ac\\u03b7\"], [\"\\u039f\\u03c5\\u03c1\\u03bf\\u03c5\\u03b3\\u03bf\\u03c5\\u03ac\\u03b7\"], [\"\\u039f\\u03c5\\u03c1\\u03bf\\u03c5\\u03b3\\u03bf\\u03c5\\u03ac\\u03b7\"], [\"\\u039f\\u03c5\\u03c1\\u03bf\\u03c5\\u03b3\\u03bf\\u03c5\\u03ac\\u03b7\"], [\"\\u039f\\u03c5\\u03c1\\u03bf\\u03c5\\u03b3\\u03bf\\u03c5\\u03ac\\u03b7\"], [\"\\u039f\\u03c5\\u03c1\\u03bf\\u03c5\\u03b3\\u03bf\\u03c5\\u03ac\\u03b7\"], [\"\\u039f\\u03c5\\u03c1\\u03bf\\u03c5\\u03b3\\u03bf\\u03c5\\u03ac\\u03b7\"], [\"\\u039f\\u03c5\\u03c1\\u03bf\\u03c5\\u03b3\\u03bf\\u03c5\\u03ac\\u03b7\"], [\"\\u039f\\u03c5\\u03c1\\u03bf\\u03c5\\u03b3\\u03bf\\u03c5\\u03ac\\u03b7\"]], \"hoverlabel\": {\"namelength\": 0}, \"hovertemplate\": \"\\u03a7\\u03ce\\u03c1\\u03b1=%{customdata[0]}<br>\\u0391\\u03c1\\u03b9\\u03b8\\u03bc\\u03cc\\u03c2 \\u039a\\u03c1\\u03bf\\u03c5\\u03c3\\u03bc\\u03ac\\u03c4\\u03c9\\u03bd=%{y}\", \"legendgroup\": \"\\u039f\\u03c5\\u03c1\\u03bf\\u03c5\\u03b3\\u03bf\\u03c5\\u03ac\\u03b7\", \"line\": {\"color\": \"rgb(149, 207, 216)\", \"dash\": \"solid\", \"shape\": \"spline\"}, \"mode\": \"lines\", \"name\": \"\\u039f\\u03c5\\u03c1\\u03bf\\u03c5\\u03b3\\u03bf\\u03c5\\u03ac\\u03b7\", \"showlegend\": true, \"type\": \"scatter\", \"xaxis\": \"x\", \"y\": [110, 158, 162, 162, 189, 217, 238, 274, 304, 310, 338, 338, 350], \"yaxis\": \"y\"}, {\"customdata\": [[\"\\u039f\\u03c5\\u03b6\\u03bc\\u03c0\\u03b5\\u03ba\\u03b9\\u03c3\\u03c4\\u03ac\\u03bd\"], [\"\\u039f\\u03c5\\u03b6\\u03bc\\u03c0\\u03b5\\u03ba\\u03b9\\u03c3\\u03c4\\u03ac\\u03bd\"], [\"\\u039f\\u03c5\\u03b6\\u03bc\\u03c0\\u03b5\\u03ba\\u03b9\\u03c3\\u03c4\\u03ac\\u03bd\"], [\"\\u039f\\u03c5\\u03b6\\u03bc\\u03c0\\u03b5\\u03ba\\u03b9\\u03c3\\u03c4\\u03ac\\u03bd\"], [\"\\u039f\\u03c5\\u03b6\\u03bc\\u03c0\\u03b5\\u03ba\\u03b9\\u03c3\\u03c4\\u03ac\\u03bd\"], [\"\\u039f\\u03c5\\u03b6\\u03bc\\u03c0\\u03b5\\u03ba\\u03b9\\u03c3\\u03c4\\u03ac\\u03bd\"]], \"hoverlabel\": {\"namelength\": 0}, \"hovertemplate\": \"\\u03a7\\u03ce\\u03c1\\u03b1=%{customdata[0]}<br>\\u0391\\u03c1\\u03b9\\u03b8\\u03bc\\u03cc\\u03c2 \\u039a\\u03c1\\u03bf\\u03c5\\u03c3\\u03bc\\u03ac\\u03c4\\u03c9\\u03bd=%{y}\", \"legendgroup\": \"\\u039f\\u03c5\\u03b6\\u03bc\\u03c0\\u03b5\\u03ba\\u03b9\\u03c3\\u03c4\\u03ac\\u03bd\", \"line\": {\"color\": \"rgb(192, 229, 232)\", \"dash\": \"solid\", \"shape\": \"spline\"}, \"mode\": \"lines\", \"name\": \"\\u039f\\u03c5\\u03b6\\u03bc\\u03c0\\u03b5\\u03ba\\u03b9\\u03c3\\u03c4\\u03ac\\u03bd\", \"showlegend\": true, \"type\": \"scatter\", \"xaxis\": \"x\", \"y\": [104, 144, 149, 172, 181, 205], \"yaxis\": \"y\"}, {\"customdata\": [[\"\\u0392\\u03b5\\u03bd\\u03b5\\u03b6\\u03bf\\u03c5\\u03ad\\u03bb\\u03b1\"], [\"\\u0392\\u03b5\\u03bd\\u03b5\\u03b6\\u03bf\\u03c5\\u03ad\\u03bb\\u03b1\"], [\"\\u0392\\u03b5\\u03bd\\u03b5\\u03b6\\u03bf\\u03c5\\u03ad\\u03bb\\u03b1\"], [\"\\u0392\\u03b5\\u03bd\\u03b5\\u03b6\\u03bf\\u03c5\\u03ad\\u03bb\\u03b1\"], [\"\\u0392\\u03b5\\u03bd\\u03b5\\u03b6\\u03bf\\u03c5\\u03ad\\u03bb\\u03b1\"], [\"\\u0392\\u03b5\\u03bd\\u03b5\\u03b6\\u03bf\\u03c5\\u03ad\\u03bb\\u03b1\"], [\"\\u0392\\u03b5\\u03bd\\u03b5\\u03b6\\u03bf\\u03c5\\u03ad\\u03bb\\u03b1\"], [\"\\u0392\\u03b5\\u03bd\\u03b5\\u03b6\\u03bf\\u03c5\\u03ad\\u03bb\\u03b1\"]], \"hoverlabel\": {\"namelength\": 0}, \"hovertemplate\": \"\\u03a7\\u03ce\\u03c1\\u03b1=%{customdata[0]}<br>\\u0391\\u03c1\\u03b9\\u03b8\\u03bc\\u03cc\\u03c2 \\u039a\\u03c1\\u03bf\\u03c5\\u03c3\\u03bc\\u03ac\\u03c4\\u03c9\\u03bd=%{y}\", \"legendgroup\": \"\\u0392\\u03b5\\u03bd\\u03b5\\u03b6\\u03bf\\u03c5\\u03ad\\u03bb\\u03b1\", \"line\": {\"color\": \"rgb(234, 252, 253)\", \"dash\": \"solid\", \"shape\": \"spline\"}, \"mode\": \"lines\", \"name\": \"\\u0392\\u03b5\\u03bd\\u03b5\\u03b6\\u03bf\\u03c5\\u03ad\\u03bb\\u03b1\", \"showlegend\": true, \"type\": \"scatter\", \"xaxis\": \"x\", \"y\": [107, 107, 119, 119, 135, 135, 143, 146], \"yaxis\": \"y\"}, {\"customdata\": [[\"\\u0392\\u03b9\\u03b5\\u03c4\\u03bd\\u03ac\\u03bc\"], [\"\\u0392\\u03b9\\u03b5\\u03c4\\u03bd\\u03ac\\u03bc\"], [\"\\u0392\\u03b9\\u03b5\\u03c4\\u03bd\\u03ac\\u03bc\"], [\"\\u0392\\u03b9\\u03b5\\u03c4\\u03bd\\u03ac\\u03bc\"], [\"\\u0392\\u03b9\\u03b5\\u03c4\\u03bd\\u03ac\\u03bc\"], [\"\\u0392\\u03b9\\u03b5\\u03c4\\u03bd\\u03ac\\u03bc\"], [\"\\u0392\\u03b9\\u03b5\\u03c4\\u03bd\\u03ac\\u03bc\"], [\"\\u0392\\u03b9\\u03b5\\u03c4\\u03bd\\u03ac\\u03bc\"], [\"\\u0392\\u03b9\\u03b5\\u03c4\\u03bd\\u03ac\\u03bc\"], [\"\\u0392\\u03b9\\u03b5\\u03c4\\u03bd\\u03ac\\u03bc\"], [\"\\u0392\\u03b9\\u03b5\\u03c4\\u03bd\\u03ac\\u03bc\"], [\"\\u0392\\u03b9\\u03b5\\u03c4\\u03bd\\u03ac\\u03bc\"]], \"hoverlabel\": {\"namelength\": 0}, \"hovertemplate\": \"\\u03a7\\u03ce\\u03c1\\u03b1=%{customdata[0]}<br>\\u0391\\u03c1\\u03b9\\u03b8\\u03bc\\u03cc\\u03c2 \\u039a\\u03c1\\u03bf\\u03c5\\u03c3\\u03bc\\u03ac\\u03c4\\u03c9\\u03bd=%{y}\", \"legendgroup\": \"\\u0392\\u03b9\\u03b5\\u03c4\\u03bd\\u03ac\\u03bc\", \"line\": {\"color\": \"rgb(3, 5, 18)\", \"dash\": \"solid\", \"shape\": \"spline\"}, \"mode\": \"lines\", \"name\": \"\\u0392\\u03b9\\u03b5\\u03c4\\u03bd\\u03ac\\u03bc\", \"showlegend\": true, \"type\": \"scatter\", \"xaxis\": \"x\", \"y\": [113, 123, 134, 141, 153, 163, 174, 188, 203, 212, 218, 233], \"yaxis\": \"y\"}],\n",
       "                        {\"font\": {\"color\": \"#114B5F\", \"family\": \"Roboto\", \"size\": 11}, \"height\": 500, \"hoverlabel\": {\"align\": \"left\", \"bgcolor\": \"white\", \"font\": {\"family\": \"Roboto\", \"size\": 12}}, \"hovermode\": \"closest\", \"legend\": {\"bgcolor\": \"LightSteelBlue\", \"bordercolor\": \"Black\", \"borderwidth\": 0.3, \"font\": {\"color\": \"black\", \"family\": \"roboto\", \"size\": 10}, \"itemsizing\": \"constant\", \"title\": {\"text\": \"\"}, \"tracegroupgap\": 0, \"traceorder\": \"normal\"}, \"paper_bgcolor\": \"#E6ECEC\", \"plot_bgcolor\": \"#E6ECEC\", \"showlegend\": true, \"template\": {\"data\": {\"bar\": [{\"error_x\": {\"color\": \"#2a3f5f\"}, \"error_y\": {\"color\": \"#2a3f5f\"}, \"marker\": {\"line\": {\"color\": \"#E5ECF6\", \"width\": 0.5}}, \"type\": \"bar\"}], \"barpolar\": [{\"marker\": {\"line\": {\"color\": \"#E5ECF6\", \"width\": 0.5}}, \"type\": \"barpolar\"}], \"carpet\": [{\"aaxis\": {\"endlinecolor\": \"#2a3f5f\", \"gridcolor\": \"white\", \"linecolor\": \"white\", \"minorgridcolor\": \"white\", \"startlinecolor\": \"#2a3f5f\"}, \"baxis\": {\"endlinecolor\": \"#2a3f5f\", \"gridcolor\": \"white\", \"linecolor\": \"white\", \"minorgridcolor\": \"white\", \"startlinecolor\": \"#2a3f5f\"}, \"type\": \"carpet\"}], \"choropleth\": [{\"colorbar\": {\"outlinewidth\": 0, \"ticks\": \"\"}, \"type\": \"choropleth\"}], \"contour\": [{\"colorbar\": {\"outlinewidth\": 0, \"ticks\": \"\"}, \"colorscale\": [[0.0, \"#0d0887\"], [0.1111111111111111, \"#46039f\"], [0.2222222222222222, \"#7201a8\"], [0.3333333333333333, \"#9c179e\"], [0.4444444444444444, \"#bd3786\"], [0.5555555555555556, \"#d8576b\"], [0.6666666666666666, \"#ed7953\"], [0.7777777777777778, \"#fb9f3a\"], [0.8888888888888888, \"#fdca26\"], [1.0, \"#f0f921\"]], \"type\": \"contour\"}], \"contourcarpet\": [{\"colorbar\": {\"outlinewidth\": 0, \"ticks\": \"\"}, \"type\": \"contourcarpet\"}], \"heatmap\": [{\"colorbar\": {\"outlinewidth\": 0, \"ticks\": \"\"}, \"colorscale\": [[0.0, \"#0d0887\"], [0.1111111111111111, \"#46039f\"], [0.2222222222222222, \"#7201a8\"], [0.3333333333333333, \"#9c179e\"], [0.4444444444444444, \"#bd3786\"], [0.5555555555555556, \"#d8576b\"], [0.6666666666666666, \"#ed7953\"], [0.7777777777777778, \"#fb9f3a\"], [0.8888888888888888, \"#fdca26\"], [1.0, \"#f0f921\"]], \"type\": \"heatmap\"}], \"heatmapgl\": [{\"colorbar\": {\"outlinewidth\": 0, \"ticks\": \"\"}, \"colorscale\": [[0.0, \"#0d0887\"], [0.1111111111111111, \"#46039f\"], [0.2222222222222222, \"#7201a8\"], [0.3333333333333333, \"#9c179e\"], [0.4444444444444444, \"#bd3786\"], [0.5555555555555556, \"#d8576b\"], [0.6666666666666666, \"#ed7953\"], [0.7777777777777778, \"#fb9f3a\"], [0.8888888888888888, \"#fdca26\"], [1.0, \"#f0f921\"]], \"type\": \"heatmapgl\"}], \"histogram\": [{\"marker\": {\"colorbar\": {\"outlinewidth\": 0, \"ticks\": \"\"}}, \"type\": \"histogram\"}], \"histogram2d\": [{\"colorbar\": {\"outlinewidth\": 0, \"ticks\": \"\"}, \"colorscale\": [[0.0, \"#0d0887\"], [0.1111111111111111, \"#46039f\"], [0.2222222222222222, \"#7201a8\"], [0.3333333333333333, \"#9c179e\"], [0.4444444444444444, \"#bd3786\"], [0.5555555555555556, \"#d8576b\"], [0.6666666666666666, \"#ed7953\"], [0.7777777777777778, \"#fb9f3a\"], [0.8888888888888888, \"#fdca26\"], [1.0, \"#f0f921\"]], \"type\": \"histogram2d\"}], \"histogram2dcontour\": [{\"colorbar\": {\"outlinewidth\": 0, \"ticks\": \"\"}, \"colorscale\": [[0.0, \"#0d0887\"], [0.1111111111111111, \"#46039f\"], [0.2222222222222222, \"#7201a8\"], [0.3333333333333333, \"#9c179e\"], [0.4444444444444444, \"#bd3786\"], [0.5555555555555556, \"#d8576b\"], [0.6666666666666666, \"#ed7953\"], [0.7777777777777778, \"#fb9f3a\"], [0.8888888888888888, \"#fdca26\"], [1.0, \"#f0f921\"]], \"type\": \"histogram2dcontour\"}], \"mesh3d\": [{\"colorbar\": {\"outlinewidth\": 0, \"ticks\": \"\"}, \"type\": \"mesh3d\"}], \"parcoords\": [{\"line\": {\"colorbar\": {\"outlinewidth\": 0, \"ticks\": \"\"}}, \"type\": \"parcoords\"}], \"pie\": [{\"automargin\": true, \"type\": \"pie\"}], \"scatter\": [{\"marker\": {\"colorbar\": {\"outlinewidth\": 0, \"ticks\": \"\"}}, \"type\": \"scatter\"}], \"scatter3d\": [{\"line\": {\"colorbar\": {\"outlinewidth\": 0, \"ticks\": \"\"}}, \"marker\": {\"colorbar\": {\"outlinewidth\": 0, \"ticks\": \"\"}}, \"type\": \"scatter3d\"}], \"scattercarpet\": [{\"marker\": {\"colorbar\": {\"outlinewidth\": 0, \"ticks\": \"\"}}, \"type\": \"scattercarpet\"}], \"scattergeo\": [{\"marker\": {\"colorbar\": {\"outlinewidth\": 0, \"ticks\": \"\"}}, \"type\": \"scattergeo\"}], \"scattergl\": [{\"marker\": {\"colorbar\": {\"outlinewidth\": 0, \"ticks\": \"\"}}, \"type\": \"scattergl\"}], \"scattermapbox\": [{\"marker\": {\"colorbar\": {\"outlinewidth\": 0, \"ticks\": \"\"}}, \"type\": \"scattermapbox\"}], \"scatterpolar\": [{\"marker\": {\"colorbar\": {\"outlinewidth\": 0, \"ticks\": \"\"}}, \"type\": \"scatterpolar\"}], \"scatterpolargl\": [{\"marker\": {\"colorbar\": {\"outlinewidth\": 0, \"ticks\": \"\"}}, \"type\": \"scatterpolargl\"}], \"scatterternary\": [{\"marker\": {\"colorbar\": {\"outlinewidth\": 0, \"ticks\": \"\"}}, \"type\": \"scatterternary\"}], \"surface\": [{\"colorbar\": {\"outlinewidth\": 0, \"ticks\": \"\"}, \"colorscale\": [[0.0, \"#0d0887\"], [0.1111111111111111, \"#46039f\"], [0.2222222222222222, \"#7201a8\"], [0.3333333333333333, \"#9c179e\"], [0.4444444444444444, \"#bd3786\"], [0.5555555555555556, \"#d8576b\"], [0.6666666666666666, \"#ed7953\"], [0.7777777777777778, \"#fb9f3a\"], [0.8888888888888888, \"#fdca26\"], [1.0, \"#f0f921\"]], \"type\": \"surface\"}], \"table\": [{\"cells\": {\"fill\": {\"color\": \"#EBF0F8\"}, \"line\": {\"color\": \"white\"}}, \"header\": {\"fill\": {\"color\": \"#C8D4E3\"}, \"line\": {\"color\": \"white\"}}, \"type\": \"table\"}]}, \"layout\": {\"annotationdefaults\": {\"arrowcolor\": \"#2a3f5f\", \"arrowhead\": 0, \"arrowwidth\": 1}, \"coloraxis\": {\"colorbar\": {\"outlinewidth\": 0, \"ticks\": \"\"}}, \"colorscale\": {\"diverging\": [[0, \"#8e0152\"], [0.1, \"#c51b7d\"], [0.2, \"#de77ae\"], [0.3, \"#f1b6da\"], [0.4, \"#fde0ef\"], [0.5, \"#f7f7f7\"], [0.6, \"#e6f5d0\"], [0.7, \"#b8e186\"], [0.8, \"#7fbc41\"], [0.9, \"#4d9221\"], [1, \"#276419\"]], \"sequential\": [[0.0, \"#0d0887\"], [0.1111111111111111, \"#46039f\"], [0.2222222222222222, \"#7201a8\"], [0.3333333333333333, \"#9c179e\"], [0.4444444444444444, \"#bd3786\"], [0.5555555555555556, \"#d8576b\"], [0.6666666666666666, \"#ed7953\"], [0.7777777777777778, \"#fb9f3a\"], [0.8888888888888888, \"#fdca26\"], [1.0, \"#f0f921\"]], \"sequentialminus\": [[0.0, \"#0d0887\"], [0.1111111111111111, \"#46039f\"], [0.2222222222222222, \"#7201a8\"], [0.3333333333333333, \"#9c179e\"], [0.4444444444444444, \"#bd3786\"], [0.5555555555555556, \"#d8576b\"], [0.6666666666666666, \"#ed7953\"], [0.7777777777777778, \"#fb9f3a\"], [0.8888888888888888, \"#fdca26\"], [1.0, \"#f0f921\"]]}, \"colorway\": [\"#636efa\", \"#EF553B\", \"#00cc96\", \"#ab63fa\", \"#FFA15A\", \"#19d3f3\", \"#FF6692\", \"#B6E880\", \"#FF97FF\", \"#FECB52\"], \"font\": {\"color\": \"#2a3f5f\"}, \"geo\": {\"bgcolor\": \"white\", \"lakecolor\": \"white\", \"landcolor\": \"#E5ECF6\", \"showlakes\": true, \"showland\": true, \"subunitcolor\": \"white\"}, \"hoverlabel\": {\"align\": \"left\"}, \"hovermode\": \"closest\", \"mapbox\": {\"style\": \"light\"}, \"paper_bgcolor\": \"white\", \"plot_bgcolor\": \"#E5ECF6\", \"polar\": {\"angularaxis\": {\"gridcolor\": \"white\", \"linecolor\": \"white\", \"ticks\": \"\"}, \"bgcolor\": \"#E5ECF6\", \"radialaxis\": {\"gridcolor\": \"white\", \"linecolor\": \"white\", \"ticks\": \"\"}}, \"scene\": {\"xaxis\": {\"backgroundcolor\": \"#E5ECF6\", \"gridcolor\": \"white\", \"gridwidth\": 2, \"linecolor\": \"white\", \"showbackground\": true, \"ticks\": \"\", \"zerolinecolor\": \"white\"}, \"yaxis\": {\"backgroundcolor\": \"#E5ECF6\", \"gridcolor\": \"white\", \"gridwidth\": 2, \"linecolor\": \"white\", \"showbackground\": true, \"ticks\": \"\", \"zerolinecolor\": \"white\"}, \"zaxis\": {\"backgroundcolor\": \"#E5ECF6\", \"gridcolor\": \"white\", \"gridwidth\": 2, \"linecolor\": \"white\", \"showbackground\": true, \"ticks\": \"\", \"zerolinecolor\": \"white\"}}, \"shapedefaults\": {\"line\": {\"color\": \"#2a3f5f\"}}, \"ternary\": {\"aaxis\": {\"gridcolor\": \"white\", \"linecolor\": \"white\", \"ticks\": \"\"}, \"baxis\": {\"gridcolor\": \"white\", \"linecolor\": \"white\", \"ticks\": \"\"}, \"bgcolor\": \"#E5ECF6\", \"caxis\": {\"gridcolor\": \"white\", \"linecolor\": \"white\", \"ticks\": \"\"}}, \"title\": {\"x\": 0.05}, \"xaxis\": {\"automargin\": true, \"gridcolor\": \"white\", \"linecolor\": \"white\", \"ticks\": \"\", \"title\": {\"standoff\": 15}, \"zerolinecolor\": \"white\", \"zerolinewidth\": 2}, \"yaxis\": {\"automargin\": true, \"gridcolor\": \"white\", \"linecolor\": \"white\", \"ticks\": \"\", \"title\": {\"standoff\": 15}, \"zerolinecolor\": \"white\", \"zerolinewidth\": 2}}}, \"title\": {\"text\": \"\\u039c\\u03b5\\u03c4\\u03ac \\u03c4\\u03b1 100 \\u03c0\\u03c1\\u03ce\\u03c4\\u03b1 \\u03ba\\u03c1\\u03bf\\u03cd\\u03c3\\u03bc\\u03b1\\u03c4\\u03b1 \\u03b1\\u03bd\\u03ac \\u03b7\\u03bc\\u03ad\\u03c1\\u03b1 (\\u03c7\\u03c9\\u03c1\\u03af\\u03c2 \\u03c4\\u03b7\\u03bd \\u039a\\u03af\\u03bd\\u03b1)\"}, \"width\": 750, \"xaxis\": {\"anchor\": \"y\", \"domain\": [0.0, 1.0], \"gridcolor\": \"#F8FAFA\", \"gridwidth\": 0.1, \"linecolor\": \"#F8FAFA\", \"linewidth\": 0.1, \"showgrid\": true, \"showline\": false, \"showticklabels\": true, \"tickvals\": [5, 10, 15, 20, 25, 30, 35, 40, 45], \"title\": {\"font\": {\"color\": \"#114B5F\", \"size\": 11}, \"text\": \"\\u0397\\u03bc\\u03ad\\u03c1\\u03b5\\u03c2 \\u03b1\\u03c0\\u03cc \\u03c4\\u03bf 100\\u03bf \\u03ba\\u03c1\\u03bf\\u03cd\\u03c3\\u03bc\\u03b1\"}}, \"yaxis\": {\"anchor\": \"x\", \"domain\": [0.0, 1.0], \"gridcolor\": \"#F8FAFA\", \"gridwidth\": 0.1, \"linecolor\": \"#BA3A0A\", \"linewidth\": 2, \"nticks\": 4, \"showgrid\": true, \"showline\": true, \"showticklabels\": true, \"title\": {\"font\": {\"color\": \"#114B5F\", \"size\": 11}, \"text\": \"\\u0391\\u03c1\\u03b9\\u03b8\\u03bc\\u03cc\\u03c2 \\u03ba\\u03c1\\u03bf\\u03c5\\u03c3\\u03bc\\u03ac\\u03c4\\u03c9\\u03bd\"}, \"type\": \"log\"}},\n",
       "                        {\"responsive\": true}\n",
       "                    ).then(function(){\n",
       "                            \n",
       "var gd = document.getElementById('cd29cc0f-91b9-4bc0-8d8d-c4ab5dff97ad');\n",
       "var x = new MutationObserver(function (mutations, observer) {{\n",
       "        var display = window.getComputedStyle(gd).display;\n",
       "        if (!display || display === 'none') {{\n",
       "            console.log([gd, 'removed!']);\n",
       "            Plotly.purge(gd);\n",
       "            observer.disconnect();\n",
       "        }}\n",
       "}});\n",
       "\n",
       "// Listen for the removal of the full notebook cells\n",
       "var notebookContainer = gd.closest('#notebook-container');\n",
       "if (notebookContainer) {{\n",
       "    x.observe(notebookContainer, {childList: true});\n",
       "}}\n",
       "\n",
       "// Listen for the clearing of the current output cell\n",
       "var outputEl = gd.closest('.output');\n",
       "if (outputEl) {{\n",
       "    x.observe(outputEl, {childList: true});\n",
       "}}\n",
       "\n",
       "                        })\n",
       "                };\n",
       "                });\n",
       "            </script>\n",
       "        </div>"
      ]
     },
     "metadata": {},
     "output_type": "display_data"
    }
   ],
   "source": [
    "import plotly.express as px\n",
    "import pandas as pd\n",
    "import numpy as np\n",
    "import chart_studio.plotly as py\n",
    "import plotly.tools as tls\n",
    "import plotly.graph_objs as go\n",
    "\n",
    "fig = px.line(df1[(df1['Country/Region']!='China') & \n",
    "                  (df1['Country/Region']!='Diamond Princess') & \n",
    "                  (df1['cases']>=100)],\n",
    "              y=\"cases\",\n",
    "              color='name_x',\n",
    "              hover_data=['name_x'],\n",
    "              labels={'Date':'Ημερομηνία',\n",
    "                    'cases':'Αριθμός Κρουσμάτων',\n",
    "                    'name_x':'Χώρα'},\n",
    "              title='Μετά τα 100 πρώτα κρούσματα ανά ημέρα (χωρίς την Κίνα)',\n",
    "              \n",
    "              line_shape=\"spline\", render_mode=\"svg\",\n",
    "              color_discrete_sequence=px.colors.sequential.ice \n",
    "             )\n",
    "\n",
    "fig.update_layout(paper_bgcolor=\"#E6ECEC\",\n",
    "                 plot_bgcolor=\"#E6ECEC\",\n",
    "                 font=dict(\n",
    "                family=\"Roboto\",\n",
    "                size=11,\n",
    "                color=\"#114B5F\")\n",
    "                 )\n",
    "\n",
    "# fig.update_traces(mode=\"markers+lines\", hovertemplate=None)\n",
    "# fig.update_layout(hovermode=\"x\")\n",
    "fig.update_layout(hovermode=\"closest\",\n",
    "                 hoverlabel=dict(\n",
    "                    bgcolor=\"white\", \n",
    "                    font_size=12, \n",
    "                    font_family=\"Roboto\"),\n",
    "                 hoverlabel_align = 'left',)\n",
    "\n",
    "fig.update_layout(showlegend=True)\n",
    "fig.update_layout(legend_title='',\n",
    "                                         \n",
    "                 legend=dict(\n",
    "#                      θέση του legend\n",
    "#                     x=0,\n",
    "#                     y=1,\n",
    "                    \n",
    "#                      σειρά χωρών reversed, normal, grouped\n",
    "                    traceorder=\"normal\", \n",
    "                    font=dict(\n",
    "                        family=\"roboto\",\n",
    "                        size=10,\n",
    "                        color=\"black\"\n",
    "                    ),\n",
    "                    \n",
    "                    bgcolor=\"LightSteelBlue\",\n",
    "                    bordercolor=\"Black\",\n",
    "                    borderwidth=.3\n",
    "                ))\n",
    "\n",
    "# μέγεθος γραμμής σε κάθε χώρα στο legend, trace/constant\n",
    "fig.update_layout(legend= {'itemsizing': 'constant'})\n",
    "\n",
    "fig.update_yaxes(nticks=4,\n",
    "                ticks=None, col=1,\n",
    "                showticklabels=True,\n",
    "                showline=True,\n",
    "                 linewidth=2,\n",
    "                linecolor='#BA3A0A',\n",
    "                showgrid=True, \n",
    "                 gridwidth=.1, \n",
    "                 gridcolor='#F8FAFA',\n",
    "                title_text = \"Αριθμός κρουσμάτων\",\n",
    "                title_font = {\"size\": 11,\n",
    "                             'color':'#114B5F'},)\n",
    "\n",
    "fig.update_xaxes(tickvals=[5, 10, 15, 20, 25, 30,35,40,45],\n",
    "                ticks=None,\n",
    "                showticklabels=True,\n",
    "                 showline=False,\n",
    "                 linewidth=.1,\n",
    "                linecolor='#F8FAFA',\n",
    "                showgrid=True, \n",
    "                 gridwidth=.1, \n",
    "                 gridcolor='#F8FAFA',\n",
    "                title_text = \"Ημέρες από το 100ο κρούσμα\",\n",
    "                title_font = {\"size\": 11,\n",
    "                             'color':'#114B5F'},\n",
    "                )\n",
    "\n",
    "fig.update_layout(xaxis_showgrid=True, \n",
    "                  yaxis_showgrid=True)\n",
    "\n",
    "\n",
    "fig.update_layout(yaxis_type=\"log\")\n",
    "\n",
    "fig.update_layout(height=500, width=750)\n",
    "\n",
    "fig.show()\n",
    "fig.write_html(\"100cases_on.html\")"
   ]
  },
  {
   "cell_type": "code",
   "execution_count": 14,
   "metadata": {},
   "outputs": [
    {
     "data": {
      "text/plain": [
       "(170,)"
      ]
     },
     "execution_count": 14,
     "metadata": {},
     "output_type": "execute_result"
    }
   ],
   "source": [
    "df1['name_x'].unique().shape"
   ]
  },
  {
   "cell_type": "code",
   "execution_count": 15,
   "metadata": {
    "scrolled": false
   },
   "outputs": [
    {
     "data": {
      "application/vnd.plotly.v1+json": {
       "config": {
        "plotlyServerURL": "https://plot.ly"
       },
       "data": [
        {
         "customdata": [
          0,
          1,
          2,
          3,
          4,
          5,
          6
         ],
         "hovertemplate": "%{y}[%{customdata}] = %{marker.color}<extra></extra>",
         "marker": {
          "color": [
           "rgb(237, 229, 207)",
           "rgb(224, 194, 162)",
           "rgb(211, 156, 131)",
           "rgb(193, 118, 111)",
           "rgb(166, 84, 97)",
           "rgb(129, 55, 83)",
           "rgb(84, 31, 63)"
          ]
         },
         "orientation": "h",
         "type": "bar",
         "x": [
          1,
          1,
          1,
          1,
          1,
          1,
          1
         ],
         "y": [
          "Brwnyl",
          "Brwnyl",
          "Brwnyl",
          "Brwnyl",
          "Brwnyl",
          "Brwnyl",
          "Brwnyl"
         ]
        },
        {
         "customdata": [
          0,
          1,
          2,
          3,
          4,
          5,
          6
         ],
         "hovertemplate": "%{y}[%{customdata}] = %{marker.color}<extra></extra>",
         "marker": {
          "color": [
           "rgb(75, 41, 145)",
           "rgb(135, 44, 162)",
           "rgb(192, 54, 157)",
           "rgb(234, 79, 136)",
           "rgb(250, 120, 118)",
           "rgb(246, 169, 122)",
           "rgb(237, 217, 163)"
          ]
         },
         "orientation": "h",
         "type": "bar",
         "x": [
          1,
          1,
          1,
          1,
          1,
          1,
          1
         ],
         "y": [
          "Agsunset",
          "Agsunset",
          "Agsunset",
          "Agsunset",
          "Agsunset",
          "Agsunset",
          "Agsunset"
         ]
        },
        {
         "customdata": [
          0,
          1,
          2,
          3,
          4,
          5,
          6
         ],
         "hovertemplate": "%{y}[%{customdata}] = %{marker.color}<extra></extra>",
         "marker": {
          "color": [
           "rgb(252, 222, 156)",
           "rgb(250, 164, 118)",
           "rgb(240, 116, 110)",
           "rgb(227, 79, 111)",
           "rgb(220, 57, 119)",
           "rgb(185, 37, 122)",
           "rgb(124, 29, 111)"
          ]
         },
         "orientation": "h",
         "type": "bar",
         "x": [
          1,
          1,
          1,
          1,
          1,
          1,
          1
         ],
         "y": [
          "Sunsetdark",
          "Sunsetdark",
          "Sunsetdark",
          "Sunsetdark",
          "Sunsetdark",
          "Sunsetdark",
          "Sunsetdark"
         ]
        },
        {
         "customdata": [
          0,
          1,
          2,
          3,
          4,
          5,
          6
         ],
         "hovertemplate": "%{y}[%{customdata}] = %{marker.color}<extra></extra>",
         "marker": {
          "color": [
           "rgb(243, 203, 211)",
           "rgb(234, 169, 189)",
           "rgb(221, 136, 172)",
           "rgb(202, 105, 157)",
           "rgb(177, 77, 142)",
           "rgb(145, 53, 125)",
           "rgb(108, 33, 103)"
          ]
         },
         "orientation": "h",
         "type": "bar",
         "x": [
          1,
          1,
          1,
          1,
          1,
          1,
          1
         ],
         "y": [
          "Magenta",
          "Magenta",
          "Magenta",
          "Magenta",
          "Magenta",
          "Magenta",
          "Magenta"
         ]
        },
        {
         "customdata": [
          0,
          1,
          2,
          3,
          4,
          5,
          6
         ],
         "hovertemplate": "%{y}[%{customdata}] = %{marker.color}<extra></extra>",
         "marker": {
          "color": [
           "rgb(243, 231, 155)",
           "rgb(250, 196, 132)",
           "rgb(248, 160, 126)",
           "rgb(235, 127, 134)",
           "rgb(206, 102, 147)",
           "rgb(160, 89, 160)",
           "rgb(92, 83, 165)"
          ]
         },
         "orientation": "h",
         "type": "bar",
         "x": [
          1,
          1,
          1,
          1,
          1,
          1,
          1
         ],
         "y": [
          "Sunset",
          "Sunset",
          "Sunset",
          "Sunset",
          "Sunset",
          "Sunset",
          "Sunset"
         ]
        },
        {
         "customdata": [
          0,
          1,
          2,
          3,
          4,
          5,
          6
         ],
         "hovertemplate": "%{y}[%{customdata}] = %{marker.color}<extra></extra>",
         "marker": {
          "color": [
           "rgb(249, 221, 218)",
           "rgb(242, 185, 196)",
           "rgb(229, 151, 185)",
           "rgb(206, 120, 179)",
           "rgb(173, 95, 173)",
           "rgb(131, 75, 160)",
           "rgb(87, 59, 136)"
          ]
         },
         "orientation": "h",
         "type": "bar",
         "x": [
          1,
          1,
          1,
          1,
          1,
          1,
          1
         ],
         "y": [
          "Purpor",
          "Purpor",
          "Purpor",
          "Purpor",
          "Purpor",
          "Purpor",
          "Purpor"
         ]
        },
        {
         "customdata": [
          0,
          1,
          2,
          3,
          4,
          5,
          6
         ],
         "hovertemplate": "%{y}[%{customdata}] = %{marker.color}<extra></extra>",
         "marker": {
          "color": [
           "rgb(243, 224, 247)",
           "rgb(228, 199, 241)",
           "rgb(209, 175, 232)",
           "rgb(185, 152, 221)",
           "rgb(159, 130, 206)",
           "rgb(130, 109, 186)",
           "rgb(99, 88, 159)"
          ]
         },
         "orientation": "h",
         "type": "bar",
         "x": [
          1,
          1,
          1,
          1,
          1,
          1,
          1
         ],
         "y": [
          "Purp",
          "Purp",
          "Purp",
          "Purp",
          "Purp",
          "Purp",
          "Purp"
         ]
        },
        {
         "customdata": [
          0,
          1,
          2,
          3,
          4,
          5,
          6
         ],
         "hovertemplate": "%{y}[%{customdata}] = %{marker.color}<extra></extra>",
         "marker": {
          "color": [
           "rgb(176, 242, 188)",
           "rgb(137, 232, 172)",
           "rgb(103, 219, 165)",
           "rgb(76, 200, 163)",
           "rgb(56, 178, 163)",
           "rgb(44, 152, 160)",
           "rgb(37, 125, 152)"
          ]
         },
         "orientation": "h",
         "type": "bar",
         "x": [
          1,
          1,
          1,
          1,
          1,
          1,
          1
         ],
         "y": [
          "Tealgrn",
          "Tealgrn",
          "Tealgrn",
          "Tealgrn",
          "Tealgrn",
          "Tealgrn",
          "Tealgrn"
         ]
        },
        {
         "customdata": [
          0,
          1,
          2,
          3,
          4,
          5,
          6
         ],
         "hovertemplate": "%{y}[%{customdata}] = %{marker.color}<extra></extra>",
         "marker": {
          "color": [
           "rgb(209, 238, 234)",
           "rgb(168, 219, 217)",
           "rgb(133, 196, 201)",
           "rgb(104, 171, 184)",
           "rgb(79, 144, 166)",
           "rgb(59, 115, 143)",
           "rgb(42, 86, 116)"
          ]
         },
         "orientation": "h",
         "type": "bar",
         "x": [
          1,
          1,
          1,
          1,
          1,
          1,
          1
         ],
         "y": [
          "Teal",
          "Teal",
          "Teal",
          "Teal",
          "Teal",
          "Teal",
          "Teal"
         ]
        },
        {
         "customdata": [
          0,
          1,
          2,
          3,
          4,
          5,
          6
         ],
         "hovertemplate": "%{y}[%{customdata}] = %{marker.color}<extra></extra>",
         "marker": {
          "color": [
           "rgb(247, 254, 174)",
           "rgb(183, 230, 165)",
           "rgb(124, 203, 162)",
           "rgb(70, 174, 160)",
           "rgb(8, 144, 153)",
           "rgb(0, 113, 139)",
           "rgb(4, 82, 117)"
          ]
         },
         "orientation": "h",
         "type": "bar",
         "x": [
          1,
          1,
          1,
          1,
          1,
          1,
          1
         ],
         "y": [
          "Bluyl",
          "Bluyl",
          "Bluyl",
          "Bluyl",
          "Bluyl",
          "Bluyl",
          "Bluyl"
         ]
        },
        {
         "customdata": [
          0,
          1,
          2,
          3,
          4,
          5,
          6
         ],
         "hovertemplate": "%{y}[%{customdata}] = %{marker.color}<extra></extra>",
         "marker": {
          "color": [
           "rgb(36, 86, 104)",
           "rgb(15, 114, 121)",
           "rgb(13, 143, 129)",
           "rgb(57, 171, 126)",
           "rgb(110, 197, 116)",
           "rgb(169, 220, 103)",
           "rgb(237, 239, 93)"
          ]
         },
         "orientation": "h",
         "type": "bar",
         "x": [
          1,
          1,
          1,
          1,
          1,
          1,
          1
         ],
         "y": [
          "Aggrnyl",
          "Aggrnyl",
          "Aggrnyl",
          "Aggrnyl",
          "Aggrnyl",
          "Aggrnyl",
          "Aggrnyl"
         ]
        },
        {
         "customdata": [
          0,
          1,
          2,
          3,
          4,
          5,
          6
         ],
         "hovertemplate": "%{y}[%{customdata}] = %{marker.color}<extra></extra>",
         "marker": {
          "color": [
           "rgb(211, 242, 163)",
           "rgb(151, 225, 150)",
           "rgb(108, 192, 139)",
           "rgb(76, 155, 130)",
           "rgb(33, 122, 121)",
           "rgb(16, 89, 101)",
           "rgb(7, 64, 80)"
          ]
         },
         "orientation": "h",
         "type": "bar",
         "x": [
          1,
          1,
          1,
          1,
          1,
          1,
          1
         ],
         "y": [
          "Emrld",
          "Emrld",
          "Emrld",
          "Emrld",
          "Emrld",
          "Emrld",
          "Emrld"
         ]
        },
        {
         "customdata": [
          0,
          1,
          2,
          3,
          4,
          5,
          6
         ],
         "hovertemplate": "%{y}[%{customdata}] = %{marker.color}<extra></extra>",
         "marker": {
          "color": [
           "rgb(210, 251, 212)",
           "rgb(165, 219, 194)",
           "rgb(123, 188, 176)",
           "rgb(85, 156, 158)",
           "rgb(58, 124, 137)",
           "rgb(35, 93, 114)",
           "rgb(18, 63, 90)"
          ]
         },
         "orientation": "h",
         "type": "bar",
         "x": [
          1,
          1,
          1,
          1,
          1,
          1,
          1
         ],
         "y": [
          "Darkmint",
          "Darkmint",
          "Darkmint",
          "Darkmint",
          "Darkmint",
          "Darkmint",
          "Darkmint"
         ]
        },
        {
         "customdata": [
          0,
          1,
          2,
          3,
          4,
          5,
          6
         ],
         "hovertemplate": "%{y}[%{customdata}] = %{marker.color}<extra></extra>",
         "marker": {
          "color": [
           "rgb(196, 230, 195)",
           "rgb(150, 210, 164)",
           "rgb(109, 188, 144)",
           "rgb(77, 162, 132)",
           "rgb(54, 135, 122)",
           "rgb(38, 107, 110)",
           "rgb(29, 79, 96)"
          ]
         },
         "orientation": "h",
         "type": "bar",
         "x": [
          1,
          1,
          1,
          1,
          1,
          1,
          1
         ],
         "y": [
          "Blugrn",
          "Blugrn",
          "Blugrn",
          "Blugrn",
          "Blugrn",
          "Blugrn",
          "Blugrn"
         ]
        },
        {
         "customdata": [
          0,
          1,
          2,
          3,
          4,
          5,
          6
         ],
         "hovertemplate": "%{y}[%{customdata}] = %{marker.color}<extra></extra>",
         "marker": {
          "color": [
           "rgb(228, 241, 225)",
           "rgb(180, 217, 204)",
           "rgb(137, 192, 182)",
           "rgb(99, 166, 160)",
           "rgb(68, 140, 138)",
           "rgb(40, 114, 116)",
           "rgb(13, 88, 95)"
          ]
         },
         "orientation": "h",
         "type": "bar",
         "x": [
          1,
          1,
          1,
          1,
          1,
          1,
          1
         ],
         "y": [
          "Mint",
          "Mint",
          "Mint",
          "Mint",
          "Mint",
          "Mint",
          "Mint"
         ]
        },
        {
         "customdata": [
          0,
          1,
          2,
          3,
          4,
          5,
          6
         ],
         "hovertemplate": "%{y}[%{customdata}] = %{marker.color}<extra></extra>",
         "marker": {
          "color": [
           "rgb(254, 246, 181)",
           "rgb(255, 221, 154)",
           "rgb(255, 194, 133)",
           "rgb(255, 166, 121)",
           "rgb(250, 138, 118)",
           "rgb(241, 109, 122)",
           "rgb(225, 83, 131)"
          ]
         },
         "orientation": "h",
         "type": "bar",
         "x": [
          1,
          1,
          1,
          1,
          1,
          1,
          1
         ],
         "y": [
          "Pinkyl",
          "Pinkyl",
          "Pinkyl",
          "Pinkyl",
          "Pinkyl",
          "Pinkyl",
          "Pinkyl"
         ]
        },
        {
         "customdata": [
          0,
          1,
          2,
          3,
          4,
          5,
          6
         ],
         "hovertemplate": "%{y}[%{customdata}] = %{marker.color}<extra></extra>",
         "marker": {
          "color": [
           "rgb(253, 224, 197)",
           "rgb(250, 203, 166)",
           "rgb(248, 181, 139)",
           "rgb(245, 158, 114)",
           "rgb(242, 133, 93)",
           "rgb(239, 106, 76)",
           "rgb(235, 74, 64)"
          ]
         },
         "orientation": "h",
         "type": "bar",
         "x": [
          1,
          1,
          1,
          1,
          1,
          1,
          1
         ],
         "y": [
          "Peach",
          "Peach",
          "Peach",
          "Peach",
          "Peach",
          "Peach",
          "Peach"
         ]
        },
        {
         "customdata": [
          0,
          1,
          2,
          3,
          4,
          5,
          6
         ],
         "hovertemplate": "%{y}[%{customdata}] = %{marker.color}<extra></extra>",
         "marker": {
          "color": [
           "rgb(236, 218, 154)",
           "rgb(239, 196, 126)",
           "rgb(243, 173, 106)",
           "rgb(247, 148, 93)",
           "rgb(249, 123, 87)",
           "rgb(246, 99, 86)",
           "rgb(238, 77, 90)"
          ]
         },
         "orientation": "h",
         "type": "bar",
         "x": [
          1,
          1,
          1,
          1,
          1,
          1,
          1
         ],
         "y": [
          "Oryel",
          "Oryel",
          "Oryel",
          "Oryel",
          "Oryel",
          "Oryel",
          "Oryel"
         ]
        },
        {
         "customdata": [
          0,
          1,
          2,
          3,
          4,
          5,
          6
         ],
         "hovertemplate": "%{y}[%{customdata}] = %{marker.color}<extra></extra>",
         "marker": {
          "color": [
           "rgb(246, 210, 169)",
           "rgb(245, 183, 142)",
           "rgb(241, 156, 124)",
           "rgb(234, 129, 113)",
           "rgb(221, 104, 108)",
           "rgb(202, 82, 104)",
           "rgb(177, 63, 100)"
          ]
         },
         "orientation": "h",
         "type": "bar",
         "x": [
          1,
          1,
          1,
          1,
          1,
          1,
          1
         ],
         "y": [
          "Redor",
          "Redor",
          "Redor",
          "Redor",
          "Redor",
          "Redor",
          "Redor"
         ]
        },
        {
         "customdata": [
          0,
          1,
          2,
          3,
          4,
          5,
          6
         ],
         "hovertemplate": "%{y}[%{customdata}] = %{marker.color}<extra></extra>",
         "marker": {
          "color": [
           "rgb(251, 230, 197)",
           "rgb(245, 186, 152)",
           "rgb(238, 138, 130)",
           "rgb(220, 113, 118)",
           "rgb(200, 88, 108)",
           "rgb(156, 63, 93)",
           "rgb(112, 40, 74)"
          ]
         },
         "orientation": "h",
         "type": "bar",
         "x": [
          1,
          1,
          1,
          1,
          1,
          1,
          1
         ],
         "y": [
          "Burgyl",
          "Burgyl",
          "Burgyl",
          "Burgyl",
          "Burgyl",
          "Burgyl",
          "Burgyl"
         ]
        },
        {
         "customdata": [
          0,
          1,
          2,
          3,
          4,
          5,
          6
         ],
         "hovertemplate": "%{y}[%{customdata}] = %{marker.color}<extra></extra>",
         "marker": {
          "color": [
           "rgb(255, 198, 196)",
           "rgb(244, 163, 168)",
           "rgb(227, 129, 145)",
           "rgb(204, 96, 125)",
           "rgb(173, 70, 108)",
           "rgb(139, 48, 88)",
           "rgb(103, 32, 68)"
          ]
         },
         "orientation": "h",
         "type": "bar",
         "x": [
          1,
          1,
          1,
          1,
          1,
          1,
          1
         ],
         "y": [
          "Burg",
          "Burg",
          "Burg",
          "Burg",
          "Burg",
          "Burg",
          "Burg"
         ]
        },
        {
         "customdata": [
          0,
          1,
          2,
          3,
          4,
          5,
          6,
          7,
          8,
          9,
          10,
          11
         ],
         "hovertemplate": "%{y}[%{customdata}] = %{marker.color}<extra></extra>",
         "marker": {
          "color": [
           "rgb(254, 245, 244)",
           "rgb(222, 224, 210)",
           "rgb(189, 206, 181)",
           "rgb(153, 189, 156)",
           "rgb(110, 173, 138)",
           "rgb(65, 157, 129)",
           "rgb(25, 137, 125)",
           "rgb(18, 116, 117)",
           "rgb(25, 94, 106)",
           "rgb(28, 72, 93)",
           "rgb(25, 51, 80)",
           "rgb(20, 29, 67)"
          ]
         },
         "orientation": "h",
         "type": "bar",
         "x": [
          1,
          1,
          1,
          1,
          1,
          1,
          1,
          1,
          1,
          1,
          1,
          1
         ],
         "y": [
          "tempo",
          "tempo",
          "tempo",
          "tempo",
          "tempo",
          "tempo",
          "tempo",
          "tempo",
          "tempo",
          "tempo",
          "tempo",
          "tempo"
         ]
        },
        {
         "customdata": [
          0,
          1,
          2,
          3,
          4,
          5,
          6,
          7,
          8,
          9,
          10,
          11
         ],
         "hovertemplate": "%{y}[%{customdata}] = %{marker.color}<extra></extra>",
         "marker": {
          "color": [
           "rgb(241, 236, 236)",
           "rgb(230, 209, 203)",
           "rgb(221, 182, 170)",
           "rgb(213, 156, 137)",
           "rgb(205, 129, 103)",
           "rgb(196, 102, 73)",
           "rgb(186, 74, 47)",
           "rgb(172, 44, 36)",
           "rgb(149, 19, 39)",
           "rgb(120, 14, 40)",
           "rgb(89, 13, 31)",
           "rgb(60, 9, 17)"
          ]
         },
         "orientation": "h",
         "type": "bar",
         "x": [
          1,
          1,
          1,
          1,
          1,
          1,
          1,
          1,
          1,
          1,
          1,
          1
         ],
         "y": [
          "amp",
          "amp",
          "amp",
          "amp",
          "amp",
          "amp",
          "amp",
          "amp",
          "amp",
          "amp",
          "amp",
          "amp"
         ]
        },
        {
         "customdata": [
          0,
          1,
          2,
          3,
          4,
          5,
          6,
          7,
          8,
          9,
          10,
          11
         ],
         "hovertemplate": "%{y}[%{customdata}] = %{marker.color}<extra></extra>",
         "marker": {
          "color": [
           "rgb(254, 252, 205)",
           "rgb(239, 225, 156)",
           "rgb(221, 201, 106)",
           "rgb(194, 182, 59)",
           "rgb(157, 167, 21)",
           "rgb(116, 153, 5)",
           "rgb(75, 138, 20)",
           "rgb(35, 121, 36)",
           "rgb(11, 100, 44)",
           "rgb(18, 78, 43)",
           "rgb(25, 56, 34)",
           "rgb(23, 35, 18)"
          ]
         },
         "orientation": "h",
         "type": "bar",
         "x": [
          1,
          1,
          1,
          1,
          1,
          1,
          1,
          1,
          1,
          1,
          1,
          1
         ],
         "y": [
          "speed",
          "speed",
          "speed",
          "speed",
          "speed",
          "speed",
          "speed",
          "speed",
          "speed",
          "speed",
          "speed",
          "speed"
         ]
        },
        {
         "customdata": [
          0,
          1,
          2,
          3,
          4,
          5,
          6,
          7,
          8,
          9,
          10,
          11
         ],
         "hovertemplate": "%{y}[%{customdata}] = %{marker.color}<extra></extra>",
         "marker": {
          "color": [
           "rgb(253, 237, 176)",
           "rgb(250, 205, 145)",
           "rgb(246, 173, 119)",
           "rgb(240, 142, 98)",
           "rgb(231, 109, 84)",
           "rgb(216, 80, 83)",
           "rgb(195, 56, 90)",
           "rgb(168, 40, 96)",
           "rgb(138, 29, 99)",
           "rgb(107, 24, 93)",
           "rgb(76, 21, 80)",
           "rgb(47, 15, 61)"
          ]
         },
         "orientation": "h",
         "type": "bar",
         "x": [
          1,
          1,
          1,
          1,
          1,
          1,
          1,
          1,
          1,
          1,
          1,
          1
         ],
         "y": [
          "matter",
          "matter",
          "matter",
          "matter",
          "matter",
          "matter",
          "matter",
          "matter",
          "matter",
          "matter",
          "matter",
          "matter"
         ]
        },
        {
         "customdata": [
          0,
          1,
          2,
          3,
          4,
          5,
          6,
          7,
          8,
          9,
          10,
          11
         ],
         "hovertemplate": "%{y}[%{customdata}] = %{marker.color}<extra></extra>",
         "marker": {
          "color": [
           "rgb(214, 249, 207)",
           "rgb(186, 228, 174)",
           "rgb(156, 209, 143)",
           "rgb(124, 191, 115)",
           "rgb(85, 174, 91)",
           "rgb(37, 157, 81)",
           "rgb(7, 138, 78)",
           "rgb(13, 117, 71)",
           "rgb(23, 95, 61)",
           "rgb(25, 75, 49)",
           "rgb(23, 55, 35)",
           "rgb(17, 36, 20)"
          ]
         },
         "orientation": "h",
         "type": "bar",
         "x": [
          1,
          1,
          1,
          1,
          1,
          1,
          1,
          1,
          1,
          1,
          1,
          1
         ],
         "y": [
          "algae",
          "algae",
          "algae",
          "algae",
          "algae",
          "algae",
          "algae",
          "algae",
          "algae",
          "algae",
          "algae",
          "algae"
         ]
        },
        {
         "customdata": [
          0,
          1,
          2,
          3,
          4,
          5,
          6,
          7,
          8,
          9,
          10,
          11
         ],
         "hovertemplate": "%{y}[%{customdata}] = %{marker.color}<extra></extra>",
         "marker": {
          "color": [
           "rgb(230, 240, 240)",
           "rgb(191, 221, 229)",
           "rgb(156, 201, 226)",
           "rgb(129, 180, 227)",
           "rgb(115, 154, 228)",
           "rgb(117, 127, 221)",
           "rgb(120, 100, 202)",
           "rgb(119, 74, 175)",
           "rgb(113, 50, 141)",
           "rgb(100, 31, 104)",
           "rgb(80, 20, 66)",
           "rgb(54, 14, 36)"
          ]
         },
         "orientation": "h",
         "type": "bar",
         "x": [
          1,
          1,
          1,
          1,
          1,
          1,
          1,
          1,
          1,
          1,
          1,
          1
         ],
         "y": [
          "dense",
          "dense",
          "dense",
          "dense",
          "dense",
          "dense",
          "dense",
          "dense",
          "dense",
          "dense",
          "dense",
          "dense"
         ]
        },
        {
         "customdata": [
          0,
          1,
          2,
          3,
          4,
          5,
          6,
          7,
          8,
          9,
          10,
          11
         ],
         "hovertemplate": "%{y}[%{customdata}] = %{marker.color}<extra></extra>",
         "marker": {
          "color": [
           "rgb(253, 253, 204)",
           "rgb(206, 236, 179)",
           "rgb(156, 219, 165)",
           "rgb(111, 201, 163)",
           "rgb(86, 177, 163)",
           "rgb(76, 153, 160)",
           "rgb(68, 130, 155)",
           "rgb(62, 108, 150)",
           "rgb(62, 82, 143)",
           "rgb(64, 60, 115)",
           "rgb(54, 43, 77)",
           "rgb(39, 26, 44)"
          ]
         },
         "orientation": "h",
         "type": "bar",
         "x": [
          1,
          1,
          1,
          1,
          1,
          1,
          1,
          1,
          1,
          1,
          1,
          1
         ],
         "y": [
          "deep",
          "deep",
          "deep",
          "deep",
          "deep",
          "deep",
          "deep",
          "deep",
          "deep",
          "deep",
          "deep",
          "deep"
         ]
        },
        {
         "customdata": [
          0,
          1,
          2,
          3,
          4,
          5,
          6,
          7,
          8,
          9,
          10,
          11
         ],
         "hovertemplate": "%{y}[%{customdata}] = %{marker.color}<extra></extra>",
         "marker": {
          "color": [
           "rgb(0, 0, 0)",
           "rgb(16, 16, 16)",
           "rgb(38, 38, 38)",
           "rgb(59, 59, 59)",
           "rgb(81, 80, 80)",
           "rgb(102, 101, 101)",
           "rgb(124, 123, 122)",
           "rgb(146, 146, 145)",
           "rgb(171, 171, 170)",
           "rgb(197, 197, 195)",
           "rgb(224, 224, 223)",
           "rgb(254, 254, 253)"
          ]
         },
         "orientation": "h",
         "type": "bar",
         "x": [
          1,
          1,
          1,
          1,
          1,
          1,
          1,
          1,
          1,
          1,
          1,
          1
         ],
         "y": [
          "gray",
          "gray",
          "gray",
          "gray",
          "gray",
          "gray",
          "gray",
          "gray",
          "gray",
          "gray",
          "gray",
          "gray"
         ]
        },
        {
         "customdata": [
          0,
          1,
          2,
          3,
          4,
          5,
          6,
          7,
          8,
          9,
          10,
          11
         ],
         "hovertemplate": "%{y}[%{customdata}] = %{marker.color}<extra></extra>",
         "marker": {
          "color": [
           "rgb(3, 5, 18)",
           "rgb(25, 25, 51)",
           "rgb(44, 42, 87)",
           "rgb(58, 60, 125)",
           "rgb(62, 83, 160)",
           "rgb(62, 109, 178)",
           "rgb(72, 134, 187)",
           "rgb(89, 159, 196)",
           "rgb(114, 184, 205)",
           "rgb(149, 207, 216)",
           "rgb(192, 229, 232)",
           "rgb(234, 252, 253)"
          ]
         },
         "orientation": "h",
         "type": "bar",
         "x": [
          1,
          1,
          1,
          1,
          1,
          1,
          1,
          1,
          1,
          1,
          1,
          1
         ],
         "y": [
          "ice",
          "ice",
          "ice",
          "ice",
          "ice",
          "ice",
          "ice",
          "ice",
          "ice",
          "ice",
          "ice",
          "ice"
         ]
        },
        {
         "customdata": [
          0,
          1,
          2,
          3,
          4,
          5,
          6,
          7,
          8,
          9,
          10,
          11
         ],
         "hovertemplate": "%{y}[%{customdata}] = %{marker.color}<extra></extra>",
         "marker": {
          "color": [
           "rgb(51, 19, 23)",
           "rgb(79, 28, 33)",
           "rgb(108, 36, 36)",
           "rgb(135, 47, 32)",
           "rgb(157, 66, 25)",
           "rgb(174, 88, 20)",
           "rgb(188, 111, 19)",
           "rgb(199, 137, 22)",
           "rgb(209, 164, 32)",
           "rgb(217, 192, 44)",
           "rgb(222, 222, 59)",
           "rgb(224, 253, 74)"
          ]
         },
         "orientation": "h",
         "type": "bar",
         "x": [
          1,
          1,
          1,
          1,
          1,
          1,
          1,
          1,
          1,
          1,
          1,
          1
         ],
         "y": [
          "solar",
          "solar",
          "solar",
          "solar",
          "solar",
          "solar",
          "solar",
          "solar",
          "solar",
          "solar",
          "solar",
          "solar"
         ]
        },
        {
         "customdata": [
          0,
          1,
          2,
          3,
          4,
          5,
          6,
          7,
          8,
          9,
          10,
          11
         ],
         "hovertemplate": "%{y}[%{customdata}] = %{marker.color}<extra></extra>",
         "marker": {
          "color": [
           "rgb(41, 24, 107)",
           "rgb(42, 35, 160)",
           "rgb(15, 71, 153)",
           "rgb(18, 95, 142)",
           "rgb(38, 116, 137)",
           "rgb(53, 136, 136)",
           "rgb(65, 157, 133)",
           "rgb(81, 178, 124)",
           "rgb(111, 198, 107)",
           "rgb(160, 214, 91)",
           "rgb(212, 225, 112)",
           "rgb(253, 238, 153)"
          ]
         },
         "orientation": "h",
         "type": "bar",
         "x": [
          1,
          1,
          1,
          1,
          1,
          1,
          1,
          1,
          1,
          1,
          1,
          1
         ],
         "y": [
          "haline",
          "haline",
          "haline",
          "haline",
          "haline",
          "haline",
          "haline",
          "haline",
          "haline",
          "haline",
          "haline",
          "haline"
         ]
        },
        {
         "customdata": [
          0,
          1,
          2,
          3,
          4,
          5,
          6,
          7,
          8,
          9,
          10,
          11
         ],
         "hovertemplate": "%{y}[%{customdata}] = %{marker.color}<extra></extra>",
         "marker": {
          "color": [
           "rgb(3, 35, 51)",
           "rgb(13, 48, 100)",
           "rgb(53, 50, 155)",
           "rgb(93, 62, 153)",
           "rgb(126, 77, 143)",
           "rgb(158, 89, 135)",
           "rgb(193, 100, 121)",
           "rgb(225, 113, 97)",
           "rgb(246, 139, 69)",
           "rgb(251, 173, 60)",
           "rgb(246, 211, 70)",
           "rgb(231, 250, 90)"
          ]
         },
         "orientation": "h",
         "type": "bar",
         "x": [
          1,
          1,
          1,
          1,
          1,
          1,
          1,
          1,
          1,
          1,
          1,
          1
         ],
         "y": [
          "thermal",
          "thermal",
          "thermal",
          "thermal",
          "thermal",
          "thermal",
          "thermal",
          "thermal",
          "thermal",
          "thermal",
          "thermal",
          "thermal"
         ]
        },
        {
         "customdata": [
          0,
          1,
          2,
          3,
          4,
          5,
          6,
          7,
          8,
          9,
          10,
          11
         ],
         "hovertemplate": "%{y}[%{customdata}] = %{marker.color}<extra></extra>",
         "marker": {
          "color": [
           "rgb(232, 245, 171)",
           "rgb(220, 219, 137)",
           "rgb(209, 193, 107)",
           "rgb(199, 168, 83)",
           "rgb(186, 143, 66)",
           "rgb(170, 121, 60)",
           "rgb(151, 103, 58)",
           "rgb(129, 87, 56)",
           "rgb(104, 72, 53)",
           "rgb(80, 59, 46)",
           "rgb(57, 45, 37)",
           "rgb(34, 30, 27)"
          ]
         },
         "orientation": "h",
         "type": "bar",
         "x": [
          1,
          1,
          1,
          1,
          1,
          1,
          1,
          1,
          1,
          1,
          1,
          1
         ],
         "y": [
          "turbid",
          "turbid",
          "turbid",
          "turbid",
          "turbid",
          "turbid",
          "turbid",
          "turbid",
          "turbid",
          "turbid",
          "turbid",
          "turbid"
         ]
        },
        {
         "customdata": [
          0,
          1,
          2,
          3,
          4,
          5,
          6,
          7,
          8
         ],
         "hovertemplate": "%{y}[%{customdata}] = %{marker.color}<extra></extra>",
         "marker": {
          "color": [
           "rgb(255,255,204)",
           "rgb(255,237,160)",
           "rgb(254,217,118)",
           "rgb(254,178,76)",
           "rgb(253,141,60)",
           "rgb(252,78,42)",
           "rgb(227,26,28)",
           "rgb(189,0,38)",
           "rgb(128,0,38)"
          ]
         },
         "orientation": "h",
         "type": "bar",
         "x": [
          1,
          1,
          1,
          1,
          1,
          1,
          1,
          1,
          1
         ],
         "y": [
          "YlOrRd",
          "YlOrRd",
          "YlOrRd",
          "YlOrRd",
          "YlOrRd",
          "YlOrRd",
          "YlOrRd",
          "YlOrRd",
          "YlOrRd"
         ]
        },
        {
         "customdata": [
          0,
          1,
          2,
          3,
          4,
          5,
          6,
          7,
          8
         ],
         "hovertemplate": "%{y}[%{customdata}] = %{marker.color}<extra></extra>",
         "marker": {
          "color": [
           "rgb(255,255,229)",
           "rgb(255,247,188)",
           "rgb(254,227,145)",
           "rgb(254,196,79)",
           "rgb(254,153,41)",
           "rgb(236,112,20)",
           "rgb(204,76,2)",
           "rgb(153,52,4)",
           "rgb(102,37,6)"
          ]
         },
         "orientation": "h",
         "type": "bar",
         "x": [
          1,
          1,
          1,
          1,
          1,
          1,
          1,
          1,
          1
         ],
         "y": [
          "YlOrBr",
          "YlOrBr",
          "YlOrBr",
          "YlOrBr",
          "YlOrBr",
          "YlOrBr",
          "YlOrBr",
          "YlOrBr",
          "YlOrBr"
         ]
        },
        {
         "customdata": [
          0,
          1,
          2,
          3,
          4,
          5,
          6,
          7,
          8
         ],
         "hovertemplate": "%{y}[%{customdata}] = %{marker.color}<extra></extra>",
         "marker": {
          "color": [
           "rgb(255,255,217)",
           "rgb(237,248,177)",
           "rgb(199,233,180)",
           "rgb(127,205,187)",
           "rgb(65,182,196)",
           "rgb(29,145,192)",
           "rgb(34,94,168)",
           "rgb(37,52,148)",
           "rgb(8,29,88)"
          ]
         },
         "orientation": "h",
         "type": "bar",
         "x": [
          1,
          1,
          1,
          1,
          1,
          1,
          1,
          1,
          1
         ],
         "y": [
          "YlGnBu",
          "YlGnBu",
          "YlGnBu",
          "YlGnBu",
          "YlGnBu",
          "YlGnBu",
          "YlGnBu",
          "YlGnBu",
          "YlGnBu"
         ]
        },
        {
         "customdata": [
          0,
          1,
          2,
          3,
          4,
          5,
          6,
          7,
          8
         ],
         "hovertemplate": "%{y}[%{customdata}] = %{marker.color}<extra></extra>",
         "marker": {
          "color": [
           "rgb(255,255,229)",
           "rgb(247,252,185)",
           "rgb(217,240,163)",
           "rgb(173,221,142)",
           "rgb(120,198,121)",
           "rgb(65,171,93)",
           "rgb(35,132,67)",
           "rgb(0,104,55)",
           "rgb(0,69,41)"
          ]
         },
         "orientation": "h",
         "type": "bar",
         "x": [
          1,
          1,
          1,
          1,
          1,
          1,
          1,
          1,
          1
         ],
         "y": [
          "YlGn",
          "YlGn",
          "YlGn",
          "YlGn",
          "YlGn",
          "YlGn",
          "YlGn",
          "YlGn",
          "YlGn"
         ]
        },
        {
         "customdata": [
          0,
          1,
          2,
          3,
          4,
          5,
          6,
          7,
          8
         ],
         "hovertemplate": "%{y}[%{customdata}] = %{marker.color}<extra></extra>",
         "marker": {
          "color": [
           "rgb(255,245,240)",
           "rgb(254,224,210)",
           "rgb(252,187,161)",
           "rgb(252,146,114)",
           "rgb(251,106,74)",
           "rgb(239,59,44)",
           "rgb(203,24,29)",
           "rgb(165,15,21)",
           "rgb(103,0,13)"
          ]
         },
         "orientation": "h",
         "type": "bar",
         "x": [
          1,
          1,
          1,
          1,
          1,
          1,
          1,
          1,
          1
         ],
         "y": [
          "Reds",
          "Reds",
          "Reds",
          "Reds",
          "Reds",
          "Reds",
          "Reds",
          "Reds",
          "Reds"
         ]
        },
        {
         "customdata": [
          0,
          1,
          2,
          3,
          4,
          5,
          6,
          7,
          8
         ],
         "hovertemplate": "%{y}[%{customdata}] = %{marker.color}<extra></extra>",
         "marker": {
          "color": [
           "rgb(255,247,243)",
           "rgb(253,224,221)",
           "rgb(252,197,192)",
           "rgb(250,159,181)",
           "rgb(247,104,161)",
           "rgb(221,52,151)",
           "rgb(174,1,126)",
           "rgb(122,1,119)",
           "rgb(73,0,106)"
          ]
         },
         "orientation": "h",
         "type": "bar",
         "x": [
          1,
          1,
          1,
          1,
          1,
          1,
          1,
          1,
          1
         ],
         "y": [
          "RdPu",
          "RdPu",
          "RdPu",
          "RdPu",
          "RdPu",
          "RdPu",
          "RdPu",
          "RdPu",
          "RdPu"
         ]
        },
        {
         "customdata": [
          0,
          1,
          2,
          3,
          4,
          5,
          6,
          7,
          8,
          9,
          10
         ],
         "hovertemplate": "%{y}[%{customdata}] = %{marker.color}<extra></extra>",
         "marker": {
          "color": [
           "rgb(103,0,31)",
           "rgb(178,24,43)",
           "rgb(214,96,77)",
           "rgb(244,165,130)",
           "rgb(253,219,199)",
           "rgb(247,247,247)",
           "rgb(209,229,240)",
           "rgb(146,197,222)",
           "rgb(67,147,195)",
           "rgb(33,102,172)",
           "rgb(5,48,97)"
          ]
         },
         "orientation": "h",
         "type": "bar",
         "x": [
          1,
          1,
          1,
          1,
          1,
          1,
          1,
          1,
          1,
          1,
          1
         ],
         "y": [
          "RdBu",
          "RdBu",
          "RdBu",
          "RdBu",
          "RdBu",
          "RdBu",
          "RdBu",
          "RdBu",
          "RdBu",
          "RdBu",
          "RdBu"
         ]
        },
        {
         "customdata": [
          0,
          1,
          2,
          3,
          4,
          5,
          6,
          7,
          8
         ],
         "hovertemplate": "%{y}[%{customdata}] = %{marker.color}<extra></extra>",
         "marker": {
          "color": [
           "rgb(252,251,253)",
           "rgb(239,237,245)",
           "rgb(218,218,235)",
           "rgb(188,189,220)",
           "rgb(158,154,200)",
           "rgb(128,125,186)",
           "rgb(106,81,163)",
           "rgb(84,39,143)",
           "rgb(63,0,125)"
          ]
         },
         "orientation": "h",
         "type": "bar",
         "x": [
          1,
          1,
          1,
          1,
          1,
          1,
          1,
          1,
          1
         ],
         "y": [
          "Purples",
          "Purples",
          "Purples",
          "Purples",
          "Purples",
          "Purples",
          "Purples",
          "Purples",
          "Purples"
         ]
        },
        {
         "customdata": [
          0,
          1,
          2,
          3,
          4,
          5,
          6,
          7,
          8
         ],
         "hovertemplate": "%{y}[%{customdata}] = %{marker.color}<extra></extra>",
         "marker": {
          "color": [
           "rgb(247,244,249)",
           "rgb(231,225,239)",
           "rgb(212,185,218)",
           "rgb(201,148,199)",
           "rgb(223,101,176)",
           "rgb(231,41,138)",
           "rgb(206,18,86)",
           "rgb(152,0,67)",
           "rgb(103,0,31)"
          ]
         },
         "orientation": "h",
         "type": "bar",
         "x": [
          1,
          1,
          1,
          1,
          1,
          1,
          1,
          1,
          1
         ],
         "y": [
          "PuRd",
          "PuRd",
          "PuRd",
          "PuRd",
          "PuRd",
          "PuRd",
          "PuRd",
          "PuRd",
          "PuRd"
         ]
        },
        {
         "customdata": [
          0,
          1,
          2,
          3,
          4,
          5,
          6,
          7,
          8
         ],
         "hovertemplate": "%{y}[%{customdata}] = %{marker.color}<extra></extra>",
         "marker": {
          "color": [
           "rgb(255,247,251)",
           "rgb(236,226,240)",
           "rgb(208,209,230)",
           "rgb(166,189,219)",
           "rgb(103,169,207)",
           "rgb(54,144,192)",
           "rgb(2,129,138)",
           "rgb(1,108,89)",
           "rgb(1,70,54)"
          ]
         },
         "orientation": "h",
         "type": "bar",
         "x": [
          1,
          1,
          1,
          1,
          1,
          1,
          1,
          1,
          1
         ],
         "y": [
          "PuBuGn",
          "PuBuGn",
          "PuBuGn",
          "PuBuGn",
          "PuBuGn",
          "PuBuGn",
          "PuBuGn",
          "PuBuGn",
          "PuBuGn"
         ]
        },
        {
         "customdata": [
          0,
          1,
          2,
          3,
          4,
          5,
          6,
          7,
          8
         ],
         "hovertemplate": "%{y}[%{customdata}] = %{marker.color}<extra></extra>",
         "marker": {
          "color": [
           "rgb(255,247,251)",
           "rgb(236,231,242)",
           "rgb(208,209,230)",
           "rgb(166,189,219)",
           "rgb(116,169,207)",
           "rgb(54,144,192)",
           "rgb(5,112,176)",
           "rgb(4,90,141)",
           "rgb(2,56,88)"
          ]
         },
         "orientation": "h",
         "type": "bar",
         "x": [
          1,
          1,
          1,
          1,
          1,
          1,
          1,
          1,
          1
         ],
         "y": [
          "PuBu",
          "PuBu",
          "PuBu",
          "PuBu",
          "PuBu",
          "PuBu",
          "PuBu",
          "PuBu",
          "PuBu"
         ]
        },
        {
         "customdata": [
          0,
          1,
          2,
          3,
          4,
          5,
          6,
          7,
          8
         ],
         "hovertemplate": "%{y}[%{customdata}] = %{marker.color}<extra></extra>",
         "marker": {
          "color": [
           "rgb(255,245,235)",
           "rgb(254,230,206)",
           "rgb(253,208,162)",
           "rgb(253,174,107)",
           "rgb(253,141,60)",
           "rgb(241,105,19)",
           "rgb(217,72,1)",
           "rgb(166,54,3)",
           "rgb(127,39,4)"
          ]
         },
         "orientation": "h",
         "type": "bar",
         "x": [
          1,
          1,
          1,
          1,
          1,
          1,
          1,
          1,
          1
         ],
         "y": [
          "Oranges",
          "Oranges",
          "Oranges",
          "Oranges",
          "Oranges",
          "Oranges",
          "Oranges",
          "Oranges",
          "Oranges"
         ]
        },
        {
         "customdata": [
          0,
          1,
          2,
          3,
          4,
          5,
          6,
          7,
          8
         ],
         "hovertemplate": "%{y}[%{customdata}] = %{marker.color}<extra></extra>",
         "marker": {
          "color": [
           "rgb(255,247,236)",
           "rgb(254,232,200)",
           "rgb(253,212,158)",
           "rgb(253,187,132)",
           "rgb(252,141,89)",
           "rgb(239,101,72)",
           "rgb(215,48,31)",
           "rgb(179,0,0)",
           "rgb(127,0,0)"
          ]
         },
         "orientation": "h",
         "type": "bar",
         "x": [
          1,
          1,
          1,
          1,
          1,
          1,
          1,
          1,
          1
         ],
         "y": [
          "OrRd",
          "OrRd",
          "OrRd",
          "OrRd",
          "OrRd",
          "OrRd",
          "OrRd",
          "OrRd",
          "OrRd"
         ]
        },
        {
         "customdata": [
          0,
          1,
          2,
          3,
          4,
          5,
          6,
          7,
          8
         ],
         "hovertemplate": "%{y}[%{customdata}] = %{marker.color}<extra></extra>",
         "marker": {
          "color": [
           "rgb(255,255,255)",
           "rgb(240,240,240)",
           "rgb(217,217,217)",
           "rgb(189,189,189)",
           "rgb(150,150,150)",
           "rgb(115,115,115)",
           "rgb(82,82,82)",
           "rgb(37,37,37)",
           "rgb(0,0,0)"
          ]
         },
         "orientation": "h",
         "type": "bar",
         "x": [
          1,
          1,
          1,
          1,
          1,
          1,
          1,
          1,
          1
         ],
         "y": [
          "Greys",
          "Greys",
          "Greys",
          "Greys",
          "Greys",
          "Greys",
          "Greys",
          "Greys",
          "Greys"
         ]
        },
        {
         "customdata": [
          0,
          1,
          2,
          3,
          4,
          5,
          6,
          7,
          8
         ],
         "hovertemplate": "%{y}[%{customdata}] = %{marker.color}<extra></extra>",
         "marker": {
          "color": [
           "rgb(247,252,245)",
           "rgb(229,245,224)",
           "rgb(199,233,192)",
           "rgb(161,217,155)",
           "rgb(116,196,118)",
           "rgb(65,171,93)",
           "rgb(35,139,69)",
           "rgb(0,109,44)",
           "rgb(0,68,27)"
          ]
         },
         "orientation": "h",
         "type": "bar",
         "x": [
          1,
          1,
          1,
          1,
          1,
          1,
          1,
          1,
          1
         ],
         "y": [
          "Greens",
          "Greens",
          "Greens",
          "Greens",
          "Greens",
          "Greens",
          "Greens",
          "Greens",
          "Greens"
         ]
        },
        {
         "customdata": [
          0,
          1,
          2,
          3,
          4,
          5,
          6,
          7,
          8
         ],
         "hovertemplate": "%{y}[%{customdata}] = %{marker.color}<extra></extra>",
         "marker": {
          "color": [
           "rgb(247,252,240)",
           "rgb(224,243,219)",
           "rgb(204,235,197)",
           "rgb(168,221,181)",
           "rgb(123,204,196)",
           "rgb(78,179,211)",
           "rgb(43,140,190)",
           "rgb(8,104,172)",
           "rgb(8,64,129)"
          ]
         },
         "orientation": "h",
         "type": "bar",
         "x": [
          1,
          1,
          1,
          1,
          1,
          1,
          1,
          1,
          1
         ],
         "y": [
          "GnBu",
          "GnBu",
          "GnBu",
          "GnBu",
          "GnBu",
          "GnBu",
          "GnBu",
          "GnBu",
          "GnBu"
         ]
        },
        {
         "customdata": [
          0,
          1,
          2,
          3,
          4,
          5,
          6,
          7,
          8
         ],
         "hovertemplate": "%{y}[%{customdata}] = %{marker.color}<extra></extra>",
         "marker": {
          "color": [
           "rgb(247,252,253)",
           "rgb(224,236,244)",
           "rgb(191,211,230)",
           "rgb(158,188,218)",
           "rgb(140,150,198)",
           "rgb(140,107,177)",
           "rgb(136,65,157)",
           "rgb(129,15,124)",
           "rgb(77,0,75)"
          ]
         },
         "orientation": "h",
         "type": "bar",
         "x": [
          1,
          1,
          1,
          1,
          1,
          1,
          1,
          1,
          1
         ],
         "y": [
          "BuPu",
          "BuPu",
          "BuPu",
          "BuPu",
          "BuPu",
          "BuPu",
          "BuPu",
          "BuPu",
          "BuPu"
         ]
        },
        {
         "customdata": [
          0,
          1,
          2,
          3,
          4,
          5,
          6,
          7,
          8
         ],
         "hovertemplate": "%{y}[%{customdata}] = %{marker.color}<extra></extra>",
         "marker": {
          "color": [
           "rgb(247,252,253)",
           "rgb(229,245,249)",
           "rgb(204,236,230)",
           "rgb(153,216,201)",
           "rgb(102,194,164)",
           "rgb(65,174,118)",
           "rgb(35,139,69)",
           "rgb(0,109,44)",
           "rgb(0,68,27)"
          ]
         },
         "orientation": "h",
         "type": "bar",
         "x": [
          1,
          1,
          1,
          1,
          1,
          1,
          1,
          1,
          1
         ],
         "y": [
          "BuGn",
          "BuGn",
          "BuGn",
          "BuGn",
          "BuGn",
          "BuGn",
          "BuGn",
          "BuGn",
          "BuGn"
         ]
        },
        {
         "customdata": [
          0,
          1,
          2,
          3,
          4,
          5,
          6,
          7,
          8
         ],
         "hovertemplate": "%{y}[%{customdata}] = %{marker.color}<extra></extra>",
         "marker": {
          "color": [
           "rgb(247,251,255)",
           "rgb(222,235,247)",
           "rgb(198,219,239)",
           "rgb(158,202,225)",
           "rgb(107,174,214)",
           "rgb(66,146,198)",
           "rgb(33,113,181)",
           "rgb(8,81,156)",
           "rgb(8,48,107)"
          ]
         },
         "orientation": "h",
         "type": "bar",
         "x": [
          1,
          1,
          1,
          1,
          1,
          1,
          1,
          1,
          1
         ],
         "y": [
          "Blues",
          "Blues",
          "Blues",
          "Blues",
          "Blues",
          "Blues",
          "Blues",
          "Blues",
          "Blues"
         ]
        },
        {
         "customdata": [
          0,
          1,
          2,
          3,
          4,
          5,
          6,
          7,
          8
         ],
         "hovertemplate": "%{y}[%{customdata}] = %{marker.color}<extra></extra>",
         "marker": {
          "color": [
           "rgb(150,0,90)",
           "rgb(0,0,200)",
           "rgb(0,25,255)",
           "rgb(0,152,255)",
           "rgb(44,255,150)",
           "rgb(151,255,0)",
           "rgb(255,234,0)",
           "rgb(255,111,0)",
           "rgb(255,0,0)"
          ]
         },
         "orientation": "h",
         "type": "bar",
         "x": [
          1,
          1,
          1,
          1,
          1,
          1,
          1,
          1,
          1
         ],
         "y": [
          "Rainbow",
          "Rainbow",
          "Rainbow",
          "Rainbow",
          "Rainbow",
          "Rainbow",
          "Rainbow",
          "Rainbow",
          "Rainbow"
         ]
        },
        {
         "customdata": [
          0,
          1,
          2,
          3,
          4,
          5
         ],
         "hovertemplate": "%{y}[%{customdata}] = %{marker.color}<extra></extra>",
         "marker": {
          "color": [
           "rgb(0,0,131)",
           "rgb(0,60,170)",
           "rgb(5,255,255)",
           "rgb(255,255,0)",
           "rgb(250,0,0)",
           "rgb(128,0,0)"
          ]
         },
         "orientation": "h",
         "type": "bar",
         "x": [
          1,
          1,
          1,
          1,
          1,
          1
         ],
         "y": [
          "Jet",
          "Jet",
          "Jet",
          "Jet",
          "Jet",
          "Jet"
         ]
        },
        {
         "customdata": [
          0,
          1,
          2,
          3
         ],
         "hovertemplate": "%{y}[%{customdata}] = %{marker.color}<extra></extra>",
         "marker": {
          "color": [
           "rgb(0,0,0)",
           "rgb(230,0,0)",
           "rgb(255,210,0)",
           "rgb(255,255,255)"
          ]
         },
         "orientation": "h",
         "type": "bar",
         "x": [
          1,
          1,
          1,
          1
         ],
         "y": [
          "Hot",
          "Hot",
          "Hot",
          "Hot"
         ]
        },
        {
         "customdata": [
          0,
          1,
          2,
          3,
          4,
          5
         ],
         "hovertemplate": "%{y}[%{customdata}] = %{marker.color}<extra></extra>",
         "marker": {
          "color": [
           "rgb(0,0,0)",
           "rgb(30,0,100)",
           "rgb(120,0,100)",
           "rgb(160,90,0)",
           "rgb(230,200,0)",
           "rgb(255,250,220)"
          ]
         },
         "orientation": "h",
         "type": "bar",
         "x": [
          1,
          1,
          1,
          1,
          1,
          1
         ],
         "y": [
          "Electric",
          "Electric",
          "Electric",
          "Electric",
          "Electric",
          "Electric"
         ]
        },
        {
         "customdata": [
          0,
          1
         ],
         "hovertemplate": "%{y}[%{customdata}] = %{marker.color}<extra></extra>",
         "marker": {
          "color": [
           "rgb(0,0,255)",
           "rgb(255,0,0)"
          ]
         },
         "orientation": "h",
         "type": "bar",
         "x": [
          1,
          1
         ],
         "y": [
          "Bluered",
          "Bluered"
         ]
        },
        {
         "customdata": [
          0,
          1,
          2,
          3,
          4
         ],
         "hovertemplate": "%{y}[%{customdata}] = %{marker.color}<extra></extra>",
         "marker": {
          "color": [
           "rgb(0,0,0)",
           "rgb(230,0,0)",
           "rgb(230,210,0)",
           "rgb(255,255,255)",
           "rgb(160,200,255)"
          ]
         },
         "orientation": "h",
         "type": "bar",
         "x": [
          1,
          1,
          1,
          1,
          1
         ],
         "y": [
          "Blackbody",
          "Blackbody",
          "Blackbody",
          "Blackbody",
          "Blackbody"
         ]
        },
        {
         "customdata": [
          0,
          1,
          2,
          3,
          4,
          5,
          6,
          7,
          8,
          9
         ],
         "hovertemplate": "%{y}[%{customdata}] = %{marker.color}<extra></extra>",
         "marker": {
          "color": [
           "#0d0887",
           "#46039f",
           "#7201a8",
           "#9c179e",
           "#bd3786",
           "#d8576b",
           "#ed7953",
           "#fb9f3a",
           "#fdca26",
           "#f0f921"
          ]
         },
         "orientation": "h",
         "type": "bar",
         "x": [
          1,
          1,
          1,
          1,
          1,
          1,
          1,
          1,
          1,
          1
         ],
         "y": [
          "Plasma",
          "Plasma",
          "Plasma",
          "Plasma",
          "Plasma",
          "Plasma",
          "Plasma",
          "Plasma",
          "Plasma",
          "Plasma"
         ]
        },
        {
         "customdata": [
          0,
          1,
          2,
          3,
          4,
          5,
          6,
          7,
          8,
          9
         ],
         "hovertemplate": "%{y}[%{customdata}] = %{marker.color}<extra></extra>",
         "marker": {
          "color": [
           "#000004",
           "#180f3d",
           "#440f76",
           "#721f81",
           "#9e2f7f",
           "#cd4071",
           "#f1605d",
           "#fd9668",
           "#feca8d",
           "#fcfdbf"
          ]
         },
         "orientation": "h",
         "type": "bar",
         "x": [
          1,
          1,
          1,
          1,
          1,
          1,
          1,
          1,
          1,
          1
         ],
         "y": [
          "Magma",
          "Magma",
          "Magma",
          "Magma",
          "Magma",
          "Magma",
          "Magma",
          "Magma",
          "Magma",
          "Magma"
         ]
        },
        {
         "customdata": [
          0,
          1,
          2,
          3,
          4,
          5,
          6,
          7,
          8,
          9
         ],
         "hovertemplate": "%{y}[%{customdata}] = %{marker.color}<extra></extra>",
         "marker": {
          "color": [
           "#000004",
           "#1b0c41",
           "#4a0c6b",
           "#781c6d",
           "#a52c60",
           "#cf4446",
           "#ed6925",
           "#fb9b06",
           "#f7d13d",
           "#fcffa4"
          ]
         },
         "orientation": "h",
         "type": "bar",
         "x": [
          1,
          1,
          1,
          1,
          1,
          1,
          1,
          1,
          1,
          1
         ],
         "y": [
          "Inferno",
          "Inferno",
          "Inferno",
          "Inferno",
          "Inferno",
          "Inferno",
          "Inferno",
          "Inferno",
          "Inferno",
          "Inferno"
         ]
        },
        {
         "customdata": [
          0,
          1,
          2,
          3,
          4,
          5,
          6,
          7,
          8,
          9
         ],
         "hovertemplate": "%{y}[%{customdata}] = %{marker.color}<extra></extra>",
         "marker": {
          "color": [
           "#00224e",
           "#123570",
           "#3b496c",
           "#575d6d",
           "#707173",
           "#8a8678",
           "#a59c74",
           "#c3b369",
           "#e1cc55",
           "#fee838"
          ]
         },
         "orientation": "h",
         "type": "bar",
         "x": [
          1,
          1,
          1,
          1,
          1,
          1,
          1,
          1,
          1,
          1
         ],
         "y": [
          "Cividis",
          "Cividis",
          "Cividis",
          "Cividis",
          "Cividis",
          "Cividis",
          "Cividis",
          "Cividis",
          "Cividis",
          "Cividis"
         ]
        },
        {
         "customdata": [
          0,
          1,
          2,
          3,
          4,
          5,
          6,
          7,
          8,
          9
         ],
         "hovertemplate": "%{y}[%{customdata}] = %{marker.color}<extra></extra>",
         "marker": {
          "color": [
           "#440154",
           "#482878",
           "#3e4989",
           "#31688e",
           "#26828e",
           "#1f9e89",
           "#35b779",
           "#6ece58",
           "#b5de2b",
           "#fde725"
          ]
         },
         "orientation": "h",
         "type": "bar",
         "x": [
          1,
          1,
          1,
          1,
          1,
          1,
          1,
          1,
          1,
          1
         ],
         "y": [
          "Viridis",
          "Viridis",
          "Viridis",
          "Viridis",
          "Viridis",
          "Viridis",
          "Viridis",
          "Viridis",
          "Viridis",
          "Viridis"
         ]
        },
        {
         "customdata": [
          0,
          1,
          2,
          3,
          4,
          5,
          6,
          7,
          8,
          9,
          10,
          11,
          12
         ],
         "hovertemplate": "%{y}[%{customdata}] = %{marker.color}<extra></extra>",
         "marker": {
          "color": [
           "#0508b8",
           "#1910d8",
           "#3c19f0",
           "#6b1cfb",
           "#981cfd",
           "#bf1cfd",
           "#dd2bfd",
           "#f246fe",
           "#fc67fd",
           "#fe88fc",
           "#fea5fd",
           "#febefe",
           "#fec3fe"
          ]
         },
         "orientation": "h",
         "type": "bar",
         "x": [
          1,
          1,
          1,
          1,
          1,
          1,
          1,
          1,
          1,
          1,
          1,
          1,
          1
         ],
         "y": [
          "Plotly3",
          "Plotly3",
          "Plotly3",
          "Plotly3",
          "Plotly3",
          "Plotly3",
          "Plotly3",
          "Plotly3",
          "Plotly3",
          "Plotly3",
          "Plotly3",
          "Plotly3",
          "Plotly3"
         ]
        }
       ],
       "layout": {
        "bargap": 0.5,
        "barmode": "stack",
        "barnorm": "fraction",
        "height": 2600,
        "margin": {
         "b": 10
        },
        "showlegend": false,
        "template": {
         "data": {
          "bar": [
           {
            "error_x": {
             "color": "#2a3f5f"
            },
            "error_y": {
             "color": "#2a3f5f"
            },
            "marker": {
             "line": {
              "color": "#E5ECF6",
              "width": 0.5
             }
            },
            "type": "bar"
           }
          ],
          "barpolar": [
           {
            "marker": {
             "line": {
              "color": "#E5ECF6",
              "width": 0.5
             }
            },
            "type": "barpolar"
           }
          ],
          "carpet": [
           {
            "aaxis": {
             "endlinecolor": "#2a3f5f",
             "gridcolor": "white",
             "linecolor": "white",
             "minorgridcolor": "white",
             "startlinecolor": "#2a3f5f"
            },
            "baxis": {
             "endlinecolor": "#2a3f5f",
             "gridcolor": "white",
             "linecolor": "white",
             "minorgridcolor": "white",
             "startlinecolor": "#2a3f5f"
            },
            "type": "carpet"
           }
          ],
          "choropleth": [
           {
            "colorbar": {
             "outlinewidth": 0,
             "ticks": ""
            },
            "type": "choropleth"
           }
          ],
          "contour": [
           {
            "colorbar": {
             "outlinewidth": 0,
             "ticks": ""
            },
            "colorscale": [
             [
              0,
              "#0d0887"
             ],
             [
              0.1111111111111111,
              "#46039f"
             ],
             [
              0.2222222222222222,
              "#7201a8"
             ],
             [
              0.3333333333333333,
              "#9c179e"
             ],
             [
              0.4444444444444444,
              "#bd3786"
             ],
             [
              0.5555555555555556,
              "#d8576b"
             ],
             [
              0.6666666666666666,
              "#ed7953"
             ],
             [
              0.7777777777777778,
              "#fb9f3a"
             ],
             [
              0.8888888888888888,
              "#fdca26"
             ],
             [
              1,
              "#f0f921"
             ]
            ],
            "type": "contour"
           }
          ],
          "contourcarpet": [
           {
            "colorbar": {
             "outlinewidth": 0,
             "ticks": ""
            },
            "type": "contourcarpet"
           }
          ],
          "heatmap": [
           {
            "colorbar": {
             "outlinewidth": 0,
             "ticks": ""
            },
            "colorscale": [
             [
              0,
              "#0d0887"
             ],
             [
              0.1111111111111111,
              "#46039f"
             ],
             [
              0.2222222222222222,
              "#7201a8"
             ],
             [
              0.3333333333333333,
              "#9c179e"
             ],
             [
              0.4444444444444444,
              "#bd3786"
             ],
             [
              0.5555555555555556,
              "#d8576b"
             ],
             [
              0.6666666666666666,
              "#ed7953"
             ],
             [
              0.7777777777777778,
              "#fb9f3a"
             ],
             [
              0.8888888888888888,
              "#fdca26"
             ],
             [
              1,
              "#f0f921"
             ]
            ],
            "type": "heatmap"
           }
          ],
          "heatmapgl": [
           {
            "colorbar": {
             "outlinewidth": 0,
             "ticks": ""
            },
            "colorscale": [
             [
              0,
              "#0d0887"
             ],
             [
              0.1111111111111111,
              "#46039f"
             ],
             [
              0.2222222222222222,
              "#7201a8"
             ],
             [
              0.3333333333333333,
              "#9c179e"
             ],
             [
              0.4444444444444444,
              "#bd3786"
             ],
             [
              0.5555555555555556,
              "#d8576b"
             ],
             [
              0.6666666666666666,
              "#ed7953"
             ],
             [
              0.7777777777777778,
              "#fb9f3a"
             ],
             [
              0.8888888888888888,
              "#fdca26"
             ],
             [
              1,
              "#f0f921"
             ]
            ],
            "type": "heatmapgl"
           }
          ],
          "histogram": [
           {
            "marker": {
             "colorbar": {
              "outlinewidth": 0,
              "ticks": ""
             }
            },
            "type": "histogram"
           }
          ],
          "histogram2d": [
           {
            "colorbar": {
             "outlinewidth": 0,
             "ticks": ""
            },
            "colorscale": [
             [
              0,
              "#0d0887"
             ],
             [
              0.1111111111111111,
              "#46039f"
             ],
             [
              0.2222222222222222,
              "#7201a8"
             ],
             [
              0.3333333333333333,
              "#9c179e"
             ],
             [
              0.4444444444444444,
              "#bd3786"
             ],
             [
              0.5555555555555556,
              "#d8576b"
             ],
             [
              0.6666666666666666,
              "#ed7953"
             ],
             [
              0.7777777777777778,
              "#fb9f3a"
             ],
             [
              0.8888888888888888,
              "#fdca26"
             ],
             [
              1,
              "#f0f921"
             ]
            ],
            "type": "histogram2d"
           }
          ],
          "histogram2dcontour": [
           {
            "colorbar": {
             "outlinewidth": 0,
             "ticks": ""
            },
            "colorscale": [
             [
              0,
              "#0d0887"
             ],
             [
              0.1111111111111111,
              "#46039f"
             ],
             [
              0.2222222222222222,
              "#7201a8"
             ],
             [
              0.3333333333333333,
              "#9c179e"
             ],
             [
              0.4444444444444444,
              "#bd3786"
             ],
             [
              0.5555555555555556,
              "#d8576b"
             ],
             [
              0.6666666666666666,
              "#ed7953"
             ],
             [
              0.7777777777777778,
              "#fb9f3a"
             ],
             [
              0.8888888888888888,
              "#fdca26"
             ],
             [
              1,
              "#f0f921"
             ]
            ],
            "type": "histogram2dcontour"
           }
          ],
          "mesh3d": [
           {
            "colorbar": {
             "outlinewidth": 0,
             "ticks": ""
            },
            "type": "mesh3d"
           }
          ],
          "parcoords": [
           {
            "line": {
             "colorbar": {
              "outlinewidth": 0,
              "ticks": ""
             }
            },
            "type": "parcoords"
           }
          ],
          "pie": [
           {
            "automargin": true,
            "type": "pie"
           }
          ],
          "scatter": [
           {
            "marker": {
             "colorbar": {
              "outlinewidth": 0,
              "ticks": ""
             }
            },
            "type": "scatter"
           }
          ],
          "scatter3d": [
           {
            "line": {
             "colorbar": {
              "outlinewidth": 0,
              "ticks": ""
             }
            },
            "marker": {
             "colorbar": {
              "outlinewidth": 0,
              "ticks": ""
             }
            },
            "type": "scatter3d"
           }
          ],
          "scattercarpet": [
           {
            "marker": {
             "colorbar": {
              "outlinewidth": 0,
              "ticks": ""
             }
            },
            "type": "scattercarpet"
           }
          ],
          "scattergeo": [
           {
            "marker": {
             "colorbar": {
              "outlinewidth": 0,
              "ticks": ""
             }
            },
            "type": "scattergeo"
           }
          ],
          "scattergl": [
           {
            "marker": {
             "colorbar": {
              "outlinewidth": 0,
              "ticks": ""
             }
            },
            "type": "scattergl"
           }
          ],
          "scattermapbox": [
           {
            "marker": {
             "colorbar": {
              "outlinewidth": 0,
              "ticks": ""
             }
            },
            "type": "scattermapbox"
           }
          ],
          "scatterpolar": [
           {
            "marker": {
             "colorbar": {
              "outlinewidth": 0,
              "ticks": ""
             }
            },
            "type": "scatterpolar"
           }
          ],
          "scatterpolargl": [
           {
            "marker": {
             "colorbar": {
              "outlinewidth": 0,
              "ticks": ""
             }
            },
            "type": "scatterpolargl"
           }
          ],
          "scatterternary": [
           {
            "marker": {
             "colorbar": {
              "outlinewidth": 0,
              "ticks": ""
             }
            },
            "type": "scatterternary"
           }
          ],
          "surface": [
           {
            "colorbar": {
             "outlinewidth": 0,
             "ticks": ""
            },
            "colorscale": [
             [
              0,
              "#0d0887"
             ],
             [
              0.1111111111111111,
              "#46039f"
             ],
             [
              0.2222222222222222,
              "#7201a8"
             ],
             [
              0.3333333333333333,
              "#9c179e"
             ],
             [
              0.4444444444444444,
              "#bd3786"
             ],
             [
              0.5555555555555556,
              "#d8576b"
             ],
             [
              0.6666666666666666,
              "#ed7953"
             ],
             [
              0.7777777777777778,
              "#fb9f3a"
             ],
             [
              0.8888888888888888,
              "#fdca26"
             ],
             [
              1,
              "#f0f921"
             ]
            ],
            "type": "surface"
           }
          ],
          "table": [
           {
            "cells": {
             "fill": {
              "color": "#EBF0F8"
             },
             "line": {
              "color": "white"
             }
            },
            "header": {
             "fill": {
              "color": "#C8D4E3"
             },
             "line": {
              "color": "white"
             }
            },
            "type": "table"
           }
          ]
         },
         "layout": {
          "annotationdefaults": {
           "arrowcolor": "#2a3f5f",
           "arrowhead": 0,
           "arrowwidth": 1
          },
          "coloraxis": {
           "colorbar": {
            "outlinewidth": 0,
            "ticks": ""
           }
          },
          "colorscale": {
           "diverging": [
            [
             0,
             "#8e0152"
            ],
            [
             0.1,
             "#c51b7d"
            ],
            [
             0.2,
             "#de77ae"
            ],
            [
             0.3,
             "#f1b6da"
            ],
            [
             0.4,
             "#fde0ef"
            ],
            [
             0.5,
             "#f7f7f7"
            ],
            [
             0.6,
             "#e6f5d0"
            ],
            [
             0.7,
             "#b8e186"
            ],
            [
             0.8,
             "#7fbc41"
            ],
            [
             0.9,
             "#4d9221"
            ],
            [
             1,
             "#276419"
            ]
           ],
           "sequential": [
            [
             0,
             "#0d0887"
            ],
            [
             0.1111111111111111,
             "#46039f"
            ],
            [
             0.2222222222222222,
             "#7201a8"
            ],
            [
             0.3333333333333333,
             "#9c179e"
            ],
            [
             0.4444444444444444,
             "#bd3786"
            ],
            [
             0.5555555555555556,
             "#d8576b"
            ],
            [
             0.6666666666666666,
             "#ed7953"
            ],
            [
             0.7777777777777778,
             "#fb9f3a"
            ],
            [
             0.8888888888888888,
             "#fdca26"
            ],
            [
             1,
             "#f0f921"
            ]
           ],
           "sequentialminus": [
            [
             0,
             "#0d0887"
            ],
            [
             0.1111111111111111,
             "#46039f"
            ],
            [
             0.2222222222222222,
             "#7201a8"
            ],
            [
             0.3333333333333333,
             "#9c179e"
            ],
            [
             0.4444444444444444,
             "#bd3786"
            ],
            [
             0.5555555555555556,
             "#d8576b"
            ],
            [
             0.6666666666666666,
             "#ed7953"
            ],
            [
             0.7777777777777778,
             "#fb9f3a"
            ],
            [
             0.8888888888888888,
             "#fdca26"
            ],
            [
             1,
             "#f0f921"
            ]
           ]
          },
          "colorway": [
           "#636efa",
           "#EF553B",
           "#00cc96",
           "#ab63fa",
           "#FFA15A",
           "#19d3f3",
           "#FF6692",
           "#B6E880",
           "#FF97FF",
           "#FECB52"
          ],
          "font": {
           "color": "#2a3f5f"
          },
          "geo": {
           "bgcolor": "white",
           "lakecolor": "white",
           "landcolor": "#E5ECF6",
           "showlakes": true,
           "showland": true,
           "subunitcolor": "white"
          },
          "hoverlabel": {
           "align": "left"
          },
          "hovermode": "closest",
          "mapbox": {
           "style": "light"
          },
          "paper_bgcolor": "white",
          "plot_bgcolor": "#E5ECF6",
          "polar": {
           "angularaxis": {
            "gridcolor": "white",
            "linecolor": "white",
            "ticks": ""
           },
           "bgcolor": "#E5ECF6",
           "radialaxis": {
            "gridcolor": "white",
            "linecolor": "white",
            "ticks": ""
           }
          },
          "scene": {
           "xaxis": {
            "backgroundcolor": "#E5ECF6",
            "gridcolor": "white",
            "gridwidth": 2,
            "linecolor": "white",
            "showbackground": true,
            "ticks": "",
            "zerolinecolor": "white"
           },
           "yaxis": {
            "backgroundcolor": "#E5ECF6",
            "gridcolor": "white",
            "gridwidth": 2,
            "linecolor": "white",
            "showbackground": true,
            "ticks": "",
            "zerolinecolor": "white"
           },
           "zaxis": {
            "backgroundcolor": "#E5ECF6",
            "gridcolor": "white",
            "gridwidth": 2,
            "linecolor": "white",
            "showbackground": true,
            "ticks": "",
            "zerolinecolor": "white"
           }
          },
          "shapedefaults": {
           "line": {
            "color": "#2a3f5f"
           }
          },
          "ternary": {
           "aaxis": {
            "gridcolor": "white",
            "linecolor": "white",
            "ticks": ""
           },
           "baxis": {
            "gridcolor": "white",
            "linecolor": "white",
            "ticks": ""
           },
           "bgcolor": "#E5ECF6",
           "caxis": {
            "gridcolor": "white",
            "linecolor": "white",
            "ticks": ""
           }
          },
          "title": {
           "x": 0.05
          },
          "xaxis": {
           "automargin": true,
           "gridcolor": "white",
           "linecolor": "white",
           "ticks": "",
           "title": {
            "standoff": 15
           },
           "zerolinecolor": "white",
           "zerolinewidth": 2
          },
          "yaxis": {
           "automargin": true,
           "gridcolor": "white",
           "linecolor": "white",
           "ticks": "",
           "title": {
            "standoff": 15
           },
           "zerolinecolor": "white",
           "zerolinewidth": 2
          }
         }
        },
        "title": {
         "text": "plotly.colors.sequential"
        },
        "xaxis": {
         "range": [
          -0.02,
          1.02
         ],
         "showgrid": false,
         "showticklabels": false
        }
       }
      },
      "text/html": [
       "<div>\n",
       "        \n",
       "        \n",
       "            <div id=\"d9629cd9-19d6-4560-9694-dc73a75be631\" class=\"plotly-graph-div\" style=\"height:2600px; width:100%;\"></div>\n",
       "            <script type=\"text/javascript\">\n",
       "                require([\"plotly\"], function(Plotly) {\n",
       "                    window.PLOTLYENV=window.PLOTLYENV || {};\n",
       "                    \n",
       "                if (document.getElementById(\"d9629cd9-19d6-4560-9694-dc73a75be631\")) {\n",
       "                    Plotly.newPlot(\n",
       "                        'd9629cd9-19d6-4560-9694-dc73a75be631',\n",
       "                        [{\"customdata\": [0, 1, 2, 3, 4, 5, 6], \"hovertemplate\": \"%{y}[%{customdata}] = %{marker.color}<extra></extra>\", \"marker\": {\"color\": [\"rgb(237, 229, 207)\", \"rgb(224, 194, 162)\", \"rgb(211, 156, 131)\", \"rgb(193, 118, 111)\", \"rgb(166, 84, 97)\", \"rgb(129, 55, 83)\", \"rgb(84, 31, 63)\"]}, \"orientation\": \"h\", \"type\": \"bar\", \"x\": [1, 1, 1, 1, 1, 1, 1], \"y\": [\"Brwnyl\", \"Brwnyl\", \"Brwnyl\", \"Brwnyl\", \"Brwnyl\", \"Brwnyl\", \"Brwnyl\"]}, {\"customdata\": [0, 1, 2, 3, 4, 5, 6], \"hovertemplate\": \"%{y}[%{customdata}] = %{marker.color}<extra></extra>\", \"marker\": {\"color\": [\"rgb(75, 41, 145)\", \"rgb(135, 44, 162)\", \"rgb(192, 54, 157)\", \"rgb(234, 79, 136)\", \"rgb(250, 120, 118)\", \"rgb(246, 169, 122)\", \"rgb(237, 217, 163)\"]}, \"orientation\": \"h\", \"type\": \"bar\", \"x\": [1, 1, 1, 1, 1, 1, 1], \"y\": [\"Agsunset\", \"Agsunset\", \"Agsunset\", \"Agsunset\", \"Agsunset\", \"Agsunset\", \"Agsunset\"]}, {\"customdata\": [0, 1, 2, 3, 4, 5, 6], \"hovertemplate\": \"%{y}[%{customdata}] = %{marker.color}<extra></extra>\", \"marker\": {\"color\": [\"rgb(252, 222, 156)\", \"rgb(250, 164, 118)\", \"rgb(240, 116, 110)\", \"rgb(227, 79, 111)\", \"rgb(220, 57, 119)\", \"rgb(185, 37, 122)\", \"rgb(124, 29, 111)\"]}, \"orientation\": \"h\", \"type\": \"bar\", \"x\": [1, 1, 1, 1, 1, 1, 1], \"y\": [\"Sunsetdark\", \"Sunsetdark\", \"Sunsetdark\", \"Sunsetdark\", \"Sunsetdark\", \"Sunsetdark\", \"Sunsetdark\"]}, {\"customdata\": [0, 1, 2, 3, 4, 5, 6], \"hovertemplate\": \"%{y}[%{customdata}] = %{marker.color}<extra></extra>\", \"marker\": {\"color\": [\"rgb(243, 203, 211)\", \"rgb(234, 169, 189)\", \"rgb(221, 136, 172)\", \"rgb(202, 105, 157)\", \"rgb(177, 77, 142)\", \"rgb(145, 53, 125)\", \"rgb(108, 33, 103)\"]}, \"orientation\": \"h\", \"type\": \"bar\", \"x\": [1, 1, 1, 1, 1, 1, 1], \"y\": [\"Magenta\", \"Magenta\", \"Magenta\", \"Magenta\", \"Magenta\", \"Magenta\", \"Magenta\"]}, {\"customdata\": [0, 1, 2, 3, 4, 5, 6], \"hovertemplate\": \"%{y}[%{customdata}] = %{marker.color}<extra></extra>\", \"marker\": {\"color\": [\"rgb(243, 231, 155)\", \"rgb(250, 196, 132)\", \"rgb(248, 160, 126)\", \"rgb(235, 127, 134)\", \"rgb(206, 102, 147)\", \"rgb(160, 89, 160)\", \"rgb(92, 83, 165)\"]}, \"orientation\": \"h\", \"type\": \"bar\", \"x\": [1, 1, 1, 1, 1, 1, 1], \"y\": [\"Sunset\", \"Sunset\", \"Sunset\", \"Sunset\", \"Sunset\", \"Sunset\", \"Sunset\"]}, {\"customdata\": [0, 1, 2, 3, 4, 5, 6], \"hovertemplate\": \"%{y}[%{customdata}] = %{marker.color}<extra></extra>\", \"marker\": {\"color\": [\"rgb(249, 221, 218)\", \"rgb(242, 185, 196)\", \"rgb(229, 151, 185)\", \"rgb(206, 120, 179)\", \"rgb(173, 95, 173)\", \"rgb(131, 75, 160)\", \"rgb(87, 59, 136)\"]}, \"orientation\": \"h\", \"type\": \"bar\", \"x\": [1, 1, 1, 1, 1, 1, 1], \"y\": [\"Purpor\", \"Purpor\", \"Purpor\", \"Purpor\", \"Purpor\", \"Purpor\", \"Purpor\"]}, {\"customdata\": [0, 1, 2, 3, 4, 5, 6], \"hovertemplate\": \"%{y}[%{customdata}] = %{marker.color}<extra></extra>\", \"marker\": {\"color\": [\"rgb(243, 224, 247)\", \"rgb(228, 199, 241)\", \"rgb(209, 175, 232)\", \"rgb(185, 152, 221)\", \"rgb(159, 130, 206)\", \"rgb(130, 109, 186)\", \"rgb(99, 88, 159)\"]}, \"orientation\": \"h\", \"type\": \"bar\", \"x\": [1, 1, 1, 1, 1, 1, 1], \"y\": [\"Purp\", \"Purp\", \"Purp\", \"Purp\", \"Purp\", \"Purp\", \"Purp\"]}, {\"customdata\": [0, 1, 2, 3, 4, 5, 6], \"hovertemplate\": \"%{y}[%{customdata}] = %{marker.color}<extra></extra>\", \"marker\": {\"color\": [\"rgb(176, 242, 188)\", \"rgb(137, 232, 172)\", \"rgb(103, 219, 165)\", \"rgb(76, 200, 163)\", \"rgb(56, 178, 163)\", \"rgb(44, 152, 160)\", \"rgb(37, 125, 152)\"]}, \"orientation\": \"h\", \"type\": \"bar\", \"x\": [1, 1, 1, 1, 1, 1, 1], \"y\": [\"Tealgrn\", \"Tealgrn\", \"Tealgrn\", \"Tealgrn\", \"Tealgrn\", \"Tealgrn\", \"Tealgrn\"]}, {\"customdata\": [0, 1, 2, 3, 4, 5, 6], \"hovertemplate\": \"%{y}[%{customdata}] = %{marker.color}<extra></extra>\", \"marker\": {\"color\": [\"rgb(209, 238, 234)\", \"rgb(168, 219, 217)\", \"rgb(133, 196, 201)\", \"rgb(104, 171, 184)\", \"rgb(79, 144, 166)\", \"rgb(59, 115, 143)\", \"rgb(42, 86, 116)\"]}, \"orientation\": \"h\", \"type\": \"bar\", \"x\": [1, 1, 1, 1, 1, 1, 1], \"y\": [\"Teal\", \"Teal\", \"Teal\", \"Teal\", \"Teal\", \"Teal\", \"Teal\"]}, {\"customdata\": [0, 1, 2, 3, 4, 5, 6], \"hovertemplate\": \"%{y}[%{customdata}] = %{marker.color}<extra></extra>\", \"marker\": {\"color\": [\"rgb(247, 254, 174)\", \"rgb(183, 230, 165)\", \"rgb(124, 203, 162)\", \"rgb(70, 174, 160)\", \"rgb(8, 144, 153)\", \"rgb(0, 113, 139)\", \"rgb(4, 82, 117)\"]}, \"orientation\": \"h\", \"type\": \"bar\", \"x\": [1, 1, 1, 1, 1, 1, 1], \"y\": [\"Bluyl\", \"Bluyl\", \"Bluyl\", \"Bluyl\", \"Bluyl\", \"Bluyl\", \"Bluyl\"]}, {\"customdata\": [0, 1, 2, 3, 4, 5, 6], \"hovertemplate\": \"%{y}[%{customdata}] = %{marker.color}<extra></extra>\", \"marker\": {\"color\": [\"rgb(36, 86, 104)\", \"rgb(15, 114, 121)\", \"rgb(13, 143, 129)\", \"rgb(57, 171, 126)\", \"rgb(110, 197, 116)\", \"rgb(169, 220, 103)\", \"rgb(237, 239, 93)\"]}, \"orientation\": \"h\", \"type\": \"bar\", \"x\": [1, 1, 1, 1, 1, 1, 1], \"y\": [\"Aggrnyl\", \"Aggrnyl\", \"Aggrnyl\", \"Aggrnyl\", \"Aggrnyl\", \"Aggrnyl\", \"Aggrnyl\"]}, {\"customdata\": [0, 1, 2, 3, 4, 5, 6], \"hovertemplate\": \"%{y}[%{customdata}] = %{marker.color}<extra></extra>\", \"marker\": {\"color\": [\"rgb(211, 242, 163)\", \"rgb(151, 225, 150)\", \"rgb(108, 192, 139)\", \"rgb(76, 155, 130)\", \"rgb(33, 122, 121)\", \"rgb(16, 89, 101)\", \"rgb(7, 64, 80)\"]}, \"orientation\": \"h\", \"type\": \"bar\", \"x\": [1, 1, 1, 1, 1, 1, 1], \"y\": [\"Emrld\", \"Emrld\", \"Emrld\", \"Emrld\", \"Emrld\", \"Emrld\", \"Emrld\"]}, {\"customdata\": [0, 1, 2, 3, 4, 5, 6], \"hovertemplate\": \"%{y}[%{customdata}] = %{marker.color}<extra></extra>\", \"marker\": {\"color\": [\"rgb(210, 251, 212)\", \"rgb(165, 219, 194)\", \"rgb(123, 188, 176)\", \"rgb(85, 156, 158)\", \"rgb(58, 124, 137)\", \"rgb(35, 93, 114)\", \"rgb(18, 63, 90)\"]}, \"orientation\": \"h\", \"type\": \"bar\", \"x\": [1, 1, 1, 1, 1, 1, 1], \"y\": [\"Darkmint\", \"Darkmint\", \"Darkmint\", \"Darkmint\", \"Darkmint\", \"Darkmint\", \"Darkmint\"]}, {\"customdata\": [0, 1, 2, 3, 4, 5, 6], \"hovertemplate\": \"%{y}[%{customdata}] = %{marker.color}<extra></extra>\", \"marker\": {\"color\": [\"rgb(196, 230, 195)\", \"rgb(150, 210, 164)\", \"rgb(109, 188, 144)\", \"rgb(77, 162, 132)\", \"rgb(54, 135, 122)\", \"rgb(38, 107, 110)\", \"rgb(29, 79, 96)\"]}, \"orientation\": \"h\", \"type\": \"bar\", \"x\": [1, 1, 1, 1, 1, 1, 1], \"y\": [\"Blugrn\", \"Blugrn\", \"Blugrn\", \"Blugrn\", \"Blugrn\", \"Blugrn\", \"Blugrn\"]}, {\"customdata\": [0, 1, 2, 3, 4, 5, 6], \"hovertemplate\": \"%{y}[%{customdata}] = %{marker.color}<extra></extra>\", \"marker\": {\"color\": [\"rgb(228, 241, 225)\", \"rgb(180, 217, 204)\", \"rgb(137, 192, 182)\", \"rgb(99, 166, 160)\", \"rgb(68, 140, 138)\", \"rgb(40, 114, 116)\", \"rgb(13, 88, 95)\"]}, \"orientation\": \"h\", \"type\": \"bar\", \"x\": [1, 1, 1, 1, 1, 1, 1], \"y\": [\"Mint\", \"Mint\", \"Mint\", \"Mint\", \"Mint\", \"Mint\", \"Mint\"]}, {\"customdata\": [0, 1, 2, 3, 4, 5, 6], \"hovertemplate\": \"%{y}[%{customdata}] = %{marker.color}<extra></extra>\", \"marker\": {\"color\": [\"rgb(254, 246, 181)\", \"rgb(255, 221, 154)\", \"rgb(255, 194, 133)\", \"rgb(255, 166, 121)\", \"rgb(250, 138, 118)\", \"rgb(241, 109, 122)\", \"rgb(225, 83, 131)\"]}, \"orientation\": \"h\", \"type\": \"bar\", \"x\": [1, 1, 1, 1, 1, 1, 1], \"y\": [\"Pinkyl\", \"Pinkyl\", \"Pinkyl\", \"Pinkyl\", \"Pinkyl\", \"Pinkyl\", \"Pinkyl\"]}, {\"customdata\": [0, 1, 2, 3, 4, 5, 6], \"hovertemplate\": \"%{y}[%{customdata}] = %{marker.color}<extra></extra>\", \"marker\": {\"color\": [\"rgb(253, 224, 197)\", \"rgb(250, 203, 166)\", \"rgb(248, 181, 139)\", \"rgb(245, 158, 114)\", \"rgb(242, 133, 93)\", \"rgb(239, 106, 76)\", \"rgb(235, 74, 64)\"]}, \"orientation\": \"h\", \"type\": \"bar\", \"x\": [1, 1, 1, 1, 1, 1, 1], \"y\": [\"Peach\", \"Peach\", \"Peach\", \"Peach\", \"Peach\", \"Peach\", \"Peach\"]}, {\"customdata\": [0, 1, 2, 3, 4, 5, 6], \"hovertemplate\": \"%{y}[%{customdata}] = %{marker.color}<extra></extra>\", \"marker\": {\"color\": [\"rgb(236, 218, 154)\", \"rgb(239, 196, 126)\", \"rgb(243, 173, 106)\", \"rgb(247, 148, 93)\", \"rgb(249, 123, 87)\", \"rgb(246, 99, 86)\", \"rgb(238, 77, 90)\"]}, \"orientation\": \"h\", \"type\": \"bar\", \"x\": [1, 1, 1, 1, 1, 1, 1], \"y\": [\"Oryel\", \"Oryel\", \"Oryel\", \"Oryel\", \"Oryel\", \"Oryel\", \"Oryel\"]}, {\"customdata\": [0, 1, 2, 3, 4, 5, 6], \"hovertemplate\": \"%{y}[%{customdata}] = %{marker.color}<extra></extra>\", \"marker\": {\"color\": [\"rgb(246, 210, 169)\", \"rgb(245, 183, 142)\", \"rgb(241, 156, 124)\", \"rgb(234, 129, 113)\", \"rgb(221, 104, 108)\", \"rgb(202, 82, 104)\", \"rgb(177, 63, 100)\"]}, \"orientation\": \"h\", \"type\": \"bar\", \"x\": [1, 1, 1, 1, 1, 1, 1], \"y\": [\"Redor\", \"Redor\", \"Redor\", \"Redor\", \"Redor\", \"Redor\", \"Redor\"]}, {\"customdata\": [0, 1, 2, 3, 4, 5, 6], \"hovertemplate\": \"%{y}[%{customdata}] = %{marker.color}<extra></extra>\", \"marker\": {\"color\": [\"rgb(251, 230, 197)\", \"rgb(245, 186, 152)\", \"rgb(238, 138, 130)\", \"rgb(220, 113, 118)\", \"rgb(200, 88, 108)\", \"rgb(156, 63, 93)\", \"rgb(112, 40, 74)\"]}, \"orientation\": \"h\", \"type\": \"bar\", \"x\": [1, 1, 1, 1, 1, 1, 1], \"y\": [\"Burgyl\", \"Burgyl\", \"Burgyl\", \"Burgyl\", \"Burgyl\", \"Burgyl\", \"Burgyl\"]}, {\"customdata\": [0, 1, 2, 3, 4, 5, 6], \"hovertemplate\": \"%{y}[%{customdata}] = %{marker.color}<extra></extra>\", \"marker\": {\"color\": [\"rgb(255, 198, 196)\", \"rgb(244, 163, 168)\", \"rgb(227, 129, 145)\", \"rgb(204, 96, 125)\", \"rgb(173, 70, 108)\", \"rgb(139, 48, 88)\", \"rgb(103, 32, 68)\"]}, \"orientation\": \"h\", \"type\": \"bar\", \"x\": [1, 1, 1, 1, 1, 1, 1], \"y\": [\"Burg\", \"Burg\", \"Burg\", \"Burg\", \"Burg\", \"Burg\", \"Burg\"]}, {\"customdata\": [0, 1, 2, 3, 4, 5, 6, 7, 8, 9, 10, 11], \"hovertemplate\": \"%{y}[%{customdata}] = %{marker.color}<extra></extra>\", \"marker\": {\"color\": [\"rgb(254, 245, 244)\", \"rgb(222, 224, 210)\", \"rgb(189, 206, 181)\", \"rgb(153, 189, 156)\", \"rgb(110, 173, 138)\", \"rgb(65, 157, 129)\", \"rgb(25, 137, 125)\", \"rgb(18, 116, 117)\", \"rgb(25, 94, 106)\", \"rgb(28, 72, 93)\", \"rgb(25, 51, 80)\", \"rgb(20, 29, 67)\"]}, \"orientation\": \"h\", \"type\": \"bar\", \"x\": [1, 1, 1, 1, 1, 1, 1, 1, 1, 1, 1, 1], \"y\": [\"tempo\", \"tempo\", \"tempo\", \"tempo\", \"tempo\", \"tempo\", \"tempo\", \"tempo\", \"tempo\", \"tempo\", \"tempo\", \"tempo\"]}, {\"customdata\": [0, 1, 2, 3, 4, 5, 6, 7, 8, 9, 10, 11], \"hovertemplate\": \"%{y}[%{customdata}] = %{marker.color}<extra></extra>\", \"marker\": {\"color\": [\"rgb(241, 236, 236)\", \"rgb(230, 209, 203)\", \"rgb(221, 182, 170)\", \"rgb(213, 156, 137)\", \"rgb(205, 129, 103)\", \"rgb(196, 102, 73)\", \"rgb(186, 74, 47)\", \"rgb(172, 44, 36)\", \"rgb(149, 19, 39)\", \"rgb(120, 14, 40)\", \"rgb(89, 13, 31)\", \"rgb(60, 9, 17)\"]}, \"orientation\": \"h\", \"type\": \"bar\", \"x\": [1, 1, 1, 1, 1, 1, 1, 1, 1, 1, 1, 1], \"y\": [\"amp\", \"amp\", \"amp\", \"amp\", \"amp\", \"amp\", \"amp\", \"amp\", \"amp\", \"amp\", \"amp\", \"amp\"]}, {\"customdata\": [0, 1, 2, 3, 4, 5, 6, 7, 8, 9, 10, 11], \"hovertemplate\": \"%{y}[%{customdata}] = %{marker.color}<extra></extra>\", \"marker\": {\"color\": [\"rgb(254, 252, 205)\", \"rgb(239, 225, 156)\", \"rgb(221, 201, 106)\", \"rgb(194, 182, 59)\", \"rgb(157, 167, 21)\", \"rgb(116, 153, 5)\", \"rgb(75, 138, 20)\", \"rgb(35, 121, 36)\", \"rgb(11, 100, 44)\", \"rgb(18, 78, 43)\", \"rgb(25, 56, 34)\", \"rgb(23, 35, 18)\"]}, \"orientation\": \"h\", \"type\": \"bar\", \"x\": [1, 1, 1, 1, 1, 1, 1, 1, 1, 1, 1, 1], \"y\": [\"speed\", \"speed\", \"speed\", \"speed\", \"speed\", \"speed\", \"speed\", \"speed\", \"speed\", \"speed\", \"speed\", \"speed\"]}, {\"customdata\": [0, 1, 2, 3, 4, 5, 6, 7, 8, 9, 10, 11], \"hovertemplate\": \"%{y}[%{customdata}] = %{marker.color}<extra></extra>\", \"marker\": {\"color\": [\"rgb(253, 237, 176)\", \"rgb(250, 205, 145)\", \"rgb(246, 173, 119)\", \"rgb(240, 142, 98)\", \"rgb(231, 109, 84)\", \"rgb(216, 80, 83)\", \"rgb(195, 56, 90)\", \"rgb(168, 40, 96)\", \"rgb(138, 29, 99)\", \"rgb(107, 24, 93)\", \"rgb(76, 21, 80)\", \"rgb(47, 15, 61)\"]}, \"orientation\": \"h\", \"type\": \"bar\", \"x\": [1, 1, 1, 1, 1, 1, 1, 1, 1, 1, 1, 1], \"y\": [\"matter\", \"matter\", \"matter\", \"matter\", \"matter\", \"matter\", \"matter\", \"matter\", \"matter\", \"matter\", \"matter\", \"matter\"]}, {\"customdata\": [0, 1, 2, 3, 4, 5, 6, 7, 8, 9, 10, 11], \"hovertemplate\": \"%{y}[%{customdata}] = %{marker.color}<extra></extra>\", \"marker\": {\"color\": [\"rgb(214, 249, 207)\", \"rgb(186, 228, 174)\", \"rgb(156, 209, 143)\", \"rgb(124, 191, 115)\", \"rgb(85, 174, 91)\", \"rgb(37, 157, 81)\", \"rgb(7, 138, 78)\", \"rgb(13, 117, 71)\", \"rgb(23, 95, 61)\", \"rgb(25, 75, 49)\", \"rgb(23, 55, 35)\", \"rgb(17, 36, 20)\"]}, \"orientation\": \"h\", \"type\": \"bar\", \"x\": [1, 1, 1, 1, 1, 1, 1, 1, 1, 1, 1, 1], \"y\": [\"algae\", \"algae\", \"algae\", \"algae\", \"algae\", \"algae\", \"algae\", \"algae\", \"algae\", \"algae\", \"algae\", \"algae\"]}, {\"customdata\": [0, 1, 2, 3, 4, 5, 6, 7, 8, 9, 10, 11], \"hovertemplate\": \"%{y}[%{customdata}] = %{marker.color}<extra></extra>\", \"marker\": {\"color\": [\"rgb(230, 240, 240)\", \"rgb(191, 221, 229)\", \"rgb(156, 201, 226)\", \"rgb(129, 180, 227)\", \"rgb(115, 154, 228)\", \"rgb(117, 127, 221)\", \"rgb(120, 100, 202)\", \"rgb(119, 74, 175)\", \"rgb(113, 50, 141)\", \"rgb(100, 31, 104)\", \"rgb(80, 20, 66)\", \"rgb(54, 14, 36)\"]}, \"orientation\": \"h\", \"type\": \"bar\", \"x\": [1, 1, 1, 1, 1, 1, 1, 1, 1, 1, 1, 1], \"y\": [\"dense\", \"dense\", \"dense\", \"dense\", \"dense\", \"dense\", \"dense\", \"dense\", \"dense\", \"dense\", \"dense\", \"dense\"]}, {\"customdata\": [0, 1, 2, 3, 4, 5, 6, 7, 8, 9, 10, 11], \"hovertemplate\": \"%{y}[%{customdata}] = %{marker.color}<extra></extra>\", \"marker\": {\"color\": [\"rgb(253, 253, 204)\", \"rgb(206, 236, 179)\", \"rgb(156, 219, 165)\", \"rgb(111, 201, 163)\", \"rgb(86, 177, 163)\", \"rgb(76, 153, 160)\", \"rgb(68, 130, 155)\", \"rgb(62, 108, 150)\", \"rgb(62, 82, 143)\", \"rgb(64, 60, 115)\", \"rgb(54, 43, 77)\", \"rgb(39, 26, 44)\"]}, \"orientation\": \"h\", \"type\": \"bar\", \"x\": [1, 1, 1, 1, 1, 1, 1, 1, 1, 1, 1, 1], \"y\": [\"deep\", \"deep\", \"deep\", \"deep\", \"deep\", \"deep\", \"deep\", \"deep\", \"deep\", \"deep\", \"deep\", \"deep\"]}, {\"customdata\": [0, 1, 2, 3, 4, 5, 6, 7, 8, 9, 10, 11], \"hovertemplate\": \"%{y}[%{customdata}] = %{marker.color}<extra></extra>\", \"marker\": {\"color\": [\"rgb(0, 0, 0)\", \"rgb(16, 16, 16)\", \"rgb(38, 38, 38)\", \"rgb(59, 59, 59)\", \"rgb(81, 80, 80)\", \"rgb(102, 101, 101)\", \"rgb(124, 123, 122)\", \"rgb(146, 146, 145)\", \"rgb(171, 171, 170)\", \"rgb(197, 197, 195)\", \"rgb(224, 224, 223)\", \"rgb(254, 254, 253)\"]}, \"orientation\": \"h\", \"type\": \"bar\", \"x\": [1, 1, 1, 1, 1, 1, 1, 1, 1, 1, 1, 1], \"y\": [\"gray\", \"gray\", \"gray\", \"gray\", \"gray\", \"gray\", \"gray\", \"gray\", \"gray\", \"gray\", \"gray\", \"gray\"]}, {\"customdata\": [0, 1, 2, 3, 4, 5, 6, 7, 8, 9, 10, 11], \"hovertemplate\": \"%{y}[%{customdata}] = %{marker.color}<extra></extra>\", \"marker\": {\"color\": [\"rgb(3, 5, 18)\", \"rgb(25, 25, 51)\", \"rgb(44, 42, 87)\", \"rgb(58, 60, 125)\", \"rgb(62, 83, 160)\", \"rgb(62, 109, 178)\", \"rgb(72, 134, 187)\", \"rgb(89, 159, 196)\", \"rgb(114, 184, 205)\", \"rgb(149, 207, 216)\", \"rgb(192, 229, 232)\", \"rgb(234, 252, 253)\"]}, \"orientation\": \"h\", \"type\": \"bar\", \"x\": [1, 1, 1, 1, 1, 1, 1, 1, 1, 1, 1, 1], \"y\": [\"ice\", \"ice\", \"ice\", \"ice\", \"ice\", \"ice\", \"ice\", \"ice\", \"ice\", \"ice\", \"ice\", \"ice\"]}, {\"customdata\": [0, 1, 2, 3, 4, 5, 6, 7, 8, 9, 10, 11], \"hovertemplate\": \"%{y}[%{customdata}] = %{marker.color}<extra></extra>\", \"marker\": {\"color\": [\"rgb(51, 19, 23)\", \"rgb(79, 28, 33)\", \"rgb(108, 36, 36)\", \"rgb(135, 47, 32)\", \"rgb(157, 66, 25)\", \"rgb(174, 88, 20)\", \"rgb(188, 111, 19)\", \"rgb(199, 137, 22)\", \"rgb(209, 164, 32)\", \"rgb(217, 192, 44)\", \"rgb(222, 222, 59)\", \"rgb(224, 253, 74)\"]}, \"orientation\": \"h\", \"type\": \"bar\", \"x\": [1, 1, 1, 1, 1, 1, 1, 1, 1, 1, 1, 1], \"y\": [\"solar\", \"solar\", \"solar\", \"solar\", \"solar\", \"solar\", \"solar\", \"solar\", \"solar\", \"solar\", \"solar\", \"solar\"]}, {\"customdata\": [0, 1, 2, 3, 4, 5, 6, 7, 8, 9, 10, 11], \"hovertemplate\": \"%{y}[%{customdata}] = %{marker.color}<extra></extra>\", \"marker\": {\"color\": [\"rgb(41, 24, 107)\", \"rgb(42, 35, 160)\", \"rgb(15, 71, 153)\", \"rgb(18, 95, 142)\", \"rgb(38, 116, 137)\", \"rgb(53, 136, 136)\", \"rgb(65, 157, 133)\", \"rgb(81, 178, 124)\", \"rgb(111, 198, 107)\", \"rgb(160, 214, 91)\", \"rgb(212, 225, 112)\", \"rgb(253, 238, 153)\"]}, \"orientation\": \"h\", \"type\": \"bar\", \"x\": [1, 1, 1, 1, 1, 1, 1, 1, 1, 1, 1, 1], \"y\": [\"haline\", \"haline\", \"haline\", \"haline\", \"haline\", \"haline\", \"haline\", \"haline\", \"haline\", \"haline\", \"haline\", \"haline\"]}, {\"customdata\": [0, 1, 2, 3, 4, 5, 6, 7, 8, 9, 10, 11], \"hovertemplate\": \"%{y}[%{customdata}] = %{marker.color}<extra></extra>\", \"marker\": {\"color\": [\"rgb(3, 35, 51)\", \"rgb(13, 48, 100)\", \"rgb(53, 50, 155)\", \"rgb(93, 62, 153)\", \"rgb(126, 77, 143)\", \"rgb(158, 89, 135)\", \"rgb(193, 100, 121)\", \"rgb(225, 113, 97)\", \"rgb(246, 139, 69)\", \"rgb(251, 173, 60)\", \"rgb(246, 211, 70)\", \"rgb(231, 250, 90)\"]}, \"orientation\": \"h\", \"type\": \"bar\", \"x\": [1, 1, 1, 1, 1, 1, 1, 1, 1, 1, 1, 1], \"y\": [\"thermal\", \"thermal\", \"thermal\", \"thermal\", \"thermal\", \"thermal\", \"thermal\", \"thermal\", \"thermal\", \"thermal\", \"thermal\", \"thermal\"]}, {\"customdata\": [0, 1, 2, 3, 4, 5, 6, 7, 8, 9, 10, 11], \"hovertemplate\": \"%{y}[%{customdata}] = %{marker.color}<extra></extra>\", \"marker\": {\"color\": [\"rgb(232, 245, 171)\", \"rgb(220, 219, 137)\", \"rgb(209, 193, 107)\", \"rgb(199, 168, 83)\", \"rgb(186, 143, 66)\", \"rgb(170, 121, 60)\", \"rgb(151, 103, 58)\", \"rgb(129, 87, 56)\", \"rgb(104, 72, 53)\", \"rgb(80, 59, 46)\", \"rgb(57, 45, 37)\", \"rgb(34, 30, 27)\"]}, \"orientation\": \"h\", \"type\": \"bar\", \"x\": [1, 1, 1, 1, 1, 1, 1, 1, 1, 1, 1, 1], \"y\": [\"turbid\", \"turbid\", \"turbid\", \"turbid\", \"turbid\", \"turbid\", \"turbid\", \"turbid\", \"turbid\", \"turbid\", \"turbid\", \"turbid\"]}, {\"customdata\": [0, 1, 2, 3, 4, 5, 6, 7, 8], \"hovertemplate\": \"%{y}[%{customdata}] = %{marker.color}<extra></extra>\", \"marker\": {\"color\": [\"rgb(255,255,204)\", \"rgb(255,237,160)\", \"rgb(254,217,118)\", \"rgb(254,178,76)\", \"rgb(253,141,60)\", \"rgb(252,78,42)\", \"rgb(227,26,28)\", \"rgb(189,0,38)\", \"rgb(128,0,38)\"]}, \"orientation\": \"h\", \"type\": \"bar\", \"x\": [1, 1, 1, 1, 1, 1, 1, 1, 1], \"y\": [\"YlOrRd\", \"YlOrRd\", \"YlOrRd\", \"YlOrRd\", \"YlOrRd\", \"YlOrRd\", \"YlOrRd\", \"YlOrRd\", \"YlOrRd\"]}, {\"customdata\": [0, 1, 2, 3, 4, 5, 6, 7, 8], \"hovertemplate\": \"%{y}[%{customdata}] = %{marker.color}<extra></extra>\", \"marker\": {\"color\": [\"rgb(255,255,229)\", \"rgb(255,247,188)\", \"rgb(254,227,145)\", \"rgb(254,196,79)\", \"rgb(254,153,41)\", \"rgb(236,112,20)\", \"rgb(204,76,2)\", \"rgb(153,52,4)\", \"rgb(102,37,6)\"]}, \"orientation\": \"h\", \"type\": \"bar\", \"x\": [1, 1, 1, 1, 1, 1, 1, 1, 1], \"y\": [\"YlOrBr\", \"YlOrBr\", \"YlOrBr\", \"YlOrBr\", \"YlOrBr\", \"YlOrBr\", \"YlOrBr\", \"YlOrBr\", \"YlOrBr\"]}, {\"customdata\": [0, 1, 2, 3, 4, 5, 6, 7, 8], \"hovertemplate\": \"%{y}[%{customdata}] = %{marker.color}<extra></extra>\", \"marker\": {\"color\": [\"rgb(255,255,217)\", \"rgb(237,248,177)\", \"rgb(199,233,180)\", \"rgb(127,205,187)\", \"rgb(65,182,196)\", \"rgb(29,145,192)\", \"rgb(34,94,168)\", \"rgb(37,52,148)\", \"rgb(8,29,88)\"]}, \"orientation\": \"h\", \"type\": \"bar\", \"x\": [1, 1, 1, 1, 1, 1, 1, 1, 1], \"y\": [\"YlGnBu\", \"YlGnBu\", \"YlGnBu\", \"YlGnBu\", \"YlGnBu\", \"YlGnBu\", \"YlGnBu\", \"YlGnBu\", \"YlGnBu\"]}, {\"customdata\": [0, 1, 2, 3, 4, 5, 6, 7, 8], \"hovertemplate\": \"%{y}[%{customdata}] = %{marker.color}<extra></extra>\", \"marker\": {\"color\": [\"rgb(255,255,229)\", \"rgb(247,252,185)\", \"rgb(217,240,163)\", \"rgb(173,221,142)\", \"rgb(120,198,121)\", \"rgb(65,171,93)\", \"rgb(35,132,67)\", \"rgb(0,104,55)\", \"rgb(0,69,41)\"]}, \"orientation\": \"h\", \"type\": \"bar\", \"x\": [1, 1, 1, 1, 1, 1, 1, 1, 1], \"y\": [\"YlGn\", \"YlGn\", \"YlGn\", \"YlGn\", \"YlGn\", \"YlGn\", \"YlGn\", \"YlGn\", \"YlGn\"]}, {\"customdata\": [0, 1, 2, 3, 4, 5, 6, 7, 8], \"hovertemplate\": \"%{y}[%{customdata}] = %{marker.color}<extra></extra>\", \"marker\": {\"color\": [\"rgb(255,245,240)\", \"rgb(254,224,210)\", \"rgb(252,187,161)\", \"rgb(252,146,114)\", \"rgb(251,106,74)\", \"rgb(239,59,44)\", \"rgb(203,24,29)\", \"rgb(165,15,21)\", \"rgb(103,0,13)\"]}, \"orientation\": \"h\", \"type\": \"bar\", \"x\": [1, 1, 1, 1, 1, 1, 1, 1, 1], \"y\": [\"Reds\", \"Reds\", \"Reds\", \"Reds\", \"Reds\", \"Reds\", \"Reds\", \"Reds\", \"Reds\"]}, {\"customdata\": [0, 1, 2, 3, 4, 5, 6, 7, 8], \"hovertemplate\": \"%{y}[%{customdata}] = %{marker.color}<extra></extra>\", \"marker\": {\"color\": [\"rgb(255,247,243)\", \"rgb(253,224,221)\", \"rgb(252,197,192)\", \"rgb(250,159,181)\", \"rgb(247,104,161)\", \"rgb(221,52,151)\", \"rgb(174,1,126)\", \"rgb(122,1,119)\", \"rgb(73,0,106)\"]}, \"orientation\": \"h\", \"type\": \"bar\", \"x\": [1, 1, 1, 1, 1, 1, 1, 1, 1], \"y\": [\"RdPu\", \"RdPu\", \"RdPu\", \"RdPu\", \"RdPu\", \"RdPu\", \"RdPu\", \"RdPu\", \"RdPu\"]}, {\"customdata\": [0, 1, 2, 3, 4, 5, 6, 7, 8, 9, 10], \"hovertemplate\": \"%{y}[%{customdata}] = %{marker.color}<extra></extra>\", \"marker\": {\"color\": [\"rgb(103,0,31)\", \"rgb(178,24,43)\", \"rgb(214,96,77)\", \"rgb(244,165,130)\", \"rgb(253,219,199)\", \"rgb(247,247,247)\", \"rgb(209,229,240)\", \"rgb(146,197,222)\", \"rgb(67,147,195)\", \"rgb(33,102,172)\", \"rgb(5,48,97)\"]}, \"orientation\": \"h\", \"type\": \"bar\", \"x\": [1, 1, 1, 1, 1, 1, 1, 1, 1, 1, 1], \"y\": [\"RdBu\", \"RdBu\", \"RdBu\", \"RdBu\", \"RdBu\", \"RdBu\", \"RdBu\", \"RdBu\", \"RdBu\", \"RdBu\", \"RdBu\"]}, {\"customdata\": [0, 1, 2, 3, 4, 5, 6, 7, 8], \"hovertemplate\": \"%{y}[%{customdata}] = %{marker.color}<extra></extra>\", \"marker\": {\"color\": [\"rgb(252,251,253)\", \"rgb(239,237,245)\", \"rgb(218,218,235)\", \"rgb(188,189,220)\", \"rgb(158,154,200)\", \"rgb(128,125,186)\", \"rgb(106,81,163)\", \"rgb(84,39,143)\", \"rgb(63,0,125)\"]}, \"orientation\": \"h\", \"type\": \"bar\", \"x\": [1, 1, 1, 1, 1, 1, 1, 1, 1], \"y\": [\"Purples\", \"Purples\", \"Purples\", \"Purples\", \"Purples\", \"Purples\", \"Purples\", \"Purples\", \"Purples\"]}, {\"customdata\": [0, 1, 2, 3, 4, 5, 6, 7, 8], \"hovertemplate\": \"%{y}[%{customdata}] = %{marker.color}<extra></extra>\", \"marker\": {\"color\": [\"rgb(247,244,249)\", \"rgb(231,225,239)\", \"rgb(212,185,218)\", \"rgb(201,148,199)\", \"rgb(223,101,176)\", \"rgb(231,41,138)\", \"rgb(206,18,86)\", \"rgb(152,0,67)\", \"rgb(103,0,31)\"]}, \"orientation\": \"h\", \"type\": \"bar\", \"x\": [1, 1, 1, 1, 1, 1, 1, 1, 1], \"y\": [\"PuRd\", \"PuRd\", \"PuRd\", \"PuRd\", \"PuRd\", \"PuRd\", \"PuRd\", \"PuRd\", \"PuRd\"]}, {\"customdata\": [0, 1, 2, 3, 4, 5, 6, 7, 8], \"hovertemplate\": \"%{y}[%{customdata}] = %{marker.color}<extra></extra>\", \"marker\": {\"color\": [\"rgb(255,247,251)\", \"rgb(236,226,240)\", \"rgb(208,209,230)\", \"rgb(166,189,219)\", \"rgb(103,169,207)\", \"rgb(54,144,192)\", \"rgb(2,129,138)\", \"rgb(1,108,89)\", \"rgb(1,70,54)\"]}, \"orientation\": \"h\", \"type\": \"bar\", \"x\": [1, 1, 1, 1, 1, 1, 1, 1, 1], \"y\": [\"PuBuGn\", \"PuBuGn\", \"PuBuGn\", \"PuBuGn\", \"PuBuGn\", \"PuBuGn\", \"PuBuGn\", \"PuBuGn\", \"PuBuGn\"]}, {\"customdata\": [0, 1, 2, 3, 4, 5, 6, 7, 8], \"hovertemplate\": \"%{y}[%{customdata}] = %{marker.color}<extra></extra>\", \"marker\": {\"color\": [\"rgb(255,247,251)\", \"rgb(236,231,242)\", \"rgb(208,209,230)\", \"rgb(166,189,219)\", \"rgb(116,169,207)\", \"rgb(54,144,192)\", \"rgb(5,112,176)\", \"rgb(4,90,141)\", \"rgb(2,56,88)\"]}, \"orientation\": \"h\", \"type\": \"bar\", \"x\": [1, 1, 1, 1, 1, 1, 1, 1, 1], \"y\": [\"PuBu\", \"PuBu\", \"PuBu\", \"PuBu\", \"PuBu\", \"PuBu\", \"PuBu\", \"PuBu\", \"PuBu\"]}, {\"customdata\": [0, 1, 2, 3, 4, 5, 6, 7, 8], \"hovertemplate\": \"%{y}[%{customdata}] = %{marker.color}<extra></extra>\", \"marker\": {\"color\": [\"rgb(255,245,235)\", \"rgb(254,230,206)\", \"rgb(253,208,162)\", \"rgb(253,174,107)\", \"rgb(253,141,60)\", \"rgb(241,105,19)\", \"rgb(217,72,1)\", \"rgb(166,54,3)\", \"rgb(127,39,4)\"]}, \"orientation\": \"h\", \"type\": \"bar\", \"x\": [1, 1, 1, 1, 1, 1, 1, 1, 1], \"y\": [\"Oranges\", \"Oranges\", \"Oranges\", \"Oranges\", \"Oranges\", \"Oranges\", \"Oranges\", \"Oranges\", \"Oranges\"]}, {\"customdata\": [0, 1, 2, 3, 4, 5, 6, 7, 8], \"hovertemplate\": \"%{y}[%{customdata}] = %{marker.color}<extra></extra>\", \"marker\": {\"color\": [\"rgb(255,247,236)\", \"rgb(254,232,200)\", \"rgb(253,212,158)\", \"rgb(253,187,132)\", \"rgb(252,141,89)\", \"rgb(239,101,72)\", \"rgb(215,48,31)\", \"rgb(179,0,0)\", \"rgb(127,0,0)\"]}, \"orientation\": \"h\", \"type\": \"bar\", \"x\": [1, 1, 1, 1, 1, 1, 1, 1, 1], \"y\": [\"OrRd\", \"OrRd\", \"OrRd\", \"OrRd\", \"OrRd\", \"OrRd\", \"OrRd\", \"OrRd\", \"OrRd\"]}, {\"customdata\": [0, 1, 2, 3, 4, 5, 6, 7, 8], \"hovertemplate\": \"%{y}[%{customdata}] = %{marker.color}<extra></extra>\", \"marker\": {\"color\": [\"rgb(255,255,255)\", \"rgb(240,240,240)\", \"rgb(217,217,217)\", \"rgb(189,189,189)\", \"rgb(150,150,150)\", \"rgb(115,115,115)\", \"rgb(82,82,82)\", \"rgb(37,37,37)\", \"rgb(0,0,0)\"]}, \"orientation\": \"h\", \"type\": \"bar\", \"x\": [1, 1, 1, 1, 1, 1, 1, 1, 1], \"y\": [\"Greys\", \"Greys\", \"Greys\", \"Greys\", \"Greys\", \"Greys\", \"Greys\", \"Greys\", \"Greys\"]}, {\"customdata\": [0, 1, 2, 3, 4, 5, 6, 7, 8], \"hovertemplate\": \"%{y}[%{customdata}] = %{marker.color}<extra></extra>\", \"marker\": {\"color\": [\"rgb(247,252,245)\", \"rgb(229,245,224)\", \"rgb(199,233,192)\", \"rgb(161,217,155)\", \"rgb(116,196,118)\", \"rgb(65,171,93)\", \"rgb(35,139,69)\", \"rgb(0,109,44)\", \"rgb(0,68,27)\"]}, \"orientation\": \"h\", \"type\": \"bar\", \"x\": [1, 1, 1, 1, 1, 1, 1, 1, 1], \"y\": [\"Greens\", \"Greens\", \"Greens\", \"Greens\", \"Greens\", \"Greens\", \"Greens\", \"Greens\", \"Greens\"]}, {\"customdata\": [0, 1, 2, 3, 4, 5, 6, 7, 8], \"hovertemplate\": \"%{y}[%{customdata}] = %{marker.color}<extra></extra>\", \"marker\": {\"color\": [\"rgb(247,252,240)\", \"rgb(224,243,219)\", \"rgb(204,235,197)\", \"rgb(168,221,181)\", \"rgb(123,204,196)\", \"rgb(78,179,211)\", \"rgb(43,140,190)\", \"rgb(8,104,172)\", \"rgb(8,64,129)\"]}, \"orientation\": \"h\", \"type\": \"bar\", \"x\": [1, 1, 1, 1, 1, 1, 1, 1, 1], \"y\": [\"GnBu\", \"GnBu\", \"GnBu\", \"GnBu\", \"GnBu\", \"GnBu\", \"GnBu\", \"GnBu\", \"GnBu\"]}, {\"customdata\": [0, 1, 2, 3, 4, 5, 6, 7, 8], \"hovertemplate\": \"%{y}[%{customdata}] = %{marker.color}<extra></extra>\", \"marker\": {\"color\": [\"rgb(247,252,253)\", \"rgb(224,236,244)\", \"rgb(191,211,230)\", \"rgb(158,188,218)\", \"rgb(140,150,198)\", \"rgb(140,107,177)\", \"rgb(136,65,157)\", \"rgb(129,15,124)\", \"rgb(77,0,75)\"]}, \"orientation\": \"h\", \"type\": \"bar\", \"x\": [1, 1, 1, 1, 1, 1, 1, 1, 1], \"y\": [\"BuPu\", \"BuPu\", \"BuPu\", \"BuPu\", \"BuPu\", \"BuPu\", \"BuPu\", \"BuPu\", \"BuPu\"]}, {\"customdata\": [0, 1, 2, 3, 4, 5, 6, 7, 8], \"hovertemplate\": \"%{y}[%{customdata}] = %{marker.color}<extra></extra>\", \"marker\": {\"color\": [\"rgb(247,252,253)\", \"rgb(229,245,249)\", \"rgb(204,236,230)\", \"rgb(153,216,201)\", \"rgb(102,194,164)\", \"rgb(65,174,118)\", \"rgb(35,139,69)\", \"rgb(0,109,44)\", \"rgb(0,68,27)\"]}, \"orientation\": \"h\", \"type\": \"bar\", \"x\": [1, 1, 1, 1, 1, 1, 1, 1, 1], \"y\": [\"BuGn\", \"BuGn\", \"BuGn\", \"BuGn\", \"BuGn\", \"BuGn\", \"BuGn\", \"BuGn\", \"BuGn\"]}, {\"customdata\": [0, 1, 2, 3, 4, 5, 6, 7, 8], \"hovertemplate\": \"%{y}[%{customdata}] = %{marker.color}<extra></extra>\", \"marker\": {\"color\": [\"rgb(247,251,255)\", \"rgb(222,235,247)\", \"rgb(198,219,239)\", \"rgb(158,202,225)\", \"rgb(107,174,214)\", \"rgb(66,146,198)\", \"rgb(33,113,181)\", \"rgb(8,81,156)\", \"rgb(8,48,107)\"]}, \"orientation\": \"h\", \"type\": \"bar\", \"x\": [1, 1, 1, 1, 1, 1, 1, 1, 1], \"y\": [\"Blues\", \"Blues\", \"Blues\", \"Blues\", \"Blues\", \"Blues\", \"Blues\", \"Blues\", \"Blues\"]}, {\"customdata\": [0, 1, 2, 3, 4, 5, 6, 7, 8], \"hovertemplate\": \"%{y}[%{customdata}] = %{marker.color}<extra></extra>\", \"marker\": {\"color\": [\"rgb(150,0,90)\", \"rgb(0,0,200)\", \"rgb(0,25,255)\", \"rgb(0,152,255)\", \"rgb(44,255,150)\", \"rgb(151,255,0)\", \"rgb(255,234,0)\", \"rgb(255,111,0)\", \"rgb(255,0,0)\"]}, \"orientation\": \"h\", \"type\": \"bar\", \"x\": [1, 1, 1, 1, 1, 1, 1, 1, 1], \"y\": [\"Rainbow\", \"Rainbow\", \"Rainbow\", \"Rainbow\", \"Rainbow\", \"Rainbow\", \"Rainbow\", \"Rainbow\", \"Rainbow\"]}, {\"customdata\": [0, 1, 2, 3, 4, 5], \"hovertemplate\": \"%{y}[%{customdata}] = %{marker.color}<extra></extra>\", \"marker\": {\"color\": [\"rgb(0,0,131)\", \"rgb(0,60,170)\", \"rgb(5,255,255)\", \"rgb(255,255,0)\", \"rgb(250,0,0)\", \"rgb(128,0,0)\"]}, \"orientation\": \"h\", \"type\": \"bar\", \"x\": [1, 1, 1, 1, 1, 1], \"y\": [\"Jet\", \"Jet\", \"Jet\", \"Jet\", \"Jet\", \"Jet\"]}, {\"customdata\": [0, 1, 2, 3], \"hovertemplate\": \"%{y}[%{customdata}] = %{marker.color}<extra></extra>\", \"marker\": {\"color\": [\"rgb(0,0,0)\", \"rgb(230,0,0)\", \"rgb(255,210,0)\", \"rgb(255,255,255)\"]}, \"orientation\": \"h\", \"type\": \"bar\", \"x\": [1, 1, 1, 1], \"y\": [\"Hot\", \"Hot\", \"Hot\", \"Hot\"]}, {\"customdata\": [0, 1, 2, 3, 4, 5], \"hovertemplate\": \"%{y}[%{customdata}] = %{marker.color}<extra></extra>\", \"marker\": {\"color\": [\"rgb(0,0,0)\", \"rgb(30,0,100)\", \"rgb(120,0,100)\", \"rgb(160,90,0)\", \"rgb(230,200,0)\", \"rgb(255,250,220)\"]}, \"orientation\": \"h\", \"type\": \"bar\", \"x\": [1, 1, 1, 1, 1, 1], \"y\": [\"Electric\", \"Electric\", \"Electric\", \"Electric\", \"Electric\", \"Electric\"]}, {\"customdata\": [0, 1], \"hovertemplate\": \"%{y}[%{customdata}] = %{marker.color}<extra></extra>\", \"marker\": {\"color\": [\"rgb(0,0,255)\", \"rgb(255,0,0)\"]}, \"orientation\": \"h\", \"type\": \"bar\", \"x\": [1, 1], \"y\": [\"Bluered\", \"Bluered\"]}, {\"customdata\": [0, 1, 2, 3, 4], \"hovertemplate\": \"%{y}[%{customdata}] = %{marker.color}<extra></extra>\", \"marker\": {\"color\": [\"rgb(0,0,0)\", \"rgb(230,0,0)\", \"rgb(230,210,0)\", \"rgb(255,255,255)\", \"rgb(160,200,255)\"]}, \"orientation\": \"h\", \"type\": \"bar\", \"x\": [1, 1, 1, 1, 1], \"y\": [\"Blackbody\", \"Blackbody\", \"Blackbody\", \"Blackbody\", \"Blackbody\"]}, {\"customdata\": [0, 1, 2, 3, 4, 5, 6, 7, 8, 9], \"hovertemplate\": \"%{y}[%{customdata}] = %{marker.color}<extra></extra>\", \"marker\": {\"color\": [\"#0d0887\", \"#46039f\", \"#7201a8\", \"#9c179e\", \"#bd3786\", \"#d8576b\", \"#ed7953\", \"#fb9f3a\", \"#fdca26\", \"#f0f921\"]}, \"orientation\": \"h\", \"type\": \"bar\", \"x\": [1, 1, 1, 1, 1, 1, 1, 1, 1, 1], \"y\": [\"Plasma\", \"Plasma\", \"Plasma\", \"Plasma\", \"Plasma\", \"Plasma\", \"Plasma\", \"Plasma\", \"Plasma\", \"Plasma\"]}, {\"customdata\": [0, 1, 2, 3, 4, 5, 6, 7, 8, 9], \"hovertemplate\": \"%{y}[%{customdata}] = %{marker.color}<extra></extra>\", \"marker\": {\"color\": [\"#000004\", \"#180f3d\", \"#440f76\", \"#721f81\", \"#9e2f7f\", \"#cd4071\", \"#f1605d\", \"#fd9668\", \"#feca8d\", \"#fcfdbf\"]}, \"orientation\": \"h\", \"type\": \"bar\", \"x\": [1, 1, 1, 1, 1, 1, 1, 1, 1, 1], \"y\": [\"Magma\", \"Magma\", \"Magma\", \"Magma\", \"Magma\", \"Magma\", \"Magma\", \"Magma\", \"Magma\", \"Magma\"]}, {\"customdata\": [0, 1, 2, 3, 4, 5, 6, 7, 8, 9], \"hovertemplate\": \"%{y}[%{customdata}] = %{marker.color}<extra></extra>\", \"marker\": {\"color\": [\"#000004\", \"#1b0c41\", \"#4a0c6b\", \"#781c6d\", \"#a52c60\", \"#cf4446\", \"#ed6925\", \"#fb9b06\", \"#f7d13d\", \"#fcffa4\"]}, \"orientation\": \"h\", \"type\": \"bar\", \"x\": [1, 1, 1, 1, 1, 1, 1, 1, 1, 1], \"y\": [\"Inferno\", \"Inferno\", \"Inferno\", \"Inferno\", \"Inferno\", \"Inferno\", \"Inferno\", \"Inferno\", \"Inferno\", \"Inferno\"]}, {\"customdata\": [0, 1, 2, 3, 4, 5, 6, 7, 8, 9], \"hovertemplate\": \"%{y}[%{customdata}] = %{marker.color}<extra></extra>\", \"marker\": {\"color\": [\"#00224e\", \"#123570\", \"#3b496c\", \"#575d6d\", \"#707173\", \"#8a8678\", \"#a59c74\", \"#c3b369\", \"#e1cc55\", \"#fee838\"]}, \"orientation\": \"h\", \"type\": \"bar\", \"x\": [1, 1, 1, 1, 1, 1, 1, 1, 1, 1], \"y\": [\"Cividis\", \"Cividis\", \"Cividis\", \"Cividis\", \"Cividis\", \"Cividis\", \"Cividis\", \"Cividis\", \"Cividis\", \"Cividis\"]}, {\"customdata\": [0, 1, 2, 3, 4, 5, 6, 7, 8, 9], \"hovertemplate\": \"%{y}[%{customdata}] = %{marker.color}<extra></extra>\", \"marker\": {\"color\": [\"#440154\", \"#482878\", \"#3e4989\", \"#31688e\", \"#26828e\", \"#1f9e89\", \"#35b779\", \"#6ece58\", \"#b5de2b\", \"#fde725\"]}, \"orientation\": \"h\", \"type\": \"bar\", \"x\": [1, 1, 1, 1, 1, 1, 1, 1, 1, 1], \"y\": [\"Viridis\", \"Viridis\", \"Viridis\", \"Viridis\", \"Viridis\", \"Viridis\", \"Viridis\", \"Viridis\", \"Viridis\", \"Viridis\"]}, {\"customdata\": [0, 1, 2, 3, 4, 5, 6, 7, 8, 9, 10, 11, 12], \"hovertemplate\": \"%{y}[%{customdata}] = %{marker.color}<extra></extra>\", \"marker\": {\"color\": [\"#0508b8\", \"#1910d8\", \"#3c19f0\", \"#6b1cfb\", \"#981cfd\", \"#bf1cfd\", \"#dd2bfd\", \"#f246fe\", \"#fc67fd\", \"#fe88fc\", \"#fea5fd\", \"#febefe\", \"#fec3fe\"]}, \"orientation\": \"h\", \"type\": \"bar\", \"x\": [1, 1, 1, 1, 1, 1, 1, 1, 1, 1, 1, 1, 1], \"y\": [\"Plotly3\", \"Plotly3\", \"Plotly3\", \"Plotly3\", \"Plotly3\", \"Plotly3\", \"Plotly3\", \"Plotly3\", \"Plotly3\", \"Plotly3\", \"Plotly3\", \"Plotly3\", \"Plotly3\"]}],\n",
       "                        {\"bargap\": 0.5, \"barmode\": \"stack\", \"barnorm\": \"fraction\", \"height\": 2600, \"margin\": {\"b\": 10}, \"showlegend\": false, \"template\": {\"data\": {\"bar\": [{\"error_x\": {\"color\": \"#2a3f5f\"}, \"error_y\": {\"color\": \"#2a3f5f\"}, \"marker\": {\"line\": {\"color\": \"#E5ECF6\", \"width\": 0.5}}, \"type\": \"bar\"}], \"barpolar\": [{\"marker\": {\"line\": {\"color\": \"#E5ECF6\", \"width\": 0.5}}, \"type\": \"barpolar\"}], \"carpet\": [{\"aaxis\": {\"endlinecolor\": \"#2a3f5f\", \"gridcolor\": \"white\", \"linecolor\": \"white\", \"minorgridcolor\": \"white\", \"startlinecolor\": \"#2a3f5f\"}, \"baxis\": {\"endlinecolor\": \"#2a3f5f\", \"gridcolor\": \"white\", \"linecolor\": \"white\", \"minorgridcolor\": \"white\", \"startlinecolor\": \"#2a3f5f\"}, \"type\": \"carpet\"}], \"choropleth\": [{\"colorbar\": {\"outlinewidth\": 0, \"ticks\": \"\"}, \"type\": \"choropleth\"}], \"contour\": [{\"colorbar\": {\"outlinewidth\": 0, \"ticks\": \"\"}, \"colorscale\": [[0.0, \"#0d0887\"], [0.1111111111111111, \"#46039f\"], [0.2222222222222222, \"#7201a8\"], [0.3333333333333333, \"#9c179e\"], [0.4444444444444444, \"#bd3786\"], [0.5555555555555556, \"#d8576b\"], [0.6666666666666666, \"#ed7953\"], [0.7777777777777778, \"#fb9f3a\"], [0.8888888888888888, \"#fdca26\"], [1.0, \"#f0f921\"]], \"type\": \"contour\"}], \"contourcarpet\": [{\"colorbar\": {\"outlinewidth\": 0, \"ticks\": \"\"}, \"type\": \"contourcarpet\"}], \"heatmap\": [{\"colorbar\": {\"outlinewidth\": 0, \"ticks\": \"\"}, \"colorscale\": [[0.0, \"#0d0887\"], [0.1111111111111111, \"#46039f\"], [0.2222222222222222, \"#7201a8\"], [0.3333333333333333, \"#9c179e\"], [0.4444444444444444, \"#bd3786\"], [0.5555555555555556, \"#d8576b\"], [0.6666666666666666, \"#ed7953\"], [0.7777777777777778, \"#fb9f3a\"], [0.8888888888888888, \"#fdca26\"], [1.0, \"#f0f921\"]], \"type\": \"heatmap\"}], \"heatmapgl\": [{\"colorbar\": {\"outlinewidth\": 0, \"ticks\": \"\"}, \"colorscale\": [[0.0, \"#0d0887\"], [0.1111111111111111, \"#46039f\"], [0.2222222222222222, \"#7201a8\"], [0.3333333333333333, \"#9c179e\"], [0.4444444444444444, \"#bd3786\"], [0.5555555555555556, \"#d8576b\"], [0.6666666666666666, \"#ed7953\"], [0.7777777777777778, \"#fb9f3a\"], [0.8888888888888888, \"#fdca26\"], [1.0, \"#f0f921\"]], \"type\": \"heatmapgl\"}], \"histogram\": [{\"marker\": {\"colorbar\": {\"outlinewidth\": 0, \"ticks\": \"\"}}, \"type\": \"histogram\"}], \"histogram2d\": [{\"colorbar\": {\"outlinewidth\": 0, \"ticks\": \"\"}, \"colorscale\": [[0.0, \"#0d0887\"], [0.1111111111111111, \"#46039f\"], [0.2222222222222222, \"#7201a8\"], [0.3333333333333333, \"#9c179e\"], [0.4444444444444444, \"#bd3786\"], [0.5555555555555556, \"#d8576b\"], [0.6666666666666666, \"#ed7953\"], [0.7777777777777778, \"#fb9f3a\"], [0.8888888888888888, \"#fdca26\"], [1.0, \"#f0f921\"]], \"type\": \"histogram2d\"}], \"histogram2dcontour\": [{\"colorbar\": {\"outlinewidth\": 0, \"ticks\": \"\"}, \"colorscale\": [[0.0, \"#0d0887\"], [0.1111111111111111, \"#46039f\"], [0.2222222222222222, \"#7201a8\"], [0.3333333333333333, \"#9c179e\"], [0.4444444444444444, \"#bd3786\"], [0.5555555555555556, \"#d8576b\"], [0.6666666666666666, \"#ed7953\"], [0.7777777777777778, \"#fb9f3a\"], [0.8888888888888888, \"#fdca26\"], [1.0, \"#f0f921\"]], \"type\": \"histogram2dcontour\"}], \"mesh3d\": [{\"colorbar\": {\"outlinewidth\": 0, \"ticks\": \"\"}, \"type\": \"mesh3d\"}], \"parcoords\": [{\"line\": {\"colorbar\": {\"outlinewidth\": 0, \"ticks\": \"\"}}, \"type\": \"parcoords\"}], \"pie\": [{\"automargin\": true, \"type\": \"pie\"}], \"scatter\": [{\"marker\": {\"colorbar\": {\"outlinewidth\": 0, \"ticks\": \"\"}}, \"type\": \"scatter\"}], \"scatter3d\": [{\"line\": {\"colorbar\": {\"outlinewidth\": 0, \"ticks\": \"\"}}, \"marker\": {\"colorbar\": {\"outlinewidth\": 0, \"ticks\": \"\"}}, \"type\": \"scatter3d\"}], \"scattercarpet\": [{\"marker\": {\"colorbar\": {\"outlinewidth\": 0, \"ticks\": \"\"}}, \"type\": \"scattercarpet\"}], \"scattergeo\": [{\"marker\": {\"colorbar\": {\"outlinewidth\": 0, \"ticks\": \"\"}}, \"type\": \"scattergeo\"}], \"scattergl\": [{\"marker\": {\"colorbar\": {\"outlinewidth\": 0, \"ticks\": \"\"}}, \"type\": \"scattergl\"}], \"scattermapbox\": [{\"marker\": {\"colorbar\": {\"outlinewidth\": 0, \"ticks\": \"\"}}, \"type\": \"scattermapbox\"}], \"scatterpolar\": [{\"marker\": {\"colorbar\": {\"outlinewidth\": 0, \"ticks\": \"\"}}, \"type\": \"scatterpolar\"}], \"scatterpolargl\": [{\"marker\": {\"colorbar\": {\"outlinewidth\": 0, \"ticks\": \"\"}}, \"type\": \"scatterpolargl\"}], \"scatterternary\": [{\"marker\": {\"colorbar\": {\"outlinewidth\": 0, \"ticks\": \"\"}}, \"type\": \"scatterternary\"}], \"surface\": [{\"colorbar\": {\"outlinewidth\": 0, \"ticks\": \"\"}, \"colorscale\": [[0.0, \"#0d0887\"], [0.1111111111111111, \"#46039f\"], [0.2222222222222222, \"#7201a8\"], [0.3333333333333333, \"#9c179e\"], [0.4444444444444444, \"#bd3786\"], [0.5555555555555556, \"#d8576b\"], [0.6666666666666666, \"#ed7953\"], [0.7777777777777778, \"#fb9f3a\"], [0.8888888888888888, \"#fdca26\"], [1.0, \"#f0f921\"]], \"type\": \"surface\"}], \"table\": [{\"cells\": {\"fill\": {\"color\": \"#EBF0F8\"}, \"line\": {\"color\": \"white\"}}, \"header\": {\"fill\": {\"color\": \"#C8D4E3\"}, \"line\": {\"color\": \"white\"}}, \"type\": \"table\"}]}, \"layout\": {\"annotationdefaults\": {\"arrowcolor\": \"#2a3f5f\", \"arrowhead\": 0, \"arrowwidth\": 1}, \"coloraxis\": {\"colorbar\": {\"outlinewidth\": 0, \"ticks\": \"\"}}, \"colorscale\": {\"diverging\": [[0, \"#8e0152\"], [0.1, \"#c51b7d\"], [0.2, \"#de77ae\"], [0.3, \"#f1b6da\"], [0.4, \"#fde0ef\"], [0.5, \"#f7f7f7\"], [0.6, \"#e6f5d0\"], [0.7, \"#b8e186\"], [0.8, \"#7fbc41\"], [0.9, \"#4d9221\"], [1, \"#276419\"]], \"sequential\": [[0.0, \"#0d0887\"], [0.1111111111111111, \"#46039f\"], [0.2222222222222222, \"#7201a8\"], [0.3333333333333333, \"#9c179e\"], [0.4444444444444444, \"#bd3786\"], [0.5555555555555556, \"#d8576b\"], [0.6666666666666666, \"#ed7953\"], [0.7777777777777778, \"#fb9f3a\"], [0.8888888888888888, \"#fdca26\"], [1.0, \"#f0f921\"]], \"sequentialminus\": [[0.0, \"#0d0887\"], [0.1111111111111111, \"#46039f\"], [0.2222222222222222, \"#7201a8\"], [0.3333333333333333, \"#9c179e\"], [0.4444444444444444, \"#bd3786\"], [0.5555555555555556, \"#d8576b\"], [0.6666666666666666, \"#ed7953\"], [0.7777777777777778, \"#fb9f3a\"], [0.8888888888888888, \"#fdca26\"], [1.0, \"#f0f921\"]]}, \"colorway\": [\"#636efa\", \"#EF553B\", \"#00cc96\", \"#ab63fa\", \"#FFA15A\", \"#19d3f3\", \"#FF6692\", \"#B6E880\", \"#FF97FF\", \"#FECB52\"], \"font\": {\"color\": \"#2a3f5f\"}, \"geo\": {\"bgcolor\": \"white\", \"lakecolor\": \"white\", \"landcolor\": \"#E5ECF6\", \"showlakes\": true, \"showland\": true, \"subunitcolor\": \"white\"}, \"hoverlabel\": {\"align\": \"left\"}, \"hovermode\": \"closest\", \"mapbox\": {\"style\": \"light\"}, \"paper_bgcolor\": \"white\", \"plot_bgcolor\": \"#E5ECF6\", \"polar\": {\"angularaxis\": {\"gridcolor\": \"white\", \"linecolor\": \"white\", \"ticks\": \"\"}, \"bgcolor\": \"#E5ECF6\", \"radialaxis\": {\"gridcolor\": \"white\", \"linecolor\": \"white\", \"ticks\": \"\"}}, \"scene\": {\"xaxis\": {\"backgroundcolor\": \"#E5ECF6\", \"gridcolor\": \"white\", \"gridwidth\": 2, \"linecolor\": \"white\", \"showbackground\": true, \"ticks\": \"\", \"zerolinecolor\": \"white\"}, \"yaxis\": {\"backgroundcolor\": \"#E5ECF6\", \"gridcolor\": \"white\", \"gridwidth\": 2, \"linecolor\": \"white\", \"showbackground\": true, \"ticks\": \"\", \"zerolinecolor\": \"white\"}, \"zaxis\": {\"backgroundcolor\": \"#E5ECF6\", \"gridcolor\": \"white\", \"gridwidth\": 2, \"linecolor\": \"white\", \"showbackground\": true, \"ticks\": \"\", \"zerolinecolor\": \"white\"}}, \"shapedefaults\": {\"line\": {\"color\": \"#2a3f5f\"}}, \"ternary\": {\"aaxis\": {\"gridcolor\": \"white\", \"linecolor\": \"white\", \"ticks\": \"\"}, \"baxis\": {\"gridcolor\": \"white\", \"linecolor\": \"white\", \"ticks\": \"\"}, \"bgcolor\": \"#E5ECF6\", \"caxis\": {\"gridcolor\": \"white\", \"linecolor\": \"white\", \"ticks\": \"\"}}, \"title\": {\"x\": 0.05}, \"xaxis\": {\"automargin\": true, \"gridcolor\": \"white\", \"linecolor\": \"white\", \"ticks\": \"\", \"title\": {\"standoff\": 15}, \"zerolinecolor\": \"white\", \"zerolinewidth\": 2}, \"yaxis\": {\"automargin\": true, \"gridcolor\": \"white\", \"linecolor\": \"white\", \"ticks\": \"\", \"title\": {\"standoff\": 15}, \"zerolinecolor\": \"white\", \"zerolinewidth\": 2}}}, \"title\": {\"text\": \"plotly.colors.sequential\"}, \"xaxis\": {\"range\": [-0.02, 1.02], \"showgrid\": false, \"showticklabels\": false}},\n",
       "                        {\"responsive\": true}\n",
       "                    ).then(function(){\n",
       "                            \n",
       "var gd = document.getElementById('d9629cd9-19d6-4560-9694-dc73a75be631');\n",
       "var x = new MutationObserver(function (mutations, observer) {{\n",
       "        var display = window.getComputedStyle(gd).display;\n",
       "        if (!display || display === 'none') {{\n",
       "            console.log([gd, 'removed!']);\n",
       "            Plotly.purge(gd);\n",
       "            observer.disconnect();\n",
       "        }}\n",
       "}});\n",
       "\n",
       "// Listen for the removal of the full notebook cells\n",
       "var notebookContainer = gd.closest('#notebook-container');\n",
       "if (notebookContainer) {{\n",
       "    x.observe(notebookContainer, {childList: true});\n",
       "}}\n",
       "\n",
       "// Listen for the clearing of the current output cell\n",
       "var outputEl = gd.closest('.output');\n",
       "if (outputEl) {{\n",
       "    x.observe(outputEl, {childList: true});\n",
       "}}\n",
       "\n",
       "                        })\n",
       "                };\n",
       "                });\n",
       "            </script>\n",
       "        </div>"
      ]
     },
     "metadata": {},
     "output_type": "display_data"
    }
   ],
   "source": [
    "px.colors.sequential.swatches()"
   ]
  },
  {
   "cell_type": "code",
   "execution_count": 16,
   "metadata": {},
   "outputs": [
    {
     "data": {
      "text/html": [
       "<div>\n",
       "<style scoped>\n",
       "    .dataframe tbody tr th:only-of-type {\n",
       "        vertical-align: middle;\n",
       "    }\n",
       "\n",
       "    .dataframe tbody tr th {\n",
       "        vertical-align: top;\n",
       "    }\n",
       "\n",
       "    .dataframe thead th {\n",
       "        text-align: right;\n",
       "    }\n",
       "</style>\n",
       "<table border=\"1\" class=\"dataframe\">\n",
       "  <thead>\n",
       "    <tr style=\"text-align: right;\">\n",
       "      <th></th>\n",
       "      <th>Country/Region</th>\n",
       "      <th>Date</th>\n",
       "      <th>name_x</th>\n",
       "      <th>cases</th>\n",
       "    </tr>\n",
       "  </thead>\n",
       "  <tbody>\n",
       "    <tr>\n",
       "      <th>65</th>\n",
       "      <td>Afghanistan</td>\n",
       "      <td>2020-03-27</td>\n",
       "      <td>Αφγανιστάν</td>\n",
       "      <td>110</td>\n",
       "    </tr>\n",
       "    <tr>\n",
       "      <th>66</th>\n",
       "      <td>Afghanistan</td>\n",
       "      <td>2020-03-28</td>\n",
       "      <td>Αφγανιστάν</td>\n",
       "      <td>110</td>\n",
       "    </tr>\n",
       "    <tr>\n",
       "      <th>67</th>\n",
       "      <td>Afghanistan</td>\n",
       "      <td>2020-03-29</td>\n",
       "      <td>Αφγανιστάν</td>\n",
       "      <td>120</td>\n",
       "    </tr>\n",
       "    <tr>\n",
       "      <th>68</th>\n",
       "      <td>Afghanistan</td>\n",
       "      <td>2020-03-30</td>\n",
       "      <td>Αφγανιστάν</td>\n",
       "      <td>170</td>\n",
       "    </tr>\n",
       "    <tr>\n",
       "      <th>69</th>\n",
       "      <td>Afghanistan</td>\n",
       "      <td>2020-03-31</td>\n",
       "      <td>Αφγανιστάν</td>\n",
       "      <td>174</td>\n",
       "    </tr>\n",
       "    <tr>\n",
       "      <th>...</th>\n",
       "      <td>...</td>\n",
       "      <td>...</td>\n",
       "      <td>...</td>\n",
       "      <td>...</td>\n",
       "    </tr>\n",
       "    <tr>\n",
       "      <th>12091</th>\n",
       "      <td>Vietnam</td>\n",
       "      <td>2020-03-29</td>\n",
       "      <td>Βιετνάμ</td>\n",
       "      <td>188</td>\n",
       "    </tr>\n",
       "    <tr>\n",
       "      <th>12092</th>\n",
       "      <td>Vietnam</td>\n",
       "      <td>2020-03-30</td>\n",
       "      <td>Βιετνάμ</td>\n",
       "      <td>203</td>\n",
       "    </tr>\n",
       "    <tr>\n",
       "      <th>12093</th>\n",
       "      <td>Vietnam</td>\n",
       "      <td>2020-03-31</td>\n",
       "      <td>Βιετνάμ</td>\n",
       "      <td>212</td>\n",
       "    </tr>\n",
       "    <tr>\n",
       "      <th>12094</th>\n",
       "      <td>Vietnam</td>\n",
       "      <td>2020-04-01</td>\n",
       "      <td>Βιετνάμ</td>\n",
       "      <td>218</td>\n",
       "    </tr>\n",
       "    <tr>\n",
       "      <th>12095</th>\n",
       "      <td>Vietnam</td>\n",
       "      <td>2020-04-02</td>\n",
       "      <td>Βιετνάμ</td>\n",
       "      <td>233</td>\n",
       "    </tr>\n",
       "  </tbody>\n",
       "</table>\n",
       "<p>1800 rows × 4 columns</p>\n",
       "</div>"
      ],
      "text/plain": [
       "      Country/Region       Date      name_x  cases\n",
       "65       Afghanistan 2020-03-27  Αφγανιστάν    110\n",
       "66       Afghanistan 2020-03-28  Αφγανιστάν    110\n",
       "67       Afghanistan 2020-03-29  Αφγανιστάν    120\n",
       "68       Afghanistan 2020-03-30  Αφγανιστάν    170\n",
       "69       Afghanistan 2020-03-31  Αφγανιστάν    174\n",
       "...              ...        ...         ...    ...\n",
       "12091        Vietnam 2020-03-29     Βιετνάμ    188\n",
       "12092        Vietnam 2020-03-30     Βιετνάμ    203\n",
       "12093        Vietnam 2020-03-31     Βιετνάμ    212\n",
       "12094        Vietnam 2020-04-01     Βιετνάμ    218\n",
       "12095        Vietnam 2020-04-02     Βιετνάμ    233\n",
       "\n",
       "[1800 rows x 4 columns]"
      ]
     },
     "execution_count": 16,
     "metadata": {},
     "output_type": "execute_result"
    }
   ],
   "source": [
    "df1[(df1['Country/Region']!='China') & (df1['cases']>100)]"
   ]
  },
  {
   "cell_type": "code",
   "execution_count": null,
   "metadata": {},
   "outputs": [],
   "source": []
  }
 ],
 "metadata": {
  "kernelspec": {
   "display_name": "Python 3",
   "language": "python",
   "name": "python3"
  },
  "language_info": {
   "codemirror_mode": {
    "name": "ipython",
    "version": 3
   },
   "file_extension": ".py",
   "mimetype": "text/x-python",
   "name": "python",
   "nbconvert_exporter": "python",
   "pygments_lexer": "ipython3",
   "version": "3.8.1"
  }
 },
 "nbformat": 4,
 "nbformat_minor": 4
}
