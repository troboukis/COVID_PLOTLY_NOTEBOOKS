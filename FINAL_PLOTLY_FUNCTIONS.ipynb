{
 "cells": [
  {
   "cell_type": "markdown",
   "metadata": {},
   "source": [
    "## Imports"
   ]
  },
  {
   "cell_type": "code",
   "execution_count": 80,
   "metadata": {},
   "outputs": [],
   "source": [
    "import pandas as pd\n",
    "import numpy as np\n",
    "import plotly.graph_objects as go\n",
    "import plotly.express as px\n",
    "import plotly.tools as tls\n",
    "from ipywidgets import widgets\n",
    "import warnings\n",
    "warnings.filterwarnings(\"ignore\")"
   ]
  },
  {
   "cell_type": "code",
   "execution_count": 37,
   "metadata": {},
   "outputs": [],
   "source": [
    "pd.set_option('display.max_rows', 2500)\n",
    "pd.set_option('display.max_columns', 500)\n",
    "pd.set_option('display.width', 1000)\n",
    "pd.set_option('display.max_colwidth', None)"
   ]
  },
  {
   "cell_type": "markdown",
   "metadata": {},
   "source": [
    "## Data URLs "
   ]
  },
  {
   "cell_type": "code",
   "execution_count": 30,
   "metadata": {},
   "outputs": [],
   "source": [
    "baseHopkinsURL = \"https://raw.githubusercontent.com/CSSEGISandData/COVID-19/master/csse_covid_19_data/csse_covid_19_time_series/\"\n",
    "confirmedHopkinsFileName='time_series_covid19_confirmed_global.csv'\n",
    "deathsHopkinsFileName='time_series_covid19_deaths_global.csv'\n",
    "\n",
    "# τα σκραπαρισμένα data από worldometer\n",
    "worldOmeterData='https://app.workbenchdata.com/public/moduledata/live/308692.csv'\n",
    "\n",
    "# από το αρχείο countries_names στο google spreadsheet\n",
    "countriesInGreek='https://docs.google.com/spreadsheets/d/e/2PACX-1vRpR8AOJaRsB5by7H3R_GijtaY06J8srELipebO5B0jYEg9pKugT3C6Rk2RSQ5eyerQl7LolshamK27/pub?gid=906157277&single=true&output=csv'\n"
   ]
  },
  {
   "cell_type": "code",
   "execution_count": 119,
   "metadata": {},
   "outputs": [],
   "source": [
    "'''φορτώνουμε το αρχείο που επιθυμούμε (deaths ή confirmed cases), το όνομα της νέας στήλης που θα δημιουργηθεί από το melt, \n",
    "το όνομα του αρχείου που θέλουμε να σώσουμε'''\n",
    "\n",
    "def after100Cases(fileName1, fileName2, columnName1, columnName2, outputName):\n",
    "    \n",
    "    ''' φορτώνουμε το πρώτο αρχείο από το Hopkins'''\n",
    "    df1=pd.read_csv(baseHopkinsURL + fileName1)\\\n",
    "        .drop(['Lat', 'Long'], axis=1) \\\n",
    "        .melt(id_vars=['Province/State', 'Country/Region'], \n",
    "                 var_name='Date', value_name=columnName1) \\\n",
    "        .astype({'Date':'datetime64[ns]', columnName1:'Int64'}, \n",
    "                 errors='ignore')\n",
    "    \n",
    "    ''' φορτώνουμε το δεύτερο αρχείο από το Hopkins'''\n",
    "    df2=pd.read_csv(baseHopkinsURL + fileName2)\\\n",
    "        .drop(['Lat', 'Long'], axis=1) \\\n",
    "        .melt(id_vars=['Province/State', 'Country/Region'], \n",
    "                 var_name='Date', value_name=columnName2) \\\n",
    "        .astype({'Date':'datetime64[ns]', columnName2:'Int64'}, \n",
    "                 errors='ignore')\n",
    "    \n",
    "    ''' ενώνουμε τα δύο αρχεία'''\n",
    "    df=pd.merge(df1,df2)\n",
    "    \n",
    "    ''' φορτώνουμε το αρχείο με την αντιστοίχιση ελληνικών - αγγλικών ονομάτων χωρών και τα συνδέουμε με το df'''\n",
    "    gr=pd.read_csv(countriesInGreek)\n",
    "    df=pd.merge(df,gr, how='left', left_on='Country/Region', right_on='ADMIN')\n",
    "    \n",
    "    ''' υπολογίζουμε συγκεντρωτικά για κάθε χώρα τα κρούσματα και τους θανάτους ανά ημέρα'''\n",
    "    df=df.groupby(['Country/Region','Date','ADMIN_GR'])[['cases','deaths']].sum().reset_index()\n",
    "    \n",
    "    \n",
    "    ''' ------------------- ΞΕΚΙΝΑ Η ΟΠΤΙΚΟΠΟΙΗΣΗ ------------------'''\n",
    "    \n",
    "    ''' '''\n",
    "    cnt= df[(df['Country/Region']!='Greece') & \n",
    "        (df['Country/Region']!='Germany') & \n",
    "        (df['Country/Region']!='Italy') & \n",
    "        (df['Country/Region']!='United Kingdom') & \n",
    "        (df['Country/Region']!='US') & \n",
    "        (df['Country/Region']!='Spain')&\n",
    "        (df['Country/Region']!='China')]\n",
    "    \n",
    "    fig = px.line(cnt[(cnt['Country/Region']!='China') & \n",
    "                  (cnt['Country/Region']!='Diamond Princess') & \n",
    "                  (cnt['cases']>=100)],\n",
    "              y=\"cases\",\n",
    "              color='ADMIN_GR',\n",
    "              hover_data=['ADMIN_GR'],\n",
    "              labels={'Date':'Ημερομηνία',\n",
    "                    'cases':'Αριθμός Κρουσμάτων',\n",
    "                    'ADMIN_GR':'Χώρα'},\n",
    "              title='Μετά τα 100 πρώτα κρούσματα ανά ημέρα (χωρίς την Κίνα)',\n",
    "              \n",
    "              line_shape=\"spline\", render_mode=\"svg\",\n",
    "#               color_discrete_sequence=px.colors.sequential.ice\n",
    "#               color_discrete_sequence=px.colors.qualitative.Prism\n",
    "              color_discrete_sequence=['rgb(189,189,189)']\n",
    "             )\n",
    "    \n",
    "    fig.update_layout(paper_bgcolor=\"#E6ECEC\",\n",
    "                 plot_bgcolor=\"#E6ECEC\",\n",
    "                 font=dict(\n",
    "                family=\"Roboto\",\n",
    "                size=11,\n",
    "                color=\"#114B5F\")\n",
    "                 )\n",
    "\n",
    "    # fig.update_traces(mode=\"markers+lines\", hovertemplate=None)\n",
    "    # fig.update_layout(hovermode=\"x\")\n",
    "    fig.update_layout(hovermode=\"closest\",\n",
    "                     hoverlabel=dict(\n",
    "                        bgcolor=\"white\", \n",
    "                        font_size=12, \n",
    "                        font_family=\"Roboto\"),\n",
    "                     hoverlabel_align = 'left',)\n",
    "\n",
    "    fig.update_layout(showlegend=True)\n",
    "    fig.update_layout(legend_title='',\n",
    "\n",
    "                     legend=dict(\n",
    "    #                      θέση του legend\n",
    "    #                     x=0,\n",
    "    #                     y=1,\n",
    "\n",
    "    #                      σειρά χωρών reversed, normal, grouped\n",
    "                        traceorder=\"reversed\", \n",
    "                        font=dict(\n",
    "                            family=\"roboto\",\n",
    "                            size=10,\n",
    "                            color=\"black\"\n",
    "                        ),\n",
    "\n",
    "                        bgcolor=\"#E6ECEC\",\n",
    "                        bordercolor=\"#dadada\",\n",
    "                        borderwidth=.3\n",
    "                    ))\n",
    "\n",
    "    fig.update_yaxes(nticks=4,\n",
    "                    \n",
    "                    showticklabels=True,\n",
    "                    showline=True,\n",
    "                     linewidth=2,\n",
    "                    linecolor='#114B5F',\n",
    "                    showgrid=True, \n",
    "                     gridwidth=.1, \n",
    "                     gridcolor='#F8FAFA',\n",
    "                    title_text = \"Αριθμός κρουσμάτων\",\n",
    "                    title_font = {\"size\": 11,\n",
    "                                 'color':'#114B5F'},)\n",
    "\n",
    "    fig.update_xaxes(tickvals=[5, 10, 15, 20, 25, 30,35,40,45,50,55],\n",
    "                    ticks=None,\n",
    "                    showticklabels=True,\n",
    "                     showline=False,\n",
    "                     linewidth=.1,\n",
    "                    linecolor='#F8FAFA',\n",
    "                    showgrid=True, \n",
    "                     gridwidth=.1, \n",
    "                     gridcolor='#F8FAFA',\n",
    "                    title_text = \"Ημέρες από το 100ο κρούσμα\",\n",
    "                    title_font = {\"size\": 11,\n",
    "                                 'color':'#114B5F'},\n",
    "                    )\n",
    "\n",
    "    fig.update_layout(xaxis_showgrid=True, \n",
    "                      yaxis_showgrid=True)\n",
    "\n",
    "\n",
    "    fig.update_layout(yaxis_type=\"log\")\n",
    "\n",
    "    fig.update_layout(height=380)\n",
    "\n",
    "    \n",
    "    # Γερμανία\n",
    "    fig.add_trace(go.Scatter(y=df[(df['Country/Region']=='Germany')&(df['cases']>100)].cases,\n",
    "                             name='Γερμανία',\n",
    "                            line=dict(color=\"black\",\n",
    "                                    width=2),\n",
    "                             hovertemplate = '<b>%{y:.f}</b> κρούσματα στην Γερμανία<extra></extra>'\n",
    "                            ))\n",
    "    \n",
    "       # Ιταλία\n",
    "    fig.add_trace(go.Scatter(y=df[(df['Country/Region']=='Italy')&(df['cases']>100)].cases,\n",
    "                             name='Ιταλία',\n",
    "                            line=dict(color=\"#3E82B3\",\n",
    "                                    width=2),\n",
    "                             hovertemplate = '<b>%{y:.f}</b> κρούσματα στην Ιταλία<extra></extra>'\n",
    "                            ))\n",
    "\n",
    "    # UK\n",
    "    fig.add_trace(go.Scatter(y=df[(df['Country/Region']=='United Kingdom')&(df['cases']>100)].cases,\n",
    "                             name='Ηνωμένο Βασίλειο',\n",
    "                            line=dict(color=\"#FFD400\",\n",
    "                                    width=2),\n",
    "                             hovertemplate = '<b>%{y:.f}</b> κρούσματα στο Ηνωμένο Βασίλειο<extra></extra>'\n",
    "                            ))\n",
    "\n",
    "\n",
    "    # USA\n",
    "    fig.add_trace(go.Scatter(y=df[(df['Country/Region']=='US')&(df['cases']>100)].cases,\n",
    "                             name='ΗΠΑ',\n",
    "                            line=dict(color=\"lightgreen\",\n",
    "                                    width=2),\n",
    "                             hovertemplate = '<b>%{y:.f}</b> κρούσματα στις ΗΠΑ<extra></extra>'\n",
    "                            ))\n",
    "    # Spain\n",
    "    fig.add_trace(go.Scatter(y=df[(df['Country/Region']=='Spain')&(df['cases']>100)].cases,\n",
    "                             name='Ισπανία',\n",
    "                            line=dict(color=\"purple\",\n",
    "                                    width=2),\n",
    "                             hovertemplate = '<b>%{y:.f}</b> κρούσματα στην Ισπανία<extra></extra>'\n",
    "                            ))\n",
    "    # Greece\n",
    "    fig.add_trace(go.Scatter(y=df[(df['Country/Region']=='Greece')&(df['cases']>100)].cases,\n",
    "                             name='Ελλάδα',\n",
    "                            line=dict(color=\"#BA3A0A\",\n",
    "                                    width=3),\n",
    "                             hovertemplate = '<b>%{y:.f}</b> κρούσματα στην Ελλάδα<extra></extra>'\n",
    "                            ))\n",
    "\n",
    "\n",
    "    \n",
    "    config = dict({'displayModeBar': False, \n",
    "                'scrollZoom': False,\n",
    "                'displaylogo': False,\n",
    "                'responsive': True,\n",
    "                'staticPlot': False\n",
    "\n",
    "                  })\n",
    "    # μέγεθος γραμμής σε κάθε χώρα στο legend, trace/constant\n",
    "    fig.update_layout(legend= {'itemsizing': 'constant'},\n",
    "                     \n",
    "        annotations = [dict(\n",
    "            x=-.02,\n",
    "            y=1.2,\n",
    "            xref='paper',\n",
    "            yref='paper',\n",
    "            text='Λογαριθμική κλίμακα',\n",
    "            showarrow = False\n",
    "        )])\n",
    "    \n",
    "    fig.show()\n",
    "    \n",
    "    return fig.write_json(\"COVID_PLOTLY_NOTEBOOKS/\" + outputName)"
   ]
  },
  {
   "cell_type": "code",
   "execution_count": 120,
   "metadata": {},
   "outputs": [
    {
     "data": {
      "application/vnd.plotly.v1+json": {
       "config": {
        "plotlyServerURL": "https://plot.ly"
       },
       "data": [
        {
         "customdata": [
          [
           "Αφγανιστάν"
          ],
          [
           "Αφγανιστάν"
          ],
          [
           "Αφγανιστάν"
          ],
          [
           "Αφγανιστάν"
          ],
          [
           "Αφγανιστάν"
          ],
          [
           "Αφγανιστάν"
          ],
          [
           "Αφγανιστάν"
          ],
          [
           "Αφγανιστάν"
          ],
          [
           "Αφγανιστάν"
          ],
          [
           "Αφγανιστάν"
          ],
          [
           "Αφγανιστάν"
          ],
          [
           "Αφγανιστάν"
          ],
          [
           "Αφγανιστάν"
          ],
          [
           "Αφγανιστάν"
          ],
          [
           "Αφγανιστάν"
          ],
          [
           "Αφγανιστάν"
          ],
          [
           "Αφγανιστάν"
          ]
         ],
         "hoverlabel": {
          "namelength": 0
         },
         "hovertemplate": "Χώρα=%{customdata[0]}<br>Αριθμός Κρουσμάτων=%{y}",
         "legendgroup": "Αφγανιστάν",
         "line": {
          "color": "rgb(189,189,189)",
          "dash": "solid",
          "shape": "spline"
         },
         "mode": "lines",
         "name": "Αφγανιστάν",
         "showlegend": true,
         "type": "scatter",
         "xaxis": "x",
         "y": [
          110,
          110,
          120,
          170,
          174,
          237,
          273,
          281,
          299,
          349,
          367,
          423,
          444,
          484,
          521,
          555,
          607
         ],
         "yaxis": "y"
        },
        {
         "customdata": [
          [
           "Αλβανία"
          ],
          [
           "Αλβανία"
          ],
          [
           "Αλβανία"
          ],
          [
           "Αλβανία"
          ],
          [
           "Αλβανία"
          ],
          [
           "Αλβανία"
          ],
          [
           "Αλβανία"
          ],
          [
           "Αλβανία"
          ],
          [
           "Αλβανία"
          ],
          [
           "Αλβανία"
          ],
          [
           "Αλβανία"
          ],
          [
           "Αλβανία"
          ],
          [
           "Αλβανία"
          ],
          [
           "Αλβανία"
          ],
          [
           "Αλβανία"
          ],
          [
           "Αλβανία"
          ],
          [
           "Αλβανία"
          ],
          [
           "Αλβανία"
          ],
          [
           "Αλβανία"
          ],
          [
           "Αλβανία"
          ],
          [
           "Αλβανία"
          ]
         ],
         "hoverlabel": {
          "namelength": 0
         },
         "hovertemplate": "Χώρα=%{customdata[0]}<br>Αριθμός Κρουσμάτων=%{y}",
         "legendgroup": "Αλβανία",
         "line": {
          "color": "rgb(189,189,189)",
          "dash": "solid",
          "shape": "spline"
         },
         "mode": "lines",
         "name": "Αλβανία",
         "showlegend": true,
         "type": "scatter",
         "xaxis": "x",
         "y": [
          104,
          123,
          146,
          174,
          186,
          197,
          212,
          223,
          243,
          259,
          277,
          304,
          333,
          361,
          377,
          383,
          400,
          409,
          416,
          433,
          446
         ],
         "yaxis": "y"
        },
        {
         "customdata": [
          [
           "Αλγερία"
          ],
          [
           "Αλγερία"
          ],
          [
           "Αλγερία"
          ],
          [
           "Αλγερία"
          ],
          [
           "Αλγερία"
          ],
          [
           "Αλγερία"
          ],
          [
           "Αλγερία"
          ],
          [
           "Αλγερία"
          ],
          [
           "Αλγερία"
          ],
          [
           "Αλγερία"
          ],
          [
           "Αλγερία"
          ],
          [
           "Αλγερία"
          ],
          [
           "Αλγερία"
          ],
          [
           "Αλγερία"
          ],
          [
           "Αλγερία"
          ],
          [
           "Αλγερία"
          ],
          [
           "Αλγερία"
          ],
          [
           "Αλγερία"
          ],
          [
           "Αλγερία"
          ],
          [
           "Αλγερία"
          ],
          [
           "Αλγερία"
          ],
          [
           "Αλγερία"
          ],
          [
           "Αλγερία"
          ]
         ],
         "hoverlabel": {
          "namelength": 0
         },
         "hovertemplate": "Χώρα=%{customdata[0]}<br>Αριθμός Κρουσμάτων=%{y}",
         "legendgroup": "Αλγερία",
         "line": {
          "color": "rgb(189,189,189)",
          "dash": "solid",
          "shape": "spline"
         },
         "mode": "lines",
         "name": "Αλγερία",
         "showlegend": true,
         "type": "scatter",
         "xaxis": "x",
         "y": [
          139,
          201,
          230,
          264,
          302,
          367,
          409,
          454,
          511,
          584,
          716,
          847,
          986,
          1171,
          1251,
          1320,
          1423,
          1468,
          1572,
          1666,
          1761,
          1825,
          1914
         ],
         "yaxis": "y"
        },
        {
         "customdata": [
          [
           "Ανδόρρα"
          ],
          [
           "Ανδόρρα"
          ],
          [
           "Ανδόρρα"
          ],
          [
           "Ανδόρρα"
          ],
          [
           "Ανδόρρα"
          ],
          [
           "Ανδόρρα"
          ],
          [
           "Ανδόρρα"
          ],
          [
           "Ανδόρρα"
          ],
          [
           "Ανδόρρα"
          ],
          [
           "Ανδόρρα"
          ],
          [
           "Ανδόρρα"
          ],
          [
           "Ανδόρρα"
          ],
          [
           "Ανδόρρα"
          ],
          [
           "Ανδόρρα"
          ],
          [
           "Ανδόρρα"
          ],
          [
           "Ανδόρρα"
          ],
          [
           "Ανδόρρα"
          ],
          [
           "Ανδόρρα"
          ],
          [
           "Ανδόρρα"
          ],
          [
           "Ανδόρρα"
          ],
          [
           "Ανδόρρα"
          ],
          [
           "Ανδόρρα"
          ]
         ],
         "hoverlabel": {
          "namelength": 0
         },
         "hovertemplate": "Χώρα=%{customdata[0]}<br>Αριθμός Κρουσμάτων=%{y}",
         "legendgroup": "Ανδόρρα",
         "line": {
          "color": "rgb(189,189,189)",
          "dash": "solid",
          "shape": "spline"
         },
         "mode": "lines",
         "name": "Ανδόρρα",
         "showlegend": true,
         "type": "scatter",
         "xaxis": "x",
         "y": [
          113,
          133,
          164,
          188,
          224,
          267,
          308,
          334,
          370,
          376,
          390,
          428,
          439,
          466,
          501,
          525,
          545,
          564,
          583,
          601,
          601,
          638
         ],
         "yaxis": "y"
        },
        {
         "customdata": [
          [
           "Αργεντινή"
          ],
          [
           "Αργεντινή"
          ],
          [
           "Αργεντινή"
          ],
          [
           "Αργεντινή"
          ],
          [
           "Αργεντινή"
          ],
          [
           "Αργεντινή"
          ],
          [
           "Αργεντινή"
          ],
          [
           "Αργεντινή"
          ],
          [
           "Αργεντινή"
          ],
          [
           "Αργεντινή"
          ],
          [
           "Αργεντινή"
          ],
          [
           "Αργεντινή"
          ],
          [
           "Αργεντινή"
          ],
          [
           "Αργεντινή"
          ],
          [
           "Αργεντινή"
          ],
          [
           "Αργεντινή"
          ],
          [
           "Αργεντινή"
          ],
          [
           "Αργεντινή"
          ],
          [
           "Αργεντινή"
          ],
          [
           "Αργεντινή"
          ],
          [
           "Αργεντινή"
          ],
          [
           "Αργεντινή"
          ],
          [
           "Αργεντινή"
          ],
          [
           "Αργεντινή"
          ]
         ],
         "hoverlabel": {
          "namelength": 0
         },
         "hovertemplate": "Χώρα=%{customdata[0]}<br>Αριθμός Κρουσμάτων=%{y}",
         "legendgroup": "Αργεντινή",
         "line": {
          "color": "rgb(189,189,189)",
          "dash": "solid",
          "shape": "spline"
         },
         "mode": "lines",
         "name": "Αργεντινή",
         "showlegend": true,
         "type": "scatter",
         "xaxis": "x",
         "y": [
          128,
          158,
          266,
          301,
          387,
          387,
          502,
          589,
          690,
          745,
          820,
          1054,
          1054,
          1133,
          1265,
          1451,
          1451,
          1554,
          1628,
          1715,
          1795,
          1975,
          1975,
          2142
         ],
         "yaxis": "y"
        },
        {
         "customdata": [
          [
           "Αρμενία"
          ],
          [
           "Αρμενία"
          ],
          [
           "Αρμενία"
          ],
          [
           "Αρμενία"
          ],
          [
           "Αρμενία"
          ],
          [
           "Αρμενία"
          ],
          [
           "Αρμενία"
          ],
          [
           "Αρμενία"
          ],
          [
           "Αρμενία"
          ],
          [
           "Αρμενία"
          ],
          [
           "Αρμενία"
          ],
          [
           "Αρμενία"
          ],
          [
           "Αρμενία"
          ],
          [
           "Αρμενία"
          ],
          [
           "Αρμενία"
          ],
          [
           "Αρμενία"
          ],
          [
           "Αρμενία"
          ],
          [
           "Αρμενία"
          ],
          [
           "Αρμενία"
          ],
          [
           "Αρμενία"
          ],
          [
           "Αρμενία"
          ],
          [
           "Αρμενία"
          ],
          [
           "Αρμενία"
          ],
          [
           "Αρμενία"
          ],
          [
           "Αρμενία"
          ]
         ],
         "hoverlabel": {
          "namelength": 0
         },
         "hovertemplate": "Χώρα=%{customdata[0]}<br>Αριθμός Κρουσμάτων=%{y}",
         "legendgroup": "Αρμενία",
         "line": {
          "color": "rgb(189,189,189)",
          "dash": "solid",
          "shape": "spline"
         },
         "mode": "lines",
         "name": "Αρμενία",
         "showlegend": true,
         "type": "scatter",
         "xaxis": "x",
         "y": [
          115,
          136,
          160,
          194,
          235,
          249,
          265,
          290,
          329,
          407,
          424,
          482,
          532,
          571,
          663,
          736,
          770,
          822,
          833,
          853,
          881,
          921,
          937,
          967,
          1013
         ],
         "yaxis": "y"
        },
        {
         "customdata": [
          [
           "Αυστραλία"
          ],
          [
           "Αυστραλία"
          ],
          [
           "Αυστραλία"
          ],
          [
           "Αυστραλία"
          ],
          [
           "Αυστραλία"
          ],
          [
           "Αυστραλία"
          ],
          [
           "Αυστραλία"
          ],
          [
           "Αυστραλία"
          ],
          [
           "Αυστραλία"
          ],
          [
           "Αυστραλία"
          ],
          [
           "Αυστραλία"
          ],
          [
           "Αυστραλία"
          ],
          [
           "Αυστραλία"
          ],
          [
           "Αυστραλία"
          ],
          [
           "Αυστραλία"
          ],
          [
           "Αυστραλία"
          ],
          [
           "Αυστραλία"
          ],
          [
           "Αυστραλία"
          ],
          [
           "Αυστραλία"
          ],
          [
           "Αυστραλία"
          ],
          [
           "Αυστραλία"
          ],
          [
           "Αυστραλία"
          ],
          [
           "Αυστραλία"
          ],
          [
           "Αυστραλία"
          ],
          [
           "Αυστραλία"
          ],
          [
           "Αυστραλία"
          ],
          [
           "Αυστραλία"
          ],
          [
           "Αυστραλία"
          ],
          [
           "Αυστραλία"
          ],
          [
           "Αυστραλία"
          ],
          [
           "Αυστραλία"
          ],
          [
           "Αυστραλία"
          ],
          [
           "Αυστραλία"
          ],
          [
           "Αυστραλία"
          ]
         ],
         "hoverlabel": {
          "namelength": 0
         },
         "hovertemplate": "Χώρα=%{customdata[0]}<br>Αριθμός Κρουσμάτων=%{y}",
         "legendgroup": "Αυστραλία",
         "line": {
          "color": "rgb(189,189,189)",
          "dash": "solid",
          "shape": "spline"
         },
         "mode": "lines",
         "name": "Αυστραλία",
         "showlegend": true,
         "type": "scatter",
         "xaxis": "x",
         "y": [
          107,
          128,
          128,
          200,
          250,
          297,
          377,
          452,
          568,
          681,
          791,
          1071,
          1549,
          1682,
          2044,
          2364,
          2810,
          3143,
          3640,
          3984,
          4361,
          4559,
          4862,
          5116,
          5330,
          5550,
          5687,
          5797,
          5895,
          6010,
          6108,
          6215,
          6303,
          6315
         ],
         "yaxis": "y"
        },
        {
         "customdata": [
          [
           "Αυστρία"
          ],
          [
           "Αυστρία"
          ],
          [
           "Αυστρία"
          ],
          [
           "Αυστρία"
          ],
          [
           "Αυστρία"
          ],
          [
           "Αυστρία"
          ],
          [
           "Αυστρία"
          ],
          [
           "Αυστρία"
          ],
          [
           "Αυστρία"
          ],
          [
           "Αυστρία"
          ],
          [
           "Αυστρία"
          ],
          [
           "Αυστρία"
          ],
          [
           "Αυστρία"
          ],
          [
           "Αυστρία"
          ],
          [
           "Αυστρία"
          ],
          [
           "Αυστρία"
          ],
          [
           "Αυστρία"
          ],
          [
           "Αυστρία"
          ],
          [
           "Αυστρία"
          ],
          [
           "Αυστρία"
          ],
          [
           "Αυστρία"
          ],
          [
           "Αυστρία"
          ],
          [
           "Αυστρία"
          ],
          [
           "Αυστρία"
          ],
          [
           "Αυστρία"
          ],
          [
           "Αυστρία"
          ],
          [
           "Αυστρία"
          ],
          [
           "Αυστρία"
          ],
          [
           "Αυστρία"
          ],
          [
           "Αυστρία"
          ],
          [
           "Αυστρία"
          ],
          [
           "Αυστρία"
          ],
          [
           "Αυστρία"
          ],
          [
           "Αυστρία"
          ],
          [
           "Αυστρία"
          ],
          [
           "Αυστρία"
          ]
         ],
         "hoverlabel": {
          "namelength": 0
         },
         "hovertemplate": "Χώρα=%{customdata[0]}<br>Αριθμός Κρουσμάτων=%{y}",
         "legendgroup": "Αυστρία",
         "line": {
          "color": "rgb(189,189,189)",
          "dash": "solid",
          "shape": "spline"
         },
         "mode": "lines",
         "name": "Αυστρία",
         "showlegend": true,
         "type": "scatter",
         "xaxis": "x",
         "y": [
          104,
          131,
          182,
          246,
          302,
          504,
          655,
          860,
          1018,
          1332,
          1646,
          2013,
          2388,
          2814,
          3582,
          4474,
          5283,
          5588,
          6909,
          7657,
          8271,
          8788,
          9618,
          10180,
          10711,
          11129,
          11524,
          11781,
          12051,
          12297,
          12639,
          12942,
          13244,
          13555,
          13806,
          13945
         ],
         "yaxis": "y"
        },
        {
         "customdata": [
          [
           "Αζερμπαϊτζάν"
          ],
          [
           "Αζερμπαϊτζάν"
          ],
          [
           "Αζερμπαϊτζάν"
          ],
          [
           "Αζερμπαϊτζάν"
          ],
          [
           "Αζερμπαϊτζάν"
          ],
          [
           "Αζερμπαϊτζάν"
          ],
          [
           "Αζερμπαϊτζάν"
          ],
          [
           "Αζερμπαϊτζάν"
          ],
          [
           "Αζερμπαϊτζάν"
          ],
          [
           "Αζερμπαϊτζάν"
          ],
          [
           "Αζερμπαϊτζάν"
          ],
          [
           "Αζερμπαϊτζάν"
          ],
          [
           "Αζερμπαϊτζάν"
          ],
          [
           "Αζερμπαϊτζάν"
          ],
          [
           "Αζερμπαϊτζάν"
          ],
          [
           "Αζερμπαϊτζάν"
          ],
          [
           "Αζερμπαϊτζάν"
          ],
          [
           "Αζερμπαϊτζάν"
          ]
         ],
         "hoverlabel": {
          "namelength": 0
         },
         "hovertemplate": "Χώρα=%{customdata[0]}<br>Αριθμός Κρουσμάτων=%{y}",
         "legendgroup": "Αζερμπαϊτζάν",
         "line": {
          "color": "rgb(189,189,189)",
          "dash": "solid",
          "shape": "spline"
         },
         "mode": "lines",
         "name": "Αζερμπαϊτζάν",
         "showlegend": true,
         "type": "scatter",
         "xaxis": "x",
         "y": [
          122,
          165,
          182,
          209,
          273,
          298,
          359,
          400,
          443,
          521,
          584,
          641,
          717,
          822,
          926,
          991,
          1058,
          1098
         ],
         "yaxis": "y"
        },
        {
         "customdata": [
          [
           "Μπαχρέιν"
          ],
          [
           "Μπαχρέιν"
          ],
          [
           "Μπαχρέιν"
          ],
          [
           "Μπαχρέιν"
          ],
          [
           "Μπαχρέιν"
          ],
          [
           "Μπαχρέιν"
          ],
          [
           "Μπαχρέιν"
          ],
          [
           "Μπαχρέιν"
          ],
          [
           "Μπαχρέιν"
          ],
          [
           "Μπαχρέιν"
          ],
          [
           "Μπαχρέιν"
          ],
          [
           "Μπαχρέιν"
          ],
          [
           "Μπαχρέιν"
          ],
          [
           "Μπαχρέιν"
          ],
          [
           "Μπαχρέιν"
          ],
          [
           "Μπαχρέιν"
          ],
          [
           "Μπαχρέιν"
          ],
          [
           "Μπαχρέιν"
          ],
          [
           "Μπαχρέιν"
          ],
          [
           "Μπαχρέιν"
          ],
          [
           "Μπαχρέιν"
          ],
          [
           "Μπαχρέιν"
          ],
          [
           "Μπαχρέιν"
          ],
          [
           "Μπαχρέιν"
          ],
          [
           "Μπαχρέιν"
          ],
          [
           "Μπαχρέιν"
          ],
          [
           "Μπαχρέιν"
          ],
          [
           "Μπαχρέιν"
          ],
          [
           "Μπαχρέιν"
          ],
          [
           "Μπαχρέιν"
          ],
          [
           "Μπαχρέιν"
          ],
          [
           "Μπαχρέιν"
          ],
          [
           "Μπαχρέιν"
          ],
          [
           "Μπαχρέιν"
          ]
         ],
         "hoverlabel": {
          "namelength": 0
         },
         "hovertemplate": "Χώρα=%{customdata[0]}<br>Αριθμός Κρουσμάτων=%{y}",
         "legendgroup": "Μπαχρέιν",
         "line": {
          "color": "rgb(189,189,189)",
          "dash": "solid",
          "shape": "spline"
         },
         "mode": "lines",
         "name": "Μπαχρέιν",
         "showlegend": true,
         "type": "scatter",
         "xaxis": "x",
         "y": [
          110,
          195,
          195,
          195,
          210,
          214,
          214,
          228,
          256,
          278,
          285,
          305,
          334,
          377,
          392,
          419,
          458,
          466,
          476,
          499,
          515,
          567,
          569,
          643,
          672,
          688,
          700,
          756,
          811,
          823,
          887,
          925,
          1040,
          1136
         ],
         "yaxis": "y"
        },
        {
         "customdata": [
          [
           "Μπανγκλαντές"
          ],
          [
           "Μπανγκλαντές"
          ],
          [
           "Μπανγκλαντές"
          ],
          [
           "Μπανγκλαντές"
          ],
          [
           "Μπανγκλαντές"
          ],
          [
           "Μπανγκλαντές"
          ],
          [
           "Μπανγκλαντές"
          ]
         ],
         "hoverlabel": {
          "namelength": 0
         },
         "hovertemplate": "Χώρα=%{customdata[0]}<br>Αριθμός Κρουσμάτων=%{y}",
         "legendgroup": "Μπανγκλαντές",
         "line": {
          "color": "rgb(189,189,189)",
          "dash": "solid",
          "shape": "spline"
         },
         "mode": "lines",
         "name": "Μπανγκλαντές",
         "showlegend": true,
         "type": "scatter",
         "xaxis": "x",
         "y": [
          123,
          164,
          218,
          330,
          424,
          482,
          621
         ],
         "yaxis": "y"
        },
        {
         "customdata": [
          [
           "Λευκορωσία"
          ],
          [
           "Λευκορωσία"
          ],
          [
           "Λευκορωσία"
          ],
          [
           "Λευκορωσία"
          ],
          [
           "Λευκορωσία"
          ],
          [
           "Λευκορωσία"
          ],
          [
           "Λευκορωσία"
          ],
          [
           "Λευκορωσία"
          ],
          [
           "Λευκορωσία"
          ],
          [
           "Λευκορωσία"
          ],
          [
           "Λευκορωσία"
          ],
          [
           "Λευκορωσία"
          ],
          [
           "Λευκορωσία"
          ],
          [
           "Λευκορωσία"
          ]
         ],
         "hoverlabel": {
          "namelength": 0
         },
         "hovertemplate": "Χώρα=%{customdata[0]}<br>Αριθμός Κρουσμάτων=%{y}",
         "legendgroup": "Λευκορωσία",
         "line": {
          "color": "rgb(189,189,189)",
          "dash": "solid",
          "shape": "spline"
         },
         "mode": "lines",
         "name": "Λευκορωσία",
         "showlegend": true,
         "type": "scatter",
         "xaxis": "x",
         "y": [
          152,
          152,
          163,
          304,
          351,
          440,
          562,
          700,
          861,
          1066,
          1486,
          1981,
          2226,
          2578
         ],
         "yaxis": "y"
        },
        {
         "customdata": [
          [
           "Βέλγιο"
          ],
          [
           "Βέλγιο"
          ],
          [
           "Βέλγιο"
          ],
          [
           "Βέλγιο"
          ],
          [
           "Βέλγιο"
          ],
          [
           "Βέλγιο"
          ],
          [
           "Βέλγιο"
          ],
          [
           "Βέλγιο"
          ],
          [
           "Βέλγιο"
          ],
          [
           "Βέλγιο"
          ],
          [
           "Βέλγιο"
          ],
          [
           "Βέλγιο"
          ],
          [
           "Βέλγιο"
          ],
          [
           "Βέλγιο"
          ],
          [
           "Βέλγιο"
          ],
          [
           "Βέλγιο"
          ],
          [
           "Βέλγιο"
          ],
          [
           "Βέλγιο"
          ],
          [
           "Βέλγιο"
          ],
          [
           "Βέλγιο"
          ],
          [
           "Βέλγιο"
          ],
          [
           "Βέλγιο"
          ],
          [
           "Βέλγιο"
          ],
          [
           "Βέλγιο"
          ],
          [
           "Βέλγιο"
          ],
          [
           "Βέλγιο"
          ],
          [
           "Βέλγιο"
          ],
          [
           "Βέλγιο"
          ],
          [
           "Βέλγιο"
          ],
          [
           "Βέλγιο"
          ],
          [
           "Βέλγιο"
          ],
          [
           "Βέλγιο"
          ],
          [
           "Βέλγιο"
          ],
          [
           "Βέλγιο"
          ],
          [
           "Βέλγιο"
          ],
          [
           "Βέλγιο"
          ],
          [
           "Βέλγιο"
          ],
          [
           "Βέλγιο"
          ]
         ],
         "hoverlabel": {
          "namelength": 0
         },
         "hovertemplate": "Χώρα=%{customdata[0]}<br>Αριθμός Κρουσμάτων=%{y}",
         "legendgroup": "Βέλγιο",
         "line": {
          "color": "rgb(189,189,189)",
          "dash": "solid",
          "shape": "spline"
         },
         "mode": "lines",
         "name": "Βέλγιο",
         "showlegend": true,
         "type": "scatter",
         "xaxis": "x",
         "y": [
          109,
          169,
          200,
          239,
          267,
          314,
          314,
          559,
          689,
          886,
          1058,
          1243,
          1486,
          1795,
          2257,
          2815,
          3401,
          3743,
          4269,
          4937,
          6235,
          7284,
          9134,
          10836,
          11899,
          12775,
          13964,
          15348,
          16770,
          18431,
          19691,
          20814,
          22194,
          23403,
          24983,
          26667,
          28018,
          29647
         ],
         "yaxis": "y"
        },
        {
         "customdata": [
          [
           "Βολιβία"
          ],
          [
           "Βολιβία"
          ],
          [
           "Βολιβία"
          ],
          [
           "Βολιβία"
          ],
          [
           "Βολιβία"
          ],
          [
           "Βολιβία"
          ],
          [
           "Βολιβία"
          ],
          [
           "Βολιβία"
          ],
          [
           "Βολιβία"
          ],
          [
           "Βολιβία"
          ],
          [
           "Βολιβία"
          ],
          [
           "Βολιβία"
          ],
          [
           "Βολιβία"
          ]
         ],
         "hoverlabel": {
          "namelength": 0
         },
         "hovertemplate": "Χώρα=%{customdata[0]}<br>Αριθμός Κρουσμάτων=%{y}",
         "legendgroup": "Βολιβία",
         "line": {
          "color": "rgb(189,189,189)",
          "dash": "solid",
          "shape": "spline"
         },
         "mode": "lines",
         "name": "Βολιβία",
         "showlegend": true,
         "type": "scatter",
         "xaxis": "x",
         "y": [
          107,
          115,
          123,
          132,
          139,
          157,
          183,
          194,
          210,
          264,
          268,
          275,
          300
         ],
         "yaxis": "y"
        },
        {
         "customdata": [
          [
           "Βοσνία-Ερζεγοβίνη"
          ],
          [
           "Βοσνία-Ερζεγοβίνη"
          ],
          [
           "Βοσνία-Ερζεγοβίνη"
          ],
          [
           "Βοσνία-Ερζεγοβίνη"
          ],
          [
           "Βοσνία-Ερζεγοβίνη"
          ],
          [
           "Βοσνία-Ερζεγοβίνη"
          ],
          [
           "Βοσνία-Ερζεγοβίνη"
          ],
          [
           "Βοσνία-Ερζεγοβίνη"
          ],
          [
           "Βοσνία-Ερζεγοβίνη"
          ],
          [
           "Βοσνία-Ερζεγοβίνη"
          ],
          [
           "Βοσνία-Ερζεγοβίνη"
          ],
          [
           "Βοσνία-Ερζεγοβίνη"
          ],
          [
           "Βοσνία-Ερζεγοβίνη"
          ],
          [
           "Βοσνία-Ερζεγοβίνη"
          ],
          [
           "Βοσνία-Ερζεγοβίνη"
          ],
          [
           "Βοσνία-Ερζεγοβίνη"
          ],
          [
           "Βοσνία-Ερζεγοβίνη"
          ],
          [
           "Βοσνία-Ερζεγοβίνη"
          ],
          [
           "Βοσνία-Ερζεγοβίνη"
          ],
          [
           "Βοσνία-Ερζεγοβίνη"
          ],
          [
           "Βοσνία-Ερζεγοβίνη"
          ],
          [
           "Βοσνία-Ερζεγοβίνη"
          ]
         ],
         "hoverlabel": {
          "namelength": 0
         },
         "hovertemplate": "Χώρα=%{customdata[0]}<br>Αριθμός Κρουσμάτων=%{y}",
         "legendgroup": "Βοσνία-Ερζεγοβίνη",
         "line": {
          "color": "rgb(189,189,189)",
          "dash": "solid",
          "shape": "spline"
         },
         "mode": "lines",
         "name": "Βοσνία-Ερζεγοβίνη",
         "showlegend": true,
         "type": "scatter",
         "xaxis": "x",
         "y": [
          126,
          136,
          166,
          176,
          191,
          237,
          258,
          323,
          368,
          420,
          459,
          533,
          579,
          624,
          654,
          674,
          764,
          804,
          858,
          901,
          946,
          1009
         ],
         "yaxis": "y"
        },
        {
         "customdata": [
          [
           "Βραζιλία"
          ],
          [
           "Βραζιλία"
          ],
          [
           "Βραζιλία"
          ],
          [
           "Βραζιλία"
          ],
          [
           "Βραζιλία"
          ],
          [
           "Βραζιλία"
          ],
          [
           "Βραζιλία"
          ],
          [
           "Βραζιλία"
          ],
          [
           "Βραζιλία"
          ],
          [
           "Βραζιλία"
          ],
          [
           "Βραζιλία"
          ],
          [
           "Βραζιλία"
          ],
          [
           "Βραζιλία"
          ],
          [
           "Βραζιλία"
          ],
          [
           "Βραζιλία"
          ],
          [
           "Βραζιλία"
          ],
          [
           "Βραζιλία"
          ],
          [
           "Βραζιλία"
          ],
          [
           "Βραζιλία"
          ],
          [
           "Βραζιλία"
          ],
          [
           "Βραζιλία"
          ],
          [
           "Βραζιλία"
          ],
          [
           "Βραζιλία"
          ],
          [
           "Βραζιλία"
          ],
          [
           "Βραζιλία"
          ],
          [
           "Βραζιλία"
          ],
          [
           "Βραζιλία"
          ],
          [
           "Βραζιλία"
          ],
          [
           "Βραζιλία"
          ],
          [
           "Βραζιλία"
          ],
          [
           "Βραζιλία"
          ]
         ],
         "hoverlabel": {
          "namelength": 0
         },
         "hovertemplate": "Χώρα=%{customdata[0]}<br>Αριθμός Κρουσμάτων=%{y}",
         "legendgroup": "Βραζιλία",
         "line": {
          "color": "rgb(189,189,189)",
          "dash": "solid",
          "shape": "spline"
         },
         "mode": "lines",
         "name": "Βραζιλία",
         "showlegend": true,
         "type": "scatter",
         "xaxis": "x",
         "y": [
          151,
          151,
          162,
          200,
          321,
          372,
          621,
          793,
          1021,
          1546,
          1924,
          2247,
          2554,
          2985,
          3417,
          3904,
          4256,
          4579,
          5717,
          6836,
          8044,
          9056,
          10360,
          11130,
          12161,
          14034,
          16170,
          18092,
          19638,
          20727,
          22192
         ],
         "yaxis": "y"
        },
        {
         "customdata": [
          [
           "Μπρουνέι"
          ],
          [
           "Μπρουνέι"
          ],
          [
           "Μπρουνέι"
          ],
          [
           "Μπρουνέι"
          ],
          [
           "Μπρουνέι"
          ],
          [
           "Μπρουνέι"
          ],
          [
           "Μπρουνέι"
          ],
          [
           "Μπρουνέι"
          ],
          [
           "Μπρουνέι"
          ],
          [
           "Μπρουνέι"
          ],
          [
           "Μπρουνέι"
          ],
          [
           "Μπρουνέι"
          ],
          [
           "Μπρουνέι"
          ],
          [
           "Μπρουνέι"
          ],
          [
           "Μπρουνέι"
          ],
          [
           "Μπρουνέι"
          ],
          [
           "Μπρουνέι"
          ],
          [
           "Μπρουνέι"
          ],
          [
           "Μπρουνέι"
          ],
          [
           "Μπρουνέι"
          ]
         ],
         "hoverlabel": {
          "namelength": 0
         },
         "hovertemplate": "Χώρα=%{customdata[0]}<br>Αριθμός Κρουσμάτων=%{y}",
         "legendgroup": "Μπρουνέι",
         "line": {
          "color": "rgb(189,189,189)",
          "dash": "solid",
          "shape": "spline"
         },
         "mode": "lines",
         "name": "Μπρουνέι",
         "showlegend": true,
         "type": "scatter",
         "xaxis": "x",
         "y": [
          104,
          109,
          114,
          115,
          120,
          126,
          127,
          129,
          131,
          133,
          134,
          135,
          135,
          135,
          135,
          135,
          135,
          136,
          136,
          136
         ],
         "yaxis": "y"
        },
        {
         "customdata": [
          [
           "Βουλγαρία"
          ],
          [
           "Βουλγαρία"
          ],
          [
           "Βουλγαρία"
          ],
          [
           "Βουλγαρία"
          ],
          [
           "Βουλγαρία"
          ],
          [
           "Βουλγαρία"
          ],
          [
           "Βουλγαρία"
          ],
          [
           "Βουλγαρία"
          ],
          [
           "Βουλγαρία"
          ],
          [
           "Βουλγαρία"
          ],
          [
           "Βουλγαρία"
          ],
          [
           "Βουλγαρία"
          ],
          [
           "Βουλγαρία"
          ],
          [
           "Βουλγαρία"
          ],
          [
           "Βουλγαρία"
          ],
          [
           "Βουλγαρία"
          ],
          [
           "Βουλγαρία"
          ],
          [
           "Βουλγαρία"
          ],
          [
           "Βουλγαρία"
          ],
          [
           "Βουλγαρία"
          ],
          [
           "Βουλγαρία"
          ],
          [
           "Βουλγαρία"
          ],
          [
           "Βουλγαρία"
          ],
          [
           "Βουλγαρία"
          ]
         ],
         "hoverlabel": {
          "namelength": 0
         },
         "hovertemplate": "Χώρα=%{customdata[0]}<br>Αριθμός Κρουσμάτων=%{y}",
         "legendgroup": "Βουλγαρία",
         "line": {
          "color": "rgb(189,189,189)",
          "dash": "solid",
          "shape": "spline"
         },
         "mode": "lines",
         "name": "Βουλγαρία",
         "showlegend": true,
         "type": "scatter",
         "xaxis": "x",
         "y": [
          127,
          163,
          187,
          201,
          218,
          242,
          264,
          293,
          331,
          346,
          359,
          399,
          422,
          457,
          485,
          503,
          531,
          549,
          577,
          593,
          618,
          635,
          661,
          675
         ],
         "yaxis": "y"
        },
        {
         "customdata": [
          [
           "Μπουρκίνα Φάσο"
          ],
          [
           "Μπουρκίνα Φάσο"
          ],
          [
           "Μπουρκίνα Φάσο"
          ],
          [
           "Μπουρκίνα Φάσο"
          ],
          [
           "Μπουρκίνα Φάσο"
          ],
          [
           "Μπουρκίνα Φάσο"
          ],
          [
           "Μπουρκίνα Φάσο"
          ],
          [
           "Μπουρκίνα Φάσο"
          ],
          [
           "Μπουρκίνα Φάσο"
          ],
          [
           "Μπουρκίνα Φάσο"
          ],
          [
           "Μπουρκίνα Φάσο"
          ],
          [
           "Μπουρκίνα Φάσο"
          ],
          [
           "Μπουρκίνα Φάσο"
          ],
          [
           "Μπουρκίνα Φάσο"
          ],
          [
           "Μπουρκίνα Φάσο"
          ],
          [
           "Μπουρκίνα Φάσο"
          ],
          [
           "Μπουρκίνα Φάσο"
          ],
          [
           "Μπουρκίνα Φάσο"
          ],
          [
           "Μπουρκίνα Φάσο"
          ],
          [
           "Μπουρκίνα Φάσο"
          ]
         ],
         "hoverlabel": {
          "namelength": 0
         },
         "hovertemplate": "Χώρα=%{customdata[0]}<br>Αριθμός Κρουσμάτων=%{y}",
         "legendgroup": "Μπουρκίνα Φάσο",
         "line": {
          "color": "rgb(189,189,189)",
          "dash": "solid",
          "shape": "spline"
         },
         "mode": "lines",
         "name": "Μπουρκίνα Φάσο",
         "showlegend": true,
         "type": "scatter",
         "xaxis": "x",
         "y": [
          114,
          146,
          152,
          180,
          207,
          222,
          246,
          261,
          282,
          288,
          302,
          318,
          345,
          364,
          384,
          414,
          443,
          443,
          484,
          497
         ],
         "yaxis": "y"
        },
        {
         "customdata": [
          [
           "Καμπότζη"
          ],
          [
           "Καμπότζη"
          ],
          [
           "Καμπότζη"
          ],
          [
           "Καμπότζη"
          ],
          [
           "Καμπότζη"
          ],
          [
           "Καμπότζη"
          ],
          [
           "Καμπότζη"
          ],
          [
           "Καμπότζη"
          ],
          [
           "Καμπότζη"
          ],
          [
           "Καμπότζη"
          ],
          [
           "Καμπότζη"
          ],
          [
           "Καμπότζη"
          ],
          [
           "Καμπότζη"
          ],
          [
           "Καμπότζη"
          ],
          [
           "Καμπότζη"
          ]
         ],
         "hoverlabel": {
          "namelength": 0
         },
         "hovertemplate": "Χώρα=%{customdata[0]}<br>Αριθμός Κρουσμάτων=%{y}",
         "legendgroup": "Καμπότζη",
         "line": {
          "color": "rgb(189,189,189)",
          "dash": "solid",
          "shape": "spline"
         },
         "mode": "lines",
         "name": "Καμπότζη",
         "showlegend": true,
         "type": "scatter",
         "xaxis": "x",
         "y": [
          103,
          107,
          109,
          109,
          110,
          114,
          114,
          114,
          114,
          115,
          117,
          119,
          119,
          120,
          122
         ],
         "yaxis": "y"
        },
        {
         "customdata": [
          [
           "Καμερούν"
          ],
          [
           "Καμερούν"
          ],
          [
           "Καμερούν"
          ],
          [
           "Καμερούν"
          ],
          [
           "Καμερούν"
          ],
          [
           "Καμερούν"
          ],
          [
           "Καμερούν"
          ],
          [
           "Καμερούν"
          ],
          [
           "Καμερούν"
          ],
          [
           "Καμερούν"
          ],
          [
           "Καμερούν"
          ],
          [
           "Καμερούν"
          ],
          [
           "Καμερούν"
          ],
          [
           "Καμερούν"
          ],
          [
           "Καμερούν"
          ]
         ],
         "hoverlabel": {
          "namelength": 0
         },
         "hovertemplate": "Χώρα=%{customdata[0]}<br>Αριθμός Κρουσμάτων=%{y}",
         "legendgroup": "Καμερούν",
         "line": {
          "color": "rgb(189,189,189)",
          "dash": "solid",
          "shape": "spline"
         },
         "mode": "lines",
         "name": "Καμερούν",
         "showlegend": true,
         "type": "scatter",
         "xaxis": "x",
         "y": [
          139,
          139,
          193,
          233,
          306,
          509,
          555,
          650,
          658,
          658,
          730,
          730,
          820,
          820,
          820
         ],
         "yaxis": "y"
        },
        {
         "customdata": [
          [
           "Καναδάς"
          ],
          [
           "Καναδάς"
          ],
          [
           "Καναδάς"
          ],
          [
           "Καναδάς"
          ],
          [
           "Καναδάς"
          ],
          [
           "Καναδάς"
          ],
          [
           "Καναδάς"
          ],
          [
           "Καναδάς"
          ],
          [
           "Καναδάς"
          ],
          [
           "Καναδάς"
          ],
          [
           "Καναδάς"
          ],
          [
           "Καναδάς"
          ],
          [
           "Καναδάς"
          ],
          [
           "Καναδάς"
          ],
          [
           "Καναδάς"
          ],
          [
           "Καναδάς"
          ],
          [
           "Καναδάς"
          ],
          [
           "Καναδάς"
          ],
          [
           "Καναδάς"
          ],
          [
           "Καναδάς"
          ],
          [
           "Καναδάς"
          ],
          [
           "Καναδάς"
          ],
          [
           "Καναδάς"
          ],
          [
           "Καναδάς"
          ],
          [
           "Καναδάς"
          ],
          [
           "Καναδάς"
          ],
          [
           "Καναδάς"
          ],
          [
           "Καναδάς"
          ],
          [
           "Καναδάς"
          ],
          [
           "Καναδάς"
          ],
          [
           "Καναδάς"
          ],
          [
           "Καναδάς"
          ],
          [
           "Καναδάς"
          ]
         ],
         "hoverlabel": {
          "namelength": 0
         },
         "hovertemplate": "Χώρα=%{customdata[0]}<br>Αριθμός Κρουσμάτων=%{y}",
         "legendgroup": "Καναδάς",
         "line": {
          "color": "rgb(189,189,189)",
          "dash": "solid",
          "shape": "spline"
         },
         "mode": "lines",
         "name": "Καναδάς",
         "showlegend": true,
         "type": "scatter",
         "xaxis": "x",
         "y": [
          108,
          117,
          193,
          198,
          252,
          415,
          478,
          657,
          800,
          943,
          1277,
          1469,
          2088,
          2790,
          3251,
          4042,
          4682,
          5576,
          6280,
          7398,
          8527,
          9560,
          11284,
          12437,
          12978,
          15756,
          16563,
          17872,
          19141,
          20654,
          22059,
          23316,
          24298
         ],
         "yaxis": "y"
        },
        {
         "customdata": [
          [
           "Χιλή"
          ],
          [
           "Χιλή"
          ],
          [
           "Χιλή"
          ],
          [
           "Χιλή"
          ],
          [
           "Χιλή"
          ],
          [
           "Χιλή"
          ],
          [
           "Χιλή"
          ],
          [
           "Χιλή"
          ],
          [
           "Χιλή"
          ],
          [
           "Χιλή"
          ],
          [
           "Χιλή"
          ],
          [
           "Χιλή"
          ],
          [
           "Χιλή"
          ],
          [
           "Χιλή"
          ],
          [
           "Χιλή"
          ],
          [
           "Χιλή"
          ],
          [
           "Χιλή"
          ],
          [
           "Χιλή"
          ],
          [
           "Χιλή"
          ],
          [
           "Χιλή"
          ],
          [
           "Χιλή"
          ],
          [
           "Χιλή"
          ],
          [
           "Χιλή"
          ],
          [
           "Χιλή"
          ],
          [
           "Χιλή"
          ],
          [
           "Χιλή"
          ],
          [
           "Χιλή"
          ],
          [
           "Χιλή"
          ]
         ],
         "hoverlabel": {
          "namelength": 0
         },
         "hovertemplate": "Χώρα=%{customdata[0]}<br>Αριθμός Κρουσμάτων=%{y}",
         "legendgroup": "Χιλή",
         "line": {
          "color": "rgb(189,189,189)",
          "dash": "solid",
          "shape": "spline"
         },
         "mode": "lines",
         "name": "Χιλή",
         "showlegend": true,
         "type": "scatter",
         "xaxis": "x",
         "y": [
          155,
          201,
          238,
          238,
          434,
          537,
          632,
          746,
          922,
          1142,
          1306,
          1610,
          1909,
          2139,
          2449,
          2738,
          3031,
          3404,
          3737,
          4161,
          4471,
          4815,
          5116,
          5546,
          5972,
          6501,
          6927,
          7213
         ],
         "yaxis": "y"
        },
        {
         "customdata": [
          [
           "Κολομβία"
          ],
          [
           "Κολομβία"
          ],
          [
           "Κολομβία"
          ],
          [
           "Κολομβία"
          ],
          [
           "Κολομβία"
          ],
          [
           "Κολομβία"
          ],
          [
           "Κολομβία"
          ],
          [
           "Κολομβία"
          ],
          [
           "Κολομβία"
          ],
          [
           "Κολομβία"
          ],
          [
           "Κολομβία"
          ],
          [
           "Κολομβία"
          ],
          [
           "Κολομβία"
          ],
          [
           "Κολομβία"
          ],
          [
           "Κολομβία"
          ],
          [
           "Κολομβία"
          ],
          [
           "Κολομβία"
          ],
          [
           "Κολομβία"
          ],
          [
           "Κολομβία"
          ],
          [
           "Κολομβία"
          ],
          [
           "Κολομβία"
          ],
          [
           "Κολομβία"
          ],
          [
           "Κολομβία"
          ],
          [
           "Κολομβία"
          ],
          [
           "Κολομβία"
          ]
         ],
         "hoverlabel": {
          "namelength": 0
         },
         "hovertemplate": "Χώρα=%{customdata[0]}<br>Αριθμός Κρουσμάτων=%{y}",
         "legendgroup": "Κολομβία",
         "line": {
          "color": "rgb(189,189,189)",
          "dash": "solid",
          "shape": "spline"
         },
         "mode": "lines",
         "name": "Κολομβία",
         "showlegend": true,
         "type": "scatter",
         "xaxis": "x",
         "y": [
          102,
          128,
          196,
          231,
          277,
          378,
          470,
          491,
          539,
          608,
          702,
          798,
          906,
          1065,
          1161,
          1267,
          1406,
          1485,
          1579,
          1780,
          2054,
          2223,
          2473,
          2709,
          2776
         ],
         "yaxis": "y"
        },
        {
         "customdata": [
          [
           "Λαϊκή Δημ/τία Κονγκό"
          ],
          [
           "Λαϊκή Δημ/τία Κονγκό"
          ],
          [
           "Λαϊκή Δημ/τία Κονγκό"
          ],
          [
           "Λαϊκή Δημ/τία Κονγκό"
          ],
          [
           "Λαϊκή Δημ/τία Κονγκό"
          ],
          [
           "Λαϊκή Δημ/τία Κονγκό"
          ],
          [
           "Λαϊκή Δημ/τία Κονγκό"
          ],
          [
           "Λαϊκή Δημ/τία Κονγκό"
          ],
          [
           "Λαϊκή Δημ/τία Κονγκό"
          ],
          [
           "Λαϊκή Δημ/τία Κονγκό"
          ],
          [
           "Λαϊκή Δημ/τία Κονγκό"
          ],
          [
           "Λαϊκή Δημ/τία Κονγκό"
          ]
         ],
         "hoverlabel": {
          "namelength": 0
         },
         "hovertemplate": "Χώρα=%{customdata[0]}<br>Αριθμός Κρουσμάτων=%{y}",
         "legendgroup": "Λαϊκή Δημ/τία Κονγκό",
         "line": {
          "color": "rgb(189,189,189)",
          "dash": "solid",
          "shape": "spline"
         },
         "mode": "lines",
         "name": "Λαϊκή Δημ/τία Κονγκό",
         "showlegend": true,
         "type": "scatter",
         "xaxis": "x",
         "y": [
          109,
          134,
          134,
          154,
          154,
          161,
          180,
          180,
          180,
          215,
          223,
          234
         ],
         "yaxis": "y"
        },
        {
         "customdata": [
          [
           "Κόστα Ρίκα"
          ],
          [
           "Κόστα Ρίκα"
          ],
          [
           "Κόστα Ρίκα"
          ],
          [
           "Κόστα Ρίκα"
          ],
          [
           "Κόστα Ρίκα"
          ],
          [
           "Κόστα Ρίκα"
          ],
          [
           "Κόστα Ρίκα"
          ],
          [
           "Κόστα Ρίκα"
          ],
          [
           "Κόστα Ρίκα"
          ],
          [
           "Κόστα Ρίκα"
          ],
          [
           "Κόστα Ρίκα"
          ],
          [
           "Κόστα Ρίκα"
          ],
          [
           "Κόστα Ρίκα"
          ],
          [
           "Κόστα Ρίκα"
          ],
          [
           "Κόστα Ρίκα"
          ],
          [
           "Κόστα Ρίκα"
          ],
          [
           "Κόστα Ρίκα"
          ],
          [
           "Κόστα Ρίκα"
          ],
          [
           "Κόστα Ρίκα"
          ],
          [
           "Κόστα Ρίκα"
          ],
          [
           "Κόστα Ρίκα"
          ],
          [
           "Κόστα Ρίκα"
          ],
          [
           "Κόστα Ρίκα"
          ]
         ],
         "hoverlabel": {
          "namelength": 0
         },
         "hovertemplate": "Χώρα=%{customdata[0]}<br>Αριθμός Κρουσμάτων=%{y}",
         "legendgroup": "Κόστα Ρίκα",
         "line": {
          "color": "rgb(189,189,189)",
          "dash": "solid",
          "shape": "spline"
         },
         "mode": "lines",
         "name": "Κόστα Ρίκα",
         "showlegend": true,
         "type": "scatter",
         "xaxis": "x",
         "y": [
          117,
          134,
          158,
          177,
          201,
          231,
          263,
          295,
          314,
          330,
          347,
          375,
          396,
          416,
          435,
          454,
          467,
          483,
          502,
          539,
          558,
          577,
          595
         ],
         "yaxis": "y"
        },
        {
         "customdata": [
          [
           "Ακτή Ελεφαντοστού"
          ],
          [
           "Ακτή Ελεφαντοστού"
          ],
          [
           "Ακτή Ελεφαντοστού"
          ],
          [
           "Ακτή Ελεφαντοστού"
          ],
          [
           "Ακτή Ελεφαντοστού"
          ],
          [
           "Ακτή Ελεφαντοστού"
          ],
          [
           "Ακτή Ελεφαντοστού"
          ],
          [
           "Ακτή Ελεφαντοστού"
          ],
          [
           "Ακτή Ελεφαντοστού"
          ],
          [
           "Ακτή Ελεφαντοστού"
          ],
          [
           "Ακτή Ελεφαντοστού"
          ],
          [
           "Ακτή Ελεφαντοστού"
          ],
          [
           "Ακτή Ελεφαντοστού"
          ],
          [
           "Ακτή Ελεφαντοστού"
          ],
          [
           "Ακτή Ελεφαντοστού"
          ],
          [
           "Ακτή Ελεφαντοστού"
          ],
          [
           "Ακτή Ελεφαντοστού"
          ]
         ],
         "hoverlabel": {
          "namelength": 0
         },
         "hovertemplate": "Χώρα=%{customdata[0]}<br>Αριθμός Κρουσμάτων=%{y}",
         "legendgroup": "Ακτή Ελεφαντοστού",
         "line": {
          "color": "rgb(189,189,189)",
          "dash": "solid",
          "shape": "spline"
         },
         "mode": "lines",
         "name": "Ακτή Ελεφαντοστού",
         "showlegend": true,
         "type": "scatter",
         "xaxis": "x",
         "y": [
          101,
          101,
          165,
          168,
          179,
          190,
          194,
          218,
          245,
          261,
          323,
          349,
          384,
          444,
          444,
          533,
          574
         ],
         "yaxis": "y"
        },
        {
         "customdata": [
          [
           "Κροατία"
          ],
          [
           "Κροατία"
          ],
          [
           "Κροατία"
          ],
          [
           "Κροατία"
          ],
          [
           "Κροατία"
          ],
          [
           "Κροατία"
          ],
          [
           "Κροατία"
          ],
          [
           "Κροατία"
          ],
          [
           "Κροατία"
          ],
          [
           "Κροατία"
          ],
          [
           "Κροατία"
          ],
          [
           "Κροατία"
          ],
          [
           "Κροατία"
          ],
          [
           "Κροατία"
          ],
          [
           "Κροατία"
          ],
          [
           "Κροατία"
          ],
          [
           "Κροατία"
          ],
          [
           "Κροατία"
          ],
          [
           "Κροατία"
          ],
          [
           "Κροατία"
          ],
          [
           "Κροατία"
          ],
          [
           "Κροατία"
          ],
          [
           "Κροατία"
          ],
          [
           "Κροατία"
          ],
          [
           "Κροατία"
          ]
         ],
         "hoverlabel": {
          "namelength": 0
         },
         "hovertemplate": "Χώρα=%{customdata[0]}<br>Αριθμός Κρουσμάτων=%{y}",
         "legendgroup": "Κροατία",
         "line": {
          "color": "rgb(189,189,189)",
          "dash": "solid",
          "shape": "spline"
         },
         "mode": "lines",
         "name": "Κροατία",
         "showlegend": true,
         "type": "scatter",
         "xaxis": "x",
         "y": [
          105,
          128,
          206,
          254,
          315,
          382,
          442,
          495,
          586,
          657,
          713,
          790,
          867,
          963,
          1011,
          1079,
          1126,
          1182,
          1222,
          1282,
          1343,
          1407,
          1495,
          1534,
          1600
         ],
         "yaxis": "y"
        },
        {
         "customdata": [
          [
           "Κούβα"
          ],
          [
           "Κούβα"
          ],
          [
           "Κούβα"
          ],
          [
           "Κούβα"
          ],
          [
           "Κούβα"
          ],
          [
           "Κούβα"
          ],
          [
           "Κούβα"
          ],
          [
           "Κούβα"
          ],
          [
           "Κούβα"
          ],
          [
           "Κούβα"
          ],
          [
           "Κούβα"
          ],
          [
           "Κούβα"
          ],
          [
           "Κούβα"
          ],
          [
           "Κούβα"
          ],
          [
           "Κούβα"
          ],
          [
           "Κούβα"
          ]
         ],
         "hoverlabel": {
          "namelength": 0
         },
         "hovertemplate": "Χώρα=%{customdata[0]}<br>Αριθμός Κρουσμάτων=%{y}",
         "legendgroup": "Κούβα",
         "line": {
          "color": "rgb(189,189,189)",
          "dash": "solid",
          "shape": "spline"
         },
         "mode": "lines",
         "name": "Κούβα",
         "showlegend": true,
         "type": "scatter",
         "xaxis": "x",
         "y": [
          119,
          139,
          170,
          186,
          212,
          233,
          269,
          288,
          320,
          350,
          396,
          457,
          515,
          564,
          620,
          669
         ],
         "yaxis": "y"
        },
        {
         "customdata": [
          [
           "Κύπρος"
          ],
          [
           "Κύπρος"
          ],
          [
           "Κύπρος"
          ],
          [
           "Κύπρος"
          ],
          [
           "Κύπρος"
          ],
          [
           "Κύπρος"
          ],
          [
           "Κύπρος"
          ],
          [
           "Κύπρος"
          ],
          [
           "Κύπρος"
          ],
          [
           "Κύπρος"
          ],
          [
           "Κύπρος"
          ],
          [
           "Κύπρος"
          ],
          [
           "Κύπρος"
          ],
          [
           "Κύπρος"
          ],
          [
           "Κύπρος"
          ],
          [
           "Κύπρος"
          ],
          [
           "Κύπρος"
          ],
          [
           "Κύπρος"
          ],
          [
           "Κύπρος"
          ],
          [
           "Κύπρος"
          ],
          [
           "Κύπρος"
          ]
         ],
         "hoverlabel": {
          "namelength": 0
         },
         "hovertemplate": "Χώρα=%{customdata[0]}<br>Αριθμός Κρουσμάτων=%{y}",
         "legendgroup": "Κύπρος",
         "line": {
          "color": "rgb(189,189,189)",
          "dash": "solid",
          "shape": "spline"
         },
         "mode": "lines",
         "name": "Κύπρος",
         "showlegend": true,
         "type": "scatter",
         "xaxis": "x",
         "y": [
          116,
          124,
          132,
          146,
          162,
          179,
          214,
          230,
          262,
          320,
          356,
          396,
          426,
          446,
          465,
          494,
          526,
          564,
          595,
          616,
          633
         ],
         "yaxis": "y"
        },
        {
         "customdata": [
          [
           "Τσεχία"
          ],
          [
           "Τσεχία"
          ],
          [
           "Τσεχία"
          ],
          [
           "Τσεχία"
          ],
          [
           "Τσεχία"
          ],
          [
           "Τσεχία"
          ],
          [
           "Τσεχία"
          ],
          [
           "Τσεχία"
          ],
          [
           "Τσεχία"
          ],
          [
           "Τσεχία"
          ],
          [
           "Τσεχία"
          ],
          [
           "Τσεχία"
          ],
          [
           "Τσεχία"
          ],
          [
           "Τσεχία"
          ],
          [
           "Τσεχία"
          ],
          [
           "Τσεχία"
          ],
          [
           "Τσεχία"
          ],
          [
           "Τσεχία"
          ],
          [
           "Τσεχία"
          ],
          [
           "Τσεχία"
          ],
          [
           "Τσεχία"
          ],
          [
           "Τσεχία"
          ],
          [
           "Τσεχία"
          ],
          [
           "Τσεχία"
          ],
          [
           "Τσεχία"
          ],
          [
           "Τσεχία"
          ],
          [
           "Τσεχία"
          ],
          [
           "Τσεχία"
          ],
          [
           "Τσεχία"
          ],
          [
           "Τσεχία"
          ],
          [
           "Τσεχία"
          ]
         ],
         "hoverlabel": {
          "namelength": 0
         },
         "hovertemplate": "Χώρα=%{customdata[0]}<br>Αριθμός Κρουσμάτων=%{y}",
         "legendgroup": "Τσεχία",
         "line": {
          "color": "rgb(189,189,189)",
          "dash": "solid",
          "shape": "spline"
         },
         "mode": "lines",
         "name": "Τσεχία",
         "showlegend": true,
         "type": "scatter",
         "xaxis": "x",
         "y": [
          141,
          189,
          253,
          298,
          396,
          464,
          694,
          833,
          995,
          1120,
          1236,
          1394,
          1654,
          1925,
          2279,
          2631,
          2817,
          3001,
          3308,
          3508,
          3858,
          4091,
          4472,
          4587,
          4822,
          5017,
          5312,
          5569,
          5732,
          5831,
          5991
         ],
         "yaxis": "y"
        },
        {
         "customdata": [
          [
           "Δανία"
          ],
          [
           "Δανία"
          ],
          [
           "Δανία"
          ],
          [
           "Δανία"
          ],
          [
           "Δανία"
          ],
          [
           "Δανία"
          ],
          [
           "Δανία"
          ],
          [
           "Δανία"
          ],
          [
           "Δανία"
          ],
          [
           "Δανία"
          ],
          [
           "Δανία"
          ],
          [
           "Δανία"
          ],
          [
           "Δανία"
          ],
          [
           "Δανία"
          ],
          [
           "Δανία"
          ],
          [
           "Δανία"
          ],
          [
           "Δανία"
          ],
          [
           "Δανία"
          ],
          [
           "Δανία"
          ],
          [
           "Δανία"
          ],
          [
           "Δανία"
          ],
          [
           "Δανία"
          ],
          [
           "Δανία"
          ],
          [
           "Δανία"
          ],
          [
           "Δανία"
          ],
          [
           "Δανία"
          ],
          [
           "Δανία"
          ],
          [
           "Δανία"
          ],
          [
           "Δανία"
          ],
          [
           "Δανία"
          ],
          [
           "Δανία"
          ],
          [
           "Δανία"
          ],
          [
           "Δανία"
          ],
          [
           "Δανία"
          ]
         ],
         "hoverlabel": {
          "namelength": 0
         },
         "hovertemplate": "Χώρα=%{customdata[0]}<br>Αριθμός Κρουσμάτων=%{y}",
         "legendgroup": "Δανία",
         "line": {
          "color": "rgb(189,189,189)",
          "dash": "solid",
          "shape": "spline"
         },
         "mode": "lines",
         "name": "Δανία",
         "showlegend": true,
         "type": "scatter",
         "xaxis": "x",
         "y": [
          264,
          444,
          617,
          804,
          836,
          875,
          933,
          1025,
          1116,
          1225,
          1337,
          1420,
          1514,
          1572,
          1718,
          1862,
          2023,
          2200,
          2366,
          2564,
          2755,
          3039,
          3290,
          3573,
          3946,
          4269,
          4561,
          4875,
          5266,
          5597,
          5830,
          6014,
          6191,
          6369
         ],
         "yaxis": "y"
        },
        {
         "customdata": [
          [
           "Τζιμπουτί"
          ],
          [
           "Τζιμπουτί"
          ],
          [
           "Τζιμπουτί"
          ],
          [
           "Τζιμπουτί"
          ],
          [
           "Τζιμπουτί"
          ]
         ],
         "hoverlabel": {
          "namelength": 0
         },
         "hovertemplate": "Χώρα=%{customdata[0]}<br>Αριθμός Κρουσμάτων=%{y}",
         "legendgroup": "Τζιμπουτί",
         "line": {
          "color": "rgb(189,189,189)",
          "dash": "solid",
          "shape": "spline"
         },
         "mode": "lines",
         "name": "Τζιμπουτί",
         "showlegend": true,
         "type": "scatter",
         "xaxis": "x",
         "y": [
          135,
          135,
          150,
          187,
          214
         ],
         "yaxis": "y"
        },
        {
         "customdata": [
          [
           "Δομινικανή Δημ/τία"
          ],
          [
           "Δομινικανή Δημ/τία"
          ],
          [
           "Δομινικανή Δημ/τία"
          ],
          [
           "Δομινικανή Δημ/τία"
          ],
          [
           "Δομινικανή Δημ/τία"
          ],
          [
           "Δομινικανή Δημ/τία"
          ],
          [
           "Δομινικανή Δημ/τία"
          ],
          [
           "Δομινικανή Δημ/τία"
          ],
          [
           "Δομινικανή Δημ/τία"
          ],
          [
           "Δομινικανή Δημ/τία"
          ],
          [
           "Δομινικανή Δημ/τία"
          ],
          [
           "Δομινικανή Δημ/τία"
          ],
          [
           "Δομινικανή Δημ/τία"
          ],
          [
           "Δομινικανή Δημ/τία"
          ],
          [
           "Δομινικανή Δημ/τία"
          ],
          [
           "Δομινικανή Δημ/τία"
          ],
          [
           "Δομινικανή Δημ/τία"
          ],
          [
           "Δομινικανή Δημ/τία"
          ],
          [
           "Δομινικανή Δημ/τία"
          ],
          [
           "Δομινικανή Δημ/τία"
          ],
          [
           "Δομινικανή Δημ/τία"
          ],
          [
           "Δομινικανή Δημ/τία"
          ],
          [
           "Δομινικανή Δημ/τία"
          ]
         ],
         "hoverlabel": {
          "namelength": 0
         },
         "hovertemplate": "Χώρα=%{customdata[0]}<br>Αριθμός Κρουσμάτων=%{y}",
         "legendgroup": "Δομινικανή Δημ/τία",
         "line": {
          "color": "rgb(189,189,189)",
          "dash": "solid",
          "shape": "spline"
         },
         "mode": "lines",
         "name": "Δομινικανή Δημ/τία",
         "showlegend": true,
         "type": "scatter",
         "xaxis": "x",
         "y": [
          112,
          202,
          245,
          312,
          392,
          488,
          581,
          719,
          859,
          901,
          1109,
          1284,
          1380,
          1488,
          1488,
          1745,
          1828,
          1956,
          2111,
          2349,
          2620,
          2759,
          2967
         ],
         "yaxis": "y"
        },
        {
         "customdata": [
          [
           "Ισημερινός"
          ],
          [
           "Ισημερινός"
          ],
          [
           "Ισημερινός"
          ],
          [
           "Ισημερινός"
          ],
          [
           "Ισημερινός"
          ],
          [
           "Ισημερινός"
          ],
          [
           "Ισημερινός"
          ],
          [
           "Ισημερινός"
          ],
          [
           "Ισημερινός"
          ],
          [
           "Ισημερινός"
          ],
          [
           "Ισημερινός"
          ],
          [
           "Ισημερινός"
          ],
          [
           "Ισημερινός"
          ],
          [
           "Ισημερινός"
          ],
          [
           "Ισημερινός"
          ],
          [
           "Ισημερινός"
          ],
          [
           "Ισημερινός"
          ],
          [
           "Ισημερινός"
          ],
          [
           "Ισημερινός"
          ],
          [
           "Ισημερινός"
          ],
          [
           "Ισημερινός"
          ],
          [
           "Ισημερινός"
          ],
          [
           "Ισημερινός"
          ],
          [
           "Ισημερινός"
          ],
          [
           "Ισημερινός"
          ],
          [
           "Ισημερινός"
          ]
         ],
         "hoverlabel": {
          "namelength": 0
         },
         "hovertemplate": "Χώρα=%{customdata[0]}<br>Αριθμός Κρουσμάτων=%{y}",
         "legendgroup": "Ισημερινός",
         "line": {
          "color": "rgb(189,189,189)",
          "dash": "solid",
          "shape": "spline"
         },
         "mode": "lines",
         "name": "Ισημερινός",
         "showlegend": true,
         "type": "scatter",
         "xaxis": "x",
         "y": [
          111,
          199,
          367,
          506,
          789,
          981,
          1082,
          1173,
          1403,
          1595,
          1823,
          1924,
          1962,
          2240,
          2748,
          3163,
          3368,
          3465,
          3646,
          3747,
          3747,
          4450,
          4965,
          7161,
          7257,
          7466
         ],
         "yaxis": "y"
        },
        {
         "customdata": [
          [
           "Αίγυπτος"
          ],
          [
           "Αίγυπτος"
          ],
          [
           "Αίγυπτος"
          ],
          [
           "Αίγυπτος"
          ],
          [
           "Αίγυπτος"
          ],
          [
           "Αίγυπτος"
          ],
          [
           "Αίγυπτος"
          ],
          [
           "Αίγυπτος"
          ],
          [
           "Αίγυπτος"
          ],
          [
           "Αίγυπτος"
          ],
          [
           "Αίγυπτος"
          ],
          [
           "Αίγυπτος"
          ],
          [
           "Αίγυπτος"
          ],
          [
           "Αίγυπτος"
          ],
          [
           "Αίγυπτος"
          ],
          [
           "Αίγυπτος"
          ],
          [
           "Αίγυπτος"
          ],
          [
           "Αίγυπτος"
          ],
          [
           "Αίγυπτος"
          ],
          [
           "Αίγυπτος"
          ],
          [
           "Αίγυπτος"
          ],
          [
           "Αίγυπτος"
          ],
          [
           "Αίγυπτος"
          ],
          [
           "Αίγυπτος"
          ],
          [
           "Αίγυπτος"
          ],
          [
           "Αίγυπτος"
          ],
          [
           "Αίγυπτος"
          ],
          [
           "Αίγυπτος"
          ],
          [
           "Αίγυπτος"
          ],
          [
           "Αίγυπτος"
          ]
         ],
         "hoverlabel": {
          "namelength": 0
         },
         "hovertemplate": "Χώρα=%{customdata[0]}<br>Αριθμός Κρουσμάτων=%{y}",
         "legendgroup": "Αίγυπτος",
         "line": {
          "color": "rgb(189,189,189)",
          "dash": "solid",
          "shape": "spline"
         },
         "mode": "lines",
         "name": "Αίγυπτος",
         "showlegend": true,
         "type": "scatter",
         "xaxis": "x",
         "y": [
          109,
          110,
          150,
          196,
          196,
          256,
          285,
          294,
          327,
          366,
          402,
          456,
          495,
          536,
          576,
          609,
          656,
          710,
          779,
          865,
          985,
          1070,
          1173,
          1322,
          1450,
          1560,
          1699,
          1794,
          1939,
          2065
         ],
         "yaxis": "y"
        },
        {
         "customdata": [
          [
           "Ελ Σαλβαδόρ"
          ],
          [
           "Ελ Σαλβαδόρ"
          ],
          [
           "Ελ Σαλβαδόρ"
          ],
          [
           "Ελ Σαλβαδόρ"
          ]
         ],
         "hoverlabel": {
          "namelength": 0
         },
         "hovertemplate": "Χώρα=%{customdata[0]}<br>Αριθμός Κρουσμάτων=%{y}",
         "legendgroup": "Ελ Σαλβαδόρ",
         "line": {
          "color": "rgb(189,189,189)",
          "dash": "solid",
          "shape": "spline"
         },
         "mode": "lines",
         "name": "Ελ Σαλβαδόρ",
         "showlegend": true,
         "type": "scatter",
         "xaxis": "x",
         "y": [
          103,
          117,
          118,
          125
         ],
         "yaxis": "y"
        },
        {
         "customdata": [
          [
           "Εσθονία"
          ],
          [
           "Εσθονία"
          ],
          [
           "Εσθονία"
          ],
          [
           "Εσθονία"
          ],
          [
           "Εσθονία"
          ],
          [
           "Εσθονία"
          ],
          [
           "Εσθονία"
          ],
          [
           "Εσθονία"
          ],
          [
           "Εσθονία"
          ],
          [
           "Εσθονία"
          ],
          [
           "Εσθονία"
          ],
          [
           "Εσθονία"
          ],
          [
           "Εσθονία"
          ],
          [
           "Εσθονία"
          ],
          [
           "Εσθονία"
          ],
          [
           "Εσθονία"
          ],
          [
           "Εσθονία"
          ],
          [
           "Εσθονία"
          ],
          [
           "Εσθονία"
          ],
          [
           "Εσθονία"
          ],
          [
           "Εσθονία"
          ],
          [
           "Εσθονία"
          ],
          [
           "Εσθονία"
          ],
          [
           "Εσθονία"
          ],
          [
           "Εσθονία"
          ],
          [
           "Εσθονία"
          ],
          [
           "Εσθονία"
          ],
          [
           "Εσθονία"
          ],
          [
           "Εσθονία"
          ],
          [
           "Εσθονία"
          ]
         ],
         "hoverlabel": {
          "namelength": 0
         },
         "hovertemplate": "Χώρα=%{customdata[0]}<br>Αριθμός Κρουσμάτων=%{y}",
         "legendgroup": "Εσθονία",
         "line": {
          "color": "rgb(189,189,189)",
          "dash": "solid",
          "shape": "spline"
         },
         "mode": "lines",
         "name": "Εσθονία",
         "showlegend": true,
         "type": "scatter",
         "xaxis": "x",
         "y": [
          115,
          171,
          205,
          225,
          258,
          267,
          283,
          306,
          326,
          352,
          369,
          404,
          538,
          575,
          645,
          679,
          715,
          745,
          779,
          858,
          961,
          1039,
          1097,
          1108,
          1149,
          1185,
          1207,
          1258,
          1304,
          1309
         ],
         "yaxis": "y"
        },
        {
         "customdata": [
          [
           "Φινλανδία"
          ],
          [
           "Φινλανδία"
          ],
          [
           "Φινλανδία"
          ],
          [
           "Φινλανδία"
          ],
          [
           "Φινλανδία"
          ],
          [
           "Φινλανδία"
          ],
          [
           "Φινλανδία"
          ],
          [
           "Φινλανδία"
          ],
          [
           "Φινλανδία"
          ],
          [
           "Φινλανδία"
          ],
          [
           "Φινλανδία"
          ],
          [
           "Φινλανδία"
          ],
          [
           "Φινλανδία"
          ],
          [
           "Φινλανδία"
          ],
          [
           "Φινλανδία"
          ],
          [
           "Φινλανδία"
          ],
          [
           "Φινλανδία"
          ],
          [
           "Φινλανδία"
          ],
          [
           "Φινλανδία"
          ],
          [
           "Φινλανδία"
          ],
          [
           "Φινλανδία"
          ],
          [
           "Φινλανδία"
          ],
          [
           "Φινλανδία"
          ],
          [
           "Φινλανδία"
          ],
          [
           "Φινλανδία"
          ],
          [
           "Φινλανδία"
          ],
          [
           "Φινλανδία"
          ],
          [
           "Φινλανδία"
          ],
          [
           "Φινλανδία"
          ],
          [
           "Φινλανδία"
          ],
          [
           "Φινλανδία"
          ]
         ],
         "hoverlabel": {
          "namelength": 0
         },
         "hovertemplate": "Χώρα=%{customdata[0]}<br>Αριθμός Κρουσμάτων=%{y}",
         "legendgroup": "Φινλανδία",
         "line": {
          "color": "rgb(189,189,189)",
          "dash": "solid",
          "shape": "spline"
         },
         "mode": "lines",
         "name": "Φινλανδία",
         "showlegend": true,
         "type": "scatter",
         "xaxis": "x",
         "y": [
          155,
          225,
          244,
          277,
          321,
          336,
          400,
          450,
          523,
          626,
          700,
          792,
          880,
          958,
          1041,
          1167,
          1240,
          1352,
          1418,
          1446,
          1518,
          1615,
          1882,
          1927,
          2176,
          2308,
          2487,
          2605,
          2769,
          2905,
          2974
         ],
         "yaxis": "y"
        },
        {
         "customdata": [
          [
           "Γαλλία"
          ],
          [
           "Γαλλία"
          ],
          [
           "Γαλλία"
          ],
          [
           "Γαλλία"
          ],
          [
           "Γαλλία"
          ],
          [
           "Γαλλία"
          ],
          [
           "Γαλλία"
          ],
          [
           "Γαλλία"
          ],
          [
           "Γαλλία"
          ],
          [
           "Γαλλία"
          ],
          [
           "Γαλλία"
          ],
          [
           "Γαλλία"
          ],
          [
           "Γαλλία"
          ],
          [
           "Γαλλία"
          ],
          [
           "Γαλλία"
          ],
          [
           "Γαλλία"
          ],
          [
           "Γαλλία"
          ],
          [
           "Γαλλία"
          ],
          [
           "Γαλλία"
          ],
          [
           "Γαλλία"
          ],
          [
           "Γαλλία"
          ],
          [
           "Γαλλία"
          ],
          [
           "Γαλλία"
          ],
          [
           "Γαλλία"
          ],
          [
           "Γαλλία"
          ],
          [
           "Γαλλία"
          ],
          [
           "Γαλλία"
          ],
          [
           "Γαλλία"
          ],
          [
           "Γαλλία"
          ],
          [
           "Γαλλία"
          ],
          [
           "Γαλλία"
          ],
          [
           "Γαλλία"
          ],
          [
           "Γαλλία"
          ],
          [
           "Γαλλία"
          ],
          [
           "Γαλλία"
          ],
          [
           "Γαλλία"
          ],
          [
           "Γαλλία"
          ],
          [
           "Γαλλία"
          ],
          [
           "Γαλλία"
          ],
          [
           "Γαλλία"
          ],
          [
           "Γαλλία"
          ],
          [
           "Γαλλία"
          ],
          [
           "Γαλλία"
          ],
          [
           "Γαλλία"
          ]
         ],
         "hoverlabel": {
          "namelength": 0
         },
         "hovertemplate": "Χώρα=%{customdata[0]}<br>Αριθμός Κρουσμάτων=%{y}",
         "legendgroup": "Γαλλία",
         "line": {
          "color": "rgb(189,189,189)",
          "dash": "solid",
          "shape": "spline"
         },
         "mode": "lines",
         "name": "Γαλλία",
         "showlegend": true,
         "type": "scatter",
         "xaxis": "x",
         "y": [
          100,
          130,
          191,
          204,
          288,
          380,
          656,
          959,
          1136,
          1219,
          1794,
          2293,
          2293,
          3681,
          4496,
          4532,
          6683,
          7715,
          9124,
          10970,
          12758,
          14463,
          16243,
          20123,
          22622,
          25600,
          29551,
          33402,
          38105,
          40708,
          45170,
          52827,
          57749,
          59929,
          65202,
          90848,
          93773,
          98963,
          110065,
          113959,
          118781,
          125931,
          130727,
          133670
         ],
         "yaxis": "y"
        },
        {
         "customdata": [
          [
           "Γεωργία"
          ],
          [
           "Γεωργία"
          ],
          [
           "Γεωργία"
          ],
          [
           "Γεωργία"
          ],
          [
           "Γεωργία"
          ],
          [
           "Γεωργία"
          ],
          [
           "Γεωργία"
          ],
          [
           "Γεωργία"
          ],
          [
           "Γεωργία"
          ],
          [
           "Γεωργία"
          ],
          [
           "Γεωργία"
          ],
          [
           "Γεωργία"
          ],
          [
           "Γεωργία"
          ],
          [
           "Γεωργία"
          ]
         ],
         "hoverlabel": {
          "namelength": 0
         },
         "hovertemplate": "Χώρα=%{customdata[0]}<br>Αριθμός Κρουσμάτων=%{y}",
         "legendgroup": "Γεωργία",
         "line": {
          "color": "rgb(189,189,189)",
          "dash": "solid",
          "shape": "spline"
         },
         "mode": "lines",
         "name": "Γεωργία",
         "showlegend": true,
         "type": "scatter",
         "xaxis": "x",
         "y": [
          103,
          110,
          117,
          134,
          155,
          162,
          174,
          188,
          196,
          211,
          218,
          234,
          242,
          257
         ],
         "yaxis": "y"
        },
        {
         "customdata": [
          [
           "Γκάνα"
          ],
          [
           "Γκάνα"
          ],
          [
           "Γκάνα"
          ],
          [
           "Γκάνα"
          ],
          [
           "Γκάνα"
          ],
          [
           "Γκάνα"
          ],
          [
           "Γκάνα"
          ],
          [
           "Γκάνα"
          ],
          [
           "Γκάνα"
          ],
          [
           "Γκάνα"
          ],
          [
           "Γκάνα"
          ],
          [
           "Γκάνα"
          ],
          [
           "Γκάνα"
          ],
          [
           "Γκάνα"
          ],
          [
           "Γκάνα"
          ],
          [
           "Γκάνα"
          ],
          [
           "Γκάνα"
          ],
          [
           "Γκάνα"
          ]
         ],
         "hoverlabel": {
          "namelength": 0
         },
         "hovertemplate": "Χώρα=%{customdata[0]}<br>Αριθμός Κρουσμάτων=%{y}",
         "legendgroup": "Γκάνα",
         "line": {
          "color": "rgb(189,189,189)",
          "dash": "solid",
          "shape": "spline"
         },
         "mode": "lines",
         "name": "Γκάνα",
         "showlegend": true,
         "type": "scatter",
         "xaxis": "x",
         "y": [
          132,
          137,
          141,
          152,
          152,
          161,
          195,
          204,
          205,
          205,
          214,
          214,
          287,
          313,
          378,
          378,
          408,
          566
         ],
         "yaxis": "y"
        },
        {
         "customdata": [
          [
           "Γουατεμάλα"
          ],
          [
           "Γουατεμάλα"
          ],
          [
           "Γουατεμάλα"
          ]
         ],
         "hoverlabel": {
          "namelength": 0
         },
         "hovertemplate": "Χώρα=%{customdata[0]}<br>Αριθμός Κρουσμάτων=%{y}",
         "legendgroup": "Γουατεμάλα",
         "line": {
          "color": "rgb(189,189,189)",
          "dash": "solid",
          "shape": "spline"
         },
         "mode": "lines",
         "name": "Γουατεμάλα",
         "showlegend": true,
         "type": "scatter",
         "xaxis": "x",
         "y": [
          126,
          137,
          155
         ],
         "yaxis": "y"
        },
        {
         "customdata": [
          [
           "Γουινέα"
          ],
          [
           "Γουινέα"
          ],
          [
           "Γουινέα"
          ],
          [
           "Γουινέα"
          ],
          [
           "Γουινέα"
          ],
          [
           "Γουινέα"
          ],
          [
           "Γουινέα"
          ],
          [
           "Γουινέα"
          ],
          [
           "Γουινέα"
          ]
         ],
         "hoverlabel": {
          "namelength": 0
         },
         "hovertemplate": "Χώρα=%{customdata[0]}<br>Αριθμός Κρουσμάτων=%{y}",
         "legendgroup": "Γουινέα",
         "line": {
          "color": "rgb(189,189,189)",
          "dash": "solid",
          "shape": "spline"
         },
         "mode": "lines",
         "name": "Γουινέα",
         "showlegend": true,
         "type": "scatter",
         "xaxis": "x",
         "y": [
          111,
          121,
          128,
          144,
          164,
          194,
          212,
          250,
          250
         ],
         "yaxis": "y"
        },
        {
         "customdata": [
          [
           "Ονδούρα"
          ],
          [
           "Ονδούρα"
          ],
          [
           "Ονδούρα"
          ],
          [
           "Ονδούρα"
          ],
          [
           "Ονδούρα"
          ],
          [
           "Ονδούρα"
          ],
          [
           "Ονδούρα"
          ],
          [
           "Ονδούρα"
          ],
          [
           "Ονδούρα"
          ],
          [
           "Ονδούρα"
          ],
          [
           "Ονδούρα"
          ],
          [
           "Ονδούρα"
          ],
          [
           "Ονδούρα"
          ],
          [
           "Ονδούρα"
          ],
          [
           "Ονδούρα"
          ]
         ],
         "hoverlabel": {
          "namelength": 0
         },
         "hovertemplate": "Χώρα=%{customdata[0]}<br>Αριθμός Κρουσμάτων=%{y}",
         "legendgroup": "Ονδούρα",
         "line": {
          "color": "rgb(189,189,189)",
          "dash": "solid",
          "shape": "spline"
         },
         "mode": "lines",
         "name": "Ονδούρα",
         "showlegend": true,
         "type": "scatter",
         "xaxis": "x",
         "y": [
          110,
          139,
          141,
          172,
          219,
          222,
          264,
          268,
          298,
          305,
          312,
          343,
          382,
          392,
          393
         ],
         "yaxis": "y"
        },
        {
         "customdata": [
          [
           "Ουγγαρία"
          ],
          [
           "Ουγγαρία"
          ],
          [
           "Ουγγαρία"
          ],
          [
           "Ουγγαρία"
          ],
          [
           "Ουγγαρία"
          ],
          [
           "Ουγγαρία"
          ],
          [
           "Ουγγαρία"
          ],
          [
           "Ουγγαρία"
          ],
          [
           "Ουγγαρία"
          ],
          [
           "Ουγγαρία"
          ],
          [
           "Ουγγαρία"
          ],
          [
           "Ουγγαρία"
          ],
          [
           "Ουγγαρία"
          ],
          [
           "Ουγγαρία"
          ],
          [
           "Ουγγαρία"
          ],
          [
           "Ουγγαρία"
          ],
          [
           "Ουγγαρία"
          ],
          [
           "Ουγγαρία"
          ],
          [
           "Ουγγαρία"
          ],
          [
           "Ουγγαρία"
          ],
          [
           "Ουγγαρία"
          ],
          [
           "Ουγγαρία"
          ],
          [
           "Ουγγαρία"
          ]
         ],
         "hoverlabel": {
          "namelength": 0
         },
         "hovertemplate": "Χώρα=%{customdata[0]}<br>Αριθμός Κρουσμάτων=%{y}",
         "legendgroup": "Ουγγαρία",
         "line": {
          "color": "rgb(189,189,189)",
          "dash": "solid",
          "shape": "spline"
         },
         "mode": "lines",
         "name": "Ουγγαρία",
         "showlegend": true,
         "type": "scatter",
         "xaxis": "x",
         "y": [
          103,
          131,
          167,
          187,
          226,
          261,
          300,
          343,
          408,
          447,
          492,
          525,
          585,
          623,
          678,
          733,
          744,
          817,
          895,
          980,
          1190,
          1310,
          1410
         ],
         "yaxis": "y"
        },
        {
         "customdata": [
          [
           "Ισλανδία"
          ],
          [
           "Ισλανδία"
          ],
          [
           "Ισλανδία"
          ],
          [
           "Ισλανδία"
          ],
          [
           "Ισλανδία"
          ],
          [
           "Ισλανδία"
          ],
          [
           "Ισλανδία"
          ],
          [
           "Ισλανδία"
          ],
          [
           "Ισλανδία"
          ],
          [
           "Ισλανδία"
          ],
          [
           "Ισλανδία"
          ],
          [
           "Ισλανδία"
          ],
          [
           "Ισλανδία"
          ],
          [
           "Ισλανδία"
          ],
          [
           "Ισλανδία"
          ],
          [
           "Ισλανδία"
          ],
          [
           "Ισλανδία"
          ],
          [
           "Ισλανδία"
          ],
          [
           "Ισλανδία"
          ],
          [
           "Ισλανδία"
          ],
          [
           "Ισλανδία"
          ],
          [
           "Ισλανδία"
          ],
          [
           "Ισλανδία"
          ],
          [
           "Ισλανδία"
          ],
          [
           "Ισλανδία"
          ],
          [
           "Ισλανδία"
          ],
          [
           "Ισλανδία"
          ],
          [
           "Ισλανδία"
          ],
          [
           "Ισλανδία"
          ],
          [
           "Ισλανδία"
          ],
          [
           "Ισλανδία"
          ],
          [
           "Ισλανδία"
          ]
         ],
         "hoverlabel": {
          "namelength": 0
         },
         "hovertemplate": "Χώρα=%{customdata[0]}<br>Αριθμός Κρουσμάτων=%{y}",
         "legendgroup": "Ισλανδία",
         "line": {
          "color": "rgb(189,189,189)",
          "dash": "solid",
          "shape": "spline"
         },
         "mode": "lines",
         "name": "Ισλανδία",
         "showlegend": true,
         "type": "scatter",
         "xaxis": "x",
         "y": [
          103,
          134,
          156,
          171,
          180,
          220,
          250,
          330,
          409,
          473,
          568,
          588,
          648,
          737,
          802,
          890,
          963,
          1020,
          1086,
          1135,
          1220,
          1319,
          1364,
          1417,
          1486,
          1562,
          1586,
          1616,
          1648,
          1675,
          1689,
          1701
         ],
         "yaxis": "y"
        },
        {
         "customdata": [
          [
           "Ινδία"
          ],
          [
           "Ινδία"
          ],
          [
           "Ινδία"
          ],
          [
           "Ινδία"
          ],
          [
           "Ινδία"
          ],
          [
           "Ινδία"
          ],
          [
           "Ινδία"
          ],
          [
           "Ινδία"
          ],
          [
           "Ινδία"
          ],
          [
           "Ινδία"
          ],
          [
           "Ινδία"
          ],
          [
           "Ινδία"
          ],
          [
           "Ινδία"
          ],
          [
           "Ινδία"
          ],
          [
           "Ινδία"
          ],
          [
           "Ινδία"
          ],
          [
           "Ινδία"
          ],
          [
           "Ινδία"
          ],
          [
           "Ινδία"
          ],
          [
           "Ινδία"
          ],
          [
           "Ινδία"
          ],
          [
           "Ινδία"
          ],
          [
           "Ινδία"
          ],
          [
           "Ινδία"
          ],
          [
           "Ινδία"
          ],
          [
           "Ινδία"
          ],
          [
           "Ινδία"
          ],
          [
           "Ινδία"
          ],
          [
           "Ινδία"
          ],
          [
           "Ινδία"
          ]
         ],
         "hoverlabel": {
          "namelength": 0
         },
         "hovertemplate": "Χώρα=%{customdata[0]}<br>Αριθμός Κρουσμάτων=%{y}",
         "legendgroup": "Ινδία",
         "line": {
          "color": "rgb(189,189,189)",
          "dash": "solid",
          "shape": "spline"
         },
         "mode": "lines",
         "name": "Ινδία",
         "showlegend": true,
         "type": "scatter",
         "xaxis": "x",
         "y": [
          102,
          113,
          119,
          142,
          156,
          194,
          244,
          330,
          396,
          499,
          536,
          657,
          727,
          887,
          987,
          1024,
          1251,
          1397,
          1998,
          2543,
          2567,
          3082,
          3588,
          4778,
          5311,
          5916,
          6725,
          7598,
          8446,
          9205
         ],
         "yaxis": "y"
        },
        {
         "customdata": [
          [
           "Ινδονησία"
          ],
          [
           "Ινδονησία"
          ],
          [
           "Ινδονησία"
          ],
          [
           "Ινδονησία"
          ],
          [
           "Ινδονησία"
          ],
          [
           "Ινδονησία"
          ],
          [
           "Ινδονησία"
          ],
          [
           "Ινδονησία"
          ],
          [
           "Ινδονησία"
          ],
          [
           "Ινδονησία"
          ],
          [
           "Ινδονησία"
          ],
          [
           "Ινδονησία"
          ],
          [
           "Ινδονησία"
          ],
          [
           "Ινδονησία"
          ],
          [
           "Ινδονησία"
          ],
          [
           "Ινδονησία"
          ],
          [
           "Ινδονησία"
          ],
          [
           "Ινδονησία"
          ],
          [
           "Ινδονησία"
          ],
          [
           "Ινδονησία"
          ],
          [
           "Ινδονησία"
          ],
          [
           "Ινδονησία"
          ],
          [
           "Ινδονησία"
          ],
          [
           "Ινδονησία"
          ],
          [
           "Ινδονησία"
          ],
          [
           "Ινδονησία"
          ],
          [
           "Ινδονησία"
          ],
          [
           "Ινδονησία"
          ],
          [
           "Ινδονησία"
          ]
         ],
         "hoverlabel": {
          "namelength": 0
         },
         "hovertemplate": "Χώρα=%{customdata[0]}<br>Αριθμός Κρουσμάτων=%{y}",
         "legendgroup": "Ινδονησία",
         "line": {
          "color": "rgb(189,189,189)",
          "dash": "solid",
          "shape": "spline"
         },
         "mode": "lines",
         "name": "Ινδονησία",
         "showlegend": true,
         "type": "scatter",
         "xaxis": "x",
         "y": [
          117,
          134,
          172,
          227,
          311,
          369,
          450,
          514,
          579,
          686,
          790,
          893,
          1046,
          1155,
          1285,
          1414,
          1528,
          1677,
          1790,
          1986,
          2092,
          2273,
          2491,
          2738,
          2956,
          3293,
          3512,
          3842,
          4241
         ],
         "yaxis": "y"
        },
        {
         "customdata": [
          [
           "Ιράν"
          ],
          [
           "Ιράν"
          ],
          [
           "Ιράν"
          ],
          [
           "Ιράν"
          ],
          [
           "Ιράν"
          ],
          [
           "Ιράν"
          ],
          [
           "Ιράν"
          ],
          [
           "Ιράν"
          ],
          [
           "Ιράν"
          ],
          [
           "Ιράν"
          ],
          [
           "Ιράν"
          ],
          [
           "Ιράν"
          ],
          [
           "Ιράν"
          ],
          [
           "Ιράν"
          ],
          [
           "Ιράν"
          ],
          [
           "Ιράν"
          ],
          [
           "Ιράν"
          ],
          [
           "Ιράν"
          ],
          [
           "Ιράν"
          ],
          [
           "Ιράν"
          ],
          [
           "Ιράν"
          ],
          [
           "Ιράν"
          ],
          [
           "Ιράν"
          ],
          [
           "Ιράν"
          ],
          [
           "Ιράν"
          ],
          [
           "Ιράν"
          ],
          [
           "Ιράν"
          ],
          [
           "Ιράν"
          ],
          [
           "Ιράν"
          ],
          [
           "Ιράν"
          ],
          [
           "Ιράν"
          ],
          [
           "Ιράν"
          ],
          [
           "Ιράν"
          ],
          [
           "Ιράν"
          ],
          [
           "Ιράν"
          ],
          [
           "Ιράν"
          ],
          [
           "Ιράν"
          ],
          [
           "Ιράν"
          ],
          [
           "Ιράν"
          ],
          [
           "Ιράν"
          ],
          [
           "Ιράν"
          ],
          [
           "Ιράν"
          ],
          [
           "Ιράν"
          ],
          [
           "Ιράν"
          ],
          [
           "Ιράν"
          ],
          [
           "Ιράν"
          ],
          [
           "Ιράν"
          ]
         ],
         "hoverlabel": {
          "namelength": 0
         },
         "hovertemplate": "Χώρα=%{customdata[0]}<br>Αριθμός Κρουσμάτων=%{y}",
         "legendgroup": "Ιράν",
         "line": {
          "color": "rgb(189,189,189)",
          "dash": "solid",
          "shape": "spline"
         },
         "mode": "lines",
         "name": "Ιράν",
         "showlegend": true,
         "type": "scatter",
         "xaxis": "x",
         "y": [
          139,
          245,
          388,
          593,
          978,
          1501,
          2336,
          2922,
          3513,
          4747,
          5823,
          6566,
          7161,
          8042,
          9000,
          10075,
          11364,
          12729,
          13938,
          14991,
          16169,
          17361,
          18407,
          19644,
          20610,
          21638,
          23049,
          24811,
          27017,
          29406,
          32332,
          35408,
          38309,
          41495,
          44605,
          47593,
          50468,
          53183,
          55743,
          58226,
          60500,
          62589,
          64586,
          66220,
          68192,
          70029,
          71686
         ],
         "yaxis": "y"
        },
        {
         "customdata": [
          [
           "Ιράκ"
          ],
          [
           "Ιράκ"
          ],
          [
           "Ιράκ"
          ],
          [
           "Ιράκ"
          ],
          [
           "Ιράκ"
          ],
          [
           "Ιράκ"
          ],
          [
           "Ιράκ"
          ],
          [
           "Ιράκ"
          ],
          [
           "Ιράκ"
          ],
          [
           "Ιράκ"
          ],
          [
           "Ιράκ"
          ],
          [
           "Ιράκ"
          ],
          [
           "Ιράκ"
          ],
          [
           "Ιράκ"
          ],
          [
           "Ιράκ"
          ],
          [
           "Ιράκ"
          ],
          [
           "Ιράκ"
          ],
          [
           "Ιράκ"
          ],
          [
           "Ιράκ"
          ],
          [
           "Ιράκ"
          ],
          [
           "Ιράκ"
          ],
          [
           "Ιράκ"
          ],
          [
           "Ιράκ"
          ],
          [
           "Ιράκ"
          ],
          [
           "Ιράκ"
          ],
          [
           "Ιράκ"
          ],
          [
           "Ιράκ"
          ],
          [
           "Ιράκ"
          ],
          [
           "Ιράκ"
          ],
          [
           "Ιράκ"
          ],
          [
           "Ιράκ"
          ]
         ],
         "hoverlabel": {
          "namelength": 0
         },
         "hovertemplate": "Χώρα=%{customdata[0]}<br>Αριθμός Κρουσμάτων=%{y}",
         "legendgroup": "Ιράκ",
         "line": {
          "color": "rgb(189,189,189)",
          "dash": "solid",
          "shape": "spline"
         },
         "mode": "lines",
         "name": "Ιράκ",
         "showlegend": true,
         "type": "scatter",
         "xaxis": "x",
         "y": [
          101,
          110,
          116,
          124,
          154,
          164,
          192,
          208,
          214,
          233,
          266,
          316,
          346,
          382,
          458,
          506,
          547,
          630,
          694,
          728,
          772,
          820,
          878,
          961,
          1031,
          1122,
          1202,
          1232,
          1279,
          1318,
          1352
         ],
         "yaxis": "y"
        },
        {
         "customdata": [
          [
           "Ιρλανδία"
          ],
          [
           "Ιρλανδία"
          ],
          [
           "Ιρλανδία"
          ],
          [
           "Ιρλανδία"
          ],
          [
           "Ιρλανδία"
          ],
          [
           "Ιρλανδία"
          ],
          [
           "Ιρλανδία"
          ],
          [
           "Ιρλανδία"
          ],
          [
           "Ιρλανδία"
          ],
          [
           "Ιρλανδία"
          ],
          [
           "Ιρλανδία"
          ],
          [
           "Ιρλανδία"
          ],
          [
           "Ιρλανδία"
          ],
          [
           "Ιρλανδία"
          ],
          [
           "Ιρλανδία"
          ],
          [
           "Ιρλανδία"
          ],
          [
           "Ιρλανδία"
          ],
          [
           "Ιρλανδία"
          ],
          [
           "Ιρλανδία"
          ],
          [
           "Ιρλανδία"
          ],
          [
           "Ιρλανδία"
          ],
          [
           "Ιρλανδία"
          ],
          [
           "Ιρλανδία"
          ],
          [
           "Ιρλανδία"
          ],
          [
           "Ιρλανδία"
          ],
          [
           "Ιρλανδία"
          ],
          [
           "Ιρλανδία"
          ],
          [
           "Ιρλανδία"
          ],
          [
           "Ιρλανδία"
          ],
          [
           "Ιρλανδία"
          ]
         ],
         "hoverlabel": {
          "namelength": 0
         },
         "hovertemplate": "Χώρα=%{customdata[0]}<br>Αριθμός Κρουσμάτων=%{y}",
         "legendgroup": "Ιρλανδία",
         "line": {
          "color": "rgb(189,189,189)",
          "dash": "solid",
          "shape": "spline"
         },
         "mode": "lines",
         "name": "Ιρλανδία",
         "showlegend": true,
         "type": "scatter",
         "xaxis": "x",
         "y": [
          129,
          129,
          169,
          223,
          292,
          557,
          683,
          785,
          906,
          1125,
          1329,
          1564,
          1819,
          2121,
          2415,
          2615,
          2910,
          3235,
          3447,
          3849,
          4273,
          4604,
          4994,
          5364,
          5709,
          6074,
          6574,
          8089,
          8928,
          9655
         ],
         "yaxis": "y"
        },
        {
         "customdata": [
          [
           "Ισραήλ"
          ],
          [
           "Ισραήλ"
          ],
          [
           "Ισραήλ"
          ],
          [
           "Ισραήλ"
          ],
          [
           "Ισραήλ"
          ],
          [
           "Ισραήλ"
          ],
          [
           "Ισραήλ"
          ],
          [
           "Ισραήλ"
          ],
          [
           "Ισραήλ"
          ],
          [
           "Ισραήλ"
          ],
          [
           "Ισραήλ"
          ],
          [
           "Ισραήλ"
          ],
          [
           "Ισραήλ"
          ],
          [
           "Ισραήλ"
          ],
          [
           "Ισραήλ"
          ],
          [
           "Ισραήλ"
          ],
          [
           "Ισραήλ"
          ],
          [
           "Ισραήλ"
          ],
          [
           "Ισραήλ"
          ],
          [
           "Ισραήλ"
          ],
          [
           "Ισραήλ"
          ],
          [
           "Ισραήλ"
          ],
          [
           "Ισραήλ"
          ],
          [
           "Ισραήλ"
          ],
          [
           "Ισραήλ"
          ],
          [
           "Ισραήλ"
          ],
          [
           "Ισραήλ"
          ],
          [
           "Ισραήλ"
          ],
          [
           "Ισραήλ"
          ],
          [
           "Ισραήλ"
          ],
          [
           "Ισραήλ"
          ],
          [
           "Ισραήλ"
          ]
         ],
         "hoverlabel": {
          "namelength": 0
         },
         "hovertemplate": "Χώρα=%{customdata[0]}<br>Αριθμός Κρουσμάτων=%{y}",
         "legendgroup": "Ισραήλ",
         "line": {
          "color": "rgb(189,189,189)",
          "dash": "solid",
          "shape": "spline"
         },
         "mode": "lines",
         "name": "Ισραήλ",
         "showlegend": true,
         "type": "scatter",
         "xaxis": "x",
         "y": [
          100,
          126,
          155,
          213,
          218,
          250,
          304,
          427,
          529,
          712,
          883,
          1071,
          1238,
          2369,
          2693,
          3035,
          3619,
          4247,
          4695,
          5358,
          6092,
          6857,
          7428,
          7851,
          8430,
          8904,
          9248,
          9404,
          9968,
          10408,
          10743,
          11145
         ],
         "yaxis": "y"
        },
        {
         "customdata": [
          [
           "Ιαπωνία"
          ],
          [
           "Ιαπωνία"
          ],
          [
           "Ιαπωνία"
          ],
          [
           "Ιαπωνία"
          ],
          [
           "Ιαπωνία"
          ],
          [
           "Ιαπωνία"
          ],
          [
           "Ιαπωνία"
          ],
          [
           "Ιαπωνία"
          ],
          [
           "Ιαπωνία"
          ],
          [
           "Ιαπωνία"
          ],
          [
           "Ιαπωνία"
          ],
          [
           "Ιαπωνία"
          ],
          [
           "Ιαπωνία"
          ],
          [
           "Ιαπωνία"
          ],
          [
           "Ιαπωνία"
          ],
          [
           "Ιαπωνία"
          ],
          [
           "Ιαπωνία"
          ],
          [
           "Ιαπωνία"
          ],
          [
           "Ιαπωνία"
          ],
          [
           "Ιαπωνία"
          ],
          [
           "Ιαπωνία"
          ],
          [
           "Ιαπωνία"
          ],
          [
           "Ιαπωνία"
          ],
          [
           "Ιαπωνία"
          ],
          [
           "Ιαπωνία"
          ],
          [
           "Ιαπωνία"
          ],
          [
           "Ιαπωνία"
          ],
          [
           "Ιαπωνία"
          ],
          [
           "Ιαπωνία"
          ],
          [
           "Ιαπωνία"
          ],
          [
           "Ιαπωνία"
          ],
          [
           "Ιαπωνία"
          ],
          [
           "Ιαπωνία"
          ],
          [
           "Ιαπωνία"
          ],
          [
           "Ιαπωνία"
          ],
          [
           "Ιαπωνία"
          ],
          [
           "Ιαπωνία"
          ],
          [
           "Ιαπωνία"
          ],
          [
           "Ιαπωνία"
          ],
          [
           "Ιαπωνία"
          ],
          [
           "Ιαπωνία"
          ],
          [
           "Ιαπωνία"
          ],
          [
           "Ιαπωνία"
          ],
          [
           "Ιαπωνία"
          ],
          [
           "Ιαπωνία"
          ],
          [
           "Ιαπωνία"
          ],
          [
           "Ιαπωνία"
          ],
          [
           "Ιαπωνία"
          ],
          [
           "Ιαπωνία"
          ],
          [
           "Ιαπωνία"
          ],
          [
           "Ιαπωνία"
          ],
          [
           "Ιαπωνία"
          ]
         ],
         "hoverlabel": {
          "namelength": 0
         },
         "hovertemplate": "Χώρα=%{customdata[0]}<br>Αριθμός Κρουσμάτων=%{y}",
         "legendgroup": "Ιαπωνία",
         "line": {
          "color": "rgb(189,189,189)",
          "dash": "solid",
          "shape": "spline"
         },
         "mode": "lines",
         "name": "Ιαπωνία",
         "showlegend": true,
         "type": "scatter",
         "xaxis": "x",
         "y": [
          105,
          122,
          147,
          159,
          170,
          189,
          214,
          228,
          241,
          256,
          274,
          293,
          331,
          360,
          420,
          461,
          502,
          511,
          581,
          639,
          639,
          701,
          773,
          839,
          839,
          878,
          889,
          924,
          963,
          1007,
          1101,
          1128,
          1193,
          1307,
          1387,
          1468,
          1693,
          1866,
          1866,
          1953,
          2178,
          2495,
          2617,
          3139,
          3139,
          3654,
          3906,
          4257,
          4667,
          5530,
          6005,
          6748
         ],
         "yaxis": "y"
        },
        {
         "customdata": [
          [
           "Ιορδανία"
          ],
          [
           "Ιορδανία"
          ],
          [
           "Ιορδανία"
          ],
          [
           "Ιορδανία"
          ],
          [
           "Ιορδανία"
          ],
          [
           "Ιορδανία"
          ],
          [
           "Ιορδανία"
          ],
          [
           "Ιορδανία"
          ],
          [
           "Ιορδανία"
          ],
          [
           "Ιορδανία"
          ],
          [
           "Ιορδανία"
          ],
          [
           "Ιορδανία"
          ],
          [
           "Ιορδανία"
          ],
          [
           "Ιορδανία"
          ],
          [
           "Ιορδανία"
          ],
          [
           "Ιορδανία"
          ],
          [
           "Ιορδανία"
          ],
          [
           "Ιορδανία"
          ],
          [
           "Ιορδανία"
          ],
          [
           "Ιορδανία"
          ],
          [
           "Ιορδανία"
          ],
          [
           "Ιορδανία"
          ]
         ],
         "hoverlabel": {
          "namelength": 0
         },
         "hovertemplate": "Χώρα=%{customdata[0]}<br>Αριθμός Κρουσμάτων=%{y}",
         "legendgroup": "Ιορδανία",
         "line": {
          "color": "rgb(189,189,189)",
          "dash": "solid",
          "shape": "spline"
         },
         "mode": "lines",
         "name": "Ιορδανία",
         "showlegend": true,
         "type": "scatter",
         "xaxis": "x",
         "y": [
          112,
          127,
          154,
          172,
          212,
          235,
          246,
          259,
          268,
          274,
          278,
          299,
          310,
          323,
          345,
          349,
          353,
          358,
          372,
          372,
          381,
          389
         ],
         "yaxis": "y"
        },
        {
         "customdata": [
          [
           "Καζακστάν"
          ],
          [
           "Καζακστάν"
          ],
          [
           "Καζακστάν"
          ],
          [
           "Καζακστάν"
          ],
          [
           "Καζακστάν"
          ],
          [
           "Καζακστάν"
          ],
          [
           "Καζακστάν"
          ],
          [
           "Καζακστάν"
          ],
          [
           "Καζακστάν"
          ],
          [
           "Καζακστάν"
          ],
          [
           "Καζακστάν"
          ],
          [
           "Καζακστάν"
          ],
          [
           "Καζακστάν"
          ],
          [
           "Καζακστάν"
          ],
          [
           "Καζακστάν"
          ],
          [
           "Καζακστάν"
          ],
          [
           "Καζακστάν"
          ],
          [
           "Καζακστάν"
          ]
         ],
         "hoverlabel": {
          "namelength": 0
         },
         "hovertemplate": "Χώρα=%{customdata[0]}<br>Αριθμός Κρουσμάτων=%{y}",
         "legendgroup": "Καζακστάν",
         "line": {
          "color": "rgb(189,189,189)",
          "dash": "solid",
          "shape": "spline"
         },
         "mode": "lines",
         "name": "Καζακστάν",
         "showlegend": true,
         "type": "scatter",
         "xaxis": "x",
         "y": [
          111,
          150,
          228,
          284,
          302,
          343,
          380,
          435,
          464,
          531,
          584,
          662,
          697,
          727,
          781,
          812,
          865,
          951
         ],
         "yaxis": "y"
        },
        {
         "customdata": [
          [
           "Κένυα"
          ],
          [
           "Κένυα"
          ],
          [
           "Κένυα"
          ],
          [
           "Κένυα"
          ],
          [
           "Κένυα"
          ],
          [
           "Κένυα"
          ],
          [
           "Κένυα"
          ],
          [
           "Κένυα"
          ],
          [
           "Κένυα"
          ],
          [
           "Κένυα"
          ],
          [
           "Κένυα"
          ]
         ],
         "hoverlabel": {
          "namelength": 0
         },
         "hovertemplate": "Χώρα=%{customdata[0]}<br>Αριθμός Κρουσμάτων=%{y}",
         "legendgroup": "Κένυα",
         "line": {
          "color": "rgb(189,189,189)",
          "dash": "solid",
          "shape": "spline"
         },
         "mode": "lines",
         "name": "Κένυα",
         "showlegend": true,
         "type": "scatter",
         "xaxis": "x",
         "y": [
          110,
          122,
          126,
          142,
          158,
          172,
          179,
          184,
          189,
          191,
          197
         ],
         "yaxis": "y"
        },
        {
         "customdata": [
          [
           "Νότια Κορέα"
          ],
          [
           "Νότια Κορέα"
          ],
          [
           "Νότια Κορέα"
          ],
          [
           "Νότια Κορέα"
          ],
          [
           "Νότια Κορέα"
          ],
          [
           "Νότια Κορέα"
          ],
          [
           "Νότια Κορέα"
          ],
          [
           "Νότια Κορέα"
          ],
          [
           "Νότια Κορέα"
          ],
          [
           "Νότια Κορέα"
          ],
          [
           "Νότια Κορέα"
          ],
          [
           "Νότια Κορέα"
          ],
          [
           "Νότια Κορέα"
          ],
          [
           "Νότια Κορέα"
          ],
          [
           "Νότια Κορέα"
          ],
          [
           "Νότια Κορέα"
          ],
          [
           "Νότια Κορέα"
          ],
          [
           "Νότια Κορέα"
          ],
          [
           "Νότια Κορέα"
          ],
          [
           "Νότια Κορέα"
          ],
          [
           "Νότια Κορέα"
          ],
          [
           "Νότια Κορέα"
          ],
          [
           "Νότια Κορέα"
          ],
          [
           "Νότια Κορέα"
          ],
          [
           "Νότια Κορέα"
          ],
          [
           "Νότια Κορέα"
          ],
          [
           "Νότια Κορέα"
          ],
          [
           "Νότια Κορέα"
          ],
          [
           "Νότια Κορέα"
          ],
          [
           "Νότια Κορέα"
          ],
          [
           "Νότια Κορέα"
          ],
          [
           "Νότια Κορέα"
          ],
          [
           "Νότια Κορέα"
          ],
          [
           "Νότια Κορέα"
          ],
          [
           "Νότια Κορέα"
          ],
          [
           "Νότια Κορέα"
          ],
          [
           "Νότια Κορέα"
          ],
          [
           "Νότια Κορέα"
          ],
          [
           "Νότια Κορέα"
          ],
          [
           "Νότια Κορέα"
          ],
          [
           "Νότια Κορέα"
          ],
          [
           "Νότια Κορέα"
          ],
          [
           "Νότια Κορέα"
          ],
          [
           "Νότια Κορέα"
          ],
          [
           "Νότια Κορέα"
          ],
          [
           "Νότια Κορέα"
          ],
          [
           "Νότια Κορέα"
          ],
          [
           "Νότια Κορέα"
          ],
          [
           "Νότια Κορέα"
          ],
          [
           "Νότια Κορέα"
          ],
          [
           "Νότια Κορέα"
          ],
          [
           "Νότια Κορέα"
          ],
          [
           "Νότια Κορέα"
          ]
         ],
         "hoverlabel": {
          "namelength": 0
         },
         "hovertemplate": "Χώρα=%{customdata[0]}<br>Αριθμός Κρουσμάτων=%{y}",
         "legendgroup": "Νότια Κορέα",
         "line": {
          "color": "rgb(189,189,189)",
          "dash": "solid",
          "shape": "spline"
         },
         "mode": "lines",
         "name": "Νότια Κορέα",
         "showlegend": true,
         "type": "scatter",
         "xaxis": "x",
         "y": [
          104,
          204,
          433,
          602,
          833,
          977,
          1261,
          1766,
          2337,
          3150,
          3736,
          4335,
          5186,
          5621,
          6088,
          6593,
          7041,
          7314,
          7478,
          7513,
          7755,
          7869,
          7979,
          8086,
          8162,
          8236,
          8320,
          8413,
          8565,
          8652,
          8799,
          8961,
          8961,
          9037,
          9137,
          9241,
          9332,
          9478,
          9583,
          9661,
          9786,
          9887,
          9976,
          10062,
          10156,
          10237,
          10284,
          10331,
          10384,
          10423,
          10450,
          10480,
          10512
         ],
         "yaxis": "y"
        },
        {
         "customdata": [
          [
           "Κόσοβο"
          ],
          [
           "Κόσοβο"
          ],
          [
           "Κόσοβο"
          ],
          [
           "Κόσοβο"
          ],
          [
           "Κόσοβο"
          ],
          [
           "Κόσοβο"
          ],
          [
           "Κόσοβο"
          ],
          [
           "Κόσοβο"
          ],
          [
           "Κόσοβο"
          ],
          [
           "Κόσοβο"
          ],
          [
           "Κόσοβο"
          ],
          [
           "Κόσοβο"
          ],
          [
           "Κόσοβο"
          ]
         ],
         "hoverlabel": {
          "namelength": 0
         },
         "hovertemplate": "Χώρα=%{customdata[0]}<br>Αριθμός Κρουσμάτων=%{y}",
         "legendgroup": "Κόσοβο",
         "line": {
          "color": "rgb(189,189,189)",
          "dash": "solid",
          "shape": "spline"
         },
         "mode": "lines",
         "name": "Κόσοβο",
         "showlegend": true,
         "type": "scatter",
         "xaxis": "x",
         "y": [
          112,
          125,
          125,
          126,
          135,
          145,
          145,
          170,
          184,
          184,
          250,
          283,
          283
         ],
         "yaxis": "y"
        },
        {
         "customdata": [
          [
           "Κουβέιτ"
          ],
          [
           "Κουβέιτ"
          ],
          [
           "Κουβέιτ"
          ],
          [
           "Κουβέιτ"
          ],
          [
           "Κουβέιτ"
          ],
          [
           "Κουβέιτ"
          ],
          [
           "Κουβέιτ"
          ],
          [
           "Κουβέιτ"
          ],
          [
           "Κουβέιτ"
          ],
          [
           "Κουβέιτ"
          ],
          [
           "Κουβέιτ"
          ],
          [
           "Κουβέιτ"
          ],
          [
           "Κουβέιτ"
          ],
          [
           "Κουβέιτ"
          ],
          [
           "Κουβέιτ"
          ],
          [
           "Κουβέιτ"
          ],
          [
           "Κουβέιτ"
          ],
          [
           "Κουβέιτ"
          ],
          [
           "Κουβέιτ"
          ],
          [
           "Κουβέιτ"
          ],
          [
           "Κουβέιτ"
          ],
          [
           "Κουβέιτ"
          ],
          [
           "Κουβέιτ"
          ],
          [
           "Κουβέιτ"
          ],
          [
           "Κουβέιτ"
          ],
          [
           "Κουβέιτ"
          ],
          [
           "Κουβέιτ"
          ],
          [
           "Κουβέιτ"
          ],
          [
           "Κουβέιτ"
          ],
          [
           "Κουβέιτ"
          ]
         ],
         "hoverlabel": {
          "namelength": 0
         },
         "hovertemplate": "Χώρα=%{customdata[0]}<br>Αριθμός Κρουσμάτων=%{y}",
         "legendgroup": "Κουβέιτ",
         "line": {
          "color": "rgb(189,189,189)",
          "dash": "solid",
          "shape": "spline"
         },
         "mode": "lines",
         "name": "Κουβέιτ",
         "showlegend": true,
         "type": "scatter",
         "xaxis": "x",
         "y": [
          104,
          112,
          123,
          130,
          142,
          148,
          159,
          176,
          188,
          189,
          191,
          195,
          208,
          225,
          235,
          255,
          266,
          289,
          317,
          342,
          417,
          479,
          556,
          665,
          743,
          855,
          910,
          993,
          1154,
          1234
         ],
         "yaxis": "y"
        },
        {
         "customdata": [
          [
           "Κιργιζία"
          ],
          [
           "Κιργιζία"
          ],
          [
           "Κιργιζία"
          ],
          [
           "Κιργιζία"
          ],
          [
           "Κιργιζία"
          ],
          [
           "Κιργιζία"
          ],
          [
           "Κιργιζία"
          ],
          [
           "Κιργιζία"
          ],
          [
           "Κιργιζία"
          ],
          [
           "Κιργιζία"
          ],
          [
           "Κιργιζία"
          ],
          [
           "Κιργιζία"
          ],
          [
           "Κιργιζία"
          ]
         ],
         "hoverlabel": {
          "namelength": 0
         },
         "hovertemplate": "Χώρα=%{customdata[0]}<br>Αριθμός Κρουσμάτων=%{y}",
         "legendgroup": "Κιργιζία",
         "line": {
          "color": "rgb(189,189,189)",
          "dash": "solid",
          "shape": "spline"
         },
         "mode": "lines",
         "name": "Κιργιζία",
         "showlegend": true,
         "type": "scatter",
         "xaxis": "x",
         "y": [
          107,
          111,
          116,
          130,
          144,
          147,
          216,
          228,
          270,
          280,
          298,
          339,
          377
         ],
         "yaxis": "y"
        },
        {
         "customdata": [
          [
           "Λεττονία"
          ],
          [
           "Λεττονία"
          ],
          [
           "Λεττονία"
          ],
          [
           "Λεττονία"
          ],
          [
           "Λεττονία"
          ],
          [
           "Λεττονία"
          ],
          [
           "Λεττονία"
          ],
          [
           "Λεττονία"
          ],
          [
           "Λεττονία"
          ],
          [
           "Λεττονία"
          ],
          [
           "Λεττονία"
          ],
          [
           "Λεττονία"
          ],
          [
           "Λεττονία"
          ],
          [
           "Λεττονία"
          ],
          [
           "Λεττονία"
          ],
          [
           "Λεττονία"
          ],
          [
           "Λεττονία"
          ],
          [
           "Λεττονία"
          ],
          [
           "Λεττονία"
          ],
          [
           "Λεττονία"
          ],
          [
           "Λεττονία"
          ],
          [
           "Λεττονία"
          ],
          [
           "Λεττονία"
          ],
          [
           "Λεττονία"
          ]
         ],
         "hoverlabel": {
          "namelength": 0
         },
         "hovertemplate": "Χώρα=%{customdata[0]}<br>Αριθμός Κρουσμάτων=%{y}",
         "legendgroup": "Λεττονία",
         "line": {
          "color": "rgb(189,189,189)",
          "dash": "solid",
          "shape": "spline"
         },
         "mode": "lines",
         "name": "Λεττονία",
         "showlegend": true,
         "type": "scatter",
         "xaxis": "x",
         "y": [
          111,
          124,
          139,
          180,
          197,
          221,
          244,
          280,
          305,
          347,
          376,
          398,
          446,
          458,
          493,
          509,
          533,
          542,
          548,
          577,
          589,
          612,
          630,
          651
         ],
         "yaxis": "y"
        },
        {
         "customdata": [
          [
           "Λίβανος"
          ],
          [
           "Λίβανος"
          ],
          [
           "Λίβανος"
          ],
          [
           "Λίβανος"
          ],
          [
           "Λίβανος"
          ],
          [
           "Λίβανος"
          ],
          [
           "Λίβανος"
          ],
          [
           "Λίβανος"
          ],
          [
           "Λίβανος"
          ],
          [
           "Λίβανος"
          ],
          [
           "Λίβανος"
          ],
          [
           "Λίβανος"
          ],
          [
           "Λίβανος"
          ],
          [
           "Λίβανος"
          ],
          [
           "Λίβανος"
          ],
          [
           "Λίβανος"
          ],
          [
           "Λίβανος"
          ],
          [
           "Λίβανος"
          ],
          [
           "Λίβανος"
          ],
          [
           "Λίβανος"
          ],
          [
           "Λίβανος"
          ],
          [
           "Λίβανος"
          ],
          [
           "Λίβανος"
          ],
          [
           "Λίβανος"
          ],
          [
           "Λίβανος"
          ],
          [
           "Λίβανος"
          ],
          [
           "Λίβανος"
          ],
          [
           "Λίβανος"
          ],
          [
           "Λίβανος"
          ]
         ],
         "hoverlabel": {
          "namelength": 0
         },
         "hovertemplate": "Χώρα=%{customdata[0]}<br>Αριθμός Κρουσμάτων=%{y}",
         "legendgroup": "Λίβανος",
         "line": {
          "color": "rgb(189,189,189)",
          "dash": "solid",
          "shape": "spline"
         },
         "mode": "lines",
         "name": "Λίβανος",
         "showlegend": true,
         "type": "scatter",
         "xaxis": "x",
         "y": [
          110,
          110,
          120,
          133,
          157,
          163,
          187,
          248,
          267,
          318,
          333,
          368,
          391,
          412,
          438,
          446,
          470,
          479,
          494,
          508,
          520,
          527,
          541,
          548,
          576,
          582,
          609,
          619,
          630
         ],
         "yaxis": "y"
        },
        {
         "customdata": [
          [
           "Λιθουανία"
          ],
          [
           "Λιθουανία"
          ],
          [
           "Λιθουανία"
          ],
          [
           "Λιθουανία"
          ],
          [
           "Λιθουανία"
          ],
          [
           "Λιθουανία"
          ],
          [
           "Λιθουανία"
          ],
          [
           "Λιθουανία"
          ],
          [
           "Λιθουανία"
          ],
          [
           "Λιθουανία"
          ],
          [
           "Λιθουανία"
          ],
          [
           "Λιθουανία"
          ],
          [
           "Λιθουανία"
          ],
          [
           "Λιθουανία"
          ],
          [
           "Λιθουανία"
          ],
          [
           "Λιθουανία"
          ],
          [
           "Λιθουανία"
          ],
          [
           "Λιθουανία"
          ],
          [
           "Λιθουανία"
          ],
          [
           "Λιθουανία"
          ],
          [
           "Λιθουανία"
          ],
          [
           "Λιθουανία"
          ]
         ],
         "hoverlabel": {
          "namelength": 0
         },
         "hovertemplate": "Χώρα=%{customdata[0]}<br>Αριθμός Κρουσμάτων=%{y}",
         "legendgroup": "Λιθουανία",
         "line": {
          "color": "rgb(189,189,189)",
          "dash": "solid",
          "shape": "spline"
         },
         "mode": "lines",
         "name": "Λιθουανία",
         "showlegend": true,
         "type": "scatter",
         "xaxis": "x",
         "y": [
          143,
          179,
          209,
          274,
          299,
          358,
          394,
          460,
          491,
          537,
          581,
          649,
          696,
          771,
          811,
          843,
          880,
          912,
          955,
          999,
          1026,
          1053
         ],
         "yaxis": "y"
        },
        {
         "customdata": [
          [
           "Λουξεμβούργο"
          ],
          [
           "Λουξεμβούργο"
          ],
          [
           "Λουξεμβούργο"
          ],
          [
           "Λουξεμβούργο"
          ],
          [
           "Λουξεμβούργο"
          ],
          [
           "Λουξεμβούργο"
          ],
          [
           "Λουξεμβούργο"
          ],
          [
           "Λουξεμβούργο"
          ],
          [
           "Λουξεμβούργο"
          ],
          [
           "Λουξεμβούργο"
          ],
          [
           "Λουξεμβούργο"
          ],
          [
           "Λουξεμβούργο"
          ],
          [
           "Λουξεμβούργο"
          ],
          [
           "Λουξεμβούργο"
          ],
          [
           "Λουξεμβούργο"
          ],
          [
           "Λουξεμβούργο"
          ],
          [
           "Λουξεμβούργο"
          ],
          [
           "Λουξεμβούργο"
          ],
          [
           "Λουξεμβούργο"
          ],
          [
           "Λουξεμβούργο"
          ],
          [
           "Λουξεμβούργο"
          ],
          [
           "Λουξεμβούργο"
          ],
          [
           "Λουξεμβούργο"
          ],
          [
           "Λουξεμβούργο"
          ],
          [
           "Λουξεμβούργο"
          ],
          [
           "Λουξεμβούργο"
          ],
          [
           "Λουξεμβούργο"
          ]
         ],
         "hoverlabel": {
          "namelength": 0
         },
         "hovertemplate": "Χώρα=%{customdata[0]}<br>Αριθμός Κρουσμάτων=%{y}",
         "legendgroup": "Λουξεμβούργο",
         "line": {
          "color": "rgb(189,189,189)",
          "dash": "solid",
          "shape": "spline"
         },
         "mode": "lines",
         "name": "Λουξεμβούργο",
         "showlegend": true,
         "type": "scatter",
         "xaxis": "x",
         "y": [
          140,
          203,
          335,
          484,
          670,
          798,
          875,
          1099,
          1333,
          1453,
          1605,
          1831,
          1950,
          1988,
          2178,
          2319,
          2487,
          2612,
          2729,
          2804,
          2843,
          2970,
          3034,
          3115,
          3223,
          3270,
          3281
         ],
         "yaxis": "y"
        },
        {
         "customdata": [
          [
           "Μαδαγασκάρη"
          ],
          [
           "Μαδαγασκάρη"
          ]
         ],
         "hoverlabel": {
          "namelength": 0
         },
         "hovertemplate": "Χώρα=%{customdata[0]}<br>Αριθμός Κρουσμάτων=%{y}",
         "legendgroup": "Μαδαγασκάρη",
         "line": {
          "color": "rgb(189,189,189)",
          "dash": "solid",
          "shape": "spline"
         },
         "mode": "lines",
         "name": "Μαδαγασκάρη",
         "showlegend": true,
         "type": "scatter",
         "xaxis": "x",
         "y": [
          102,
          106
         ],
         "yaxis": "y"
        },
        {
         "customdata": [
          [
           "Μαλαισία"
          ],
          [
           "Μαλαισία"
          ],
          [
           "Μαλαισία"
          ],
          [
           "Μαλαισία"
          ],
          [
           "Μαλαισία"
          ],
          [
           "Μαλαισία"
          ],
          [
           "Μαλαισία"
          ],
          [
           "Μαλαισία"
          ],
          [
           "Μαλαισία"
          ],
          [
           "Μαλαισία"
          ],
          [
           "Μαλαισία"
          ],
          [
           "Μαλαισία"
          ],
          [
           "Μαλαισία"
          ],
          [
           "Μαλαισία"
          ],
          [
           "Μαλαισία"
          ],
          [
           "Μαλαισία"
          ],
          [
           "Μαλαισία"
          ],
          [
           "Μαλαισία"
          ],
          [
           "Μαλαισία"
          ],
          [
           "Μαλαισία"
          ],
          [
           "Μαλαισία"
          ],
          [
           "Μαλαισία"
          ],
          [
           "Μαλαισία"
          ],
          [
           "Μαλαισία"
          ],
          [
           "Μαλαισία"
          ],
          [
           "Μαλαισία"
          ],
          [
           "Μαλαισία"
          ],
          [
           "Μαλαισία"
          ],
          [
           "Μαλαισία"
          ],
          [
           "Μαλαισία"
          ],
          [
           "Μαλαισία"
          ],
          [
           "Μαλαισία"
          ],
          [
           "Μαλαισία"
          ],
          [
           "Μαλαισία"
          ],
          [
           "Μαλαισία"
          ]
         ],
         "hoverlabel": {
          "namelength": 0
         },
         "hovertemplate": "Χώρα=%{customdata[0]}<br>Αριθμός Κρουσμάτων=%{y}",
         "legendgroup": "Μαλαισία",
         "line": {
          "color": "rgb(189,189,189)",
          "dash": "solid",
          "shape": "spline"
         },
         "mode": "lines",
         "name": "Μαλαισία",
         "showlegend": true,
         "type": "scatter",
         "xaxis": "x",
         "y": [
          117,
          129,
          149,
          149,
          197,
          238,
          428,
          566,
          673,
          790,
          900,
          1030,
          1183,
          1306,
          1518,
          1624,
          1796,
          2031,
          2161,
          2320,
          2470,
          2626,
          2766,
          2908,
          3116,
          3333,
          3483,
          3662,
          3793,
          3963,
          4119,
          4228,
          4346,
          4530,
          4683
         ],
         "yaxis": "y"
        },
        {
         "customdata": [
          [
           "Μάλι"
          ]
         ],
         "hoverlabel": {
          "namelength": 0
         },
         "hovertemplate": "Χώρα=%{customdata[0]}<br>Αριθμός Κρουσμάτων=%{y}",
         "legendgroup": "Μάλι",
         "line": {
          "color": "rgb(189,189,189)",
          "dash": "solid",
          "shape": "spline"
         },
         "mode": "lines",
         "name": "Μάλι",
         "showlegend": true,
         "type": "scatter",
         "xaxis": "x",
         "y": [
          105
         ],
         "yaxis": "y"
        },
        {
         "customdata": [
          [
           "Μάλτα"
          ],
          [
           "Μάλτα"
          ],
          [
           "Μάλτα"
          ],
          [
           "Μάλτα"
          ],
          [
           "Μάλτα"
          ],
          [
           "Μάλτα"
          ],
          [
           "Μάλτα"
          ],
          [
           "Μάλτα"
          ],
          [
           "Μάλτα"
          ],
          [
           "Μάλτα"
          ],
          [
           "Μάλτα"
          ],
          [
           "Μάλτα"
          ],
          [
           "Μάλτα"
          ],
          [
           "Μάλτα"
          ],
          [
           "Μάλτα"
          ],
          [
           "Μάλτα"
          ],
          [
           "Μάλτα"
          ],
          [
           "Μάλτα"
          ],
          [
           "Μάλτα"
          ],
          [
           "Μάλτα"
          ],
          [
           "Μάλτα"
          ]
         ],
         "hoverlabel": {
          "namelength": 0
         },
         "hovertemplate": "Χώρα=%{customdata[0]}<br>Αριθμός Κρουσμάτων=%{y}",
         "legendgroup": "Μάλτα",
         "line": {
          "color": "rgb(189,189,189)",
          "dash": "solid",
          "shape": "spline"
         },
         "mode": "lines",
         "name": "Μάλτα",
         "showlegend": true,
         "type": "scatter",
         "xaxis": "x",
         "y": [
          107,
          110,
          129,
          134,
          139,
          149,
          151,
          156,
          169,
          188,
          196,
          202,
          213,
          227,
          241,
          293,
          299,
          337,
          350,
          370,
          378
         ],
         "yaxis": "y"
        },
        {
         "customdata": [
          [
           "Μαυρίκιος"
          ],
          [
           "Μαυρίκιος"
          ],
          [
           "Μαυρίκιος"
          ],
          [
           "Μαυρίκιος"
          ],
          [
           "Μαυρίκιος"
          ],
          [
           "Μαυρίκιος"
          ],
          [
           "Μαυρίκιος"
          ],
          [
           "Μαυρίκιος"
          ],
          [
           "Μαυρίκιος"
          ],
          [
           "Μαυρίκιος"
          ],
          [
           "Μαυρίκιος"
          ],
          [
           "Μαυρίκιος"
          ],
          [
           "Μαυρίκιος"
          ],
          [
           "Μαυρίκιος"
          ],
          [
           "Μαυρίκιος"
          ],
          [
           "Μαυρίκιος"
          ]
         ],
         "hoverlabel": {
          "namelength": 0
         },
         "hovertemplate": "Χώρα=%{customdata[0]}<br>Αριθμός Κρουσμάτων=%{y}",
         "legendgroup": "Μαυρίκιος",
         "line": {
          "color": "rgb(189,189,189)",
          "dash": "solid",
          "shape": "spline"
         },
         "mode": "lines",
         "name": "Μαυρίκιος",
         "showlegend": true,
         "type": "scatter",
         "xaxis": "x",
         "y": [
          102,
          107,
          128,
          143,
          161,
          169,
          186,
          196,
          227,
          244,
          268,
          273,
          314,
          318,
          319,
          324
         ],
         "yaxis": "y"
        },
        {
         "customdata": [
          [
           "Μεξικό"
          ],
          [
           "Μεξικό"
          ],
          [
           "Μεξικό"
          ],
          [
           "Μεξικό"
          ],
          [
           "Μεξικό"
          ],
          [
           "Μεξικό"
          ],
          [
           "Μεξικό"
          ],
          [
           "Μεξικό"
          ],
          [
           "Μεξικό"
          ],
          [
           "Μεξικό"
          ],
          [
           "Μεξικό"
          ],
          [
           "Μεξικό"
          ],
          [
           "Μεξικό"
          ],
          [
           "Μεξικό"
          ],
          [
           "Μεξικό"
          ],
          [
           "Μεξικό"
          ],
          [
           "Μεξικό"
          ],
          [
           "Μεξικό"
          ],
          [
           "Μεξικό"
          ],
          [
           "Μεξικό"
          ],
          [
           "Μεξικό"
          ],
          [
           "Μεξικό"
          ],
          [
           "Μεξικό"
          ],
          [
           "Μεξικό"
          ],
          [
           "Μεξικό"
          ]
         ],
         "hoverlabel": {
          "namelength": 0
         },
         "hovertemplate": "Χώρα=%{customdata[0]}<br>Αριθμός Κρουσμάτων=%{y}",
         "legendgroup": "Μεξικό",
         "line": {
          "color": "rgb(189,189,189)",
          "dash": "solid",
          "shape": "spline"
         },
         "mode": "lines",
         "name": "Μεξικό",
         "showlegend": true,
         "type": "scatter",
         "xaxis": "x",
         "y": [
          118,
          164,
          203,
          251,
          316,
          367,
          405,
          475,
          585,
          717,
          848,
          993,
          1094,
          1215,
          1378,
          1510,
          1688,
          1890,
          2143,
          2439,
          2785,
          3181,
          3441,
          3844,
          4219
         ],
         "yaxis": "y"
        },
        {
         "customdata": [
          [
           "Μολδοβία"
          ],
          [
           "Μολδοβία"
          ],
          [
           "Μολδοβία"
          ],
          [
           "Μολδοβία"
          ],
          [
           "Μολδοβία"
          ],
          [
           "Μολδοβία"
          ],
          [
           "Μολδοβία"
          ],
          [
           "Μολδοβία"
          ],
          [
           "Μολδοβία"
          ],
          [
           "Μολδοβία"
          ],
          [
           "Μολδοβία"
          ],
          [
           "Μολδοβία"
          ],
          [
           "Μολδοβία"
          ],
          [
           "Μολδοβία"
          ],
          [
           "Μολδοβία"
          ],
          [
           "Μολδοβία"
          ],
          [
           "Μολδοβία"
          ],
          [
           "Μολδοβία"
          ],
          [
           "Μολδοβία"
          ],
          [
           "Μολδοβία"
          ],
          [
           "Μολδοβία"
          ]
         ],
         "hoverlabel": {
          "namelength": 0
         },
         "hovertemplate": "Χώρα=%{customdata[0]}<br>Αριθμός Κρουσμάτων=%{y}",
         "legendgroup": "Μολδοβία",
         "line": {
          "color": "rgb(189,189,189)",
          "dash": "solid",
          "shape": "spline"
         },
         "mode": "lines",
         "name": "Μολδοβία",
         "showlegend": true,
         "type": "scatter",
         "xaxis": "x",
         "y": [
          109,
          125,
          149,
          177,
          199,
          231,
          263,
          298,
          353,
          423,
          505,
          591,
          752,
          864,
          965,
          1056,
          1174,
          1289,
          1438,
          1560,
          1662
         ],
         "yaxis": "y"
        },
        {
         "customdata": [
          [
           "Μαυροβούνιο"
          ],
          [
           "Μαυροβούνιο"
          ],
          [
           "Μαυροβούνιο"
          ],
          [
           "Μαυροβούνιο"
          ],
          [
           "Μαυροβούνιο"
          ],
          [
           "Μαυροβούνιο"
          ],
          [
           "Μαυροβούνιο"
          ],
          [
           "Μαυροβούνιο"
          ],
          [
           "Μαυροβούνιο"
          ],
          [
           "Μαυροβούνιο"
          ],
          [
           "Μαυροβούνιο"
          ],
          [
           "Μαυροβούνιο"
          ],
          [
           "Μαυροβούνιο"
          ]
         ],
         "hoverlabel": {
          "namelength": 0
         },
         "hovertemplate": "Χώρα=%{customdata[0]}<br>Αριθμός Κρουσμάτων=%{y}",
         "legendgroup": "Μαυροβούνιο",
         "line": {
          "color": "rgb(189,189,189)",
          "dash": "solid",
          "shape": "spline"
         },
         "mode": "lines",
         "name": "Μαυροβούνιο",
         "showlegend": true,
         "type": "scatter",
         "xaxis": "x",
         "y": [
          109,
          123,
          144,
          174,
          201,
          214,
          233,
          241,
          248,
          252,
          255,
          263,
          272
         ],
         "yaxis": "y"
        },
        {
         "customdata": [
          [
           "Μαρόκο"
          ],
          [
           "Μαρόκο"
          ],
          [
           "Μαρόκο"
          ],
          [
           "Μαρόκο"
          ],
          [
           "Μαρόκο"
          ],
          [
           "Μαρόκο"
          ],
          [
           "Μαρόκο"
          ],
          [
           "Μαρόκο"
          ],
          [
           "Μαρόκο"
          ],
          [
           "Μαρόκο"
          ],
          [
           "Μαρόκο"
          ],
          [
           "Μαρόκο"
          ],
          [
           "Μαρόκο"
          ],
          [
           "Μαρόκο"
          ],
          [
           "Μαρόκο"
          ],
          [
           "Μαρόκο"
          ],
          [
           "Μαρόκο"
          ],
          [
           "Μαρόκο"
          ],
          [
           "Μαρόκο"
          ],
          [
           "Μαρόκο"
          ],
          [
           "Μαρόκο"
          ],
          [
           "Μαρόκο"
          ]
         ],
         "hoverlabel": {
          "namelength": 0
         },
         "hovertemplate": "Χώρα=%{customdata[0]}<br>Αριθμός Κρουσμάτων=%{y}",
         "legendgroup": "Μαρόκο",
         "line": {
          "color": "rgb(189,189,189)",
          "dash": "solid",
          "shape": "spline"
         },
         "mode": "lines",
         "name": "Μαρόκο",
         "showlegend": true,
         "type": "scatter",
         "xaxis": "x",
         "y": [
          115,
          143,
          170,
          225,
          275,
          345,
          402,
          479,
          556,
          617,
          654,
          708,
          791,
          919,
          1021,
          1120,
          1184,
          1275,
          1374,
          1448,
          1545,
          1661
         ],
         "yaxis": "y"
        },
        {
         "customdata": [
          [
           "Ολλανδία"
          ],
          [
           "Ολλανδία"
          ],
          [
           "Ολλανδία"
          ],
          [
           "Ολλανδία"
          ],
          [
           "Ολλανδία"
          ],
          [
           "Ολλανδία"
          ],
          [
           "Ολλανδία"
          ],
          [
           "Ολλανδία"
          ],
          [
           "Ολλανδία"
          ],
          [
           "Ολλανδία"
          ],
          [
           "Ολλανδία"
          ],
          [
           "Ολλανδία"
          ],
          [
           "Ολλανδία"
          ],
          [
           "Ολλανδία"
          ],
          [
           "Ολλανδία"
          ],
          [
           "Ολλανδία"
          ],
          [
           "Ολλανδία"
          ],
          [
           "Ολλανδία"
          ],
          [
           "Ολλανδία"
          ],
          [
           "Ολλανδία"
          ],
          [
           "Ολλανδία"
          ],
          [
           "Ολλανδία"
          ],
          [
           "Ολλανδία"
          ],
          [
           "Ολλανδία"
          ],
          [
           "Ολλανδία"
          ],
          [
           "Ολλανδία"
          ],
          [
           "Ολλανδία"
          ],
          [
           "Ολλανδία"
          ],
          [
           "Ολλανδία"
          ],
          [
           "Ολλανδία"
          ],
          [
           "Ολλανδία"
          ],
          [
           "Ολλανδία"
          ],
          [
           "Ολλανδία"
          ],
          [
           "Ολλανδία"
          ],
          [
           "Ολλανδία"
          ],
          [
           "Ολλανδία"
          ],
          [
           "Ολλανδία"
          ],
          [
           "Ολλανδία"
          ]
         ],
         "hoverlabel": {
          "namelength": 0
         },
         "hovertemplate": "Χώρα=%{customdata[0]}<br>Αριθμός Κρουσμάτων=%{y}",
         "legendgroup": "Ολλανδία",
         "line": {
          "color": "rgb(189,189,189)",
          "dash": "solid",
          "shape": "spline"
         },
         "mode": "lines",
         "name": "Ολλανδία",
         "showlegend": true,
         "type": "scatter",
         "xaxis": "x",
         "y": [
          128,
          188,
          265,
          321,
          382,
          503,
          503,
          806,
          962,
          1138,
          1416,
          1711,
          2058,
          2467,
          3003,
          3640,
          4217,
          4764,
          5580,
          6438,
          7468,
          8647,
          9819,
          10930,
          11817,
          12667,
          13696,
          14788,
          15821,
          16727,
          17953,
          18926,
          19709,
          20682,
          21903,
          23249,
          24571,
          25746
         ],
         "yaxis": "y"
        },
        {
         "customdata": [
          [
           "Νέα Ζηλανδία"
          ],
          [
           "Νέα Ζηλανδία"
          ],
          [
           "Νέα Ζηλανδία"
          ],
          [
           "Νέα Ζηλανδία"
          ],
          [
           "Νέα Ζηλανδία"
          ],
          [
           "Νέα Ζηλανδία"
          ],
          [
           "Νέα Ζηλανδία"
          ],
          [
           "Νέα Ζηλανδία"
          ],
          [
           "Νέα Ζηλανδία"
          ],
          [
           "Νέα Ζηλανδία"
          ],
          [
           "Νέα Ζηλανδία"
          ],
          [
           "Νέα Ζηλανδία"
          ],
          [
           "Νέα Ζηλανδία"
          ],
          [
           "Νέα Ζηλανδία"
          ],
          [
           "Νέα Ζηλανδία"
          ],
          [
           "Νέα Ζηλανδία"
          ],
          [
           "Νέα Ζηλανδία"
          ],
          [
           "Νέα Ζηλανδία"
          ],
          [
           "Νέα Ζηλανδία"
          ],
          [
           "Νέα Ζηλανδία"
          ],
          [
           "Νέα Ζηλανδία"
          ],
          [
           "Νέα Ζηλανδία"
          ]
         ],
         "hoverlabel": {
          "namelength": 0
         },
         "hovertemplate": "Χώρα=%{customdata[0]}<br>Αριθμός Κρουσμάτων=%{y}",
         "legendgroup": "Νέα Ζηλανδία",
         "line": {
          "color": "rgb(189,189,189)",
          "dash": "solid",
          "shape": "spline"
         },
         "mode": "lines",
         "name": "Νέα Ζηλανδία",
         "showlegend": true,
         "type": "scatter",
         "xaxis": "x",
         "y": [
          102,
          102,
          155,
          205,
          283,
          368,
          451,
          514,
          589,
          647,
          708,
          797,
          868,
          950,
          1039,
          1106,
          1160,
          1210,
          1239,
          1283,
          1312,
          1330
         ],
         "yaxis": "y"
        },
        {
         "customdata": [
          [
           "Νίγηρας"
          ],
          [
           "Νίγηρας"
          ],
          [
           "Νίγηρας"
          ],
          [
           "Νίγηρας"
          ],
          [
           "Νίγηρας"
          ],
          [
           "Νίγηρας"
          ],
          [
           "Νίγηρας"
          ],
          [
           "Νίγηρας"
          ],
          [
           "Νίγηρας"
          ],
          [
           "Νίγηρας"
          ]
         ],
         "hoverlabel": {
          "namelength": 0
         },
         "hovertemplate": "Χώρα=%{customdata[0]}<br>Αριθμός Κρουσμάτων=%{y}",
         "legendgroup": "Νίγηρας",
         "line": {
          "color": "rgb(189,189,189)",
          "dash": "solid",
          "shape": "spline"
         },
         "mode": "lines",
         "name": "Νίγηρας",
         "showlegend": true,
         "type": "scatter",
         "xaxis": "x",
         "y": [
          120,
          144,
          184,
          253,
          278,
          342,
          410,
          438,
          491,
          529
         ],
         "yaxis": "y"
        },
        {
         "customdata": [
          [
           "Νιγηρία"
          ],
          [
           "Νιγηρία"
          ],
          [
           "Νιγηρία"
          ],
          [
           "Νιγηρία"
          ],
          [
           "Νιγηρία"
          ],
          [
           "Νιγηρία"
          ],
          [
           "Νιγηρία"
          ],
          [
           "Νιγηρία"
          ],
          [
           "Νιγηρία"
          ],
          [
           "Νιγηρία"
          ],
          [
           "Νιγηρία"
          ],
          [
           "Νιγηρία"
          ],
          [
           "Νιγηρία"
          ],
          [
           "Νιγηρία"
          ],
          [
           "Νιγηρία"
          ]
         ],
         "hoverlabel": {
          "namelength": 0
         },
         "hovertemplate": "Χώρα=%{customdata[0]}<br>Αριθμός Κρουσμάτων=%{y}",
         "legendgroup": "Νιγηρία",
         "line": {
          "color": "rgb(189,189,189)",
          "dash": "solid",
          "shape": "spline"
         },
         "mode": "lines",
         "name": "Νιγηρία",
         "showlegend": true,
         "type": "scatter",
         "xaxis": "x",
         "y": [
          111,
          131,
          135,
          174,
          184,
          210,
          214,
          232,
          238,
          254,
          276,
          288,
          305,
          318,
          323
         ],
         "yaxis": "y"
        },
        {
         "customdata": [
          [
           "Βόρεια Μακεδονία"
          ],
          [
           "Βόρεια Μακεδονία"
          ],
          [
           "Βόρεια Μακεδονία"
          ],
          [
           "Βόρεια Μακεδονία"
          ],
          [
           "Βόρεια Μακεδονία"
          ],
          [
           "Βόρεια Μακεδονία"
          ],
          [
           "Βόρεια Μακεδονία"
          ],
          [
           "Βόρεια Μακεδονία"
          ],
          [
           "Βόρεια Μακεδονία"
          ],
          [
           "Βόρεια Μακεδονία"
          ],
          [
           "Βόρεια Μακεδονία"
          ],
          [
           "Βόρεια Μακεδονία"
          ],
          [
           "Βόρεια Μακεδονία"
          ],
          [
           "Βόρεια Μακεδονία"
          ],
          [
           "Βόρεια Μακεδονία"
          ],
          [
           "Βόρεια Μακεδονία"
          ],
          [
           "Βόρεια Μακεδονία"
          ],
          [
           "Βόρεια Μακεδονία"
          ],
          [
           "Βόρεια Μακεδονία"
          ],
          [
           "Βόρεια Μακεδονία"
          ],
          [
           "Βόρεια Μακεδονία"
          ],
          [
           "Βόρεια Μακεδονία"
          ]
         ],
         "hoverlabel": {
          "namelength": 0
         },
         "hovertemplate": "Χώρα=%{customdata[0]}<br>Αριθμός Κρουσμάτων=%{y}",
         "legendgroup": "Βόρεια Μακεδονία",
         "line": {
          "color": "rgb(189,189,189)",
          "dash": "solid",
          "shape": "spline"
         },
         "mode": "lines",
         "name": "Βόρεια Μακεδονία",
         "showlegend": true,
         "type": "scatter",
         "xaxis": "x",
         "y": [
          115,
          136,
          148,
          177,
          201,
          219,
          241,
          259,
          285,
          329,
          354,
          384,
          430,
          483,
          555,
          570,
          599,
          617,
          663,
          711,
          760,
          828
         ],
         "yaxis": "y"
        },
        {
         "customdata": [
          [
           "Νορβηγία"
          ],
          [
           "Νορβηγία"
          ],
          [
           "Νορβηγία"
          ],
          [
           "Νορβηγία"
          ],
          [
           "Νορβηγία"
          ],
          [
           "Νορβηγία"
          ],
          [
           "Νορβηγία"
          ],
          [
           "Νορβηγία"
          ],
          [
           "Νορβηγία"
          ],
          [
           "Νορβηγία"
          ],
          [
           "Νορβηγία"
          ],
          [
           "Νορβηγία"
          ],
          [
           "Νορβηγία"
          ],
          [
           "Νορβηγία"
          ],
          [
           "Νορβηγία"
          ],
          [
           "Νορβηγία"
          ],
          [
           "Νορβηγία"
          ],
          [
           "Νορβηγία"
          ],
          [
           "Νορβηγία"
          ],
          [
           "Νορβηγία"
          ],
          [
           "Νορβηγία"
          ],
          [
           "Νορβηγία"
          ],
          [
           "Νορβηγία"
          ],
          [
           "Νορβηγία"
          ],
          [
           "Νορβηγία"
          ],
          [
           "Νορβηγία"
          ],
          [
           "Νορβηγία"
          ],
          [
           "Νορβηγία"
          ],
          [
           "Νορβηγία"
          ],
          [
           "Νορβηγία"
          ],
          [
           "Νορβηγία"
          ],
          [
           "Νορβηγία"
          ],
          [
           "Νορβηγία"
          ],
          [
           "Νορβηγία"
          ],
          [
           "Νορβηγία"
          ],
          [
           "Νορβηγία"
          ],
          [
           "Νορβηγία"
          ],
          [
           "Νορβηγία"
          ]
         ],
         "hoverlabel": {
          "namelength": 0
         },
         "hovertemplate": "Χώρα=%{customdata[0]}<br>Αριθμός Κρουσμάτων=%{y}",
         "legendgroup": "Νορβηγία",
         "line": {
          "color": "rgb(189,189,189)",
          "dash": "solid",
          "shape": "spline"
         },
         "mode": "lines",
         "name": "Νορβηγία",
         "showlegend": true,
         "type": "scatter",
         "xaxis": "x",
         "y": [
          108,
          147,
          176,
          205,
          400,
          598,
          702,
          996,
          1090,
          1221,
          1333,
          1463,
          1550,
          1746,
          1914,
          2118,
          2385,
          2621,
          2863,
          3084,
          3369,
          3755,
          4015,
          4284,
          4445,
          4641,
          4863,
          5147,
          5370,
          5550,
          5687,
          5865,
          6086,
          6086,
          6211,
          6314,
          6409,
          6525
         ],
         "yaxis": "y"
        },
        {
         "customdata": [
          [
           "Ομάν"
          ],
          [
           "Ομάν"
          ],
          [
           "Ομάν"
          ],
          [
           "Ομάν"
          ],
          [
           "Ομάν"
          ],
          [
           "Ομάν"
          ],
          [
           "Ομάν"
          ],
          [
           "Ομάν"
          ],
          [
           "Ομάν"
          ],
          [
           "Ομάν"
          ],
          [
           "Ομάν"
          ],
          [
           "Ομάν"
          ],
          [
           "Ομάν"
          ],
          [
           "Ομάν"
          ],
          [
           "Ομάν"
          ],
          [
           "Ομάν"
          ],
          [
           "Ομάν"
          ],
          [
           "Ομάν"
          ]
         ],
         "hoverlabel": {
          "namelength": 0
         },
         "hovertemplate": "Χώρα=%{customdata[0]}<br>Αριθμός Κρουσμάτων=%{y}",
         "legendgroup": "Ομάν",
         "line": {
          "color": "rgb(189,189,189)",
          "dash": "solid",
          "shape": "spline"
         },
         "mode": "lines",
         "name": "Ομάν",
         "showlegend": true,
         "type": "scatter",
         "xaxis": "x",
         "y": [
          109,
          131,
          152,
          167,
          179,
          192,
          210,
          231,
          252,
          277,
          298,
          331,
          371,
          419,
          457,
          484,
          546,
          599
         ],
         "yaxis": "y"
        },
        {
         "customdata": [
          [
           "Πακιστάν"
          ],
          [
           "Πακιστάν"
          ],
          [
           "Πακιστάν"
          ],
          [
           "Πακιστάν"
          ],
          [
           "Πακιστάν"
          ],
          [
           "Πακιστάν"
          ],
          [
           "Πακιστάν"
          ],
          [
           "Πακιστάν"
          ],
          [
           "Πακιστάν"
          ],
          [
           "Πακιστάν"
          ],
          [
           "Πακιστάν"
          ],
          [
           "Πακιστάν"
          ],
          [
           "Πακιστάν"
          ],
          [
           "Πακιστάν"
          ],
          [
           "Πακιστάν"
          ],
          [
           "Πακιστάν"
          ],
          [
           "Πακιστάν"
          ],
          [
           "Πακιστάν"
          ],
          [
           "Πακιστάν"
          ],
          [
           "Πακιστάν"
          ],
          [
           "Πακιστάν"
          ],
          [
           "Πακιστάν"
          ],
          [
           "Πακιστάν"
          ],
          [
           "Πακιστάν"
          ],
          [
           "Πακιστάν"
          ],
          [
           "Πακιστάν"
          ],
          [
           "Πακιστάν"
          ],
          [
           "Πακιστάν"
          ]
         ],
         "hoverlabel": {
          "namelength": 0
         },
         "hovertemplate": "Χώρα=%{customdata[0]}<br>Αριθμός Κρουσμάτων=%{y}",
         "legendgroup": "Πακιστάν",
         "line": {
          "color": "rgb(189,189,189)",
          "dash": "solid",
          "shape": "spline"
         },
         "mode": "lines",
         "name": "Πακιστάν",
         "showlegend": true,
         "type": "scatter",
         "xaxis": "x",
         "y": [
          136,
          236,
          299,
          454,
          501,
          730,
          776,
          875,
          972,
          1063,
          1201,
          1373,
          1495,
          1597,
          1717,
          1938,
          2118,
          2421,
          2686,
          2818,
          3157,
          3766,
          4035,
          4263,
          4489,
          4695,
          5011,
          5230
         ],
         "yaxis": "y"
        },
        {
         "customdata": [
          [
           "Παναμάς"
          ],
          [
           "Παναμάς"
          ],
          [
           "Παναμάς"
          ],
          [
           "Παναμάς"
          ],
          [
           "Παναμάς"
          ],
          [
           "Παναμάς"
          ],
          [
           "Παναμάς"
          ],
          [
           "Παναμάς"
          ],
          [
           "Παναμάς"
          ],
          [
           "Παναμάς"
          ],
          [
           "Παναμάς"
          ],
          [
           "Παναμάς"
          ],
          [
           "Παναμάς"
          ],
          [
           "Παναμάς"
          ],
          [
           "Παναμάς"
          ],
          [
           "Παναμάς"
          ],
          [
           "Παναμάς"
          ],
          [
           "Παναμάς"
          ],
          [
           "Παναμάς"
          ],
          [
           "Παναμάς"
          ],
          [
           "Παναμάς"
          ],
          [
           "Παναμάς"
          ],
          [
           "Παναμάς"
          ],
          [
           "Παναμάς"
          ],
          [
           "Παναμάς"
          ]
         ],
         "hoverlabel": {
          "namelength": 0
         },
         "hovertemplate": "Χώρα=%{customdata[0]}<br>Αριθμός Κρουσμάτων=%{y}",
         "legendgroup": "Παναμάς",
         "line": {
          "color": "rgb(189,189,189)",
          "dash": "solid",
          "shape": "spline"
         },
         "mode": "lines",
         "name": "Παναμάς",
         "showlegend": true,
         "type": "scatter",
         "xaxis": "x",
         "y": [
          109,
          137,
          200,
          313,
          345,
          345,
          443,
          558,
          674,
          786,
          901,
          989,
          1181,
          1181,
          1317,
          1475,
          1673,
          1801,
          1988,
          2100,
          2249,
          2528,
          2752,
          2974,
          3234
         ],
         "yaxis": "y"
        },
        {
         "customdata": [
          [
           "Παραγουάη"
          ],
          [
           "Παραγουάη"
          ],
          [
           "Παραγουάη"
          ],
          [
           "Παραγουάη"
          ],
          [
           "Παραγουάη"
          ],
          [
           "Παραγουάη"
          ],
          [
           "Παραγουάη"
          ],
          [
           "Παραγουάη"
          ]
         ],
         "hoverlabel": {
          "namelength": 0
         },
         "hovertemplate": "Χώρα=%{customdata[0]}<br>Αριθμός Κρουσμάτων=%{y}",
         "legendgroup": "Παραγουάη",
         "line": {
          "color": "rgb(189,189,189)",
          "dash": "solid",
          "shape": "spline"
         },
         "mode": "lines",
         "name": "Παραγουάη",
         "showlegend": true,
         "type": "scatter",
         "xaxis": "x",
         "y": [
          104,
          113,
          115,
          119,
          124,
          129,
          133,
          134
         ],
         "yaxis": "y"
        },
        {
         "customdata": [
          [
           "Περού"
          ],
          [
           "Περού"
          ],
          [
           "Περού"
          ],
          [
           "Περού"
          ],
          [
           "Περού"
          ],
          [
           "Περού"
          ],
          [
           "Περού"
          ],
          [
           "Περού"
          ],
          [
           "Περού"
          ],
          [
           "Περού"
          ],
          [
           "Περού"
          ],
          [
           "Περού"
          ],
          [
           "Περού"
          ],
          [
           "Περού"
          ],
          [
           "Περού"
          ],
          [
           "Περού"
          ],
          [
           "Περού"
          ],
          [
           "Περού"
          ],
          [
           "Περού"
          ],
          [
           "Περού"
          ],
          [
           "Περού"
          ],
          [
           "Περού"
          ],
          [
           "Περού"
          ],
          [
           "Περού"
          ],
          [
           "Περού"
          ],
          [
           "Περού"
          ],
          [
           "Περού"
          ]
         ],
         "hoverlabel": {
          "namelength": 0
         },
         "hovertemplate": "Χώρα=%{customdata[0]}<br>Αριθμός Κρουσμάτων=%{y}",
         "legendgroup": "Περού",
         "line": {
          "color": "rgb(189,189,189)",
          "dash": "solid",
          "shape": "spline"
         },
         "mode": "lines",
         "name": "Περού",
         "showlegend": true,
         "type": "scatter",
         "xaxis": "x",
         "y": [
          117,
          145,
          234,
          234,
          318,
          363,
          395,
          416,
          480,
          580,
          635,
          671,
          852,
          950,
          1065,
          1323,
          1414,
          1595,
          1746,
          2281,
          2561,
          2954,
          4342,
          5256,
          5897,
          6848,
          7519
         ],
         "yaxis": "y"
        },
        {
         "customdata": [
          [
           "Φιλιππίνες"
          ],
          [
           "Φιλιππίνες"
          ],
          [
           "Φιλιππίνες"
          ],
          [
           "Φιλιππίνες"
          ],
          [
           "Φιλιππίνες"
          ],
          [
           "Φιλιππίνες"
          ],
          [
           "Φιλιππίνες"
          ],
          [
           "Φιλιππίνες"
          ],
          [
           "Φιλιππίνες"
          ],
          [
           "Φιλιππίνες"
          ],
          [
           "Φιλιππίνες"
          ],
          [
           "Φιλιππίνες"
          ],
          [
           "Φιλιππίνες"
          ],
          [
           "Φιλιππίνες"
          ],
          [
           "Φιλιππίνες"
          ],
          [
           "Φιλιππίνες"
          ],
          [
           "Φιλιππίνες"
          ],
          [
           "Φιλιππίνες"
          ],
          [
           "Φιλιππίνες"
          ],
          [
           "Φιλιππίνες"
          ],
          [
           "Φιλιππίνες"
          ],
          [
           "Φιλιππίνες"
          ],
          [
           "Φιλιππίνες"
          ],
          [
           "Φιλιππίνες"
          ],
          [
           "Φιλιππίνες"
          ],
          [
           "Φιλιππίνες"
          ],
          [
           "Φιλιππίνες"
          ],
          [
           "Φιλιππίνες"
          ],
          [
           "Φιλιππίνες"
          ],
          [
           "Φιλιππίνες"
          ]
         ],
         "hoverlabel": {
          "namelength": 0
         },
         "hovertemplate": "Χώρα=%{customdata[0]}<br>Αριθμός Κρουσμάτων=%{y}",
         "legendgroup": "Φιλιππίνες",
         "line": {
          "color": "rgb(189,189,189)",
          "dash": "solid",
          "shape": "spline"
         },
         "mode": "lines",
         "name": "Φιλιππίνες",
         "showlegend": true,
         "type": "scatter",
         "xaxis": "x",
         "y": [
          111,
          140,
          142,
          187,
          202,
          217,
          230,
          307,
          380,
          462,
          552,
          636,
          707,
          803,
          1075,
          1418,
          1546,
          2084,
          2311,
          2633,
          3018,
          3094,
          3246,
          3660,
          3764,
          3870,
          4076,
          4195,
          4428,
          4648
         ],
         "yaxis": "y"
        },
        {
         "customdata": [
          [
           "Πολωνία"
          ],
          [
           "Πολωνία"
          ],
          [
           "Πολωνία"
          ],
          [
           "Πολωνία"
          ],
          [
           "Πολωνία"
          ],
          [
           "Πολωνία"
          ],
          [
           "Πολωνία"
          ],
          [
           "Πολωνία"
          ],
          [
           "Πολωνία"
          ],
          [
           "Πολωνία"
          ],
          [
           "Πολωνία"
          ],
          [
           "Πολωνία"
          ],
          [
           "Πολωνία"
          ],
          [
           "Πολωνία"
          ],
          [
           "Πολωνία"
          ],
          [
           "Πολωνία"
          ],
          [
           "Πολωνία"
          ],
          [
           "Πολωνία"
          ],
          [
           "Πολωνία"
          ],
          [
           "Πολωνία"
          ],
          [
           "Πολωνία"
          ],
          [
           "Πολωνία"
          ],
          [
           "Πολωνία"
          ],
          [
           "Πολωνία"
          ],
          [
           "Πολωνία"
          ],
          [
           "Πολωνία"
          ],
          [
           "Πολωνία"
          ],
          [
           "Πολωνία"
          ],
          [
           "Πολωνία"
          ],
          [
           "Πολωνία"
          ]
         ],
         "hoverlabel": {
          "namelength": 0
         },
         "hovertemplate": "Χώρα=%{customdata[0]}<br>Αριθμός Κρουσμάτων=%{y}",
         "legendgroup": "Πολωνία",
         "line": {
          "color": "rgb(189,189,189)",
          "dash": "solid",
          "shape": "spline"
         },
         "mode": "lines",
         "name": "Πολωνία",
         "showlegend": true,
         "type": "scatter",
         "xaxis": "x",
         "y": [
          103,
          119,
          177,
          238,
          251,
          355,
          425,
          536,
          634,
          749,
          901,
          1051,
          1221,
          1389,
          1638,
          1862,
          2055,
          2311,
          2554,
          2946,
          3383,
          3627,
          4102,
          4413,
          4848,
          5205,
          5575,
          5955,
          6356,
          6674
         ],
         "yaxis": "y"
        },
        {
         "customdata": [
          [
           "Πορτογαλία"
          ],
          [
           "Πορτογαλία"
          ],
          [
           "Πορτογαλία"
          ],
          [
           "Πορτογαλία"
          ],
          [
           "Πορτογαλία"
          ],
          [
           "Πορτογαλία"
          ],
          [
           "Πορτογαλία"
          ],
          [
           "Πορτογαλία"
          ],
          [
           "Πορτογαλία"
          ],
          [
           "Πορτογαλία"
          ],
          [
           "Πορτογαλία"
          ],
          [
           "Πορτογαλία"
          ],
          [
           "Πορτογαλία"
          ],
          [
           "Πορτογαλία"
          ],
          [
           "Πορτογαλία"
          ],
          [
           "Πορτογαλία"
          ],
          [
           "Πορτογαλία"
          ],
          [
           "Πορτογαλία"
          ],
          [
           "Πορτογαλία"
          ],
          [
           "Πορτογαλία"
          ],
          [
           "Πορτογαλία"
          ],
          [
           "Πορτογαλία"
          ],
          [
           "Πορτογαλία"
          ],
          [
           "Πορτογαλία"
          ],
          [
           "Πορτογαλία"
          ],
          [
           "Πορτογαλία"
          ],
          [
           "Πορτογαλία"
          ],
          [
           "Πορτογαλία"
          ],
          [
           "Πορτογαλία"
          ],
          [
           "Πορτογαλία"
          ],
          [
           "Πορτογαλία"
          ]
         ],
         "hoverlabel": {
          "namelength": 0
         },
         "hovertemplate": "Χώρα=%{customdata[0]}<br>Αριθμός Κρουσμάτων=%{y}",
         "legendgroup": "Πορτογαλία",
         "line": {
          "color": "rgb(189,189,189)",
          "dash": "solid",
          "shape": "spline"
         },
         "mode": "lines",
         "name": "Πορτογαλία",
         "showlegend": true,
         "type": "scatter",
         "xaxis": "x",
         "y": [
          112,
          169,
          245,
          331,
          448,
          448,
          785,
          1020,
          1280,
          1600,
          2060,
          2362,
          2995,
          3544,
          4268,
          5170,
          5962,
          6408,
          7443,
          8251,
          9034,
          9886,
          10524,
          11278,
          11730,
          12442,
          13141,
          13956,
          15472,
          15987,
          16585
         ],
         "yaxis": "y"
        },
        {
         "customdata": [
          [
           "Κατάρ"
          ],
          [
           "Κατάρ"
          ],
          [
           "Κατάρ"
          ],
          [
           "Κατάρ"
          ],
          [
           "Κατάρ"
          ],
          [
           "Κατάρ"
          ],
          [
           "Κατάρ"
          ],
          [
           "Κατάρ"
          ],
          [
           "Κατάρ"
          ],
          [
           "Κατάρ"
          ],
          [
           "Κατάρ"
          ],
          [
           "Κατάρ"
          ],
          [
           "Κατάρ"
          ],
          [
           "Κατάρ"
          ],
          [
           "Κατάρ"
          ],
          [
           "Κατάρ"
          ],
          [
           "Κατάρ"
          ],
          [
           "Κατάρ"
          ],
          [
           "Κατάρ"
          ],
          [
           "Κατάρ"
          ],
          [
           "Κατάρ"
          ],
          [
           "Κατάρ"
          ],
          [
           "Κατάρ"
          ],
          [
           "Κατάρ"
          ],
          [
           "Κατάρ"
          ],
          [
           "Κατάρ"
          ],
          [
           "Κατάρ"
          ],
          [
           "Κατάρ"
          ],
          [
           "Κατάρ"
          ],
          [
           "Κατάρ"
          ],
          [
           "Κατάρ"
          ],
          [
           "Κατάρ"
          ],
          [
           "Κατάρ"
          ]
         ],
         "hoverlabel": {
          "namelength": 0
         },
         "hovertemplate": "Χώρα=%{customdata[0]}<br>Αριθμός Κρουσμάτων=%{y}",
         "legendgroup": "Κατάρ",
         "line": {
          "color": "rgb(189,189,189)",
          "dash": "solid",
          "shape": "spline"
         },
         "mode": "lines",
         "name": "Κατάρ",
         "showlegend": true,
         "type": "scatter",
         "xaxis": "x",
         "y": [
          262,
          262,
          320,
          337,
          401,
          439,
          439,
          452,
          460,
          470,
          481,
          494,
          501,
          526,
          537,
          549,
          562,
          590,
          634,
          693,
          781,
          835,
          949,
          1075,
          1325,
          1604,
          1832,
          2057,
          2210,
          2376,
          2512,
          2728,
          2979
         ],
         "yaxis": "y"
        },
        {
         "customdata": [
          [
           "Ρουμανία"
          ],
          [
           "Ρουμανία"
          ],
          [
           "Ρουμανία"
          ],
          [
           "Ρουμανία"
          ],
          [
           "Ρουμανία"
          ],
          [
           "Ρουμανία"
          ],
          [
           "Ρουμανία"
          ],
          [
           "Ρουμανία"
          ],
          [
           "Ρουμανία"
          ],
          [
           "Ρουμανία"
          ],
          [
           "Ρουμανία"
          ],
          [
           "Ρουμανία"
          ],
          [
           "Ρουμανία"
          ],
          [
           "Ρουμανία"
          ],
          [
           "Ρουμανία"
          ],
          [
           "Ρουμανία"
          ],
          [
           "Ρουμανία"
          ],
          [
           "Ρουμανία"
          ],
          [
           "Ρουμανία"
          ],
          [
           "Ρουμανία"
          ],
          [
           "Ρουμανία"
          ],
          [
           "Ρουμανία"
          ],
          [
           "Ρουμανία"
          ],
          [
           "Ρουμανία"
          ],
          [
           "Ρουμανία"
          ],
          [
           "Ρουμανία"
          ],
          [
           "Ρουμανία"
          ],
          [
           "Ρουμανία"
          ],
          [
           "Ρουμανία"
          ],
          [
           "Ρουμανία"
          ]
         ],
         "hoverlabel": {
          "namelength": 0
         },
         "hovertemplate": "Χώρα=%{customdata[0]}<br>Αριθμός Κρουσμάτων=%{y}",
         "legendgroup": "Ρουμανία",
         "line": {
          "color": "rgb(189,189,189)",
          "dash": "solid",
          "shape": "spline"
         },
         "mode": "lines",
         "name": "Ρουμανία",
         "showlegend": true,
         "type": "scatter",
         "xaxis": "x",
         "y": [
          123,
          131,
          158,
          184,
          260,
          277,
          308,
          367,
          433,
          576,
          794,
          906,
          1029,
          1292,
          1452,
          1815,
          2109,
          2245,
          2460,
          2738,
          3183,
          3613,
          3864,
          4057,
          4417,
          4761,
          5202,
          5467,
          5990,
          6300
         ],
         "yaxis": "y"
        },
        {
         "customdata": [
          [
           "Ρωσία"
          ],
          [
           "Ρωσία"
          ],
          [
           "Ρωσία"
          ],
          [
           "Ρωσία"
          ],
          [
           "Ρωσία"
          ],
          [
           "Ρωσία"
          ],
          [
           "Ρωσία"
          ],
          [
           "Ρωσία"
          ],
          [
           "Ρωσία"
          ],
          [
           "Ρωσία"
          ],
          [
           "Ρωσία"
          ],
          [
           "Ρωσία"
          ],
          [
           "Ρωσία"
          ],
          [
           "Ρωσία"
          ],
          [
           "Ρωσία"
          ],
          [
           "Ρωσία"
          ],
          [
           "Ρωσία"
          ],
          [
           "Ρωσία"
          ],
          [
           "Ρωσία"
          ],
          [
           "Ρωσία"
          ],
          [
           "Ρωσία"
          ],
          [
           "Ρωσία"
          ],
          [
           "Ρωσία"
          ],
          [
           "Ρωσία"
          ],
          [
           "Ρωσία"
          ],
          [
           "Ρωσία"
          ],
          [
           "Ρωσία"
          ]
         ],
         "hoverlabel": {
          "namelength": 0
         },
         "hovertemplate": "Χώρα=%{customdata[0]}<br>Αριθμός Κρουσμάτων=%{y}",
         "legendgroup": "Ρωσία",
         "line": {
          "color": "rgb(189,189,189)",
          "dash": "solid",
          "shape": "spline"
         },
         "mode": "lines",
         "name": "Ρωσία",
         "showlegend": true,
         "type": "scatter",
         "xaxis": "x",
         "y": [
          114,
          147,
          199,
          253,
          306,
          367,
          438,
          495,
          658,
          840,
          1036,
          1264,
          1534,
          1836,
          2337,
          2777,
          3548,
          4149,
          4731,
          5389,
          6343,
          7497,
          8672,
          10131,
          11917,
          13584,
          15770
         ],
         "yaxis": "y"
        },
        {
         "customdata": [
          [
           "Ρουάντα"
          ],
          [
           "Ρουάντα"
          ],
          [
           "Ρουάντα"
          ],
          [
           "Ρουάντα"
          ],
          [
           "Ρουάντα"
          ],
          [
           "Ρουάντα"
          ],
          [
           "Ρουάντα"
          ],
          [
           "Ρουάντα"
          ],
          [
           "Ρουάντα"
          ]
         ],
         "hoverlabel": {
          "namelength": 0
         },
         "hovertemplate": "Χώρα=%{customdata[0]}<br>Αριθμός Κρουσμάτων=%{y}",
         "legendgroup": "Ρουάντα",
         "line": {
          "color": "rgb(189,189,189)",
          "dash": "solid",
          "shape": "spline"
         },
         "mode": "lines",
         "name": "Ρουάντα",
         "showlegend": true,
         "type": "scatter",
         "xaxis": "x",
         "y": [
          102,
          104,
          105,
          105,
          110,
          110,
          118,
          120,
          126
         ],
         "yaxis": "y"
        },
        {
         "customdata": [
          [
           "Άγ. Μαρίνος"
          ],
          [
           "Άγ. Μαρίνος"
          ],
          [
           "Άγ. Μαρίνος"
          ],
          [
           "Άγ. Μαρίνος"
          ],
          [
           "Άγ. Μαρίνος"
          ],
          [
           "Άγ. Μαρίνος"
          ],
          [
           "Άγ. Μαρίνος"
          ],
          [
           "Άγ. Μαρίνος"
          ],
          [
           "Άγ. Μαρίνος"
          ],
          [
           "Άγ. Μαρίνος"
          ],
          [
           "Άγ. Μαρίνος"
          ],
          [
           "Άγ. Μαρίνος"
          ],
          [
           "Άγ. Μαρίνος"
          ],
          [
           "Άγ. Μαρίνος"
          ],
          [
           "Άγ. Μαρίνος"
          ],
          [
           "Άγ. Μαρίνος"
          ],
          [
           "Άγ. Μαρίνος"
          ],
          [
           "Άγ. Μαρίνος"
          ],
          [
           "Άγ. Μαρίνος"
          ],
          [
           "Άγ. Μαρίνος"
          ],
          [
           "Άγ. Μαρίνος"
          ],
          [
           "Άγ. Μαρίνος"
          ],
          [
           "Άγ. Μαρίνος"
          ],
          [
           "Άγ. Μαρίνος"
          ],
          [
           "Άγ. Μαρίνος"
          ],
          [
           "Άγ. Μαρίνος"
          ],
          [
           "Άγ. Μαρίνος"
          ],
          [
           "Άγ. Μαρίνος"
          ],
          [
           "Άγ. Μαρίνος"
          ]
         ],
         "hoverlabel": {
          "namelength": 0
         },
         "hovertemplate": "Χώρα=%{customdata[0]}<br>Αριθμός Κρουσμάτων=%{y}",
         "legendgroup": "Άγ. Μαρίνος",
         "line": {
          "color": "rgb(189,189,189)",
          "dash": "solid",
          "shape": "spline"
         },
         "mode": "lines",
         "name": "Άγ. Μαρίνος",
         "showlegend": true,
         "type": "scatter",
         "xaxis": "x",
         "y": [
          101,
          109,
          109,
          119,
          119,
          144,
          144,
          175,
          187,
          187,
          208,
          208,
          223,
          224,
          224,
          230,
          236,
          236,
          245,
          245,
          259,
          266,
          266,
          279,
          279,
          333,
          344,
          356,
          356
         ],
         "yaxis": "y"
        },
        {
         "customdata": [
          [
           "Σαουδική Αραβία"
          ],
          [
           "Σαουδική Αραβία"
          ],
          [
           "Σαουδική Αραβία"
          ],
          [
           "Σαουδική Αραβία"
          ],
          [
           "Σαουδική Αραβία"
          ],
          [
           "Σαουδική Αραβία"
          ],
          [
           "Σαουδική Αραβία"
          ],
          [
           "Σαουδική Αραβία"
          ],
          [
           "Σαουδική Αραβία"
          ],
          [
           "Σαουδική Αραβία"
          ],
          [
           "Σαουδική Αραβία"
          ],
          [
           "Σαουδική Αραβία"
          ],
          [
           "Σαουδική Αραβία"
          ],
          [
           "Σαουδική Αραβία"
          ],
          [
           "Σαουδική Αραβία"
          ],
          [
           "Σαουδική Αραβία"
          ],
          [
           "Σαουδική Αραβία"
          ],
          [
           "Σαουδική Αραβία"
          ],
          [
           "Σαουδική Αραβία"
          ],
          [
           "Σαουδική Αραβία"
          ],
          [
           "Σαουδική Αραβία"
          ],
          [
           "Σαουδική Αραβία"
          ],
          [
           "Σαουδική Αραβία"
          ],
          [
           "Σαουδική Αραβία"
          ],
          [
           "Σαουδική Αραβία"
          ],
          [
           "Σαουδική Αραβία"
          ],
          [
           "Σαουδική Αραβία"
          ],
          [
           "Σαουδική Αραβία"
          ],
          [
           "Σαουδική Αραβία"
          ],
          [
           "Σαουδική Αραβία"
          ]
         ],
         "hoverlabel": {
          "namelength": 0
         },
         "hovertemplate": "Χώρα=%{customdata[0]}<br>Αριθμός Κρουσμάτων=%{y}",
         "legendgroup": "Σαουδική Αραβία",
         "line": {
          "color": "rgb(189,189,189)",
          "dash": "solid",
          "shape": "spline"
         },
         "mode": "lines",
         "name": "Σαουδική Αραβία",
         "showlegend": true,
         "type": "scatter",
         "xaxis": "x",
         "y": [
          103,
          103,
          118,
          171,
          171,
          274,
          344,
          392,
          511,
          562,
          767,
          900,
          1012,
          1104,
          1203,
          1299,
          1453,
          1563,
          1720,
          1885,
          2039,
          2179,
          2402,
          2605,
          2795,
          2932,
          3287,
          3651,
          4033,
          4462
         ],
         "yaxis": "y"
        },
        {
         "customdata": [
          [
           "Σενεγάλη"
          ],
          [
           "Σενεγάλη"
          ],
          [
           "Σενεγάλη"
          ],
          [
           "Σενεγάλη"
          ],
          [
           "Σενεγάλη"
          ],
          [
           "Σενεγάλη"
          ],
          [
           "Σενεγάλη"
          ],
          [
           "Σενεγάλη"
          ],
          [
           "Σενεγάλη"
          ],
          [
           "Σενεγάλη"
          ],
          [
           "Σενεγάλη"
          ],
          [
           "Σενεγάλη"
          ],
          [
           "Σενεγάλη"
          ],
          [
           "Σενεγάλη"
          ],
          [
           "Σενεγάλη"
          ],
          [
           "Σενεγάλη"
          ],
          [
           "Σενεγάλη"
          ],
          [
           "Σενεγάλη"
          ]
         ],
         "hoverlabel": {
          "namelength": 0
         },
         "hovertemplate": "Χώρα=%{customdata[0]}<br>Αριθμός Κρουσμάτων=%{y}",
         "legendgroup": "Σενεγάλη",
         "line": {
          "color": "rgb(189,189,189)",
          "dash": "solid",
          "shape": "spline"
         },
         "mode": "lines",
         "name": "Σενεγάλη",
         "showlegend": true,
         "type": "scatter",
         "xaxis": "x",
         "y": [
          105,
          119,
          130,
          142,
          162,
          175,
          190,
          195,
          207,
          219,
          222,
          226,
          237,
          244,
          250,
          265,
          278,
          280
         ],
         "yaxis": "y"
        },
        {
         "customdata": [
          [
           "Σερβία"
          ],
          [
           "Σερβία"
          ],
          [
           "Σερβία"
          ],
          [
           "Σερβία"
          ],
          [
           "Σερβία"
          ],
          [
           "Σερβία"
          ],
          [
           "Σερβία"
          ],
          [
           "Σερβία"
          ],
          [
           "Σερβία"
          ],
          [
           "Σερβία"
          ],
          [
           "Σερβία"
          ],
          [
           "Σερβία"
          ],
          [
           "Σερβία"
          ],
          [
           "Σερβία"
          ],
          [
           "Σερβία"
          ],
          [
           "Σερβία"
          ],
          [
           "Σερβία"
          ],
          [
           "Σερβία"
          ],
          [
           "Σερβία"
          ],
          [
           "Σερβία"
          ],
          [
           "Σερβία"
          ],
          [
           "Σερβία"
          ],
          [
           "Σερβία"
          ],
          [
           "Σερβία"
          ],
          [
           "Σερβία"
          ]
         ],
         "hoverlabel": {
          "namelength": 0
         },
         "hovertemplate": "Χώρα=%{customdata[0]}<br>Αριθμός Κρουσμάτων=%{y}",
         "legendgroup": "Σερβία",
         "line": {
          "color": "rgb(189,189,189)",
          "dash": "solid",
          "shape": "spline"
         },
         "mode": "lines",
         "name": "Σερβία",
         "showlegend": true,
         "type": "scatter",
         "xaxis": "x",
         "y": [
          103,
          135,
          171,
          222,
          249,
          303,
          384,
          384,
          457,
          659,
          741,
          785,
          900,
          1060,
          1171,
          1476,
          1624,
          1908,
          2200,
          2447,
          2666,
          2867,
          3105,
          3380,
          3630
         ],
         "yaxis": "y"
        },
        {
         "customdata": [
          [
           "Σιγκαπούρη"
          ],
          [
           "Σιγκαπούρη"
          ],
          [
           "Σιγκαπούρη"
          ],
          [
           "Σιγκαπούρη"
          ],
          [
           "Σιγκαπούρη"
          ],
          [
           "Σιγκαπούρη"
          ],
          [
           "Σιγκαπούρη"
          ],
          [
           "Σιγκαπούρη"
          ],
          [
           "Σιγκαπούρη"
          ],
          [
           "Σιγκαπούρη"
          ],
          [
           "Σιγκαπούρη"
          ],
          [
           "Σιγκαπούρη"
          ],
          [
           "Σιγκαπούρη"
          ],
          [
           "Σιγκαπούρη"
          ],
          [
           "Σιγκαπούρη"
          ],
          [
           "Σιγκαπούρη"
          ],
          [
           "Σιγκαπούρη"
          ],
          [
           "Σιγκαπούρη"
          ],
          [
           "Σιγκαπούρη"
          ],
          [
           "Σιγκαπούρη"
          ],
          [
           "Σιγκαπούρη"
          ],
          [
           "Σιγκαπούρη"
          ],
          [
           "Σιγκαπούρη"
          ],
          [
           "Σιγκαπούρη"
          ],
          [
           "Σιγκαπούρη"
          ],
          [
           "Σιγκαπούρη"
          ],
          [
           "Σιγκαπούρη"
          ],
          [
           "Σιγκαπούρη"
          ],
          [
           "Σιγκαπούρη"
          ],
          [
           "Σιγκαπούρη"
          ],
          [
           "Σιγκαπούρη"
          ],
          [
           "Σιγκαπούρη"
          ],
          [
           "Σιγκαπούρη"
          ],
          [
           "Σιγκαπούρη"
          ],
          [
           "Σιγκαπούρη"
          ],
          [
           "Σιγκαπούρη"
          ],
          [
           "Σιγκαπούρη"
          ],
          [
           "Σιγκαπούρη"
          ],
          [
           "Σιγκαπούρη"
          ],
          [
           "Σιγκαπούρη"
          ],
          [
           "Σιγκαπούρη"
          ],
          [
           "Σιγκαπούρη"
          ],
          [
           "Σιγκαπούρη"
          ],
          [
           "Σιγκαπούρη"
          ]
         ],
         "hoverlabel": {
          "namelength": 0
         },
         "hovertemplate": "Χώρα=%{customdata[0]}<br>Αριθμός Κρουσμάτων=%{y}",
         "legendgroup": "Σιγκαπούρη",
         "line": {
          "color": "rgb(189,189,189)",
          "dash": "solid",
          "shape": "spline"
         },
         "mode": "lines",
         "name": "Σιγκαπούρη",
         "showlegend": true,
         "type": "scatter",
         "xaxis": "x",
         "y": [
          102,
          106,
          108,
          110,
          110,
          117,
          130,
          138,
          150,
          150,
          160,
          178,
          178,
          200,
          212,
          226,
          243,
          266,
          313,
          345,
          385,
          432,
          455,
          509,
          558,
          631,
          683,
          732,
          802,
          844,
          879,
          926,
          1000,
          1049,
          1114,
          1189,
          1309,
          1375,
          1481,
          1623,
          1910,
          2108,
          2299,
          2532
         ],
         "yaxis": "y"
        },
        {
         "customdata": [
          [
           "Σλοβακία"
          ],
          [
           "Σλοβακία"
          ],
          [
           "Σλοβακία"
          ],
          [
           "Σλοβακία"
          ],
          [
           "Σλοβακία"
          ],
          [
           "Σλοβακία"
          ],
          [
           "Σλοβακία"
          ],
          [
           "Σλοβακία"
          ],
          [
           "Σλοβακία"
          ],
          [
           "Σλοβακία"
          ],
          [
           "Σλοβακία"
          ],
          [
           "Σλοβακία"
          ],
          [
           "Σλοβακία"
          ],
          [
           "Σλοβακία"
          ],
          [
           "Σλοβακία"
          ],
          [
           "Σλοβακία"
          ],
          [
           "Σλοβακία"
          ],
          [
           "Σλοβακία"
          ],
          [
           "Σλοβακία"
          ],
          [
           "Σλοβακία"
          ],
          [
           "Σλοβακία"
          ],
          [
           "Σλοβακία"
          ],
          [
           "Σλοβακία"
          ],
          [
           "Σλοβακία"
          ],
          [
           "Σλοβακία"
          ],
          [
           "Σλοβακία"
          ]
         ],
         "hoverlabel": {
          "namelength": 0
         },
         "hovertemplate": "Χώρα=%{customdata[0]}<br>Αριθμός Κρουσμάτων=%{y}",
         "legendgroup": "Σλοβακία",
         "line": {
          "color": "rgb(189,189,189)",
          "dash": "solid",
          "shape": "spline"
         },
         "mode": "lines",
         "name": "Σλοβακία",
         "showlegend": true,
         "type": "scatter",
         "xaxis": "x",
         "y": [
          105,
          123,
          137,
          178,
          185,
          186,
          204,
          216,
          226,
          269,
          292,
          314,
          336,
          363,
          400,
          426,
          450,
          471,
          485,
          534,
          581,
          682,
          701,
          715,
          728,
          742
         ],
         "yaxis": "y"
        },
        {
         "customdata": [
          [
           "Σλοβενία"
          ],
          [
           "Σλοβενία"
          ],
          [
           "Σλοβενία"
          ],
          [
           "Σλοβενία"
          ],
          [
           "Σλοβενία"
          ],
          [
           "Σλοβενία"
          ],
          [
           "Σλοβενία"
          ],
          [
           "Σλοβενία"
          ],
          [
           "Σλοβενία"
          ],
          [
           "Σλοβενία"
          ],
          [
           "Σλοβενία"
          ],
          [
           "Σλοβενία"
          ],
          [
           "Σλοβενία"
          ],
          [
           "Σλοβενία"
          ],
          [
           "Σλοβενία"
          ],
          [
           "Σλοβενία"
          ],
          [
           "Σλοβενία"
          ],
          [
           "Σλοβενία"
          ],
          [
           "Σλοβενία"
          ],
          [
           "Σλοβενία"
          ],
          [
           "Σλοβενία"
          ],
          [
           "Σλοβενία"
          ],
          [
           "Σλοβενία"
          ],
          [
           "Σλοβενία"
          ],
          [
           "Σλοβενία"
          ],
          [
           "Σλοβενία"
          ],
          [
           "Σλοβενία"
          ],
          [
           "Σλοβενία"
          ],
          [
           "Σλοβενία"
          ],
          [
           "Σλοβενία"
          ],
          [
           "Σλοβενία"
          ]
         ],
         "hoverlabel": {
          "namelength": 0
         },
         "hovertemplate": "Χώρα=%{customdata[0]}<br>Αριθμός Κρουσμάτων=%{y}",
         "legendgroup": "Σλοβενία",
         "line": {
          "color": "rgb(189,189,189)",
          "dash": "solid",
          "shape": "spline"
         },
         "mode": "lines",
         "name": "Σλοβενία",
         "showlegend": true,
         "type": "scatter",
         "xaxis": "x",
         "y": [
          141,
          181,
          219,
          253,
          275,
          275,
          286,
          341,
          383,
          414,
          442,
          480,
          528,
          562,
          632,
          684,
          730,
          756,
          802,
          841,
          897,
          934,
          977,
          997,
          1021,
          1059,
          1091,
          1124,
          1160,
          1188,
          1205
         ],
         "yaxis": "y"
        },
        {
         "customdata": [
          [
           "Νότια Αφρική"
          ],
          [
           "Νότια Αφρική"
          ],
          [
           "Νότια Αφρική"
          ],
          [
           "Νότια Αφρική"
          ],
          [
           "Νότια Αφρική"
          ],
          [
           "Νότια Αφρική"
          ],
          [
           "Νότια Αφρική"
          ],
          [
           "Νότια Αφρική"
          ],
          [
           "Νότια Αφρική"
          ],
          [
           "Νότια Αφρική"
          ],
          [
           "Νότια Αφρική"
          ],
          [
           "Νότια Αφρική"
          ],
          [
           "Νότια Αφρική"
          ],
          [
           "Νότια Αφρική"
          ],
          [
           "Νότια Αφρική"
          ],
          [
           "Νότια Αφρική"
          ],
          [
           "Νότια Αφρική"
          ],
          [
           "Νότια Αφρική"
          ],
          [
           "Νότια Αφρική"
          ],
          [
           "Νότια Αφρική"
          ],
          [
           "Νότια Αφρική"
          ],
          [
           "Νότια Αφρική"
          ],
          [
           "Νότια Αφρική"
          ],
          [
           "Νότια Αφρική"
          ],
          [
           "Νότια Αφρική"
          ],
          [
           "Νότια Αφρική"
          ]
         ],
         "hoverlabel": {
          "namelength": 0
         },
         "hovertemplate": "Χώρα=%{customdata[0]}<br>Αριθμός Κρουσμάτων=%{y}",
         "legendgroup": "Νότια Αφρική",
         "line": {
          "color": "rgb(189,189,189)",
          "dash": "solid",
          "shape": "spline"
         },
         "mode": "lines",
         "name": "Νότια Αφρική",
         "showlegend": true,
         "type": "scatter",
         "xaxis": "x",
         "y": [
          116,
          150,
          202,
          240,
          274,
          402,
          554,
          709,
          927,
          1170,
          1187,
          1280,
          1326,
          1353,
          1380,
          1462,
          1505,
          1585,
          1655,
          1686,
          1749,
          1845,
          1934,
          2003,
          2028,
          2173
         ],
         "yaxis": "y"
        },
        {
         "customdata": [
          [
           "Σρι Λάνκα"
          ],
          [
           "Σρι Λάνκα"
          ],
          [
           "Σρι Λάνκα"
          ],
          [
           "Σρι Λάνκα"
          ],
          [
           "Σρι Λάνκα"
          ],
          [
           "Σρι Λάνκα"
          ],
          [
           "Σρι Λάνκα"
          ],
          [
           "Σρι Λάνκα"
          ],
          [
           "Σρι Λάνκα"
          ],
          [
           "Σρι Λάνκα"
          ],
          [
           "Σρι Λάνκα"
          ],
          [
           "Σρι Λάνκα"
          ],
          [
           "Σρι Λάνκα"
          ],
          [
           "Σρι Λάνκα"
          ],
          [
           "Σρι Λάνκα"
          ],
          [
           "Σρι Λάνκα"
          ],
          [
           "Σρι Λάνκα"
          ],
          [
           "Σρι Λάνκα"
          ],
          [
           "Σρι Λάνκα"
          ],
          [
           "Σρι Λάνκα"
          ]
         ],
         "hoverlabel": {
          "namelength": 0
         },
         "hovertemplate": "Χώρα=%{customdata[0]}<br>Αριθμός Κρουσμάτων=%{y}",
         "legendgroup": "Σρι Λάνκα",
         "line": {
          "color": "rgb(189,189,189)",
          "dash": "solid",
          "shape": "spline"
         },
         "mode": "lines",
         "name": "Σρι Λάνκα",
         "showlegend": true,
         "type": "scatter",
         "xaxis": "x",
         "y": [
          102,
          102,
          106,
          106,
          113,
          117,
          122,
          143,
          146,
          151,
          159,
          166,
          176,
          178,
          185,
          189,
          190,
          190,
          198,
          210
         ],
         "yaxis": "y"
        },
        {
         "customdata": [
          [
           "Σουηδία"
          ],
          [
           "Σουηδία"
          ],
          [
           "Σουηδία"
          ],
          [
           "Σουηδία"
          ],
          [
           "Σουηδία"
          ],
          [
           "Σουηδία"
          ],
          [
           "Σουηδία"
          ],
          [
           "Σουηδία"
          ],
          [
           "Σουηδία"
          ],
          [
           "Σουηδία"
          ],
          [
           "Σουηδία"
          ],
          [
           "Σουηδία"
          ],
          [
           "Σουηδία"
          ],
          [
           "Σουηδία"
          ],
          [
           "Σουηδία"
          ],
          [
           "Σουηδία"
          ],
          [
           "Σουηδία"
          ],
          [
           "Σουηδία"
          ],
          [
           "Σουηδία"
          ],
          [
           "Σουηδία"
          ],
          [
           "Σουηδία"
          ],
          [
           "Σουηδία"
          ],
          [
           "Σουηδία"
          ],
          [
           "Σουηδία"
          ],
          [
           "Σουηδία"
          ],
          [
           "Σουηδία"
          ],
          [
           "Σουηδία"
          ],
          [
           "Σουηδία"
          ],
          [
           "Σουηδία"
          ],
          [
           "Σουηδία"
          ],
          [
           "Σουηδία"
          ],
          [
           "Σουηδία"
          ],
          [
           "Σουηδία"
          ],
          [
           "Σουηδία"
          ],
          [
           "Σουηδία"
          ],
          [
           "Σουηδία"
          ],
          [
           "Σουηδία"
          ],
          [
           "Σουηδία"
          ]
         ],
         "hoverlabel": {
          "namelength": 0
         },
         "hovertemplate": "Χώρα=%{customdata[0]}<br>Αριθμός Κρουσμάτων=%{y}",
         "legendgroup": "Σουηδία",
         "line": {
          "color": "rgb(189,189,189)",
          "dash": "solid",
          "shape": "spline"
         },
         "mode": "lines",
         "name": "Σουηδία",
         "showlegend": true,
         "type": "scatter",
         "xaxis": "x",
         "y": [
          101,
          161,
          203,
          248,
          355,
          500,
          599,
          814,
          961,
          1022,
          1103,
          1190,
          1279,
          1439,
          1639,
          1763,
          1934,
          2046,
          2286,
          2526,
          2840,
          3069,
          3447,
          3700,
          4028,
          4435,
          4947,
          5568,
          6131,
          6443,
          6830,
          7206,
          7693,
          8419,
          9141,
          9685,
          10151,
          10483
         ],
         "yaxis": "y"
        },
        {
         "customdata": [
          [
           "Ελβετία"
          ],
          [
           "Ελβετία"
          ],
          [
           "Ελβετία"
          ],
          [
           "Ελβετία"
          ],
          [
           "Ελβετία"
          ],
          [
           "Ελβετία"
          ],
          [
           "Ελβετία"
          ],
          [
           "Ελβετία"
          ],
          [
           "Ελβετία"
          ],
          [
           "Ελβετία"
          ],
          [
           "Ελβετία"
          ],
          [
           "Ελβετία"
          ],
          [
           "Ελβετία"
          ],
          [
           "Ελβετία"
          ],
          [
           "Ελβετία"
          ],
          [
           "Ελβετία"
          ],
          [
           "Ελβετία"
          ],
          [
           "Ελβετία"
          ],
          [
           "Ελβετία"
          ],
          [
           "Ελβετία"
          ],
          [
           "Ελβετία"
          ],
          [
           "Ελβετία"
          ],
          [
           "Ελβετία"
          ],
          [
           "Ελβετία"
          ],
          [
           "Ελβετία"
          ],
          [
           "Ελβετία"
          ],
          [
           "Ελβετία"
          ],
          [
           "Ελβετία"
          ],
          [
           "Ελβετία"
          ],
          [
           "Ελβετία"
          ],
          [
           "Ελβετία"
          ],
          [
           "Ελβετία"
          ],
          [
           "Ελβετία"
          ],
          [
           "Ελβετία"
          ],
          [
           "Ελβετία"
          ],
          [
           "Ελβετία"
          ],
          [
           "Ελβετία"
          ],
          [
           "Ελβετία"
          ],
          [
           "Ελβετία"
          ]
         ],
         "hoverlabel": {
          "namelength": 0
         },
         "hovertemplate": "Χώρα=%{customdata[0]}<br>Αριθμός Κρουσμάτων=%{y}",
         "legendgroup": "Ελβετία",
         "line": {
          "color": "rgb(189,189,189)",
          "dash": "solid",
          "shape": "spline"
         },
         "mode": "lines",
         "name": "Ελβετία",
         "showlegend": true,
         "type": "scatter",
         "xaxis": "x",
         "y": [
          114,
          214,
          268,
          337,
          374,
          491,
          652,
          652,
          1139,
          1359,
          2200,
          2200,
          2700,
          3028,
          4075,
          5294,
          6575,
          7474,
          8795,
          9877,
          10897,
          11811,
          12928,
          14076,
          14829,
          15922,
          16605,
          17768,
          18827,
          19606,
          20505,
          21100,
          21657,
          22253,
          23280,
          24051,
          24551,
          25107,
          25415
         ],
         "yaxis": "y"
        },
        {
         "customdata": [
          [
           "Ταϊβάν"
          ],
          [
           "Ταϊβάν"
          ],
          [
           "Ταϊβάν"
          ],
          [
           "Ταϊβάν"
          ],
          [
           "Ταϊβάν"
          ],
          [
           "Ταϊβάν"
          ],
          [
           "Ταϊβάν"
          ],
          [
           "Ταϊβάν"
          ],
          [
           "Ταϊβάν"
          ],
          [
           "Ταϊβάν"
          ],
          [
           "Ταϊβάν"
          ],
          [
           "Ταϊβάν"
          ],
          [
           "Ταϊβάν"
          ],
          [
           "Ταϊβάν"
          ],
          [
           "Ταϊβάν"
          ],
          [
           "Ταϊβάν"
          ],
          [
           "Ταϊβάν"
          ],
          [
           "Ταϊβάν"
          ],
          [
           "Ταϊβάν"
          ],
          [
           "Ταϊβάν"
          ],
          [
           "Ταϊβάν"
          ],
          [
           "Ταϊβάν"
          ],
          [
           "Ταϊβάν"
          ],
          [
           "Ταϊβάν"
          ],
          [
           "Ταϊβάν"
          ],
          [
           "Ταϊβάν"
          ]
         ],
         "hoverlabel": {
          "namelength": 0
         },
         "hovertemplate": "Χώρα=%{customdata[0]}<br>Αριθμός Κρουσμάτων=%{y}",
         "legendgroup": "Ταϊβάν",
         "line": {
          "color": "rgb(189,189,189)",
          "dash": "solid",
          "shape": "spline"
         },
         "mode": "lines",
         "name": "Ταϊβάν",
         "showlegend": true,
         "type": "scatter",
         "xaxis": "x",
         "y": [
          100,
          108,
          135,
          153,
          169,
          195,
          215,
          235,
          252,
          267,
          283,
          298,
          306,
          322,
          329,
          339,
          348,
          355,
          363,
          373,
          376,
          379,
          380,
          382,
          385,
          388
         ],
         "yaxis": "y"
        },
        {
         "customdata": [
          [
           "Ταϊλάνδη"
          ],
          [
           "Ταϊλάνδη"
          ],
          [
           "Ταϊλάνδη"
          ],
          [
           "Ταϊλάνδη"
          ],
          [
           "Ταϊλάνδη"
          ],
          [
           "Ταϊλάνδη"
          ],
          [
           "Ταϊλάνδη"
          ],
          [
           "Ταϊλάνδη"
          ],
          [
           "Ταϊλάνδη"
          ],
          [
           "Ταϊλάνδη"
          ],
          [
           "Ταϊλάνδη"
          ],
          [
           "Ταϊλάνδη"
          ],
          [
           "Ταϊλάνδη"
          ],
          [
           "Ταϊλάνδη"
          ],
          [
           "Ταϊλάνδη"
          ],
          [
           "Ταϊλάνδη"
          ],
          [
           "Ταϊλάνδη"
          ],
          [
           "Ταϊλάνδη"
          ],
          [
           "Ταϊλάνδη"
          ],
          [
           "Ταϊλάνδη"
          ],
          [
           "Ταϊλάνδη"
          ],
          [
           "Ταϊλάνδη"
          ],
          [
           "Ταϊλάνδη"
          ],
          [
           "Ταϊλάνδη"
          ],
          [
           "Ταϊλάνδη"
          ],
          [
           "Ταϊλάνδη"
          ],
          [
           "Ταϊλάνδη"
          ],
          [
           "Ταϊλάνδη"
          ],
          [
           "Ταϊλάνδη"
          ]
         ],
         "hoverlabel": {
          "namelength": 0
         },
         "hovertemplate": "Χώρα=%{customdata[0]}<br>Αριθμός Κρουσμάτων=%{y}",
         "legendgroup": "Ταϊλάνδη",
         "line": {
          "color": "rgb(189,189,189)",
          "dash": "solid",
          "shape": "spline"
         },
         "mode": "lines",
         "name": "Ταϊλάνδη",
         "showlegend": true,
         "type": "scatter",
         "xaxis": "x",
         "y": [
          114,
          147,
          177,
          212,
          272,
          322,
          411,
          599,
          721,
          827,
          934,
          1045,
          1136,
          1245,
          1388,
          1524,
          1651,
          1771,
          1875,
          1978,
          2067,
          2169,
          2220,
          2258,
          2369,
          2423,
          2473,
          2518,
          2551
         ],
         "yaxis": "y"
        },
        {
         "customdata": [
          [
           "Τρινιντάντ & Τομπάγκο"
          ],
          [
           "Τρινιντάντ & Τομπάγκο"
          ],
          [
           "Τρινιντάντ & Τομπάγκο"
          ],
          [
           "Τρινιντάντ & Τομπάγκο"
          ],
          [
           "Τρινιντάντ & Τομπάγκο"
          ],
          [
           "Τρινιντάντ & Τομπάγκο"
          ],
          [
           "Τρινιντάντ & Τομπάγκο"
          ],
          [
           "Τρινιντάντ & Τομπάγκο"
          ],
          [
           "Τρινιντάντ & Τομπάγκο"
          ]
         ],
         "hoverlabel": {
          "namelength": 0
         },
         "hovertemplate": "Χώρα=%{customdata[0]}<br>Αριθμός Κρουσμάτων=%{y}",
         "legendgroup": "Τρινιντάντ & Τομπάγκο",
         "line": {
          "color": "rgb(189,189,189)",
          "dash": "solid",
          "shape": "spline"
         },
         "mode": "lines",
         "name": "Τρινιντάντ & Τομπάγκο",
         "showlegend": true,
         "type": "scatter",
         "xaxis": "x",
         "y": [
          103,
          104,
          105,
          107,
          107,
          109,
          109,
          112,
          113
         ],
         "yaxis": "y"
        },
        {
         "customdata": [
          [
           "Τυνησία"
          ],
          [
           "Τυνησία"
          ],
          [
           "Τυνησία"
          ],
          [
           "Τυνησία"
          ],
          [
           "Τυνησία"
          ],
          [
           "Τυνησία"
          ],
          [
           "Τυνησία"
          ],
          [
           "Τυνησία"
          ],
          [
           "Τυνησία"
          ],
          [
           "Τυνησία"
          ],
          [
           "Τυνησία"
          ],
          [
           "Τυνησία"
          ],
          [
           "Τυνησία"
          ],
          [
           "Τυνησία"
          ],
          [
           "Τυνησία"
          ],
          [
           "Τυνησία"
          ],
          [
           "Τυνησία"
          ],
          [
           "Τυνησία"
          ],
          [
           "Τυνησία"
          ],
          [
           "Τυνησία"
          ]
         ],
         "hoverlabel": {
          "namelength": 0
         },
         "hovertemplate": "Χώρα=%{customdata[0]}<br>Αριθμός Κρουσμάτων=%{y}",
         "legendgroup": "Τυνησία",
         "line": {
          "color": "rgb(189,189,189)",
          "dash": "solid",
          "shape": "spline"
         },
         "mode": "lines",
         "name": "Τυνησία",
         "showlegend": true,
         "type": "scatter",
         "xaxis": "x",
         "y": [
          114,
          173,
          197,
          227,
          278,
          312,
          312,
          394,
          423,
          455,
          495,
          553,
          574,
          596,
          623,
          628,
          643,
          671,
          685,
          707
         ],
         "yaxis": "y"
        },
        {
         "customdata": [
          [
           "Τουρκία"
          ],
          [
           "Τουρκία"
          ],
          [
           "Τουρκία"
          ],
          [
           "Τουρκία"
          ],
          [
           "Τουρκία"
          ],
          [
           "Τουρκία"
          ],
          [
           "Τουρκία"
          ],
          [
           "Τουρκία"
          ],
          [
           "Τουρκία"
          ],
          [
           "Τουρκία"
          ],
          [
           "Τουρκία"
          ],
          [
           "Τουρκία"
          ],
          [
           "Τουρκία"
          ],
          [
           "Τουρκία"
          ],
          [
           "Τουρκία"
          ],
          [
           "Τουρκία"
          ],
          [
           "Τουρκία"
          ],
          [
           "Τουρκία"
          ],
          [
           "Τουρκία"
          ],
          [
           "Τουρκία"
          ],
          [
           "Τουρκία"
          ],
          [
           "Τουρκία"
          ],
          [
           "Τουρκία"
          ],
          [
           "Τουρκία"
          ],
          [
           "Τουρκία"
          ]
         ],
         "hoverlabel": {
          "namelength": 0
         },
         "hovertemplate": "Χώρα=%{customdata[0]}<br>Αριθμός Κρουσμάτων=%{y}",
         "legendgroup": "Τουρκία",
         "line": {
          "color": "rgb(189,189,189)",
          "dash": "solid",
          "shape": "spline"
         },
         "mode": "lines",
         "name": "Τουρκία",
         "showlegend": true,
         "type": "scatter",
         "xaxis": "x",
         "y": [
          192,
          359,
          670,
          1236,
          1529,
          1872,
          2433,
          3629,
          5698,
          7402,
          9217,
          10827,
          13531,
          15679,
          18135,
          20921,
          23934,
          27069,
          30217,
          34109,
          38226,
          42282,
          47029,
          52167,
          56956
         ],
         "yaxis": "y"
        },
        {
         "customdata": [
          [
           "Ουκρανία"
          ],
          [
           "Ουκρανία"
          ],
          [
           "Ουκρανία"
          ],
          [
           "Ουκρανία"
          ],
          [
           "Ουκρανία"
          ],
          [
           "Ουκρανία"
          ],
          [
           "Ουκρανία"
          ],
          [
           "Ουκρανία"
          ],
          [
           "Ουκρανία"
          ],
          [
           "Ουκρανία"
          ],
          [
           "Ουκρανία"
          ],
          [
           "Ουκρανία"
          ],
          [
           "Ουκρανία"
          ],
          [
           "Ουκρανία"
          ],
          [
           "Ουκρανία"
          ],
          [
           "Ουκρανία"
          ],
          [
           "Ουκρανία"
          ],
          [
           "Ουκρανία"
          ],
          [
           "Ουκρανία"
          ]
         ],
         "hoverlabel": {
          "namelength": 0
         },
         "hovertemplate": "Χώρα=%{customdata[0]}<br>Αριθμός Κρουσμάτων=%{y}",
         "legendgroup": "Ουκρανία",
         "line": {
          "color": "rgb(189,189,189)",
          "dash": "solid",
          "shape": "spline"
         },
         "mode": "lines",
         "name": "Ουκρανία",
         "showlegend": true,
         "type": "scatter",
         "xaxis": "x",
         "y": [
          145,
          196,
          310,
          356,
          475,
          548,
          645,
          794,
          897,
          1072,
          1225,
          1308,
          1319,
          1462,
          1668,
          1892,
          2203,
          2511,
          2777
         ],
         "yaxis": "y"
        },
        {
         "customdata": [
          [
           "Ην. Αραβικά Εμιράτα"
          ],
          [
           "Ην. Αραβικά Εμιράτα"
          ],
          [
           "Ην. Αραβικά Εμιράτα"
          ],
          [
           "Ην. Αραβικά Εμιράτα"
          ],
          [
           "Ην. Αραβικά Εμιράτα"
          ],
          [
           "Ην. Αραβικά Εμιράτα"
          ],
          [
           "Ην. Αραβικά Εμιράτα"
          ],
          [
           "Ην. Αραβικά Εμιράτα"
          ],
          [
           "Ην. Αραβικά Εμιράτα"
          ],
          [
           "Ην. Αραβικά Εμιράτα"
          ],
          [
           "Ην. Αραβικά Εμιράτα"
          ],
          [
           "Ην. Αραβικά Εμιράτα"
          ],
          [
           "Ην. Αραβικά Εμιράτα"
          ],
          [
           "Ην. Αραβικά Εμιράτα"
          ],
          [
           "Ην. Αραβικά Εμιράτα"
          ],
          [
           "Ην. Αραβικά Εμιράτα"
          ],
          [
           "Ην. Αραβικά Εμιράτα"
          ],
          [
           "Ην. Αραβικά Εμιράτα"
          ],
          [
           "Ην. Αραβικά Εμιράτα"
          ],
          [
           "Ην. Αραβικά Εμιράτα"
          ],
          [
           "Ην. Αραβικά Εμιράτα"
          ],
          [
           "Ην. Αραβικά Εμιράτα"
          ],
          [
           "Ην. Αραβικά Εμιράτα"
          ],
          [
           "Ην. Αραβικά Εμιράτα"
          ],
          [
           "Ην. Αραβικά Εμιράτα"
          ],
          [
           "Ην. Αραβικά Εμιράτα"
          ]
         ],
         "hoverlabel": {
          "namelength": 0
         },
         "hovertemplate": "Χώρα=%{customdata[0]}<br>Αριθμός Κρουσμάτων=%{y}",
         "legendgroup": "Ην. Αραβικά Εμιράτα",
         "line": {
          "color": "rgb(189,189,189)",
          "dash": "solid",
          "shape": "spline"
         },
         "mode": "lines",
         "name": "Ην. Αραβικά Εμιράτα",
         "showlegend": true,
         "type": "scatter",
         "xaxis": "x",
         "y": [
          113,
          140,
          140,
          153,
          153,
          198,
          248,
          333,
          333,
          405,
          468,
          570,
          611,
          664,
          814,
          1024,
          1264,
          1505,
          1799,
          2076,
          2359,
          2659,
          2990,
          3360,
          3736,
          4123
         ],
         "yaxis": "y"
        },
        {
         "customdata": [
          [
           "Ουρουγουάη"
          ],
          [
           "Ουρουγουάη"
          ],
          [
           "Ουρουγουάη"
          ],
          [
           "Ουρουγουάη"
          ],
          [
           "Ουρουγουάη"
          ],
          [
           "Ουρουγουάη"
          ],
          [
           "Ουρουγουάη"
          ],
          [
           "Ουρουγουάη"
          ],
          [
           "Ουρουγουάη"
          ],
          [
           "Ουρουγουάη"
          ],
          [
           "Ουρουγουάη"
          ],
          [
           "Ουρουγουάη"
          ],
          [
           "Ουρουγουάη"
          ],
          [
           "Ουρουγουάη"
          ],
          [
           "Ουρουγουάη"
          ],
          [
           "Ουρουγουάη"
          ],
          [
           "Ουρουγουάη"
          ],
          [
           "Ουρουγουάη"
          ],
          [
           "Ουρουγουάη"
          ],
          [
           "Ουρουγουάη"
          ],
          [
           "Ουρουγουάη"
          ],
          [
           "Ουρουγουάη"
          ],
          [
           "Ουρουγουάη"
          ]
         ],
         "hoverlabel": {
          "namelength": 0
         },
         "hovertemplate": "Χώρα=%{customdata[0]}<br>Αριθμός Κρουσμάτων=%{y}",
         "legendgroup": "Ουρουγουάη",
         "line": {
          "color": "rgb(189,189,189)",
          "dash": "solid",
          "shape": "spline"
         },
         "mode": "lines",
         "name": "Ουρουγουάη",
         "showlegend": true,
         "type": "scatter",
         "xaxis": "x",
         "y": [
          110,
          158,
          162,
          162,
          189,
          217,
          238,
          274,
          304,
          310,
          338,
          338,
          350,
          369,
          400,
          400,
          406,
          424,
          424,
          456,
          473,
          494,
          480
         ],
         "yaxis": "y"
        },
        {
         "customdata": [
          [
           "Ουζμπεκιστάν"
          ],
          [
           "Ουζμπεκιστάν"
          ],
          [
           "Ουζμπεκιστάν"
          ],
          [
           "Ουζμπεκιστάν"
          ],
          [
           "Ουζμπεκιστάν"
          ],
          [
           "Ουζμπεκιστάν"
          ],
          [
           "Ουζμπεκιστάν"
          ],
          [
           "Ουζμπεκιστάν"
          ],
          [
           "Ουζμπεκιστάν"
          ],
          [
           "Ουζμπεκιστάν"
          ],
          [
           "Ουζμπεκιστάν"
          ],
          [
           "Ουζμπεκιστάν"
          ],
          [
           "Ουζμπεκιστάν"
          ],
          [
           "Ουζμπεκιστάν"
          ],
          [
           "Ουζμπεκιστάν"
          ],
          [
           "Ουζμπεκιστάν"
          ]
         ],
         "hoverlabel": {
          "namelength": 0
         },
         "hovertemplate": "Χώρα=%{customdata[0]}<br>Αριθμός Κρουσμάτων=%{y}",
         "legendgroup": "Ουζμπεκιστάν",
         "line": {
          "color": "rgb(189,189,189)",
          "dash": "solid",
          "shape": "spline"
         },
         "mode": "lines",
         "name": "Ουζμπεκιστάν",
         "showlegend": true,
         "type": "scatter",
         "xaxis": "x",
         "y": [
          104,
          144,
          149,
          172,
          181,
          205,
          227,
          266,
          342,
          457,
          520,
          545,
          582,
          624,
          767,
          865
         ],
         "yaxis": "y"
        },
        {
         "customdata": [
          [
           "Βενεζουέλα"
          ],
          [
           "Βενεζουέλα"
          ],
          [
           "Βενεζουέλα"
          ],
          [
           "Βενεζουέλα"
          ],
          [
           "Βενεζουέλα"
          ],
          [
           "Βενεζουέλα"
          ],
          [
           "Βενεζουέλα"
          ],
          [
           "Βενεζουέλα"
          ],
          [
           "Βενεζουέλα"
          ],
          [
           "Βενεζουέλα"
          ],
          [
           "Βενεζουέλα"
          ],
          [
           "Βενεζουέλα"
          ],
          [
           "Βενεζουέλα"
          ],
          [
           "Βενεζουέλα"
          ],
          [
           "Βενεζουέλα"
          ],
          [
           "Βενεζουέλα"
          ],
          [
           "Βενεζουέλα"
          ],
          [
           "Βενεζουέλα"
          ]
         ],
         "hoverlabel": {
          "namelength": 0
         },
         "hovertemplate": "Χώρα=%{customdata[0]}<br>Αριθμός Κρουσμάτων=%{y}",
         "legendgroup": "Βενεζουέλα",
         "line": {
          "color": "rgb(189,189,189)",
          "dash": "solid",
          "shape": "spline"
         },
         "mode": "lines",
         "name": "Βενεζουέλα",
         "showlegend": true,
         "type": "scatter",
         "xaxis": "x",
         "y": [
          107,
          107,
          119,
          119,
          135,
          135,
          143,
          146,
          153,
          155,
          159,
          165,
          165,
          167,
          171,
          171,
          175,
          181
         ],
         "yaxis": "y"
        },
        {
         "customdata": [
          [
           "Βιετνάμ"
          ],
          [
           "Βιετνάμ"
          ],
          [
           "Βιετνάμ"
          ],
          [
           "Βιετνάμ"
          ],
          [
           "Βιετνάμ"
          ],
          [
           "Βιετνάμ"
          ],
          [
           "Βιετνάμ"
          ],
          [
           "Βιετνάμ"
          ],
          [
           "Βιετνάμ"
          ],
          [
           "Βιετνάμ"
          ],
          [
           "Βιετνάμ"
          ],
          [
           "Βιετνάμ"
          ],
          [
           "Βιετνάμ"
          ],
          [
           "Βιετνάμ"
          ],
          [
           "Βιετνάμ"
          ],
          [
           "Βιετνάμ"
          ],
          [
           "Βιετνάμ"
          ],
          [
           "Βιετνάμ"
          ],
          [
           "Βιετνάμ"
          ],
          [
           "Βιετνάμ"
          ],
          [
           "Βιετνάμ"
          ],
          [
           "Βιετνάμ"
          ]
         ],
         "hoverlabel": {
          "namelength": 0
         },
         "hovertemplate": "Χώρα=%{customdata[0]}<br>Αριθμός Κρουσμάτων=%{y}",
         "legendgroup": "Βιετνάμ",
         "line": {
          "color": "rgb(189,189,189)",
          "dash": "solid",
          "shape": "spline"
         },
         "mode": "lines",
         "name": "Βιετνάμ",
         "showlegend": true,
         "type": "scatter",
         "xaxis": "x",
         "y": [
          113,
          123,
          134,
          141,
          153,
          163,
          174,
          188,
          203,
          212,
          218,
          233,
          237,
          240,
          241,
          245,
          249,
          251,
          255,
          257,
          258,
          262
         ],
         "yaxis": "y"
        },
        {
         "customdata": [
          [
           "Δυτική Όχθη και Γάζα"
          ],
          [
           "Δυτική Όχθη και Γάζα"
          ],
          [
           "Δυτική Όχθη και Γάζα"
          ],
          [
           "Δυτική Όχθη και Γάζα"
          ],
          [
           "Δυτική Όχθη και Γάζα"
          ],
          [
           "Δυτική Όχθη και Γάζα"
          ],
          [
           "Δυτική Όχθη και Γάζα"
          ],
          [
           "Δυτική Όχθη και Γάζα"
          ],
          [
           "Δυτική Όχθη και Γάζα"
          ],
          [
           "Δυτική Όχθη και Γάζα"
          ],
          [
           "Δυτική Όχθη και Γάζα"
          ],
          [
           "Δυτική Όχθη και Γάζα"
          ],
          [
           "Δυτική Όχθη και Γάζα"
          ],
          [
           "Δυτική Όχθη και Γάζα"
          ],
          [
           "Δυτική Όχθη και Γάζα"
          ]
         ],
         "hoverlabel": {
          "namelength": 0
         },
         "hovertemplate": "Χώρα=%{customdata[0]}<br>Αριθμός Κρουσμάτων=%{y}",
         "legendgroup": "Δυτική Όχθη και Γάζα",
         "line": {
          "color": "rgb(189,189,189)",
          "dash": "solid",
          "shape": "spline"
         },
         "mode": "lines",
         "name": "Δυτική Όχθη και Γάζα",
         "showlegend": true,
         "type": "scatter",
         "xaxis": "x",
         "y": [
          109,
          116,
          119,
          134,
          161,
          194,
          217,
          237,
          254,
          261,
          263,
          263,
          267,
          268,
          290
         ],
         "yaxis": "y"
        },
        {
         "hovertemplate": "<b>%{y:.f}</b> κρούσματα στην Γερμανία<extra></extra>",
         "line": {
          "color": "black",
          "width": 2
         },
         "name": "Γερμανία",
         "type": "scatter",
         "y": [
          130,
          159,
          196,
          262,
          482,
          670,
          799,
          1040,
          1176,
          1457,
          1908,
          2078,
          3675,
          4585,
          5795,
          7272,
          9257,
          12327,
          15320,
          19848,
          22213,
          24873,
          29056,
          32986,
          37323,
          43938,
          50871,
          57695,
          62095,
          66885,
          71808,
          77872,
          84794,
          91159,
          96092,
          100123,
          103374,
          107663,
          113296,
          118181,
          122171,
          124908,
          127854
         ]
        },
        {
         "hovertemplate": "<b>%{y:.f}</b> κρούσματα στην Ιταλία<extra></extra>",
         "line": {
          "color": "#3E82B3",
          "width": 2
         },
         "name": "Ιταλία",
         "type": "scatter",
         "y": [
          155,
          229,
          322,
          453,
          655,
          888,
          1128,
          1694,
          2036,
          2502,
          3089,
          3858,
          4636,
          5883,
          7375,
          9172,
          10149,
          12462,
          12462,
          17660,
          21157,
          24747,
          27980,
          31506,
          35713,
          41035,
          47021,
          53578,
          59138,
          63927,
          69176,
          74386,
          80589,
          86498,
          92472,
          97689,
          101739,
          105792,
          110574,
          115242,
          119827,
          124632,
          128948,
          132547,
          135586,
          139422,
          143626,
          147577,
          152271,
          156363
         ]
        },
        {
         "hovertemplate": "<b>%{y:.f}</b> κρούσματα στο Ηνωμένο Βασίλειο<extra></extra>",
         "line": {
          "color": "#FFD400",
          "width": 2
         },
         "name": "Ηνωμένο Βασίλειο",
         "type": "scatter",
         "y": [
          116,
          164,
          207,
          274,
          322,
          384,
          459,
          459,
          802,
          1144,
          1145,
          1551,
          1960,
          2642,
          2716,
          4014,
          5067,
          5745,
          6726,
          8164,
          9640,
          11812,
          14745,
          17312,
          19780,
          22453,
          25481,
          29865,
          34173,
          38689,
          42477,
          48436,
          52279,
          55949,
          61474,
          65872,
          74605,
          79874,
          85206
         ]
        },
        {
         "hovertemplate": "<b>%{y:.f}</b> κρούσματα στις ΗΠΑ<extra></extra>",
         "line": {
          "color": "lightgreen",
          "width": 2
         },
         "name": "ΗΠΑ",
         "type": "scatter",
         "y": [
          118,
          149,
          217,
          262,
          402,
          518,
          583,
          959,
          1281,
          1663,
          2179,
          2727,
          3499,
          4632,
          6421,
          7783,
          13747,
          19273,
          25600,
          33276,
          43847,
          53740,
          65778,
          83836,
          101657,
          121465,
          140909,
          161831,
          188172,
          213372,
          243762,
          275586,
          308853,
          337072,
          366667,
          396223,
          429052,
          461437,
          496535,
          526396,
          555313
         ]
        },
        {
         "hovertemplate": "<b>%{y:.f}</b> κρούσματα στην Ισπανία<extra></extra>",
         "line": {
          "color": "purple",
          "width": 2
         },
         "name": "Ισπανία",
         "type": "scatter",
         "y": [
          120,
          165,
          222,
          259,
          400,
          500,
          673,
          1073,
          1695,
          2277,
          2277,
          5232,
          6391,
          7798,
          9942,
          11748,
          13910,
          17963,
          20410,
          25374,
          28768,
          35136,
          39885,
          49515,
          57786,
          65719,
          73235,
          80110,
          87956,
          95923,
          104118,
          112065,
          119199,
          126168,
          131646,
          136675,
          141942,
          148220,
          153222,
          158273,
          163027,
          166831
         ]
        },
        {
         "hovertemplate": "<b>%{y:.f}</b> κρούσματα στην Ελλάδα<extra></extra>",
         "line": {
          "color": "#BA3A0A",
          "width": 3
         },
         "name": "Ελλάδα",
         "type": "scatter",
         "y": [
          190,
          228,
          331,
          331,
          387,
          418,
          418,
          495,
          530,
          624,
          695,
          743,
          821,
          892,
          966,
          1061,
          1156,
          1212,
          1314,
          1415,
          1544,
          1613,
          1673,
          1735,
          1755,
          1832,
          1884,
          1955,
          2011,
          2081,
          2114
         ]
        }
       ],
       "layout": {
        "annotations": [
         {
          "showarrow": false,
          "text": "Λογαριθμική κλίμακα",
          "x": -0.02,
          "xref": "paper",
          "y": 1.2,
          "yref": "paper"
         }
        ],
        "font": {
         "color": "#114B5F",
         "family": "Roboto",
         "size": 11
        },
        "height": 380,
        "hoverlabel": {
         "align": "left",
         "bgcolor": "white",
         "font": {
          "family": "Roboto",
          "size": 12
         }
        },
        "hovermode": "closest",
        "legend": {
         "bgcolor": "#E6ECEC",
         "bordercolor": "#dadada",
         "borderwidth": 0.3,
         "font": {
          "color": "black",
          "family": "roboto",
          "size": 10
         },
         "itemsizing": "constant",
         "title": {
          "text": ""
         },
         "tracegroupgap": 0,
         "traceorder": "reversed"
        },
        "paper_bgcolor": "#E6ECEC",
        "plot_bgcolor": "#E6ECEC",
        "showlegend": true,
        "template": {
         "data": {
          "bar": [
           {
            "error_x": {
             "color": "#2a3f5f"
            },
            "error_y": {
             "color": "#2a3f5f"
            },
            "marker": {
             "line": {
              "color": "#E5ECF6",
              "width": 0.5
             }
            },
            "type": "bar"
           }
          ],
          "barpolar": [
           {
            "marker": {
             "line": {
              "color": "#E5ECF6",
              "width": 0.5
             }
            },
            "type": "barpolar"
           }
          ],
          "carpet": [
           {
            "aaxis": {
             "endlinecolor": "#2a3f5f",
             "gridcolor": "white",
             "linecolor": "white",
             "minorgridcolor": "white",
             "startlinecolor": "#2a3f5f"
            },
            "baxis": {
             "endlinecolor": "#2a3f5f",
             "gridcolor": "white",
             "linecolor": "white",
             "minorgridcolor": "white",
             "startlinecolor": "#2a3f5f"
            },
            "type": "carpet"
           }
          ],
          "choropleth": [
           {
            "colorbar": {
             "outlinewidth": 0,
             "ticks": ""
            },
            "type": "choropleth"
           }
          ],
          "contour": [
           {
            "colorbar": {
             "outlinewidth": 0,
             "ticks": ""
            },
            "colorscale": [
             [
              0,
              "#0d0887"
             ],
             [
              0.1111111111111111,
              "#46039f"
             ],
             [
              0.2222222222222222,
              "#7201a8"
             ],
             [
              0.3333333333333333,
              "#9c179e"
             ],
             [
              0.4444444444444444,
              "#bd3786"
             ],
             [
              0.5555555555555556,
              "#d8576b"
             ],
             [
              0.6666666666666666,
              "#ed7953"
             ],
             [
              0.7777777777777778,
              "#fb9f3a"
             ],
             [
              0.8888888888888888,
              "#fdca26"
             ],
             [
              1,
              "#f0f921"
             ]
            ],
            "type": "contour"
           }
          ],
          "contourcarpet": [
           {
            "colorbar": {
             "outlinewidth": 0,
             "ticks": ""
            },
            "type": "contourcarpet"
           }
          ],
          "heatmap": [
           {
            "colorbar": {
             "outlinewidth": 0,
             "ticks": ""
            },
            "colorscale": [
             [
              0,
              "#0d0887"
             ],
             [
              0.1111111111111111,
              "#46039f"
             ],
             [
              0.2222222222222222,
              "#7201a8"
             ],
             [
              0.3333333333333333,
              "#9c179e"
             ],
             [
              0.4444444444444444,
              "#bd3786"
             ],
             [
              0.5555555555555556,
              "#d8576b"
             ],
             [
              0.6666666666666666,
              "#ed7953"
             ],
             [
              0.7777777777777778,
              "#fb9f3a"
             ],
             [
              0.8888888888888888,
              "#fdca26"
             ],
             [
              1,
              "#f0f921"
             ]
            ],
            "type": "heatmap"
           }
          ],
          "heatmapgl": [
           {
            "colorbar": {
             "outlinewidth": 0,
             "ticks": ""
            },
            "colorscale": [
             [
              0,
              "#0d0887"
             ],
             [
              0.1111111111111111,
              "#46039f"
             ],
             [
              0.2222222222222222,
              "#7201a8"
             ],
             [
              0.3333333333333333,
              "#9c179e"
             ],
             [
              0.4444444444444444,
              "#bd3786"
             ],
             [
              0.5555555555555556,
              "#d8576b"
             ],
             [
              0.6666666666666666,
              "#ed7953"
             ],
             [
              0.7777777777777778,
              "#fb9f3a"
             ],
             [
              0.8888888888888888,
              "#fdca26"
             ],
             [
              1,
              "#f0f921"
             ]
            ],
            "type": "heatmapgl"
           }
          ],
          "histogram": [
           {
            "marker": {
             "colorbar": {
              "outlinewidth": 0,
              "ticks": ""
             }
            },
            "type": "histogram"
           }
          ],
          "histogram2d": [
           {
            "colorbar": {
             "outlinewidth": 0,
             "ticks": ""
            },
            "colorscale": [
             [
              0,
              "#0d0887"
             ],
             [
              0.1111111111111111,
              "#46039f"
             ],
             [
              0.2222222222222222,
              "#7201a8"
             ],
             [
              0.3333333333333333,
              "#9c179e"
             ],
             [
              0.4444444444444444,
              "#bd3786"
             ],
             [
              0.5555555555555556,
              "#d8576b"
             ],
             [
              0.6666666666666666,
              "#ed7953"
             ],
             [
              0.7777777777777778,
              "#fb9f3a"
             ],
             [
              0.8888888888888888,
              "#fdca26"
             ],
             [
              1,
              "#f0f921"
             ]
            ],
            "type": "histogram2d"
           }
          ],
          "histogram2dcontour": [
           {
            "colorbar": {
             "outlinewidth": 0,
             "ticks": ""
            },
            "colorscale": [
             [
              0,
              "#0d0887"
             ],
             [
              0.1111111111111111,
              "#46039f"
             ],
             [
              0.2222222222222222,
              "#7201a8"
             ],
             [
              0.3333333333333333,
              "#9c179e"
             ],
             [
              0.4444444444444444,
              "#bd3786"
             ],
             [
              0.5555555555555556,
              "#d8576b"
             ],
             [
              0.6666666666666666,
              "#ed7953"
             ],
             [
              0.7777777777777778,
              "#fb9f3a"
             ],
             [
              0.8888888888888888,
              "#fdca26"
             ],
             [
              1,
              "#f0f921"
             ]
            ],
            "type": "histogram2dcontour"
           }
          ],
          "mesh3d": [
           {
            "colorbar": {
             "outlinewidth": 0,
             "ticks": ""
            },
            "type": "mesh3d"
           }
          ],
          "parcoords": [
           {
            "line": {
             "colorbar": {
              "outlinewidth": 0,
              "ticks": ""
             }
            },
            "type": "parcoords"
           }
          ],
          "pie": [
           {
            "automargin": true,
            "type": "pie"
           }
          ],
          "scatter": [
           {
            "marker": {
             "colorbar": {
              "outlinewidth": 0,
              "ticks": ""
             }
            },
            "type": "scatter"
           }
          ],
          "scatter3d": [
           {
            "line": {
             "colorbar": {
              "outlinewidth": 0,
              "ticks": ""
             }
            },
            "marker": {
             "colorbar": {
              "outlinewidth": 0,
              "ticks": ""
             }
            },
            "type": "scatter3d"
           }
          ],
          "scattercarpet": [
           {
            "marker": {
             "colorbar": {
              "outlinewidth": 0,
              "ticks": ""
             }
            },
            "type": "scattercarpet"
           }
          ],
          "scattergeo": [
           {
            "marker": {
             "colorbar": {
              "outlinewidth": 0,
              "ticks": ""
             }
            },
            "type": "scattergeo"
           }
          ],
          "scattergl": [
           {
            "marker": {
             "colorbar": {
              "outlinewidth": 0,
              "ticks": ""
             }
            },
            "type": "scattergl"
           }
          ],
          "scattermapbox": [
           {
            "marker": {
             "colorbar": {
              "outlinewidth": 0,
              "ticks": ""
             }
            },
            "type": "scattermapbox"
           }
          ],
          "scatterpolar": [
           {
            "marker": {
             "colorbar": {
              "outlinewidth": 0,
              "ticks": ""
             }
            },
            "type": "scatterpolar"
           }
          ],
          "scatterpolargl": [
           {
            "marker": {
             "colorbar": {
              "outlinewidth": 0,
              "ticks": ""
             }
            },
            "type": "scatterpolargl"
           }
          ],
          "scatterternary": [
           {
            "marker": {
             "colorbar": {
              "outlinewidth": 0,
              "ticks": ""
             }
            },
            "type": "scatterternary"
           }
          ],
          "surface": [
           {
            "colorbar": {
             "outlinewidth": 0,
             "ticks": ""
            },
            "colorscale": [
             [
              0,
              "#0d0887"
             ],
             [
              0.1111111111111111,
              "#46039f"
             ],
             [
              0.2222222222222222,
              "#7201a8"
             ],
             [
              0.3333333333333333,
              "#9c179e"
             ],
             [
              0.4444444444444444,
              "#bd3786"
             ],
             [
              0.5555555555555556,
              "#d8576b"
             ],
             [
              0.6666666666666666,
              "#ed7953"
             ],
             [
              0.7777777777777778,
              "#fb9f3a"
             ],
             [
              0.8888888888888888,
              "#fdca26"
             ],
             [
              1,
              "#f0f921"
             ]
            ],
            "type": "surface"
           }
          ],
          "table": [
           {
            "cells": {
             "fill": {
              "color": "#EBF0F8"
             },
             "line": {
              "color": "white"
             }
            },
            "header": {
             "fill": {
              "color": "#C8D4E3"
             },
             "line": {
              "color": "white"
             }
            },
            "type": "table"
           }
          ]
         },
         "layout": {
          "annotationdefaults": {
           "arrowcolor": "#2a3f5f",
           "arrowhead": 0,
           "arrowwidth": 1
          },
          "coloraxis": {
           "colorbar": {
            "outlinewidth": 0,
            "ticks": ""
           }
          },
          "colorscale": {
           "diverging": [
            [
             0,
             "#8e0152"
            ],
            [
             0.1,
             "#c51b7d"
            ],
            [
             0.2,
             "#de77ae"
            ],
            [
             0.3,
             "#f1b6da"
            ],
            [
             0.4,
             "#fde0ef"
            ],
            [
             0.5,
             "#f7f7f7"
            ],
            [
             0.6,
             "#e6f5d0"
            ],
            [
             0.7,
             "#b8e186"
            ],
            [
             0.8,
             "#7fbc41"
            ],
            [
             0.9,
             "#4d9221"
            ],
            [
             1,
             "#276419"
            ]
           ],
           "sequential": [
            [
             0,
             "#0d0887"
            ],
            [
             0.1111111111111111,
             "#46039f"
            ],
            [
             0.2222222222222222,
             "#7201a8"
            ],
            [
             0.3333333333333333,
             "#9c179e"
            ],
            [
             0.4444444444444444,
             "#bd3786"
            ],
            [
             0.5555555555555556,
             "#d8576b"
            ],
            [
             0.6666666666666666,
             "#ed7953"
            ],
            [
             0.7777777777777778,
             "#fb9f3a"
            ],
            [
             0.8888888888888888,
             "#fdca26"
            ],
            [
             1,
             "#f0f921"
            ]
           ],
           "sequentialminus": [
            [
             0,
             "#0d0887"
            ],
            [
             0.1111111111111111,
             "#46039f"
            ],
            [
             0.2222222222222222,
             "#7201a8"
            ],
            [
             0.3333333333333333,
             "#9c179e"
            ],
            [
             0.4444444444444444,
             "#bd3786"
            ],
            [
             0.5555555555555556,
             "#d8576b"
            ],
            [
             0.6666666666666666,
             "#ed7953"
            ],
            [
             0.7777777777777778,
             "#fb9f3a"
            ],
            [
             0.8888888888888888,
             "#fdca26"
            ],
            [
             1,
             "#f0f921"
            ]
           ]
          },
          "colorway": [
           "#636efa",
           "#EF553B",
           "#00cc96",
           "#ab63fa",
           "#FFA15A",
           "#19d3f3",
           "#FF6692",
           "#B6E880",
           "#FF97FF",
           "#FECB52"
          ],
          "font": {
           "color": "#2a3f5f"
          },
          "geo": {
           "bgcolor": "white",
           "lakecolor": "white",
           "landcolor": "#E5ECF6",
           "showlakes": true,
           "showland": true,
           "subunitcolor": "white"
          },
          "hoverlabel": {
           "align": "left"
          },
          "hovermode": "closest",
          "mapbox": {
           "style": "light"
          },
          "paper_bgcolor": "white",
          "plot_bgcolor": "#E5ECF6",
          "polar": {
           "angularaxis": {
            "gridcolor": "white",
            "linecolor": "white",
            "ticks": ""
           },
           "bgcolor": "#E5ECF6",
           "radialaxis": {
            "gridcolor": "white",
            "linecolor": "white",
            "ticks": ""
           }
          },
          "scene": {
           "xaxis": {
            "backgroundcolor": "#E5ECF6",
            "gridcolor": "white",
            "gridwidth": 2,
            "linecolor": "white",
            "showbackground": true,
            "ticks": "",
            "zerolinecolor": "white"
           },
           "yaxis": {
            "backgroundcolor": "#E5ECF6",
            "gridcolor": "white",
            "gridwidth": 2,
            "linecolor": "white",
            "showbackground": true,
            "ticks": "",
            "zerolinecolor": "white"
           },
           "zaxis": {
            "backgroundcolor": "#E5ECF6",
            "gridcolor": "white",
            "gridwidth": 2,
            "linecolor": "white",
            "showbackground": true,
            "ticks": "",
            "zerolinecolor": "white"
           }
          },
          "shapedefaults": {
           "line": {
            "color": "#2a3f5f"
           }
          },
          "ternary": {
           "aaxis": {
            "gridcolor": "white",
            "linecolor": "white",
            "ticks": ""
           },
           "baxis": {
            "gridcolor": "white",
            "linecolor": "white",
            "ticks": ""
           },
           "bgcolor": "#E5ECF6",
           "caxis": {
            "gridcolor": "white",
            "linecolor": "white",
            "ticks": ""
           }
          },
          "title": {
           "x": 0.05
          },
          "xaxis": {
           "automargin": true,
           "gridcolor": "white",
           "linecolor": "white",
           "ticks": "",
           "title": {
            "standoff": 15
           },
           "zerolinecolor": "white",
           "zerolinewidth": 2
          },
          "yaxis": {
           "automargin": true,
           "gridcolor": "white",
           "linecolor": "white",
           "ticks": "",
           "title": {
            "standoff": 15
           },
           "zerolinecolor": "white",
           "zerolinewidth": 2
          }
         }
        },
        "title": {
         "text": "Μετά τα 100 πρώτα κρούσματα ανά ημέρα (χωρίς την Κίνα)"
        },
        "xaxis": {
         "anchor": "y",
         "domain": [
          0,
          1
         ],
         "gridcolor": "#F8FAFA",
         "gridwidth": 0.1,
         "linecolor": "#F8FAFA",
         "linewidth": 0.1,
         "showgrid": true,
         "showline": false,
         "showticklabels": true,
         "tickvals": [
          5,
          10,
          15,
          20,
          25,
          30,
          35,
          40,
          45,
          50,
          55
         ],
         "title": {
          "font": {
           "color": "#114B5F",
           "size": 11
          },
          "text": "Ημέρες από το 100ο κρούσμα"
         }
        },
        "yaxis": {
         "anchor": "x",
         "domain": [
          0,
          1
         ],
         "gridcolor": "#F8FAFA",
         "gridwidth": 0.1,
         "linecolor": "#114B5F",
         "linewidth": 2,
         "nticks": 4,
         "showgrid": true,
         "showline": true,
         "showticklabels": true,
         "title": {
          "font": {
           "color": "#114B5F",
           "size": 11
          },
          "text": "Αριθμός κρουσμάτων"
         },
         "type": "log"
        }
       }
      },
      "text/html": [
       "<div>\n",
       "        \n",
       "        \n",
       "            <div id=\"bdabf2cd-adaa-4346-8ad6-59f594c7366c\" class=\"plotly-graph-div\" style=\"height:380px; width:100%;\"></div>\n",
       "            <script type=\"text/javascript\">\n",
       "                require([\"plotly\"], function(Plotly) {\n",
       "                    window.PLOTLYENV=window.PLOTLYENV || {};\n",
       "                    \n",
       "                if (document.getElementById(\"bdabf2cd-adaa-4346-8ad6-59f594c7366c\")) {\n",
       "                    Plotly.newPlot(\n",
       "                        'bdabf2cd-adaa-4346-8ad6-59f594c7366c',\n",
       "                        [{\"customdata\": [[\"\\u0391\\u03c6\\u03b3\\u03b1\\u03bd\\u03b9\\u03c3\\u03c4\\u03ac\\u03bd\"], [\"\\u0391\\u03c6\\u03b3\\u03b1\\u03bd\\u03b9\\u03c3\\u03c4\\u03ac\\u03bd\"], [\"\\u0391\\u03c6\\u03b3\\u03b1\\u03bd\\u03b9\\u03c3\\u03c4\\u03ac\\u03bd\"], [\"\\u0391\\u03c6\\u03b3\\u03b1\\u03bd\\u03b9\\u03c3\\u03c4\\u03ac\\u03bd\"], [\"\\u0391\\u03c6\\u03b3\\u03b1\\u03bd\\u03b9\\u03c3\\u03c4\\u03ac\\u03bd\"], [\"\\u0391\\u03c6\\u03b3\\u03b1\\u03bd\\u03b9\\u03c3\\u03c4\\u03ac\\u03bd\"], [\"\\u0391\\u03c6\\u03b3\\u03b1\\u03bd\\u03b9\\u03c3\\u03c4\\u03ac\\u03bd\"], [\"\\u0391\\u03c6\\u03b3\\u03b1\\u03bd\\u03b9\\u03c3\\u03c4\\u03ac\\u03bd\"], [\"\\u0391\\u03c6\\u03b3\\u03b1\\u03bd\\u03b9\\u03c3\\u03c4\\u03ac\\u03bd\"], [\"\\u0391\\u03c6\\u03b3\\u03b1\\u03bd\\u03b9\\u03c3\\u03c4\\u03ac\\u03bd\"], [\"\\u0391\\u03c6\\u03b3\\u03b1\\u03bd\\u03b9\\u03c3\\u03c4\\u03ac\\u03bd\"], [\"\\u0391\\u03c6\\u03b3\\u03b1\\u03bd\\u03b9\\u03c3\\u03c4\\u03ac\\u03bd\"], [\"\\u0391\\u03c6\\u03b3\\u03b1\\u03bd\\u03b9\\u03c3\\u03c4\\u03ac\\u03bd\"], [\"\\u0391\\u03c6\\u03b3\\u03b1\\u03bd\\u03b9\\u03c3\\u03c4\\u03ac\\u03bd\"], [\"\\u0391\\u03c6\\u03b3\\u03b1\\u03bd\\u03b9\\u03c3\\u03c4\\u03ac\\u03bd\"], [\"\\u0391\\u03c6\\u03b3\\u03b1\\u03bd\\u03b9\\u03c3\\u03c4\\u03ac\\u03bd\"], [\"\\u0391\\u03c6\\u03b3\\u03b1\\u03bd\\u03b9\\u03c3\\u03c4\\u03ac\\u03bd\"]], \"hoverlabel\": {\"namelength\": 0}, \"hovertemplate\": \"\\u03a7\\u03ce\\u03c1\\u03b1=%{customdata[0]}<br>\\u0391\\u03c1\\u03b9\\u03b8\\u03bc\\u03cc\\u03c2 \\u039a\\u03c1\\u03bf\\u03c5\\u03c3\\u03bc\\u03ac\\u03c4\\u03c9\\u03bd=%{y}\", \"legendgroup\": \"\\u0391\\u03c6\\u03b3\\u03b1\\u03bd\\u03b9\\u03c3\\u03c4\\u03ac\\u03bd\", \"line\": {\"color\": \"rgb(189,189,189)\", \"dash\": \"solid\", \"shape\": \"spline\"}, \"mode\": \"lines\", \"name\": \"\\u0391\\u03c6\\u03b3\\u03b1\\u03bd\\u03b9\\u03c3\\u03c4\\u03ac\\u03bd\", \"showlegend\": true, \"type\": \"scatter\", \"xaxis\": \"x\", \"y\": [110, 110, 120, 170, 174, 237, 273, 281, 299, 349, 367, 423, 444, 484, 521, 555, 607], \"yaxis\": \"y\"}, {\"customdata\": [[\"\\u0391\\u03bb\\u03b2\\u03b1\\u03bd\\u03af\\u03b1\"], [\"\\u0391\\u03bb\\u03b2\\u03b1\\u03bd\\u03af\\u03b1\"], [\"\\u0391\\u03bb\\u03b2\\u03b1\\u03bd\\u03af\\u03b1\"], [\"\\u0391\\u03bb\\u03b2\\u03b1\\u03bd\\u03af\\u03b1\"], [\"\\u0391\\u03bb\\u03b2\\u03b1\\u03bd\\u03af\\u03b1\"], [\"\\u0391\\u03bb\\u03b2\\u03b1\\u03bd\\u03af\\u03b1\"], [\"\\u0391\\u03bb\\u03b2\\u03b1\\u03bd\\u03af\\u03b1\"], [\"\\u0391\\u03bb\\u03b2\\u03b1\\u03bd\\u03af\\u03b1\"], [\"\\u0391\\u03bb\\u03b2\\u03b1\\u03bd\\u03af\\u03b1\"], [\"\\u0391\\u03bb\\u03b2\\u03b1\\u03bd\\u03af\\u03b1\"], [\"\\u0391\\u03bb\\u03b2\\u03b1\\u03bd\\u03af\\u03b1\"], [\"\\u0391\\u03bb\\u03b2\\u03b1\\u03bd\\u03af\\u03b1\"], [\"\\u0391\\u03bb\\u03b2\\u03b1\\u03bd\\u03af\\u03b1\"], [\"\\u0391\\u03bb\\u03b2\\u03b1\\u03bd\\u03af\\u03b1\"], [\"\\u0391\\u03bb\\u03b2\\u03b1\\u03bd\\u03af\\u03b1\"], [\"\\u0391\\u03bb\\u03b2\\u03b1\\u03bd\\u03af\\u03b1\"], [\"\\u0391\\u03bb\\u03b2\\u03b1\\u03bd\\u03af\\u03b1\"], [\"\\u0391\\u03bb\\u03b2\\u03b1\\u03bd\\u03af\\u03b1\"], [\"\\u0391\\u03bb\\u03b2\\u03b1\\u03bd\\u03af\\u03b1\"], [\"\\u0391\\u03bb\\u03b2\\u03b1\\u03bd\\u03af\\u03b1\"], [\"\\u0391\\u03bb\\u03b2\\u03b1\\u03bd\\u03af\\u03b1\"]], \"hoverlabel\": {\"namelength\": 0}, \"hovertemplate\": \"\\u03a7\\u03ce\\u03c1\\u03b1=%{customdata[0]}<br>\\u0391\\u03c1\\u03b9\\u03b8\\u03bc\\u03cc\\u03c2 \\u039a\\u03c1\\u03bf\\u03c5\\u03c3\\u03bc\\u03ac\\u03c4\\u03c9\\u03bd=%{y}\", \"legendgroup\": \"\\u0391\\u03bb\\u03b2\\u03b1\\u03bd\\u03af\\u03b1\", \"line\": {\"color\": \"rgb(189,189,189)\", \"dash\": \"solid\", \"shape\": \"spline\"}, \"mode\": \"lines\", \"name\": \"\\u0391\\u03bb\\u03b2\\u03b1\\u03bd\\u03af\\u03b1\", \"showlegend\": true, \"type\": \"scatter\", \"xaxis\": \"x\", \"y\": [104, 123, 146, 174, 186, 197, 212, 223, 243, 259, 277, 304, 333, 361, 377, 383, 400, 409, 416, 433, 446], \"yaxis\": \"y\"}, {\"customdata\": [[\"\\u0391\\u03bb\\u03b3\\u03b5\\u03c1\\u03af\\u03b1\"], [\"\\u0391\\u03bb\\u03b3\\u03b5\\u03c1\\u03af\\u03b1\"], [\"\\u0391\\u03bb\\u03b3\\u03b5\\u03c1\\u03af\\u03b1\"], [\"\\u0391\\u03bb\\u03b3\\u03b5\\u03c1\\u03af\\u03b1\"], [\"\\u0391\\u03bb\\u03b3\\u03b5\\u03c1\\u03af\\u03b1\"], [\"\\u0391\\u03bb\\u03b3\\u03b5\\u03c1\\u03af\\u03b1\"], [\"\\u0391\\u03bb\\u03b3\\u03b5\\u03c1\\u03af\\u03b1\"], [\"\\u0391\\u03bb\\u03b3\\u03b5\\u03c1\\u03af\\u03b1\"], [\"\\u0391\\u03bb\\u03b3\\u03b5\\u03c1\\u03af\\u03b1\"], [\"\\u0391\\u03bb\\u03b3\\u03b5\\u03c1\\u03af\\u03b1\"], [\"\\u0391\\u03bb\\u03b3\\u03b5\\u03c1\\u03af\\u03b1\"], [\"\\u0391\\u03bb\\u03b3\\u03b5\\u03c1\\u03af\\u03b1\"], [\"\\u0391\\u03bb\\u03b3\\u03b5\\u03c1\\u03af\\u03b1\"], [\"\\u0391\\u03bb\\u03b3\\u03b5\\u03c1\\u03af\\u03b1\"], [\"\\u0391\\u03bb\\u03b3\\u03b5\\u03c1\\u03af\\u03b1\"], [\"\\u0391\\u03bb\\u03b3\\u03b5\\u03c1\\u03af\\u03b1\"], [\"\\u0391\\u03bb\\u03b3\\u03b5\\u03c1\\u03af\\u03b1\"], [\"\\u0391\\u03bb\\u03b3\\u03b5\\u03c1\\u03af\\u03b1\"], [\"\\u0391\\u03bb\\u03b3\\u03b5\\u03c1\\u03af\\u03b1\"], [\"\\u0391\\u03bb\\u03b3\\u03b5\\u03c1\\u03af\\u03b1\"], [\"\\u0391\\u03bb\\u03b3\\u03b5\\u03c1\\u03af\\u03b1\"], [\"\\u0391\\u03bb\\u03b3\\u03b5\\u03c1\\u03af\\u03b1\"], [\"\\u0391\\u03bb\\u03b3\\u03b5\\u03c1\\u03af\\u03b1\"]], \"hoverlabel\": {\"namelength\": 0}, \"hovertemplate\": \"\\u03a7\\u03ce\\u03c1\\u03b1=%{customdata[0]}<br>\\u0391\\u03c1\\u03b9\\u03b8\\u03bc\\u03cc\\u03c2 \\u039a\\u03c1\\u03bf\\u03c5\\u03c3\\u03bc\\u03ac\\u03c4\\u03c9\\u03bd=%{y}\", \"legendgroup\": \"\\u0391\\u03bb\\u03b3\\u03b5\\u03c1\\u03af\\u03b1\", \"line\": {\"color\": \"rgb(189,189,189)\", \"dash\": \"solid\", \"shape\": \"spline\"}, \"mode\": \"lines\", \"name\": \"\\u0391\\u03bb\\u03b3\\u03b5\\u03c1\\u03af\\u03b1\", \"showlegend\": true, \"type\": \"scatter\", \"xaxis\": \"x\", \"y\": [139, 201, 230, 264, 302, 367, 409, 454, 511, 584, 716, 847, 986, 1171, 1251, 1320, 1423, 1468, 1572, 1666, 1761, 1825, 1914], \"yaxis\": \"y\"}, {\"customdata\": [[\"\\u0391\\u03bd\\u03b4\\u03cc\\u03c1\\u03c1\\u03b1\"], [\"\\u0391\\u03bd\\u03b4\\u03cc\\u03c1\\u03c1\\u03b1\"], [\"\\u0391\\u03bd\\u03b4\\u03cc\\u03c1\\u03c1\\u03b1\"], [\"\\u0391\\u03bd\\u03b4\\u03cc\\u03c1\\u03c1\\u03b1\"], [\"\\u0391\\u03bd\\u03b4\\u03cc\\u03c1\\u03c1\\u03b1\"], [\"\\u0391\\u03bd\\u03b4\\u03cc\\u03c1\\u03c1\\u03b1\"], [\"\\u0391\\u03bd\\u03b4\\u03cc\\u03c1\\u03c1\\u03b1\"], [\"\\u0391\\u03bd\\u03b4\\u03cc\\u03c1\\u03c1\\u03b1\"], [\"\\u0391\\u03bd\\u03b4\\u03cc\\u03c1\\u03c1\\u03b1\"], [\"\\u0391\\u03bd\\u03b4\\u03cc\\u03c1\\u03c1\\u03b1\"], [\"\\u0391\\u03bd\\u03b4\\u03cc\\u03c1\\u03c1\\u03b1\"], [\"\\u0391\\u03bd\\u03b4\\u03cc\\u03c1\\u03c1\\u03b1\"], [\"\\u0391\\u03bd\\u03b4\\u03cc\\u03c1\\u03c1\\u03b1\"], [\"\\u0391\\u03bd\\u03b4\\u03cc\\u03c1\\u03c1\\u03b1\"], [\"\\u0391\\u03bd\\u03b4\\u03cc\\u03c1\\u03c1\\u03b1\"], [\"\\u0391\\u03bd\\u03b4\\u03cc\\u03c1\\u03c1\\u03b1\"], [\"\\u0391\\u03bd\\u03b4\\u03cc\\u03c1\\u03c1\\u03b1\"], [\"\\u0391\\u03bd\\u03b4\\u03cc\\u03c1\\u03c1\\u03b1\"], [\"\\u0391\\u03bd\\u03b4\\u03cc\\u03c1\\u03c1\\u03b1\"], [\"\\u0391\\u03bd\\u03b4\\u03cc\\u03c1\\u03c1\\u03b1\"], [\"\\u0391\\u03bd\\u03b4\\u03cc\\u03c1\\u03c1\\u03b1\"], [\"\\u0391\\u03bd\\u03b4\\u03cc\\u03c1\\u03c1\\u03b1\"]], \"hoverlabel\": {\"namelength\": 0}, \"hovertemplate\": \"\\u03a7\\u03ce\\u03c1\\u03b1=%{customdata[0]}<br>\\u0391\\u03c1\\u03b9\\u03b8\\u03bc\\u03cc\\u03c2 \\u039a\\u03c1\\u03bf\\u03c5\\u03c3\\u03bc\\u03ac\\u03c4\\u03c9\\u03bd=%{y}\", \"legendgroup\": \"\\u0391\\u03bd\\u03b4\\u03cc\\u03c1\\u03c1\\u03b1\", \"line\": {\"color\": \"rgb(189,189,189)\", \"dash\": \"solid\", \"shape\": \"spline\"}, \"mode\": \"lines\", \"name\": \"\\u0391\\u03bd\\u03b4\\u03cc\\u03c1\\u03c1\\u03b1\", \"showlegend\": true, \"type\": \"scatter\", \"xaxis\": \"x\", \"y\": [113, 133, 164, 188, 224, 267, 308, 334, 370, 376, 390, 428, 439, 466, 501, 525, 545, 564, 583, 601, 601, 638], \"yaxis\": \"y\"}, {\"customdata\": [[\"\\u0391\\u03c1\\u03b3\\u03b5\\u03bd\\u03c4\\u03b9\\u03bd\\u03ae\"], [\"\\u0391\\u03c1\\u03b3\\u03b5\\u03bd\\u03c4\\u03b9\\u03bd\\u03ae\"], [\"\\u0391\\u03c1\\u03b3\\u03b5\\u03bd\\u03c4\\u03b9\\u03bd\\u03ae\"], [\"\\u0391\\u03c1\\u03b3\\u03b5\\u03bd\\u03c4\\u03b9\\u03bd\\u03ae\"], [\"\\u0391\\u03c1\\u03b3\\u03b5\\u03bd\\u03c4\\u03b9\\u03bd\\u03ae\"], [\"\\u0391\\u03c1\\u03b3\\u03b5\\u03bd\\u03c4\\u03b9\\u03bd\\u03ae\"], [\"\\u0391\\u03c1\\u03b3\\u03b5\\u03bd\\u03c4\\u03b9\\u03bd\\u03ae\"], [\"\\u0391\\u03c1\\u03b3\\u03b5\\u03bd\\u03c4\\u03b9\\u03bd\\u03ae\"], [\"\\u0391\\u03c1\\u03b3\\u03b5\\u03bd\\u03c4\\u03b9\\u03bd\\u03ae\"], [\"\\u0391\\u03c1\\u03b3\\u03b5\\u03bd\\u03c4\\u03b9\\u03bd\\u03ae\"], [\"\\u0391\\u03c1\\u03b3\\u03b5\\u03bd\\u03c4\\u03b9\\u03bd\\u03ae\"], [\"\\u0391\\u03c1\\u03b3\\u03b5\\u03bd\\u03c4\\u03b9\\u03bd\\u03ae\"], [\"\\u0391\\u03c1\\u03b3\\u03b5\\u03bd\\u03c4\\u03b9\\u03bd\\u03ae\"], [\"\\u0391\\u03c1\\u03b3\\u03b5\\u03bd\\u03c4\\u03b9\\u03bd\\u03ae\"], [\"\\u0391\\u03c1\\u03b3\\u03b5\\u03bd\\u03c4\\u03b9\\u03bd\\u03ae\"], [\"\\u0391\\u03c1\\u03b3\\u03b5\\u03bd\\u03c4\\u03b9\\u03bd\\u03ae\"], [\"\\u0391\\u03c1\\u03b3\\u03b5\\u03bd\\u03c4\\u03b9\\u03bd\\u03ae\"], [\"\\u0391\\u03c1\\u03b3\\u03b5\\u03bd\\u03c4\\u03b9\\u03bd\\u03ae\"], [\"\\u0391\\u03c1\\u03b3\\u03b5\\u03bd\\u03c4\\u03b9\\u03bd\\u03ae\"], [\"\\u0391\\u03c1\\u03b3\\u03b5\\u03bd\\u03c4\\u03b9\\u03bd\\u03ae\"], [\"\\u0391\\u03c1\\u03b3\\u03b5\\u03bd\\u03c4\\u03b9\\u03bd\\u03ae\"], [\"\\u0391\\u03c1\\u03b3\\u03b5\\u03bd\\u03c4\\u03b9\\u03bd\\u03ae\"], [\"\\u0391\\u03c1\\u03b3\\u03b5\\u03bd\\u03c4\\u03b9\\u03bd\\u03ae\"], [\"\\u0391\\u03c1\\u03b3\\u03b5\\u03bd\\u03c4\\u03b9\\u03bd\\u03ae\"]], \"hoverlabel\": {\"namelength\": 0}, \"hovertemplate\": \"\\u03a7\\u03ce\\u03c1\\u03b1=%{customdata[0]}<br>\\u0391\\u03c1\\u03b9\\u03b8\\u03bc\\u03cc\\u03c2 \\u039a\\u03c1\\u03bf\\u03c5\\u03c3\\u03bc\\u03ac\\u03c4\\u03c9\\u03bd=%{y}\", \"legendgroup\": \"\\u0391\\u03c1\\u03b3\\u03b5\\u03bd\\u03c4\\u03b9\\u03bd\\u03ae\", \"line\": {\"color\": \"rgb(189,189,189)\", \"dash\": \"solid\", \"shape\": \"spline\"}, \"mode\": \"lines\", \"name\": \"\\u0391\\u03c1\\u03b3\\u03b5\\u03bd\\u03c4\\u03b9\\u03bd\\u03ae\", \"showlegend\": true, \"type\": \"scatter\", \"xaxis\": \"x\", \"y\": [128, 158, 266, 301, 387, 387, 502, 589, 690, 745, 820, 1054, 1054, 1133, 1265, 1451, 1451, 1554, 1628, 1715, 1795, 1975, 1975, 2142], \"yaxis\": \"y\"}, {\"customdata\": [[\"\\u0391\\u03c1\\u03bc\\u03b5\\u03bd\\u03af\\u03b1\"], [\"\\u0391\\u03c1\\u03bc\\u03b5\\u03bd\\u03af\\u03b1\"], [\"\\u0391\\u03c1\\u03bc\\u03b5\\u03bd\\u03af\\u03b1\"], [\"\\u0391\\u03c1\\u03bc\\u03b5\\u03bd\\u03af\\u03b1\"], [\"\\u0391\\u03c1\\u03bc\\u03b5\\u03bd\\u03af\\u03b1\"], [\"\\u0391\\u03c1\\u03bc\\u03b5\\u03bd\\u03af\\u03b1\"], [\"\\u0391\\u03c1\\u03bc\\u03b5\\u03bd\\u03af\\u03b1\"], [\"\\u0391\\u03c1\\u03bc\\u03b5\\u03bd\\u03af\\u03b1\"], [\"\\u0391\\u03c1\\u03bc\\u03b5\\u03bd\\u03af\\u03b1\"], [\"\\u0391\\u03c1\\u03bc\\u03b5\\u03bd\\u03af\\u03b1\"], [\"\\u0391\\u03c1\\u03bc\\u03b5\\u03bd\\u03af\\u03b1\"], [\"\\u0391\\u03c1\\u03bc\\u03b5\\u03bd\\u03af\\u03b1\"], [\"\\u0391\\u03c1\\u03bc\\u03b5\\u03bd\\u03af\\u03b1\"], [\"\\u0391\\u03c1\\u03bc\\u03b5\\u03bd\\u03af\\u03b1\"], [\"\\u0391\\u03c1\\u03bc\\u03b5\\u03bd\\u03af\\u03b1\"], [\"\\u0391\\u03c1\\u03bc\\u03b5\\u03bd\\u03af\\u03b1\"], [\"\\u0391\\u03c1\\u03bc\\u03b5\\u03bd\\u03af\\u03b1\"], [\"\\u0391\\u03c1\\u03bc\\u03b5\\u03bd\\u03af\\u03b1\"], [\"\\u0391\\u03c1\\u03bc\\u03b5\\u03bd\\u03af\\u03b1\"], [\"\\u0391\\u03c1\\u03bc\\u03b5\\u03bd\\u03af\\u03b1\"], [\"\\u0391\\u03c1\\u03bc\\u03b5\\u03bd\\u03af\\u03b1\"], [\"\\u0391\\u03c1\\u03bc\\u03b5\\u03bd\\u03af\\u03b1\"], [\"\\u0391\\u03c1\\u03bc\\u03b5\\u03bd\\u03af\\u03b1\"], [\"\\u0391\\u03c1\\u03bc\\u03b5\\u03bd\\u03af\\u03b1\"], [\"\\u0391\\u03c1\\u03bc\\u03b5\\u03bd\\u03af\\u03b1\"]], \"hoverlabel\": {\"namelength\": 0}, \"hovertemplate\": \"\\u03a7\\u03ce\\u03c1\\u03b1=%{customdata[0]}<br>\\u0391\\u03c1\\u03b9\\u03b8\\u03bc\\u03cc\\u03c2 \\u039a\\u03c1\\u03bf\\u03c5\\u03c3\\u03bc\\u03ac\\u03c4\\u03c9\\u03bd=%{y}\", \"legendgroup\": \"\\u0391\\u03c1\\u03bc\\u03b5\\u03bd\\u03af\\u03b1\", \"line\": {\"color\": \"rgb(189,189,189)\", \"dash\": \"solid\", \"shape\": \"spline\"}, \"mode\": \"lines\", \"name\": \"\\u0391\\u03c1\\u03bc\\u03b5\\u03bd\\u03af\\u03b1\", \"showlegend\": true, \"type\": \"scatter\", \"xaxis\": \"x\", \"y\": [115, 136, 160, 194, 235, 249, 265, 290, 329, 407, 424, 482, 532, 571, 663, 736, 770, 822, 833, 853, 881, 921, 937, 967, 1013], \"yaxis\": \"y\"}, {\"customdata\": [[\"\\u0391\\u03c5\\u03c3\\u03c4\\u03c1\\u03b1\\u03bb\\u03af\\u03b1\"], [\"\\u0391\\u03c5\\u03c3\\u03c4\\u03c1\\u03b1\\u03bb\\u03af\\u03b1\"], [\"\\u0391\\u03c5\\u03c3\\u03c4\\u03c1\\u03b1\\u03bb\\u03af\\u03b1\"], [\"\\u0391\\u03c5\\u03c3\\u03c4\\u03c1\\u03b1\\u03bb\\u03af\\u03b1\"], [\"\\u0391\\u03c5\\u03c3\\u03c4\\u03c1\\u03b1\\u03bb\\u03af\\u03b1\"], [\"\\u0391\\u03c5\\u03c3\\u03c4\\u03c1\\u03b1\\u03bb\\u03af\\u03b1\"], [\"\\u0391\\u03c5\\u03c3\\u03c4\\u03c1\\u03b1\\u03bb\\u03af\\u03b1\"], [\"\\u0391\\u03c5\\u03c3\\u03c4\\u03c1\\u03b1\\u03bb\\u03af\\u03b1\"], [\"\\u0391\\u03c5\\u03c3\\u03c4\\u03c1\\u03b1\\u03bb\\u03af\\u03b1\"], [\"\\u0391\\u03c5\\u03c3\\u03c4\\u03c1\\u03b1\\u03bb\\u03af\\u03b1\"], [\"\\u0391\\u03c5\\u03c3\\u03c4\\u03c1\\u03b1\\u03bb\\u03af\\u03b1\"], [\"\\u0391\\u03c5\\u03c3\\u03c4\\u03c1\\u03b1\\u03bb\\u03af\\u03b1\"], [\"\\u0391\\u03c5\\u03c3\\u03c4\\u03c1\\u03b1\\u03bb\\u03af\\u03b1\"], [\"\\u0391\\u03c5\\u03c3\\u03c4\\u03c1\\u03b1\\u03bb\\u03af\\u03b1\"], [\"\\u0391\\u03c5\\u03c3\\u03c4\\u03c1\\u03b1\\u03bb\\u03af\\u03b1\"], [\"\\u0391\\u03c5\\u03c3\\u03c4\\u03c1\\u03b1\\u03bb\\u03af\\u03b1\"], [\"\\u0391\\u03c5\\u03c3\\u03c4\\u03c1\\u03b1\\u03bb\\u03af\\u03b1\"], [\"\\u0391\\u03c5\\u03c3\\u03c4\\u03c1\\u03b1\\u03bb\\u03af\\u03b1\"], [\"\\u0391\\u03c5\\u03c3\\u03c4\\u03c1\\u03b1\\u03bb\\u03af\\u03b1\"], [\"\\u0391\\u03c5\\u03c3\\u03c4\\u03c1\\u03b1\\u03bb\\u03af\\u03b1\"], [\"\\u0391\\u03c5\\u03c3\\u03c4\\u03c1\\u03b1\\u03bb\\u03af\\u03b1\"], [\"\\u0391\\u03c5\\u03c3\\u03c4\\u03c1\\u03b1\\u03bb\\u03af\\u03b1\"], [\"\\u0391\\u03c5\\u03c3\\u03c4\\u03c1\\u03b1\\u03bb\\u03af\\u03b1\"], [\"\\u0391\\u03c5\\u03c3\\u03c4\\u03c1\\u03b1\\u03bb\\u03af\\u03b1\"], [\"\\u0391\\u03c5\\u03c3\\u03c4\\u03c1\\u03b1\\u03bb\\u03af\\u03b1\"], [\"\\u0391\\u03c5\\u03c3\\u03c4\\u03c1\\u03b1\\u03bb\\u03af\\u03b1\"], [\"\\u0391\\u03c5\\u03c3\\u03c4\\u03c1\\u03b1\\u03bb\\u03af\\u03b1\"], [\"\\u0391\\u03c5\\u03c3\\u03c4\\u03c1\\u03b1\\u03bb\\u03af\\u03b1\"], [\"\\u0391\\u03c5\\u03c3\\u03c4\\u03c1\\u03b1\\u03bb\\u03af\\u03b1\"], [\"\\u0391\\u03c5\\u03c3\\u03c4\\u03c1\\u03b1\\u03bb\\u03af\\u03b1\"], [\"\\u0391\\u03c5\\u03c3\\u03c4\\u03c1\\u03b1\\u03bb\\u03af\\u03b1\"], [\"\\u0391\\u03c5\\u03c3\\u03c4\\u03c1\\u03b1\\u03bb\\u03af\\u03b1\"], [\"\\u0391\\u03c5\\u03c3\\u03c4\\u03c1\\u03b1\\u03bb\\u03af\\u03b1\"], [\"\\u0391\\u03c5\\u03c3\\u03c4\\u03c1\\u03b1\\u03bb\\u03af\\u03b1\"]], \"hoverlabel\": {\"namelength\": 0}, \"hovertemplate\": \"\\u03a7\\u03ce\\u03c1\\u03b1=%{customdata[0]}<br>\\u0391\\u03c1\\u03b9\\u03b8\\u03bc\\u03cc\\u03c2 \\u039a\\u03c1\\u03bf\\u03c5\\u03c3\\u03bc\\u03ac\\u03c4\\u03c9\\u03bd=%{y}\", \"legendgroup\": \"\\u0391\\u03c5\\u03c3\\u03c4\\u03c1\\u03b1\\u03bb\\u03af\\u03b1\", \"line\": {\"color\": \"rgb(189,189,189)\", \"dash\": \"solid\", \"shape\": \"spline\"}, \"mode\": \"lines\", \"name\": \"\\u0391\\u03c5\\u03c3\\u03c4\\u03c1\\u03b1\\u03bb\\u03af\\u03b1\", \"showlegend\": true, \"type\": \"scatter\", \"xaxis\": \"x\", \"y\": [107, 128, 128, 200, 250, 297, 377, 452, 568, 681, 791, 1071, 1549, 1682, 2044, 2364, 2810, 3143, 3640, 3984, 4361, 4559, 4862, 5116, 5330, 5550, 5687, 5797, 5895, 6010, 6108, 6215, 6303, 6315], \"yaxis\": \"y\"}, {\"customdata\": [[\"\\u0391\\u03c5\\u03c3\\u03c4\\u03c1\\u03af\\u03b1\"], [\"\\u0391\\u03c5\\u03c3\\u03c4\\u03c1\\u03af\\u03b1\"], [\"\\u0391\\u03c5\\u03c3\\u03c4\\u03c1\\u03af\\u03b1\"], [\"\\u0391\\u03c5\\u03c3\\u03c4\\u03c1\\u03af\\u03b1\"], [\"\\u0391\\u03c5\\u03c3\\u03c4\\u03c1\\u03af\\u03b1\"], [\"\\u0391\\u03c5\\u03c3\\u03c4\\u03c1\\u03af\\u03b1\"], [\"\\u0391\\u03c5\\u03c3\\u03c4\\u03c1\\u03af\\u03b1\"], [\"\\u0391\\u03c5\\u03c3\\u03c4\\u03c1\\u03af\\u03b1\"], [\"\\u0391\\u03c5\\u03c3\\u03c4\\u03c1\\u03af\\u03b1\"], [\"\\u0391\\u03c5\\u03c3\\u03c4\\u03c1\\u03af\\u03b1\"], [\"\\u0391\\u03c5\\u03c3\\u03c4\\u03c1\\u03af\\u03b1\"], [\"\\u0391\\u03c5\\u03c3\\u03c4\\u03c1\\u03af\\u03b1\"], [\"\\u0391\\u03c5\\u03c3\\u03c4\\u03c1\\u03af\\u03b1\"], [\"\\u0391\\u03c5\\u03c3\\u03c4\\u03c1\\u03af\\u03b1\"], [\"\\u0391\\u03c5\\u03c3\\u03c4\\u03c1\\u03af\\u03b1\"], [\"\\u0391\\u03c5\\u03c3\\u03c4\\u03c1\\u03af\\u03b1\"], [\"\\u0391\\u03c5\\u03c3\\u03c4\\u03c1\\u03af\\u03b1\"], [\"\\u0391\\u03c5\\u03c3\\u03c4\\u03c1\\u03af\\u03b1\"], [\"\\u0391\\u03c5\\u03c3\\u03c4\\u03c1\\u03af\\u03b1\"], [\"\\u0391\\u03c5\\u03c3\\u03c4\\u03c1\\u03af\\u03b1\"], [\"\\u0391\\u03c5\\u03c3\\u03c4\\u03c1\\u03af\\u03b1\"], [\"\\u0391\\u03c5\\u03c3\\u03c4\\u03c1\\u03af\\u03b1\"], [\"\\u0391\\u03c5\\u03c3\\u03c4\\u03c1\\u03af\\u03b1\"], [\"\\u0391\\u03c5\\u03c3\\u03c4\\u03c1\\u03af\\u03b1\"], [\"\\u0391\\u03c5\\u03c3\\u03c4\\u03c1\\u03af\\u03b1\"], [\"\\u0391\\u03c5\\u03c3\\u03c4\\u03c1\\u03af\\u03b1\"], [\"\\u0391\\u03c5\\u03c3\\u03c4\\u03c1\\u03af\\u03b1\"], [\"\\u0391\\u03c5\\u03c3\\u03c4\\u03c1\\u03af\\u03b1\"], [\"\\u0391\\u03c5\\u03c3\\u03c4\\u03c1\\u03af\\u03b1\"], [\"\\u0391\\u03c5\\u03c3\\u03c4\\u03c1\\u03af\\u03b1\"], [\"\\u0391\\u03c5\\u03c3\\u03c4\\u03c1\\u03af\\u03b1\"], [\"\\u0391\\u03c5\\u03c3\\u03c4\\u03c1\\u03af\\u03b1\"], [\"\\u0391\\u03c5\\u03c3\\u03c4\\u03c1\\u03af\\u03b1\"], [\"\\u0391\\u03c5\\u03c3\\u03c4\\u03c1\\u03af\\u03b1\"], [\"\\u0391\\u03c5\\u03c3\\u03c4\\u03c1\\u03af\\u03b1\"], [\"\\u0391\\u03c5\\u03c3\\u03c4\\u03c1\\u03af\\u03b1\"]], \"hoverlabel\": {\"namelength\": 0}, \"hovertemplate\": \"\\u03a7\\u03ce\\u03c1\\u03b1=%{customdata[0]}<br>\\u0391\\u03c1\\u03b9\\u03b8\\u03bc\\u03cc\\u03c2 \\u039a\\u03c1\\u03bf\\u03c5\\u03c3\\u03bc\\u03ac\\u03c4\\u03c9\\u03bd=%{y}\", \"legendgroup\": \"\\u0391\\u03c5\\u03c3\\u03c4\\u03c1\\u03af\\u03b1\", \"line\": {\"color\": \"rgb(189,189,189)\", \"dash\": \"solid\", \"shape\": \"spline\"}, \"mode\": \"lines\", \"name\": \"\\u0391\\u03c5\\u03c3\\u03c4\\u03c1\\u03af\\u03b1\", \"showlegend\": true, \"type\": \"scatter\", \"xaxis\": \"x\", \"y\": [104, 131, 182, 246, 302, 504, 655, 860, 1018, 1332, 1646, 2013, 2388, 2814, 3582, 4474, 5283, 5588, 6909, 7657, 8271, 8788, 9618, 10180, 10711, 11129, 11524, 11781, 12051, 12297, 12639, 12942, 13244, 13555, 13806, 13945], \"yaxis\": \"y\"}, {\"customdata\": [[\"\\u0391\\u03b6\\u03b5\\u03c1\\u03bc\\u03c0\\u03b1\\u03ca\\u03c4\\u03b6\\u03ac\\u03bd\"], [\"\\u0391\\u03b6\\u03b5\\u03c1\\u03bc\\u03c0\\u03b1\\u03ca\\u03c4\\u03b6\\u03ac\\u03bd\"], [\"\\u0391\\u03b6\\u03b5\\u03c1\\u03bc\\u03c0\\u03b1\\u03ca\\u03c4\\u03b6\\u03ac\\u03bd\"], [\"\\u0391\\u03b6\\u03b5\\u03c1\\u03bc\\u03c0\\u03b1\\u03ca\\u03c4\\u03b6\\u03ac\\u03bd\"], [\"\\u0391\\u03b6\\u03b5\\u03c1\\u03bc\\u03c0\\u03b1\\u03ca\\u03c4\\u03b6\\u03ac\\u03bd\"], [\"\\u0391\\u03b6\\u03b5\\u03c1\\u03bc\\u03c0\\u03b1\\u03ca\\u03c4\\u03b6\\u03ac\\u03bd\"], [\"\\u0391\\u03b6\\u03b5\\u03c1\\u03bc\\u03c0\\u03b1\\u03ca\\u03c4\\u03b6\\u03ac\\u03bd\"], [\"\\u0391\\u03b6\\u03b5\\u03c1\\u03bc\\u03c0\\u03b1\\u03ca\\u03c4\\u03b6\\u03ac\\u03bd\"], [\"\\u0391\\u03b6\\u03b5\\u03c1\\u03bc\\u03c0\\u03b1\\u03ca\\u03c4\\u03b6\\u03ac\\u03bd\"], [\"\\u0391\\u03b6\\u03b5\\u03c1\\u03bc\\u03c0\\u03b1\\u03ca\\u03c4\\u03b6\\u03ac\\u03bd\"], [\"\\u0391\\u03b6\\u03b5\\u03c1\\u03bc\\u03c0\\u03b1\\u03ca\\u03c4\\u03b6\\u03ac\\u03bd\"], [\"\\u0391\\u03b6\\u03b5\\u03c1\\u03bc\\u03c0\\u03b1\\u03ca\\u03c4\\u03b6\\u03ac\\u03bd\"], [\"\\u0391\\u03b6\\u03b5\\u03c1\\u03bc\\u03c0\\u03b1\\u03ca\\u03c4\\u03b6\\u03ac\\u03bd\"], [\"\\u0391\\u03b6\\u03b5\\u03c1\\u03bc\\u03c0\\u03b1\\u03ca\\u03c4\\u03b6\\u03ac\\u03bd\"], [\"\\u0391\\u03b6\\u03b5\\u03c1\\u03bc\\u03c0\\u03b1\\u03ca\\u03c4\\u03b6\\u03ac\\u03bd\"], [\"\\u0391\\u03b6\\u03b5\\u03c1\\u03bc\\u03c0\\u03b1\\u03ca\\u03c4\\u03b6\\u03ac\\u03bd\"], [\"\\u0391\\u03b6\\u03b5\\u03c1\\u03bc\\u03c0\\u03b1\\u03ca\\u03c4\\u03b6\\u03ac\\u03bd\"], [\"\\u0391\\u03b6\\u03b5\\u03c1\\u03bc\\u03c0\\u03b1\\u03ca\\u03c4\\u03b6\\u03ac\\u03bd\"]], \"hoverlabel\": {\"namelength\": 0}, \"hovertemplate\": \"\\u03a7\\u03ce\\u03c1\\u03b1=%{customdata[0]}<br>\\u0391\\u03c1\\u03b9\\u03b8\\u03bc\\u03cc\\u03c2 \\u039a\\u03c1\\u03bf\\u03c5\\u03c3\\u03bc\\u03ac\\u03c4\\u03c9\\u03bd=%{y}\", \"legendgroup\": \"\\u0391\\u03b6\\u03b5\\u03c1\\u03bc\\u03c0\\u03b1\\u03ca\\u03c4\\u03b6\\u03ac\\u03bd\", \"line\": {\"color\": \"rgb(189,189,189)\", \"dash\": \"solid\", \"shape\": \"spline\"}, \"mode\": \"lines\", \"name\": \"\\u0391\\u03b6\\u03b5\\u03c1\\u03bc\\u03c0\\u03b1\\u03ca\\u03c4\\u03b6\\u03ac\\u03bd\", \"showlegend\": true, \"type\": \"scatter\", \"xaxis\": \"x\", \"y\": [122, 165, 182, 209, 273, 298, 359, 400, 443, 521, 584, 641, 717, 822, 926, 991, 1058, 1098], \"yaxis\": \"y\"}, {\"customdata\": [[\"\\u039c\\u03c0\\u03b1\\u03c7\\u03c1\\u03ad\\u03b9\\u03bd\"], [\"\\u039c\\u03c0\\u03b1\\u03c7\\u03c1\\u03ad\\u03b9\\u03bd\"], [\"\\u039c\\u03c0\\u03b1\\u03c7\\u03c1\\u03ad\\u03b9\\u03bd\"], [\"\\u039c\\u03c0\\u03b1\\u03c7\\u03c1\\u03ad\\u03b9\\u03bd\"], [\"\\u039c\\u03c0\\u03b1\\u03c7\\u03c1\\u03ad\\u03b9\\u03bd\"], [\"\\u039c\\u03c0\\u03b1\\u03c7\\u03c1\\u03ad\\u03b9\\u03bd\"], [\"\\u039c\\u03c0\\u03b1\\u03c7\\u03c1\\u03ad\\u03b9\\u03bd\"], [\"\\u039c\\u03c0\\u03b1\\u03c7\\u03c1\\u03ad\\u03b9\\u03bd\"], [\"\\u039c\\u03c0\\u03b1\\u03c7\\u03c1\\u03ad\\u03b9\\u03bd\"], [\"\\u039c\\u03c0\\u03b1\\u03c7\\u03c1\\u03ad\\u03b9\\u03bd\"], [\"\\u039c\\u03c0\\u03b1\\u03c7\\u03c1\\u03ad\\u03b9\\u03bd\"], [\"\\u039c\\u03c0\\u03b1\\u03c7\\u03c1\\u03ad\\u03b9\\u03bd\"], [\"\\u039c\\u03c0\\u03b1\\u03c7\\u03c1\\u03ad\\u03b9\\u03bd\"], [\"\\u039c\\u03c0\\u03b1\\u03c7\\u03c1\\u03ad\\u03b9\\u03bd\"], [\"\\u039c\\u03c0\\u03b1\\u03c7\\u03c1\\u03ad\\u03b9\\u03bd\"], [\"\\u039c\\u03c0\\u03b1\\u03c7\\u03c1\\u03ad\\u03b9\\u03bd\"], [\"\\u039c\\u03c0\\u03b1\\u03c7\\u03c1\\u03ad\\u03b9\\u03bd\"], [\"\\u039c\\u03c0\\u03b1\\u03c7\\u03c1\\u03ad\\u03b9\\u03bd\"], [\"\\u039c\\u03c0\\u03b1\\u03c7\\u03c1\\u03ad\\u03b9\\u03bd\"], [\"\\u039c\\u03c0\\u03b1\\u03c7\\u03c1\\u03ad\\u03b9\\u03bd\"], [\"\\u039c\\u03c0\\u03b1\\u03c7\\u03c1\\u03ad\\u03b9\\u03bd\"], [\"\\u039c\\u03c0\\u03b1\\u03c7\\u03c1\\u03ad\\u03b9\\u03bd\"], [\"\\u039c\\u03c0\\u03b1\\u03c7\\u03c1\\u03ad\\u03b9\\u03bd\"], [\"\\u039c\\u03c0\\u03b1\\u03c7\\u03c1\\u03ad\\u03b9\\u03bd\"], [\"\\u039c\\u03c0\\u03b1\\u03c7\\u03c1\\u03ad\\u03b9\\u03bd\"], [\"\\u039c\\u03c0\\u03b1\\u03c7\\u03c1\\u03ad\\u03b9\\u03bd\"], [\"\\u039c\\u03c0\\u03b1\\u03c7\\u03c1\\u03ad\\u03b9\\u03bd\"], [\"\\u039c\\u03c0\\u03b1\\u03c7\\u03c1\\u03ad\\u03b9\\u03bd\"], [\"\\u039c\\u03c0\\u03b1\\u03c7\\u03c1\\u03ad\\u03b9\\u03bd\"], [\"\\u039c\\u03c0\\u03b1\\u03c7\\u03c1\\u03ad\\u03b9\\u03bd\"], [\"\\u039c\\u03c0\\u03b1\\u03c7\\u03c1\\u03ad\\u03b9\\u03bd\"], [\"\\u039c\\u03c0\\u03b1\\u03c7\\u03c1\\u03ad\\u03b9\\u03bd\"], [\"\\u039c\\u03c0\\u03b1\\u03c7\\u03c1\\u03ad\\u03b9\\u03bd\"], [\"\\u039c\\u03c0\\u03b1\\u03c7\\u03c1\\u03ad\\u03b9\\u03bd\"]], \"hoverlabel\": {\"namelength\": 0}, \"hovertemplate\": \"\\u03a7\\u03ce\\u03c1\\u03b1=%{customdata[0]}<br>\\u0391\\u03c1\\u03b9\\u03b8\\u03bc\\u03cc\\u03c2 \\u039a\\u03c1\\u03bf\\u03c5\\u03c3\\u03bc\\u03ac\\u03c4\\u03c9\\u03bd=%{y}\", \"legendgroup\": \"\\u039c\\u03c0\\u03b1\\u03c7\\u03c1\\u03ad\\u03b9\\u03bd\", \"line\": {\"color\": \"rgb(189,189,189)\", \"dash\": \"solid\", \"shape\": \"spline\"}, \"mode\": \"lines\", \"name\": \"\\u039c\\u03c0\\u03b1\\u03c7\\u03c1\\u03ad\\u03b9\\u03bd\", \"showlegend\": true, \"type\": \"scatter\", \"xaxis\": \"x\", \"y\": [110, 195, 195, 195, 210, 214, 214, 228, 256, 278, 285, 305, 334, 377, 392, 419, 458, 466, 476, 499, 515, 567, 569, 643, 672, 688, 700, 756, 811, 823, 887, 925, 1040, 1136], \"yaxis\": \"y\"}, {\"customdata\": [[\"\\u039c\\u03c0\\u03b1\\u03bd\\u03b3\\u03ba\\u03bb\\u03b1\\u03bd\\u03c4\\u03ad\\u03c2\"], [\"\\u039c\\u03c0\\u03b1\\u03bd\\u03b3\\u03ba\\u03bb\\u03b1\\u03bd\\u03c4\\u03ad\\u03c2\"], [\"\\u039c\\u03c0\\u03b1\\u03bd\\u03b3\\u03ba\\u03bb\\u03b1\\u03bd\\u03c4\\u03ad\\u03c2\"], [\"\\u039c\\u03c0\\u03b1\\u03bd\\u03b3\\u03ba\\u03bb\\u03b1\\u03bd\\u03c4\\u03ad\\u03c2\"], [\"\\u039c\\u03c0\\u03b1\\u03bd\\u03b3\\u03ba\\u03bb\\u03b1\\u03bd\\u03c4\\u03ad\\u03c2\"], [\"\\u039c\\u03c0\\u03b1\\u03bd\\u03b3\\u03ba\\u03bb\\u03b1\\u03bd\\u03c4\\u03ad\\u03c2\"], [\"\\u039c\\u03c0\\u03b1\\u03bd\\u03b3\\u03ba\\u03bb\\u03b1\\u03bd\\u03c4\\u03ad\\u03c2\"]], \"hoverlabel\": {\"namelength\": 0}, \"hovertemplate\": \"\\u03a7\\u03ce\\u03c1\\u03b1=%{customdata[0]}<br>\\u0391\\u03c1\\u03b9\\u03b8\\u03bc\\u03cc\\u03c2 \\u039a\\u03c1\\u03bf\\u03c5\\u03c3\\u03bc\\u03ac\\u03c4\\u03c9\\u03bd=%{y}\", \"legendgroup\": \"\\u039c\\u03c0\\u03b1\\u03bd\\u03b3\\u03ba\\u03bb\\u03b1\\u03bd\\u03c4\\u03ad\\u03c2\", \"line\": {\"color\": \"rgb(189,189,189)\", \"dash\": \"solid\", \"shape\": \"spline\"}, \"mode\": \"lines\", \"name\": \"\\u039c\\u03c0\\u03b1\\u03bd\\u03b3\\u03ba\\u03bb\\u03b1\\u03bd\\u03c4\\u03ad\\u03c2\", \"showlegend\": true, \"type\": \"scatter\", \"xaxis\": \"x\", \"y\": [123, 164, 218, 330, 424, 482, 621], \"yaxis\": \"y\"}, {\"customdata\": [[\"\\u039b\\u03b5\\u03c5\\u03ba\\u03bf\\u03c1\\u03c9\\u03c3\\u03af\\u03b1\"], [\"\\u039b\\u03b5\\u03c5\\u03ba\\u03bf\\u03c1\\u03c9\\u03c3\\u03af\\u03b1\"], [\"\\u039b\\u03b5\\u03c5\\u03ba\\u03bf\\u03c1\\u03c9\\u03c3\\u03af\\u03b1\"], [\"\\u039b\\u03b5\\u03c5\\u03ba\\u03bf\\u03c1\\u03c9\\u03c3\\u03af\\u03b1\"], [\"\\u039b\\u03b5\\u03c5\\u03ba\\u03bf\\u03c1\\u03c9\\u03c3\\u03af\\u03b1\"], [\"\\u039b\\u03b5\\u03c5\\u03ba\\u03bf\\u03c1\\u03c9\\u03c3\\u03af\\u03b1\"], [\"\\u039b\\u03b5\\u03c5\\u03ba\\u03bf\\u03c1\\u03c9\\u03c3\\u03af\\u03b1\"], [\"\\u039b\\u03b5\\u03c5\\u03ba\\u03bf\\u03c1\\u03c9\\u03c3\\u03af\\u03b1\"], [\"\\u039b\\u03b5\\u03c5\\u03ba\\u03bf\\u03c1\\u03c9\\u03c3\\u03af\\u03b1\"], [\"\\u039b\\u03b5\\u03c5\\u03ba\\u03bf\\u03c1\\u03c9\\u03c3\\u03af\\u03b1\"], [\"\\u039b\\u03b5\\u03c5\\u03ba\\u03bf\\u03c1\\u03c9\\u03c3\\u03af\\u03b1\"], [\"\\u039b\\u03b5\\u03c5\\u03ba\\u03bf\\u03c1\\u03c9\\u03c3\\u03af\\u03b1\"], [\"\\u039b\\u03b5\\u03c5\\u03ba\\u03bf\\u03c1\\u03c9\\u03c3\\u03af\\u03b1\"], [\"\\u039b\\u03b5\\u03c5\\u03ba\\u03bf\\u03c1\\u03c9\\u03c3\\u03af\\u03b1\"]], \"hoverlabel\": {\"namelength\": 0}, \"hovertemplate\": \"\\u03a7\\u03ce\\u03c1\\u03b1=%{customdata[0]}<br>\\u0391\\u03c1\\u03b9\\u03b8\\u03bc\\u03cc\\u03c2 \\u039a\\u03c1\\u03bf\\u03c5\\u03c3\\u03bc\\u03ac\\u03c4\\u03c9\\u03bd=%{y}\", \"legendgroup\": \"\\u039b\\u03b5\\u03c5\\u03ba\\u03bf\\u03c1\\u03c9\\u03c3\\u03af\\u03b1\", \"line\": {\"color\": \"rgb(189,189,189)\", \"dash\": \"solid\", \"shape\": \"spline\"}, \"mode\": \"lines\", \"name\": \"\\u039b\\u03b5\\u03c5\\u03ba\\u03bf\\u03c1\\u03c9\\u03c3\\u03af\\u03b1\", \"showlegend\": true, \"type\": \"scatter\", \"xaxis\": \"x\", \"y\": [152, 152, 163, 304, 351, 440, 562, 700, 861, 1066, 1486, 1981, 2226, 2578], \"yaxis\": \"y\"}, {\"customdata\": [[\"\\u0392\\u03ad\\u03bb\\u03b3\\u03b9\\u03bf\"], [\"\\u0392\\u03ad\\u03bb\\u03b3\\u03b9\\u03bf\"], [\"\\u0392\\u03ad\\u03bb\\u03b3\\u03b9\\u03bf\"], [\"\\u0392\\u03ad\\u03bb\\u03b3\\u03b9\\u03bf\"], [\"\\u0392\\u03ad\\u03bb\\u03b3\\u03b9\\u03bf\"], [\"\\u0392\\u03ad\\u03bb\\u03b3\\u03b9\\u03bf\"], [\"\\u0392\\u03ad\\u03bb\\u03b3\\u03b9\\u03bf\"], [\"\\u0392\\u03ad\\u03bb\\u03b3\\u03b9\\u03bf\"], [\"\\u0392\\u03ad\\u03bb\\u03b3\\u03b9\\u03bf\"], [\"\\u0392\\u03ad\\u03bb\\u03b3\\u03b9\\u03bf\"], [\"\\u0392\\u03ad\\u03bb\\u03b3\\u03b9\\u03bf\"], [\"\\u0392\\u03ad\\u03bb\\u03b3\\u03b9\\u03bf\"], [\"\\u0392\\u03ad\\u03bb\\u03b3\\u03b9\\u03bf\"], [\"\\u0392\\u03ad\\u03bb\\u03b3\\u03b9\\u03bf\"], [\"\\u0392\\u03ad\\u03bb\\u03b3\\u03b9\\u03bf\"], [\"\\u0392\\u03ad\\u03bb\\u03b3\\u03b9\\u03bf\"], [\"\\u0392\\u03ad\\u03bb\\u03b3\\u03b9\\u03bf\"], [\"\\u0392\\u03ad\\u03bb\\u03b3\\u03b9\\u03bf\"], [\"\\u0392\\u03ad\\u03bb\\u03b3\\u03b9\\u03bf\"], [\"\\u0392\\u03ad\\u03bb\\u03b3\\u03b9\\u03bf\"], [\"\\u0392\\u03ad\\u03bb\\u03b3\\u03b9\\u03bf\"], [\"\\u0392\\u03ad\\u03bb\\u03b3\\u03b9\\u03bf\"], [\"\\u0392\\u03ad\\u03bb\\u03b3\\u03b9\\u03bf\"], [\"\\u0392\\u03ad\\u03bb\\u03b3\\u03b9\\u03bf\"], [\"\\u0392\\u03ad\\u03bb\\u03b3\\u03b9\\u03bf\"], [\"\\u0392\\u03ad\\u03bb\\u03b3\\u03b9\\u03bf\"], [\"\\u0392\\u03ad\\u03bb\\u03b3\\u03b9\\u03bf\"], [\"\\u0392\\u03ad\\u03bb\\u03b3\\u03b9\\u03bf\"], [\"\\u0392\\u03ad\\u03bb\\u03b3\\u03b9\\u03bf\"], [\"\\u0392\\u03ad\\u03bb\\u03b3\\u03b9\\u03bf\"], [\"\\u0392\\u03ad\\u03bb\\u03b3\\u03b9\\u03bf\"], [\"\\u0392\\u03ad\\u03bb\\u03b3\\u03b9\\u03bf\"], [\"\\u0392\\u03ad\\u03bb\\u03b3\\u03b9\\u03bf\"], [\"\\u0392\\u03ad\\u03bb\\u03b3\\u03b9\\u03bf\"], [\"\\u0392\\u03ad\\u03bb\\u03b3\\u03b9\\u03bf\"], [\"\\u0392\\u03ad\\u03bb\\u03b3\\u03b9\\u03bf\"], [\"\\u0392\\u03ad\\u03bb\\u03b3\\u03b9\\u03bf\"], [\"\\u0392\\u03ad\\u03bb\\u03b3\\u03b9\\u03bf\"]], \"hoverlabel\": {\"namelength\": 0}, \"hovertemplate\": \"\\u03a7\\u03ce\\u03c1\\u03b1=%{customdata[0]}<br>\\u0391\\u03c1\\u03b9\\u03b8\\u03bc\\u03cc\\u03c2 \\u039a\\u03c1\\u03bf\\u03c5\\u03c3\\u03bc\\u03ac\\u03c4\\u03c9\\u03bd=%{y}\", \"legendgroup\": \"\\u0392\\u03ad\\u03bb\\u03b3\\u03b9\\u03bf\", \"line\": {\"color\": \"rgb(189,189,189)\", \"dash\": \"solid\", \"shape\": \"spline\"}, \"mode\": \"lines\", \"name\": \"\\u0392\\u03ad\\u03bb\\u03b3\\u03b9\\u03bf\", \"showlegend\": true, \"type\": \"scatter\", \"xaxis\": \"x\", \"y\": [109, 169, 200, 239, 267, 314, 314, 559, 689, 886, 1058, 1243, 1486, 1795, 2257, 2815, 3401, 3743, 4269, 4937, 6235, 7284, 9134, 10836, 11899, 12775, 13964, 15348, 16770, 18431, 19691, 20814, 22194, 23403, 24983, 26667, 28018, 29647], \"yaxis\": \"y\"}, {\"customdata\": [[\"\\u0392\\u03bf\\u03bb\\u03b9\\u03b2\\u03af\\u03b1\"], [\"\\u0392\\u03bf\\u03bb\\u03b9\\u03b2\\u03af\\u03b1\"], [\"\\u0392\\u03bf\\u03bb\\u03b9\\u03b2\\u03af\\u03b1\"], [\"\\u0392\\u03bf\\u03bb\\u03b9\\u03b2\\u03af\\u03b1\"], [\"\\u0392\\u03bf\\u03bb\\u03b9\\u03b2\\u03af\\u03b1\"], [\"\\u0392\\u03bf\\u03bb\\u03b9\\u03b2\\u03af\\u03b1\"], [\"\\u0392\\u03bf\\u03bb\\u03b9\\u03b2\\u03af\\u03b1\"], [\"\\u0392\\u03bf\\u03bb\\u03b9\\u03b2\\u03af\\u03b1\"], [\"\\u0392\\u03bf\\u03bb\\u03b9\\u03b2\\u03af\\u03b1\"], [\"\\u0392\\u03bf\\u03bb\\u03b9\\u03b2\\u03af\\u03b1\"], [\"\\u0392\\u03bf\\u03bb\\u03b9\\u03b2\\u03af\\u03b1\"], [\"\\u0392\\u03bf\\u03bb\\u03b9\\u03b2\\u03af\\u03b1\"], [\"\\u0392\\u03bf\\u03bb\\u03b9\\u03b2\\u03af\\u03b1\"]], \"hoverlabel\": {\"namelength\": 0}, \"hovertemplate\": \"\\u03a7\\u03ce\\u03c1\\u03b1=%{customdata[0]}<br>\\u0391\\u03c1\\u03b9\\u03b8\\u03bc\\u03cc\\u03c2 \\u039a\\u03c1\\u03bf\\u03c5\\u03c3\\u03bc\\u03ac\\u03c4\\u03c9\\u03bd=%{y}\", \"legendgroup\": \"\\u0392\\u03bf\\u03bb\\u03b9\\u03b2\\u03af\\u03b1\", \"line\": {\"color\": \"rgb(189,189,189)\", \"dash\": \"solid\", \"shape\": \"spline\"}, \"mode\": \"lines\", \"name\": \"\\u0392\\u03bf\\u03bb\\u03b9\\u03b2\\u03af\\u03b1\", \"showlegend\": true, \"type\": \"scatter\", \"xaxis\": \"x\", \"y\": [107, 115, 123, 132, 139, 157, 183, 194, 210, 264, 268, 275, 300], \"yaxis\": \"y\"}, {\"customdata\": [[\"\\u0392\\u03bf\\u03c3\\u03bd\\u03af\\u03b1-\\u0395\\u03c1\\u03b6\\u03b5\\u03b3\\u03bf\\u03b2\\u03af\\u03bd\\u03b7\"], [\"\\u0392\\u03bf\\u03c3\\u03bd\\u03af\\u03b1-\\u0395\\u03c1\\u03b6\\u03b5\\u03b3\\u03bf\\u03b2\\u03af\\u03bd\\u03b7\"], [\"\\u0392\\u03bf\\u03c3\\u03bd\\u03af\\u03b1-\\u0395\\u03c1\\u03b6\\u03b5\\u03b3\\u03bf\\u03b2\\u03af\\u03bd\\u03b7\"], [\"\\u0392\\u03bf\\u03c3\\u03bd\\u03af\\u03b1-\\u0395\\u03c1\\u03b6\\u03b5\\u03b3\\u03bf\\u03b2\\u03af\\u03bd\\u03b7\"], [\"\\u0392\\u03bf\\u03c3\\u03bd\\u03af\\u03b1-\\u0395\\u03c1\\u03b6\\u03b5\\u03b3\\u03bf\\u03b2\\u03af\\u03bd\\u03b7\"], [\"\\u0392\\u03bf\\u03c3\\u03bd\\u03af\\u03b1-\\u0395\\u03c1\\u03b6\\u03b5\\u03b3\\u03bf\\u03b2\\u03af\\u03bd\\u03b7\"], [\"\\u0392\\u03bf\\u03c3\\u03bd\\u03af\\u03b1-\\u0395\\u03c1\\u03b6\\u03b5\\u03b3\\u03bf\\u03b2\\u03af\\u03bd\\u03b7\"], [\"\\u0392\\u03bf\\u03c3\\u03bd\\u03af\\u03b1-\\u0395\\u03c1\\u03b6\\u03b5\\u03b3\\u03bf\\u03b2\\u03af\\u03bd\\u03b7\"], [\"\\u0392\\u03bf\\u03c3\\u03bd\\u03af\\u03b1-\\u0395\\u03c1\\u03b6\\u03b5\\u03b3\\u03bf\\u03b2\\u03af\\u03bd\\u03b7\"], [\"\\u0392\\u03bf\\u03c3\\u03bd\\u03af\\u03b1-\\u0395\\u03c1\\u03b6\\u03b5\\u03b3\\u03bf\\u03b2\\u03af\\u03bd\\u03b7\"], [\"\\u0392\\u03bf\\u03c3\\u03bd\\u03af\\u03b1-\\u0395\\u03c1\\u03b6\\u03b5\\u03b3\\u03bf\\u03b2\\u03af\\u03bd\\u03b7\"], [\"\\u0392\\u03bf\\u03c3\\u03bd\\u03af\\u03b1-\\u0395\\u03c1\\u03b6\\u03b5\\u03b3\\u03bf\\u03b2\\u03af\\u03bd\\u03b7\"], [\"\\u0392\\u03bf\\u03c3\\u03bd\\u03af\\u03b1-\\u0395\\u03c1\\u03b6\\u03b5\\u03b3\\u03bf\\u03b2\\u03af\\u03bd\\u03b7\"], [\"\\u0392\\u03bf\\u03c3\\u03bd\\u03af\\u03b1-\\u0395\\u03c1\\u03b6\\u03b5\\u03b3\\u03bf\\u03b2\\u03af\\u03bd\\u03b7\"], [\"\\u0392\\u03bf\\u03c3\\u03bd\\u03af\\u03b1-\\u0395\\u03c1\\u03b6\\u03b5\\u03b3\\u03bf\\u03b2\\u03af\\u03bd\\u03b7\"], [\"\\u0392\\u03bf\\u03c3\\u03bd\\u03af\\u03b1-\\u0395\\u03c1\\u03b6\\u03b5\\u03b3\\u03bf\\u03b2\\u03af\\u03bd\\u03b7\"], [\"\\u0392\\u03bf\\u03c3\\u03bd\\u03af\\u03b1-\\u0395\\u03c1\\u03b6\\u03b5\\u03b3\\u03bf\\u03b2\\u03af\\u03bd\\u03b7\"], [\"\\u0392\\u03bf\\u03c3\\u03bd\\u03af\\u03b1-\\u0395\\u03c1\\u03b6\\u03b5\\u03b3\\u03bf\\u03b2\\u03af\\u03bd\\u03b7\"], [\"\\u0392\\u03bf\\u03c3\\u03bd\\u03af\\u03b1-\\u0395\\u03c1\\u03b6\\u03b5\\u03b3\\u03bf\\u03b2\\u03af\\u03bd\\u03b7\"], [\"\\u0392\\u03bf\\u03c3\\u03bd\\u03af\\u03b1-\\u0395\\u03c1\\u03b6\\u03b5\\u03b3\\u03bf\\u03b2\\u03af\\u03bd\\u03b7\"], [\"\\u0392\\u03bf\\u03c3\\u03bd\\u03af\\u03b1-\\u0395\\u03c1\\u03b6\\u03b5\\u03b3\\u03bf\\u03b2\\u03af\\u03bd\\u03b7\"], [\"\\u0392\\u03bf\\u03c3\\u03bd\\u03af\\u03b1-\\u0395\\u03c1\\u03b6\\u03b5\\u03b3\\u03bf\\u03b2\\u03af\\u03bd\\u03b7\"]], \"hoverlabel\": {\"namelength\": 0}, \"hovertemplate\": \"\\u03a7\\u03ce\\u03c1\\u03b1=%{customdata[0]}<br>\\u0391\\u03c1\\u03b9\\u03b8\\u03bc\\u03cc\\u03c2 \\u039a\\u03c1\\u03bf\\u03c5\\u03c3\\u03bc\\u03ac\\u03c4\\u03c9\\u03bd=%{y}\", \"legendgroup\": \"\\u0392\\u03bf\\u03c3\\u03bd\\u03af\\u03b1-\\u0395\\u03c1\\u03b6\\u03b5\\u03b3\\u03bf\\u03b2\\u03af\\u03bd\\u03b7\", \"line\": {\"color\": \"rgb(189,189,189)\", \"dash\": \"solid\", \"shape\": \"spline\"}, \"mode\": \"lines\", \"name\": \"\\u0392\\u03bf\\u03c3\\u03bd\\u03af\\u03b1-\\u0395\\u03c1\\u03b6\\u03b5\\u03b3\\u03bf\\u03b2\\u03af\\u03bd\\u03b7\", \"showlegend\": true, \"type\": \"scatter\", \"xaxis\": \"x\", \"y\": [126, 136, 166, 176, 191, 237, 258, 323, 368, 420, 459, 533, 579, 624, 654, 674, 764, 804, 858, 901, 946, 1009], \"yaxis\": \"y\"}, {\"customdata\": [[\"\\u0392\\u03c1\\u03b1\\u03b6\\u03b9\\u03bb\\u03af\\u03b1\"], [\"\\u0392\\u03c1\\u03b1\\u03b6\\u03b9\\u03bb\\u03af\\u03b1\"], [\"\\u0392\\u03c1\\u03b1\\u03b6\\u03b9\\u03bb\\u03af\\u03b1\"], [\"\\u0392\\u03c1\\u03b1\\u03b6\\u03b9\\u03bb\\u03af\\u03b1\"], [\"\\u0392\\u03c1\\u03b1\\u03b6\\u03b9\\u03bb\\u03af\\u03b1\"], [\"\\u0392\\u03c1\\u03b1\\u03b6\\u03b9\\u03bb\\u03af\\u03b1\"], [\"\\u0392\\u03c1\\u03b1\\u03b6\\u03b9\\u03bb\\u03af\\u03b1\"], [\"\\u0392\\u03c1\\u03b1\\u03b6\\u03b9\\u03bb\\u03af\\u03b1\"], [\"\\u0392\\u03c1\\u03b1\\u03b6\\u03b9\\u03bb\\u03af\\u03b1\"], [\"\\u0392\\u03c1\\u03b1\\u03b6\\u03b9\\u03bb\\u03af\\u03b1\"], [\"\\u0392\\u03c1\\u03b1\\u03b6\\u03b9\\u03bb\\u03af\\u03b1\"], [\"\\u0392\\u03c1\\u03b1\\u03b6\\u03b9\\u03bb\\u03af\\u03b1\"], [\"\\u0392\\u03c1\\u03b1\\u03b6\\u03b9\\u03bb\\u03af\\u03b1\"], [\"\\u0392\\u03c1\\u03b1\\u03b6\\u03b9\\u03bb\\u03af\\u03b1\"], [\"\\u0392\\u03c1\\u03b1\\u03b6\\u03b9\\u03bb\\u03af\\u03b1\"], [\"\\u0392\\u03c1\\u03b1\\u03b6\\u03b9\\u03bb\\u03af\\u03b1\"], [\"\\u0392\\u03c1\\u03b1\\u03b6\\u03b9\\u03bb\\u03af\\u03b1\"], [\"\\u0392\\u03c1\\u03b1\\u03b6\\u03b9\\u03bb\\u03af\\u03b1\"], [\"\\u0392\\u03c1\\u03b1\\u03b6\\u03b9\\u03bb\\u03af\\u03b1\"], [\"\\u0392\\u03c1\\u03b1\\u03b6\\u03b9\\u03bb\\u03af\\u03b1\"], [\"\\u0392\\u03c1\\u03b1\\u03b6\\u03b9\\u03bb\\u03af\\u03b1\"], [\"\\u0392\\u03c1\\u03b1\\u03b6\\u03b9\\u03bb\\u03af\\u03b1\"], [\"\\u0392\\u03c1\\u03b1\\u03b6\\u03b9\\u03bb\\u03af\\u03b1\"], [\"\\u0392\\u03c1\\u03b1\\u03b6\\u03b9\\u03bb\\u03af\\u03b1\"], [\"\\u0392\\u03c1\\u03b1\\u03b6\\u03b9\\u03bb\\u03af\\u03b1\"], [\"\\u0392\\u03c1\\u03b1\\u03b6\\u03b9\\u03bb\\u03af\\u03b1\"], [\"\\u0392\\u03c1\\u03b1\\u03b6\\u03b9\\u03bb\\u03af\\u03b1\"], [\"\\u0392\\u03c1\\u03b1\\u03b6\\u03b9\\u03bb\\u03af\\u03b1\"], [\"\\u0392\\u03c1\\u03b1\\u03b6\\u03b9\\u03bb\\u03af\\u03b1\"], [\"\\u0392\\u03c1\\u03b1\\u03b6\\u03b9\\u03bb\\u03af\\u03b1\"], [\"\\u0392\\u03c1\\u03b1\\u03b6\\u03b9\\u03bb\\u03af\\u03b1\"]], \"hoverlabel\": {\"namelength\": 0}, \"hovertemplate\": \"\\u03a7\\u03ce\\u03c1\\u03b1=%{customdata[0]}<br>\\u0391\\u03c1\\u03b9\\u03b8\\u03bc\\u03cc\\u03c2 \\u039a\\u03c1\\u03bf\\u03c5\\u03c3\\u03bc\\u03ac\\u03c4\\u03c9\\u03bd=%{y}\", \"legendgroup\": \"\\u0392\\u03c1\\u03b1\\u03b6\\u03b9\\u03bb\\u03af\\u03b1\", \"line\": {\"color\": \"rgb(189,189,189)\", \"dash\": \"solid\", \"shape\": \"spline\"}, \"mode\": \"lines\", \"name\": \"\\u0392\\u03c1\\u03b1\\u03b6\\u03b9\\u03bb\\u03af\\u03b1\", \"showlegend\": true, \"type\": \"scatter\", \"xaxis\": \"x\", \"y\": [151, 151, 162, 200, 321, 372, 621, 793, 1021, 1546, 1924, 2247, 2554, 2985, 3417, 3904, 4256, 4579, 5717, 6836, 8044, 9056, 10360, 11130, 12161, 14034, 16170, 18092, 19638, 20727, 22192], \"yaxis\": \"y\"}, {\"customdata\": [[\"\\u039c\\u03c0\\u03c1\\u03bf\\u03c5\\u03bd\\u03ad\\u03b9\"], [\"\\u039c\\u03c0\\u03c1\\u03bf\\u03c5\\u03bd\\u03ad\\u03b9\"], [\"\\u039c\\u03c0\\u03c1\\u03bf\\u03c5\\u03bd\\u03ad\\u03b9\"], [\"\\u039c\\u03c0\\u03c1\\u03bf\\u03c5\\u03bd\\u03ad\\u03b9\"], [\"\\u039c\\u03c0\\u03c1\\u03bf\\u03c5\\u03bd\\u03ad\\u03b9\"], [\"\\u039c\\u03c0\\u03c1\\u03bf\\u03c5\\u03bd\\u03ad\\u03b9\"], [\"\\u039c\\u03c0\\u03c1\\u03bf\\u03c5\\u03bd\\u03ad\\u03b9\"], [\"\\u039c\\u03c0\\u03c1\\u03bf\\u03c5\\u03bd\\u03ad\\u03b9\"], [\"\\u039c\\u03c0\\u03c1\\u03bf\\u03c5\\u03bd\\u03ad\\u03b9\"], [\"\\u039c\\u03c0\\u03c1\\u03bf\\u03c5\\u03bd\\u03ad\\u03b9\"], [\"\\u039c\\u03c0\\u03c1\\u03bf\\u03c5\\u03bd\\u03ad\\u03b9\"], [\"\\u039c\\u03c0\\u03c1\\u03bf\\u03c5\\u03bd\\u03ad\\u03b9\"], [\"\\u039c\\u03c0\\u03c1\\u03bf\\u03c5\\u03bd\\u03ad\\u03b9\"], [\"\\u039c\\u03c0\\u03c1\\u03bf\\u03c5\\u03bd\\u03ad\\u03b9\"], [\"\\u039c\\u03c0\\u03c1\\u03bf\\u03c5\\u03bd\\u03ad\\u03b9\"], [\"\\u039c\\u03c0\\u03c1\\u03bf\\u03c5\\u03bd\\u03ad\\u03b9\"], [\"\\u039c\\u03c0\\u03c1\\u03bf\\u03c5\\u03bd\\u03ad\\u03b9\"], [\"\\u039c\\u03c0\\u03c1\\u03bf\\u03c5\\u03bd\\u03ad\\u03b9\"], [\"\\u039c\\u03c0\\u03c1\\u03bf\\u03c5\\u03bd\\u03ad\\u03b9\"], [\"\\u039c\\u03c0\\u03c1\\u03bf\\u03c5\\u03bd\\u03ad\\u03b9\"]], \"hoverlabel\": {\"namelength\": 0}, \"hovertemplate\": \"\\u03a7\\u03ce\\u03c1\\u03b1=%{customdata[0]}<br>\\u0391\\u03c1\\u03b9\\u03b8\\u03bc\\u03cc\\u03c2 \\u039a\\u03c1\\u03bf\\u03c5\\u03c3\\u03bc\\u03ac\\u03c4\\u03c9\\u03bd=%{y}\", \"legendgroup\": \"\\u039c\\u03c0\\u03c1\\u03bf\\u03c5\\u03bd\\u03ad\\u03b9\", \"line\": {\"color\": \"rgb(189,189,189)\", \"dash\": \"solid\", \"shape\": \"spline\"}, \"mode\": \"lines\", \"name\": \"\\u039c\\u03c0\\u03c1\\u03bf\\u03c5\\u03bd\\u03ad\\u03b9\", \"showlegend\": true, \"type\": \"scatter\", \"xaxis\": \"x\", \"y\": [104, 109, 114, 115, 120, 126, 127, 129, 131, 133, 134, 135, 135, 135, 135, 135, 135, 136, 136, 136], \"yaxis\": \"y\"}, {\"customdata\": [[\"\\u0392\\u03bf\\u03c5\\u03bb\\u03b3\\u03b1\\u03c1\\u03af\\u03b1\"], [\"\\u0392\\u03bf\\u03c5\\u03bb\\u03b3\\u03b1\\u03c1\\u03af\\u03b1\"], [\"\\u0392\\u03bf\\u03c5\\u03bb\\u03b3\\u03b1\\u03c1\\u03af\\u03b1\"], [\"\\u0392\\u03bf\\u03c5\\u03bb\\u03b3\\u03b1\\u03c1\\u03af\\u03b1\"], [\"\\u0392\\u03bf\\u03c5\\u03bb\\u03b3\\u03b1\\u03c1\\u03af\\u03b1\"], [\"\\u0392\\u03bf\\u03c5\\u03bb\\u03b3\\u03b1\\u03c1\\u03af\\u03b1\"], [\"\\u0392\\u03bf\\u03c5\\u03bb\\u03b3\\u03b1\\u03c1\\u03af\\u03b1\"], [\"\\u0392\\u03bf\\u03c5\\u03bb\\u03b3\\u03b1\\u03c1\\u03af\\u03b1\"], [\"\\u0392\\u03bf\\u03c5\\u03bb\\u03b3\\u03b1\\u03c1\\u03af\\u03b1\"], [\"\\u0392\\u03bf\\u03c5\\u03bb\\u03b3\\u03b1\\u03c1\\u03af\\u03b1\"], [\"\\u0392\\u03bf\\u03c5\\u03bb\\u03b3\\u03b1\\u03c1\\u03af\\u03b1\"], [\"\\u0392\\u03bf\\u03c5\\u03bb\\u03b3\\u03b1\\u03c1\\u03af\\u03b1\"], [\"\\u0392\\u03bf\\u03c5\\u03bb\\u03b3\\u03b1\\u03c1\\u03af\\u03b1\"], [\"\\u0392\\u03bf\\u03c5\\u03bb\\u03b3\\u03b1\\u03c1\\u03af\\u03b1\"], [\"\\u0392\\u03bf\\u03c5\\u03bb\\u03b3\\u03b1\\u03c1\\u03af\\u03b1\"], [\"\\u0392\\u03bf\\u03c5\\u03bb\\u03b3\\u03b1\\u03c1\\u03af\\u03b1\"], [\"\\u0392\\u03bf\\u03c5\\u03bb\\u03b3\\u03b1\\u03c1\\u03af\\u03b1\"], [\"\\u0392\\u03bf\\u03c5\\u03bb\\u03b3\\u03b1\\u03c1\\u03af\\u03b1\"], [\"\\u0392\\u03bf\\u03c5\\u03bb\\u03b3\\u03b1\\u03c1\\u03af\\u03b1\"], [\"\\u0392\\u03bf\\u03c5\\u03bb\\u03b3\\u03b1\\u03c1\\u03af\\u03b1\"], [\"\\u0392\\u03bf\\u03c5\\u03bb\\u03b3\\u03b1\\u03c1\\u03af\\u03b1\"], [\"\\u0392\\u03bf\\u03c5\\u03bb\\u03b3\\u03b1\\u03c1\\u03af\\u03b1\"], [\"\\u0392\\u03bf\\u03c5\\u03bb\\u03b3\\u03b1\\u03c1\\u03af\\u03b1\"], [\"\\u0392\\u03bf\\u03c5\\u03bb\\u03b3\\u03b1\\u03c1\\u03af\\u03b1\"]], \"hoverlabel\": {\"namelength\": 0}, \"hovertemplate\": \"\\u03a7\\u03ce\\u03c1\\u03b1=%{customdata[0]}<br>\\u0391\\u03c1\\u03b9\\u03b8\\u03bc\\u03cc\\u03c2 \\u039a\\u03c1\\u03bf\\u03c5\\u03c3\\u03bc\\u03ac\\u03c4\\u03c9\\u03bd=%{y}\", \"legendgroup\": \"\\u0392\\u03bf\\u03c5\\u03bb\\u03b3\\u03b1\\u03c1\\u03af\\u03b1\", \"line\": {\"color\": \"rgb(189,189,189)\", \"dash\": \"solid\", \"shape\": \"spline\"}, \"mode\": \"lines\", \"name\": \"\\u0392\\u03bf\\u03c5\\u03bb\\u03b3\\u03b1\\u03c1\\u03af\\u03b1\", \"showlegend\": true, \"type\": \"scatter\", \"xaxis\": \"x\", \"y\": [127, 163, 187, 201, 218, 242, 264, 293, 331, 346, 359, 399, 422, 457, 485, 503, 531, 549, 577, 593, 618, 635, 661, 675], \"yaxis\": \"y\"}, {\"customdata\": [[\"\\u039c\\u03c0\\u03bf\\u03c5\\u03c1\\u03ba\\u03af\\u03bd\\u03b1 \\u03a6\\u03ac\\u03c3\\u03bf\"], [\"\\u039c\\u03c0\\u03bf\\u03c5\\u03c1\\u03ba\\u03af\\u03bd\\u03b1 \\u03a6\\u03ac\\u03c3\\u03bf\"], [\"\\u039c\\u03c0\\u03bf\\u03c5\\u03c1\\u03ba\\u03af\\u03bd\\u03b1 \\u03a6\\u03ac\\u03c3\\u03bf\"], [\"\\u039c\\u03c0\\u03bf\\u03c5\\u03c1\\u03ba\\u03af\\u03bd\\u03b1 \\u03a6\\u03ac\\u03c3\\u03bf\"], [\"\\u039c\\u03c0\\u03bf\\u03c5\\u03c1\\u03ba\\u03af\\u03bd\\u03b1 \\u03a6\\u03ac\\u03c3\\u03bf\"], [\"\\u039c\\u03c0\\u03bf\\u03c5\\u03c1\\u03ba\\u03af\\u03bd\\u03b1 \\u03a6\\u03ac\\u03c3\\u03bf\"], [\"\\u039c\\u03c0\\u03bf\\u03c5\\u03c1\\u03ba\\u03af\\u03bd\\u03b1 \\u03a6\\u03ac\\u03c3\\u03bf\"], [\"\\u039c\\u03c0\\u03bf\\u03c5\\u03c1\\u03ba\\u03af\\u03bd\\u03b1 \\u03a6\\u03ac\\u03c3\\u03bf\"], [\"\\u039c\\u03c0\\u03bf\\u03c5\\u03c1\\u03ba\\u03af\\u03bd\\u03b1 \\u03a6\\u03ac\\u03c3\\u03bf\"], [\"\\u039c\\u03c0\\u03bf\\u03c5\\u03c1\\u03ba\\u03af\\u03bd\\u03b1 \\u03a6\\u03ac\\u03c3\\u03bf\"], [\"\\u039c\\u03c0\\u03bf\\u03c5\\u03c1\\u03ba\\u03af\\u03bd\\u03b1 \\u03a6\\u03ac\\u03c3\\u03bf\"], [\"\\u039c\\u03c0\\u03bf\\u03c5\\u03c1\\u03ba\\u03af\\u03bd\\u03b1 \\u03a6\\u03ac\\u03c3\\u03bf\"], [\"\\u039c\\u03c0\\u03bf\\u03c5\\u03c1\\u03ba\\u03af\\u03bd\\u03b1 \\u03a6\\u03ac\\u03c3\\u03bf\"], [\"\\u039c\\u03c0\\u03bf\\u03c5\\u03c1\\u03ba\\u03af\\u03bd\\u03b1 \\u03a6\\u03ac\\u03c3\\u03bf\"], [\"\\u039c\\u03c0\\u03bf\\u03c5\\u03c1\\u03ba\\u03af\\u03bd\\u03b1 \\u03a6\\u03ac\\u03c3\\u03bf\"], [\"\\u039c\\u03c0\\u03bf\\u03c5\\u03c1\\u03ba\\u03af\\u03bd\\u03b1 \\u03a6\\u03ac\\u03c3\\u03bf\"], [\"\\u039c\\u03c0\\u03bf\\u03c5\\u03c1\\u03ba\\u03af\\u03bd\\u03b1 \\u03a6\\u03ac\\u03c3\\u03bf\"], [\"\\u039c\\u03c0\\u03bf\\u03c5\\u03c1\\u03ba\\u03af\\u03bd\\u03b1 \\u03a6\\u03ac\\u03c3\\u03bf\"], [\"\\u039c\\u03c0\\u03bf\\u03c5\\u03c1\\u03ba\\u03af\\u03bd\\u03b1 \\u03a6\\u03ac\\u03c3\\u03bf\"], [\"\\u039c\\u03c0\\u03bf\\u03c5\\u03c1\\u03ba\\u03af\\u03bd\\u03b1 \\u03a6\\u03ac\\u03c3\\u03bf\"]], \"hoverlabel\": {\"namelength\": 0}, \"hovertemplate\": \"\\u03a7\\u03ce\\u03c1\\u03b1=%{customdata[0]}<br>\\u0391\\u03c1\\u03b9\\u03b8\\u03bc\\u03cc\\u03c2 \\u039a\\u03c1\\u03bf\\u03c5\\u03c3\\u03bc\\u03ac\\u03c4\\u03c9\\u03bd=%{y}\", \"legendgroup\": \"\\u039c\\u03c0\\u03bf\\u03c5\\u03c1\\u03ba\\u03af\\u03bd\\u03b1 \\u03a6\\u03ac\\u03c3\\u03bf\", \"line\": {\"color\": \"rgb(189,189,189)\", \"dash\": \"solid\", \"shape\": \"spline\"}, \"mode\": \"lines\", \"name\": \"\\u039c\\u03c0\\u03bf\\u03c5\\u03c1\\u03ba\\u03af\\u03bd\\u03b1 \\u03a6\\u03ac\\u03c3\\u03bf\", \"showlegend\": true, \"type\": \"scatter\", \"xaxis\": \"x\", \"y\": [114, 146, 152, 180, 207, 222, 246, 261, 282, 288, 302, 318, 345, 364, 384, 414, 443, 443, 484, 497], \"yaxis\": \"y\"}, {\"customdata\": [[\"\\u039a\\u03b1\\u03bc\\u03c0\\u03cc\\u03c4\\u03b6\\u03b7\"], [\"\\u039a\\u03b1\\u03bc\\u03c0\\u03cc\\u03c4\\u03b6\\u03b7\"], [\"\\u039a\\u03b1\\u03bc\\u03c0\\u03cc\\u03c4\\u03b6\\u03b7\"], [\"\\u039a\\u03b1\\u03bc\\u03c0\\u03cc\\u03c4\\u03b6\\u03b7\"], [\"\\u039a\\u03b1\\u03bc\\u03c0\\u03cc\\u03c4\\u03b6\\u03b7\"], [\"\\u039a\\u03b1\\u03bc\\u03c0\\u03cc\\u03c4\\u03b6\\u03b7\"], [\"\\u039a\\u03b1\\u03bc\\u03c0\\u03cc\\u03c4\\u03b6\\u03b7\"], [\"\\u039a\\u03b1\\u03bc\\u03c0\\u03cc\\u03c4\\u03b6\\u03b7\"], [\"\\u039a\\u03b1\\u03bc\\u03c0\\u03cc\\u03c4\\u03b6\\u03b7\"], [\"\\u039a\\u03b1\\u03bc\\u03c0\\u03cc\\u03c4\\u03b6\\u03b7\"], [\"\\u039a\\u03b1\\u03bc\\u03c0\\u03cc\\u03c4\\u03b6\\u03b7\"], [\"\\u039a\\u03b1\\u03bc\\u03c0\\u03cc\\u03c4\\u03b6\\u03b7\"], [\"\\u039a\\u03b1\\u03bc\\u03c0\\u03cc\\u03c4\\u03b6\\u03b7\"], [\"\\u039a\\u03b1\\u03bc\\u03c0\\u03cc\\u03c4\\u03b6\\u03b7\"], [\"\\u039a\\u03b1\\u03bc\\u03c0\\u03cc\\u03c4\\u03b6\\u03b7\"]], \"hoverlabel\": {\"namelength\": 0}, \"hovertemplate\": \"\\u03a7\\u03ce\\u03c1\\u03b1=%{customdata[0]}<br>\\u0391\\u03c1\\u03b9\\u03b8\\u03bc\\u03cc\\u03c2 \\u039a\\u03c1\\u03bf\\u03c5\\u03c3\\u03bc\\u03ac\\u03c4\\u03c9\\u03bd=%{y}\", \"legendgroup\": \"\\u039a\\u03b1\\u03bc\\u03c0\\u03cc\\u03c4\\u03b6\\u03b7\", \"line\": {\"color\": \"rgb(189,189,189)\", \"dash\": \"solid\", \"shape\": \"spline\"}, \"mode\": \"lines\", \"name\": \"\\u039a\\u03b1\\u03bc\\u03c0\\u03cc\\u03c4\\u03b6\\u03b7\", \"showlegend\": true, \"type\": \"scatter\", \"xaxis\": \"x\", \"y\": [103, 107, 109, 109, 110, 114, 114, 114, 114, 115, 117, 119, 119, 120, 122], \"yaxis\": \"y\"}, {\"customdata\": [[\"\\u039a\\u03b1\\u03bc\\u03b5\\u03c1\\u03bf\\u03cd\\u03bd\"], [\"\\u039a\\u03b1\\u03bc\\u03b5\\u03c1\\u03bf\\u03cd\\u03bd\"], [\"\\u039a\\u03b1\\u03bc\\u03b5\\u03c1\\u03bf\\u03cd\\u03bd\"], [\"\\u039a\\u03b1\\u03bc\\u03b5\\u03c1\\u03bf\\u03cd\\u03bd\"], [\"\\u039a\\u03b1\\u03bc\\u03b5\\u03c1\\u03bf\\u03cd\\u03bd\"], [\"\\u039a\\u03b1\\u03bc\\u03b5\\u03c1\\u03bf\\u03cd\\u03bd\"], [\"\\u039a\\u03b1\\u03bc\\u03b5\\u03c1\\u03bf\\u03cd\\u03bd\"], [\"\\u039a\\u03b1\\u03bc\\u03b5\\u03c1\\u03bf\\u03cd\\u03bd\"], [\"\\u039a\\u03b1\\u03bc\\u03b5\\u03c1\\u03bf\\u03cd\\u03bd\"], [\"\\u039a\\u03b1\\u03bc\\u03b5\\u03c1\\u03bf\\u03cd\\u03bd\"], [\"\\u039a\\u03b1\\u03bc\\u03b5\\u03c1\\u03bf\\u03cd\\u03bd\"], [\"\\u039a\\u03b1\\u03bc\\u03b5\\u03c1\\u03bf\\u03cd\\u03bd\"], [\"\\u039a\\u03b1\\u03bc\\u03b5\\u03c1\\u03bf\\u03cd\\u03bd\"], [\"\\u039a\\u03b1\\u03bc\\u03b5\\u03c1\\u03bf\\u03cd\\u03bd\"], [\"\\u039a\\u03b1\\u03bc\\u03b5\\u03c1\\u03bf\\u03cd\\u03bd\"]], \"hoverlabel\": {\"namelength\": 0}, \"hovertemplate\": \"\\u03a7\\u03ce\\u03c1\\u03b1=%{customdata[0]}<br>\\u0391\\u03c1\\u03b9\\u03b8\\u03bc\\u03cc\\u03c2 \\u039a\\u03c1\\u03bf\\u03c5\\u03c3\\u03bc\\u03ac\\u03c4\\u03c9\\u03bd=%{y}\", \"legendgroup\": \"\\u039a\\u03b1\\u03bc\\u03b5\\u03c1\\u03bf\\u03cd\\u03bd\", \"line\": {\"color\": \"rgb(189,189,189)\", \"dash\": \"solid\", \"shape\": \"spline\"}, \"mode\": \"lines\", \"name\": \"\\u039a\\u03b1\\u03bc\\u03b5\\u03c1\\u03bf\\u03cd\\u03bd\", \"showlegend\": true, \"type\": \"scatter\", \"xaxis\": \"x\", \"y\": [139, 139, 193, 233, 306, 509, 555, 650, 658, 658, 730, 730, 820, 820, 820], \"yaxis\": \"y\"}, {\"customdata\": [[\"\\u039a\\u03b1\\u03bd\\u03b1\\u03b4\\u03ac\\u03c2\"], [\"\\u039a\\u03b1\\u03bd\\u03b1\\u03b4\\u03ac\\u03c2\"], [\"\\u039a\\u03b1\\u03bd\\u03b1\\u03b4\\u03ac\\u03c2\"], [\"\\u039a\\u03b1\\u03bd\\u03b1\\u03b4\\u03ac\\u03c2\"], [\"\\u039a\\u03b1\\u03bd\\u03b1\\u03b4\\u03ac\\u03c2\"], [\"\\u039a\\u03b1\\u03bd\\u03b1\\u03b4\\u03ac\\u03c2\"], [\"\\u039a\\u03b1\\u03bd\\u03b1\\u03b4\\u03ac\\u03c2\"], [\"\\u039a\\u03b1\\u03bd\\u03b1\\u03b4\\u03ac\\u03c2\"], [\"\\u039a\\u03b1\\u03bd\\u03b1\\u03b4\\u03ac\\u03c2\"], [\"\\u039a\\u03b1\\u03bd\\u03b1\\u03b4\\u03ac\\u03c2\"], [\"\\u039a\\u03b1\\u03bd\\u03b1\\u03b4\\u03ac\\u03c2\"], [\"\\u039a\\u03b1\\u03bd\\u03b1\\u03b4\\u03ac\\u03c2\"], [\"\\u039a\\u03b1\\u03bd\\u03b1\\u03b4\\u03ac\\u03c2\"], [\"\\u039a\\u03b1\\u03bd\\u03b1\\u03b4\\u03ac\\u03c2\"], [\"\\u039a\\u03b1\\u03bd\\u03b1\\u03b4\\u03ac\\u03c2\"], [\"\\u039a\\u03b1\\u03bd\\u03b1\\u03b4\\u03ac\\u03c2\"], [\"\\u039a\\u03b1\\u03bd\\u03b1\\u03b4\\u03ac\\u03c2\"], [\"\\u039a\\u03b1\\u03bd\\u03b1\\u03b4\\u03ac\\u03c2\"], [\"\\u039a\\u03b1\\u03bd\\u03b1\\u03b4\\u03ac\\u03c2\"], [\"\\u039a\\u03b1\\u03bd\\u03b1\\u03b4\\u03ac\\u03c2\"], [\"\\u039a\\u03b1\\u03bd\\u03b1\\u03b4\\u03ac\\u03c2\"], [\"\\u039a\\u03b1\\u03bd\\u03b1\\u03b4\\u03ac\\u03c2\"], [\"\\u039a\\u03b1\\u03bd\\u03b1\\u03b4\\u03ac\\u03c2\"], [\"\\u039a\\u03b1\\u03bd\\u03b1\\u03b4\\u03ac\\u03c2\"], [\"\\u039a\\u03b1\\u03bd\\u03b1\\u03b4\\u03ac\\u03c2\"], [\"\\u039a\\u03b1\\u03bd\\u03b1\\u03b4\\u03ac\\u03c2\"], [\"\\u039a\\u03b1\\u03bd\\u03b1\\u03b4\\u03ac\\u03c2\"], [\"\\u039a\\u03b1\\u03bd\\u03b1\\u03b4\\u03ac\\u03c2\"], [\"\\u039a\\u03b1\\u03bd\\u03b1\\u03b4\\u03ac\\u03c2\"], [\"\\u039a\\u03b1\\u03bd\\u03b1\\u03b4\\u03ac\\u03c2\"], [\"\\u039a\\u03b1\\u03bd\\u03b1\\u03b4\\u03ac\\u03c2\"], [\"\\u039a\\u03b1\\u03bd\\u03b1\\u03b4\\u03ac\\u03c2\"], [\"\\u039a\\u03b1\\u03bd\\u03b1\\u03b4\\u03ac\\u03c2\"]], \"hoverlabel\": {\"namelength\": 0}, \"hovertemplate\": \"\\u03a7\\u03ce\\u03c1\\u03b1=%{customdata[0]}<br>\\u0391\\u03c1\\u03b9\\u03b8\\u03bc\\u03cc\\u03c2 \\u039a\\u03c1\\u03bf\\u03c5\\u03c3\\u03bc\\u03ac\\u03c4\\u03c9\\u03bd=%{y}\", \"legendgroup\": \"\\u039a\\u03b1\\u03bd\\u03b1\\u03b4\\u03ac\\u03c2\", \"line\": {\"color\": \"rgb(189,189,189)\", \"dash\": \"solid\", \"shape\": \"spline\"}, \"mode\": \"lines\", \"name\": \"\\u039a\\u03b1\\u03bd\\u03b1\\u03b4\\u03ac\\u03c2\", \"showlegend\": true, \"type\": \"scatter\", \"xaxis\": \"x\", \"y\": [108, 117, 193, 198, 252, 415, 478, 657, 800, 943, 1277, 1469, 2088, 2790, 3251, 4042, 4682, 5576, 6280, 7398, 8527, 9560, 11284, 12437, 12978, 15756, 16563, 17872, 19141, 20654, 22059, 23316, 24298], \"yaxis\": \"y\"}, {\"customdata\": [[\"\\u03a7\\u03b9\\u03bb\\u03ae\"], [\"\\u03a7\\u03b9\\u03bb\\u03ae\"], [\"\\u03a7\\u03b9\\u03bb\\u03ae\"], [\"\\u03a7\\u03b9\\u03bb\\u03ae\"], [\"\\u03a7\\u03b9\\u03bb\\u03ae\"], [\"\\u03a7\\u03b9\\u03bb\\u03ae\"], [\"\\u03a7\\u03b9\\u03bb\\u03ae\"], [\"\\u03a7\\u03b9\\u03bb\\u03ae\"], [\"\\u03a7\\u03b9\\u03bb\\u03ae\"], [\"\\u03a7\\u03b9\\u03bb\\u03ae\"], [\"\\u03a7\\u03b9\\u03bb\\u03ae\"], [\"\\u03a7\\u03b9\\u03bb\\u03ae\"], [\"\\u03a7\\u03b9\\u03bb\\u03ae\"], [\"\\u03a7\\u03b9\\u03bb\\u03ae\"], [\"\\u03a7\\u03b9\\u03bb\\u03ae\"], [\"\\u03a7\\u03b9\\u03bb\\u03ae\"], [\"\\u03a7\\u03b9\\u03bb\\u03ae\"], [\"\\u03a7\\u03b9\\u03bb\\u03ae\"], [\"\\u03a7\\u03b9\\u03bb\\u03ae\"], [\"\\u03a7\\u03b9\\u03bb\\u03ae\"], [\"\\u03a7\\u03b9\\u03bb\\u03ae\"], [\"\\u03a7\\u03b9\\u03bb\\u03ae\"], [\"\\u03a7\\u03b9\\u03bb\\u03ae\"], [\"\\u03a7\\u03b9\\u03bb\\u03ae\"], [\"\\u03a7\\u03b9\\u03bb\\u03ae\"], [\"\\u03a7\\u03b9\\u03bb\\u03ae\"], [\"\\u03a7\\u03b9\\u03bb\\u03ae\"], [\"\\u03a7\\u03b9\\u03bb\\u03ae\"]], \"hoverlabel\": {\"namelength\": 0}, \"hovertemplate\": \"\\u03a7\\u03ce\\u03c1\\u03b1=%{customdata[0]}<br>\\u0391\\u03c1\\u03b9\\u03b8\\u03bc\\u03cc\\u03c2 \\u039a\\u03c1\\u03bf\\u03c5\\u03c3\\u03bc\\u03ac\\u03c4\\u03c9\\u03bd=%{y}\", \"legendgroup\": \"\\u03a7\\u03b9\\u03bb\\u03ae\", \"line\": {\"color\": \"rgb(189,189,189)\", \"dash\": \"solid\", \"shape\": \"spline\"}, \"mode\": \"lines\", \"name\": \"\\u03a7\\u03b9\\u03bb\\u03ae\", \"showlegend\": true, \"type\": \"scatter\", \"xaxis\": \"x\", \"y\": [155, 201, 238, 238, 434, 537, 632, 746, 922, 1142, 1306, 1610, 1909, 2139, 2449, 2738, 3031, 3404, 3737, 4161, 4471, 4815, 5116, 5546, 5972, 6501, 6927, 7213], \"yaxis\": \"y\"}, {\"customdata\": [[\"\\u039a\\u03bf\\u03bb\\u03bf\\u03bc\\u03b2\\u03af\\u03b1\"], [\"\\u039a\\u03bf\\u03bb\\u03bf\\u03bc\\u03b2\\u03af\\u03b1\"], [\"\\u039a\\u03bf\\u03bb\\u03bf\\u03bc\\u03b2\\u03af\\u03b1\"], [\"\\u039a\\u03bf\\u03bb\\u03bf\\u03bc\\u03b2\\u03af\\u03b1\"], [\"\\u039a\\u03bf\\u03bb\\u03bf\\u03bc\\u03b2\\u03af\\u03b1\"], [\"\\u039a\\u03bf\\u03bb\\u03bf\\u03bc\\u03b2\\u03af\\u03b1\"], [\"\\u039a\\u03bf\\u03bb\\u03bf\\u03bc\\u03b2\\u03af\\u03b1\"], [\"\\u039a\\u03bf\\u03bb\\u03bf\\u03bc\\u03b2\\u03af\\u03b1\"], [\"\\u039a\\u03bf\\u03bb\\u03bf\\u03bc\\u03b2\\u03af\\u03b1\"], [\"\\u039a\\u03bf\\u03bb\\u03bf\\u03bc\\u03b2\\u03af\\u03b1\"], [\"\\u039a\\u03bf\\u03bb\\u03bf\\u03bc\\u03b2\\u03af\\u03b1\"], [\"\\u039a\\u03bf\\u03bb\\u03bf\\u03bc\\u03b2\\u03af\\u03b1\"], [\"\\u039a\\u03bf\\u03bb\\u03bf\\u03bc\\u03b2\\u03af\\u03b1\"], [\"\\u039a\\u03bf\\u03bb\\u03bf\\u03bc\\u03b2\\u03af\\u03b1\"], [\"\\u039a\\u03bf\\u03bb\\u03bf\\u03bc\\u03b2\\u03af\\u03b1\"], [\"\\u039a\\u03bf\\u03bb\\u03bf\\u03bc\\u03b2\\u03af\\u03b1\"], [\"\\u039a\\u03bf\\u03bb\\u03bf\\u03bc\\u03b2\\u03af\\u03b1\"], [\"\\u039a\\u03bf\\u03bb\\u03bf\\u03bc\\u03b2\\u03af\\u03b1\"], [\"\\u039a\\u03bf\\u03bb\\u03bf\\u03bc\\u03b2\\u03af\\u03b1\"], [\"\\u039a\\u03bf\\u03bb\\u03bf\\u03bc\\u03b2\\u03af\\u03b1\"], [\"\\u039a\\u03bf\\u03bb\\u03bf\\u03bc\\u03b2\\u03af\\u03b1\"], [\"\\u039a\\u03bf\\u03bb\\u03bf\\u03bc\\u03b2\\u03af\\u03b1\"], [\"\\u039a\\u03bf\\u03bb\\u03bf\\u03bc\\u03b2\\u03af\\u03b1\"], [\"\\u039a\\u03bf\\u03bb\\u03bf\\u03bc\\u03b2\\u03af\\u03b1\"], [\"\\u039a\\u03bf\\u03bb\\u03bf\\u03bc\\u03b2\\u03af\\u03b1\"]], \"hoverlabel\": {\"namelength\": 0}, \"hovertemplate\": \"\\u03a7\\u03ce\\u03c1\\u03b1=%{customdata[0]}<br>\\u0391\\u03c1\\u03b9\\u03b8\\u03bc\\u03cc\\u03c2 \\u039a\\u03c1\\u03bf\\u03c5\\u03c3\\u03bc\\u03ac\\u03c4\\u03c9\\u03bd=%{y}\", \"legendgroup\": \"\\u039a\\u03bf\\u03bb\\u03bf\\u03bc\\u03b2\\u03af\\u03b1\", \"line\": {\"color\": \"rgb(189,189,189)\", \"dash\": \"solid\", \"shape\": \"spline\"}, \"mode\": \"lines\", \"name\": \"\\u039a\\u03bf\\u03bb\\u03bf\\u03bc\\u03b2\\u03af\\u03b1\", \"showlegend\": true, \"type\": \"scatter\", \"xaxis\": \"x\", \"y\": [102, 128, 196, 231, 277, 378, 470, 491, 539, 608, 702, 798, 906, 1065, 1161, 1267, 1406, 1485, 1579, 1780, 2054, 2223, 2473, 2709, 2776], \"yaxis\": \"y\"}, {\"customdata\": [[\"\\u039b\\u03b1\\u03ca\\u03ba\\u03ae \\u0394\\u03b7\\u03bc/\\u03c4\\u03af\\u03b1 \\u039a\\u03bf\\u03bd\\u03b3\\u03ba\\u03cc\"], [\"\\u039b\\u03b1\\u03ca\\u03ba\\u03ae \\u0394\\u03b7\\u03bc/\\u03c4\\u03af\\u03b1 \\u039a\\u03bf\\u03bd\\u03b3\\u03ba\\u03cc\"], [\"\\u039b\\u03b1\\u03ca\\u03ba\\u03ae \\u0394\\u03b7\\u03bc/\\u03c4\\u03af\\u03b1 \\u039a\\u03bf\\u03bd\\u03b3\\u03ba\\u03cc\"], [\"\\u039b\\u03b1\\u03ca\\u03ba\\u03ae \\u0394\\u03b7\\u03bc/\\u03c4\\u03af\\u03b1 \\u039a\\u03bf\\u03bd\\u03b3\\u03ba\\u03cc\"], [\"\\u039b\\u03b1\\u03ca\\u03ba\\u03ae \\u0394\\u03b7\\u03bc/\\u03c4\\u03af\\u03b1 \\u039a\\u03bf\\u03bd\\u03b3\\u03ba\\u03cc\"], [\"\\u039b\\u03b1\\u03ca\\u03ba\\u03ae \\u0394\\u03b7\\u03bc/\\u03c4\\u03af\\u03b1 \\u039a\\u03bf\\u03bd\\u03b3\\u03ba\\u03cc\"], [\"\\u039b\\u03b1\\u03ca\\u03ba\\u03ae \\u0394\\u03b7\\u03bc/\\u03c4\\u03af\\u03b1 \\u039a\\u03bf\\u03bd\\u03b3\\u03ba\\u03cc\"], [\"\\u039b\\u03b1\\u03ca\\u03ba\\u03ae \\u0394\\u03b7\\u03bc/\\u03c4\\u03af\\u03b1 \\u039a\\u03bf\\u03bd\\u03b3\\u03ba\\u03cc\"], [\"\\u039b\\u03b1\\u03ca\\u03ba\\u03ae \\u0394\\u03b7\\u03bc/\\u03c4\\u03af\\u03b1 \\u039a\\u03bf\\u03bd\\u03b3\\u03ba\\u03cc\"], [\"\\u039b\\u03b1\\u03ca\\u03ba\\u03ae \\u0394\\u03b7\\u03bc/\\u03c4\\u03af\\u03b1 \\u039a\\u03bf\\u03bd\\u03b3\\u03ba\\u03cc\"], [\"\\u039b\\u03b1\\u03ca\\u03ba\\u03ae \\u0394\\u03b7\\u03bc/\\u03c4\\u03af\\u03b1 \\u039a\\u03bf\\u03bd\\u03b3\\u03ba\\u03cc\"], [\"\\u039b\\u03b1\\u03ca\\u03ba\\u03ae \\u0394\\u03b7\\u03bc/\\u03c4\\u03af\\u03b1 \\u039a\\u03bf\\u03bd\\u03b3\\u03ba\\u03cc\"]], \"hoverlabel\": {\"namelength\": 0}, \"hovertemplate\": \"\\u03a7\\u03ce\\u03c1\\u03b1=%{customdata[0]}<br>\\u0391\\u03c1\\u03b9\\u03b8\\u03bc\\u03cc\\u03c2 \\u039a\\u03c1\\u03bf\\u03c5\\u03c3\\u03bc\\u03ac\\u03c4\\u03c9\\u03bd=%{y}\", \"legendgroup\": \"\\u039b\\u03b1\\u03ca\\u03ba\\u03ae \\u0394\\u03b7\\u03bc/\\u03c4\\u03af\\u03b1 \\u039a\\u03bf\\u03bd\\u03b3\\u03ba\\u03cc\", \"line\": {\"color\": \"rgb(189,189,189)\", \"dash\": \"solid\", \"shape\": \"spline\"}, \"mode\": \"lines\", \"name\": \"\\u039b\\u03b1\\u03ca\\u03ba\\u03ae \\u0394\\u03b7\\u03bc/\\u03c4\\u03af\\u03b1 \\u039a\\u03bf\\u03bd\\u03b3\\u03ba\\u03cc\", \"showlegend\": true, \"type\": \"scatter\", \"xaxis\": \"x\", \"y\": [109, 134, 134, 154, 154, 161, 180, 180, 180, 215, 223, 234], \"yaxis\": \"y\"}, {\"customdata\": [[\"\\u039a\\u03cc\\u03c3\\u03c4\\u03b1 \\u03a1\\u03af\\u03ba\\u03b1\"], [\"\\u039a\\u03cc\\u03c3\\u03c4\\u03b1 \\u03a1\\u03af\\u03ba\\u03b1\"], [\"\\u039a\\u03cc\\u03c3\\u03c4\\u03b1 \\u03a1\\u03af\\u03ba\\u03b1\"], [\"\\u039a\\u03cc\\u03c3\\u03c4\\u03b1 \\u03a1\\u03af\\u03ba\\u03b1\"], [\"\\u039a\\u03cc\\u03c3\\u03c4\\u03b1 \\u03a1\\u03af\\u03ba\\u03b1\"], [\"\\u039a\\u03cc\\u03c3\\u03c4\\u03b1 \\u03a1\\u03af\\u03ba\\u03b1\"], [\"\\u039a\\u03cc\\u03c3\\u03c4\\u03b1 \\u03a1\\u03af\\u03ba\\u03b1\"], [\"\\u039a\\u03cc\\u03c3\\u03c4\\u03b1 \\u03a1\\u03af\\u03ba\\u03b1\"], [\"\\u039a\\u03cc\\u03c3\\u03c4\\u03b1 \\u03a1\\u03af\\u03ba\\u03b1\"], [\"\\u039a\\u03cc\\u03c3\\u03c4\\u03b1 \\u03a1\\u03af\\u03ba\\u03b1\"], [\"\\u039a\\u03cc\\u03c3\\u03c4\\u03b1 \\u03a1\\u03af\\u03ba\\u03b1\"], [\"\\u039a\\u03cc\\u03c3\\u03c4\\u03b1 \\u03a1\\u03af\\u03ba\\u03b1\"], [\"\\u039a\\u03cc\\u03c3\\u03c4\\u03b1 \\u03a1\\u03af\\u03ba\\u03b1\"], [\"\\u039a\\u03cc\\u03c3\\u03c4\\u03b1 \\u03a1\\u03af\\u03ba\\u03b1\"], [\"\\u039a\\u03cc\\u03c3\\u03c4\\u03b1 \\u03a1\\u03af\\u03ba\\u03b1\"], [\"\\u039a\\u03cc\\u03c3\\u03c4\\u03b1 \\u03a1\\u03af\\u03ba\\u03b1\"], [\"\\u039a\\u03cc\\u03c3\\u03c4\\u03b1 \\u03a1\\u03af\\u03ba\\u03b1\"], [\"\\u039a\\u03cc\\u03c3\\u03c4\\u03b1 \\u03a1\\u03af\\u03ba\\u03b1\"], [\"\\u039a\\u03cc\\u03c3\\u03c4\\u03b1 \\u03a1\\u03af\\u03ba\\u03b1\"], [\"\\u039a\\u03cc\\u03c3\\u03c4\\u03b1 \\u03a1\\u03af\\u03ba\\u03b1\"], [\"\\u039a\\u03cc\\u03c3\\u03c4\\u03b1 \\u03a1\\u03af\\u03ba\\u03b1\"], [\"\\u039a\\u03cc\\u03c3\\u03c4\\u03b1 \\u03a1\\u03af\\u03ba\\u03b1\"], [\"\\u039a\\u03cc\\u03c3\\u03c4\\u03b1 \\u03a1\\u03af\\u03ba\\u03b1\"]], \"hoverlabel\": {\"namelength\": 0}, \"hovertemplate\": \"\\u03a7\\u03ce\\u03c1\\u03b1=%{customdata[0]}<br>\\u0391\\u03c1\\u03b9\\u03b8\\u03bc\\u03cc\\u03c2 \\u039a\\u03c1\\u03bf\\u03c5\\u03c3\\u03bc\\u03ac\\u03c4\\u03c9\\u03bd=%{y}\", \"legendgroup\": \"\\u039a\\u03cc\\u03c3\\u03c4\\u03b1 \\u03a1\\u03af\\u03ba\\u03b1\", \"line\": {\"color\": \"rgb(189,189,189)\", \"dash\": \"solid\", \"shape\": \"spline\"}, \"mode\": \"lines\", \"name\": \"\\u039a\\u03cc\\u03c3\\u03c4\\u03b1 \\u03a1\\u03af\\u03ba\\u03b1\", \"showlegend\": true, \"type\": \"scatter\", \"xaxis\": \"x\", \"y\": [117, 134, 158, 177, 201, 231, 263, 295, 314, 330, 347, 375, 396, 416, 435, 454, 467, 483, 502, 539, 558, 577, 595], \"yaxis\": \"y\"}, {\"customdata\": [[\"\\u0391\\u03ba\\u03c4\\u03ae \\u0395\\u03bb\\u03b5\\u03c6\\u03b1\\u03bd\\u03c4\\u03bf\\u03c3\\u03c4\\u03bf\\u03cd\"], [\"\\u0391\\u03ba\\u03c4\\u03ae \\u0395\\u03bb\\u03b5\\u03c6\\u03b1\\u03bd\\u03c4\\u03bf\\u03c3\\u03c4\\u03bf\\u03cd\"], [\"\\u0391\\u03ba\\u03c4\\u03ae \\u0395\\u03bb\\u03b5\\u03c6\\u03b1\\u03bd\\u03c4\\u03bf\\u03c3\\u03c4\\u03bf\\u03cd\"], [\"\\u0391\\u03ba\\u03c4\\u03ae \\u0395\\u03bb\\u03b5\\u03c6\\u03b1\\u03bd\\u03c4\\u03bf\\u03c3\\u03c4\\u03bf\\u03cd\"], [\"\\u0391\\u03ba\\u03c4\\u03ae \\u0395\\u03bb\\u03b5\\u03c6\\u03b1\\u03bd\\u03c4\\u03bf\\u03c3\\u03c4\\u03bf\\u03cd\"], [\"\\u0391\\u03ba\\u03c4\\u03ae \\u0395\\u03bb\\u03b5\\u03c6\\u03b1\\u03bd\\u03c4\\u03bf\\u03c3\\u03c4\\u03bf\\u03cd\"], [\"\\u0391\\u03ba\\u03c4\\u03ae \\u0395\\u03bb\\u03b5\\u03c6\\u03b1\\u03bd\\u03c4\\u03bf\\u03c3\\u03c4\\u03bf\\u03cd\"], [\"\\u0391\\u03ba\\u03c4\\u03ae \\u0395\\u03bb\\u03b5\\u03c6\\u03b1\\u03bd\\u03c4\\u03bf\\u03c3\\u03c4\\u03bf\\u03cd\"], [\"\\u0391\\u03ba\\u03c4\\u03ae \\u0395\\u03bb\\u03b5\\u03c6\\u03b1\\u03bd\\u03c4\\u03bf\\u03c3\\u03c4\\u03bf\\u03cd\"], [\"\\u0391\\u03ba\\u03c4\\u03ae \\u0395\\u03bb\\u03b5\\u03c6\\u03b1\\u03bd\\u03c4\\u03bf\\u03c3\\u03c4\\u03bf\\u03cd\"], [\"\\u0391\\u03ba\\u03c4\\u03ae \\u0395\\u03bb\\u03b5\\u03c6\\u03b1\\u03bd\\u03c4\\u03bf\\u03c3\\u03c4\\u03bf\\u03cd\"], [\"\\u0391\\u03ba\\u03c4\\u03ae \\u0395\\u03bb\\u03b5\\u03c6\\u03b1\\u03bd\\u03c4\\u03bf\\u03c3\\u03c4\\u03bf\\u03cd\"], [\"\\u0391\\u03ba\\u03c4\\u03ae \\u0395\\u03bb\\u03b5\\u03c6\\u03b1\\u03bd\\u03c4\\u03bf\\u03c3\\u03c4\\u03bf\\u03cd\"], [\"\\u0391\\u03ba\\u03c4\\u03ae \\u0395\\u03bb\\u03b5\\u03c6\\u03b1\\u03bd\\u03c4\\u03bf\\u03c3\\u03c4\\u03bf\\u03cd\"], [\"\\u0391\\u03ba\\u03c4\\u03ae \\u0395\\u03bb\\u03b5\\u03c6\\u03b1\\u03bd\\u03c4\\u03bf\\u03c3\\u03c4\\u03bf\\u03cd\"], [\"\\u0391\\u03ba\\u03c4\\u03ae \\u0395\\u03bb\\u03b5\\u03c6\\u03b1\\u03bd\\u03c4\\u03bf\\u03c3\\u03c4\\u03bf\\u03cd\"], [\"\\u0391\\u03ba\\u03c4\\u03ae \\u0395\\u03bb\\u03b5\\u03c6\\u03b1\\u03bd\\u03c4\\u03bf\\u03c3\\u03c4\\u03bf\\u03cd\"]], \"hoverlabel\": {\"namelength\": 0}, \"hovertemplate\": \"\\u03a7\\u03ce\\u03c1\\u03b1=%{customdata[0]}<br>\\u0391\\u03c1\\u03b9\\u03b8\\u03bc\\u03cc\\u03c2 \\u039a\\u03c1\\u03bf\\u03c5\\u03c3\\u03bc\\u03ac\\u03c4\\u03c9\\u03bd=%{y}\", \"legendgroup\": \"\\u0391\\u03ba\\u03c4\\u03ae \\u0395\\u03bb\\u03b5\\u03c6\\u03b1\\u03bd\\u03c4\\u03bf\\u03c3\\u03c4\\u03bf\\u03cd\", \"line\": {\"color\": \"rgb(189,189,189)\", \"dash\": \"solid\", \"shape\": \"spline\"}, \"mode\": \"lines\", \"name\": \"\\u0391\\u03ba\\u03c4\\u03ae \\u0395\\u03bb\\u03b5\\u03c6\\u03b1\\u03bd\\u03c4\\u03bf\\u03c3\\u03c4\\u03bf\\u03cd\", \"showlegend\": true, \"type\": \"scatter\", \"xaxis\": \"x\", \"y\": [101, 101, 165, 168, 179, 190, 194, 218, 245, 261, 323, 349, 384, 444, 444, 533, 574], \"yaxis\": \"y\"}, {\"customdata\": [[\"\\u039a\\u03c1\\u03bf\\u03b1\\u03c4\\u03af\\u03b1\"], [\"\\u039a\\u03c1\\u03bf\\u03b1\\u03c4\\u03af\\u03b1\"], [\"\\u039a\\u03c1\\u03bf\\u03b1\\u03c4\\u03af\\u03b1\"], [\"\\u039a\\u03c1\\u03bf\\u03b1\\u03c4\\u03af\\u03b1\"], [\"\\u039a\\u03c1\\u03bf\\u03b1\\u03c4\\u03af\\u03b1\"], [\"\\u039a\\u03c1\\u03bf\\u03b1\\u03c4\\u03af\\u03b1\"], [\"\\u039a\\u03c1\\u03bf\\u03b1\\u03c4\\u03af\\u03b1\"], [\"\\u039a\\u03c1\\u03bf\\u03b1\\u03c4\\u03af\\u03b1\"], [\"\\u039a\\u03c1\\u03bf\\u03b1\\u03c4\\u03af\\u03b1\"], [\"\\u039a\\u03c1\\u03bf\\u03b1\\u03c4\\u03af\\u03b1\"], [\"\\u039a\\u03c1\\u03bf\\u03b1\\u03c4\\u03af\\u03b1\"], [\"\\u039a\\u03c1\\u03bf\\u03b1\\u03c4\\u03af\\u03b1\"], [\"\\u039a\\u03c1\\u03bf\\u03b1\\u03c4\\u03af\\u03b1\"], [\"\\u039a\\u03c1\\u03bf\\u03b1\\u03c4\\u03af\\u03b1\"], [\"\\u039a\\u03c1\\u03bf\\u03b1\\u03c4\\u03af\\u03b1\"], [\"\\u039a\\u03c1\\u03bf\\u03b1\\u03c4\\u03af\\u03b1\"], [\"\\u039a\\u03c1\\u03bf\\u03b1\\u03c4\\u03af\\u03b1\"], [\"\\u039a\\u03c1\\u03bf\\u03b1\\u03c4\\u03af\\u03b1\"], [\"\\u039a\\u03c1\\u03bf\\u03b1\\u03c4\\u03af\\u03b1\"], [\"\\u039a\\u03c1\\u03bf\\u03b1\\u03c4\\u03af\\u03b1\"], [\"\\u039a\\u03c1\\u03bf\\u03b1\\u03c4\\u03af\\u03b1\"], [\"\\u039a\\u03c1\\u03bf\\u03b1\\u03c4\\u03af\\u03b1\"], [\"\\u039a\\u03c1\\u03bf\\u03b1\\u03c4\\u03af\\u03b1\"], [\"\\u039a\\u03c1\\u03bf\\u03b1\\u03c4\\u03af\\u03b1\"], [\"\\u039a\\u03c1\\u03bf\\u03b1\\u03c4\\u03af\\u03b1\"]], \"hoverlabel\": {\"namelength\": 0}, \"hovertemplate\": \"\\u03a7\\u03ce\\u03c1\\u03b1=%{customdata[0]}<br>\\u0391\\u03c1\\u03b9\\u03b8\\u03bc\\u03cc\\u03c2 \\u039a\\u03c1\\u03bf\\u03c5\\u03c3\\u03bc\\u03ac\\u03c4\\u03c9\\u03bd=%{y}\", \"legendgroup\": \"\\u039a\\u03c1\\u03bf\\u03b1\\u03c4\\u03af\\u03b1\", \"line\": {\"color\": \"rgb(189,189,189)\", \"dash\": \"solid\", \"shape\": \"spline\"}, \"mode\": \"lines\", \"name\": \"\\u039a\\u03c1\\u03bf\\u03b1\\u03c4\\u03af\\u03b1\", \"showlegend\": true, \"type\": \"scatter\", \"xaxis\": \"x\", \"y\": [105, 128, 206, 254, 315, 382, 442, 495, 586, 657, 713, 790, 867, 963, 1011, 1079, 1126, 1182, 1222, 1282, 1343, 1407, 1495, 1534, 1600], \"yaxis\": \"y\"}, {\"customdata\": [[\"\\u039a\\u03bf\\u03cd\\u03b2\\u03b1\"], [\"\\u039a\\u03bf\\u03cd\\u03b2\\u03b1\"], [\"\\u039a\\u03bf\\u03cd\\u03b2\\u03b1\"], [\"\\u039a\\u03bf\\u03cd\\u03b2\\u03b1\"], [\"\\u039a\\u03bf\\u03cd\\u03b2\\u03b1\"], [\"\\u039a\\u03bf\\u03cd\\u03b2\\u03b1\"], [\"\\u039a\\u03bf\\u03cd\\u03b2\\u03b1\"], [\"\\u039a\\u03bf\\u03cd\\u03b2\\u03b1\"], [\"\\u039a\\u03bf\\u03cd\\u03b2\\u03b1\"], [\"\\u039a\\u03bf\\u03cd\\u03b2\\u03b1\"], [\"\\u039a\\u03bf\\u03cd\\u03b2\\u03b1\"], [\"\\u039a\\u03bf\\u03cd\\u03b2\\u03b1\"], [\"\\u039a\\u03bf\\u03cd\\u03b2\\u03b1\"], [\"\\u039a\\u03bf\\u03cd\\u03b2\\u03b1\"], [\"\\u039a\\u03bf\\u03cd\\u03b2\\u03b1\"], [\"\\u039a\\u03bf\\u03cd\\u03b2\\u03b1\"]], \"hoverlabel\": {\"namelength\": 0}, \"hovertemplate\": \"\\u03a7\\u03ce\\u03c1\\u03b1=%{customdata[0]}<br>\\u0391\\u03c1\\u03b9\\u03b8\\u03bc\\u03cc\\u03c2 \\u039a\\u03c1\\u03bf\\u03c5\\u03c3\\u03bc\\u03ac\\u03c4\\u03c9\\u03bd=%{y}\", \"legendgroup\": \"\\u039a\\u03bf\\u03cd\\u03b2\\u03b1\", \"line\": {\"color\": \"rgb(189,189,189)\", \"dash\": \"solid\", \"shape\": \"spline\"}, \"mode\": \"lines\", \"name\": \"\\u039a\\u03bf\\u03cd\\u03b2\\u03b1\", \"showlegend\": true, \"type\": \"scatter\", \"xaxis\": \"x\", \"y\": [119, 139, 170, 186, 212, 233, 269, 288, 320, 350, 396, 457, 515, 564, 620, 669], \"yaxis\": \"y\"}, {\"customdata\": [[\"\\u039a\\u03cd\\u03c0\\u03c1\\u03bf\\u03c2\"], [\"\\u039a\\u03cd\\u03c0\\u03c1\\u03bf\\u03c2\"], [\"\\u039a\\u03cd\\u03c0\\u03c1\\u03bf\\u03c2\"], [\"\\u039a\\u03cd\\u03c0\\u03c1\\u03bf\\u03c2\"], [\"\\u039a\\u03cd\\u03c0\\u03c1\\u03bf\\u03c2\"], [\"\\u039a\\u03cd\\u03c0\\u03c1\\u03bf\\u03c2\"], [\"\\u039a\\u03cd\\u03c0\\u03c1\\u03bf\\u03c2\"], [\"\\u039a\\u03cd\\u03c0\\u03c1\\u03bf\\u03c2\"], [\"\\u039a\\u03cd\\u03c0\\u03c1\\u03bf\\u03c2\"], [\"\\u039a\\u03cd\\u03c0\\u03c1\\u03bf\\u03c2\"], [\"\\u039a\\u03cd\\u03c0\\u03c1\\u03bf\\u03c2\"], [\"\\u039a\\u03cd\\u03c0\\u03c1\\u03bf\\u03c2\"], [\"\\u039a\\u03cd\\u03c0\\u03c1\\u03bf\\u03c2\"], [\"\\u039a\\u03cd\\u03c0\\u03c1\\u03bf\\u03c2\"], [\"\\u039a\\u03cd\\u03c0\\u03c1\\u03bf\\u03c2\"], [\"\\u039a\\u03cd\\u03c0\\u03c1\\u03bf\\u03c2\"], [\"\\u039a\\u03cd\\u03c0\\u03c1\\u03bf\\u03c2\"], [\"\\u039a\\u03cd\\u03c0\\u03c1\\u03bf\\u03c2\"], [\"\\u039a\\u03cd\\u03c0\\u03c1\\u03bf\\u03c2\"], [\"\\u039a\\u03cd\\u03c0\\u03c1\\u03bf\\u03c2\"], [\"\\u039a\\u03cd\\u03c0\\u03c1\\u03bf\\u03c2\"]], \"hoverlabel\": {\"namelength\": 0}, \"hovertemplate\": \"\\u03a7\\u03ce\\u03c1\\u03b1=%{customdata[0]}<br>\\u0391\\u03c1\\u03b9\\u03b8\\u03bc\\u03cc\\u03c2 \\u039a\\u03c1\\u03bf\\u03c5\\u03c3\\u03bc\\u03ac\\u03c4\\u03c9\\u03bd=%{y}\", \"legendgroup\": \"\\u039a\\u03cd\\u03c0\\u03c1\\u03bf\\u03c2\", \"line\": {\"color\": \"rgb(189,189,189)\", \"dash\": \"solid\", \"shape\": \"spline\"}, \"mode\": \"lines\", \"name\": \"\\u039a\\u03cd\\u03c0\\u03c1\\u03bf\\u03c2\", \"showlegend\": true, \"type\": \"scatter\", \"xaxis\": \"x\", \"y\": [116, 124, 132, 146, 162, 179, 214, 230, 262, 320, 356, 396, 426, 446, 465, 494, 526, 564, 595, 616, 633], \"yaxis\": \"y\"}, {\"customdata\": [[\"\\u03a4\\u03c3\\u03b5\\u03c7\\u03af\\u03b1\"], [\"\\u03a4\\u03c3\\u03b5\\u03c7\\u03af\\u03b1\"], [\"\\u03a4\\u03c3\\u03b5\\u03c7\\u03af\\u03b1\"], [\"\\u03a4\\u03c3\\u03b5\\u03c7\\u03af\\u03b1\"], [\"\\u03a4\\u03c3\\u03b5\\u03c7\\u03af\\u03b1\"], [\"\\u03a4\\u03c3\\u03b5\\u03c7\\u03af\\u03b1\"], [\"\\u03a4\\u03c3\\u03b5\\u03c7\\u03af\\u03b1\"], [\"\\u03a4\\u03c3\\u03b5\\u03c7\\u03af\\u03b1\"], [\"\\u03a4\\u03c3\\u03b5\\u03c7\\u03af\\u03b1\"], [\"\\u03a4\\u03c3\\u03b5\\u03c7\\u03af\\u03b1\"], [\"\\u03a4\\u03c3\\u03b5\\u03c7\\u03af\\u03b1\"], [\"\\u03a4\\u03c3\\u03b5\\u03c7\\u03af\\u03b1\"], [\"\\u03a4\\u03c3\\u03b5\\u03c7\\u03af\\u03b1\"], [\"\\u03a4\\u03c3\\u03b5\\u03c7\\u03af\\u03b1\"], [\"\\u03a4\\u03c3\\u03b5\\u03c7\\u03af\\u03b1\"], [\"\\u03a4\\u03c3\\u03b5\\u03c7\\u03af\\u03b1\"], [\"\\u03a4\\u03c3\\u03b5\\u03c7\\u03af\\u03b1\"], [\"\\u03a4\\u03c3\\u03b5\\u03c7\\u03af\\u03b1\"], [\"\\u03a4\\u03c3\\u03b5\\u03c7\\u03af\\u03b1\"], [\"\\u03a4\\u03c3\\u03b5\\u03c7\\u03af\\u03b1\"], [\"\\u03a4\\u03c3\\u03b5\\u03c7\\u03af\\u03b1\"], [\"\\u03a4\\u03c3\\u03b5\\u03c7\\u03af\\u03b1\"], [\"\\u03a4\\u03c3\\u03b5\\u03c7\\u03af\\u03b1\"], [\"\\u03a4\\u03c3\\u03b5\\u03c7\\u03af\\u03b1\"], [\"\\u03a4\\u03c3\\u03b5\\u03c7\\u03af\\u03b1\"], [\"\\u03a4\\u03c3\\u03b5\\u03c7\\u03af\\u03b1\"], [\"\\u03a4\\u03c3\\u03b5\\u03c7\\u03af\\u03b1\"], [\"\\u03a4\\u03c3\\u03b5\\u03c7\\u03af\\u03b1\"], [\"\\u03a4\\u03c3\\u03b5\\u03c7\\u03af\\u03b1\"], [\"\\u03a4\\u03c3\\u03b5\\u03c7\\u03af\\u03b1\"], [\"\\u03a4\\u03c3\\u03b5\\u03c7\\u03af\\u03b1\"]], \"hoverlabel\": {\"namelength\": 0}, \"hovertemplate\": \"\\u03a7\\u03ce\\u03c1\\u03b1=%{customdata[0]}<br>\\u0391\\u03c1\\u03b9\\u03b8\\u03bc\\u03cc\\u03c2 \\u039a\\u03c1\\u03bf\\u03c5\\u03c3\\u03bc\\u03ac\\u03c4\\u03c9\\u03bd=%{y}\", \"legendgroup\": \"\\u03a4\\u03c3\\u03b5\\u03c7\\u03af\\u03b1\", \"line\": {\"color\": \"rgb(189,189,189)\", \"dash\": \"solid\", \"shape\": \"spline\"}, \"mode\": \"lines\", \"name\": \"\\u03a4\\u03c3\\u03b5\\u03c7\\u03af\\u03b1\", \"showlegend\": true, \"type\": \"scatter\", \"xaxis\": \"x\", \"y\": [141, 189, 253, 298, 396, 464, 694, 833, 995, 1120, 1236, 1394, 1654, 1925, 2279, 2631, 2817, 3001, 3308, 3508, 3858, 4091, 4472, 4587, 4822, 5017, 5312, 5569, 5732, 5831, 5991], \"yaxis\": \"y\"}, {\"customdata\": [[\"\\u0394\\u03b1\\u03bd\\u03af\\u03b1\"], [\"\\u0394\\u03b1\\u03bd\\u03af\\u03b1\"], [\"\\u0394\\u03b1\\u03bd\\u03af\\u03b1\"], [\"\\u0394\\u03b1\\u03bd\\u03af\\u03b1\"], [\"\\u0394\\u03b1\\u03bd\\u03af\\u03b1\"], [\"\\u0394\\u03b1\\u03bd\\u03af\\u03b1\"], [\"\\u0394\\u03b1\\u03bd\\u03af\\u03b1\"], [\"\\u0394\\u03b1\\u03bd\\u03af\\u03b1\"], [\"\\u0394\\u03b1\\u03bd\\u03af\\u03b1\"], [\"\\u0394\\u03b1\\u03bd\\u03af\\u03b1\"], [\"\\u0394\\u03b1\\u03bd\\u03af\\u03b1\"], [\"\\u0394\\u03b1\\u03bd\\u03af\\u03b1\"], [\"\\u0394\\u03b1\\u03bd\\u03af\\u03b1\"], [\"\\u0394\\u03b1\\u03bd\\u03af\\u03b1\"], [\"\\u0394\\u03b1\\u03bd\\u03af\\u03b1\"], [\"\\u0394\\u03b1\\u03bd\\u03af\\u03b1\"], [\"\\u0394\\u03b1\\u03bd\\u03af\\u03b1\"], [\"\\u0394\\u03b1\\u03bd\\u03af\\u03b1\"], [\"\\u0394\\u03b1\\u03bd\\u03af\\u03b1\"], [\"\\u0394\\u03b1\\u03bd\\u03af\\u03b1\"], [\"\\u0394\\u03b1\\u03bd\\u03af\\u03b1\"], [\"\\u0394\\u03b1\\u03bd\\u03af\\u03b1\"], [\"\\u0394\\u03b1\\u03bd\\u03af\\u03b1\"], [\"\\u0394\\u03b1\\u03bd\\u03af\\u03b1\"], [\"\\u0394\\u03b1\\u03bd\\u03af\\u03b1\"], [\"\\u0394\\u03b1\\u03bd\\u03af\\u03b1\"], [\"\\u0394\\u03b1\\u03bd\\u03af\\u03b1\"], [\"\\u0394\\u03b1\\u03bd\\u03af\\u03b1\"], [\"\\u0394\\u03b1\\u03bd\\u03af\\u03b1\"], [\"\\u0394\\u03b1\\u03bd\\u03af\\u03b1\"], [\"\\u0394\\u03b1\\u03bd\\u03af\\u03b1\"], [\"\\u0394\\u03b1\\u03bd\\u03af\\u03b1\"], [\"\\u0394\\u03b1\\u03bd\\u03af\\u03b1\"], [\"\\u0394\\u03b1\\u03bd\\u03af\\u03b1\"]], \"hoverlabel\": {\"namelength\": 0}, \"hovertemplate\": \"\\u03a7\\u03ce\\u03c1\\u03b1=%{customdata[0]}<br>\\u0391\\u03c1\\u03b9\\u03b8\\u03bc\\u03cc\\u03c2 \\u039a\\u03c1\\u03bf\\u03c5\\u03c3\\u03bc\\u03ac\\u03c4\\u03c9\\u03bd=%{y}\", \"legendgroup\": \"\\u0394\\u03b1\\u03bd\\u03af\\u03b1\", \"line\": {\"color\": \"rgb(189,189,189)\", \"dash\": \"solid\", \"shape\": \"spline\"}, \"mode\": \"lines\", \"name\": \"\\u0394\\u03b1\\u03bd\\u03af\\u03b1\", \"showlegend\": true, \"type\": \"scatter\", \"xaxis\": \"x\", \"y\": [264, 444, 617, 804, 836, 875, 933, 1025, 1116, 1225, 1337, 1420, 1514, 1572, 1718, 1862, 2023, 2200, 2366, 2564, 2755, 3039, 3290, 3573, 3946, 4269, 4561, 4875, 5266, 5597, 5830, 6014, 6191, 6369], \"yaxis\": \"y\"}, {\"customdata\": [[\"\\u03a4\\u03b6\\u03b9\\u03bc\\u03c0\\u03bf\\u03c5\\u03c4\\u03af\"], [\"\\u03a4\\u03b6\\u03b9\\u03bc\\u03c0\\u03bf\\u03c5\\u03c4\\u03af\"], [\"\\u03a4\\u03b6\\u03b9\\u03bc\\u03c0\\u03bf\\u03c5\\u03c4\\u03af\"], [\"\\u03a4\\u03b6\\u03b9\\u03bc\\u03c0\\u03bf\\u03c5\\u03c4\\u03af\"], [\"\\u03a4\\u03b6\\u03b9\\u03bc\\u03c0\\u03bf\\u03c5\\u03c4\\u03af\"]], \"hoverlabel\": {\"namelength\": 0}, \"hovertemplate\": \"\\u03a7\\u03ce\\u03c1\\u03b1=%{customdata[0]}<br>\\u0391\\u03c1\\u03b9\\u03b8\\u03bc\\u03cc\\u03c2 \\u039a\\u03c1\\u03bf\\u03c5\\u03c3\\u03bc\\u03ac\\u03c4\\u03c9\\u03bd=%{y}\", \"legendgroup\": \"\\u03a4\\u03b6\\u03b9\\u03bc\\u03c0\\u03bf\\u03c5\\u03c4\\u03af\", \"line\": {\"color\": \"rgb(189,189,189)\", \"dash\": \"solid\", \"shape\": \"spline\"}, \"mode\": \"lines\", \"name\": \"\\u03a4\\u03b6\\u03b9\\u03bc\\u03c0\\u03bf\\u03c5\\u03c4\\u03af\", \"showlegend\": true, \"type\": \"scatter\", \"xaxis\": \"x\", \"y\": [135, 135, 150, 187, 214], \"yaxis\": \"y\"}, {\"customdata\": [[\"\\u0394\\u03bf\\u03bc\\u03b9\\u03bd\\u03b9\\u03ba\\u03b1\\u03bd\\u03ae \\u0394\\u03b7\\u03bc/\\u03c4\\u03af\\u03b1\"], [\"\\u0394\\u03bf\\u03bc\\u03b9\\u03bd\\u03b9\\u03ba\\u03b1\\u03bd\\u03ae \\u0394\\u03b7\\u03bc/\\u03c4\\u03af\\u03b1\"], [\"\\u0394\\u03bf\\u03bc\\u03b9\\u03bd\\u03b9\\u03ba\\u03b1\\u03bd\\u03ae \\u0394\\u03b7\\u03bc/\\u03c4\\u03af\\u03b1\"], [\"\\u0394\\u03bf\\u03bc\\u03b9\\u03bd\\u03b9\\u03ba\\u03b1\\u03bd\\u03ae \\u0394\\u03b7\\u03bc/\\u03c4\\u03af\\u03b1\"], [\"\\u0394\\u03bf\\u03bc\\u03b9\\u03bd\\u03b9\\u03ba\\u03b1\\u03bd\\u03ae \\u0394\\u03b7\\u03bc/\\u03c4\\u03af\\u03b1\"], [\"\\u0394\\u03bf\\u03bc\\u03b9\\u03bd\\u03b9\\u03ba\\u03b1\\u03bd\\u03ae \\u0394\\u03b7\\u03bc/\\u03c4\\u03af\\u03b1\"], [\"\\u0394\\u03bf\\u03bc\\u03b9\\u03bd\\u03b9\\u03ba\\u03b1\\u03bd\\u03ae \\u0394\\u03b7\\u03bc/\\u03c4\\u03af\\u03b1\"], [\"\\u0394\\u03bf\\u03bc\\u03b9\\u03bd\\u03b9\\u03ba\\u03b1\\u03bd\\u03ae \\u0394\\u03b7\\u03bc/\\u03c4\\u03af\\u03b1\"], [\"\\u0394\\u03bf\\u03bc\\u03b9\\u03bd\\u03b9\\u03ba\\u03b1\\u03bd\\u03ae \\u0394\\u03b7\\u03bc/\\u03c4\\u03af\\u03b1\"], [\"\\u0394\\u03bf\\u03bc\\u03b9\\u03bd\\u03b9\\u03ba\\u03b1\\u03bd\\u03ae \\u0394\\u03b7\\u03bc/\\u03c4\\u03af\\u03b1\"], [\"\\u0394\\u03bf\\u03bc\\u03b9\\u03bd\\u03b9\\u03ba\\u03b1\\u03bd\\u03ae \\u0394\\u03b7\\u03bc/\\u03c4\\u03af\\u03b1\"], [\"\\u0394\\u03bf\\u03bc\\u03b9\\u03bd\\u03b9\\u03ba\\u03b1\\u03bd\\u03ae \\u0394\\u03b7\\u03bc/\\u03c4\\u03af\\u03b1\"], [\"\\u0394\\u03bf\\u03bc\\u03b9\\u03bd\\u03b9\\u03ba\\u03b1\\u03bd\\u03ae \\u0394\\u03b7\\u03bc/\\u03c4\\u03af\\u03b1\"], [\"\\u0394\\u03bf\\u03bc\\u03b9\\u03bd\\u03b9\\u03ba\\u03b1\\u03bd\\u03ae \\u0394\\u03b7\\u03bc/\\u03c4\\u03af\\u03b1\"], [\"\\u0394\\u03bf\\u03bc\\u03b9\\u03bd\\u03b9\\u03ba\\u03b1\\u03bd\\u03ae \\u0394\\u03b7\\u03bc/\\u03c4\\u03af\\u03b1\"], [\"\\u0394\\u03bf\\u03bc\\u03b9\\u03bd\\u03b9\\u03ba\\u03b1\\u03bd\\u03ae \\u0394\\u03b7\\u03bc/\\u03c4\\u03af\\u03b1\"], [\"\\u0394\\u03bf\\u03bc\\u03b9\\u03bd\\u03b9\\u03ba\\u03b1\\u03bd\\u03ae \\u0394\\u03b7\\u03bc/\\u03c4\\u03af\\u03b1\"], [\"\\u0394\\u03bf\\u03bc\\u03b9\\u03bd\\u03b9\\u03ba\\u03b1\\u03bd\\u03ae \\u0394\\u03b7\\u03bc/\\u03c4\\u03af\\u03b1\"], [\"\\u0394\\u03bf\\u03bc\\u03b9\\u03bd\\u03b9\\u03ba\\u03b1\\u03bd\\u03ae \\u0394\\u03b7\\u03bc/\\u03c4\\u03af\\u03b1\"], [\"\\u0394\\u03bf\\u03bc\\u03b9\\u03bd\\u03b9\\u03ba\\u03b1\\u03bd\\u03ae \\u0394\\u03b7\\u03bc/\\u03c4\\u03af\\u03b1\"], [\"\\u0394\\u03bf\\u03bc\\u03b9\\u03bd\\u03b9\\u03ba\\u03b1\\u03bd\\u03ae \\u0394\\u03b7\\u03bc/\\u03c4\\u03af\\u03b1\"], [\"\\u0394\\u03bf\\u03bc\\u03b9\\u03bd\\u03b9\\u03ba\\u03b1\\u03bd\\u03ae \\u0394\\u03b7\\u03bc/\\u03c4\\u03af\\u03b1\"], [\"\\u0394\\u03bf\\u03bc\\u03b9\\u03bd\\u03b9\\u03ba\\u03b1\\u03bd\\u03ae \\u0394\\u03b7\\u03bc/\\u03c4\\u03af\\u03b1\"]], \"hoverlabel\": {\"namelength\": 0}, \"hovertemplate\": \"\\u03a7\\u03ce\\u03c1\\u03b1=%{customdata[0]}<br>\\u0391\\u03c1\\u03b9\\u03b8\\u03bc\\u03cc\\u03c2 \\u039a\\u03c1\\u03bf\\u03c5\\u03c3\\u03bc\\u03ac\\u03c4\\u03c9\\u03bd=%{y}\", \"legendgroup\": \"\\u0394\\u03bf\\u03bc\\u03b9\\u03bd\\u03b9\\u03ba\\u03b1\\u03bd\\u03ae \\u0394\\u03b7\\u03bc/\\u03c4\\u03af\\u03b1\", \"line\": {\"color\": \"rgb(189,189,189)\", \"dash\": \"solid\", \"shape\": \"spline\"}, \"mode\": \"lines\", \"name\": \"\\u0394\\u03bf\\u03bc\\u03b9\\u03bd\\u03b9\\u03ba\\u03b1\\u03bd\\u03ae \\u0394\\u03b7\\u03bc/\\u03c4\\u03af\\u03b1\", \"showlegend\": true, \"type\": \"scatter\", \"xaxis\": \"x\", \"y\": [112, 202, 245, 312, 392, 488, 581, 719, 859, 901, 1109, 1284, 1380, 1488, 1488, 1745, 1828, 1956, 2111, 2349, 2620, 2759, 2967], \"yaxis\": \"y\"}, {\"customdata\": [[\"\\u0399\\u03c3\\u03b7\\u03bc\\u03b5\\u03c1\\u03b9\\u03bd\\u03cc\\u03c2\"], [\"\\u0399\\u03c3\\u03b7\\u03bc\\u03b5\\u03c1\\u03b9\\u03bd\\u03cc\\u03c2\"], [\"\\u0399\\u03c3\\u03b7\\u03bc\\u03b5\\u03c1\\u03b9\\u03bd\\u03cc\\u03c2\"], [\"\\u0399\\u03c3\\u03b7\\u03bc\\u03b5\\u03c1\\u03b9\\u03bd\\u03cc\\u03c2\"], [\"\\u0399\\u03c3\\u03b7\\u03bc\\u03b5\\u03c1\\u03b9\\u03bd\\u03cc\\u03c2\"], [\"\\u0399\\u03c3\\u03b7\\u03bc\\u03b5\\u03c1\\u03b9\\u03bd\\u03cc\\u03c2\"], [\"\\u0399\\u03c3\\u03b7\\u03bc\\u03b5\\u03c1\\u03b9\\u03bd\\u03cc\\u03c2\"], [\"\\u0399\\u03c3\\u03b7\\u03bc\\u03b5\\u03c1\\u03b9\\u03bd\\u03cc\\u03c2\"], [\"\\u0399\\u03c3\\u03b7\\u03bc\\u03b5\\u03c1\\u03b9\\u03bd\\u03cc\\u03c2\"], [\"\\u0399\\u03c3\\u03b7\\u03bc\\u03b5\\u03c1\\u03b9\\u03bd\\u03cc\\u03c2\"], [\"\\u0399\\u03c3\\u03b7\\u03bc\\u03b5\\u03c1\\u03b9\\u03bd\\u03cc\\u03c2\"], [\"\\u0399\\u03c3\\u03b7\\u03bc\\u03b5\\u03c1\\u03b9\\u03bd\\u03cc\\u03c2\"], [\"\\u0399\\u03c3\\u03b7\\u03bc\\u03b5\\u03c1\\u03b9\\u03bd\\u03cc\\u03c2\"], [\"\\u0399\\u03c3\\u03b7\\u03bc\\u03b5\\u03c1\\u03b9\\u03bd\\u03cc\\u03c2\"], [\"\\u0399\\u03c3\\u03b7\\u03bc\\u03b5\\u03c1\\u03b9\\u03bd\\u03cc\\u03c2\"], [\"\\u0399\\u03c3\\u03b7\\u03bc\\u03b5\\u03c1\\u03b9\\u03bd\\u03cc\\u03c2\"], [\"\\u0399\\u03c3\\u03b7\\u03bc\\u03b5\\u03c1\\u03b9\\u03bd\\u03cc\\u03c2\"], [\"\\u0399\\u03c3\\u03b7\\u03bc\\u03b5\\u03c1\\u03b9\\u03bd\\u03cc\\u03c2\"], [\"\\u0399\\u03c3\\u03b7\\u03bc\\u03b5\\u03c1\\u03b9\\u03bd\\u03cc\\u03c2\"], [\"\\u0399\\u03c3\\u03b7\\u03bc\\u03b5\\u03c1\\u03b9\\u03bd\\u03cc\\u03c2\"], [\"\\u0399\\u03c3\\u03b7\\u03bc\\u03b5\\u03c1\\u03b9\\u03bd\\u03cc\\u03c2\"], [\"\\u0399\\u03c3\\u03b7\\u03bc\\u03b5\\u03c1\\u03b9\\u03bd\\u03cc\\u03c2\"], [\"\\u0399\\u03c3\\u03b7\\u03bc\\u03b5\\u03c1\\u03b9\\u03bd\\u03cc\\u03c2\"], [\"\\u0399\\u03c3\\u03b7\\u03bc\\u03b5\\u03c1\\u03b9\\u03bd\\u03cc\\u03c2\"], [\"\\u0399\\u03c3\\u03b7\\u03bc\\u03b5\\u03c1\\u03b9\\u03bd\\u03cc\\u03c2\"], [\"\\u0399\\u03c3\\u03b7\\u03bc\\u03b5\\u03c1\\u03b9\\u03bd\\u03cc\\u03c2\"]], \"hoverlabel\": {\"namelength\": 0}, \"hovertemplate\": \"\\u03a7\\u03ce\\u03c1\\u03b1=%{customdata[0]}<br>\\u0391\\u03c1\\u03b9\\u03b8\\u03bc\\u03cc\\u03c2 \\u039a\\u03c1\\u03bf\\u03c5\\u03c3\\u03bc\\u03ac\\u03c4\\u03c9\\u03bd=%{y}\", \"legendgroup\": \"\\u0399\\u03c3\\u03b7\\u03bc\\u03b5\\u03c1\\u03b9\\u03bd\\u03cc\\u03c2\", \"line\": {\"color\": \"rgb(189,189,189)\", \"dash\": \"solid\", \"shape\": \"spline\"}, \"mode\": \"lines\", \"name\": \"\\u0399\\u03c3\\u03b7\\u03bc\\u03b5\\u03c1\\u03b9\\u03bd\\u03cc\\u03c2\", \"showlegend\": true, \"type\": \"scatter\", \"xaxis\": \"x\", \"y\": [111, 199, 367, 506, 789, 981, 1082, 1173, 1403, 1595, 1823, 1924, 1962, 2240, 2748, 3163, 3368, 3465, 3646, 3747, 3747, 4450, 4965, 7161, 7257, 7466], \"yaxis\": \"y\"}, {\"customdata\": [[\"\\u0391\\u03af\\u03b3\\u03c5\\u03c0\\u03c4\\u03bf\\u03c2\"], [\"\\u0391\\u03af\\u03b3\\u03c5\\u03c0\\u03c4\\u03bf\\u03c2\"], [\"\\u0391\\u03af\\u03b3\\u03c5\\u03c0\\u03c4\\u03bf\\u03c2\"], [\"\\u0391\\u03af\\u03b3\\u03c5\\u03c0\\u03c4\\u03bf\\u03c2\"], [\"\\u0391\\u03af\\u03b3\\u03c5\\u03c0\\u03c4\\u03bf\\u03c2\"], [\"\\u0391\\u03af\\u03b3\\u03c5\\u03c0\\u03c4\\u03bf\\u03c2\"], [\"\\u0391\\u03af\\u03b3\\u03c5\\u03c0\\u03c4\\u03bf\\u03c2\"], [\"\\u0391\\u03af\\u03b3\\u03c5\\u03c0\\u03c4\\u03bf\\u03c2\"], [\"\\u0391\\u03af\\u03b3\\u03c5\\u03c0\\u03c4\\u03bf\\u03c2\"], [\"\\u0391\\u03af\\u03b3\\u03c5\\u03c0\\u03c4\\u03bf\\u03c2\"], [\"\\u0391\\u03af\\u03b3\\u03c5\\u03c0\\u03c4\\u03bf\\u03c2\"], [\"\\u0391\\u03af\\u03b3\\u03c5\\u03c0\\u03c4\\u03bf\\u03c2\"], [\"\\u0391\\u03af\\u03b3\\u03c5\\u03c0\\u03c4\\u03bf\\u03c2\"], [\"\\u0391\\u03af\\u03b3\\u03c5\\u03c0\\u03c4\\u03bf\\u03c2\"], [\"\\u0391\\u03af\\u03b3\\u03c5\\u03c0\\u03c4\\u03bf\\u03c2\"], [\"\\u0391\\u03af\\u03b3\\u03c5\\u03c0\\u03c4\\u03bf\\u03c2\"], [\"\\u0391\\u03af\\u03b3\\u03c5\\u03c0\\u03c4\\u03bf\\u03c2\"], [\"\\u0391\\u03af\\u03b3\\u03c5\\u03c0\\u03c4\\u03bf\\u03c2\"], [\"\\u0391\\u03af\\u03b3\\u03c5\\u03c0\\u03c4\\u03bf\\u03c2\"], [\"\\u0391\\u03af\\u03b3\\u03c5\\u03c0\\u03c4\\u03bf\\u03c2\"], [\"\\u0391\\u03af\\u03b3\\u03c5\\u03c0\\u03c4\\u03bf\\u03c2\"], [\"\\u0391\\u03af\\u03b3\\u03c5\\u03c0\\u03c4\\u03bf\\u03c2\"], [\"\\u0391\\u03af\\u03b3\\u03c5\\u03c0\\u03c4\\u03bf\\u03c2\"], [\"\\u0391\\u03af\\u03b3\\u03c5\\u03c0\\u03c4\\u03bf\\u03c2\"], [\"\\u0391\\u03af\\u03b3\\u03c5\\u03c0\\u03c4\\u03bf\\u03c2\"], [\"\\u0391\\u03af\\u03b3\\u03c5\\u03c0\\u03c4\\u03bf\\u03c2\"], [\"\\u0391\\u03af\\u03b3\\u03c5\\u03c0\\u03c4\\u03bf\\u03c2\"], [\"\\u0391\\u03af\\u03b3\\u03c5\\u03c0\\u03c4\\u03bf\\u03c2\"], [\"\\u0391\\u03af\\u03b3\\u03c5\\u03c0\\u03c4\\u03bf\\u03c2\"], [\"\\u0391\\u03af\\u03b3\\u03c5\\u03c0\\u03c4\\u03bf\\u03c2\"]], \"hoverlabel\": {\"namelength\": 0}, \"hovertemplate\": \"\\u03a7\\u03ce\\u03c1\\u03b1=%{customdata[0]}<br>\\u0391\\u03c1\\u03b9\\u03b8\\u03bc\\u03cc\\u03c2 \\u039a\\u03c1\\u03bf\\u03c5\\u03c3\\u03bc\\u03ac\\u03c4\\u03c9\\u03bd=%{y}\", \"legendgroup\": \"\\u0391\\u03af\\u03b3\\u03c5\\u03c0\\u03c4\\u03bf\\u03c2\", \"line\": {\"color\": \"rgb(189,189,189)\", \"dash\": \"solid\", \"shape\": \"spline\"}, \"mode\": \"lines\", \"name\": \"\\u0391\\u03af\\u03b3\\u03c5\\u03c0\\u03c4\\u03bf\\u03c2\", \"showlegend\": true, \"type\": \"scatter\", \"xaxis\": \"x\", \"y\": [109, 110, 150, 196, 196, 256, 285, 294, 327, 366, 402, 456, 495, 536, 576, 609, 656, 710, 779, 865, 985, 1070, 1173, 1322, 1450, 1560, 1699, 1794, 1939, 2065], \"yaxis\": \"y\"}, {\"customdata\": [[\"\\u0395\\u03bb \\u03a3\\u03b1\\u03bb\\u03b2\\u03b1\\u03b4\\u03cc\\u03c1\"], [\"\\u0395\\u03bb \\u03a3\\u03b1\\u03bb\\u03b2\\u03b1\\u03b4\\u03cc\\u03c1\"], [\"\\u0395\\u03bb \\u03a3\\u03b1\\u03bb\\u03b2\\u03b1\\u03b4\\u03cc\\u03c1\"], [\"\\u0395\\u03bb \\u03a3\\u03b1\\u03bb\\u03b2\\u03b1\\u03b4\\u03cc\\u03c1\"]], \"hoverlabel\": {\"namelength\": 0}, \"hovertemplate\": \"\\u03a7\\u03ce\\u03c1\\u03b1=%{customdata[0]}<br>\\u0391\\u03c1\\u03b9\\u03b8\\u03bc\\u03cc\\u03c2 \\u039a\\u03c1\\u03bf\\u03c5\\u03c3\\u03bc\\u03ac\\u03c4\\u03c9\\u03bd=%{y}\", \"legendgroup\": \"\\u0395\\u03bb \\u03a3\\u03b1\\u03bb\\u03b2\\u03b1\\u03b4\\u03cc\\u03c1\", \"line\": {\"color\": \"rgb(189,189,189)\", \"dash\": \"solid\", \"shape\": \"spline\"}, \"mode\": \"lines\", \"name\": \"\\u0395\\u03bb \\u03a3\\u03b1\\u03bb\\u03b2\\u03b1\\u03b4\\u03cc\\u03c1\", \"showlegend\": true, \"type\": \"scatter\", \"xaxis\": \"x\", \"y\": [103, 117, 118, 125], \"yaxis\": \"y\"}, {\"customdata\": [[\"\\u0395\\u03c3\\u03b8\\u03bf\\u03bd\\u03af\\u03b1\"], [\"\\u0395\\u03c3\\u03b8\\u03bf\\u03bd\\u03af\\u03b1\"], [\"\\u0395\\u03c3\\u03b8\\u03bf\\u03bd\\u03af\\u03b1\"], [\"\\u0395\\u03c3\\u03b8\\u03bf\\u03bd\\u03af\\u03b1\"], [\"\\u0395\\u03c3\\u03b8\\u03bf\\u03bd\\u03af\\u03b1\"], [\"\\u0395\\u03c3\\u03b8\\u03bf\\u03bd\\u03af\\u03b1\"], [\"\\u0395\\u03c3\\u03b8\\u03bf\\u03bd\\u03af\\u03b1\"], [\"\\u0395\\u03c3\\u03b8\\u03bf\\u03bd\\u03af\\u03b1\"], [\"\\u0395\\u03c3\\u03b8\\u03bf\\u03bd\\u03af\\u03b1\"], [\"\\u0395\\u03c3\\u03b8\\u03bf\\u03bd\\u03af\\u03b1\"], [\"\\u0395\\u03c3\\u03b8\\u03bf\\u03bd\\u03af\\u03b1\"], [\"\\u0395\\u03c3\\u03b8\\u03bf\\u03bd\\u03af\\u03b1\"], [\"\\u0395\\u03c3\\u03b8\\u03bf\\u03bd\\u03af\\u03b1\"], [\"\\u0395\\u03c3\\u03b8\\u03bf\\u03bd\\u03af\\u03b1\"], [\"\\u0395\\u03c3\\u03b8\\u03bf\\u03bd\\u03af\\u03b1\"], [\"\\u0395\\u03c3\\u03b8\\u03bf\\u03bd\\u03af\\u03b1\"], [\"\\u0395\\u03c3\\u03b8\\u03bf\\u03bd\\u03af\\u03b1\"], [\"\\u0395\\u03c3\\u03b8\\u03bf\\u03bd\\u03af\\u03b1\"], [\"\\u0395\\u03c3\\u03b8\\u03bf\\u03bd\\u03af\\u03b1\"], [\"\\u0395\\u03c3\\u03b8\\u03bf\\u03bd\\u03af\\u03b1\"], [\"\\u0395\\u03c3\\u03b8\\u03bf\\u03bd\\u03af\\u03b1\"], [\"\\u0395\\u03c3\\u03b8\\u03bf\\u03bd\\u03af\\u03b1\"], [\"\\u0395\\u03c3\\u03b8\\u03bf\\u03bd\\u03af\\u03b1\"], [\"\\u0395\\u03c3\\u03b8\\u03bf\\u03bd\\u03af\\u03b1\"], [\"\\u0395\\u03c3\\u03b8\\u03bf\\u03bd\\u03af\\u03b1\"], [\"\\u0395\\u03c3\\u03b8\\u03bf\\u03bd\\u03af\\u03b1\"], [\"\\u0395\\u03c3\\u03b8\\u03bf\\u03bd\\u03af\\u03b1\"], [\"\\u0395\\u03c3\\u03b8\\u03bf\\u03bd\\u03af\\u03b1\"], [\"\\u0395\\u03c3\\u03b8\\u03bf\\u03bd\\u03af\\u03b1\"], [\"\\u0395\\u03c3\\u03b8\\u03bf\\u03bd\\u03af\\u03b1\"]], \"hoverlabel\": {\"namelength\": 0}, \"hovertemplate\": \"\\u03a7\\u03ce\\u03c1\\u03b1=%{customdata[0]}<br>\\u0391\\u03c1\\u03b9\\u03b8\\u03bc\\u03cc\\u03c2 \\u039a\\u03c1\\u03bf\\u03c5\\u03c3\\u03bc\\u03ac\\u03c4\\u03c9\\u03bd=%{y}\", \"legendgroup\": \"\\u0395\\u03c3\\u03b8\\u03bf\\u03bd\\u03af\\u03b1\", \"line\": {\"color\": \"rgb(189,189,189)\", \"dash\": \"solid\", \"shape\": \"spline\"}, \"mode\": \"lines\", \"name\": \"\\u0395\\u03c3\\u03b8\\u03bf\\u03bd\\u03af\\u03b1\", \"showlegend\": true, \"type\": \"scatter\", \"xaxis\": \"x\", \"y\": [115, 171, 205, 225, 258, 267, 283, 306, 326, 352, 369, 404, 538, 575, 645, 679, 715, 745, 779, 858, 961, 1039, 1097, 1108, 1149, 1185, 1207, 1258, 1304, 1309], \"yaxis\": \"y\"}, {\"customdata\": [[\"\\u03a6\\u03b9\\u03bd\\u03bb\\u03b1\\u03bd\\u03b4\\u03af\\u03b1\"], [\"\\u03a6\\u03b9\\u03bd\\u03bb\\u03b1\\u03bd\\u03b4\\u03af\\u03b1\"], [\"\\u03a6\\u03b9\\u03bd\\u03bb\\u03b1\\u03bd\\u03b4\\u03af\\u03b1\"], [\"\\u03a6\\u03b9\\u03bd\\u03bb\\u03b1\\u03bd\\u03b4\\u03af\\u03b1\"], [\"\\u03a6\\u03b9\\u03bd\\u03bb\\u03b1\\u03bd\\u03b4\\u03af\\u03b1\"], [\"\\u03a6\\u03b9\\u03bd\\u03bb\\u03b1\\u03bd\\u03b4\\u03af\\u03b1\"], [\"\\u03a6\\u03b9\\u03bd\\u03bb\\u03b1\\u03bd\\u03b4\\u03af\\u03b1\"], [\"\\u03a6\\u03b9\\u03bd\\u03bb\\u03b1\\u03bd\\u03b4\\u03af\\u03b1\"], [\"\\u03a6\\u03b9\\u03bd\\u03bb\\u03b1\\u03bd\\u03b4\\u03af\\u03b1\"], [\"\\u03a6\\u03b9\\u03bd\\u03bb\\u03b1\\u03bd\\u03b4\\u03af\\u03b1\"], [\"\\u03a6\\u03b9\\u03bd\\u03bb\\u03b1\\u03bd\\u03b4\\u03af\\u03b1\"], [\"\\u03a6\\u03b9\\u03bd\\u03bb\\u03b1\\u03bd\\u03b4\\u03af\\u03b1\"], [\"\\u03a6\\u03b9\\u03bd\\u03bb\\u03b1\\u03bd\\u03b4\\u03af\\u03b1\"], [\"\\u03a6\\u03b9\\u03bd\\u03bb\\u03b1\\u03bd\\u03b4\\u03af\\u03b1\"], [\"\\u03a6\\u03b9\\u03bd\\u03bb\\u03b1\\u03bd\\u03b4\\u03af\\u03b1\"], [\"\\u03a6\\u03b9\\u03bd\\u03bb\\u03b1\\u03bd\\u03b4\\u03af\\u03b1\"], [\"\\u03a6\\u03b9\\u03bd\\u03bb\\u03b1\\u03bd\\u03b4\\u03af\\u03b1\"], [\"\\u03a6\\u03b9\\u03bd\\u03bb\\u03b1\\u03bd\\u03b4\\u03af\\u03b1\"], [\"\\u03a6\\u03b9\\u03bd\\u03bb\\u03b1\\u03bd\\u03b4\\u03af\\u03b1\"], [\"\\u03a6\\u03b9\\u03bd\\u03bb\\u03b1\\u03bd\\u03b4\\u03af\\u03b1\"], [\"\\u03a6\\u03b9\\u03bd\\u03bb\\u03b1\\u03bd\\u03b4\\u03af\\u03b1\"], [\"\\u03a6\\u03b9\\u03bd\\u03bb\\u03b1\\u03bd\\u03b4\\u03af\\u03b1\"], [\"\\u03a6\\u03b9\\u03bd\\u03bb\\u03b1\\u03bd\\u03b4\\u03af\\u03b1\"], [\"\\u03a6\\u03b9\\u03bd\\u03bb\\u03b1\\u03bd\\u03b4\\u03af\\u03b1\"], [\"\\u03a6\\u03b9\\u03bd\\u03bb\\u03b1\\u03bd\\u03b4\\u03af\\u03b1\"], [\"\\u03a6\\u03b9\\u03bd\\u03bb\\u03b1\\u03bd\\u03b4\\u03af\\u03b1\"], [\"\\u03a6\\u03b9\\u03bd\\u03bb\\u03b1\\u03bd\\u03b4\\u03af\\u03b1\"], [\"\\u03a6\\u03b9\\u03bd\\u03bb\\u03b1\\u03bd\\u03b4\\u03af\\u03b1\"], [\"\\u03a6\\u03b9\\u03bd\\u03bb\\u03b1\\u03bd\\u03b4\\u03af\\u03b1\"], [\"\\u03a6\\u03b9\\u03bd\\u03bb\\u03b1\\u03bd\\u03b4\\u03af\\u03b1\"], [\"\\u03a6\\u03b9\\u03bd\\u03bb\\u03b1\\u03bd\\u03b4\\u03af\\u03b1\"]], \"hoverlabel\": {\"namelength\": 0}, \"hovertemplate\": \"\\u03a7\\u03ce\\u03c1\\u03b1=%{customdata[0]}<br>\\u0391\\u03c1\\u03b9\\u03b8\\u03bc\\u03cc\\u03c2 \\u039a\\u03c1\\u03bf\\u03c5\\u03c3\\u03bc\\u03ac\\u03c4\\u03c9\\u03bd=%{y}\", \"legendgroup\": \"\\u03a6\\u03b9\\u03bd\\u03bb\\u03b1\\u03bd\\u03b4\\u03af\\u03b1\", \"line\": {\"color\": \"rgb(189,189,189)\", \"dash\": \"solid\", \"shape\": \"spline\"}, \"mode\": \"lines\", \"name\": \"\\u03a6\\u03b9\\u03bd\\u03bb\\u03b1\\u03bd\\u03b4\\u03af\\u03b1\", \"showlegend\": true, \"type\": \"scatter\", \"xaxis\": \"x\", \"y\": [155, 225, 244, 277, 321, 336, 400, 450, 523, 626, 700, 792, 880, 958, 1041, 1167, 1240, 1352, 1418, 1446, 1518, 1615, 1882, 1927, 2176, 2308, 2487, 2605, 2769, 2905, 2974], \"yaxis\": \"y\"}, {\"customdata\": [[\"\\u0393\\u03b1\\u03bb\\u03bb\\u03af\\u03b1\"], [\"\\u0393\\u03b1\\u03bb\\u03bb\\u03af\\u03b1\"], [\"\\u0393\\u03b1\\u03bb\\u03bb\\u03af\\u03b1\"], [\"\\u0393\\u03b1\\u03bb\\u03bb\\u03af\\u03b1\"], [\"\\u0393\\u03b1\\u03bb\\u03bb\\u03af\\u03b1\"], [\"\\u0393\\u03b1\\u03bb\\u03bb\\u03af\\u03b1\"], [\"\\u0393\\u03b1\\u03bb\\u03bb\\u03af\\u03b1\"], [\"\\u0393\\u03b1\\u03bb\\u03bb\\u03af\\u03b1\"], [\"\\u0393\\u03b1\\u03bb\\u03bb\\u03af\\u03b1\"], [\"\\u0393\\u03b1\\u03bb\\u03bb\\u03af\\u03b1\"], [\"\\u0393\\u03b1\\u03bb\\u03bb\\u03af\\u03b1\"], [\"\\u0393\\u03b1\\u03bb\\u03bb\\u03af\\u03b1\"], [\"\\u0393\\u03b1\\u03bb\\u03bb\\u03af\\u03b1\"], [\"\\u0393\\u03b1\\u03bb\\u03bb\\u03af\\u03b1\"], [\"\\u0393\\u03b1\\u03bb\\u03bb\\u03af\\u03b1\"], [\"\\u0393\\u03b1\\u03bb\\u03bb\\u03af\\u03b1\"], [\"\\u0393\\u03b1\\u03bb\\u03bb\\u03af\\u03b1\"], [\"\\u0393\\u03b1\\u03bb\\u03bb\\u03af\\u03b1\"], [\"\\u0393\\u03b1\\u03bb\\u03bb\\u03af\\u03b1\"], [\"\\u0393\\u03b1\\u03bb\\u03bb\\u03af\\u03b1\"], [\"\\u0393\\u03b1\\u03bb\\u03bb\\u03af\\u03b1\"], [\"\\u0393\\u03b1\\u03bb\\u03bb\\u03af\\u03b1\"], [\"\\u0393\\u03b1\\u03bb\\u03bb\\u03af\\u03b1\"], [\"\\u0393\\u03b1\\u03bb\\u03bb\\u03af\\u03b1\"], [\"\\u0393\\u03b1\\u03bb\\u03bb\\u03af\\u03b1\"], [\"\\u0393\\u03b1\\u03bb\\u03bb\\u03af\\u03b1\"], [\"\\u0393\\u03b1\\u03bb\\u03bb\\u03af\\u03b1\"], [\"\\u0393\\u03b1\\u03bb\\u03bb\\u03af\\u03b1\"], [\"\\u0393\\u03b1\\u03bb\\u03bb\\u03af\\u03b1\"], [\"\\u0393\\u03b1\\u03bb\\u03bb\\u03af\\u03b1\"], [\"\\u0393\\u03b1\\u03bb\\u03bb\\u03af\\u03b1\"], [\"\\u0393\\u03b1\\u03bb\\u03bb\\u03af\\u03b1\"], [\"\\u0393\\u03b1\\u03bb\\u03bb\\u03af\\u03b1\"], [\"\\u0393\\u03b1\\u03bb\\u03bb\\u03af\\u03b1\"], [\"\\u0393\\u03b1\\u03bb\\u03bb\\u03af\\u03b1\"], [\"\\u0393\\u03b1\\u03bb\\u03bb\\u03af\\u03b1\"], [\"\\u0393\\u03b1\\u03bb\\u03bb\\u03af\\u03b1\"], [\"\\u0393\\u03b1\\u03bb\\u03bb\\u03af\\u03b1\"], [\"\\u0393\\u03b1\\u03bb\\u03bb\\u03af\\u03b1\"], [\"\\u0393\\u03b1\\u03bb\\u03bb\\u03af\\u03b1\"], [\"\\u0393\\u03b1\\u03bb\\u03bb\\u03af\\u03b1\"], [\"\\u0393\\u03b1\\u03bb\\u03bb\\u03af\\u03b1\"], [\"\\u0393\\u03b1\\u03bb\\u03bb\\u03af\\u03b1\"], [\"\\u0393\\u03b1\\u03bb\\u03bb\\u03af\\u03b1\"]], \"hoverlabel\": {\"namelength\": 0}, \"hovertemplate\": \"\\u03a7\\u03ce\\u03c1\\u03b1=%{customdata[0]}<br>\\u0391\\u03c1\\u03b9\\u03b8\\u03bc\\u03cc\\u03c2 \\u039a\\u03c1\\u03bf\\u03c5\\u03c3\\u03bc\\u03ac\\u03c4\\u03c9\\u03bd=%{y}\", \"legendgroup\": \"\\u0393\\u03b1\\u03bb\\u03bb\\u03af\\u03b1\", \"line\": {\"color\": \"rgb(189,189,189)\", \"dash\": \"solid\", \"shape\": \"spline\"}, \"mode\": \"lines\", \"name\": \"\\u0393\\u03b1\\u03bb\\u03bb\\u03af\\u03b1\", \"showlegend\": true, \"type\": \"scatter\", \"xaxis\": \"x\", \"y\": [100, 130, 191, 204, 288, 380, 656, 959, 1136, 1219, 1794, 2293, 2293, 3681, 4496, 4532, 6683, 7715, 9124, 10970, 12758, 14463, 16243, 20123, 22622, 25600, 29551, 33402, 38105, 40708, 45170, 52827, 57749, 59929, 65202, 90848, 93773, 98963, 110065, 113959, 118781, 125931, 130727, 133670], \"yaxis\": \"y\"}, {\"customdata\": [[\"\\u0393\\u03b5\\u03c9\\u03c1\\u03b3\\u03af\\u03b1\"], [\"\\u0393\\u03b5\\u03c9\\u03c1\\u03b3\\u03af\\u03b1\"], [\"\\u0393\\u03b5\\u03c9\\u03c1\\u03b3\\u03af\\u03b1\"], [\"\\u0393\\u03b5\\u03c9\\u03c1\\u03b3\\u03af\\u03b1\"], [\"\\u0393\\u03b5\\u03c9\\u03c1\\u03b3\\u03af\\u03b1\"], [\"\\u0393\\u03b5\\u03c9\\u03c1\\u03b3\\u03af\\u03b1\"], [\"\\u0393\\u03b5\\u03c9\\u03c1\\u03b3\\u03af\\u03b1\"], [\"\\u0393\\u03b5\\u03c9\\u03c1\\u03b3\\u03af\\u03b1\"], [\"\\u0393\\u03b5\\u03c9\\u03c1\\u03b3\\u03af\\u03b1\"], [\"\\u0393\\u03b5\\u03c9\\u03c1\\u03b3\\u03af\\u03b1\"], [\"\\u0393\\u03b5\\u03c9\\u03c1\\u03b3\\u03af\\u03b1\"], [\"\\u0393\\u03b5\\u03c9\\u03c1\\u03b3\\u03af\\u03b1\"], [\"\\u0393\\u03b5\\u03c9\\u03c1\\u03b3\\u03af\\u03b1\"], [\"\\u0393\\u03b5\\u03c9\\u03c1\\u03b3\\u03af\\u03b1\"]], \"hoverlabel\": {\"namelength\": 0}, \"hovertemplate\": \"\\u03a7\\u03ce\\u03c1\\u03b1=%{customdata[0]}<br>\\u0391\\u03c1\\u03b9\\u03b8\\u03bc\\u03cc\\u03c2 \\u039a\\u03c1\\u03bf\\u03c5\\u03c3\\u03bc\\u03ac\\u03c4\\u03c9\\u03bd=%{y}\", \"legendgroup\": \"\\u0393\\u03b5\\u03c9\\u03c1\\u03b3\\u03af\\u03b1\", \"line\": {\"color\": \"rgb(189,189,189)\", \"dash\": \"solid\", \"shape\": \"spline\"}, \"mode\": \"lines\", \"name\": \"\\u0393\\u03b5\\u03c9\\u03c1\\u03b3\\u03af\\u03b1\", \"showlegend\": true, \"type\": \"scatter\", \"xaxis\": \"x\", \"y\": [103, 110, 117, 134, 155, 162, 174, 188, 196, 211, 218, 234, 242, 257], \"yaxis\": \"y\"}, {\"customdata\": [[\"\\u0393\\u03ba\\u03ac\\u03bd\\u03b1\"], [\"\\u0393\\u03ba\\u03ac\\u03bd\\u03b1\"], [\"\\u0393\\u03ba\\u03ac\\u03bd\\u03b1\"], [\"\\u0393\\u03ba\\u03ac\\u03bd\\u03b1\"], [\"\\u0393\\u03ba\\u03ac\\u03bd\\u03b1\"], [\"\\u0393\\u03ba\\u03ac\\u03bd\\u03b1\"], [\"\\u0393\\u03ba\\u03ac\\u03bd\\u03b1\"], [\"\\u0393\\u03ba\\u03ac\\u03bd\\u03b1\"], [\"\\u0393\\u03ba\\u03ac\\u03bd\\u03b1\"], [\"\\u0393\\u03ba\\u03ac\\u03bd\\u03b1\"], [\"\\u0393\\u03ba\\u03ac\\u03bd\\u03b1\"], [\"\\u0393\\u03ba\\u03ac\\u03bd\\u03b1\"], [\"\\u0393\\u03ba\\u03ac\\u03bd\\u03b1\"], [\"\\u0393\\u03ba\\u03ac\\u03bd\\u03b1\"], [\"\\u0393\\u03ba\\u03ac\\u03bd\\u03b1\"], [\"\\u0393\\u03ba\\u03ac\\u03bd\\u03b1\"], [\"\\u0393\\u03ba\\u03ac\\u03bd\\u03b1\"], [\"\\u0393\\u03ba\\u03ac\\u03bd\\u03b1\"]], \"hoverlabel\": {\"namelength\": 0}, \"hovertemplate\": \"\\u03a7\\u03ce\\u03c1\\u03b1=%{customdata[0]}<br>\\u0391\\u03c1\\u03b9\\u03b8\\u03bc\\u03cc\\u03c2 \\u039a\\u03c1\\u03bf\\u03c5\\u03c3\\u03bc\\u03ac\\u03c4\\u03c9\\u03bd=%{y}\", \"legendgroup\": \"\\u0393\\u03ba\\u03ac\\u03bd\\u03b1\", \"line\": {\"color\": \"rgb(189,189,189)\", \"dash\": \"solid\", \"shape\": \"spline\"}, \"mode\": \"lines\", \"name\": \"\\u0393\\u03ba\\u03ac\\u03bd\\u03b1\", \"showlegend\": true, \"type\": \"scatter\", \"xaxis\": \"x\", \"y\": [132, 137, 141, 152, 152, 161, 195, 204, 205, 205, 214, 214, 287, 313, 378, 378, 408, 566], \"yaxis\": \"y\"}, {\"customdata\": [[\"\\u0393\\u03bf\\u03c5\\u03b1\\u03c4\\u03b5\\u03bc\\u03ac\\u03bb\\u03b1\"], [\"\\u0393\\u03bf\\u03c5\\u03b1\\u03c4\\u03b5\\u03bc\\u03ac\\u03bb\\u03b1\"], [\"\\u0393\\u03bf\\u03c5\\u03b1\\u03c4\\u03b5\\u03bc\\u03ac\\u03bb\\u03b1\"]], \"hoverlabel\": {\"namelength\": 0}, \"hovertemplate\": \"\\u03a7\\u03ce\\u03c1\\u03b1=%{customdata[0]}<br>\\u0391\\u03c1\\u03b9\\u03b8\\u03bc\\u03cc\\u03c2 \\u039a\\u03c1\\u03bf\\u03c5\\u03c3\\u03bc\\u03ac\\u03c4\\u03c9\\u03bd=%{y}\", \"legendgroup\": \"\\u0393\\u03bf\\u03c5\\u03b1\\u03c4\\u03b5\\u03bc\\u03ac\\u03bb\\u03b1\", \"line\": {\"color\": \"rgb(189,189,189)\", \"dash\": \"solid\", \"shape\": \"spline\"}, \"mode\": \"lines\", \"name\": \"\\u0393\\u03bf\\u03c5\\u03b1\\u03c4\\u03b5\\u03bc\\u03ac\\u03bb\\u03b1\", \"showlegend\": true, \"type\": \"scatter\", \"xaxis\": \"x\", \"y\": [126, 137, 155], \"yaxis\": \"y\"}, {\"customdata\": [[\"\\u0393\\u03bf\\u03c5\\u03b9\\u03bd\\u03ad\\u03b1\"], [\"\\u0393\\u03bf\\u03c5\\u03b9\\u03bd\\u03ad\\u03b1\"], [\"\\u0393\\u03bf\\u03c5\\u03b9\\u03bd\\u03ad\\u03b1\"], [\"\\u0393\\u03bf\\u03c5\\u03b9\\u03bd\\u03ad\\u03b1\"], [\"\\u0393\\u03bf\\u03c5\\u03b9\\u03bd\\u03ad\\u03b1\"], [\"\\u0393\\u03bf\\u03c5\\u03b9\\u03bd\\u03ad\\u03b1\"], [\"\\u0393\\u03bf\\u03c5\\u03b9\\u03bd\\u03ad\\u03b1\"], [\"\\u0393\\u03bf\\u03c5\\u03b9\\u03bd\\u03ad\\u03b1\"], [\"\\u0393\\u03bf\\u03c5\\u03b9\\u03bd\\u03ad\\u03b1\"]], \"hoverlabel\": {\"namelength\": 0}, \"hovertemplate\": \"\\u03a7\\u03ce\\u03c1\\u03b1=%{customdata[0]}<br>\\u0391\\u03c1\\u03b9\\u03b8\\u03bc\\u03cc\\u03c2 \\u039a\\u03c1\\u03bf\\u03c5\\u03c3\\u03bc\\u03ac\\u03c4\\u03c9\\u03bd=%{y}\", \"legendgroup\": \"\\u0393\\u03bf\\u03c5\\u03b9\\u03bd\\u03ad\\u03b1\", \"line\": {\"color\": \"rgb(189,189,189)\", \"dash\": \"solid\", \"shape\": \"spline\"}, \"mode\": \"lines\", \"name\": \"\\u0393\\u03bf\\u03c5\\u03b9\\u03bd\\u03ad\\u03b1\", \"showlegend\": true, \"type\": \"scatter\", \"xaxis\": \"x\", \"y\": [111, 121, 128, 144, 164, 194, 212, 250, 250], \"yaxis\": \"y\"}, {\"customdata\": [[\"\\u039f\\u03bd\\u03b4\\u03bf\\u03cd\\u03c1\\u03b1\"], [\"\\u039f\\u03bd\\u03b4\\u03bf\\u03cd\\u03c1\\u03b1\"], [\"\\u039f\\u03bd\\u03b4\\u03bf\\u03cd\\u03c1\\u03b1\"], [\"\\u039f\\u03bd\\u03b4\\u03bf\\u03cd\\u03c1\\u03b1\"], [\"\\u039f\\u03bd\\u03b4\\u03bf\\u03cd\\u03c1\\u03b1\"], [\"\\u039f\\u03bd\\u03b4\\u03bf\\u03cd\\u03c1\\u03b1\"], [\"\\u039f\\u03bd\\u03b4\\u03bf\\u03cd\\u03c1\\u03b1\"], [\"\\u039f\\u03bd\\u03b4\\u03bf\\u03cd\\u03c1\\u03b1\"], [\"\\u039f\\u03bd\\u03b4\\u03bf\\u03cd\\u03c1\\u03b1\"], [\"\\u039f\\u03bd\\u03b4\\u03bf\\u03cd\\u03c1\\u03b1\"], [\"\\u039f\\u03bd\\u03b4\\u03bf\\u03cd\\u03c1\\u03b1\"], [\"\\u039f\\u03bd\\u03b4\\u03bf\\u03cd\\u03c1\\u03b1\"], [\"\\u039f\\u03bd\\u03b4\\u03bf\\u03cd\\u03c1\\u03b1\"], [\"\\u039f\\u03bd\\u03b4\\u03bf\\u03cd\\u03c1\\u03b1\"], [\"\\u039f\\u03bd\\u03b4\\u03bf\\u03cd\\u03c1\\u03b1\"]], \"hoverlabel\": {\"namelength\": 0}, \"hovertemplate\": \"\\u03a7\\u03ce\\u03c1\\u03b1=%{customdata[0]}<br>\\u0391\\u03c1\\u03b9\\u03b8\\u03bc\\u03cc\\u03c2 \\u039a\\u03c1\\u03bf\\u03c5\\u03c3\\u03bc\\u03ac\\u03c4\\u03c9\\u03bd=%{y}\", \"legendgroup\": \"\\u039f\\u03bd\\u03b4\\u03bf\\u03cd\\u03c1\\u03b1\", \"line\": {\"color\": \"rgb(189,189,189)\", \"dash\": \"solid\", \"shape\": \"spline\"}, \"mode\": \"lines\", \"name\": \"\\u039f\\u03bd\\u03b4\\u03bf\\u03cd\\u03c1\\u03b1\", \"showlegend\": true, \"type\": \"scatter\", \"xaxis\": \"x\", \"y\": [110, 139, 141, 172, 219, 222, 264, 268, 298, 305, 312, 343, 382, 392, 393], \"yaxis\": \"y\"}, {\"customdata\": [[\"\\u039f\\u03c5\\u03b3\\u03b3\\u03b1\\u03c1\\u03af\\u03b1\"], [\"\\u039f\\u03c5\\u03b3\\u03b3\\u03b1\\u03c1\\u03af\\u03b1\"], [\"\\u039f\\u03c5\\u03b3\\u03b3\\u03b1\\u03c1\\u03af\\u03b1\"], [\"\\u039f\\u03c5\\u03b3\\u03b3\\u03b1\\u03c1\\u03af\\u03b1\"], [\"\\u039f\\u03c5\\u03b3\\u03b3\\u03b1\\u03c1\\u03af\\u03b1\"], [\"\\u039f\\u03c5\\u03b3\\u03b3\\u03b1\\u03c1\\u03af\\u03b1\"], [\"\\u039f\\u03c5\\u03b3\\u03b3\\u03b1\\u03c1\\u03af\\u03b1\"], [\"\\u039f\\u03c5\\u03b3\\u03b3\\u03b1\\u03c1\\u03af\\u03b1\"], [\"\\u039f\\u03c5\\u03b3\\u03b3\\u03b1\\u03c1\\u03af\\u03b1\"], [\"\\u039f\\u03c5\\u03b3\\u03b3\\u03b1\\u03c1\\u03af\\u03b1\"], [\"\\u039f\\u03c5\\u03b3\\u03b3\\u03b1\\u03c1\\u03af\\u03b1\"], [\"\\u039f\\u03c5\\u03b3\\u03b3\\u03b1\\u03c1\\u03af\\u03b1\"], [\"\\u039f\\u03c5\\u03b3\\u03b3\\u03b1\\u03c1\\u03af\\u03b1\"], [\"\\u039f\\u03c5\\u03b3\\u03b3\\u03b1\\u03c1\\u03af\\u03b1\"], [\"\\u039f\\u03c5\\u03b3\\u03b3\\u03b1\\u03c1\\u03af\\u03b1\"], [\"\\u039f\\u03c5\\u03b3\\u03b3\\u03b1\\u03c1\\u03af\\u03b1\"], [\"\\u039f\\u03c5\\u03b3\\u03b3\\u03b1\\u03c1\\u03af\\u03b1\"], [\"\\u039f\\u03c5\\u03b3\\u03b3\\u03b1\\u03c1\\u03af\\u03b1\"], [\"\\u039f\\u03c5\\u03b3\\u03b3\\u03b1\\u03c1\\u03af\\u03b1\"], [\"\\u039f\\u03c5\\u03b3\\u03b3\\u03b1\\u03c1\\u03af\\u03b1\"], [\"\\u039f\\u03c5\\u03b3\\u03b3\\u03b1\\u03c1\\u03af\\u03b1\"], [\"\\u039f\\u03c5\\u03b3\\u03b3\\u03b1\\u03c1\\u03af\\u03b1\"], [\"\\u039f\\u03c5\\u03b3\\u03b3\\u03b1\\u03c1\\u03af\\u03b1\"]], \"hoverlabel\": {\"namelength\": 0}, \"hovertemplate\": \"\\u03a7\\u03ce\\u03c1\\u03b1=%{customdata[0]}<br>\\u0391\\u03c1\\u03b9\\u03b8\\u03bc\\u03cc\\u03c2 \\u039a\\u03c1\\u03bf\\u03c5\\u03c3\\u03bc\\u03ac\\u03c4\\u03c9\\u03bd=%{y}\", \"legendgroup\": \"\\u039f\\u03c5\\u03b3\\u03b3\\u03b1\\u03c1\\u03af\\u03b1\", \"line\": {\"color\": \"rgb(189,189,189)\", \"dash\": \"solid\", \"shape\": \"spline\"}, \"mode\": \"lines\", \"name\": \"\\u039f\\u03c5\\u03b3\\u03b3\\u03b1\\u03c1\\u03af\\u03b1\", \"showlegend\": true, \"type\": \"scatter\", \"xaxis\": \"x\", \"y\": [103, 131, 167, 187, 226, 261, 300, 343, 408, 447, 492, 525, 585, 623, 678, 733, 744, 817, 895, 980, 1190, 1310, 1410], \"yaxis\": \"y\"}, {\"customdata\": [[\"\\u0399\\u03c3\\u03bb\\u03b1\\u03bd\\u03b4\\u03af\\u03b1\"], [\"\\u0399\\u03c3\\u03bb\\u03b1\\u03bd\\u03b4\\u03af\\u03b1\"], [\"\\u0399\\u03c3\\u03bb\\u03b1\\u03bd\\u03b4\\u03af\\u03b1\"], [\"\\u0399\\u03c3\\u03bb\\u03b1\\u03bd\\u03b4\\u03af\\u03b1\"], [\"\\u0399\\u03c3\\u03bb\\u03b1\\u03bd\\u03b4\\u03af\\u03b1\"], [\"\\u0399\\u03c3\\u03bb\\u03b1\\u03bd\\u03b4\\u03af\\u03b1\"], [\"\\u0399\\u03c3\\u03bb\\u03b1\\u03bd\\u03b4\\u03af\\u03b1\"], [\"\\u0399\\u03c3\\u03bb\\u03b1\\u03bd\\u03b4\\u03af\\u03b1\"], [\"\\u0399\\u03c3\\u03bb\\u03b1\\u03bd\\u03b4\\u03af\\u03b1\"], [\"\\u0399\\u03c3\\u03bb\\u03b1\\u03bd\\u03b4\\u03af\\u03b1\"], [\"\\u0399\\u03c3\\u03bb\\u03b1\\u03bd\\u03b4\\u03af\\u03b1\"], [\"\\u0399\\u03c3\\u03bb\\u03b1\\u03bd\\u03b4\\u03af\\u03b1\"], [\"\\u0399\\u03c3\\u03bb\\u03b1\\u03bd\\u03b4\\u03af\\u03b1\"], [\"\\u0399\\u03c3\\u03bb\\u03b1\\u03bd\\u03b4\\u03af\\u03b1\"], [\"\\u0399\\u03c3\\u03bb\\u03b1\\u03bd\\u03b4\\u03af\\u03b1\"], [\"\\u0399\\u03c3\\u03bb\\u03b1\\u03bd\\u03b4\\u03af\\u03b1\"], [\"\\u0399\\u03c3\\u03bb\\u03b1\\u03bd\\u03b4\\u03af\\u03b1\"], [\"\\u0399\\u03c3\\u03bb\\u03b1\\u03bd\\u03b4\\u03af\\u03b1\"], [\"\\u0399\\u03c3\\u03bb\\u03b1\\u03bd\\u03b4\\u03af\\u03b1\"], [\"\\u0399\\u03c3\\u03bb\\u03b1\\u03bd\\u03b4\\u03af\\u03b1\"], [\"\\u0399\\u03c3\\u03bb\\u03b1\\u03bd\\u03b4\\u03af\\u03b1\"], [\"\\u0399\\u03c3\\u03bb\\u03b1\\u03bd\\u03b4\\u03af\\u03b1\"], [\"\\u0399\\u03c3\\u03bb\\u03b1\\u03bd\\u03b4\\u03af\\u03b1\"], [\"\\u0399\\u03c3\\u03bb\\u03b1\\u03bd\\u03b4\\u03af\\u03b1\"], [\"\\u0399\\u03c3\\u03bb\\u03b1\\u03bd\\u03b4\\u03af\\u03b1\"], [\"\\u0399\\u03c3\\u03bb\\u03b1\\u03bd\\u03b4\\u03af\\u03b1\"], [\"\\u0399\\u03c3\\u03bb\\u03b1\\u03bd\\u03b4\\u03af\\u03b1\"], [\"\\u0399\\u03c3\\u03bb\\u03b1\\u03bd\\u03b4\\u03af\\u03b1\"], [\"\\u0399\\u03c3\\u03bb\\u03b1\\u03bd\\u03b4\\u03af\\u03b1\"], [\"\\u0399\\u03c3\\u03bb\\u03b1\\u03bd\\u03b4\\u03af\\u03b1\"], [\"\\u0399\\u03c3\\u03bb\\u03b1\\u03bd\\u03b4\\u03af\\u03b1\"], [\"\\u0399\\u03c3\\u03bb\\u03b1\\u03bd\\u03b4\\u03af\\u03b1\"]], \"hoverlabel\": {\"namelength\": 0}, \"hovertemplate\": \"\\u03a7\\u03ce\\u03c1\\u03b1=%{customdata[0]}<br>\\u0391\\u03c1\\u03b9\\u03b8\\u03bc\\u03cc\\u03c2 \\u039a\\u03c1\\u03bf\\u03c5\\u03c3\\u03bc\\u03ac\\u03c4\\u03c9\\u03bd=%{y}\", \"legendgroup\": \"\\u0399\\u03c3\\u03bb\\u03b1\\u03bd\\u03b4\\u03af\\u03b1\", \"line\": {\"color\": \"rgb(189,189,189)\", \"dash\": \"solid\", \"shape\": \"spline\"}, \"mode\": \"lines\", \"name\": \"\\u0399\\u03c3\\u03bb\\u03b1\\u03bd\\u03b4\\u03af\\u03b1\", \"showlegend\": true, \"type\": \"scatter\", \"xaxis\": \"x\", \"y\": [103, 134, 156, 171, 180, 220, 250, 330, 409, 473, 568, 588, 648, 737, 802, 890, 963, 1020, 1086, 1135, 1220, 1319, 1364, 1417, 1486, 1562, 1586, 1616, 1648, 1675, 1689, 1701], \"yaxis\": \"y\"}, {\"customdata\": [[\"\\u0399\\u03bd\\u03b4\\u03af\\u03b1\"], [\"\\u0399\\u03bd\\u03b4\\u03af\\u03b1\"], [\"\\u0399\\u03bd\\u03b4\\u03af\\u03b1\"], [\"\\u0399\\u03bd\\u03b4\\u03af\\u03b1\"], [\"\\u0399\\u03bd\\u03b4\\u03af\\u03b1\"], [\"\\u0399\\u03bd\\u03b4\\u03af\\u03b1\"], [\"\\u0399\\u03bd\\u03b4\\u03af\\u03b1\"], [\"\\u0399\\u03bd\\u03b4\\u03af\\u03b1\"], [\"\\u0399\\u03bd\\u03b4\\u03af\\u03b1\"], [\"\\u0399\\u03bd\\u03b4\\u03af\\u03b1\"], [\"\\u0399\\u03bd\\u03b4\\u03af\\u03b1\"], [\"\\u0399\\u03bd\\u03b4\\u03af\\u03b1\"], [\"\\u0399\\u03bd\\u03b4\\u03af\\u03b1\"], [\"\\u0399\\u03bd\\u03b4\\u03af\\u03b1\"], [\"\\u0399\\u03bd\\u03b4\\u03af\\u03b1\"], [\"\\u0399\\u03bd\\u03b4\\u03af\\u03b1\"], [\"\\u0399\\u03bd\\u03b4\\u03af\\u03b1\"], [\"\\u0399\\u03bd\\u03b4\\u03af\\u03b1\"], [\"\\u0399\\u03bd\\u03b4\\u03af\\u03b1\"], [\"\\u0399\\u03bd\\u03b4\\u03af\\u03b1\"], [\"\\u0399\\u03bd\\u03b4\\u03af\\u03b1\"], [\"\\u0399\\u03bd\\u03b4\\u03af\\u03b1\"], [\"\\u0399\\u03bd\\u03b4\\u03af\\u03b1\"], [\"\\u0399\\u03bd\\u03b4\\u03af\\u03b1\"], [\"\\u0399\\u03bd\\u03b4\\u03af\\u03b1\"], [\"\\u0399\\u03bd\\u03b4\\u03af\\u03b1\"], [\"\\u0399\\u03bd\\u03b4\\u03af\\u03b1\"], [\"\\u0399\\u03bd\\u03b4\\u03af\\u03b1\"], [\"\\u0399\\u03bd\\u03b4\\u03af\\u03b1\"], [\"\\u0399\\u03bd\\u03b4\\u03af\\u03b1\"]], \"hoverlabel\": {\"namelength\": 0}, \"hovertemplate\": \"\\u03a7\\u03ce\\u03c1\\u03b1=%{customdata[0]}<br>\\u0391\\u03c1\\u03b9\\u03b8\\u03bc\\u03cc\\u03c2 \\u039a\\u03c1\\u03bf\\u03c5\\u03c3\\u03bc\\u03ac\\u03c4\\u03c9\\u03bd=%{y}\", \"legendgroup\": \"\\u0399\\u03bd\\u03b4\\u03af\\u03b1\", \"line\": {\"color\": \"rgb(189,189,189)\", \"dash\": \"solid\", \"shape\": \"spline\"}, \"mode\": \"lines\", \"name\": \"\\u0399\\u03bd\\u03b4\\u03af\\u03b1\", \"showlegend\": true, \"type\": \"scatter\", \"xaxis\": \"x\", \"y\": [102, 113, 119, 142, 156, 194, 244, 330, 396, 499, 536, 657, 727, 887, 987, 1024, 1251, 1397, 1998, 2543, 2567, 3082, 3588, 4778, 5311, 5916, 6725, 7598, 8446, 9205], \"yaxis\": \"y\"}, {\"customdata\": [[\"\\u0399\\u03bd\\u03b4\\u03bf\\u03bd\\u03b7\\u03c3\\u03af\\u03b1\"], [\"\\u0399\\u03bd\\u03b4\\u03bf\\u03bd\\u03b7\\u03c3\\u03af\\u03b1\"], [\"\\u0399\\u03bd\\u03b4\\u03bf\\u03bd\\u03b7\\u03c3\\u03af\\u03b1\"], [\"\\u0399\\u03bd\\u03b4\\u03bf\\u03bd\\u03b7\\u03c3\\u03af\\u03b1\"], [\"\\u0399\\u03bd\\u03b4\\u03bf\\u03bd\\u03b7\\u03c3\\u03af\\u03b1\"], [\"\\u0399\\u03bd\\u03b4\\u03bf\\u03bd\\u03b7\\u03c3\\u03af\\u03b1\"], [\"\\u0399\\u03bd\\u03b4\\u03bf\\u03bd\\u03b7\\u03c3\\u03af\\u03b1\"], [\"\\u0399\\u03bd\\u03b4\\u03bf\\u03bd\\u03b7\\u03c3\\u03af\\u03b1\"], [\"\\u0399\\u03bd\\u03b4\\u03bf\\u03bd\\u03b7\\u03c3\\u03af\\u03b1\"], [\"\\u0399\\u03bd\\u03b4\\u03bf\\u03bd\\u03b7\\u03c3\\u03af\\u03b1\"], [\"\\u0399\\u03bd\\u03b4\\u03bf\\u03bd\\u03b7\\u03c3\\u03af\\u03b1\"], [\"\\u0399\\u03bd\\u03b4\\u03bf\\u03bd\\u03b7\\u03c3\\u03af\\u03b1\"], [\"\\u0399\\u03bd\\u03b4\\u03bf\\u03bd\\u03b7\\u03c3\\u03af\\u03b1\"], [\"\\u0399\\u03bd\\u03b4\\u03bf\\u03bd\\u03b7\\u03c3\\u03af\\u03b1\"], [\"\\u0399\\u03bd\\u03b4\\u03bf\\u03bd\\u03b7\\u03c3\\u03af\\u03b1\"], [\"\\u0399\\u03bd\\u03b4\\u03bf\\u03bd\\u03b7\\u03c3\\u03af\\u03b1\"], [\"\\u0399\\u03bd\\u03b4\\u03bf\\u03bd\\u03b7\\u03c3\\u03af\\u03b1\"], [\"\\u0399\\u03bd\\u03b4\\u03bf\\u03bd\\u03b7\\u03c3\\u03af\\u03b1\"], [\"\\u0399\\u03bd\\u03b4\\u03bf\\u03bd\\u03b7\\u03c3\\u03af\\u03b1\"], [\"\\u0399\\u03bd\\u03b4\\u03bf\\u03bd\\u03b7\\u03c3\\u03af\\u03b1\"], [\"\\u0399\\u03bd\\u03b4\\u03bf\\u03bd\\u03b7\\u03c3\\u03af\\u03b1\"], [\"\\u0399\\u03bd\\u03b4\\u03bf\\u03bd\\u03b7\\u03c3\\u03af\\u03b1\"], [\"\\u0399\\u03bd\\u03b4\\u03bf\\u03bd\\u03b7\\u03c3\\u03af\\u03b1\"], [\"\\u0399\\u03bd\\u03b4\\u03bf\\u03bd\\u03b7\\u03c3\\u03af\\u03b1\"], [\"\\u0399\\u03bd\\u03b4\\u03bf\\u03bd\\u03b7\\u03c3\\u03af\\u03b1\"], [\"\\u0399\\u03bd\\u03b4\\u03bf\\u03bd\\u03b7\\u03c3\\u03af\\u03b1\"], [\"\\u0399\\u03bd\\u03b4\\u03bf\\u03bd\\u03b7\\u03c3\\u03af\\u03b1\"], [\"\\u0399\\u03bd\\u03b4\\u03bf\\u03bd\\u03b7\\u03c3\\u03af\\u03b1\"], [\"\\u0399\\u03bd\\u03b4\\u03bf\\u03bd\\u03b7\\u03c3\\u03af\\u03b1\"]], \"hoverlabel\": {\"namelength\": 0}, \"hovertemplate\": \"\\u03a7\\u03ce\\u03c1\\u03b1=%{customdata[0]}<br>\\u0391\\u03c1\\u03b9\\u03b8\\u03bc\\u03cc\\u03c2 \\u039a\\u03c1\\u03bf\\u03c5\\u03c3\\u03bc\\u03ac\\u03c4\\u03c9\\u03bd=%{y}\", \"legendgroup\": \"\\u0399\\u03bd\\u03b4\\u03bf\\u03bd\\u03b7\\u03c3\\u03af\\u03b1\", \"line\": {\"color\": \"rgb(189,189,189)\", \"dash\": \"solid\", \"shape\": \"spline\"}, \"mode\": \"lines\", \"name\": \"\\u0399\\u03bd\\u03b4\\u03bf\\u03bd\\u03b7\\u03c3\\u03af\\u03b1\", \"showlegend\": true, \"type\": \"scatter\", \"xaxis\": \"x\", \"y\": [117, 134, 172, 227, 311, 369, 450, 514, 579, 686, 790, 893, 1046, 1155, 1285, 1414, 1528, 1677, 1790, 1986, 2092, 2273, 2491, 2738, 2956, 3293, 3512, 3842, 4241], \"yaxis\": \"y\"}, {\"customdata\": [[\"\\u0399\\u03c1\\u03ac\\u03bd\"], [\"\\u0399\\u03c1\\u03ac\\u03bd\"], [\"\\u0399\\u03c1\\u03ac\\u03bd\"], [\"\\u0399\\u03c1\\u03ac\\u03bd\"], [\"\\u0399\\u03c1\\u03ac\\u03bd\"], [\"\\u0399\\u03c1\\u03ac\\u03bd\"], [\"\\u0399\\u03c1\\u03ac\\u03bd\"], [\"\\u0399\\u03c1\\u03ac\\u03bd\"], [\"\\u0399\\u03c1\\u03ac\\u03bd\"], [\"\\u0399\\u03c1\\u03ac\\u03bd\"], [\"\\u0399\\u03c1\\u03ac\\u03bd\"], [\"\\u0399\\u03c1\\u03ac\\u03bd\"], [\"\\u0399\\u03c1\\u03ac\\u03bd\"], [\"\\u0399\\u03c1\\u03ac\\u03bd\"], [\"\\u0399\\u03c1\\u03ac\\u03bd\"], [\"\\u0399\\u03c1\\u03ac\\u03bd\"], [\"\\u0399\\u03c1\\u03ac\\u03bd\"], [\"\\u0399\\u03c1\\u03ac\\u03bd\"], [\"\\u0399\\u03c1\\u03ac\\u03bd\"], [\"\\u0399\\u03c1\\u03ac\\u03bd\"], [\"\\u0399\\u03c1\\u03ac\\u03bd\"], [\"\\u0399\\u03c1\\u03ac\\u03bd\"], [\"\\u0399\\u03c1\\u03ac\\u03bd\"], [\"\\u0399\\u03c1\\u03ac\\u03bd\"], [\"\\u0399\\u03c1\\u03ac\\u03bd\"], [\"\\u0399\\u03c1\\u03ac\\u03bd\"], [\"\\u0399\\u03c1\\u03ac\\u03bd\"], [\"\\u0399\\u03c1\\u03ac\\u03bd\"], [\"\\u0399\\u03c1\\u03ac\\u03bd\"], [\"\\u0399\\u03c1\\u03ac\\u03bd\"], [\"\\u0399\\u03c1\\u03ac\\u03bd\"], [\"\\u0399\\u03c1\\u03ac\\u03bd\"], [\"\\u0399\\u03c1\\u03ac\\u03bd\"], [\"\\u0399\\u03c1\\u03ac\\u03bd\"], [\"\\u0399\\u03c1\\u03ac\\u03bd\"], [\"\\u0399\\u03c1\\u03ac\\u03bd\"], [\"\\u0399\\u03c1\\u03ac\\u03bd\"], [\"\\u0399\\u03c1\\u03ac\\u03bd\"], [\"\\u0399\\u03c1\\u03ac\\u03bd\"], [\"\\u0399\\u03c1\\u03ac\\u03bd\"], [\"\\u0399\\u03c1\\u03ac\\u03bd\"], [\"\\u0399\\u03c1\\u03ac\\u03bd\"], [\"\\u0399\\u03c1\\u03ac\\u03bd\"], [\"\\u0399\\u03c1\\u03ac\\u03bd\"], [\"\\u0399\\u03c1\\u03ac\\u03bd\"], [\"\\u0399\\u03c1\\u03ac\\u03bd\"], [\"\\u0399\\u03c1\\u03ac\\u03bd\"]], \"hoverlabel\": {\"namelength\": 0}, \"hovertemplate\": \"\\u03a7\\u03ce\\u03c1\\u03b1=%{customdata[0]}<br>\\u0391\\u03c1\\u03b9\\u03b8\\u03bc\\u03cc\\u03c2 \\u039a\\u03c1\\u03bf\\u03c5\\u03c3\\u03bc\\u03ac\\u03c4\\u03c9\\u03bd=%{y}\", \"legendgroup\": \"\\u0399\\u03c1\\u03ac\\u03bd\", \"line\": {\"color\": \"rgb(189,189,189)\", \"dash\": \"solid\", \"shape\": \"spline\"}, \"mode\": \"lines\", \"name\": \"\\u0399\\u03c1\\u03ac\\u03bd\", \"showlegend\": true, \"type\": \"scatter\", \"xaxis\": \"x\", \"y\": [139, 245, 388, 593, 978, 1501, 2336, 2922, 3513, 4747, 5823, 6566, 7161, 8042, 9000, 10075, 11364, 12729, 13938, 14991, 16169, 17361, 18407, 19644, 20610, 21638, 23049, 24811, 27017, 29406, 32332, 35408, 38309, 41495, 44605, 47593, 50468, 53183, 55743, 58226, 60500, 62589, 64586, 66220, 68192, 70029, 71686], \"yaxis\": \"y\"}, {\"customdata\": [[\"\\u0399\\u03c1\\u03ac\\u03ba\"], [\"\\u0399\\u03c1\\u03ac\\u03ba\"], [\"\\u0399\\u03c1\\u03ac\\u03ba\"], [\"\\u0399\\u03c1\\u03ac\\u03ba\"], [\"\\u0399\\u03c1\\u03ac\\u03ba\"], [\"\\u0399\\u03c1\\u03ac\\u03ba\"], [\"\\u0399\\u03c1\\u03ac\\u03ba\"], [\"\\u0399\\u03c1\\u03ac\\u03ba\"], [\"\\u0399\\u03c1\\u03ac\\u03ba\"], [\"\\u0399\\u03c1\\u03ac\\u03ba\"], [\"\\u0399\\u03c1\\u03ac\\u03ba\"], [\"\\u0399\\u03c1\\u03ac\\u03ba\"], [\"\\u0399\\u03c1\\u03ac\\u03ba\"], [\"\\u0399\\u03c1\\u03ac\\u03ba\"], [\"\\u0399\\u03c1\\u03ac\\u03ba\"], [\"\\u0399\\u03c1\\u03ac\\u03ba\"], [\"\\u0399\\u03c1\\u03ac\\u03ba\"], [\"\\u0399\\u03c1\\u03ac\\u03ba\"], [\"\\u0399\\u03c1\\u03ac\\u03ba\"], [\"\\u0399\\u03c1\\u03ac\\u03ba\"], [\"\\u0399\\u03c1\\u03ac\\u03ba\"], [\"\\u0399\\u03c1\\u03ac\\u03ba\"], [\"\\u0399\\u03c1\\u03ac\\u03ba\"], [\"\\u0399\\u03c1\\u03ac\\u03ba\"], [\"\\u0399\\u03c1\\u03ac\\u03ba\"], [\"\\u0399\\u03c1\\u03ac\\u03ba\"], [\"\\u0399\\u03c1\\u03ac\\u03ba\"], [\"\\u0399\\u03c1\\u03ac\\u03ba\"], [\"\\u0399\\u03c1\\u03ac\\u03ba\"], [\"\\u0399\\u03c1\\u03ac\\u03ba\"], [\"\\u0399\\u03c1\\u03ac\\u03ba\"]], \"hoverlabel\": {\"namelength\": 0}, \"hovertemplate\": \"\\u03a7\\u03ce\\u03c1\\u03b1=%{customdata[0]}<br>\\u0391\\u03c1\\u03b9\\u03b8\\u03bc\\u03cc\\u03c2 \\u039a\\u03c1\\u03bf\\u03c5\\u03c3\\u03bc\\u03ac\\u03c4\\u03c9\\u03bd=%{y}\", \"legendgroup\": \"\\u0399\\u03c1\\u03ac\\u03ba\", \"line\": {\"color\": \"rgb(189,189,189)\", \"dash\": \"solid\", \"shape\": \"spline\"}, \"mode\": \"lines\", \"name\": \"\\u0399\\u03c1\\u03ac\\u03ba\", \"showlegend\": true, \"type\": \"scatter\", \"xaxis\": \"x\", \"y\": [101, 110, 116, 124, 154, 164, 192, 208, 214, 233, 266, 316, 346, 382, 458, 506, 547, 630, 694, 728, 772, 820, 878, 961, 1031, 1122, 1202, 1232, 1279, 1318, 1352], \"yaxis\": \"y\"}, {\"customdata\": [[\"\\u0399\\u03c1\\u03bb\\u03b1\\u03bd\\u03b4\\u03af\\u03b1\"], [\"\\u0399\\u03c1\\u03bb\\u03b1\\u03bd\\u03b4\\u03af\\u03b1\"], [\"\\u0399\\u03c1\\u03bb\\u03b1\\u03bd\\u03b4\\u03af\\u03b1\"], [\"\\u0399\\u03c1\\u03bb\\u03b1\\u03bd\\u03b4\\u03af\\u03b1\"], [\"\\u0399\\u03c1\\u03bb\\u03b1\\u03bd\\u03b4\\u03af\\u03b1\"], [\"\\u0399\\u03c1\\u03bb\\u03b1\\u03bd\\u03b4\\u03af\\u03b1\"], [\"\\u0399\\u03c1\\u03bb\\u03b1\\u03bd\\u03b4\\u03af\\u03b1\"], [\"\\u0399\\u03c1\\u03bb\\u03b1\\u03bd\\u03b4\\u03af\\u03b1\"], [\"\\u0399\\u03c1\\u03bb\\u03b1\\u03bd\\u03b4\\u03af\\u03b1\"], [\"\\u0399\\u03c1\\u03bb\\u03b1\\u03bd\\u03b4\\u03af\\u03b1\"], [\"\\u0399\\u03c1\\u03bb\\u03b1\\u03bd\\u03b4\\u03af\\u03b1\"], [\"\\u0399\\u03c1\\u03bb\\u03b1\\u03bd\\u03b4\\u03af\\u03b1\"], [\"\\u0399\\u03c1\\u03bb\\u03b1\\u03bd\\u03b4\\u03af\\u03b1\"], [\"\\u0399\\u03c1\\u03bb\\u03b1\\u03bd\\u03b4\\u03af\\u03b1\"], [\"\\u0399\\u03c1\\u03bb\\u03b1\\u03bd\\u03b4\\u03af\\u03b1\"], [\"\\u0399\\u03c1\\u03bb\\u03b1\\u03bd\\u03b4\\u03af\\u03b1\"], [\"\\u0399\\u03c1\\u03bb\\u03b1\\u03bd\\u03b4\\u03af\\u03b1\"], [\"\\u0399\\u03c1\\u03bb\\u03b1\\u03bd\\u03b4\\u03af\\u03b1\"], [\"\\u0399\\u03c1\\u03bb\\u03b1\\u03bd\\u03b4\\u03af\\u03b1\"], [\"\\u0399\\u03c1\\u03bb\\u03b1\\u03bd\\u03b4\\u03af\\u03b1\"], [\"\\u0399\\u03c1\\u03bb\\u03b1\\u03bd\\u03b4\\u03af\\u03b1\"], [\"\\u0399\\u03c1\\u03bb\\u03b1\\u03bd\\u03b4\\u03af\\u03b1\"], [\"\\u0399\\u03c1\\u03bb\\u03b1\\u03bd\\u03b4\\u03af\\u03b1\"], [\"\\u0399\\u03c1\\u03bb\\u03b1\\u03bd\\u03b4\\u03af\\u03b1\"], [\"\\u0399\\u03c1\\u03bb\\u03b1\\u03bd\\u03b4\\u03af\\u03b1\"], [\"\\u0399\\u03c1\\u03bb\\u03b1\\u03bd\\u03b4\\u03af\\u03b1\"], [\"\\u0399\\u03c1\\u03bb\\u03b1\\u03bd\\u03b4\\u03af\\u03b1\"], [\"\\u0399\\u03c1\\u03bb\\u03b1\\u03bd\\u03b4\\u03af\\u03b1\"], [\"\\u0399\\u03c1\\u03bb\\u03b1\\u03bd\\u03b4\\u03af\\u03b1\"], [\"\\u0399\\u03c1\\u03bb\\u03b1\\u03bd\\u03b4\\u03af\\u03b1\"]], \"hoverlabel\": {\"namelength\": 0}, \"hovertemplate\": \"\\u03a7\\u03ce\\u03c1\\u03b1=%{customdata[0]}<br>\\u0391\\u03c1\\u03b9\\u03b8\\u03bc\\u03cc\\u03c2 \\u039a\\u03c1\\u03bf\\u03c5\\u03c3\\u03bc\\u03ac\\u03c4\\u03c9\\u03bd=%{y}\", \"legendgroup\": \"\\u0399\\u03c1\\u03bb\\u03b1\\u03bd\\u03b4\\u03af\\u03b1\", \"line\": {\"color\": \"rgb(189,189,189)\", \"dash\": \"solid\", \"shape\": \"spline\"}, \"mode\": \"lines\", \"name\": \"\\u0399\\u03c1\\u03bb\\u03b1\\u03bd\\u03b4\\u03af\\u03b1\", \"showlegend\": true, \"type\": \"scatter\", \"xaxis\": \"x\", \"y\": [129, 129, 169, 223, 292, 557, 683, 785, 906, 1125, 1329, 1564, 1819, 2121, 2415, 2615, 2910, 3235, 3447, 3849, 4273, 4604, 4994, 5364, 5709, 6074, 6574, 8089, 8928, 9655], \"yaxis\": \"y\"}, {\"customdata\": [[\"\\u0399\\u03c3\\u03c1\\u03b1\\u03ae\\u03bb\"], [\"\\u0399\\u03c3\\u03c1\\u03b1\\u03ae\\u03bb\"], [\"\\u0399\\u03c3\\u03c1\\u03b1\\u03ae\\u03bb\"], [\"\\u0399\\u03c3\\u03c1\\u03b1\\u03ae\\u03bb\"], [\"\\u0399\\u03c3\\u03c1\\u03b1\\u03ae\\u03bb\"], [\"\\u0399\\u03c3\\u03c1\\u03b1\\u03ae\\u03bb\"], [\"\\u0399\\u03c3\\u03c1\\u03b1\\u03ae\\u03bb\"], [\"\\u0399\\u03c3\\u03c1\\u03b1\\u03ae\\u03bb\"], [\"\\u0399\\u03c3\\u03c1\\u03b1\\u03ae\\u03bb\"], [\"\\u0399\\u03c3\\u03c1\\u03b1\\u03ae\\u03bb\"], [\"\\u0399\\u03c3\\u03c1\\u03b1\\u03ae\\u03bb\"], [\"\\u0399\\u03c3\\u03c1\\u03b1\\u03ae\\u03bb\"], [\"\\u0399\\u03c3\\u03c1\\u03b1\\u03ae\\u03bb\"], [\"\\u0399\\u03c3\\u03c1\\u03b1\\u03ae\\u03bb\"], [\"\\u0399\\u03c3\\u03c1\\u03b1\\u03ae\\u03bb\"], [\"\\u0399\\u03c3\\u03c1\\u03b1\\u03ae\\u03bb\"], [\"\\u0399\\u03c3\\u03c1\\u03b1\\u03ae\\u03bb\"], [\"\\u0399\\u03c3\\u03c1\\u03b1\\u03ae\\u03bb\"], [\"\\u0399\\u03c3\\u03c1\\u03b1\\u03ae\\u03bb\"], [\"\\u0399\\u03c3\\u03c1\\u03b1\\u03ae\\u03bb\"], [\"\\u0399\\u03c3\\u03c1\\u03b1\\u03ae\\u03bb\"], [\"\\u0399\\u03c3\\u03c1\\u03b1\\u03ae\\u03bb\"], [\"\\u0399\\u03c3\\u03c1\\u03b1\\u03ae\\u03bb\"], [\"\\u0399\\u03c3\\u03c1\\u03b1\\u03ae\\u03bb\"], [\"\\u0399\\u03c3\\u03c1\\u03b1\\u03ae\\u03bb\"], [\"\\u0399\\u03c3\\u03c1\\u03b1\\u03ae\\u03bb\"], [\"\\u0399\\u03c3\\u03c1\\u03b1\\u03ae\\u03bb\"], [\"\\u0399\\u03c3\\u03c1\\u03b1\\u03ae\\u03bb\"], [\"\\u0399\\u03c3\\u03c1\\u03b1\\u03ae\\u03bb\"], [\"\\u0399\\u03c3\\u03c1\\u03b1\\u03ae\\u03bb\"], [\"\\u0399\\u03c3\\u03c1\\u03b1\\u03ae\\u03bb\"], [\"\\u0399\\u03c3\\u03c1\\u03b1\\u03ae\\u03bb\"]], \"hoverlabel\": {\"namelength\": 0}, \"hovertemplate\": \"\\u03a7\\u03ce\\u03c1\\u03b1=%{customdata[0]}<br>\\u0391\\u03c1\\u03b9\\u03b8\\u03bc\\u03cc\\u03c2 \\u039a\\u03c1\\u03bf\\u03c5\\u03c3\\u03bc\\u03ac\\u03c4\\u03c9\\u03bd=%{y}\", \"legendgroup\": \"\\u0399\\u03c3\\u03c1\\u03b1\\u03ae\\u03bb\", \"line\": {\"color\": \"rgb(189,189,189)\", \"dash\": \"solid\", \"shape\": \"spline\"}, \"mode\": \"lines\", \"name\": \"\\u0399\\u03c3\\u03c1\\u03b1\\u03ae\\u03bb\", \"showlegend\": true, \"type\": \"scatter\", \"xaxis\": \"x\", \"y\": [100, 126, 155, 213, 218, 250, 304, 427, 529, 712, 883, 1071, 1238, 2369, 2693, 3035, 3619, 4247, 4695, 5358, 6092, 6857, 7428, 7851, 8430, 8904, 9248, 9404, 9968, 10408, 10743, 11145], \"yaxis\": \"y\"}, {\"customdata\": [[\"\\u0399\\u03b1\\u03c0\\u03c9\\u03bd\\u03af\\u03b1\"], [\"\\u0399\\u03b1\\u03c0\\u03c9\\u03bd\\u03af\\u03b1\"], [\"\\u0399\\u03b1\\u03c0\\u03c9\\u03bd\\u03af\\u03b1\"], [\"\\u0399\\u03b1\\u03c0\\u03c9\\u03bd\\u03af\\u03b1\"], [\"\\u0399\\u03b1\\u03c0\\u03c9\\u03bd\\u03af\\u03b1\"], [\"\\u0399\\u03b1\\u03c0\\u03c9\\u03bd\\u03af\\u03b1\"], [\"\\u0399\\u03b1\\u03c0\\u03c9\\u03bd\\u03af\\u03b1\"], [\"\\u0399\\u03b1\\u03c0\\u03c9\\u03bd\\u03af\\u03b1\"], [\"\\u0399\\u03b1\\u03c0\\u03c9\\u03bd\\u03af\\u03b1\"], [\"\\u0399\\u03b1\\u03c0\\u03c9\\u03bd\\u03af\\u03b1\"], [\"\\u0399\\u03b1\\u03c0\\u03c9\\u03bd\\u03af\\u03b1\"], [\"\\u0399\\u03b1\\u03c0\\u03c9\\u03bd\\u03af\\u03b1\"], [\"\\u0399\\u03b1\\u03c0\\u03c9\\u03bd\\u03af\\u03b1\"], [\"\\u0399\\u03b1\\u03c0\\u03c9\\u03bd\\u03af\\u03b1\"], [\"\\u0399\\u03b1\\u03c0\\u03c9\\u03bd\\u03af\\u03b1\"], [\"\\u0399\\u03b1\\u03c0\\u03c9\\u03bd\\u03af\\u03b1\"], [\"\\u0399\\u03b1\\u03c0\\u03c9\\u03bd\\u03af\\u03b1\"], [\"\\u0399\\u03b1\\u03c0\\u03c9\\u03bd\\u03af\\u03b1\"], [\"\\u0399\\u03b1\\u03c0\\u03c9\\u03bd\\u03af\\u03b1\"], [\"\\u0399\\u03b1\\u03c0\\u03c9\\u03bd\\u03af\\u03b1\"], [\"\\u0399\\u03b1\\u03c0\\u03c9\\u03bd\\u03af\\u03b1\"], [\"\\u0399\\u03b1\\u03c0\\u03c9\\u03bd\\u03af\\u03b1\"], [\"\\u0399\\u03b1\\u03c0\\u03c9\\u03bd\\u03af\\u03b1\"], [\"\\u0399\\u03b1\\u03c0\\u03c9\\u03bd\\u03af\\u03b1\"], [\"\\u0399\\u03b1\\u03c0\\u03c9\\u03bd\\u03af\\u03b1\"], [\"\\u0399\\u03b1\\u03c0\\u03c9\\u03bd\\u03af\\u03b1\"], [\"\\u0399\\u03b1\\u03c0\\u03c9\\u03bd\\u03af\\u03b1\"], [\"\\u0399\\u03b1\\u03c0\\u03c9\\u03bd\\u03af\\u03b1\"], [\"\\u0399\\u03b1\\u03c0\\u03c9\\u03bd\\u03af\\u03b1\"], [\"\\u0399\\u03b1\\u03c0\\u03c9\\u03bd\\u03af\\u03b1\"], [\"\\u0399\\u03b1\\u03c0\\u03c9\\u03bd\\u03af\\u03b1\"], [\"\\u0399\\u03b1\\u03c0\\u03c9\\u03bd\\u03af\\u03b1\"], [\"\\u0399\\u03b1\\u03c0\\u03c9\\u03bd\\u03af\\u03b1\"], [\"\\u0399\\u03b1\\u03c0\\u03c9\\u03bd\\u03af\\u03b1\"], [\"\\u0399\\u03b1\\u03c0\\u03c9\\u03bd\\u03af\\u03b1\"], [\"\\u0399\\u03b1\\u03c0\\u03c9\\u03bd\\u03af\\u03b1\"], [\"\\u0399\\u03b1\\u03c0\\u03c9\\u03bd\\u03af\\u03b1\"], [\"\\u0399\\u03b1\\u03c0\\u03c9\\u03bd\\u03af\\u03b1\"], [\"\\u0399\\u03b1\\u03c0\\u03c9\\u03bd\\u03af\\u03b1\"], [\"\\u0399\\u03b1\\u03c0\\u03c9\\u03bd\\u03af\\u03b1\"], [\"\\u0399\\u03b1\\u03c0\\u03c9\\u03bd\\u03af\\u03b1\"], [\"\\u0399\\u03b1\\u03c0\\u03c9\\u03bd\\u03af\\u03b1\"], [\"\\u0399\\u03b1\\u03c0\\u03c9\\u03bd\\u03af\\u03b1\"], [\"\\u0399\\u03b1\\u03c0\\u03c9\\u03bd\\u03af\\u03b1\"], [\"\\u0399\\u03b1\\u03c0\\u03c9\\u03bd\\u03af\\u03b1\"], [\"\\u0399\\u03b1\\u03c0\\u03c9\\u03bd\\u03af\\u03b1\"], [\"\\u0399\\u03b1\\u03c0\\u03c9\\u03bd\\u03af\\u03b1\"], [\"\\u0399\\u03b1\\u03c0\\u03c9\\u03bd\\u03af\\u03b1\"], [\"\\u0399\\u03b1\\u03c0\\u03c9\\u03bd\\u03af\\u03b1\"], [\"\\u0399\\u03b1\\u03c0\\u03c9\\u03bd\\u03af\\u03b1\"], [\"\\u0399\\u03b1\\u03c0\\u03c9\\u03bd\\u03af\\u03b1\"], [\"\\u0399\\u03b1\\u03c0\\u03c9\\u03bd\\u03af\\u03b1\"]], \"hoverlabel\": {\"namelength\": 0}, \"hovertemplate\": \"\\u03a7\\u03ce\\u03c1\\u03b1=%{customdata[0]}<br>\\u0391\\u03c1\\u03b9\\u03b8\\u03bc\\u03cc\\u03c2 \\u039a\\u03c1\\u03bf\\u03c5\\u03c3\\u03bc\\u03ac\\u03c4\\u03c9\\u03bd=%{y}\", \"legendgroup\": \"\\u0399\\u03b1\\u03c0\\u03c9\\u03bd\\u03af\\u03b1\", \"line\": {\"color\": \"rgb(189,189,189)\", \"dash\": \"solid\", \"shape\": \"spline\"}, \"mode\": \"lines\", \"name\": \"\\u0399\\u03b1\\u03c0\\u03c9\\u03bd\\u03af\\u03b1\", \"showlegend\": true, \"type\": \"scatter\", \"xaxis\": \"x\", \"y\": [105, 122, 147, 159, 170, 189, 214, 228, 241, 256, 274, 293, 331, 360, 420, 461, 502, 511, 581, 639, 639, 701, 773, 839, 839, 878, 889, 924, 963, 1007, 1101, 1128, 1193, 1307, 1387, 1468, 1693, 1866, 1866, 1953, 2178, 2495, 2617, 3139, 3139, 3654, 3906, 4257, 4667, 5530, 6005, 6748], \"yaxis\": \"y\"}, {\"customdata\": [[\"\\u0399\\u03bf\\u03c1\\u03b4\\u03b1\\u03bd\\u03af\\u03b1\"], [\"\\u0399\\u03bf\\u03c1\\u03b4\\u03b1\\u03bd\\u03af\\u03b1\"], [\"\\u0399\\u03bf\\u03c1\\u03b4\\u03b1\\u03bd\\u03af\\u03b1\"], [\"\\u0399\\u03bf\\u03c1\\u03b4\\u03b1\\u03bd\\u03af\\u03b1\"], [\"\\u0399\\u03bf\\u03c1\\u03b4\\u03b1\\u03bd\\u03af\\u03b1\"], [\"\\u0399\\u03bf\\u03c1\\u03b4\\u03b1\\u03bd\\u03af\\u03b1\"], [\"\\u0399\\u03bf\\u03c1\\u03b4\\u03b1\\u03bd\\u03af\\u03b1\"], [\"\\u0399\\u03bf\\u03c1\\u03b4\\u03b1\\u03bd\\u03af\\u03b1\"], [\"\\u0399\\u03bf\\u03c1\\u03b4\\u03b1\\u03bd\\u03af\\u03b1\"], [\"\\u0399\\u03bf\\u03c1\\u03b4\\u03b1\\u03bd\\u03af\\u03b1\"], [\"\\u0399\\u03bf\\u03c1\\u03b4\\u03b1\\u03bd\\u03af\\u03b1\"], [\"\\u0399\\u03bf\\u03c1\\u03b4\\u03b1\\u03bd\\u03af\\u03b1\"], [\"\\u0399\\u03bf\\u03c1\\u03b4\\u03b1\\u03bd\\u03af\\u03b1\"], [\"\\u0399\\u03bf\\u03c1\\u03b4\\u03b1\\u03bd\\u03af\\u03b1\"], [\"\\u0399\\u03bf\\u03c1\\u03b4\\u03b1\\u03bd\\u03af\\u03b1\"], [\"\\u0399\\u03bf\\u03c1\\u03b4\\u03b1\\u03bd\\u03af\\u03b1\"], [\"\\u0399\\u03bf\\u03c1\\u03b4\\u03b1\\u03bd\\u03af\\u03b1\"], [\"\\u0399\\u03bf\\u03c1\\u03b4\\u03b1\\u03bd\\u03af\\u03b1\"], [\"\\u0399\\u03bf\\u03c1\\u03b4\\u03b1\\u03bd\\u03af\\u03b1\"], [\"\\u0399\\u03bf\\u03c1\\u03b4\\u03b1\\u03bd\\u03af\\u03b1\"], [\"\\u0399\\u03bf\\u03c1\\u03b4\\u03b1\\u03bd\\u03af\\u03b1\"], [\"\\u0399\\u03bf\\u03c1\\u03b4\\u03b1\\u03bd\\u03af\\u03b1\"]], \"hoverlabel\": {\"namelength\": 0}, \"hovertemplate\": \"\\u03a7\\u03ce\\u03c1\\u03b1=%{customdata[0]}<br>\\u0391\\u03c1\\u03b9\\u03b8\\u03bc\\u03cc\\u03c2 \\u039a\\u03c1\\u03bf\\u03c5\\u03c3\\u03bc\\u03ac\\u03c4\\u03c9\\u03bd=%{y}\", \"legendgroup\": \"\\u0399\\u03bf\\u03c1\\u03b4\\u03b1\\u03bd\\u03af\\u03b1\", \"line\": {\"color\": \"rgb(189,189,189)\", \"dash\": \"solid\", \"shape\": \"spline\"}, \"mode\": \"lines\", \"name\": \"\\u0399\\u03bf\\u03c1\\u03b4\\u03b1\\u03bd\\u03af\\u03b1\", \"showlegend\": true, \"type\": \"scatter\", \"xaxis\": \"x\", \"y\": [112, 127, 154, 172, 212, 235, 246, 259, 268, 274, 278, 299, 310, 323, 345, 349, 353, 358, 372, 372, 381, 389], \"yaxis\": \"y\"}, {\"customdata\": [[\"\\u039a\\u03b1\\u03b6\\u03b1\\u03ba\\u03c3\\u03c4\\u03ac\\u03bd\"], [\"\\u039a\\u03b1\\u03b6\\u03b1\\u03ba\\u03c3\\u03c4\\u03ac\\u03bd\"], [\"\\u039a\\u03b1\\u03b6\\u03b1\\u03ba\\u03c3\\u03c4\\u03ac\\u03bd\"], [\"\\u039a\\u03b1\\u03b6\\u03b1\\u03ba\\u03c3\\u03c4\\u03ac\\u03bd\"], [\"\\u039a\\u03b1\\u03b6\\u03b1\\u03ba\\u03c3\\u03c4\\u03ac\\u03bd\"], [\"\\u039a\\u03b1\\u03b6\\u03b1\\u03ba\\u03c3\\u03c4\\u03ac\\u03bd\"], [\"\\u039a\\u03b1\\u03b6\\u03b1\\u03ba\\u03c3\\u03c4\\u03ac\\u03bd\"], [\"\\u039a\\u03b1\\u03b6\\u03b1\\u03ba\\u03c3\\u03c4\\u03ac\\u03bd\"], [\"\\u039a\\u03b1\\u03b6\\u03b1\\u03ba\\u03c3\\u03c4\\u03ac\\u03bd\"], [\"\\u039a\\u03b1\\u03b6\\u03b1\\u03ba\\u03c3\\u03c4\\u03ac\\u03bd\"], [\"\\u039a\\u03b1\\u03b6\\u03b1\\u03ba\\u03c3\\u03c4\\u03ac\\u03bd\"], [\"\\u039a\\u03b1\\u03b6\\u03b1\\u03ba\\u03c3\\u03c4\\u03ac\\u03bd\"], [\"\\u039a\\u03b1\\u03b6\\u03b1\\u03ba\\u03c3\\u03c4\\u03ac\\u03bd\"], [\"\\u039a\\u03b1\\u03b6\\u03b1\\u03ba\\u03c3\\u03c4\\u03ac\\u03bd\"], [\"\\u039a\\u03b1\\u03b6\\u03b1\\u03ba\\u03c3\\u03c4\\u03ac\\u03bd\"], [\"\\u039a\\u03b1\\u03b6\\u03b1\\u03ba\\u03c3\\u03c4\\u03ac\\u03bd\"], [\"\\u039a\\u03b1\\u03b6\\u03b1\\u03ba\\u03c3\\u03c4\\u03ac\\u03bd\"], [\"\\u039a\\u03b1\\u03b6\\u03b1\\u03ba\\u03c3\\u03c4\\u03ac\\u03bd\"]], \"hoverlabel\": {\"namelength\": 0}, \"hovertemplate\": \"\\u03a7\\u03ce\\u03c1\\u03b1=%{customdata[0]}<br>\\u0391\\u03c1\\u03b9\\u03b8\\u03bc\\u03cc\\u03c2 \\u039a\\u03c1\\u03bf\\u03c5\\u03c3\\u03bc\\u03ac\\u03c4\\u03c9\\u03bd=%{y}\", \"legendgroup\": \"\\u039a\\u03b1\\u03b6\\u03b1\\u03ba\\u03c3\\u03c4\\u03ac\\u03bd\", \"line\": {\"color\": \"rgb(189,189,189)\", \"dash\": \"solid\", \"shape\": \"spline\"}, \"mode\": \"lines\", \"name\": \"\\u039a\\u03b1\\u03b6\\u03b1\\u03ba\\u03c3\\u03c4\\u03ac\\u03bd\", \"showlegend\": true, \"type\": \"scatter\", \"xaxis\": \"x\", \"y\": [111, 150, 228, 284, 302, 343, 380, 435, 464, 531, 584, 662, 697, 727, 781, 812, 865, 951], \"yaxis\": \"y\"}, {\"customdata\": [[\"\\u039a\\u03ad\\u03bd\\u03c5\\u03b1\"], [\"\\u039a\\u03ad\\u03bd\\u03c5\\u03b1\"], [\"\\u039a\\u03ad\\u03bd\\u03c5\\u03b1\"], [\"\\u039a\\u03ad\\u03bd\\u03c5\\u03b1\"], [\"\\u039a\\u03ad\\u03bd\\u03c5\\u03b1\"], [\"\\u039a\\u03ad\\u03bd\\u03c5\\u03b1\"], [\"\\u039a\\u03ad\\u03bd\\u03c5\\u03b1\"], [\"\\u039a\\u03ad\\u03bd\\u03c5\\u03b1\"], [\"\\u039a\\u03ad\\u03bd\\u03c5\\u03b1\"], [\"\\u039a\\u03ad\\u03bd\\u03c5\\u03b1\"], [\"\\u039a\\u03ad\\u03bd\\u03c5\\u03b1\"]], \"hoverlabel\": {\"namelength\": 0}, \"hovertemplate\": \"\\u03a7\\u03ce\\u03c1\\u03b1=%{customdata[0]}<br>\\u0391\\u03c1\\u03b9\\u03b8\\u03bc\\u03cc\\u03c2 \\u039a\\u03c1\\u03bf\\u03c5\\u03c3\\u03bc\\u03ac\\u03c4\\u03c9\\u03bd=%{y}\", \"legendgroup\": \"\\u039a\\u03ad\\u03bd\\u03c5\\u03b1\", \"line\": {\"color\": \"rgb(189,189,189)\", \"dash\": \"solid\", \"shape\": \"spline\"}, \"mode\": \"lines\", \"name\": \"\\u039a\\u03ad\\u03bd\\u03c5\\u03b1\", \"showlegend\": true, \"type\": \"scatter\", \"xaxis\": \"x\", \"y\": [110, 122, 126, 142, 158, 172, 179, 184, 189, 191, 197], \"yaxis\": \"y\"}, {\"customdata\": [[\"\\u039d\\u03cc\\u03c4\\u03b9\\u03b1 \\u039a\\u03bf\\u03c1\\u03ad\\u03b1\"], [\"\\u039d\\u03cc\\u03c4\\u03b9\\u03b1 \\u039a\\u03bf\\u03c1\\u03ad\\u03b1\"], [\"\\u039d\\u03cc\\u03c4\\u03b9\\u03b1 \\u039a\\u03bf\\u03c1\\u03ad\\u03b1\"], [\"\\u039d\\u03cc\\u03c4\\u03b9\\u03b1 \\u039a\\u03bf\\u03c1\\u03ad\\u03b1\"], [\"\\u039d\\u03cc\\u03c4\\u03b9\\u03b1 \\u039a\\u03bf\\u03c1\\u03ad\\u03b1\"], [\"\\u039d\\u03cc\\u03c4\\u03b9\\u03b1 \\u039a\\u03bf\\u03c1\\u03ad\\u03b1\"], [\"\\u039d\\u03cc\\u03c4\\u03b9\\u03b1 \\u039a\\u03bf\\u03c1\\u03ad\\u03b1\"], [\"\\u039d\\u03cc\\u03c4\\u03b9\\u03b1 \\u039a\\u03bf\\u03c1\\u03ad\\u03b1\"], [\"\\u039d\\u03cc\\u03c4\\u03b9\\u03b1 \\u039a\\u03bf\\u03c1\\u03ad\\u03b1\"], [\"\\u039d\\u03cc\\u03c4\\u03b9\\u03b1 \\u039a\\u03bf\\u03c1\\u03ad\\u03b1\"], [\"\\u039d\\u03cc\\u03c4\\u03b9\\u03b1 \\u039a\\u03bf\\u03c1\\u03ad\\u03b1\"], [\"\\u039d\\u03cc\\u03c4\\u03b9\\u03b1 \\u039a\\u03bf\\u03c1\\u03ad\\u03b1\"], [\"\\u039d\\u03cc\\u03c4\\u03b9\\u03b1 \\u039a\\u03bf\\u03c1\\u03ad\\u03b1\"], [\"\\u039d\\u03cc\\u03c4\\u03b9\\u03b1 \\u039a\\u03bf\\u03c1\\u03ad\\u03b1\"], [\"\\u039d\\u03cc\\u03c4\\u03b9\\u03b1 \\u039a\\u03bf\\u03c1\\u03ad\\u03b1\"], [\"\\u039d\\u03cc\\u03c4\\u03b9\\u03b1 \\u039a\\u03bf\\u03c1\\u03ad\\u03b1\"], [\"\\u039d\\u03cc\\u03c4\\u03b9\\u03b1 \\u039a\\u03bf\\u03c1\\u03ad\\u03b1\"], [\"\\u039d\\u03cc\\u03c4\\u03b9\\u03b1 \\u039a\\u03bf\\u03c1\\u03ad\\u03b1\"], [\"\\u039d\\u03cc\\u03c4\\u03b9\\u03b1 \\u039a\\u03bf\\u03c1\\u03ad\\u03b1\"], [\"\\u039d\\u03cc\\u03c4\\u03b9\\u03b1 \\u039a\\u03bf\\u03c1\\u03ad\\u03b1\"], [\"\\u039d\\u03cc\\u03c4\\u03b9\\u03b1 \\u039a\\u03bf\\u03c1\\u03ad\\u03b1\"], [\"\\u039d\\u03cc\\u03c4\\u03b9\\u03b1 \\u039a\\u03bf\\u03c1\\u03ad\\u03b1\"], [\"\\u039d\\u03cc\\u03c4\\u03b9\\u03b1 \\u039a\\u03bf\\u03c1\\u03ad\\u03b1\"], [\"\\u039d\\u03cc\\u03c4\\u03b9\\u03b1 \\u039a\\u03bf\\u03c1\\u03ad\\u03b1\"], [\"\\u039d\\u03cc\\u03c4\\u03b9\\u03b1 \\u039a\\u03bf\\u03c1\\u03ad\\u03b1\"], [\"\\u039d\\u03cc\\u03c4\\u03b9\\u03b1 \\u039a\\u03bf\\u03c1\\u03ad\\u03b1\"], [\"\\u039d\\u03cc\\u03c4\\u03b9\\u03b1 \\u039a\\u03bf\\u03c1\\u03ad\\u03b1\"], [\"\\u039d\\u03cc\\u03c4\\u03b9\\u03b1 \\u039a\\u03bf\\u03c1\\u03ad\\u03b1\"], [\"\\u039d\\u03cc\\u03c4\\u03b9\\u03b1 \\u039a\\u03bf\\u03c1\\u03ad\\u03b1\"], [\"\\u039d\\u03cc\\u03c4\\u03b9\\u03b1 \\u039a\\u03bf\\u03c1\\u03ad\\u03b1\"], [\"\\u039d\\u03cc\\u03c4\\u03b9\\u03b1 \\u039a\\u03bf\\u03c1\\u03ad\\u03b1\"], [\"\\u039d\\u03cc\\u03c4\\u03b9\\u03b1 \\u039a\\u03bf\\u03c1\\u03ad\\u03b1\"], [\"\\u039d\\u03cc\\u03c4\\u03b9\\u03b1 \\u039a\\u03bf\\u03c1\\u03ad\\u03b1\"], [\"\\u039d\\u03cc\\u03c4\\u03b9\\u03b1 \\u039a\\u03bf\\u03c1\\u03ad\\u03b1\"], [\"\\u039d\\u03cc\\u03c4\\u03b9\\u03b1 \\u039a\\u03bf\\u03c1\\u03ad\\u03b1\"], [\"\\u039d\\u03cc\\u03c4\\u03b9\\u03b1 \\u039a\\u03bf\\u03c1\\u03ad\\u03b1\"], [\"\\u039d\\u03cc\\u03c4\\u03b9\\u03b1 \\u039a\\u03bf\\u03c1\\u03ad\\u03b1\"], [\"\\u039d\\u03cc\\u03c4\\u03b9\\u03b1 \\u039a\\u03bf\\u03c1\\u03ad\\u03b1\"], [\"\\u039d\\u03cc\\u03c4\\u03b9\\u03b1 \\u039a\\u03bf\\u03c1\\u03ad\\u03b1\"], [\"\\u039d\\u03cc\\u03c4\\u03b9\\u03b1 \\u039a\\u03bf\\u03c1\\u03ad\\u03b1\"], [\"\\u039d\\u03cc\\u03c4\\u03b9\\u03b1 \\u039a\\u03bf\\u03c1\\u03ad\\u03b1\"], [\"\\u039d\\u03cc\\u03c4\\u03b9\\u03b1 \\u039a\\u03bf\\u03c1\\u03ad\\u03b1\"], [\"\\u039d\\u03cc\\u03c4\\u03b9\\u03b1 \\u039a\\u03bf\\u03c1\\u03ad\\u03b1\"], [\"\\u039d\\u03cc\\u03c4\\u03b9\\u03b1 \\u039a\\u03bf\\u03c1\\u03ad\\u03b1\"], [\"\\u039d\\u03cc\\u03c4\\u03b9\\u03b1 \\u039a\\u03bf\\u03c1\\u03ad\\u03b1\"], [\"\\u039d\\u03cc\\u03c4\\u03b9\\u03b1 \\u039a\\u03bf\\u03c1\\u03ad\\u03b1\"], [\"\\u039d\\u03cc\\u03c4\\u03b9\\u03b1 \\u039a\\u03bf\\u03c1\\u03ad\\u03b1\"], [\"\\u039d\\u03cc\\u03c4\\u03b9\\u03b1 \\u039a\\u03bf\\u03c1\\u03ad\\u03b1\"], [\"\\u039d\\u03cc\\u03c4\\u03b9\\u03b1 \\u039a\\u03bf\\u03c1\\u03ad\\u03b1\"], [\"\\u039d\\u03cc\\u03c4\\u03b9\\u03b1 \\u039a\\u03bf\\u03c1\\u03ad\\u03b1\"], [\"\\u039d\\u03cc\\u03c4\\u03b9\\u03b1 \\u039a\\u03bf\\u03c1\\u03ad\\u03b1\"], [\"\\u039d\\u03cc\\u03c4\\u03b9\\u03b1 \\u039a\\u03bf\\u03c1\\u03ad\\u03b1\"], [\"\\u039d\\u03cc\\u03c4\\u03b9\\u03b1 \\u039a\\u03bf\\u03c1\\u03ad\\u03b1\"]], \"hoverlabel\": {\"namelength\": 0}, \"hovertemplate\": \"\\u03a7\\u03ce\\u03c1\\u03b1=%{customdata[0]}<br>\\u0391\\u03c1\\u03b9\\u03b8\\u03bc\\u03cc\\u03c2 \\u039a\\u03c1\\u03bf\\u03c5\\u03c3\\u03bc\\u03ac\\u03c4\\u03c9\\u03bd=%{y}\", \"legendgroup\": \"\\u039d\\u03cc\\u03c4\\u03b9\\u03b1 \\u039a\\u03bf\\u03c1\\u03ad\\u03b1\", \"line\": {\"color\": \"rgb(189,189,189)\", \"dash\": \"solid\", \"shape\": \"spline\"}, \"mode\": \"lines\", \"name\": \"\\u039d\\u03cc\\u03c4\\u03b9\\u03b1 \\u039a\\u03bf\\u03c1\\u03ad\\u03b1\", \"showlegend\": true, \"type\": \"scatter\", \"xaxis\": \"x\", \"y\": [104, 204, 433, 602, 833, 977, 1261, 1766, 2337, 3150, 3736, 4335, 5186, 5621, 6088, 6593, 7041, 7314, 7478, 7513, 7755, 7869, 7979, 8086, 8162, 8236, 8320, 8413, 8565, 8652, 8799, 8961, 8961, 9037, 9137, 9241, 9332, 9478, 9583, 9661, 9786, 9887, 9976, 10062, 10156, 10237, 10284, 10331, 10384, 10423, 10450, 10480, 10512], \"yaxis\": \"y\"}, {\"customdata\": [[\"\\u039a\\u03cc\\u03c3\\u03bf\\u03b2\\u03bf\"], [\"\\u039a\\u03cc\\u03c3\\u03bf\\u03b2\\u03bf\"], [\"\\u039a\\u03cc\\u03c3\\u03bf\\u03b2\\u03bf\"], [\"\\u039a\\u03cc\\u03c3\\u03bf\\u03b2\\u03bf\"], [\"\\u039a\\u03cc\\u03c3\\u03bf\\u03b2\\u03bf\"], [\"\\u039a\\u03cc\\u03c3\\u03bf\\u03b2\\u03bf\"], [\"\\u039a\\u03cc\\u03c3\\u03bf\\u03b2\\u03bf\"], [\"\\u039a\\u03cc\\u03c3\\u03bf\\u03b2\\u03bf\"], [\"\\u039a\\u03cc\\u03c3\\u03bf\\u03b2\\u03bf\"], [\"\\u039a\\u03cc\\u03c3\\u03bf\\u03b2\\u03bf\"], [\"\\u039a\\u03cc\\u03c3\\u03bf\\u03b2\\u03bf\"], [\"\\u039a\\u03cc\\u03c3\\u03bf\\u03b2\\u03bf\"], [\"\\u039a\\u03cc\\u03c3\\u03bf\\u03b2\\u03bf\"]], \"hoverlabel\": {\"namelength\": 0}, \"hovertemplate\": \"\\u03a7\\u03ce\\u03c1\\u03b1=%{customdata[0]}<br>\\u0391\\u03c1\\u03b9\\u03b8\\u03bc\\u03cc\\u03c2 \\u039a\\u03c1\\u03bf\\u03c5\\u03c3\\u03bc\\u03ac\\u03c4\\u03c9\\u03bd=%{y}\", \"legendgroup\": \"\\u039a\\u03cc\\u03c3\\u03bf\\u03b2\\u03bf\", \"line\": {\"color\": \"rgb(189,189,189)\", \"dash\": \"solid\", \"shape\": \"spline\"}, \"mode\": \"lines\", \"name\": \"\\u039a\\u03cc\\u03c3\\u03bf\\u03b2\\u03bf\", \"showlegend\": true, \"type\": \"scatter\", \"xaxis\": \"x\", \"y\": [112, 125, 125, 126, 135, 145, 145, 170, 184, 184, 250, 283, 283], \"yaxis\": \"y\"}, {\"customdata\": [[\"\\u039a\\u03bf\\u03c5\\u03b2\\u03ad\\u03b9\\u03c4\"], [\"\\u039a\\u03bf\\u03c5\\u03b2\\u03ad\\u03b9\\u03c4\"], [\"\\u039a\\u03bf\\u03c5\\u03b2\\u03ad\\u03b9\\u03c4\"], [\"\\u039a\\u03bf\\u03c5\\u03b2\\u03ad\\u03b9\\u03c4\"], [\"\\u039a\\u03bf\\u03c5\\u03b2\\u03ad\\u03b9\\u03c4\"], [\"\\u039a\\u03bf\\u03c5\\u03b2\\u03ad\\u03b9\\u03c4\"], [\"\\u039a\\u03bf\\u03c5\\u03b2\\u03ad\\u03b9\\u03c4\"], [\"\\u039a\\u03bf\\u03c5\\u03b2\\u03ad\\u03b9\\u03c4\"], [\"\\u039a\\u03bf\\u03c5\\u03b2\\u03ad\\u03b9\\u03c4\"], [\"\\u039a\\u03bf\\u03c5\\u03b2\\u03ad\\u03b9\\u03c4\"], [\"\\u039a\\u03bf\\u03c5\\u03b2\\u03ad\\u03b9\\u03c4\"], [\"\\u039a\\u03bf\\u03c5\\u03b2\\u03ad\\u03b9\\u03c4\"], [\"\\u039a\\u03bf\\u03c5\\u03b2\\u03ad\\u03b9\\u03c4\"], [\"\\u039a\\u03bf\\u03c5\\u03b2\\u03ad\\u03b9\\u03c4\"], [\"\\u039a\\u03bf\\u03c5\\u03b2\\u03ad\\u03b9\\u03c4\"], [\"\\u039a\\u03bf\\u03c5\\u03b2\\u03ad\\u03b9\\u03c4\"], [\"\\u039a\\u03bf\\u03c5\\u03b2\\u03ad\\u03b9\\u03c4\"], [\"\\u039a\\u03bf\\u03c5\\u03b2\\u03ad\\u03b9\\u03c4\"], [\"\\u039a\\u03bf\\u03c5\\u03b2\\u03ad\\u03b9\\u03c4\"], [\"\\u039a\\u03bf\\u03c5\\u03b2\\u03ad\\u03b9\\u03c4\"], [\"\\u039a\\u03bf\\u03c5\\u03b2\\u03ad\\u03b9\\u03c4\"], [\"\\u039a\\u03bf\\u03c5\\u03b2\\u03ad\\u03b9\\u03c4\"], [\"\\u039a\\u03bf\\u03c5\\u03b2\\u03ad\\u03b9\\u03c4\"], [\"\\u039a\\u03bf\\u03c5\\u03b2\\u03ad\\u03b9\\u03c4\"], [\"\\u039a\\u03bf\\u03c5\\u03b2\\u03ad\\u03b9\\u03c4\"], [\"\\u039a\\u03bf\\u03c5\\u03b2\\u03ad\\u03b9\\u03c4\"], [\"\\u039a\\u03bf\\u03c5\\u03b2\\u03ad\\u03b9\\u03c4\"], [\"\\u039a\\u03bf\\u03c5\\u03b2\\u03ad\\u03b9\\u03c4\"], [\"\\u039a\\u03bf\\u03c5\\u03b2\\u03ad\\u03b9\\u03c4\"], [\"\\u039a\\u03bf\\u03c5\\u03b2\\u03ad\\u03b9\\u03c4\"]], \"hoverlabel\": {\"namelength\": 0}, \"hovertemplate\": \"\\u03a7\\u03ce\\u03c1\\u03b1=%{customdata[0]}<br>\\u0391\\u03c1\\u03b9\\u03b8\\u03bc\\u03cc\\u03c2 \\u039a\\u03c1\\u03bf\\u03c5\\u03c3\\u03bc\\u03ac\\u03c4\\u03c9\\u03bd=%{y}\", \"legendgroup\": \"\\u039a\\u03bf\\u03c5\\u03b2\\u03ad\\u03b9\\u03c4\", \"line\": {\"color\": \"rgb(189,189,189)\", \"dash\": \"solid\", \"shape\": \"spline\"}, \"mode\": \"lines\", \"name\": \"\\u039a\\u03bf\\u03c5\\u03b2\\u03ad\\u03b9\\u03c4\", \"showlegend\": true, \"type\": \"scatter\", \"xaxis\": \"x\", \"y\": [104, 112, 123, 130, 142, 148, 159, 176, 188, 189, 191, 195, 208, 225, 235, 255, 266, 289, 317, 342, 417, 479, 556, 665, 743, 855, 910, 993, 1154, 1234], \"yaxis\": \"y\"}, {\"customdata\": [[\"\\u039a\\u03b9\\u03c1\\u03b3\\u03b9\\u03b6\\u03af\\u03b1\"], [\"\\u039a\\u03b9\\u03c1\\u03b3\\u03b9\\u03b6\\u03af\\u03b1\"], [\"\\u039a\\u03b9\\u03c1\\u03b3\\u03b9\\u03b6\\u03af\\u03b1\"], [\"\\u039a\\u03b9\\u03c1\\u03b3\\u03b9\\u03b6\\u03af\\u03b1\"], [\"\\u039a\\u03b9\\u03c1\\u03b3\\u03b9\\u03b6\\u03af\\u03b1\"], [\"\\u039a\\u03b9\\u03c1\\u03b3\\u03b9\\u03b6\\u03af\\u03b1\"], [\"\\u039a\\u03b9\\u03c1\\u03b3\\u03b9\\u03b6\\u03af\\u03b1\"], [\"\\u039a\\u03b9\\u03c1\\u03b3\\u03b9\\u03b6\\u03af\\u03b1\"], [\"\\u039a\\u03b9\\u03c1\\u03b3\\u03b9\\u03b6\\u03af\\u03b1\"], [\"\\u039a\\u03b9\\u03c1\\u03b3\\u03b9\\u03b6\\u03af\\u03b1\"], [\"\\u039a\\u03b9\\u03c1\\u03b3\\u03b9\\u03b6\\u03af\\u03b1\"], [\"\\u039a\\u03b9\\u03c1\\u03b3\\u03b9\\u03b6\\u03af\\u03b1\"], [\"\\u039a\\u03b9\\u03c1\\u03b3\\u03b9\\u03b6\\u03af\\u03b1\"]], \"hoverlabel\": {\"namelength\": 0}, \"hovertemplate\": \"\\u03a7\\u03ce\\u03c1\\u03b1=%{customdata[0]}<br>\\u0391\\u03c1\\u03b9\\u03b8\\u03bc\\u03cc\\u03c2 \\u039a\\u03c1\\u03bf\\u03c5\\u03c3\\u03bc\\u03ac\\u03c4\\u03c9\\u03bd=%{y}\", \"legendgroup\": \"\\u039a\\u03b9\\u03c1\\u03b3\\u03b9\\u03b6\\u03af\\u03b1\", \"line\": {\"color\": \"rgb(189,189,189)\", \"dash\": \"solid\", \"shape\": \"spline\"}, \"mode\": \"lines\", \"name\": \"\\u039a\\u03b9\\u03c1\\u03b3\\u03b9\\u03b6\\u03af\\u03b1\", \"showlegend\": true, \"type\": \"scatter\", \"xaxis\": \"x\", \"y\": [107, 111, 116, 130, 144, 147, 216, 228, 270, 280, 298, 339, 377], \"yaxis\": \"y\"}, {\"customdata\": [[\"\\u039b\\u03b5\\u03c4\\u03c4\\u03bf\\u03bd\\u03af\\u03b1\"], [\"\\u039b\\u03b5\\u03c4\\u03c4\\u03bf\\u03bd\\u03af\\u03b1\"], [\"\\u039b\\u03b5\\u03c4\\u03c4\\u03bf\\u03bd\\u03af\\u03b1\"], [\"\\u039b\\u03b5\\u03c4\\u03c4\\u03bf\\u03bd\\u03af\\u03b1\"], [\"\\u039b\\u03b5\\u03c4\\u03c4\\u03bf\\u03bd\\u03af\\u03b1\"], [\"\\u039b\\u03b5\\u03c4\\u03c4\\u03bf\\u03bd\\u03af\\u03b1\"], [\"\\u039b\\u03b5\\u03c4\\u03c4\\u03bf\\u03bd\\u03af\\u03b1\"], [\"\\u039b\\u03b5\\u03c4\\u03c4\\u03bf\\u03bd\\u03af\\u03b1\"], [\"\\u039b\\u03b5\\u03c4\\u03c4\\u03bf\\u03bd\\u03af\\u03b1\"], [\"\\u039b\\u03b5\\u03c4\\u03c4\\u03bf\\u03bd\\u03af\\u03b1\"], [\"\\u039b\\u03b5\\u03c4\\u03c4\\u03bf\\u03bd\\u03af\\u03b1\"], [\"\\u039b\\u03b5\\u03c4\\u03c4\\u03bf\\u03bd\\u03af\\u03b1\"], [\"\\u039b\\u03b5\\u03c4\\u03c4\\u03bf\\u03bd\\u03af\\u03b1\"], [\"\\u039b\\u03b5\\u03c4\\u03c4\\u03bf\\u03bd\\u03af\\u03b1\"], [\"\\u039b\\u03b5\\u03c4\\u03c4\\u03bf\\u03bd\\u03af\\u03b1\"], [\"\\u039b\\u03b5\\u03c4\\u03c4\\u03bf\\u03bd\\u03af\\u03b1\"], [\"\\u039b\\u03b5\\u03c4\\u03c4\\u03bf\\u03bd\\u03af\\u03b1\"], [\"\\u039b\\u03b5\\u03c4\\u03c4\\u03bf\\u03bd\\u03af\\u03b1\"], [\"\\u039b\\u03b5\\u03c4\\u03c4\\u03bf\\u03bd\\u03af\\u03b1\"], [\"\\u039b\\u03b5\\u03c4\\u03c4\\u03bf\\u03bd\\u03af\\u03b1\"], [\"\\u039b\\u03b5\\u03c4\\u03c4\\u03bf\\u03bd\\u03af\\u03b1\"], [\"\\u039b\\u03b5\\u03c4\\u03c4\\u03bf\\u03bd\\u03af\\u03b1\"], [\"\\u039b\\u03b5\\u03c4\\u03c4\\u03bf\\u03bd\\u03af\\u03b1\"], [\"\\u039b\\u03b5\\u03c4\\u03c4\\u03bf\\u03bd\\u03af\\u03b1\"]], \"hoverlabel\": {\"namelength\": 0}, \"hovertemplate\": \"\\u03a7\\u03ce\\u03c1\\u03b1=%{customdata[0]}<br>\\u0391\\u03c1\\u03b9\\u03b8\\u03bc\\u03cc\\u03c2 \\u039a\\u03c1\\u03bf\\u03c5\\u03c3\\u03bc\\u03ac\\u03c4\\u03c9\\u03bd=%{y}\", \"legendgroup\": \"\\u039b\\u03b5\\u03c4\\u03c4\\u03bf\\u03bd\\u03af\\u03b1\", \"line\": {\"color\": \"rgb(189,189,189)\", \"dash\": \"solid\", \"shape\": \"spline\"}, \"mode\": \"lines\", \"name\": \"\\u039b\\u03b5\\u03c4\\u03c4\\u03bf\\u03bd\\u03af\\u03b1\", \"showlegend\": true, \"type\": \"scatter\", \"xaxis\": \"x\", \"y\": [111, 124, 139, 180, 197, 221, 244, 280, 305, 347, 376, 398, 446, 458, 493, 509, 533, 542, 548, 577, 589, 612, 630, 651], \"yaxis\": \"y\"}, {\"customdata\": [[\"\\u039b\\u03af\\u03b2\\u03b1\\u03bd\\u03bf\\u03c2\"], [\"\\u039b\\u03af\\u03b2\\u03b1\\u03bd\\u03bf\\u03c2\"], [\"\\u039b\\u03af\\u03b2\\u03b1\\u03bd\\u03bf\\u03c2\"], [\"\\u039b\\u03af\\u03b2\\u03b1\\u03bd\\u03bf\\u03c2\"], [\"\\u039b\\u03af\\u03b2\\u03b1\\u03bd\\u03bf\\u03c2\"], [\"\\u039b\\u03af\\u03b2\\u03b1\\u03bd\\u03bf\\u03c2\"], [\"\\u039b\\u03af\\u03b2\\u03b1\\u03bd\\u03bf\\u03c2\"], [\"\\u039b\\u03af\\u03b2\\u03b1\\u03bd\\u03bf\\u03c2\"], [\"\\u039b\\u03af\\u03b2\\u03b1\\u03bd\\u03bf\\u03c2\"], [\"\\u039b\\u03af\\u03b2\\u03b1\\u03bd\\u03bf\\u03c2\"], [\"\\u039b\\u03af\\u03b2\\u03b1\\u03bd\\u03bf\\u03c2\"], [\"\\u039b\\u03af\\u03b2\\u03b1\\u03bd\\u03bf\\u03c2\"], [\"\\u039b\\u03af\\u03b2\\u03b1\\u03bd\\u03bf\\u03c2\"], [\"\\u039b\\u03af\\u03b2\\u03b1\\u03bd\\u03bf\\u03c2\"], [\"\\u039b\\u03af\\u03b2\\u03b1\\u03bd\\u03bf\\u03c2\"], [\"\\u039b\\u03af\\u03b2\\u03b1\\u03bd\\u03bf\\u03c2\"], [\"\\u039b\\u03af\\u03b2\\u03b1\\u03bd\\u03bf\\u03c2\"], [\"\\u039b\\u03af\\u03b2\\u03b1\\u03bd\\u03bf\\u03c2\"], [\"\\u039b\\u03af\\u03b2\\u03b1\\u03bd\\u03bf\\u03c2\"], [\"\\u039b\\u03af\\u03b2\\u03b1\\u03bd\\u03bf\\u03c2\"], [\"\\u039b\\u03af\\u03b2\\u03b1\\u03bd\\u03bf\\u03c2\"], [\"\\u039b\\u03af\\u03b2\\u03b1\\u03bd\\u03bf\\u03c2\"], [\"\\u039b\\u03af\\u03b2\\u03b1\\u03bd\\u03bf\\u03c2\"], [\"\\u039b\\u03af\\u03b2\\u03b1\\u03bd\\u03bf\\u03c2\"], [\"\\u039b\\u03af\\u03b2\\u03b1\\u03bd\\u03bf\\u03c2\"], [\"\\u039b\\u03af\\u03b2\\u03b1\\u03bd\\u03bf\\u03c2\"], [\"\\u039b\\u03af\\u03b2\\u03b1\\u03bd\\u03bf\\u03c2\"], [\"\\u039b\\u03af\\u03b2\\u03b1\\u03bd\\u03bf\\u03c2\"], [\"\\u039b\\u03af\\u03b2\\u03b1\\u03bd\\u03bf\\u03c2\"]], \"hoverlabel\": {\"namelength\": 0}, \"hovertemplate\": \"\\u03a7\\u03ce\\u03c1\\u03b1=%{customdata[0]}<br>\\u0391\\u03c1\\u03b9\\u03b8\\u03bc\\u03cc\\u03c2 \\u039a\\u03c1\\u03bf\\u03c5\\u03c3\\u03bc\\u03ac\\u03c4\\u03c9\\u03bd=%{y}\", \"legendgroup\": \"\\u039b\\u03af\\u03b2\\u03b1\\u03bd\\u03bf\\u03c2\", \"line\": {\"color\": \"rgb(189,189,189)\", \"dash\": \"solid\", \"shape\": \"spline\"}, \"mode\": \"lines\", \"name\": \"\\u039b\\u03af\\u03b2\\u03b1\\u03bd\\u03bf\\u03c2\", \"showlegend\": true, \"type\": \"scatter\", \"xaxis\": \"x\", \"y\": [110, 110, 120, 133, 157, 163, 187, 248, 267, 318, 333, 368, 391, 412, 438, 446, 470, 479, 494, 508, 520, 527, 541, 548, 576, 582, 609, 619, 630], \"yaxis\": \"y\"}, {\"customdata\": [[\"\\u039b\\u03b9\\u03b8\\u03bf\\u03c5\\u03b1\\u03bd\\u03af\\u03b1\"], [\"\\u039b\\u03b9\\u03b8\\u03bf\\u03c5\\u03b1\\u03bd\\u03af\\u03b1\"], [\"\\u039b\\u03b9\\u03b8\\u03bf\\u03c5\\u03b1\\u03bd\\u03af\\u03b1\"], [\"\\u039b\\u03b9\\u03b8\\u03bf\\u03c5\\u03b1\\u03bd\\u03af\\u03b1\"], [\"\\u039b\\u03b9\\u03b8\\u03bf\\u03c5\\u03b1\\u03bd\\u03af\\u03b1\"], [\"\\u039b\\u03b9\\u03b8\\u03bf\\u03c5\\u03b1\\u03bd\\u03af\\u03b1\"], [\"\\u039b\\u03b9\\u03b8\\u03bf\\u03c5\\u03b1\\u03bd\\u03af\\u03b1\"], [\"\\u039b\\u03b9\\u03b8\\u03bf\\u03c5\\u03b1\\u03bd\\u03af\\u03b1\"], [\"\\u039b\\u03b9\\u03b8\\u03bf\\u03c5\\u03b1\\u03bd\\u03af\\u03b1\"], [\"\\u039b\\u03b9\\u03b8\\u03bf\\u03c5\\u03b1\\u03bd\\u03af\\u03b1\"], [\"\\u039b\\u03b9\\u03b8\\u03bf\\u03c5\\u03b1\\u03bd\\u03af\\u03b1\"], [\"\\u039b\\u03b9\\u03b8\\u03bf\\u03c5\\u03b1\\u03bd\\u03af\\u03b1\"], [\"\\u039b\\u03b9\\u03b8\\u03bf\\u03c5\\u03b1\\u03bd\\u03af\\u03b1\"], [\"\\u039b\\u03b9\\u03b8\\u03bf\\u03c5\\u03b1\\u03bd\\u03af\\u03b1\"], [\"\\u039b\\u03b9\\u03b8\\u03bf\\u03c5\\u03b1\\u03bd\\u03af\\u03b1\"], [\"\\u039b\\u03b9\\u03b8\\u03bf\\u03c5\\u03b1\\u03bd\\u03af\\u03b1\"], [\"\\u039b\\u03b9\\u03b8\\u03bf\\u03c5\\u03b1\\u03bd\\u03af\\u03b1\"], [\"\\u039b\\u03b9\\u03b8\\u03bf\\u03c5\\u03b1\\u03bd\\u03af\\u03b1\"], [\"\\u039b\\u03b9\\u03b8\\u03bf\\u03c5\\u03b1\\u03bd\\u03af\\u03b1\"], [\"\\u039b\\u03b9\\u03b8\\u03bf\\u03c5\\u03b1\\u03bd\\u03af\\u03b1\"], [\"\\u039b\\u03b9\\u03b8\\u03bf\\u03c5\\u03b1\\u03bd\\u03af\\u03b1\"], [\"\\u039b\\u03b9\\u03b8\\u03bf\\u03c5\\u03b1\\u03bd\\u03af\\u03b1\"]], \"hoverlabel\": {\"namelength\": 0}, \"hovertemplate\": \"\\u03a7\\u03ce\\u03c1\\u03b1=%{customdata[0]}<br>\\u0391\\u03c1\\u03b9\\u03b8\\u03bc\\u03cc\\u03c2 \\u039a\\u03c1\\u03bf\\u03c5\\u03c3\\u03bc\\u03ac\\u03c4\\u03c9\\u03bd=%{y}\", \"legendgroup\": \"\\u039b\\u03b9\\u03b8\\u03bf\\u03c5\\u03b1\\u03bd\\u03af\\u03b1\", \"line\": {\"color\": \"rgb(189,189,189)\", \"dash\": \"solid\", \"shape\": \"spline\"}, \"mode\": \"lines\", \"name\": \"\\u039b\\u03b9\\u03b8\\u03bf\\u03c5\\u03b1\\u03bd\\u03af\\u03b1\", \"showlegend\": true, \"type\": \"scatter\", \"xaxis\": \"x\", \"y\": [143, 179, 209, 274, 299, 358, 394, 460, 491, 537, 581, 649, 696, 771, 811, 843, 880, 912, 955, 999, 1026, 1053], \"yaxis\": \"y\"}, {\"customdata\": [[\"\\u039b\\u03bf\\u03c5\\u03be\\u03b5\\u03bc\\u03b2\\u03bf\\u03cd\\u03c1\\u03b3\\u03bf\"], [\"\\u039b\\u03bf\\u03c5\\u03be\\u03b5\\u03bc\\u03b2\\u03bf\\u03cd\\u03c1\\u03b3\\u03bf\"], [\"\\u039b\\u03bf\\u03c5\\u03be\\u03b5\\u03bc\\u03b2\\u03bf\\u03cd\\u03c1\\u03b3\\u03bf\"], [\"\\u039b\\u03bf\\u03c5\\u03be\\u03b5\\u03bc\\u03b2\\u03bf\\u03cd\\u03c1\\u03b3\\u03bf\"], [\"\\u039b\\u03bf\\u03c5\\u03be\\u03b5\\u03bc\\u03b2\\u03bf\\u03cd\\u03c1\\u03b3\\u03bf\"], [\"\\u039b\\u03bf\\u03c5\\u03be\\u03b5\\u03bc\\u03b2\\u03bf\\u03cd\\u03c1\\u03b3\\u03bf\"], [\"\\u039b\\u03bf\\u03c5\\u03be\\u03b5\\u03bc\\u03b2\\u03bf\\u03cd\\u03c1\\u03b3\\u03bf\"], [\"\\u039b\\u03bf\\u03c5\\u03be\\u03b5\\u03bc\\u03b2\\u03bf\\u03cd\\u03c1\\u03b3\\u03bf\"], [\"\\u039b\\u03bf\\u03c5\\u03be\\u03b5\\u03bc\\u03b2\\u03bf\\u03cd\\u03c1\\u03b3\\u03bf\"], [\"\\u039b\\u03bf\\u03c5\\u03be\\u03b5\\u03bc\\u03b2\\u03bf\\u03cd\\u03c1\\u03b3\\u03bf\"], [\"\\u039b\\u03bf\\u03c5\\u03be\\u03b5\\u03bc\\u03b2\\u03bf\\u03cd\\u03c1\\u03b3\\u03bf\"], [\"\\u039b\\u03bf\\u03c5\\u03be\\u03b5\\u03bc\\u03b2\\u03bf\\u03cd\\u03c1\\u03b3\\u03bf\"], [\"\\u039b\\u03bf\\u03c5\\u03be\\u03b5\\u03bc\\u03b2\\u03bf\\u03cd\\u03c1\\u03b3\\u03bf\"], [\"\\u039b\\u03bf\\u03c5\\u03be\\u03b5\\u03bc\\u03b2\\u03bf\\u03cd\\u03c1\\u03b3\\u03bf\"], [\"\\u039b\\u03bf\\u03c5\\u03be\\u03b5\\u03bc\\u03b2\\u03bf\\u03cd\\u03c1\\u03b3\\u03bf\"], [\"\\u039b\\u03bf\\u03c5\\u03be\\u03b5\\u03bc\\u03b2\\u03bf\\u03cd\\u03c1\\u03b3\\u03bf\"], [\"\\u039b\\u03bf\\u03c5\\u03be\\u03b5\\u03bc\\u03b2\\u03bf\\u03cd\\u03c1\\u03b3\\u03bf\"], [\"\\u039b\\u03bf\\u03c5\\u03be\\u03b5\\u03bc\\u03b2\\u03bf\\u03cd\\u03c1\\u03b3\\u03bf\"], [\"\\u039b\\u03bf\\u03c5\\u03be\\u03b5\\u03bc\\u03b2\\u03bf\\u03cd\\u03c1\\u03b3\\u03bf\"], [\"\\u039b\\u03bf\\u03c5\\u03be\\u03b5\\u03bc\\u03b2\\u03bf\\u03cd\\u03c1\\u03b3\\u03bf\"], [\"\\u039b\\u03bf\\u03c5\\u03be\\u03b5\\u03bc\\u03b2\\u03bf\\u03cd\\u03c1\\u03b3\\u03bf\"], [\"\\u039b\\u03bf\\u03c5\\u03be\\u03b5\\u03bc\\u03b2\\u03bf\\u03cd\\u03c1\\u03b3\\u03bf\"], [\"\\u039b\\u03bf\\u03c5\\u03be\\u03b5\\u03bc\\u03b2\\u03bf\\u03cd\\u03c1\\u03b3\\u03bf\"], [\"\\u039b\\u03bf\\u03c5\\u03be\\u03b5\\u03bc\\u03b2\\u03bf\\u03cd\\u03c1\\u03b3\\u03bf\"], [\"\\u039b\\u03bf\\u03c5\\u03be\\u03b5\\u03bc\\u03b2\\u03bf\\u03cd\\u03c1\\u03b3\\u03bf\"], [\"\\u039b\\u03bf\\u03c5\\u03be\\u03b5\\u03bc\\u03b2\\u03bf\\u03cd\\u03c1\\u03b3\\u03bf\"], [\"\\u039b\\u03bf\\u03c5\\u03be\\u03b5\\u03bc\\u03b2\\u03bf\\u03cd\\u03c1\\u03b3\\u03bf\"]], \"hoverlabel\": {\"namelength\": 0}, \"hovertemplate\": \"\\u03a7\\u03ce\\u03c1\\u03b1=%{customdata[0]}<br>\\u0391\\u03c1\\u03b9\\u03b8\\u03bc\\u03cc\\u03c2 \\u039a\\u03c1\\u03bf\\u03c5\\u03c3\\u03bc\\u03ac\\u03c4\\u03c9\\u03bd=%{y}\", \"legendgroup\": \"\\u039b\\u03bf\\u03c5\\u03be\\u03b5\\u03bc\\u03b2\\u03bf\\u03cd\\u03c1\\u03b3\\u03bf\", \"line\": {\"color\": \"rgb(189,189,189)\", \"dash\": \"solid\", \"shape\": \"spline\"}, \"mode\": \"lines\", \"name\": \"\\u039b\\u03bf\\u03c5\\u03be\\u03b5\\u03bc\\u03b2\\u03bf\\u03cd\\u03c1\\u03b3\\u03bf\", \"showlegend\": true, \"type\": \"scatter\", \"xaxis\": \"x\", \"y\": [140, 203, 335, 484, 670, 798, 875, 1099, 1333, 1453, 1605, 1831, 1950, 1988, 2178, 2319, 2487, 2612, 2729, 2804, 2843, 2970, 3034, 3115, 3223, 3270, 3281], \"yaxis\": \"y\"}, {\"customdata\": [[\"\\u039c\\u03b1\\u03b4\\u03b1\\u03b3\\u03b1\\u03c3\\u03ba\\u03ac\\u03c1\\u03b7\"], [\"\\u039c\\u03b1\\u03b4\\u03b1\\u03b3\\u03b1\\u03c3\\u03ba\\u03ac\\u03c1\\u03b7\"]], \"hoverlabel\": {\"namelength\": 0}, \"hovertemplate\": \"\\u03a7\\u03ce\\u03c1\\u03b1=%{customdata[0]}<br>\\u0391\\u03c1\\u03b9\\u03b8\\u03bc\\u03cc\\u03c2 \\u039a\\u03c1\\u03bf\\u03c5\\u03c3\\u03bc\\u03ac\\u03c4\\u03c9\\u03bd=%{y}\", \"legendgroup\": \"\\u039c\\u03b1\\u03b4\\u03b1\\u03b3\\u03b1\\u03c3\\u03ba\\u03ac\\u03c1\\u03b7\", \"line\": {\"color\": \"rgb(189,189,189)\", \"dash\": \"solid\", \"shape\": \"spline\"}, \"mode\": \"lines\", \"name\": \"\\u039c\\u03b1\\u03b4\\u03b1\\u03b3\\u03b1\\u03c3\\u03ba\\u03ac\\u03c1\\u03b7\", \"showlegend\": true, \"type\": \"scatter\", \"xaxis\": \"x\", \"y\": [102, 106], \"yaxis\": \"y\"}, {\"customdata\": [[\"\\u039c\\u03b1\\u03bb\\u03b1\\u03b9\\u03c3\\u03af\\u03b1\"], [\"\\u039c\\u03b1\\u03bb\\u03b1\\u03b9\\u03c3\\u03af\\u03b1\"], [\"\\u039c\\u03b1\\u03bb\\u03b1\\u03b9\\u03c3\\u03af\\u03b1\"], [\"\\u039c\\u03b1\\u03bb\\u03b1\\u03b9\\u03c3\\u03af\\u03b1\"], [\"\\u039c\\u03b1\\u03bb\\u03b1\\u03b9\\u03c3\\u03af\\u03b1\"], [\"\\u039c\\u03b1\\u03bb\\u03b1\\u03b9\\u03c3\\u03af\\u03b1\"], [\"\\u039c\\u03b1\\u03bb\\u03b1\\u03b9\\u03c3\\u03af\\u03b1\"], [\"\\u039c\\u03b1\\u03bb\\u03b1\\u03b9\\u03c3\\u03af\\u03b1\"], [\"\\u039c\\u03b1\\u03bb\\u03b1\\u03b9\\u03c3\\u03af\\u03b1\"], [\"\\u039c\\u03b1\\u03bb\\u03b1\\u03b9\\u03c3\\u03af\\u03b1\"], [\"\\u039c\\u03b1\\u03bb\\u03b1\\u03b9\\u03c3\\u03af\\u03b1\"], [\"\\u039c\\u03b1\\u03bb\\u03b1\\u03b9\\u03c3\\u03af\\u03b1\"], [\"\\u039c\\u03b1\\u03bb\\u03b1\\u03b9\\u03c3\\u03af\\u03b1\"], [\"\\u039c\\u03b1\\u03bb\\u03b1\\u03b9\\u03c3\\u03af\\u03b1\"], [\"\\u039c\\u03b1\\u03bb\\u03b1\\u03b9\\u03c3\\u03af\\u03b1\"], [\"\\u039c\\u03b1\\u03bb\\u03b1\\u03b9\\u03c3\\u03af\\u03b1\"], [\"\\u039c\\u03b1\\u03bb\\u03b1\\u03b9\\u03c3\\u03af\\u03b1\"], [\"\\u039c\\u03b1\\u03bb\\u03b1\\u03b9\\u03c3\\u03af\\u03b1\"], [\"\\u039c\\u03b1\\u03bb\\u03b1\\u03b9\\u03c3\\u03af\\u03b1\"], [\"\\u039c\\u03b1\\u03bb\\u03b1\\u03b9\\u03c3\\u03af\\u03b1\"], [\"\\u039c\\u03b1\\u03bb\\u03b1\\u03b9\\u03c3\\u03af\\u03b1\"], [\"\\u039c\\u03b1\\u03bb\\u03b1\\u03b9\\u03c3\\u03af\\u03b1\"], [\"\\u039c\\u03b1\\u03bb\\u03b1\\u03b9\\u03c3\\u03af\\u03b1\"], [\"\\u039c\\u03b1\\u03bb\\u03b1\\u03b9\\u03c3\\u03af\\u03b1\"], [\"\\u039c\\u03b1\\u03bb\\u03b1\\u03b9\\u03c3\\u03af\\u03b1\"], [\"\\u039c\\u03b1\\u03bb\\u03b1\\u03b9\\u03c3\\u03af\\u03b1\"], [\"\\u039c\\u03b1\\u03bb\\u03b1\\u03b9\\u03c3\\u03af\\u03b1\"], [\"\\u039c\\u03b1\\u03bb\\u03b1\\u03b9\\u03c3\\u03af\\u03b1\"], [\"\\u039c\\u03b1\\u03bb\\u03b1\\u03b9\\u03c3\\u03af\\u03b1\"], [\"\\u039c\\u03b1\\u03bb\\u03b1\\u03b9\\u03c3\\u03af\\u03b1\"], [\"\\u039c\\u03b1\\u03bb\\u03b1\\u03b9\\u03c3\\u03af\\u03b1\"], [\"\\u039c\\u03b1\\u03bb\\u03b1\\u03b9\\u03c3\\u03af\\u03b1\"], [\"\\u039c\\u03b1\\u03bb\\u03b1\\u03b9\\u03c3\\u03af\\u03b1\"], [\"\\u039c\\u03b1\\u03bb\\u03b1\\u03b9\\u03c3\\u03af\\u03b1\"], [\"\\u039c\\u03b1\\u03bb\\u03b1\\u03b9\\u03c3\\u03af\\u03b1\"]], \"hoverlabel\": {\"namelength\": 0}, \"hovertemplate\": \"\\u03a7\\u03ce\\u03c1\\u03b1=%{customdata[0]}<br>\\u0391\\u03c1\\u03b9\\u03b8\\u03bc\\u03cc\\u03c2 \\u039a\\u03c1\\u03bf\\u03c5\\u03c3\\u03bc\\u03ac\\u03c4\\u03c9\\u03bd=%{y}\", \"legendgroup\": \"\\u039c\\u03b1\\u03bb\\u03b1\\u03b9\\u03c3\\u03af\\u03b1\", \"line\": {\"color\": \"rgb(189,189,189)\", \"dash\": \"solid\", \"shape\": \"spline\"}, \"mode\": \"lines\", \"name\": \"\\u039c\\u03b1\\u03bb\\u03b1\\u03b9\\u03c3\\u03af\\u03b1\", \"showlegend\": true, \"type\": \"scatter\", \"xaxis\": \"x\", \"y\": [117, 129, 149, 149, 197, 238, 428, 566, 673, 790, 900, 1030, 1183, 1306, 1518, 1624, 1796, 2031, 2161, 2320, 2470, 2626, 2766, 2908, 3116, 3333, 3483, 3662, 3793, 3963, 4119, 4228, 4346, 4530, 4683], \"yaxis\": \"y\"}, {\"customdata\": [[\"\\u039c\\u03ac\\u03bb\\u03b9\"]], \"hoverlabel\": {\"namelength\": 0}, \"hovertemplate\": \"\\u03a7\\u03ce\\u03c1\\u03b1=%{customdata[0]}<br>\\u0391\\u03c1\\u03b9\\u03b8\\u03bc\\u03cc\\u03c2 \\u039a\\u03c1\\u03bf\\u03c5\\u03c3\\u03bc\\u03ac\\u03c4\\u03c9\\u03bd=%{y}\", \"legendgroup\": \"\\u039c\\u03ac\\u03bb\\u03b9\", \"line\": {\"color\": \"rgb(189,189,189)\", \"dash\": \"solid\", \"shape\": \"spline\"}, \"mode\": \"lines\", \"name\": \"\\u039c\\u03ac\\u03bb\\u03b9\", \"showlegend\": true, \"type\": \"scatter\", \"xaxis\": \"x\", \"y\": [105], \"yaxis\": \"y\"}, {\"customdata\": [[\"\\u039c\\u03ac\\u03bb\\u03c4\\u03b1\"], [\"\\u039c\\u03ac\\u03bb\\u03c4\\u03b1\"], [\"\\u039c\\u03ac\\u03bb\\u03c4\\u03b1\"], [\"\\u039c\\u03ac\\u03bb\\u03c4\\u03b1\"], [\"\\u039c\\u03ac\\u03bb\\u03c4\\u03b1\"], [\"\\u039c\\u03ac\\u03bb\\u03c4\\u03b1\"], [\"\\u039c\\u03ac\\u03bb\\u03c4\\u03b1\"], [\"\\u039c\\u03ac\\u03bb\\u03c4\\u03b1\"], [\"\\u039c\\u03ac\\u03bb\\u03c4\\u03b1\"], [\"\\u039c\\u03ac\\u03bb\\u03c4\\u03b1\"], [\"\\u039c\\u03ac\\u03bb\\u03c4\\u03b1\"], [\"\\u039c\\u03ac\\u03bb\\u03c4\\u03b1\"], [\"\\u039c\\u03ac\\u03bb\\u03c4\\u03b1\"], [\"\\u039c\\u03ac\\u03bb\\u03c4\\u03b1\"], [\"\\u039c\\u03ac\\u03bb\\u03c4\\u03b1\"], [\"\\u039c\\u03ac\\u03bb\\u03c4\\u03b1\"], [\"\\u039c\\u03ac\\u03bb\\u03c4\\u03b1\"], [\"\\u039c\\u03ac\\u03bb\\u03c4\\u03b1\"], [\"\\u039c\\u03ac\\u03bb\\u03c4\\u03b1\"], [\"\\u039c\\u03ac\\u03bb\\u03c4\\u03b1\"], [\"\\u039c\\u03ac\\u03bb\\u03c4\\u03b1\"]], \"hoverlabel\": {\"namelength\": 0}, \"hovertemplate\": \"\\u03a7\\u03ce\\u03c1\\u03b1=%{customdata[0]}<br>\\u0391\\u03c1\\u03b9\\u03b8\\u03bc\\u03cc\\u03c2 \\u039a\\u03c1\\u03bf\\u03c5\\u03c3\\u03bc\\u03ac\\u03c4\\u03c9\\u03bd=%{y}\", \"legendgroup\": \"\\u039c\\u03ac\\u03bb\\u03c4\\u03b1\", \"line\": {\"color\": \"rgb(189,189,189)\", \"dash\": \"solid\", \"shape\": \"spline\"}, \"mode\": \"lines\", \"name\": \"\\u039c\\u03ac\\u03bb\\u03c4\\u03b1\", \"showlegend\": true, \"type\": \"scatter\", \"xaxis\": \"x\", \"y\": [107, 110, 129, 134, 139, 149, 151, 156, 169, 188, 196, 202, 213, 227, 241, 293, 299, 337, 350, 370, 378], \"yaxis\": \"y\"}, {\"customdata\": [[\"\\u039c\\u03b1\\u03c5\\u03c1\\u03af\\u03ba\\u03b9\\u03bf\\u03c2\"], [\"\\u039c\\u03b1\\u03c5\\u03c1\\u03af\\u03ba\\u03b9\\u03bf\\u03c2\"], [\"\\u039c\\u03b1\\u03c5\\u03c1\\u03af\\u03ba\\u03b9\\u03bf\\u03c2\"], [\"\\u039c\\u03b1\\u03c5\\u03c1\\u03af\\u03ba\\u03b9\\u03bf\\u03c2\"], [\"\\u039c\\u03b1\\u03c5\\u03c1\\u03af\\u03ba\\u03b9\\u03bf\\u03c2\"], [\"\\u039c\\u03b1\\u03c5\\u03c1\\u03af\\u03ba\\u03b9\\u03bf\\u03c2\"], [\"\\u039c\\u03b1\\u03c5\\u03c1\\u03af\\u03ba\\u03b9\\u03bf\\u03c2\"], [\"\\u039c\\u03b1\\u03c5\\u03c1\\u03af\\u03ba\\u03b9\\u03bf\\u03c2\"], [\"\\u039c\\u03b1\\u03c5\\u03c1\\u03af\\u03ba\\u03b9\\u03bf\\u03c2\"], [\"\\u039c\\u03b1\\u03c5\\u03c1\\u03af\\u03ba\\u03b9\\u03bf\\u03c2\"], [\"\\u039c\\u03b1\\u03c5\\u03c1\\u03af\\u03ba\\u03b9\\u03bf\\u03c2\"], [\"\\u039c\\u03b1\\u03c5\\u03c1\\u03af\\u03ba\\u03b9\\u03bf\\u03c2\"], [\"\\u039c\\u03b1\\u03c5\\u03c1\\u03af\\u03ba\\u03b9\\u03bf\\u03c2\"], [\"\\u039c\\u03b1\\u03c5\\u03c1\\u03af\\u03ba\\u03b9\\u03bf\\u03c2\"], [\"\\u039c\\u03b1\\u03c5\\u03c1\\u03af\\u03ba\\u03b9\\u03bf\\u03c2\"], [\"\\u039c\\u03b1\\u03c5\\u03c1\\u03af\\u03ba\\u03b9\\u03bf\\u03c2\"]], \"hoverlabel\": {\"namelength\": 0}, \"hovertemplate\": \"\\u03a7\\u03ce\\u03c1\\u03b1=%{customdata[0]}<br>\\u0391\\u03c1\\u03b9\\u03b8\\u03bc\\u03cc\\u03c2 \\u039a\\u03c1\\u03bf\\u03c5\\u03c3\\u03bc\\u03ac\\u03c4\\u03c9\\u03bd=%{y}\", \"legendgroup\": \"\\u039c\\u03b1\\u03c5\\u03c1\\u03af\\u03ba\\u03b9\\u03bf\\u03c2\", \"line\": {\"color\": \"rgb(189,189,189)\", \"dash\": \"solid\", \"shape\": \"spline\"}, \"mode\": \"lines\", \"name\": \"\\u039c\\u03b1\\u03c5\\u03c1\\u03af\\u03ba\\u03b9\\u03bf\\u03c2\", \"showlegend\": true, \"type\": \"scatter\", \"xaxis\": \"x\", \"y\": [102, 107, 128, 143, 161, 169, 186, 196, 227, 244, 268, 273, 314, 318, 319, 324], \"yaxis\": \"y\"}, {\"customdata\": [[\"\\u039c\\u03b5\\u03be\\u03b9\\u03ba\\u03cc\"], [\"\\u039c\\u03b5\\u03be\\u03b9\\u03ba\\u03cc\"], [\"\\u039c\\u03b5\\u03be\\u03b9\\u03ba\\u03cc\"], [\"\\u039c\\u03b5\\u03be\\u03b9\\u03ba\\u03cc\"], [\"\\u039c\\u03b5\\u03be\\u03b9\\u03ba\\u03cc\"], [\"\\u039c\\u03b5\\u03be\\u03b9\\u03ba\\u03cc\"], [\"\\u039c\\u03b5\\u03be\\u03b9\\u03ba\\u03cc\"], [\"\\u039c\\u03b5\\u03be\\u03b9\\u03ba\\u03cc\"], [\"\\u039c\\u03b5\\u03be\\u03b9\\u03ba\\u03cc\"], [\"\\u039c\\u03b5\\u03be\\u03b9\\u03ba\\u03cc\"], [\"\\u039c\\u03b5\\u03be\\u03b9\\u03ba\\u03cc\"], [\"\\u039c\\u03b5\\u03be\\u03b9\\u03ba\\u03cc\"], [\"\\u039c\\u03b5\\u03be\\u03b9\\u03ba\\u03cc\"], [\"\\u039c\\u03b5\\u03be\\u03b9\\u03ba\\u03cc\"], [\"\\u039c\\u03b5\\u03be\\u03b9\\u03ba\\u03cc\"], [\"\\u039c\\u03b5\\u03be\\u03b9\\u03ba\\u03cc\"], [\"\\u039c\\u03b5\\u03be\\u03b9\\u03ba\\u03cc\"], [\"\\u039c\\u03b5\\u03be\\u03b9\\u03ba\\u03cc\"], [\"\\u039c\\u03b5\\u03be\\u03b9\\u03ba\\u03cc\"], [\"\\u039c\\u03b5\\u03be\\u03b9\\u03ba\\u03cc\"], [\"\\u039c\\u03b5\\u03be\\u03b9\\u03ba\\u03cc\"], [\"\\u039c\\u03b5\\u03be\\u03b9\\u03ba\\u03cc\"], [\"\\u039c\\u03b5\\u03be\\u03b9\\u03ba\\u03cc\"], [\"\\u039c\\u03b5\\u03be\\u03b9\\u03ba\\u03cc\"], [\"\\u039c\\u03b5\\u03be\\u03b9\\u03ba\\u03cc\"]], \"hoverlabel\": {\"namelength\": 0}, \"hovertemplate\": \"\\u03a7\\u03ce\\u03c1\\u03b1=%{customdata[0]}<br>\\u0391\\u03c1\\u03b9\\u03b8\\u03bc\\u03cc\\u03c2 \\u039a\\u03c1\\u03bf\\u03c5\\u03c3\\u03bc\\u03ac\\u03c4\\u03c9\\u03bd=%{y}\", \"legendgroup\": \"\\u039c\\u03b5\\u03be\\u03b9\\u03ba\\u03cc\", \"line\": {\"color\": \"rgb(189,189,189)\", \"dash\": \"solid\", \"shape\": \"spline\"}, \"mode\": \"lines\", \"name\": \"\\u039c\\u03b5\\u03be\\u03b9\\u03ba\\u03cc\", \"showlegend\": true, \"type\": \"scatter\", \"xaxis\": \"x\", \"y\": [118, 164, 203, 251, 316, 367, 405, 475, 585, 717, 848, 993, 1094, 1215, 1378, 1510, 1688, 1890, 2143, 2439, 2785, 3181, 3441, 3844, 4219], \"yaxis\": \"y\"}, {\"customdata\": [[\"\\u039c\\u03bf\\u03bb\\u03b4\\u03bf\\u03b2\\u03af\\u03b1\"], [\"\\u039c\\u03bf\\u03bb\\u03b4\\u03bf\\u03b2\\u03af\\u03b1\"], [\"\\u039c\\u03bf\\u03bb\\u03b4\\u03bf\\u03b2\\u03af\\u03b1\"], [\"\\u039c\\u03bf\\u03bb\\u03b4\\u03bf\\u03b2\\u03af\\u03b1\"], [\"\\u039c\\u03bf\\u03bb\\u03b4\\u03bf\\u03b2\\u03af\\u03b1\"], [\"\\u039c\\u03bf\\u03bb\\u03b4\\u03bf\\u03b2\\u03af\\u03b1\"], [\"\\u039c\\u03bf\\u03bb\\u03b4\\u03bf\\u03b2\\u03af\\u03b1\"], [\"\\u039c\\u03bf\\u03bb\\u03b4\\u03bf\\u03b2\\u03af\\u03b1\"], [\"\\u039c\\u03bf\\u03bb\\u03b4\\u03bf\\u03b2\\u03af\\u03b1\"], [\"\\u039c\\u03bf\\u03bb\\u03b4\\u03bf\\u03b2\\u03af\\u03b1\"], [\"\\u039c\\u03bf\\u03bb\\u03b4\\u03bf\\u03b2\\u03af\\u03b1\"], [\"\\u039c\\u03bf\\u03bb\\u03b4\\u03bf\\u03b2\\u03af\\u03b1\"], [\"\\u039c\\u03bf\\u03bb\\u03b4\\u03bf\\u03b2\\u03af\\u03b1\"], [\"\\u039c\\u03bf\\u03bb\\u03b4\\u03bf\\u03b2\\u03af\\u03b1\"], [\"\\u039c\\u03bf\\u03bb\\u03b4\\u03bf\\u03b2\\u03af\\u03b1\"], [\"\\u039c\\u03bf\\u03bb\\u03b4\\u03bf\\u03b2\\u03af\\u03b1\"], [\"\\u039c\\u03bf\\u03bb\\u03b4\\u03bf\\u03b2\\u03af\\u03b1\"], [\"\\u039c\\u03bf\\u03bb\\u03b4\\u03bf\\u03b2\\u03af\\u03b1\"], [\"\\u039c\\u03bf\\u03bb\\u03b4\\u03bf\\u03b2\\u03af\\u03b1\"], [\"\\u039c\\u03bf\\u03bb\\u03b4\\u03bf\\u03b2\\u03af\\u03b1\"], [\"\\u039c\\u03bf\\u03bb\\u03b4\\u03bf\\u03b2\\u03af\\u03b1\"]], \"hoverlabel\": {\"namelength\": 0}, \"hovertemplate\": \"\\u03a7\\u03ce\\u03c1\\u03b1=%{customdata[0]}<br>\\u0391\\u03c1\\u03b9\\u03b8\\u03bc\\u03cc\\u03c2 \\u039a\\u03c1\\u03bf\\u03c5\\u03c3\\u03bc\\u03ac\\u03c4\\u03c9\\u03bd=%{y}\", \"legendgroup\": \"\\u039c\\u03bf\\u03bb\\u03b4\\u03bf\\u03b2\\u03af\\u03b1\", \"line\": {\"color\": \"rgb(189,189,189)\", \"dash\": \"solid\", \"shape\": \"spline\"}, \"mode\": \"lines\", \"name\": \"\\u039c\\u03bf\\u03bb\\u03b4\\u03bf\\u03b2\\u03af\\u03b1\", \"showlegend\": true, \"type\": \"scatter\", \"xaxis\": \"x\", \"y\": [109, 125, 149, 177, 199, 231, 263, 298, 353, 423, 505, 591, 752, 864, 965, 1056, 1174, 1289, 1438, 1560, 1662], \"yaxis\": \"y\"}, {\"customdata\": [[\"\\u039c\\u03b1\\u03c5\\u03c1\\u03bf\\u03b2\\u03bf\\u03cd\\u03bd\\u03b9\\u03bf\"], [\"\\u039c\\u03b1\\u03c5\\u03c1\\u03bf\\u03b2\\u03bf\\u03cd\\u03bd\\u03b9\\u03bf\"], [\"\\u039c\\u03b1\\u03c5\\u03c1\\u03bf\\u03b2\\u03bf\\u03cd\\u03bd\\u03b9\\u03bf\"], [\"\\u039c\\u03b1\\u03c5\\u03c1\\u03bf\\u03b2\\u03bf\\u03cd\\u03bd\\u03b9\\u03bf\"], [\"\\u039c\\u03b1\\u03c5\\u03c1\\u03bf\\u03b2\\u03bf\\u03cd\\u03bd\\u03b9\\u03bf\"], [\"\\u039c\\u03b1\\u03c5\\u03c1\\u03bf\\u03b2\\u03bf\\u03cd\\u03bd\\u03b9\\u03bf\"], [\"\\u039c\\u03b1\\u03c5\\u03c1\\u03bf\\u03b2\\u03bf\\u03cd\\u03bd\\u03b9\\u03bf\"], [\"\\u039c\\u03b1\\u03c5\\u03c1\\u03bf\\u03b2\\u03bf\\u03cd\\u03bd\\u03b9\\u03bf\"], [\"\\u039c\\u03b1\\u03c5\\u03c1\\u03bf\\u03b2\\u03bf\\u03cd\\u03bd\\u03b9\\u03bf\"], [\"\\u039c\\u03b1\\u03c5\\u03c1\\u03bf\\u03b2\\u03bf\\u03cd\\u03bd\\u03b9\\u03bf\"], [\"\\u039c\\u03b1\\u03c5\\u03c1\\u03bf\\u03b2\\u03bf\\u03cd\\u03bd\\u03b9\\u03bf\"], [\"\\u039c\\u03b1\\u03c5\\u03c1\\u03bf\\u03b2\\u03bf\\u03cd\\u03bd\\u03b9\\u03bf\"], [\"\\u039c\\u03b1\\u03c5\\u03c1\\u03bf\\u03b2\\u03bf\\u03cd\\u03bd\\u03b9\\u03bf\"]], \"hoverlabel\": {\"namelength\": 0}, \"hovertemplate\": \"\\u03a7\\u03ce\\u03c1\\u03b1=%{customdata[0]}<br>\\u0391\\u03c1\\u03b9\\u03b8\\u03bc\\u03cc\\u03c2 \\u039a\\u03c1\\u03bf\\u03c5\\u03c3\\u03bc\\u03ac\\u03c4\\u03c9\\u03bd=%{y}\", \"legendgroup\": \"\\u039c\\u03b1\\u03c5\\u03c1\\u03bf\\u03b2\\u03bf\\u03cd\\u03bd\\u03b9\\u03bf\", \"line\": {\"color\": \"rgb(189,189,189)\", \"dash\": \"solid\", \"shape\": \"spline\"}, \"mode\": \"lines\", \"name\": \"\\u039c\\u03b1\\u03c5\\u03c1\\u03bf\\u03b2\\u03bf\\u03cd\\u03bd\\u03b9\\u03bf\", \"showlegend\": true, \"type\": \"scatter\", \"xaxis\": \"x\", \"y\": [109, 123, 144, 174, 201, 214, 233, 241, 248, 252, 255, 263, 272], \"yaxis\": \"y\"}, {\"customdata\": [[\"\\u039c\\u03b1\\u03c1\\u03cc\\u03ba\\u03bf\"], [\"\\u039c\\u03b1\\u03c1\\u03cc\\u03ba\\u03bf\"], [\"\\u039c\\u03b1\\u03c1\\u03cc\\u03ba\\u03bf\"], [\"\\u039c\\u03b1\\u03c1\\u03cc\\u03ba\\u03bf\"], [\"\\u039c\\u03b1\\u03c1\\u03cc\\u03ba\\u03bf\"], [\"\\u039c\\u03b1\\u03c1\\u03cc\\u03ba\\u03bf\"], [\"\\u039c\\u03b1\\u03c1\\u03cc\\u03ba\\u03bf\"], [\"\\u039c\\u03b1\\u03c1\\u03cc\\u03ba\\u03bf\"], [\"\\u039c\\u03b1\\u03c1\\u03cc\\u03ba\\u03bf\"], [\"\\u039c\\u03b1\\u03c1\\u03cc\\u03ba\\u03bf\"], [\"\\u039c\\u03b1\\u03c1\\u03cc\\u03ba\\u03bf\"], [\"\\u039c\\u03b1\\u03c1\\u03cc\\u03ba\\u03bf\"], [\"\\u039c\\u03b1\\u03c1\\u03cc\\u03ba\\u03bf\"], [\"\\u039c\\u03b1\\u03c1\\u03cc\\u03ba\\u03bf\"], [\"\\u039c\\u03b1\\u03c1\\u03cc\\u03ba\\u03bf\"], [\"\\u039c\\u03b1\\u03c1\\u03cc\\u03ba\\u03bf\"], [\"\\u039c\\u03b1\\u03c1\\u03cc\\u03ba\\u03bf\"], [\"\\u039c\\u03b1\\u03c1\\u03cc\\u03ba\\u03bf\"], [\"\\u039c\\u03b1\\u03c1\\u03cc\\u03ba\\u03bf\"], [\"\\u039c\\u03b1\\u03c1\\u03cc\\u03ba\\u03bf\"], [\"\\u039c\\u03b1\\u03c1\\u03cc\\u03ba\\u03bf\"], [\"\\u039c\\u03b1\\u03c1\\u03cc\\u03ba\\u03bf\"]], \"hoverlabel\": {\"namelength\": 0}, \"hovertemplate\": \"\\u03a7\\u03ce\\u03c1\\u03b1=%{customdata[0]}<br>\\u0391\\u03c1\\u03b9\\u03b8\\u03bc\\u03cc\\u03c2 \\u039a\\u03c1\\u03bf\\u03c5\\u03c3\\u03bc\\u03ac\\u03c4\\u03c9\\u03bd=%{y}\", \"legendgroup\": \"\\u039c\\u03b1\\u03c1\\u03cc\\u03ba\\u03bf\", \"line\": {\"color\": \"rgb(189,189,189)\", \"dash\": \"solid\", \"shape\": \"spline\"}, \"mode\": \"lines\", \"name\": \"\\u039c\\u03b1\\u03c1\\u03cc\\u03ba\\u03bf\", \"showlegend\": true, \"type\": \"scatter\", \"xaxis\": \"x\", \"y\": [115, 143, 170, 225, 275, 345, 402, 479, 556, 617, 654, 708, 791, 919, 1021, 1120, 1184, 1275, 1374, 1448, 1545, 1661], \"yaxis\": \"y\"}, {\"customdata\": [[\"\\u039f\\u03bb\\u03bb\\u03b1\\u03bd\\u03b4\\u03af\\u03b1\"], [\"\\u039f\\u03bb\\u03bb\\u03b1\\u03bd\\u03b4\\u03af\\u03b1\"], [\"\\u039f\\u03bb\\u03bb\\u03b1\\u03bd\\u03b4\\u03af\\u03b1\"], [\"\\u039f\\u03bb\\u03bb\\u03b1\\u03bd\\u03b4\\u03af\\u03b1\"], [\"\\u039f\\u03bb\\u03bb\\u03b1\\u03bd\\u03b4\\u03af\\u03b1\"], [\"\\u039f\\u03bb\\u03bb\\u03b1\\u03bd\\u03b4\\u03af\\u03b1\"], [\"\\u039f\\u03bb\\u03bb\\u03b1\\u03bd\\u03b4\\u03af\\u03b1\"], [\"\\u039f\\u03bb\\u03bb\\u03b1\\u03bd\\u03b4\\u03af\\u03b1\"], [\"\\u039f\\u03bb\\u03bb\\u03b1\\u03bd\\u03b4\\u03af\\u03b1\"], [\"\\u039f\\u03bb\\u03bb\\u03b1\\u03bd\\u03b4\\u03af\\u03b1\"], [\"\\u039f\\u03bb\\u03bb\\u03b1\\u03bd\\u03b4\\u03af\\u03b1\"], [\"\\u039f\\u03bb\\u03bb\\u03b1\\u03bd\\u03b4\\u03af\\u03b1\"], [\"\\u039f\\u03bb\\u03bb\\u03b1\\u03bd\\u03b4\\u03af\\u03b1\"], [\"\\u039f\\u03bb\\u03bb\\u03b1\\u03bd\\u03b4\\u03af\\u03b1\"], [\"\\u039f\\u03bb\\u03bb\\u03b1\\u03bd\\u03b4\\u03af\\u03b1\"], [\"\\u039f\\u03bb\\u03bb\\u03b1\\u03bd\\u03b4\\u03af\\u03b1\"], [\"\\u039f\\u03bb\\u03bb\\u03b1\\u03bd\\u03b4\\u03af\\u03b1\"], [\"\\u039f\\u03bb\\u03bb\\u03b1\\u03bd\\u03b4\\u03af\\u03b1\"], [\"\\u039f\\u03bb\\u03bb\\u03b1\\u03bd\\u03b4\\u03af\\u03b1\"], [\"\\u039f\\u03bb\\u03bb\\u03b1\\u03bd\\u03b4\\u03af\\u03b1\"], [\"\\u039f\\u03bb\\u03bb\\u03b1\\u03bd\\u03b4\\u03af\\u03b1\"], [\"\\u039f\\u03bb\\u03bb\\u03b1\\u03bd\\u03b4\\u03af\\u03b1\"], [\"\\u039f\\u03bb\\u03bb\\u03b1\\u03bd\\u03b4\\u03af\\u03b1\"], [\"\\u039f\\u03bb\\u03bb\\u03b1\\u03bd\\u03b4\\u03af\\u03b1\"], [\"\\u039f\\u03bb\\u03bb\\u03b1\\u03bd\\u03b4\\u03af\\u03b1\"], [\"\\u039f\\u03bb\\u03bb\\u03b1\\u03bd\\u03b4\\u03af\\u03b1\"], [\"\\u039f\\u03bb\\u03bb\\u03b1\\u03bd\\u03b4\\u03af\\u03b1\"], [\"\\u039f\\u03bb\\u03bb\\u03b1\\u03bd\\u03b4\\u03af\\u03b1\"], [\"\\u039f\\u03bb\\u03bb\\u03b1\\u03bd\\u03b4\\u03af\\u03b1\"], [\"\\u039f\\u03bb\\u03bb\\u03b1\\u03bd\\u03b4\\u03af\\u03b1\"], [\"\\u039f\\u03bb\\u03bb\\u03b1\\u03bd\\u03b4\\u03af\\u03b1\"], [\"\\u039f\\u03bb\\u03bb\\u03b1\\u03bd\\u03b4\\u03af\\u03b1\"], [\"\\u039f\\u03bb\\u03bb\\u03b1\\u03bd\\u03b4\\u03af\\u03b1\"], [\"\\u039f\\u03bb\\u03bb\\u03b1\\u03bd\\u03b4\\u03af\\u03b1\"], [\"\\u039f\\u03bb\\u03bb\\u03b1\\u03bd\\u03b4\\u03af\\u03b1\"], [\"\\u039f\\u03bb\\u03bb\\u03b1\\u03bd\\u03b4\\u03af\\u03b1\"], [\"\\u039f\\u03bb\\u03bb\\u03b1\\u03bd\\u03b4\\u03af\\u03b1\"], [\"\\u039f\\u03bb\\u03bb\\u03b1\\u03bd\\u03b4\\u03af\\u03b1\"]], \"hoverlabel\": {\"namelength\": 0}, \"hovertemplate\": \"\\u03a7\\u03ce\\u03c1\\u03b1=%{customdata[0]}<br>\\u0391\\u03c1\\u03b9\\u03b8\\u03bc\\u03cc\\u03c2 \\u039a\\u03c1\\u03bf\\u03c5\\u03c3\\u03bc\\u03ac\\u03c4\\u03c9\\u03bd=%{y}\", \"legendgroup\": \"\\u039f\\u03bb\\u03bb\\u03b1\\u03bd\\u03b4\\u03af\\u03b1\", \"line\": {\"color\": \"rgb(189,189,189)\", \"dash\": \"solid\", \"shape\": \"spline\"}, \"mode\": \"lines\", \"name\": \"\\u039f\\u03bb\\u03bb\\u03b1\\u03bd\\u03b4\\u03af\\u03b1\", \"showlegend\": true, \"type\": \"scatter\", \"xaxis\": \"x\", \"y\": [128, 188, 265, 321, 382, 503, 503, 806, 962, 1138, 1416, 1711, 2058, 2467, 3003, 3640, 4217, 4764, 5580, 6438, 7468, 8647, 9819, 10930, 11817, 12667, 13696, 14788, 15821, 16727, 17953, 18926, 19709, 20682, 21903, 23249, 24571, 25746], \"yaxis\": \"y\"}, {\"customdata\": [[\"\\u039d\\u03ad\\u03b1 \\u0396\\u03b7\\u03bb\\u03b1\\u03bd\\u03b4\\u03af\\u03b1\"], [\"\\u039d\\u03ad\\u03b1 \\u0396\\u03b7\\u03bb\\u03b1\\u03bd\\u03b4\\u03af\\u03b1\"], [\"\\u039d\\u03ad\\u03b1 \\u0396\\u03b7\\u03bb\\u03b1\\u03bd\\u03b4\\u03af\\u03b1\"], [\"\\u039d\\u03ad\\u03b1 \\u0396\\u03b7\\u03bb\\u03b1\\u03bd\\u03b4\\u03af\\u03b1\"], [\"\\u039d\\u03ad\\u03b1 \\u0396\\u03b7\\u03bb\\u03b1\\u03bd\\u03b4\\u03af\\u03b1\"], [\"\\u039d\\u03ad\\u03b1 \\u0396\\u03b7\\u03bb\\u03b1\\u03bd\\u03b4\\u03af\\u03b1\"], [\"\\u039d\\u03ad\\u03b1 \\u0396\\u03b7\\u03bb\\u03b1\\u03bd\\u03b4\\u03af\\u03b1\"], [\"\\u039d\\u03ad\\u03b1 \\u0396\\u03b7\\u03bb\\u03b1\\u03bd\\u03b4\\u03af\\u03b1\"], [\"\\u039d\\u03ad\\u03b1 \\u0396\\u03b7\\u03bb\\u03b1\\u03bd\\u03b4\\u03af\\u03b1\"], [\"\\u039d\\u03ad\\u03b1 \\u0396\\u03b7\\u03bb\\u03b1\\u03bd\\u03b4\\u03af\\u03b1\"], [\"\\u039d\\u03ad\\u03b1 \\u0396\\u03b7\\u03bb\\u03b1\\u03bd\\u03b4\\u03af\\u03b1\"], [\"\\u039d\\u03ad\\u03b1 \\u0396\\u03b7\\u03bb\\u03b1\\u03bd\\u03b4\\u03af\\u03b1\"], [\"\\u039d\\u03ad\\u03b1 \\u0396\\u03b7\\u03bb\\u03b1\\u03bd\\u03b4\\u03af\\u03b1\"], [\"\\u039d\\u03ad\\u03b1 \\u0396\\u03b7\\u03bb\\u03b1\\u03bd\\u03b4\\u03af\\u03b1\"], [\"\\u039d\\u03ad\\u03b1 \\u0396\\u03b7\\u03bb\\u03b1\\u03bd\\u03b4\\u03af\\u03b1\"], [\"\\u039d\\u03ad\\u03b1 \\u0396\\u03b7\\u03bb\\u03b1\\u03bd\\u03b4\\u03af\\u03b1\"], [\"\\u039d\\u03ad\\u03b1 \\u0396\\u03b7\\u03bb\\u03b1\\u03bd\\u03b4\\u03af\\u03b1\"], [\"\\u039d\\u03ad\\u03b1 \\u0396\\u03b7\\u03bb\\u03b1\\u03bd\\u03b4\\u03af\\u03b1\"], [\"\\u039d\\u03ad\\u03b1 \\u0396\\u03b7\\u03bb\\u03b1\\u03bd\\u03b4\\u03af\\u03b1\"], [\"\\u039d\\u03ad\\u03b1 \\u0396\\u03b7\\u03bb\\u03b1\\u03bd\\u03b4\\u03af\\u03b1\"], [\"\\u039d\\u03ad\\u03b1 \\u0396\\u03b7\\u03bb\\u03b1\\u03bd\\u03b4\\u03af\\u03b1\"], [\"\\u039d\\u03ad\\u03b1 \\u0396\\u03b7\\u03bb\\u03b1\\u03bd\\u03b4\\u03af\\u03b1\"]], \"hoverlabel\": {\"namelength\": 0}, \"hovertemplate\": \"\\u03a7\\u03ce\\u03c1\\u03b1=%{customdata[0]}<br>\\u0391\\u03c1\\u03b9\\u03b8\\u03bc\\u03cc\\u03c2 \\u039a\\u03c1\\u03bf\\u03c5\\u03c3\\u03bc\\u03ac\\u03c4\\u03c9\\u03bd=%{y}\", \"legendgroup\": \"\\u039d\\u03ad\\u03b1 \\u0396\\u03b7\\u03bb\\u03b1\\u03bd\\u03b4\\u03af\\u03b1\", \"line\": {\"color\": \"rgb(189,189,189)\", \"dash\": \"solid\", \"shape\": \"spline\"}, \"mode\": \"lines\", \"name\": \"\\u039d\\u03ad\\u03b1 \\u0396\\u03b7\\u03bb\\u03b1\\u03bd\\u03b4\\u03af\\u03b1\", \"showlegend\": true, \"type\": \"scatter\", \"xaxis\": \"x\", \"y\": [102, 102, 155, 205, 283, 368, 451, 514, 589, 647, 708, 797, 868, 950, 1039, 1106, 1160, 1210, 1239, 1283, 1312, 1330], \"yaxis\": \"y\"}, {\"customdata\": [[\"\\u039d\\u03af\\u03b3\\u03b7\\u03c1\\u03b1\\u03c2\"], [\"\\u039d\\u03af\\u03b3\\u03b7\\u03c1\\u03b1\\u03c2\"], [\"\\u039d\\u03af\\u03b3\\u03b7\\u03c1\\u03b1\\u03c2\"], [\"\\u039d\\u03af\\u03b3\\u03b7\\u03c1\\u03b1\\u03c2\"], [\"\\u039d\\u03af\\u03b3\\u03b7\\u03c1\\u03b1\\u03c2\"], [\"\\u039d\\u03af\\u03b3\\u03b7\\u03c1\\u03b1\\u03c2\"], [\"\\u039d\\u03af\\u03b3\\u03b7\\u03c1\\u03b1\\u03c2\"], [\"\\u039d\\u03af\\u03b3\\u03b7\\u03c1\\u03b1\\u03c2\"], [\"\\u039d\\u03af\\u03b3\\u03b7\\u03c1\\u03b1\\u03c2\"], [\"\\u039d\\u03af\\u03b3\\u03b7\\u03c1\\u03b1\\u03c2\"]], \"hoverlabel\": {\"namelength\": 0}, \"hovertemplate\": \"\\u03a7\\u03ce\\u03c1\\u03b1=%{customdata[0]}<br>\\u0391\\u03c1\\u03b9\\u03b8\\u03bc\\u03cc\\u03c2 \\u039a\\u03c1\\u03bf\\u03c5\\u03c3\\u03bc\\u03ac\\u03c4\\u03c9\\u03bd=%{y}\", \"legendgroup\": \"\\u039d\\u03af\\u03b3\\u03b7\\u03c1\\u03b1\\u03c2\", \"line\": {\"color\": \"rgb(189,189,189)\", \"dash\": \"solid\", \"shape\": \"spline\"}, \"mode\": \"lines\", \"name\": \"\\u039d\\u03af\\u03b3\\u03b7\\u03c1\\u03b1\\u03c2\", \"showlegend\": true, \"type\": \"scatter\", \"xaxis\": \"x\", \"y\": [120, 144, 184, 253, 278, 342, 410, 438, 491, 529], \"yaxis\": \"y\"}, {\"customdata\": [[\"\\u039d\\u03b9\\u03b3\\u03b7\\u03c1\\u03af\\u03b1\"], [\"\\u039d\\u03b9\\u03b3\\u03b7\\u03c1\\u03af\\u03b1\"], [\"\\u039d\\u03b9\\u03b3\\u03b7\\u03c1\\u03af\\u03b1\"], [\"\\u039d\\u03b9\\u03b3\\u03b7\\u03c1\\u03af\\u03b1\"], [\"\\u039d\\u03b9\\u03b3\\u03b7\\u03c1\\u03af\\u03b1\"], [\"\\u039d\\u03b9\\u03b3\\u03b7\\u03c1\\u03af\\u03b1\"], [\"\\u039d\\u03b9\\u03b3\\u03b7\\u03c1\\u03af\\u03b1\"], [\"\\u039d\\u03b9\\u03b3\\u03b7\\u03c1\\u03af\\u03b1\"], [\"\\u039d\\u03b9\\u03b3\\u03b7\\u03c1\\u03af\\u03b1\"], [\"\\u039d\\u03b9\\u03b3\\u03b7\\u03c1\\u03af\\u03b1\"], [\"\\u039d\\u03b9\\u03b3\\u03b7\\u03c1\\u03af\\u03b1\"], [\"\\u039d\\u03b9\\u03b3\\u03b7\\u03c1\\u03af\\u03b1\"], [\"\\u039d\\u03b9\\u03b3\\u03b7\\u03c1\\u03af\\u03b1\"], [\"\\u039d\\u03b9\\u03b3\\u03b7\\u03c1\\u03af\\u03b1\"], [\"\\u039d\\u03b9\\u03b3\\u03b7\\u03c1\\u03af\\u03b1\"]], \"hoverlabel\": {\"namelength\": 0}, \"hovertemplate\": \"\\u03a7\\u03ce\\u03c1\\u03b1=%{customdata[0]}<br>\\u0391\\u03c1\\u03b9\\u03b8\\u03bc\\u03cc\\u03c2 \\u039a\\u03c1\\u03bf\\u03c5\\u03c3\\u03bc\\u03ac\\u03c4\\u03c9\\u03bd=%{y}\", \"legendgroup\": \"\\u039d\\u03b9\\u03b3\\u03b7\\u03c1\\u03af\\u03b1\", \"line\": {\"color\": \"rgb(189,189,189)\", \"dash\": \"solid\", \"shape\": \"spline\"}, \"mode\": \"lines\", \"name\": \"\\u039d\\u03b9\\u03b3\\u03b7\\u03c1\\u03af\\u03b1\", \"showlegend\": true, \"type\": \"scatter\", \"xaxis\": \"x\", \"y\": [111, 131, 135, 174, 184, 210, 214, 232, 238, 254, 276, 288, 305, 318, 323], \"yaxis\": \"y\"}, {\"customdata\": [[\"\\u0392\\u03cc\\u03c1\\u03b5\\u03b9\\u03b1 \\u039c\\u03b1\\u03ba\\u03b5\\u03b4\\u03bf\\u03bd\\u03af\\u03b1\"], [\"\\u0392\\u03cc\\u03c1\\u03b5\\u03b9\\u03b1 \\u039c\\u03b1\\u03ba\\u03b5\\u03b4\\u03bf\\u03bd\\u03af\\u03b1\"], [\"\\u0392\\u03cc\\u03c1\\u03b5\\u03b9\\u03b1 \\u039c\\u03b1\\u03ba\\u03b5\\u03b4\\u03bf\\u03bd\\u03af\\u03b1\"], [\"\\u0392\\u03cc\\u03c1\\u03b5\\u03b9\\u03b1 \\u039c\\u03b1\\u03ba\\u03b5\\u03b4\\u03bf\\u03bd\\u03af\\u03b1\"], [\"\\u0392\\u03cc\\u03c1\\u03b5\\u03b9\\u03b1 \\u039c\\u03b1\\u03ba\\u03b5\\u03b4\\u03bf\\u03bd\\u03af\\u03b1\"], [\"\\u0392\\u03cc\\u03c1\\u03b5\\u03b9\\u03b1 \\u039c\\u03b1\\u03ba\\u03b5\\u03b4\\u03bf\\u03bd\\u03af\\u03b1\"], [\"\\u0392\\u03cc\\u03c1\\u03b5\\u03b9\\u03b1 \\u039c\\u03b1\\u03ba\\u03b5\\u03b4\\u03bf\\u03bd\\u03af\\u03b1\"], [\"\\u0392\\u03cc\\u03c1\\u03b5\\u03b9\\u03b1 \\u039c\\u03b1\\u03ba\\u03b5\\u03b4\\u03bf\\u03bd\\u03af\\u03b1\"], [\"\\u0392\\u03cc\\u03c1\\u03b5\\u03b9\\u03b1 \\u039c\\u03b1\\u03ba\\u03b5\\u03b4\\u03bf\\u03bd\\u03af\\u03b1\"], [\"\\u0392\\u03cc\\u03c1\\u03b5\\u03b9\\u03b1 \\u039c\\u03b1\\u03ba\\u03b5\\u03b4\\u03bf\\u03bd\\u03af\\u03b1\"], [\"\\u0392\\u03cc\\u03c1\\u03b5\\u03b9\\u03b1 \\u039c\\u03b1\\u03ba\\u03b5\\u03b4\\u03bf\\u03bd\\u03af\\u03b1\"], [\"\\u0392\\u03cc\\u03c1\\u03b5\\u03b9\\u03b1 \\u039c\\u03b1\\u03ba\\u03b5\\u03b4\\u03bf\\u03bd\\u03af\\u03b1\"], [\"\\u0392\\u03cc\\u03c1\\u03b5\\u03b9\\u03b1 \\u039c\\u03b1\\u03ba\\u03b5\\u03b4\\u03bf\\u03bd\\u03af\\u03b1\"], [\"\\u0392\\u03cc\\u03c1\\u03b5\\u03b9\\u03b1 \\u039c\\u03b1\\u03ba\\u03b5\\u03b4\\u03bf\\u03bd\\u03af\\u03b1\"], [\"\\u0392\\u03cc\\u03c1\\u03b5\\u03b9\\u03b1 \\u039c\\u03b1\\u03ba\\u03b5\\u03b4\\u03bf\\u03bd\\u03af\\u03b1\"], [\"\\u0392\\u03cc\\u03c1\\u03b5\\u03b9\\u03b1 \\u039c\\u03b1\\u03ba\\u03b5\\u03b4\\u03bf\\u03bd\\u03af\\u03b1\"], [\"\\u0392\\u03cc\\u03c1\\u03b5\\u03b9\\u03b1 \\u039c\\u03b1\\u03ba\\u03b5\\u03b4\\u03bf\\u03bd\\u03af\\u03b1\"], [\"\\u0392\\u03cc\\u03c1\\u03b5\\u03b9\\u03b1 \\u039c\\u03b1\\u03ba\\u03b5\\u03b4\\u03bf\\u03bd\\u03af\\u03b1\"], [\"\\u0392\\u03cc\\u03c1\\u03b5\\u03b9\\u03b1 \\u039c\\u03b1\\u03ba\\u03b5\\u03b4\\u03bf\\u03bd\\u03af\\u03b1\"], [\"\\u0392\\u03cc\\u03c1\\u03b5\\u03b9\\u03b1 \\u039c\\u03b1\\u03ba\\u03b5\\u03b4\\u03bf\\u03bd\\u03af\\u03b1\"], [\"\\u0392\\u03cc\\u03c1\\u03b5\\u03b9\\u03b1 \\u039c\\u03b1\\u03ba\\u03b5\\u03b4\\u03bf\\u03bd\\u03af\\u03b1\"], [\"\\u0392\\u03cc\\u03c1\\u03b5\\u03b9\\u03b1 \\u039c\\u03b1\\u03ba\\u03b5\\u03b4\\u03bf\\u03bd\\u03af\\u03b1\"]], \"hoverlabel\": {\"namelength\": 0}, \"hovertemplate\": \"\\u03a7\\u03ce\\u03c1\\u03b1=%{customdata[0]}<br>\\u0391\\u03c1\\u03b9\\u03b8\\u03bc\\u03cc\\u03c2 \\u039a\\u03c1\\u03bf\\u03c5\\u03c3\\u03bc\\u03ac\\u03c4\\u03c9\\u03bd=%{y}\", \"legendgroup\": \"\\u0392\\u03cc\\u03c1\\u03b5\\u03b9\\u03b1 \\u039c\\u03b1\\u03ba\\u03b5\\u03b4\\u03bf\\u03bd\\u03af\\u03b1\", \"line\": {\"color\": \"rgb(189,189,189)\", \"dash\": \"solid\", \"shape\": \"spline\"}, \"mode\": \"lines\", \"name\": \"\\u0392\\u03cc\\u03c1\\u03b5\\u03b9\\u03b1 \\u039c\\u03b1\\u03ba\\u03b5\\u03b4\\u03bf\\u03bd\\u03af\\u03b1\", \"showlegend\": true, \"type\": \"scatter\", \"xaxis\": \"x\", \"y\": [115, 136, 148, 177, 201, 219, 241, 259, 285, 329, 354, 384, 430, 483, 555, 570, 599, 617, 663, 711, 760, 828], \"yaxis\": \"y\"}, {\"customdata\": [[\"\\u039d\\u03bf\\u03c1\\u03b2\\u03b7\\u03b3\\u03af\\u03b1\"], [\"\\u039d\\u03bf\\u03c1\\u03b2\\u03b7\\u03b3\\u03af\\u03b1\"], [\"\\u039d\\u03bf\\u03c1\\u03b2\\u03b7\\u03b3\\u03af\\u03b1\"], [\"\\u039d\\u03bf\\u03c1\\u03b2\\u03b7\\u03b3\\u03af\\u03b1\"], [\"\\u039d\\u03bf\\u03c1\\u03b2\\u03b7\\u03b3\\u03af\\u03b1\"], [\"\\u039d\\u03bf\\u03c1\\u03b2\\u03b7\\u03b3\\u03af\\u03b1\"], [\"\\u039d\\u03bf\\u03c1\\u03b2\\u03b7\\u03b3\\u03af\\u03b1\"], [\"\\u039d\\u03bf\\u03c1\\u03b2\\u03b7\\u03b3\\u03af\\u03b1\"], [\"\\u039d\\u03bf\\u03c1\\u03b2\\u03b7\\u03b3\\u03af\\u03b1\"], [\"\\u039d\\u03bf\\u03c1\\u03b2\\u03b7\\u03b3\\u03af\\u03b1\"], [\"\\u039d\\u03bf\\u03c1\\u03b2\\u03b7\\u03b3\\u03af\\u03b1\"], [\"\\u039d\\u03bf\\u03c1\\u03b2\\u03b7\\u03b3\\u03af\\u03b1\"], [\"\\u039d\\u03bf\\u03c1\\u03b2\\u03b7\\u03b3\\u03af\\u03b1\"], [\"\\u039d\\u03bf\\u03c1\\u03b2\\u03b7\\u03b3\\u03af\\u03b1\"], [\"\\u039d\\u03bf\\u03c1\\u03b2\\u03b7\\u03b3\\u03af\\u03b1\"], [\"\\u039d\\u03bf\\u03c1\\u03b2\\u03b7\\u03b3\\u03af\\u03b1\"], [\"\\u039d\\u03bf\\u03c1\\u03b2\\u03b7\\u03b3\\u03af\\u03b1\"], [\"\\u039d\\u03bf\\u03c1\\u03b2\\u03b7\\u03b3\\u03af\\u03b1\"], [\"\\u039d\\u03bf\\u03c1\\u03b2\\u03b7\\u03b3\\u03af\\u03b1\"], [\"\\u039d\\u03bf\\u03c1\\u03b2\\u03b7\\u03b3\\u03af\\u03b1\"], [\"\\u039d\\u03bf\\u03c1\\u03b2\\u03b7\\u03b3\\u03af\\u03b1\"], [\"\\u039d\\u03bf\\u03c1\\u03b2\\u03b7\\u03b3\\u03af\\u03b1\"], [\"\\u039d\\u03bf\\u03c1\\u03b2\\u03b7\\u03b3\\u03af\\u03b1\"], [\"\\u039d\\u03bf\\u03c1\\u03b2\\u03b7\\u03b3\\u03af\\u03b1\"], [\"\\u039d\\u03bf\\u03c1\\u03b2\\u03b7\\u03b3\\u03af\\u03b1\"], [\"\\u039d\\u03bf\\u03c1\\u03b2\\u03b7\\u03b3\\u03af\\u03b1\"], [\"\\u039d\\u03bf\\u03c1\\u03b2\\u03b7\\u03b3\\u03af\\u03b1\"], [\"\\u039d\\u03bf\\u03c1\\u03b2\\u03b7\\u03b3\\u03af\\u03b1\"], [\"\\u039d\\u03bf\\u03c1\\u03b2\\u03b7\\u03b3\\u03af\\u03b1\"], [\"\\u039d\\u03bf\\u03c1\\u03b2\\u03b7\\u03b3\\u03af\\u03b1\"], [\"\\u039d\\u03bf\\u03c1\\u03b2\\u03b7\\u03b3\\u03af\\u03b1\"], [\"\\u039d\\u03bf\\u03c1\\u03b2\\u03b7\\u03b3\\u03af\\u03b1\"], [\"\\u039d\\u03bf\\u03c1\\u03b2\\u03b7\\u03b3\\u03af\\u03b1\"], [\"\\u039d\\u03bf\\u03c1\\u03b2\\u03b7\\u03b3\\u03af\\u03b1\"], [\"\\u039d\\u03bf\\u03c1\\u03b2\\u03b7\\u03b3\\u03af\\u03b1\"], [\"\\u039d\\u03bf\\u03c1\\u03b2\\u03b7\\u03b3\\u03af\\u03b1\"], [\"\\u039d\\u03bf\\u03c1\\u03b2\\u03b7\\u03b3\\u03af\\u03b1\"], [\"\\u039d\\u03bf\\u03c1\\u03b2\\u03b7\\u03b3\\u03af\\u03b1\"]], \"hoverlabel\": {\"namelength\": 0}, \"hovertemplate\": \"\\u03a7\\u03ce\\u03c1\\u03b1=%{customdata[0]}<br>\\u0391\\u03c1\\u03b9\\u03b8\\u03bc\\u03cc\\u03c2 \\u039a\\u03c1\\u03bf\\u03c5\\u03c3\\u03bc\\u03ac\\u03c4\\u03c9\\u03bd=%{y}\", \"legendgroup\": \"\\u039d\\u03bf\\u03c1\\u03b2\\u03b7\\u03b3\\u03af\\u03b1\", \"line\": {\"color\": \"rgb(189,189,189)\", \"dash\": \"solid\", \"shape\": \"spline\"}, \"mode\": \"lines\", \"name\": \"\\u039d\\u03bf\\u03c1\\u03b2\\u03b7\\u03b3\\u03af\\u03b1\", \"showlegend\": true, \"type\": \"scatter\", \"xaxis\": \"x\", \"y\": [108, 147, 176, 205, 400, 598, 702, 996, 1090, 1221, 1333, 1463, 1550, 1746, 1914, 2118, 2385, 2621, 2863, 3084, 3369, 3755, 4015, 4284, 4445, 4641, 4863, 5147, 5370, 5550, 5687, 5865, 6086, 6086, 6211, 6314, 6409, 6525], \"yaxis\": \"y\"}, {\"customdata\": [[\"\\u039f\\u03bc\\u03ac\\u03bd\"], [\"\\u039f\\u03bc\\u03ac\\u03bd\"], [\"\\u039f\\u03bc\\u03ac\\u03bd\"], [\"\\u039f\\u03bc\\u03ac\\u03bd\"], [\"\\u039f\\u03bc\\u03ac\\u03bd\"], [\"\\u039f\\u03bc\\u03ac\\u03bd\"], [\"\\u039f\\u03bc\\u03ac\\u03bd\"], [\"\\u039f\\u03bc\\u03ac\\u03bd\"], [\"\\u039f\\u03bc\\u03ac\\u03bd\"], [\"\\u039f\\u03bc\\u03ac\\u03bd\"], [\"\\u039f\\u03bc\\u03ac\\u03bd\"], [\"\\u039f\\u03bc\\u03ac\\u03bd\"], [\"\\u039f\\u03bc\\u03ac\\u03bd\"], [\"\\u039f\\u03bc\\u03ac\\u03bd\"], [\"\\u039f\\u03bc\\u03ac\\u03bd\"], [\"\\u039f\\u03bc\\u03ac\\u03bd\"], [\"\\u039f\\u03bc\\u03ac\\u03bd\"], [\"\\u039f\\u03bc\\u03ac\\u03bd\"]], \"hoverlabel\": {\"namelength\": 0}, \"hovertemplate\": \"\\u03a7\\u03ce\\u03c1\\u03b1=%{customdata[0]}<br>\\u0391\\u03c1\\u03b9\\u03b8\\u03bc\\u03cc\\u03c2 \\u039a\\u03c1\\u03bf\\u03c5\\u03c3\\u03bc\\u03ac\\u03c4\\u03c9\\u03bd=%{y}\", \"legendgroup\": \"\\u039f\\u03bc\\u03ac\\u03bd\", \"line\": {\"color\": \"rgb(189,189,189)\", \"dash\": \"solid\", \"shape\": \"spline\"}, \"mode\": \"lines\", \"name\": \"\\u039f\\u03bc\\u03ac\\u03bd\", \"showlegend\": true, \"type\": \"scatter\", \"xaxis\": \"x\", \"y\": [109, 131, 152, 167, 179, 192, 210, 231, 252, 277, 298, 331, 371, 419, 457, 484, 546, 599], \"yaxis\": \"y\"}, {\"customdata\": [[\"\\u03a0\\u03b1\\u03ba\\u03b9\\u03c3\\u03c4\\u03ac\\u03bd\"], [\"\\u03a0\\u03b1\\u03ba\\u03b9\\u03c3\\u03c4\\u03ac\\u03bd\"], [\"\\u03a0\\u03b1\\u03ba\\u03b9\\u03c3\\u03c4\\u03ac\\u03bd\"], [\"\\u03a0\\u03b1\\u03ba\\u03b9\\u03c3\\u03c4\\u03ac\\u03bd\"], [\"\\u03a0\\u03b1\\u03ba\\u03b9\\u03c3\\u03c4\\u03ac\\u03bd\"], [\"\\u03a0\\u03b1\\u03ba\\u03b9\\u03c3\\u03c4\\u03ac\\u03bd\"], [\"\\u03a0\\u03b1\\u03ba\\u03b9\\u03c3\\u03c4\\u03ac\\u03bd\"], [\"\\u03a0\\u03b1\\u03ba\\u03b9\\u03c3\\u03c4\\u03ac\\u03bd\"], [\"\\u03a0\\u03b1\\u03ba\\u03b9\\u03c3\\u03c4\\u03ac\\u03bd\"], [\"\\u03a0\\u03b1\\u03ba\\u03b9\\u03c3\\u03c4\\u03ac\\u03bd\"], [\"\\u03a0\\u03b1\\u03ba\\u03b9\\u03c3\\u03c4\\u03ac\\u03bd\"], [\"\\u03a0\\u03b1\\u03ba\\u03b9\\u03c3\\u03c4\\u03ac\\u03bd\"], [\"\\u03a0\\u03b1\\u03ba\\u03b9\\u03c3\\u03c4\\u03ac\\u03bd\"], [\"\\u03a0\\u03b1\\u03ba\\u03b9\\u03c3\\u03c4\\u03ac\\u03bd\"], [\"\\u03a0\\u03b1\\u03ba\\u03b9\\u03c3\\u03c4\\u03ac\\u03bd\"], [\"\\u03a0\\u03b1\\u03ba\\u03b9\\u03c3\\u03c4\\u03ac\\u03bd\"], [\"\\u03a0\\u03b1\\u03ba\\u03b9\\u03c3\\u03c4\\u03ac\\u03bd\"], [\"\\u03a0\\u03b1\\u03ba\\u03b9\\u03c3\\u03c4\\u03ac\\u03bd\"], [\"\\u03a0\\u03b1\\u03ba\\u03b9\\u03c3\\u03c4\\u03ac\\u03bd\"], [\"\\u03a0\\u03b1\\u03ba\\u03b9\\u03c3\\u03c4\\u03ac\\u03bd\"], [\"\\u03a0\\u03b1\\u03ba\\u03b9\\u03c3\\u03c4\\u03ac\\u03bd\"], [\"\\u03a0\\u03b1\\u03ba\\u03b9\\u03c3\\u03c4\\u03ac\\u03bd\"], [\"\\u03a0\\u03b1\\u03ba\\u03b9\\u03c3\\u03c4\\u03ac\\u03bd\"], [\"\\u03a0\\u03b1\\u03ba\\u03b9\\u03c3\\u03c4\\u03ac\\u03bd\"], [\"\\u03a0\\u03b1\\u03ba\\u03b9\\u03c3\\u03c4\\u03ac\\u03bd\"], [\"\\u03a0\\u03b1\\u03ba\\u03b9\\u03c3\\u03c4\\u03ac\\u03bd\"], [\"\\u03a0\\u03b1\\u03ba\\u03b9\\u03c3\\u03c4\\u03ac\\u03bd\"], [\"\\u03a0\\u03b1\\u03ba\\u03b9\\u03c3\\u03c4\\u03ac\\u03bd\"]], \"hoverlabel\": {\"namelength\": 0}, \"hovertemplate\": \"\\u03a7\\u03ce\\u03c1\\u03b1=%{customdata[0]}<br>\\u0391\\u03c1\\u03b9\\u03b8\\u03bc\\u03cc\\u03c2 \\u039a\\u03c1\\u03bf\\u03c5\\u03c3\\u03bc\\u03ac\\u03c4\\u03c9\\u03bd=%{y}\", \"legendgroup\": \"\\u03a0\\u03b1\\u03ba\\u03b9\\u03c3\\u03c4\\u03ac\\u03bd\", \"line\": {\"color\": \"rgb(189,189,189)\", \"dash\": \"solid\", \"shape\": \"spline\"}, \"mode\": \"lines\", \"name\": \"\\u03a0\\u03b1\\u03ba\\u03b9\\u03c3\\u03c4\\u03ac\\u03bd\", \"showlegend\": true, \"type\": \"scatter\", \"xaxis\": \"x\", \"y\": [136, 236, 299, 454, 501, 730, 776, 875, 972, 1063, 1201, 1373, 1495, 1597, 1717, 1938, 2118, 2421, 2686, 2818, 3157, 3766, 4035, 4263, 4489, 4695, 5011, 5230], \"yaxis\": \"y\"}, {\"customdata\": [[\"\\u03a0\\u03b1\\u03bd\\u03b1\\u03bc\\u03ac\\u03c2\"], [\"\\u03a0\\u03b1\\u03bd\\u03b1\\u03bc\\u03ac\\u03c2\"], [\"\\u03a0\\u03b1\\u03bd\\u03b1\\u03bc\\u03ac\\u03c2\"], [\"\\u03a0\\u03b1\\u03bd\\u03b1\\u03bc\\u03ac\\u03c2\"], [\"\\u03a0\\u03b1\\u03bd\\u03b1\\u03bc\\u03ac\\u03c2\"], [\"\\u03a0\\u03b1\\u03bd\\u03b1\\u03bc\\u03ac\\u03c2\"], [\"\\u03a0\\u03b1\\u03bd\\u03b1\\u03bc\\u03ac\\u03c2\"], [\"\\u03a0\\u03b1\\u03bd\\u03b1\\u03bc\\u03ac\\u03c2\"], [\"\\u03a0\\u03b1\\u03bd\\u03b1\\u03bc\\u03ac\\u03c2\"], [\"\\u03a0\\u03b1\\u03bd\\u03b1\\u03bc\\u03ac\\u03c2\"], [\"\\u03a0\\u03b1\\u03bd\\u03b1\\u03bc\\u03ac\\u03c2\"], [\"\\u03a0\\u03b1\\u03bd\\u03b1\\u03bc\\u03ac\\u03c2\"], [\"\\u03a0\\u03b1\\u03bd\\u03b1\\u03bc\\u03ac\\u03c2\"], [\"\\u03a0\\u03b1\\u03bd\\u03b1\\u03bc\\u03ac\\u03c2\"], [\"\\u03a0\\u03b1\\u03bd\\u03b1\\u03bc\\u03ac\\u03c2\"], [\"\\u03a0\\u03b1\\u03bd\\u03b1\\u03bc\\u03ac\\u03c2\"], [\"\\u03a0\\u03b1\\u03bd\\u03b1\\u03bc\\u03ac\\u03c2\"], [\"\\u03a0\\u03b1\\u03bd\\u03b1\\u03bc\\u03ac\\u03c2\"], [\"\\u03a0\\u03b1\\u03bd\\u03b1\\u03bc\\u03ac\\u03c2\"], [\"\\u03a0\\u03b1\\u03bd\\u03b1\\u03bc\\u03ac\\u03c2\"], [\"\\u03a0\\u03b1\\u03bd\\u03b1\\u03bc\\u03ac\\u03c2\"], [\"\\u03a0\\u03b1\\u03bd\\u03b1\\u03bc\\u03ac\\u03c2\"], [\"\\u03a0\\u03b1\\u03bd\\u03b1\\u03bc\\u03ac\\u03c2\"], [\"\\u03a0\\u03b1\\u03bd\\u03b1\\u03bc\\u03ac\\u03c2\"], [\"\\u03a0\\u03b1\\u03bd\\u03b1\\u03bc\\u03ac\\u03c2\"]], \"hoverlabel\": {\"namelength\": 0}, \"hovertemplate\": \"\\u03a7\\u03ce\\u03c1\\u03b1=%{customdata[0]}<br>\\u0391\\u03c1\\u03b9\\u03b8\\u03bc\\u03cc\\u03c2 \\u039a\\u03c1\\u03bf\\u03c5\\u03c3\\u03bc\\u03ac\\u03c4\\u03c9\\u03bd=%{y}\", \"legendgroup\": \"\\u03a0\\u03b1\\u03bd\\u03b1\\u03bc\\u03ac\\u03c2\", \"line\": {\"color\": \"rgb(189,189,189)\", \"dash\": \"solid\", \"shape\": \"spline\"}, \"mode\": \"lines\", \"name\": \"\\u03a0\\u03b1\\u03bd\\u03b1\\u03bc\\u03ac\\u03c2\", \"showlegend\": true, \"type\": \"scatter\", \"xaxis\": \"x\", \"y\": [109, 137, 200, 313, 345, 345, 443, 558, 674, 786, 901, 989, 1181, 1181, 1317, 1475, 1673, 1801, 1988, 2100, 2249, 2528, 2752, 2974, 3234], \"yaxis\": \"y\"}, {\"customdata\": [[\"\\u03a0\\u03b1\\u03c1\\u03b1\\u03b3\\u03bf\\u03c5\\u03ac\\u03b7\"], [\"\\u03a0\\u03b1\\u03c1\\u03b1\\u03b3\\u03bf\\u03c5\\u03ac\\u03b7\"], [\"\\u03a0\\u03b1\\u03c1\\u03b1\\u03b3\\u03bf\\u03c5\\u03ac\\u03b7\"], [\"\\u03a0\\u03b1\\u03c1\\u03b1\\u03b3\\u03bf\\u03c5\\u03ac\\u03b7\"], [\"\\u03a0\\u03b1\\u03c1\\u03b1\\u03b3\\u03bf\\u03c5\\u03ac\\u03b7\"], [\"\\u03a0\\u03b1\\u03c1\\u03b1\\u03b3\\u03bf\\u03c5\\u03ac\\u03b7\"], [\"\\u03a0\\u03b1\\u03c1\\u03b1\\u03b3\\u03bf\\u03c5\\u03ac\\u03b7\"], [\"\\u03a0\\u03b1\\u03c1\\u03b1\\u03b3\\u03bf\\u03c5\\u03ac\\u03b7\"]], \"hoverlabel\": {\"namelength\": 0}, \"hovertemplate\": \"\\u03a7\\u03ce\\u03c1\\u03b1=%{customdata[0]}<br>\\u0391\\u03c1\\u03b9\\u03b8\\u03bc\\u03cc\\u03c2 \\u039a\\u03c1\\u03bf\\u03c5\\u03c3\\u03bc\\u03ac\\u03c4\\u03c9\\u03bd=%{y}\", \"legendgroup\": \"\\u03a0\\u03b1\\u03c1\\u03b1\\u03b3\\u03bf\\u03c5\\u03ac\\u03b7\", \"line\": {\"color\": \"rgb(189,189,189)\", \"dash\": \"solid\", \"shape\": \"spline\"}, \"mode\": \"lines\", \"name\": \"\\u03a0\\u03b1\\u03c1\\u03b1\\u03b3\\u03bf\\u03c5\\u03ac\\u03b7\", \"showlegend\": true, \"type\": \"scatter\", \"xaxis\": \"x\", \"y\": [104, 113, 115, 119, 124, 129, 133, 134], \"yaxis\": \"y\"}, {\"customdata\": [[\"\\u03a0\\u03b5\\u03c1\\u03bf\\u03cd\"], [\"\\u03a0\\u03b5\\u03c1\\u03bf\\u03cd\"], [\"\\u03a0\\u03b5\\u03c1\\u03bf\\u03cd\"], [\"\\u03a0\\u03b5\\u03c1\\u03bf\\u03cd\"], [\"\\u03a0\\u03b5\\u03c1\\u03bf\\u03cd\"], [\"\\u03a0\\u03b5\\u03c1\\u03bf\\u03cd\"], [\"\\u03a0\\u03b5\\u03c1\\u03bf\\u03cd\"], [\"\\u03a0\\u03b5\\u03c1\\u03bf\\u03cd\"], [\"\\u03a0\\u03b5\\u03c1\\u03bf\\u03cd\"], [\"\\u03a0\\u03b5\\u03c1\\u03bf\\u03cd\"], [\"\\u03a0\\u03b5\\u03c1\\u03bf\\u03cd\"], [\"\\u03a0\\u03b5\\u03c1\\u03bf\\u03cd\"], [\"\\u03a0\\u03b5\\u03c1\\u03bf\\u03cd\"], [\"\\u03a0\\u03b5\\u03c1\\u03bf\\u03cd\"], [\"\\u03a0\\u03b5\\u03c1\\u03bf\\u03cd\"], [\"\\u03a0\\u03b5\\u03c1\\u03bf\\u03cd\"], [\"\\u03a0\\u03b5\\u03c1\\u03bf\\u03cd\"], [\"\\u03a0\\u03b5\\u03c1\\u03bf\\u03cd\"], [\"\\u03a0\\u03b5\\u03c1\\u03bf\\u03cd\"], [\"\\u03a0\\u03b5\\u03c1\\u03bf\\u03cd\"], [\"\\u03a0\\u03b5\\u03c1\\u03bf\\u03cd\"], [\"\\u03a0\\u03b5\\u03c1\\u03bf\\u03cd\"], [\"\\u03a0\\u03b5\\u03c1\\u03bf\\u03cd\"], [\"\\u03a0\\u03b5\\u03c1\\u03bf\\u03cd\"], [\"\\u03a0\\u03b5\\u03c1\\u03bf\\u03cd\"], [\"\\u03a0\\u03b5\\u03c1\\u03bf\\u03cd\"], [\"\\u03a0\\u03b5\\u03c1\\u03bf\\u03cd\"]], \"hoverlabel\": {\"namelength\": 0}, \"hovertemplate\": \"\\u03a7\\u03ce\\u03c1\\u03b1=%{customdata[0]}<br>\\u0391\\u03c1\\u03b9\\u03b8\\u03bc\\u03cc\\u03c2 \\u039a\\u03c1\\u03bf\\u03c5\\u03c3\\u03bc\\u03ac\\u03c4\\u03c9\\u03bd=%{y}\", \"legendgroup\": \"\\u03a0\\u03b5\\u03c1\\u03bf\\u03cd\", \"line\": {\"color\": \"rgb(189,189,189)\", \"dash\": \"solid\", \"shape\": \"spline\"}, \"mode\": \"lines\", \"name\": \"\\u03a0\\u03b5\\u03c1\\u03bf\\u03cd\", \"showlegend\": true, \"type\": \"scatter\", \"xaxis\": \"x\", \"y\": [117, 145, 234, 234, 318, 363, 395, 416, 480, 580, 635, 671, 852, 950, 1065, 1323, 1414, 1595, 1746, 2281, 2561, 2954, 4342, 5256, 5897, 6848, 7519], \"yaxis\": \"y\"}, {\"customdata\": [[\"\\u03a6\\u03b9\\u03bb\\u03b9\\u03c0\\u03c0\\u03af\\u03bd\\u03b5\\u03c2\"], [\"\\u03a6\\u03b9\\u03bb\\u03b9\\u03c0\\u03c0\\u03af\\u03bd\\u03b5\\u03c2\"], [\"\\u03a6\\u03b9\\u03bb\\u03b9\\u03c0\\u03c0\\u03af\\u03bd\\u03b5\\u03c2\"], [\"\\u03a6\\u03b9\\u03bb\\u03b9\\u03c0\\u03c0\\u03af\\u03bd\\u03b5\\u03c2\"], [\"\\u03a6\\u03b9\\u03bb\\u03b9\\u03c0\\u03c0\\u03af\\u03bd\\u03b5\\u03c2\"], [\"\\u03a6\\u03b9\\u03bb\\u03b9\\u03c0\\u03c0\\u03af\\u03bd\\u03b5\\u03c2\"], [\"\\u03a6\\u03b9\\u03bb\\u03b9\\u03c0\\u03c0\\u03af\\u03bd\\u03b5\\u03c2\"], [\"\\u03a6\\u03b9\\u03bb\\u03b9\\u03c0\\u03c0\\u03af\\u03bd\\u03b5\\u03c2\"], [\"\\u03a6\\u03b9\\u03bb\\u03b9\\u03c0\\u03c0\\u03af\\u03bd\\u03b5\\u03c2\"], [\"\\u03a6\\u03b9\\u03bb\\u03b9\\u03c0\\u03c0\\u03af\\u03bd\\u03b5\\u03c2\"], [\"\\u03a6\\u03b9\\u03bb\\u03b9\\u03c0\\u03c0\\u03af\\u03bd\\u03b5\\u03c2\"], [\"\\u03a6\\u03b9\\u03bb\\u03b9\\u03c0\\u03c0\\u03af\\u03bd\\u03b5\\u03c2\"], [\"\\u03a6\\u03b9\\u03bb\\u03b9\\u03c0\\u03c0\\u03af\\u03bd\\u03b5\\u03c2\"], [\"\\u03a6\\u03b9\\u03bb\\u03b9\\u03c0\\u03c0\\u03af\\u03bd\\u03b5\\u03c2\"], [\"\\u03a6\\u03b9\\u03bb\\u03b9\\u03c0\\u03c0\\u03af\\u03bd\\u03b5\\u03c2\"], [\"\\u03a6\\u03b9\\u03bb\\u03b9\\u03c0\\u03c0\\u03af\\u03bd\\u03b5\\u03c2\"], [\"\\u03a6\\u03b9\\u03bb\\u03b9\\u03c0\\u03c0\\u03af\\u03bd\\u03b5\\u03c2\"], [\"\\u03a6\\u03b9\\u03bb\\u03b9\\u03c0\\u03c0\\u03af\\u03bd\\u03b5\\u03c2\"], [\"\\u03a6\\u03b9\\u03bb\\u03b9\\u03c0\\u03c0\\u03af\\u03bd\\u03b5\\u03c2\"], [\"\\u03a6\\u03b9\\u03bb\\u03b9\\u03c0\\u03c0\\u03af\\u03bd\\u03b5\\u03c2\"], [\"\\u03a6\\u03b9\\u03bb\\u03b9\\u03c0\\u03c0\\u03af\\u03bd\\u03b5\\u03c2\"], [\"\\u03a6\\u03b9\\u03bb\\u03b9\\u03c0\\u03c0\\u03af\\u03bd\\u03b5\\u03c2\"], [\"\\u03a6\\u03b9\\u03bb\\u03b9\\u03c0\\u03c0\\u03af\\u03bd\\u03b5\\u03c2\"], [\"\\u03a6\\u03b9\\u03bb\\u03b9\\u03c0\\u03c0\\u03af\\u03bd\\u03b5\\u03c2\"], [\"\\u03a6\\u03b9\\u03bb\\u03b9\\u03c0\\u03c0\\u03af\\u03bd\\u03b5\\u03c2\"], [\"\\u03a6\\u03b9\\u03bb\\u03b9\\u03c0\\u03c0\\u03af\\u03bd\\u03b5\\u03c2\"], [\"\\u03a6\\u03b9\\u03bb\\u03b9\\u03c0\\u03c0\\u03af\\u03bd\\u03b5\\u03c2\"], [\"\\u03a6\\u03b9\\u03bb\\u03b9\\u03c0\\u03c0\\u03af\\u03bd\\u03b5\\u03c2\"], [\"\\u03a6\\u03b9\\u03bb\\u03b9\\u03c0\\u03c0\\u03af\\u03bd\\u03b5\\u03c2\"], [\"\\u03a6\\u03b9\\u03bb\\u03b9\\u03c0\\u03c0\\u03af\\u03bd\\u03b5\\u03c2\"]], \"hoverlabel\": {\"namelength\": 0}, \"hovertemplate\": \"\\u03a7\\u03ce\\u03c1\\u03b1=%{customdata[0]}<br>\\u0391\\u03c1\\u03b9\\u03b8\\u03bc\\u03cc\\u03c2 \\u039a\\u03c1\\u03bf\\u03c5\\u03c3\\u03bc\\u03ac\\u03c4\\u03c9\\u03bd=%{y}\", \"legendgroup\": \"\\u03a6\\u03b9\\u03bb\\u03b9\\u03c0\\u03c0\\u03af\\u03bd\\u03b5\\u03c2\", \"line\": {\"color\": \"rgb(189,189,189)\", \"dash\": \"solid\", \"shape\": \"spline\"}, \"mode\": \"lines\", \"name\": \"\\u03a6\\u03b9\\u03bb\\u03b9\\u03c0\\u03c0\\u03af\\u03bd\\u03b5\\u03c2\", \"showlegend\": true, \"type\": \"scatter\", \"xaxis\": \"x\", \"y\": [111, 140, 142, 187, 202, 217, 230, 307, 380, 462, 552, 636, 707, 803, 1075, 1418, 1546, 2084, 2311, 2633, 3018, 3094, 3246, 3660, 3764, 3870, 4076, 4195, 4428, 4648], \"yaxis\": \"y\"}, {\"customdata\": [[\"\\u03a0\\u03bf\\u03bb\\u03c9\\u03bd\\u03af\\u03b1\"], [\"\\u03a0\\u03bf\\u03bb\\u03c9\\u03bd\\u03af\\u03b1\"], [\"\\u03a0\\u03bf\\u03bb\\u03c9\\u03bd\\u03af\\u03b1\"], [\"\\u03a0\\u03bf\\u03bb\\u03c9\\u03bd\\u03af\\u03b1\"], [\"\\u03a0\\u03bf\\u03bb\\u03c9\\u03bd\\u03af\\u03b1\"], [\"\\u03a0\\u03bf\\u03bb\\u03c9\\u03bd\\u03af\\u03b1\"], [\"\\u03a0\\u03bf\\u03bb\\u03c9\\u03bd\\u03af\\u03b1\"], [\"\\u03a0\\u03bf\\u03bb\\u03c9\\u03bd\\u03af\\u03b1\"], [\"\\u03a0\\u03bf\\u03bb\\u03c9\\u03bd\\u03af\\u03b1\"], [\"\\u03a0\\u03bf\\u03bb\\u03c9\\u03bd\\u03af\\u03b1\"], [\"\\u03a0\\u03bf\\u03bb\\u03c9\\u03bd\\u03af\\u03b1\"], [\"\\u03a0\\u03bf\\u03bb\\u03c9\\u03bd\\u03af\\u03b1\"], [\"\\u03a0\\u03bf\\u03bb\\u03c9\\u03bd\\u03af\\u03b1\"], [\"\\u03a0\\u03bf\\u03bb\\u03c9\\u03bd\\u03af\\u03b1\"], [\"\\u03a0\\u03bf\\u03bb\\u03c9\\u03bd\\u03af\\u03b1\"], [\"\\u03a0\\u03bf\\u03bb\\u03c9\\u03bd\\u03af\\u03b1\"], [\"\\u03a0\\u03bf\\u03bb\\u03c9\\u03bd\\u03af\\u03b1\"], [\"\\u03a0\\u03bf\\u03bb\\u03c9\\u03bd\\u03af\\u03b1\"], [\"\\u03a0\\u03bf\\u03bb\\u03c9\\u03bd\\u03af\\u03b1\"], [\"\\u03a0\\u03bf\\u03bb\\u03c9\\u03bd\\u03af\\u03b1\"], [\"\\u03a0\\u03bf\\u03bb\\u03c9\\u03bd\\u03af\\u03b1\"], [\"\\u03a0\\u03bf\\u03bb\\u03c9\\u03bd\\u03af\\u03b1\"], [\"\\u03a0\\u03bf\\u03bb\\u03c9\\u03bd\\u03af\\u03b1\"], [\"\\u03a0\\u03bf\\u03bb\\u03c9\\u03bd\\u03af\\u03b1\"], [\"\\u03a0\\u03bf\\u03bb\\u03c9\\u03bd\\u03af\\u03b1\"], [\"\\u03a0\\u03bf\\u03bb\\u03c9\\u03bd\\u03af\\u03b1\"], [\"\\u03a0\\u03bf\\u03bb\\u03c9\\u03bd\\u03af\\u03b1\"], [\"\\u03a0\\u03bf\\u03bb\\u03c9\\u03bd\\u03af\\u03b1\"], [\"\\u03a0\\u03bf\\u03bb\\u03c9\\u03bd\\u03af\\u03b1\"], [\"\\u03a0\\u03bf\\u03bb\\u03c9\\u03bd\\u03af\\u03b1\"]], \"hoverlabel\": {\"namelength\": 0}, \"hovertemplate\": \"\\u03a7\\u03ce\\u03c1\\u03b1=%{customdata[0]}<br>\\u0391\\u03c1\\u03b9\\u03b8\\u03bc\\u03cc\\u03c2 \\u039a\\u03c1\\u03bf\\u03c5\\u03c3\\u03bc\\u03ac\\u03c4\\u03c9\\u03bd=%{y}\", \"legendgroup\": \"\\u03a0\\u03bf\\u03bb\\u03c9\\u03bd\\u03af\\u03b1\", \"line\": {\"color\": \"rgb(189,189,189)\", \"dash\": \"solid\", \"shape\": \"spline\"}, \"mode\": \"lines\", \"name\": \"\\u03a0\\u03bf\\u03bb\\u03c9\\u03bd\\u03af\\u03b1\", \"showlegend\": true, \"type\": \"scatter\", \"xaxis\": \"x\", \"y\": [103, 119, 177, 238, 251, 355, 425, 536, 634, 749, 901, 1051, 1221, 1389, 1638, 1862, 2055, 2311, 2554, 2946, 3383, 3627, 4102, 4413, 4848, 5205, 5575, 5955, 6356, 6674], \"yaxis\": \"y\"}, {\"customdata\": [[\"\\u03a0\\u03bf\\u03c1\\u03c4\\u03bf\\u03b3\\u03b1\\u03bb\\u03af\\u03b1\"], [\"\\u03a0\\u03bf\\u03c1\\u03c4\\u03bf\\u03b3\\u03b1\\u03bb\\u03af\\u03b1\"], [\"\\u03a0\\u03bf\\u03c1\\u03c4\\u03bf\\u03b3\\u03b1\\u03bb\\u03af\\u03b1\"], [\"\\u03a0\\u03bf\\u03c1\\u03c4\\u03bf\\u03b3\\u03b1\\u03bb\\u03af\\u03b1\"], [\"\\u03a0\\u03bf\\u03c1\\u03c4\\u03bf\\u03b3\\u03b1\\u03bb\\u03af\\u03b1\"], [\"\\u03a0\\u03bf\\u03c1\\u03c4\\u03bf\\u03b3\\u03b1\\u03bb\\u03af\\u03b1\"], [\"\\u03a0\\u03bf\\u03c1\\u03c4\\u03bf\\u03b3\\u03b1\\u03bb\\u03af\\u03b1\"], [\"\\u03a0\\u03bf\\u03c1\\u03c4\\u03bf\\u03b3\\u03b1\\u03bb\\u03af\\u03b1\"], [\"\\u03a0\\u03bf\\u03c1\\u03c4\\u03bf\\u03b3\\u03b1\\u03bb\\u03af\\u03b1\"], [\"\\u03a0\\u03bf\\u03c1\\u03c4\\u03bf\\u03b3\\u03b1\\u03bb\\u03af\\u03b1\"], [\"\\u03a0\\u03bf\\u03c1\\u03c4\\u03bf\\u03b3\\u03b1\\u03bb\\u03af\\u03b1\"], [\"\\u03a0\\u03bf\\u03c1\\u03c4\\u03bf\\u03b3\\u03b1\\u03bb\\u03af\\u03b1\"], [\"\\u03a0\\u03bf\\u03c1\\u03c4\\u03bf\\u03b3\\u03b1\\u03bb\\u03af\\u03b1\"], [\"\\u03a0\\u03bf\\u03c1\\u03c4\\u03bf\\u03b3\\u03b1\\u03bb\\u03af\\u03b1\"], [\"\\u03a0\\u03bf\\u03c1\\u03c4\\u03bf\\u03b3\\u03b1\\u03bb\\u03af\\u03b1\"], [\"\\u03a0\\u03bf\\u03c1\\u03c4\\u03bf\\u03b3\\u03b1\\u03bb\\u03af\\u03b1\"], [\"\\u03a0\\u03bf\\u03c1\\u03c4\\u03bf\\u03b3\\u03b1\\u03bb\\u03af\\u03b1\"], [\"\\u03a0\\u03bf\\u03c1\\u03c4\\u03bf\\u03b3\\u03b1\\u03bb\\u03af\\u03b1\"], [\"\\u03a0\\u03bf\\u03c1\\u03c4\\u03bf\\u03b3\\u03b1\\u03bb\\u03af\\u03b1\"], [\"\\u03a0\\u03bf\\u03c1\\u03c4\\u03bf\\u03b3\\u03b1\\u03bb\\u03af\\u03b1\"], [\"\\u03a0\\u03bf\\u03c1\\u03c4\\u03bf\\u03b3\\u03b1\\u03bb\\u03af\\u03b1\"], [\"\\u03a0\\u03bf\\u03c1\\u03c4\\u03bf\\u03b3\\u03b1\\u03bb\\u03af\\u03b1\"], [\"\\u03a0\\u03bf\\u03c1\\u03c4\\u03bf\\u03b3\\u03b1\\u03bb\\u03af\\u03b1\"], [\"\\u03a0\\u03bf\\u03c1\\u03c4\\u03bf\\u03b3\\u03b1\\u03bb\\u03af\\u03b1\"], [\"\\u03a0\\u03bf\\u03c1\\u03c4\\u03bf\\u03b3\\u03b1\\u03bb\\u03af\\u03b1\"], [\"\\u03a0\\u03bf\\u03c1\\u03c4\\u03bf\\u03b3\\u03b1\\u03bb\\u03af\\u03b1\"], [\"\\u03a0\\u03bf\\u03c1\\u03c4\\u03bf\\u03b3\\u03b1\\u03bb\\u03af\\u03b1\"], [\"\\u03a0\\u03bf\\u03c1\\u03c4\\u03bf\\u03b3\\u03b1\\u03bb\\u03af\\u03b1\"], [\"\\u03a0\\u03bf\\u03c1\\u03c4\\u03bf\\u03b3\\u03b1\\u03bb\\u03af\\u03b1\"], [\"\\u03a0\\u03bf\\u03c1\\u03c4\\u03bf\\u03b3\\u03b1\\u03bb\\u03af\\u03b1\"], [\"\\u03a0\\u03bf\\u03c1\\u03c4\\u03bf\\u03b3\\u03b1\\u03bb\\u03af\\u03b1\"]], \"hoverlabel\": {\"namelength\": 0}, \"hovertemplate\": \"\\u03a7\\u03ce\\u03c1\\u03b1=%{customdata[0]}<br>\\u0391\\u03c1\\u03b9\\u03b8\\u03bc\\u03cc\\u03c2 \\u039a\\u03c1\\u03bf\\u03c5\\u03c3\\u03bc\\u03ac\\u03c4\\u03c9\\u03bd=%{y}\", \"legendgroup\": \"\\u03a0\\u03bf\\u03c1\\u03c4\\u03bf\\u03b3\\u03b1\\u03bb\\u03af\\u03b1\", \"line\": {\"color\": \"rgb(189,189,189)\", \"dash\": \"solid\", \"shape\": \"spline\"}, \"mode\": \"lines\", \"name\": \"\\u03a0\\u03bf\\u03c1\\u03c4\\u03bf\\u03b3\\u03b1\\u03bb\\u03af\\u03b1\", \"showlegend\": true, \"type\": \"scatter\", \"xaxis\": \"x\", \"y\": [112, 169, 245, 331, 448, 448, 785, 1020, 1280, 1600, 2060, 2362, 2995, 3544, 4268, 5170, 5962, 6408, 7443, 8251, 9034, 9886, 10524, 11278, 11730, 12442, 13141, 13956, 15472, 15987, 16585], \"yaxis\": \"y\"}, {\"customdata\": [[\"\\u039a\\u03b1\\u03c4\\u03ac\\u03c1\"], [\"\\u039a\\u03b1\\u03c4\\u03ac\\u03c1\"], [\"\\u039a\\u03b1\\u03c4\\u03ac\\u03c1\"], [\"\\u039a\\u03b1\\u03c4\\u03ac\\u03c1\"], [\"\\u039a\\u03b1\\u03c4\\u03ac\\u03c1\"], [\"\\u039a\\u03b1\\u03c4\\u03ac\\u03c1\"], [\"\\u039a\\u03b1\\u03c4\\u03ac\\u03c1\"], [\"\\u039a\\u03b1\\u03c4\\u03ac\\u03c1\"], [\"\\u039a\\u03b1\\u03c4\\u03ac\\u03c1\"], [\"\\u039a\\u03b1\\u03c4\\u03ac\\u03c1\"], [\"\\u039a\\u03b1\\u03c4\\u03ac\\u03c1\"], [\"\\u039a\\u03b1\\u03c4\\u03ac\\u03c1\"], [\"\\u039a\\u03b1\\u03c4\\u03ac\\u03c1\"], [\"\\u039a\\u03b1\\u03c4\\u03ac\\u03c1\"], [\"\\u039a\\u03b1\\u03c4\\u03ac\\u03c1\"], [\"\\u039a\\u03b1\\u03c4\\u03ac\\u03c1\"], [\"\\u039a\\u03b1\\u03c4\\u03ac\\u03c1\"], [\"\\u039a\\u03b1\\u03c4\\u03ac\\u03c1\"], [\"\\u039a\\u03b1\\u03c4\\u03ac\\u03c1\"], [\"\\u039a\\u03b1\\u03c4\\u03ac\\u03c1\"], [\"\\u039a\\u03b1\\u03c4\\u03ac\\u03c1\"], [\"\\u039a\\u03b1\\u03c4\\u03ac\\u03c1\"], [\"\\u039a\\u03b1\\u03c4\\u03ac\\u03c1\"], [\"\\u039a\\u03b1\\u03c4\\u03ac\\u03c1\"], [\"\\u039a\\u03b1\\u03c4\\u03ac\\u03c1\"], [\"\\u039a\\u03b1\\u03c4\\u03ac\\u03c1\"], [\"\\u039a\\u03b1\\u03c4\\u03ac\\u03c1\"], [\"\\u039a\\u03b1\\u03c4\\u03ac\\u03c1\"], [\"\\u039a\\u03b1\\u03c4\\u03ac\\u03c1\"], [\"\\u039a\\u03b1\\u03c4\\u03ac\\u03c1\"], [\"\\u039a\\u03b1\\u03c4\\u03ac\\u03c1\"], [\"\\u039a\\u03b1\\u03c4\\u03ac\\u03c1\"], [\"\\u039a\\u03b1\\u03c4\\u03ac\\u03c1\"]], \"hoverlabel\": {\"namelength\": 0}, \"hovertemplate\": \"\\u03a7\\u03ce\\u03c1\\u03b1=%{customdata[0]}<br>\\u0391\\u03c1\\u03b9\\u03b8\\u03bc\\u03cc\\u03c2 \\u039a\\u03c1\\u03bf\\u03c5\\u03c3\\u03bc\\u03ac\\u03c4\\u03c9\\u03bd=%{y}\", \"legendgroup\": \"\\u039a\\u03b1\\u03c4\\u03ac\\u03c1\", \"line\": {\"color\": \"rgb(189,189,189)\", \"dash\": \"solid\", \"shape\": \"spline\"}, \"mode\": \"lines\", \"name\": \"\\u039a\\u03b1\\u03c4\\u03ac\\u03c1\", \"showlegend\": true, \"type\": \"scatter\", \"xaxis\": \"x\", \"y\": [262, 262, 320, 337, 401, 439, 439, 452, 460, 470, 481, 494, 501, 526, 537, 549, 562, 590, 634, 693, 781, 835, 949, 1075, 1325, 1604, 1832, 2057, 2210, 2376, 2512, 2728, 2979], \"yaxis\": \"y\"}, {\"customdata\": [[\"\\u03a1\\u03bf\\u03c5\\u03bc\\u03b1\\u03bd\\u03af\\u03b1\"], [\"\\u03a1\\u03bf\\u03c5\\u03bc\\u03b1\\u03bd\\u03af\\u03b1\"], [\"\\u03a1\\u03bf\\u03c5\\u03bc\\u03b1\\u03bd\\u03af\\u03b1\"], [\"\\u03a1\\u03bf\\u03c5\\u03bc\\u03b1\\u03bd\\u03af\\u03b1\"], [\"\\u03a1\\u03bf\\u03c5\\u03bc\\u03b1\\u03bd\\u03af\\u03b1\"], [\"\\u03a1\\u03bf\\u03c5\\u03bc\\u03b1\\u03bd\\u03af\\u03b1\"], [\"\\u03a1\\u03bf\\u03c5\\u03bc\\u03b1\\u03bd\\u03af\\u03b1\"], [\"\\u03a1\\u03bf\\u03c5\\u03bc\\u03b1\\u03bd\\u03af\\u03b1\"], [\"\\u03a1\\u03bf\\u03c5\\u03bc\\u03b1\\u03bd\\u03af\\u03b1\"], [\"\\u03a1\\u03bf\\u03c5\\u03bc\\u03b1\\u03bd\\u03af\\u03b1\"], [\"\\u03a1\\u03bf\\u03c5\\u03bc\\u03b1\\u03bd\\u03af\\u03b1\"], [\"\\u03a1\\u03bf\\u03c5\\u03bc\\u03b1\\u03bd\\u03af\\u03b1\"], [\"\\u03a1\\u03bf\\u03c5\\u03bc\\u03b1\\u03bd\\u03af\\u03b1\"], [\"\\u03a1\\u03bf\\u03c5\\u03bc\\u03b1\\u03bd\\u03af\\u03b1\"], [\"\\u03a1\\u03bf\\u03c5\\u03bc\\u03b1\\u03bd\\u03af\\u03b1\"], [\"\\u03a1\\u03bf\\u03c5\\u03bc\\u03b1\\u03bd\\u03af\\u03b1\"], [\"\\u03a1\\u03bf\\u03c5\\u03bc\\u03b1\\u03bd\\u03af\\u03b1\"], [\"\\u03a1\\u03bf\\u03c5\\u03bc\\u03b1\\u03bd\\u03af\\u03b1\"], [\"\\u03a1\\u03bf\\u03c5\\u03bc\\u03b1\\u03bd\\u03af\\u03b1\"], [\"\\u03a1\\u03bf\\u03c5\\u03bc\\u03b1\\u03bd\\u03af\\u03b1\"], [\"\\u03a1\\u03bf\\u03c5\\u03bc\\u03b1\\u03bd\\u03af\\u03b1\"], [\"\\u03a1\\u03bf\\u03c5\\u03bc\\u03b1\\u03bd\\u03af\\u03b1\"], [\"\\u03a1\\u03bf\\u03c5\\u03bc\\u03b1\\u03bd\\u03af\\u03b1\"], [\"\\u03a1\\u03bf\\u03c5\\u03bc\\u03b1\\u03bd\\u03af\\u03b1\"], [\"\\u03a1\\u03bf\\u03c5\\u03bc\\u03b1\\u03bd\\u03af\\u03b1\"], [\"\\u03a1\\u03bf\\u03c5\\u03bc\\u03b1\\u03bd\\u03af\\u03b1\"], [\"\\u03a1\\u03bf\\u03c5\\u03bc\\u03b1\\u03bd\\u03af\\u03b1\"], [\"\\u03a1\\u03bf\\u03c5\\u03bc\\u03b1\\u03bd\\u03af\\u03b1\"], [\"\\u03a1\\u03bf\\u03c5\\u03bc\\u03b1\\u03bd\\u03af\\u03b1\"], [\"\\u03a1\\u03bf\\u03c5\\u03bc\\u03b1\\u03bd\\u03af\\u03b1\"]], \"hoverlabel\": {\"namelength\": 0}, \"hovertemplate\": \"\\u03a7\\u03ce\\u03c1\\u03b1=%{customdata[0]}<br>\\u0391\\u03c1\\u03b9\\u03b8\\u03bc\\u03cc\\u03c2 \\u039a\\u03c1\\u03bf\\u03c5\\u03c3\\u03bc\\u03ac\\u03c4\\u03c9\\u03bd=%{y}\", \"legendgroup\": \"\\u03a1\\u03bf\\u03c5\\u03bc\\u03b1\\u03bd\\u03af\\u03b1\", \"line\": {\"color\": \"rgb(189,189,189)\", \"dash\": \"solid\", \"shape\": \"spline\"}, \"mode\": \"lines\", \"name\": \"\\u03a1\\u03bf\\u03c5\\u03bc\\u03b1\\u03bd\\u03af\\u03b1\", \"showlegend\": true, \"type\": \"scatter\", \"xaxis\": \"x\", \"y\": [123, 131, 158, 184, 260, 277, 308, 367, 433, 576, 794, 906, 1029, 1292, 1452, 1815, 2109, 2245, 2460, 2738, 3183, 3613, 3864, 4057, 4417, 4761, 5202, 5467, 5990, 6300], \"yaxis\": \"y\"}, {\"customdata\": [[\"\\u03a1\\u03c9\\u03c3\\u03af\\u03b1\"], [\"\\u03a1\\u03c9\\u03c3\\u03af\\u03b1\"], [\"\\u03a1\\u03c9\\u03c3\\u03af\\u03b1\"], [\"\\u03a1\\u03c9\\u03c3\\u03af\\u03b1\"], [\"\\u03a1\\u03c9\\u03c3\\u03af\\u03b1\"], [\"\\u03a1\\u03c9\\u03c3\\u03af\\u03b1\"], [\"\\u03a1\\u03c9\\u03c3\\u03af\\u03b1\"], [\"\\u03a1\\u03c9\\u03c3\\u03af\\u03b1\"], [\"\\u03a1\\u03c9\\u03c3\\u03af\\u03b1\"], [\"\\u03a1\\u03c9\\u03c3\\u03af\\u03b1\"], [\"\\u03a1\\u03c9\\u03c3\\u03af\\u03b1\"], [\"\\u03a1\\u03c9\\u03c3\\u03af\\u03b1\"], [\"\\u03a1\\u03c9\\u03c3\\u03af\\u03b1\"], [\"\\u03a1\\u03c9\\u03c3\\u03af\\u03b1\"], [\"\\u03a1\\u03c9\\u03c3\\u03af\\u03b1\"], [\"\\u03a1\\u03c9\\u03c3\\u03af\\u03b1\"], [\"\\u03a1\\u03c9\\u03c3\\u03af\\u03b1\"], [\"\\u03a1\\u03c9\\u03c3\\u03af\\u03b1\"], [\"\\u03a1\\u03c9\\u03c3\\u03af\\u03b1\"], [\"\\u03a1\\u03c9\\u03c3\\u03af\\u03b1\"], [\"\\u03a1\\u03c9\\u03c3\\u03af\\u03b1\"], [\"\\u03a1\\u03c9\\u03c3\\u03af\\u03b1\"], [\"\\u03a1\\u03c9\\u03c3\\u03af\\u03b1\"], [\"\\u03a1\\u03c9\\u03c3\\u03af\\u03b1\"], [\"\\u03a1\\u03c9\\u03c3\\u03af\\u03b1\"], [\"\\u03a1\\u03c9\\u03c3\\u03af\\u03b1\"], [\"\\u03a1\\u03c9\\u03c3\\u03af\\u03b1\"]], \"hoverlabel\": {\"namelength\": 0}, \"hovertemplate\": \"\\u03a7\\u03ce\\u03c1\\u03b1=%{customdata[0]}<br>\\u0391\\u03c1\\u03b9\\u03b8\\u03bc\\u03cc\\u03c2 \\u039a\\u03c1\\u03bf\\u03c5\\u03c3\\u03bc\\u03ac\\u03c4\\u03c9\\u03bd=%{y}\", \"legendgroup\": \"\\u03a1\\u03c9\\u03c3\\u03af\\u03b1\", \"line\": {\"color\": \"rgb(189,189,189)\", \"dash\": \"solid\", \"shape\": \"spline\"}, \"mode\": \"lines\", \"name\": \"\\u03a1\\u03c9\\u03c3\\u03af\\u03b1\", \"showlegend\": true, \"type\": \"scatter\", \"xaxis\": \"x\", \"y\": [114, 147, 199, 253, 306, 367, 438, 495, 658, 840, 1036, 1264, 1534, 1836, 2337, 2777, 3548, 4149, 4731, 5389, 6343, 7497, 8672, 10131, 11917, 13584, 15770], \"yaxis\": \"y\"}, {\"customdata\": [[\"\\u03a1\\u03bf\\u03c5\\u03ac\\u03bd\\u03c4\\u03b1\"], [\"\\u03a1\\u03bf\\u03c5\\u03ac\\u03bd\\u03c4\\u03b1\"], [\"\\u03a1\\u03bf\\u03c5\\u03ac\\u03bd\\u03c4\\u03b1\"], [\"\\u03a1\\u03bf\\u03c5\\u03ac\\u03bd\\u03c4\\u03b1\"], [\"\\u03a1\\u03bf\\u03c5\\u03ac\\u03bd\\u03c4\\u03b1\"], [\"\\u03a1\\u03bf\\u03c5\\u03ac\\u03bd\\u03c4\\u03b1\"], [\"\\u03a1\\u03bf\\u03c5\\u03ac\\u03bd\\u03c4\\u03b1\"], [\"\\u03a1\\u03bf\\u03c5\\u03ac\\u03bd\\u03c4\\u03b1\"], [\"\\u03a1\\u03bf\\u03c5\\u03ac\\u03bd\\u03c4\\u03b1\"]], \"hoverlabel\": {\"namelength\": 0}, \"hovertemplate\": \"\\u03a7\\u03ce\\u03c1\\u03b1=%{customdata[0]}<br>\\u0391\\u03c1\\u03b9\\u03b8\\u03bc\\u03cc\\u03c2 \\u039a\\u03c1\\u03bf\\u03c5\\u03c3\\u03bc\\u03ac\\u03c4\\u03c9\\u03bd=%{y}\", \"legendgroup\": \"\\u03a1\\u03bf\\u03c5\\u03ac\\u03bd\\u03c4\\u03b1\", \"line\": {\"color\": \"rgb(189,189,189)\", \"dash\": \"solid\", \"shape\": \"spline\"}, \"mode\": \"lines\", \"name\": \"\\u03a1\\u03bf\\u03c5\\u03ac\\u03bd\\u03c4\\u03b1\", \"showlegend\": true, \"type\": \"scatter\", \"xaxis\": \"x\", \"y\": [102, 104, 105, 105, 110, 110, 118, 120, 126], \"yaxis\": \"y\"}, {\"customdata\": [[\"\\u0386\\u03b3. \\u039c\\u03b1\\u03c1\\u03af\\u03bd\\u03bf\\u03c2\"], [\"\\u0386\\u03b3. \\u039c\\u03b1\\u03c1\\u03af\\u03bd\\u03bf\\u03c2\"], [\"\\u0386\\u03b3. \\u039c\\u03b1\\u03c1\\u03af\\u03bd\\u03bf\\u03c2\"], [\"\\u0386\\u03b3. \\u039c\\u03b1\\u03c1\\u03af\\u03bd\\u03bf\\u03c2\"], [\"\\u0386\\u03b3. \\u039c\\u03b1\\u03c1\\u03af\\u03bd\\u03bf\\u03c2\"], [\"\\u0386\\u03b3. \\u039c\\u03b1\\u03c1\\u03af\\u03bd\\u03bf\\u03c2\"], [\"\\u0386\\u03b3. \\u039c\\u03b1\\u03c1\\u03af\\u03bd\\u03bf\\u03c2\"], [\"\\u0386\\u03b3. \\u039c\\u03b1\\u03c1\\u03af\\u03bd\\u03bf\\u03c2\"], [\"\\u0386\\u03b3. \\u039c\\u03b1\\u03c1\\u03af\\u03bd\\u03bf\\u03c2\"], [\"\\u0386\\u03b3. \\u039c\\u03b1\\u03c1\\u03af\\u03bd\\u03bf\\u03c2\"], [\"\\u0386\\u03b3. \\u039c\\u03b1\\u03c1\\u03af\\u03bd\\u03bf\\u03c2\"], [\"\\u0386\\u03b3. \\u039c\\u03b1\\u03c1\\u03af\\u03bd\\u03bf\\u03c2\"], [\"\\u0386\\u03b3. \\u039c\\u03b1\\u03c1\\u03af\\u03bd\\u03bf\\u03c2\"], [\"\\u0386\\u03b3. \\u039c\\u03b1\\u03c1\\u03af\\u03bd\\u03bf\\u03c2\"], [\"\\u0386\\u03b3. \\u039c\\u03b1\\u03c1\\u03af\\u03bd\\u03bf\\u03c2\"], [\"\\u0386\\u03b3. \\u039c\\u03b1\\u03c1\\u03af\\u03bd\\u03bf\\u03c2\"], [\"\\u0386\\u03b3. \\u039c\\u03b1\\u03c1\\u03af\\u03bd\\u03bf\\u03c2\"], [\"\\u0386\\u03b3. \\u039c\\u03b1\\u03c1\\u03af\\u03bd\\u03bf\\u03c2\"], [\"\\u0386\\u03b3. \\u039c\\u03b1\\u03c1\\u03af\\u03bd\\u03bf\\u03c2\"], [\"\\u0386\\u03b3. \\u039c\\u03b1\\u03c1\\u03af\\u03bd\\u03bf\\u03c2\"], [\"\\u0386\\u03b3. \\u039c\\u03b1\\u03c1\\u03af\\u03bd\\u03bf\\u03c2\"], [\"\\u0386\\u03b3. \\u039c\\u03b1\\u03c1\\u03af\\u03bd\\u03bf\\u03c2\"], [\"\\u0386\\u03b3. \\u039c\\u03b1\\u03c1\\u03af\\u03bd\\u03bf\\u03c2\"], [\"\\u0386\\u03b3. \\u039c\\u03b1\\u03c1\\u03af\\u03bd\\u03bf\\u03c2\"], [\"\\u0386\\u03b3. \\u039c\\u03b1\\u03c1\\u03af\\u03bd\\u03bf\\u03c2\"], [\"\\u0386\\u03b3. \\u039c\\u03b1\\u03c1\\u03af\\u03bd\\u03bf\\u03c2\"], [\"\\u0386\\u03b3. \\u039c\\u03b1\\u03c1\\u03af\\u03bd\\u03bf\\u03c2\"], [\"\\u0386\\u03b3. \\u039c\\u03b1\\u03c1\\u03af\\u03bd\\u03bf\\u03c2\"], [\"\\u0386\\u03b3. \\u039c\\u03b1\\u03c1\\u03af\\u03bd\\u03bf\\u03c2\"]], \"hoverlabel\": {\"namelength\": 0}, \"hovertemplate\": \"\\u03a7\\u03ce\\u03c1\\u03b1=%{customdata[0]}<br>\\u0391\\u03c1\\u03b9\\u03b8\\u03bc\\u03cc\\u03c2 \\u039a\\u03c1\\u03bf\\u03c5\\u03c3\\u03bc\\u03ac\\u03c4\\u03c9\\u03bd=%{y}\", \"legendgroup\": \"\\u0386\\u03b3. \\u039c\\u03b1\\u03c1\\u03af\\u03bd\\u03bf\\u03c2\", \"line\": {\"color\": \"rgb(189,189,189)\", \"dash\": \"solid\", \"shape\": \"spline\"}, \"mode\": \"lines\", \"name\": \"\\u0386\\u03b3. \\u039c\\u03b1\\u03c1\\u03af\\u03bd\\u03bf\\u03c2\", \"showlegend\": true, \"type\": \"scatter\", \"xaxis\": \"x\", \"y\": [101, 109, 109, 119, 119, 144, 144, 175, 187, 187, 208, 208, 223, 224, 224, 230, 236, 236, 245, 245, 259, 266, 266, 279, 279, 333, 344, 356, 356], \"yaxis\": \"y\"}, {\"customdata\": [[\"\\u03a3\\u03b1\\u03bf\\u03c5\\u03b4\\u03b9\\u03ba\\u03ae \\u0391\\u03c1\\u03b1\\u03b2\\u03af\\u03b1\"], [\"\\u03a3\\u03b1\\u03bf\\u03c5\\u03b4\\u03b9\\u03ba\\u03ae \\u0391\\u03c1\\u03b1\\u03b2\\u03af\\u03b1\"], [\"\\u03a3\\u03b1\\u03bf\\u03c5\\u03b4\\u03b9\\u03ba\\u03ae \\u0391\\u03c1\\u03b1\\u03b2\\u03af\\u03b1\"], [\"\\u03a3\\u03b1\\u03bf\\u03c5\\u03b4\\u03b9\\u03ba\\u03ae \\u0391\\u03c1\\u03b1\\u03b2\\u03af\\u03b1\"], [\"\\u03a3\\u03b1\\u03bf\\u03c5\\u03b4\\u03b9\\u03ba\\u03ae \\u0391\\u03c1\\u03b1\\u03b2\\u03af\\u03b1\"], [\"\\u03a3\\u03b1\\u03bf\\u03c5\\u03b4\\u03b9\\u03ba\\u03ae \\u0391\\u03c1\\u03b1\\u03b2\\u03af\\u03b1\"], [\"\\u03a3\\u03b1\\u03bf\\u03c5\\u03b4\\u03b9\\u03ba\\u03ae \\u0391\\u03c1\\u03b1\\u03b2\\u03af\\u03b1\"], [\"\\u03a3\\u03b1\\u03bf\\u03c5\\u03b4\\u03b9\\u03ba\\u03ae \\u0391\\u03c1\\u03b1\\u03b2\\u03af\\u03b1\"], [\"\\u03a3\\u03b1\\u03bf\\u03c5\\u03b4\\u03b9\\u03ba\\u03ae \\u0391\\u03c1\\u03b1\\u03b2\\u03af\\u03b1\"], [\"\\u03a3\\u03b1\\u03bf\\u03c5\\u03b4\\u03b9\\u03ba\\u03ae \\u0391\\u03c1\\u03b1\\u03b2\\u03af\\u03b1\"], [\"\\u03a3\\u03b1\\u03bf\\u03c5\\u03b4\\u03b9\\u03ba\\u03ae \\u0391\\u03c1\\u03b1\\u03b2\\u03af\\u03b1\"], [\"\\u03a3\\u03b1\\u03bf\\u03c5\\u03b4\\u03b9\\u03ba\\u03ae \\u0391\\u03c1\\u03b1\\u03b2\\u03af\\u03b1\"], [\"\\u03a3\\u03b1\\u03bf\\u03c5\\u03b4\\u03b9\\u03ba\\u03ae \\u0391\\u03c1\\u03b1\\u03b2\\u03af\\u03b1\"], [\"\\u03a3\\u03b1\\u03bf\\u03c5\\u03b4\\u03b9\\u03ba\\u03ae \\u0391\\u03c1\\u03b1\\u03b2\\u03af\\u03b1\"], [\"\\u03a3\\u03b1\\u03bf\\u03c5\\u03b4\\u03b9\\u03ba\\u03ae \\u0391\\u03c1\\u03b1\\u03b2\\u03af\\u03b1\"], [\"\\u03a3\\u03b1\\u03bf\\u03c5\\u03b4\\u03b9\\u03ba\\u03ae \\u0391\\u03c1\\u03b1\\u03b2\\u03af\\u03b1\"], [\"\\u03a3\\u03b1\\u03bf\\u03c5\\u03b4\\u03b9\\u03ba\\u03ae \\u0391\\u03c1\\u03b1\\u03b2\\u03af\\u03b1\"], [\"\\u03a3\\u03b1\\u03bf\\u03c5\\u03b4\\u03b9\\u03ba\\u03ae \\u0391\\u03c1\\u03b1\\u03b2\\u03af\\u03b1\"], [\"\\u03a3\\u03b1\\u03bf\\u03c5\\u03b4\\u03b9\\u03ba\\u03ae \\u0391\\u03c1\\u03b1\\u03b2\\u03af\\u03b1\"], [\"\\u03a3\\u03b1\\u03bf\\u03c5\\u03b4\\u03b9\\u03ba\\u03ae \\u0391\\u03c1\\u03b1\\u03b2\\u03af\\u03b1\"], [\"\\u03a3\\u03b1\\u03bf\\u03c5\\u03b4\\u03b9\\u03ba\\u03ae \\u0391\\u03c1\\u03b1\\u03b2\\u03af\\u03b1\"], [\"\\u03a3\\u03b1\\u03bf\\u03c5\\u03b4\\u03b9\\u03ba\\u03ae \\u0391\\u03c1\\u03b1\\u03b2\\u03af\\u03b1\"], [\"\\u03a3\\u03b1\\u03bf\\u03c5\\u03b4\\u03b9\\u03ba\\u03ae \\u0391\\u03c1\\u03b1\\u03b2\\u03af\\u03b1\"], [\"\\u03a3\\u03b1\\u03bf\\u03c5\\u03b4\\u03b9\\u03ba\\u03ae \\u0391\\u03c1\\u03b1\\u03b2\\u03af\\u03b1\"], [\"\\u03a3\\u03b1\\u03bf\\u03c5\\u03b4\\u03b9\\u03ba\\u03ae \\u0391\\u03c1\\u03b1\\u03b2\\u03af\\u03b1\"], [\"\\u03a3\\u03b1\\u03bf\\u03c5\\u03b4\\u03b9\\u03ba\\u03ae \\u0391\\u03c1\\u03b1\\u03b2\\u03af\\u03b1\"], [\"\\u03a3\\u03b1\\u03bf\\u03c5\\u03b4\\u03b9\\u03ba\\u03ae \\u0391\\u03c1\\u03b1\\u03b2\\u03af\\u03b1\"], [\"\\u03a3\\u03b1\\u03bf\\u03c5\\u03b4\\u03b9\\u03ba\\u03ae \\u0391\\u03c1\\u03b1\\u03b2\\u03af\\u03b1\"], [\"\\u03a3\\u03b1\\u03bf\\u03c5\\u03b4\\u03b9\\u03ba\\u03ae \\u0391\\u03c1\\u03b1\\u03b2\\u03af\\u03b1\"], [\"\\u03a3\\u03b1\\u03bf\\u03c5\\u03b4\\u03b9\\u03ba\\u03ae \\u0391\\u03c1\\u03b1\\u03b2\\u03af\\u03b1\"]], \"hoverlabel\": {\"namelength\": 0}, \"hovertemplate\": \"\\u03a7\\u03ce\\u03c1\\u03b1=%{customdata[0]}<br>\\u0391\\u03c1\\u03b9\\u03b8\\u03bc\\u03cc\\u03c2 \\u039a\\u03c1\\u03bf\\u03c5\\u03c3\\u03bc\\u03ac\\u03c4\\u03c9\\u03bd=%{y}\", \"legendgroup\": \"\\u03a3\\u03b1\\u03bf\\u03c5\\u03b4\\u03b9\\u03ba\\u03ae \\u0391\\u03c1\\u03b1\\u03b2\\u03af\\u03b1\", \"line\": {\"color\": \"rgb(189,189,189)\", \"dash\": \"solid\", \"shape\": \"spline\"}, \"mode\": \"lines\", \"name\": \"\\u03a3\\u03b1\\u03bf\\u03c5\\u03b4\\u03b9\\u03ba\\u03ae \\u0391\\u03c1\\u03b1\\u03b2\\u03af\\u03b1\", \"showlegend\": true, \"type\": \"scatter\", \"xaxis\": \"x\", \"y\": [103, 103, 118, 171, 171, 274, 344, 392, 511, 562, 767, 900, 1012, 1104, 1203, 1299, 1453, 1563, 1720, 1885, 2039, 2179, 2402, 2605, 2795, 2932, 3287, 3651, 4033, 4462], \"yaxis\": \"y\"}, {\"customdata\": [[\"\\u03a3\\u03b5\\u03bd\\u03b5\\u03b3\\u03ac\\u03bb\\u03b7\"], [\"\\u03a3\\u03b5\\u03bd\\u03b5\\u03b3\\u03ac\\u03bb\\u03b7\"], [\"\\u03a3\\u03b5\\u03bd\\u03b5\\u03b3\\u03ac\\u03bb\\u03b7\"], [\"\\u03a3\\u03b5\\u03bd\\u03b5\\u03b3\\u03ac\\u03bb\\u03b7\"], [\"\\u03a3\\u03b5\\u03bd\\u03b5\\u03b3\\u03ac\\u03bb\\u03b7\"], [\"\\u03a3\\u03b5\\u03bd\\u03b5\\u03b3\\u03ac\\u03bb\\u03b7\"], [\"\\u03a3\\u03b5\\u03bd\\u03b5\\u03b3\\u03ac\\u03bb\\u03b7\"], [\"\\u03a3\\u03b5\\u03bd\\u03b5\\u03b3\\u03ac\\u03bb\\u03b7\"], [\"\\u03a3\\u03b5\\u03bd\\u03b5\\u03b3\\u03ac\\u03bb\\u03b7\"], [\"\\u03a3\\u03b5\\u03bd\\u03b5\\u03b3\\u03ac\\u03bb\\u03b7\"], [\"\\u03a3\\u03b5\\u03bd\\u03b5\\u03b3\\u03ac\\u03bb\\u03b7\"], [\"\\u03a3\\u03b5\\u03bd\\u03b5\\u03b3\\u03ac\\u03bb\\u03b7\"], [\"\\u03a3\\u03b5\\u03bd\\u03b5\\u03b3\\u03ac\\u03bb\\u03b7\"], [\"\\u03a3\\u03b5\\u03bd\\u03b5\\u03b3\\u03ac\\u03bb\\u03b7\"], [\"\\u03a3\\u03b5\\u03bd\\u03b5\\u03b3\\u03ac\\u03bb\\u03b7\"], [\"\\u03a3\\u03b5\\u03bd\\u03b5\\u03b3\\u03ac\\u03bb\\u03b7\"], [\"\\u03a3\\u03b5\\u03bd\\u03b5\\u03b3\\u03ac\\u03bb\\u03b7\"], [\"\\u03a3\\u03b5\\u03bd\\u03b5\\u03b3\\u03ac\\u03bb\\u03b7\"]], \"hoverlabel\": {\"namelength\": 0}, \"hovertemplate\": \"\\u03a7\\u03ce\\u03c1\\u03b1=%{customdata[0]}<br>\\u0391\\u03c1\\u03b9\\u03b8\\u03bc\\u03cc\\u03c2 \\u039a\\u03c1\\u03bf\\u03c5\\u03c3\\u03bc\\u03ac\\u03c4\\u03c9\\u03bd=%{y}\", \"legendgroup\": \"\\u03a3\\u03b5\\u03bd\\u03b5\\u03b3\\u03ac\\u03bb\\u03b7\", \"line\": {\"color\": \"rgb(189,189,189)\", \"dash\": \"solid\", \"shape\": \"spline\"}, \"mode\": \"lines\", \"name\": \"\\u03a3\\u03b5\\u03bd\\u03b5\\u03b3\\u03ac\\u03bb\\u03b7\", \"showlegend\": true, \"type\": \"scatter\", \"xaxis\": \"x\", \"y\": [105, 119, 130, 142, 162, 175, 190, 195, 207, 219, 222, 226, 237, 244, 250, 265, 278, 280], \"yaxis\": \"y\"}, {\"customdata\": [[\"\\u03a3\\u03b5\\u03c1\\u03b2\\u03af\\u03b1\"], [\"\\u03a3\\u03b5\\u03c1\\u03b2\\u03af\\u03b1\"], [\"\\u03a3\\u03b5\\u03c1\\u03b2\\u03af\\u03b1\"], [\"\\u03a3\\u03b5\\u03c1\\u03b2\\u03af\\u03b1\"], [\"\\u03a3\\u03b5\\u03c1\\u03b2\\u03af\\u03b1\"], [\"\\u03a3\\u03b5\\u03c1\\u03b2\\u03af\\u03b1\"], [\"\\u03a3\\u03b5\\u03c1\\u03b2\\u03af\\u03b1\"], [\"\\u03a3\\u03b5\\u03c1\\u03b2\\u03af\\u03b1\"], [\"\\u03a3\\u03b5\\u03c1\\u03b2\\u03af\\u03b1\"], [\"\\u03a3\\u03b5\\u03c1\\u03b2\\u03af\\u03b1\"], [\"\\u03a3\\u03b5\\u03c1\\u03b2\\u03af\\u03b1\"], [\"\\u03a3\\u03b5\\u03c1\\u03b2\\u03af\\u03b1\"], [\"\\u03a3\\u03b5\\u03c1\\u03b2\\u03af\\u03b1\"], [\"\\u03a3\\u03b5\\u03c1\\u03b2\\u03af\\u03b1\"], [\"\\u03a3\\u03b5\\u03c1\\u03b2\\u03af\\u03b1\"], [\"\\u03a3\\u03b5\\u03c1\\u03b2\\u03af\\u03b1\"], [\"\\u03a3\\u03b5\\u03c1\\u03b2\\u03af\\u03b1\"], [\"\\u03a3\\u03b5\\u03c1\\u03b2\\u03af\\u03b1\"], [\"\\u03a3\\u03b5\\u03c1\\u03b2\\u03af\\u03b1\"], [\"\\u03a3\\u03b5\\u03c1\\u03b2\\u03af\\u03b1\"], [\"\\u03a3\\u03b5\\u03c1\\u03b2\\u03af\\u03b1\"], [\"\\u03a3\\u03b5\\u03c1\\u03b2\\u03af\\u03b1\"], [\"\\u03a3\\u03b5\\u03c1\\u03b2\\u03af\\u03b1\"], [\"\\u03a3\\u03b5\\u03c1\\u03b2\\u03af\\u03b1\"], [\"\\u03a3\\u03b5\\u03c1\\u03b2\\u03af\\u03b1\"]], \"hoverlabel\": {\"namelength\": 0}, \"hovertemplate\": \"\\u03a7\\u03ce\\u03c1\\u03b1=%{customdata[0]}<br>\\u0391\\u03c1\\u03b9\\u03b8\\u03bc\\u03cc\\u03c2 \\u039a\\u03c1\\u03bf\\u03c5\\u03c3\\u03bc\\u03ac\\u03c4\\u03c9\\u03bd=%{y}\", \"legendgroup\": \"\\u03a3\\u03b5\\u03c1\\u03b2\\u03af\\u03b1\", \"line\": {\"color\": \"rgb(189,189,189)\", \"dash\": \"solid\", \"shape\": \"spline\"}, \"mode\": \"lines\", \"name\": \"\\u03a3\\u03b5\\u03c1\\u03b2\\u03af\\u03b1\", \"showlegend\": true, \"type\": \"scatter\", \"xaxis\": \"x\", \"y\": [103, 135, 171, 222, 249, 303, 384, 384, 457, 659, 741, 785, 900, 1060, 1171, 1476, 1624, 1908, 2200, 2447, 2666, 2867, 3105, 3380, 3630], \"yaxis\": \"y\"}, {\"customdata\": [[\"\\u03a3\\u03b9\\u03b3\\u03ba\\u03b1\\u03c0\\u03bf\\u03cd\\u03c1\\u03b7\"], [\"\\u03a3\\u03b9\\u03b3\\u03ba\\u03b1\\u03c0\\u03bf\\u03cd\\u03c1\\u03b7\"], [\"\\u03a3\\u03b9\\u03b3\\u03ba\\u03b1\\u03c0\\u03bf\\u03cd\\u03c1\\u03b7\"], [\"\\u03a3\\u03b9\\u03b3\\u03ba\\u03b1\\u03c0\\u03bf\\u03cd\\u03c1\\u03b7\"], [\"\\u03a3\\u03b9\\u03b3\\u03ba\\u03b1\\u03c0\\u03bf\\u03cd\\u03c1\\u03b7\"], [\"\\u03a3\\u03b9\\u03b3\\u03ba\\u03b1\\u03c0\\u03bf\\u03cd\\u03c1\\u03b7\"], [\"\\u03a3\\u03b9\\u03b3\\u03ba\\u03b1\\u03c0\\u03bf\\u03cd\\u03c1\\u03b7\"], [\"\\u03a3\\u03b9\\u03b3\\u03ba\\u03b1\\u03c0\\u03bf\\u03cd\\u03c1\\u03b7\"], [\"\\u03a3\\u03b9\\u03b3\\u03ba\\u03b1\\u03c0\\u03bf\\u03cd\\u03c1\\u03b7\"], [\"\\u03a3\\u03b9\\u03b3\\u03ba\\u03b1\\u03c0\\u03bf\\u03cd\\u03c1\\u03b7\"], [\"\\u03a3\\u03b9\\u03b3\\u03ba\\u03b1\\u03c0\\u03bf\\u03cd\\u03c1\\u03b7\"], [\"\\u03a3\\u03b9\\u03b3\\u03ba\\u03b1\\u03c0\\u03bf\\u03cd\\u03c1\\u03b7\"], [\"\\u03a3\\u03b9\\u03b3\\u03ba\\u03b1\\u03c0\\u03bf\\u03cd\\u03c1\\u03b7\"], [\"\\u03a3\\u03b9\\u03b3\\u03ba\\u03b1\\u03c0\\u03bf\\u03cd\\u03c1\\u03b7\"], [\"\\u03a3\\u03b9\\u03b3\\u03ba\\u03b1\\u03c0\\u03bf\\u03cd\\u03c1\\u03b7\"], [\"\\u03a3\\u03b9\\u03b3\\u03ba\\u03b1\\u03c0\\u03bf\\u03cd\\u03c1\\u03b7\"], [\"\\u03a3\\u03b9\\u03b3\\u03ba\\u03b1\\u03c0\\u03bf\\u03cd\\u03c1\\u03b7\"], [\"\\u03a3\\u03b9\\u03b3\\u03ba\\u03b1\\u03c0\\u03bf\\u03cd\\u03c1\\u03b7\"], [\"\\u03a3\\u03b9\\u03b3\\u03ba\\u03b1\\u03c0\\u03bf\\u03cd\\u03c1\\u03b7\"], [\"\\u03a3\\u03b9\\u03b3\\u03ba\\u03b1\\u03c0\\u03bf\\u03cd\\u03c1\\u03b7\"], [\"\\u03a3\\u03b9\\u03b3\\u03ba\\u03b1\\u03c0\\u03bf\\u03cd\\u03c1\\u03b7\"], [\"\\u03a3\\u03b9\\u03b3\\u03ba\\u03b1\\u03c0\\u03bf\\u03cd\\u03c1\\u03b7\"], [\"\\u03a3\\u03b9\\u03b3\\u03ba\\u03b1\\u03c0\\u03bf\\u03cd\\u03c1\\u03b7\"], [\"\\u03a3\\u03b9\\u03b3\\u03ba\\u03b1\\u03c0\\u03bf\\u03cd\\u03c1\\u03b7\"], [\"\\u03a3\\u03b9\\u03b3\\u03ba\\u03b1\\u03c0\\u03bf\\u03cd\\u03c1\\u03b7\"], [\"\\u03a3\\u03b9\\u03b3\\u03ba\\u03b1\\u03c0\\u03bf\\u03cd\\u03c1\\u03b7\"], [\"\\u03a3\\u03b9\\u03b3\\u03ba\\u03b1\\u03c0\\u03bf\\u03cd\\u03c1\\u03b7\"], [\"\\u03a3\\u03b9\\u03b3\\u03ba\\u03b1\\u03c0\\u03bf\\u03cd\\u03c1\\u03b7\"], [\"\\u03a3\\u03b9\\u03b3\\u03ba\\u03b1\\u03c0\\u03bf\\u03cd\\u03c1\\u03b7\"], [\"\\u03a3\\u03b9\\u03b3\\u03ba\\u03b1\\u03c0\\u03bf\\u03cd\\u03c1\\u03b7\"], [\"\\u03a3\\u03b9\\u03b3\\u03ba\\u03b1\\u03c0\\u03bf\\u03cd\\u03c1\\u03b7\"], [\"\\u03a3\\u03b9\\u03b3\\u03ba\\u03b1\\u03c0\\u03bf\\u03cd\\u03c1\\u03b7\"], [\"\\u03a3\\u03b9\\u03b3\\u03ba\\u03b1\\u03c0\\u03bf\\u03cd\\u03c1\\u03b7\"], [\"\\u03a3\\u03b9\\u03b3\\u03ba\\u03b1\\u03c0\\u03bf\\u03cd\\u03c1\\u03b7\"], [\"\\u03a3\\u03b9\\u03b3\\u03ba\\u03b1\\u03c0\\u03bf\\u03cd\\u03c1\\u03b7\"], [\"\\u03a3\\u03b9\\u03b3\\u03ba\\u03b1\\u03c0\\u03bf\\u03cd\\u03c1\\u03b7\"], [\"\\u03a3\\u03b9\\u03b3\\u03ba\\u03b1\\u03c0\\u03bf\\u03cd\\u03c1\\u03b7\"], [\"\\u03a3\\u03b9\\u03b3\\u03ba\\u03b1\\u03c0\\u03bf\\u03cd\\u03c1\\u03b7\"], [\"\\u03a3\\u03b9\\u03b3\\u03ba\\u03b1\\u03c0\\u03bf\\u03cd\\u03c1\\u03b7\"], [\"\\u03a3\\u03b9\\u03b3\\u03ba\\u03b1\\u03c0\\u03bf\\u03cd\\u03c1\\u03b7\"], [\"\\u03a3\\u03b9\\u03b3\\u03ba\\u03b1\\u03c0\\u03bf\\u03cd\\u03c1\\u03b7\"], [\"\\u03a3\\u03b9\\u03b3\\u03ba\\u03b1\\u03c0\\u03bf\\u03cd\\u03c1\\u03b7\"], [\"\\u03a3\\u03b9\\u03b3\\u03ba\\u03b1\\u03c0\\u03bf\\u03cd\\u03c1\\u03b7\"], [\"\\u03a3\\u03b9\\u03b3\\u03ba\\u03b1\\u03c0\\u03bf\\u03cd\\u03c1\\u03b7\"]], \"hoverlabel\": {\"namelength\": 0}, \"hovertemplate\": \"\\u03a7\\u03ce\\u03c1\\u03b1=%{customdata[0]}<br>\\u0391\\u03c1\\u03b9\\u03b8\\u03bc\\u03cc\\u03c2 \\u039a\\u03c1\\u03bf\\u03c5\\u03c3\\u03bc\\u03ac\\u03c4\\u03c9\\u03bd=%{y}\", \"legendgroup\": \"\\u03a3\\u03b9\\u03b3\\u03ba\\u03b1\\u03c0\\u03bf\\u03cd\\u03c1\\u03b7\", \"line\": {\"color\": \"rgb(189,189,189)\", \"dash\": \"solid\", \"shape\": \"spline\"}, \"mode\": \"lines\", \"name\": \"\\u03a3\\u03b9\\u03b3\\u03ba\\u03b1\\u03c0\\u03bf\\u03cd\\u03c1\\u03b7\", \"showlegend\": true, \"type\": \"scatter\", \"xaxis\": \"x\", \"y\": [102, 106, 108, 110, 110, 117, 130, 138, 150, 150, 160, 178, 178, 200, 212, 226, 243, 266, 313, 345, 385, 432, 455, 509, 558, 631, 683, 732, 802, 844, 879, 926, 1000, 1049, 1114, 1189, 1309, 1375, 1481, 1623, 1910, 2108, 2299, 2532], \"yaxis\": \"y\"}, {\"customdata\": [[\"\\u03a3\\u03bb\\u03bf\\u03b2\\u03b1\\u03ba\\u03af\\u03b1\"], [\"\\u03a3\\u03bb\\u03bf\\u03b2\\u03b1\\u03ba\\u03af\\u03b1\"], [\"\\u03a3\\u03bb\\u03bf\\u03b2\\u03b1\\u03ba\\u03af\\u03b1\"], [\"\\u03a3\\u03bb\\u03bf\\u03b2\\u03b1\\u03ba\\u03af\\u03b1\"], [\"\\u03a3\\u03bb\\u03bf\\u03b2\\u03b1\\u03ba\\u03af\\u03b1\"], [\"\\u03a3\\u03bb\\u03bf\\u03b2\\u03b1\\u03ba\\u03af\\u03b1\"], [\"\\u03a3\\u03bb\\u03bf\\u03b2\\u03b1\\u03ba\\u03af\\u03b1\"], [\"\\u03a3\\u03bb\\u03bf\\u03b2\\u03b1\\u03ba\\u03af\\u03b1\"], [\"\\u03a3\\u03bb\\u03bf\\u03b2\\u03b1\\u03ba\\u03af\\u03b1\"], [\"\\u03a3\\u03bb\\u03bf\\u03b2\\u03b1\\u03ba\\u03af\\u03b1\"], [\"\\u03a3\\u03bb\\u03bf\\u03b2\\u03b1\\u03ba\\u03af\\u03b1\"], [\"\\u03a3\\u03bb\\u03bf\\u03b2\\u03b1\\u03ba\\u03af\\u03b1\"], [\"\\u03a3\\u03bb\\u03bf\\u03b2\\u03b1\\u03ba\\u03af\\u03b1\"], [\"\\u03a3\\u03bb\\u03bf\\u03b2\\u03b1\\u03ba\\u03af\\u03b1\"], [\"\\u03a3\\u03bb\\u03bf\\u03b2\\u03b1\\u03ba\\u03af\\u03b1\"], [\"\\u03a3\\u03bb\\u03bf\\u03b2\\u03b1\\u03ba\\u03af\\u03b1\"], [\"\\u03a3\\u03bb\\u03bf\\u03b2\\u03b1\\u03ba\\u03af\\u03b1\"], [\"\\u03a3\\u03bb\\u03bf\\u03b2\\u03b1\\u03ba\\u03af\\u03b1\"], [\"\\u03a3\\u03bb\\u03bf\\u03b2\\u03b1\\u03ba\\u03af\\u03b1\"], [\"\\u03a3\\u03bb\\u03bf\\u03b2\\u03b1\\u03ba\\u03af\\u03b1\"], [\"\\u03a3\\u03bb\\u03bf\\u03b2\\u03b1\\u03ba\\u03af\\u03b1\"], [\"\\u03a3\\u03bb\\u03bf\\u03b2\\u03b1\\u03ba\\u03af\\u03b1\"], [\"\\u03a3\\u03bb\\u03bf\\u03b2\\u03b1\\u03ba\\u03af\\u03b1\"], [\"\\u03a3\\u03bb\\u03bf\\u03b2\\u03b1\\u03ba\\u03af\\u03b1\"], [\"\\u03a3\\u03bb\\u03bf\\u03b2\\u03b1\\u03ba\\u03af\\u03b1\"], [\"\\u03a3\\u03bb\\u03bf\\u03b2\\u03b1\\u03ba\\u03af\\u03b1\"]], \"hoverlabel\": {\"namelength\": 0}, \"hovertemplate\": \"\\u03a7\\u03ce\\u03c1\\u03b1=%{customdata[0]}<br>\\u0391\\u03c1\\u03b9\\u03b8\\u03bc\\u03cc\\u03c2 \\u039a\\u03c1\\u03bf\\u03c5\\u03c3\\u03bc\\u03ac\\u03c4\\u03c9\\u03bd=%{y}\", \"legendgroup\": \"\\u03a3\\u03bb\\u03bf\\u03b2\\u03b1\\u03ba\\u03af\\u03b1\", \"line\": {\"color\": \"rgb(189,189,189)\", \"dash\": \"solid\", \"shape\": \"spline\"}, \"mode\": \"lines\", \"name\": \"\\u03a3\\u03bb\\u03bf\\u03b2\\u03b1\\u03ba\\u03af\\u03b1\", \"showlegend\": true, \"type\": \"scatter\", \"xaxis\": \"x\", \"y\": [105, 123, 137, 178, 185, 186, 204, 216, 226, 269, 292, 314, 336, 363, 400, 426, 450, 471, 485, 534, 581, 682, 701, 715, 728, 742], \"yaxis\": \"y\"}, {\"customdata\": [[\"\\u03a3\\u03bb\\u03bf\\u03b2\\u03b5\\u03bd\\u03af\\u03b1\"], [\"\\u03a3\\u03bb\\u03bf\\u03b2\\u03b5\\u03bd\\u03af\\u03b1\"], [\"\\u03a3\\u03bb\\u03bf\\u03b2\\u03b5\\u03bd\\u03af\\u03b1\"], [\"\\u03a3\\u03bb\\u03bf\\u03b2\\u03b5\\u03bd\\u03af\\u03b1\"], [\"\\u03a3\\u03bb\\u03bf\\u03b2\\u03b5\\u03bd\\u03af\\u03b1\"], [\"\\u03a3\\u03bb\\u03bf\\u03b2\\u03b5\\u03bd\\u03af\\u03b1\"], [\"\\u03a3\\u03bb\\u03bf\\u03b2\\u03b5\\u03bd\\u03af\\u03b1\"], [\"\\u03a3\\u03bb\\u03bf\\u03b2\\u03b5\\u03bd\\u03af\\u03b1\"], [\"\\u03a3\\u03bb\\u03bf\\u03b2\\u03b5\\u03bd\\u03af\\u03b1\"], [\"\\u03a3\\u03bb\\u03bf\\u03b2\\u03b5\\u03bd\\u03af\\u03b1\"], [\"\\u03a3\\u03bb\\u03bf\\u03b2\\u03b5\\u03bd\\u03af\\u03b1\"], [\"\\u03a3\\u03bb\\u03bf\\u03b2\\u03b5\\u03bd\\u03af\\u03b1\"], [\"\\u03a3\\u03bb\\u03bf\\u03b2\\u03b5\\u03bd\\u03af\\u03b1\"], [\"\\u03a3\\u03bb\\u03bf\\u03b2\\u03b5\\u03bd\\u03af\\u03b1\"], [\"\\u03a3\\u03bb\\u03bf\\u03b2\\u03b5\\u03bd\\u03af\\u03b1\"], [\"\\u03a3\\u03bb\\u03bf\\u03b2\\u03b5\\u03bd\\u03af\\u03b1\"], [\"\\u03a3\\u03bb\\u03bf\\u03b2\\u03b5\\u03bd\\u03af\\u03b1\"], [\"\\u03a3\\u03bb\\u03bf\\u03b2\\u03b5\\u03bd\\u03af\\u03b1\"], [\"\\u03a3\\u03bb\\u03bf\\u03b2\\u03b5\\u03bd\\u03af\\u03b1\"], [\"\\u03a3\\u03bb\\u03bf\\u03b2\\u03b5\\u03bd\\u03af\\u03b1\"], [\"\\u03a3\\u03bb\\u03bf\\u03b2\\u03b5\\u03bd\\u03af\\u03b1\"], [\"\\u03a3\\u03bb\\u03bf\\u03b2\\u03b5\\u03bd\\u03af\\u03b1\"], [\"\\u03a3\\u03bb\\u03bf\\u03b2\\u03b5\\u03bd\\u03af\\u03b1\"], [\"\\u03a3\\u03bb\\u03bf\\u03b2\\u03b5\\u03bd\\u03af\\u03b1\"], [\"\\u03a3\\u03bb\\u03bf\\u03b2\\u03b5\\u03bd\\u03af\\u03b1\"], [\"\\u03a3\\u03bb\\u03bf\\u03b2\\u03b5\\u03bd\\u03af\\u03b1\"], [\"\\u03a3\\u03bb\\u03bf\\u03b2\\u03b5\\u03bd\\u03af\\u03b1\"], [\"\\u03a3\\u03bb\\u03bf\\u03b2\\u03b5\\u03bd\\u03af\\u03b1\"], [\"\\u03a3\\u03bb\\u03bf\\u03b2\\u03b5\\u03bd\\u03af\\u03b1\"], [\"\\u03a3\\u03bb\\u03bf\\u03b2\\u03b5\\u03bd\\u03af\\u03b1\"], [\"\\u03a3\\u03bb\\u03bf\\u03b2\\u03b5\\u03bd\\u03af\\u03b1\"]], \"hoverlabel\": {\"namelength\": 0}, \"hovertemplate\": \"\\u03a7\\u03ce\\u03c1\\u03b1=%{customdata[0]}<br>\\u0391\\u03c1\\u03b9\\u03b8\\u03bc\\u03cc\\u03c2 \\u039a\\u03c1\\u03bf\\u03c5\\u03c3\\u03bc\\u03ac\\u03c4\\u03c9\\u03bd=%{y}\", \"legendgroup\": \"\\u03a3\\u03bb\\u03bf\\u03b2\\u03b5\\u03bd\\u03af\\u03b1\", \"line\": {\"color\": \"rgb(189,189,189)\", \"dash\": \"solid\", \"shape\": \"spline\"}, \"mode\": \"lines\", \"name\": \"\\u03a3\\u03bb\\u03bf\\u03b2\\u03b5\\u03bd\\u03af\\u03b1\", \"showlegend\": true, \"type\": \"scatter\", \"xaxis\": \"x\", \"y\": [141, 181, 219, 253, 275, 275, 286, 341, 383, 414, 442, 480, 528, 562, 632, 684, 730, 756, 802, 841, 897, 934, 977, 997, 1021, 1059, 1091, 1124, 1160, 1188, 1205], \"yaxis\": \"y\"}, {\"customdata\": [[\"\\u039d\\u03cc\\u03c4\\u03b9\\u03b1 \\u0391\\u03c6\\u03c1\\u03b9\\u03ba\\u03ae\"], [\"\\u039d\\u03cc\\u03c4\\u03b9\\u03b1 \\u0391\\u03c6\\u03c1\\u03b9\\u03ba\\u03ae\"], [\"\\u039d\\u03cc\\u03c4\\u03b9\\u03b1 \\u0391\\u03c6\\u03c1\\u03b9\\u03ba\\u03ae\"], [\"\\u039d\\u03cc\\u03c4\\u03b9\\u03b1 \\u0391\\u03c6\\u03c1\\u03b9\\u03ba\\u03ae\"], [\"\\u039d\\u03cc\\u03c4\\u03b9\\u03b1 \\u0391\\u03c6\\u03c1\\u03b9\\u03ba\\u03ae\"], [\"\\u039d\\u03cc\\u03c4\\u03b9\\u03b1 \\u0391\\u03c6\\u03c1\\u03b9\\u03ba\\u03ae\"], [\"\\u039d\\u03cc\\u03c4\\u03b9\\u03b1 \\u0391\\u03c6\\u03c1\\u03b9\\u03ba\\u03ae\"], [\"\\u039d\\u03cc\\u03c4\\u03b9\\u03b1 \\u0391\\u03c6\\u03c1\\u03b9\\u03ba\\u03ae\"], [\"\\u039d\\u03cc\\u03c4\\u03b9\\u03b1 \\u0391\\u03c6\\u03c1\\u03b9\\u03ba\\u03ae\"], [\"\\u039d\\u03cc\\u03c4\\u03b9\\u03b1 \\u0391\\u03c6\\u03c1\\u03b9\\u03ba\\u03ae\"], [\"\\u039d\\u03cc\\u03c4\\u03b9\\u03b1 \\u0391\\u03c6\\u03c1\\u03b9\\u03ba\\u03ae\"], [\"\\u039d\\u03cc\\u03c4\\u03b9\\u03b1 \\u0391\\u03c6\\u03c1\\u03b9\\u03ba\\u03ae\"], [\"\\u039d\\u03cc\\u03c4\\u03b9\\u03b1 \\u0391\\u03c6\\u03c1\\u03b9\\u03ba\\u03ae\"], [\"\\u039d\\u03cc\\u03c4\\u03b9\\u03b1 \\u0391\\u03c6\\u03c1\\u03b9\\u03ba\\u03ae\"], [\"\\u039d\\u03cc\\u03c4\\u03b9\\u03b1 \\u0391\\u03c6\\u03c1\\u03b9\\u03ba\\u03ae\"], [\"\\u039d\\u03cc\\u03c4\\u03b9\\u03b1 \\u0391\\u03c6\\u03c1\\u03b9\\u03ba\\u03ae\"], [\"\\u039d\\u03cc\\u03c4\\u03b9\\u03b1 \\u0391\\u03c6\\u03c1\\u03b9\\u03ba\\u03ae\"], [\"\\u039d\\u03cc\\u03c4\\u03b9\\u03b1 \\u0391\\u03c6\\u03c1\\u03b9\\u03ba\\u03ae\"], [\"\\u039d\\u03cc\\u03c4\\u03b9\\u03b1 \\u0391\\u03c6\\u03c1\\u03b9\\u03ba\\u03ae\"], [\"\\u039d\\u03cc\\u03c4\\u03b9\\u03b1 \\u0391\\u03c6\\u03c1\\u03b9\\u03ba\\u03ae\"], [\"\\u039d\\u03cc\\u03c4\\u03b9\\u03b1 \\u0391\\u03c6\\u03c1\\u03b9\\u03ba\\u03ae\"], [\"\\u039d\\u03cc\\u03c4\\u03b9\\u03b1 \\u0391\\u03c6\\u03c1\\u03b9\\u03ba\\u03ae\"], [\"\\u039d\\u03cc\\u03c4\\u03b9\\u03b1 \\u0391\\u03c6\\u03c1\\u03b9\\u03ba\\u03ae\"], [\"\\u039d\\u03cc\\u03c4\\u03b9\\u03b1 \\u0391\\u03c6\\u03c1\\u03b9\\u03ba\\u03ae\"], [\"\\u039d\\u03cc\\u03c4\\u03b9\\u03b1 \\u0391\\u03c6\\u03c1\\u03b9\\u03ba\\u03ae\"], [\"\\u039d\\u03cc\\u03c4\\u03b9\\u03b1 \\u0391\\u03c6\\u03c1\\u03b9\\u03ba\\u03ae\"]], \"hoverlabel\": {\"namelength\": 0}, \"hovertemplate\": \"\\u03a7\\u03ce\\u03c1\\u03b1=%{customdata[0]}<br>\\u0391\\u03c1\\u03b9\\u03b8\\u03bc\\u03cc\\u03c2 \\u039a\\u03c1\\u03bf\\u03c5\\u03c3\\u03bc\\u03ac\\u03c4\\u03c9\\u03bd=%{y}\", \"legendgroup\": \"\\u039d\\u03cc\\u03c4\\u03b9\\u03b1 \\u0391\\u03c6\\u03c1\\u03b9\\u03ba\\u03ae\", \"line\": {\"color\": \"rgb(189,189,189)\", \"dash\": \"solid\", \"shape\": \"spline\"}, \"mode\": \"lines\", \"name\": \"\\u039d\\u03cc\\u03c4\\u03b9\\u03b1 \\u0391\\u03c6\\u03c1\\u03b9\\u03ba\\u03ae\", \"showlegend\": true, \"type\": \"scatter\", \"xaxis\": \"x\", \"y\": [116, 150, 202, 240, 274, 402, 554, 709, 927, 1170, 1187, 1280, 1326, 1353, 1380, 1462, 1505, 1585, 1655, 1686, 1749, 1845, 1934, 2003, 2028, 2173], \"yaxis\": \"y\"}, {\"customdata\": [[\"\\u03a3\\u03c1\\u03b9 \\u039b\\u03ac\\u03bd\\u03ba\\u03b1\"], [\"\\u03a3\\u03c1\\u03b9 \\u039b\\u03ac\\u03bd\\u03ba\\u03b1\"], [\"\\u03a3\\u03c1\\u03b9 \\u039b\\u03ac\\u03bd\\u03ba\\u03b1\"], [\"\\u03a3\\u03c1\\u03b9 \\u039b\\u03ac\\u03bd\\u03ba\\u03b1\"], [\"\\u03a3\\u03c1\\u03b9 \\u039b\\u03ac\\u03bd\\u03ba\\u03b1\"], [\"\\u03a3\\u03c1\\u03b9 \\u039b\\u03ac\\u03bd\\u03ba\\u03b1\"], [\"\\u03a3\\u03c1\\u03b9 \\u039b\\u03ac\\u03bd\\u03ba\\u03b1\"], [\"\\u03a3\\u03c1\\u03b9 \\u039b\\u03ac\\u03bd\\u03ba\\u03b1\"], [\"\\u03a3\\u03c1\\u03b9 \\u039b\\u03ac\\u03bd\\u03ba\\u03b1\"], [\"\\u03a3\\u03c1\\u03b9 \\u039b\\u03ac\\u03bd\\u03ba\\u03b1\"], [\"\\u03a3\\u03c1\\u03b9 \\u039b\\u03ac\\u03bd\\u03ba\\u03b1\"], [\"\\u03a3\\u03c1\\u03b9 \\u039b\\u03ac\\u03bd\\u03ba\\u03b1\"], [\"\\u03a3\\u03c1\\u03b9 \\u039b\\u03ac\\u03bd\\u03ba\\u03b1\"], [\"\\u03a3\\u03c1\\u03b9 \\u039b\\u03ac\\u03bd\\u03ba\\u03b1\"], [\"\\u03a3\\u03c1\\u03b9 \\u039b\\u03ac\\u03bd\\u03ba\\u03b1\"], [\"\\u03a3\\u03c1\\u03b9 \\u039b\\u03ac\\u03bd\\u03ba\\u03b1\"], [\"\\u03a3\\u03c1\\u03b9 \\u039b\\u03ac\\u03bd\\u03ba\\u03b1\"], [\"\\u03a3\\u03c1\\u03b9 \\u039b\\u03ac\\u03bd\\u03ba\\u03b1\"], [\"\\u03a3\\u03c1\\u03b9 \\u039b\\u03ac\\u03bd\\u03ba\\u03b1\"], [\"\\u03a3\\u03c1\\u03b9 \\u039b\\u03ac\\u03bd\\u03ba\\u03b1\"]], \"hoverlabel\": {\"namelength\": 0}, \"hovertemplate\": \"\\u03a7\\u03ce\\u03c1\\u03b1=%{customdata[0]}<br>\\u0391\\u03c1\\u03b9\\u03b8\\u03bc\\u03cc\\u03c2 \\u039a\\u03c1\\u03bf\\u03c5\\u03c3\\u03bc\\u03ac\\u03c4\\u03c9\\u03bd=%{y}\", \"legendgroup\": \"\\u03a3\\u03c1\\u03b9 \\u039b\\u03ac\\u03bd\\u03ba\\u03b1\", \"line\": {\"color\": \"rgb(189,189,189)\", \"dash\": \"solid\", \"shape\": \"spline\"}, \"mode\": \"lines\", \"name\": \"\\u03a3\\u03c1\\u03b9 \\u039b\\u03ac\\u03bd\\u03ba\\u03b1\", \"showlegend\": true, \"type\": \"scatter\", \"xaxis\": \"x\", \"y\": [102, 102, 106, 106, 113, 117, 122, 143, 146, 151, 159, 166, 176, 178, 185, 189, 190, 190, 198, 210], \"yaxis\": \"y\"}, {\"customdata\": [[\"\\u03a3\\u03bf\\u03c5\\u03b7\\u03b4\\u03af\\u03b1\"], [\"\\u03a3\\u03bf\\u03c5\\u03b7\\u03b4\\u03af\\u03b1\"], [\"\\u03a3\\u03bf\\u03c5\\u03b7\\u03b4\\u03af\\u03b1\"], [\"\\u03a3\\u03bf\\u03c5\\u03b7\\u03b4\\u03af\\u03b1\"], [\"\\u03a3\\u03bf\\u03c5\\u03b7\\u03b4\\u03af\\u03b1\"], [\"\\u03a3\\u03bf\\u03c5\\u03b7\\u03b4\\u03af\\u03b1\"], [\"\\u03a3\\u03bf\\u03c5\\u03b7\\u03b4\\u03af\\u03b1\"], [\"\\u03a3\\u03bf\\u03c5\\u03b7\\u03b4\\u03af\\u03b1\"], [\"\\u03a3\\u03bf\\u03c5\\u03b7\\u03b4\\u03af\\u03b1\"], [\"\\u03a3\\u03bf\\u03c5\\u03b7\\u03b4\\u03af\\u03b1\"], [\"\\u03a3\\u03bf\\u03c5\\u03b7\\u03b4\\u03af\\u03b1\"], [\"\\u03a3\\u03bf\\u03c5\\u03b7\\u03b4\\u03af\\u03b1\"], [\"\\u03a3\\u03bf\\u03c5\\u03b7\\u03b4\\u03af\\u03b1\"], [\"\\u03a3\\u03bf\\u03c5\\u03b7\\u03b4\\u03af\\u03b1\"], [\"\\u03a3\\u03bf\\u03c5\\u03b7\\u03b4\\u03af\\u03b1\"], [\"\\u03a3\\u03bf\\u03c5\\u03b7\\u03b4\\u03af\\u03b1\"], [\"\\u03a3\\u03bf\\u03c5\\u03b7\\u03b4\\u03af\\u03b1\"], [\"\\u03a3\\u03bf\\u03c5\\u03b7\\u03b4\\u03af\\u03b1\"], [\"\\u03a3\\u03bf\\u03c5\\u03b7\\u03b4\\u03af\\u03b1\"], [\"\\u03a3\\u03bf\\u03c5\\u03b7\\u03b4\\u03af\\u03b1\"], [\"\\u03a3\\u03bf\\u03c5\\u03b7\\u03b4\\u03af\\u03b1\"], [\"\\u03a3\\u03bf\\u03c5\\u03b7\\u03b4\\u03af\\u03b1\"], [\"\\u03a3\\u03bf\\u03c5\\u03b7\\u03b4\\u03af\\u03b1\"], [\"\\u03a3\\u03bf\\u03c5\\u03b7\\u03b4\\u03af\\u03b1\"], [\"\\u03a3\\u03bf\\u03c5\\u03b7\\u03b4\\u03af\\u03b1\"], [\"\\u03a3\\u03bf\\u03c5\\u03b7\\u03b4\\u03af\\u03b1\"], [\"\\u03a3\\u03bf\\u03c5\\u03b7\\u03b4\\u03af\\u03b1\"], [\"\\u03a3\\u03bf\\u03c5\\u03b7\\u03b4\\u03af\\u03b1\"], [\"\\u03a3\\u03bf\\u03c5\\u03b7\\u03b4\\u03af\\u03b1\"], [\"\\u03a3\\u03bf\\u03c5\\u03b7\\u03b4\\u03af\\u03b1\"], [\"\\u03a3\\u03bf\\u03c5\\u03b7\\u03b4\\u03af\\u03b1\"], [\"\\u03a3\\u03bf\\u03c5\\u03b7\\u03b4\\u03af\\u03b1\"], [\"\\u03a3\\u03bf\\u03c5\\u03b7\\u03b4\\u03af\\u03b1\"], [\"\\u03a3\\u03bf\\u03c5\\u03b7\\u03b4\\u03af\\u03b1\"], [\"\\u03a3\\u03bf\\u03c5\\u03b7\\u03b4\\u03af\\u03b1\"], [\"\\u03a3\\u03bf\\u03c5\\u03b7\\u03b4\\u03af\\u03b1\"], [\"\\u03a3\\u03bf\\u03c5\\u03b7\\u03b4\\u03af\\u03b1\"], [\"\\u03a3\\u03bf\\u03c5\\u03b7\\u03b4\\u03af\\u03b1\"]], \"hoverlabel\": {\"namelength\": 0}, \"hovertemplate\": \"\\u03a7\\u03ce\\u03c1\\u03b1=%{customdata[0]}<br>\\u0391\\u03c1\\u03b9\\u03b8\\u03bc\\u03cc\\u03c2 \\u039a\\u03c1\\u03bf\\u03c5\\u03c3\\u03bc\\u03ac\\u03c4\\u03c9\\u03bd=%{y}\", \"legendgroup\": \"\\u03a3\\u03bf\\u03c5\\u03b7\\u03b4\\u03af\\u03b1\", \"line\": {\"color\": \"rgb(189,189,189)\", \"dash\": \"solid\", \"shape\": \"spline\"}, \"mode\": \"lines\", \"name\": \"\\u03a3\\u03bf\\u03c5\\u03b7\\u03b4\\u03af\\u03b1\", \"showlegend\": true, \"type\": \"scatter\", \"xaxis\": \"x\", \"y\": [101, 161, 203, 248, 355, 500, 599, 814, 961, 1022, 1103, 1190, 1279, 1439, 1639, 1763, 1934, 2046, 2286, 2526, 2840, 3069, 3447, 3700, 4028, 4435, 4947, 5568, 6131, 6443, 6830, 7206, 7693, 8419, 9141, 9685, 10151, 10483], \"yaxis\": \"y\"}, {\"customdata\": [[\"\\u0395\\u03bb\\u03b2\\u03b5\\u03c4\\u03af\\u03b1\"], [\"\\u0395\\u03bb\\u03b2\\u03b5\\u03c4\\u03af\\u03b1\"], [\"\\u0395\\u03bb\\u03b2\\u03b5\\u03c4\\u03af\\u03b1\"], [\"\\u0395\\u03bb\\u03b2\\u03b5\\u03c4\\u03af\\u03b1\"], [\"\\u0395\\u03bb\\u03b2\\u03b5\\u03c4\\u03af\\u03b1\"], [\"\\u0395\\u03bb\\u03b2\\u03b5\\u03c4\\u03af\\u03b1\"], [\"\\u0395\\u03bb\\u03b2\\u03b5\\u03c4\\u03af\\u03b1\"], [\"\\u0395\\u03bb\\u03b2\\u03b5\\u03c4\\u03af\\u03b1\"], [\"\\u0395\\u03bb\\u03b2\\u03b5\\u03c4\\u03af\\u03b1\"], [\"\\u0395\\u03bb\\u03b2\\u03b5\\u03c4\\u03af\\u03b1\"], [\"\\u0395\\u03bb\\u03b2\\u03b5\\u03c4\\u03af\\u03b1\"], [\"\\u0395\\u03bb\\u03b2\\u03b5\\u03c4\\u03af\\u03b1\"], [\"\\u0395\\u03bb\\u03b2\\u03b5\\u03c4\\u03af\\u03b1\"], [\"\\u0395\\u03bb\\u03b2\\u03b5\\u03c4\\u03af\\u03b1\"], [\"\\u0395\\u03bb\\u03b2\\u03b5\\u03c4\\u03af\\u03b1\"], [\"\\u0395\\u03bb\\u03b2\\u03b5\\u03c4\\u03af\\u03b1\"], [\"\\u0395\\u03bb\\u03b2\\u03b5\\u03c4\\u03af\\u03b1\"], [\"\\u0395\\u03bb\\u03b2\\u03b5\\u03c4\\u03af\\u03b1\"], [\"\\u0395\\u03bb\\u03b2\\u03b5\\u03c4\\u03af\\u03b1\"], [\"\\u0395\\u03bb\\u03b2\\u03b5\\u03c4\\u03af\\u03b1\"], [\"\\u0395\\u03bb\\u03b2\\u03b5\\u03c4\\u03af\\u03b1\"], [\"\\u0395\\u03bb\\u03b2\\u03b5\\u03c4\\u03af\\u03b1\"], [\"\\u0395\\u03bb\\u03b2\\u03b5\\u03c4\\u03af\\u03b1\"], [\"\\u0395\\u03bb\\u03b2\\u03b5\\u03c4\\u03af\\u03b1\"], [\"\\u0395\\u03bb\\u03b2\\u03b5\\u03c4\\u03af\\u03b1\"], [\"\\u0395\\u03bb\\u03b2\\u03b5\\u03c4\\u03af\\u03b1\"], [\"\\u0395\\u03bb\\u03b2\\u03b5\\u03c4\\u03af\\u03b1\"], [\"\\u0395\\u03bb\\u03b2\\u03b5\\u03c4\\u03af\\u03b1\"], [\"\\u0395\\u03bb\\u03b2\\u03b5\\u03c4\\u03af\\u03b1\"], [\"\\u0395\\u03bb\\u03b2\\u03b5\\u03c4\\u03af\\u03b1\"], [\"\\u0395\\u03bb\\u03b2\\u03b5\\u03c4\\u03af\\u03b1\"], [\"\\u0395\\u03bb\\u03b2\\u03b5\\u03c4\\u03af\\u03b1\"], [\"\\u0395\\u03bb\\u03b2\\u03b5\\u03c4\\u03af\\u03b1\"], [\"\\u0395\\u03bb\\u03b2\\u03b5\\u03c4\\u03af\\u03b1\"], [\"\\u0395\\u03bb\\u03b2\\u03b5\\u03c4\\u03af\\u03b1\"], [\"\\u0395\\u03bb\\u03b2\\u03b5\\u03c4\\u03af\\u03b1\"], [\"\\u0395\\u03bb\\u03b2\\u03b5\\u03c4\\u03af\\u03b1\"], [\"\\u0395\\u03bb\\u03b2\\u03b5\\u03c4\\u03af\\u03b1\"], [\"\\u0395\\u03bb\\u03b2\\u03b5\\u03c4\\u03af\\u03b1\"]], \"hoverlabel\": {\"namelength\": 0}, \"hovertemplate\": \"\\u03a7\\u03ce\\u03c1\\u03b1=%{customdata[0]}<br>\\u0391\\u03c1\\u03b9\\u03b8\\u03bc\\u03cc\\u03c2 \\u039a\\u03c1\\u03bf\\u03c5\\u03c3\\u03bc\\u03ac\\u03c4\\u03c9\\u03bd=%{y}\", \"legendgroup\": \"\\u0395\\u03bb\\u03b2\\u03b5\\u03c4\\u03af\\u03b1\", \"line\": {\"color\": \"rgb(189,189,189)\", \"dash\": \"solid\", \"shape\": \"spline\"}, \"mode\": \"lines\", \"name\": \"\\u0395\\u03bb\\u03b2\\u03b5\\u03c4\\u03af\\u03b1\", \"showlegend\": true, \"type\": \"scatter\", \"xaxis\": \"x\", \"y\": [114, 214, 268, 337, 374, 491, 652, 652, 1139, 1359, 2200, 2200, 2700, 3028, 4075, 5294, 6575, 7474, 8795, 9877, 10897, 11811, 12928, 14076, 14829, 15922, 16605, 17768, 18827, 19606, 20505, 21100, 21657, 22253, 23280, 24051, 24551, 25107, 25415], \"yaxis\": \"y\"}, {\"customdata\": [[\"\\u03a4\\u03b1\\u03ca\\u03b2\\u03ac\\u03bd\"], [\"\\u03a4\\u03b1\\u03ca\\u03b2\\u03ac\\u03bd\"], [\"\\u03a4\\u03b1\\u03ca\\u03b2\\u03ac\\u03bd\"], [\"\\u03a4\\u03b1\\u03ca\\u03b2\\u03ac\\u03bd\"], [\"\\u03a4\\u03b1\\u03ca\\u03b2\\u03ac\\u03bd\"], [\"\\u03a4\\u03b1\\u03ca\\u03b2\\u03ac\\u03bd\"], [\"\\u03a4\\u03b1\\u03ca\\u03b2\\u03ac\\u03bd\"], [\"\\u03a4\\u03b1\\u03ca\\u03b2\\u03ac\\u03bd\"], [\"\\u03a4\\u03b1\\u03ca\\u03b2\\u03ac\\u03bd\"], [\"\\u03a4\\u03b1\\u03ca\\u03b2\\u03ac\\u03bd\"], [\"\\u03a4\\u03b1\\u03ca\\u03b2\\u03ac\\u03bd\"], [\"\\u03a4\\u03b1\\u03ca\\u03b2\\u03ac\\u03bd\"], [\"\\u03a4\\u03b1\\u03ca\\u03b2\\u03ac\\u03bd\"], [\"\\u03a4\\u03b1\\u03ca\\u03b2\\u03ac\\u03bd\"], [\"\\u03a4\\u03b1\\u03ca\\u03b2\\u03ac\\u03bd\"], [\"\\u03a4\\u03b1\\u03ca\\u03b2\\u03ac\\u03bd\"], [\"\\u03a4\\u03b1\\u03ca\\u03b2\\u03ac\\u03bd\"], [\"\\u03a4\\u03b1\\u03ca\\u03b2\\u03ac\\u03bd\"], [\"\\u03a4\\u03b1\\u03ca\\u03b2\\u03ac\\u03bd\"], [\"\\u03a4\\u03b1\\u03ca\\u03b2\\u03ac\\u03bd\"], [\"\\u03a4\\u03b1\\u03ca\\u03b2\\u03ac\\u03bd\"], [\"\\u03a4\\u03b1\\u03ca\\u03b2\\u03ac\\u03bd\"], [\"\\u03a4\\u03b1\\u03ca\\u03b2\\u03ac\\u03bd\"], [\"\\u03a4\\u03b1\\u03ca\\u03b2\\u03ac\\u03bd\"], [\"\\u03a4\\u03b1\\u03ca\\u03b2\\u03ac\\u03bd\"], [\"\\u03a4\\u03b1\\u03ca\\u03b2\\u03ac\\u03bd\"]], \"hoverlabel\": {\"namelength\": 0}, \"hovertemplate\": \"\\u03a7\\u03ce\\u03c1\\u03b1=%{customdata[0]}<br>\\u0391\\u03c1\\u03b9\\u03b8\\u03bc\\u03cc\\u03c2 \\u039a\\u03c1\\u03bf\\u03c5\\u03c3\\u03bc\\u03ac\\u03c4\\u03c9\\u03bd=%{y}\", \"legendgroup\": \"\\u03a4\\u03b1\\u03ca\\u03b2\\u03ac\\u03bd\", \"line\": {\"color\": \"rgb(189,189,189)\", \"dash\": \"solid\", \"shape\": \"spline\"}, \"mode\": \"lines\", \"name\": \"\\u03a4\\u03b1\\u03ca\\u03b2\\u03ac\\u03bd\", \"showlegend\": true, \"type\": \"scatter\", \"xaxis\": \"x\", \"y\": [100, 108, 135, 153, 169, 195, 215, 235, 252, 267, 283, 298, 306, 322, 329, 339, 348, 355, 363, 373, 376, 379, 380, 382, 385, 388], \"yaxis\": \"y\"}, {\"customdata\": [[\"\\u03a4\\u03b1\\u03ca\\u03bb\\u03ac\\u03bd\\u03b4\\u03b7\"], [\"\\u03a4\\u03b1\\u03ca\\u03bb\\u03ac\\u03bd\\u03b4\\u03b7\"], [\"\\u03a4\\u03b1\\u03ca\\u03bb\\u03ac\\u03bd\\u03b4\\u03b7\"], [\"\\u03a4\\u03b1\\u03ca\\u03bb\\u03ac\\u03bd\\u03b4\\u03b7\"], [\"\\u03a4\\u03b1\\u03ca\\u03bb\\u03ac\\u03bd\\u03b4\\u03b7\"], [\"\\u03a4\\u03b1\\u03ca\\u03bb\\u03ac\\u03bd\\u03b4\\u03b7\"], [\"\\u03a4\\u03b1\\u03ca\\u03bb\\u03ac\\u03bd\\u03b4\\u03b7\"], [\"\\u03a4\\u03b1\\u03ca\\u03bb\\u03ac\\u03bd\\u03b4\\u03b7\"], [\"\\u03a4\\u03b1\\u03ca\\u03bb\\u03ac\\u03bd\\u03b4\\u03b7\"], [\"\\u03a4\\u03b1\\u03ca\\u03bb\\u03ac\\u03bd\\u03b4\\u03b7\"], [\"\\u03a4\\u03b1\\u03ca\\u03bb\\u03ac\\u03bd\\u03b4\\u03b7\"], [\"\\u03a4\\u03b1\\u03ca\\u03bb\\u03ac\\u03bd\\u03b4\\u03b7\"], [\"\\u03a4\\u03b1\\u03ca\\u03bb\\u03ac\\u03bd\\u03b4\\u03b7\"], [\"\\u03a4\\u03b1\\u03ca\\u03bb\\u03ac\\u03bd\\u03b4\\u03b7\"], [\"\\u03a4\\u03b1\\u03ca\\u03bb\\u03ac\\u03bd\\u03b4\\u03b7\"], [\"\\u03a4\\u03b1\\u03ca\\u03bb\\u03ac\\u03bd\\u03b4\\u03b7\"], [\"\\u03a4\\u03b1\\u03ca\\u03bb\\u03ac\\u03bd\\u03b4\\u03b7\"], [\"\\u03a4\\u03b1\\u03ca\\u03bb\\u03ac\\u03bd\\u03b4\\u03b7\"], [\"\\u03a4\\u03b1\\u03ca\\u03bb\\u03ac\\u03bd\\u03b4\\u03b7\"], [\"\\u03a4\\u03b1\\u03ca\\u03bb\\u03ac\\u03bd\\u03b4\\u03b7\"], [\"\\u03a4\\u03b1\\u03ca\\u03bb\\u03ac\\u03bd\\u03b4\\u03b7\"], [\"\\u03a4\\u03b1\\u03ca\\u03bb\\u03ac\\u03bd\\u03b4\\u03b7\"], [\"\\u03a4\\u03b1\\u03ca\\u03bb\\u03ac\\u03bd\\u03b4\\u03b7\"], [\"\\u03a4\\u03b1\\u03ca\\u03bb\\u03ac\\u03bd\\u03b4\\u03b7\"], [\"\\u03a4\\u03b1\\u03ca\\u03bb\\u03ac\\u03bd\\u03b4\\u03b7\"], [\"\\u03a4\\u03b1\\u03ca\\u03bb\\u03ac\\u03bd\\u03b4\\u03b7\"], [\"\\u03a4\\u03b1\\u03ca\\u03bb\\u03ac\\u03bd\\u03b4\\u03b7\"], [\"\\u03a4\\u03b1\\u03ca\\u03bb\\u03ac\\u03bd\\u03b4\\u03b7\"], [\"\\u03a4\\u03b1\\u03ca\\u03bb\\u03ac\\u03bd\\u03b4\\u03b7\"]], \"hoverlabel\": {\"namelength\": 0}, \"hovertemplate\": \"\\u03a7\\u03ce\\u03c1\\u03b1=%{customdata[0]}<br>\\u0391\\u03c1\\u03b9\\u03b8\\u03bc\\u03cc\\u03c2 \\u039a\\u03c1\\u03bf\\u03c5\\u03c3\\u03bc\\u03ac\\u03c4\\u03c9\\u03bd=%{y}\", \"legendgroup\": \"\\u03a4\\u03b1\\u03ca\\u03bb\\u03ac\\u03bd\\u03b4\\u03b7\", \"line\": {\"color\": \"rgb(189,189,189)\", \"dash\": \"solid\", \"shape\": \"spline\"}, \"mode\": \"lines\", \"name\": \"\\u03a4\\u03b1\\u03ca\\u03bb\\u03ac\\u03bd\\u03b4\\u03b7\", \"showlegend\": true, \"type\": \"scatter\", \"xaxis\": \"x\", \"y\": [114, 147, 177, 212, 272, 322, 411, 599, 721, 827, 934, 1045, 1136, 1245, 1388, 1524, 1651, 1771, 1875, 1978, 2067, 2169, 2220, 2258, 2369, 2423, 2473, 2518, 2551], \"yaxis\": \"y\"}, {\"customdata\": [[\"\\u03a4\\u03c1\\u03b9\\u03bd\\u03b9\\u03bd\\u03c4\\u03ac\\u03bd\\u03c4 & \\u03a4\\u03bf\\u03bc\\u03c0\\u03ac\\u03b3\\u03ba\\u03bf\"], [\"\\u03a4\\u03c1\\u03b9\\u03bd\\u03b9\\u03bd\\u03c4\\u03ac\\u03bd\\u03c4 & \\u03a4\\u03bf\\u03bc\\u03c0\\u03ac\\u03b3\\u03ba\\u03bf\"], [\"\\u03a4\\u03c1\\u03b9\\u03bd\\u03b9\\u03bd\\u03c4\\u03ac\\u03bd\\u03c4 & \\u03a4\\u03bf\\u03bc\\u03c0\\u03ac\\u03b3\\u03ba\\u03bf\"], [\"\\u03a4\\u03c1\\u03b9\\u03bd\\u03b9\\u03bd\\u03c4\\u03ac\\u03bd\\u03c4 & \\u03a4\\u03bf\\u03bc\\u03c0\\u03ac\\u03b3\\u03ba\\u03bf\"], [\"\\u03a4\\u03c1\\u03b9\\u03bd\\u03b9\\u03bd\\u03c4\\u03ac\\u03bd\\u03c4 & \\u03a4\\u03bf\\u03bc\\u03c0\\u03ac\\u03b3\\u03ba\\u03bf\"], [\"\\u03a4\\u03c1\\u03b9\\u03bd\\u03b9\\u03bd\\u03c4\\u03ac\\u03bd\\u03c4 & \\u03a4\\u03bf\\u03bc\\u03c0\\u03ac\\u03b3\\u03ba\\u03bf\"], [\"\\u03a4\\u03c1\\u03b9\\u03bd\\u03b9\\u03bd\\u03c4\\u03ac\\u03bd\\u03c4 & \\u03a4\\u03bf\\u03bc\\u03c0\\u03ac\\u03b3\\u03ba\\u03bf\"], [\"\\u03a4\\u03c1\\u03b9\\u03bd\\u03b9\\u03bd\\u03c4\\u03ac\\u03bd\\u03c4 & \\u03a4\\u03bf\\u03bc\\u03c0\\u03ac\\u03b3\\u03ba\\u03bf\"], [\"\\u03a4\\u03c1\\u03b9\\u03bd\\u03b9\\u03bd\\u03c4\\u03ac\\u03bd\\u03c4 & \\u03a4\\u03bf\\u03bc\\u03c0\\u03ac\\u03b3\\u03ba\\u03bf\"]], \"hoverlabel\": {\"namelength\": 0}, \"hovertemplate\": \"\\u03a7\\u03ce\\u03c1\\u03b1=%{customdata[0]}<br>\\u0391\\u03c1\\u03b9\\u03b8\\u03bc\\u03cc\\u03c2 \\u039a\\u03c1\\u03bf\\u03c5\\u03c3\\u03bc\\u03ac\\u03c4\\u03c9\\u03bd=%{y}\", \"legendgroup\": \"\\u03a4\\u03c1\\u03b9\\u03bd\\u03b9\\u03bd\\u03c4\\u03ac\\u03bd\\u03c4 & \\u03a4\\u03bf\\u03bc\\u03c0\\u03ac\\u03b3\\u03ba\\u03bf\", \"line\": {\"color\": \"rgb(189,189,189)\", \"dash\": \"solid\", \"shape\": \"spline\"}, \"mode\": \"lines\", \"name\": \"\\u03a4\\u03c1\\u03b9\\u03bd\\u03b9\\u03bd\\u03c4\\u03ac\\u03bd\\u03c4 & \\u03a4\\u03bf\\u03bc\\u03c0\\u03ac\\u03b3\\u03ba\\u03bf\", \"showlegend\": true, \"type\": \"scatter\", \"xaxis\": \"x\", \"y\": [103, 104, 105, 107, 107, 109, 109, 112, 113], \"yaxis\": \"y\"}, {\"customdata\": [[\"\\u03a4\\u03c5\\u03bd\\u03b7\\u03c3\\u03af\\u03b1\"], [\"\\u03a4\\u03c5\\u03bd\\u03b7\\u03c3\\u03af\\u03b1\"], [\"\\u03a4\\u03c5\\u03bd\\u03b7\\u03c3\\u03af\\u03b1\"], [\"\\u03a4\\u03c5\\u03bd\\u03b7\\u03c3\\u03af\\u03b1\"], [\"\\u03a4\\u03c5\\u03bd\\u03b7\\u03c3\\u03af\\u03b1\"], [\"\\u03a4\\u03c5\\u03bd\\u03b7\\u03c3\\u03af\\u03b1\"], [\"\\u03a4\\u03c5\\u03bd\\u03b7\\u03c3\\u03af\\u03b1\"], [\"\\u03a4\\u03c5\\u03bd\\u03b7\\u03c3\\u03af\\u03b1\"], [\"\\u03a4\\u03c5\\u03bd\\u03b7\\u03c3\\u03af\\u03b1\"], [\"\\u03a4\\u03c5\\u03bd\\u03b7\\u03c3\\u03af\\u03b1\"], [\"\\u03a4\\u03c5\\u03bd\\u03b7\\u03c3\\u03af\\u03b1\"], [\"\\u03a4\\u03c5\\u03bd\\u03b7\\u03c3\\u03af\\u03b1\"], [\"\\u03a4\\u03c5\\u03bd\\u03b7\\u03c3\\u03af\\u03b1\"], [\"\\u03a4\\u03c5\\u03bd\\u03b7\\u03c3\\u03af\\u03b1\"], [\"\\u03a4\\u03c5\\u03bd\\u03b7\\u03c3\\u03af\\u03b1\"], [\"\\u03a4\\u03c5\\u03bd\\u03b7\\u03c3\\u03af\\u03b1\"], [\"\\u03a4\\u03c5\\u03bd\\u03b7\\u03c3\\u03af\\u03b1\"], [\"\\u03a4\\u03c5\\u03bd\\u03b7\\u03c3\\u03af\\u03b1\"], [\"\\u03a4\\u03c5\\u03bd\\u03b7\\u03c3\\u03af\\u03b1\"], [\"\\u03a4\\u03c5\\u03bd\\u03b7\\u03c3\\u03af\\u03b1\"]], \"hoverlabel\": {\"namelength\": 0}, \"hovertemplate\": \"\\u03a7\\u03ce\\u03c1\\u03b1=%{customdata[0]}<br>\\u0391\\u03c1\\u03b9\\u03b8\\u03bc\\u03cc\\u03c2 \\u039a\\u03c1\\u03bf\\u03c5\\u03c3\\u03bc\\u03ac\\u03c4\\u03c9\\u03bd=%{y}\", \"legendgroup\": \"\\u03a4\\u03c5\\u03bd\\u03b7\\u03c3\\u03af\\u03b1\", \"line\": {\"color\": \"rgb(189,189,189)\", \"dash\": \"solid\", \"shape\": \"spline\"}, \"mode\": \"lines\", \"name\": \"\\u03a4\\u03c5\\u03bd\\u03b7\\u03c3\\u03af\\u03b1\", \"showlegend\": true, \"type\": \"scatter\", \"xaxis\": \"x\", \"y\": [114, 173, 197, 227, 278, 312, 312, 394, 423, 455, 495, 553, 574, 596, 623, 628, 643, 671, 685, 707], \"yaxis\": \"y\"}, {\"customdata\": [[\"\\u03a4\\u03bf\\u03c5\\u03c1\\u03ba\\u03af\\u03b1\"], [\"\\u03a4\\u03bf\\u03c5\\u03c1\\u03ba\\u03af\\u03b1\"], [\"\\u03a4\\u03bf\\u03c5\\u03c1\\u03ba\\u03af\\u03b1\"], [\"\\u03a4\\u03bf\\u03c5\\u03c1\\u03ba\\u03af\\u03b1\"], [\"\\u03a4\\u03bf\\u03c5\\u03c1\\u03ba\\u03af\\u03b1\"], [\"\\u03a4\\u03bf\\u03c5\\u03c1\\u03ba\\u03af\\u03b1\"], [\"\\u03a4\\u03bf\\u03c5\\u03c1\\u03ba\\u03af\\u03b1\"], [\"\\u03a4\\u03bf\\u03c5\\u03c1\\u03ba\\u03af\\u03b1\"], [\"\\u03a4\\u03bf\\u03c5\\u03c1\\u03ba\\u03af\\u03b1\"], [\"\\u03a4\\u03bf\\u03c5\\u03c1\\u03ba\\u03af\\u03b1\"], [\"\\u03a4\\u03bf\\u03c5\\u03c1\\u03ba\\u03af\\u03b1\"], [\"\\u03a4\\u03bf\\u03c5\\u03c1\\u03ba\\u03af\\u03b1\"], [\"\\u03a4\\u03bf\\u03c5\\u03c1\\u03ba\\u03af\\u03b1\"], [\"\\u03a4\\u03bf\\u03c5\\u03c1\\u03ba\\u03af\\u03b1\"], [\"\\u03a4\\u03bf\\u03c5\\u03c1\\u03ba\\u03af\\u03b1\"], [\"\\u03a4\\u03bf\\u03c5\\u03c1\\u03ba\\u03af\\u03b1\"], [\"\\u03a4\\u03bf\\u03c5\\u03c1\\u03ba\\u03af\\u03b1\"], [\"\\u03a4\\u03bf\\u03c5\\u03c1\\u03ba\\u03af\\u03b1\"], [\"\\u03a4\\u03bf\\u03c5\\u03c1\\u03ba\\u03af\\u03b1\"], [\"\\u03a4\\u03bf\\u03c5\\u03c1\\u03ba\\u03af\\u03b1\"], [\"\\u03a4\\u03bf\\u03c5\\u03c1\\u03ba\\u03af\\u03b1\"], [\"\\u03a4\\u03bf\\u03c5\\u03c1\\u03ba\\u03af\\u03b1\"], [\"\\u03a4\\u03bf\\u03c5\\u03c1\\u03ba\\u03af\\u03b1\"], [\"\\u03a4\\u03bf\\u03c5\\u03c1\\u03ba\\u03af\\u03b1\"], [\"\\u03a4\\u03bf\\u03c5\\u03c1\\u03ba\\u03af\\u03b1\"]], \"hoverlabel\": {\"namelength\": 0}, \"hovertemplate\": \"\\u03a7\\u03ce\\u03c1\\u03b1=%{customdata[0]}<br>\\u0391\\u03c1\\u03b9\\u03b8\\u03bc\\u03cc\\u03c2 \\u039a\\u03c1\\u03bf\\u03c5\\u03c3\\u03bc\\u03ac\\u03c4\\u03c9\\u03bd=%{y}\", \"legendgroup\": \"\\u03a4\\u03bf\\u03c5\\u03c1\\u03ba\\u03af\\u03b1\", \"line\": {\"color\": \"rgb(189,189,189)\", \"dash\": \"solid\", \"shape\": \"spline\"}, \"mode\": \"lines\", \"name\": \"\\u03a4\\u03bf\\u03c5\\u03c1\\u03ba\\u03af\\u03b1\", \"showlegend\": true, \"type\": \"scatter\", \"xaxis\": \"x\", \"y\": [192, 359, 670, 1236, 1529, 1872, 2433, 3629, 5698, 7402, 9217, 10827, 13531, 15679, 18135, 20921, 23934, 27069, 30217, 34109, 38226, 42282, 47029, 52167, 56956], \"yaxis\": \"y\"}, {\"customdata\": [[\"\\u039f\\u03c5\\u03ba\\u03c1\\u03b1\\u03bd\\u03af\\u03b1\"], [\"\\u039f\\u03c5\\u03ba\\u03c1\\u03b1\\u03bd\\u03af\\u03b1\"], [\"\\u039f\\u03c5\\u03ba\\u03c1\\u03b1\\u03bd\\u03af\\u03b1\"], [\"\\u039f\\u03c5\\u03ba\\u03c1\\u03b1\\u03bd\\u03af\\u03b1\"], [\"\\u039f\\u03c5\\u03ba\\u03c1\\u03b1\\u03bd\\u03af\\u03b1\"], [\"\\u039f\\u03c5\\u03ba\\u03c1\\u03b1\\u03bd\\u03af\\u03b1\"], [\"\\u039f\\u03c5\\u03ba\\u03c1\\u03b1\\u03bd\\u03af\\u03b1\"], [\"\\u039f\\u03c5\\u03ba\\u03c1\\u03b1\\u03bd\\u03af\\u03b1\"], [\"\\u039f\\u03c5\\u03ba\\u03c1\\u03b1\\u03bd\\u03af\\u03b1\"], [\"\\u039f\\u03c5\\u03ba\\u03c1\\u03b1\\u03bd\\u03af\\u03b1\"], [\"\\u039f\\u03c5\\u03ba\\u03c1\\u03b1\\u03bd\\u03af\\u03b1\"], [\"\\u039f\\u03c5\\u03ba\\u03c1\\u03b1\\u03bd\\u03af\\u03b1\"], [\"\\u039f\\u03c5\\u03ba\\u03c1\\u03b1\\u03bd\\u03af\\u03b1\"], [\"\\u039f\\u03c5\\u03ba\\u03c1\\u03b1\\u03bd\\u03af\\u03b1\"], [\"\\u039f\\u03c5\\u03ba\\u03c1\\u03b1\\u03bd\\u03af\\u03b1\"], [\"\\u039f\\u03c5\\u03ba\\u03c1\\u03b1\\u03bd\\u03af\\u03b1\"], [\"\\u039f\\u03c5\\u03ba\\u03c1\\u03b1\\u03bd\\u03af\\u03b1\"], [\"\\u039f\\u03c5\\u03ba\\u03c1\\u03b1\\u03bd\\u03af\\u03b1\"], [\"\\u039f\\u03c5\\u03ba\\u03c1\\u03b1\\u03bd\\u03af\\u03b1\"]], \"hoverlabel\": {\"namelength\": 0}, \"hovertemplate\": \"\\u03a7\\u03ce\\u03c1\\u03b1=%{customdata[0]}<br>\\u0391\\u03c1\\u03b9\\u03b8\\u03bc\\u03cc\\u03c2 \\u039a\\u03c1\\u03bf\\u03c5\\u03c3\\u03bc\\u03ac\\u03c4\\u03c9\\u03bd=%{y}\", \"legendgroup\": \"\\u039f\\u03c5\\u03ba\\u03c1\\u03b1\\u03bd\\u03af\\u03b1\", \"line\": {\"color\": \"rgb(189,189,189)\", \"dash\": \"solid\", \"shape\": \"spline\"}, \"mode\": \"lines\", \"name\": \"\\u039f\\u03c5\\u03ba\\u03c1\\u03b1\\u03bd\\u03af\\u03b1\", \"showlegend\": true, \"type\": \"scatter\", \"xaxis\": \"x\", \"y\": [145, 196, 310, 356, 475, 548, 645, 794, 897, 1072, 1225, 1308, 1319, 1462, 1668, 1892, 2203, 2511, 2777], \"yaxis\": \"y\"}, {\"customdata\": [[\"\\u0397\\u03bd. \\u0391\\u03c1\\u03b1\\u03b2\\u03b9\\u03ba\\u03ac \\u0395\\u03bc\\u03b9\\u03c1\\u03ac\\u03c4\\u03b1\"], [\"\\u0397\\u03bd. \\u0391\\u03c1\\u03b1\\u03b2\\u03b9\\u03ba\\u03ac \\u0395\\u03bc\\u03b9\\u03c1\\u03ac\\u03c4\\u03b1\"], [\"\\u0397\\u03bd. \\u0391\\u03c1\\u03b1\\u03b2\\u03b9\\u03ba\\u03ac \\u0395\\u03bc\\u03b9\\u03c1\\u03ac\\u03c4\\u03b1\"], [\"\\u0397\\u03bd. \\u0391\\u03c1\\u03b1\\u03b2\\u03b9\\u03ba\\u03ac \\u0395\\u03bc\\u03b9\\u03c1\\u03ac\\u03c4\\u03b1\"], [\"\\u0397\\u03bd. \\u0391\\u03c1\\u03b1\\u03b2\\u03b9\\u03ba\\u03ac \\u0395\\u03bc\\u03b9\\u03c1\\u03ac\\u03c4\\u03b1\"], [\"\\u0397\\u03bd. \\u0391\\u03c1\\u03b1\\u03b2\\u03b9\\u03ba\\u03ac \\u0395\\u03bc\\u03b9\\u03c1\\u03ac\\u03c4\\u03b1\"], [\"\\u0397\\u03bd. \\u0391\\u03c1\\u03b1\\u03b2\\u03b9\\u03ba\\u03ac \\u0395\\u03bc\\u03b9\\u03c1\\u03ac\\u03c4\\u03b1\"], [\"\\u0397\\u03bd. \\u0391\\u03c1\\u03b1\\u03b2\\u03b9\\u03ba\\u03ac \\u0395\\u03bc\\u03b9\\u03c1\\u03ac\\u03c4\\u03b1\"], [\"\\u0397\\u03bd. \\u0391\\u03c1\\u03b1\\u03b2\\u03b9\\u03ba\\u03ac \\u0395\\u03bc\\u03b9\\u03c1\\u03ac\\u03c4\\u03b1\"], [\"\\u0397\\u03bd. \\u0391\\u03c1\\u03b1\\u03b2\\u03b9\\u03ba\\u03ac \\u0395\\u03bc\\u03b9\\u03c1\\u03ac\\u03c4\\u03b1\"], [\"\\u0397\\u03bd. \\u0391\\u03c1\\u03b1\\u03b2\\u03b9\\u03ba\\u03ac \\u0395\\u03bc\\u03b9\\u03c1\\u03ac\\u03c4\\u03b1\"], [\"\\u0397\\u03bd. \\u0391\\u03c1\\u03b1\\u03b2\\u03b9\\u03ba\\u03ac \\u0395\\u03bc\\u03b9\\u03c1\\u03ac\\u03c4\\u03b1\"], [\"\\u0397\\u03bd. \\u0391\\u03c1\\u03b1\\u03b2\\u03b9\\u03ba\\u03ac \\u0395\\u03bc\\u03b9\\u03c1\\u03ac\\u03c4\\u03b1\"], [\"\\u0397\\u03bd. \\u0391\\u03c1\\u03b1\\u03b2\\u03b9\\u03ba\\u03ac \\u0395\\u03bc\\u03b9\\u03c1\\u03ac\\u03c4\\u03b1\"], [\"\\u0397\\u03bd. \\u0391\\u03c1\\u03b1\\u03b2\\u03b9\\u03ba\\u03ac \\u0395\\u03bc\\u03b9\\u03c1\\u03ac\\u03c4\\u03b1\"], [\"\\u0397\\u03bd. \\u0391\\u03c1\\u03b1\\u03b2\\u03b9\\u03ba\\u03ac \\u0395\\u03bc\\u03b9\\u03c1\\u03ac\\u03c4\\u03b1\"], [\"\\u0397\\u03bd. \\u0391\\u03c1\\u03b1\\u03b2\\u03b9\\u03ba\\u03ac \\u0395\\u03bc\\u03b9\\u03c1\\u03ac\\u03c4\\u03b1\"], [\"\\u0397\\u03bd. \\u0391\\u03c1\\u03b1\\u03b2\\u03b9\\u03ba\\u03ac \\u0395\\u03bc\\u03b9\\u03c1\\u03ac\\u03c4\\u03b1\"], [\"\\u0397\\u03bd. \\u0391\\u03c1\\u03b1\\u03b2\\u03b9\\u03ba\\u03ac \\u0395\\u03bc\\u03b9\\u03c1\\u03ac\\u03c4\\u03b1\"], [\"\\u0397\\u03bd. \\u0391\\u03c1\\u03b1\\u03b2\\u03b9\\u03ba\\u03ac \\u0395\\u03bc\\u03b9\\u03c1\\u03ac\\u03c4\\u03b1\"], [\"\\u0397\\u03bd. \\u0391\\u03c1\\u03b1\\u03b2\\u03b9\\u03ba\\u03ac \\u0395\\u03bc\\u03b9\\u03c1\\u03ac\\u03c4\\u03b1\"], [\"\\u0397\\u03bd. \\u0391\\u03c1\\u03b1\\u03b2\\u03b9\\u03ba\\u03ac \\u0395\\u03bc\\u03b9\\u03c1\\u03ac\\u03c4\\u03b1\"], [\"\\u0397\\u03bd. \\u0391\\u03c1\\u03b1\\u03b2\\u03b9\\u03ba\\u03ac \\u0395\\u03bc\\u03b9\\u03c1\\u03ac\\u03c4\\u03b1\"], [\"\\u0397\\u03bd. \\u0391\\u03c1\\u03b1\\u03b2\\u03b9\\u03ba\\u03ac \\u0395\\u03bc\\u03b9\\u03c1\\u03ac\\u03c4\\u03b1\"], [\"\\u0397\\u03bd. \\u0391\\u03c1\\u03b1\\u03b2\\u03b9\\u03ba\\u03ac \\u0395\\u03bc\\u03b9\\u03c1\\u03ac\\u03c4\\u03b1\"], [\"\\u0397\\u03bd. \\u0391\\u03c1\\u03b1\\u03b2\\u03b9\\u03ba\\u03ac \\u0395\\u03bc\\u03b9\\u03c1\\u03ac\\u03c4\\u03b1\"]], \"hoverlabel\": {\"namelength\": 0}, \"hovertemplate\": \"\\u03a7\\u03ce\\u03c1\\u03b1=%{customdata[0]}<br>\\u0391\\u03c1\\u03b9\\u03b8\\u03bc\\u03cc\\u03c2 \\u039a\\u03c1\\u03bf\\u03c5\\u03c3\\u03bc\\u03ac\\u03c4\\u03c9\\u03bd=%{y}\", \"legendgroup\": \"\\u0397\\u03bd. \\u0391\\u03c1\\u03b1\\u03b2\\u03b9\\u03ba\\u03ac \\u0395\\u03bc\\u03b9\\u03c1\\u03ac\\u03c4\\u03b1\", \"line\": {\"color\": \"rgb(189,189,189)\", \"dash\": \"solid\", \"shape\": \"spline\"}, \"mode\": \"lines\", \"name\": \"\\u0397\\u03bd. \\u0391\\u03c1\\u03b1\\u03b2\\u03b9\\u03ba\\u03ac \\u0395\\u03bc\\u03b9\\u03c1\\u03ac\\u03c4\\u03b1\", \"showlegend\": true, \"type\": \"scatter\", \"xaxis\": \"x\", \"y\": [113, 140, 140, 153, 153, 198, 248, 333, 333, 405, 468, 570, 611, 664, 814, 1024, 1264, 1505, 1799, 2076, 2359, 2659, 2990, 3360, 3736, 4123], \"yaxis\": \"y\"}, {\"customdata\": [[\"\\u039f\\u03c5\\u03c1\\u03bf\\u03c5\\u03b3\\u03bf\\u03c5\\u03ac\\u03b7\"], [\"\\u039f\\u03c5\\u03c1\\u03bf\\u03c5\\u03b3\\u03bf\\u03c5\\u03ac\\u03b7\"], [\"\\u039f\\u03c5\\u03c1\\u03bf\\u03c5\\u03b3\\u03bf\\u03c5\\u03ac\\u03b7\"], [\"\\u039f\\u03c5\\u03c1\\u03bf\\u03c5\\u03b3\\u03bf\\u03c5\\u03ac\\u03b7\"], [\"\\u039f\\u03c5\\u03c1\\u03bf\\u03c5\\u03b3\\u03bf\\u03c5\\u03ac\\u03b7\"], [\"\\u039f\\u03c5\\u03c1\\u03bf\\u03c5\\u03b3\\u03bf\\u03c5\\u03ac\\u03b7\"], [\"\\u039f\\u03c5\\u03c1\\u03bf\\u03c5\\u03b3\\u03bf\\u03c5\\u03ac\\u03b7\"], [\"\\u039f\\u03c5\\u03c1\\u03bf\\u03c5\\u03b3\\u03bf\\u03c5\\u03ac\\u03b7\"], [\"\\u039f\\u03c5\\u03c1\\u03bf\\u03c5\\u03b3\\u03bf\\u03c5\\u03ac\\u03b7\"], [\"\\u039f\\u03c5\\u03c1\\u03bf\\u03c5\\u03b3\\u03bf\\u03c5\\u03ac\\u03b7\"], [\"\\u039f\\u03c5\\u03c1\\u03bf\\u03c5\\u03b3\\u03bf\\u03c5\\u03ac\\u03b7\"], [\"\\u039f\\u03c5\\u03c1\\u03bf\\u03c5\\u03b3\\u03bf\\u03c5\\u03ac\\u03b7\"], [\"\\u039f\\u03c5\\u03c1\\u03bf\\u03c5\\u03b3\\u03bf\\u03c5\\u03ac\\u03b7\"], [\"\\u039f\\u03c5\\u03c1\\u03bf\\u03c5\\u03b3\\u03bf\\u03c5\\u03ac\\u03b7\"], [\"\\u039f\\u03c5\\u03c1\\u03bf\\u03c5\\u03b3\\u03bf\\u03c5\\u03ac\\u03b7\"], [\"\\u039f\\u03c5\\u03c1\\u03bf\\u03c5\\u03b3\\u03bf\\u03c5\\u03ac\\u03b7\"], [\"\\u039f\\u03c5\\u03c1\\u03bf\\u03c5\\u03b3\\u03bf\\u03c5\\u03ac\\u03b7\"], [\"\\u039f\\u03c5\\u03c1\\u03bf\\u03c5\\u03b3\\u03bf\\u03c5\\u03ac\\u03b7\"], [\"\\u039f\\u03c5\\u03c1\\u03bf\\u03c5\\u03b3\\u03bf\\u03c5\\u03ac\\u03b7\"], [\"\\u039f\\u03c5\\u03c1\\u03bf\\u03c5\\u03b3\\u03bf\\u03c5\\u03ac\\u03b7\"], [\"\\u039f\\u03c5\\u03c1\\u03bf\\u03c5\\u03b3\\u03bf\\u03c5\\u03ac\\u03b7\"], [\"\\u039f\\u03c5\\u03c1\\u03bf\\u03c5\\u03b3\\u03bf\\u03c5\\u03ac\\u03b7\"], [\"\\u039f\\u03c5\\u03c1\\u03bf\\u03c5\\u03b3\\u03bf\\u03c5\\u03ac\\u03b7\"]], \"hoverlabel\": {\"namelength\": 0}, \"hovertemplate\": \"\\u03a7\\u03ce\\u03c1\\u03b1=%{customdata[0]}<br>\\u0391\\u03c1\\u03b9\\u03b8\\u03bc\\u03cc\\u03c2 \\u039a\\u03c1\\u03bf\\u03c5\\u03c3\\u03bc\\u03ac\\u03c4\\u03c9\\u03bd=%{y}\", \"legendgroup\": \"\\u039f\\u03c5\\u03c1\\u03bf\\u03c5\\u03b3\\u03bf\\u03c5\\u03ac\\u03b7\", \"line\": {\"color\": \"rgb(189,189,189)\", \"dash\": \"solid\", \"shape\": \"spline\"}, \"mode\": \"lines\", \"name\": \"\\u039f\\u03c5\\u03c1\\u03bf\\u03c5\\u03b3\\u03bf\\u03c5\\u03ac\\u03b7\", \"showlegend\": true, \"type\": \"scatter\", \"xaxis\": \"x\", \"y\": [110, 158, 162, 162, 189, 217, 238, 274, 304, 310, 338, 338, 350, 369, 400, 400, 406, 424, 424, 456, 473, 494, 480], \"yaxis\": \"y\"}, {\"customdata\": [[\"\\u039f\\u03c5\\u03b6\\u03bc\\u03c0\\u03b5\\u03ba\\u03b9\\u03c3\\u03c4\\u03ac\\u03bd\"], [\"\\u039f\\u03c5\\u03b6\\u03bc\\u03c0\\u03b5\\u03ba\\u03b9\\u03c3\\u03c4\\u03ac\\u03bd\"], [\"\\u039f\\u03c5\\u03b6\\u03bc\\u03c0\\u03b5\\u03ba\\u03b9\\u03c3\\u03c4\\u03ac\\u03bd\"], [\"\\u039f\\u03c5\\u03b6\\u03bc\\u03c0\\u03b5\\u03ba\\u03b9\\u03c3\\u03c4\\u03ac\\u03bd\"], [\"\\u039f\\u03c5\\u03b6\\u03bc\\u03c0\\u03b5\\u03ba\\u03b9\\u03c3\\u03c4\\u03ac\\u03bd\"], [\"\\u039f\\u03c5\\u03b6\\u03bc\\u03c0\\u03b5\\u03ba\\u03b9\\u03c3\\u03c4\\u03ac\\u03bd\"], [\"\\u039f\\u03c5\\u03b6\\u03bc\\u03c0\\u03b5\\u03ba\\u03b9\\u03c3\\u03c4\\u03ac\\u03bd\"], [\"\\u039f\\u03c5\\u03b6\\u03bc\\u03c0\\u03b5\\u03ba\\u03b9\\u03c3\\u03c4\\u03ac\\u03bd\"], [\"\\u039f\\u03c5\\u03b6\\u03bc\\u03c0\\u03b5\\u03ba\\u03b9\\u03c3\\u03c4\\u03ac\\u03bd\"], [\"\\u039f\\u03c5\\u03b6\\u03bc\\u03c0\\u03b5\\u03ba\\u03b9\\u03c3\\u03c4\\u03ac\\u03bd\"], [\"\\u039f\\u03c5\\u03b6\\u03bc\\u03c0\\u03b5\\u03ba\\u03b9\\u03c3\\u03c4\\u03ac\\u03bd\"], [\"\\u039f\\u03c5\\u03b6\\u03bc\\u03c0\\u03b5\\u03ba\\u03b9\\u03c3\\u03c4\\u03ac\\u03bd\"], [\"\\u039f\\u03c5\\u03b6\\u03bc\\u03c0\\u03b5\\u03ba\\u03b9\\u03c3\\u03c4\\u03ac\\u03bd\"], [\"\\u039f\\u03c5\\u03b6\\u03bc\\u03c0\\u03b5\\u03ba\\u03b9\\u03c3\\u03c4\\u03ac\\u03bd\"], [\"\\u039f\\u03c5\\u03b6\\u03bc\\u03c0\\u03b5\\u03ba\\u03b9\\u03c3\\u03c4\\u03ac\\u03bd\"], [\"\\u039f\\u03c5\\u03b6\\u03bc\\u03c0\\u03b5\\u03ba\\u03b9\\u03c3\\u03c4\\u03ac\\u03bd\"]], \"hoverlabel\": {\"namelength\": 0}, \"hovertemplate\": \"\\u03a7\\u03ce\\u03c1\\u03b1=%{customdata[0]}<br>\\u0391\\u03c1\\u03b9\\u03b8\\u03bc\\u03cc\\u03c2 \\u039a\\u03c1\\u03bf\\u03c5\\u03c3\\u03bc\\u03ac\\u03c4\\u03c9\\u03bd=%{y}\", \"legendgroup\": \"\\u039f\\u03c5\\u03b6\\u03bc\\u03c0\\u03b5\\u03ba\\u03b9\\u03c3\\u03c4\\u03ac\\u03bd\", \"line\": {\"color\": \"rgb(189,189,189)\", \"dash\": \"solid\", \"shape\": \"spline\"}, \"mode\": \"lines\", \"name\": \"\\u039f\\u03c5\\u03b6\\u03bc\\u03c0\\u03b5\\u03ba\\u03b9\\u03c3\\u03c4\\u03ac\\u03bd\", \"showlegend\": true, \"type\": \"scatter\", \"xaxis\": \"x\", \"y\": [104, 144, 149, 172, 181, 205, 227, 266, 342, 457, 520, 545, 582, 624, 767, 865], \"yaxis\": \"y\"}, {\"customdata\": [[\"\\u0392\\u03b5\\u03bd\\u03b5\\u03b6\\u03bf\\u03c5\\u03ad\\u03bb\\u03b1\"], [\"\\u0392\\u03b5\\u03bd\\u03b5\\u03b6\\u03bf\\u03c5\\u03ad\\u03bb\\u03b1\"], [\"\\u0392\\u03b5\\u03bd\\u03b5\\u03b6\\u03bf\\u03c5\\u03ad\\u03bb\\u03b1\"], [\"\\u0392\\u03b5\\u03bd\\u03b5\\u03b6\\u03bf\\u03c5\\u03ad\\u03bb\\u03b1\"], [\"\\u0392\\u03b5\\u03bd\\u03b5\\u03b6\\u03bf\\u03c5\\u03ad\\u03bb\\u03b1\"], [\"\\u0392\\u03b5\\u03bd\\u03b5\\u03b6\\u03bf\\u03c5\\u03ad\\u03bb\\u03b1\"], [\"\\u0392\\u03b5\\u03bd\\u03b5\\u03b6\\u03bf\\u03c5\\u03ad\\u03bb\\u03b1\"], [\"\\u0392\\u03b5\\u03bd\\u03b5\\u03b6\\u03bf\\u03c5\\u03ad\\u03bb\\u03b1\"], [\"\\u0392\\u03b5\\u03bd\\u03b5\\u03b6\\u03bf\\u03c5\\u03ad\\u03bb\\u03b1\"], [\"\\u0392\\u03b5\\u03bd\\u03b5\\u03b6\\u03bf\\u03c5\\u03ad\\u03bb\\u03b1\"], [\"\\u0392\\u03b5\\u03bd\\u03b5\\u03b6\\u03bf\\u03c5\\u03ad\\u03bb\\u03b1\"], [\"\\u0392\\u03b5\\u03bd\\u03b5\\u03b6\\u03bf\\u03c5\\u03ad\\u03bb\\u03b1\"], [\"\\u0392\\u03b5\\u03bd\\u03b5\\u03b6\\u03bf\\u03c5\\u03ad\\u03bb\\u03b1\"], [\"\\u0392\\u03b5\\u03bd\\u03b5\\u03b6\\u03bf\\u03c5\\u03ad\\u03bb\\u03b1\"], [\"\\u0392\\u03b5\\u03bd\\u03b5\\u03b6\\u03bf\\u03c5\\u03ad\\u03bb\\u03b1\"], [\"\\u0392\\u03b5\\u03bd\\u03b5\\u03b6\\u03bf\\u03c5\\u03ad\\u03bb\\u03b1\"], [\"\\u0392\\u03b5\\u03bd\\u03b5\\u03b6\\u03bf\\u03c5\\u03ad\\u03bb\\u03b1\"], [\"\\u0392\\u03b5\\u03bd\\u03b5\\u03b6\\u03bf\\u03c5\\u03ad\\u03bb\\u03b1\"]], \"hoverlabel\": {\"namelength\": 0}, \"hovertemplate\": \"\\u03a7\\u03ce\\u03c1\\u03b1=%{customdata[0]}<br>\\u0391\\u03c1\\u03b9\\u03b8\\u03bc\\u03cc\\u03c2 \\u039a\\u03c1\\u03bf\\u03c5\\u03c3\\u03bc\\u03ac\\u03c4\\u03c9\\u03bd=%{y}\", \"legendgroup\": \"\\u0392\\u03b5\\u03bd\\u03b5\\u03b6\\u03bf\\u03c5\\u03ad\\u03bb\\u03b1\", \"line\": {\"color\": \"rgb(189,189,189)\", \"dash\": \"solid\", \"shape\": \"spline\"}, \"mode\": \"lines\", \"name\": \"\\u0392\\u03b5\\u03bd\\u03b5\\u03b6\\u03bf\\u03c5\\u03ad\\u03bb\\u03b1\", \"showlegend\": true, \"type\": \"scatter\", \"xaxis\": \"x\", \"y\": [107, 107, 119, 119, 135, 135, 143, 146, 153, 155, 159, 165, 165, 167, 171, 171, 175, 181], \"yaxis\": \"y\"}, {\"customdata\": [[\"\\u0392\\u03b9\\u03b5\\u03c4\\u03bd\\u03ac\\u03bc\"], [\"\\u0392\\u03b9\\u03b5\\u03c4\\u03bd\\u03ac\\u03bc\"], [\"\\u0392\\u03b9\\u03b5\\u03c4\\u03bd\\u03ac\\u03bc\"], [\"\\u0392\\u03b9\\u03b5\\u03c4\\u03bd\\u03ac\\u03bc\"], [\"\\u0392\\u03b9\\u03b5\\u03c4\\u03bd\\u03ac\\u03bc\"], [\"\\u0392\\u03b9\\u03b5\\u03c4\\u03bd\\u03ac\\u03bc\"], [\"\\u0392\\u03b9\\u03b5\\u03c4\\u03bd\\u03ac\\u03bc\"], [\"\\u0392\\u03b9\\u03b5\\u03c4\\u03bd\\u03ac\\u03bc\"], [\"\\u0392\\u03b9\\u03b5\\u03c4\\u03bd\\u03ac\\u03bc\"], [\"\\u0392\\u03b9\\u03b5\\u03c4\\u03bd\\u03ac\\u03bc\"], [\"\\u0392\\u03b9\\u03b5\\u03c4\\u03bd\\u03ac\\u03bc\"], [\"\\u0392\\u03b9\\u03b5\\u03c4\\u03bd\\u03ac\\u03bc\"], [\"\\u0392\\u03b9\\u03b5\\u03c4\\u03bd\\u03ac\\u03bc\"], [\"\\u0392\\u03b9\\u03b5\\u03c4\\u03bd\\u03ac\\u03bc\"], [\"\\u0392\\u03b9\\u03b5\\u03c4\\u03bd\\u03ac\\u03bc\"], [\"\\u0392\\u03b9\\u03b5\\u03c4\\u03bd\\u03ac\\u03bc\"], [\"\\u0392\\u03b9\\u03b5\\u03c4\\u03bd\\u03ac\\u03bc\"], [\"\\u0392\\u03b9\\u03b5\\u03c4\\u03bd\\u03ac\\u03bc\"], [\"\\u0392\\u03b9\\u03b5\\u03c4\\u03bd\\u03ac\\u03bc\"], [\"\\u0392\\u03b9\\u03b5\\u03c4\\u03bd\\u03ac\\u03bc\"], [\"\\u0392\\u03b9\\u03b5\\u03c4\\u03bd\\u03ac\\u03bc\"], [\"\\u0392\\u03b9\\u03b5\\u03c4\\u03bd\\u03ac\\u03bc\"]], \"hoverlabel\": {\"namelength\": 0}, \"hovertemplate\": \"\\u03a7\\u03ce\\u03c1\\u03b1=%{customdata[0]}<br>\\u0391\\u03c1\\u03b9\\u03b8\\u03bc\\u03cc\\u03c2 \\u039a\\u03c1\\u03bf\\u03c5\\u03c3\\u03bc\\u03ac\\u03c4\\u03c9\\u03bd=%{y}\", \"legendgroup\": \"\\u0392\\u03b9\\u03b5\\u03c4\\u03bd\\u03ac\\u03bc\", \"line\": {\"color\": \"rgb(189,189,189)\", \"dash\": \"solid\", \"shape\": \"spline\"}, \"mode\": \"lines\", \"name\": \"\\u0392\\u03b9\\u03b5\\u03c4\\u03bd\\u03ac\\u03bc\", \"showlegend\": true, \"type\": \"scatter\", \"xaxis\": \"x\", \"y\": [113, 123, 134, 141, 153, 163, 174, 188, 203, 212, 218, 233, 237, 240, 241, 245, 249, 251, 255, 257, 258, 262], \"yaxis\": \"y\"}, {\"customdata\": [[\"\\u0394\\u03c5\\u03c4\\u03b9\\u03ba\\u03ae \\u038c\\u03c7\\u03b8\\u03b7 \\u03ba\\u03b1\\u03b9 \\u0393\\u03ac\\u03b6\\u03b1\"], [\"\\u0394\\u03c5\\u03c4\\u03b9\\u03ba\\u03ae \\u038c\\u03c7\\u03b8\\u03b7 \\u03ba\\u03b1\\u03b9 \\u0393\\u03ac\\u03b6\\u03b1\"], [\"\\u0394\\u03c5\\u03c4\\u03b9\\u03ba\\u03ae \\u038c\\u03c7\\u03b8\\u03b7 \\u03ba\\u03b1\\u03b9 \\u0393\\u03ac\\u03b6\\u03b1\"], [\"\\u0394\\u03c5\\u03c4\\u03b9\\u03ba\\u03ae \\u038c\\u03c7\\u03b8\\u03b7 \\u03ba\\u03b1\\u03b9 \\u0393\\u03ac\\u03b6\\u03b1\"], [\"\\u0394\\u03c5\\u03c4\\u03b9\\u03ba\\u03ae \\u038c\\u03c7\\u03b8\\u03b7 \\u03ba\\u03b1\\u03b9 \\u0393\\u03ac\\u03b6\\u03b1\"], [\"\\u0394\\u03c5\\u03c4\\u03b9\\u03ba\\u03ae \\u038c\\u03c7\\u03b8\\u03b7 \\u03ba\\u03b1\\u03b9 \\u0393\\u03ac\\u03b6\\u03b1\"], [\"\\u0394\\u03c5\\u03c4\\u03b9\\u03ba\\u03ae \\u038c\\u03c7\\u03b8\\u03b7 \\u03ba\\u03b1\\u03b9 \\u0393\\u03ac\\u03b6\\u03b1\"], [\"\\u0394\\u03c5\\u03c4\\u03b9\\u03ba\\u03ae \\u038c\\u03c7\\u03b8\\u03b7 \\u03ba\\u03b1\\u03b9 \\u0393\\u03ac\\u03b6\\u03b1\"], [\"\\u0394\\u03c5\\u03c4\\u03b9\\u03ba\\u03ae \\u038c\\u03c7\\u03b8\\u03b7 \\u03ba\\u03b1\\u03b9 \\u0393\\u03ac\\u03b6\\u03b1\"], [\"\\u0394\\u03c5\\u03c4\\u03b9\\u03ba\\u03ae \\u038c\\u03c7\\u03b8\\u03b7 \\u03ba\\u03b1\\u03b9 \\u0393\\u03ac\\u03b6\\u03b1\"], [\"\\u0394\\u03c5\\u03c4\\u03b9\\u03ba\\u03ae \\u038c\\u03c7\\u03b8\\u03b7 \\u03ba\\u03b1\\u03b9 \\u0393\\u03ac\\u03b6\\u03b1\"], [\"\\u0394\\u03c5\\u03c4\\u03b9\\u03ba\\u03ae \\u038c\\u03c7\\u03b8\\u03b7 \\u03ba\\u03b1\\u03b9 \\u0393\\u03ac\\u03b6\\u03b1\"], [\"\\u0394\\u03c5\\u03c4\\u03b9\\u03ba\\u03ae \\u038c\\u03c7\\u03b8\\u03b7 \\u03ba\\u03b1\\u03b9 \\u0393\\u03ac\\u03b6\\u03b1\"], [\"\\u0394\\u03c5\\u03c4\\u03b9\\u03ba\\u03ae \\u038c\\u03c7\\u03b8\\u03b7 \\u03ba\\u03b1\\u03b9 \\u0393\\u03ac\\u03b6\\u03b1\"], [\"\\u0394\\u03c5\\u03c4\\u03b9\\u03ba\\u03ae \\u038c\\u03c7\\u03b8\\u03b7 \\u03ba\\u03b1\\u03b9 \\u0393\\u03ac\\u03b6\\u03b1\"]], \"hoverlabel\": {\"namelength\": 0}, \"hovertemplate\": \"\\u03a7\\u03ce\\u03c1\\u03b1=%{customdata[0]}<br>\\u0391\\u03c1\\u03b9\\u03b8\\u03bc\\u03cc\\u03c2 \\u039a\\u03c1\\u03bf\\u03c5\\u03c3\\u03bc\\u03ac\\u03c4\\u03c9\\u03bd=%{y}\", \"legendgroup\": \"\\u0394\\u03c5\\u03c4\\u03b9\\u03ba\\u03ae \\u038c\\u03c7\\u03b8\\u03b7 \\u03ba\\u03b1\\u03b9 \\u0393\\u03ac\\u03b6\\u03b1\", \"line\": {\"color\": \"rgb(189,189,189)\", \"dash\": \"solid\", \"shape\": \"spline\"}, \"mode\": \"lines\", \"name\": \"\\u0394\\u03c5\\u03c4\\u03b9\\u03ba\\u03ae \\u038c\\u03c7\\u03b8\\u03b7 \\u03ba\\u03b1\\u03b9 \\u0393\\u03ac\\u03b6\\u03b1\", \"showlegend\": true, \"type\": \"scatter\", \"xaxis\": \"x\", \"y\": [109, 116, 119, 134, 161, 194, 217, 237, 254, 261, 263, 263, 267, 268, 290], \"yaxis\": \"y\"}, {\"hovertemplate\": \"<b>%{y:.f}</b> \\u03ba\\u03c1\\u03bf\\u03cd\\u03c3\\u03bc\\u03b1\\u03c4\\u03b1 \\u03c3\\u03c4\\u03b7\\u03bd \\u0393\\u03b5\\u03c1\\u03bc\\u03b1\\u03bd\\u03af\\u03b1<extra></extra>\", \"line\": {\"color\": \"black\", \"width\": 2}, \"name\": \"\\u0393\\u03b5\\u03c1\\u03bc\\u03b1\\u03bd\\u03af\\u03b1\", \"type\": \"scatter\", \"y\": [130, 159, 196, 262, 482, 670, 799, 1040, 1176, 1457, 1908, 2078, 3675, 4585, 5795, 7272, 9257, 12327, 15320, 19848, 22213, 24873, 29056, 32986, 37323, 43938, 50871, 57695, 62095, 66885, 71808, 77872, 84794, 91159, 96092, 100123, 103374, 107663, 113296, 118181, 122171, 124908, 127854]}, {\"hovertemplate\": \"<b>%{y:.f}</b> \\u03ba\\u03c1\\u03bf\\u03cd\\u03c3\\u03bc\\u03b1\\u03c4\\u03b1 \\u03c3\\u03c4\\u03b7\\u03bd \\u0399\\u03c4\\u03b1\\u03bb\\u03af\\u03b1<extra></extra>\", \"line\": {\"color\": \"#3E82B3\", \"width\": 2}, \"name\": \"\\u0399\\u03c4\\u03b1\\u03bb\\u03af\\u03b1\", \"type\": \"scatter\", \"y\": [155, 229, 322, 453, 655, 888, 1128, 1694, 2036, 2502, 3089, 3858, 4636, 5883, 7375, 9172, 10149, 12462, 12462, 17660, 21157, 24747, 27980, 31506, 35713, 41035, 47021, 53578, 59138, 63927, 69176, 74386, 80589, 86498, 92472, 97689, 101739, 105792, 110574, 115242, 119827, 124632, 128948, 132547, 135586, 139422, 143626, 147577, 152271, 156363]}, {\"hovertemplate\": \"<b>%{y:.f}</b> \\u03ba\\u03c1\\u03bf\\u03cd\\u03c3\\u03bc\\u03b1\\u03c4\\u03b1 \\u03c3\\u03c4\\u03bf \\u0397\\u03bd\\u03c9\\u03bc\\u03ad\\u03bd\\u03bf \\u0392\\u03b1\\u03c3\\u03af\\u03bb\\u03b5\\u03b9\\u03bf<extra></extra>\", \"line\": {\"color\": \"#FFD400\", \"width\": 2}, \"name\": \"\\u0397\\u03bd\\u03c9\\u03bc\\u03ad\\u03bd\\u03bf \\u0392\\u03b1\\u03c3\\u03af\\u03bb\\u03b5\\u03b9\\u03bf\", \"type\": \"scatter\", \"y\": [116, 164, 207, 274, 322, 384, 459, 459, 802, 1144, 1145, 1551, 1960, 2642, 2716, 4014, 5067, 5745, 6726, 8164, 9640, 11812, 14745, 17312, 19780, 22453, 25481, 29865, 34173, 38689, 42477, 48436, 52279, 55949, 61474, 65872, 74605, 79874, 85206]}, {\"hovertemplate\": \"<b>%{y:.f}</b> \\u03ba\\u03c1\\u03bf\\u03cd\\u03c3\\u03bc\\u03b1\\u03c4\\u03b1 \\u03c3\\u03c4\\u03b9\\u03c2 \\u0397\\u03a0\\u0391<extra></extra>\", \"line\": {\"color\": \"lightgreen\", \"width\": 2}, \"name\": \"\\u0397\\u03a0\\u0391\", \"type\": \"scatter\", \"y\": [118, 149, 217, 262, 402, 518, 583, 959, 1281, 1663, 2179, 2727, 3499, 4632, 6421, 7783, 13747, 19273, 25600, 33276, 43847, 53740, 65778, 83836, 101657, 121465, 140909, 161831, 188172, 213372, 243762, 275586, 308853, 337072, 366667, 396223, 429052, 461437, 496535, 526396, 555313]}, {\"hovertemplate\": \"<b>%{y:.f}</b> \\u03ba\\u03c1\\u03bf\\u03cd\\u03c3\\u03bc\\u03b1\\u03c4\\u03b1 \\u03c3\\u03c4\\u03b7\\u03bd \\u0399\\u03c3\\u03c0\\u03b1\\u03bd\\u03af\\u03b1<extra></extra>\", \"line\": {\"color\": \"purple\", \"width\": 2}, \"name\": \"\\u0399\\u03c3\\u03c0\\u03b1\\u03bd\\u03af\\u03b1\", \"type\": \"scatter\", \"y\": [120, 165, 222, 259, 400, 500, 673, 1073, 1695, 2277, 2277, 5232, 6391, 7798, 9942, 11748, 13910, 17963, 20410, 25374, 28768, 35136, 39885, 49515, 57786, 65719, 73235, 80110, 87956, 95923, 104118, 112065, 119199, 126168, 131646, 136675, 141942, 148220, 153222, 158273, 163027, 166831]}, {\"hovertemplate\": \"<b>%{y:.f}</b> \\u03ba\\u03c1\\u03bf\\u03cd\\u03c3\\u03bc\\u03b1\\u03c4\\u03b1 \\u03c3\\u03c4\\u03b7\\u03bd \\u0395\\u03bb\\u03bb\\u03ac\\u03b4\\u03b1<extra></extra>\", \"line\": {\"color\": \"#BA3A0A\", \"width\": 3}, \"name\": \"\\u0395\\u03bb\\u03bb\\u03ac\\u03b4\\u03b1\", \"type\": \"scatter\", \"y\": [190, 228, 331, 331, 387, 418, 418, 495, 530, 624, 695, 743, 821, 892, 966, 1061, 1156, 1212, 1314, 1415, 1544, 1613, 1673, 1735, 1755, 1832, 1884, 1955, 2011, 2081, 2114]}],\n",
       "                        {\"annotations\": [{\"showarrow\": false, \"text\": \"\\u039b\\u03bf\\u03b3\\u03b1\\u03c1\\u03b9\\u03b8\\u03bc\\u03b9\\u03ba\\u03ae \\u03ba\\u03bb\\u03af\\u03bc\\u03b1\\u03ba\\u03b1\", \"x\": -0.02, \"xref\": \"paper\", \"y\": 1.2, \"yref\": \"paper\"}], \"font\": {\"color\": \"#114B5F\", \"family\": \"Roboto\", \"size\": 11}, \"height\": 380, \"hoverlabel\": {\"align\": \"left\", \"bgcolor\": \"white\", \"font\": {\"family\": \"Roboto\", \"size\": 12}}, \"hovermode\": \"closest\", \"legend\": {\"bgcolor\": \"#E6ECEC\", \"bordercolor\": \"#dadada\", \"borderwidth\": 0.3, \"font\": {\"color\": \"black\", \"family\": \"roboto\", \"size\": 10}, \"itemsizing\": \"constant\", \"title\": {\"text\": \"\"}, \"tracegroupgap\": 0, \"traceorder\": \"reversed\"}, \"paper_bgcolor\": \"#E6ECEC\", \"plot_bgcolor\": \"#E6ECEC\", \"showlegend\": true, \"template\": {\"data\": {\"bar\": [{\"error_x\": {\"color\": \"#2a3f5f\"}, \"error_y\": {\"color\": \"#2a3f5f\"}, \"marker\": {\"line\": {\"color\": \"#E5ECF6\", \"width\": 0.5}}, \"type\": \"bar\"}], \"barpolar\": [{\"marker\": {\"line\": {\"color\": \"#E5ECF6\", \"width\": 0.5}}, \"type\": \"barpolar\"}], \"carpet\": [{\"aaxis\": {\"endlinecolor\": \"#2a3f5f\", \"gridcolor\": \"white\", \"linecolor\": \"white\", \"minorgridcolor\": \"white\", \"startlinecolor\": \"#2a3f5f\"}, \"baxis\": {\"endlinecolor\": \"#2a3f5f\", \"gridcolor\": \"white\", \"linecolor\": \"white\", \"minorgridcolor\": \"white\", \"startlinecolor\": \"#2a3f5f\"}, \"type\": \"carpet\"}], \"choropleth\": [{\"colorbar\": {\"outlinewidth\": 0, \"ticks\": \"\"}, \"type\": \"choropleth\"}], \"contour\": [{\"colorbar\": {\"outlinewidth\": 0, \"ticks\": \"\"}, \"colorscale\": [[0.0, \"#0d0887\"], [0.1111111111111111, \"#46039f\"], [0.2222222222222222, \"#7201a8\"], [0.3333333333333333, \"#9c179e\"], [0.4444444444444444, \"#bd3786\"], [0.5555555555555556, \"#d8576b\"], [0.6666666666666666, \"#ed7953\"], [0.7777777777777778, \"#fb9f3a\"], [0.8888888888888888, \"#fdca26\"], [1.0, \"#f0f921\"]], \"type\": \"contour\"}], \"contourcarpet\": [{\"colorbar\": {\"outlinewidth\": 0, \"ticks\": \"\"}, \"type\": \"contourcarpet\"}], \"heatmap\": [{\"colorbar\": {\"outlinewidth\": 0, \"ticks\": \"\"}, \"colorscale\": [[0.0, \"#0d0887\"], [0.1111111111111111, \"#46039f\"], [0.2222222222222222, \"#7201a8\"], [0.3333333333333333, \"#9c179e\"], [0.4444444444444444, \"#bd3786\"], [0.5555555555555556, \"#d8576b\"], [0.6666666666666666, \"#ed7953\"], [0.7777777777777778, \"#fb9f3a\"], [0.8888888888888888, \"#fdca26\"], [1.0, \"#f0f921\"]], \"type\": \"heatmap\"}], \"heatmapgl\": [{\"colorbar\": {\"outlinewidth\": 0, \"ticks\": \"\"}, \"colorscale\": [[0.0, \"#0d0887\"], [0.1111111111111111, \"#46039f\"], [0.2222222222222222, \"#7201a8\"], [0.3333333333333333, \"#9c179e\"], [0.4444444444444444, \"#bd3786\"], [0.5555555555555556, \"#d8576b\"], [0.6666666666666666, \"#ed7953\"], [0.7777777777777778, \"#fb9f3a\"], [0.8888888888888888, \"#fdca26\"], [1.0, \"#f0f921\"]], \"type\": \"heatmapgl\"}], \"histogram\": [{\"marker\": {\"colorbar\": {\"outlinewidth\": 0, \"ticks\": \"\"}}, \"type\": \"histogram\"}], \"histogram2d\": [{\"colorbar\": {\"outlinewidth\": 0, \"ticks\": \"\"}, \"colorscale\": [[0.0, \"#0d0887\"], [0.1111111111111111, \"#46039f\"], [0.2222222222222222, \"#7201a8\"], [0.3333333333333333, \"#9c179e\"], [0.4444444444444444, \"#bd3786\"], [0.5555555555555556, \"#d8576b\"], [0.6666666666666666, \"#ed7953\"], [0.7777777777777778, \"#fb9f3a\"], [0.8888888888888888, \"#fdca26\"], [1.0, \"#f0f921\"]], \"type\": \"histogram2d\"}], \"histogram2dcontour\": [{\"colorbar\": {\"outlinewidth\": 0, \"ticks\": \"\"}, \"colorscale\": [[0.0, \"#0d0887\"], [0.1111111111111111, \"#46039f\"], [0.2222222222222222, \"#7201a8\"], [0.3333333333333333, \"#9c179e\"], [0.4444444444444444, \"#bd3786\"], [0.5555555555555556, \"#d8576b\"], [0.6666666666666666, \"#ed7953\"], [0.7777777777777778, \"#fb9f3a\"], [0.8888888888888888, \"#fdca26\"], [1.0, \"#f0f921\"]], \"type\": \"histogram2dcontour\"}], \"mesh3d\": [{\"colorbar\": {\"outlinewidth\": 0, \"ticks\": \"\"}, \"type\": \"mesh3d\"}], \"parcoords\": [{\"line\": {\"colorbar\": {\"outlinewidth\": 0, \"ticks\": \"\"}}, \"type\": \"parcoords\"}], \"pie\": [{\"automargin\": true, \"type\": \"pie\"}], \"scatter\": [{\"marker\": {\"colorbar\": {\"outlinewidth\": 0, \"ticks\": \"\"}}, \"type\": \"scatter\"}], \"scatter3d\": [{\"line\": {\"colorbar\": {\"outlinewidth\": 0, \"ticks\": \"\"}}, \"marker\": {\"colorbar\": {\"outlinewidth\": 0, \"ticks\": \"\"}}, \"type\": \"scatter3d\"}], \"scattercarpet\": [{\"marker\": {\"colorbar\": {\"outlinewidth\": 0, \"ticks\": \"\"}}, \"type\": \"scattercarpet\"}], \"scattergeo\": [{\"marker\": {\"colorbar\": {\"outlinewidth\": 0, \"ticks\": \"\"}}, \"type\": \"scattergeo\"}], \"scattergl\": [{\"marker\": {\"colorbar\": {\"outlinewidth\": 0, \"ticks\": \"\"}}, \"type\": \"scattergl\"}], \"scattermapbox\": [{\"marker\": {\"colorbar\": {\"outlinewidth\": 0, \"ticks\": \"\"}}, \"type\": \"scattermapbox\"}], \"scatterpolar\": [{\"marker\": {\"colorbar\": {\"outlinewidth\": 0, \"ticks\": \"\"}}, \"type\": \"scatterpolar\"}], \"scatterpolargl\": [{\"marker\": {\"colorbar\": {\"outlinewidth\": 0, \"ticks\": \"\"}}, \"type\": \"scatterpolargl\"}], \"scatterternary\": [{\"marker\": {\"colorbar\": {\"outlinewidth\": 0, \"ticks\": \"\"}}, \"type\": \"scatterternary\"}], \"surface\": [{\"colorbar\": {\"outlinewidth\": 0, \"ticks\": \"\"}, \"colorscale\": [[0.0, \"#0d0887\"], [0.1111111111111111, \"#46039f\"], [0.2222222222222222, \"#7201a8\"], [0.3333333333333333, \"#9c179e\"], [0.4444444444444444, \"#bd3786\"], [0.5555555555555556, \"#d8576b\"], [0.6666666666666666, \"#ed7953\"], [0.7777777777777778, \"#fb9f3a\"], [0.8888888888888888, \"#fdca26\"], [1.0, \"#f0f921\"]], \"type\": \"surface\"}], \"table\": [{\"cells\": {\"fill\": {\"color\": \"#EBF0F8\"}, \"line\": {\"color\": \"white\"}}, \"header\": {\"fill\": {\"color\": \"#C8D4E3\"}, \"line\": {\"color\": \"white\"}}, \"type\": \"table\"}]}, \"layout\": {\"annotationdefaults\": {\"arrowcolor\": \"#2a3f5f\", \"arrowhead\": 0, \"arrowwidth\": 1}, \"coloraxis\": {\"colorbar\": {\"outlinewidth\": 0, \"ticks\": \"\"}}, \"colorscale\": {\"diverging\": [[0, \"#8e0152\"], [0.1, \"#c51b7d\"], [0.2, \"#de77ae\"], [0.3, \"#f1b6da\"], [0.4, \"#fde0ef\"], [0.5, \"#f7f7f7\"], [0.6, \"#e6f5d0\"], [0.7, \"#b8e186\"], [0.8, \"#7fbc41\"], [0.9, \"#4d9221\"], [1, \"#276419\"]], \"sequential\": [[0.0, \"#0d0887\"], [0.1111111111111111, \"#46039f\"], [0.2222222222222222, \"#7201a8\"], [0.3333333333333333, \"#9c179e\"], [0.4444444444444444, \"#bd3786\"], [0.5555555555555556, \"#d8576b\"], [0.6666666666666666, \"#ed7953\"], [0.7777777777777778, \"#fb9f3a\"], [0.8888888888888888, \"#fdca26\"], [1.0, \"#f0f921\"]], \"sequentialminus\": [[0.0, \"#0d0887\"], [0.1111111111111111, \"#46039f\"], [0.2222222222222222, \"#7201a8\"], [0.3333333333333333, \"#9c179e\"], [0.4444444444444444, \"#bd3786\"], [0.5555555555555556, \"#d8576b\"], [0.6666666666666666, \"#ed7953\"], [0.7777777777777778, \"#fb9f3a\"], [0.8888888888888888, \"#fdca26\"], [1.0, \"#f0f921\"]]}, \"colorway\": [\"#636efa\", \"#EF553B\", \"#00cc96\", \"#ab63fa\", \"#FFA15A\", \"#19d3f3\", \"#FF6692\", \"#B6E880\", \"#FF97FF\", \"#FECB52\"], \"font\": {\"color\": \"#2a3f5f\"}, \"geo\": {\"bgcolor\": \"white\", \"lakecolor\": \"white\", \"landcolor\": \"#E5ECF6\", \"showlakes\": true, \"showland\": true, \"subunitcolor\": \"white\"}, \"hoverlabel\": {\"align\": \"left\"}, \"hovermode\": \"closest\", \"mapbox\": {\"style\": \"light\"}, \"paper_bgcolor\": \"white\", \"plot_bgcolor\": \"#E5ECF6\", \"polar\": {\"angularaxis\": {\"gridcolor\": \"white\", \"linecolor\": \"white\", \"ticks\": \"\"}, \"bgcolor\": \"#E5ECF6\", \"radialaxis\": {\"gridcolor\": \"white\", \"linecolor\": \"white\", \"ticks\": \"\"}}, \"scene\": {\"xaxis\": {\"backgroundcolor\": \"#E5ECF6\", \"gridcolor\": \"white\", \"gridwidth\": 2, \"linecolor\": \"white\", \"showbackground\": true, \"ticks\": \"\", \"zerolinecolor\": \"white\"}, \"yaxis\": {\"backgroundcolor\": \"#E5ECF6\", \"gridcolor\": \"white\", \"gridwidth\": 2, \"linecolor\": \"white\", \"showbackground\": true, \"ticks\": \"\", \"zerolinecolor\": \"white\"}, \"zaxis\": {\"backgroundcolor\": \"#E5ECF6\", \"gridcolor\": \"white\", \"gridwidth\": 2, \"linecolor\": \"white\", \"showbackground\": true, \"ticks\": \"\", \"zerolinecolor\": \"white\"}}, \"shapedefaults\": {\"line\": {\"color\": \"#2a3f5f\"}}, \"ternary\": {\"aaxis\": {\"gridcolor\": \"white\", \"linecolor\": \"white\", \"ticks\": \"\"}, \"baxis\": {\"gridcolor\": \"white\", \"linecolor\": \"white\", \"ticks\": \"\"}, \"bgcolor\": \"#E5ECF6\", \"caxis\": {\"gridcolor\": \"white\", \"linecolor\": \"white\", \"ticks\": \"\"}}, \"title\": {\"x\": 0.05}, \"xaxis\": {\"automargin\": true, \"gridcolor\": \"white\", \"linecolor\": \"white\", \"ticks\": \"\", \"title\": {\"standoff\": 15}, \"zerolinecolor\": \"white\", \"zerolinewidth\": 2}, \"yaxis\": {\"automargin\": true, \"gridcolor\": \"white\", \"linecolor\": \"white\", \"ticks\": \"\", \"title\": {\"standoff\": 15}, \"zerolinecolor\": \"white\", \"zerolinewidth\": 2}}}, \"title\": {\"text\": \"\\u039c\\u03b5\\u03c4\\u03ac \\u03c4\\u03b1 100 \\u03c0\\u03c1\\u03ce\\u03c4\\u03b1 \\u03ba\\u03c1\\u03bf\\u03cd\\u03c3\\u03bc\\u03b1\\u03c4\\u03b1 \\u03b1\\u03bd\\u03ac \\u03b7\\u03bc\\u03ad\\u03c1\\u03b1 (\\u03c7\\u03c9\\u03c1\\u03af\\u03c2 \\u03c4\\u03b7\\u03bd \\u039a\\u03af\\u03bd\\u03b1)\"}, \"xaxis\": {\"anchor\": \"y\", \"domain\": [0.0, 1.0], \"gridcolor\": \"#F8FAFA\", \"gridwidth\": 0.1, \"linecolor\": \"#F8FAFA\", \"linewidth\": 0.1, \"showgrid\": true, \"showline\": false, \"showticklabels\": true, \"tickvals\": [5, 10, 15, 20, 25, 30, 35, 40, 45, 50, 55], \"title\": {\"font\": {\"color\": \"#114B5F\", \"size\": 11}, \"text\": \"\\u0397\\u03bc\\u03ad\\u03c1\\u03b5\\u03c2 \\u03b1\\u03c0\\u03cc \\u03c4\\u03bf 100\\u03bf \\u03ba\\u03c1\\u03bf\\u03cd\\u03c3\\u03bc\\u03b1\"}}, \"yaxis\": {\"anchor\": \"x\", \"domain\": [0.0, 1.0], \"gridcolor\": \"#F8FAFA\", \"gridwidth\": 0.1, \"linecolor\": \"#114B5F\", \"linewidth\": 2, \"nticks\": 4, \"showgrid\": true, \"showline\": true, \"showticklabels\": true, \"title\": {\"font\": {\"color\": \"#114B5F\", \"size\": 11}, \"text\": \"\\u0391\\u03c1\\u03b9\\u03b8\\u03bc\\u03cc\\u03c2 \\u03ba\\u03c1\\u03bf\\u03c5\\u03c3\\u03bc\\u03ac\\u03c4\\u03c9\\u03bd\"}, \"type\": \"log\"}},\n",
       "                        {\"responsive\": true}\n",
       "                    ).then(function(){\n",
       "                            \n",
       "var gd = document.getElementById('bdabf2cd-adaa-4346-8ad6-59f594c7366c');\n",
       "var x = new MutationObserver(function (mutations, observer) {{\n",
       "        var display = window.getComputedStyle(gd).display;\n",
       "        if (!display || display === 'none') {{\n",
       "            console.log([gd, 'removed!']);\n",
       "            Plotly.purge(gd);\n",
       "            observer.disconnect();\n",
       "        }}\n",
       "}});\n",
       "\n",
       "// Listen for the removal of the full notebook cells\n",
       "var notebookContainer = gd.closest('#notebook-container');\n",
       "if (notebookContainer) {{\n",
       "    x.observe(notebookContainer, {childList: true});\n",
       "}}\n",
       "\n",
       "// Listen for the clearing of the current output cell\n",
       "var outputEl = gd.closest('.output');\n",
       "if (outputEl) {{\n",
       "    x.observe(outputEl, {childList: true});\n",
       "}}\n",
       "\n",
       "                        })\n",
       "                };\n",
       "                });\n",
       "            </script>\n",
       "        </div>"
      ]
     },
     "metadata": {},
     "output_type": "display_data"
    }
   ],
   "source": [
    "after100Cases(confirmedHopkinsFileName, deathsHopkinsFileName, 'cases', 'deaths', '100_cases.json')"
   ]
  },
  {
   "cell_type": "code",
   "execution_count": 133,
   "metadata": {},
   "outputs": [],
   "source": [
    "'''φορτώνουμε το αρχείο που επιθυμούμε, τον αριθμό σημείο έναρξης της οπτικοποίησης,\n",
    "το όνομα της νέας στήλης που θα δημιουργηθεί από το melt, \n",
    "το όνομα του αρχείου που θέλουμε να σώσουμε'''\n",
    "\n",
    "def after100Cases(fileName, numberCompare, columnName, outputName):\n",
    "    \n",
    "    ''' φορτώνουμε το πρώτο αρχείο από το Hopkins'''\n",
    "    df=pd.read_csv(baseHopkinsURL + fileName)\\\n",
    "        .drop(['Lat', 'Long'], axis=1) \\\n",
    "        .melt(id_vars=['Province/State', 'Country/Region'], \n",
    "                 var_name='Date', value_name=columnName) \\\n",
    "        .astype({'Date':'datetime64[ns]', columnName:'Int64'}, \n",
    "                 errors='ignore')\n",
    "    \n",
    "    ''' φορτώνουμε το αρχείο με την αντιστοίχιση ελληνικών - αγγλικών ονομάτων χωρών και τα συνδέουμε με το df'''\n",
    "    gr=pd.read_csv(countriesInGreek)\n",
    "    df=pd.merge(df,gr, how='left', left_on='Country/Region', right_on='ADMIN')\n",
    "    \n",
    "    ''' υπολογίζουμε συγκεντρωτικά για κάθε χώρα τα κρούσματα και τους θανάτους ανά ημέρα'''\n",
    "    df=df.groupby(['Country/Region','Date','ADMIN_GR'])[columnName].sum().reset_index()\n",
    "    \n",
    "    \n",
    "    ''' ------------------- ΞΕΚΙΝΑ Η ΟΠΤΙΚΟΠΟΙΗΣΗ ------------------'''\n",
    "    \n",
    "    ''' Φτιάχνουμε ένα variable που ΔΕΝ ΘΑ ΠΕΡΙΕΧΕΙ τις χώρες αναφοράς - που θα χρωματίσουμε με άλλο χρώμα'''\n",
    "    cnt= df[(df['Country/Region']!='Greece') & \n",
    "        (df['Country/Region']!='Germany') & \n",
    "        (df['Country/Region']!='Italy') & \n",
    "        (df['Country/Region']!='United Kingdom') & \n",
    "        (df['Country/Region']!='US') & \n",
    "        (df['Country/Region']!='Spain')&\n",
    "        (df['Country/Region']!='China')]\n",
    "    \n",
    "    fig = px.line(cnt[(cnt['Country/Region']!='Diamond Princess') & \n",
    "                  (cnt['deaths']>=numberCompare)],\n",
    "              y=columnName,\n",
    "              color='ADMIN_GR',\n",
    "              hover_data=['ADMIN_GR'],\n",
    "              labels={'Date':'Ημερομηνία',\n",
    "                    columnName:'Αριθμός Κρουσμάτων',\n",
    "                    'ADMIN_GR':'Χώρα'},\n",
    "              title='Μετά τα 100 πρώτα κρούσματα ανά ημέρα (χωρίς την Κίνα)',\n",
    "              \n",
    "              line_shape=\"spline\", render_mode=\"svg\",\n",
    "#               color_discrete_sequence=px.colors.sequential.ice\n",
    "#               color_discrete_sequence=px.colors.qualitative.Prism\n",
    "              color_discrete_sequence=['rgb(189,189,189)']\n",
    "             )\n",
    "    \n",
    "    fig.update_layout(paper_bgcolor=\"#E6ECEC\",\n",
    "                 plot_bgcolor=\"#E6ECEC\",\n",
    "                 font=dict(\n",
    "                family=\"Roboto\",\n",
    "                size=11,\n",
    "                color=\"#114B5F\")\n",
    "                 )\n",
    "\n",
    "    # fig.update_traces(mode=\"markers+lines\", hovertemplate=None)\n",
    "    # fig.update_layout(hovermode=\"x\")\n",
    "    fig.update_layout(hovermode=\"closest\",\n",
    "                     hoverlabel=dict(\n",
    "                        bgcolor=\"white\", \n",
    "                        font_size=12, \n",
    "                        font_family=\"Roboto\"),\n",
    "                     hoverlabel_align = 'left',)\n",
    "\n",
    "    fig.update_layout(showlegend=True)\n",
    "    fig.update_layout(legend_title='',\n",
    "\n",
    "                     legend=dict(\n",
    "    #                      θέση του legend\n",
    "    #                     x=0,\n",
    "    #                     y=1,\n",
    "\n",
    "    #                      σειρά χωρών reversed, normal, grouped\n",
    "                        traceorder=\"reversed\", \n",
    "                        font=dict(\n",
    "                            family=\"roboto\",\n",
    "                            size=10,\n",
    "                            color=\"black\"\n",
    "                        ),\n",
    "\n",
    "                        bgcolor=\"#E6ECEC\",\n",
    "                        bordercolor=\"#dadada\",\n",
    "                        borderwidth=.3\n",
    "                    ))\n",
    "\n",
    "    fig.update_yaxes(nticks=4,\n",
    "                    \n",
    "                    showticklabels=True,\n",
    "                    showline=True,\n",
    "                     linewidth=2,\n",
    "                    linecolor='#114B5F',\n",
    "                    showgrid=True, \n",
    "                     gridwidth=.1, \n",
    "                     gridcolor='#F8FAFA',\n",
    "                    title_text = \"Αριθμός κρουσμάτων\",\n",
    "                    title_font = {\"size\": 11,\n",
    "                                 'color':'#114B5F'},)\n",
    "\n",
    "    fig.update_xaxes(tickvals=[5, 10, 15, 20, 25, 30,35,40,45,50,55],\n",
    "                    ticks=None,\n",
    "                    showticklabels=True,\n",
    "                     showline=False,\n",
    "                     linewidth=.1,\n",
    "                    linecolor='#F8FAFA',\n",
    "                    showgrid=True, \n",
    "                     gridwidth=.1, \n",
    "                     gridcolor='#F8FAFA',\n",
    "                    title_text = \"Ημέρες από το {}o κρούσμα\".format(numberCompare),\n",
    "                    title_font = {\"size\": 11,\n",
    "                                 'color':'#114B5F'},\n",
    "                    )\n",
    "\n",
    "    fig.update_layout(xaxis_showgrid=True, \n",
    "                      yaxis_showgrid=True)\n",
    "\n",
    "\n",
    "    fig.update_layout(yaxis_type=\"log\")\n",
    "\n",
    "    fig.update_layout(height=380)\n",
    "\n",
    "    \n",
    "    # Γερμανία\n",
    "    fig.add_trace(go.Scatter(y=df[(df['Country/Region']=='Germany')&(df[columnName]>numberCompare)][columnName],\n",
    "                             name='Γερμανία',\n",
    "                            line=dict(color=\"black\",\n",
    "                                    width=2),\n",
    "                             hovertemplate = '<b>%{y:.f}</b> κρούσματα στην Γερμανία<extra></extra>'\n",
    "                            ))\n",
    "    \n",
    "       # Ιταλία\n",
    "    fig.add_trace(go.Scatter(y=df[(df['Country/Region']=='Italy')&(df[columnName]>numberCompare)][columnName],\n",
    "                             name='Ιταλία',\n",
    "                            line=dict(color=\"#3E82B3\",\n",
    "                                    width=2),\n",
    "                             hovertemplate = '<b>%{y:.f}</b> κρούσματα στην Ιταλία<extra></extra>'\n",
    "                            ))\n",
    "\n",
    "    # UK\n",
    "    fig.add_trace(go.Scatter(y=df[(df['Country/Region']=='United Kingdom')&(df[columnName]>numberCompare)][columnName],\n",
    "                             name='Ηνωμένο Βασίλειο',\n",
    "                            line=dict(color=\"#FFD400\",\n",
    "                                    width=2),\n",
    "                             hovertemplate = '<b>%{y:.f}</b> κρούσματα στο Ηνωμένο Βασίλειο<extra></extra>'\n",
    "                            ))\n",
    "\n",
    "\n",
    "    # USA\n",
    "    fig.add_trace(go.Scatter(y=df[(df['Country/Region']=='US')&(df[columnName]>numberCompare)][columnName],\n",
    "                             name='ΗΠΑ',\n",
    "                            line=dict(color=\"lightgreen\",\n",
    "                                    width=2),\n",
    "                             hovertemplate = '<b>%{y:.f}</b> κρούσματα στις ΗΠΑ<extra></extra>'\n",
    "                            ))\n",
    "    # Spain\n",
    "    fig.add_trace(go.Scatter(y=df[(df['Country/Region']=='Spain')&(df[columnName]>numberCompare)][columnName],\n",
    "                             name='Ισπανία',\n",
    "                            line=dict(color=\"purple\",\n",
    "                                    width=2),\n",
    "                             hovertemplate = '<b>%{y:.f}</b> κρούσματα στην Ισπανία<extra></extra>'\n",
    "                            ))\n",
    "    # Greece\n",
    "    fig.add_trace(go.Scatter(y=df[(df['Country/Region']=='Greece')&(df[columnName]>numberCompare)][columnName],\n",
    "                             name='Ελλάδα',\n",
    "                            line=dict(color=\"#BA3A0A\",\n",
    "                                    width=3),\n",
    "                             hovertemplate = '<b>%{y:.f}</b> κρούσματα στην Ελλάδα<extra></extra>'\n",
    "                            ))\n",
    "\n",
    "\n",
    "    \n",
    "    config = dict({'displayModeBar': False, \n",
    "                'scrollZoom': False,\n",
    "                'displaylogo': False,\n",
    "                'responsive': True,\n",
    "                'staticPlot': False\n",
    "\n",
    "                  })\n",
    "    # μέγεθος γραμμής σε κάθε χώρα στο legend, trace/constant\n",
    "    fig.update_layout(legend= {'itemsizing': 'constant'},\n",
    "                     \n",
    "        annotations = [dict(\n",
    "            x=-.02,\n",
    "            y=1.2,\n",
    "            xref='paper',\n",
    "            yref='paper',\n",
    "            text='<i>Λογαριθμική κλίμακα</i>',\n",
    "            showarrow = False\n",
    "        )])\n",
    "    \n",
    "    fig.show()\n",
    "    \n",
    "    return fig.write_json(outputName)\n",
    "after100Cases(deathsHopkinsFileName, 10, 'deaths', '10_deaths.json')"
   ]
  },
  {
   "cell_type": "code",
   "execution_count": 134,
   "metadata": {},
   "outputs": [
    {
     "data": {
      "application/vnd.plotly.v1+json": {
       "config": {
        "plotlyServerURL": "https://plot.ly"
       },
       "data": [
        {
         "customdata": [
          [
           "Αφγανιστάν"
          ],
          [
           "Αφγανιστάν"
          ],
          [
           "Αφγανιστάν"
          ],
          [
           "Αφγανιστάν"
          ],
          [
           "Αφγανιστάν"
          ],
          [
           "Αφγανιστάν"
          ],
          [
           "Αφγανιστάν"
          ]
         ],
         "hoverlabel": {
          "namelength": 0
         },
         "hovertemplate": "Χώρα=%{customdata[0]}<br>Αριθμός Κρουσμάτων=%{y}",
         "legendgroup": "Αφγανιστάν",
         "line": {
          "color": "rgb(189,189,189)",
          "dash": "solid",
          "shape": "spline"
         },
         "mode": "lines",
         "name": "Αφγανιστάν",
         "showlegend": true,
         "type": "scatter",
         "xaxis": "x",
         "y": [
          11,
          14,
          14,
          15,
          15,
          18,
          18
         ],
         "yaxis": "y"
        },
        {
         "customdata": [
          [
           "Αλβανία"
          ],
          [
           "Αλβανία"
          ],
          [
           "Αλβανία"
          ],
          [
           "Αλβανία"
          ],
          [
           "Αλβανία"
          ],
          [
           "Αλβανία"
          ],
          [
           "Αλβανία"
          ],
          [
           "Αλβανία"
          ],
          [
           "Αλβανία"
          ],
          [
           "Αλβανία"
          ],
          [
           "Αλβανία"
          ],
          [
           "Αλβανία"
          ],
          [
           "Αλβανία"
          ],
          [
           "Αλβανία"
          ],
          [
           "Αλβανία"
          ],
          [
           "Αλβανία"
          ]
         ],
         "hoverlabel": {
          "namelength": 0
         },
         "hovertemplate": "Χώρα=%{customdata[0]}<br>Αριθμός Κρουσμάτων=%{y}",
         "legendgroup": "Αλβανία",
         "line": {
          "color": "rgb(189,189,189)",
          "dash": "solid",
          "shape": "spline"
         },
         "mode": "lines",
         "name": "Αλβανία",
         "showlegend": true,
         "type": "scatter",
         "xaxis": "x",
         "y": [
          10,
          10,
          11,
          15,
          15,
          16,
          17,
          20,
          20,
          21,
          22,
          22,
          23,
          23,
          23,
          23
         ],
         "yaxis": "y"
        },
        {
         "customdata": [
          [
           "Αλγερία"
          ],
          [
           "Αλγερία"
          ],
          [
           "Αλγερία"
          ],
          [
           "Αλγερία"
          ],
          [
           "Αλγερία"
          ],
          [
           "Αλγερία"
          ],
          [
           "Αλγερία"
          ],
          [
           "Αλγερία"
          ],
          [
           "Αλγερία"
          ],
          [
           "Αλγερία"
          ],
          [
           "Αλγερία"
          ],
          [
           "Αλγερία"
          ],
          [
           "Αλγερία"
          ],
          [
           "Αλγερία"
          ],
          [
           "Αλγερία"
          ],
          [
           "Αλγερία"
          ],
          [
           "Αλγερία"
          ],
          [
           "Αλγερία"
          ],
          [
           "Αλγερία"
          ],
          [
           "Αλγερία"
          ],
          [
           "Αλγερία"
          ],
          [
           "Αλγερία"
          ],
          [
           "Αλγερία"
          ],
          [
           "Αλγερία"
          ]
         ],
         "hoverlabel": {
          "namelength": 0
         },
         "hovertemplate": "Χώρα=%{customdata[0]}<br>Αριθμός Κρουσμάτων=%{y}",
         "legendgroup": "Αλγερία",
         "line": {
          "color": "rgb(189,189,189)",
          "dash": "solid",
          "shape": "spline"
         },
         "mode": "lines",
         "name": "Αλγερία",
         "showlegend": true,
         "type": "scatter",
         "xaxis": "x",
         "y": [
          11,
          15,
          17,
          17,
          19,
          21,
          25,
          26,
          29,
          31,
          35,
          44,
          58,
          86,
          105,
          130,
          152,
          173,
          193,
          205,
          235,
          256,
          275,
          293
         ],
         "yaxis": "y"
        },
        {
         "customdata": [
          [
           "Ανδόρρα"
          ],
          [
           "Ανδόρρα"
          ],
          [
           "Ανδόρρα"
          ],
          [
           "Ανδόρρα"
          ],
          [
           "Ανδόρρα"
          ],
          [
           "Ανδόρρα"
          ],
          [
           "Ανδόρρα"
          ],
          [
           "Ανδόρρα"
          ],
          [
           "Ανδόρρα"
          ],
          [
           "Ανδόρρα"
          ],
          [
           "Ανδόρρα"
          ],
          [
           "Ανδόρρα"
          ],
          [
           "Ανδόρρα"
          ]
         ],
         "hoverlabel": {
          "namelength": 0
         },
         "hovertemplate": "Χώρα=%{customdata[0]}<br>Αριθμός Κρουσμάτων=%{y}",
         "legendgroup": "Ανδόρρα",
         "line": {
          "color": "rgb(189,189,189)",
          "dash": "solid",
          "shape": "spline"
         },
         "mode": "lines",
         "name": "Ανδόρρα",
         "showlegend": true,
         "type": "scatter",
         "xaxis": "x",
         "y": [
          12,
          14,
          15,
          16,
          17,
          18,
          21,
          22,
          23,
          25,
          26,
          26,
          29
         ],
         "yaxis": "y"
        },
        {
         "customdata": [
          [
           "Αργεντινή"
          ],
          [
           "Αργεντινή"
          ],
          [
           "Αργεντινή"
          ],
          [
           "Αργεντινή"
          ],
          [
           "Αργεντινή"
          ],
          [
           "Αργεντινή"
          ],
          [
           "Αργεντινή"
          ],
          [
           "Αργεντινή"
          ],
          [
           "Αργεντινή"
          ],
          [
           "Αργεντινή"
          ],
          [
           "Αργεντινή"
          ],
          [
           "Αργεντινή"
          ],
          [
           "Αργεντινή"
          ],
          [
           "Αργεντινή"
          ],
          [
           "Αργεντινή"
          ],
          [
           "Αργεντινή"
          ],
          [
           "Αργεντινή"
          ]
         ],
         "hoverlabel": {
          "namelength": 0
         },
         "hovertemplate": "Χώρα=%{customdata[0]}<br>Αριθμός Κρουσμάτων=%{y}",
         "legendgroup": "Αργεντινή",
         "line": {
          "color": "rgb(189,189,189)",
          "dash": "solid",
          "shape": "spline"
         },
         "mode": "lines",
         "name": "Αργεντινή",
         "showlegend": true,
         "type": "scatter",
         "xaxis": "x",
         "y": [
          13,
          18,
          19,
          23,
          27,
          28,
          36,
          39,
          43,
          44,
          48,
          56,
          63,
          72,
          82,
          83,
          90
         ],
         "yaxis": "y"
        },
        {
         "customdata": [
          [
           "Αρμενία"
          ],
          [
           "Αρμενία"
          ],
          [
           "Αρμενία"
          ],
          [
           "Αρμενία"
          ]
         ],
         "hoverlabel": {
          "namelength": 0
         },
         "hovertemplate": "Χώρα=%{customdata[0]}<br>Αριθμός Κρουσμάτων=%{y}",
         "legendgroup": "Αρμενία",
         "line": {
          "color": "rgb(189,189,189)",
          "dash": "solid",
          "shape": "spline"
         },
         "mode": "lines",
         "name": "Αρμενία",
         "showlegend": true,
         "type": "scatter",
         "xaxis": "x",
         "y": [
          10,
          12,
          13,
          13
         ],
         "yaxis": "y"
        },
        {
         "customdata": [
          [
           "Αυστραλία"
          ],
          [
           "Αυστραλία"
          ],
          [
           "Αυστραλία"
          ],
          [
           "Αυστραλία"
          ],
          [
           "Αυστραλία"
          ],
          [
           "Αυστραλία"
          ],
          [
           "Αυστραλία"
          ],
          [
           "Αυστραλία"
          ],
          [
           "Αυστραλία"
          ],
          [
           "Αυστραλία"
          ],
          [
           "Αυστραλία"
          ],
          [
           "Αυστραλία"
          ],
          [
           "Αυστραλία"
          ],
          [
           "Αυστραλία"
          ],
          [
           "Αυστραλία"
          ],
          [
           "Αυστραλία"
          ],
          [
           "Αυστραλία"
          ],
          [
           "Αυστραλία"
          ]
         ],
         "hoverlabel": {
          "namelength": 0
         },
         "hovertemplate": "Χώρα=%{customdata[0]}<br>Αριθμός Κρουσμάτων=%{y}",
         "legendgroup": "Αυστραλία",
         "line": {
          "color": "rgb(189,189,189)",
          "dash": "solid",
          "shape": "spline"
         },
         "mode": "lines",
         "name": "Αυστραλία",
         "showlegend": true,
         "type": "scatter",
         "xaxis": "x",
         "y": [
          13,
          13,
          14,
          16,
          17,
          18,
          20,
          24,
          28,
          30,
          35,
          40,
          45,
          50,
          51,
          54,
          57,
          60
         ],
         "yaxis": "y"
        },
        {
         "customdata": [
          [
           "Αυστρία"
          ],
          [
           "Αυστρία"
          ],
          [
           "Αυστρία"
          ],
          [
           "Αυστρία"
          ],
          [
           "Αυστρία"
          ],
          [
           "Αυστρία"
          ],
          [
           "Αυστρία"
          ],
          [
           "Αυστρία"
          ],
          [
           "Αυστρία"
          ],
          [
           "Αυστρία"
          ],
          [
           "Αυστρία"
          ],
          [
           "Αυστρία"
          ],
          [
           "Αυστρία"
          ],
          [
           "Αυστρία"
          ],
          [
           "Αυστρία"
          ],
          [
           "Αυστρία"
          ],
          [
           "Αυστρία"
          ],
          [
           "Αυστρία"
          ],
          [
           "Αυστρία"
          ],
          [
           "Αυστρία"
          ],
          [
           "Αυστρία"
          ],
          [
           "Αυστρία"
          ]
         ],
         "hoverlabel": {
          "namelength": 0
         },
         "hovertemplate": "Χώρα=%{customdata[0]}<br>Αριθμός Κρουσμάτων=%{y}",
         "legendgroup": "Αυστρία",
         "line": {
          "color": "rgb(189,189,189)",
          "dash": "solid",
          "shape": "spline"
         },
         "mode": "lines",
         "name": "Αυστρία",
         "showlegend": true,
         "type": "scatter",
         "xaxis": "x",
         "y": [
          16,
          21,
          28,
          30,
          49,
          58,
          68,
          86,
          108,
          128,
          146,
          158,
          168,
          186,
          204,
          220,
          243,
          273,
          295,
          319,
          337,
          350
         ],
         "yaxis": "y"
        },
        {
         "customdata": [
          [
           "Αζερμπαϊτζάν"
          ],
          [
           "Αζερμπαϊτζάν"
          ],
          [
           "Αζερμπαϊτζάν"
          ]
         ],
         "hoverlabel": {
          "namelength": 0
         },
         "hovertemplate": "Χώρα=%{customdata[0]}<br>Αριθμός Κρουσμάτων=%{y}",
         "legendgroup": "Αζερμπαϊτζάν",
         "line": {
          "color": "rgb(189,189,189)",
          "dash": "solid",
          "shape": "spline"
         },
         "mode": "lines",
         "name": "Αζερμπαϊτζάν",
         "showlegend": true,
         "type": "scatter",
         "xaxis": "x",
         "y": [
          10,
          11,
          11
         ],
         "yaxis": "y"
        },
        {
         "customdata": [
          [
           "Μπανγκλαντές"
          ],
          [
           "Μπανγκλαντές"
          ],
          [
           "Μπανγκλαντές"
          ],
          [
           "Μπανγκλαντές"
          ],
          [
           "Μπανγκλαντές"
          ],
          [
           "Μπανγκλαντές"
          ],
          [
           "Μπανγκλαντές"
          ]
         ],
         "hoverlabel": {
          "namelength": 0
         },
         "hovertemplate": "Χώρα=%{customdata[0]}<br>Αριθμός Κρουσμάτων=%{y}",
         "legendgroup": "Μπανγκλαντές",
         "line": {
          "color": "rgb(189,189,189)",
          "dash": "solid",
          "shape": "spline"
         },
         "mode": "lines",
         "name": "Μπανγκλαντές",
         "showlegend": true,
         "type": "scatter",
         "xaxis": "x",
         "y": [
          12,
          17,
          20,
          21,
          27,
          30,
          34
         ],
         "yaxis": "y"
        },
        {
         "customdata": [
          [
           "Λευκορωσία"
          ],
          [
           "Λευκορωσία"
          ],
          [
           "Λευκορωσία"
          ],
          [
           "Λευκορωσία"
          ],
          [
           "Λευκορωσία"
          ],
          [
           "Λευκορωσία"
          ],
          [
           "Λευκορωσία"
          ]
         ],
         "hoverlabel": {
          "namelength": 0
         },
         "hovertemplate": "Χώρα=%{customdata[0]}<br>Αριθμός Κρουσμάτων=%{y}",
         "legendgroup": "Λευκορωσία",
         "line": {
          "color": "rgb(189,189,189)",
          "dash": "solid",
          "shape": "spline"
         },
         "mode": "lines",
         "name": "Λευκορωσία",
         "showlegend": true,
         "type": "scatter",
         "xaxis": "x",
         "y": [
          13,
          13,
          13,
          16,
          19,
          23,
          26
         ],
         "yaxis": "y"
        },
        {
         "customdata": [
          [
           "Βέλγιο"
          ],
          [
           "Βέλγιο"
          ],
          [
           "Βέλγιο"
          ],
          [
           "Βέλγιο"
          ],
          [
           "Βέλγιο"
          ],
          [
           "Βέλγιο"
          ],
          [
           "Βέλγιο"
          ],
          [
           "Βέλγιο"
          ],
          [
           "Βέλγιο"
          ],
          [
           "Βέλγιο"
          ],
          [
           "Βέλγιο"
          ],
          [
           "Βέλγιο"
          ],
          [
           "Βέλγιο"
          ],
          [
           "Βέλγιο"
          ],
          [
           "Βέλγιο"
          ],
          [
           "Βέλγιο"
          ],
          [
           "Βέλγιο"
          ],
          [
           "Βέλγιο"
          ],
          [
           "Βέλγιο"
          ],
          [
           "Βέλγιο"
          ],
          [
           "Βέλγιο"
          ],
          [
           "Βέλγιο"
          ],
          [
           "Βέλγιο"
          ],
          [
           "Βέλγιο"
          ],
          [
           "Βέλγιο"
          ],
          [
           "Βέλγιο"
          ],
          [
           "Βέλγιο"
          ]
         ],
         "hoverlabel": {
          "namelength": 0
         },
         "hovertemplate": "Χώρα=%{customdata[0]}<br>Αριθμός Κρουσμάτων=%{y}",
         "legendgroup": "Βέλγιο",
         "line": {
          "color": "rgb(189,189,189)",
          "dash": "solid",
          "shape": "spline"
         },
         "mode": "lines",
         "name": "Βέλγιο",
         "showlegend": true,
         "type": "scatter",
         "xaxis": "x",
         "y": [
          10,
          14,
          21,
          37,
          67,
          75,
          88,
          122,
          178,
          220,
          289,
          353,
          431,
          513,
          705,
          828,
          1011,
          1143,
          1283,
          1447,
          1632,
          2035,
          2240,
          2523,
          3019,
          3346,
          3600
         ],
         "yaxis": "y"
        },
        {
         "customdata": [
          [
           "Βολιβία"
          ],
          [
           "Βολιβία"
          ],
          [
           "Βολιβία"
          ],
          [
           "Βολιβία"
          ],
          [
           "Βολιβία"
          ],
          [
           "Βολιβία"
          ],
          [
           "Βολιβία"
          ],
          [
           "Βολιβία"
          ],
          [
           "Βολιβία"
          ]
         ],
         "hoverlabel": {
          "namelength": 0
         },
         "hovertemplate": "Χώρα=%{customdata[0]}<br>Αριθμός Κρουσμάτων=%{y}",
         "legendgroup": "Βολιβία",
         "line": {
          "color": "rgb(189,189,189)",
          "dash": "solid",
          "shape": "spline"
         },
         "mode": "lines",
         "name": "Βολιβία",
         "showlegend": true,
         "type": "scatter",
         "xaxis": "x",
         "y": [
          10,
          10,
          11,
          14,
          15,
          18,
          19,
          20,
          24
         ],
         "yaxis": "y"
        },
        {
         "customdata": [
          [
           "Βοσνία-Ερζεγοβίνη"
          ],
          [
           "Βοσνία-Ερζεγοβίνη"
          ],
          [
           "Βοσνία-Ερζεγοβίνη"
          ],
          [
           "Βοσνία-Ερζεγοβίνη"
          ],
          [
           "Βοσνία-Ερζεγοβίνη"
          ],
          [
           "Βοσνία-Ερζεγοβίνη"
          ],
          [
           "Βοσνία-Ερζεγοβίνη"
          ],
          [
           "Βοσνία-Ερζεγοβίνη"
          ],
          [
           "Βοσνία-Ερζεγοβίνη"
          ],
          [
           "Βοσνία-Ερζεγοβίνη"
          ],
          [
           "Βοσνία-Ερζεγοβίνη"
          ],
          [
           "Βοσνία-Ερζεγοβίνη"
          ],
          [
           "Βοσνία-Ερζεγοβίνη"
          ],
          [
           "Βοσνία-Ερζεγοβίνη"
          ]
         ],
         "hoverlabel": {
          "namelength": 0
         },
         "hovertemplate": "Χώρα=%{customdata[0]}<br>Αριθμός Κρουσμάτων=%{y}",
         "legendgroup": "Βοσνία-Ερζεγοβίνη",
         "line": {
          "color": "rgb(189,189,189)",
          "dash": "solid",
          "shape": "spline"
         },
         "mode": "lines",
         "name": "Βοσνία-Ερζεγοβίνη",
         "showlegend": true,
         "type": "scatter",
         "xaxis": "x",
         "y": [
          10,
          13,
          13,
          16,
          17,
          21,
          23,
          29,
          33,
          34,
          35,
          36,
          37,
          39
         ],
         "yaxis": "y"
        },
        {
         "customdata": [
          [
           "Βραζιλία"
          ],
          [
           "Βραζιλία"
          ],
          [
           "Βραζιλία"
          ],
          [
           "Βραζιλία"
          ],
          [
           "Βραζιλία"
          ],
          [
           "Βραζιλία"
          ],
          [
           "Βραζιλία"
          ],
          [
           "Βραζιλία"
          ],
          [
           "Βραζιλία"
          ],
          [
           "Βραζιλία"
          ],
          [
           "Βραζιλία"
          ],
          [
           "Βραζιλία"
          ],
          [
           "Βραζιλία"
          ],
          [
           "Βραζιλία"
          ],
          [
           "Βραζιλία"
          ],
          [
           "Βραζιλία"
          ],
          [
           "Βραζιλία"
          ],
          [
           "Βραζιλία"
          ],
          [
           "Βραζιλία"
          ],
          [
           "Βραζιλία"
          ],
          [
           "Βραζιλία"
          ],
          [
           "Βραζιλία"
          ],
          [
           "Βραζιλία"
          ],
          [
           "Βραζιλία"
          ]
         ],
         "hoverlabel": {
          "namelength": 0
         },
         "hovertemplate": "Χώρα=%{customdata[0]}<br>Αριθμός Κρουσμάτων=%{y}",
         "legendgroup": "Βραζιλία",
         "line": {
          "color": "rgb(189,189,189)",
          "dash": "solid",
          "shape": "spline"
         },
         "mode": "lines",
         "name": "Βραζιλία",
         "showlegend": true,
         "type": "scatter",
         "xaxis": "x",
         "y": [
          11,
          15,
          25,
          34,
          46,
          59,
          77,
          92,
          111,
          136,
          159,
          201,
          240,
          324,
          359,
          445,
          486,
          564,
          686,
          819,
          950,
          1057,
          1124,
          1223
         ],
         "yaxis": "y"
        },
        {
         "customdata": [
          [
           "Βουλγαρία"
          ],
          [
           "Βουλγαρία"
          ],
          [
           "Βουλγαρία"
          ],
          [
           "Βουλγαρία"
          ],
          [
           "Βουλγαρία"
          ],
          [
           "Βουλγαρία"
          ],
          [
           "Βουλγαρία"
          ],
          [
           "Βουλγαρία"
          ],
          [
           "Βουλγαρία"
          ],
          [
           "Βουλγαρία"
          ],
          [
           "Βουλγαρία"
          ],
          [
           "Βουλγαρία"
          ]
         ],
         "hoverlabel": {
          "namelength": 0
         },
         "hovertemplate": "Χώρα=%{customdata[0]}<br>Αριθμός Κρουσμάτων=%{y}",
         "legendgroup": "Βουλγαρία",
         "line": {
          "color": "rgb(189,189,189)",
          "dash": "solid",
          "shape": "spline"
         },
         "mode": "lines",
         "name": "Βουλγαρία",
         "showlegend": true,
         "type": "scatter",
         "xaxis": "x",
         "y": [
          10,
          10,
          14,
          17,
          20,
          22,
          23,
          24,
          24,
          25,
          28,
          29
         ],
         "yaxis": "y"
        },
        {
         "customdata": [
          [
           "Μπουρκίνα Φάσο"
          ],
          [
           "Μπουρκίνα Φάσο"
          ],
          [
           "Μπουρκίνα Φάσο"
          ],
          [
           "Μπουρκίνα Φάσο"
          ],
          [
           "Μπουρκίνα Φάσο"
          ],
          [
           "Μπουρκίνα Φάσο"
          ],
          [
           "Μπουρκίνα Φάσο"
          ],
          [
           "Μπουρκίνα Φάσο"
          ],
          [
           "Μπουρκίνα Φάσο"
          ],
          [
           "Μπουρκίνα Φάσο"
          ],
          [
           "Μπουρκίνα Φάσο"
          ],
          [
           "Μπουρκίνα Φάσο"
          ],
          [
           "Μπουρκίνα Φάσο"
          ],
          [
           "Μπουρκίνα Φάσο"
          ],
          [
           "Μπουρκίνα Φάσο"
          ],
          [
           "Μπουρκίνα Φάσο"
          ]
         ],
         "hoverlabel": {
          "namelength": 0
         },
         "hovertemplate": "Χώρα=%{customdata[0]}<br>Αριθμός Κρουσμάτων=%{y}",
         "legendgroup": "Μπουρκίνα Φάσο",
         "line": {
          "color": "rgb(189,189,189)",
          "dash": "solid",
          "shape": "spline"
         },
         "mode": "lines",
         "name": "Μπουρκίνα Φάσο",
         "showlegend": true,
         "type": "scatter",
         "xaxis": "x",
         "y": [
          11,
          12,
          12,
          14,
          16,
          16,
          16,
          16,
          17,
          18,
          19,
          23,
          24,
          24,
          27,
          27
         ],
         "yaxis": "y"
        },
        {
         "customdata": [
          [
           "Καμερούν"
          ],
          [
           "Καμερούν"
          ],
          [
           "Καμερούν"
          ],
          [
           "Καμερούν"
          ],
          [
           "Καμερούν"
          ]
         ],
         "hoverlabel": {
          "namelength": 0
         },
         "hovertemplate": "Χώρα=%{customdata[0]}<br>Αριθμός Κρουσμάτων=%{y}",
         "legendgroup": "Καμερούν",
         "line": {
          "color": "rgb(189,189,189)",
          "dash": "solid",
          "shape": "spline"
         },
         "mode": "lines",
         "name": "Καμερούν",
         "showlegend": true,
         "type": "scatter",
         "xaxis": "x",
         "y": [
          10,
          10,
          12,
          12,
          12
         ],
         "yaxis": "y"
        },
        {
         "customdata": [
          [
           "Καναδάς"
          ],
          [
           "Καναδάς"
          ],
          [
           "Καναδάς"
          ],
          [
           "Καναδάς"
          ],
          [
           "Καναδάς"
          ],
          [
           "Καναδάς"
          ],
          [
           "Καναδάς"
          ],
          [
           "Καναδάς"
          ],
          [
           "Καναδάς"
          ],
          [
           "Καναδάς"
          ],
          [
           "Καναδάς"
          ],
          [
           "Καναδάς"
          ],
          [
           "Καναδάς"
          ],
          [
           "Καναδάς"
          ],
          [
           "Καναδάς"
          ],
          [
           "Καναδάς"
          ],
          [
           "Καναδάς"
          ],
          [
           "Καναδάς"
          ],
          [
           "Καναδάς"
          ],
          [
           "Καναδάς"
          ],
          [
           "Καναδάς"
          ],
          [
           "Καναδάς"
          ],
          [
           "Καναδάς"
          ],
          [
           "Καναδάς"
          ]
         ],
         "hoverlabel": {
          "namelength": 0
         },
         "hovertemplate": "Χώρα=%{customdata[0]}<br>Αριθμός Κρουσμάτων=%{y}",
         "legendgroup": "Καναδάς",
         "line": {
          "color": "rgb(189,189,189)",
          "dash": "solid",
          "shape": "spline"
         },
         "mode": "lines",
         "name": "Καναδάς",
         "showlegend": true,
         "type": "scatter",
         "xaxis": "x",
         "y": [
          12,
          19,
          21,
          25,
          26,
          30,
          38,
          54,
          61,
          64,
          80,
          101,
          109,
          139,
          179,
          218,
          259,
          339,
          375,
          407,
          503,
          557,
          654,
          714
         ],
         "yaxis": "y"
        },
        {
         "customdata": [
          [
           "Χιλή"
          ],
          [
           "Χιλή"
          ],
          [
           "Χιλή"
          ],
          [
           "Χιλή"
          ],
          [
           "Χιλή"
          ],
          [
           "Χιλή"
          ],
          [
           "Χιλή"
          ],
          [
           "Χιλή"
          ],
          [
           "Χιλή"
          ],
          [
           "Χιλή"
          ],
          [
           "Χιλή"
          ],
          [
           "Χιλή"
          ],
          [
           "Χιλή"
          ]
         ],
         "hoverlabel": {
          "namelength": 0
         },
         "hovertemplate": "Χώρα=%{customdata[0]}<br>Αριθμός Κρουσμάτων=%{y}",
         "legendgroup": "Χιλή",
         "line": {
          "color": "rgb(189,189,189)",
          "dash": "solid",
          "shape": "spline"
         },
         "mode": "lines",
         "name": "Χιλή",
         "showlegend": true,
         "type": "scatter",
         "xaxis": "x",
         "y": [
          12,
          16,
          18,
          22,
          27,
          34,
          37,
          43,
          48,
          57,
          65,
          73,
          80
         ],
         "yaxis": "y"
        },
        {
         "customdata": [
          [
           "Κολομβία"
          ],
          [
           "Κολομβία"
          ],
          [
           "Κολομβία"
          ],
          [
           "Κολομβία"
          ],
          [
           "Κολομβία"
          ],
          [
           "Κολομβία"
          ],
          [
           "Κολομβία"
          ],
          [
           "Κολομβία"
          ],
          [
           "Κολομβία"
          ],
          [
           "Κολομβία"
          ],
          [
           "Κολομβία"
          ],
          [
           "Κολομβία"
          ],
          [
           "Κολομβία"
          ],
          [
           "Κολομβία"
          ],
          [
           "Κολομβία"
          ]
         ],
         "hoverlabel": {
          "namelength": 0
         },
         "hovertemplate": "Χώρα=%{customdata[0]}<br>Αριθμός Κρουσμάτων=%{y}",
         "legendgroup": "Κολομβία",
         "line": {
          "color": "rgb(189,189,189)",
          "dash": "solid",
          "shape": "spline"
         },
         "mode": "lines",
         "name": "Κολομβία",
         "showlegend": true,
         "type": "scatter",
         "xaxis": "x",
         "y": [
          10,
          12,
          16,
          17,
          19,
          25,
          32,
          35,
          46,
          50,
          54,
          69,
          80,
          100,
          109
         ],
         "yaxis": "y"
        },
        {
         "customdata": [
          [
           "Λαϊκή Δημ/τία Κονγκό"
          ],
          [
           "Λαϊκή Δημ/τία Κονγκό"
          ],
          [
           "Λαϊκή Δημ/τία Κονγκό"
          ],
          [
           "Λαϊκή Δημ/τία Κονγκό"
          ],
          [
           "Λαϊκή Δημ/τία Κονγκό"
          ],
          [
           "Λαϊκή Δημ/τία Κονγκό"
          ],
          [
           "Λαϊκή Δημ/τία Κονγκό"
          ],
          [
           "Λαϊκή Δημ/τία Κονγκό"
          ],
          [
           "Λαϊκή Δημ/τία Κονγκό"
          ],
          [
           "Λαϊκή Δημ/τία Κονγκό"
          ],
          [
           "Λαϊκή Δημ/τία Κονγκό"
          ]
         ],
         "hoverlabel": {
          "namelength": 0
         },
         "hovertemplate": "Χώρα=%{customdata[0]}<br>Αριθμός Κρουσμάτων=%{y}",
         "legendgroup": "Λαϊκή Δημ/τία Κονγκό",
         "line": {
          "color": "rgb(189,189,189)",
          "dash": "solid",
          "shape": "spline"
         },
         "mode": "lines",
         "name": "Λαϊκή Δημ/τία Κονγκό",
         "showlegend": true,
         "type": "scatter",
         "xaxis": "x",
         "y": [
          13,
          13,
          18,
          18,
          18,
          18,
          18,
          18,
          20,
          20,
          20
         ],
         "yaxis": "y"
        },
        {
         "customdata": [
          [
           "Κροατία"
          ],
          [
           "Κροατία"
          ],
          [
           "Κροατία"
          ],
          [
           "Κροατία"
          ],
          [
           "Κροατία"
          ],
          [
           "Κροατία"
          ],
          [
           "Κροατία"
          ],
          [
           "Κροατία"
          ],
          [
           "Κροατία"
          ]
         ],
         "hoverlabel": {
          "namelength": 0
         },
         "hovertemplate": "Χώρα=%{customdata[0]}<br>Αριθμός Κρουσμάτων=%{y}",
         "legendgroup": "Κροατία",
         "line": {
          "color": "rgb(189,189,189)",
          "dash": "solid",
          "shape": "spline"
         },
         "mode": "lines",
         "name": "Κροατία",
         "showlegend": true,
         "type": "scatter",
         "xaxis": "x",
         "y": [
          12,
          15,
          16,
          18,
          19,
          20,
          21,
          21,
          23
         ],
         "yaxis": "y"
        },
        {
         "customdata": [
          [
           "Κούβα"
          ],
          [
           "Κούβα"
          ],
          [
           "Κούβα"
          ],
          [
           "Κούβα"
          ],
          [
           "Κούβα"
          ],
          [
           "Κούβα"
          ]
         ],
         "hoverlabel": {
          "namelength": 0
         },
         "hovertemplate": "Χώρα=%{customdata[0]}<br>Αριθμός Κρουσμάτων=%{y}",
         "legendgroup": "Κούβα",
         "line": {
          "color": "rgb(189,189,189)",
          "dash": "solid",
          "shape": "spline"
         },
         "mode": "lines",
         "name": "Κούβα",
         "showlegend": true,
         "type": "scatter",
         "xaxis": "x",
         "y": [
          11,
          12,
          15,
          15,
          16,
          18
         ],
         "yaxis": "y"
        },
        {
         "customdata": [
          [
           "Κύπρος"
          ],
          [
           "Κύπρος"
          ],
          [
           "Κύπρος"
          ],
          [
           "Κύπρος"
          ],
          [
           "Κύπρος"
          ],
          [
           "Κύπρος"
          ],
          [
           "Κύπρος"
          ]
         ],
         "hoverlabel": {
          "namelength": 0
         },
         "hovertemplate": "Χώρα=%{customdata[0]}<br>Αριθμός Κρουσμάτων=%{y}",
         "legendgroup": "Κύπρος",
         "line": {
          "color": "rgb(189,189,189)",
          "dash": "solid",
          "shape": "spline"
         },
         "mode": "lines",
         "name": "Κύπρος",
         "showlegend": true,
         "type": "scatter",
         "xaxis": "x",
         "y": [
          10,
          11,
          11,
          10,
          10,
          10,
          11
         ],
         "yaxis": "y"
        },
        {
         "customdata": [
          [
           "Τσεχία"
          ],
          [
           "Τσεχία"
          ],
          [
           "Τσεχία"
          ],
          [
           "Τσεχία"
          ],
          [
           "Τσεχία"
          ],
          [
           "Τσεχία"
          ],
          [
           "Τσεχία"
          ],
          [
           "Τσεχία"
          ],
          [
           "Τσεχία"
          ],
          [
           "Τσεχία"
          ],
          [
           "Τσεχία"
          ],
          [
           "Τσεχία"
          ],
          [
           "Τσεχία"
          ],
          [
           "Τσεχία"
          ],
          [
           "Τσεχία"
          ],
          [
           "Τσεχία"
          ]
         ],
         "hoverlabel": {
          "namelength": 0
         },
         "hovertemplate": "Χώρα=%{customdata[0]}<br>Αριθμός Κρουσμάτων=%{y}",
         "legendgroup": "Τσεχία",
         "line": {
          "color": "rgb(189,189,189)",
          "dash": "solid",
          "shape": "spline"
         },
         "mode": "lines",
         "name": "Τσεχία",
         "showlegend": true,
         "type": "scatter",
         "xaxis": "x",
         "y": [
          11,
          16,
          23,
          31,
          39,
          44,
          53,
          59,
          67,
          78,
          88,
          99,
          112,
          119,
          129,
          138
         ],
         "yaxis": "y"
        },
        {
         "customdata": [
          [
           "Δανία"
          ],
          [
           "Δανία"
          ],
          [
           "Δανία"
          ],
          [
           "Δανία"
          ],
          [
           "Δανία"
          ],
          [
           "Δανία"
          ],
          [
           "Δανία"
          ],
          [
           "Δανία"
          ],
          [
           "Δανία"
          ],
          [
           "Δανία"
          ],
          [
           "Δανία"
          ],
          [
           "Δανία"
          ],
          [
           "Δανία"
          ],
          [
           "Δανία"
          ],
          [
           "Δανία"
          ],
          [
           "Δανία"
          ],
          [
           "Δανία"
          ],
          [
           "Δανία"
          ],
          [
           "Δανία"
          ],
          [
           "Δανία"
          ],
          [
           "Δανία"
          ],
          [
           "Δανία"
          ],
          [
           "Δανία"
          ]
         ],
         "hoverlabel": {
          "namelength": 0
         },
         "hovertemplate": "Χώρα=%{customdata[0]}<br>Αριθμός Κρουσμάτων=%{y}",
         "legendgroup": "Δανία",
         "line": {
          "color": "rgb(189,189,189)",
          "dash": "solid",
          "shape": "spline"
         },
         "mode": "lines",
         "name": "Δανία",
         "showlegend": true,
         "type": "scatter",
         "xaxis": "x",
         "y": [
          13,
          13,
          24,
          32,
          34,
          41,
          52,
          65,
          72,
          77,
          90,
          104,
          123,
          139,
          161,
          179,
          187,
          203,
          218,
          237,
          247,
          260,
          273
         ],
         "yaxis": "y"
        },
        {
         "customdata": [
          [
           "Δομινικανή Δημ/τία"
          ],
          [
           "Δομινικανή Δημ/τία"
          ],
          [
           "Δομινικανή Δημ/τία"
          ],
          [
           "Δομινικανή Δημ/τία"
          ],
          [
           "Δομινικανή Δημ/τία"
          ],
          [
           "Δομινικανή Δημ/τία"
          ],
          [
           "Δομινικανή Δημ/τία"
          ],
          [
           "Δομινικανή Δημ/τία"
          ],
          [
           "Δομινικανή Δημ/τία"
          ],
          [
           "Δομινικανή Δημ/τία"
          ],
          [
           "Δομινικανή Δημ/τία"
          ],
          [
           "Δομινικανή Δημ/τία"
          ],
          [
           "Δομινικανή Δημ/τία"
          ],
          [
           "Δομινικανή Δημ/τία"
          ],
          [
           "Δομινικανή Δημ/τία"
          ],
          [
           "Δομινικανή Δημ/τία"
          ],
          [
           "Δομινικανή Δημ/τία"
          ],
          [
           "Δομινικανή Δημ/τία"
          ],
          [
           "Δομινικανή Δημ/τία"
          ]
         ],
         "hoverlabel": {
          "namelength": 0
         },
         "hovertemplate": "Χώρα=%{customdata[0]}<br>Αριθμός Κρουσμάτων=%{y}",
         "legendgroup": "Δομινικανή Δημ/τία",
         "line": {
          "color": "rgb(189,189,189)",
          "dash": "solid",
          "shape": "spline"
         },
         "mode": "lines",
         "name": "Δομινικανή Δημ/τία",
         "showlegend": true,
         "type": "scatter",
         "xaxis": "x",
         "y": [
          10,
          10,
          20,
          28,
          39,
          42,
          51,
          57,
          60,
          68,
          68,
          82,
          86,
          98,
          108,
          118,
          126,
          135,
          173
         ],
         "yaxis": "y"
        },
        {
         "customdata": [
          [
           "Ισημερινός"
          ],
          [
           "Ισημερινός"
          ],
          [
           "Ισημερινός"
          ],
          [
           "Ισημερινός"
          ],
          [
           "Ισημερινός"
          ],
          [
           "Ισημερινός"
          ],
          [
           "Ισημερινός"
          ],
          [
           "Ισημερινός"
          ],
          [
           "Ισημερινός"
          ],
          [
           "Ισημερινός"
          ],
          [
           "Ισημερινός"
          ],
          [
           "Ισημερινός"
          ],
          [
           "Ισημερινός"
          ],
          [
           "Ισημερινός"
          ],
          [
           "Ισημερινός"
          ],
          [
           "Ισημερινός"
          ],
          [
           "Ισημερινός"
          ],
          [
           "Ισημερινός"
          ],
          [
           "Ισημερινός"
          ],
          [
           "Ισημερινός"
          ],
          [
           "Ισημερινός"
          ],
          [
           "Ισημερινός"
          ]
         ],
         "hoverlabel": {
          "namelength": 0
         },
         "hovertemplate": "Χώρα=%{customdata[0]}<br>Αριθμός Κρουσμάτων=%{y}",
         "legendgroup": "Ισημερινός",
         "line": {
          "color": "rgb(189,189,189)",
          "dash": "solid",
          "shape": "spline"
         },
         "mode": "lines",
         "name": "Ισημερινός",
         "showlegend": true,
         "type": "scatter",
         "xaxis": "x",
         "y": [
          14,
          18,
          27,
          28,
          34,
          36,
          48,
          58,
          60,
          75,
          93,
          120,
          145,
          172,
          180,
          191,
          191,
          242,
          272,
          297,
          315,
          333
         ],
         "yaxis": "y"
        },
        {
         "customdata": [
          [
           "Αίγυπτος"
          ],
          [
           "Αίγυπτος"
          ],
          [
           "Αίγυπτος"
          ],
          [
           "Αίγυπτος"
          ],
          [
           "Αίγυπτος"
          ],
          [
           "Αίγυπτος"
          ],
          [
           "Αίγυπτος"
          ],
          [
           "Αίγυπτος"
          ],
          [
           "Αίγυπτος"
          ],
          [
           "Αίγυπτος"
          ],
          [
           "Αίγυπτος"
          ],
          [
           "Αίγυπτος"
          ],
          [
           "Αίγυπτος"
          ],
          [
           "Αίγυπτος"
          ],
          [
           "Αίγυπτος"
          ],
          [
           "Αίγυπτος"
          ],
          [
           "Αίγυπτος"
          ],
          [
           "Αίγυπτος"
          ],
          [
           "Αίγυπτος"
          ],
          [
           "Αίγυπτος"
          ],
          [
           "Αίγυπτος"
          ],
          [
           "Αίγυπτος"
          ],
          [
           "Αίγυπτος"
          ]
         ],
         "hoverlabel": {
          "namelength": 0
         },
         "hovertemplate": "Χώρα=%{customdata[0]}<br>Αριθμός Κρουσμάτων=%{y}",
         "legendgroup": "Αίγυπτος",
         "line": {
          "color": "rgb(189,189,189)",
          "dash": "solid",
          "shape": "spline"
         },
         "mode": "lines",
         "name": "Αίγυπτος",
         "showlegend": true,
         "type": "scatter",
         "xaxis": "x",
         "y": [
          10,
          14,
          19,
          20,
          21,
          24,
          30,
          36,
          40,
          41,
          46,
          52,
          58,
          66,
          71,
          78,
          85,
          94,
          103,
          118,
          135,
          146,
          159
         ],
         "yaxis": "y"
        },
        {
         "customdata": [
          [
           "Εσθονία"
          ],
          [
           "Εσθονία"
          ],
          [
           "Εσθονία"
          ],
          [
           "Εσθονία"
          ],
          [
           "Εσθονία"
          ],
          [
           "Εσθονία"
          ],
          [
           "Εσθονία"
          ],
          [
           "Εσθονία"
          ],
          [
           "Εσθονία"
          ],
          [
           "Εσθονία"
          ],
          [
           "Εσθονία"
          ]
         ],
         "hoverlabel": {
          "namelength": 0
         },
         "hovertemplate": "Χώρα=%{customdata[0]}<br>Αριθμός Κρουσμάτων=%{y}",
         "legendgroup": "Εσθονία",
         "line": {
          "color": "rgb(189,189,189)",
          "dash": "solid",
          "shape": "spline"
         },
         "mode": "lines",
         "name": "Εσθονία",
         "showlegend": true,
         "type": "scatter",
         "xaxis": "x",
         "y": [
          11,
          12,
          13,
          15,
          19,
          21,
          24,
          24,
          24,
          24,
          25
         ],
         "yaxis": "y"
        },
        {
         "customdata": [
          [
           "Φινλανδία"
          ],
          [
           "Φινλανδία"
          ],
          [
           "Φινλανδία"
          ],
          [
           "Φινλανδία"
          ],
          [
           "Φινλανδία"
          ],
          [
           "Φινλανδία"
          ],
          [
           "Φινλανδία"
          ],
          [
           "Φινλανδία"
          ],
          [
           "Φινλανδία"
          ],
          [
           "Φινλανδία"
          ],
          [
           "Φινλανδία"
          ],
          [
           "Φινλανδία"
          ],
          [
           "Φινλανδία"
          ],
          [
           "Φινλανδία"
          ],
          [
           "Φινλανδία"
          ]
         ],
         "hoverlabel": {
          "namelength": 0
         },
         "hovertemplate": "Χώρα=%{customdata[0]}<br>Αριθμός Κρουσμάτων=%{y}",
         "legendgroup": "Φινλανδία",
         "line": {
          "color": "rgb(189,189,189)",
          "dash": "solid",
          "shape": "spline"
         },
         "mode": "lines",
         "name": "Φινλανδία",
         "showlegend": true,
         "type": "scatter",
         "xaxis": "x",
         "y": [
          11,
          13,
          17,
          17,
          19,
          20,
          25,
          28,
          27,
          34,
          40,
          42,
          48,
          49,
          56
         ],
         "yaxis": "y"
        },
        {
         "customdata": [
          [
           "Γαλλία"
          ],
          [
           "Γαλλία"
          ],
          [
           "Γαλλία"
          ],
          [
           "Γαλλία"
          ],
          [
           "Γαλλία"
          ],
          [
           "Γαλλία"
          ],
          [
           "Γαλλία"
          ],
          [
           "Γαλλία"
          ],
          [
           "Γαλλία"
          ],
          [
           "Γαλλία"
          ],
          [
           "Γαλλία"
          ],
          [
           "Γαλλία"
          ],
          [
           "Γαλλία"
          ],
          [
           "Γαλλία"
          ],
          [
           "Γαλλία"
          ],
          [
           "Γαλλία"
          ],
          [
           "Γαλλία"
          ],
          [
           "Γαλλία"
          ],
          [
           "Γαλλία"
          ],
          [
           "Γαλλία"
          ],
          [
           "Γαλλία"
          ],
          [
           "Γαλλία"
          ],
          [
           "Γαλλία"
          ],
          [
           "Γαλλία"
          ],
          [
           "Γαλλία"
          ],
          [
           "Γαλλία"
          ],
          [
           "Γαλλία"
          ],
          [
           "Γαλλία"
          ],
          [
           "Γαλλία"
          ],
          [
           "Γαλλία"
          ],
          [
           "Γαλλία"
          ],
          [
           "Γαλλία"
          ],
          [
           "Γαλλία"
          ],
          [
           "Γαλλία"
          ],
          [
           "Γαλλία"
          ],
          [
           "Γαλλία"
          ],
          [
           "Γαλλία"
          ]
         ],
         "hoverlabel": {
          "namelength": 0
         },
         "hovertemplate": "Χώρα=%{customdata[0]}<br>Αριθμός Κρουσμάτων=%{y}",
         "legendgroup": "Γαλλία",
         "line": {
          "color": "rgb(189,189,189)",
          "dash": "solid",
          "shape": "spline"
         },
         "mode": "lines",
         "name": "Γαλλία",
         "showlegend": true,
         "type": "scatter",
         "xaxis": "x",
         "y": [
          11,
          19,
          19,
          33,
          48,
          48,
          79,
          91,
          91,
          149,
          149,
          149,
          244,
          451,
          563,
          676,
          862,
          1102,
          1333,
          1698,
          1997,
          2317,
          2611,
          3030,
          3532,
          4043,
          5398,
          6520,
          7574,
          8093,
          8926,
          10343,
          10887,
          12228,
          13215,
          13851,
          14412
         ],
         "yaxis": "y"
        },
        {
         "customdata": [
          [
           "Ονδούρα"
          ],
          [
           "Ονδούρα"
          ],
          [
           "Ονδούρα"
          ],
          [
           "Ονδούρα"
          ],
          [
           "Ονδούρα"
          ],
          [
           "Ονδούρα"
          ],
          [
           "Ονδούρα"
          ],
          [
           "Ονδούρα"
          ],
          [
           "Ονδούρα"
          ],
          [
           "Ονδούρα"
          ],
          [
           "Ονδούρα"
          ],
          [
           "Ονδούρα"
          ]
         ],
         "hoverlabel": {
          "namelength": 0
         },
         "hovertemplate": "Χώρα=%{customdata[0]}<br>Αριθμός Κρουσμάτων=%{y}",
         "legendgroup": "Ονδούρα",
         "line": {
          "color": "rgb(189,189,189)",
          "dash": "solid",
          "shape": "spline"
         },
         "mode": "lines",
         "name": "Ονδούρα",
         "showlegend": true,
         "type": "scatter",
         "xaxis": "x",
         "y": [
          10,
          14,
          15,
          15,
          22,
          22,
          22,
          22,
          23,
          23,
          24,
          25
         ],
         "yaxis": "y"
        },
        {
         "customdata": [
          [
           "Ουγγαρία"
          ],
          [
           "Ουγγαρία"
          ],
          [
           "Ουγγαρία"
          ],
          [
           "Ουγγαρία"
          ],
          [
           "Ουγγαρία"
          ],
          [
           "Ουγγαρία"
          ],
          [
           "Ουγγαρία"
          ],
          [
           "Ουγγαρία"
          ],
          [
           "Ουγγαρία"
          ],
          [
           "Ουγγαρία"
          ],
          [
           "Ουγγαρία"
          ],
          [
           "Ουγγαρία"
          ],
          [
           "Ουγγαρία"
          ],
          [
           "Ουγγαρία"
          ],
          [
           "Ουγγαρία"
          ],
          [
           "Ουγγαρία"
          ],
          [
           "Ουγγαρία"
          ],
          [
           "Ουγγαρία"
          ],
          [
           "Ουγγαρία"
          ]
         ],
         "hoverlabel": {
          "namelength": 0
         },
         "hovertemplate": "Χώρα=%{customdata[0]}<br>Αριθμός Κρουσμάτων=%{y}",
         "legendgroup": "Ουγγαρία",
         "line": {
          "color": "rgb(189,189,189)",
          "dash": "solid",
          "shape": "spline"
         },
         "mode": "lines",
         "name": "Ουγγαρία",
         "showlegend": true,
         "type": "scatter",
         "xaxis": "x",
         "y": [
          10,
          10,
          10,
          11,
          13,
          15,
          16,
          20,
          21,
          26,
          32,
          34,
          38,
          47,
          58,
          66,
          77,
          85,
          99
         ],
         "yaxis": "y"
        },
        {
         "customdata": [
          [
           "Ινδία"
          ],
          [
           "Ινδία"
          ],
          [
           "Ινδία"
          ],
          [
           "Ινδία"
          ],
          [
           "Ινδία"
          ],
          [
           "Ινδία"
          ],
          [
           "Ινδία"
          ],
          [
           "Ινδία"
          ],
          [
           "Ινδία"
          ],
          [
           "Ινδία"
          ],
          [
           "Ινδία"
          ],
          [
           "Ινδία"
          ],
          [
           "Ινδία"
          ],
          [
           "Ινδία"
          ],
          [
           "Ινδία"
          ],
          [
           "Ινδία"
          ],
          [
           "Ινδία"
          ],
          [
           "Ινδία"
          ],
          [
           "Ινδία"
          ],
          [
           "Ινδία"
          ],
          [
           "Ινδία"
          ]
         ],
         "hoverlabel": {
          "namelength": 0
         },
         "hovertemplate": "Χώρα=%{customdata[0]}<br>Αριθμός Κρουσμάτων=%{y}",
         "legendgroup": "Ινδία",
         "line": {
          "color": "rgb(189,189,189)",
          "dash": "solid",
          "shape": "spline"
         },
         "mode": "lines",
         "name": "Ινδία",
         "showlegend": true,
         "type": "scatter",
         "xaxis": "x",
         "y": [
          10,
          10,
          12,
          20,
          20,
          24,
          27,
          32,
          35,
          58,
          72,
          72,
          86,
          99,
          136,
          150,
          178,
          226,
          246,
          288,
          331
         ],
         "yaxis": "y"
        },
        {
         "customdata": [
          [
           "Ινδονησία"
          ],
          [
           "Ινδονησία"
          ],
          [
           "Ινδονησία"
          ],
          [
           "Ινδονησία"
          ],
          [
           "Ινδονησία"
          ],
          [
           "Ινδονησία"
          ],
          [
           "Ινδονησία"
          ],
          [
           "Ινδονησία"
          ],
          [
           "Ινδονησία"
          ],
          [
           "Ινδονησία"
          ],
          [
           "Ινδονησία"
          ],
          [
           "Ινδονησία"
          ],
          [
           "Ινδονησία"
          ],
          [
           "Ινδονησία"
          ],
          [
           "Ινδονησία"
          ],
          [
           "Ινδονησία"
          ],
          [
           "Ινδονησία"
          ],
          [
           "Ινδονησία"
          ],
          [
           "Ινδονησία"
          ],
          [
           "Ινδονησία"
          ],
          [
           "Ινδονησία"
          ],
          [
           "Ινδονησία"
          ],
          [
           "Ινδονησία"
          ],
          [
           "Ινδονησία"
          ],
          [
           "Ινδονησία"
          ],
          [
           "Ινδονησία"
          ]
         ],
         "hoverlabel": {
          "namelength": 0
         },
         "hovertemplate": "Χώρα=%{customdata[0]}<br>Αριθμός Κρουσμάτων=%{y}",
         "legendgroup": "Ινδονησία",
         "line": {
          "color": "rgb(189,189,189)",
          "dash": "solid",
          "shape": "spline"
         },
         "mode": "lines",
         "name": "Ινδονησία",
         "showlegend": true,
         "type": "scatter",
         "xaxis": "x",
         "y": [
          19,
          25,
          32,
          38,
          48,
          49,
          55,
          58,
          78,
          87,
          102,
          114,
          122,
          136,
          157,
          170,
          181,
          191,
          198,
          209,
          221,
          240,
          280,
          306,
          327,
          373
         ],
         "yaxis": "y"
        },
        {
         "customdata": [
          [
           "Ιράν"
          ],
          [
           "Ιράν"
          ],
          [
           "Ιράν"
          ],
          [
           "Ιράν"
          ],
          [
           "Ιράν"
          ],
          [
           "Ιράν"
          ],
          [
           "Ιράν"
          ],
          [
           "Ιράν"
          ],
          [
           "Ιράν"
          ],
          [
           "Ιράν"
          ],
          [
           "Ιράν"
          ],
          [
           "Ιράν"
          ],
          [
           "Ιράν"
          ],
          [
           "Ιράν"
          ],
          [
           "Ιράν"
          ],
          [
           "Ιράν"
          ],
          [
           "Ιράν"
          ],
          [
           "Ιράν"
          ],
          [
           "Ιράν"
          ],
          [
           "Ιράν"
          ],
          [
           "Ιράν"
          ],
          [
           "Ιράν"
          ],
          [
           "Ιράν"
          ],
          [
           "Ιράν"
          ],
          [
           "Ιράν"
          ],
          [
           "Ιράν"
          ],
          [
           "Ιράν"
          ],
          [
           "Ιράν"
          ],
          [
           "Ιράν"
          ],
          [
           "Ιράν"
          ],
          [
           "Ιράν"
          ],
          [
           "Ιράν"
          ],
          [
           "Ιράν"
          ],
          [
           "Ιράν"
          ],
          [
           "Ιράν"
          ],
          [
           "Ιράν"
          ],
          [
           "Ιράν"
          ],
          [
           "Ιράν"
          ],
          [
           "Ιράν"
          ],
          [
           "Ιράν"
          ],
          [
           "Ιράν"
          ],
          [
           "Ιράν"
          ],
          [
           "Ιράν"
          ],
          [
           "Ιράν"
          ],
          [
           "Ιράν"
          ],
          [
           "Ιράν"
          ],
          [
           "Ιράν"
          ],
          [
           "Ιράν"
          ],
          [
           "Ιράν"
          ]
         ],
         "hoverlabel": {
          "namelength": 0
         },
         "hovertemplate": "Χώρα=%{customdata[0]}<br>Αριθμός Κρουσμάτων=%{y}",
         "legendgroup": "Ιράν",
         "line": {
          "color": "rgb(189,189,189)",
          "dash": "solid",
          "shape": "spline"
         },
         "mode": "lines",
         "name": "Ιράν",
         "showlegend": true,
         "type": "scatter",
         "xaxis": "x",
         "y": [
          12,
          16,
          19,
          26,
          34,
          43,
          54,
          66,
          77,
          92,
          107,
          124,
          145,
          194,
          237,
          291,
          354,
          429,
          514,
          611,
          724,
          853,
          988,
          1135,
          1284,
          1433,
          1556,
          1685,
          1812,
          1934,
          2077,
          2234,
          2378,
          2517,
          2640,
          2757,
          2898,
          3036,
          3160,
          3294,
          3452,
          3603,
          3739,
          3872,
          3993,
          4110,
          4232,
          4357,
          4474
         ],
         "yaxis": "y"
        },
        {
         "customdata": [
          [
           "Ιράκ"
          ],
          [
           "Ιράκ"
          ],
          [
           "Ιράκ"
          ],
          [
           "Ιράκ"
          ],
          [
           "Ιράκ"
          ],
          [
           "Ιράκ"
          ],
          [
           "Ιράκ"
          ],
          [
           "Ιράκ"
          ],
          [
           "Ιράκ"
          ],
          [
           "Ιράκ"
          ],
          [
           "Ιράκ"
          ],
          [
           "Ιράκ"
          ],
          [
           "Ιράκ"
          ],
          [
           "Ιράκ"
          ],
          [
           "Ιράκ"
          ],
          [
           "Ιράκ"
          ],
          [
           "Ιράκ"
          ],
          [
           "Ιράκ"
          ],
          [
           "Ιράκ"
          ],
          [
           "Ιράκ"
          ],
          [
           "Ιράκ"
          ],
          [
           "Ιράκ"
          ],
          [
           "Ιράκ"
          ],
          [
           "Ιράκ"
          ],
          [
           "Ιράκ"
          ],
          [
           "Ιράκ"
          ],
          [
           "Ιράκ"
          ],
          [
           "Ιράκ"
          ],
          [
           "Ιράκ"
          ],
          [
           "Ιράκ"
          ]
         ],
         "hoverlabel": {
          "namelength": 0
         },
         "hovertemplate": "Χώρα=%{customdata[0]}<br>Αριθμός Κρουσμάτων=%{y}",
         "legendgroup": "Ιράκ",
         "line": {
          "color": "rgb(189,189,189)",
          "dash": "solid",
          "shape": "spline"
         },
         "mode": "lines",
         "name": "Ιράκ",
         "showlegend": true,
         "type": "scatter",
         "xaxis": "x",
         "y": [
          10,
          10,
          10,
          11,
          12,
          13,
          17,
          17,
          20,
          23,
          27,
          29,
          36,
          40,
          42,
          42,
          46,
          50,
          52,
          54,
          54,
          56,
          61,
          64,
          65,
          69,
          69,
          70,
          72,
          76
         ],
         "yaxis": "y"
        },
        {
         "customdata": [
          [
           "Ιρλανδία"
          ],
          [
           "Ιρλανδία"
          ],
          [
           "Ιρλανδία"
          ],
          [
           "Ιρλανδία"
          ],
          [
           "Ιρλανδία"
          ],
          [
           "Ιρλανδία"
          ],
          [
           "Ιρλανδία"
          ],
          [
           "Ιρλανδία"
          ],
          [
           "Ιρλανδία"
          ],
          [
           "Ιρλανδία"
          ],
          [
           "Ιρλανδία"
          ],
          [
           "Ιρλανδία"
          ],
          [
           "Ιρλανδία"
          ],
          [
           "Ιρλανδία"
          ],
          [
           "Ιρλανδία"
          ],
          [
           "Ιρλανδία"
          ],
          [
           "Ιρλανδία"
          ],
          [
           "Ιρλανδία"
          ]
         ],
         "hoverlabel": {
          "namelength": 0
         },
         "hovertemplate": "Χώρα=%{customdata[0]}<br>Αριθμός Κρουσμάτων=%{y}",
         "legendgroup": "Ιρλανδία",
         "line": {
          "color": "rgb(189,189,189)",
          "dash": "solid",
          "shape": "spline"
         },
         "mode": "lines",
         "name": "Ιρλανδία",
         "showlegend": true,
         "type": "scatter",
         "xaxis": "x",
         "y": [
          19,
          22,
          36,
          46,
          54,
          71,
          85,
          98,
          120,
          137,
          158,
          174,
          210,
          235,
          263,
          287,
          320,
          334
         ],
         "yaxis": "y"
        },
        {
         "customdata": [
          [
           "Ισραήλ"
          ],
          [
           "Ισραήλ"
          ],
          [
           "Ισραήλ"
          ],
          [
           "Ισραήλ"
          ],
          [
           "Ισραήλ"
          ],
          [
           "Ισραήλ"
          ],
          [
           "Ισραήλ"
          ],
          [
           "Ισραήλ"
          ],
          [
           "Ισραήλ"
          ],
          [
           "Ισραήλ"
          ],
          [
           "Ισραήλ"
          ],
          [
           "Ισραήλ"
          ],
          [
           "Ισραήλ"
          ],
          [
           "Ισραήλ"
          ],
          [
           "Ισραήλ"
          ],
          [
           "Ισραήλ"
          ],
          [
           "Ισραήλ"
          ]
         ],
         "hoverlabel": {
          "namelength": 0
         },
         "hovertemplate": "Χώρα=%{customdata[0]}<br>Αριθμός Κρουσμάτων=%{y}",
         "legendgroup": "Ισραήλ",
         "line": {
          "color": "rgb(189,189,189)",
          "dash": "solid",
          "shape": "spline"
         },
         "mode": "lines",
         "name": "Ισραήλ",
         "showlegend": true,
         "type": "scatter",
         "xaxis": "x",
         "y": [
          12,
          12,
          15,
          16,
          20,
          26,
          36,
          40,
          44,
          49,
          57,
          65,
          73,
          86,
          95,
          101,
          103
         ],
         "yaxis": "y"
        },
        {
         "customdata": [
          [
           "Ιαπωνία"
          ],
          [
           "Ιαπωνία"
          ],
          [
           "Ιαπωνία"
          ],
          [
           "Ιαπωνία"
          ],
          [
           "Ιαπωνία"
          ],
          [
           "Ιαπωνία"
          ],
          [
           "Ιαπωνία"
          ],
          [
           "Ιαπωνία"
          ],
          [
           "Ιαπωνία"
          ],
          [
           "Ιαπωνία"
          ],
          [
           "Ιαπωνία"
          ],
          [
           "Ιαπωνία"
          ],
          [
           "Ιαπωνία"
          ],
          [
           "Ιαπωνία"
          ],
          [
           "Ιαπωνία"
          ],
          [
           "Ιαπωνία"
          ],
          [
           "Ιαπωνία"
          ],
          [
           "Ιαπωνία"
          ],
          [
           "Ιαπωνία"
          ],
          [
           "Ιαπωνία"
          ],
          [
           "Ιαπωνία"
          ],
          [
           "Ιαπωνία"
          ],
          [
           "Ιαπωνία"
          ],
          [
           "Ιαπωνία"
          ],
          [
           "Ιαπωνία"
          ],
          [
           "Ιαπωνία"
          ],
          [
           "Ιαπωνία"
          ],
          [
           "Ιαπωνία"
          ],
          [
           "Ιαπωνία"
          ],
          [
           "Ιαπωνία"
          ],
          [
           "Ιαπωνία"
          ],
          [
           "Ιαπωνία"
          ],
          [
           "Ιαπωνία"
          ],
          [
           "Ιαπωνία"
          ],
          [
           "Ιαπωνία"
          ]
         ],
         "hoverlabel": {
          "namelength": 0
         },
         "hovertemplate": "Χώρα=%{customdata[0]}<br>Αριθμός Κρουσμάτων=%{y}",
         "legendgroup": "Ιαπωνία",
         "line": {
          "color": "rgb(189,189,189)",
          "dash": "solid",
          "shape": "spline"
         },
         "mode": "lines",
         "name": "Ιαπωνία",
         "showlegend": true,
         "type": "scatter",
         "xaxis": "x",
         "y": [
          10,
          10,
          15,
          16,
          19,
          22,
          22,
          27,
          29,
          29,
          29,
          33,
          35,
          41,
          42,
          43,
          45,
          47,
          49,
          52,
          54,
          54,
          56,
          57,
          62,
          63,
          77,
          77,
          85,
          92,
          93,
          94,
          99,
          99,
          108
         ],
         "yaxis": "y"
        },
        {
         "customdata": [
          [
           "Καζακστάν"
          ],
          [
           "Καζακστάν"
          ],
          [
           "Καζακστάν"
          ]
         ],
         "hoverlabel": {
          "namelength": 0
         },
         "hovertemplate": "Χώρα=%{customdata[0]}<br>Αριθμός Κρουσμάτων=%{y}",
         "legendgroup": "Καζακστάν",
         "line": {
          "color": "rgb(189,189,189)",
          "dash": "solid",
          "shape": "spline"
         },
         "mode": "lines",
         "name": "Καζακστάν",
         "showlegend": true,
         "type": "scatter",
         "xaxis": "x",
         "y": [
          10,
          10,
          10
         ],
         "yaxis": "y"
        },
        {
         "customdata": [
          [
           "Νότια Κορέα"
          ],
          [
           "Νότια Κορέα"
          ],
          [
           "Νότια Κορέα"
          ],
          [
           "Νότια Κορέα"
          ],
          [
           "Νότια Κορέα"
          ],
          [
           "Νότια Κορέα"
          ],
          [
           "Νότια Κορέα"
          ],
          [
           "Νότια Κορέα"
          ],
          [
           "Νότια Κορέα"
          ],
          [
           "Νότια Κορέα"
          ],
          [
           "Νότια Κορέα"
          ],
          [
           "Νότια Κορέα"
          ],
          [
           "Νότια Κορέα"
          ],
          [
           "Νότια Κορέα"
          ],
          [
           "Νότια Κορέα"
          ],
          [
           "Νότια Κορέα"
          ],
          [
           "Νότια Κορέα"
          ],
          [
           "Νότια Κορέα"
          ],
          [
           "Νότια Κορέα"
          ],
          [
           "Νότια Κορέα"
          ],
          [
           "Νότια Κορέα"
          ],
          [
           "Νότια Κορέα"
          ],
          [
           "Νότια Κορέα"
          ],
          [
           "Νότια Κορέα"
          ],
          [
           "Νότια Κορέα"
          ],
          [
           "Νότια Κορέα"
          ],
          [
           "Νότια Κορέα"
          ],
          [
           "Νότια Κορέα"
          ],
          [
           "Νότια Κορέα"
          ],
          [
           "Νότια Κορέα"
          ],
          [
           "Νότια Κορέα"
          ],
          [
           "Νότια Κορέα"
          ],
          [
           "Νότια Κορέα"
          ],
          [
           "Νότια Κορέα"
          ],
          [
           "Νότια Κορέα"
          ],
          [
           "Νότια Κορέα"
          ],
          [
           "Νότια Κορέα"
          ],
          [
           "Νότια Κορέα"
          ],
          [
           "Νότια Κορέα"
          ],
          [
           "Νότια Κορέα"
          ],
          [
           "Νότια Κορέα"
          ],
          [
           "Νότια Κορέα"
          ],
          [
           "Νότια Κορέα"
          ],
          [
           "Νότια Κορέα"
          ],
          [
           "Νότια Κορέα"
          ],
          [
           "Νότια Κορέα"
          ],
          [
           "Νότια Κορέα"
          ],
          [
           "Νότια Κορέα"
          ]
         ],
         "hoverlabel": {
          "namelength": 0
         },
         "hovertemplate": "Χώρα=%{customdata[0]}<br>Αριθμός Κρουσμάτων=%{y}",
         "legendgroup": "Νότια Κορέα",
         "line": {
          "color": "rgb(189,189,189)",
          "dash": "solid",
          "shape": "spline"
         },
         "mode": "lines",
         "name": "Νότια Κορέα",
         "showlegend": true,
         "type": "scatter",
         "xaxis": "x",
         "y": [
          10,
          12,
          13,
          13,
          16,
          17,
          28,
          28,
          35,
          35,
          42,
          44,
          50,
          53,
          54,
          60,
          66,
          66,
          72,
          75,
          75,
          81,
          84,
          91,
          94,
          102,
          111,
          111,
          120,
          126,
          131,
          139,
          144,
          152,
          158,
          162,
          165,
          169,
          174,
          177,
          183,
          186,
          192,
          200,
          204,
          208,
          211,
          214
         ],
         "yaxis": "y"
        },
        {
         "customdata": [
          [
           "Λίβανος"
          ],
          [
           "Λίβανος"
          ],
          [
           "Λίβανος"
          ],
          [
           "Λίβανος"
          ],
          [
           "Λίβανος"
          ],
          [
           "Λίβανος"
          ],
          [
           "Λίβανος"
          ],
          [
           "Λίβανος"
          ],
          [
           "Λίβανος"
          ],
          [
           "Λίβανος"
          ],
          [
           "Λίβανος"
          ],
          [
           "Λίβανος"
          ],
          [
           "Λίβανος"
          ],
          [
           "Λίβανος"
          ],
          [
           "Λίβανος"
          ]
         ],
         "hoverlabel": {
          "namelength": 0
         },
         "hovertemplate": "Χώρα=%{customdata[0]}<br>Αριθμός Κρουσμάτων=%{y}",
         "legendgroup": "Λίβανος",
         "line": {
          "color": "rgb(189,189,189)",
          "dash": "solid",
          "shape": "spline"
         },
         "mode": "lines",
         "name": "Λίβανος",
         "showlegend": true,
         "type": "scatter",
         "xaxis": "x",
         "y": [
          10,
          11,
          12,
          14,
          16,
          17,
          17,
          18,
          19,
          19,
          19,
          19,
          20,
          20,
          20
         ],
         "yaxis": "y"
        },
        {
         "customdata": [
          [
           "Λιθουανία"
          ],
          [
           "Λιθουανία"
          ],
          [
           "Λιθουανία"
          ],
          [
           "Λιθουανία"
          ],
          [
           "Λιθουανία"
          ],
          [
           "Λιθουανία"
          ],
          [
           "Λιθουανία"
          ],
          [
           "Λιθουανία"
          ],
          [
           "Λιθουανία"
          ]
         ],
         "hoverlabel": {
          "namelength": 0
         },
         "hovertemplate": "Χώρα=%{customdata[0]}<br>Αριθμός Κρουσμάτων=%{y}",
         "legendgroup": "Λιθουανία",
         "line": {
          "color": "rgb(189,189,189)",
          "dash": "solid",
          "shape": "spline"
         },
         "mode": "lines",
         "name": "Λιθουανία",
         "showlegend": true,
         "type": "scatter",
         "xaxis": "x",
         "y": [
          11,
          13,
          15,
          15,
          15,
          16,
          22,
          23,
          23
         ],
         "yaxis": "y"
        },
        {
         "customdata": [
          [
           "Λουξεμβούργο"
          ],
          [
           "Λουξεμβούργο"
          ],
          [
           "Λουξεμβούργο"
          ],
          [
           "Λουξεμβούργο"
          ],
          [
           "Λουξεμβούργο"
          ],
          [
           "Λουξεμβούργο"
          ],
          [
           "Λουξεμβούργο"
          ],
          [
           "Λουξεμβούργο"
          ],
          [
           "Λουξεμβούργο"
          ],
          [
           "Λουξεμβούργο"
          ],
          [
           "Λουξεμβούργο"
          ],
          [
           "Λουξεμβούργο"
          ],
          [
           "Λουξεμβούργο"
          ],
          [
           "Λουξεμβούργο"
          ],
          [
           "Λουξεμβούργο"
          ],
          [
           "Λουξεμβούργο"
          ],
          [
           "Λουξεμβούργο"
          ]
         ],
         "hoverlabel": {
          "namelength": 0
         },
         "hovertemplate": "Χώρα=%{customdata[0]}<br>Αριθμός Κρουσμάτων=%{y}",
         "legendgroup": "Λουξεμβούργο",
         "line": {
          "color": "rgb(189,189,189)",
          "dash": "solid",
          "shape": "spline"
         },
         "mode": "lines",
         "name": "Λουξεμβούργο",
         "showlegend": true,
         "type": "scatter",
         "xaxis": "x",
         "y": [
          15,
          18,
          21,
          22,
          23,
          29,
          30,
          31,
          31,
          36,
          41,
          44,
          46,
          52,
          54,
          62,
          66
         ],
         "yaxis": "y"
        },
        {
         "customdata": [
          [
           "Μαλαισία"
          ],
          [
           "Μαλαισία"
          ],
          [
           "Μαλαισία"
          ],
          [
           "Μαλαισία"
          ],
          [
           "Μαλαισία"
          ],
          [
           "Μαλαισία"
          ],
          [
           "Μαλαισία"
          ],
          [
           "Μαλαισία"
          ],
          [
           "Μαλαισία"
          ],
          [
           "Μαλαισία"
          ],
          [
           "Μαλαισία"
          ],
          [
           "Μαλαισία"
          ],
          [
           "Μαλαισία"
          ],
          [
           "Μαλαισία"
          ],
          [
           "Μαλαισία"
          ],
          [
           "Μαλαισία"
          ],
          [
           "Μαλαισία"
          ],
          [
           "Μαλαισία"
          ],
          [
           "Μαλαισία"
          ],
          [
           "Μαλαισία"
          ],
          [
           "Μαλαισία"
          ],
          [
           "Μαλαισία"
          ]
         ],
         "hoverlabel": {
          "namelength": 0
         },
         "hovertemplate": "Χώρα=%{customdata[0]}<br>Αριθμός Κρουσμάτων=%{y}",
         "legendgroup": "Μαλαισία",
         "line": {
          "color": "rgb(189,189,189)",
          "dash": "solid",
          "shape": "spline"
         },
         "mode": "lines",
         "name": "Μαλαισία",
         "showlegend": true,
         "type": "scatter",
         "xaxis": "x",
         "y": [
          10,
          14,
          16,
          20,
          23,
          26,
          27,
          35,
          37,
          43,
          45,
          50,
          53,
          57,
          61,
          62,
          63,
          65,
          67,
          70,
          73,
          76
         ],
         "yaxis": "y"
        },
        {
         "customdata": [
          [
           "Μεξικό"
          ],
          [
           "Μεξικό"
          ],
          [
           "Μεξικό"
          ],
          [
           "Μεξικό"
          ],
          [
           "Μεξικό"
          ],
          [
           "Μεξικό"
          ],
          [
           "Μεξικό"
          ],
          [
           "Μεξικό"
          ],
          [
           "Μεξικό"
          ],
          [
           "Μεξικό"
          ],
          [
           "Μεξικό"
          ],
          [
           "Μεξικό"
          ],
          [
           "Μεξικό"
          ],
          [
           "Μεξικό"
          ],
          [
           "Μεξικό"
          ],
          [
           "Μεξικό"
          ]
         ],
         "hoverlabel": {
          "namelength": 0
         },
         "hovertemplate": "Χώρα=%{customdata[0]}<br>Αριθμός Κρουσμάτων=%{y}",
         "legendgroup": "Μεξικό",
         "line": {
          "color": "rgb(189,189,189)",
          "dash": "solid",
          "shape": "spline"
         },
         "mode": "lines",
         "name": "Μεξικό",
         "showlegend": true,
         "type": "scatter",
         "xaxis": "x",
         "y": [
          12,
          16,
          20,
          28,
          29,
          37,
          50,
          60,
          79,
          94,
          125,
          141,
          174,
          194,
          233,
          273
         ],
         "yaxis": "y"
        },
        {
         "customdata": [
          [
           "Μολδοβία"
          ],
          [
           "Μολδοβία"
          ],
          [
           "Μολδοβία"
          ],
          [
           "Μολδοβία"
          ],
          [
           "Μολδοβία"
          ],
          [
           "Μολδοβία"
          ],
          [
           "Μολδοβία"
          ],
          [
           "Μολδοβία"
          ],
          [
           "Μολδοβία"
          ]
         ],
         "hoverlabel": {
          "namelength": 0
         },
         "hovertemplate": "Χώρα=%{customdata[0]}<br>Αριθμός Κρουσμάτων=%{y}",
         "legendgroup": "Μολδοβία",
         "line": {
          "color": "rgb(189,189,189)",
          "dash": "solid",
          "shape": "spline"
         },
         "mode": "lines",
         "name": "Μολδοβία",
         "showlegend": true,
         "type": "scatter",
         "xaxis": "x",
         "y": [
          12,
          15,
          19,
          22,
          27,
          29,
          29,
          30,
          31
         ],
         "yaxis": "y"
        },
        {
         "customdata": [
          [
           "Μαρόκο"
          ],
          [
           "Μαρόκο"
          ],
          [
           "Μαρόκο"
          ],
          [
           "Μαρόκο"
          ],
          [
           "Μαρόκο"
          ],
          [
           "Μαρόκο"
          ],
          [
           "Μαρόκο"
          ],
          [
           "Μαρόκο"
          ],
          [
           "Μαρόκο"
          ],
          [
           "Μαρόκο"
          ],
          [
           "Μαρόκο"
          ],
          [
           "Μαρόκο"
          ],
          [
           "Μαρόκο"
          ],
          [
           "Μαρόκο"
          ],
          [
           "Μαρόκο"
          ],
          [
           "Μαρόκο"
          ],
          [
           "Μαρόκο"
          ],
          [
           "Μαρόκο"
          ]
         ],
         "hoverlabel": {
          "namelength": 0
         },
         "hovertemplate": "Χώρα=%{customdata[0]}<br>Αριθμός Κρουσμάτων=%{y}",
         "legendgroup": "Μαρόκο",
         "line": {
          "color": "rgb(189,189,189)",
          "dash": "solid",
          "shape": "spline"
         },
         "mode": "lines",
         "name": "Μαρόκο",
         "showlegend": true,
         "type": "scatter",
         "xaxis": "x",
         "y": [
          11,
          23,
          25,
          26,
          33,
          36,
          39,
          44,
          48,
          59,
          70,
          80,
          90,
          93,
          97,
          107,
          111,
          118
         ],
         "yaxis": "y"
        },
        {
         "customdata": [
          [
           "Ολλανδία"
          ],
          [
           "Ολλανδία"
          ],
          [
           "Ολλανδία"
          ],
          [
           "Ολλανδία"
          ],
          [
           "Ολλανδία"
          ],
          [
           "Ολλανδία"
          ],
          [
           "Ολλανδία"
          ],
          [
           "Ολλανδία"
          ],
          [
           "Ολλανδία"
          ],
          [
           "Ολλανδία"
          ],
          [
           "Ολλανδία"
          ],
          [
           "Ολλανδία"
          ],
          [
           "Ολλανδία"
          ],
          [
           "Ολλανδία"
          ],
          [
           "Ολλανδία"
          ],
          [
           "Ολλανδία"
          ],
          [
           "Ολλανδία"
          ],
          [
           "Ολλανδία"
          ],
          [
           "Ολλανδία"
          ],
          [
           "Ολλανδία"
          ],
          [
           "Ολλανδία"
          ],
          [
           "Ολλανδία"
          ],
          [
           "Ολλανδία"
          ],
          [
           "Ολλανδία"
          ],
          [
           "Ολλανδία"
          ],
          [
           "Ολλανδία"
          ],
          [
           "Ολλανδία"
          ],
          [
           "Ολλανδία"
          ],
          [
           "Ολλανδία"
          ],
          [
           "Ολλανδία"
          ],
          [
           "Ολλανδία"
          ]
         ],
         "hoverlabel": {
          "namelength": 0
         },
         "hovertemplate": "Χώρα=%{customdata[0]}<br>Αριθμός Κρουσμάτων=%{y}",
         "legendgroup": "Ολλανδία",
         "line": {
          "color": "rgb(189,189,189)",
          "dash": "solid",
          "shape": "spline"
         },
         "mode": "lines",
         "name": "Ολλανδία",
         "showlegend": true,
         "type": "scatter",
         "xaxis": "x",
         "y": [
          10,
          12,
          20,
          24,
          43,
          58,
          77,
          107,
          137,
          180,
          214,
          277,
          357,
          435,
          547,
          640,
          772,
          865,
          1040,
          1175,
          1341,
          1490,
          1656,
          1771,
          1874,
          2108,
          2255,
          2403,
          2520,
          2653,
          2747
         ],
         "yaxis": "y"
        },
        {
         "customdata": [
          [
           "Νίγηρας"
          ],
          [
           "Νίγηρας"
          ],
          [
           "Νίγηρας"
          ],
          [
           "Νίγηρας"
          ],
          [
           "Νίγηρας"
          ],
          [
           "Νίγηρας"
          ],
          [
           "Νίγηρας"
          ],
          [
           "Νίγηρας"
          ]
         ],
         "hoverlabel": {
          "namelength": 0
         },
         "hovertemplate": "Χώρα=%{customdata[0]}<br>Αριθμός Κρουσμάτων=%{y}",
         "legendgroup": "Νίγηρας",
         "line": {
          "color": "rgb(189,189,189)",
          "dash": "solid",
          "shape": "spline"
         },
         "mode": "lines",
         "name": "Νίγηρας",
         "showlegend": true,
         "type": "scatter",
         "xaxis": "x",
         "y": [
          10,
          10,
          11,
          11,
          11,
          11,
          11,
          12
         ],
         "yaxis": "y"
        },
        {
         "customdata": [
          [
           "Νιγηρία"
          ],
          [
           "Νιγηρία"
          ]
         ],
         "hoverlabel": {
          "namelength": 0
         },
         "hovertemplate": "Χώρα=%{customdata[0]}<br>Αριθμός Κρουσμάτων=%{y}",
         "legendgroup": "Νιγηρία",
         "line": {
          "color": "rgb(189,189,189)",
          "dash": "solid",
          "shape": "spline"
         },
         "mode": "lines",
         "name": "Νιγηρία",
         "showlegend": true,
         "type": "scatter",
         "xaxis": "x",
         "y": [
          10,
          10
         ],
         "yaxis": "y"
        },
        {
         "customdata": [
          [
           "Βόρεια Μακεδονία"
          ],
          [
           "Βόρεια Μακεδονία"
          ],
          [
           "Βόρεια Μακεδονία"
          ],
          [
           "Βόρεια Μακεδονία"
          ],
          [
           "Βόρεια Μακεδονία"
          ],
          [
           "Βόρεια Μακεδονία"
          ],
          [
           "Βόρεια Μακεδονία"
          ],
          [
           "Βόρεια Μακεδονία"
          ],
          [
           "Βόρεια Μακεδονία"
          ],
          [
           "Βόρεια Μακεδονία"
          ],
          [
           "Βόρεια Μακεδονία"
          ],
          [
           "Βόρεια Μακεδονία"
          ]
         ],
         "hoverlabel": {
          "namelength": 0
         },
         "hovertemplate": "Χώρα=%{customdata[0]}<br>Αριθμός Κρουσμάτων=%{y}",
         "legendgroup": "Βόρεια Μακεδονία",
         "line": {
          "color": "rgb(189,189,189)",
          "dash": "solid",
          "shape": "spline"
         },
         "mode": "lines",
         "name": "Βόρεια Μακεδονία",
         "showlegend": true,
         "type": "scatter",
         "xaxis": "x",
         "y": [
          11,
          11,
          12,
          17,
          18,
          23,
          26,
          29,
          30,
          32,
          34,
          34
         ],
         "yaxis": "y"
        },
        {
         "customdata": [
          [
           "Νορβηγία"
          ],
          [
           "Νορβηγία"
          ],
          [
           "Νορβηγία"
          ],
          [
           "Νορβηγία"
          ],
          [
           "Νορβηγία"
          ],
          [
           "Νορβηγία"
          ],
          [
           "Νορβηγία"
          ],
          [
           "Νορβηγία"
          ],
          [
           "Νορβηγία"
          ],
          [
           "Νορβηγία"
          ],
          [
           "Νορβηγία"
          ],
          [
           "Νορβηγία"
          ],
          [
           "Νορβηγία"
          ],
          [
           "Νορβηγία"
          ],
          [
           "Νορβηγία"
          ],
          [
           "Νορβηγία"
          ],
          [
           "Νορβηγία"
          ],
          [
           "Νορβηγία"
          ],
          [
           "Νορβηγία"
          ],
          [
           "Νορβηγία"
          ],
          [
           "Νορβηγία"
          ]
         ],
         "hoverlabel": {
          "namelength": 0
         },
         "hovertemplate": "Χώρα=%{customdata[0]}<br>Αριθμός Κρουσμάτων=%{y}",
         "legendgroup": "Νορβηγία",
         "line": {
          "color": "rgb(189,189,189)",
          "dash": "solid",
          "shape": "spline"
         },
         "mode": "lines",
         "name": "Νορβηγία",
         "showlegend": true,
         "type": "scatter",
         "xaxis": "x",
         "y": [
          10,
          12,
          14,
          14,
          19,
          23,
          25,
          32,
          39,
          44,
          50,
          59,
          62,
          71,
          76,
          89,
          101,
          108,
          113,
          119,
          128
         ],
         "yaxis": "y"
        },
        {
         "customdata": [
          [
           "Πακιστάν"
          ],
          [
           "Πακιστάν"
          ],
          [
           "Πακιστάν"
          ],
          [
           "Πακιστάν"
          ],
          [
           "Πακιστάν"
          ],
          [
           "Πακιστάν"
          ],
          [
           "Πακιστάν"
          ],
          [
           "Πακιστάν"
          ],
          [
           "Πακιστάν"
          ],
          [
           "Πακιστάν"
          ],
          [
           "Πακιστάν"
          ],
          [
           "Πακιστάν"
          ],
          [
           "Πακιστάν"
          ],
          [
           "Πακιστάν"
          ],
          [
           "Πακιστάν"
          ],
          [
           "Πακιστάν"
          ],
          [
           "Πακιστάν"
          ]
         ],
         "hoverlabel": {
          "namelength": 0
         },
         "hovertemplate": "Χώρα=%{customdata[0]}<br>Αριθμός Κρουσμάτων=%{y}",
         "legendgroup": "Πακιστάν",
         "line": {
          "color": "rgb(189,189,189)",
          "dash": "solid",
          "shape": "spline"
         },
         "mode": "lines",
         "name": "Πακιστάν",
         "showlegend": true,
         "type": "scatter",
         "xaxis": "x",
         "y": [
          11,
          12,
          14,
          21,
          26,
          27,
          34,
          40,
          41,
          47,
          53,
          57,
          61,
          65,
          66,
          86,
          91
         ],
         "yaxis": "y"
        },
        {
         "customdata": [
          [
           "Παναμάς"
          ],
          [
           "Παναμάς"
          ],
          [
           "Παναμάς"
          ],
          [
           "Παναμάς"
          ],
          [
           "Παναμάς"
          ],
          [
           "Παναμάς"
          ],
          [
           "Παναμάς"
          ],
          [
           "Παναμάς"
          ],
          [
           "Παναμάς"
          ],
          [
           "Παναμάς"
          ],
          [
           "Παναμάς"
          ],
          [
           "Παναμάς"
          ],
          [
           "Παναμάς"
          ],
          [
           "Παναμάς"
          ],
          [
           "Παναμάς"
          ],
          [
           "Παναμάς"
          ]
         ],
         "hoverlabel": {
          "namelength": 0
         },
         "hovertemplate": "Χώρα=%{customdata[0]}<br>Αριθμός Κρουσμάτων=%{y}",
         "legendgroup": "Παναμάς",
         "line": {
          "color": "rgb(189,189,189)",
          "dash": "solid",
          "shape": "spline"
         },
         "mode": "lines",
         "name": "Παναμάς",
         "showlegend": true,
         "type": "scatter",
         "xaxis": "x",
         "y": [
          14,
          17,
          24,
          30,
          30,
          32,
          37,
          41,
          46,
          54,
          55,
          59,
          63,
          66,
          74,
          79
         ],
         "yaxis": "y"
        },
        {
         "customdata": [
          [
           "Περού"
          ],
          [
           "Περού"
          ],
          [
           "Περού"
          ],
          [
           "Περού"
          ],
          [
           "Περού"
          ],
          [
           "Περού"
          ],
          [
           "Περού"
          ],
          [
           "Περού"
          ],
          [
           "Περού"
          ],
          [
           "Περού"
          ],
          [
           "Περού"
          ],
          [
           "Περού"
          ],
          [
           "Περού"
          ],
          [
           "Περού"
          ],
          [
           "Περού"
          ],
          [
           "Περού"
          ],
          [
           "Περού"
          ]
         ],
         "hoverlabel": {
          "namelength": 0
         },
         "hovertemplate": "Χώρα=%{customdata[0]}<br>Αριθμός Κρουσμάτων=%{y}",
         "legendgroup": "Περού",
         "line": {
          "color": "rgb(189,189,189)",
          "dash": "solid",
          "shape": "spline"
         },
         "mode": "lines",
         "name": "Περού",
         "showlegend": true,
         "type": "scatter",
         "xaxis": "x",
         "y": [
          11,
          16,
          18,
          24,
          30,
          38,
          55,
          61,
          73,
          83,
          92,
          107,
          121,
          138,
          169,
          181,
          193
         ],
         "yaxis": "y"
        },
        {
         "customdata": [
          [
           "Φιλιππίνες"
          ],
          [
           "Φιλιππίνες"
          ],
          [
           "Φιλιππίνες"
          ],
          [
           "Φιλιππίνες"
          ],
          [
           "Φιλιππίνες"
          ],
          [
           "Φιλιππίνες"
          ],
          [
           "Φιλιππίνες"
          ],
          [
           "Φιλιππίνες"
          ],
          [
           "Φιλιππίνες"
          ],
          [
           "Φιλιππίνες"
          ],
          [
           "Φιλιππίνες"
          ],
          [
           "Φιλιππίνες"
          ],
          [
           "Φιλιππίνες"
          ],
          [
           "Φιλιππίνες"
          ],
          [
           "Φιλιππίνες"
          ],
          [
           "Φιλιππίνες"
          ],
          [
           "Φιλιππίνες"
          ],
          [
           "Φιλιππίνες"
          ],
          [
           "Φιλιππίνες"
          ],
          [
           "Φιλιππίνες"
          ],
          [
           "Φιλιππίνες"
          ],
          [
           "Φιλιππίνες"
          ],
          [
           "Φιλιππίνες"
          ],
          [
           "Φιλιππίνες"
          ],
          [
           "Φιλιππίνες"
          ],
          [
           "Φιλιππίνες"
          ],
          [
           "Φιλιππίνες"
          ],
          [
           "Φιλιππίνες"
          ],
          [
           "Φιλιππίνες"
          ]
         ],
         "hoverlabel": {
          "namelength": 0
         },
         "hovertemplate": "Χώρα=%{customdata[0]}<br>Αριθμός Κρουσμάτων=%{y}",
         "legendgroup": "Φιλιππίνες",
         "line": {
          "color": "rgb(189,189,189)",
          "dash": "solid",
          "shape": "spline"
         },
         "mode": "lines",
         "name": "Φιλιππίνες",
         "showlegend": true,
         "type": "scatter",
         "xaxis": "x",
         "y": [
          11,
          12,
          12,
          19,
          17,
          18,
          19,
          25,
          33,
          35,
          38,
          45,
          54,
          68,
          71,
          78,
          88,
          96,
          107,
          136,
          144,
          152,
          163,
          177,
          182,
          203,
          221,
          247,
          297
         ],
         "yaxis": "y"
        },
        {
         "customdata": [
          [
           "Πολωνία"
          ],
          [
           "Πολωνία"
          ],
          [
           "Πολωνία"
          ],
          [
           "Πολωνία"
          ],
          [
           "Πολωνία"
          ],
          [
           "Πολωνία"
          ],
          [
           "Πολωνία"
          ],
          [
           "Πολωνία"
          ],
          [
           "Πολωνία"
          ],
          [
           "Πολωνία"
          ],
          [
           "Πολωνία"
          ],
          [
           "Πολωνία"
          ],
          [
           "Πολωνία"
          ],
          [
           "Πολωνία"
          ],
          [
           "Πολωνία"
          ],
          [
           "Πολωνία"
          ],
          [
           "Πολωνία"
          ],
          [
           "Πολωνία"
          ],
          [
           "Πολωνία"
          ],
          [
           "Πολωνία"
          ]
         ],
         "hoverlabel": {
          "namelength": 0
         },
         "hovertemplate": "Χώρα=%{customdata[0]}<br>Αριθμός Κρουσμάτων=%{y}",
         "legendgroup": "Πολωνία",
         "line": {
          "color": "rgb(189,189,189)",
          "dash": "solid",
          "shape": "spline"
         },
         "mode": "lines",
         "name": "Πολωνία",
         "showlegend": true,
         "type": "scatter",
         "xaxis": "x",
         "y": [
          10,
          14,
          16,
          16,
          18,
          22,
          31,
          33,
          43,
          57,
          71,
          79,
          94,
          107,
          129,
          159,
          174,
          181,
          208,
          232
         ],
         "yaxis": "y"
        },
        {
         "customdata": [
          [
           "Πορτογαλία"
          ],
          [
           "Πορτογαλία"
          ],
          [
           "Πορτογαλία"
          ],
          [
           "Πορτογαλία"
          ],
          [
           "Πορτογαλία"
          ],
          [
           "Πορτογαλία"
          ],
          [
           "Πορτογαλία"
          ],
          [
           "Πορτογαλία"
          ],
          [
           "Πορτογαλία"
          ],
          [
           "Πορτογαλία"
          ],
          [
           "Πορτογαλία"
          ],
          [
           "Πορτογαλία"
          ],
          [
           "Πορτογαλία"
          ],
          [
           "Πορτογαλία"
          ],
          [
           "Πορτογαλία"
          ],
          [
           "Πορτογαλία"
          ],
          [
           "Πορτογαλία"
          ],
          [
           "Πορτογαλία"
          ],
          [
           "Πορτογαλία"
          ],
          [
           "Πορτογαλία"
          ],
          [
           "Πορτογαλία"
          ],
          [
           "Πορτογαλία"
          ],
          [
           "Πορτογαλία"
          ]
         ],
         "hoverlabel": {
          "namelength": 0
         },
         "hovertemplate": "Χώρα=%{customdata[0]}<br>Αριθμός Κρουσμάτων=%{y}",
         "legendgroup": "Πορτογαλία",
         "line": {
          "color": "rgb(189,189,189)",
          "dash": "solid",
          "shape": "spline"
         },
         "mode": "lines",
         "name": "Πορτογαλία",
         "showlegend": true,
         "type": "scatter",
         "xaxis": "x",
         "y": [
          12,
          14,
          23,
          33,
          43,
          60,
          76,
          100,
          119,
          140,
          160,
          187,
          209,
          246,
          266,
          295,
          311,
          345,
          380,
          409,
          435,
          470,
          504
         ],
         "yaxis": "y"
        },
        {
         "customdata": [
          [
           "Ρουμανία"
          ],
          [
           "Ρουμανία"
          ],
          [
           "Ρουμανία"
          ],
          [
           "Ρουμανία"
          ],
          [
           "Ρουμανία"
          ],
          [
           "Ρουμανία"
          ],
          [
           "Ρουμανία"
          ],
          [
           "Ρουμανία"
          ],
          [
           "Ρουμανία"
          ],
          [
           "Ρουμανία"
          ],
          [
           "Ρουμανία"
          ],
          [
           "Ρουμανία"
          ],
          [
           "Ρουμανία"
          ],
          [
           "Ρουμανία"
          ],
          [
           "Ρουμανία"
          ],
          [
           "Ρουμανία"
          ],
          [
           "Ρουμανία"
          ],
          [
           "Ρουμανία"
          ],
          [
           "Ρουμανία"
          ],
          [
           "Ρουμανία"
          ]
         ],
         "hoverlabel": {
          "namelength": 0
         },
         "hovertemplate": "Χώρα=%{customdata[0]}<br>Αριθμός Κρουσμάτων=%{y}",
         "legendgroup": "Ρουμανία",
         "line": {
          "color": "rgb(189,189,189)",
          "dash": "solid",
          "shape": "spline"
         },
         "mode": "lines",
         "name": "Ρουμανία",
         "showlegend": true,
         "type": "scatter",
         "xaxis": "x",
         "y": [
          11,
          17,
          23,
          26,
          37,
          43,
          65,
          82,
          92,
          115,
          133,
          146,
          151,
          176,
          197,
          220,
          248,
          270,
          291,
          316
         ],
         "yaxis": "y"
        },
        {
         "customdata": [
          [
           "Ρωσία"
          ],
          [
           "Ρωσία"
          ],
          [
           "Ρωσία"
          ],
          [
           "Ρωσία"
          ],
          [
           "Ρωσία"
          ],
          [
           "Ρωσία"
          ],
          [
           "Ρωσία"
          ],
          [
           "Ρωσία"
          ],
          [
           "Ρωσία"
          ],
          [
           "Ρωσία"
          ],
          [
           "Ρωσία"
          ],
          [
           "Ρωσία"
          ],
          [
           "Ρωσία"
          ]
         ],
         "hoverlabel": {
          "namelength": 0
         },
         "hovertemplate": "Χώρα=%{customdata[0]}<br>Αριθμός Κρουσμάτων=%{y}",
         "legendgroup": "Ρωσία",
         "line": {
          "color": "rgb(189,189,189)",
          "dash": "solid",
          "shape": "spline"
         },
         "mode": "lines",
         "name": "Ρωσία",
         "showlegend": true,
         "type": "scatter",
         "xaxis": "x",
         "y": [
          17,
          24,
          30,
          34,
          43,
          45,
          47,
          58,
          63,
          76,
          94,
          106,
          130
         ],
         "yaxis": "y"
        },
        {
         "customdata": [
          [
           "Άγ. Μαρίνος"
          ],
          [
           "Άγ. Μαρίνος"
          ],
          [
           "Άγ. Μαρίνος"
          ],
          [
           "Άγ. Μαρίνος"
          ],
          [
           "Άγ. Μαρίνος"
          ],
          [
           "Άγ. Μαρίνος"
          ],
          [
           "Άγ. Μαρίνος"
          ],
          [
           "Άγ. Μαρίνος"
          ],
          [
           "Άγ. Μαρίνος"
          ],
          [
           "Άγ. Μαρίνος"
          ],
          [
           "Άγ. Μαρίνος"
          ],
          [
           "Άγ. Μαρίνος"
          ],
          [
           "Άγ. Μαρίνος"
          ],
          [
           "Άγ. Μαρίνος"
          ],
          [
           "Άγ. Μαρίνος"
          ],
          [
           "Άγ. Μαρίνος"
          ],
          [
           "Άγ. Μαρίνος"
          ],
          [
           "Άγ. Μαρίνος"
          ],
          [
           "Άγ. Μαρίνος"
          ],
          [
           "Άγ. Μαρίνος"
          ],
          [
           "Άγ. Μαρίνος"
          ],
          [
           "Άγ. Μαρίνος"
          ],
          [
           "Άγ. Μαρίνος"
          ],
          [
           "Άγ. Μαρίνος"
          ],
          [
           "Άγ. Μαρίνος"
          ],
          [
           "Άγ. Μαρίνος"
          ]
         ],
         "hoverlabel": {
          "namelength": 0
         },
         "hovertemplate": "Χώρα=%{customdata[0]}<br>Αριθμός Κρουσμάτων=%{y}",
         "legendgroup": "Άγ. Μαρίνος",
         "line": {
          "color": "rgb(189,189,189)",
          "dash": "solid",
          "shape": "spline"
         },
         "mode": "lines",
         "name": "Άγ. Μαρίνος",
         "showlegend": true,
         "type": "scatter",
         "xaxis": "x",
         "y": [
          11,
          11,
          14,
          20,
          20,
          20,
          21,
          21,
          21,
          21,
          22,
          22,
          25,
          26,
          26,
          30,
          30,
          32,
          32,
          32,
          34,
          34,
          34,
          34,
          35,
          35
         ],
         "yaxis": "y"
        },
        {
         "customdata": [
          [
           "Σαουδική Αραβία"
          ],
          [
           "Σαουδική Αραβία"
          ],
          [
           "Σαουδική Αραβία"
          ],
          [
           "Σαουδική Αραβία"
          ],
          [
           "Σαουδική Αραβία"
          ],
          [
           "Σαουδική Αραβία"
          ],
          [
           "Σαουδική Αραβία"
          ],
          [
           "Σαουδική Αραβία"
          ],
          [
           "Σαουδική Αραβία"
          ],
          [
           "Σαουδική Αραβία"
          ],
          [
           "Σαουδική Αραβία"
          ],
          [
           "Σαουδική Αραβία"
          ],
          [
           "Σαουδική Αραβία"
          ]
         ],
         "hoverlabel": {
          "namelength": 0
         },
         "hovertemplate": "Χώρα=%{customdata[0]}<br>Αριθμός Κρουσμάτων=%{y}",
         "legendgroup": "Σαουδική Αραβία",
         "line": {
          "color": "rgb(189,189,189)",
          "dash": "solid",
          "shape": "spline"
         },
         "mode": "lines",
         "name": "Σαουδική Αραβία",
         "showlegend": true,
         "type": "scatter",
         "xaxis": "x",
         "y": [
          10,
          16,
          21,
          25,
          29,
          34,
          38,
          41,
          41,
          44,
          47,
          52,
          59
         ],
         "yaxis": "y"
        },
        {
         "customdata": [
          [
           "Σερβία"
          ],
          [
           "Σερβία"
          ],
          [
           "Σερβία"
          ],
          [
           "Σερβία"
          ],
          [
           "Σερβία"
          ],
          [
           "Σερβία"
          ],
          [
           "Σερβία"
          ],
          [
           "Σερβία"
          ],
          [
           "Σερβία"
          ],
          [
           "Σερβία"
          ],
          [
           "Σερβία"
          ],
          [
           "Σερβία"
          ],
          [
           "Σερβία"
          ],
          [
           "Σερβία"
          ],
          [
           "Σερβία"
          ],
          [
           "Σερβία"
          ]
         ],
         "hoverlabel": {
          "namelength": 0
         },
         "hovertemplate": "Χώρα=%{customdata[0]}<br>Αριθμός Κρουσμάτων=%{y}",
         "legendgroup": "Σερβία",
         "line": {
          "color": "rgb(189,189,189)",
          "dash": "solid",
          "shape": "spline"
         },
         "mode": "lines",
         "name": "Σερβία",
         "showlegend": true,
         "type": "scatter",
         "xaxis": "x",
         "y": [
          10,
          13,
          16,
          16,
          28,
          31,
          39,
          44,
          51,
          58,
          61,
          65,
          66,
          71,
          74,
          80
         ],
         "yaxis": "y"
        },
        {
         "customdata": [
          [
           "Σλοβενία"
          ],
          [
           "Σλοβενία"
          ],
          [
           "Σλοβενία"
          ],
          [
           "Σλοβενία"
          ],
          [
           "Σλοβενία"
          ],
          [
           "Σλοβενία"
          ],
          [
           "Σλοβενία"
          ],
          [
           "Σλοβενία"
          ],
          [
           "Σλοβενία"
          ],
          [
           "Σλοβενία"
          ],
          [
           "Σλοβενία"
          ],
          [
           "Σλοβενία"
          ],
          [
           "Σλοβενία"
          ],
          [
           "Σλοβενία"
          ],
          [
           "Σλοβενία"
          ]
         ],
         "hoverlabel": {
          "namelength": 0
         },
         "hovertemplate": "Χώρα=%{customdata[0]}<br>Αριθμός Κρουσμάτων=%{y}",
         "legendgroup": "Σλοβενία",
         "line": {
          "color": "rgb(189,189,189)",
          "dash": "solid",
          "shape": "spline"
         },
         "mode": "lines",
         "name": "Σλοβενία",
         "showlegend": true,
         "type": "scatter",
         "xaxis": "x",
         "y": [
          11,
          11,
          15,
          15,
          17,
          20,
          22,
          28,
          30,
          36,
          40,
          43,
          45,
          50,
          53
         ],
         "yaxis": "y"
        },
        {
         "customdata": [
          [
           "Νότια Αφρική"
          ],
          [
           "Νότια Αφρική"
          ],
          [
           "Νότια Αφρική"
          ],
          [
           "Νότια Αφρική"
          ],
          [
           "Νότια Αφρική"
          ],
          [
           "Νότια Αφρική"
          ],
          [
           "Νότια Αφρική"
          ],
          [
           "Νότια Αφρική"
          ]
         ],
         "hoverlabel": {
          "namelength": 0
         },
         "hovertemplate": "Χώρα=%{customdata[0]}<br>Αριθμός Κρουσμάτων=%{y}",
         "legendgroup": "Νότια Αφρική",
         "line": {
          "color": "rgb(189,189,189)",
          "dash": "solid",
          "shape": "spline"
         },
         "mode": "lines",
         "name": "Νότια Αφρική",
         "showlegend": true,
         "type": "scatter",
         "xaxis": "x",
         "y": [
          11,
          12,
          13,
          18,
          18,
          24,
          25,
          25
         ],
         "yaxis": "y"
        },
        {
         "customdata": [
          [
           "Σουηδία"
          ],
          [
           "Σουηδία"
          ],
          [
           "Σουηδία"
          ],
          [
           "Σουηδία"
          ],
          [
           "Σουηδία"
          ],
          [
           "Σουηδία"
          ],
          [
           "Σουηδία"
          ],
          [
           "Σουηδία"
          ],
          [
           "Σουηδία"
          ],
          [
           "Σουηδία"
          ],
          [
           "Σουηδία"
          ],
          [
           "Σουηδία"
          ],
          [
           "Σουηδία"
          ],
          [
           "Σουηδία"
          ],
          [
           "Σουηδία"
          ],
          [
           "Σουηδία"
          ],
          [
           "Σουηδία"
          ],
          [
           "Σουηδία"
          ],
          [
           "Σουηδία"
          ],
          [
           "Σουηδία"
          ],
          [
           "Σουηδία"
          ],
          [
           "Σουηδία"
          ],
          [
           "Σουηδία"
          ],
          [
           "Σουηδία"
          ],
          [
           "Σουηδία"
          ],
          [
           "Σουηδία"
          ]
         ],
         "hoverlabel": {
          "namelength": 0
         },
         "hovertemplate": "Χώρα=%{customdata[0]}<br>Αριθμός Κρουσμάτων=%{y}",
         "legendgroup": "Σουηδία",
         "line": {
          "color": "rgb(189,189,189)",
          "dash": "solid",
          "shape": "spline"
         },
         "mode": "lines",
         "name": "Σουηδία",
         "showlegend": true,
         "type": "scatter",
         "xaxis": "x",
         "y": [
          10,
          11,
          16,
          20,
          21,
          25,
          36,
          62,
          77,
          105,
          105,
          110,
          146,
          180,
          239,
          308,
          358,
          373,
          401,
          477,
          591,
          687,
          793,
          870,
          887,
          899
         ],
         "yaxis": "y"
        },
        {
         "customdata": [
          [
           "Ελβετία"
          ],
          [
           "Ελβετία"
          ],
          [
           "Ελβετία"
          ],
          [
           "Ελβετία"
          ],
          [
           "Ελβετία"
          ],
          [
           "Ελβετία"
          ],
          [
           "Ελβετία"
          ],
          [
           "Ελβετία"
          ],
          [
           "Ελβετία"
          ],
          [
           "Ελβετία"
          ],
          [
           "Ελβετία"
          ],
          [
           "Ελβετία"
          ],
          [
           "Ελβετία"
          ],
          [
           "Ελβετία"
          ],
          [
           "Ελβετία"
          ],
          [
           "Ελβετία"
          ],
          [
           "Ελβετία"
          ],
          [
           "Ελβετία"
          ],
          [
           "Ελβετία"
          ],
          [
           "Ελβετία"
          ],
          [
           "Ελβετία"
          ],
          [
           "Ελβετία"
          ],
          [
           "Ελβετία"
          ],
          [
           "Ελβετία"
          ],
          [
           "Ελβετία"
          ],
          [
           "Ελβετία"
          ],
          [
           "Ελβετία"
          ],
          [
           "Ελβετία"
          ],
          [
           "Ελβετία"
          ],
          [
           "Ελβετία"
          ],
          [
           "Ελβετία"
          ]
         ],
         "hoverlabel": {
          "namelength": 0
         },
         "hovertemplate": "Χώρα=%{customdata[0]}<br>Αριθμός Κρουσμάτων=%{y}",
         "legendgroup": "Ελβετία",
         "line": {
          "color": "rgb(189,189,189)",
          "dash": "solid",
          "shape": "spline"
         },
         "mode": "lines",
         "name": "Ελβετία",
         "showlegend": true,
         "type": "scatter",
         "xaxis": "x",
         "y": [
          11,
          13,
          14,
          14,
          27,
          28,
          41,
          54,
          75,
          98,
          120,
          122,
          153,
          191,
          231,
          264,
          300,
          359,
          433,
          488,
          536,
          591,
          666,
          715,
          765,
          821,
          895,
          948,
          1002,
          1036,
          1106
         ],
         "yaxis": "y"
        },
        {
         "customdata": [
          [
           "Ταϊλάνδη"
          ],
          [
           "Ταϊλάνδη"
          ],
          [
           "Ταϊλάνδη"
          ],
          [
           "Ταϊλάνδη"
          ],
          [
           "Ταϊλάνδη"
          ],
          [
           "Ταϊλάνδη"
          ],
          [
           "Ταϊλάνδη"
          ],
          [
           "Ταϊλάνδη"
          ],
          [
           "Ταϊλάνδη"
          ],
          [
           "Ταϊλάνδη"
          ],
          [
           "Ταϊλάνδη"
          ],
          [
           "Ταϊλάνδη"
          ],
          [
           "Ταϊλάνδη"
          ]
         ],
         "hoverlabel": {
          "namelength": 0
         },
         "hovertemplate": "Χώρα=%{customdata[0]}<br>Αριθμός Κρουσμάτων=%{y}",
         "legendgroup": "Ταϊλάνδη",
         "line": {
          "color": "rgb(189,189,189)",
          "dash": "solid",
          "shape": "spline"
         },
         "mode": "lines",
         "name": "Ταϊλάνδη",
         "showlegend": true,
         "type": "scatter",
         "xaxis": "x",
         "y": [
          10,
          12,
          15,
          19,
          20,
          23,
          26,
          27,
          30,
          32,
          33,
          35,
          38
         ],
         "yaxis": "y"
        },
        {
         "customdata": [
          [
           "Τυνησία"
          ],
          [
           "Τυνησία"
          ],
          [
           "Τυνησία"
          ],
          [
           "Τυνησία"
          ],
          [
           "Τυνησία"
          ],
          [
           "Τυνησία"
          ],
          [
           "Τυνησία"
          ],
          [
           "Τυνησία"
          ],
          [
           "Τυνησία"
          ],
          [
           "Τυνησία"
          ],
          [
           "Τυνησία"
          ],
          [
           "Τυνησία"
          ],
          [
           "Τυνησία"
          ]
         ],
         "hoverlabel": {
          "namelength": 0
         },
         "hovertemplate": "Χώρα=%{customdata[0]}<br>Αριθμός Κρουσμάτων=%{y}",
         "legendgroup": "Τυνησία",
         "line": {
          "color": "rgb(189,189,189)",
          "dash": "solid",
          "shape": "spline"
         },
         "mode": "lines",
         "name": "Τυνησία",
         "showlegend": true,
         "type": "scatter",
         "xaxis": "x",
         "y": [
          10,
          12,
          14,
          18,
          18,
          22,
          22,
          23,
          24,
          25,
          25,
          28,
          31
         ],
         "yaxis": "y"
        },
        {
         "customdata": [
          [
           "Τουρκία"
          ],
          [
           "Τουρκία"
          ],
          [
           "Τουρκία"
          ],
          [
           "Τουρκία"
          ],
          [
           "Τουρκία"
          ],
          [
           "Τουρκία"
          ],
          [
           "Τουρκία"
          ],
          [
           "Τουρκία"
          ],
          [
           "Τουρκία"
          ],
          [
           "Τουρκία"
          ],
          [
           "Τουρκία"
          ],
          [
           "Τουρκία"
          ],
          [
           "Τουρκία"
          ],
          [
           "Τουρκία"
          ],
          [
           "Τουρκία"
          ],
          [
           "Τουρκία"
          ],
          [
           "Τουρκία"
          ],
          [
           "Τουρκία"
          ],
          [
           "Τουρκία"
          ],
          [
           "Τουρκία"
          ],
          [
           "Τουρκία"
          ],
          [
           "Τουρκία"
          ]
         ],
         "hoverlabel": {
          "namelength": 0
         },
         "hovertemplate": "Χώρα=%{customdata[0]}<br>Αριθμός Κρουσμάτων=%{y}",
         "legendgroup": "Τουρκία",
         "line": {
          "color": "rgb(189,189,189)",
          "dash": "solid",
          "shape": "spline"
         },
         "mode": "lines",
         "name": "Τουρκία",
         "showlegend": true,
         "type": "scatter",
         "xaxis": "x",
         "y": [
          30,
          37,
          44,
          59,
          75,
          92,
          108,
          131,
          168,
          214,
          277,
          356,
          425,
          501,
          574,
          649,
          725,
          812,
          908,
          1006,
          1101,
          1198
         ],
         "yaxis": "y"
        },
        {
         "customdata": [
          [
           "Ουκρανία"
          ],
          [
           "Ουκρανία"
          ],
          [
           "Ουκρανία"
          ],
          [
           "Ουκρανία"
          ],
          [
           "Ουκρανία"
          ],
          [
           "Ουκρανία"
          ],
          [
           "Ουκρανία"
          ],
          [
           "Ουκρανία"
          ],
          [
           "Ουκρανία"
          ],
          [
           "Ουκρανία"
          ],
          [
           "Ουκρανία"
          ],
          [
           "Ουκρανία"
          ],
          [
           "Ουκρανία"
          ],
          [
           "Ουκρανία"
          ],
          [
           "Ουκρανία"
          ]
         ],
         "hoverlabel": {
          "namelength": 0
         },
         "hovertemplate": "Χώρα=%{customdata[0]}<br>Αριθμός Κρουσμάτων=%{y}",
         "legendgroup": "Ουκρανία",
         "line": {
          "color": "rgb(189,189,189)",
          "dash": "solid",
          "shape": "spline"
         },
         "mode": "lines",
         "name": "Ουκρανία",
         "showlegend": true,
         "type": "scatter",
         "xaxis": "x",
         "y": [
          10,
          13,
          17,
          20,
          22,
          27,
          32,
          37,
          38,
          45,
          52,
          57,
          69,
          73,
          83
         ],
         "yaxis": "y"
        },
        {
         "customdata": [
          [
           "Ην. Αραβικά Εμιράτα"
          ],
          [
           "Ην. Αραβικά Εμιράτα"
          ],
          [
           "Ην. Αραβικά Εμιράτα"
          ],
          [
           "Ην. Αραβικά Εμιράτα"
          ],
          [
           "Ην. Αραβικά Εμιράτα"
          ],
          [
           "Ην. Αραβικά Εμιράτα"
          ],
          [
           "Ην. Αραβικά Εμιράτα"
          ],
          [
           "Ην. Αραβικά Εμιράτα"
          ],
          [
           "Ην. Αραβικά Εμιράτα"
          ]
         ],
         "hoverlabel": {
          "namelength": 0
         },
         "hovertemplate": "Χώρα=%{customdata[0]}<br>Αριθμός Κρουσμάτων=%{y}",
         "legendgroup": "Ην. Αραβικά Εμιράτα",
         "line": {
          "color": "rgb(189,189,189)",
          "dash": "solid",
          "shape": "spline"
         },
         "mode": "lines",
         "name": "Ην. Αραβικά Εμιράτα",
         "showlegend": true,
         "type": "scatter",
         "xaxis": "x",
         "y": [
          10,
          10,
          11,
          12,
          12,
          14,
          16,
          20,
          22
         ],
         "yaxis": "y"
        },
        {
         "hovertemplate": "<b>%{y:.f}</b> κρούσματα στην Γερμανία<extra></extra>",
         "line": {
          "color": "black",
          "width": 2
         },
         "name": "Γερμανία",
         "type": "scatter",
         "y": [
          11,
          17,
          24,
          28,
          44,
          67,
          84,
          94,
          123,
          157,
          206,
          267,
          342,
          433,
          533,
          645,
          775,
          920,
          1107,
          1275,
          1444,
          1584,
          1810,
          2016,
          2349,
          2607,
          2767,
          2736,
          3022
         ]
        },
        {
         "hovertemplate": "<b>%{y:.f}</b> κρούσματα στην Ιταλία<extra></extra>",
         "line": {
          "color": "#3E82B3",
          "width": 2
         },
         "name": "Ιταλία",
         "type": "scatter",
         "y": [
          12,
          17,
          21,
          29,
          34,
          52,
          79,
          107,
          148,
          197,
          233,
          366,
          463,
          631,
          827,
          827,
          1266,
          1441,
          1809,
          2158,
          2503,
          2978,
          3405,
          4032,
          4825,
          5476,
          6077,
          6820,
          7503,
          8215,
          9134,
          10023,
          10779,
          11591,
          12428,
          13155,
          13915,
          14681,
          15362,
          15887,
          16523,
          17127,
          17669,
          18279,
          18849,
          19468,
          19899
         ]
        },
        {
         "hovertemplate": "<b>%{y:.f}</b> κρούσματα στο Ηνωμένο Βασίλειο<extra></extra>",
         "line": {
          "color": "#FFD400",
          "width": 2
         },
         "name": "Ηνωμένο Βασίλειο",
         "type": "scatter",
         "y": [
          21,
          21,
          56,
          56,
          72,
          138,
          178,
          234,
          282,
          336,
          423,
          466,
          580,
          761,
          1021,
          1231,
          1411,
          1793,
          2357,
          2926,
          3611,
          4320,
          4943,
          5385,
          6171,
          7111,
          7993,
          8974,
          9892,
          10629
         ]
        },
        {
         "hovertemplate": "<b>%{y:.f}</b> κρούσματα στις ΗΠΑ<extra></extra>",
         "line": {
          "color": "lightgreen",
          "width": 2
         },
         "name": "ΗΠΑ",
         "type": "scatter",
         "y": [
          11,
          12,
          14,
          17,
          21,
          22,
          28,
          36,
          40,
          47,
          54,
          63,
          85,
          108,
          118,
          200,
          244,
          307,
          417,
          557,
          706,
          942,
          1209,
          1581,
          2026,
          2467,
          2978,
          3873,
          4757,
          5926,
          7087,
          8407,
          9619,
          10783,
          12722,
          14695,
          16478,
          18586,
          20463,
          22020
         ]
        },
        {
         "hovertemplate": "<b>%{y:.f}</b> κρούσματα στην Ισπανία<extra></extra>",
         "line": {
          "color": "purple",
          "width": 2
         },
         "name": "Ισπανία",
         "type": "scatter",
         "y": [
          17,
          28,
          35,
          54,
          55,
          133,
          195,
          289,
          342,
          533,
          623,
          830,
          1043,
          1375,
          1772,
          2311,
          2808,
          3647,
          4365,
          5138,
          5982,
          6803,
          7716,
          8464,
          9387,
          10348,
          11198,
          11947,
          12641,
          13341,
          14045,
          14792,
          15447,
          16081,
          16606,
          17209
         ]
        },
        {
         "hovertemplate": "<b>%{y:.f}</b> κρούσματα στην Ελλάδα<extra></extra>",
         "line": {
          "color": "#BA3A0A",
          "width": 3
         },
         "name": "Ελλάδα",
         "type": "scatter",
         "y": [
          13,
          15,
          17,
          20,
          22,
          26,
          28,
          32,
          38,
          43,
          49,
          50,
          53,
          63,
          68,
          73,
          79,
          81,
          83,
          87,
          92,
          93,
          98
         ]
        }
       ],
       "layout": {
        "annotations": [
         {
          "showarrow": false,
          "text": "<i>Λογαριθμική κλίμακα</i>",
          "x": -0.02,
          "xref": "paper",
          "y": 1.2,
          "yref": "paper"
         }
        ],
        "font": {
         "color": "#114B5F",
         "family": "Roboto",
         "size": 11
        },
        "height": 380,
        "hoverlabel": {
         "align": "left",
         "bgcolor": "white",
         "font": {
          "family": "Roboto",
          "size": 12
         }
        },
        "hovermode": "closest",
        "legend": {
         "bgcolor": "#E6ECEC",
         "bordercolor": "#dadada",
         "borderwidth": 0.3,
         "font": {
          "color": "black",
          "family": "roboto",
          "size": 10
         },
         "itemsizing": "constant",
         "title": {
          "text": ""
         },
         "tracegroupgap": 0,
         "traceorder": "reversed"
        },
        "paper_bgcolor": "#E6ECEC",
        "plot_bgcolor": "#E6ECEC",
        "showlegend": true,
        "template": {
         "data": {
          "bar": [
           {
            "error_x": {
             "color": "#2a3f5f"
            },
            "error_y": {
             "color": "#2a3f5f"
            },
            "marker": {
             "line": {
              "color": "#E5ECF6",
              "width": 0.5
             }
            },
            "type": "bar"
           }
          ],
          "barpolar": [
           {
            "marker": {
             "line": {
              "color": "#E5ECF6",
              "width": 0.5
             }
            },
            "type": "barpolar"
           }
          ],
          "carpet": [
           {
            "aaxis": {
             "endlinecolor": "#2a3f5f",
             "gridcolor": "white",
             "linecolor": "white",
             "minorgridcolor": "white",
             "startlinecolor": "#2a3f5f"
            },
            "baxis": {
             "endlinecolor": "#2a3f5f",
             "gridcolor": "white",
             "linecolor": "white",
             "minorgridcolor": "white",
             "startlinecolor": "#2a3f5f"
            },
            "type": "carpet"
           }
          ],
          "choropleth": [
           {
            "colorbar": {
             "outlinewidth": 0,
             "ticks": ""
            },
            "type": "choropleth"
           }
          ],
          "contour": [
           {
            "colorbar": {
             "outlinewidth": 0,
             "ticks": ""
            },
            "colorscale": [
             [
              0,
              "#0d0887"
             ],
             [
              0.1111111111111111,
              "#46039f"
             ],
             [
              0.2222222222222222,
              "#7201a8"
             ],
             [
              0.3333333333333333,
              "#9c179e"
             ],
             [
              0.4444444444444444,
              "#bd3786"
             ],
             [
              0.5555555555555556,
              "#d8576b"
             ],
             [
              0.6666666666666666,
              "#ed7953"
             ],
             [
              0.7777777777777778,
              "#fb9f3a"
             ],
             [
              0.8888888888888888,
              "#fdca26"
             ],
             [
              1,
              "#f0f921"
             ]
            ],
            "type": "contour"
           }
          ],
          "contourcarpet": [
           {
            "colorbar": {
             "outlinewidth": 0,
             "ticks": ""
            },
            "type": "contourcarpet"
           }
          ],
          "heatmap": [
           {
            "colorbar": {
             "outlinewidth": 0,
             "ticks": ""
            },
            "colorscale": [
             [
              0,
              "#0d0887"
             ],
             [
              0.1111111111111111,
              "#46039f"
             ],
             [
              0.2222222222222222,
              "#7201a8"
             ],
             [
              0.3333333333333333,
              "#9c179e"
             ],
             [
              0.4444444444444444,
              "#bd3786"
             ],
             [
              0.5555555555555556,
              "#d8576b"
             ],
             [
              0.6666666666666666,
              "#ed7953"
             ],
             [
              0.7777777777777778,
              "#fb9f3a"
             ],
             [
              0.8888888888888888,
              "#fdca26"
             ],
             [
              1,
              "#f0f921"
             ]
            ],
            "type": "heatmap"
           }
          ],
          "heatmapgl": [
           {
            "colorbar": {
             "outlinewidth": 0,
             "ticks": ""
            },
            "colorscale": [
             [
              0,
              "#0d0887"
             ],
             [
              0.1111111111111111,
              "#46039f"
             ],
             [
              0.2222222222222222,
              "#7201a8"
             ],
             [
              0.3333333333333333,
              "#9c179e"
             ],
             [
              0.4444444444444444,
              "#bd3786"
             ],
             [
              0.5555555555555556,
              "#d8576b"
             ],
             [
              0.6666666666666666,
              "#ed7953"
             ],
             [
              0.7777777777777778,
              "#fb9f3a"
             ],
             [
              0.8888888888888888,
              "#fdca26"
             ],
             [
              1,
              "#f0f921"
             ]
            ],
            "type": "heatmapgl"
           }
          ],
          "histogram": [
           {
            "marker": {
             "colorbar": {
              "outlinewidth": 0,
              "ticks": ""
             }
            },
            "type": "histogram"
           }
          ],
          "histogram2d": [
           {
            "colorbar": {
             "outlinewidth": 0,
             "ticks": ""
            },
            "colorscale": [
             [
              0,
              "#0d0887"
             ],
             [
              0.1111111111111111,
              "#46039f"
             ],
             [
              0.2222222222222222,
              "#7201a8"
             ],
             [
              0.3333333333333333,
              "#9c179e"
             ],
             [
              0.4444444444444444,
              "#bd3786"
             ],
             [
              0.5555555555555556,
              "#d8576b"
             ],
             [
              0.6666666666666666,
              "#ed7953"
             ],
             [
              0.7777777777777778,
              "#fb9f3a"
             ],
             [
              0.8888888888888888,
              "#fdca26"
             ],
             [
              1,
              "#f0f921"
             ]
            ],
            "type": "histogram2d"
           }
          ],
          "histogram2dcontour": [
           {
            "colorbar": {
             "outlinewidth": 0,
             "ticks": ""
            },
            "colorscale": [
             [
              0,
              "#0d0887"
             ],
             [
              0.1111111111111111,
              "#46039f"
             ],
             [
              0.2222222222222222,
              "#7201a8"
             ],
             [
              0.3333333333333333,
              "#9c179e"
             ],
             [
              0.4444444444444444,
              "#bd3786"
             ],
             [
              0.5555555555555556,
              "#d8576b"
             ],
             [
              0.6666666666666666,
              "#ed7953"
             ],
             [
              0.7777777777777778,
              "#fb9f3a"
             ],
             [
              0.8888888888888888,
              "#fdca26"
             ],
             [
              1,
              "#f0f921"
             ]
            ],
            "type": "histogram2dcontour"
           }
          ],
          "mesh3d": [
           {
            "colorbar": {
             "outlinewidth": 0,
             "ticks": ""
            },
            "type": "mesh3d"
           }
          ],
          "parcoords": [
           {
            "line": {
             "colorbar": {
              "outlinewidth": 0,
              "ticks": ""
             }
            },
            "type": "parcoords"
           }
          ],
          "pie": [
           {
            "automargin": true,
            "type": "pie"
           }
          ],
          "scatter": [
           {
            "marker": {
             "colorbar": {
              "outlinewidth": 0,
              "ticks": ""
             }
            },
            "type": "scatter"
           }
          ],
          "scatter3d": [
           {
            "line": {
             "colorbar": {
              "outlinewidth": 0,
              "ticks": ""
             }
            },
            "marker": {
             "colorbar": {
              "outlinewidth": 0,
              "ticks": ""
             }
            },
            "type": "scatter3d"
           }
          ],
          "scattercarpet": [
           {
            "marker": {
             "colorbar": {
              "outlinewidth": 0,
              "ticks": ""
             }
            },
            "type": "scattercarpet"
           }
          ],
          "scattergeo": [
           {
            "marker": {
             "colorbar": {
              "outlinewidth": 0,
              "ticks": ""
             }
            },
            "type": "scattergeo"
           }
          ],
          "scattergl": [
           {
            "marker": {
             "colorbar": {
              "outlinewidth": 0,
              "ticks": ""
             }
            },
            "type": "scattergl"
           }
          ],
          "scattermapbox": [
           {
            "marker": {
             "colorbar": {
              "outlinewidth": 0,
              "ticks": ""
             }
            },
            "type": "scattermapbox"
           }
          ],
          "scatterpolar": [
           {
            "marker": {
             "colorbar": {
              "outlinewidth": 0,
              "ticks": ""
             }
            },
            "type": "scatterpolar"
           }
          ],
          "scatterpolargl": [
           {
            "marker": {
             "colorbar": {
              "outlinewidth": 0,
              "ticks": ""
             }
            },
            "type": "scatterpolargl"
           }
          ],
          "scatterternary": [
           {
            "marker": {
             "colorbar": {
              "outlinewidth": 0,
              "ticks": ""
             }
            },
            "type": "scatterternary"
           }
          ],
          "surface": [
           {
            "colorbar": {
             "outlinewidth": 0,
             "ticks": ""
            },
            "colorscale": [
             [
              0,
              "#0d0887"
             ],
             [
              0.1111111111111111,
              "#46039f"
             ],
             [
              0.2222222222222222,
              "#7201a8"
             ],
             [
              0.3333333333333333,
              "#9c179e"
             ],
             [
              0.4444444444444444,
              "#bd3786"
             ],
             [
              0.5555555555555556,
              "#d8576b"
             ],
             [
              0.6666666666666666,
              "#ed7953"
             ],
             [
              0.7777777777777778,
              "#fb9f3a"
             ],
             [
              0.8888888888888888,
              "#fdca26"
             ],
             [
              1,
              "#f0f921"
             ]
            ],
            "type": "surface"
           }
          ],
          "table": [
           {
            "cells": {
             "fill": {
              "color": "#EBF0F8"
             },
             "line": {
              "color": "white"
             }
            },
            "header": {
             "fill": {
              "color": "#C8D4E3"
             },
             "line": {
              "color": "white"
             }
            },
            "type": "table"
           }
          ]
         },
         "layout": {
          "annotationdefaults": {
           "arrowcolor": "#2a3f5f",
           "arrowhead": 0,
           "arrowwidth": 1
          },
          "coloraxis": {
           "colorbar": {
            "outlinewidth": 0,
            "ticks": ""
           }
          },
          "colorscale": {
           "diverging": [
            [
             0,
             "#8e0152"
            ],
            [
             0.1,
             "#c51b7d"
            ],
            [
             0.2,
             "#de77ae"
            ],
            [
             0.3,
             "#f1b6da"
            ],
            [
             0.4,
             "#fde0ef"
            ],
            [
             0.5,
             "#f7f7f7"
            ],
            [
             0.6,
             "#e6f5d0"
            ],
            [
             0.7,
             "#b8e186"
            ],
            [
             0.8,
             "#7fbc41"
            ],
            [
             0.9,
             "#4d9221"
            ],
            [
             1,
             "#276419"
            ]
           ],
           "sequential": [
            [
             0,
             "#0d0887"
            ],
            [
             0.1111111111111111,
             "#46039f"
            ],
            [
             0.2222222222222222,
             "#7201a8"
            ],
            [
             0.3333333333333333,
             "#9c179e"
            ],
            [
             0.4444444444444444,
             "#bd3786"
            ],
            [
             0.5555555555555556,
             "#d8576b"
            ],
            [
             0.6666666666666666,
             "#ed7953"
            ],
            [
             0.7777777777777778,
             "#fb9f3a"
            ],
            [
             0.8888888888888888,
             "#fdca26"
            ],
            [
             1,
             "#f0f921"
            ]
           ],
           "sequentialminus": [
            [
             0,
             "#0d0887"
            ],
            [
             0.1111111111111111,
             "#46039f"
            ],
            [
             0.2222222222222222,
             "#7201a8"
            ],
            [
             0.3333333333333333,
             "#9c179e"
            ],
            [
             0.4444444444444444,
             "#bd3786"
            ],
            [
             0.5555555555555556,
             "#d8576b"
            ],
            [
             0.6666666666666666,
             "#ed7953"
            ],
            [
             0.7777777777777778,
             "#fb9f3a"
            ],
            [
             0.8888888888888888,
             "#fdca26"
            ],
            [
             1,
             "#f0f921"
            ]
           ]
          },
          "colorway": [
           "#636efa",
           "#EF553B",
           "#00cc96",
           "#ab63fa",
           "#FFA15A",
           "#19d3f3",
           "#FF6692",
           "#B6E880",
           "#FF97FF",
           "#FECB52"
          ],
          "font": {
           "color": "#2a3f5f"
          },
          "geo": {
           "bgcolor": "white",
           "lakecolor": "white",
           "landcolor": "#E5ECF6",
           "showlakes": true,
           "showland": true,
           "subunitcolor": "white"
          },
          "hoverlabel": {
           "align": "left"
          },
          "hovermode": "closest",
          "mapbox": {
           "style": "light"
          },
          "paper_bgcolor": "white",
          "plot_bgcolor": "#E5ECF6",
          "polar": {
           "angularaxis": {
            "gridcolor": "white",
            "linecolor": "white",
            "ticks": ""
           },
           "bgcolor": "#E5ECF6",
           "radialaxis": {
            "gridcolor": "white",
            "linecolor": "white",
            "ticks": ""
           }
          },
          "scene": {
           "xaxis": {
            "backgroundcolor": "#E5ECF6",
            "gridcolor": "white",
            "gridwidth": 2,
            "linecolor": "white",
            "showbackground": true,
            "ticks": "",
            "zerolinecolor": "white"
           },
           "yaxis": {
            "backgroundcolor": "#E5ECF6",
            "gridcolor": "white",
            "gridwidth": 2,
            "linecolor": "white",
            "showbackground": true,
            "ticks": "",
            "zerolinecolor": "white"
           },
           "zaxis": {
            "backgroundcolor": "#E5ECF6",
            "gridcolor": "white",
            "gridwidth": 2,
            "linecolor": "white",
            "showbackground": true,
            "ticks": "",
            "zerolinecolor": "white"
           }
          },
          "shapedefaults": {
           "line": {
            "color": "#2a3f5f"
           }
          },
          "ternary": {
           "aaxis": {
            "gridcolor": "white",
            "linecolor": "white",
            "ticks": ""
           },
           "baxis": {
            "gridcolor": "white",
            "linecolor": "white",
            "ticks": ""
           },
           "bgcolor": "#E5ECF6",
           "caxis": {
            "gridcolor": "white",
            "linecolor": "white",
            "ticks": ""
           }
          },
          "title": {
           "x": 0.05
          },
          "xaxis": {
           "automargin": true,
           "gridcolor": "white",
           "linecolor": "white",
           "ticks": "",
           "title": {
            "standoff": 15
           },
           "zerolinecolor": "white",
           "zerolinewidth": 2
          },
          "yaxis": {
           "automargin": true,
           "gridcolor": "white",
           "linecolor": "white",
           "ticks": "",
           "title": {
            "standoff": 15
           },
           "zerolinecolor": "white",
           "zerolinewidth": 2
          }
         }
        },
        "title": {
         "text": "Μετά τα 100 πρώτα κρούσματα ανά ημέρα (χωρίς την Κίνα)"
        },
        "xaxis": {
         "anchor": "y",
         "domain": [
          0,
          1
         ],
         "gridcolor": "#F8FAFA",
         "gridwidth": 0.1,
         "linecolor": "#F8FAFA",
         "linewidth": 0.1,
         "showgrid": true,
         "showline": false,
         "showticklabels": true,
         "tickvals": [
          5,
          10,
          15,
          20,
          25,
          30,
          35,
          40,
          45,
          50,
          55
         ],
         "title": {
          "font": {
           "color": "#114B5F",
           "size": 11
          },
          "text": "Ημέρες από το 10o κρούσμα"
         }
        },
        "yaxis": {
         "anchor": "x",
         "domain": [
          0,
          1
         ],
         "gridcolor": "#F8FAFA",
         "gridwidth": 0.1,
         "linecolor": "#114B5F",
         "linewidth": 2,
         "nticks": 4,
         "showgrid": true,
         "showline": true,
         "showticklabels": true,
         "title": {
          "font": {
           "color": "#114B5F",
           "size": 11
          },
          "text": "Αριθμός κρουσμάτων"
         },
         "type": "log"
        }
       }
      },
      "text/html": [
       "<div>\n",
       "        \n",
       "        \n",
       "            <div id=\"5cd06c88-c198-40bd-8201-41e350e5351a\" class=\"plotly-graph-div\" style=\"height:380px; width:100%;\"></div>\n",
       "            <script type=\"text/javascript\">\n",
       "                require([\"plotly\"], function(Plotly) {\n",
       "                    window.PLOTLYENV=window.PLOTLYENV || {};\n",
       "                    \n",
       "                if (document.getElementById(\"5cd06c88-c198-40bd-8201-41e350e5351a\")) {\n",
       "                    Plotly.newPlot(\n",
       "                        '5cd06c88-c198-40bd-8201-41e350e5351a',\n",
       "                        [{\"customdata\": [[\"\\u0391\\u03c6\\u03b3\\u03b1\\u03bd\\u03b9\\u03c3\\u03c4\\u03ac\\u03bd\"], [\"\\u0391\\u03c6\\u03b3\\u03b1\\u03bd\\u03b9\\u03c3\\u03c4\\u03ac\\u03bd\"], [\"\\u0391\\u03c6\\u03b3\\u03b1\\u03bd\\u03b9\\u03c3\\u03c4\\u03ac\\u03bd\"], [\"\\u0391\\u03c6\\u03b3\\u03b1\\u03bd\\u03b9\\u03c3\\u03c4\\u03ac\\u03bd\"], [\"\\u0391\\u03c6\\u03b3\\u03b1\\u03bd\\u03b9\\u03c3\\u03c4\\u03ac\\u03bd\"], [\"\\u0391\\u03c6\\u03b3\\u03b1\\u03bd\\u03b9\\u03c3\\u03c4\\u03ac\\u03bd\"], [\"\\u0391\\u03c6\\u03b3\\u03b1\\u03bd\\u03b9\\u03c3\\u03c4\\u03ac\\u03bd\"]], \"hoverlabel\": {\"namelength\": 0}, \"hovertemplate\": \"\\u03a7\\u03ce\\u03c1\\u03b1=%{customdata[0]}<br>\\u0391\\u03c1\\u03b9\\u03b8\\u03bc\\u03cc\\u03c2 \\u039a\\u03c1\\u03bf\\u03c5\\u03c3\\u03bc\\u03ac\\u03c4\\u03c9\\u03bd=%{y}\", \"legendgroup\": \"\\u0391\\u03c6\\u03b3\\u03b1\\u03bd\\u03b9\\u03c3\\u03c4\\u03ac\\u03bd\", \"line\": {\"color\": \"rgb(189,189,189)\", \"dash\": \"solid\", \"shape\": \"spline\"}, \"mode\": \"lines\", \"name\": \"\\u0391\\u03c6\\u03b3\\u03b1\\u03bd\\u03b9\\u03c3\\u03c4\\u03ac\\u03bd\", \"showlegend\": true, \"type\": \"scatter\", \"xaxis\": \"x\", \"y\": [11, 14, 14, 15, 15, 18, 18], \"yaxis\": \"y\"}, {\"customdata\": [[\"\\u0391\\u03bb\\u03b2\\u03b1\\u03bd\\u03af\\u03b1\"], [\"\\u0391\\u03bb\\u03b2\\u03b1\\u03bd\\u03af\\u03b1\"], [\"\\u0391\\u03bb\\u03b2\\u03b1\\u03bd\\u03af\\u03b1\"], [\"\\u0391\\u03bb\\u03b2\\u03b1\\u03bd\\u03af\\u03b1\"], [\"\\u0391\\u03bb\\u03b2\\u03b1\\u03bd\\u03af\\u03b1\"], [\"\\u0391\\u03bb\\u03b2\\u03b1\\u03bd\\u03af\\u03b1\"], [\"\\u0391\\u03bb\\u03b2\\u03b1\\u03bd\\u03af\\u03b1\"], [\"\\u0391\\u03bb\\u03b2\\u03b1\\u03bd\\u03af\\u03b1\"], [\"\\u0391\\u03bb\\u03b2\\u03b1\\u03bd\\u03af\\u03b1\"], [\"\\u0391\\u03bb\\u03b2\\u03b1\\u03bd\\u03af\\u03b1\"], [\"\\u0391\\u03bb\\u03b2\\u03b1\\u03bd\\u03af\\u03b1\"], [\"\\u0391\\u03bb\\u03b2\\u03b1\\u03bd\\u03af\\u03b1\"], [\"\\u0391\\u03bb\\u03b2\\u03b1\\u03bd\\u03af\\u03b1\"], [\"\\u0391\\u03bb\\u03b2\\u03b1\\u03bd\\u03af\\u03b1\"], [\"\\u0391\\u03bb\\u03b2\\u03b1\\u03bd\\u03af\\u03b1\"], [\"\\u0391\\u03bb\\u03b2\\u03b1\\u03bd\\u03af\\u03b1\"]], \"hoverlabel\": {\"namelength\": 0}, \"hovertemplate\": \"\\u03a7\\u03ce\\u03c1\\u03b1=%{customdata[0]}<br>\\u0391\\u03c1\\u03b9\\u03b8\\u03bc\\u03cc\\u03c2 \\u039a\\u03c1\\u03bf\\u03c5\\u03c3\\u03bc\\u03ac\\u03c4\\u03c9\\u03bd=%{y}\", \"legendgroup\": \"\\u0391\\u03bb\\u03b2\\u03b1\\u03bd\\u03af\\u03b1\", \"line\": {\"color\": \"rgb(189,189,189)\", \"dash\": \"solid\", \"shape\": \"spline\"}, \"mode\": \"lines\", \"name\": \"\\u0391\\u03bb\\u03b2\\u03b1\\u03bd\\u03af\\u03b1\", \"showlegend\": true, \"type\": \"scatter\", \"xaxis\": \"x\", \"y\": [10, 10, 11, 15, 15, 16, 17, 20, 20, 21, 22, 22, 23, 23, 23, 23], \"yaxis\": \"y\"}, {\"customdata\": [[\"\\u0391\\u03bb\\u03b3\\u03b5\\u03c1\\u03af\\u03b1\"], [\"\\u0391\\u03bb\\u03b3\\u03b5\\u03c1\\u03af\\u03b1\"], [\"\\u0391\\u03bb\\u03b3\\u03b5\\u03c1\\u03af\\u03b1\"], [\"\\u0391\\u03bb\\u03b3\\u03b5\\u03c1\\u03af\\u03b1\"], [\"\\u0391\\u03bb\\u03b3\\u03b5\\u03c1\\u03af\\u03b1\"], [\"\\u0391\\u03bb\\u03b3\\u03b5\\u03c1\\u03af\\u03b1\"], [\"\\u0391\\u03bb\\u03b3\\u03b5\\u03c1\\u03af\\u03b1\"], [\"\\u0391\\u03bb\\u03b3\\u03b5\\u03c1\\u03af\\u03b1\"], [\"\\u0391\\u03bb\\u03b3\\u03b5\\u03c1\\u03af\\u03b1\"], [\"\\u0391\\u03bb\\u03b3\\u03b5\\u03c1\\u03af\\u03b1\"], [\"\\u0391\\u03bb\\u03b3\\u03b5\\u03c1\\u03af\\u03b1\"], [\"\\u0391\\u03bb\\u03b3\\u03b5\\u03c1\\u03af\\u03b1\"], [\"\\u0391\\u03bb\\u03b3\\u03b5\\u03c1\\u03af\\u03b1\"], [\"\\u0391\\u03bb\\u03b3\\u03b5\\u03c1\\u03af\\u03b1\"], [\"\\u0391\\u03bb\\u03b3\\u03b5\\u03c1\\u03af\\u03b1\"], [\"\\u0391\\u03bb\\u03b3\\u03b5\\u03c1\\u03af\\u03b1\"], [\"\\u0391\\u03bb\\u03b3\\u03b5\\u03c1\\u03af\\u03b1\"], [\"\\u0391\\u03bb\\u03b3\\u03b5\\u03c1\\u03af\\u03b1\"], [\"\\u0391\\u03bb\\u03b3\\u03b5\\u03c1\\u03af\\u03b1\"], [\"\\u0391\\u03bb\\u03b3\\u03b5\\u03c1\\u03af\\u03b1\"], [\"\\u0391\\u03bb\\u03b3\\u03b5\\u03c1\\u03af\\u03b1\"], [\"\\u0391\\u03bb\\u03b3\\u03b5\\u03c1\\u03af\\u03b1\"], [\"\\u0391\\u03bb\\u03b3\\u03b5\\u03c1\\u03af\\u03b1\"], [\"\\u0391\\u03bb\\u03b3\\u03b5\\u03c1\\u03af\\u03b1\"]], \"hoverlabel\": {\"namelength\": 0}, \"hovertemplate\": \"\\u03a7\\u03ce\\u03c1\\u03b1=%{customdata[0]}<br>\\u0391\\u03c1\\u03b9\\u03b8\\u03bc\\u03cc\\u03c2 \\u039a\\u03c1\\u03bf\\u03c5\\u03c3\\u03bc\\u03ac\\u03c4\\u03c9\\u03bd=%{y}\", \"legendgroup\": \"\\u0391\\u03bb\\u03b3\\u03b5\\u03c1\\u03af\\u03b1\", \"line\": {\"color\": \"rgb(189,189,189)\", \"dash\": \"solid\", \"shape\": \"spline\"}, \"mode\": \"lines\", \"name\": \"\\u0391\\u03bb\\u03b3\\u03b5\\u03c1\\u03af\\u03b1\", \"showlegend\": true, \"type\": \"scatter\", \"xaxis\": \"x\", \"y\": [11, 15, 17, 17, 19, 21, 25, 26, 29, 31, 35, 44, 58, 86, 105, 130, 152, 173, 193, 205, 235, 256, 275, 293], \"yaxis\": \"y\"}, {\"customdata\": [[\"\\u0391\\u03bd\\u03b4\\u03cc\\u03c1\\u03c1\\u03b1\"], [\"\\u0391\\u03bd\\u03b4\\u03cc\\u03c1\\u03c1\\u03b1\"], [\"\\u0391\\u03bd\\u03b4\\u03cc\\u03c1\\u03c1\\u03b1\"], [\"\\u0391\\u03bd\\u03b4\\u03cc\\u03c1\\u03c1\\u03b1\"], [\"\\u0391\\u03bd\\u03b4\\u03cc\\u03c1\\u03c1\\u03b1\"], [\"\\u0391\\u03bd\\u03b4\\u03cc\\u03c1\\u03c1\\u03b1\"], [\"\\u0391\\u03bd\\u03b4\\u03cc\\u03c1\\u03c1\\u03b1\"], [\"\\u0391\\u03bd\\u03b4\\u03cc\\u03c1\\u03c1\\u03b1\"], [\"\\u0391\\u03bd\\u03b4\\u03cc\\u03c1\\u03c1\\u03b1\"], [\"\\u0391\\u03bd\\u03b4\\u03cc\\u03c1\\u03c1\\u03b1\"], [\"\\u0391\\u03bd\\u03b4\\u03cc\\u03c1\\u03c1\\u03b1\"], [\"\\u0391\\u03bd\\u03b4\\u03cc\\u03c1\\u03c1\\u03b1\"], [\"\\u0391\\u03bd\\u03b4\\u03cc\\u03c1\\u03c1\\u03b1\"]], \"hoverlabel\": {\"namelength\": 0}, \"hovertemplate\": \"\\u03a7\\u03ce\\u03c1\\u03b1=%{customdata[0]}<br>\\u0391\\u03c1\\u03b9\\u03b8\\u03bc\\u03cc\\u03c2 \\u039a\\u03c1\\u03bf\\u03c5\\u03c3\\u03bc\\u03ac\\u03c4\\u03c9\\u03bd=%{y}\", \"legendgroup\": \"\\u0391\\u03bd\\u03b4\\u03cc\\u03c1\\u03c1\\u03b1\", \"line\": {\"color\": \"rgb(189,189,189)\", \"dash\": \"solid\", \"shape\": \"spline\"}, \"mode\": \"lines\", \"name\": \"\\u0391\\u03bd\\u03b4\\u03cc\\u03c1\\u03c1\\u03b1\", \"showlegend\": true, \"type\": \"scatter\", \"xaxis\": \"x\", \"y\": [12, 14, 15, 16, 17, 18, 21, 22, 23, 25, 26, 26, 29], \"yaxis\": \"y\"}, {\"customdata\": [[\"\\u0391\\u03c1\\u03b3\\u03b5\\u03bd\\u03c4\\u03b9\\u03bd\\u03ae\"], [\"\\u0391\\u03c1\\u03b3\\u03b5\\u03bd\\u03c4\\u03b9\\u03bd\\u03ae\"], [\"\\u0391\\u03c1\\u03b3\\u03b5\\u03bd\\u03c4\\u03b9\\u03bd\\u03ae\"], [\"\\u0391\\u03c1\\u03b3\\u03b5\\u03bd\\u03c4\\u03b9\\u03bd\\u03ae\"], [\"\\u0391\\u03c1\\u03b3\\u03b5\\u03bd\\u03c4\\u03b9\\u03bd\\u03ae\"], [\"\\u0391\\u03c1\\u03b3\\u03b5\\u03bd\\u03c4\\u03b9\\u03bd\\u03ae\"], [\"\\u0391\\u03c1\\u03b3\\u03b5\\u03bd\\u03c4\\u03b9\\u03bd\\u03ae\"], [\"\\u0391\\u03c1\\u03b3\\u03b5\\u03bd\\u03c4\\u03b9\\u03bd\\u03ae\"], [\"\\u0391\\u03c1\\u03b3\\u03b5\\u03bd\\u03c4\\u03b9\\u03bd\\u03ae\"], [\"\\u0391\\u03c1\\u03b3\\u03b5\\u03bd\\u03c4\\u03b9\\u03bd\\u03ae\"], [\"\\u0391\\u03c1\\u03b3\\u03b5\\u03bd\\u03c4\\u03b9\\u03bd\\u03ae\"], [\"\\u0391\\u03c1\\u03b3\\u03b5\\u03bd\\u03c4\\u03b9\\u03bd\\u03ae\"], [\"\\u0391\\u03c1\\u03b3\\u03b5\\u03bd\\u03c4\\u03b9\\u03bd\\u03ae\"], [\"\\u0391\\u03c1\\u03b3\\u03b5\\u03bd\\u03c4\\u03b9\\u03bd\\u03ae\"], [\"\\u0391\\u03c1\\u03b3\\u03b5\\u03bd\\u03c4\\u03b9\\u03bd\\u03ae\"], [\"\\u0391\\u03c1\\u03b3\\u03b5\\u03bd\\u03c4\\u03b9\\u03bd\\u03ae\"], [\"\\u0391\\u03c1\\u03b3\\u03b5\\u03bd\\u03c4\\u03b9\\u03bd\\u03ae\"]], \"hoverlabel\": {\"namelength\": 0}, \"hovertemplate\": \"\\u03a7\\u03ce\\u03c1\\u03b1=%{customdata[0]}<br>\\u0391\\u03c1\\u03b9\\u03b8\\u03bc\\u03cc\\u03c2 \\u039a\\u03c1\\u03bf\\u03c5\\u03c3\\u03bc\\u03ac\\u03c4\\u03c9\\u03bd=%{y}\", \"legendgroup\": \"\\u0391\\u03c1\\u03b3\\u03b5\\u03bd\\u03c4\\u03b9\\u03bd\\u03ae\", \"line\": {\"color\": \"rgb(189,189,189)\", \"dash\": \"solid\", \"shape\": \"spline\"}, \"mode\": \"lines\", \"name\": \"\\u0391\\u03c1\\u03b3\\u03b5\\u03bd\\u03c4\\u03b9\\u03bd\\u03ae\", \"showlegend\": true, \"type\": \"scatter\", \"xaxis\": \"x\", \"y\": [13, 18, 19, 23, 27, 28, 36, 39, 43, 44, 48, 56, 63, 72, 82, 83, 90], \"yaxis\": \"y\"}, {\"customdata\": [[\"\\u0391\\u03c1\\u03bc\\u03b5\\u03bd\\u03af\\u03b1\"], [\"\\u0391\\u03c1\\u03bc\\u03b5\\u03bd\\u03af\\u03b1\"], [\"\\u0391\\u03c1\\u03bc\\u03b5\\u03bd\\u03af\\u03b1\"], [\"\\u0391\\u03c1\\u03bc\\u03b5\\u03bd\\u03af\\u03b1\"]], \"hoverlabel\": {\"namelength\": 0}, \"hovertemplate\": \"\\u03a7\\u03ce\\u03c1\\u03b1=%{customdata[0]}<br>\\u0391\\u03c1\\u03b9\\u03b8\\u03bc\\u03cc\\u03c2 \\u039a\\u03c1\\u03bf\\u03c5\\u03c3\\u03bc\\u03ac\\u03c4\\u03c9\\u03bd=%{y}\", \"legendgroup\": \"\\u0391\\u03c1\\u03bc\\u03b5\\u03bd\\u03af\\u03b1\", \"line\": {\"color\": \"rgb(189,189,189)\", \"dash\": \"solid\", \"shape\": \"spline\"}, \"mode\": \"lines\", \"name\": \"\\u0391\\u03c1\\u03bc\\u03b5\\u03bd\\u03af\\u03b1\", \"showlegend\": true, \"type\": \"scatter\", \"xaxis\": \"x\", \"y\": [10, 12, 13, 13], \"yaxis\": \"y\"}, {\"customdata\": [[\"\\u0391\\u03c5\\u03c3\\u03c4\\u03c1\\u03b1\\u03bb\\u03af\\u03b1\"], [\"\\u0391\\u03c5\\u03c3\\u03c4\\u03c1\\u03b1\\u03bb\\u03af\\u03b1\"], [\"\\u0391\\u03c5\\u03c3\\u03c4\\u03c1\\u03b1\\u03bb\\u03af\\u03b1\"], [\"\\u0391\\u03c5\\u03c3\\u03c4\\u03c1\\u03b1\\u03bb\\u03af\\u03b1\"], [\"\\u0391\\u03c5\\u03c3\\u03c4\\u03c1\\u03b1\\u03bb\\u03af\\u03b1\"], [\"\\u0391\\u03c5\\u03c3\\u03c4\\u03c1\\u03b1\\u03bb\\u03af\\u03b1\"], [\"\\u0391\\u03c5\\u03c3\\u03c4\\u03c1\\u03b1\\u03bb\\u03af\\u03b1\"], [\"\\u0391\\u03c5\\u03c3\\u03c4\\u03c1\\u03b1\\u03bb\\u03af\\u03b1\"], [\"\\u0391\\u03c5\\u03c3\\u03c4\\u03c1\\u03b1\\u03bb\\u03af\\u03b1\"], [\"\\u0391\\u03c5\\u03c3\\u03c4\\u03c1\\u03b1\\u03bb\\u03af\\u03b1\"], [\"\\u0391\\u03c5\\u03c3\\u03c4\\u03c1\\u03b1\\u03bb\\u03af\\u03b1\"], [\"\\u0391\\u03c5\\u03c3\\u03c4\\u03c1\\u03b1\\u03bb\\u03af\\u03b1\"], [\"\\u0391\\u03c5\\u03c3\\u03c4\\u03c1\\u03b1\\u03bb\\u03af\\u03b1\"], [\"\\u0391\\u03c5\\u03c3\\u03c4\\u03c1\\u03b1\\u03bb\\u03af\\u03b1\"], [\"\\u0391\\u03c5\\u03c3\\u03c4\\u03c1\\u03b1\\u03bb\\u03af\\u03b1\"], [\"\\u0391\\u03c5\\u03c3\\u03c4\\u03c1\\u03b1\\u03bb\\u03af\\u03b1\"], [\"\\u0391\\u03c5\\u03c3\\u03c4\\u03c1\\u03b1\\u03bb\\u03af\\u03b1\"], [\"\\u0391\\u03c5\\u03c3\\u03c4\\u03c1\\u03b1\\u03bb\\u03af\\u03b1\"]], \"hoverlabel\": {\"namelength\": 0}, \"hovertemplate\": \"\\u03a7\\u03ce\\u03c1\\u03b1=%{customdata[0]}<br>\\u0391\\u03c1\\u03b9\\u03b8\\u03bc\\u03cc\\u03c2 \\u039a\\u03c1\\u03bf\\u03c5\\u03c3\\u03bc\\u03ac\\u03c4\\u03c9\\u03bd=%{y}\", \"legendgroup\": \"\\u0391\\u03c5\\u03c3\\u03c4\\u03c1\\u03b1\\u03bb\\u03af\\u03b1\", \"line\": {\"color\": \"rgb(189,189,189)\", \"dash\": \"solid\", \"shape\": \"spline\"}, \"mode\": \"lines\", \"name\": \"\\u0391\\u03c5\\u03c3\\u03c4\\u03c1\\u03b1\\u03bb\\u03af\\u03b1\", \"showlegend\": true, \"type\": \"scatter\", \"xaxis\": \"x\", \"y\": [13, 13, 14, 16, 17, 18, 20, 24, 28, 30, 35, 40, 45, 50, 51, 54, 57, 60], \"yaxis\": \"y\"}, {\"customdata\": [[\"\\u0391\\u03c5\\u03c3\\u03c4\\u03c1\\u03af\\u03b1\"], [\"\\u0391\\u03c5\\u03c3\\u03c4\\u03c1\\u03af\\u03b1\"], [\"\\u0391\\u03c5\\u03c3\\u03c4\\u03c1\\u03af\\u03b1\"], [\"\\u0391\\u03c5\\u03c3\\u03c4\\u03c1\\u03af\\u03b1\"], [\"\\u0391\\u03c5\\u03c3\\u03c4\\u03c1\\u03af\\u03b1\"], [\"\\u0391\\u03c5\\u03c3\\u03c4\\u03c1\\u03af\\u03b1\"], [\"\\u0391\\u03c5\\u03c3\\u03c4\\u03c1\\u03af\\u03b1\"], [\"\\u0391\\u03c5\\u03c3\\u03c4\\u03c1\\u03af\\u03b1\"], [\"\\u0391\\u03c5\\u03c3\\u03c4\\u03c1\\u03af\\u03b1\"], [\"\\u0391\\u03c5\\u03c3\\u03c4\\u03c1\\u03af\\u03b1\"], [\"\\u0391\\u03c5\\u03c3\\u03c4\\u03c1\\u03af\\u03b1\"], [\"\\u0391\\u03c5\\u03c3\\u03c4\\u03c1\\u03af\\u03b1\"], [\"\\u0391\\u03c5\\u03c3\\u03c4\\u03c1\\u03af\\u03b1\"], [\"\\u0391\\u03c5\\u03c3\\u03c4\\u03c1\\u03af\\u03b1\"], [\"\\u0391\\u03c5\\u03c3\\u03c4\\u03c1\\u03af\\u03b1\"], [\"\\u0391\\u03c5\\u03c3\\u03c4\\u03c1\\u03af\\u03b1\"], [\"\\u0391\\u03c5\\u03c3\\u03c4\\u03c1\\u03af\\u03b1\"], [\"\\u0391\\u03c5\\u03c3\\u03c4\\u03c1\\u03af\\u03b1\"], [\"\\u0391\\u03c5\\u03c3\\u03c4\\u03c1\\u03af\\u03b1\"], [\"\\u0391\\u03c5\\u03c3\\u03c4\\u03c1\\u03af\\u03b1\"], [\"\\u0391\\u03c5\\u03c3\\u03c4\\u03c1\\u03af\\u03b1\"], [\"\\u0391\\u03c5\\u03c3\\u03c4\\u03c1\\u03af\\u03b1\"]], \"hoverlabel\": {\"namelength\": 0}, \"hovertemplate\": \"\\u03a7\\u03ce\\u03c1\\u03b1=%{customdata[0]}<br>\\u0391\\u03c1\\u03b9\\u03b8\\u03bc\\u03cc\\u03c2 \\u039a\\u03c1\\u03bf\\u03c5\\u03c3\\u03bc\\u03ac\\u03c4\\u03c9\\u03bd=%{y}\", \"legendgroup\": \"\\u0391\\u03c5\\u03c3\\u03c4\\u03c1\\u03af\\u03b1\", \"line\": {\"color\": \"rgb(189,189,189)\", \"dash\": \"solid\", \"shape\": \"spline\"}, \"mode\": \"lines\", \"name\": \"\\u0391\\u03c5\\u03c3\\u03c4\\u03c1\\u03af\\u03b1\", \"showlegend\": true, \"type\": \"scatter\", \"xaxis\": \"x\", \"y\": [16, 21, 28, 30, 49, 58, 68, 86, 108, 128, 146, 158, 168, 186, 204, 220, 243, 273, 295, 319, 337, 350], \"yaxis\": \"y\"}, {\"customdata\": [[\"\\u0391\\u03b6\\u03b5\\u03c1\\u03bc\\u03c0\\u03b1\\u03ca\\u03c4\\u03b6\\u03ac\\u03bd\"], [\"\\u0391\\u03b6\\u03b5\\u03c1\\u03bc\\u03c0\\u03b1\\u03ca\\u03c4\\u03b6\\u03ac\\u03bd\"], [\"\\u0391\\u03b6\\u03b5\\u03c1\\u03bc\\u03c0\\u03b1\\u03ca\\u03c4\\u03b6\\u03ac\\u03bd\"]], \"hoverlabel\": {\"namelength\": 0}, \"hovertemplate\": \"\\u03a7\\u03ce\\u03c1\\u03b1=%{customdata[0]}<br>\\u0391\\u03c1\\u03b9\\u03b8\\u03bc\\u03cc\\u03c2 \\u039a\\u03c1\\u03bf\\u03c5\\u03c3\\u03bc\\u03ac\\u03c4\\u03c9\\u03bd=%{y}\", \"legendgroup\": \"\\u0391\\u03b6\\u03b5\\u03c1\\u03bc\\u03c0\\u03b1\\u03ca\\u03c4\\u03b6\\u03ac\\u03bd\", \"line\": {\"color\": \"rgb(189,189,189)\", \"dash\": \"solid\", \"shape\": \"spline\"}, \"mode\": \"lines\", \"name\": \"\\u0391\\u03b6\\u03b5\\u03c1\\u03bc\\u03c0\\u03b1\\u03ca\\u03c4\\u03b6\\u03ac\\u03bd\", \"showlegend\": true, \"type\": \"scatter\", \"xaxis\": \"x\", \"y\": [10, 11, 11], \"yaxis\": \"y\"}, {\"customdata\": [[\"\\u039c\\u03c0\\u03b1\\u03bd\\u03b3\\u03ba\\u03bb\\u03b1\\u03bd\\u03c4\\u03ad\\u03c2\"], [\"\\u039c\\u03c0\\u03b1\\u03bd\\u03b3\\u03ba\\u03bb\\u03b1\\u03bd\\u03c4\\u03ad\\u03c2\"], [\"\\u039c\\u03c0\\u03b1\\u03bd\\u03b3\\u03ba\\u03bb\\u03b1\\u03bd\\u03c4\\u03ad\\u03c2\"], [\"\\u039c\\u03c0\\u03b1\\u03bd\\u03b3\\u03ba\\u03bb\\u03b1\\u03bd\\u03c4\\u03ad\\u03c2\"], [\"\\u039c\\u03c0\\u03b1\\u03bd\\u03b3\\u03ba\\u03bb\\u03b1\\u03bd\\u03c4\\u03ad\\u03c2\"], [\"\\u039c\\u03c0\\u03b1\\u03bd\\u03b3\\u03ba\\u03bb\\u03b1\\u03bd\\u03c4\\u03ad\\u03c2\"], [\"\\u039c\\u03c0\\u03b1\\u03bd\\u03b3\\u03ba\\u03bb\\u03b1\\u03bd\\u03c4\\u03ad\\u03c2\"]], \"hoverlabel\": {\"namelength\": 0}, \"hovertemplate\": \"\\u03a7\\u03ce\\u03c1\\u03b1=%{customdata[0]}<br>\\u0391\\u03c1\\u03b9\\u03b8\\u03bc\\u03cc\\u03c2 \\u039a\\u03c1\\u03bf\\u03c5\\u03c3\\u03bc\\u03ac\\u03c4\\u03c9\\u03bd=%{y}\", \"legendgroup\": \"\\u039c\\u03c0\\u03b1\\u03bd\\u03b3\\u03ba\\u03bb\\u03b1\\u03bd\\u03c4\\u03ad\\u03c2\", \"line\": {\"color\": \"rgb(189,189,189)\", \"dash\": \"solid\", \"shape\": \"spline\"}, \"mode\": \"lines\", \"name\": \"\\u039c\\u03c0\\u03b1\\u03bd\\u03b3\\u03ba\\u03bb\\u03b1\\u03bd\\u03c4\\u03ad\\u03c2\", \"showlegend\": true, \"type\": \"scatter\", \"xaxis\": \"x\", \"y\": [12, 17, 20, 21, 27, 30, 34], \"yaxis\": \"y\"}, {\"customdata\": [[\"\\u039b\\u03b5\\u03c5\\u03ba\\u03bf\\u03c1\\u03c9\\u03c3\\u03af\\u03b1\"], [\"\\u039b\\u03b5\\u03c5\\u03ba\\u03bf\\u03c1\\u03c9\\u03c3\\u03af\\u03b1\"], [\"\\u039b\\u03b5\\u03c5\\u03ba\\u03bf\\u03c1\\u03c9\\u03c3\\u03af\\u03b1\"], [\"\\u039b\\u03b5\\u03c5\\u03ba\\u03bf\\u03c1\\u03c9\\u03c3\\u03af\\u03b1\"], [\"\\u039b\\u03b5\\u03c5\\u03ba\\u03bf\\u03c1\\u03c9\\u03c3\\u03af\\u03b1\"], [\"\\u039b\\u03b5\\u03c5\\u03ba\\u03bf\\u03c1\\u03c9\\u03c3\\u03af\\u03b1\"], [\"\\u039b\\u03b5\\u03c5\\u03ba\\u03bf\\u03c1\\u03c9\\u03c3\\u03af\\u03b1\"]], \"hoverlabel\": {\"namelength\": 0}, \"hovertemplate\": \"\\u03a7\\u03ce\\u03c1\\u03b1=%{customdata[0]}<br>\\u0391\\u03c1\\u03b9\\u03b8\\u03bc\\u03cc\\u03c2 \\u039a\\u03c1\\u03bf\\u03c5\\u03c3\\u03bc\\u03ac\\u03c4\\u03c9\\u03bd=%{y}\", \"legendgroup\": \"\\u039b\\u03b5\\u03c5\\u03ba\\u03bf\\u03c1\\u03c9\\u03c3\\u03af\\u03b1\", \"line\": {\"color\": \"rgb(189,189,189)\", \"dash\": \"solid\", \"shape\": \"spline\"}, \"mode\": \"lines\", \"name\": \"\\u039b\\u03b5\\u03c5\\u03ba\\u03bf\\u03c1\\u03c9\\u03c3\\u03af\\u03b1\", \"showlegend\": true, \"type\": \"scatter\", \"xaxis\": \"x\", \"y\": [13, 13, 13, 16, 19, 23, 26], \"yaxis\": \"y\"}, {\"customdata\": [[\"\\u0392\\u03ad\\u03bb\\u03b3\\u03b9\\u03bf\"], [\"\\u0392\\u03ad\\u03bb\\u03b3\\u03b9\\u03bf\"], [\"\\u0392\\u03ad\\u03bb\\u03b3\\u03b9\\u03bf\"], [\"\\u0392\\u03ad\\u03bb\\u03b3\\u03b9\\u03bf\"], [\"\\u0392\\u03ad\\u03bb\\u03b3\\u03b9\\u03bf\"], [\"\\u0392\\u03ad\\u03bb\\u03b3\\u03b9\\u03bf\"], [\"\\u0392\\u03ad\\u03bb\\u03b3\\u03b9\\u03bf\"], [\"\\u0392\\u03ad\\u03bb\\u03b3\\u03b9\\u03bf\"], [\"\\u0392\\u03ad\\u03bb\\u03b3\\u03b9\\u03bf\"], [\"\\u0392\\u03ad\\u03bb\\u03b3\\u03b9\\u03bf\"], [\"\\u0392\\u03ad\\u03bb\\u03b3\\u03b9\\u03bf\"], [\"\\u0392\\u03ad\\u03bb\\u03b3\\u03b9\\u03bf\"], [\"\\u0392\\u03ad\\u03bb\\u03b3\\u03b9\\u03bf\"], [\"\\u0392\\u03ad\\u03bb\\u03b3\\u03b9\\u03bf\"], [\"\\u0392\\u03ad\\u03bb\\u03b3\\u03b9\\u03bf\"], [\"\\u0392\\u03ad\\u03bb\\u03b3\\u03b9\\u03bf\"], [\"\\u0392\\u03ad\\u03bb\\u03b3\\u03b9\\u03bf\"], [\"\\u0392\\u03ad\\u03bb\\u03b3\\u03b9\\u03bf\"], [\"\\u0392\\u03ad\\u03bb\\u03b3\\u03b9\\u03bf\"], [\"\\u0392\\u03ad\\u03bb\\u03b3\\u03b9\\u03bf\"], [\"\\u0392\\u03ad\\u03bb\\u03b3\\u03b9\\u03bf\"], [\"\\u0392\\u03ad\\u03bb\\u03b3\\u03b9\\u03bf\"], [\"\\u0392\\u03ad\\u03bb\\u03b3\\u03b9\\u03bf\"], [\"\\u0392\\u03ad\\u03bb\\u03b3\\u03b9\\u03bf\"], [\"\\u0392\\u03ad\\u03bb\\u03b3\\u03b9\\u03bf\"], [\"\\u0392\\u03ad\\u03bb\\u03b3\\u03b9\\u03bf\"], [\"\\u0392\\u03ad\\u03bb\\u03b3\\u03b9\\u03bf\"]], \"hoverlabel\": {\"namelength\": 0}, \"hovertemplate\": \"\\u03a7\\u03ce\\u03c1\\u03b1=%{customdata[0]}<br>\\u0391\\u03c1\\u03b9\\u03b8\\u03bc\\u03cc\\u03c2 \\u039a\\u03c1\\u03bf\\u03c5\\u03c3\\u03bc\\u03ac\\u03c4\\u03c9\\u03bd=%{y}\", \"legendgroup\": \"\\u0392\\u03ad\\u03bb\\u03b3\\u03b9\\u03bf\", \"line\": {\"color\": \"rgb(189,189,189)\", \"dash\": \"solid\", \"shape\": \"spline\"}, \"mode\": \"lines\", \"name\": \"\\u0392\\u03ad\\u03bb\\u03b3\\u03b9\\u03bf\", \"showlegend\": true, \"type\": \"scatter\", \"xaxis\": \"x\", \"y\": [10, 14, 21, 37, 67, 75, 88, 122, 178, 220, 289, 353, 431, 513, 705, 828, 1011, 1143, 1283, 1447, 1632, 2035, 2240, 2523, 3019, 3346, 3600], \"yaxis\": \"y\"}, {\"customdata\": [[\"\\u0392\\u03bf\\u03bb\\u03b9\\u03b2\\u03af\\u03b1\"], [\"\\u0392\\u03bf\\u03bb\\u03b9\\u03b2\\u03af\\u03b1\"], [\"\\u0392\\u03bf\\u03bb\\u03b9\\u03b2\\u03af\\u03b1\"], [\"\\u0392\\u03bf\\u03bb\\u03b9\\u03b2\\u03af\\u03b1\"], [\"\\u0392\\u03bf\\u03bb\\u03b9\\u03b2\\u03af\\u03b1\"], [\"\\u0392\\u03bf\\u03bb\\u03b9\\u03b2\\u03af\\u03b1\"], [\"\\u0392\\u03bf\\u03bb\\u03b9\\u03b2\\u03af\\u03b1\"], [\"\\u0392\\u03bf\\u03bb\\u03b9\\u03b2\\u03af\\u03b1\"], [\"\\u0392\\u03bf\\u03bb\\u03b9\\u03b2\\u03af\\u03b1\"]], \"hoverlabel\": {\"namelength\": 0}, \"hovertemplate\": \"\\u03a7\\u03ce\\u03c1\\u03b1=%{customdata[0]}<br>\\u0391\\u03c1\\u03b9\\u03b8\\u03bc\\u03cc\\u03c2 \\u039a\\u03c1\\u03bf\\u03c5\\u03c3\\u03bc\\u03ac\\u03c4\\u03c9\\u03bd=%{y}\", \"legendgroup\": \"\\u0392\\u03bf\\u03bb\\u03b9\\u03b2\\u03af\\u03b1\", \"line\": {\"color\": \"rgb(189,189,189)\", \"dash\": \"solid\", \"shape\": \"spline\"}, \"mode\": \"lines\", \"name\": \"\\u0392\\u03bf\\u03bb\\u03b9\\u03b2\\u03af\\u03b1\", \"showlegend\": true, \"type\": \"scatter\", \"xaxis\": \"x\", \"y\": [10, 10, 11, 14, 15, 18, 19, 20, 24], \"yaxis\": \"y\"}, {\"customdata\": [[\"\\u0392\\u03bf\\u03c3\\u03bd\\u03af\\u03b1-\\u0395\\u03c1\\u03b6\\u03b5\\u03b3\\u03bf\\u03b2\\u03af\\u03bd\\u03b7\"], [\"\\u0392\\u03bf\\u03c3\\u03bd\\u03af\\u03b1-\\u0395\\u03c1\\u03b6\\u03b5\\u03b3\\u03bf\\u03b2\\u03af\\u03bd\\u03b7\"], [\"\\u0392\\u03bf\\u03c3\\u03bd\\u03af\\u03b1-\\u0395\\u03c1\\u03b6\\u03b5\\u03b3\\u03bf\\u03b2\\u03af\\u03bd\\u03b7\"], [\"\\u0392\\u03bf\\u03c3\\u03bd\\u03af\\u03b1-\\u0395\\u03c1\\u03b6\\u03b5\\u03b3\\u03bf\\u03b2\\u03af\\u03bd\\u03b7\"], [\"\\u0392\\u03bf\\u03c3\\u03bd\\u03af\\u03b1-\\u0395\\u03c1\\u03b6\\u03b5\\u03b3\\u03bf\\u03b2\\u03af\\u03bd\\u03b7\"], [\"\\u0392\\u03bf\\u03c3\\u03bd\\u03af\\u03b1-\\u0395\\u03c1\\u03b6\\u03b5\\u03b3\\u03bf\\u03b2\\u03af\\u03bd\\u03b7\"], [\"\\u0392\\u03bf\\u03c3\\u03bd\\u03af\\u03b1-\\u0395\\u03c1\\u03b6\\u03b5\\u03b3\\u03bf\\u03b2\\u03af\\u03bd\\u03b7\"], [\"\\u0392\\u03bf\\u03c3\\u03bd\\u03af\\u03b1-\\u0395\\u03c1\\u03b6\\u03b5\\u03b3\\u03bf\\u03b2\\u03af\\u03bd\\u03b7\"], [\"\\u0392\\u03bf\\u03c3\\u03bd\\u03af\\u03b1-\\u0395\\u03c1\\u03b6\\u03b5\\u03b3\\u03bf\\u03b2\\u03af\\u03bd\\u03b7\"], [\"\\u0392\\u03bf\\u03c3\\u03bd\\u03af\\u03b1-\\u0395\\u03c1\\u03b6\\u03b5\\u03b3\\u03bf\\u03b2\\u03af\\u03bd\\u03b7\"], [\"\\u0392\\u03bf\\u03c3\\u03bd\\u03af\\u03b1-\\u0395\\u03c1\\u03b6\\u03b5\\u03b3\\u03bf\\u03b2\\u03af\\u03bd\\u03b7\"], [\"\\u0392\\u03bf\\u03c3\\u03bd\\u03af\\u03b1-\\u0395\\u03c1\\u03b6\\u03b5\\u03b3\\u03bf\\u03b2\\u03af\\u03bd\\u03b7\"], [\"\\u0392\\u03bf\\u03c3\\u03bd\\u03af\\u03b1-\\u0395\\u03c1\\u03b6\\u03b5\\u03b3\\u03bf\\u03b2\\u03af\\u03bd\\u03b7\"], [\"\\u0392\\u03bf\\u03c3\\u03bd\\u03af\\u03b1-\\u0395\\u03c1\\u03b6\\u03b5\\u03b3\\u03bf\\u03b2\\u03af\\u03bd\\u03b7\"]], \"hoverlabel\": {\"namelength\": 0}, \"hovertemplate\": \"\\u03a7\\u03ce\\u03c1\\u03b1=%{customdata[0]}<br>\\u0391\\u03c1\\u03b9\\u03b8\\u03bc\\u03cc\\u03c2 \\u039a\\u03c1\\u03bf\\u03c5\\u03c3\\u03bc\\u03ac\\u03c4\\u03c9\\u03bd=%{y}\", \"legendgroup\": \"\\u0392\\u03bf\\u03c3\\u03bd\\u03af\\u03b1-\\u0395\\u03c1\\u03b6\\u03b5\\u03b3\\u03bf\\u03b2\\u03af\\u03bd\\u03b7\", \"line\": {\"color\": \"rgb(189,189,189)\", \"dash\": \"solid\", \"shape\": \"spline\"}, \"mode\": \"lines\", \"name\": \"\\u0392\\u03bf\\u03c3\\u03bd\\u03af\\u03b1-\\u0395\\u03c1\\u03b6\\u03b5\\u03b3\\u03bf\\u03b2\\u03af\\u03bd\\u03b7\", \"showlegend\": true, \"type\": \"scatter\", \"xaxis\": \"x\", \"y\": [10, 13, 13, 16, 17, 21, 23, 29, 33, 34, 35, 36, 37, 39], \"yaxis\": \"y\"}, {\"customdata\": [[\"\\u0392\\u03c1\\u03b1\\u03b6\\u03b9\\u03bb\\u03af\\u03b1\"], [\"\\u0392\\u03c1\\u03b1\\u03b6\\u03b9\\u03bb\\u03af\\u03b1\"], [\"\\u0392\\u03c1\\u03b1\\u03b6\\u03b9\\u03bb\\u03af\\u03b1\"], [\"\\u0392\\u03c1\\u03b1\\u03b6\\u03b9\\u03bb\\u03af\\u03b1\"], [\"\\u0392\\u03c1\\u03b1\\u03b6\\u03b9\\u03bb\\u03af\\u03b1\"], [\"\\u0392\\u03c1\\u03b1\\u03b6\\u03b9\\u03bb\\u03af\\u03b1\"], [\"\\u0392\\u03c1\\u03b1\\u03b6\\u03b9\\u03bb\\u03af\\u03b1\"], [\"\\u0392\\u03c1\\u03b1\\u03b6\\u03b9\\u03bb\\u03af\\u03b1\"], [\"\\u0392\\u03c1\\u03b1\\u03b6\\u03b9\\u03bb\\u03af\\u03b1\"], [\"\\u0392\\u03c1\\u03b1\\u03b6\\u03b9\\u03bb\\u03af\\u03b1\"], [\"\\u0392\\u03c1\\u03b1\\u03b6\\u03b9\\u03bb\\u03af\\u03b1\"], [\"\\u0392\\u03c1\\u03b1\\u03b6\\u03b9\\u03bb\\u03af\\u03b1\"], [\"\\u0392\\u03c1\\u03b1\\u03b6\\u03b9\\u03bb\\u03af\\u03b1\"], [\"\\u0392\\u03c1\\u03b1\\u03b6\\u03b9\\u03bb\\u03af\\u03b1\"], [\"\\u0392\\u03c1\\u03b1\\u03b6\\u03b9\\u03bb\\u03af\\u03b1\"], [\"\\u0392\\u03c1\\u03b1\\u03b6\\u03b9\\u03bb\\u03af\\u03b1\"], [\"\\u0392\\u03c1\\u03b1\\u03b6\\u03b9\\u03bb\\u03af\\u03b1\"], [\"\\u0392\\u03c1\\u03b1\\u03b6\\u03b9\\u03bb\\u03af\\u03b1\"], [\"\\u0392\\u03c1\\u03b1\\u03b6\\u03b9\\u03bb\\u03af\\u03b1\"], [\"\\u0392\\u03c1\\u03b1\\u03b6\\u03b9\\u03bb\\u03af\\u03b1\"], [\"\\u0392\\u03c1\\u03b1\\u03b6\\u03b9\\u03bb\\u03af\\u03b1\"], [\"\\u0392\\u03c1\\u03b1\\u03b6\\u03b9\\u03bb\\u03af\\u03b1\"], [\"\\u0392\\u03c1\\u03b1\\u03b6\\u03b9\\u03bb\\u03af\\u03b1\"], [\"\\u0392\\u03c1\\u03b1\\u03b6\\u03b9\\u03bb\\u03af\\u03b1\"]], \"hoverlabel\": {\"namelength\": 0}, \"hovertemplate\": \"\\u03a7\\u03ce\\u03c1\\u03b1=%{customdata[0]}<br>\\u0391\\u03c1\\u03b9\\u03b8\\u03bc\\u03cc\\u03c2 \\u039a\\u03c1\\u03bf\\u03c5\\u03c3\\u03bc\\u03ac\\u03c4\\u03c9\\u03bd=%{y}\", \"legendgroup\": \"\\u0392\\u03c1\\u03b1\\u03b6\\u03b9\\u03bb\\u03af\\u03b1\", \"line\": {\"color\": \"rgb(189,189,189)\", \"dash\": \"solid\", \"shape\": \"spline\"}, \"mode\": \"lines\", \"name\": \"\\u0392\\u03c1\\u03b1\\u03b6\\u03b9\\u03bb\\u03af\\u03b1\", \"showlegend\": true, \"type\": \"scatter\", \"xaxis\": \"x\", \"y\": [11, 15, 25, 34, 46, 59, 77, 92, 111, 136, 159, 201, 240, 324, 359, 445, 486, 564, 686, 819, 950, 1057, 1124, 1223], \"yaxis\": \"y\"}, {\"customdata\": [[\"\\u0392\\u03bf\\u03c5\\u03bb\\u03b3\\u03b1\\u03c1\\u03af\\u03b1\"], [\"\\u0392\\u03bf\\u03c5\\u03bb\\u03b3\\u03b1\\u03c1\\u03af\\u03b1\"], [\"\\u0392\\u03bf\\u03c5\\u03bb\\u03b3\\u03b1\\u03c1\\u03af\\u03b1\"], [\"\\u0392\\u03bf\\u03c5\\u03bb\\u03b3\\u03b1\\u03c1\\u03af\\u03b1\"], [\"\\u0392\\u03bf\\u03c5\\u03bb\\u03b3\\u03b1\\u03c1\\u03af\\u03b1\"], [\"\\u0392\\u03bf\\u03c5\\u03bb\\u03b3\\u03b1\\u03c1\\u03af\\u03b1\"], [\"\\u0392\\u03bf\\u03c5\\u03bb\\u03b3\\u03b1\\u03c1\\u03af\\u03b1\"], [\"\\u0392\\u03bf\\u03c5\\u03bb\\u03b3\\u03b1\\u03c1\\u03af\\u03b1\"], [\"\\u0392\\u03bf\\u03c5\\u03bb\\u03b3\\u03b1\\u03c1\\u03af\\u03b1\"], [\"\\u0392\\u03bf\\u03c5\\u03bb\\u03b3\\u03b1\\u03c1\\u03af\\u03b1\"], [\"\\u0392\\u03bf\\u03c5\\u03bb\\u03b3\\u03b1\\u03c1\\u03af\\u03b1\"], [\"\\u0392\\u03bf\\u03c5\\u03bb\\u03b3\\u03b1\\u03c1\\u03af\\u03b1\"]], \"hoverlabel\": {\"namelength\": 0}, \"hovertemplate\": \"\\u03a7\\u03ce\\u03c1\\u03b1=%{customdata[0]}<br>\\u0391\\u03c1\\u03b9\\u03b8\\u03bc\\u03cc\\u03c2 \\u039a\\u03c1\\u03bf\\u03c5\\u03c3\\u03bc\\u03ac\\u03c4\\u03c9\\u03bd=%{y}\", \"legendgroup\": \"\\u0392\\u03bf\\u03c5\\u03bb\\u03b3\\u03b1\\u03c1\\u03af\\u03b1\", \"line\": {\"color\": \"rgb(189,189,189)\", \"dash\": \"solid\", \"shape\": \"spline\"}, \"mode\": \"lines\", \"name\": \"\\u0392\\u03bf\\u03c5\\u03bb\\u03b3\\u03b1\\u03c1\\u03af\\u03b1\", \"showlegend\": true, \"type\": \"scatter\", \"xaxis\": \"x\", \"y\": [10, 10, 14, 17, 20, 22, 23, 24, 24, 25, 28, 29], \"yaxis\": \"y\"}, {\"customdata\": [[\"\\u039c\\u03c0\\u03bf\\u03c5\\u03c1\\u03ba\\u03af\\u03bd\\u03b1 \\u03a6\\u03ac\\u03c3\\u03bf\"], [\"\\u039c\\u03c0\\u03bf\\u03c5\\u03c1\\u03ba\\u03af\\u03bd\\u03b1 \\u03a6\\u03ac\\u03c3\\u03bf\"], [\"\\u039c\\u03c0\\u03bf\\u03c5\\u03c1\\u03ba\\u03af\\u03bd\\u03b1 \\u03a6\\u03ac\\u03c3\\u03bf\"], [\"\\u039c\\u03c0\\u03bf\\u03c5\\u03c1\\u03ba\\u03af\\u03bd\\u03b1 \\u03a6\\u03ac\\u03c3\\u03bf\"], [\"\\u039c\\u03c0\\u03bf\\u03c5\\u03c1\\u03ba\\u03af\\u03bd\\u03b1 \\u03a6\\u03ac\\u03c3\\u03bf\"], [\"\\u039c\\u03c0\\u03bf\\u03c5\\u03c1\\u03ba\\u03af\\u03bd\\u03b1 \\u03a6\\u03ac\\u03c3\\u03bf\"], [\"\\u039c\\u03c0\\u03bf\\u03c5\\u03c1\\u03ba\\u03af\\u03bd\\u03b1 \\u03a6\\u03ac\\u03c3\\u03bf\"], [\"\\u039c\\u03c0\\u03bf\\u03c5\\u03c1\\u03ba\\u03af\\u03bd\\u03b1 \\u03a6\\u03ac\\u03c3\\u03bf\"], [\"\\u039c\\u03c0\\u03bf\\u03c5\\u03c1\\u03ba\\u03af\\u03bd\\u03b1 \\u03a6\\u03ac\\u03c3\\u03bf\"], [\"\\u039c\\u03c0\\u03bf\\u03c5\\u03c1\\u03ba\\u03af\\u03bd\\u03b1 \\u03a6\\u03ac\\u03c3\\u03bf\"], [\"\\u039c\\u03c0\\u03bf\\u03c5\\u03c1\\u03ba\\u03af\\u03bd\\u03b1 \\u03a6\\u03ac\\u03c3\\u03bf\"], [\"\\u039c\\u03c0\\u03bf\\u03c5\\u03c1\\u03ba\\u03af\\u03bd\\u03b1 \\u03a6\\u03ac\\u03c3\\u03bf\"], [\"\\u039c\\u03c0\\u03bf\\u03c5\\u03c1\\u03ba\\u03af\\u03bd\\u03b1 \\u03a6\\u03ac\\u03c3\\u03bf\"], [\"\\u039c\\u03c0\\u03bf\\u03c5\\u03c1\\u03ba\\u03af\\u03bd\\u03b1 \\u03a6\\u03ac\\u03c3\\u03bf\"], [\"\\u039c\\u03c0\\u03bf\\u03c5\\u03c1\\u03ba\\u03af\\u03bd\\u03b1 \\u03a6\\u03ac\\u03c3\\u03bf\"], [\"\\u039c\\u03c0\\u03bf\\u03c5\\u03c1\\u03ba\\u03af\\u03bd\\u03b1 \\u03a6\\u03ac\\u03c3\\u03bf\"]], \"hoverlabel\": {\"namelength\": 0}, \"hovertemplate\": \"\\u03a7\\u03ce\\u03c1\\u03b1=%{customdata[0]}<br>\\u0391\\u03c1\\u03b9\\u03b8\\u03bc\\u03cc\\u03c2 \\u039a\\u03c1\\u03bf\\u03c5\\u03c3\\u03bc\\u03ac\\u03c4\\u03c9\\u03bd=%{y}\", \"legendgroup\": \"\\u039c\\u03c0\\u03bf\\u03c5\\u03c1\\u03ba\\u03af\\u03bd\\u03b1 \\u03a6\\u03ac\\u03c3\\u03bf\", \"line\": {\"color\": \"rgb(189,189,189)\", \"dash\": \"solid\", \"shape\": \"spline\"}, \"mode\": \"lines\", \"name\": \"\\u039c\\u03c0\\u03bf\\u03c5\\u03c1\\u03ba\\u03af\\u03bd\\u03b1 \\u03a6\\u03ac\\u03c3\\u03bf\", \"showlegend\": true, \"type\": \"scatter\", \"xaxis\": \"x\", \"y\": [11, 12, 12, 14, 16, 16, 16, 16, 17, 18, 19, 23, 24, 24, 27, 27], \"yaxis\": \"y\"}, {\"customdata\": [[\"\\u039a\\u03b1\\u03bc\\u03b5\\u03c1\\u03bf\\u03cd\\u03bd\"], [\"\\u039a\\u03b1\\u03bc\\u03b5\\u03c1\\u03bf\\u03cd\\u03bd\"], [\"\\u039a\\u03b1\\u03bc\\u03b5\\u03c1\\u03bf\\u03cd\\u03bd\"], [\"\\u039a\\u03b1\\u03bc\\u03b5\\u03c1\\u03bf\\u03cd\\u03bd\"], [\"\\u039a\\u03b1\\u03bc\\u03b5\\u03c1\\u03bf\\u03cd\\u03bd\"]], \"hoverlabel\": {\"namelength\": 0}, \"hovertemplate\": \"\\u03a7\\u03ce\\u03c1\\u03b1=%{customdata[0]}<br>\\u0391\\u03c1\\u03b9\\u03b8\\u03bc\\u03cc\\u03c2 \\u039a\\u03c1\\u03bf\\u03c5\\u03c3\\u03bc\\u03ac\\u03c4\\u03c9\\u03bd=%{y}\", \"legendgroup\": \"\\u039a\\u03b1\\u03bc\\u03b5\\u03c1\\u03bf\\u03cd\\u03bd\", \"line\": {\"color\": \"rgb(189,189,189)\", \"dash\": \"solid\", \"shape\": \"spline\"}, \"mode\": \"lines\", \"name\": \"\\u039a\\u03b1\\u03bc\\u03b5\\u03c1\\u03bf\\u03cd\\u03bd\", \"showlegend\": true, \"type\": \"scatter\", \"xaxis\": \"x\", \"y\": [10, 10, 12, 12, 12], \"yaxis\": \"y\"}, {\"customdata\": [[\"\\u039a\\u03b1\\u03bd\\u03b1\\u03b4\\u03ac\\u03c2\"], [\"\\u039a\\u03b1\\u03bd\\u03b1\\u03b4\\u03ac\\u03c2\"], [\"\\u039a\\u03b1\\u03bd\\u03b1\\u03b4\\u03ac\\u03c2\"], [\"\\u039a\\u03b1\\u03bd\\u03b1\\u03b4\\u03ac\\u03c2\"], [\"\\u039a\\u03b1\\u03bd\\u03b1\\u03b4\\u03ac\\u03c2\"], [\"\\u039a\\u03b1\\u03bd\\u03b1\\u03b4\\u03ac\\u03c2\"], [\"\\u039a\\u03b1\\u03bd\\u03b1\\u03b4\\u03ac\\u03c2\"], [\"\\u039a\\u03b1\\u03bd\\u03b1\\u03b4\\u03ac\\u03c2\"], [\"\\u039a\\u03b1\\u03bd\\u03b1\\u03b4\\u03ac\\u03c2\"], [\"\\u039a\\u03b1\\u03bd\\u03b1\\u03b4\\u03ac\\u03c2\"], [\"\\u039a\\u03b1\\u03bd\\u03b1\\u03b4\\u03ac\\u03c2\"], [\"\\u039a\\u03b1\\u03bd\\u03b1\\u03b4\\u03ac\\u03c2\"], [\"\\u039a\\u03b1\\u03bd\\u03b1\\u03b4\\u03ac\\u03c2\"], [\"\\u039a\\u03b1\\u03bd\\u03b1\\u03b4\\u03ac\\u03c2\"], [\"\\u039a\\u03b1\\u03bd\\u03b1\\u03b4\\u03ac\\u03c2\"], [\"\\u039a\\u03b1\\u03bd\\u03b1\\u03b4\\u03ac\\u03c2\"], [\"\\u039a\\u03b1\\u03bd\\u03b1\\u03b4\\u03ac\\u03c2\"], [\"\\u039a\\u03b1\\u03bd\\u03b1\\u03b4\\u03ac\\u03c2\"], [\"\\u039a\\u03b1\\u03bd\\u03b1\\u03b4\\u03ac\\u03c2\"], [\"\\u039a\\u03b1\\u03bd\\u03b1\\u03b4\\u03ac\\u03c2\"], [\"\\u039a\\u03b1\\u03bd\\u03b1\\u03b4\\u03ac\\u03c2\"], [\"\\u039a\\u03b1\\u03bd\\u03b1\\u03b4\\u03ac\\u03c2\"], [\"\\u039a\\u03b1\\u03bd\\u03b1\\u03b4\\u03ac\\u03c2\"], [\"\\u039a\\u03b1\\u03bd\\u03b1\\u03b4\\u03ac\\u03c2\"]], \"hoverlabel\": {\"namelength\": 0}, \"hovertemplate\": \"\\u03a7\\u03ce\\u03c1\\u03b1=%{customdata[0]}<br>\\u0391\\u03c1\\u03b9\\u03b8\\u03bc\\u03cc\\u03c2 \\u039a\\u03c1\\u03bf\\u03c5\\u03c3\\u03bc\\u03ac\\u03c4\\u03c9\\u03bd=%{y}\", \"legendgroup\": \"\\u039a\\u03b1\\u03bd\\u03b1\\u03b4\\u03ac\\u03c2\", \"line\": {\"color\": \"rgb(189,189,189)\", \"dash\": \"solid\", \"shape\": \"spline\"}, \"mode\": \"lines\", \"name\": \"\\u039a\\u03b1\\u03bd\\u03b1\\u03b4\\u03ac\\u03c2\", \"showlegend\": true, \"type\": \"scatter\", \"xaxis\": \"x\", \"y\": [12, 19, 21, 25, 26, 30, 38, 54, 61, 64, 80, 101, 109, 139, 179, 218, 259, 339, 375, 407, 503, 557, 654, 714], \"yaxis\": \"y\"}, {\"customdata\": [[\"\\u03a7\\u03b9\\u03bb\\u03ae\"], [\"\\u03a7\\u03b9\\u03bb\\u03ae\"], [\"\\u03a7\\u03b9\\u03bb\\u03ae\"], [\"\\u03a7\\u03b9\\u03bb\\u03ae\"], [\"\\u03a7\\u03b9\\u03bb\\u03ae\"], [\"\\u03a7\\u03b9\\u03bb\\u03ae\"], [\"\\u03a7\\u03b9\\u03bb\\u03ae\"], [\"\\u03a7\\u03b9\\u03bb\\u03ae\"], [\"\\u03a7\\u03b9\\u03bb\\u03ae\"], [\"\\u03a7\\u03b9\\u03bb\\u03ae\"], [\"\\u03a7\\u03b9\\u03bb\\u03ae\"], [\"\\u03a7\\u03b9\\u03bb\\u03ae\"], [\"\\u03a7\\u03b9\\u03bb\\u03ae\"]], \"hoverlabel\": {\"namelength\": 0}, \"hovertemplate\": \"\\u03a7\\u03ce\\u03c1\\u03b1=%{customdata[0]}<br>\\u0391\\u03c1\\u03b9\\u03b8\\u03bc\\u03cc\\u03c2 \\u039a\\u03c1\\u03bf\\u03c5\\u03c3\\u03bc\\u03ac\\u03c4\\u03c9\\u03bd=%{y}\", \"legendgroup\": \"\\u03a7\\u03b9\\u03bb\\u03ae\", \"line\": {\"color\": \"rgb(189,189,189)\", \"dash\": \"solid\", \"shape\": \"spline\"}, \"mode\": \"lines\", \"name\": \"\\u03a7\\u03b9\\u03bb\\u03ae\", \"showlegend\": true, \"type\": \"scatter\", \"xaxis\": \"x\", \"y\": [12, 16, 18, 22, 27, 34, 37, 43, 48, 57, 65, 73, 80], \"yaxis\": \"y\"}, {\"customdata\": [[\"\\u039a\\u03bf\\u03bb\\u03bf\\u03bc\\u03b2\\u03af\\u03b1\"], [\"\\u039a\\u03bf\\u03bb\\u03bf\\u03bc\\u03b2\\u03af\\u03b1\"], [\"\\u039a\\u03bf\\u03bb\\u03bf\\u03bc\\u03b2\\u03af\\u03b1\"], [\"\\u039a\\u03bf\\u03bb\\u03bf\\u03bc\\u03b2\\u03af\\u03b1\"], [\"\\u039a\\u03bf\\u03bb\\u03bf\\u03bc\\u03b2\\u03af\\u03b1\"], [\"\\u039a\\u03bf\\u03bb\\u03bf\\u03bc\\u03b2\\u03af\\u03b1\"], [\"\\u039a\\u03bf\\u03bb\\u03bf\\u03bc\\u03b2\\u03af\\u03b1\"], [\"\\u039a\\u03bf\\u03bb\\u03bf\\u03bc\\u03b2\\u03af\\u03b1\"], [\"\\u039a\\u03bf\\u03bb\\u03bf\\u03bc\\u03b2\\u03af\\u03b1\"], [\"\\u039a\\u03bf\\u03bb\\u03bf\\u03bc\\u03b2\\u03af\\u03b1\"], [\"\\u039a\\u03bf\\u03bb\\u03bf\\u03bc\\u03b2\\u03af\\u03b1\"], [\"\\u039a\\u03bf\\u03bb\\u03bf\\u03bc\\u03b2\\u03af\\u03b1\"], [\"\\u039a\\u03bf\\u03bb\\u03bf\\u03bc\\u03b2\\u03af\\u03b1\"], [\"\\u039a\\u03bf\\u03bb\\u03bf\\u03bc\\u03b2\\u03af\\u03b1\"], [\"\\u039a\\u03bf\\u03bb\\u03bf\\u03bc\\u03b2\\u03af\\u03b1\"]], \"hoverlabel\": {\"namelength\": 0}, \"hovertemplate\": \"\\u03a7\\u03ce\\u03c1\\u03b1=%{customdata[0]}<br>\\u0391\\u03c1\\u03b9\\u03b8\\u03bc\\u03cc\\u03c2 \\u039a\\u03c1\\u03bf\\u03c5\\u03c3\\u03bc\\u03ac\\u03c4\\u03c9\\u03bd=%{y}\", \"legendgroup\": \"\\u039a\\u03bf\\u03bb\\u03bf\\u03bc\\u03b2\\u03af\\u03b1\", \"line\": {\"color\": \"rgb(189,189,189)\", \"dash\": \"solid\", \"shape\": \"spline\"}, \"mode\": \"lines\", \"name\": \"\\u039a\\u03bf\\u03bb\\u03bf\\u03bc\\u03b2\\u03af\\u03b1\", \"showlegend\": true, \"type\": \"scatter\", \"xaxis\": \"x\", \"y\": [10, 12, 16, 17, 19, 25, 32, 35, 46, 50, 54, 69, 80, 100, 109], \"yaxis\": \"y\"}, {\"customdata\": [[\"\\u039b\\u03b1\\u03ca\\u03ba\\u03ae \\u0394\\u03b7\\u03bc/\\u03c4\\u03af\\u03b1 \\u039a\\u03bf\\u03bd\\u03b3\\u03ba\\u03cc\"], [\"\\u039b\\u03b1\\u03ca\\u03ba\\u03ae \\u0394\\u03b7\\u03bc/\\u03c4\\u03af\\u03b1 \\u039a\\u03bf\\u03bd\\u03b3\\u03ba\\u03cc\"], [\"\\u039b\\u03b1\\u03ca\\u03ba\\u03ae \\u0394\\u03b7\\u03bc/\\u03c4\\u03af\\u03b1 \\u039a\\u03bf\\u03bd\\u03b3\\u03ba\\u03cc\"], [\"\\u039b\\u03b1\\u03ca\\u03ba\\u03ae \\u0394\\u03b7\\u03bc/\\u03c4\\u03af\\u03b1 \\u039a\\u03bf\\u03bd\\u03b3\\u03ba\\u03cc\"], [\"\\u039b\\u03b1\\u03ca\\u03ba\\u03ae \\u0394\\u03b7\\u03bc/\\u03c4\\u03af\\u03b1 \\u039a\\u03bf\\u03bd\\u03b3\\u03ba\\u03cc\"], [\"\\u039b\\u03b1\\u03ca\\u03ba\\u03ae \\u0394\\u03b7\\u03bc/\\u03c4\\u03af\\u03b1 \\u039a\\u03bf\\u03bd\\u03b3\\u03ba\\u03cc\"], [\"\\u039b\\u03b1\\u03ca\\u03ba\\u03ae \\u0394\\u03b7\\u03bc/\\u03c4\\u03af\\u03b1 \\u039a\\u03bf\\u03bd\\u03b3\\u03ba\\u03cc\"], [\"\\u039b\\u03b1\\u03ca\\u03ba\\u03ae \\u0394\\u03b7\\u03bc/\\u03c4\\u03af\\u03b1 \\u039a\\u03bf\\u03bd\\u03b3\\u03ba\\u03cc\"], [\"\\u039b\\u03b1\\u03ca\\u03ba\\u03ae \\u0394\\u03b7\\u03bc/\\u03c4\\u03af\\u03b1 \\u039a\\u03bf\\u03bd\\u03b3\\u03ba\\u03cc\"], [\"\\u039b\\u03b1\\u03ca\\u03ba\\u03ae \\u0394\\u03b7\\u03bc/\\u03c4\\u03af\\u03b1 \\u039a\\u03bf\\u03bd\\u03b3\\u03ba\\u03cc\"], [\"\\u039b\\u03b1\\u03ca\\u03ba\\u03ae \\u0394\\u03b7\\u03bc/\\u03c4\\u03af\\u03b1 \\u039a\\u03bf\\u03bd\\u03b3\\u03ba\\u03cc\"]], \"hoverlabel\": {\"namelength\": 0}, \"hovertemplate\": \"\\u03a7\\u03ce\\u03c1\\u03b1=%{customdata[0]}<br>\\u0391\\u03c1\\u03b9\\u03b8\\u03bc\\u03cc\\u03c2 \\u039a\\u03c1\\u03bf\\u03c5\\u03c3\\u03bc\\u03ac\\u03c4\\u03c9\\u03bd=%{y}\", \"legendgroup\": \"\\u039b\\u03b1\\u03ca\\u03ba\\u03ae \\u0394\\u03b7\\u03bc/\\u03c4\\u03af\\u03b1 \\u039a\\u03bf\\u03bd\\u03b3\\u03ba\\u03cc\", \"line\": {\"color\": \"rgb(189,189,189)\", \"dash\": \"solid\", \"shape\": \"spline\"}, \"mode\": \"lines\", \"name\": \"\\u039b\\u03b1\\u03ca\\u03ba\\u03ae \\u0394\\u03b7\\u03bc/\\u03c4\\u03af\\u03b1 \\u039a\\u03bf\\u03bd\\u03b3\\u03ba\\u03cc\", \"showlegend\": true, \"type\": \"scatter\", \"xaxis\": \"x\", \"y\": [13, 13, 18, 18, 18, 18, 18, 18, 20, 20, 20], \"yaxis\": \"y\"}, {\"customdata\": [[\"\\u039a\\u03c1\\u03bf\\u03b1\\u03c4\\u03af\\u03b1\"], [\"\\u039a\\u03c1\\u03bf\\u03b1\\u03c4\\u03af\\u03b1\"], [\"\\u039a\\u03c1\\u03bf\\u03b1\\u03c4\\u03af\\u03b1\"], [\"\\u039a\\u03c1\\u03bf\\u03b1\\u03c4\\u03af\\u03b1\"], [\"\\u039a\\u03c1\\u03bf\\u03b1\\u03c4\\u03af\\u03b1\"], [\"\\u039a\\u03c1\\u03bf\\u03b1\\u03c4\\u03af\\u03b1\"], [\"\\u039a\\u03c1\\u03bf\\u03b1\\u03c4\\u03af\\u03b1\"], [\"\\u039a\\u03c1\\u03bf\\u03b1\\u03c4\\u03af\\u03b1\"], [\"\\u039a\\u03c1\\u03bf\\u03b1\\u03c4\\u03af\\u03b1\"]], \"hoverlabel\": {\"namelength\": 0}, \"hovertemplate\": \"\\u03a7\\u03ce\\u03c1\\u03b1=%{customdata[0]}<br>\\u0391\\u03c1\\u03b9\\u03b8\\u03bc\\u03cc\\u03c2 \\u039a\\u03c1\\u03bf\\u03c5\\u03c3\\u03bc\\u03ac\\u03c4\\u03c9\\u03bd=%{y}\", \"legendgroup\": \"\\u039a\\u03c1\\u03bf\\u03b1\\u03c4\\u03af\\u03b1\", \"line\": {\"color\": \"rgb(189,189,189)\", \"dash\": \"solid\", \"shape\": \"spline\"}, \"mode\": \"lines\", \"name\": \"\\u039a\\u03c1\\u03bf\\u03b1\\u03c4\\u03af\\u03b1\", \"showlegend\": true, \"type\": \"scatter\", \"xaxis\": \"x\", \"y\": [12, 15, 16, 18, 19, 20, 21, 21, 23], \"yaxis\": \"y\"}, {\"customdata\": [[\"\\u039a\\u03bf\\u03cd\\u03b2\\u03b1\"], [\"\\u039a\\u03bf\\u03cd\\u03b2\\u03b1\"], [\"\\u039a\\u03bf\\u03cd\\u03b2\\u03b1\"], [\"\\u039a\\u03bf\\u03cd\\u03b2\\u03b1\"], [\"\\u039a\\u03bf\\u03cd\\u03b2\\u03b1\"], [\"\\u039a\\u03bf\\u03cd\\u03b2\\u03b1\"]], \"hoverlabel\": {\"namelength\": 0}, \"hovertemplate\": \"\\u03a7\\u03ce\\u03c1\\u03b1=%{customdata[0]}<br>\\u0391\\u03c1\\u03b9\\u03b8\\u03bc\\u03cc\\u03c2 \\u039a\\u03c1\\u03bf\\u03c5\\u03c3\\u03bc\\u03ac\\u03c4\\u03c9\\u03bd=%{y}\", \"legendgroup\": \"\\u039a\\u03bf\\u03cd\\u03b2\\u03b1\", \"line\": {\"color\": \"rgb(189,189,189)\", \"dash\": \"solid\", \"shape\": \"spline\"}, \"mode\": \"lines\", \"name\": \"\\u039a\\u03bf\\u03cd\\u03b2\\u03b1\", \"showlegend\": true, \"type\": \"scatter\", \"xaxis\": \"x\", \"y\": [11, 12, 15, 15, 16, 18], \"yaxis\": \"y\"}, {\"customdata\": [[\"\\u039a\\u03cd\\u03c0\\u03c1\\u03bf\\u03c2\"], [\"\\u039a\\u03cd\\u03c0\\u03c1\\u03bf\\u03c2\"], [\"\\u039a\\u03cd\\u03c0\\u03c1\\u03bf\\u03c2\"], [\"\\u039a\\u03cd\\u03c0\\u03c1\\u03bf\\u03c2\"], [\"\\u039a\\u03cd\\u03c0\\u03c1\\u03bf\\u03c2\"], [\"\\u039a\\u03cd\\u03c0\\u03c1\\u03bf\\u03c2\"], [\"\\u039a\\u03cd\\u03c0\\u03c1\\u03bf\\u03c2\"]], \"hoverlabel\": {\"namelength\": 0}, \"hovertemplate\": \"\\u03a7\\u03ce\\u03c1\\u03b1=%{customdata[0]}<br>\\u0391\\u03c1\\u03b9\\u03b8\\u03bc\\u03cc\\u03c2 \\u039a\\u03c1\\u03bf\\u03c5\\u03c3\\u03bc\\u03ac\\u03c4\\u03c9\\u03bd=%{y}\", \"legendgroup\": \"\\u039a\\u03cd\\u03c0\\u03c1\\u03bf\\u03c2\", \"line\": {\"color\": \"rgb(189,189,189)\", \"dash\": \"solid\", \"shape\": \"spline\"}, \"mode\": \"lines\", \"name\": \"\\u039a\\u03cd\\u03c0\\u03c1\\u03bf\\u03c2\", \"showlegend\": true, \"type\": \"scatter\", \"xaxis\": \"x\", \"y\": [10, 11, 11, 10, 10, 10, 11], \"yaxis\": \"y\"}, {\"customdata\": [[\"\\u03a4\\u03c3\\u03b5\\u03c7\\u03af\\u03b1\"], [\"\\u03a4\\u03c3\\u03b5\\u03c7\\u03af\\u03b1\"], [\"\\u03a4\\u03c3\\u03b5\\u03c7\\u03af\\u03b1\"], [\"\\u03a4\\u03c3\\u03b5\\u03c7\\u03af\\u03b1\"], [\"\\u03a4\\u03c3\\u03b5\\u03c7\\u03af\\u03b1\"], [\"\\u03a4\\u03c3\\u03b5\\u03c7\\u03af\\u03b1\"], [\"\\u03a4\\u03c3\\u03b5\\u03c7\\u03af\\u03b1\"], [\"\\u03a4\\u03c3\\u03b5\\u03c7\\u03af\\u03b1\"], [\"\\u03a4\\u03c3\\u03b5\\u03c7\\u03af\\u03b1\"], [\"\\u03a4\\u03c3\\u03b5\\u03c7\\u03af\\u03b1\"], [\"\\u03a4\\u03c3\\u03b5\\u03c7\\u03af\\u03b1\"], [\"\\u03a4\\u03c3\\u03b5\\u03c7\\u03af\\u03b1\"], [\"\\u03a4\\u03c3\\u03b5\\u03c7\\u03af\\u03b1\"], [\"\\u03a4\\u03c3\\u03b5\\u03c7\\u03af\\u03b1\"], [\"\\u03a4\\u03c3\\u03b5\\u03c7\\u03af\\u03b1\"], [\"\\u03a4\\u03c3\\u03b5\\u03c7\\u03af\\u03b1\"]], \"hoverlabel\": {\"namelength\": 0}, \"hovertemplate\": \"\\u03a7\\u03ce\\u03c1\\u03b1=%{customdata[0]}<br>\\u0391\\u03c1\\u03b9\\u03b8\\u03bc\\u03cc\\u03c2 \\u039a\\u03c1\\u03bf\\u03c5\\u03c3\\u03bc\\u03ac\\u03c4\\u03c9\\u03bd=%{y}\", \"legendgroup\": \"\\u03a4\\u03c3\\u03b5\\u03c7\\u03af\\u03b1\", \"line\": {\"color\": \"rgb(189,189,189)\", \"dash\": \"solid\", \"shape\": \"spline\"}, \"mode\": \"lines\", \"name\": \"\\u03a4\\u03c3\\u03b5\\u03c7\\u03af\\u03b1\", \"showlegend\": true, \"type\": \"scatter\", \"xaxis\": \"x\", \"y\": [11, 16, 23, 31, 39, 44, 53, 59, 67, 78, 88, 99, 112, 119, 129, 138], \"yaxis\": \"y\"}, {\"customdata\": [[\"\\u0394\\u03b1\\u03bd\\u03af\\u03b1\"], [\"\\u0394\\u03b1\\u03bd\\u03af\\u03b1\"], [\"\\u0394\\u03b1\\u03bd\\u03af\\u03b1\"], [\"\\u0394\\u03b1\\u03bd\\u03af\\u03b1\"], [\"\\u0394\\u03b1\\u03bd\\u03af\\u03b1\"], [\"\\u0394\\u03b1\\u03bd\\u03af\\u03b1\"], [\"\\u0394\\u03b1\\u03bd\\u03af\\u03b1\"], [\"\\u0394\\u03b1\\u03bd\\u03af\\u03b1\"], [\"\\u0394\\u03b1\\u03bd\\u03af\\u03b1\"], [\"\\u0394\\u03b1\\u03bd\\u03af\\u03b1\"], [\"\\u0394\\u03b1\\u03bd\\u03af\\u03b1\"], [\"\\u0394\\u03b1\\u03bd\\u03af\\u03b1\"], [\"\\u0394\\u03b1\\u03bd\\u03af\\u03b1\"], [\"\\u0394\\u03b1\\u03bd\\u03af\\u03b1\"], [\"\\u0394\\u03b1\\u03bd\\u03af\\u03b1\"], [\"\\u0394\\u03b1\\u03bd\\u03af\\u03b1\"], [\"\\u0394\\u03b1\\u03bd\\u03af\\u03b1\"], [\"\\u0394\\u03b1\\u03bd\\u03af\\u03b1\"], [\"\\u0394\\u03b1\\u03bd\\u03af\\u03b1\"], [\"\\u0394\\u03b1\\u03bd\\u03af\\u03b1\"], [\"\\u0394\\u03b1\\u03bd\\u03af\\u03b1\"], [\"\\u0394\\u03b1\\u03bd\\u03af\\u03b1\"], [\"\\u0394\\u03b1\\u03bd\\u03af\\u03b1\"]], \"hoverlabel\": {\"namelength\": 0}, \"hovertemplate\": \"\\u03a7\\u03ce\\u03c1\\u03b1=%{customdata[0]}<br>\\u0391\\u03c1\\u03b9\\u03b8\\u03bc\\u03cc\\u03c2 \\u039a\\u03c1\\u03bf\\u03c5\\u03c3\\u03bc\\u03ac\\u03c4\\u03c9\\u03bd=%{y}\", \"legendgroup\": \"\\u0394\\u03b1\\u03bd\\u03af\\u03b1\", \"line\": {\"color\": \"rgb(189,189,189)\", \"dash\": \"solid\", \"shape\": \"spline\"}, \"mode\": \"lines\", \"name\": \"\\u0394\\u03b1\\u03bd\\u03af\\u03b1\", \"showlegend\": true, \"type\": \"scatter\", \"xaxis\": \"x\", \"y\": [13, 13, 24, 32, 34, 41, 52, 65, 72, 77, 90, 104, 123, 139, 161, 179, 187, 203, 218, 237, 247, 260, 273], \"yaxis\": \"y\"}, {\"customdata\": [[\"\\u0394\\u03bf\\u03bc\\u03b9\\u03bd\\u03b9\\u03ba\\u03b1\\u03bd\\u03ae \\u0394\\u03b7\\u03bc/\\u03c4\\u03af\\u03b1\"], [\"\\u0394\\u03bf\\u03bc\\u03b9\\u03bd\\u03b9\\u03ba\\u03b1\\u03bd\\u03ae \\u0394\\u03b7\\u03bc/\\u03c4\\u03af\\u03b1\"], [\"\\u0394\\u03bf\\u03bc\\u03b9\\u03bd\\u03b9\\u03ba\\u03b1\\u03bd\\u03ae \\u0394\\u03b7\\u03bc/\\u03c4\\u03af\\u03b1\"], [\"\\u0394\\u03bf\\u03bc\\u03b9\\u03bd\\u03b9\\u03ba\\u03b1\\u03bd\\u03ae \\u0394\\u03b7\\u03bc/\\u03c4\\u03af\\u03b1\"], [\"\\u0394\\u03bf\\u03bc\\u03b9\\u03bd\\u03b9\\u03ba\\u03b1\\u03bd\\u03ae \\u0394\\u03b7\\u03bc/\\u03c4\\u03af\\u03b1\"], [\"\\u0394\\u03bf\\u03bc\\u03b9\\u03bd\\u03b9\\u03ba\\u03b1\\u03bd\\u03ae \\u0394\\u03b7\\u03bc/\\u03c4\\u03af\\u03b1\"], [\"\\u0394\\u03bf\\u03bc\\u03b9\\u03bd\\u03b9\\u03ba\\u03b1\\u03bd\\u03ae \\u0394\\u03b7\\u03bc/\\u03c4\\u03af\\u03b1\"], [\"\\u0394\\u03bf\\u03bc\\u03b9\\u03bd\\u03b9\\u03ba\\u03b1\\u03bd\\u03ae \\u0394\\u03b7\\u03bc/\\u03c4\\u03af\\u03b1\"], [\"\\u0394\\u03bf\\u03bc\\u03b9\\u03bd\\u03b9\\u03ba\\u03b1\\u03bd\\u03ae \\u0394\\u03b7\\u03bc/\\u03c4\\u03af\\u03b1\"], [\"\\u0394\\u03bf\\u03bc\\u03b9\\u03bd\\u03b9\\u03ba\\u03b1\\u03bd\\u03ae \\u0394\\u03b7\\u03bc/\\u03c4\\u03af\\u03b1\"], [\"\\u0394\\u03bf\\u03bc\\u03b9\\u03bd\\u03b9\\u03ba\\u03b1\\u03bd\\u03ae \\u0394\\u03b7\\u03bc/\\u03c4\\u03af\\u03b1\"], [\"\\u0394\\u03bf\\u03bc\\u03b9\\u03bd\\u03b9\\u03ba\\u03b1\\u03bd\\u03ae \\u0394\\u03b7\\u03bc/\\u03c4\\u03af\\u03b1\"], [\"\\u0394\\u03bf\\u03bc\\u03b9\\u03bd\\u03b9\\u03ba\\u03b1\\u03bd\\u03ae \\u0394\\u03b7\\u03bc/\\u03c4\\u03af\\u03b1\"], [\"\\u0394\\u03bf\\u03bc\\u03b9\\u03bd\\u03b9\\u03ba\\u03b1\\u03bd\\u03ae \\u0394\\u03b7\\u03bc/\\u03c4\\u03af\\u03b1\"], [\"\\u0394\\u03bf\\u03bc\\u03b9\\u03bd\\u03b9\\u03ba\\u03b1\\u03bd\\u03ae \\u0394\\u03b7\\u03bc/\\u03c4\\u03af\\u03b1\"], [\"\\u0394\\u03bf\\u03bc\\u03b9\\u03bd\\u03b9\\u03ba\\u03b1\\u03bd\\u03ae \\u0394\\u03b7\\u03bc/\\u03c4\\u03af\\u03b1\"], [\"\\u0394\\u03bf\\u03bc\\u03b9\\u03bd\\u03b9\\u03ba\\u03b1\\u03bd\\u03ae \\u0394\\u03b7\\u03bc/\\u03c4\\u03af\\u03b1\"], [\"\\u0394\\u03bf\\u03bc\\u03b9\\u03bd\\u03b9\\u03ba\\u03b1\\u03bd\\u03ae \\u0394\\u03b7\\u03bc/\\u03c4\\u03af\\u03b1\"], [\"\\u0394\\u03bf\\u03bc\\u03b9\\u03bd\\u03b9\\u03ba\\u03b1\\u03bd\\u03ae \\u0394\\u03b7\\u03bc/\\u03c4\\u03af\\u03b1\"]], \"hoverlabel\": {\"namelength\": 0}, \"hovertemplate\": \"\\u03a7\\u03ce\\u03c1\\u03b1=%{customdata[0]}<br>\\u0391\\u03c1\\u03b9\\u03b8\\u03bc\\u03cc\\u03c2 \\u039a\\u03c1\\u03bf\\u03c5\\u03c3\\u03bc\\u03ac\\u03c4\\u03c9\\u03bd=%{y}\", \"legendgroup\": \"\\u0394\\u03bf\\u03bc\\u03b9\\u03bd\\u03b9\\u03ba\\u03b1\\u03bd\\u03ae \\u0394\\u03b7\\u03bc/\\u03c4\\u03af\\u03b1\", \"line\": {\"color\": \"rgb(189,189,189)\", \"dash\": \"solid\", \"shape\": \"spline\"}, \"mode\": \"lines\", \"name\": \"\\u0394\\u03bf\\u03bc\\u03b9\\u03bd\\u03b9\\u03ba\\u03b1\\u03bd\\u03ae \\u0394\\u03b7\\u03bc/\\u03c4\\u03af\\u03b1\", \"showlegend\": true, \"type\": \"scatter\", \"xaxis\": \"x\", \"y\": [10, 10, 20, 28, 39, 42, 51, 57, 60, 68, 68, 82, 86, 98, 108, 118, 126, 135, 173], \"yaxis\": \"y\"}, {\"customdata\": [[\"\\u0399\\u03c3\\u03b7\\u03bc\\u03b5\\u03c1\\u03b9\\u03bd\\u03cc\\u03c2\"], [\"\\u0399\\u03c3\\u03b7\\u03bc\\u03b5\\u03c1\\u03b9\\u03bd\\u03cc\\u03c2\"], [\"\\u0399\\u03c3\\u03b7\\u03bc\\u03b5\\u03c1\\u03b9\\u03bd\\u03cc\\u03c2\"], [\"\\u0399\\u03c3\\u03b7\\u03bc\\u03b5\\u03c1\\u03b9\\u03bd\\u03cc\\u03c2\"], [\"\\u0399\\u03c3\\u03b7\\u03bc\\u03b5\\u03c1\\u03b9\\u03bd\\u03cc\\u03c2\"], [\"\\u0399\\u03c3\\u03b7\\u03bc\\u03b5\\u03c1\\u03b9\\u03bd\\u03cc\\u03c2\"], [\"\\u0399\\u03c3\\u03b7\\u03bc\\u03b5\\u03c1\\u03b9\\u03bd\\u03cc\\u03c2\"], [\"\\u0399\\u03c3\\u03b7\\u03bc\\u03b5\\u03c1\\u03b9\\u03bd\\u03cc\\u03c2\"], [\"\\u0399\\u03c3\\u03b7\\u03bc\\u03b5\\u03c1\\u03b9\\u03bd\\u03cc\\u03c2\"], [\"\\u0399\\u03c3\\u03b7\\u03bc\\u03b5\\u03c1\\u03b9\\u03bd\\u03cc\\u03c2\"], [\"\\u0399\\u03c3\\u03b7\\u03bc\\u03b5\\u03c1\\u03b9\\u03bd\\u03cc\\u03c2\"], [\"\\u0399\\u03c3\\u03b7\\u03bc\\u03b5\\u03c1\\u03b9\\u03bd\\u03cc\\u03c2\"], [\"\\u0399\\u03c3\\u03b7\\u03bc\\u03b5\\u03c1\\u03b9\\u03bd\\u03cc\\u03c2\"], [\"\\u0399\\u03c3\\u03b7\\u03bc\\u03b5\\u03c1\\u03b9\\u03bd\\u03cc\\u03c2\"], [\"\\u0399\\u03c3\\u03b7\\u03bc\\u03b5\\u03c1\\u03b9\\u03bd\\u03cc\\u03c2\"], [\"\\u0399\\u03c3\\u03b7\\u03bc\\u03b5\\u03c1\\u03b9\\u03bd\\u03cc\\u03c2\"], [\"\\u0399\\u03c3\\u03b7\\u03bc\\u03b5\\u03c1\\u03b9\\u03bd\\u03cc\\u03c2\"], [\"\\u0399\\u03c3\\u03b7\\u03bc\\u03b5\\u03c1\\u03b9\\u03bd\\u03cc\\u03c2\"], [\"\\u0399\\u03c3\\u03b7\\u03bc\\u03b5\\u03c1\\u03b9\\u03bd\\u03cc\\u03c2\"], [\"\\u0399\\u03c3\\u03b7\\u03bc\\u03b5\\u03c1\\u03b9\\u03bd\\u03cc\\u03c2\"], [\"\\u0399\\u03c3\\u03b7\\u03bc\\u03b5\\u03c1\\u03b9\\u03bd\\u03cc\\u03c2\"], [\"\\u0399\\u03c3\\u03b7\\u03bc\\u03b5\\u03c1\\u03b9\\u03bd\\u03cc\\u03c2\"]], \"hoverlabel\": {\"namelength\": 0}, \"hovertemplate\": \"\\u03a7\\u03ce\\u03c1\\u03b1=%{customdata[0]}<br>\\u0391\\u03c1\\u03b9\\u03b8\\u03bc\\u03cc\\u03c2 \\u039a\\u03c1\\u03bf\\u03c5\\u03c3\\u03bc\\u03ac\\u03c4\\u03c9\\u03bd=%{y}\", \"legendgroup\": \"\\u0399\\u03c3\\u03b7\\u03bc\\u03b5\\u03c1\\u03b9\\u03bd\\u03cc\\u03c2\", \"line\": {\"color\": \"rgb(189,189,189)\", \"dash\": \"solid\", \"shape\": \"spline\"}, \"mode\": \"lines\", \"name\": \"\\u0399\\u03c3\\u03b7\\u03bc\\u03b5\\u03c1\\u03b9\\u03bd\\u03cc\\u03c2\", \"showlegend\": true, \"type\": \"scatter\", \"xaxis\": \"x\", \"y\": [14, 18, 27, 28, 34, 36, 48, 58, 60, 75, 93, 120, 145, 172, 180, 191, 191, 242, 272, 297, 315, 333], \"yaxis\": \"y\"}, {\"customdata\": [[\"\\u0391\\u03af\\u03b3\\u03c5\\u03c0\\u03c4\\u03bf\\u03c2\"], [\"\\u0391\\u03af\\u03b3\\u03c5\\u03c0\\u03c4\\u03bf\\u03c2\"], [\"\\u0391\\u03af\\u03b3\\u03c5\\u03c0\\u03c4\\u03bf\\u03c2\"], [\"\\u0391\\u03af\\u03b3\\u03c5\\u03c0\\u03c4\\u03bf\\u03c2\"], [\"\\u0391\\u03af\\u03b3\\u03c5\\u03c0\\u03c4\\u03bf\\u03c2\"], [\"\\u0391\\u03af\\u03b3\\u03c5\\u03c0\\u03c4\\u03bf\\u03c2\"], [\"\\u0391\\u03af\\u03b3\\u03c5\\u03c0\\u03c4\\u03bf\\u03c2\"], [\"\\u0391\\u03af\\u03b3\\u03c5\\u03c0\\u03c4\\u03bf\\u03c2\"], [\"\\u0391\\u03af\\u03b3\\u03c5\\u03c0\\u03c4\\u03bf\\u03c2\"], [\"\\u0391\\u03af\\u03b3\\u03c5\\u03c0\\u03c4\\u03bf\\u03c2\"], [\"\\u0391\\u03af\\u03b3\\u03c5\\u03c0\\u03c4\\u03bf\\u03c2\"], [\"\\u0391\\u03af\\u03b3\\u03c5\\u03c0\\u03c4\\u03bf\\u03c2\"], [\"\\u0391\\u03af\\u03b3\\u03c5\\u03c0\\u03c4\\u03bf\\u03c2\"], [\"\\u0391\\u03af\\u03b3\\u03c5\\u03c0\\u03c4\\u03bf\\u03c2\"], [\"\\u0391\\u03af\\u03b3\\u03c5\\u03c0\\u03c4\\u03bf\\u03c2\"], [\"\\u0391\\u03af\\u03b3\\u03c5\\u03c0\\u03c4\\u03bf\\u03c2\"], [\"\\u0391\\u03af\\u03b3\\u03c5\\u03c0\\u03c4\\u03bf\\u03c2\"], [\"\\u0391\\u03af\\u03b3\\u03c5\\u03c0\\u03c4\\u03bf\\u03c2\"], [\"\\u0391\\u03af\\u03b3\\u03c5\\u03c0\\u03c4\\u03bf\\u03c2\"], [\"\\u0391\\u03af\\u03b3\\u03c5\\u03c0\\u03c4\\u03bf\\u03c2\"], [\"\\u0391\\u03af\\u03b3\\u03c5\\u03c0\\u03c4\\u03bf\\u03c2\"], [\"\\u0391\\u03af\\u03b3\\u03c5\\u03c0\\u03c4\\u03bf\\u03c2\"], [\"\\u0391\\u03af\\u03b3\\u03c5\\u03c0\\u03c4\\u03bf\\u03c2\"]], \"hoverlabel\": {\"namelength\": 0}, \"hovertemplate\": \"\\u03a7\\u03ce\\u03c1\\u03b1=%{customdata[0]}<br>\\u0391\\u03c1\\u03b9\\u03b8\\u03bc\\u03cc\\u03c2 \\u039a\\u03c1\\u03bf\\u03c5\\u03c3\\u03bc\\u03ac\\u03c4\\u03c9\\u03bd=%{y}\", \"legendgroup\": \"\\u0391\\u03af\\u03b3\\u03c5\\u03c0\\u03c4\\u03bf\\u03c2\", \"line\": {\"color\": \"rgb(189,189,189)\", \"dash\": \"solid\", \"shape\": \"spline\"}, \"mode\": \"lines\", \"name\": \"\\u0391\\u03af\\u03b3\\u03c5\\u03c0\\u03c4\\u03bf\\u03c2\", \"showlegend\": true, \"type\": \"scatter\", \"xaxis\": \"x\", \"y\": [10, 14, 19, 20, 21, 24, 30, 36, 40, 41, 46, 52, 58, 66, 71, 78, 85, 94, 103, 118, 135, 146, 159], \"yaxis\": \"y\"}, {\"customdata\": [[\"\\u0395\\u03c3\\u03b8\\u03bf\\u03bd\\u03af\\u03b1\"], [\"\\u0395\\u03c3\\u03b8\\u03bf\\u03bd\\u03af\\u03b1\"], [\"\\u0395\\u03c3\\u03b8\\u03bf\\u03bd\\u03af\\u03b1\"], [\"\\u0395\\u03c3\\u03b8\\u03bf\\u03bd\\u03af\\u03b1\"], [\"\\u0395\\u03c3\\u03b8\\u03bf\\u03bd\\u03af\\u03b1\"], [\"\\u0395\\u03c3\\u03b8\\u03bf\\u03bd\\u03af\\u03b1\"], [\"\\u0395\\u03c3\\u03b8\\u03bf\\u03bd\\u03af\\u03b1\"], [\"\\u0395\\u03c3\\u03b8\\u03bf\\u03bd\\u03af\\u03b1\"], [\"\\u0395\\u03c3\\u03b8\\u03bf\\u03bd\\u03af\\u03b1\"], [\"\\u0395\\u03c3\\u03b8\\u03bf\\u03bd\\u03af\\u03b1\"], [\"\\u0395\\u03c3\\u03b8\\u03bf\\u03bd\\u03af\\u03b1\"]], \"hoverlabel\": {\"namelength\": 0}, \"hovertemplate\": \"\\u03a7\\u03ce\\u03c1\\u03b1=%{customdata[0]}<br>\\u0391\\u03c1\\u03b9\\u03b8\\u03bc\\u03cc\\u03c2 \\u039a\\u03c1\\u03bf\\u03c5\\u03c3\\u03bc\\u03ac\\u03c4\\u03c9\\u03bd=%{y}\", \"legendgroup\": \"\\u0395\\u03c3\\u03b8\\u03bf\\u03bd\\u03af\\u03b1\", \"line\": {\"color\": \"rgb(189,189,189)\", \"dash\": \"solid\", \"shape\": \"spline\"}, \"mode\": \"lines\", \"name\": \"\\u0395\\u03c3\\u03b8\\u03bf\\u03bd\\u03af\\u03b1\", \"showlegend\": true, \"type\": \"scatter\", \"xaxis\": \"x\", \"y\": [11, 12, 13, 15, 19, 21, 24, 24, 24, 24, 25], \"yaxis\": \"y\"}, {\"customdata\": [[\"\\u03a6\\u03b9\\u03bd\\u03bb\\u03b1\\u03bd\\u03b4\\u03af\\u03b1\"], [\"\\u03a6\\u03b9\\u03bd\\u03bb\\u03b1\\u03bd\\u03b4\\u03af\\u03b1\"], [\"\\u03a6\\u03b9\\u03bd\\u03bb\\u03b1\\u03bd\\u03b4\\u03af\\u03b1\"], [\"\\u03a6\\u03b9\\u03bd\\u03bb\\u03b1\\u03bd\\u03b4\\u03af\\u03b1\"], [\"\\u03a6\\u03b9\\u03bd\\u03bb\\u03b1\\u03bd\\u03b4\\u03af\\u03b1\"], [\"\\u03a6\\u03b9\\u03bd\\u03bb\\u03b1\\u03bd\\u03b4\\u03af\\u03b1\"], [\"\\u03a6\\u03b9\\u03bd\\u03bb\\u03b1\\u03bd\\u03b4\\u03af\\u03b1\"], [\"\\u03a6\\u03b9\\u03bd\\u03bb\\u03b1\\u03bd\\u03b4\\u03af\\u03b1\"], [\"\\u03a6\\u03b9\\u03bd\\u03bb\\u03b1\\u03bd\\u03b4\\u03af\\u03b1\"], [\"\\u03a6\\u03b9\\u03bd\\u03bb\\u03b1\\u03bd\\u03b4\\u03af\\u03b1\"], [\"\\u03a6\\u03b9\\u03bd\\u03bb\\u03b1\\u03bd\\u03b4\\u03af\\u03b1\"], [\"\\u03a6\\u03b9\\u03bd\\u03bb\\u03b1\\u03bd\\u03b4\\u03af\\u03b1\"], [\"\\u03a6\\u03b9\\u03bd\\u03bb\\u03b1\\u03bd\\u03b4\\u03af\\u03b1\"], [\"\\u03a6\\u03b9\\u03bd\\u03bb\\u03b1\\u03bd\\u03b4\\u03af\\u03b1\"], [\"\\u03a6\\u03b9\\u03bd\\u03bb\\u03b1\\u03bd\\u03b4\\u03af\\u03b1\"]], \"hoverlabel\": {\"namelength\": 0}, \"hovertemplate\": \"\\u03a7\\u03ce\\u03c1\\u03b1=%{customdata[0]}<br>\\u0391\\u03c1\\u03b9\\u03b8\\u03bc\\u03cc\\u03c2 \\u039a\\u03c1\\u03bf\\u03c5\\u03c3\\u03bc\\u03ac\\u03c4\\u03c9\\u03bd=%{y}\", \"legendgroup\": \"\\u03a6\\u03b9\\u03bd\\u03bb\\u03b1\\u03bd\\u03b4\\u03af\\u03b1\", \"line\": {\"color\": \"rgb(189,189,189)\", \"dash\": \"solid\", \"shape\": \"spline\"}, \"mode\": \"lines\", \"name\": \"\\u03a6\\u03b9\\u03bd\\u03bb\\u03b1\\u03bd\\u03b4\\u03af\\u03b1\", \"showlegend\": true, \"type\": \"scatter\", \"xaxis\": \"x\", \"y\": [11, 13, 17, 17, 19, 20, 25, 28, 27, 34, 40, 42, 48, 49, 56], \"yaxis\": \"y\"}, {\"customdata\": [[\"\\u0393\\u03b1\\u03bb\\u03bb\\u03af\\u03b1\"], [\"\\u0393\\u03b1\\u03bb\\u03bb\\u03af\\u03b1\"], [\"\\u0393\\u03b1\\u03bb\\u03bb\\u03af\\u03b1\"], [\"\\u0393\\u03b1\\u03bb\\u03bb\\u03af\\u03b1\"], [\"\\u0393\\u03b1\\u03bb\\u03bb\\u03af\\u03b1\"], [\"\\u0393\\u03b1\\u03bb\\u03bb\\u03af\\u03b1\"], [\"\\u0393\\u03b1\\u03bb\\u03bb\\u03af\\u03b1\"], [\"\\u0393\\u03b1\\u03bb\\u03bb\\u03af\\u03b1\"], [\"\\u0393\\u03b1\\u03bb\\u03bb\\u03af\\u03b1\"], [\"\\u0393\\u03b1\\u03bb\\u03bb\\u03af\\u03b1\"], [\"\\u0393\\u03b1\\u03bb\\u03bb\\u03af\\u03b1\"], [\"\\u0393\\u03b1\\u03bb\\u03bb\\u03af\\u03b1\"], [\"\\u0393\\u03b1\\u03bb\\u03bb\\u03af\\u03b1\"], [\"\\u0393\\u03b1\\u03bb\\u03bb\\u03af\\u03b1\"], [\"\\u0393\\u03b1\\u03bb\\u03bb\\u03af\\u03b1\"], [\"\\u0393\\u03b1\\u03bb\\u03bb\\u03af\\u03b1\"], [\"\\u0393\\u03b1\\u03bb\\u03bb\\u03af\\u03b1\"], [\"\\u0393\\u03b1\\u03bb\\u03bb\\u03af\\u03b1\"], [\"\\u0393\\u03b1\\u03bb\\u03bb\\u03af\\u03b1\"], [\"\\u0393\\u03b1\\u03bb\\u03bb\\u03af\\u03b1\"], [\"\\u0393\\u03b1\\u03bb\\u03bb\\u03af\\u03b1\"], [\"\\u0393\\u03b1\\u03bb\\u03bb\\u03af\\u03b1\"], [\"\\u0393\\u03b1\\u03bb\\u03bb\\u03af\\u03b1\"], [\"\\u0393\\u03b1\\u03bb\\u03bb\\u03af\\u03b1\"], [\"\\u0393\\u03b1\\u03bb\\u03bb\\u03af\\u03b1\"], [\"\\u0393\\u03b1\\u03bb\\u03bb\\u03af\\u03b1\"], [\"\\u0393\\u03b1\\u03bb\\u03bb\\u03af\\u03b1\"], [\"\\u0393\\u03b1\\u03bb\\u03bb\\u03af\\u03b1\"], [\"\\u0393\\u03b1\\u03bb\\u03bb\\u03af\\u03b1\"], [\"\\u0393\\u03b1\\u03bb\\u03bb\\u03af\\u03b1\"], [\"\\u0393\\u03b1\\u03bb\\u03bb\\u03af\\u03b1\"], [\"\\u0393\\u03b1\\u03bb\\u03bb\\u03af\\u03b1\"], [\"\\u0393\\u03b1\\u03bb\\u03bb\\u03af\\u03b1\"], [\"\\u0393\\u03b1\\u03bb\\u03bb\\u03af\\u03b1\"], [\"\\u0393\\u03b1\\u03bb\\u03bb\\u03af\\u03b1\"], [\"\\u0393\\u03b1\\u03bb\\u03bb\\u03af\\u03b1\"], [\"\\u0393\\u03b1\\u03bb\\u03bb\\u03af\\u03b1\"]], \"hoverlabel\": {\"namelength\": 0}, \"hovertemplate\": \"\\u03a7\\u03ce\\u03c1\\u03b1=%{customdata[0]}<br>\\u0391\\u03c1\\u03b9\\u03b8\\u03bc\\u03cc\\u03c2 \\u039a\\u03c1\\u03bf\\u03c5\\u03c3\\u03bc\\u03ac\\u03c4\\u03c9\\u03bd=%{y}\", \"legendgroup\": \"\\u0393\\u03b1\\u03bb\\u03bb\\u03af\\u03b1\", \"line\": {\"color\": \"rgb(189,189,189)\", \"dash\": \"solid\", \"shape\": \"spline\"}, \"mode\": \"lines\", \"name\": \"\\u0393\\u03b1\\u03bb\\u03bb\\u03af\\u03b1\", \"showlegend\": true, \"type\": \"scatter\", \"xaxis\": \"x\", \"y\": [11, 19, 19, 33, 48, 48, 79, 91, 91, 149, 149, 149, 244, 451, 563, 676, 862, 1102, 1333, 1698, 1997, 2317, 2611, 3030, 3532, 4043, 5398, 6520, 7574, 8093, 8926, 10343, 10887, 12228, 13215, 13851, 14412], \"yaxis\": \"y\"}, {\"customdata\": [[\"\\u039f\\u03bd\\u03b4\\u03bf\\u03cd\\u03c1\\u03b1\"], [\"\\u039f\\u03bd\\u03b4\\u03bf\\u03cd\\u03c1\\u03b1\"], [\"\\u039f\\u03bd\\u03b4\\u03bf\\u03cd\\u03c1\\u03b1\"], [\"\\u039f\\u03bd\\u03b4\\u03bf\\u03cd\\u03c1\\u03b1\"], [\"\\u039f\\u03bd\\u03b4\\u03bf\\u03cd\\u03c1\\u03b1\"], [\"\\u039f\\u03bd\\u03b4\\u03bf\\u03cd\\u03c1\\u03b1\"], [\"\\u039f\\u03bd\\u03b4\\u03bf\\u03cd\\u03c1\\u03b1\"], [\"\\u039f\\u03bd\\u03b4\\u03bf\\u03cd\\u03c1\\u03b1\"], [\"\\u039f\\u03bd\\u03b4\\u03bf\\u03cd\\u03c1\\u03b1\"], [\"\\u039f\\u03bd\\u03b4\\u03bf\\u03cd\\u03c1\\u03b1\"], [\"\\u039f\\u03bd\\u03b4\\u03bf\\u03cd\\u03c1\\u03b1\"], [\"\\u039f\\u03bd\\u03b4\\u03bf\\u03cd\\u03c1\\u03b1\"]], \"hoverlabel\": {\"namelength\": 0}, \"hovertemplate\": \"\\u03a7\\u03ce\\u03c1\\u03b1=%{customdata[0]}<br>\\u0391\\u03c1\\u03b9\\u03b8\\u03bc\\u03cc\\u03c2 \\u039a\\u03c1\\u03bf\\u03c5\\u03c3\\u03bc\\u03ac\\u03c4\\u03c9\\u03bd=%{y}\", \"legendgroup\": \"\\u039f\\u03bd\\u03b4\\u03bf\\u03cd\\u03c1\\u03b1\", \"line\": {\"color\": \"rgb(189,189,189)\", \"dash\": \"solid\", \"shape\": \"spline\"}, \"mode\": \"lines\", \"name\": \"\\u039f\\u03bd\\u03b4\\u03bf\\u03cd\\u03c1\\u03b1\", \"showlegend\": true, \"type\": \"scatter\", \"xaxis\": \"x\", \"y\": [10, 14, 15, 15, 22, 22, 22, 22, 23, 23, 24, 25], \"yaxis\": \"y\"}, {\"customdata\": [[\"\\u039f\\u03c5\\u03b3\\u03b3\\u03b1\\u03c1\\u03af\\u03b1\"], [\"\\u039f\\u03c5\\u03b3\\u03b3\\u03b1\\u03c1\\u03af\\u03b1\"], [\"\\u039f\\u03c5\\u03b3\\u03b3\\u03b1\\u03c1\\u03af\\u03b1\"], [\"\\u039f\\u03c5\\u03b3\\u03b3\\u03b1\\u03c1\\u03af\\u03b1\"], [\"\\u039f\\u03c5\\u03b3\\u03b3\\u03b1\\u03c1\\u03af\\u03b1\"], [\"\\u039f\\u03c5\\u03b3\\u03b3\\u03b1\\u03c1\\u03af\\u03b1\"], [\"\\u039f\\u03c5\\u03b3\\u03b3\\u03b1\\u03c1\\u03af\\u03b1\"], [\"\\u039f\\u03c5\\u03b3\\u03b3\\u03b1\\u03c1\\u03af\\u03b1\"], [\"\\u039f\\u03c5\\u03b3\\u03b3\\u03b1\\u03c1\\u03af\\u03b1\"], [\"\\u039f\\u03c5\\u03b3\\u03b3\\u03b1\\u03c1\\u03af\\u03b1\"], [\"\\u039f\\u03c5\\u03b3\\u03b3\\u03b1\\u03c1\\u03af\\u03b1\"], [\"\\u039f\\u03c5\\u03b3\\u03b3\\u03b1\\u03c1\\u03af\\u03b1\"], [\"\\u039f\\u03c5\\u03b3\\u03b3\\u03b1\\u03c1\\u03af\\u03b1\"], [\"\\u039f\\u03c5\\u03b3\\u03b3\\u03b1\\u03c1\\u03af\\u03b1\"], [\"\\u039f\\u03c5\\u03b3\\u03b3\\u03b1\\u03c1\\u03af\\u03b1\"], [\"\\u039f\\u03c5\\u03b3\\u03b3\\u03b1\\u03c1\\u03af\\u03b1\"], [\"\\u039f\\u03c5\\u03b3\\u03b3\\u03b1\\u03c1\\u03af\\u03b1\"], [\"\\u039f\\u03c5\\u03b3\\u03b3\\u03b1\\u03c1\\u03af\\u03b1\"], [\"\\u039f\\u03c5\\u03b3\\u03b3\\u03b1\\u03c1\\u03af\\u03b1\"]], \"hoverlabel\": {\"namelength\": 0}, \"hovertemplate\": \"\\u03a7\\u03ce\\u03c1\\u03b1=%{customdata[0]}<br>\\u0391\\u03c1\\u03b9\\u03b8\\u03bc\\u03cc\\u03c2 \\u039a\\u03c1\\u03bf\\u03c5\\u03c3\\u03bc\\u03ac\\u03c4\\u03c9\\u03bd=%{y}\", \"legendgroup\": \"\\u039f\\u03c5\\u03b3\\u03b3\\u03b1\\u03c1\\u03af\\u03b1\", \"line\": {\"color\": \"rgb(189,189,189)\", \"dash\": \"solid\", \"shape\": \"spline\"}, \"mode\": \"lines\", \"name\": \"\\u039f\\u03c5\\u03b3\\u03b3\\u03b1\\u03c1\\u03af\\u03b1\", \"showlegend\": true, \"type\": \"scatter\", \"xaxis\": \"x\", \"y\": [10, 10, 10, 11, 13, 15, 16, 20, 21, 26, 32, 34, 38, 47, 58, 66, 77, 85, 99], \"yaxis\": \"y\"}, {\"customdata\": [[\"\\u0399\\u03bd\\u03b4\\u03af\\u03b1\"], [\"\\u0399\\u03bd\\u03b4\\u03af\\u03b1\"], [\"\\u0399\\u03bd\\u03b4\\u03af\\u03b1\"], [\"\\u0399\\u03bd\\u03b4\\u03af\\u03b1\"], [\"\\u0399\\u03bd\\u03b4\\u03af\\u03b1\"], [\"\\u0399\\u03bd\\u03b4\\u03af\\u03b1\"], [\"\\u0399\\u03bd\\u03b4\\u03af\\u03b1\"], [\"\\u0399\\u03bd\\u03b4\\u03af\\u03b1\"], [\"\\u0399\\u03bd\\u03b4\\u03af\\u03b1\"], [\"\\u0399\\u03bd\\u03b4\\u03af\\u03b1\"], [\"\\u0399\\u03bd\\u03b4\\u03af\\u03b1\"], [\"\\u0399\\u03bd\\u03b4\\u03af\\u03b1\"], [\"\\u0399\\u03bd\\u03b4\\u03af\\u03b1\"], [\"\\u0399\\u03bd\\u03b4\\u03af\\u03b1\"], [\"\\u0399\\u03bd\\u03b4\\u03af\\u03b1\"], [\"\\u0399\\u03bd\\u03b4\\u03af\\u03b1\"], [\"\\u0399\\u03bd\\u03b4\\u03af\\u03b1\"], [\"\\u0399\\u03bd\\u03b4\\u03af\\u03b1\"], [\"\\u0399\\u03bd\\u03b4\\u03af\\u03b1\"], [\"\\u0399\\u03bd\\u03b4\\u03af\\u03b1\"], [\"\\u0399\\u03bd\\u03b4\\u03af\\u03b1\"]], \"hoverlabel\": {\"namelength\": 0}, \"hovertemplate\": \"\\u03a7\\u03ce\\u03c1\\u03b1=%{customdata[0]}<br>\\u0391\\u03c1\\u03b9\\u03b8\\u03bc\\u03cc\\u03c2 \\u039a\\u03c1\\u03bf\\u03c5\\u03c3\\u03bc\\u03ac\\u03c4\\u03c9\\u03bd=%{y}\", \"legendgroup\": \"\\u0399\\u03bd\\u03b4\\u03af\\u03b1\", \"line\": {\"color\": \"rgb(189,189,189)\", \"dash\": \"solid\", \"shape\": \"spline\"}, \"mode\": \"lines\", \"name\": \"\\u0399\\u03bd\\u03b4\\u03af\\u03b1\", \"showlegend\": true, \"type\": \"scatter\", \"xaxis\": \"x\", \"y\": [10, 10, 12, 20, 20, 24, 27, 32, 35, 58, 72, 72, 86, 99, 136, 150, 178, 226, 246, 288, 331], \"yaxis\": \"y\"}, {\"customdata\": [[\"\\u0399\\u03bd\\u03b4\\u03bf\\u03bd\\u03b7\\u03c3\\u03af\\u03b1\"], [\"\\u0399\\u03bd\\u03b4\\u03bf\\u03bd\\u03b7\\u03c3\\u03af\\u03b1\"], [\"\\u0399\\u03bd\\u03b4\\u03bf\\u03bd\\u03b7\\u03c3\\u03af\\u03b1\"], [\"\\u0399\\u03bd\\u03b4\\u03bf\\u03bd\\u03b7\\u03c3\\u03af\\u03b1\"], [\"\\u0399\\u03bd\\u03b4\\u03bf\\u03bd\\u03b7\\u03c3\\u03af\\u03b1\"], [\"\\u0399\\u03bd\\u03b4\\u03bf\\u03bd\\u03b7\\u03c3\\u03af\\u03b1\"], [\"\\u0399\\u03bd\\u03b4\\u03bf\\u03bd\\u03b7\\u03c3\\u03af\\u03b1\"], [\"\\u0399\\u03bd\\u03b4\\u03bf\\u03bd\\u03b7\\u03c3\\u03af\\u03b1\"], [\"\\u0399\\u03bd\\u03b4\\u03bf\\u03bd\\u03b7\\u03c3\\u03af\\u03b1\"], [\"\\u0399\\u03bd\\u03b4\\u03bf\\u03bd\\u03b7\\u03c3\\u03af\\u03b1\"], [\"\\u0399\\u03bd\\u03b4\\u03bf\\u03bd\\u03b7\\u03c3\\u03af\\u03b1\"], [\"\\u0399\\u03bd\\u03b4\\u03bf\\u03bd\\u03b7\\u03c3\\u03af\\u03b1\"], [\"\\u0399\\u03bd\\u03b4\\u03bf\\u03bd\\u03b7\\u03c3\\u03af\\u03b1\"], [\"\\u0399\\u03bd\\u03b4\\u03bf\\u03bd\\u03b7\\u03c3\\u03af\\u03b1\"], [\"\\u0399\\u03bd\\u03b4\\u03bf\\u03bd\\u03b7\\u03c3\\u03af\\u03b1\"], [\"\\u0399\\u03bd\\u03b4\\u03bf\\u03bd\\u03b7\\u03c3\\u03af\\u03b1\"], [\"\\u0399\\u03bd\\u03b4\\u03bf\\u03bd\\u03b7\\u03c3\\u03af\\u03b1\"], [\"\\u0399\\u03bd\\u03b4\\u03bf\\u03bd\\u03b7\\u03c3\\u03af\\u03b1\"], [\"\\u0399\\u03bd\\u03b4\\u03bf\\u03bd\\u03b7\\u03c3\\u03af\\u03b1\"], [\"\\u0399\\u03bd\\u03b4\\u03bf\\u03bd\\u03b7\\u03c3\\u03af\\u03b1\"], [\"\\u0399\\u03bd\\u03b4\\u03bf\\u03bd\\u03b7\\u03c3\\u03af\\u03b1\"], [\"\\u0399\\u03bd\\u03b4\\u03bf\\u03bd\\u03b7\\u03c3\\u03af\\u03b1\"], [\"\\u0399\\u03bd\\u03b4\\u03bf\\u03bd\\u03b7\\u03c3\\u03af\\u03b1\"], [\"\\u0399\\u03bd\\u03b4\\u03bf\\u03bd\\u03b7\\u03c3\\u03af\\u03b1\"], [\"\\u0399\\u03bd\\u03b4\\u03bf\\u03bd\\u03b7\\u03c3\\u03af\\u03b1\"], [\"\\u0399\\u03bd\\u03b4\\u03bf\\u03bd\\u03b7\\u03c3\\u03af\\u03b1\"]], \"hoverlabel\": {\"namelength\": 0}, \"hovertemplate\": \"\\u03a7\\u03ce\\u03c1\\u03b1=%{customdata[0]}<br>\\u0391\\u03c1\\u03b9\\u03b8\\u03bc\\u03cc\\u03c2 \\u039a\\u03c1\\u03bf\\u03c5\\u03c3\\u03bc\\u03ac\\u03c4\\u03c9\\u03bd=%{y}\", \"legendgroup\": \"\\u0399\\u03bd\\u03b4\\u03bf\\u03bd\\u03b7\\u03c3\\u03af\\u03b1\", \"line\": {\"color\": \"rgb(189,189,189)\", \"dash\": \"solid\", \"shape\": \"spline\"}, \"mode\": \"lines\", \"name\": \"\\u0399\\u03bd\\u03b4\\u03bf\\u03bd\\u03b7\\u03c3\\u03af\\u03b1\", \"showlegend\": true, \"type\": \"scatter\", \"xaxis\": \"x\", \"y\": [19, 25, 32, 38, 48, 49, 55, 58, 78, 87, 102, 114, 122, 136, 157, 170, 181, 191, 198, 209, 221, 240, 280, 306, 327, 373], \"yaxis\": \"y\"}, {\"customdata\": [[\"\\u0399\\u03c1\\u03ac\\u03bd\"], [\"\\u0399\\u03c1\\u03ac\\u03bd\"], [\"\\u0399\\u03c1\\u03ac\\u03bd\"], [\"\\u0399\\u03c1\\u03ac\\u03bd\"], [\"\\u0399\\u03c1\\u03ac\\u03bd\"], [\"\\u0399\\u03c1\\u03ac\\u03bd\"], [\"\\u0399\\u03c1\\u03ac\\u03bd\"], [\"\\u0399\\u03c1\\u03ac\\u03bd\"], [\"\\u0399\\u03c1\\u03ac\\u03bd\"], [\"\\u0399\\u03c1\\u03ac\\u03bd\"], [\"\\u0399\\u03c1\\u03ac\\u03bd\"], [\"\\u0399\\u03c1\\u03ac\\u03bd\"], [\"\\u0399\\u03c1\\u03ac\\u03bd\"], [\"\\u0399\\u03c1\\u03ac\\u03bd\"], [\"\\u0399\\u03c1\\u03ac\\u03bd\"], [\"\\u0399\\u03c1\\u03ac\\u03bd\"], [\"\\u0399\\u03c1\\u03ac\\u03bd\"], [\"\\u0399\\u03c1\\u03ac\\u03bd\"], [\"\\u0399\\u03c1\\u03ac\\u03bd\"], [\"\\u0399\\u03c1\\u03ac\\u03bd\"], [\"\\u0399\\u03c1\\u03ac\\u03bd\"], [\"\\u0399\\u03c1\\u03ac\\u03bd\"], [\"\\u0399\\u03c1\\u03ac\\u03bd\"], [\"\\u0399\\u03c1\\u03ac\\u03bd\"], [\"\\u0399\\u03c1\\u03ac\\u03bd\"], [\"\\u0399\\u03c1\\u03ac\\u03bd\"], [\"\\u0399\\u03c1\\u03ac\\u03bd\"], [\"\\u0399\\u03c1\\u03ac\\u03bd\"], [\"\\u0399\\u03c1\\u03ac\\u03bd\"], [\"\\u0399\\u03c1\\u03ac\\u03bd\"], [\"\\u0399\\u03c1\\u03ac\\u03bd\"], [\"\\u0399\\u03c1\\u03ac\\u03bd\"], [\"\\u0399\\u03c1\\u03ac\\u03bd\"], [\"\\u0399\\u03c1\\u03ac\\u03bd\"], [\"\\u0399\\u03c1\\u03ac\\u03bd\"], [\"\\u0399\\u03c1\\u03ac\\u03bd\"], [\"\\u0399\\u03c1\\u03ac\\u03bd\"], [\"\\u0399\\u03c1\\u03ac\\u03bd\"], [\"\\u0399\\u03c1\\u03ac\\u03bd\"], [\"\\u0399\\u03c1\\u03ac\\u03bd\"], [\"\\u0399\\u03c1\\u03ac\\u03bd\"], [\"\\u0399\\u03c1\\u03ac\\u03bd\"], [\"\\u0399\\u03c1\\u03ac\\u03bd\"], [\"\\u0399\\u03c1\\u03ac\\u03bd\"], [\"\\u0399\\u03c1\\u03ac\\u03bd\"], [\"\\u0399\\u03c1\\u03ac\\u03bd\"], [\"\\u0399\\u03c1\\u03ac\\u03bd\"], [\"\\u0399\\u03c1\\u03ac\\u03bd\"], [\"\\u0399\\u03c1\\u03ac\\u03bd\"]], \"hoverlabel\": {\"namelength\": 0}, \"hovertemplate\": \"\\u03a7\\u03ce\\u03c1\\u03b1=%{customdata[0]}<br>\\u0391\\u03c1\\u03b9\\u03b8\\u03bc\\u03cc\\u03c2 \\u039a\\u03c1\\u03bf\\u03c5\\u03c3\\u03bc\\u03ac\\u03c4\\u03c9\\u03bd=%{y}\", \"legendgroup\": \"\\u0399\\u03c1\\u03ac\\u03bd\", \"line\": {\"color\": \"rgb(189,189,189)\", \"dash\": \"solid\", \"shape\": \"spline\"}, \"mode\": \"lines\", \"name\": \"\\u0399\\u03c1\\u03ac\\u03bd\", \"showlegend\": true, \"type\": \"scatter\", \"xaxis\": \"x\", \"y\": [12, 16, 19, 26, 34, 43, 54, 66, 77, 92, 107, 124, 145, 194, 237, 291, 354, 429, 514, 611, 724, 853, 988, 1135, 1284, 1433, 1556, 1685, 1812, 1934, 2077, 2234, 2378, 2517, 2640, 2757, 2898, 3036, 3160, 3294, 3452, 3603, 3739, 3872, 3993, 4110, 4232, 4357, 4474], \"yaxis\": \"y\"}, {\"customdata\": [[\"\\u0399\\u03c1\\u03ac\\u03ba\"], [\"\\u0399\\u03c1\\u03ac\\u03ba\"], [\"\\u0399\\u03c1\\u03ac\\u03ba\"], [\"\\u0399\\u03c1\\u03ac\\u03ba\"], [\"\\u0399\\u03c1\\u03ac\\u03ba\"], [\"\\u0399\\u03c1\\u03ac\\u03ba\"], [\"\\u0399\\u03c1\\u03ac\\u03ba\"], [\"\\u0399\\u03c1\\u03ac\\u03ba\"], [\"\\u0399\\u03c1\\u03ac\\u03ba\"], [\"\\u0399\\u03c1\\u03ac\\u03ba\"], [\"\\u0399\\u03c1\\u03ac\\u03ba\"], [\"\\u0399\\u03c1\\u03ac\\u03ba\"], [\"\\u0399\\u03c1\\u03ac\\u03ba\"], [\"\\u0399\\u03c1\\u03ac\\u03ba\"], [\"\\u0399\\u03c1\\u03ac\\u03ba\"], [\"\\u0399\\u03c1\\u03ac\\u03ba\"], [\"\\u0399\\u03c1\\u03ac\\u03ba\"], [\"\\u0399\\u03c1\\u03ac\\u03ba\"], [\"\\u0399\\u03c1\\u03ac\\u03ba\"], [\"\\u0399\\u03c1\\u03ac\\u03ba\"], [\"\\u0399\\u03c1\\u03ac\\u03ba\"], [\"\\u0399\\u03c1\\u03ac\\u03ba\"], [\"\\u0399\\u03c1\\u03ac\\u03ba\"], [\"\\u0399\\u03c1\\u03ac\\u03ba\"], [\"\\u0399\\u03c1\\u03ac\\u03ba\"], [\"\\u0399\\u03c1\\u03ac\\u03ba\"], [\"\\u0399\\u03c1\\u03ac\\u03ba\"], [\"\\u0399\\u03c1\\u03ac\\u03ba\"], [\"\\u0399\\u03c1\\u03ac\\u03ba\"], [\"\\u0399\\u03c1\\u03ac\\u03ba\"]], \"hoverlabel\": {\"namelength\": 0}, \"hovertemplate\": \"\\u03a7\\u03ce\\u03c1\\u03b1=%{customdata[0]}<br>\\u0391\\u03c1\\u03b9\\u03b8\\u03bc\\u03cc\\u03c2 \\u039a\\u03c1\\u03bf\\u03c5\\u03c3\\u03bc\\u03ac\\u03c4\\u03c9\\u03bd=%{y}\", \"legendgroup\": \"\\u0399\\u03c1\\u03ac\\u03ba\", \"line\": {\"color\": \"rgb(189,189,189)\", \"dash\": \"solid\", \"shape\": \"spline\"}, \"mode\": \"lines\", \"name\": \"\\u0399\\u03c1\\u03ac\\u03ba\", \"showlegend\": true, \"type\": \"scatter\", \"xaxis\": \"x\", \"y\": [10, 10, 10, 11, 12, 13, 17, 17, 20, 23, 27, 29, 36, 40, 42, 42, 46, 50, 52, 54, 54, 56, 61, 64, 65, 69, 69, 70, 72, 76], \"yaxis\": \"y\"}, {\"customdata\": [[\"\\u0399\\u03c1\\u03bb\\u03b1\\u03bd\\u03b4\\u03af\\u03b1\"], [\"\\u0399\\u03c1\\u03bb\\u03b1\\u03bd\\u03b4\\u03af\\u03b1\"], [\"\\u0399\\u03c1\\u03bb\\u03b1\\u03bd\\u03b4\\u03af\\u03b1\"], [\"\\u0399\\u03c1\\u03bb\\u03b1\\u03bd\\u03b4\\u03af\\u03b1\"], [\"\\u0399\\u03c1\\u03bb\\u03b1\\u03bd\\u03b4\\u03af\\u03b1\"], [\"\\u0399\\u03c1\\u03bb\\u03b1\\u03bd\\u03b4\\u03af\\u03b1\"], [\"\\u0399\\u03c1\\u03bb\\u03b1\\u03bd\\u03b4\\u03af\\u03b1\"], [\"\\u0399\\u03c1\\u03bb\\u03b1\\u03bd\\u03b4\\u03af\\u03b1\"], [\"\\u0399\\u03c1\\u03bb\\u03b1\\u03bd\\u03b4\\u03af\\u03b1\"], [\"\\u0399\\u03c1\\u03bb\\u03b1\\u03bd\\u03b4\\u03af\\u03b1\"], [\"\\u0399\\u03c1\\u03bb\\u03b1\\u03bd\\u03b4\\u03af\\u03b1\"], [\"\\u0399\\u03c1\\u03bb\\u03b1\\u03bd\\u03b4\\u03af\\u03b1\"], [\"\\u0399\\u03c1\\u03bb\\u03b1\\u03bd\\u03b4\\u03af\\u03b1\"], [\"\\u0399\\u03c1\\u03bb\\u03b1\\u03bd\\u03b4\\u03af\\u03b1\"], [\"\\u0399\\u03c1\\u03bb\\u03b1\\u03bd\\u03b4\\u03af\\u03b1\"], [\"\\u0399\\u03c1\\u03bb\\u03b1\\u03bd\\u03b4\\u03af\\u03b1\"], [\"\\u0399\\u03c1\\u03bb\\u03b1\\u03bd\\u03b4\\u03af\\u03b1\"], [\"\\u0399\\u03c1\\u03bb\\u03b1\\u03bd\\u03b4\\u03af\\u03b1\"]], \"hoverlabel\": {\"namelength\": 0}, \"hovertemplate\": \"\\u03a7\\u03ce\\u03c1\\u03b1=%{customdata[0]}<br>\\u0391\\u03c1\\u03b9\\u03b8\\u03bc\\u03cc\\u03c2 \\u039a\\u03c1\\u03bf\\u03c5\\u03c3\\u03bc\\u03ac\\u03c4\\u03c9\\u03bd=%{y}\", \"legendgroup\": \"\\u0399\\u03c1\\u03bb\\u03b1\\u03bd\\u03b4\\u03af\\u03b1\", \"line\": {\"color\": \"rgb(189,189,189)\", \"dash\": \"solid\", \"shape\": \"spline\"}, \"mode\": \"lines\", \"name\": \"\\u0399\\u03c1\\u03bb\\u03b1\\u03bd\\u03b4\\u03af\\u03b1\", \"showlegend\": true, \"type\": \"scatter\", \"xaxis\": \"x\", \"y\": [19, 22, 36, 46, 54, 71, 85, 98, 120, 137, 158, 174, 210, 235, 263, 287, 320, 334], \"yaxis\": \"y\"}, {\"customdata\": [[\"\\u0399\\u03c3\\u03c1\\u03b1\\u03ae\\u03bb\"], [\"\\u0399\\u03c3\\u03c1\\u03b1\\u03ae\\u03bb\"], [\"\\u0399\\u03c3\\u03c1\\u03b1\\u03ae\\u03bb\"], [\"\\u0399\\u03c3\\u03c1\\u03b1\\u03ae\\u03bb\"], [\"\\u0399\\u03c3\\u03c1\\u03b1\\u03ae\\u03bb\"], [\"\\u0399\\u03c3\\u03c1\\u03b1\\u03ae\\u03bb\"], [\"\\u0399\\u03c3\\u03c1\\u03b1\\u03ae\\u03bb\"], [\"\\u0399\\u03c3\\u03c1\\u03b1\\u03ae\\u03bb\"], [\"\\u0399\\u03c3\\u03c1\\u03b1\\u03ae\\u03bb\"], [\"\\u0399\\u03c3\\u03c1\\u03b1\\u03ae\\u03bb\"], [\"\\u0399\\u03c3\\u03c1\\u03b1\\u03ae\\u03bb\"], [\"\\u0399\\u03c3\\u03c1\\u03b1\\u03ae\\u03bb\"], [\"\\u0399\\u03c3\\u03c1\\u03b1\\u03ae\\u03bb\"], [\"\\u0399\\u03c3\\u03c1\\u03b1\\u03ae\\u03bb\"], [\"\\u0399\\u03c3\\u03c1\\u03b1\\u03ae\\u03bb\"], [\"\\u0399\\u03c3\\u03c1\\u03b1\\u03ae\\u03bb\"], [\"\\u0399\\u03c3\\u03c1\\u03b1\\u03ae\\u03bb\"]], \"hoverlabel\": {\"namelength\": 0}, \"hovertemplate\": \"\\u03a7\\u03ce\\u03c1\\u03b1=%{customdata[0]}<br>\\u0391\\u03c1\\u03b9\\u03b8\\u03bc\\u03cc\\u03c2 \\u039a\\u03c1\\u03bf\\u03c5\\u03c3\\u03bc\\u03ac\\u03c4\\u03c9\\u03bd=%{y}\", \"legendgroup\": \"\\u0399\\u03c3\\u03c1\\u03b1\\u03ae\\u03bb\", \"line\": {\"color\": \"rgb(189,189,189)\", \"dash\": \"solid\", \"shape\": \"spline\"}, \"mode\": \"lines\", \"name\": \"\\u0399\\u03c3\\u03c1\\u03b1\\u03ae\\u03bb\", \"showlegend\": true, \"type\": \"scatter\", \"xaxis\": \"x\", \"y\": [12, 12, 15, 16, 20, 26, 36, 40, 44, 49, 57, 65, 73, 86, 95, 101, 103], \"yaxis\": \"y\"}, {\"customdata\": [[\"\\u0399\\u03b1\\u03c0\\u03c9\\u03bd\\u03af\\u03b1\"], [\"\\u0399\\u03b1\\u03c0\\u03c9\\u03bd\\u03af\\u03b1\"], [\"\\u0399\\u03b1\\u03c0\\u03c9\\u03bd\\u03af\\u03b1\"], [\"\\u0399\\u03b1\\u03c0\\u03c9\\u03bd\\u03af\\u03b1\"], [\"\\u0399\\u03b1\\u03c0\\u03c9\\u03bd\\u03af\\u03b1\"], [\"\\u0399\\u03b1\\u03c0\\u03c9\\u03bd\\u03af\\u03b1\"], [\"\\u0399\\u03b1\\u03c0\\u03c9\\u03bd\\u03af\\u03b1\"], [\"\\u0399\\u03b1\\u03c0\\u03c9\\u03bd\\u03af\\u03b1\"], [\"\\u0399\\u03b1\\u03c0\\u03c9\\u03bd\\u03af\\u03b1\"], [\"\\u0399\\u03b1\\u03c0\\u03c9\\u03bd\\u03af\\u03b1\"], [\"\\u0399\\u03b1\\u03c0\\u03c9\\u03bd\\u03af\\u03b1\"], [\"\\u0399\\u03b1\\u03c0\\u03c9\\u03bd\\u03af\\u03b1\"], [\"\\u0399\\u03b1\\u03c0\\u03c9\\u03bd\\u03af\\u03b1\"], [\"\\u0399\\u03b1\\u03c0\\u03c9\\u03bd\\u03af\\u03b1\"], [\"\\u0399\\u03b1\\u03c0\\u03c9\\u03bd\\u03af\\u03b1\"], [\"\\u0399\\u03b1\\u03c0\\u03c9\\u03bd\\u03af\\u03b1\"], [\"\\u0399\\u03b1\\u03c0\\u03c9\\u03bd\\u03af\\u03b1\"], [\"\\u0399\\u03b1\\u03c0\\u03c9\\u03bd\\u03af\\u03b1\"], [\"\\u0399\\u03b1\\u03c0\\u03c9\\u03bd\\u03af\\u03b1\"], [\"\\u0399\\u03b1\\u03c0\\u03c9\\u03bd\\u03af\\u03b1\"], [\"\\u0399\\u03b1\\u03c0\\u03c9\\u03bd\\u03af\\u03b1\"], [\"\\u0399\\u03b1\\u03c0\\u03c9\\u03bd\\u03af\\u03b1\"], [\"\\u0399\\u03b1\\u03c0\\u03c9\\u03bd\\u03af\\u03b1\"], [\"\\u0399\\u03b1\\u03c0\\u03c9\\u03bd\\u03af\\u03b1\"], [\"\\u0399\\u03b1\\u03c0\\u03c9\\u03bd\\u03af\\u03b1\"], [\"\\u0399\\u03b1\\u03c0\\u03c9\\u03bd\\u03af\\u03b1\"], [\"\\u0399\\u03b1\\u03c0\\u03c9\\u03bd\\u03af\\u03b1\"], [\"\\u0399\\u03b1\\u03c0\\u03c9\\u03bd\\u03af\\u03b1\"], [\"\\u0399\\u03b1\\u03c0\\u03c9\\u03bd\\u03af\\u03b1\"], [\"\\u0399\\u03b1\\u03c0\\u03c9\\u03bd\\u03af\\u03b1\"], [\"\\u0399\\u03b1\\u03c0\\u03c9\\u03bd\\u03af\\u03b1\"], [\"\\u0399\\u03b1\\u03c0\\u03c9\\u03bd\\u03af\\u03b1\"], [\"\\u0399\\u03b1\\u03c0\\u03c9\\u03bd\\u03af\\u03b1\"], [\"\\u0399\\u03b1\\u03c0\\u03c9\\u03bd\\u03af\\u03b1\"], [\"\\u0399\\u03b1\\u03c0\\u03c9\\u03bd\\u03af\\u03b1\"]], \"hoverlabel\": {\"namelength\": 0}, \"hovertemplate\": \"\\u03a7\\u03ce\\u03c1\\u03b1=%{customdata[0]}<br>\\u0391\\u03c1\\u03b9\\u03b8\\u03bc\\u03cc\\u03c2 \\u039a\\u03c1\\u03bf\\u03c5\\u03c3\\u03bc\\u03ac\\u03c4\\u03c9\\u03bd=%{y}\", \"legendgroup\": \"\\u0399\\u03b1\\u03c0\\u03c9\\u03bd\\u03af\\u03b1\", \"line\": {\"color\": \"rgb(189,189,189)\", \"dash\": \"solid\", \"shape\": \"spline\"}, \"mode\": \"lines\", \"name\": \"\\u0399\\u03b1\\u03c0\\u03c9\\u03bd\\u03af\\u03b1\", \"showlegend\": true, \"type\": \"scatter\", \"xaxis\": \"x\", \"y\": [10, 10, 15, 16, 19, 22, 22, 27, 29, 29, 29, 33, 35, 41, 42, 43, 45, 47, 49, 52, 54, 54, 56, 57, 62, 63, 77, 77, 85, 92, 93, 94, 99, 99, 108], \"yaxis\": \"y\"}, {\"customdata\": [[\"\\u039a\\u03b1\\u03b6\\u03b1\\u03ba\\u03c3\\u03c4\\u03ac\\u03bd\"], [\"\\u039a\\u03b1\\u03b6\\u03b1\\u03ba\\u03c3\\u03c4\\u03ac\\u03bd\"], [\"\\u039a\\u03b1\\u03b6\\u03b1\\u03ba\\u03c3\\u03c4\\u03ac\\u03bd\"]], \"hoverlabel\": {\"namelength\": 0}, \"hovertemplate\": \"\\u03a7\\u03ce\\u03c1\\u03b1=%{customdata[0]}<br>\\u0391\\u03c1\\u03b9\\u03b8\\u03bc\\u03cc\\u03c2 \\u039a\\u03c1\\u03bf\\u03c5\\u03c3\\u03bc\\u03ac\\u03c4\\u03c9\\u03bd=%{y}\", \"legendgroup\": \"\\u039a\\u03b1\\u03b6\\u03b1\\u03ba\\u03c3\\u03c4\\u03ac\\u03bd\", \"line\": {\"color\": \"rgb(189,189,189)\", \"dash\": \"solid\", \"shape\": \"spline\"}, \"mode\": \"lines\", \"name\": \"\\u039a\\u03b1\\u03b6\\u03b1\\u03ba\\u03c3\\u03c4\\u03ac\\u03bd\", \"showlegend\": true, \"type\": \"scatter\", \"xaxis\": \"x\", \"y\": [10, 10, 10], \"yaxis\": \"y\"}, {\"customdata\": [[\"\\u039d\\u03cc\\u03c4\\u03b9\\u03b1 \\u039a\\u03bf\\u03c1\\u03ad\\u03b1\"], [\"\\u039d\\u03cc\\u03c4\\u03b9\\u03b1 \\u039a\\u03bf\\u03c1\\u03ad\\u03b1\"], [\"\\u039d\\u03cc\\u03c4\\u03b9\\u03b1 \\u039a\\u03bf\\u03c1\\u03ad\\u03b1\"], [\"\\u039d\\u03cc\\u03c4\\u03b9\\u03b1 \\u039a\\u03bf\\u03c1\\u03ad\\u03b1\"], [\"\\u039d\\u03cc\\u03c4\\u03b9\\u03b1 \\u039a\\u03bf\\u03c1\\u03ad\\u03b1\"], [\"\\u039d\\u03cc\\u03c4\\u03b9\\u03b1 \\u039a\\u03bf\\u03c1\\u03ad\\u03b1\"], [\"\\u039d\\u03cc\\u03c4\\u03b9\\u03b1 \\u039a\\u03bf\\u03c1\\u03ad\\u03b1\"], [\"\\u039d\\u03cc\\u03c4\\u03b9\\u03b1 \\u039a\\u03bf\\u03c1\\u03ad\\u03b1\"], [\"\\u039d\\u03cc\\u03c4\\u03b9\\u03b1 \\u039a\\u03bf\\u03c1\\u03ad\\u03b1\"], [\"\\u039d\\u03cc\\u03c4\\u03b9\\u03b1 \\u039a\\u03bf\\u03c1\\u03ad\\u03b1\"], [\"\\u039d\\u03cc\\u03c4\\u03b9\\u03b1 \\u039a\\u03bf\\u03c1\\u03ad\\u03b1\"], [\"\\u039d\\u03cc\\u03c4\\u03b9\\u03b1 \\u039a\\u03bf\\u03c1\\u03ad\\u03b1\"], [\"\\u039d\\u03cc\\u03c4\\u03b9\\u03b1 \\u039a\\u03bf\\u03c1\\u03ad\\u03b1\"], [\"\\u039d\\u03cc\\u03c4\\u03b9\\u03b1 \\u039a\\u03bf\\u03c1\\u03ad\\u03b1\"], [\"\\u039d\\u03cc\\u03c4\\u03b9\\u03b1 \\u039a\\u03bf\\u03c1\\u03ad\\u03b1\"], [\"\\u039d\\u03cc\\u03c4\\u03b9\\u03b1 \\u039a\\u03bf\\u03c1\\u03ad\\u03b1\"], [\"\\u039d\\u03cc\\u03c4\\u03b9\\u03b1 \\u039a\\u03bf\\u03c1\\u03ad\\u03b1\"], [\"\\u039d\\u03cc\\u03c4\\u03b9\\u03b1 \\u039a\\u03bf\\u03c1\\u03ad\\u03b1\"], [\"\\u039d\\u03cc\\u03c4\\u03b9\\u03b1 \\u039a\\u03bf\\u03c1\\u03ad\\u03b1\"], [\"\\u039d\\u03cc\\u03c4\\u03b9\\u03b1 \\u039a\\u03bf\\u03c1\\u03ad\\u03b1\"], [\"\\u039d\\u03cc\\u03c4\\u03b9\\u03b1 \\u039a\\u03bf\\u03c1\\u03ad\\u03b1\"], [\"\\u039d\\u03cc\\u03c4\\u03b9\\u03b1 \\u039a\\u03bf\\u03c1\\u03ad\\u03b1\"], [\"\\u039d\\u03cc\\u03c4\\u03b9\\u03b1 \\u039a\\u03bf\\u03c1\\u03ad\\u03b1\"], [\"\\u039d\\u03cc\\u03c4\\u03b9\\u03b1 \\u039a\\u03bf\\u03c1\\u03ad\\u03b1\"], [\"\\u039d\\u03cc\\u03c4\\u03b9\\u03b1 \\u039a\\u03bf\\u03c1\\u03ad\\u03b1\"], [\"\\u039d\\u03cc\\u03c4\\u03b9\\u03b1 \\u039a\\u03bf\\u03c1\\u03ad\\u03b1\"], [\"\\u039d\\u03cc\\u03c4\\u03b9\\u03b1 \\u039a\\u03bf\\u03c1\\u03ad\\u03b1\"], [\"\\u039d\\u03cc\\u03c4\\u03b9\\u03b1 \\u039a\\u03bf\\u03c1\\u03ad\\u03b1\"], [\"\\u039d\\u03cc\\u03c4\\u03b9\\u03b1 \\u039a\\u03bf\\u03c1\\u03ad\\u03b1\"], [\"\\u039d\\u03cc\\u03c4\\u03b9\\u03b1 \\u039a\\u03bf\\u03c1\\u03ad\\u03b1\"], [\"\\u039d\\u03cc\\u03c4\\u03b9\\u03b1 \\u039a\\u03bf\\u03c1\\u03ad\\u03b1\"], [\"\\u039d\\u03cc\\u03c4\\u03b9\\u03b1 \\u039a\\u03bf\\u03c1\\u03ad\\u03b1\"], [\"\\u039d\\u03cc\\u03c4\\u03b9\\u03b1 \\u039a\\u03bf\\u03c1\\u03ad\\u03b1\"], [\"\\u039d\\u03cc\\u03c4\\u03b9\\u03b1 \\u039a\\u03bf\\u03c1\\u03ad\\u03b1\"], [\"\\u039d\\u03cc\\u03c4\\u03b9\\u03b1 \\u039a\\u03bf\\u03c1\\u03ad\\u03b1\"], [\"\\u039d\\u03cc\\u03c4\\u03b9\\u03b1 \\u039a\\u03bf\\u03c1\\u03ad\\u03b1\"], [\"\\u039d\\u03cc\\u03c4\\u03b9\\u03b1 \\u039a\\u03bf\\u03c1\\u03ad\\u03b1\"], [\"\\u039d\\u03cc\\u03c4\\u03b9\\u03b1 \\u039a\\u03bf\\u03c1\\u03ad\\u03b1\"], [\"\\u039d\\u03cc\\u03c4\\u03b9\\u03b1 \\u039a\\u03bf\\u03c1\\u03ad\\u03b1\"], [\"\\u039d\\u03cc\\u03c4\\u03b9\\u03b1 \\u039a\\u03bf\\u03c1\\u03ad\\u03b1\"], [\"\\u039d\\u03cc\\u03c4\\u03b9\\u03b1 \\u039a\\u03bf\\u03c1\\u03ad\\u03b1\"], [\"\\u039d\\u03cc\\u03c4\\u03b9\\u03b1 \\u039a\\u03bf\\u03c1\\u03ad\\u03b1\"], [\"\\u039d\\u03cc\\u03c4\\u03b9\\u03b1 \\u039a\\u03bf\\u03c1\\u03ad\\u03b1\"], [\"\\u039d\\u03cc\\u03c4\\u03b9\\u03b1 \\u039a\\u03bf\\u03c1\\u03ad\\u03b1\"], [\"\\u039d\\u03cc\\u03c4\\u03b9\\u03b1 \\u039a\\u03bf\\u03c1\\u03ad\\u03b1\"], [\"\\u039d\\u03cc\\u03c4\\u03b9\\u03b1 \\u039a\\u03bf\\u03c1\\u03ad\\u03b1\"], [\"\\u039d\\u03cc\\u03c4\\u03b9\\u03b1 \\u039a\\u03bf\\u03c1\\u03ad\\u03b1\"], [\"\\u039d\\u03cc\\u03c4\\u03b9\\u03b1 \\u039a\\u03bf\\u03c1\\u03ad\\u03b1\"]], \"hoverlabel\": {\"namelength\": 0}, \"hovertemplate\": \"\\u03a7\\u03ce\\u03c1\\u03b1=%{customdata[0]}<br>\\u0391\\u03c1\\u03b9\\u03b8\\u03bc\\u03cc\\u03c2 \\u039a\\u03c1\\u03bf\\u03c5\\u03c3\\u03bc\\u03ac\\u03c4\\u03c9\\u03bd=%{y}\", \"legendgroup\": \"\\u039d\\u03cc\\u03c4\\u03b9\\u03b1 \\u039a\\u03bf\\u03c1\\u03ad\\u03b1\", \"line\": {\"color\": \"rgb(189,189,189)\", \"dash\": \"solid\", \"shape\": \"spline\"}, \"mode\": \"lines\", \"name\": \"\\u039d\\u03cc\\u03c4\\u03b9\\u03b1 \\u039a\\u03bf\\u03c1\\u03ad\\u03b1\", \"showlegend\": true, \"type\": \"scatter\", \"xaxis\": \"x\", \"y\": [10, 12, 13, 13, 16, 17, 28, 28, 35, 35, 42, 44, 50, 53, 54, 60, 66, 66, 72, 75, 75, 81, 84, 91, 94, 102, 111, 111, 120, 126, 131, 139, 144, 152, 158, 162, 165, 169, 174, 177, 183, 186, 192, 200, 204, 208, 211, 214], \"yaxis\": \"y\"}, {\"customdata\": [[\"\\u039b\\u03af\\u03b2\\u03b1\\u03bd\\u03bf\\u03c2\"], [\"\\u039b\\u03af\\u03b2\\u03b1\\u03bd\\u03bf\\u03c2\"], [\"\\u039b\\u03af\\u03b2\\u03b1\\u03bd\\u03bf\\u03c2\"], [\"\\u039b\\u03af\\u03b2\\u03b1\\u03bd\\u03bf\\u03c2\"], [\"\\u039b\\u03af\\u03b2\\u03b1\\u03bd\\u03bf\\u03c2\"], [\"\\u039b\\u03af\\u03b2\\u03b1\\u03bd\\u03bf\\u03c2\"], [\"\\u039b\\u03af\\u03b2\\u03b1\\u03bd\\u03bf\\u03c2\"], [\"\\u039b\\u03af\\u03b2\\u03b1\\u03bd\\u03bf\\u03c2\"], [\"\\u039b\\u03af\\u03b2\\u03b1\\u03bd\\u03bf\\u03c2\"], [\"\\u039b\\u03af\\u03b2\\u03b1\\u03bd\\u03bf\\u03c2\"], [\"\\u039b\\u03af\\u03b2\\u03b1\\u03bd\\u03bf\\u03c2\"], [\"\\u039b\\u03af\\u03b2\\u03b1\\u03bd\\u03bf\\u03c2\"], [\"\\u039b\\u03af\\u03b2\\u03b1\\u03bd\\u03bf\\u03c2\"], [\"\\u039b\\u03af\\u03b2\\u03b1\\u03bd\\u03bf\\u03c2\"], [\"\\u039b\\u03af\\u03b2\\u03b1\\u03bd\\u03bf\\u03c2\"]], \"hoverlabel\": {\"namelength\": 0}, \"hovertemplate\": \"\\u03a7\\u03ce\\u03c1\\u03b1=%{customdata[0]}<br>\\u0391\\u03c1\\u03b9\\u03b8\\u03bc\\u03cc\\u03c2 \\u039a\\u03c1\\u03bf\\u03c5\\u03c3\\u03bc\\u03ac\\u03c4\\u03c9\\u03bd=%{y}\", \"legendgroup\": \"\\u039b\\u03af\\u03b2\\u03b1\\u03bd\\u03bf\\u03c2\", \"line\": {\"color\": \"rgb(189,189,189)\", \"dash\": \"solid\", \"shape\": \"spline\"}, \"mode\": \"lines\", \"name\": \"\\u039b\\u03af\\u03b2\\u03b1\\u03bd\\u03bf\\u03c2\", \"showlegend\": true, \"type\": \"scatter\", \"xaxis\": \"x\", \"y\": [10, 11, 12, 14, 16, 17, 17, 18, 19, 19, 19, 19, 20, 20, 20], \"yaxis\": \"y\"}, {\"customdata\": [[\"\\u039b\\u03b9\\u03b8\\u03bf\\u03c5\\u03b1\\u03bd\\u03af\\u03b1\"], [\"\\u039b\\u03b9\\u03b8\\u03bf\\u03c5\\u03b1\\u03bd\\u03af\\u03b1\"], [\"\\u039b\\u03b9\\u03b8\\u03bf\\u03c5\\u03b1\\u03bd\\u03af\\u03b1\"], [\"\\u039b\\u03b9\\u03b8\\u03bf\\u03c5\\u03b1\\u03bd\\u03af\\u03b1\"], [\"\\u039b\\u03b9\\u03b8\\u03bf\\u03c5\\u03b1\\u03bd\\u03af\\u03b1\"], [\"\\u039b\\u03b9\\u03b8\\u03bf\\u03c5\\u03b1\\u03bd\\u03af\\u03b1\"], [\"\\u039b\\u03b9\\u03b8\\u03bf\\u03c5\\u03b1\\u03bd\\u03af\\u03b1\"], [\"\\u039b\\u03b9\\u03b8\\u03bf\\u03c5\\u03b1\\u03bd\\u03af\\u03b1\"], [\"\\u039b\\u03b9\\u03b8\\u03bf\\u03c5\\u03b1\\u03bd\\u03af\\u03b1\"]], \"hoverlabel\": {\"namelength\": 0}, \"hovertemplate\": \"\\u03a7\\u03ce\\u03c1\\u03b1=%{customdata[0]}<br>\\u0391\\u03c1\\u03b9\\u03b8\\u03bc\\u03cc\\u03c2 \\u039a\\u03c1\\u03bf\\u03c5\\u03c3\\u03bc\\u03ac\\u03c4\\u03c9\\u03bd=%{y}\", \"legendgroup\": \"\\u039b\\u03b9\\u03b8\\u03bf\\u03c5\\u03b1\\u03bd\\u03af\\u03b1\", \"line\": {\"color\": \"rgb(189,189,189)\", \"dash\": \"solid\", \"shape\": \"spline\"}, \"mode\": \"lines\", \"name\": \"\\u039b\\u03b9\\u03b8\\u03bf\\u03c5\\u03b1\\u03bd\\u03af\\u03b1\", \"showlegend\": true, \"type\": \"scatter\", \"xaxis\": \"x\", \"y\": [11, 13, 15, 15, 15, 16, 22, 23, 23], \"yaxis\": \"y\"}, {\"customdata\": [[\"\\u039b\\u03bf\\u03c5\\u03be\\u03b5\\u03bc\\u03b2\\u03bf\\u03cd\\u03c1\\u03b3\\u03bf\"], [\"\\u039b\\u03bf\\u03c5\\u03be\\u03b5\\u03bc\\u03b2\\u03bf\\u03cd\\u03c1\\u03b3\\u03bf\"], [\"\\u039b\\u03bf\\u03c5\\u03be\\u03b5\\u03bc\\u03b2\\u03bf\\u03cd\\u03c1\\u03b3\\u03bf\"], [\"\\u039b\\u03bf\\u03c5\\u03be\\u03b5\\u03bc\\u03b2\\u03bf\\u03cd\\u03c1\\u03b3\\u03bf\"], [\"\\u039b\\u03bf\\u03c5\\u03be\\u03b5\\u03bc\\u03b2\\u03bf\\u03cd\\u03c1\\u03b3\\u03bf\"], [\"\\u039b\\u03bf\\u03c5\\u03be\\u03b5\\u03bc\\u03b2\\u03bf\\u03cd\\u03c1\\u03b3\\u03bf\"], [\"\\u039b\\u03bf\\u03c5\\u03be\\u03b5\\u03bc\\u03b2\\u03bf\\u03cd\\u03c1\\u03b3\\u03bf\"], [\"\\u039b\\u03bf\\u03c5\\u03be\\u03b5\\u03bc\\u03b2\\u03bf\\u03cd\\u03c1\\u03b3\\u03bf\"], [\"\\u039b\\u03bf\\u03c5\\u03be\\u03b5\\u03bc\\u03b2\\u03bf\\u03cd\\u03c1\\u03b3\\u03bf\"], [\"\\u039b\\u03bf\\u03c5\\u03be\\u03b5\\u03bc\\u03b2\\u03bf\\u03cd\\u03c1\\u03b3\\u03bf\"], [\"\\u039b\\u03bf\\u03c5\\u03be\\u03b5\\u03bc\\u03b2\\u03bf\\u03cd\\u03c1\\u03b3\\u03bf\"], [\"\\u039b\\u03bf\\u03c5\\u03be\\u03b5\\u03bc\\u03b2\\u03bf\\u03cd\\u03c1\\u03b3\\u03bf\"], [\"\\u039b\\u03bf\\u03c5\\u03be\\u03b5\\u03bc\\u03b2\\u03bf\\u03cd\\u03c1\\u03b3\\u03bf\"], [\"\\u039b\\u03bf\\u03c5\\u03be\\u03b5\\u03bc\\u03b2\\u03bf\\u03cd\\u03c1\\u03b3\\u03bf\"], [\"\\u039b\\u03bf\\u03c5\\u03be\\u03b5\\u03bc\\u03b2\\u03bf\\u03cd\\u03c1\\u03b3\\u03bf\"], [\"\\u039b\\u03bf\\u03c5\\u03be\\u03b5\\u03bc\\u03b2\\u03bf\\u03cd\\u03c1\\u03b3\\u03bf\"], [\"\\u039b\\u03bf\\u03c5\\u03be\\u03b5\\u03bc\\u03b2\\u03bf\\u03cd\\u03c1\\u03b3\\u03bf\"]], \"hoverlabel\": {\"namelength\": 0}, \"hovertemplate\": \"\\u03a7\\u03ce\\u03c1\\u03b1=%{customdata[0]}<br>\\u0391\\u03c1\\u03b9\\u03b8\\u03bc\\u03cc\\u03c2 \\u039a\\u03c1\\u03bf\\u03c5\\u03c3\\u03bc\\u03ac\\u03c4\\u03c9\\u03bd=%{y}\", \"legendgroup\": \"\\u039b\\u03bf\\u03c5\\u03be\\u03b5\\u03bc\\u03b2\\u03bf\\u03cd\\u03c1\\u03b3\\u03bf\", \"line\": {\"color\": \"rgb(189,189,189)\", \"dash\": \"solid\", \"shape\": \"spline\"}, \"mode\": \"lines\", \"name\": \"\\u039b\\u03bf\\u03c5\\u03be\\u03b5\\u03bc\\u03b2\\u03bf\\u03cd\\u03c1\\u03b3\\u03bf\", \"showlegend\": true, \"type\": \"scatter\", \"xaxis\": \"x\", \"y\": [15, 18, 21, 22, 23, 29, 30, 31, 31, 36, 41, 44, 46, 52, 54, 62, 66], \"yaxis\": \"y\"}, {\"customdata\": [[\"\\u039c\\u03b1\\u03bb\\u03b1\\u03b9\\u03c3\\u03af\\u03b1\"], [\"\\u039c\\u03b1\\u03bb\\u03b1\\u03b9\\u03c3\\u03af\\u03b1\"], [\"\\u039c\\u03b1\\u03bb\\u03b1\\u03b9\\u03c3\\u03af\\u03b1\"], [\"\\u039c\\u03b1\\u03bb\\u03b1\\u03b9\\u03c3\\u03af\\u03b1\"], [\"\\u039c\\u03b1\\u03bb\\u03b1\\u03b9\\u03c3\\u03af\\u03b1\"], [\"\\u039c\\u03b1\\u03bb\\u03b1\\u03b9\\u03c3\\u03af\\u03b1\"], [\"\\u039c\\u03b1\\u03bb\\u03b1\\u03b9\\u03c3\\u03af\\u03b1\"], [\"\\u039c\\u03b1\\u03bb\\u03b1\\u03b9\\u03c3\\u03af\\u03b1\"], [\"\\u039c\\u03b1\\u03bb\\u03b1\\u03b9\\u03c3\\u03af\\u03b1\"], [\"\\u039c\\u03b1\\u03bb\\u03b1\\u03b9\\u03c3\\u03af\\u03b1\"], [\"\\u039c\\u03b1\\u03bb\\u03b1\\u03b9\\u03c3\\u03af\\u03b1\"], [\"\\u039c\\u03b1\\u03bb\\u03b1\\u03b9\\u03c3\\u03af\\u03b1\"], [\"\\u039c\\u03b1\\u03bb\\u03b1\\u03b9\\u03c3\\u03af\\u03b1\"], [\"\\u039c\\u03b1\\u03bb\\u03b1\\u03b9\\u03c3\\u03af\\u03b1\"], [\"\\u039c\\u03b1\\u03bb\\u03b1\\u03b9\\u03c3\\u03af\\u03b1\"], [\"\\u039c\\u03b1\\u03bb\\u03b1\\u03b9\\u03c3\\u03af\\u03b1\"], [\"\\u039c\\u03b1\\u03bb\\u03b1\\u03b9\\u03c3\\u03af\\u03b1\"], [\"\\u039c\\u03b1\\u03bb\\u03b1\\u03b9\\u03c3\\u03af\\u03b1\"], [\"\\u039c\\u03b1\\u03bb\\u03b1\\u03b9\\u03c3\\u03af\\u03b1\"], [\"\\u039c\\u03b1\\u03bb\\u03b1\\u03b9\\u03c3\\u03af\\u03b1\"], [\"\\u039c\\u03b1\\u03bb\\u03b1\\u03b9\\u03c3\\u03af\\u03b1\"], [\"\\u039c\\u03b1\\u03bb\\u03b1\\u03b9\\u03c3\\u03af\\u03b1\"]], \"hoverlabel\": {\"namelength\": 0}, \"hovertemplate\": \"\\u03a7\\u03ce\\u03c1\\u03b1=%{customdata[0]}<br>\\u0391\\u03c1\\u03b9\\u03b8\\u03bc\\u03cc\\u03c2 \\u039a\\u03c1\\u03bf\\u03c5\\u03c3\\u03bc\\u03ac\\u03c4\\u03c9\\u03bd=%{y}\", \"legendgroup\": \"\\u039c\\u03b1\\u03bb\\u03b1\\u03b9\\u03c3\\u03af\\u03b1\", \"line\": {\"color\": \"rgb(189,189,189)\", \"dash\": \"solid\", \"shape\": \"spline\"}, \"mode\": \"lines\", \"name\": \"\\u039c\\u03b1\\u03bb\\u03b1\\u03b9\\u03c3\\u03af\\u03b1\", \"showlegend\": true, \"type\": \"scatter\", \"xaxis\": \"x\", \"y\": [10, 14, 16, 20, 23, 26, 27, 35, 37, 43, 45, 50, 53, 57, 61, 62, 63, 65, 67, 70, 73, 76], \"yaxis\": \"y\"}, {\"customdata\": [[\"\\u039c\\u03b5\\u03be\\u03b9\\u03ba\\u03cc\"], [\"\\u039c\\u03b5\\u03be\\u03b9\\u03ba\\u03cc\"], [\"\\u039c\\u03b5\\u03be\\u03b9\\u03ba\\u03cc\"], [\"\\u039c\\u03b5\\u03be\\u03b9\\u03ba\\u03cc\"], [\"\\u039c\\u03b5\\u03be\\u03b9\\u03ba\\u03cc\"], [\"\\u039c\\u03b5\\u03be\\u03b9\\u03ba\\u03cc\"], [\"\\u039c\\u03b5\\u03be\\u03b9\\u03ba\\u03cc\"], [\"\\u039c\\u03b5\\u03be\\u03b9\\u03ba\\u03cc\"], [\"\\u039c\\u03b5\\u03be\\u03b9\\u03ba\\u03cc\"], [\"\\u039c\\u03b5\\u03be\\u03b9\\u03ba\\u03cc\"], [\"\\u039c\\u03b5\\u03be\\u03b9\\u03ba\\u03cc\"], [\"\\u039c\\u03b5\\u03be\\u03b9\\u03ba\\u03cc\"], [\"\\u039c\\u03b5\\u03be\\u03b9\\u03ba\\u03cc\"], [\"\\u039c\\u03b5\\u03be\\u03b9\\u03ba\\u03cc\"], [\"\\u039c\\u03b5\\u03be\\u03b9\\u03ba\\u03cc\"], [\"\\u039c\\u03b5\\u03be\\u03b9\\u03ba\\u03cc\"]], \"hoverlabel\": {\"namelength\": 0}, \"hovertemplate\": \"\\u03a7\\u03ce\\u03c1\\u03b1=%{customdata[0]}<br>\\u0391\\u03c1\\u03b9\\u03b8\\u03bc\\u03cc\\u03c2 \\u039a\\u03c1\\u03bf\\u03c5\\u03c3\\u03bc\\u03ac\\u03c4\\u03c9\\u03bd=%{y}\", \"legendgroup\": \"\\u039c\\u03b5\\u03be\\u03b9\\u03ba\\u03cc\", \"line\": {\"color\": \"rgb(189,189,189)\", \"dash\": \"solid\", \"shape\": \"spline\"}, \"mode\": \"lines\", \"name\": \"\\u039c\\u03b5\\u03be\\u03b9\\u03ba\\u03cc\", \"showlegend\": true, \"type\": \"scatter\", \"xaxis\": \"x\", \"y\": [12, 16, 20, 28, 29, 37, 50, 60, 79, 94, 125, 141, 174, 194, 233, 273], \"yaxis\": \"y\"}, {\"customdata\": [[\"\\u039c\\u03bf\\u03bb\\u03b4\\u03bf\\u03b2\\u03af\\u03b1\"], [\"\\u039c\\u03bf\\u03bb\\u03b4\\u03bf\\u03b2\\u03af\\u03b1\"], [\"\\u039c\\u03bf\\u03bb\\u03b4\\u03bf\\u03b2\\u03af\\u03b1\"], [\"\\u039c\\u03bf\\u03bb\\u03b4\\u03bf\\u03b2\\u03af\\u03b1\"], [\"\\u039c\\u03bf\\u03bb\\u03b4\\u03bf\\u03b2\\u03af\\u03b1\"], [\"\\u039c\\u03bf\\u03bb\\u03b4\\u03bf\\u03b2\\u03af\\u03b1\"], [\"\\u039c\\u03bf\\u03bb\\u03b4\\u03bf\\u03b2\\u03af\\u03b1\"], [\"\\u039c\\u03bf\\u03bb\\u03b4\\u03bf\\u03b2\\u03af\\u03b1\"], [\"\\u039c\\u03bf\\u03bb\\u03b4\\u03bf\\u03b2\\u03af\\u03b1\"]], \"hoverlabel\": {\"namelength\": 0}, \"hovertemplate\": \"\\u03a7\\u03ce\\u03c1\\u03b1=%{customdata[0]}<br>\\u0391\\u03c1\\u03b9\\u03b8\\u03bc\\u03cc\\u03c2 \\u039a\\u03c1\\u03bf\\u03c5\\u03c3\\u03bc\\u03ac\\u03c4\\u03c9\\u03bd=%{y}\", \"legendgroup\": \"\\u039c\\u03bf\\u03bb\\u03b4\\u03bf\\u03b2\\u03af\\u03b1\", \"line\": {\"color\": \"rgb(189,189,189)\", \"dash\": \"solid\", \"shape\": \"spline\"}, \"mode\": \"lines\", \"name\": \"\\u039c\\u03bf\\u03bb\\u03b4\\u03bf\\u03b2\\u03af\\u03b1\", \"showlegend\": true, \"type\": \"scatter\", \"xaxis\": \"x\", \"y\": [12, 15, 19, 22, 27, 29, 29, 30, 31], \"yaxis\": \"y\"}, {\"customdata\": [[\"\\u039c\\u03b1\\u03c1\\u03cc\\u03ba\\u03bf\"], [\"\\u039c\\u03b1\\u03c1\\u03cc\\u03ba\\u03bf\"], [\"\\u039c\\u03b1\\u03c1\\u03cc\\u03ba\\u03bf\"], [\"\\u039c\\u03b1\\u03c1\\u03cc\\u03ba\\u03bf\"], [\"\\u039c\\u03b1\\u03c1\\u03cc\\u03ba\\u03bf\"], [\"\\u039c\\u03b1\\u03c1\\u03cc\\u03ba\\u03bf\"], [\"\\u039c\\u03b1\\u03c1\\u03cc\\u03ba\\u03bf\"], [\"\\u039c\\u03b1\\u03c1\\u03cc\\u03ba\\u03bf\"], [\"\\u039c\\u03b1\\u03c1\\u03cc\\u03ba\\u03bf\"], [\"\\u039c\\u03b1\\u03c1\\u03cc\\u03ba\\u03bf\"], [\"\\u039c\\u03b1\\u03c1\\u03cc\\u03ba\\u03bf\"], [\"\\u039c\\u03b1\\u03c1\\u03cc\\u03ba\\u03bf\"], [\"\\u039c\\u03b1\\u03c1\\u03cc\\u03ba\\u03bf\"], [\"\\u039c\\u03b1\\u03c1\\u03cc\\u03ba\\u03bf\"], [\"\\u039c\\u03b1\\u03c1\\u03cc\\u03ba\\u03bf\"], [\"\\u039c\\u03b1\\u03c1\\u03cc\\u03ba\\u03bf\"], [\"\\u039c\\u03b1\\u03c1\\u03cc\\u03ba\\u03bf\"], [\"\\u039c\\u03b1\\u03c1\\u03cc\\u03ba\\u03bf\"]], \"hoverlabel\": {\"namelength\": 0}, \"hovertemplate\": \"\\u03a7\\u03ce\\u03c1\\u03b1=%{customdata[0]}<br>\\u0391\\u03c1\\u03b9\\u03b8\\u03bc\\u03cc\\u03c2 \\u039a\\u03c1\\u03bf\\u03c5\\u03c3\\u03bc\\u03ac\\u03c4\\u03c9\\u03bd=%{y}\", \"legendgroup\": \"\\u039c\\u03b1\\u03c1\\u03cc\\u03ba\\u03bf\", \"line\": {\"color\": \"rgb(189,189,189)\", \"dash\": \"solid\", \"shape\": \"spline\"}, \"mode\": \"lines\", \"name\": \"\\u039c\\u03b1\\u03c1\\u03cc\\u03ba\\u03bf\", \"showlegend\": true, \"type\": \"scatter\", \"xaxis\": \"x\", \"y\": [11, 23, 25, 26, 33, 36, 39, 44, 48, 59, 70, 80, 90, 93, 97, 107, 111, 118], \"yaxis\": \"y\"}, {\"customdata\": [[\"\\u039f\\u03bb\\u03bb\\u03b1\\u03bd\\u03b4\\u03af\\u03b1\"], [\"\\u039f\\u03bb\\u03bb\\u03b1\\u03bd\\u03b4\\u03af\\u03b1\"], [\"\\u039f\\u03bb\\u03bb\\u03b1\\u03bd\\u03b4\\u03af\\u03b1\"], [\"\\u039f\\u03bb\\u03bb\\u03b1\\u03bd\\u03b4\\u03af\\u03b1\"], [\"\\u039f\\u03bb\\u03bb\\u03b1\\u03bd\\u03b4\\u03af\\u03b1\"], [\"\\u039f\\u03bb\\u03bb\\u03b1\\u03bd\\u03b4\\u03af\\u03b1\"], [\"\\u039f\\u03bb\\u03bb\\u03b1\\u03bd\\u03b4\\u03af\\u03b1\"], [\"\\u039f\\u03bb\\u03bb\\u03b1\\u03bd\\u03b4\\u03af\\u03b1\"], [\"\\u039f\\u03bb\\u03bb\\u03b1\\u03bd\\u03b4\\u03af\\u03b1\"], [\"\\u039f\\u03bb\\u03bb\\u03b1\\u03bd\\u03b4\\u03af\\u03b1\"], [\"\\u039f\\u03bb\\u03bb\\u03b1\\u03bd\\u03b4\\u03af\\u03b1\"], [\"\\u039f\\u03bb\\u03bb\\u03b1\\u03bd\\u03b4\\u03af\\u03b1\"], [\"\\u039f\\u03bb\\u03bb\\u03b1\\u03bd\\u03b4\\u03af\\u03b1\"], [\"\\u039f\\u03bb\\u03bb\\u03b1\\u03bd\\u03b4\\u03af\\u03b1\"], [\"\\u039f\\u03bb\\u03bb\\u03b1\\u03bd\\u03b4\\u03af\\u03b1\"], [\"\\u039f\\u03bb\\u03bb\\u03b1\\u03bd\\u03b4\\u03af\\u03b1\"], [\"\\u039f\\u03bb\\u03bb\\u03b1\\u03bd\\u03b4\\u03af\\u03b1\"], [\"\\u039f\\u03bb\\u03bb\\u03b1\\u03bd\\u03b4\\u03af\\u03b1\"], [\"\\u039f\\u03bb\\u03bb\\u03b1\\u03bd\\u03b4\\u03af\\u03b1\"], [\"\\u039f\\u03bb\\u03bb\\u03b1\\u03bd\\u03b4\\u03af\\u03b1\"], [\"\\u039f\\u03bb\\u03bb\\u03b1\\u03bd\\u03b4\\u03af\\u03b1\"], [\"\\u039f\\u03bb\\u03bb\\u03b1\\u03bd\\u03b4\\u03af\\u03b1\"], [\"\\u039f\\u03bb\\u03bb\\u03b1\\u03bd\\u03b4\\u03af\\u03b1\"], [\"\\u039f\\u03bb\\u03bb\\u03b1\\u03bd\\u03b4\\u03af\\u03b1\"], [\"\\u039f\\u03bb\\u03bb\\u03b1\\u03bd\\u03b4\\u03af\\u03b1\"], [\"\\u039f\\u03bb\\u03bb\\u03b1\\u03bd\\u03b4\\u03af\\u03b1\"], [\"\\u039f\\u03bb\\u03bb\\u03b1\\u03bd\\u03b4\\u03af\\u03b1\"], [\"\\u039f\\u03bb\\u03bb\\u03b1\\u03bd\\u03b4\\u03af\\u03b1\"], [\"\\u039f\\u03bb\\u03bb\\u03b1\\u03bd\\u03b4\\u03af\\u03b1\"], [\"\\u039f\\u03bb\\u03bb\\u03b1\\u03bd\\u03b4\\u03af\\u03b1\"], [\"\\u039f\\u03bb\\u03bb\\u03b1\\u03bd\\u03b4\\u03af\\u03b1\"]], \"hoverlabel\": {\"namelength\": 0}, \"hovertemplate\": \"\\u03a7\\u03ce\\u03c1\\u03b1=%{customdata[0]}<br>\\u0391\\u03c1\\u03b9\\u03b8\\u03bc\\u03cc\\u03c2 \\u039a\\u03c1\\u03bf\\u03c5\\u03c3\\u03bc\\u03ac\\u03c4\\u03c9\\u03bd=%{y}\", \"legendgroup\": \"\\u039f\\u03bb\\u03bb\\u03b1\\u03bd\\u03b4\\u03af\\u03b1\", \"line\": {\"color\": \"rgb(189,189,189)\", \"dash\": \"solid\", \"shape\": \"spline\"}, \"mode\": \"lines\", \"name\": \"\\u039f\\u03bb\\u03bb\\u03b1\\u03bd\\u03b4\\u03af\\u03b1\", \"showlegend\": true, \"type\": \"scatter\", \"xaxis\": \"x\", \"y\": [10, 12, 20, 24, 43, 58, 77, 107, 137, 180, 214, 277, 357, 435, 547, 640, 772, 865, 1040, 1175, 1341, 1490, 1656, 1771, 1874, 2108, 2255, 2403, 2520, 2653, 2747], \"yaxis\": \"y\"}, {\"customdata\": [[\"\\u039d\\u03af\\u03b3\\u03b7\\u03c1\\u03b1\\u03c2\"], [\"\\u039d\\u03af\\u03b3\\u03b7\\u03c1\\u03b1\\u03c2\"], [\"\\u039d\\u03af\\u03b3\\u03b7\\u03c1\\u03b1\\u03c2\"], [\"\\u039d\\u03af\\u03b3\\u03b7\\u03c1\\u03b1\\u03c2\"], [\"\\u039d\\u03af\\u03b3\\u03b7\\u03c1\\u03b1\\u03c2\"], [\"\\u039d\\u03af\\u03b3\\u03b7\\u03c1\\u03b1\\u03c2\"], [\"\\u039d\\u03af\\u03b3\\u03b7\\u03c1\\u03b1\\u03c2\"], [\"\\u039d\\u03af\\u03b3\\u03b7\\u03c1\\u03b1\\u03c2\"]], \"hoverlabel\": {\"namelength\": 0}, \"hovertemplate\": \"\\u03a7\\u03ce\\u03c1\\u03b1=%{customdata[0]}<br>\\u0391\\u03c1\\u03b9\\u03b8\\u03bc\\u03cc\\u03c2 \\u039a\\u03c1\\u03bf\\u03c5\\u03c3\\u03bc\\u03ac\\u03c4\\u03c9\\u03bd=%{y}\", \"legendgroup\": \"\\u039d\\u03af\\u03b3\\u03b7\\u03c1\\u03b1\\u03c2\", \"line\": {\"color\": \"rgb(189,189,189)\", \"dash\": \"solid\", \"shape\": \"spline\"}, \"mode\": \"lines\", \"name\": \"\\u039d\\u03af\\u03b3\\u03b7\\u03c1\\u03b1\\u03c2\", \"showlegend\": true, \"type\": \"scatter\", \"xaxis\": \"x\", \"y\": [10, 10, 11, 11, 11, 11, 11, 12], \"yaxis\": \"y\"}, {\"customdata\": [[\"\\u039d\\u03b9\\u03b3\\u03b7\\u03c1\\u03af\\u03b1\"], [\"\\u039d\\u03b9\\u03b3\\u03b7\\u03c1\\u03af\\u03b1\"]], \"hoverlabel\": {\"namelength\": 0}, \"hovertemplate\": \"\\u03a7\\u03ce\\u03c1\\u03b1=%{customdata[0]}<br>\\u0391\\u03c1\\u03b9\\u03b8\\u03bc\\u03cc\\u03c2 \\u039a\\u03c1\\u03bf\\u03c5\\u03c3\\u03bc\\u03ac\\u03c4\\u03c9\\u03bd=%{y}\", \"legendgroup\": \"\\u039d\\u03b9\\u03b3\\u03b7\\u03c1\\u03af\\u03b1\", \"line\": {\"color\": \"rgb(189,189,189)\", \"dash\": \"solid\", \"shape\": \"spline\"}, \"mode\": \"lines\", \"name\": \"\\u039d\\u03b9\\u03b3\\u03b7\\u03c1\\u03af\\u03b1\", \"showlegend\": true, \"type\": \"scatter\", \"xaxis\": \"x\", \"y\": [10, 10], \"yaxis\": \"y\"}, {\"customdata\": [[\"\\u0392\\u03cc\\u03c1\\u03b5\\u03b9\\u03b1 \\u039c\\u03b1\\u03ba\\u03b5\\u03b4\\u03bf\\u03bd\\u03af\\u03b1\"], [\"\\u0392\\u03cc\\u03c1\\u03b5\\u03b9\\u03b1 \\u039c\\u03b1\\u03ba\\u03b5\\u03b4\\u03bf\\u03bd\\u03af\\u03b1\"], [\"\\u0392\\u03cc\\u03c1\\u03b5\\u03b9\\u03b1 \\u039c\\u03b1\\u03ba\\u03b5\\u03b4\\u03bf\\u03bd\\u03af\\u03b1\"], [\"\\u0392\\u03cc\\u03c1\\u03b5\\u03b9\\u03b1 \\u039c\\u03b1\\u03ba\\u03b5\\u03b4\\u03bf\\u03bd\\u03af\\u03b1\"], [\"\\u0392\\u03cc\\u03c1\\u03b5\\u03b9\\u03b1 \\u039c\\u03b1\\u03ba\\u03b5\\u03b4\\u03bf\\u03bd\\u03af\\u03b1\"], [\"\\u0392\\u03cc\\u03c1\\u03b5\\u03b9\\u03b1 \\u039c\\u03b1\\u03ba\\u03b5\\u03b4\\u03bf\\u03bd\\u03af\\u03b1\"], [\"\\u0392\\u03cc\\u03c1\\u03b5\\u03b9\\u03b1 \\u039c\\u03b1\\u03ba\\u03b5\\u03b4\\u03bf\\u03bd\\u03af\\u03b1\"], [\"\\u0392\\u03cc\\u03c1\\u03b5\\u03b9\\u03b1 \\u039c\\u03b1\\u03ba\\u03b5\\u03b4\\u03bf\\u03bd\\u03af\\u03b1\"], [\"\\u0392\\u03cc\\u03c1\\u03b5\\u03b9\\u03b1 \\u039c\\u03b1\\u03ba\\u03b5\\u03b4\\u03bf\\u03bd\\u03af\\u03b1\"], [\"\\u0392\\u03cc\\u03c1\\u03b5\\u03b9\\u03b1 \\u039c\\u03b1\\u03ba\\u03b5\\u03b4\\u03bf\\u03bd\\u03af\\u03b1\"], [\"\\u0392\\u03cc\\u03c1\\u03b5\\u03b9\\u03b1 \\u039c\\u03b1\\u03ba\\u03b5\\u03b4\\u03bf\\u03bd\\u03af\\u03b1\"], [\"\\u0392\\u03cc\\u03c1\\u03b5\\u03b9\\u03b1 \\u039c\\u03b1\\u03ba\\u03b5\\u03b4\\u03bf\\u03bd\\u03af\\u03b1\"]], \"hoverlabel\": {\"namelength\": 0}, \"hovertemplate\": \"\\u03a7\\u03ce\\u03c1\\u03b1=%{customdata[0]}<br>\\u0391\\u03c1\\u03b9\\u03b8\\u03bc\\u03cc\\u03c2 \\u039a\\u03c1\\u03bf\\u03c5\\u03c3\\u03bc\\u03ac\\u03c4\\u03c9\\u03bd=%{y}\", \"legendgroup\": \"\\u0392\\u03cc\\u03c1\\u03b5\\u03b9\\u03b1 \\u039c\\u03b1\\u03ba\\u03b5\\u03b4\\u03bf\\u03bd\\u03af\\u03b1\", \"line\": {\"color\": \"rgb(189,189,189)\", \"dash\": \"solid\", \"shape\": \"spline\"}, \"mode\": \"lines\", \"name\": \"\\u0392\\u03cc\\u03c1\\u03b5\\u03b9\\u03b1 \\u039c\\u03b1\\u03ba\\u03b5\\u03b4\\u03bf\\u03bd\\u03af\\u03b1\", \"showlegend\": true, \"type\": \"scatter\", \"xaxis\": \"x\", \"y\": [11, 11, 12, 17, 18, 23, 26, 29, 30, 32, 34, 34], \"yaxis\": \"y\"}, {\"customdata\": [[\"\\u039d\\u03bf\\u03c1\\u03b2\\u03b7\\u03b3\\u03af\\u03b1\"], [\"\\u039d\\u03bf\\u03c1\\u03b2\\u03b7\\u03b3\\u03af\\u03b1\"], [\"\\u039d\\u03bf\\u03c1\\u03b2\\u03b7\\u03b3\\u03af\\u03b1\"], [\"\\u039d\\u03bf\\u03c1\\u03b2\\u03b7\\u03b3\\u03af\\u03b1\"], [\"\\u039d\\u03bf\\u03c1\\u03b2\\u03b7\\u03b3\\u03af\\u03b1\"], [\"\\u039d\\u03bf\\u03c1\\u03b2\\u03b7\\u03b3\\u03af\\u03b1\"], [\"\\u039d\\u03bf\\u03c1\\u03b2\\u03b7\\u03b3\\u03af\\u03b1\"], [\"\\u039d\\u03bf\\u03c1\\u03b2\\u03b7\\u03b3\\u03af\\u03b1\"], [\"\\u039d\\u03bf\\u03c1\\u03b2\\u03b7\\u03b3\\u03af\\u03b1\"], [\"\\u039d\\u03bf\\u03c1\\u03b2\\u03b7\\u03b3\\u03af\\u03b1\"], [\"\\u039d\\u03bf\\u03c1\\u03b2\\u03b7\\u03b3\\u03af\\u03b1\"], [\"\\u039d\\u03bf\\u03c1\\u03b2\\u03b7\\u03b3\\u03af\\u03b1\"], [\"\\u039d\\u03bf\\u03c1\\u03b2\\u03b7\\u03b3\\u03af\\u03b1\"], [\"\\u039d\\u03bf\\u03c1\\u03b2\\u03b7\\u03b3\\u03af\\u03b1\"], [\"\\u039d\\u03bf\\u03c1\\u03b2\\u03b7\\u03b3\\u03af\\u03b1\"], [\"\\u039d\\u03bf\\u03c1\\u03b2\\u03b7\\u03b3\\u03af\\u03b1\"], [\"\\u039d\\u03bf\\u03c1\\u03b2\\u03b7\\u03b3\\u03af\\u03b1\"], [\"\\u039d\\u03bf\\u03c1\\u03b2\\u03b7\\u03b3\\u03af\\u03b1\"], [\"\\u039d\\u03bf\\u03c1\\u03b2\\u03b7\\u03b3\\u03af\\u03b1\"], [\"\\u039d\\u03bf\\u03c1\\u03b2\\u03b7\\u03b3\\u03af\\u03b1\"], [\"\\u039d\\u03bf\\u03c1\\u03b2\\u03b7\\u03b3\\u03af\\u03b1\"]], \"hoverlabel\": {\"namelength\": 0}, \"hovertemplate\": \"\\u03a7\\u03ce\\u03c1\\u03b1=%{customdata[0]}<br>\\u0391\\u03c1\\u03b9\\u03b8\\u03bc\\u03cc\\u03c2 \\u039a\\u03c1\\u03bf\\u03c5\\u03c3\\u03bc\\u03ac\\u03c4\\u03c9\\u03bd=%{y}\", \"legendgroup\": \"\\u039d\\u03bf\\u03c1\\u03b2\\u03b7\\u03b3\\u03af\\u03b1\", \"line\": {\"color\": \"rgb(189,189,189)\", \"dash\": \"solid\", \"shape\": \"spline\"}, \"mode\": \"lines\", \"name\": \"\\u039d\\u03bf\\u03c1\\u03b2\\u03b7\\u03b3\\u03af\\u03b1\", \"showlegend\": true, \"type\": \"scatter\", \"xaxis\": \"x\", \"y\": [10, 12, 14, 14, 19, 23, 25, 32, 39, 44, 50, 59, 62, 71, 76, 89, 101, 108, 113, 119, 128], \"yaxis\": \"y\"}, {\"customdata\": [[\"\\u03a0\\u03b1\\u03ba\\u03b9\\u03c3\\u03c4\\u03ac\\u03bd\"], [\"\\u03a0\\u03b1\\u03ba\\u03b9\\u03c3\\u03c4\\u03ac\\u03bd\"], [\"\\u03a0\\u03b1\\u03ba\\u03b9\\u03c3\\u03c4\\u03ac\\u03bd\"], [\"\\u03a0\\u03b1\\u03ba\\u03b9\\u03c3\\u03c4\\u03ac\\u03bd\"], [\"\\u03a0\\u03b1\\u03ba\\u03b9\\u03c3\\u03c4\\u03ac\\u03bd\"], [\"\\u03a0\\u03b1\\u03ba\\u03b9\\u03c3\\u03c4\\u03ac\\u03bd\"], [\"\\u03a0\\u03b1\\u03ba\\u03b9\\u03c3\\u03c4\\u03ac\\u03bd\"], [\"\\u03a0\\u03b1\\u03ba\\u03b9\\u03c3\\u03c4\\u03ac\\u03bd\"], [\"\\u03a0\\u03b1\\u03ba\\u03b9\\u03c3\\u03c4\\u03ac\\u03bd\"], [\"\\u03a0\\u03b1\\u03ba\\u03b9\\u03c3\\u03c4\\u03ac\\u03bd\"], [\"\\u03a0\\u03b1\\u03ba\\u03b9\\u03c3\\u03c4\\u03ac\\u03bd\"], [\"\\u03a0\\u03b1\\u03ba\\u03b9\\u03c3\\u03c4\\u03ac\\u03bd\"], [\"\\u03a0\\u03b1\\u03ba\\u03b9\\u03c3\\u03c4\\u03ac\\u03bd\"], [\"\\u03a0\\u03b1\\u03ba\\u03b9\\u03c3\\u03c4\\u03ac\\u03bd\"], [\"\\u03a0\\u03b1\\u03ba\\u03b9\\u03c3\\u03c4\\u03ac\\u03bd\"], [\"\\u03a0\\u03b1\\u03ba\\u03b9\\u03c3\\u03c4\\u03ac\\u03bd\"], [\"\\u03a0\\u03b1\\u03ba\\u03b9\\u03c3\\u03c4\\u03ac\\u03bd\"]], \"hoverlabel\": {\"namelength\": 0}, \"hovertemplate\": \"\\u03a7\\u03ce\\u03c1\\u03b1=%{customdata[0]}<br>\\u0391\\u03c1\\u03b9\\u03b8\\u03bc\\u03cc\\u03c2 \\u039a\\u03c1\\u03bf\\u03c5\\u03c3\\u03bc\\u03ac\\u03c4\\u03c9\\u03bd=%{y}\", \"legendgroup\": \"\\u03a0\\u03b1\\u03ba\\u03b9\\u03c3\\u03c4\\u03ac\\u03bd\", \"line\": {\"color\": \"rgb(189,189,189)\", \"dash\": \"solid\", \"shape\": \"spline\"}, \"mode\": \"lines\", \"name\": \"\\u03a0\\u03b1\\u03ba\\u03b9\\u03c3\\u03c4\\u03ac\\u03bd\", \"showlegend\": true, \"type\": \"scatter\", \"xaxis\": \"x\", \"y\": [11, 12, 14, 21, 26, 27, 34, 40, 41, 47, 53, 57, 61, 65, 66, 86, 91], \"yaxis\": \"y\"}, {\"customdata\": [[\"\\u03a0\\u03b1\\u03bd\\u03b1\\u03bc\\u03ac\\u03c2\"], [\"\\u03a0\\u03b1\\u03bd\\u03b1\\u03bc\\u03ac\\u03c2\"], [\"\\u03a0\\u03b1\\u03bd\\u03b1\\u03bc\\u03ac\\u03c2\"], [\"\\u03a0\\u03b1\\u03bd\\u03b1\\u03bc\\u03ac\\u03c2\"], [\"\\u03a0\\u03b1\\u03bd\\u03b1\\u03bc\\u03ac\\u03c2\"], [\"\\u03a0\\u03b1\\u03bd\\u03b1\\u03bc\\u03ac\\u03c2\"], [\"\\u03a0\\u03b1\\u03bd\\u03b1\\u03bc\\u03ac\\u03c2\"], [\"\\u03a0\\u03b1\\u03bd\\u03b1\\u03bc\\u03ac\\u03c2\"], [\"\\u03a0\\u03b1\\u03bd\\u03b1\\u03bc\\u03ac\\u03c2\"], [\"\\u03a0\\u03b1\\u03bd\\u03b1\\u03bc\\u03ac\\u03c2\"], [\"\\u03a0\\u03b1\\u03bd\\u03b1\\u03bc\\u03ac\\u03c2\"], [\"\\u03a0\\u03b1\\u03bd\\u03b1\\u03bc\\u03ac\\u03c2\"], [\"\\u03a0\\u03b1\\u03bd\\u03b1\\u03bc\\u03ac\\u03c2\"], [\"\\u03a0\\u03b1\\u03bd\\u03b1\\u03bc\\u03ac\\u03c2\"], [\"\\u03a0\\u03b1\\u03bd\\u03b1\\u03bc\\u03ac\\u03c2\"], [\"\\u03a0\\u03b1\\u03bd\\u03b1\\u03bc\\u03ac\\u03c2\"]], \"hoverlabel\": {\"namelength\": 0}, \"hovertemplate\": \"\\u03a7\\u03ce\\u03c1\\u03b1=%{customdata[0]}<br>\\u0391\\u03c1\\u03b9\\u03b8\\u03bc\\u03cc\\u03c2 \\u039a\\u03c1\\u03bf\\u03c5\\u03c3\\u03bc\\u03ac\\u03c4\\u03c9\\u03bd=%{y}\", \"legendgroup\": \"\\u03a0\\u03b1\\u03bd\\u03b1\\u03bc\\u03ac\\u03c2\", \"line\": {\"color\": \"rgb(189,189,189)\", \"dash\": \"solid\", \"shape\": \"spline\"}, \"mode\": \"lines\", \"name\": \"\\u03a0\\u03b1\\u03bd\\u03b1\\u03bc\\u03ac\\u03c2\", \"showlegend\": true, \"type\": \"scatter\", \"xaxis\": \"x\", \"y\": [14, 17, 24, 30, 30, 32, 37, 41, 46, 54, 55, 59, 63, 66, 74, 79], \"yaxis\": \"y\"}, {\"customdata\": [[\"\\u03a0\\u03b5\\u03c1\\u03bf\\u03cd\"], [\"\\u03a0\\u03b5\\u03c1\\u03bf\\u03cd\"], [\"\\u03a0\\u03b5\\u03c1\\u03bf\\u03cd\"], [\"\\u03a0\\u03b5\\u03c1\\u03bf\\u03cd\"], [\"\\u03a0\\u03b5\\u03c1\\u03bf\\u03cd\"], [\"\\u03a0\\u03b5\\u03c1\\u03bf\\u03cd\"], [\"\\u03a0\\u03b5\\u03c1\\u03bf\\u03cd\"], [\"\\u03a0\\u03b5\\u03c1\\u03bf\\u03cd\"], [\"\\u03a0\\u03b5\\u03c1\\u03bf\\u03cd\"], [\"\\u03a0\\u03b5\\u03c1\\u03bf\\u03cd\"], [\"\\u03a0\\u03b5\\u03c1\\u03bf\\u03cd\"], [\"\\u03a0\\u03b5\\u03c1\\u03bf\\u03cd\"], [\"\\u03a0\\u03b5\\u03c1\\u03bf\\u03cd\"], [\"\\u03a0\\u03b5\\u03c1\\u03bf\\u03cd\"], [\"\\u03a0\\u03b5\\u03c1\\u03bf\\u03cd\"], [\"\\u03a0\\u03b5\\u03c1\\u03bf\\u03cd\"], [\"\\u03a0\\u03b5\\u03c1\\u03bf\\u03cd\"]], \"hoverlabel\": {\"namelength\": 0}, \"hovertemplate\": \"\\u03a7\\u03ce\\u03c1\\u03b1=%{customdata[0]}<br>\\u0391\\u03c1\\u03b9\\u03b8\\u03bc\\u03cc\\u03c2 \\u039a\\u03c1\\u03bf\\u03c5\\u03c3\\u03bc\\u03ac\\u03c4\\u03c9\\u03bd=%{y}\", \"legendgroup\": \"\\u03a0\\u03b5\\u03c1\\u03bf\\u03cd\", \"line\": {\"color\": \"rgb(189,189,189)\", \"dash\": \"solid\", \"shape\": \"spline\"}, \"mode\": \"lines\", \"name\": \"\\u03a0\\u03b5\\u03c1\\u03bf\\u03cd\", \"showlegend\": true, \"type\": \"scatter\", \"xaxis\": \"x\", \"y\": [11, 16, 18, 24, 30, 38, 55, 61, 73, 83, 92, 107, 121, 138, 169, 181, 193], \"yaxis\": \"y\"}, {\"customdata\": [[\"\\u03a6\\u03b9\\u03bb\\u03b9\\u03c0\\u03c0\\u03af\\u03bd\\u03b5\\u03c2\"], [\"\\u03a6\\u03b9\\u03bb\\u03b9\\u03c0\\u03c0\\u03af\\u03bd\\u03b5\\u03c2\"], [\"\\u03a6\\u03b9\\u03bb\\u03b9\\u03c0\\u03c0\\u03af\\u03bd\\u03b5\\u03c2\"], [\"\\u03a6\\u03b9\\u03bb\\u03b9\\u03c0\\u03c0\\u03af\\u03bd\\u03b5\\u03c2\"], [\"\\u03a6\\u03b9\\u03bb\\u03b9\\u03c0\\u03c0\\u03af\\u03bd\\u03b5\\u03c2\"], [\"\\u03a6\\u03b9\\u03bb\\u03b9\\u03c0\\u03c0\\u03af\\u03bd\\u03b5\\u03c2\"], [\"\\u03a6\\u03b9\\u03bb\\u03b9\\u03c0\\u03c0\\u03af\\u03bd\\u03b5\\u03c2\"], [\"\\u03a6\\u03b9\\u03bb\\u03b9\\u03c0\\u03c0\\u03af\\u03bd\\u03b5\\u03c2\"], [\"\\u03a6\\u03b9\\u03bb\\u03b9\\u03c0\\u03c0\\u03af\\u03bd\\u03b5\\u03c2\"], [\"\\u03a6\\u03b9\\u03bb\\u03b9\\u03c0\\u03c0\\u03af\\u03bd\\u03b5\\u03c2\"], [\"\\u03a6\\u03b9\\u03bb\\u03b9\\u03c0\\u03c0\\u03af\\u03bd\\u03b5\\u03c2\"], [\"\\u03a6\\u03b9\\u03bb\\u03b9\\u03c0\\u03c0\\u03af\\u03bd\\u03b5\\u03c2\"], [\"\\u03a6\\u03b9\\u03bb\\u03b9\\u03c0\\u03c0\\u03af\\u03bd\\u03b5\\u03c2\"], [\"\\u03a6\\u03b9\\u03bb\\u03b9\\u03c0\\u03c0\\u03af\\u03bd\\u03b5\\u03c2\"], [\"\\u03a6\\u03b9\\u03bb\\u03b9\\u03c0\\u03c0\\u03af\\u03bd\\u03b5\\u03c2\"], [\"\\u03a6\\u03b9\\u03bb\\u03b9\\u03c0\\u03c0\\u03af\\u03bd\\u03b5\\u03c2\"], [\"\\u03a6\\u03b9\\u03bb\\u03b9\\u03c0\\u03c0\\u03af\\u03bd\\u03b5\\u03c2\"], [\"\\u03a6\\u03b9\\u03bb\\u03b9\\u03c0\\u03c0\\u03af\\u03bd\\u03b5\\u03c2\"], [\"\\u03a6\\u03b9\\u03bb\\u03b9\\u03c0\\u03c0\\u03af\\u03bd\\u03b5\\u03c2\"], [\"\\u03a6\\u03b9\\u03bb\\u03b9\\u03c0\\u03c0\\u03af\\u03bd\\u03b5\\u03c2\"], [\"\\u03a6\\u03b9\\u03bb\\u03b9\\u03c0\\u03c0\\u03af\\u03bd\\u03b5\\u03c2\"], [\"\\u03a6\\u03b9\\u03bb\\u03b9\\u03c0\\u03c0\\u03af\\u03bd\\u03b5\\u03c2\"], [\"\\u03a6\\u03b9\\u03bb\\u03b9\\u03c0\\u03c0\\u03af\\u03bd\\u03b5\\u03c2\"], [\"\\u03a6\\u03b9\\u03bb\\u03b9\\u03c0\\u03c0\\u03af\\u03bd\\u03b5\\u03c2\"], [\"\\u03a6\\u03b9\\u03bb\\u03b9\\u03c0\\u03c0\\u03af\\u03bd\\u03b5\\u03c2\"], [\"\\u03a6\\u03b9\\u03bb\\u03b9\\u03c0\\u03c0\\u03af\\u03bd\\u03b5\\u03c2\"], [\"\\u03a6\\u03b9\\u03bb\\u03b9\\u03c0\\u03c0\\u03af\\u03bd\\u03b5\\u03c2\"], [\"\\u03a6\\u03b9\\u03bb\\u03b9\\u03c0\\u03c0\\u03af\\u03bd\\u03b5\\u03c2\"], [\"\\u03a6\\u03b9\\u03bb\\u03b9\\u03c0\\u03c0\\u03af\\u03bd\\u03b5\\u03c2\"]], \"hoverlabel\": {\"namelength\": 0}, \"hovertemplate\": \"\\u03a7\\u03ce\\u03c1\\u03b1=%{customdata[0]}<br>\\u0391\\u03c1\\u03b9\\u03b8\\u03bc\\u03cc\\u03c2 \\u039a\\u03c1\\u03bf\\u03c5\\u03c3\\u03bc\\u03ac\\u03c4\\u03c9\\u03bd=%{y}\", \"legendgroup\": \"\\u03a6\\u03b9\\u03bb\\u03b9\\u03c0\\u03c0\\u03af\\u03bd\\u03b5\\u03c2\", \"line\": {\"color\": \"rgb(189,189,189)\", \"dash\": \"solid\", \"shape\": \"spline\"}, \"mode\": \"lines\", \"name\": \"\\u03a6\\u03b9\\u03bb\\u03b9\\u03c0\\u03c0\\u03af\\u03bd\\u03b5\\u03c2\", \"showlegend\": true, \"type\": \"scatter\", \"xaxis\": \"x\", \"y\": [11, 12, 12, 19, 17, 18, 19, 25, 33, 35, 38, 45, 54, 68, 71, 78, 88, 96, 107, 136, 144, 152, 163, 177, 182, 203, 221, 247, 297], \"yaxis\": \"y\"}, {\"customdata\": [[\"\\u03a0\\u03bf\\u03bb\\u03c9\\u03bd\\u03af\\u03b1\"], [\"\\u03a0\\u03bf\\u03bb\\u03c9\\u03bd\\u03af\\u03b1\"], [\"\\u03a0\\u03bf\\u03bb\\u03c9\\u03bd\\u03af\\u03b1\"], [\"\\u03a0\\u03bf\\u03bb\\u03c9\\u03bd\\u03af\\u03b1\"], [\"\\u03a0\\u03bf\\u03bb\\u03c9\\u03bd\\u03af\\u03b1\"], [\"\\u03a0\\u03bf\\u03bb\\u03c9\\u03bd\\u03af\\u03b1\"], [\"\\u03a0\\u03bf\\u03bb\\u03c9\\u03bd\\u03af\\u03b1\"], [\"\\u03a0\\u03bf\\u03bb\\u03c9\\u03bd\\u03af\\u03b1\"], [\"\\u03a0\\u03bf\\u03bb\\u03c9\\u03bd\\u03af\\u03b1\"], [\"\\u03a0\\u03bf\\u03bb\\u03c9\\u03bd\\u03af\\u03b1\"], [\"\\u03a0\\u03bf\\u03bb\\u03c9\\u03bd\\u03af\\u03b1\"], [\"\\u03a0\\u03bf\\u03bb\\u03c9\\u03bd\\u03af\\u03b1\"], [\"\\u03a0\\u03bf\\u03bb\\u03c9\\u03bd\\u03af\\u03b1\"], [\"\\u03a0\\u03bf\\u03bb\\u03c9\\u03bd\\u03af\\u03b1\"], [\"\\u03a0\\u03bf\\u03bb\\u03c9\\u03bd\\u03af\\u03b1\"], [\"\\u03a0\\u03bf\\u03bb\\u03c9\\u03bd\\u03af\\u03b1\"], [\"\\u03a0\\u03bf\\u03bb\\u03c9\\u03bd\\u03af\\u03b1\"], [\"\\u03a0\\u03bf\\u03bb\\u03c9\\u03bd\\u03af\\u03b1\"], [\"\\u03a0\\u03bf\\u03bb\\u03c9\\u03bd\\u03af\\u03b1\"], [\"\\u03a0\\u03bf\\u03bb\\u03c9\\u03bd\\u03af\\u03b1\"]], \"hoverlabel\": {\"namelength\": 0}, \"hovertemplate\": \"\\u03a7\\u03ce\\u03c1\\u03b1=%{customdata[0]}<br>\\u0391\\u03c1\\u03b9\\u03b8\\u03bc\\u03cc\\u03c2 \\u039a\\u03c1\\u03bf\\u03c5\\u03c3\\u03bc\\u03ac\\u03c4\\u03c9\\u03bd=%{y}\", \"legendgroup\": \"\\u03a0\\u03bf\\u03bb\\u03c9\\u03bd\\u03af\\u03b1\", \"line\": {\"color\": \"rgb(189,189,189)\", \"dash\": \"solid\", \"shape\": \"spline\"}, \"mode\": \"lines\", \"name\": \"\\u03a0\\u03bf\\u03bb\\u03c9\\u03bd\\u03af\\u03b1\", \"showlegend\": true, \"type\": \"scatter\", \"xaxis\": \"x\", \"y\": [10, 14, 16, 16, 18, 22, 31, 33, 43, 57, 71, 79, 94, 107, 129, 159, 174, 181, 208, 232], \"yaxis\": \"y\"}, {\"customdata\": [[\"\\u03a0\\u03bf\\u03c1\\u03c4\\u03bf\\u03b3\\u03b1\\u03bb\\u03af\\u03b1\"], [\"\\u03a0\\u03bf\\u03c1\\u03c4\\u03bf\\u03b3\\u03b1\\u03bb\\u03af\\u03b1\"], [\"\\u03a0\\u03bf\\u03c1\\u03c4\\u03bf\\u03b3\\u03b1\\u03bb\\u03af\\u03b1\"], [\"\\u03a0\\u03bf\\u03c1\\u03c4\\u03bf\\u03b3\\u03b1\\u03bb\\u03af\\u03b1\"], [\"\\u03a0\\u03bf\\u03c1\\u03c4\\u03bf\\u03b3\\u03b1\\u03bb\\u03af\\u03b1\"], [\"\\u03a0\\u03bf\\u03c1\\u03c4\\u03bf\\u03b3\\u03b1\\u03bb\\u03af\\u03b1\"], [\"\\u03a0\\u03bf\\u03c1\\u03c4\\u03bf\\u03b3\\u03b1\\u03bb\\u03af\\u03b1\"], [\"\\u03a0\\u03bf\\u03c1\\u03c4\\u03bf\\u03b3\\u03b1\\u03bb\\u03af\\u03b1\"], [\"\\u03a0\\u03bf\\u03c1\\u03c4\\u03bf\\u03b3\\u03b1\\u03bb\\u03af\\u03b1\"], [\"\\u03a0\\u03bf\\u03c1\\u03c4\\u03bf\\u03b3\\u03b1\\u03bb\\u03af\\u03b1\"], [\"\\u03a0\\u03bf\\u03c1\\u03c4\\u03bf\\u03b3\\u03b1\\u03bb\\u03af\\u03b1\"], [\"\\u03a0\\u03bf\\u03c1\\u03c4\\u03bf\\u03b3\\u03b1\\u03bb\\u03af\\u03b1\"], [\"\\u03a0\\u03bf\\u03c1\\u03c4\\u03bf\\u03b3\\u03b1\\u03bb\\u03af\\u03b1\"], [\"\\u03a0\\u03bf\\u03c1\\u03c4\\u03bf\\u03b3\\u03b1\\u03bb\\u03af\\u03b1\"], [\"\\u03a0\\u03bf\\u03c1\\u03c4\\u03bf\\u03b3\\u03b1\\u03bb\\u03af\\u03b1\"], [\"\\u03a0\\u03bf\\u03c1\\u03c4\\u03bf\\u03b3\\u03b1\\u03bb\\u03af\\u03b1\"], [\"\\u03a0\\u03bf\\u03c1\\u03c4\\u03bf\\u03b3\\u03b1\\u03bb\\u03af\\u03b1\"], [\"\\u03a0\\u03bf\\u03c1\\u03c4\\u03bf\\u03b3\\u03b1\\u03bb\\u03af\\u03b1\"], [\"\\u03a0\\u03bf\\u03c1\\u03c4\\u03bf\\u03b3\\u03b1\\u03bb\\u03af\\u03b1\"], [\"\\u03a0\\u03bf\\u03c1\\u03c4\\u03bf\\u03b3\\u03b1\\u03bb\\u03af\\u03b1\"], [\"\\u03a0\\u03bf\\u03c1\\u03c4\\u03bf\\u03b3\\u03b1\\u03bb\\u03af\\u03b1\"], [\"\\u03a0\\u03bf\\u03c1\\u03c4\\u03bf\\u03b3\\u03b1\\u03bb\\u03af\\u03b1\"], [\"\\u03a0\\u03bf\\u03c1\\u03c4\\u03bf\\u03b3\\u03b1\\u03bb\\u03af\\u03b1\"]], \"hoverlabel\": {\"namelength\": 0}, \"hovertemplate\": \"\\u03a7\\u03ce\\u03c1\\u03b1=%{customdata[0]}<br>\\u0391\\u03c1\\u03b9\\u03b8\\u03bc\\u03cc\\u03c2 \\u039a\\u03c1\\u03bf\\u03c5\\u03c3\\u03bc\\u03ac\\u03c4\\u03c9\\u03bd=%{y}\", \"legendgroup\": \"\\u03a0\\u03bf\\u03c1\\u03c4\\u03bf\\u03b3\\u03b1\\u03bb\\u03af\\u03b1\", \"line\": {\"color\": \"rgb(189,189,189)\", \"dash\": \"solid\", \"shape\": \"spline\"}, \"mode\": \"lines\", \"name\": \"\\u03a0\\u03bf\\u03c1\\u03c4\\u03bf\\u03b3\\u03b1\\u03bb\\u03af\\u03b1\", \"showlegend\": true, \"type\": \"scatter\", \"xaxis\": \"x\", \"y\": [12, 14, 23, 33, 43, 60, 76, 100, 119, 140, 160, 187, 209, 246, 266, 295, 311, 345, 380, 409, 435, 470, 504], \"yaxis\": \"y\"}, {\"customdata\": [[\"\\u03a1\\u03bf\\u03c5\\u03bc\\u03b1\\u03bd\\u03af\\u03b1\"], [\"\\u03a1\\u03bf\\u03c5\\u03bc\\u03b1\\u03bd\\u03af\\u03b1\"], [\"\\u03a1\\u03bf\\u03c5\\u03bc\\u03b1\\u03bd\\u03af\\u03b1\"], [\"\\u03a1\\u03bf\\u03c5\\u03bc\\u03b1\\u03bd\\u03af\\u03b1\"], [\"\\u03a1\\u03bf\\u03c5\\u03bc\\u03b1\\u03bd\\u03af\\u03b1\"], [\"\\u03a1\\u03bf\\u03c5\\u03bc\\u03b1\\u03bd\\u03af\\u03b1\"], [\"\\u03a1\\u03bf\\u03c5\\u03bc\\u03b1\\u03bd\\u03af\\u03b1\"], [\"\\u03a1\\u03bf\\u03c5\\u03bc\\u03b1\\u03bd\\u03af\\u03b1\"], [\"\\u03a1\\u03bf\\u03c5\\u03bc\\u03b1\\u03bd\\u03af\\u03b1\"], [\"\\u03a1\\u03bf\\u03c5\\u03bc\\u03b1\\u03bd\\u03af\\u03b1\"], [\"\\u03a1\\u03bf\\u03c5\\u03bc\\u03b1\\u03bd\\u03af\\u03b1\"], [\"\\u03a1\\u03bf\\u03c5\\u03bc\\u03b1\\u03bd\\u03af\\u03b1\"], [\"\\u03a1\\u03bf\\u03c5\\u03bc\\u03b1\\u03bd\\u03af\\u03b1\"], [\"\\u03a1\\u03bf\\u03c5\\u03bc\\u03b1\\u03bd\\u03af\\u03b1\"], [\"\\u03a1\\u03bf\\u03c5\\u03bc\\u03b1\\u03bd\\u03af\\u03b1\"], [\"\\u03a1\\u03bf\\u03c5\\u03bc\\u03b1\\u03bd\\u03af\\u03b1\"], [\"\\u03a1\\u03bf\\u03c5\\u03bc\\u03b1\\u03bd\\u03af\\u03b1\"], [\"\\u03a1\\u03bf\\u03c5\\u03bc\\u03b1\\u03bd\\u03af\\u03b1\"], [\"\\u03a1\\u03bf\\u03c5\\u03bc\\u03b1\\u03bd\\u03af\\u03b1\"], [\"\\u03a1\\u03bf\\u03c5\\u03bc\\u03b1\\u03bd\\u03af\\u03b1\"]], \"hoverlabel\": {\"namelength\": 0}, \"hovertemplate\": \"\\u03a7\\u03ce\\u03c1\\u03b1=%{customdata[0]}<br>\\u0391\\u03c1\\u03b9\\u03b8\\u03bc\\u03cc\\u03c2 \\u039a\\u03c1\\u03bf\\u03c5\\u03c3\\u03bc\\u03ac\\u03c4\\u03c9\\u03bd=%{y}\", \"legendgroup\": \"\\u03a1\\u03bf\\u03c5\\u03bc\\u03b1\\u03bd\\u03af\\u03b1\", \"line\": {\"color\": \"rgb(189,189,189)\", \"dash\": \"solid\", \"shape\": \"spline\"}, \"mode\": \"lines\", \"name\": \"\\u03a1\\u03bf\\u03c5\\u03bc\\u03b1\\u03bd\\u03af\\u03b1\", \"showlegend\": true, \"type\": \"scatter\", \"xaxis\": \"x\", \"y\": [11, 17, 23, 26, 37, 43, 65, 82, 92, 115, 133, 146, 151, 176, 197, 220, 248, 270, 291, 316], \"yaxis\": \"y\"}, {\"customdata\": [[\"\\u03a1\\u03c9\\u03c3\\u03af\\u03b1\"], [\"\\u03a1\\u03c9\\u03c3\\u03af\\u03b1\"], [\"\\u03a1\\u03c9\\u03c3\\u03af\\u03b1\"], [\"\\u03a1\\u03c9\\u03c3\\u03af\\u03b1\"], [\"\\u03a1\\u03c9\\u03c3\\u03af\\u03b1\"], [\"\\u03a1\\u03c9\\u03c3\\u03af\\u03b1\"], [\"\\u03a1\\u03c9\\u03c3\\u03af\\u03b1\"], [\"\\u03a1\\u03c9\\u03c3\\u03af\\u03b1\"], [\"\\u03a1\\u03c9\\u03c3\\u03af\\u03b1\"], [\"\\u03a1\\u03c9\\u03c3\\u03af\\u03b1\"], [\"\\u03a1\\u03c9\\u03c3\\u03af\\u03b1\"], [\"\\u03a1\\u03c9\\u03c3\\u03af\\u03b1\"], [\"\\u03a1\\u03c9\\u03c3\\u03af\\u03b1\"]], \"hoverlabel\": {\"namelength\": 0}, \"hovertemplate\": \"\\u03a7\\u03ce\\u03c1\\u03b1=%{customdata[0]}<br>\\u0391\\u03c1\\u03b9\\u03b8\\u03bc\\u03cc\\u03c2 \\u039a\\u03c1\\u03bf\\u03c5\\u03c3\\u03bc\\u03ac\\u03c4\\u03c9\\u03bd=%{y}\", \"legendgroup\": \"\\u03a1\\u03c9\\u03c3\\u03af\\u03b1\", \"line\": {\"color\": \"rgb(189,189,189)\", \"dash\": \"solid\", \"shape\": \"spline\"}, \"mode\": \"lines\", \"name\": \"\\u03a1\\u03c9\\u03c3\\u03af\\u03b1\", \"showlegend\": true, \"type\": \"scatter\", \"xaxis\": \"x\", \"y\": [17, 24, 30, 34, 43, 45, 47, 58, 63, 76, 94, 106, 130], \"yaxis\": \"y\"}, {\"customdata\": [[\"\\u0386\\u03b3. \\u039c\\u03b1\\u03c1\\u03af\\u03bd\\u03bf\\u03c2\"], [\"\\u0386\\u03b3. \\u039c\\u03b1\\u03c1\\u03af\\u03bd\\u03bf\\u03c2\"], [\"\\u0386\\u03b3. \\u039c\\u03b1\\u03c1\\u03af\\u03bd\\u03bf\\u03c2\"], [\"\\u0386\\u03b3. \\u039c\\u03b1\\u03c1\\u03af\\u03bd\\u03bf\\u03c2\"], [\"\\u0386\\u03b3. \\u039c\\u03b1\\u03c1\\u03af\\u03bd\\u03bf\\u03c2\"], [\"\\u0386\\u03b3. \\u039c\\u03b1\\u03c1\\u03af\\u03bd\\u03bf\\u03c2\"], [\"\\u0386\\u03b3. \\u039c\\u03b1\\u03c1\\u03af\\u03bd\\u03bf\\u03c2\"], [\"\\u0386\\u03b3. \\u039c\\u03b1\\u03c1\\u03af\\u03bd\\u03bf\\u03c2\"], [\"\\u0386\\u03b3. \\u039c\\u03b1\\u03c1\\u03af\\u03bd\\u03bf\\u03c2\"], [\"\\u0386\\u03b3. \\u039c\\u03b1\\u03c1\\u03af\\u03bd\\u03bf\\u03c2\"], [\"\\u0386\\u03b3. \\u039c\\u03b1\\u03c1\\u03af\\u03bd\\u03bf\\u03c2\"], [\"\\u0386\\u03b3. \\u039c\\u03b1\\u03c1\\u03af\\u03bd\\u03bf\\u03c2\"], [\"\\u0386\\u03b3. \\u039c\\u03b1\\u03c1\\u03af\\u03bd\\u03bf\\u03c2\"], [\"\\u0386\\u03b3. \\u039c\\u03b1\\u03c1\\u03af\\u03bd\\u03bf\\u03c2\"], [\"\\u0386\\u03b3. \\u039c\\u03b1\\u03c1\\u03af\\u03bd\\u03bf\\u03c2\"], [\"\\u0386\\u03b3. \\u039c\\u03b1\\u03c1\\u03af\\u03bd\\u03bf\\u03c2\"], [\"\\u0386\\u03b3. \\u039c\\u03b1\\u03c1\\u03af\\u03bd\\u03bf\\u03c2\"], [\"\\u0386\\u03b3. \\u039c\\u03b1\\u03c1\\u03af\\u03bd\\u03bf\\u03c2\"], [\"\\u0386\\u03b3. \\u039c\\u03b1\\u03c1\\u03af\\u03bd\\u03bf\\u03c2\"], [\"\\u0386\\u03b3. \\u039c\\u03b1\\u03c1\\u03af\\u03bd\\u03bf\\u03c2\"], [\"\\u0386\\u03b3. \\u039c\\u03b1\\u03c1\\u03af\\u03bd\\u03bf\\u03c2\"], [\"\\u0386\\u03b3. \\u039c\\u03b1\\u03c1\\u03af\\u03bd\\u03bf\\u03c2\"], [\"\\u0386\\u03b3. \\u039c\\u03b1\\u03c1\\u03af\\u03bd\\u03bf\\u03c2\"], [\"\\u0386\\u03b3. \\u039c\\u03b1\\u03c1\\u03af\\u03bd\\u03bf\\u03c2\"], [\"\\u0386\\u03b3. \\u039c\\u03b1\\u03c1\\u03af\\u03bd\\u03bf\\u03c2\"], [\"\\u0386\\u03b3. \\u039c\\u03b1\\u03c1\\u03af\\u03bd\\u03bf\\u03c2\"]], \"hoverlabel\": {\"namelength\": 0}, \"hovertemplate\": \"\\u03a7\\u03ce\\u03c1\\u03b1=%{customdata[0]}<br>\\u0391\\u03c1\\u03b9\\u03b8\\u03bc\\u03cc\\u03c2 \\u039a\\u03c1\\u03bf\\u03c5\\u03c3\\u03bc\\u03ac\\u03c4\\u03c9\\u03bd=%{y}\", \"legendgroup\": \"\\u0386\\u03b3. \\u039c\\u03b1\\u03c1\\u03af\\u03bd\\u03bf\\u03c2\", \"line\": {\"color\": \"rgb(189,189,189)\", \"dash\": \"solid\", \"shape\": \"spline\"}, \"mode\": \"lines\", \"name\": \"\\u0386\\u03b3. \\u039c\\u03b1\\u03c1\\u03af\\u03bd\\u03bf\\u03c2\", \"showlegend\": true, \"type\": \"scatter\", \"xaxis\": \"x\", \"y\": [11, 11, 14, 20, 20, 20, 21, 21, 21, 21, 22, 22, 25, 26, 26, 30, 30, 32, 32, 32, 34, 34, 34, 34, 35, 35], \"yaxis\": \"y\"}, {\"customdata\": [[\"\\u03a3\\u03b1\\u03bf\\u03c5\\u03b4\\u03b9\\u03ba\\u03ae \\u0391\\u03c1\\u03b1\\u03b2\\u03af\\u03b1\"], [\"\\u03a3\\u03b1\\u03bf\\u03c5\\u03b4\\u03b9\\u03ba\\u03ae \\u0391\\u03c1\\u03b1\\u03b2\\u03af\\u03b1\"], [\"\\u03a3\\u03b1\\u03bf\\u03c5\\u03b4\\u03b9\\u03ba\\u03ae \\u0391\\u03c1\\u03b1\\u03b2\\u03af\\u03b1\"], [\"\\u03a3\\u03b1\\u03bf\\u03c5\\u03b4\\u03b9\\u03ba\\u03ae \\u0391\\u03c1\\u03b1\\u03b2\\u03af\\u03b1\"], [\"\\u03a3\\u03b1\\u03bf\\u03c5\\u03b4\\u03b9\\u03ba\\u03ae \\u0391\\u03c1\\u03b1\\u03b2\\u03af\\u03b1\"], [\"\\u03a3\\u03b1\\u03bf\\u03c5\\u03b4\\u03b9\\u03ba\\u03ae \\u0391\\u03c1\\u03b1\\u03b2\\u03af\\u03b1\"], [\"\\u03a3\\u03b1\\u03bf\\u03c5\\u03b4\\u03b9\\u03ba\\u03ae \\u0391\\u03c1\\u03b1\\u03b2\\u03af\\u03b1\"], [\"\\u03a3\\u03b1\\u03bf\\u03c5\\u03b4\\u03b9\\u03ba\\u03ae \\u0391\\u03c1\\u03b1\\u03b2\\u03af\\u03b1\"], [\"\\u03a3\\u03b1\\u03bf\\u03c5\\u03b4\\u03b9\\u03ba\\u03ae \\u0391\\u03c1\\u03b1\\u03b2\\u03af\\u03b1\"], [\"\\u03a3\\u03b1\\u03bf\\u03c5\\u03b4\\u03b9\\u03ba\\u03ae \\u0391\\u03c1\\u03b1\\u03b2\\u03af\\u03b1\"], [\"\\u03a3\\u03b1\\u03bf\\u03c5\\u03b4\\u03b9\\u03ba\\u03ae \\u0391\\u03c1\\u03b1\\u03b2\\u03af\\u03b1\"], [\"\\u03a3\\u03b1\\u03bf\\u03c5\\u03b4\\u03b9\\u03ba\\u03ae \\u0391\\u03c1\\u03b1\\u03b2\\u03af\\u03b1\"], [\"\\u03a3\\u03b1\\u03bf\\u03c5\\u03b4\\u03b9\\u03ba\\u03ae \\u0391\\u03c1\\u03b1\\u03b2\\u03af\\u03b1\"]], \"hoverlabel\": {\"namelength\": 0}, \"hovertemplate\": \"\\u03a7\\u03ce\\u03c1\\u03b1=%{customdata[0]}<br>\\u0391\\u03c1\\u03b9\\u03b8\\u03bc\\u03cc\\u03c2 \\u039a\\u03c1\\u03bf\\u03c5\\u03c3\\u03bc\\u03ac\\u03c4\\u03c9\\u03bd=%{y}\", \"legendgroup\": \"\\u03a3\\u03b1\\u03bf\\u03c5\\u03b4\\u03b9\\u03ba\\u03ae \\u0391\\u03c1\\u03b1\\u03b2\\u03af\\u03b1\", \"line\": {\"color\": \"rgb(189,189,189)\", \"dash\": \"solid\", \"shape\": \"spline\"}, \"mode\": \"lines\", \"name\": \"\\u03a3\\u03b1\\u03bf\\u03c5\\u03b4\\u03b9\\u03ba\\u03ae \\u0391\\u03c1\\u03b1\\u03b2\\u03af\\u03b1\", \"showlegend\": true, \"type\": \"scatter\", \"xaxis\": \"x\", \"y\": [10, 16, 21, 25, 29, 34, 38, 41, 41, 44, 47, 52, 59], \"yaxis\": \"y\"}, {\"customdata\": [[\"\\u03a3\\u03b5\\u03c1\\u03b2\\u03af\\u03b1\"], [\"\\u03a3\\u03b5\\u03c1\\u03b2\\u03af\\u03b1\"], [\"\\u03a3\\u03b5\\u03c1\\u03b2\\u03af\\u03b1\"], [\"\\u03a3\\u03b5\\u03c1\\u03b2\\u03af\\u03b1\"], [\"\\u03a3\\u03b5\\u03c1\\u03b2\\u03af\\u03b1\"], [\"\\u03a3\\u03b5\\u03c1\\u03b2\\u03af\\u03b1\"], [\"\\u03a3\\u03b5\\u03c1\\u03b2\\u03af\\u03b1\"], [\"\\u03a3\\u03b5\\u03c1\\u03b2\\u03af\\u03b1\"], [\"\\u03a3\\u03b5\\u03c1\\u03b2\\u03af\\u03b1\"], [\"\\u03a3\\u03b5\\u03c1\\u03b2\\u03af\\u03b1\"], [\"\\u03a3\\u03b5\\u03c1\\u03b2\\u03af\\u03b1\"], [\"\\u03a3\\u03b5\\u03c1\\u03b2\\u03af\\u03b1\"], [\"\\u03a3\\u03b5\\u03c1\\u03b2\\u03af\\u03b1\"], [\"\\u03a3\\u03b5\\u03c1\\u03b2\\u03af\\u03b1\"], [\"\\u03a3\\u03b5\\u03c1\\u03b2\\u03af\\u03b1\"], [\"\\u03a3\\u03b5\\u03c1\\u03b2\\u03af\\u03b1\"]], \"hoverlabel\": {\"namelength\": 0}, \"hovertemplate\": \"\\u03a7\\u03ce\\u03c1\\u03b1=%{customdata[0]}<br>\\u0391\\u03c1\\u03b9\\u03b8\\u03bc\\u03cc\\u03c2 \\u039a\\u03c1\\u03bf\\u03c5\\u03c3\\u03bc\\u03ac\\u03c4\\u03c9\\u03bd=%{y}\", \"legendgroup\": \"\\u03a3\\u03b5\\u03c1\\u03b2\\u03af\\u03b1\", \"line\": {\"color\": \"rgb(189,189,189)\", \"dash\": \"solid\", \"shape\": \"spline\"}, \"mode\": \"lines\", \"name\": \"\\u03a3\\u03b5\\u03c1\\u03b2\\u03af\\u03b1\", \"showlegend\": true, \"type\": \"scatter\", \"xaxis\": \"x\", \"y\": [10, 13, 16, 16, 28, 31, 39, 44, 51, 58, 61, 65, 66, 71, 74, 80], \"yaxis\": \"y\"}, {\"customdata\": [[\"\\u03a3\\u03bb\\u03bf\\u03b2\\u03b5\\u03bd\\u03af\\u03b1\"], [\"\\u03a3\\u03bb\\u03bf\\u03b2\\u03b5\\u03bd\\u03af\\u03b1\"], [\"\\u03a3\\u03bb\\u03bf\\u03b2\\u03b5\\u03bd\\u03af\\u03b1\"], [\"\\u03a3\\u03bb\\u03bf\\u03b2\\u03b5\\u03bd\\u03af\\u03b1\"], [\"\\u03a3\\u03bb\\u03bf\\u03b2\\u03b5\\u03bd\\u03af\\u03b1\"], [\"\\u03a3\\u03bb\\u03bf\\u03b2\\u03b5\\u03bd\\u03af\\u03b1\"], [\"\\u03a3\\u03bb\\u03bf\\u03b2\\u03b5\\u03bd\\u03af\\u03b1\"], [\"\\u03a3\\u03bb\\u03bf\\u03b2\\u03b5\\u03bd\\u03af\\u03b1\"], [\"\\u03a3\\u03bb\\u03bf\\u03b2\\u03b5\\u03bd\\u03af\\u03b1\"], [\"\\u03a3\\u03bb\\u03bf\\u03b2\\u03b5\\u03bd\\u03af\\u03b1\"], [\"\\u03a3\\u03bb\\u03bf\\u03b2\\u03b5\\u03bd\\u03af\\u03b1\"], [\"\\u03a3\\u03bb\\u03bf\\u03b2\\u03b5\\u03bd\\u03af\\u03b1\"], [\"\\u03a3\\u03bb\\u03bf\\u03b2\\u03b5\\u03bd\\u03af\\u03b1\"], [\"\\u03a3\\u03bb\\u03bf\\u03b2\\u03b5\\u03bd\\u03af\\u03b1\"], [\"\\u03a3\\u03bb\\u03bf\\u03b2\\u03b5\\u03bd\\u03af\\u03b1\"]], \"hoverlabel\": {\"namelength\": 0}, \"hovertemplate\": \"\\u03a7\\u03ce\\u03c1\\u03b1=%{customdata[0]}<br>\\u0391\\u03c1\\u03b9\\u03b8\\u03bc\\u03cc\\u03c2 \\u039a\\u03c1\\u03bf\\u03c5\\u03c3\\u03bc\\u03ac\\u03c4\\u03c9\\u03bd=%{y}\", \"legendgroup\": \"\\u03a3\\u03bb\\u03bf\\u03b2\\u03b5\\u03bd\\u03af\\u03b1\", \"line\": {\"color\": \"rgb(189,189,189)\", \"dash\": \"solid\", \"shape\": \"spline\"}, \"mode\": \"lines\", \"name\": \"\\u03a3\\u03bb\\u03bf\\u03b2\\u03b5\\u03bd\\u03af\\u03b1\", \"showlegend\": true, \"type\": \"scatter\", \"xaxis\": \"x\", \"y\": [11, 11, 15, 15, 17, 20, 22, 28, 30, 36, 40, 43, 45, 50, 53], \"yaxis\": \"y\"}, {\"customdata\": [[\"\\u039d\\u03cc\\u03c4\\u03b9\\u03b1 \\u0391\\u03c6\\u03c1\\u03b9\\u03ba\\u03ae\"], [\"\\u039d\\u03cc\\u03c4\\u03b9\\u03b1 \\u0391\\u03c6\\u03c1\\u03b9\\u03ba\\u03ae\"], [\"\\u039d\\u03cc\\u03c4\\u03b9\\u03b1 \\u0391\\u03c6\\u03c1\\u03b9\\u03ba\\u03ae\"], [\"\\u039d\\u03cc\\u03c4\\u03b9\\u03b1 \\u0391\\u03c6\\u03c1\\u03b9\\u03ba\\u03ae\"], [\"\\u039d\\u03cc\\u03c4\\u03b9\\u03b1 \\u0391\\u03c6\\u03c1\\u03b9\\u03ba\\u03ae\"], [\"\\u039d\\u03cc\\u03c4\\u03b9\\u03b1 \\u0391\\u03c6\\u03c1\\u03b9\\u03ba\\u03ae\"], [\"\\u039d\\u03cc\\u03c4\\u03b9\\u03b1 \\u0391\\u03c6\\u03c1\\u03b9\\u03ba\\u03ae\"], [\"\\u039d\\u03cc\\u03c4\\u03b9\\u03b1 \\u0391\\u03c6\\u03c1\\u03b9\\u03ba\\u03ae\"]], \"hoverlabel\": {\"namelength\": 0}, \"hovertemplate\": \"\\u03a7\\u03ce\\u03c1\\u03b1=%{customdata[0]}<br>\\u0391\\u03c1\\u03b9\\u03b8\\u03bc\\u03cc\\u03c2 \\u039a\\u03c1\\u03bf\\u03c5\\u03c3\\u03bc\\u03ac\\u03c4\\u03c9\\u03bd=%{y}\", \"legendgroup\": \"\\u039d\\u03cc\\u03c4\\u03b9\\u03b1 \\u0391\\u03c6\\u03c1\\u03b9\\u03ba\\u03ae\", \"line\": {\"color\": \"rgb(189,189,189)\", \"dash\": \"solid\", \"shape\": \"spline\"}, \"mode\": \"lines\", \"name\": \"\\u039d\\u03cc\\u03c4\\u03b9\\u03b1 \\u0391\\u03c6\\u03c1\\u03b9\\u03ba\\u03ae\", \"showlegend\": true, \"type\": \"scatter\", \"xaxis\": \"x\", \"y\": [11, 12, 13, 18, 18, 24, 25, 25], \"yaxis\": \"y\"}, {\"customdata\": [[\"\\u03a3\\u03bf\\u03c5\\u03b7\\u03b4\\u03af\\u03b1\"], [\"\\u03a3\\u03bf\\u03c5\\u03b7\\u03b4\\u03af\\u03b1\"], [\"\\u03a3\\u03bf\\u03c5\\u03b7\\u03b4\\u03af\\u03b1\"], [\"\\u03a3\\u03bf\\u03c5\\u03b7\\u03b4\\u03af\\u03b1\"], [\"\\u03a3\\u03bf\\u03c5\\u03b7\\u03b4\\u03af\\u03b1\"], [\"\\u03a3\\u03bf\\u03c5\\u03b7\\u03b4\\u03af\\u03b1\"], [\"\\u03a3\\u03bf\\u03c5\\u03b7\\u03b4\\u03af\\u03b1\"], [\"\\u03a3\\u03bf\\u03c5\\u03b7\\u03b4\\u03af\\u03b1\"], [\"\\u03a3\\u03bf\\u03c5\\u03b7\\u03b4\\u03af\\u03b1\"], [\"\\u03a3\\u03bf\\u03c5\\u03b7\\u03b4\\u03af\\u03b1\"], [\"\\u03a3\\u03bf\\u03c5\\u03b7\\u03b4\\u03af\\u03b1\"], [\"\\u03a3\\u03bf\\u03c5\\u03b7\\u03b4\\u03af\\u03b1\"], [\"\\u03a3\\u03bf\\u03c5\\u03b7\\u03b4\\u03af\\u03b1\"], [\"\\u03a3\\u03bf\\u03c5\\u03b7\\u03b4\\u03af\\u03b1\"], [\"\\u03a3\\u03bf\\u03c5\\u03b7\\u03b4\\u03af\\u03b1\"], [\"\\u03a3\\u03bf\\u03c5\\u03b7\\u03b4\\u03af\\u03b1\"], [\"\\u03a3\\u03bf\\u03c5\\u03b7\\u03b4\\u03af\\u03b1\"], [\"\\u03a3\\u03bf\\u03c5\\u03b7\\u03b4\\u03af\\u03b1\"], [\"\\u03a3\\u03bf\\u03c5\\u03b7\\u03b4\\u03af\\u03b1\"], [\"\\u03a3\\u03bf\\u03c5\\u03b7\\u03b4\\u03af\\u03b1\"], [\"\\u03a3\\u03bf\\u03c5\\u03b7\\u03b4\\u03af\\u03b1\"], [\"\\u03a3\\u03bf\\u03c5\\u03b7\\u03b4\\u03af\\u03b1\"], [\"\\u03a3\\u03bf\\u03c5\\u03b7\\u03b4\\u03af\\u03b1\"], [\"\\u03a3\\u03bf\\u03c5\\u03b7\\u03b4\\u03af\\u03b1\"], [\"\\u03a3\\u03bf\\u03c5\\u03b7\\u03b4\\u03af\\u03b1\"], [\"\\u03a3\\u03bf\\u03c5\\u03b7\\u03b4\\u03af\\u03b1\"]], \"hoverlabel\": {\"namelength\": 0}, \"hovertemplate\": \"\\u03a7\\u03ce\\u03c1\\u03b1=%{customdata[0]}<br>\\u0391\\u03c1\\u03b9\\u03b8\\u03bc\\u03cc\\u03c2 \\u039a\\u03c1\\u03bf\\u03c5\\u03c3\\u03bc\\u03ac\\u03c4\\u03c9\\u03bd=%{y}\", \"legendgroup\": \"\\u03a3\\u03bf\\u03c5\\u03b7\\u03b4\\u03af\\u03b1\", \"line\": {\"color\": \"rgb(189,189,189)\", \"dash\": \"solid\", \"shape\": \"spline\"}, \"mode\": \"lines\", \"name\": \"\\u03a3\\u03bf\\u03c5\\u03b7\\u03b4\\u03af\\u03b1\", \"showlegend\": true, \"type\": \"scatter\", \"xaxis\": \"x\", \"y\": [10, 11, 16, 20, 21, 25, 36, 62, 77, 105, 105, 110, 146, 180, 239, 308, 358, 373, 401, 477, 591, 687, 793, 870, 887, 899], \"yaxis\": \"y\"}, {\"customdata\": [[\"\\u0395\\u03bb\\u03b2\\u03b5\\u03c4\\u03af\\u03b1\"], [\"\\u0395\\u03bb\\u03b2\\u03b5\\u03c4\\u03af\\u03b1\"], [\"\\u0395\\u03bb\\u03b2\\u03b5\\u03c4\\u03af\\u03b1\"], [\"\\u0395\\u03bb\\u03b2\\u03b5\\u03c4\\u03af\\u03b1\"], [\"\\u0395\\u03bb\\u03b2\\u03b5\\u03c4\\u03af\\u03b1\"], [\"\\u0395\\u03bb\\u03b2\\u03b5\\u03c4\\u03af\\u03b1\"], [\"\\u0395\\u03bb\\u03b2\\u03b5\\u03c4\\u03af\\u03b1\"], [\"\\u0395\\u03bb\\u03b2\\u03b5\\u03c4\\u03af\\u03b1\"], [\"\\u0395\\u03bb\\u03b2\\u03b5\\u03c4\\u03af\\u03b1\"], [\"\\u0395\\u03bb\\u03b2\\u03b5\\u03c4\\u03af\\u03b1\"], [\"\\u0395\\u03bb\\u03b2\\u03b5\\u03c4\\u03af\\u03b1\"], [\"\\u0395\\u03bb\\u03b2\\u03b5\\u03c4\\u03af\\u03b1\"], [\"\\u0395\\u03bb\\u03b2\\u03b5\\u03c4\\u03af\\u03b1\"], [\"\\u0395\\u03bb\\u03b2\\u03b5\\u03c4\\u03af\\u03b1\"], [\"\\u0395\\u03bb\\u03b2\\u03b5\\u03c4\\u03af\\u03b1\"], [\"\\u0395\\u03bb\\u03b2\\u03b5\\u03c4\\u03af\\u03b1\"], [\"\\u0395\\u03bb\\u03b2\\u03b5\\u03c4\\u03af\\u03b1\"], [\"\\u0395\\u03bb\\u03b2\\u03b5\\u03c4\\u03af\\u03b1\"], [\"\\u0395\\u03bb\\u03b2\\u03b5\\u03c4\\u03af\\u03b1\"], [\"\\u0395\\u03bb\\u03b2\\u03b5\\u03c4\\u03af\\u03b1\"], [\"\\u0395\\u03bb\\u03b2\\u03b5\\u03c4\\u03af\\u03b1\"], [\"\\u0395\\u03bb\\u03b2\\u03b5\\u03c4\\u03af\\u03b1\"], [\"\\u0395\\u03bb\\u03b2\\u03b5\\u03c4\\u03af\\u03b1\"], [\"\\u0395\\u03bb\\u03b2\\u03b5\\u03c4\\u03af\\u03b1\"], [\"\\u0395\\u03bb\\u03b2\\u03b5\\u03c4\\u03af\\u03b1\"], [\"\\u0395\\u03bb\\u03b2\\u03b5\\u03c4\\u03af\\u03b1\"], [\"\\u0395\\u03bb\\u03b2\\u03b5\\u03c4\\u03af\\u03b1\"], [\"\\u0395\\u03bb\\u03b2\\u03b5\\u03c4\\u03af\\u03b1\"], [\"\\u0395\\u03bb\\u03b2\\u03b5\\u03c4\\u03af\\u03b1\"], [\"\\u0395\\u03bb\\u03b2\\u03b5\\u03c4\\u03af\\u03b1\"], [\"\\u0395\\u03bb\\u03b2\\u03b5\\u03c4\\u03af\\u03b1\"]], \"hoverlabel\": {\"namelength\": 0}, \"hovertemplate\": \"\\u03a7\\u03ce\\u03c1\\u03b1=%{customdata[0]}<br>\\u0391\\u03c1\\u03b9\\u03b8\\u03bc\\u03cc\\u03c2 \\u039a\\u03c1\\u03bf\\u03c5\\u03c3\\u03bc\\u03ac\\u03c4\\u03c9\\u03bd=%{y}\", \"legendgroup\": \"\\u0395\\u03bb\\u03b2\\u03b5\\u03c4\\u03af\\u03b1\", \"line\": {\"color\": \"rgb(189,189,189)\", \"dash\": \"solid\", \"shape\": \"spline\"}, \"mode\": \"lines\", \"name\": \"\\u0395\\u03bb\\u03b2\\u03b5\\u03c4\\u03af\\u03b1\", \"showlegend\": true, \"type\": \"scatter\", \"xaxis\": \"x\", \"y\": [11, 13, 14, 14, 27, 28, 41, 54, 75, 98, 120, 122, 153, 191, 231, 264, 300, 359, 433, 488, 536, 591, 666, 715, 765, 821, 895, 948, 1002, 1036, 1106], \"yaxis\": \"y\"}, {\"customdata\": [[\"\\u03a4\\u03b1\\u03ca\\u03bb\\u03ac\\u03bd\\u03b4\\u03b7\"], [\"\\u03a4\\u03b1\\u03ca\\u03bb\\u03ac\\u03bd\\u03b4\\u03b7\"], [\"\\u03a4\\u03b1\\u03ca\\u03bb\\u03ac\\u03bd\\u03b4\\u03b7\"], [\"\\u03a4\\u03b1\\u03ca\\u03bb\\u03ac\\u03bd\\u03b4\\u03b7\"], [\"\\u03a4\\u03b1\\u03ca\\u03bb\\u03ac\\u03bd\\u03b4\\u03b7\"], [\"\\u03a4\\u03b1\\u03ca\\u03bb\\u03ac\\u03bd\\u03b4\\u03b7\"], [\"\\u03a4\\u03b1\\u03ca\\u03bb\\u03ac\\u03bd\\u03b4\\u03b7\"], [\"\\u03a4\\u03b1\\u03ca\\u03bb\\u03ac\\u03bd\\u03b4\\u03b7\"], [\"\\u03a4\\u03b1\\u03ca\\u03bb\\u03ac\\u03bd\\u03b4\\u03b7\"], [\"\\u03a4\\u03b1\\u03ca\\u03bb\\u03ac\\u03bd\\u03b4\\u03b7\"], [\"\\u03a4\\u03b1\\u03ca\\u03bb\\u03ac\\u03bd\\u03b4\\u03b7\"], [\"\\u03a4\\u03b1\\u03ca\\u03bb\\u03ac\\u03bd\\u03b4\\u03b7\"], [\"\\u03a4\\u03b1\\u03ca\\u03bb\\u03ac\\u03bd\\u03b4\\u03b7\"]], \"hoverlabel\": {\"namelength\": 0}, \"hovertemplate\": \"\\u03a7\\u03ce\\u03c1\\u03b1=%{customdata[0]}<br>\\u0391\\u03c1\\u03b9\\u03b8\\u03bc\\u03cc\\u03c2 \\u039a\\u03c1\\u03bf\\u03c5\\u03c3\\u03bc\\u03ac\\u03c4\\u03c9\\u03bd=%{y}\", \"legendgroup\": \"\\u03a4\\u03b1\\u03ca\\u03bb\\u03ac\\u03bd\\u03b4\\u03b7\", \"line\": {\"color\": \"rgb(189,189,189)\", \"dash\": \"solid\", \"shape\": \"spline\"}, \"mode\": \"lines\", \"name\": \"\\u03a4\\u03b1\\u03ca\\u03bb\\u03ac\\u03bd\\u03b4\\u03b7\", \"showlegend\": true, \"type\": \"scatter\", \"xaxis\": \"x\", \"y\": [10, 12, 15, 19, 20, 23, 26, 27, 30, 32, 33, 35, 38], \"yaxis\": \"y\"}, {\"customdata\": [[\"\\u03a4\\u03c5\\u03bd\\u03b7\\u03c3\\u03af\\u03b1\"], [\"\\u03a4\\u03c5\\u03bd\\u03b7\\u03c3\\u03af\\u03b1\"], [\"\\u03a4\\u03c5\\u03bd\\u03b7\\u03c3\\u03af\\u03b1\"], [\"\\u03a4\\u03c5\\u03bd\\u03b7\\u03c3\\u03af\\u03b1\"], [\"\\u03a4\\u03c5\\u03bd\\u03b7\\u03c3\\u03af\\u03b1\"], [\"\\u03a4\\u03c5\\u03bd\\u03b7\\u03c3\\u03af\\u03b1\"], [\"\\u03a4\\u03c5\\u03bd\\u03b7\\u03c3\\u03af\\u03b1\"], [\"\\u03a4\\u03c5\\u03bd\\u03b7\\u03c3\\u03af\\u03b1\"], [\"\\u03a4\\u03c5\\u03bd\\u03b7\\u03c3\\u03af\\u03b1\"], [\"\\u03a4\\u03c5\\u03bd\\u03b7\\u03c3\\u03af\\u03b1\"], [\"\\u03a4\\u03c5\\u03bd\\u03b7\\u03c3\\u03af\\u03b1\"], [\"\\u03a4\\u03c5\\u03bd\\u03b7\\u03c3\\u03af\\u03b1\"], [\"\\u03a4\\u03c5\\u03bd\\u03b7\\u03c3\\u03af\\u03b1\"]], \"hoverlabel\": {\"namelength\": 0}, \"hovertemplate\": \"\\u03a7\\u03ce\\u03c1\\u03b1=%{customdata[0]}<br>\\u0391\\u03c1\\u03b9\\u03b8\\u03bc\\u03cc\\u03c2 \\u039a\\u03c1\\u03bf\\u03c5\\u03c3\\u03bc\\u03ac\\u03c4\\u03c9\\u03bd=%{y}\", \"legendgroup\": \"\\u03a4\\u03c5\\u03bd\\u03b7\\u03c3\\u03af\\u03b1\", \"line\": {\"color\": \"rgb(189,189,189)\", \"dash\": \"solid\", \"shape\": \"spline\"}, \"mode\": \"lines\", \"name\": \"\\u03a4\\u03c5\\u03bd\\u03b7\\u03c3\\u03af\\u03b1\", \"showlegend\": true, \"type\": \"scatter\", \"xaxis\": \"x\", \"y\": [10, 12, 14, 18, 18, 22, 22, 23, 24, 25, 25, 28, 31], \"yaxis\": \"y\"}, {\"customdata\": [[\"\\u03a4\\u03bf\\u03c5\\u03c1\\u03ba\\u03af\\u03b1\"], [\"\\u03a4\\u03bf\\u03c5\\u03c1\\u03ba\\u03af\\u03b1\"], [\"\\u03a4\\u03bf\\u03c5\\u03c1\\u03ba\\u03af\\u03b1\"], [\"\\u03a4\\u03bf\\u03c5\\u03c1\\u03ba\\u03af\\u03b1\"], [\"\\u03a4\\u03bf\\u03c5\\u03c1\\u03ba\\u03af\\u03b1\"], [\"\\u03a4\\u03bf\\u03c5\\u03c1\\u03ba\\u03af\\u03b1\"], [\"\\u03a4\\u03bf\\u03c5\\u03c1\\u03ba\\u03af\\u03b1\"], [\"\\u03a4\\u03bf\\u03c5\\u03c1\\u03ba\\u03af\\u03b1\"], [\"\\u03a4\\u03bf\\u03c5\\u03c1\\u03ba\\u03af\\u03b1\"], [\"\\u03a4\\u03bf\\u03c5\\u03c1\\u03ba\\u03af\\u03b1\"], [\"\\u03a4\\u03bf\\u03c5\\u03c1\\u03ba\\u03af\\u03b1\"], [\"\\u03a4\\u03bf\\u03c5\\u03c1\\u03ba\\u03af\\u03b1\"], [\"\\u03a4\\u03bf\\u03c5\\u03c1\\u03ba\\u03af\\u03b1\"], [\"\\u03a4\\u03bf\\u03c5\\u03c1\\u03ba\\u03af\\u03b1\"], [\"\\u03a4\\u03bf\\u03c5\\u03c1\\u03ba\\u03af\\u03b1\"], [\"\\u03a4\\u03bf\\u03c5\\u03c1\\u03ba\\u03af\\u03b1\"], [\"\\u03a4\\u03bf\\u03c5\\u03c1\\u03ba\\u03af\\u03b1\"], [\"\\u03a4\\u03bf\\u03c5\\u03c1\\u03ba\\u03af\\u03b1\"], [\"\\u03a4\\u03bf\\u03c5\\u03c1\\u03ba\\u03af\\u03b1\"], [\"\\u03a4\\u03bf\\u03c5\\u03c1\\u03ba\\u03af\\u03b1\"], [\"\\u03a4\\u03bf\\u03c5\\u03c1\\u03ba\\u03af\\u03b1\"], [\"\\u03a4\\u03bf\\u03c5\\u03c1\\u03ba\\u03af\\u03b1\"]], \"hoverlabel\": {\"namelength\": 0}, \"hovertemplate\": \"\\u03a7\\u03ce\\u03c1\\u03b1=%{customdata[0]}<br>\\u0391\\u03c1\\u03b9\\u03b8\\u03bc\\u03cc\\u03c2 \\u039a\\u03c1\\u03bf\\u03c5\\u03c3\\u03bc\\u03ac\\u03c4\\u03c9\\u03bd=%{y}\", \"legendgroup\": \"\\u03a4\\u03bf\\u03c5\\u03c1\\u03ba\\u03af\\u03b1\", \"line\": {\"color\": \"rgb(189,189,189)\", \"dash\": \"solid\", \"shape\": \"spline\"}, \"mode\": \"lines\", \"name\": \"\\u03a4\\u03bf\\u03c5\\u03c1\\u03ba\\u03af\\u03b1\", \"showlegend\": true, \"type\": \"scatter\", \"xaxis\": \"x\", \"y\": [30, 37, 44, 59, 75, 92, 108, 131, 168, 214, 277, 356, 425, 501, 574, 649, 725, 812, 908, 1006, 1101, 1198], \"yaxis\": \"y\"}, {\"customdata\": [[\"\\u039f\\u03c5\\u03ba\\u03c1\\u03b1\\u03bd\\u03af\\u03b1\"], [\"\\u039f\\u03c5\\u03ba\\u03c1\\u03b1\\u03bd\\u03af\\u03b1\"], [\"\\u039f\\u03c5\\u03ba\\u03c1\\u03b1\\u03bd\\u03af\\u03b1\"], [\"\\u039f\\u03c5\\u03ba\\u03c1\\u03b1\\u03bd\\u03af\\u03b1\"], [\"\\u039f\\u03c5\\u03ba\\u03c1\\u03b1\\u03bd\\u03af\\u03b1\"], [\"\\u039f\\u03c5\\u03ba\\u03c1\\u03b1\\u03bd\\u03af\\u03b1\"], [\"\\u039f\\u03c5\\u03ba\\u03c1\\u03b1\\u03bd\\u03af\\u03b1\"], [\"\\u039f\\u03c5\\u03ba\\u03c1\\u03b1\\u03bd\\u03af\\u03b1\"], [\"\\u039f\\u03c5\\u03ba\\u03c1\\u03b1\\u03bd\\u03af\\u03b1\"], [\"\\u039f\\u03c5\\u03ba\\u03c1\\u03b1\\u03bd\\u03af\\u03b1\"], [\"\\u039f\\u03c5\\u03ba\\u03c1\\u03b1\\u03bd\\u03af\\u03b1\"], [\"\\u039f\\u03c5\\u03ba\\u03c1\\u03b1\\u03bd\\u03af\\u03b1\"], [\"\\u039f\\u03c5\\u03ba\\u03c1\\u03b1\\u03bd\\u03af\\u03b1\"], [\"\\u039f\\u03c5\\u03ba\\u03c1\\u03b1\\u03bd\\u03af\\u03b1\"], [\"\\u039f\\u03c5\\u03ba\\u03c1\\u03b1\\u03bd\\u03af\\u03b1\"]], \"hoverlabel\": {\"namelength\": 0}, \"hovertemplate\": \"\\u03a7\\u03ce\\u03c1\\u03b1=%{customdata[0]}<br>\\u0391\\u03c1\\u03b9\\u03b8\\u03bc\\u03cc\\u03c2 \\u039a\\u03c1\\u03bf\\u03c5\\u03c3\\u03bc\\u03ac\\u03c4\\u03c9\\u03bd=%{y}\", \"legendgroup\": \"\\u039f\\u03c5\\u03ba\\u03c1\\u03b1\\u03bd\\u03af\\u03b1\", \"line\": {\"color\": \"rgb(189,189,189)\", \"dash\": \"solid\", \"shape\": \"spline\"}, \"mode\": \"lines\", \"name\": \"\\u039f\\u03c5\\u03ba\\u03c1\\u03b1\\u03bd\\u03af\\u03b1\", \"showlegend\": true, \"type\": \"scatter\", \"xaxis\": \"x\", \"y\": [10, 13, 17, 20, 22, 27, 32, 37, 38, 45, 52, 57, 69, 73, 83], \"yaxis\": \"y\"}, {\"customdata\": [[\"\\u0397\\u03bd. \\u0391\\u03c1\\u03b1\\u03b2\\u03b9\\u03ba\\u03ac \\u0395\\u03bc\\u03b9\\u03c1\\u03ac\\u03c4\\u03b1\"], [\"\\u0397\\u03bd. \\u0391\\u03c1\\u03b1\\u03b2\\u03b9\\u03ba\\u03ac \\u0395\\u03bc\\u03b9\\u03c1\\u03ac\\u03c4\\u03b1\"], [\"\\u0397\\u03bd. \\u0391\\u03c1\\u03b1\\u03b2\\u03b9\\u03ba\\u03ac \\u0395\\u03bc\\u03b9\\u03c1\\u03ac\\u03c4\\u03b1\"], [\"\\u0397\\u03bd. \\u0391\\u03c1\\u03b1\\u03b2\\u03b9\\u03ba\\u03ac \\u0395\\u03bc\\u03b9\\u03c1\\u03ac\\u03c4\\u03b1\"], [\"\\u0397\\u03bd. \\u0391\\u03c1\\u03b1\\u03b2\\u03b9\\u03ba\\u03ac \\u0395\\u03bc\\u03b9\\u03c1\\u03ac\\u03c4\\u03b1\"], [\"\\u0397\\u03bd. \\u0391\\u03c1\\u03b1\\u03b2\\u03b9\\u03ba\\u03ac \\u0395\\u03bc\\u03b9\\u03c1\\u03ac\\u03c4\\u03b1\"], [\"\\u0397\\u03bd. \\u0391\\u03c1\\u03b1\\u03b2\\u03b9\\u03ba\\u03ac \\u0395\\u03bc\\u03b9\\u03c1\\u03ac\\u03c4\\u03b1\"], [\"\\u0397\\u03bd. \\u0391\\u03c1\\u03b1\\u03b2\\u03b9\\u03ba\\u03ac \\u0395\\u03bc\\u03b9\\u03c1\\u03ac\\u03c4\\u03b1\"], [\"\\u0397\\u03bd. \\u0391\\u03c1\\u03b1\\u03b2\\u03b9\\u03ba\\u03ac \\u0395\\u03bc\\u03b9\\u03c1\\u03ac\\u03c4\\u03b1\"]], \"hoverlabel\": {\"namelength\": 0}, \"hovertemplate\": \"\\u03a7\\u03ce\\u03c1\\u03b1=%{customdata[0]}<br>\\u0391\\u03c1\\u03b9\\u03b8\\u03bc\\u03cc\\u03c2 \\u039a\\u03c1\\u03bf\\u03c5\\u03c3\\u03bc\\u03ac\\u03c4\\u03c9\\u03bd=%{y}\", \"legendgroup\": \"\\u0397\\u03bd. \\u0391\\u03c1\\u03b1\\u03b2\\u03b9\\u03ba\\u03ac \\u0395\\u03bc\\u03b9\\u03c1\\u03ac\\u03c4\\u03b1\", \"line\": {\"color\": \"rgb(189,189,189)\", \"dash\": \"solid\", \"shape\": \"spline\"}, \"mode\": \"lines\", \"name\": \"\\u0397\\u03bd. \\u0391\\u03c1\\u03b1\\u03b2\\u03b9\\u03ba\\u03ac \\u0395\\u03bc\\u03b9\\u03c1\\u03ac\\u03c4\\u03b1\", \"showlegend\": true, \"type\": \"scatter\", \"xaxis\": \"x\", \"y\": [10, 10, 11, 12, 12, 14, 16, 20, 22], \"yaxis\": \"y\"}, {\"hovertemplate\": \"<b>%{y:.f}</b> \\u03ba\\u03c1\\u03bf\\u03cd\\u03c3\\u03bc\\u03b1\\u03c4\\u03b1 \\u03c3\\u03c4\\u03b7\\u03bd \\u0393\\u03b5\\u03c1\\u03bc\\u03b1\\u03bd\\u03af\\u03b1<extra></extra>\", \"line\": {\"color\": \"black\", \"width\": 2}, \"name\": \"\\u0393\\u03b5\\u03c1\\u03bc\\u03b1\\u03bd\\u03af\\u03b1\", \"type\": \"scatter\", \"y\": [11, 17, 24, 28, 44, 67, 84, 94, 123, 157, 206, 267, 342, 433, 533, 645, 775, 920, 1107, 1275, 1444, 1584, 1810, 2016, 2349, 2607, 2767, 2736, 3022]}, {\"hovertemplate\": \"<b>%{y:.f}</b> \\u03ba\\u03c1\\u03bf\\u03cd\\u03c3\\u03bc\\u03b1\\u03c4\\u03b1 \\u03c3\\u03c4\\u03b7\\u03bd \\u0399\\u03c4\\u03b1\\u03bb\\u03af\\u03b1<extra></extra>\", \"line\": {\"color\": \"#3E82B3\", \"width\": 2}, \"name\": \"\\u0399\\u03c4\\u03b1\\u03bb\\u03af\\u03b1\", \"type\": \"scatter\", \"y\": [12, 17, 21, 29, 34, 52, 79, 107, 148, 197, 233, 366, 463, 631, 827, 827, 1266, 1441, 1809, 2158, 2503, 2978, 3405, 4032, 4825, 5476, 6077, 6820, 7503, 8215, 9134, 10023, 10779, 11591, 12428, 13155, 13915, 14681, 15362, 15887, 16523, 17127, 17669, 18279, 18849, 19468, 19899]}, {\"hovertemplate\": \"<b>%{y:.f}</b> \\u03ba\\u03c1\\u03bf\\u03cd\\u03c3\\u03bc\\u03b1\\u03c4\\u03b1 \\u03c3\\u03c4\\u03bf \\u0397\\u03bd\\u03c9\\u03bc\\u03ad\\u03bd\\u03bf \\u0392\\u03b1\\u03c3\\u03af\\u03bb\\u03b5\\u03b9\\u03bf<extra></extra>\", \"line\": {\"color\": \"#FFD400\", \"width\": 2}, \"name\": \"\\u0397\\u03bd\\u03c9\\u03bc\\u03ad\\u03bd\\u03bf \\u0392\\u03b1\\u03c3\\u03af\\u03bb\\u03b5\\u03b9\\u03bf\", \"type\": \"scatter\", \"y\": [21, 21, 56, 56, 72, 138, 178, 234, 282, 336, 423, 466, 580, 761, 1021, 1231, 1411, 1793, 2357, 2926, 3611, 4320, 4943, 5385, 6171, 7111, 7993, 8974, 9892, 10629]}, {\"hovertemplate\": \"<b>%{y:.f}</b> \\u03ba\\u03c1\\u03bf\\u03cd\\u03c3\\u03bc\\u03b1\\u03c4\\u03b1 \\u03c3\\u03c4\\u03b9\\u03c2 \\u0397\\u03a0\\u0391<extra></extra>\", \"line\": {\"color\": \"lightgreen\", \"width\": 2}, \"name\": \"\\u0397\\u03a0\\u0391\", \"type\": \"scatter\", \"y\": [11, 12, 14, 17, 21, 22, 28, 36, 40, 47, 54, 63, 85, 108, 118, 200, 244, 307, 417, 557, 706, 942, 1209, 1581, 2026, 2467, 2978, 3873, 4757, 5926, 7087, 8407, 9619, 10783, 12722, 14695, 16478, 18586, 20463, 22020]}, {\"hovertemplate\": \"<b>%{y:.f}</b> \\u03ba\\u03c1\\u03bf\\u03cd\\u03c3\\u03bc\\u03b1\\u03c4\\u03b1 \\u03c3\\u03c4\\u03b7\\u03bd \\u0399\\u03c3\\u03c0\\u03b1\\u03bd\\u03af\\u03b1<extra></extra>\", \"line\": {\"color\": \"purple\", \"width\": 2}, \"name\": \"\\u0399\\u03c3\\u03c0\\u03b1\\u03bd\\u03af\\u03b1\", \"type\": \"scatter\", \"y\": [17, 28, 35, 54, 55, 133, 195, 289, 342, 533, 623, 830, 1043, 1375, 1772, 2311, 2808, 3647, 4365, 5138, 5982, 6803, 7716, 8464, 9387, 10348, 11198, 11947, 12641, 13341, 14045, 14792, 15447, 16081, 16606, 17209]}, {\"hovertemplate\": \"<b>%{y:.f}</b> \\u03ba\\u03c1\\u03bf\\u03cd\\u03c3\\u03bc\\u03b1\\u03c4\\u03b1 \\u03c3\\u03c4\\u03b7\\u03bd \\u0395\\u03bb\\u03bb\\u03ac\\u03b4\\u03b1<extra></extra>\", \"line\": {\"color\": \"#BA3A0A\", \"width\": 3}, \"name\": \"\\u0395\\u03bb\\u03bb\\u03ac\\u03b4\\u03b1\", \"type\": \"scatter\", \"y\": [13, 15, 17, 20, 22, 26, 28, 32, 38, 43, 49, 50, 53, 63, 68, 73, 79, 81, 83, 87, 92, 93, 98]}],\n",
       "                        {\"annotations\": [{\"showarrow\": false, \"text\": \"<i>\\u039b\\u03bf\\u03b3\\u03b1\\u03c1\\u03b9\\u03b8\\u03bc\\u03b9\\u03ba\\u03ae \\u03ba\\u03bb\\u03af\\u03bc\\u03b1\\u03ba\\u03b1</i>\", \"x\": -0.02, \"xref\": \"paper\", \"y\": 1.2, \"yref\": \"paper\"}], \"font\": {\"color\": \"#114B5F\", \"family\": \"Roboto\", \"size\": 11}, \"height\": 380, \"hoverlabel\": {\"align\": \"left\", \"bgcolor\": \"white\", \"font\": {\"family\": \"Roboto\", \"size\": 12}}, \"hovermode\": \"closest\", \"legend\": {\"bgcolor\": \"#E6ECEC\", \"bordercolor\": \"#dadada\", \"borderwidth\": 0.3, \"font\": {\"color\": \"black\", \"family\": \"roboto\", \"size\": 10}, \"itemsizing\": \"constant\", \"title\": {\"text\": \"\"}, \"tracegroupgap\": 0, \"traceorder\": \"reversed\"}, \"paper_bgcolor\": \"#E6ECEC\", \"plot_bgcolor\": \"#E6ECEC\", \"showlegend\": true, \"template\": {\"data\": {\"bar\": [{\"error_x\": {\"color\": \"#2a3f5f\"}, \"error_y\": {\"color\": \"#2a3f5f\"}, \"marker\": {\"line\": {\"color\": \"#E5ECF6\", \"width\": 0.5}}, \"type\": \"bar\"}], \"barpolar\": [{\"marker\": {\"line\": {\"color\": \"#E5ECF6\", \"width\": 0.5}}, \"type\": \"barpolar\"}], \"carpet\": [{\"aaxis\": {\"endlinecolor\": \"#2a3f5f\", \"gridcolor\": \"white\", \"linecolor\": \"white\", \"minorgridcolor\": \"white\", \"startlinecolor\": \"#2a3f5f\"}, \"baxis\": {\"endlinecolor\": \"#2a3f5f\", \"gridcolor\": \"white\", \"linecolor\": \"white\", \"minorgridcolor\": \"white\", \"startlinecolor\": \"#2a3f5f\"}, \"type\": \"carpet\"}], \"choropleth\": [{\"colorbar\": {\"outlinewidth\": 0, \"ticks\": \"\"}, \"type\": \"choropleth\"}], \"contour\": [{\"colorbar\": {\"outlinewidth\": 0, \"ticks\": \"\"}, \"colorscale\": [[0.0, \"#0d0887\"], [0.1111111111111111, \"#46039f\"], [0.2222222222222222, \"#7201a8\"], [0.3333333333333333, \"#9c179e\"], [0.4444444444444444, \"#bd3786\"], [0.5555555555555556, \"#d8576b\"], [0.6666666666666666, \"#ed7953\"], [0.7777777777777778, \"#fb9f3a\"], [0.8888888888888888, \"#fdca26\"], [1.0, \"#f0f921\"]], \"type\": \"contour\"}], \"contourcarpet\": [{\"colorbar\": {\"outlinewidth\": 0, \"ticks\": \"\"}, \"type\": \"contourcarpet\"}], \"heatmap\": [{\"colorbar\": {\"outlinewidth\": 0, \"ticks\": \"\"}, \"colorscale\": [[0.0, \"#0d0887\"], [0.1111111111111111, \"#46039f\"], [0.2222222222222222, \"#7201a8\"], [0.3333333333333333, \"#9c179e\"], [0.4444444444444444, \"#bd3786\"], [0.5555555555555556, \"#d8576b\"], [0.6666666666666666, \"#ed7953\"], [0.7777777777777778, \"#fb9f3a\"], [0.8888888888888888, \"#fdca26\"], [1.0, \"#f0f921\"]], \"type\": \"heatmap\"}], \"heatmapgl\": [{\"colorbar\": {\"outlinewidth\": 0, \"ticks\": \"\"}, \"colorscale\": [[0.0, \"#0d0887\"], [0.1111111111111111, \"#46039f\"], [0.2222222222222222, \"#7201a8\"], [0.3333333333333333, \"#9c179e\"], [0.4444444444444444, \"#bd3786\"], [0.5555555555555556, \"#d8576b\"], [0.6666666666666666, \"#ed7953\"], [0.7777777777777778, \"#fb9f3a\"], [0.8888888888888888, \"#fdca26\"], [1.0, \"#f0f921\"]], \"type\": \"heatmapgl\"}], \"histogram\": [{\"marker\": {\"colorbar\": {\"outlinewidth\": 0, \"ticks\": \"\"}}, \"type\": \"histogram\"}], \"histogram2d\": [{\"colorbar\": {\"outlinewidth\": 0, \"ticks\": \"\"}, \"colorscale\": [[0.0, \"#0d0887\"], [0.1111111111111111, \"#46039f\"], [0.2222222222222222, \"#7201a8\"], [0.3333333333333333, \"#9c179e\"], [0.4444444444444444, \"#bd3786\"], [0.5555555555555556, \"#d8576b\"], [0.6666666666666666, \"#ed7953\"], [0.7777777777777778, \"#fb9f3a\"], [0.8888888888888888, \"#fdca26\"], [1.0, \"#f0f921\"]], \"type\": \"histogram2d\"}], \"histogram2dcontour\": [{\"colorbar\": {\"outlinewidth\": 0, \"ticks\": \"\"}, \"colorscale\": [[0.0, \"#0d0887\"], [0.1111111111111111, \"#46039f\"], [0.2222222222222222, \"#7201a8\"], [0.3333333333333333, \"#9c179e\"], [0.4444444444444444, \"#bd3786\"], [0.5555555555555556, \"#d8576b\"], [0.6666666666666666, \"#ed7953\"], [0.7777777777777778, \"#fb9f3a\"], [0.8888888888888888, \"#fdca26\"], [1.0, \"#f0f921\"]], \"type\": \"histogram2dcontour\"}], \"mesh3d\": [{\"colorbar\": {\"outlinewidth\": 0, \"ticks\": \"\"}, \"type\": \"mesh3d\"}], \"parcoords\": [{\"line\": {\"colorbar\": {\"outlinewidth\": 0, \"ticks\": \"\"}}, \"type\": \"parcoords\"}], \"pie\": [{\"automargin\": true, \"type\": \"pie\"}], \"scatter\": [{\"marker\": {\"colorbar\": {\"outlinewidth\": 0, \"ticks\": \"\"}}, \"type\": \"scatter\"}], \"scatter3d\": [{\"line\": {\"colorbar\": {\"outlinewidth\": 0, \"ticks\": \"\"}}, \"marker\": {\"colorbar\": {\"outlinewidth\": 0, \"ticks\": \"\"}}, \"type\": \"scatter3d\"}], \"scattercarpet\": [{\"marker\": {\"colorbar\": {\"outlinewidth\": 0, \"ticks\": \"\"}}, \"type\": \"scattercarpet\"}], \"scattergeo\": [{\"marker\": {\"colorbar\": {\"outlinewidth\": 0, \"ticks\": \"\"}}, \"type\": \"scattergeo\"}], \"scattergl\": [{\"marker\": {\"colorbar\": {\"outlinewidth\": 0, \"ticks\": \"\"}}, \"type\": \"scattergl\"}], \"scattermapbox\": [{\"marker\": {\"colorbar\": {\"outlinewidth\": 0, \"ticks\": \"\"}}, \"type\": \"scattermapbox\"}], \"scatterpolar\": [{\"marker\": {\"colorbar\": {\"outlinewidth\": 0, \"ticks\": \"\"}}, \"type\": \"scatterpolar\"}], \"scatterpolargl\": [{\"marker\": {\"colorbar\": {\"outlinewidth\": 0, \"ticks\": \"\"}}, \"type\": \"scatterpolargl\"}], \"scatterternary\": [{\"marker\": {\"colorbar\": {\"outlinewidth\": 0, \"ticks\": \"\"}}, \"type\": \"scatterternary\"}], \"surface\": [{\"colorbar\": {\"outlinewidth\": 0, \"ticks\": \"\"}, \"colorscale\": [[0.0, \"#0d0887\"], [0.1111111111111111, \"#46039f\"], [0.2222222222222222, \"#7201a8\"], [0.3333333333333333, \"#9c179e\"], [0.4444444444444444, \"#bd3786\"], [0.5555555555555556, \"#d8576b\"], [0.6666666666666666, \"#ed7953\"], [0.7777777777777778, \"#fb9f3a\"], [0.8888888888888888, \"#fdca26\"], [1.0, \"#f0f921\"]], \"type\": \"surface\"}], \"table\": [{\"cells\": {\"fill\": {\"color\": \"#EBF0F8\"}, \"line\": {\"color\": \"white\"}}, \"header\": {\"fill\": {\"color\": \"#C8D4E3\"}, \"line\": {\"color\": \"white\"}}, \"type\": \"table\"}]}, \"layout\": {\"annotationdefaults\": {\"arrowcolor\": \"#2a3f5f\", \"arrowhead\": 0, \"arrowwidth\": 1}, \"coloraxis\": {\"colorbar\": {\"outlinewidth\": 0, \"ticks\": \"\"}}, \"colorscale\": {\"diverging\": [[0, \"#8e0152\"], [0.1, \"#c51b7d\"], [0.2, \"#de77ae\"], [0.3, \"#f1b6da\"], [0.4, \"#fde0ef\"], [0.5, \"#f7f7f7\"], [0.6, \"#e6f5d0\"], [0.7, \"#b8e186\"], [0.8, \"#7fbc41\"], [0.9, \"#4d9221\"], [1, \"#276419\"]], \"sequential\": [[0.0, \"#0d0887\"], [0.1111111111111111, \"#46039f\"], [0.2222222222222222, \"#7201a8\"], [0.3333333333333333, \"#9c179e\"], [0.4444444444444444, \"#bd3786\"], [0.5555555555555556, \"#d8576b\"], [0.6666666666666666, \"#ed7953\"], [0.7777777777777778, \"#fb9f3a\"], [0.8888888888888888, \"#fdca26\"], [1.0, \"#f0f921\"]], \"sequentialminus\": [[0.0, \"#0d0887\"], [0.1111111111111111, \"#46039f\"], [0.2222222222222222, \"#7201a8\"], [0.3333333333333333, \"#9c179e\"], [0.4444444444444444, \"#bd3786\"], [0.5555555555555556, \"#d8576b\"], [0.6666666666666666, \"#ed7953\"], [0.7777777777777778, \"#fb9f3a\"], [0.8888888888888888, \"#fdca26\"], [1.0, \"#f0f921\"]]}, \"colorway\": [\"#636efa\", \"#EF553B\", \"#00cc96\", \"#ab63fa\", \"#FFA15A\", \"#19d3f3\", \"#FF6692\", \"#B6E880\", \"#FF97FF\", \"#FECB52\"], \"font\": {\"color\": \"#2a3f5f\"}, \"geo\": {\"bgcolor\": \"white\", \"lakecolor\": \"white\", \"landcolor\": \"#E5ECF6\", \"showlakes\": true, \"showland\": true, \"subunitcolor\": \"white\"}, \"hoverlabel\": {\"align\": \"left\"}, \"hovermode\": \"closest\", \"mapbox\": {\"style\": \"light\"}, \"paper_bgcolor\": \"white\", \"plot_bgcolor\": \"#E5ECF6\", \"polar\": {\"angularaxis\": {\"gridcolor\": \"white\", \"linecolor\": \"white\", \"ticks\": \"\"}, \"bgcolor\": \"#E5ECF6\", \"radialaxis\": {\"gridcolor\": \"white\", \"linecolor\": \"white\", \"ticks\": \"\"}}, \"scene\": {\"xaxis\": {\"backgroundcolor\": \"#E5ECF6\", \"gridcolor\": \"white\", \"gridwidth\": 2, \"linecolor\": \"white\", \"showbackground\": true, \"ticks\": \"\", \"zerolinecolor\": \"white\"}, \"yaxis\": {\"backgroundcolor\": \"#E5ECF6\", \"gridcolor\": \"white\", \"gridwidth\": 2, \"linecolor\": \"white\", \"showbackground\": true, \"ticks\": \"\", \"zerolinecolor\": \"white\"}, \"zaxis\": {\"backgroundcolor\": \"#E5ECF6\", \"gridcolor\": \"white\", \"gridwidth\": 2, \"linecolor\": \"white\", \"showbackground\": true, \"ticks\": \"\", \"zerolinecolor\": \"white\"}}, \"shapedefaults\": {\"line\": {\"color\": \"#2a3f5f\"}}, \"ternary\": {\"aaxis\": {\"gridcolor\": \"white\", \"linecolor\": \"white\", \"ticks\": \"\"}, \"baxis\": {\"gridcolor\": \"white\", \"linecolor\": \"white\", \"ticks\": \"\"}, \"bgcolor\": \"#E5ECF6\", \"caxis\": {\"gridcolor\": \"white\", \"linecolor\": \"white\", \"ticks\": \"\"}}, \"title\": {\"x\": 0.05}, \"xaxis\": {\"automargin\": true, \"gridcolor\": \"white\", \"linecolor\": \"white\", \"ticks\": \"\", \"title\": {\"standoff\": 15}, \"zerolinecolor\": \"white\", \"zerolinewidth\": 2}, \"yaxis\": {\"automargin\": true, \"gridcolor\": \"white\", \"linecolor\": \"white\", \"ticks\": \"\", \"title\": {\"standoff\": 15}, \"zerolinecolor\": \"white\", \"zerolinewidth\": 2}}}, \"title\": {\"text\": \"\\u039c\\u03b5\\u03c4\\u03ac \\u03c4\\u03b1 100 \\u03c0\\u03c1\\u03ce\\u03c4\\u03b1 \\u03ba\\u03c1\\u03bf\\u03cd\\u03c3\\u03bc\\u03b1\\u03c4\\u03b1 \\u03b1\\u03bd\\u03ac \\u03b7\\u03bc\\u03ad\\u03c1\\u03b1 (\\u03c7\\u03c9\\u03c1\\u03af\\u03c2 \\u03c4\\u03b7\\u03bd \\u039a\\u03af\\u03bd\\u03b1)\"}, \"xaxis\": {\"anchor\": \"y\", \"domain\": [0.0, 1.0], \"gridcolor\": \"#F8FAFA\", \"gridwidth\": 0.1, \"linecolor\": \"#F8FAFA\", \"linewidth\": 0.1, \"showgrid\": true, \"showline\": false, \"showticklabels\": true, \"tickvals\": [5, 10, 15, 20, 25, 30, 35, 40, 45, 50, 55], \"title\": {\"font\": {\"color\": \"#114B5F\", \"size\": 11}, \"text\": \"\\u0397\\u03bc\\u03ad\\u03c1\\u03b5\\u03c2 \\u03b1\\u03c0\\u03cc \\u03c4\\u03bf 10o \\u03ba\\u03c1\\u03bf\\u03cd\\u03c3\\u03bc\\u03b1\"}}, \"yaxis\": {\"anchor\": \"x\", \"domain\": [0.0, 1.0], \"gridcolor\": \"#F8FAFA\", \"gridwidth\": 0.1, \"linecolor\": \"#114B5F\", \"linewidth\": 2, \"nticks\": 4, \"showgrid\": true, \"showline\": true, \"showticklabels\": true, \"title\": {\"font\": {\"color\": \"#114B5F\", \"size\": 11}, \"text\": \"\\u0391\\u03c1\\u03b9\\u03b8\\u03bc\\u03cc\\u03c2 \\u03ba\\u03c1\\u03bf\\u03c5\\u03c3\\u03bc\\u03ac\\u03c4\\u03c9\\u03bd\"}, \"type\": \"log\"}},\n",
       "                        {\"responsive\": true}\n",
       "                    ).then(function(){\n",
       "                            \n",
       "var gd = document.getElementById('5cd06c88-c198-40bd-8201-41e350e5351a');\n",
       "var x = new MutationObserver(function (mutations, observer) {{\n",
       "        var display = window.getComputedStyle(gd).display;\n",
       "        if (!display || display === 'none') {{\n",
       "            console.log([gd, 'removed!']);\n",
       "            Plotly.purge(gd);\n",
       "            observer.disconnect();\n",
       "        }}\n",
       "}});\n",
       "\n",
       "// Listen for the removal of the full notebook cells\n",
       "var notebookContainer = gd.closest('#notebook-container');\n",
       "if (notebookContainer) {{\n",
       "    x.observe(notebookContainer, {childList: true});\n",
       "}}\n",
       "\n",
       "// Listen for the clearing of the current output cell\n",
       "var outputEl = gd.closest('.output');\n",
       "if (outputEl) {{\n",
       "    x.observe(outputEl, {childList: true});\n",
       "}}\n",
       "\n",
       "                        })\n",
       "                };\n",
       "                });\n",
       "            </script>\n",
       "        </div>"
      ]
     },
     "metadata": {},
     "output_type": "display_data"
    }
   ],
   "source": []
  },
  {
   "cell_type": "code",
   "execution_count": null,
   "metadata": {},
   "outputs": [],
   "source": []
  }
 ],
 "metadata": {
  "kernelspec": {
   "display_name": "Python 3",
   "language": "python",
   "name": "python3"
  },
  "language_info": {
   "codemirror_mode": {
    "name": "ipython",
    "version": 3
   },
   "file_extension": ".py",
   "mimetype": "text/x-python",
   "name": "python",
   "nbconvert_exporter": "python",
   "pygments_lexer": "ipython3",
   "version": "3.8.1"
  }
 },
 "nbformat": 4,
 "nbformat_minor": 4
}
