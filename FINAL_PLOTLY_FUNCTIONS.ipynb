{
 "cells": [
  {
   "cell_type": "markdown",
   "metadata": {},
   "source": [
    "## Imports"
   ]
  },
  {
   "cell_type": "code",
   "execution_count": 1,
   "metadata": {},
   "outputs": [
    {
     "name": "stderr",
     "output_type": "stream",
     "text": [
      "/Users/atroboukis/.pyenv/versions/3.8.1/lib/python3.8/site-packages/pandas/compat/__init__.py:117: UserWarning: Could not import the lzma module. Your installed Python is incomplete. Attempting to use lzma compression will result in a RuntimeError.\n",
      "  warnings.warn(msg)\n"
     ]
    }
   ],
   "source": [
    "import pandas as pd\n",
    "import numpy as np\n",
    "import plotly.graph_objects as go\n",
    "import plotly.express as px\n",
    "import plotly.tools as tls\n",
    "from ipywidgets import widgets\n",
    "import datetime\n",
    "import warnings\n",
    "warnings.filterwarnings(\"ignore\")"
   ]
  },
  {
   "cell_type": "code",
   "execution_count": 2,
   "metadata": {},
   "outputs": [],
   "source": [
    "pd.set_option('display.max_rows', 2500)\n",
    "pd.set_option('display.max_columns', 500)\n",
    "pd.set_option('display.width', 1000)\n",
    "pd.set_option('display.max_colwidth', None)"
   ]
  },
  {
   "cell_type": "markdown",
   "metadata": {},
   "source": [
    "## Data URLs "
   ]
  },
  {
   "cell_type": "code",
   "execution_count": 27,
   "metadata": {},
   "outputs": [],
   "source": [
    "baseHopkinsURL = \"https://raw.githubusercontent.com/CSSEGISandData/COVID-19/master/csse_covid_19_data/csse_covid_19_time_series/\"\n",
    "confirmedHopkinsFileName='time_series_covid19_confirmed_global.csv'\n",
    "deathsHopkinsFileName='time_series_covid19_deaths_global.csv'\n",
    "\n",
    "# τα σκραπαρισμένα data από worldometer\n",
    "worldOmeterData='https://app.workbenchdata.com/public/moduledata/live/308692.csv'\n",
    "\n",
    "# από το αρχείο countries_names στο google spreadsheet\n",
    "countriesInGreek='https://docs.google.com/spreadsheets/d/e/2PACX-1vRpR8AOJaRsB5by7H3R_GijtaY06J8srELipebO5B0jYEg9pKugT3C6Rk2RSQ5eyerQl7LolshamK27/pub?gid=906157277&single=true&output=csv'\n",
    "\n",
    "# population\n",
    "population='https://app.workbenchdata.com/public/moduledata/live/302569.csv'"
   ]
  },
  {
   "cell_type": "markdown",
   "metadata": {},
   "source": [
    "# Line Chart - logarithmic - after XX cases | XX deaths"
   ]
  },
  {
   "cell_type": "code",
   "execution_count": 60,
   "metadata": {
    "scrolled": false
   },
   "outputs": [
    {
     "data": {
      "application/vnd.plotly.v1+json": {
       "config": {
        "plotlyServerURL": "https://plot.ly"
       },
       "data": [
        {
         "customdata": [
          [
           "Αφγανιστάν"
          ],
          [
           "Αφγανιστάν"
          ],
          [
           "Αφγανιστάν"
          ],
          [
           "Αφγανιστάν"
          ],
          [
           "Αφγανιστάν"
          ],
          [
           "Αφγανιστάν"
          ],
          [
           "Αφγανιστάν"
          ]
         ],
         "hoverlabel": {
          "namelength": 0
         },
         "hovertemplate": "Χώρα=%{customdata[0]}<br>Αριθμός Κρουσμάτων=%{y}",
         "legendgroup": "Αφγανιστάν",
         "line": {
          "color": "rgb(189,189,189)",
          "dash": "solid",
          "shape": "spline"
         },
         "mode": "lines",
         "name": "Αφγανιστάν",
         "showlegend": true,
         "type": "scatter",
         "xaxis": "x",
         "y": [
          11,
          14,
          14,
          15,
          15,
          18,
          18
         ],
         "yaxis": "y"
        },
        {
         "customdata": [
          [
           "Αλβανία"
          ],
          [
           "Αλβανία"
          ],
          [
           "Αλβανία"
          ],
          [
           "Αλβανία"
          ],
          [
           "Αλβανία"
          ],
          [
           "Αλβανία"
          ],
          [
           "Αλβανία"
          ],
          [
           "Αλβανία"
          ],
          [
           "Αλβανία"
          ],
          [
           "Αλβανία"
          ],
          [
           "Αλβανία"
          ],
          [
           "Αλβανία"
          ],
          [
           "Αλβανία"
          ],
          [
           "Αλβανία"
          ],
          [
           "Αλβανία"
          ],
          [
           "Αλβανία"
          ]
         ],
         "hoverlabel": {
          "namelength": 0
         },
         "hovertemplate": "Χώρα=%{customdata[0]}<br>Αριθμός Κρουσμάτων=%{y}",
         "legendgroup": "Αλβανία",
         "line": {
          "color": "rgb(189,189,189)",
          "dash": "solid",
          "shape": "spline"
         },
         "mode": "lines",
         "name": "Αλβανία",
         "showlegend": true,
         "type": "scatter",
         "xaxis": "x",
         "y": [
          10,
          10,
          11,
          15,
          15,
          16,
          17,
          20,
          20,
          21,
          22,
          22,
          23,
          23,
          23,
          23
         ],
         "yaxis": "y"
        },
        {
         "customdata": [
          [
           "Αλγερία"
          ],
          [
           "Αλγερία"
          ],
          [
           "Αλγερία"
          ],
          [
           "Αλγερία"
          ],
          [
           "Αλγερία"
          ],
          [
           "Αλγερία"
          ],
          [
           "Αλγερία"
          ],
          [
           "Αλγερία"
          ],
          [
           "Αλγερία"
          ],
          [
           "Αλγερία"
          ],
          [
           "Αλγερία"
          ],
          [
           "Αλγερία"
          ],
          [
           "Αλγερία"
          ],
          [
           "Αλγερία"
          ],
          [
           "Αλγερία"
          ],
          [
           "Αλγερία"
          ],
          [
           "Αλγερία"
          ],
          [
           "Αλγερία"
          ],
          [
           "Αλγερία"
          ],
          [
           "Αλγερία"
          ],
          [
           "Αλγερία"
          ],
          [
           "Αλγερία"
          ],
          [
           "Αλγερία"
          ],
          [
           "Αλγερία"
          ]
         ],
         "hoverlabel": {
          "namelength": 0
         },
         "hovertemplate": "Χώρα=%{customdata[0]}<br>Αριθμός Κρουσμάτων=%{y}",
         "legendgroup": "Αλγερία",
         "line": {
          "color": "rgb(189,189,189)",
          "dash": "solid",
          "shape": "spline"
         },
         "mode": "lines",
         "name": "Αλγερία",
         "showlegend": true,
         "type": "scatter",
         "xaxis": "x",
         "y": [
          11,
          15,
          17,
          17,
          19,
          21,
          25,
          26,
          29,
          31,
          35,
          44,
          58,
          86,
          105,
          130,
          152,
          173,
          193,
          205,
          235,
          256,
          275,
          293
         ],
         "yaxis": "y"
        },
        {
         "customdata": [
          [
           "Ανδόρρα"
          ],
          [
           "Ανδόρρα"
          ],
          [
           "Ανδόρρα"
          ],
          [
           "Ανδόρρα"
          ],
          [
           "Ανδόρρα"
          ],
          [
           "Ανδόρρα"
          ],
          [
           "Ανδόρρα"
          ],
          [
           "Ανδόρρα"
          ],
          [
           "Ανδόρρα"
          ],
          [
           "Ανδόρρα"
          ],
          [
           "Ανδόρρα"
          ],
          [
           "Ανδόρρα"
          ],
          [
           "Ανδόρρα"
          ]
         ],
         "hoverlabel": {
          "namelength": 0
         },
         "hovertemplate": "Χώρα=%{customdata[0]}<br>Αριθμός Κρουσμάτων=%{y}",
         "legendgroup": "Ανδόρρα",
         "line": {
          "color": "rgb(189,189,189)",
          "dash": "solid",
          "shape": "spline"
         },
         "mode": "lines",
         "name": "Ανδόρρα",
         "showlegend": true,
         "type": "scatter",
         "xaxis": "x",
         "y": [
          12,
          14,
          15,
          16,
          17,
          18,
          21,
          22,
          23,
          25,
          26,
          26,
          29
         ],
         "yaxis": "y"
        },
        {
         "customdata": [
          [
           "Αργεντινή"
          ],
          [
           "Αργεντινή"
          ],
          [
           "Αργεντινή"
          ],
          [
           "Αργεντινή"
          ],
          [
           "Αργεντινή"
          ],
          [
           "Αργεντινή"
          ],
          [
           "Αργεντινή"
          ],
          [
           "Αργεντινή"
          ],
          [
           "Αργεντινή"
          ],
          [
           "Αργεντινή"
          ],
          [
           "Αργεντινή"
          ],
          [
           "Αργεντινή"
          ],
          [
           "Αργεντινή"
          ],
          [
           "Αργεντινή"
          ],
          [
           "Αργεντινή"
          ],
          [
           "Αργεντινή"
          ],
          [
           "Αργεντινή"
          ]
         ],
         "hoverlabel": {
          "namelength": 0
         },
         "hovertemplate": "Χώρα=%{customdata[0]}<br>Αριθμός Κρουσμάτων=%{y}",
         "legendgroup": "Αργεντινή",
         "line": {
          "color": "rgb(189,189,189)",
          "dash": "solid",
          "shape": "spline"
         },
         "mode": "lines",
         "name": "Αργεντινή",
         "showlegend": true,
         "type": "scatter",
         "xaxis": "x",
         "y": [
          13,
          18,
          19,
          23,
          27,
          28,
          36,
          39,
          43,
          44,
          48,
          56,
          63,
          72,
          82,
          83,
          90
         ],
         "yaxis": "y"
        },
        {
         "customdata": [
          [
           "Αρμενία"
          ],
          [
           "Αρμενία"
          ],
          [
           "Αρμενία"
          ],
          [
           "Αρμενία"
          ]
         ],
         "hoverlabel": {
          "namelength": 0
         },
         "hovertemplate": "Χώρα=%{customdata[0]}<br>Αριθμός Κρουσμάτων=%{y}",
         "legendgroup": "Αρμενία",
         "line": {
          "color": "rgb(189,189,189)",
          "dash": "solid",
          "shape": "spline"
         },
         "mode": "lines",
         "name": "Αρμενία",
         "showlegend": true,
         "type": "scatter",
         "xaxis": "x",
         "y": [
          10,
          12,
          13,
          13
         ],
         "yaxis": "y"
        },
        {
         "customdata": [
          [
           "Αυστραλία"
          ],
          [
           "Αυστραλία"
          ],
          [
           "Αυστραλία"
          ],
          [
           "Αυστραλία"
          ],
          [
           "Αυστραλία"
          ],
          [
           "Αυστραλία"
          ],
          [
           "Αυστραλία"
          ],
          [
           "Αυστραλία"
          ],
          [
           "Αυστραλία"
          ],
          [
           "Αυστραλία"
          ],
          [
           "Αυστραλία"
          ],
          [
           "Αυστραλία"
          ],
          [
           "Αυστραλία"
          ],
          [
           "Αυστραλία"
          ],
          [
           "Αυστραλία"
          ],
          [
           "Αυστραλία"
          ],
          [
           "Αυστραλία"
          ],
          [
           "Αυστραλία"
          ]
         ],
         "hoverlabel": {
          "namelength": 0
         },
         "hovertemplate": "Χώρα=%{customdata[0]}<br>Αριθμός Κρουσμάτων=%{y}",
         "legendgroup": "Αυστραλία",
         "line": {
          "color": "rgb(189,189,189)",
          "dash": "solid",
          "shape": "spline"
         },
         "mode": "lines",
         "name": "Αυστραλία",
         "showlegend": true,
         "type": "scatter",
         "xaxis": "x",
         "y": [
          13,
          13,
          14,
          16,
          17,
          18,
          20,
          24,
          28,
          30,
          35,
          40,
          45,
          50,
          51,
          54,
          57,
          60
         ],
         "yaxis": "y"
        },
        {
         "customdata": [
          [
           "Αυστρία"
          ],
          [
           "Αυστρία"
          ],
          [
           "Αυστρία"
          ],
          [
           "Αυστρία"
          ],
          [
           "Αυστρία"
          ],
          [
           "Αυστρία"
          ],
          [
           "Αυστρία"
          ],
          [
           "Αυστρία"
          ],
          [
           "Αυστρία"
          ],
          [
           "Αυστρία"
          ],
          [
           "Αυστρία"
          ],
          [
           "Αυστρία"
          ],
          [
           "Αυστρία"
          ],
          [
           "Αυστρία"
          ],
          [
           "Αυστρία"
          ],
          [
           "Αυστρία"
          ],
          [
           "Αυστρία"
          ],
          [
           "Αυστρία"
          ],
          [
           "Αυστρία"
          ],
          [
           "Αυστρία"
          ],
          [
           "Αυστρία"
          ],
          [
           "Αυστρία"
          ]
         ],
         "hoverlabel": {
          "namelength": 0
         },
         "hovertemplate": "Χώρα=%{customdata[0]}<br>Αριθμός Κρουσμάτων=%{y}",
         "legendgroup": "Αυστρία",
         "line": {
          "color": "rgb(189,189,189)",
          "dash": "solid",
          "shape": "spline"
         },
         "mode": "lines",
         "name": "Αυστρία",
         "showlegend": true,
         "type": "scatter",
         "xaxis": "x",
         "y": [
          16,
          21,
          28,
          30,
          49,
          58,
          68,
          86,
          108,
          128,
          146,
          158,
          168,
          186,
          204,
          220,
          243,
          273,
          295,
          319,
          337,
          350
         ],
         "yaxis": "y"
        },
        {
         "customdata": [
          [
           "Αζερμπαϊτζάν"
          ],
          [
           "Αζερμπαϊτζάν"
          ],
          [
           "Αζερμπαϊτζάν"
          ]
         ],
         "hoverlabel": {
          "namelength": 0
         },
         "hovertemplate": "Χώρα=%{customdata[0]}<br>Αριθμός Κρουσμάτων=%{y}",
         "legendgroup": "Αζερμπαϊτζάν",
         "line": {
          "color": "rgb(189,189,189)",
          "dash": "solid",
          "shape": "spline"
         },
         "mode": "lines",
         "name": "Αζερμπαϊτζάν",
         "showlegend": true,
         "type": "scatter",
         "xaxis": "x",
         "y": [
          10,
          11,
          11
         ],
         "yaxis": "y"
        },
        {
         "customdata": [
          [
           "Μπανγκλαντές"
          ],
          [
           "Μπανγκλαντές"
          ],
          [
           "Μπανγκλαντές"
          ],
          [
           "Μπανγκλαντές"
          ],
          [
           "Μπανγκλαντές"
          ],
          [
           "Μπανγκλαντές"
          ],
          [
           "Μπανγκλαντές"
          ]
         ],
         "hoverlabel": {
          "namelength": 0
         },
         "hovertemplate": "Χώρα=%{customdata[0]}<br>Αριθμός Κρουσμάτων=%{y}",
         "legendgroup": "Μπανγκλαντές",
         "line": {
          "color": "rgb(189,189,189)",
          "dash": "solid",
          "shape": "spline"
         },
         "mode": "lines",
         "name": "Μπανγκλαντές",
         "showlegend": true,
         "type": "scatter",
         "xaxis": "x",
         "y": [
          12,
          17,
          20,
          21,
          27,
          30,
          34
         ],
         "yaxis": "y"
        },
        {
         "customdata": [
          [
           "Λευκορωσία"
          ],
          [
           "Λευκορωσία"
          ],
          [
           "Λευκορωσία"
          ],
          [
           "Λευκορωσία"
          ],
          [
           "Λευκορωσία"
          ],
          [
           "Λευκορωσία"
          ],
          [
           "Λευκορωσία"
          ]
         ],
         "hoverlabel": {
          "namelength": 0
         },
         "hovertemplate": "Χώρα=%{customdata[0]}<br>Αριθμός Κρουσμάτων=%{y}",
         "legendgroup": "Λευκορωσία",
         "line": {
          "color": "rgb(189,189,189)",
          "dash": "solid",
          "shape": "spline"
         },
         "mode": "lines",
         "name": "Λευκορωσία",
         "showlegend": true,
         "type": "scatter",
         "xaxis": "x",
         "y": [
          13,
          13,
          13,
          16,
          19,
          23,
          26
         ],
         "yaxis": "y"
        },
        {
         "customdata": [
          [
           "Βέλγιο"
          ],
          [
           "Βέλγιο"
          ],
          [
           "Βέλγιο"
          ],
          [
           "Βέλγιο"
          ],
          [
           "Βέλγιο"
          ],
          [
           "Βέλγιο"
          ],
          [
           "Βέλγιο"
          ],
          [
           "Βέλγιο"
          ],
          [
           "Βέλγιο"
          ],
          [
           "Βέλγιο"
          ],
          [
           "Βέλγιο"
          ],
          [
           "Βέλγιο"
          ],
          [
           "Βέλγιο"
          ],
          [
           "Βέλγιο"
          ],
          [
           "Βέλγιο"
          ],
          [
           "Βέλγιο"
          ],
          [
           "Βέλγιο"
          ],
          [
           "Βέλγιο"
          ],
          [
           "Βέλγιο"
          ],
          [
           "Βέλγιο"
          ],
          [
           "Βέλγιο"
          ],
          [
           "Βέλγιο"
          ],
          [
           "Βέλγιο"
          ],
          [
           "Βέλγιο"
          ],
          [
           "Βέλγιο"
          ],
          [
           "Βέλγιο"
          ],
          [
           "Βέλγιο"
          ]
         ],
         "hoverlabel": {
          "namelength": 0
         },
         "hovertemplate": "Χώρα=%{customdata[0]}<br>Αριθμός Κρουσμάτων=%{y}",
         "legendgroup": "Βέλγιο",
         "line": {
          "color": "rgb(189,189,189)",
          "dash": "solid",
          "shape": "spline"
         },
         "mode": "lines",
         "name": "Βέλγιο",
         "showlegend": true,
         "type": "scatter",
         "xaxis": "x",
         "y": [
          10,
          14,
          21,
          37,
          67,
          75,
          88,
          122,
          178,
          220,
          289,
          353,
          431,
          513,
          705,
          828,
          1011,
          1143,
          1283,
          1447,
          1632,
          2035,
          2240,
          2523,
          3019,
          3346,
          3600
         ],
         "yaxis": "y"
        },
        {
         "customdata": [
          [
           "Βολιβία"
          ],
          [
           "Βολιβία"
          ],
          [
           "Βολιβία"
          ],
          [
           "Βολιβία"
          ],
          [
           "Βολιβία"
          ],
          [
           "Βολιβία"
          ],
          [
           "Βολιβία"
          ],
          [
           "Βολιβία"
          ],
          [
           "Βολιβία"
          ]
         ],
         "hoverlabel": {
          "namelength": 0
         },
         "hovertemplate": "Χώρα=%{customdata[0]}<br>Αριθμός Κρουσμάτων=%{y}",
         "legendgroup": "Βολιβία",
         "line": {
          "color": "rgb(189,189,189)",
          "dash": "solid",
          "shape": "spline"
         },
         "mode": "lines",
         "name": "Βολιβία",
         "showlegend": true,
         "type": "scatter",
         "xaxis": "x",
         "y": [
          10,
          10,
          11,
          14,
          15,
          18,
          19,
          20,
          24
         ],
         "yaxis": "y"
        },
        {
         "customdata": [
          [
           "Βοσνία-Ερζεγοβίνη"
          ],
          [
           "Βοσνία-Ερζεγοβίνη"
          ],
          [
           "Βοσνία-Ερζεγοβίνη"
          ],
          [
           "Βοσνία-Ερζεγοβίνη"
          ],
          [
           "Βοσνία-Ερζεγοβίνη"
          ],
          [
           "Βοσνία-Ερζεγοβίνη"
          ],
          [
           "Βοσνία-Ερζεγοβίνη"
          ],
          [
           "Βοσνία-Ερζεγοβίνη"
          ],
          [
           "Βοσνία-Ερζεγοβίνη"
          ],
          [
           "Βοσνία-Ερζεγοβίνη"
          ],
          [
           "Βοσνία-Ερζεγοβίνη"
          ],
          [
           "Βοσνία-Ερζεγοβίνη"
          ],
          [
           "Βοσνία-Ερζεγοβίνη"
          ],
          [
           "Βοσνία-Ερζεγοβίνη"
          ]
         ],
         "hoverlabel": {
          "namelength": 0
         },
         "hovertemplate": "Χώρα=%{customdata[0]}<br>Αριθμός Κρουσμάτων=%{y}",
         "legendgroup": "Βοσνία-Ερζεγοβίνη",
         "line": {
          "color": "rgb(189,189,189)",
          "dash": "solid",
          "shape": "spline"
         },
         "mode": "lines",
         "name": "Βοσνία-Ερζεγοβίνη",
         "showlegend": true,
         "type": "scatter",
         "xaxis": "x",
         "y": [
          10,
          13,
          13,
          16,
          17,
          21,
          23,
          29,
          33,
          34,
          35,
          36,
          37,
          39
         ],
         "yaxis": "y"
        },
        {
         "customdata": [
          [
           "Βραζιλία"
          ],
          [
           "Βραζιλία"
          ],
          [
           "Βραζιλία"
          ],
          [
           "Βραζιλία"
          ],
          [
           "Βραζιλία"
          ],
          [
           "Βραζιλία"
          ],
          [
           "Βραζιλία"
          ],
          [
           "Βραζιλία"
          ],
          [
           "Βραζιλία"
          ],
          [
           "Βραζιλία"
          ],
          [
           "Βραζιλία"
          ],
          [
           "Βραζιλία"
          ],
          [
           "Βραζιλία"
          ],
          [
           "Βραζιλία"
          ],
          [
           "Βραζιλία"
          ],
          [
           "Βραζιλία"
          ],
          [
           "Βραζιλία"
          ],
          [
           "Βραζιλία"
          ],
          [
           "Βραζιλία"
          ],
          [
           "Βραζιλία"
          ],
          [
           "Βραζιλία"
          ],
          [
           "Βραζιλία"
          ],
          [
           "Βραζιλία"
          ],
          [
           "Βραζιλία"
          ]
         ],
         "hoverlabel": {
          "namelength": 0
         },
         "hovertemplate": "Χώρα=%{customdata[0]}<br>Αριθμός Κρουσμάτων=%{y}",
         "legendgroup": "Βραζιλία",
         "line": {
          "color": "rgb(189,189,189)",
          "dash": "solid",
          "shape": "spline"
         },
         "mode": "lines",
         "name": "Βραζιλία",
         "showlegend": true,
         "type": "scatter",
         "xaxis": "x",
         "y": [
          11,
          15,
          25,
          34,
          46,
          59,
          77,
          92,
          111,
          136,
          159,
          201,
          240,
          324,
          359,
          445,
          486,
          564,
          686,
          819,
          950,
          1057,
          1124,
          1223
         ],
         "yaxis": "y"
        },
        {
         "customdata": [
          [
           "Βουλγαρία"
          ],
          [
           "Βουλγαρία"
          ],
          [
           "Βουλγαρία"
          ],
          [
           "Βουλγαρία"
          ],
          [
           "Βουλγαρία"
          ],
          [
           "Βουλγαρία"
          ],
          [
           "Βουλγαρία"
          ],
          [
           "Βουλγαρία"
          ],
          [
           "Βουλγαρία"
          ],
          [
           "Βουλγαρία"
          ],
          [
           "Βουλγαρία"
          ],
          [
           "Βουλγαρία"
          ]
         ],
         "hoverlabel": {
          "namelength": 0
         },
         "hovertemplate": "Χώρα=%{customdata[0]}<br>Αριθμός Κρουσμάτων=%{y}",
         "legendgroup": "Βουλγαρία",
         "line": {
          "color": "rgb(189,189,189)",
          "dash": "solid",
          "shape": "spline"
         },
         "mode": "lines",
         "name": "Βουλγαρία",
         "showlegend": true,
         "type": "scatter",
         "xaxis": "x",
         "y": [
          10,
          10,
          14,
          17,
          20,
          22,
          23,
          24,
          24,
          25,
          28,
          29
         ],
         "yaxis": "y"
        },
        {
         "customdata": [
          [
           "Μπουρκίνα Φάσο"
          ],
          [
           "Μπουρκίνα Φάσο"
          ],
          [
           "Μπουρκίνα Φάσο"
          ],
          [
           "Μπουρκίνα Φάσο"
          ],
          [
           "Μπουρκίνα Φάσο"
          ],
          [
           "Μπουρκίνα Φάσο"
          ],
          [
           "Μπουρκίνα Φάσο"
          ],
          [
           "Μπουρκίνα Φάσο"
          ],
          [
           "Μπουρκίνα Φάσο"
          ],
          [
           "Μπουρκίνα Φάσο"
          ],
          [
           "Μπουρκίνα Φάσο"
          ],
          [
           "Μπουρκίνα Φάσο"
          ],
          [
           "Μπουρκίνα Φάσο"
          ],
          [
           "Μπουρκίνα Φάσο"
          ],
          [
           "Μπουρκίνα Φάσο"
          ],
          [
           "Μπουρκίνα Φάσο"
          ]
         ],
         "hoverlabel": {
          "namelength": 0
         },
         "hovertemplate": "Χώρα=%{customdata[0]}<br>Αριθμός Κρουσμάτων=%{y}",
         "legendgroup": "Μπουρκίνα Φάσο",
         "line": {
          "color": "rgb(189,189,189)",
          "dash": "solid",
          "shape": "spline"
         },
         "mode": "lines",
         "name": "Μπουρκίνα Φάσο",
         "showlegend": true,
         "type": "scatter",
         "xaxis": "x",
         "y": [
          11,
          12,
          12,
          14,
          16,
          16,
          16,
          16,
          17,
          18,
          19,
          23,
          24,
          24,
          27,
          27
         ],
         "yaxis": "y"
        },
        {
         "customdata": [
          [
           "Καμερούν"
          ],
          [
           "Καμερούν"
          ],
          [
           "Καμερούν"
          ],
          [
           "Καμερούν"
          ],
          [
           "Καμερούν"
          ]
         ],
         "hoverlabel": {
          "namelength": 0
         },
         "hovertemplate": "Χώρα=%{customdata[0]}<br>Αριθμός Κρουσμάτων=%{y}",
         "legendgroup": "Καμερούν",
         "line": {
          "color": "rgb(189,189,189)",
          "dash": "solid",
          "shape": "spline"
         },
         "mode": "lines",
         "name": "Καμερούν",
         "showlegend": true,
         "type": "scatter",
         "xaxis": "x",
         "y": [
          10,
          10,
          12,
          12,
          12
         ],
         "yaxis": "y"
        },
        {
         "customdata": [
          [
           "Καναδάς"
          ],
          [
           "Καναδάς"
          ],
          [
           "Καναδάς"
          ],
          [
           "Καναδάς"
          ],
          [
           "Καναδάς"
          ],
          [
           "Καναδάς"
          ],
          [
           "Καναδάς"
          ],
          [
           "Καναδάς"
          ],
          [
           "Καναδάς"
          ],
          [
           "Καναδάς"
          ],
          [
           "Καναδάς"
          ],
          [
           "Καναδάς"
          ],
          [
           "Καναδάς"
          ],
          [
           "Καναδάς"
          ],
          [
           "Καναδάς"
          ],
          [
           "Καναδάς"
          ],
          [
           "Καναδάς"
          ],
          [
           "Καναδάς"
          ],
          [
           "Καναδάς"
          ],
          [
           "Καναδάς"
          ],
          [
           "Καναδάς"
          ],
          [
           "Καναδάς"
          ],
          [
           "Καναδάς"
          ],
          [
           "Καναδάς"
          ]
         ],
         "hoverlabel": {
          "namelength": 0
         },
         "hovertemplate": "Χώρα=%{customdata[0]}<br>Αριθμός Κρουσμάτων=%{y}",
         "legendgroup": "Καναδάς",
         "line": {
          "color": "rgb(189,189,189)",
          "dash": "solid",
          "shape": "spline"
         },
         "mode": "lines",
         "name": "Καναδάς",
         "showlegend": true,
         "type": "scatter",
         "xaxis": "x",
         "y": [
          12,
          19,
          21,
          25,
          26,
          30,
          38,
          54,
          61,
          64,
          80,
          101,
          109,
          139,
          179,
          218,
          259,
          339,
          375,
          407,
          503,
          557,
          654,
          714
         ],
         "yaxis": "y"
        },
        {
         "customdata": [
          [
           "Χιλή"
          ],
          [
           "Χιλή"
          ],
          [
           "Χιλή"
          ],
          [
           "Χιλή"
          ],
          [
           "Χιλή"
          ],
          [
           "Χιλή"
          ],
          [
           "Χιλή"
          ],
          [
           "Χιλή"
          ],
          [
           "Χιλή"
          ],
          [
           "Χιλή"
          ],
          [
           "Χιλή"
          ],
          [
           "Χιλή"
          ],
          [
           "Χιλή"
          ]
         ],
         "hoverlabel": {
          "namelength": 0
         },
         "hovertemplate": "Χώρα=%{customdata[0]}<br>Αριθμός Κρουσμάτων=%{y}",
         "legendgroup": "Χιλή",
         "line": {
          "color": "rgb(189,189,189)",
          "dash": "solid",
          "shape": "spline"
         },
         "mode": "lines",
         "name": "Χιλή",
         "showlegend": true,
         "type": "scatter",
         "xaxis": "x",
         "y": [
          12,
          16,
          18,
          22,
          27,
          34,
          37,
          43,
          48,
          57,
          65,
          73,
          80
         ],
         "yaxis": "y"
        },
        {
         "customdata": [
          [
           "Κολομβία"
          ],
          [
           "Κολομβία"
          ],
          [
           "Κολομβία"
          ],
          [
           "Κολομβία"
          ],
          [
           "Κολομβία"
          ],
          [
           "Κολομβία"
          ],
          [
           "Κολομβία"
          ],
          [
           "Κολομβία"
          ],
          [
           "Κολομβία"
          ],
          [
           "Κολομβία"
          ],
          [
           "Κολομβία"
          ],
          [
           "Κολομβία"
          ],
          [
           "Κολομβία"
          ],
          [
           "Κολομβία"
          ],
          [
           "Κολομβία"
          ]
         ],
         "hoverlabel": {
          "namelength": 0
         },
         "hovertemplate": "Χώρα=%{customdata[0]}<br>Αριθμός Κρουσμάτων=%{y}",
         "legendgroup": "Κολομβία",
         "line": {
          "color": "rgb(189,189,189)",
          "dash": "solid",
          "shape": "spline"
         },
         "mode": "lines",
         "name": "Κολομβία",
         "showlegend": true,
         "type": "scatter",
         "xaxis": "x",
         "y": [
          10,
          12,
          16,
          17,
          19,
          25,
          32,
          35,
          46,
          50,
          54,
          69,
          80,
          100,
          109
         ],
         "yaxis": "y"
        },
        {
         "customdata": [
          [
           "Λαϊκή Δημ/τία Κονγκό"
          ],
          [
           "Λαϊκή Δημ/τία Κονγκό"
          ],
          [
           "Λαϊκή Δημ/τία Κονγκό"
          ],
          [
           "Λαϊκή Δημ/τία Κονγκό"
          ],
          [
           "Λαϊκή Δημ/τία Κονγκό"
          ],
          [
           "Λαϊκή Δημ/τία Κονγκό"
          ],
          [
           "Λαϊκή Δημ/τία Κονγκό"
          ],
          [
           "Λαϊκή Δημ/τία Κονγκό"
          ],
          [
           "Λαϊκή Δημ/τία Κονγκό"
          ],
          [
           "Λαϊκή Δημ/τία Κονγκό"
          ],
          [
           "Λαϊκή Δημ/τία Κονγκό"
          ]
         ],
         "hoverlabel": {
          "namelength": 0
         },
         "hovertemplate": "Χώρα=%{customdata[0]}<br>Αριθμός Κρουσμάτων=%{y}",
         "legendgroup": "Λαϊκή Δημ/τία Κονγκό",
         "line": {
          "color": "rgb(189,189,189)",
          "dash": "solid",
          "shape": "spline"
         },
         "mode": "lines",
         "name": "Λαϊκή Δημ/τία Κονγκό",
         "showlegend": true,
         "type": "scatter",
         "xaxis": "x",
         "y": [
          13,
          13,
          18,
          18,
          18,
          18,
          18,
          18,
          20,
          20,
          20
         ],
         "yaxis": "y"
        },
        {
         "customdata": [
          [
           "Κροατία"
          ],
          [
           "Κροατία"
          ],
          [
           "Κροατία"
          ],
          [
           "Κροατία"
          ],
          [
           "Κροατία"
          ],
          [
           "Κροατία"
          ],
          [
           "Κροατία"
          ],
          [
           "Κροατία"
          ],
          [
           "Κροατία"
          ]
         ],
         "hoverlabel": {
          "namelength": 0
         },
         "hovertemplate": "Χώρα=%{customdata[0]}<br>Αριθμός Κρουσμάτων=%{y}",
         "legendgroup": "Κροατία",
         "line": {
          "color": "rgb(189,189,189)",
          "dash": "solid",
          "shape": "spline"
         },
         "mode": "lines",
         "name": "Κροατία",
         "showlegend": true,
         "type": "scatter",
         "xaxis": "x",
         "y": [
          12,
          15,
          16,
          18,
          19,
          20,
          21,
          21,
          23
         ],
         "yaxis": "y"
        },
        {
         "customdata": [
          [
           "Κούβα"
          ],
          [
           "Κούβα"
          ],
          [
           "Κούβα"
          ],
          [
           "Κούβα"
          ],
          [
           "Κούβα"
          ],
          [
           "Κούβα"
          ]
         ],
         "hoverlabel": {
          "namelength": 0
         },
         "hovertemplate": "Χώρα=%{customdata[0]}<br>Αριθμός Κρουσμάτων=%{y}",
         "legendgroup": "Κούβα",
         "line": {
          "color": "rgb(189,189,189)",
          "dash": "solid",
          "shape": "spline"
         },
         "mode": "lines",
         "name": "Κούβα",
         "showlegend": true,
         "type": "scatter",
         "xaxis": "x",
         "y": [
          11,
          12,
          15,
          15,
          16,
          18
         ],
         "yaxis": "y"
        },
        {
         "customdata": [
          [
           "Κύπρος"
          ],
          [
           "Κύπρος"
          ],
          [
           "Κύπρος"
          ],
          [
           "Κύπρος"
          ],
          [
           "Κύπρος"
          ],
          [
           "Κύπρος"
          ],
          [
           "Κύπρος"
          ]
         ],
         "hoverlabel": {
          "namelength": 0
         },
         "hovertemplate": "Χώρα=%{customdata[0]}<br>Αριθμός Κρουσμάτων=%{y}",
         "legendgroup": "Κύπρος",
         "line": {
          "color": "rgb(189,189,189)",
          "dash": "solid",
          "shape": "spline"
         },
         "mode": "lines",
         "name": "Κύπρος",
         "showlegend": true,
         "type": "scatter",
         "xaxis": "x",
         "y": [
          10,
          11,
          11,
          10,
          10,
          10,
          11
         ],
         "yaxis": "y"
        },
        {
         "customdata": [
          [
           "Τσεχία"
          ],
          [
           "Τσεχία"
          ],
          [
           "Τσεχία"
          ],
          [
           "Τσεχία"
          ],
          [
           "Τσεχία"
          ],
          [
           "Τσεχία"
          ],
          [
           "Τσεχία"
          ],
          [
           "Τσεχία"
          ],
          [
           "Τσεχία"
          ],
          [
           "Τσεχία"
          ],
          [
           "Τσεχία"
          ],
          [
           "Τσεχία"
          ],
          [
           "Τσεχία"
          ],
          [
           "Τσεχία"
          ],
          [
           "Τσεχία"
          ],
          [
           "Τσεχία"
          ]
         ],
         "hoverlabel": {
          "namelength": 0
         },
         "hovertemplate": "Χώρα=%{customdata[0]}<br>Αριθμός Κρουσμάτων=%{y}",
         "legendgroup": "Τσεχία",
         "line": {
          "color": "rgb(189,189,189)",
          "dash": "solid",
          "shape": "spline"
         },
         "mode": "lines",
         "name": "Τσεχία",
         "showlegend": true,
         "type": "scatter",
         "xaxis": "x",
         "y": [
          11,
          16,
          23,
          31,
          39,
          44,
          53,
          59,
          67,
          78,
          88,
          99,
          112,
          119,
          129,
          138
         ],
         "yaxis": "y"
        },
        {
         "customdata": [
          [
           "Δανία"
          ],
          [
           "Δανία"
          ],
          [
           "Δανία"
          ],
          [
           "Δανία"
          ],
          [
           "Δανία"
          ],
          [
           "Δανία"
          ],
          [
           "Δανία"
          ],
          [
           "Δανία"
          ],
          [
           "Δανία"
          ],
          [
           "Δανία"
          ],
          [
           "Δανία"
          ],
          [
           "Δανία"
          ],
          [
           "Δανία"
          ],
          [
           "Δανία"
          ],
          [
           "Δανία"
          ],
          [
           "Δανία"
          ],
          [
           "Δανία"
          ],
          [
           "Δανία"
          ],
          [
           "Δανία"
          ],
          [
           "Δανία"
          ],
          [
           "Δανία"
          ],
          [
           "Δανία"
          ],
          [
           "Δανία"
          ]
         ],
         "hoverlabel": {
          "namelength": 0
         },
         "hovertemplate": "Χώρα=%{customdata[0]}<br>Αριθμός Κρουσμάτων=%{y}",
         "legendgroup": "Δανία",
         "line": {
          "color": "rgb(189,189,189)",
          "dash": "solid",
          "shape": "spline"
         },
         "mode": "lines",
         "name": "Δανία",
         "showlegend": true,
         "type": "scatter",
         "xaxis": "x",
         "y": [
          13,
          13,
          24,
          32,
          34,
          41,
          52,
          65,
          72,
          77,
          90,
          104,
          123,
          139,
          161,
          179,
          187,
          203,
          218,
          237,
          247,
          260,
          273
         ],
         "yaxis": "y"
        },
        {
         "customdata": [
          [
           "Δομινικανή Δημ/τία"
          ],
          [
           "Δομινικανή Δημ/τία"
          ],
          [
           "Δομινικανή Δημ/τία"
          ],
          [
           "Δομινικανή Δημ/τία"
          ],
          [
           "Δομινικανή Δημ/τία"
          ],
          [
           "Δομινικανή Δημ/τία"
          ],
          [
           "Δομινικανή Δημ/τία"
          ],
          [
           "Δομινικανή Δημ/τία"
          ],
          [
           "Δομινικανή Δημ/τία"
          ],
          [
           "Δομινικανή Δημ/τία"
          ],
          [
           "Δομινικανή Δημ/τία"
          ],
          [
           "Δομινικανή Δημ/τία"
          ],
          [
           "Δομινικανή Δημ/τία"
          ],
          [
           "Δομινικανή Δημ/τία"
          ],
          [
           "Δομινικανή Δημ/τία"
          ],
          [
           "Δομινικανή Δημ/τία"
          ],
          [
           "Δομινικανή Δημ/τία"
          ],
          [
           "Δομινικανή Δημ/τία"
          ],
          [
           "Δομινικανή Δημ/τία"
          ]
         ],
         "hoverlabel": {
          "namelength": 0
         },
         "hovertemplate": "Χώρα=%{customdata[0]}<br>Αριθμός Κρουσμάτων=%{y}",
         "legendgroup": "Δομινικανή Δημ/τία",
         "line": {
          "color": "rgb(189,189,189)",
          "dash": "solid",
          "shape": "spline"
         },
         "mode": "lines",
         "name": "Δομινικανή Δημ/τία",
         "showlegend": true,
         "type": "scatter",
         "xaxis": "x",
         "y": [
          10,
          10,
          20,
          28,
          39,
          42,
          51,
          57,
          60,
          68,
          68,
          82,
          86,
          98,
          108,
          118,
          126,
          135,
          173
         ],
         "yaxis": "y"
        },
        {
         "customdata": [
          [
           "Ισημερινός"
          ],
          [
           "Ισημερινός"
          ],
          [
           "Ισημερινός"
          ],
          [
           "Ισημερινός"
          ],
          [
           "Ισημερινός"
          ],
          [
           "Ισημερινός"
          ],
          [
           "Ισημερινός"
          ],
          [
           "Ισημερινός"
          ],
          [
           "Ισημερινός"
          ],
          [
           "Ισημερινός"
          ],
          [
           "Ισημερινός"
          ],
          [
           "Ισημερινός"
          ],
          [
           "Ισημερινός"
          ],
          [
           "Ισημερινός"
          ],
          [
           "Ισημερινός"
          ],
          [
           "Ισημερινός"
          ],
          [
           "Ισημερινός"
          ],
          [
           "Ισημερινός"
          ],
          [
           "Ισημερινός"
          ],
          [
           "Ισημερινός"
          ],
          [
           "Ισημερινός"
          ],
          [
           "Ισημερινός"
          ]
         ],
         "hoverlabel": {
          "namelength": 0
         },
         "hovertemplate": "Χώρα=%{customdata[0]}<br>Αριθμός Κρουσμάτων=%{y}",
         "legendgroup": "Ισημερινός",
         "line": {
          "color": "rgb(189,189,189)",
          "dash": "solid",
          "shape": "spline"
         },
         "mode": "lines",
         "name": "Ισημερινός",
         "showlegend": true,
         "type": "scatter",
         "xaxis": "x",
         "y": [
          14,
          18,
          27,
          28,
          34,
          36,
          48,
          58,
          60,
          75,
          93,
          120,
          145,
          172,
          180,
          191,
          191,
          242,
          272,
          297,
          315,
          333
         ],
         "yaxis": "y"
        },
        {
         "customdata": [
          [
           "Αίγυπτος"
          ],
          [
           "Αίγυπτος"
          ],
          [
           "Αίγυπτος"
          ],
          [
           "Αίγυπτος"
          ],
          [
           "Αίγυπτος"
          ],
          [
           "Αίγυπτος"
          ],
          [
           "Αίγυπτος"
          ],
          [
           "Αίγυπτος"
          ],
          [
           "Αίγυπτος"
          ],
          [
           "Αίγυπτος"
          ],
          [
           "Αίγυπτος"
          ],
          [
           "Αίγυπτος"
          ],
          [
           "Αίγυπτος"
          ],
          [
           "Αίγυπτος"
          ],
          [
           "Αίγυπτος"
          ],
          [
           "Αίγυπτος"
          ],
          [
           "Αίγυπτος"
          ],
          [
           "Αίγυπτος"
          ],
          [
           "Αίγυπτος"
          ],
          [
           "Αίγυπτος"
          ],
          [
           "Αίγυπτος"
          ],
          [
           "Αίγυπτος"
          ],
          [
           "Αίγυπτος"
          ]
         ],
         "hoverlabel": {
          "namelength": 0
         },
         "hovertemplate": "Χώρα=%{customdata[0]}<br>Αριθμός Κρουσμάτων=%{y}",
         "legendgroup": "Αίγυπτος",
         "line": {
          "color": "rgb(189,189,189)",
          "dash": "solid",
          "shape": "spline"
         },
         "mode": "lines",
         "name": "Αίγυπτος",
         "showlegend": true,
         "type": "scatter",
         "xaxis": "x",
         "y": [
          10,
          14,
          19,
          20,
          21,
          24,
          30,
          36,
          40,
          41,
          46,
          52,
          58,
          66,
          71,
          78,
          85,
          94,
          103,
          118,
          135,
          146,
          159
         ],
         "yaxis": "y"
        },
        {
         "customdata": [
          [
           "Εσθονία"
          ],
          [
           "Εσθονία"
          ],
          [
           "Εσθονία"
          ],
          [
           "Εσθονία"
          ],
          [
           "Εσθονία"
          ],
          [
           "Εσθονία"
          ],
          [
           "Εσθονία"
          ],
          [
           "Εσθονία"
          ],
          [
           "Εσθονία"
          ],
          [
           "Εσθονία"
          ],
          [
           "Εσθονία"
          ]
         ],
         "hoverlabel": {
          "namelength": 0
         },
         "hovertemplate": "Χώρα=%{customdata[0]}<br>Αριθμός Κρουσμάτων=%{y}",
         "legendgroup": "Εσθονία",
         "line": {
          "color": "rgb(189,189,189)",
          "dash": "solid",
          "shape": "spline"
         },
         "mode": "lines",
         "name": "Εσθονία",
         "showlegend": true,
         "type": "scatter",
         "xaxis": "x",
         "y": [
          11,
          12,
          13,
          15,
          19,
          21,
          24,
          24,
          24,
          24,
          25
         ],
         "yaxis": "y"
        },
        {
         "customdata": [
          [
           "Φινλανδία"
          ],
          [
           "Φινλανδία"
          ],
          [
           "Φινλανδία"
          ],
          [
           "Φινλανδία"
          ],
          [
           "Φινλανδία"
          ],
          [
           "Φινλανδία"
          ],
          [
           "Φινλανδία"
          ],
          [
           "Φινλανδία"
          ],
          [
           "Φινλανδία"
          ],
          [
           "Φινλανδία"
          ],
          [
           "Φινλανδία"
          ],
          [
           "Φινλανδία"
          ],
          [
           "Φινλανδία"
          ],
          [
           "Φινλανδία"
          ],
          [
           "Φινλανδία"
          ]
         ],
         "hoverlabel": {
          "namelength": 0
         },
         "hovertemplate": "Χώρα=%{customdata[0]}<br>Αριθμός Κρουσμάτων=%{y}",
         "legendgroup": "Φινλανδία",
         "line": {
          "color": "rgb(189,189,189)",
          "dash": "solid",
          "shape": "spline"
         },
         "mode": "lines",
         "name": "Φινλανδία",
         "showlegend": true,
         "type": "scatter",
         "xaxis": "x",
         "y": [
          11,
          13,
          17,
          17,
          19,
          20,
          25,
          28,
          27,
          34,
          40,
          42,
          48,
          49,
          56
         ],
         "yaxis": "y"
        },
        {
         "customdata": [
          [
           "Γαλλία"
          ],
          [
           "Γαλλία"
          ],
          [
           "Γαλλία"
          ],
          [
           "Γαλλία"
          ],
          [
           "Γαλλία"
          ],
          [
           "Γαλλία"
          ],
          [
           "Γαλλία"
          ],
          [
           "Γαλλία"
          ],
          [
           "Γαλλία"
          ],
          [
           "Γαλλία"
          ],
          [
           "Γαλλία"
          ],
          [
           "Γαλλία"
          ],
          [
           "Γαλλία"
          ],
          [
           "Γαλλία"
          ],
          [
           "Γαλλία"
          ],
          [
           "Γαλλία"
          ],
          [
           "Γαλλία"
          ],
          [
           "Γαλλία"
          ],
          [
           "Γαλλία"
          ],
          [
           "Γαλλία"
          ],
          [
           "Γαλλία"
          ],
          [
           "Γαλλία"
          ],
          [
           "Γαλλία"
          ],
          [
           "Γαλλία"
          ],
          [
           "Γαλλία"
          ],
          [
           "Γαλλία"
          ],
          [
           "Γαλλία"
          ],
          [
           "Γαλλία"
          ],
          [
           "Γαλλία"
          ],
          [
           "Γαλλία"
          ],
          [
           "Γαλλία"
          ],
          [
           "Γαλλία"
          ],
          [
           "Γαλλία"
          ],
          [
           "Γαλλία"
          ],
          [
           "Γαλλία"
          ],
          [
           "Γαλλία"
          ],
          [
           "Γαλλία"
          ]
         ],
         "hoverlabel": {
          "namelength": 0
         },
         "hovertemplate": "Χώρα=%{customdata[0]}<br>Αριθμός Κρουσμάτων=%{y}",
         "legendgroup": "Γαλλία",
         "line": {
          "color": "rgb(189,189,189)",
          "dash": "solid",
          "shape": "spline"
         },
         "mode": "lines",
         "name": "Γαλλία",
         "showlegend": true,
         "type": "scatter",
         "xaxis": "x",
         "y": [
          11,
          19,
          19,
          33,
          48,
          48,
          79,
          91,
          91,
          149,
          149,
          149,
          244,
          451,
          563,
          676,
          862,
          1102,
          1333,
          1698,
          1997,
          2317,
          2611,
          3030,
          3532,
          4043,
          5398,
          6520,
          7574,
          8093,
          8926,
          10343,
          10887,
          12228,
          13215,
          13851,
          14412
         ],
         "yaxis": "y"
        },
        {
         "customdata": [
          [
           "Ονδούρα"
          ],
          [
           "Ονδούρα"
          ],
          [
           "Ονδούρα"
          ],
          [
           "Ονδούρα"
          ],
          [
           "Ονδούρα"
          ],
          [
           "Ονδούρα"
          ],
          [
           "Ονδούρα"
          ],
          [
           "Ονδούρα"
          ],
          [
           "Ονδούρα"
          ],
          [
           "Ονδούρα"
          ],
          [
           "Ονδούρα"
          ],
          [
           "Ονδούρα"
          ]
         ],
         "hoverlabel": {
          "namelength": 0
         },
         "hovertemplate": "Χώρα=%{customdata[0]}<br>Αριθμός Κρουσμάτων=%{y}",
         "legendgroup": "Ονδούρα",
         "line": {
          "color": "rgb(189,189,189)",
          "dash": "solid",
          "shape": "spline"
         },
         "mode": "lines",
         "name": "Ονδούρα",
         "showlegend": true,
         "type": "scatter",
         "xaxis": "x",
         "y": [
          10,
          14,
          15,
          15,
          22,
          22,
          22,
          22,
          23,
          23,
          24,
          25
         ],
         "yaxis": "y"
        },
        {
         "customdata": [
          [
           "Ουγγαρία"
          ],
          [
           "Ουγγαρία"
          ],
          [
           "Ουγγαρία"
          ],
          [
           "Ουγγαρία"
          ],
          [
           "Ουγγαρία"
          ],
          [
           "Ουγγαρία"
          ],
          [
           "Ουγγαρία"
          ],
          [
           "Ουγγαρία"
          ],
          [
           "Ουγγαρία"
          ],
          [
           "Ουγγαρία"
          ],
          [
           "Ουγγαρία"
          ],
          [
           "Ουγγαρία"
          ],
          [
           "Ουγγαρία"
          ],
          [
           "Ουγγαρία"
          ],
          [
           "Ουγγαρία"
          ],
          [
           "Ουγγαρία"
          ],
          [
           "Ουγγαρία"
          ],
          [
           "Ουγγαρία"
          ],
          [
           "Ουγγαρία"
          ]
         ],
         "hoverlabel": {
          "namelength": 0
         },
         "hovertemplate": "Χώρα=%{customdata[0]}<br>Αριθμός Κρουσμάτων=%{y}",
         "legendgroup": "Ουγγαρία",
         "line": {
          "color": "rgb(189,189,189)",
          "dash": "solid",
          "shape": "spline"
         },
         "mode": "lines",
         "name": "Ουγγαρία",
         "showlegend": true,
         "type": "scatter",
         "xaxis": "x",
         "y": [
          10,
          10,
          10,
          11,
          13,
          15,
          16,
          20,
          21,
          26,
          32,
          34,
          38,
          47,
          58,
          66,
          77,
          85,
          99
         ],
         "yaxis": "y"
        },
        {
         "customdata": [
          [
           "Ινδία"
          ],
          [
           "Ινδία"
          ],
          [
           "Ινδία"
          ],
          [
           "Ινδία"
          ],
          [
           "Ινδία"
          ],
          [
           "Ινδία"
          ],
          [
           "Ινδία"
          ],
          [
           "Ινδία"
          ],
          [
           "Ινδία"
          ],
          [
           "Ινδία"
          ],
          [
           "Ινδία"
          ],
          [
           "Ινδία"
          ],
          [
           "Ινδία"
          ],
          [
           "Ινδία"
          ],
          [
           "Ινδία"
          ],
          [
           "Ινδία"
          ],
          [
           "Ινδία"
          ],
          [
           "Ινδία"
          ],
          [
           "Ινδία"
          ],
          [
           "Ινδία"
          ],
          [
           "Ινδία"
          ]
         ],
         "hoverlabel": {
          "namelength": 0
         },
         "hovertemplate": "Χώρα=%{customdata[0]}<br>Αριθμός Κρουσμάτων=%{y}",
         "legendgroup": "Ινδία",
         "line": {
          "color": "rgb(189,189,189)",
          "dash": "solid",
          "shape": "spline"
         },
         "mode": "lines",
         "name": "Ινδία",
         "showlegend": true,
         "type": "scatter",
         "xaxis": "x",
         "y": [
          10,
          10,
          12,
          20,
          20,
          24,
          27,
          32,
          35,
          58,
          72,
          72,
          86,
          99,
          136,
          150,
          178,
          226,
          246,
          288,
          331
         ],
         "yaxis": "y"
        },
        {
         "customdata": [
          [
           "Ινδονησία"
          ],
          [
           "Ινδονησία"
          ],
          [
           "Ινδονησία"
          ],
          [
           "Ινδονησία"
          ],
          [
           "Ινδονησία"
          ],
          [
           "Ινδονησία"
          ],
          [
           "Ινδονησία"
          ],
          [
           "Ινδονησία"
          ],
          [
           "Ινδονησία"
          ],
          [
           "Ινδονησία"
          ],
          [
           "Ινδονησία"
          ],
          [
           "Ινδονησία"
          ],
          [
           "Ινδονησία"
          ],
          [
           "Ινδονησία"
          ],
          [
           "Ινδονησία"
          ],
          [
           "Ινδονησία"
          ],
          [
           "Ινδονησία"
          ],
          [
           "Ινδονησία"
          ],
          [
           "Ινδονησία"
          ],
          [
           "Ινδονησία"
          ],
          [
           "Ινδονησία"
          ],
          [
           "Ινδονησία"
          ],
          [
           "Ινδονησία"
          ],
          [
           "Ινδονησία"
          ],
          [
           "Ινδονησία"
          ],
          [
           "Ινδονησία"
          ]
         ],
         "hoverlabel": {
          "namelength": 0
         },
         "hovertemplate": "Χώρα=%{customdata[0]}<br>Αριθμός Κρουσμάτων=%{y}",
         "legendgroup": "Ινδονησία",
         "line": {
          "color": "rgb(189,189,189)",
          "dash": "solid",
          "shape": "spline"
         },
         "mode": "lines",
         "name": "Ινδονησία",
         "showlegend": true,
         "type": "scatter",
         "xaxis": "x",
         "y": [
          19,
          25,
          32,
          38,
          48,
          49,
          55,
          58,
          78,
          87,
          102,
          114,
          122,
          136,
          157,
          170,
          181,
          191,
          198,
          209,
          221,
          240,
          280,
          306,
          327,
          373
         ],
         "yaxis": "y"
        },
        {
         "customdata": [
          [
           "Ιράν"
          ],
          [
           "Ιράν"
          ],
          [
           "Ιράν"
          ],
          [
           "Ιράν"
          ],
          [
           "Ιράν"
          ],
          [
           "Ιράν"
          ],
          [
           "Ιράν"
          ],
          [
           "Ιράν"
          ],
          [
           "Ιράν"
          ],
          [
           "Ιράν"
          ],
          [
           "Ιράν"
          ],
          [
           "Ιράν"
          ],
          [
           "Ιράν"
          ],
          [
           "Ιράν"
          ],
          [
           "Ιράν"
          ],
          [
           "Ιράν"
          ],
          [
           "Ιράν"
          ],
          [
           "Ιράν"
          ],
          [
           "Ιράν"
          ],
          [
           "Ιράν"
          ],
          [
           "Ιράν"
          ],
          [
           "Ιράν"
          ],
          [
           "Ιράν"
          ],
          [
           "Ιράν"
          ],
          [
           "Ιράν"
          ],
          [
           "Ιράν"
          ],
          [
           "Ιράν"
          ],
          [
           "Ιράν"
          ],
          [
           "Ιράν"
          ],
          [
           "Ιράν"
          ],
          [
           "Ιράν"
          ],
          [
           "Ιράν"
          ],
          [
           "Ιράν"
          ],
          [
           "Ιράν"
          ],
          [
           "Ιράν"
          ],
          [
           "Ιράν"
          ],
          [
           "Ιράν"
          ],
          [
           "Ιράν"
          ],
          [
           "Ιράν"
          ],
          [
           "Ιράν"
          ],
          [
           "Ιράν"
          ],
          [
           "Ιράν"
          ],
          [
           "Ιράν"
          ],
          [
           "Ιράν"
          ],
          [
           "Ιράν"
          ],
          [
           "Ιράν"
          ],
          [
           "Ιράν"
          ],
          [
           "Ιράν"
          ],
          [
           "Ιράν"
          ]
         ],
         "hoverlabel": {
          "namelength": 0
         },
         "hovertemplate": "Χώρα=%{customdata[0]}<br>Αριθμός Κρουσμάτων=%{y}",
         "legendgroup": "Ιράν",
         "line": {
          "color": "rgb(189,189,189)",
          "dash": "solid",
          "shape": "spline"
         },
         "mode": "lines",
         "name": "Ιράν",
         "showlegend": true,
         "type": "scatter",
         "xaxis": "x",
         "y": [
          12,
          16,
          19,
          26,
          34,
          43,
          54,
          66,
          77,
          92,
          107,
          124,
          145,
          194,
          237,
          291,
          354,
          429,
          514,
          611,
          724,
          853,
          988,
          1135,
          1284,
          1433,
          1556,
          1685,
          1812,
          1934,
          2077,
          2234,
          2378,
          2517,
          2640,
          2757,
          2898,
          3036,
          3160,
          3294,
          3452,
          3603,
          3739,
          3872,
          3993,
          4110,
          4232,
          4357,
          4474
         ],
         "yaxis": "y"
        },
        {
         "customdata": [
          [
           "Ιράκ"
          ],
          [
           "Ιράκ"
          ],
          [
           "Ιράκ"
          ],
          [
           "Ιράκ"
          ],
          [
           "Ιράκ"
          ],
          [
           "Ιράκ"
          ],
          [
           "Ιράκ"
          ],
          [
           "Ιράκ"
          ],
          [
           "Ιράκ"
          ],
          [
           "Ιράκ"
          ],
          [
           "Ιράκ"
          ],
          [
           "Ιράκ"
          ],
          [
           "Ιράκ"
          ],
          [
           "Ιράκ"
          ],
          [
           "Ιράκ"
          ],
          [
           "Ιράκ"
          ],
          [
           "Ιράκ"
          ],
          [
           "Ιράκ"
          ],
          [
           "Ιράκ"
          ],
          [
           "Ιράκ"
          ],
          [
           "Ιράκ"
          ],
          [
           "Ιράκ"
          ],
          [
           "Ιράκ"
          ],
          [
           "Ιράκ"
          ],
          [
           "Ιράκ"
          ],
          [
           "Ιράκ"
          ],
          [
           "Ιράκ"
          ],
          [
           "Ιράκ"
          ],
          [
           "Ιράκ"
          ],
          [
           "Ιράκ"
          ]
         ],
         "hoverlabel": {
          "namelength": 0
         },
         "hovertemplate": "Χώρα=%{customdata[0]}<br>Αριθμός Κρουσμάτων=%{y}",
         "legendgroup": "Ιράκ",
         "line": {
          "color": "rgb(189,189,189)",
          "dash": "solid",
          "shape": "spline"
         },
         "mode": "lines",
         "name": "Ιράκ",
         "showlegend": true,
         "type": "scatter",
         "xaxis": "x",
         "y": [
          10,
          10,
          10,
          11,
          12,
          13,
          17,
          17,
          20,
          23,
          27,
          29,
          36,
          40,
          42,
          42,
          46,
          50,
          52,
          54,
          54,
          56,
          61,
          64,
          65,
          69,
          69,
          70,
          72,
          76
         ],
         "yaxis": "y"
        },
        {
         "customdata": [
          [
           "Ιρλανδία"
          ],
          [
           "Ιρλανδία"
          ],
          [
           "Ιρλανδία"
          ],
          [
           "Ιρλανδία"
          ],
          [
           "Ιρλανδία"
          ],
          [
           "Ιρλανδία"
          ],
          [
           "Ιρλανδία"
          ],
          [
           "Ιρλανδία"
          ],
          [
           "Ιρλανδία"
          ],
          [
           "Ιρλανδία"
          ],
          [
           "Ιρλανδία"
          ],
          [
           "Ιρλανδία"
          ],
          [
           "Ιρλανδία"
          ],
          [
           "Ιρλανδία"
          ],
          [
           "Ιρλανδία"
          ],
          [
           "Ιρλανδία"
          ],
          [
           "Ιρλανδία"
          ],
          [
           "Ιρλανδία"
          ]
         ],
         "hoverlabel": {
          "namelength": 0
         },
         "hovertemplate": "Χώρα=%{customdata[0]}<br>Αριθμός Κρουσμάτων=%{y}",
         "legendgroup": "Ιρλανδία",
         "line": {
          "color": "rgb(189,189,189)",
          "dash": "solid",
          "shape": "spline"
         },
         "mode": "lines",
         "name": "Ιρλανδία",
         "showlegend": true,
         "type": "scatter",
         "xaxis": "x",
         "y": [
          19,
          22,
          36,
          46,
          54,
          71,
          85,
          98,
          120,
          137,
          158,
          174,
          210,
          235,
          263,
          287,
          320,
          334
         ],
         "yaxis": "y"
        },
        {
         "customdata": [
          [
           "Ισραήλ"
          ],
          [
           "Ισραήλ"
          ],
          [
           "Ισραήλ"
          ],
          [
           "Ισραήλ"
          ],
          [
           "Ισραήλ"
          ],
          [
           "Ισραήλ"
          ],
          [
           "Ισραήλ"
          ],
          [
           "Ισραήλ"
          ],
          [
           "Ισραήλ"
          ],
          [
           "Ισραήλ"
          ],
          [
           "Ισραήλ"
          ],
          [
           "Ισραήλ"
          ],
          [
           "Ισραήλ"
          ],
          [
           "Ισραήλ"
          ],
          [
           "Ισραήλ"
          ],
          [
           "Ισραήλ"
          ],
          [
           "Ισραήλ"
          ]
         ],
         "hoverlabel": {
          "namelength": 0
         },
         "hovertemplate": "Χώρα=%{customdata[0]}<br>Αριθμός Κρουσμάτων=%{y}",
         "legendgroup": "Ισραήλ",
         "line": {
          "color": "rgb(189,189,189)",
          "dash": "solid",
          "shape": "spline"
         },
         "mode": "lines",
         "name": "Ισραήλ",
         "showlegend": true,
         "type": "scatter",
         "xaxis": "x",
         "y": [
          12,
          12,
          15,
          16,
          20,
          26,
          36,
          40,
          44,
          49,
          57,
          65,
          73,
          86,
          95,
          101,
          103
         ],
         "yaxis": "y"
        },
        {
         "customdata": [
          [
           "Ιαπωνία"
          ],
          [
           "Ιαπωνία"
          ],
          [
           "Ιαπωνία"
          ],
          [
           "Ιαπωνία"
          ],
          [
           "Ιαπωνία"
          ],
          [
           "Ιαπωνία"
          ],
          [
           "Ιαπωνία"
          ],
          [
           "Ιαπωνία"
          ],
          [
           "Ιαπωνία"
          ],
          [
           "Ιαπωνία"
          ],
          [
           "Ιαπωνία"
          ],
          [
           "Ιαπωνία"
          ],
          [
           "Ιαπωνία"
          ],
          [
           "Ιαπωνία"
          ],
          [
           "Ιαπωνία"
          ],
          [
           "Ιαπωνία"
          ],
          [
           "Ιαπωνία"
          ],
          [
           "Ιαπωνία"
          ],
          [
           "Ιαπωνία"
          ],
          [
           "Ιαπωνία"
          ],
          [
           "Ιαπωνία"
          ],
          [
           "Ιαπωνία"
          ],
          [
           "Ιαπωνία"
          ],
          [
           "Ιαπωνία"
          ],
          [
           "Ιαπωνία"
          ],
          [
           "Ιαπωνία"
          ],
          [
           "Ιαπωνία"
          ],
          [
           "Ιαπωνία"
          ],
          [
           "Ιαπωνία"
          ],
          [
           "Ιαπωνία"
          ],
          [
           "Ιαπωνία"
          ],
          [
           "Ιαπωνία"
          ],
          [
           "Ιαπωνία"
          ],
          [
           "Ιαπωνία"
          ],
          [
           "Ιαπωνία"
          ]
         ],
         "hoverlabel": {
          "namelength": 0
         },
         "hovertemplate": "Χώρα=%{customdata[0]}<br>Αριθμός Κρουσμάτων=%{y}",
         "legendgroup": "Ιαπωνία",
         "line": {
          "color": "rgb(189,189,189)",
          "dash": "solid",
          "shape": "spline"
         },
         "mode": "lines",
         "name": "Ιαπωνία",
         "showlegend": true,
         "type": "scatter",
         "xaxis": "x",
         "y": [
          10,
          10,
          15,
          16,
          19,
          22,
          22,
          27,
          29,
          29,
          29,
          33,
          35,
          41,
          42,
          43,
          45,
          47,
          49,
          52,
          54,
          54,
          56,
          57,
          62,
          63,
          77,
          77,
          85,
          92,
          93,
          94,
          99,
          99,
          108
         ],
         "yaxis": "y"
        },
        {
         "customdata": [
          [
           "Καζακστάν"
          ],
          [
           "Καζακστάν"
          ],
          [
           "Καζακστάν"
          ]
         ],
         "hoverlabel": {
          "namelength": 0
         },
         "hovertemplate": "Χώρα=%{customdata[0]}<br>Αριθμός Κρουσμάτων=%{y}",
         "legendgroup": "Καζακστάν",
         "line": {
          "color": "rgb(189,189,189)",
          "dash": "solid",
          "shape": "spline"
         },
         "mode": "lines",
         "name": "Καζακστάν",
         "showlegend": true,
         "type": "scatter",
         "xaxis": "x",
         "y": [
          10,
          10,
          10
         ],
         "yaxis": "y"
        },
        {
         "customdata": [
          [
           "Νότια Κορέα"
          ],
          [
           "Νότια Κορέα"
          ],
          [
           "Νότια Κορέα"
          ],
          [
           "Νότια Κορέα"
          ],
          [
           "Νότια Κορέα"
          ],
          [
           "Νότια Κορέα"
          ],
          [
           "Νότια Κορέα"
          ],
          [
           "Νότια Κορέα"
          ],
          [
           "Νότια Κορέα"
          ],
          [
           "Νότια Κορέα"
          ],
          [
           "Νότια Κορέα"
          ],
          [
           "Νότια Κορέα"
          ],
          [
           "Νότια Κορέα"
          ],
          [
           "Νότια Κορέα"
          ],
          [
           "Νότια Κορέα"
          ],
          [
           "Νότια Κορέα"
          ],
          [
           "Νότια Κορέα"
          ],
          [
           "Νότια Κορέα"
          ],
          [
           "Νότια Κορέα"
          ],
          [
           "Νότια Κορέα"
          ],
          [
           "Νότια Κορέα"
          ],
          [
           "Νότια Κορέα"
          ],
          [
           "Νότια Κορέα"
          ],
          [
           "Νότια Κορέα"
          ],
          [
           "Νότια Κορέα"
          ],
          [
           "Νότια Κορέα"
          ],
          [
           "Νότια Κορέα"
          ],
          [
           "Νότια Κορέα"
          ],
          [
           "Νότια Κορέα"
          ],
          [
           "Νότια Κορέα"
          ],
          [
           "Νότια Κορέα"
          ],
          [
           "Νότια Κορέα"
          ],
          [
           "Νότια Κορέα"
          ],
          [
           "Νότια Κορέα"
          ],
          [
           "Νότια Κορέα"
          ],
          [
           "Νότια Κορέα"
          ],
          [
           "Νότια Κορέα"
          ],
          [
           "Νότια Κορέα"
          ],
          [
           "Νότια Κορέα"
          ],
          [
           "Νότια Κορέα"
          ],
          [
           "Νότια Κορέα"
          ],
          [
           "Νότια Κορέα"
          ],
          [
           "Νότια Κορέα"
          ],
          [
           "Νότια Κορέα"
          ],
          [
           "Νότια Κορέα"
          ],
          [
           "Νότια Κορέα"
          ],
          [
           "Νότια Κορέα"
          ],
          [
           "Νότια Κορέα"
          ]
         ],
         "hoverlabel": {
          "namelength": 0
         },
         "hovertemplate": "Χώρα=%{customdata[0]}<br>Αριθμός Κρουσμάτων=%{y}",
         "legendgroup": "Νότια Κορέα",
         "line": {
          "color": "rgb(189,189,189)",
          "dash": "solid",
          "shape": "spline"
         },
         "mode": "lines",
         "name": "Νότια Κορέα",
         "showlegend": true,
         "type": "scatter",
         "xaxis": "x",
         "y": [
          10,
          12,
          13,
          13,
          16,
          17,
          28,
          28,
          35,
          35,
          42,
          44,
          50,
          53,
          54,
          60,
          66,
          66,
          72,
          75,
          75,
          81,
          84,
          91,
          94,
          102,
          111,
          111,
          120,
          126,
          131,
          139,
          144,
          152,
          158,
          162,
          165,
          169,
          174,
          177,
          183,
          186,
          192,
          200,
          204,
          208,
          211,
          214
         ],
         "yaxis": "y"
        },
        {
         "customdata": [
          [
           "Λίβανος"
          ],
          [
           "Λίβανος"
          ],
          [
           "Λίβανος"
          ],
          [
           "Λίβανος"
          ],
          [
           "Λίβανος"
          ],
          [
           "Λίβανος"
          ],
          [
           "Λίβανος"
          ],
          [
           "Λίβανος"
          ],
          [
           "Λίβανος"
          ],
          [
           "Λίβανος"
          ],
          [
           "Λίβανος"
          ],
          [
           "Λίβανος"
          ],
          [
           "Λίβανος"
          ],
          [
           "Λίβανος"
          ],
          [
           "Λίβανος"
          ]
         ],
         "hoverlabel": {
          "namelength": 0
         },
         "hovertemplate": "Χώρα=%{customdata[0]}<br>Αριθμός Κρουσμάτων=%{y}",
         "legendgroup": "Λίβανος",
         "line": {
          "color": "rgb(189,189,189)",
          "dash": "solid",
          "shape": "spline"
         },
         "mode": "lines",
         "name": "Λίβανος",
         "showlegend": true,
         "type": "scatter",
         "xaxis": "x",
         "y": [
          10,
          11,
          12,
          14,
          16,
          17,
          17,
          18,
          19,
          19,
          19,
          19,
          20,
          20,
          20
         ],
         "yaxis": "y"
        },
        {
         "customdata": [
          [
           "Λιθουανία"
          ],
          [
           "Λιθουανία"
          ],
          [
           "Λιθουανία"
          ],
          [
           "Λιθουανία"
          ],
          [
           "Λιθουανία"
          ],
          [
           "Λιθουανία"
          ],
          [
           "Λιθουανία"
          ],
          [
           "Λιθουανία"
          ],
          [
           "Λιθουανία"
          ]
         ],
         "hoverlabel": {
          "namelength": 0
         },
         "hovertemplate": "Χώρα=%{customdata[0]}<br>Αριθμός Κρουσμάτων=%{y}",
         "legendgroup": "Λιθουανία",
         "line": {
          "color": "rgb(189,189,189)",
          "dash": "solid",
          "shape": "spline"
         },
         "mode": "lines",
         "name": "Λιθουανία",
         "showlegend": true,
         "type": "scatter",
         "xaxis": "x",
         "y": [
          11,
          13,
          15,
          15,
          15,
          16,
          22,
          23,
          23
         ],
         "yaxis": "y"
        },
        {
         "customdata": [
          [
           "Λουξεμβούργο"
          ],
          [
           "Λουξεμβούργο"
          ],
          [
           "Λουξεμβούργο"
          ],
          [
           "Λουξεμβούργο"
          ],
          [
           "Λουξεμβούργο"
          ],
          [
           "Λουξεμβούργο"
          ],
          [
           "Λουξεμβούργο"
          ],
          [
           "Λουξεμβούργο"
          ],
          [
           "Λουξεμβούργο"
          ],
          [
           "Λουξεμβούργο"
          ],
          [
           "Λουξεμβούργο"
          ],
          [
           "Λουξεμβούργο"
          ],
          [
           "Λουξεμβούργο"
          ],
          [
           "Λουξεμβούργο"
          ],
          [
           "Λουξεμβούργο"
          ],
          [
           "Λουξεμβούργο"
          ],
          [
           "Λουξεμβούργο"
          ]
         ],
         "hoverlabel": {
          "namelength": 0
         },
         "hovertemplate": "Χώρα=%{customdata[0]}<br>Αριθμός Κρουσμάτων=%{y}",
         "legendgroup": "Λουξεμβούργο",
         "line": {
          "color": "rgb(189,189,189)",
          "dash": "solid",
          "shape": "spline"
         },
         "mode": "lines",
         "name": "Λουξεμβούργο",
         "showlegend": true,
         "type": "scatter",
         "xaxis": "x",
         "y": [
          15,
          18,
          21,
          22,
          23,
          29,
          30,
          31,
          31,
          36,
          41,
          44,
          46,
          52,
          54,
          62,
          66
         ],
         "yaxis": "y"
        },
        {
         "customdata": [
          [
           "Μαλαισία"
          ],
          [
           "Μαλαισία"
          ],
          [
           "Μαλαισία"
          ],
          [
           "Μαλαισία"
          ],
          [
           "Μαλαισία"
          ],
          [
           "Μαλαισία"
          ],
          [
           "Μαλαισία"
          ],
          [
           "Μαλαισία"
          ],
          [
           "Μαλαισία"
          ],
          [
           "Μαλαισία"
          ],
          [
           "Μαλαισία"
          ],
          [
           "Μαλαισία"
          ],
          [
           "Μαλαισία"
          ],
          [
           "Μαλαισία"
          ],
          [
           "Μαλαισία"
          ],
          [
           "Μαλαισία"
          ],
          [
           "Μαλαισία"
          ],
          [
           "Μαλαισία"
          ],
          [
           "Μαλαισία"
          ],
          [
           "Μαλαισία"
          ],
          [
           "Μαλαισία"
          ],
          [
           "Μαλαισία"
          ]
         ],
         "hoverlabel": {
          "namelength": 0
         },
         "hovertemplate": "Χώρα=%{customdata[0]}<br>Αριθμός Κρουσμάτων=%{y}",
         "legendgroup": "Μαλαισία",
         "line": {
          "color": "rgb(189,189,189)",
          "dash": "solid",
          "shape": "spline"
         },
         "mode": "lines",
         "name": "Μαλαισία",
         "showlegend": true,
         "type": "scatter",
         "xaxis": "x",
         "y": [
          10,
          14,
          16,
          20,
          23,
          26,
          27,
          35,
          37,
          43,
          45,
          50,
          53,
          57,
          61,
          62,
          63,
          65,
          67,
          70,
          73,
          76
         ],
         "yaxis": "y"
        },
        {
         "customdata": [
          [
           "Μεξικό"
          ],
          [
           "Μεξικό"
          ],
          [
           "Μεξικό"
          ],
          [
           "Μεξικό"
          ],
          [
           "Μεξικό"
          ],
          [
           "Μεξικό"
          ],
          [
           "Μεξικό"
          ],
          [
           "Μεξικό"
          ],
          [
           "Μεξικό"
          ],
          [
           "Μεξικό"
          ],
          [
           "Μεξικό"
          ],
          [
           "Μεξικό"
          ],
          [
           "Μεξικό"
          ],
          [
           "Μεξικό"
          ],
          [
           "Μεξικό"
          ],
          [
           "Μεξικό"
          ]
         ],
         "hoverlabel": {
          "namelength": 0
         },
         "hovertemplate": "Χώρα=%{customdata[0]}<br>Αριθμός Κρουσμάτων=%{y}",
         "legendgroup": "Μεξικό",
         "line": {
          "color": "rgb(189,189,189)",
          "dash": "solid",
          "shape": "spline"
         },
         "mode": "lines",
         "name": "Μεξικό",
         "showlegend": true,
         "type": "scatter",
         "xaxis": "x",
         "y": [
          12,
          16,
          20,
          28,
          29,
          37,
          50,
          60,
          79,
          94,
          125,
          141,
          174,
          194,
          233,
          273
         ],
         "yaxis": "y"
        },
        {
         "customdata": [
          [
           "Μολδοβία"
          ],
          [
           "Μολδοβία"
          ],
          [
           "Μολδοβία"
          ],
          [
           "Μολδοβία"
          ],
          [
           "Μολδοβία"
          ],
          [
           "Μολδοβία"
          ],
          [
           "Μολδοβία"
          ],
          [
           "Μολδοβία"
          ],
          [
           "Μολδοβία"
          ]
         ],
         "hoverlabel": {
          "namelength": 0
         },
         "hovertemplate": "Χώρα=%{customdata[0]}<br>Αριθμός Κρουσμάτων=%{y}",
         "legendgroup": "Μολδοβία",
         "line": {
          "color": "rgb(189,189,189)",
          "dash": "solid",
          "shape": "spline"
         },
         "mode": "lines",
         "name": "Μολδοβία",
         "showlegend": true,
         "type": "scatter",
         "xaxis": "x",
         "y": [
          12,
          15,
          19,
          22,
          27,
          29,
          29,
          30,
          31
         ],
         "yaxis": "y"
        },
        {
         "customdata": [
          [
           "Μαρόκο"
          ],
          [
           "Μαρόκο"
          ],
          [
           "Μαρόκο"
          ],
          [
           "Μαρόκο"
          ],
          [
           "Μαρόκο"
          ],
          [
           "Μαρόκο"
          ],
          [
           "Μαρόκο"
          ],
          [
           "Μαρόκο"
          ],
          [
           "Μαρόκο"
          ],
          [
           "Μαρόκο"
          ],
          [
           "Μαρόκο"
          ],
          [
           "Μαρόκο"
          ],
          [
           "Μαρόκο"
          ],
          [
           "Μαρόκο"
          ],
          [
           "Μαρόκο"
          ],
          [
           "Μαρόκο"
          ],
          [
           "Μαρόκο"
          ],
          [
           "Μαρόκο"
          ]
         ],
         "hoverlabel": {
          "namelength": 0
         },
         "hovertemplate": "Χώρα=%{customdata[0]}<br>Αριθμός Κρουσμάτων=%{y}",
         "legendgroup": "Μαρόκο",
         "line": {
          "color": "rgb(189,189,189)",
          "dash": "solid",
          "shape": "spline"
         },
         "mode": "lines",
         "name": "Μαρόκο",
         "showlegend": true,
         "type": "scatter",
         "xaxis": "x",
         "y": [
          11,
          23,
          25,
          26,
          33,
          36,
          39,
          44,
          48,
          59,
          70,
          80,
          90,
          93,
          97,
          107,
          111,
          118
         ],
         "yaxis": "y"
        },
        {
         "customdata": [
          [
           "Ολλανδία"
          ],
          [
           "Ολλανδία"
          ],
          [
           "Ολλανδία"
          ],
          [
           "Ολλανδία"
          ],
          [
           "Ολλανδία"
          ],
          [
           "Ολλανδία"
          ],
          [
           "Ολλανδία"
          ],
          [
           "Ολλανδία"
          ],
          [
           "Ολλανδία"
          ],
          [
           "Ολλανδία"
          ],
          [
           "Ολλανδία"
          ],
          [
           "Ολλανδία"
          ],
          [
           "Ολλανδία"
          ],
          [
           "Ολλανδία"
          ],
          [
           "Ολλανδία"
          ],
          [
           "Ολλανδία"
          ],
          [
           "Ολλανδία"
          ],
          [
           "Ολλανδία"
          ],
          [
           "Ολλανδία"
          ],
          [
           "Ολλανδία"
          ],
          [
           "Ολλανδία"
          ],
          [
           "Ολλανδία"
          ],
          [
           "Ολλανδία"
          ],
          [
           "Ολλανδία"
          ],
          [
           "Ολλανδία"
          ],
          [
           "Ολλανδία"
          ],
          [
           "Ολλανδία"
          ],
          [
           "Ολλανδία"
          ],
          [
           "Ολλανδία"
          ],
          [
           "Ολλανδία"
          ],
          [
           "Ολλανδία"
          ]
         ],
         "hoverlabel": {
          "namelength": 0
         },
         "hovertemplate": "Χώρα=%{customdata[0]}<br>Αριθμός Κρουσμάτων=%{y}",
         "legendgroup": "Ολλανδία",
         "line": {
          "color": "rgb(189,189,189)",
          "dash": "solid",
          "shape": "spline"
         },
         "mode": "lines",
         "name": "Ολλανδία",
         "showlegend": true,
         "type": "scatter",
         "xaxis": "x",
         "y": [
          10,
          12,
          20,
          24,
          43,
          58,
          77,
          107,
          137,
          180,
          214,
          277,
          357,
          435,
          547,
          640,
          772,
          865,
          1040,
          1175,
          1341,
          1490,
          1656,
          1771,
          1874,
          2108,
          2255,
          2403,
          2520,
          2653,
          2747
         ],
         "yaxis": "y"
        },
        {
         "customdata": [
          [
           "Νίγηρας"
          ],
          [
           "Νίγηρας"
          ],
          [
           "Νίγηρας"
          ],
          [
           "Νίγηρας"
          ],
          [
           "Νίγηρας"
          ],
          [
           "Νίγηρας"
          ],
          [
           "Νίγηρας"
          ],
          [
           "Νίγηρας"
          ]
         ],
         "hoverlabel": {
          "namelength": 0
         },
         "hovertemplate": "Χώρα=%{customdata[0]}<br>Αριθμός Κρουσμάτων=%{y}",
         "legendgroup": "Νίγηρας",
         "line": {
          "color": "rgb(189,189,189)",
          "dash": "solid",
          "shape": "spline"
         },
         "mode": "lines",
         "name": "Νίγηρας",
         "showlegend": true,
         "type": "scatter",
         "xaxis": "x",
         "y": [
          10,
          10,
          11,
          11,
          11,
          11,
          11,
          12
         ],
         "yaxis": "y"
        },
        {
         "customdata": [
          [
           "Νιγηρία"
          ],
          [
           "Νιγηρία"
          ]
         ],
         "hoverlabel": {
          "namelength": 0
         },
         "hovertemplate": "Χώρα=%{customdata[0]}<br>Αριθμός Κρουσμάτων=%{y}",
         "legendgroup": "Νιγηρία",
         "line": {
          "color": "rgb(189,189,189)",
          "dash": "solid",
          "shape": "spline"
         },
         "mode": "lines",
         "name": "Νιγηρία",
         "showlegend": true,
         "type": "scatter",
         "xaxis": "x",
         "y": [
          10,
          10
         ],
         "yaxis": "y"
        },
        {
         "customdata": [
          [
           "Βόρεια Μακεδονία"
          ],
          [
           "Βόρεια Μακεδονία"
          ],
          [
           "Βόρεια Μακεδονία"
          ],
          [
           "Βόρεια Μακεδονία"
          ],
          [
           "Βόρεια Μακεδονία"
          ],
          [
           "Βόρεια Μακεδονία"
          ],
          [
           "Βόρεια Μακεδονία"
          ],
          [
           "Βόρεια Μακεδονία"
          ],
          [
           "Βόρεια Μακεδονία"
          ],
          [
           "Βόρεια Μακεδονία"
          ],
          [
           "Βόρεια Μακεδονία"
          ],
          [
           "Βόρεια Μακεδονία"
          ]
         ],
         "hoverlabel": {
          "namelength": 0
         },
         "hovertemplate": "Χώρα=%{customdata[0]}<br>Αριθμός Κρουσμάτων=%{y}",
         "legendgroup": "Βόρεια Μακεδονία",
         "line": {
          "color": "rgb(189,189,189)",
          "dash": "solid",
          "shape": "spline"
         },
         "mode": "lines",
         "name": "Βόρεια Μακεδονία",
         "showlegend": true,
         "type": "scatter",
         "xaxis": "x",
         "y": [
          11,
          11,
          12,
          17,
          18,
          23,
          26,
          29,
          30,
          32,
          34,
          34
         ],
         "yaxis": "y"
        },
        {
         "customdata": [
          [
           "Νορβηγία"
          ],
          [
           "Νορβηγία"
          ],
          [
           "Νορβηγία"
          ],
          [
           "Νορβηγία"
          ],
          [
           "Νορβηγία"
          ],
          [
           "Νορβηγία"
          ],
          [
           "Νορβηγία"
          ],
          [
           "Νορβηγία"
          ],
          [
           "Νορβηγία"
          ],
          [
           "Νορβηγία"
          ],
          [
           "Νορβηγία"
          ],
          [
           "Νορβηγία"
          ],
          [
           "Νορβηγία"
          ],
          [
           "Νορβηγία"
          ],
          [
           "Νορβηγία"
          ],
          [
           "Νορβηγία"
          ],
          [
           "Νορβηγία"
          ],
          [
           "Νορβηγία"
          ],
          [
           "Νορβηγία"
          ],
          [
           "Νορβηγία"
          ],
          [
           "Νορβηγία"
          ]
         ],
         "hoverlabel": {
          "namelength": 0
         },
         "hovertemplate": "Χώρα=%{customdata[0]}<br>Αριθμός Κρουσμάτων=%{y}",
         "legendgroup": "Νορβηγία",
         "line": {
          "color": "rgb(189,189,189)",
          "dash": "solid",
          "shape": "spline"
         },
         "mode": "lines",
         "name": "Νορβηγία",
         "showlegend": true,
         "type": "scatter",
         "xaxis": "x",
         "y": [
          10,
          12,
          14,
          14,
          19,
          23,
          25,
          32,
          39,
          44,
          50,
          59,
          62,
          71,
          76,
          89,
          101,
          108,
          113,
          119,
          128
         ],
         "yaxis": "y"
        },
        {
         "customdata": [
          [
           "Πακιστάν"
          ],
          [
           "Πακιστάν"
          ],
          [
           "Πακιστάν"
          ],
          [
           "Πακιστάν"
          ],
          [
           "Πακιστάν"
          ],
          [
           "Πακιστάν"
          ],
          [
           "Πακιστάν"
          ],
          [
           "Πακιστάν"
          ],
          [
           "Πακιστάν"
          ],
          [
           "Πακιστάν"
          ],
          [
           "Πακιστάν"
          ],
          [
           "Πακιστάν"
          ],
          [
           "Πακιστάν"
          ],
          [
           "Πακιστάν"
          ],
          [
           "Πακιστάν"
          ],
          [
           "Πακιστάν"
          ],
          [
           "Πακιστάν"
          ]
         ],
         "hoverlabel": {
          "namelength": 0
         },
         "hovertemplate": "Χώρα=%{customdata[0]}<br>Αριθμός Κρουσμάτων=%{y}",
         "legendgroup": "Πακιστάν",
         "line": {
          "color": "rgb(189,189,189)",
          "dash": "solid",
          "shape": "spline"
         },
         "mode": "lines",
         "name": "Πακιστάν",
         "showlegend": true,
         "type": "scatter",
         "xaxis": "x",
         "y": [
          11,
          12,
          14,
          21,
          26,
          27,
          34,
          40,
          41,
          47,
          53,
          57,
          61,
          65,
          66,
          86,
          91
         ],
         "yaxis": "y"
        },
        {
         "customdata": [
          [
           "Παναμάς"
          ],
          [
           "Παναμάς"
          ],
          [
           "Παναμάς"
          ],
          [
           "Παναμάς"
          ],
          [
           "Παναμάς"
          ],
          [
           "Παναμάς"
          ],
          [
           "Παναμάς"
          ],
          [
           "Παναμάς"
          ],
          [
           "Παναμάς"
          ],
          [
           "Παναμάς"
          ],
          [
           "Παναμάς"
          ],
          [
           "Παναμάς"
          ],
          [
           "Παναμάς"
          ],
          [
           "Παναμάς"
          ],
          [
           "Παναμάς"
          ],
          [
           "Παναμάς"
          ]
         ],
         "hoverlabel": {
          "namelength": 0
         },
         "hovertemplate": "Χώρα=%{customdata[0]}<br>Αριθμός Κρουσμάτων=%{y}",
         "legendgroup": "Παναμάς",
         "line": {
          "color": "rgb(189,189,189)",
          "dash": "solid",
          "shape": "spline"
         },
         "mode": "lines",
         "name": "Παναμάς",
         "showlegend": true,
         "type": "scatter",
         "xaxis": "x",
         "y": [
          14,
          17,
          24,
          30,
          30,
          32,
          37,
          41,
          46,
          54,
          55,
          59,
          63,
          66,
          74,
          79
         ],
         "yaxis": "y"
        },
        {
         "customdata": [
          [
           "Περού"
          ],
          [
           "Περού"
          ],
          [
           "Περού"
          ],
          [
           "Περού"
          ],
          [
           "Περού"
          ],
          [
           "Περού"
          ],
          [
           "Περού"
          ],
          [
           "Περού"
          ],
          [
           "Περού"
          ],
          [
           "Περού"
          ],
          [
           "Περού"
          ],
          [
           "Περού"
          ],
          [
           "Περού"
          ],
          [
           "Περού"
          ],
          [
           "Περού"
          ],
          [
           "Περού"
          ],
          [
           "Περού"
          ]
         ],
         "hoverlabel": {
          "namelength": 0
         },
         "hovertemplate": "Χώρα=%{customdata[0]}<br>Αριθμός Κρουσμάτων=%{y}",
         "legendgroup": "Περού",
         "line": {
          "color": "rgb(189,189,189)",
          "dash": "solid",
          "shape": "spline"
         },
         "mode": "lines",
         "name": "Περού",
         "showlegend": true,
         "type": "scatter",
         "xaxis": "x",
         "y": [
          11,
          16,
          18,
          24,
          30,
          38,
          55,
          61,
          73,
          83,
          92,
          107,
          121,
          138,
          169,
          181,
          193
         ],
         "yaxis": "y"
        },
        {
         "customdata": [
          [
           "Φιλιππίνες"
          ],
          [
           "Φιλιππίνες"
          ],
          [
           "Φιλιππίνες"
          ],
          [
           "Φιλιππίνες"
          ],
          [
           "Φιλιππίνες"
          ],
          [
           "Φιλιππίνες"
          ],
          [
           "Φιλιππίνες"
          ],
          [
           "Φιλιππίνες"
          ],
          [
           "Φιλιππίνες"
          ],
          [
           "Φιλιππίνες"
          ],
          [
           "Φιλιππίνες"
          ],
          [
           "Φιλιππίνες"
          ],
          [
           "Φιλιππίνες"
          ],
          [
           "Φιλιππίνες"
          ],
          [
           "Φιλιππίνες"
          ],
          [
           "Φιλιππίνες"
          ],
          [
           "Φιλιππίνες"
          ],
          [
           "Φιλιππίνες"
          ],
          [
           "Φιλιππίνες"
          ],
          [
           "Φιλιππίνες"
          ],
          [
           "Φιλιππίνες"
          ],
          [
           "Φιλιππίνες"
          ],
          [
           "Φιλιππίνες"
          ],
          [
           "Φιλιππίνες"
          ],
          [
           "Φιλιππίνες"
          ],
          [
           "Φιλιππίνες"
          ],
          [
           "Φιλιππίνες"
          ],
          [
           "Φιλιππίνες"
          ],
          [
           "Φιλιππίνες"
          ]
         ],
         "hoverlabel": {
          "namelength": 0
         },
         "hovertemplate": "Χώρα=%{customdata[0]}<br>Αριθμός Κρουσμάτων=%{y}",
         "legendgroup": "Φιλιππίνες",
         "line": {
          "color": "rgb(189,189,189)",
          "dash": "solid",
          "shape": "spline"
         },
         "mode": "lines",
         "name": "Φιλιππίνες",
         "showlegend": true,
         "type": "scatter",
         "xaxis": "x",
         "y": [
          11,
          12,
          12,
          19,
          17,
          18,
          19,
          25,
          33,
          35,
          38,
          45,
          54,
          68,
          71,
          78,
          88,
          96,
          107,
          136,
          144,
          152,
          163,
          177,
          182,
          203,
          221,
          247,
          297
         ],
         "yaxis": "y"
        },
        {
         "customdata": [
          [
           "Πολωνία"
          ],
          [
           "Πολωνία"
          ],
          [
           "Πολωνία"
          ],
          [
           "Πολωνία"
          ],
          [
           "Πολωνία"
          ],
          [
           "Πολωνία"
          ],
          [
           "Πολωνία"
          ],
          [
           "Πολωνία"
          ],
          [
           "Πολωνία"
          ],
          [
           "Πολωνία"
          ],
          [
           "Πολωνία"
          ],
          [
           "Πολωνία"
          ],
          [
           "Πολωνία"
          ],
          [
           "Πολωνία"
          ],
          [
           "Πολωνία"
          ],
          [
           "Πολωνία"
          ],
          [
           "Πολωνία"
          ],
          [
           "Πολωνία"
          ],
          [
           "Πολωνία"
          ],
          [
           "Πολωνία"
          ]
         ],
         "hoverlabel": {
          "namelength": 0
         },
         "hovertemplate": "Χώρα=%{customdata[0]}<br>Αριθμός Κρουσμάτων=%{y}",
         "legendgroup": "Πολωνία",
         "line": {
          "color": "rgb(189,189,189)",
          "dash": "solid",
          "shape": "spline"
         },
         "mode": "lines",
         "name": "Πολωνία",
         "showlegend": true,
         "type": "scatter",
         "xaxis": "x",
         "y": [
          10,
          14,
          16,
          16,
          18,
          22,
          31,
          33,
          43,
          57,
          71,
          79,
          94,
          107,
          129,
          159,
          174,
          181,
          208,
          232
         ],
         "yaxis": "y"
        },
        {
         "customdata": [
          [
           "Πορτογαλία"
          ],
          [
           "Πορτογαλία"
          ],
          [
           "Πορτογαλία"
          ],
          [
           "Πορτογαλία"
          ],
          [
           "Πορτογαλία"
          ],
          [
           "Πορτογαλία"
          ],
          [
           "Πορτογαλία"
          ],
          [
           "Πορτογαλία"
          ],
          [
           "Πορτογαλία"
          ],
          [
           "Πορτογαλία"
          ],
          [
           "Πορτογαλία"
          ],
          [
           "Πορτογαλία"
          ],
          [
           "Πορτογαλία"
          ],
          [
           "Πορτογαλία"
          ],
          [
           "Πορτογαλία"
          ],
          [
           "Πορτογαλία"
          ],
          [
           "Πορτογαλία"
          ],
          [
           "Πορτογαλία"
          ],
          [
           "Πορτογαλία"
          ],
          [
           "Πορτογαλία"
          ],
          [
           "Πορτογαλία"
          ],
          [
           "Πορτογαλία"
          ],
          [
           "Πορτογαλία"
          ]
         ],
         "hoverlabel": {
          "namelength": 0
         },
         "hovertemplate": "Χώρα=%{customdata[0]}<br>Αριθμός Κρουσμάτων=%{y}",
         "legendgroup": "Πορτογαλία",
         "line": {
          "color": "rgb(189,189,189)",
          "dash": "solid",
          "shape": "spline"
         },
         "mode": "lines",
         "name": "Πορτογαλία",
         "showlegend": true,
         "type": "scatter",
         "xaxis": "x",
         "y": [
          12,
          14,
          23,
          33,
          43,
          60,
          76,
          100,
          119,
          140,
          160,
          187,
          209,
          246,
          266,
          295,
          311,
          345,
          380,
          409,
          435,
          470,
          504
         ],
         "yaxis": "y"
        },
        {
         "customdata": [
          [
           "Ρουμανία"
          ],
          [
           "Ρουμανία"
          ],
          [
           "Ρουμανία"
          ],
          [
           "Ρουμανία"
          ],
          [
           "Ρουμανία"
          ],
          [
           "Ρουμανία"
          ],
          [
           "Ρουμανία"
          ],
          [
           "Ρουμανία"
          ],
          [
           "Ρουμανία"
          ],
          [
           "Ρουμανία"
          ],
          [
           "Ρουμανία"
          ],
          [
           "Ρουμανία"
          ],
          [
           "Ρουμανία"
          ],
          [
           "Ρουμανία"
          ],
          [
           "Ρουμανία"
          ],
          [
           "Ρουμανία"
          ],
          [
           "Ρουμανία"
          ],
          [
           "Ρουμανία"
          ],
          [
           "Ρουμανία"
          ],
          [
           "Ρουμανία"
          ]
         ],
         "hoverlabel": {
          "namelength": 0
         },
         "hovertemplate": "Χώρα=%{customdata[0]}<br>Αριθμός Κρουσμάτων=%{y}",
         "legendgroup": "Ρουμανία",
         "line": {
          "color": "rgb(189,189,189)",
          "dash": "solid",
          "shape": "spline"
         },
         "mode": "lines",
         "name": "Ρουμανία",
         "showlegend": true,
         "type": "scatter",
         "xaxis": "x",
         "y": [
          11,
          17,
          23,
          26,
          37,
          43,
          65,
          82,
          92,
          115,
          133,
          146,
          151,
          176,
          197,
          220,
          248,
          270,
          291,
          316
         ],
         "yaxis": "y"
        },
        {
         "customdata": [
          [
           "Ρωσία"
          ],
          [
           "Ρωσία"
          ],
          [
           "Ρωσία"
          ],
          [
           "Ρωσία"
          ],
          [
           "Ρωσία"
          ],
          [
           "Ρωσία"
          ],
          [
           "Ρωσία"
          ],
          [
           "Ρωσία"
          ],
          [
           "Ρωσία"
          ],
          [
           "Ρωσία"
          ],
          [
           "Ρωσία"
          ],
          [
           "Ρωσία"
          ],
          [
           "Ρωσία"
          ]
         ],
         "hoverlabel": {
          "namelength": 0
         },
         "hovertemplate": "Χώρα=%{customdata[0]}<br>Αριθμός Κρουσμάτων=%{y}",
         "legendgroup": "Ρωσία",
         "line": {
          "color": "rgb(189,189,189)",
          "dash": "solid",
          "shape": "spline"
         },
         "mode": "lines",
         "name": "Ρωσία",
         "showlegend": true,
         "type": "scatter",
         "xaxis": "x",
         "y": [
          17,
          24,
          30,
          34,
          43,
          45,
          47,
          58,
          63,
          76,
          94,
          106,
          130
         ],
         "yaxis": "y"
        },
        {
         "customdata": [
          [
           "Άγ. Μαρίνος"
          ],
          [
           "Άγ. Μαρίνος"
          ],
          [
           "Άγ. Μαρίνος"
          ],
          [
           "Άγ. Μαρίνος"
          ],
          [
           "Άγ. Μαρίνος"
          ],
          [
           "Άγ. Μαρίνος"
          ],
          [
           "Άγ. Μαρίνος"
          ],
          [
           "Άγ. Μαρίνος"
          ],
          [
           "Άγ. Μαρίνος"
          ],
          [
           "Άγ. Μαρίνος"
          ],
          [
           "Άγ. Μαρίνος"
          ],
          [
           "Άγ. Μαρίνος"
          ],
          [
           "Άγ. Μαρίνος"
          ],
          [
           "Άγ. Μαρίνος"
          ],
          [
           "Άγ. Μαρίνος"
          ],
          [
           "Άγ. Μαρίνος"
          ],
          [
           "Άγ. Μαρίνος"
          ],
          [
           "Άγ. Μαρίνος"
          ],
          [
           "Άγ. Μαρίνος"
          ],
          [
           "Άγ. Μαρίνος"
          ],
          [
           "Άγ. Μαρίνος"
          ],
          [
           "Άγ. Μαρίνος"
          ],
          [
           "Άγ. Μαρίνος"
          ],
          [
           "Άγ. Μαρίνος"
          ],
          [
           "Άγ. Μαρίνος"
          ],
          [
           "Άγ. Μαρίνος"
          ]
         ],
         "hoverlabel": {
          "namelength": 0
         },
         "hovertemplate": "Χώρα=%{customdata[0]}<br>Αριθμός Κρουσμάτων=%{y}",
         "legendgroup": "Άγ. Μαρίνος",
         "line": {
          "color": "rgb(189,189,189)",
          "dash": "solid",
          "shape": "spline"
         },
         "mode": "lines",
         "name": "Άγ. Μαρίνος",
         "showlegend": true,
         "type": "scatter",
         "xaxis": "x",
         "y": [
          11,
          11,
          14,
          20,
          20,
          20,
          21,
          21,
          21,
          21,
          22,
          22,
          25,
          26,
          26,
          30,
          30,
          32,
          32,
          32,
          34,
          34,
          34,
          34,
          35,
          35
         ],
         "yaxis": "y"
        },
        {
         "customdata": [
          [
           "Σαουδική Αραβία"
          ],
          [
           "Σαουδική Αραβία"
          ],
          [
           "Σαουδική Αραβία"
          ],
          [
           "Σαουδική Αραβία"
          ],
          [
           "Σαουδική Αραβία"
          ],
          [
           "Σαουδική Αραβία"
          ],
          [
           "Σαουδική Αραβία"
          ],
          [
           "Σαουδική Αραβία"
          ],
          [
           "Σαουδική Αραβία"
          ],
          [
           "Σαουδική Αραβία"
          ],
          [
           "Σαουδική Αραβία"
          ],
          [
           "Σαουδική Αραβία"
          ],
          [
           "Σαουδική Αραβία"
          ]
         ],
         "hoverlabel": {
          "namelength": 0
         },
         "hovertemplate": "Χώρα=%{customdata[0]}<br>Αριθμός Κρουσμάτων=%{y}",
         "legendgroup": "Σαουδική Αραβία",
         "line": {
          "color": "rgb(189,189,189)",
          "dash": "solid",
          "shape": "spline"
         },
         "mode": "lines",
         "name": "Σαουδική Αραβία",
         "showlegend": true,
         "type": "scatter",
         "xaxis": "x",
         "y": [
          10,
          16,
          21,
          25,
          29,
          34,
          38,
          41,
          41,
          44,
          47,
          52,
          59
         ],
         "yaxis": "y"
        },
        {
         "customdata": [
          [
           "Σερβία"
          ],
          [
           "Σερβία"
          ],
          [
           "Σερβία"
          ],
          [
           "Σερβία"
          ],
          [
           "Σερβία"
          ],
          [
           "Σερβία"
          ],
          [
           "Σερβία"
          ],
          [
           "Σερβία"
          ],
          [
           "Σερβία"
          ],
          [
           "Σερβία"
          ],
          [
           "Σερβία"
          ],
          [
           "Σερβία"
          ],
          [
           "Σερβία"
          ],
          [
           "Σερβία"
          ],
          [
           "Σερβία"
          ],
          [
           "Σερβία"
          ]
         ],
         "hoverlabel": {
          "namelength": 0
         },
         "hovertemplate": "Χώρα=%{customdata[0]}<br>Αριθμός Κρουσμάτων=%{y}",
         "legendgroup": "Σερβία",
         "line": {
          "color": "rgb(189,189,189)",
          "dash": "solid",
          "shape": "spline"
         },
         "mode": "lines",
         "name": "Σερβία",
         "showlegend": true,
         "type": "scatter",
         "xaxis": "x",
         "y": [
          10,
          13,
          16,
          16,
          28,
          31,
          39,
          44,
          51,
          58,
          61,
          65,
          66,
          71,
          74,
          80
         ],
         "yaxis": "y"
        },
        {
         "customdata": [
          [
           "Σλοβενία"
          ],
          [
           "Σλοβενία"
          ],
          [
           "Σλοβενία"
          ],
          [
           "Σλοβενία"
          ],
          [
           "Σλοβενία"
          ],
          [
           "Σλοβενία"
          ],
          [
           "Σλοβενία"
          ],
          [
           "Σλοβενία"
          ],
          [
           "Σλοβενία"
          ],
          [
           "Σλοβενία"
          ],
          [
           "Σλοβενία"
          ],
          [
           "Σλοβενία"
          ],
          [
           "Σλοβενία"
          ],
          [
           "Σλοβενία"
          ],
          [
           "Σλοβενία"
          ]
         ],
         "hoverlabel": {
          "namelength": 0
         },
         "hovertemplate": "Χώρα=%{customdata[0]}<br>Αριθμός Κρουσμάτων=%{y}",
         "legendgroup": "Σλοβενία",
         "line": {
          "color": "rgb(189,189,189)",
          "dash": "solid",
          "shape": "spline"
         },
         "mode": "lines",
         "name": "Σλοβενία",
         "showlegend": true,
         "type": "scatter",
         "xaxis": "x",
         "y": [
          11,
          11,
          15,
          15,
          17,
          20,
          22,
          28,
          30,
          36,
          40,
          43,
          45,
          50,
          53
         ],
         "yaxis": "y"
        },
        {
         "customdata": [
          [
           "Νότια Αφρική"
          ],
          [
           "Νότια Αφρική"
          ],
          [
           "Νότια Αφρική"
          ],
          [
           "Νότια Αφρική"
          ],
          [
           "Νότια Αφρική"
          ],
          [
           "Νότια Αφρική"
          ],
          [
           "Νότια Αφρική"
          ],
          [
           "Νότια Αφρική"
          ]
         ],
         "hoverlabel": {
          "namelength": 0
         },
         "hovertemplate": "Χώρα=%{customdata[0]}<br>Αριθμός Κρουσμάτων=%{y}",
         "legendgroup": "Νότια Αφρική",
         "line": {
          "color": "rgb(189,189,189)",
          "dash": "solid",
          "shape": "spline"
         },
         "mode": "lines",
         "name": "Νότια Αφρική",
         "showlegend": true,
         "type": "scatter",
         "xaxis": "x",
         "y": [
          11,
          12,
          13,
          18,
          18,
          24,
          25,
          25
         ],
         "yaxis": "y"
        },
        {
         "customdata": [
          [
           "Σουηδία"
          ],
          [
           "Σουηδία"
          ],
          [
           "Σουηδία"
          ],
          [
           "Σουηδία"
          ],
          [
           "Σουηδία"
          ],
          [
           "Σουηδία"
          ],
          [
           "Σουηδία"
          ],
          [
           "Σουηδία"
          ],
          [
           "Σουηδία"
          ],
          [
           "Σουηδία"
          ],
          [
           "Σουηδία"
          ],
          [
           "Σουηδία"
          ],
          [
           "Σουηδία"
          ],
          [
           "Σουηδία"
          ],
          [
           "Σουηδία"
          ],
          [
           "Σουηδία"
          ],
          [
           "Σουηδία"
          ],
          [
           "Σουηδία"
          ],
          [
           "Σουηδία"
          ],
          [
           "Σουηδία"
          ],
          [
           "Σουηδία"
          ],
          [
           "Σουηδία"
          ],
          [
           "Σουηδία"
          ],
          [
           "Σουηδία"
          ],
          [
           "Σουηδία"
          ],
          [
           "Σουηδία"
          ]
         ],
         "hoverlabel": {
          "namelength": 0
         },
         "hovertemplate": "Χώρα=%{customdata[0]}<br>Αριθμός Κρουσμάτων=%{y}",
         "legendgroup": "Σουηδία",
         "line": {
          "color": "rgb(189,189,189)",
          "dash": "solid",
          "shape": "spline"
         },
         "mode": "lines",
         "name": "Σουηδία",
         "showlegend": true,
         "type": "scatter",
         "xaxis": "x",
         "y": [
          10,
          11,
          16,
          20,
          21,
          25,
          36,
          62,
          77,
          105,
          105,
          110,
          146,
          180,
          239,
          308,
          358,
          373,
          401,
          477,
          591,
          687,
          793,
          870,
          887,
          899
         ],
         "yaxis": "y"
        },
        {
         "customdata": [
          [
           "Ελβετία"
          ],
          [
           "Ελβετία"
          ],
          [
           "Ελβετία"
          ],
          [
           "Ελβετία"
          ],
          [
           "Ελβετία"
          ],
          [
           "Ελβετία"
          ],
          [
           "Ελβετία"
          ],
          [
           "Ελβετία"
          ],
          [
           "Ελβετία"
          ],
          [
           "Ελβετία"
          ],
          [
           "Ελβετία"
          ],
          [
           "Ελβετία"
          ],
          [
           "Ελβετία"
          ],
          [
           "Ελβετία"
          ],
          [
           "Ελβετία"
          ],
          [
           "Ελβετία"
          ],
          [
           "Ελβετία"
          ],
          [
           "Ελβετία"
          ],
          [
           "Ελβετία"
          ],
          [
           "Ελβετία"
          ],
          [
           "Ελβετία"
          ],
          [
           "Ελβετία"
          ],
          [
           "Ελβετία"
          ],
          [
           "Ελβετία"
          ],
          [
           "Ελβετία"
          ],
          [
           "Ελβετία"
          ],
          [
           "Ελβετία"
          ],
          [
           "Ελβετία"
          ],
          [
           "Ελβετία"
          ],
          [
           "Ελβετία"
          ],
          [
           "Ελβετία"
          ]
         ],
         "hoverlabel": {
          "namelength": 0
         },
         "hovertemplate": "Χώρα=%{customdata[0]}<br>Αριθμός Κρουσμάτων=%{y}",
         "legendgroup": "Ελβετία",
         "line": {
          "color": "rgb(189,189,189)",
          "dash": "solid",
          "shape": "spline"
         },
         "mode": "lines",
         "name": "Ελβετία",
         "showlegend": true,
         "type": "scatter",
         "xaxis": "x",
         "y": [
          11,
          13,
          14,
          14,
          27,
          28,
          41,
          54,
          75,
          98,
          120,
          122,
          153,
          191,
          231,
          264,
          300,
          359,
          433,
          488,
          536,
          591,
          666,
          715,
          765,
          821,
          895,
          948,
          1002,
          1036,
          1106
         ],
         "yaxis": "y"
        },
        {
         "customdata": [
          [
           "Ταϊλάνδη"
          ],
          [
           "Ταϊλάνδη"
          ],
          [
           "Ταϊλάνδη"
          ],
          [
           "Ταϊλάνδη"
          ],
          [
           "Ταϊλάνδη"
          ],
          [
           "Ταϊλάνδη"
          ],
          [
           "Ταϊλάνδη"
          ],
          [
           "Ταϊλάνδη"
          ],
          [
           "Ταϊλάνδη"
          ],
          [
           "Ταϊλάνδη"
          ],
          [
           "Ταϊλάνδη"
          ],
          [
           "Ταϊλάνδη"
          ],
          [
           "Ταϊλάνδη"
          ]
         ],
         "hoverlabel": {
          "namelength": 0
         },
         "hovertemplate": "Χώρα=%{customdata[0]}<br>Αριθμός Κρουσμάτων=%{y}",
         "legendgroup": "Ταϊλάνδη",
         "line": {
          "color": "rgb(189,189,189)",
          "dash": "solid",
          "shape": "spline"
         },
         "mode": "lines",
         "name": "Ταϊλάνδη",
         "showlegend": true,
         "type": "scatter",
         "xaxis": "x",
         "y": [
          10,
          12,
          15,
          19,
          20,
          23,
          26,
          27,
          30,
          32,
          33,
          35,
          38
         ],
         "yaxis": "y"
        },
        {
         "customdata": [
          [
           "Τυνησία"
          ],
          [
           "Τυνησία"
          ],
          [
           "Τυνησία"
          ],
          [
           "Τυνησία"
          ],
          [
           "Τυνησία"
          ],
          [
           "Τυνησία"
          ],
          [
           "Τυνησία"
          ],
          [
           "Τυνησία"
          ],
          [
           "Τυνησία"
          ],
          [
           "Τυνησία"
          ],
          [
           "Τυνησία"
          ],
          [
           "Τυνησία"
          ],
          [
           "Τυνησία"
          ]
         ],
         "hoverlabel": {
          "namelength": 0
         },
         "hovertemplate": "Χώρα=%{customdata[0]}<br>Αριθμός Κρουσμάτων=%{y}",
         "legendgroup": "Τυνησία",
         "line": {
          "color": "rgb(189,189,189)",
          "dash": "solid",
          "shape": "spline"
         },
         "mode": "lines",
         "name": "Τυνησία",
         "showlegend": true,
         "type": "scatter",
         "xaxis": "x",
         "y": [
          10,
          12,
          14,
          18,
          18,
          22,
          22,
          23,
          24,
          25,
          25,
          28,
          31
         ],
         "yaxis": "y"
        },
        {
         "customdata": [
          [
           "Τουρκία"
          ],
          [
           "Τουρκία"
          ],
          [
           "Τουρκία"
          ],
          [
           "Τουρκία"
          ],
          [
           "Τουρκία"
          ],
          [
           "Τουρκία"
          ],
          [
           "Τουρκία"
          ],
          [
           "Τουρκία"
          ],
          [
           "Τουρκία"
          ],
          [
           "Τουρκία"
          ],
          [
           "Τουρκία"
          ],
          [
           "Τουρκία"
          ],
          [
           "Τουρκία"
          ],
          [
           "Τουρκία"
          ],
          [
           "Τουρκία"
          ],
          [
           "Τουρκία"
          ],
          [
           "Τουρκία"
          ],
          [
           "Τουρκία"
          ],
          [
           "Τουρκία"
          ],
          [
           "Τουρκία"
          ],
          [
           "Τουρκία"
          ],
          [
           "Τουρκία"
          ]
         ],
         "hoverlabel": {
          "namelength": 0
         },
         "hovertemplate": "Χώρα=%{customdata[0]}<br>Αριθμός Κρουσμάτων=%{y}",
         "legendgroup": "Τουρκία",
         "line": {
          "color": "rgb(189,189,189)",
          "dash": "solid",
          "shape": "spline"
         },
         "mode": "lines",
         "name": "Τουρκία",
         "showlegend": true,
         "type": "scatter",
         "xaxis": "x",
         "y": [
          30,
          37,
          44,
          59,
          75,
          92,
          108,
          131,
          168,
          214,
          277,
          356,
          425,
          501,
          574,
          649,
          725,
          812,
          908,
          1006,
          1101,
          1198
         ],
         "yaxis": "y"
        },
        {
         "customdata": [
          [
           "Ουκρανία"
          ],
          [
           "Ουκρανία"
          ],
          [
           "Ουκρανία"
          ],
          [
           "Ουκρανία"
          ],
          [
           "Ουκρανία"
          ],
          [
           "Ουκρανία"
          ],
          [
           "Ουκρανία"
          ],
          [
           "Ουκρανία"
          ],
          [
           "Ουκρανία"
          ],
          [
           "Ουκρανία"
          ],
          [
           "Ουκρανία"
          ],
          [
           "Ουκρανία"
          ],
          [
           "Ουκρανία"
          ],
          [
           "Ουκρανία"
          ],
          [
           "Ουκρανία"
          ]
         ],
         "hoverlabel": {
          "namelength": 0
         },
         "hovertemplate": "Χώρα=%{customdata[0]}<br>Αριθμός Κρουσμάτων=%{y}",
         "legendgroup": "Ουκρανία",
         "line": {
          "color": "rgb(189,189,189)",
          "dash": "solid",
          "shape": "spline"
         },
         "mode": "lines",
         "name": "Ουκρανία",
         "showlegend": true,
         "type": "scatter",
         "xaxis": "x",
         "y": [
          10,
          13,
          17,
          20,
          22,
          27,
          32,
          37,
          38,
          45,
          52,
          57,
          69,
          73,
          83
         ],
         "yaxis": "y"
        },
        {
         "customdata": [
          [
           "Ην. Αραβικά Εμιράτα"
          ],
          [
           "Ην. Αραβικά Εμιράτα"
          ],
          [
           "Ην. Αραβικά Εμιράτα"
          ],
          [
           "Ην. Αραβικά Εμιράτα"
          ],
          [
           "Ην. Αραβικά Εμιράτα"
          ],
          [
           "Ην. Αραβικά Εμιράτα"
          ],
          [
           "Ην. Αραβικά Εμιράτα"
          ],
          [
           "Ην. Αραβικά Εμιράτα"
          ],
          [
           "Ην. Αραβικά Εμιράτα"
          ]
         ],
         "hoverlabel": {
          "namelength": 0
         },
         "hovertemplate": "Χώρα=%{customdata[0]}<br>Αριθμός Κρουσμάτων=%{y}",
         "legendgroup": "Ην. Αραβικά Εμιράτα",
         "line": {
          "color": "rgb(189,189,189)",
          "dash": "solid",
          "shape": "spline"
         },
         "mode": "lines",
         "name": "Ην. Αραβικά Εμιράτα",
         "showlegend": true,
         "type": "scatter",
         "xaxis": "x",
         "y": [
          10,
          10,
          11,
          12,
          12,
          14,
          16,
          20,
          22
         ],
         "yaxis": "y"
        },
        {
         "hovertemplate": "<b>%{y:.f}</b> κρούσματα στην Γερμανία<extra></extra>",
         "line": {
          "color": "black",
          "width": 2
         },
         "name": "Γερμανία",
         "type": "scatter",
         "y": [
          11,
          17,
          24,
          28,
          44,
          67,
          84,
          94,
          123,
          157,
          206,
          267,
          342,
          433,
          533,
          645,
          775,
          920,
          1107,
          1275,
          1444,
          1584,
          1810,
          2016,
          2349,
          2607,
          2767,
          2736,
          3022
         ]
        },
        {
         "hovertemplate": "<b>%{y:.f}</b> κρούσματα στην Ιταλία<extra></extra>",
         "line": {
          "color": "#3E82B3",
          "width": 2
         },
         "name": "Ιταλία",
         "type": "scatter",
         "y": [
          12,
          17,
          21,
          29,
          34,
          52,
          79,
          107,
          148,
          197,
          233,
          366,
          463,
          631,
          827,
          827,
          1266,
          1441,
          1809,
          2158,
          2503,
          2978,
          3405,
          4032,
          4825,
          5476,
          6077,
          6820,
          7503,
          8215,
          9134,
          10023,
          10779,
          11591,
          12428,
          13155,
          13915,
          14681,
          15362,
          15887,
          16523,
          17127,
          17669,
          18279,
          18849,
          19468,
          19899
         ]
        },
        {
         "hovertemplate": "<b>%{y:.f}</b> κρούσματα στο Ηνωμένο Βασίλειο<extra></extra>",
         "line": {
          "color": "#FFD400",
          "width": 2
         },
         "name": "Ηνωμένο Βασίλειο",
         "type": "scatter",
         "y": [
          21,
          21,
          56,
          56,
          72,
          138,
          178,
          234,
          282,
          336,
          423,
          466,
          580,
          761,
          1021,
          1231,
          1411,
          1793,
          2357,
          2926,
          3611,
          4320,
          4943,
          5385,
          6171,
          7111,
          7993,
          8974,
          9892,
          10629
         ]
        },
        {
         "hovertemplate": "<b>%{y:.f}</b> κρούσματα στις ΗΠΑ<extra></extra>",
         "line": {
          "color": "lightgreen",
          "width": 2
         },
         "name": "ΗΠΑ",
         "type": "scatter",
         "y": [
          11,
          12,
          14,
          17,
          21,
          22,
          28,
          36,
          40,
          47,
          54,
          63,
          85,
          108,
          118,
          200,
          244,
          307,
          417,
          557,
          706,
          942,
          1209,
          1581,
          2026,
          2467,
          2978,
          3873,
          4757,
          5926,
          7087,
          8407,
          9619,
          10783,
          12722,
          14695,
          16478,
          18586,
          20463,
          22020
         ]
        },
        {
         "hovertemplate": "<b>%{y:.f}</b> κρούσματα στην Ισπανία<extra></extra>",
         "line": {
          "color": "purple",
          "width": 2
         },
         "name": "Ισπανία",
         "type": "scatter",
         "y": [
          17,
          28,
          35,
          54,
          55,
          133,
          195,
          289,
          342,
          533,
          623,
          830,
          1043,
          1375,
          1772,
          2311,
          2808,
          3647,
          4365,
          5138,
          5982,
          6803,
          7716,
          8464,
          9387,
          10348,
          11198,
          11947,
          12641,
          13341,
          14045,
          14792,
          15447,
          16081,
          16606,
          17209
         ]
        },
        {
         "hovertemplate": "<b>%{y:.f}</b> κρούσματα στην Ελλάδα<extra></extra>",
         "line": {
          "color": "#BA3A0A",
          "width": 3
         },
         "name": "Ελλάδα",
         "type": "scatter",
         "y": [
          13,
          15,
          17,
          20,
          22,
          26,
          28,
          32,
          38,
          43,
          49,
          50,
          53,
          63,
          68,
          73,
          79,
          81,
          83,
          87,
          92,
          93,
          98
         ]
        }
       ],
       "layout": {
        "annotations": [
         {
          "showarrow": false,
          "text": "<i>Λογαριθμική κλίμακα</i>",
          "x": -0.02,
          "xref": "paper",
          "y": 1.2,
          "yref": "paper"
         }
        ],
        "font": {
         "color": "#114B5F",
         "family": "Roboto",
         "size": 11
        },
        "height": 380,
        "hoverlabel": {
         "align": "left",
         "bgcolor": "white",
         "font": {
          "family": "Roboto",
          "size": 12
         }
        },
        "hovermode": "closest",
        "legend": {
         "bgcolor": "#E6ECEC",
         "bordercolor": "#dadada",
         "borderwidth": 0.3,
         "font": {
          "color": "black",
          "family": "roboto",
          "size": 10
         },
         "itemsizing": "constant",
         "title": {
          "text": ""
         },
         "tracegroupgap": 0,
         "traceorder": "reversed"
        },
        "paper_bgcolor": "#E6ECEC",
        "plot_bgcolor": "#E6ECEC",
        "showlegend": true,
        "template": {
         "data": {
          "bar": [
           {
            "error_x": {
             "color": "#2a3f5f"
            },
            "error_y": {
             "color": "#2a3f5f"
            },
            "marker": {
             "line": {
              "color": "#E5ECF6",
              "width": 0.5
             }
            },
            "type": "bar"
           }
          ],
          "barpolar": [
           {
            "marker": {
             "line": {
              "color": "#E5ECF6",
              "width": 0.5
             }
            },
            "type": "barpolar"
           }
          ],
          "carpet": [
           {
            "aaxis": {
             "endlinecolor": "#2a3f5f",
             "gridcolor": "white",
             "linecolor": "white",
             "minorgridcolor": "white",
             "startlinecolor": "#2a3f5f"
            },
            "baxis": {
             "endlinecolor": "#2a3f5f",
             "gridcolor": "white",
             "linecolor": "white",
             "minorgridcolor": "white",
             "startlinecolor": "#2a3f5f"
            },
            "type": "carpet"
           }
          ],
          "choropleth": [
           {
            "colorbar": {
             "outlinewidth": 0,
             "ticks": ""
            },
            "type": "choropleth"
           }
          ],
          "contour": [
           {
            "colorbar": {
             "outlinewidth": 0,
             "ticks": ""
            },
            "colorscale": [
             [
              0,
              "#0d0887"
             ],
             [
              0.1111111111111111,
              "#46039f"
             ],
             [
              0.2222222222222222,
              "#7201a8"
             ],
             [
              0.3333333333333333,
              "#9c179e"
             ],
             [
              0.4444444444444444,
              "#bd3786"
             ],
             [
              0.5555555555555556,
              "#d8576b"
             ],
             [
              0.6666666666666666,
              "#ed7953"
             ],
             [
              0.7777777777777778,
              "#fb9f3a"
             ],
             [
              0.8888888888888888,
              "#fdca26"
             ],
             [
              1,
              "#f0f921"
             ]
            ],
            "type": "contour"
           }
          ],
          "contourcarpet": [
           {
            "colorbar": {
             "outlinewidth": 0,
             "ticks": ""
            },
            "type": "contourcarpet"
           }
          ],
          "heatmap": [
           {
            "colorbar": {
             "outlinewidth": 0,
             "ticks": ""
            },
            "colorscale": [
             [
              0,
              "#0d0887"
             ],
             [
              0.1111111111111111,
              "#46039f"
             ],
             [
              0.2222222222222222,
              "#7201a8"
             ],
             [
              0.3333333333333333,
              "#9c179e"
             ],
             [
              0.4444444444444444,
              "#bd3786"
             ],
             [
              0.5555555555555556,
              "#d8576b"
             ],
             [
              0.6666666666666666,
              "#ed7953"
             ],
             [
              0.7777777777777778,
              "#fb9f3a"
             ],
             [
              0.8888888888888888,
              "#fdca26"
             ],
             [
              1,
              "#f0f921"
             ]
            ],
            "type": "heatmap"
           }
          ],
          "heatmapgl": [
           {
            "colorbar": {
             "outlinewidth": 0,
             "ticks": ""
            },
            "colorscale": [
             [
              0,
              "#0d0887"
             ],
             [
              0.1111111111111111,
              "#46039f"
             ],
             [
              0.2222222222222222,
              "#7201a8"
             ],
             [
              0.3333333333333333,
              "#9c179e"
             ],
             [
              0.4444444444444444,
              "#bd3786"
             ],
             [
              0.5555555555555556,
              "#d8576b"
             ],
             [
              0.6666666666666666,
              "#ed7953"
             ],
             [
              0.7777777777777778,
              "#fb9f3a"
             ],
             [
              0.8888888888888888,
              "#fdca26"
             ],
             [
              1,
              "#f0f921"
             ]
            ],
            "type": "heatmapgl"
           }
          ],
          "histogram": [
           {
            "marker": {
             "colorbar": {
              "outlinewidth": 0,
              "ticks": ""
             }
            },
            "type": "histogram"
           }
          ],
          "histogram2d": [
           {
            "colorbar": {
             "outlinewidth": 0,
             "ticks": ""
            },
            "colorscale": [
             [
              0,
              "#0d0887"
             ],
             [
              0.1111111111111111,
              "#46039f"
             ],
             [
              0.2222222222222222,
              "#7201a8"
             ],
             [
              0.3333333333333333,
              "#9c179e"
             ],
             [
              0.4444444444444444,
              "#bd3786"
             ],
             [
              0.5555555555555556,
              "#d8576b"
             ],
             [
              0.6666666666666666,
              "#ed7953"
             ],
             [
              0.7777777777777778,
              "#fb9f3a"
             ],
             [
              0.8888888888888888,
              "#fdca26"
             ],
             [
              1,
              "#f0f921"
             ]
            ],
            "type": "histogram2d"
           }
          ],
          "histogram2dcontour": [
           {
            "colorbar": {
             "outlinewidth": 0,
             "ticks": ""
            },
            "colorscale": [
             [
              0,
              "#0d0887"
             ],
             [
              0.1111111111111111,
              "#46039f"
             ],
             [
              0.2222222222222222,
              "#7201a8"
             ],
             [
              0.3333333333333333,
              "#9c179e"
             ],
             [
              0.4444444444444444,
              "#bd3786"
             ],
             [
              0.5555555555555556,
              "#d8576b"
             ],
             [
              0.6666666666666666,
              "#ed7953"
             ],
             [
              0.7777777777777778,
              "#fb9f3a"
             ],
             [
              0.8888888888888888,
              "#fdca26"
             ],
             [
              1,
              "#f0f921"
             ]
            ],
            "type": "histogram2dcontour"
           }
          ],
          "mesh3d": [
           {
            "colorbar": {
             "outlinewidth": 0,
             "ticks": ""
            },
            "type": "mesh3d"
           }
          ],
          "parcoords": [
           {
            "line": {
             "colorbar": {
              "outlinewidth": 0,
              "ticks": ""
             }
            },
            "type": "parcoords"
           }
          ],
          "pie": [
           {
            "automargin": true,
            "type": "pie"
           }
          ],
          "scatter": [
           {
            "marker": {
             "colorbar": {
              "outlinewidth": 0,
              "ticks": ""
             }
            },
            "type": "scatter"
           }
          ],
          "scatter3d": [
           {
            "line": {
             "colorbar": {
              "outlinewidth": 0,
              "ticks": ""
             }
            },
            "marker": {
             "colorbar": {
              "outlinewidth": 0,
              "ticks": ""
             }
            },
            "type": "scatter3d"
           }
          ],
          "scattercarpet": [
           {
            "marker": {
             "colorbar": {
              "outlinewidth": 0,
              "ticks": ""
             }
            },
            "type": "scattercarpet"
           }
          ],
          "scattergeo": [
           {
            "marker": {
             "colorbar": {
              "outlinewidth": 0,
              "ticks": ""
             }
            },
            "type": "scattergeo"
           }
          ],
          "scattergl": [
           {
            "marker": {
             "colorbar": {
              "outlinewidth": 0,
              "ticks": ""
             }
            },
            "type": "scattergl"
           }
          ],
          "scattermapbox": [
           {
            "marker": {
             "colorbar": {
              "outlinewidth": 0,
              "ticks": ""
             }
            },
            "type": "scattermapbox"
           }
          ],
          "scatterpolar": [
           {
            "marker": {
             "colorbar": {
              "outlinewidth": 0,
              "ticks": ""
             }
            },
            "type": "scatterpolar"
           }
          ],
          "scatterpolargl": [
           {
            "marker": {
             "colorbar": {
              "outlinewidth": 0,
              "ticks": ""
             }
            },
            "type": "scatterpolargl"
           }
          ],
          "scatterternary": [
           {
            "marker": {
             "colorbar": {
              "outlinewidth": 0,
              "ticks": ""
             }
            },
            "type": "scatterternary"
           }
          ],
          "surface": [
           {
            "colorbar": {
             "outlinewidth": 0,
             "ticks": ""
            },
            "colorscale": [
             [
              0,
              "#0d0887"
             ],
             [
              0.1111111111111111,
              "#46039f"
             ],
             [
              0.2222222222222222,
              "#7201a8"
             ],
             [
              0.3333333333333333,
              "#9c179e"
             ],
             [
              0.4444444444444444,
              "#bd3786"
             ],
             [
              0.5555555555555556,
              "#d8576b"
             ],
             [
              0.6666666666666666,
              "#ed7953"
             ],
             [
              0.7777777777777778,
              "#fb9f3a"
             ],
             [
              0.8888888888888888,
              "#fdca26"
             ],
             [
              1,
              "#f0f921"
             ]
            ],
            "type": "surface"
           }
          ],
          "table": [
           {
            "cells": {
             "fill": {
              "color": "#EBF0F8"
             },
             "line": {
              "color": "white"
             }
            },
            "header": {
             "fill": {
              "color": "#C8D4E3"
             },
             "line": {
              "color": "white"
             }
            },
            "type": "table"
           }
          ]
         },
         "layout": {
          "annotationdefaults": {
           "arrowcolor": "#2a3f5f",
           "arrowhead": 0,
           "arrowwidth": 1
          },
          "coloraxis": {
           "colorbar": {
            "outlinewidth": 0,
            "ticks": ""
           }
          },
          "colorscale": {
           "diverging": [
            [
             0,
             "#8e0152"
            ],
            [
             0.1,
             "#c51b7d"
            ],
            [
             0.2,
             "#de77ae"
            ],
            [
             0.3,
             "#f1b6da"
            ],
            [
             0.4,
             "#fde0ef"
            ],
            [
             0.5,
             "#f7f7f7"
            ],
            [
             0.6,
             "#e6f5d0"
            ],
            [
             0.7,
             "#b8e186"
            ],
            [
             0.8,
             "#7fbc41"
            ],
            [
             0.9,
             "#4d9221"
            ],
            [
             1,
             "#276419"
            ]
           ],
           "sequential": [
            [
             0,
             "#0d0887"
            ],
            [
             0.1111111111111111,
             "#46039f"
            ],
            [
             0.2222222222222222,
             "#7201a8"
            ],
            [
             0.3333333333333333,
             "#9c179e"
            ],
            [
             0.4444444444444444,
             "#bd3786"
            ],
            [
             0.5555555555555556,
             "#d8576b"
            ],
            [
             0.6666666666666666,
             "#ed7953"
            ],
            [
             0.7777777777777778,
             "#fb9f3a"
            ],
            [
             0.8888888888888888,
             "#fdca26"
            ],
            [
             1,
             "#f0f921"
            ]
           ],
           "sequentialminus": [
            [
             0,
             "#0d0887"
            ],
            [
             0.1111111111111111,
             "#46039f"
            ],
            [
             0.2222222222222222,
             "#7201a8"
            ],
            [
             0.3333333333333333,
             "#9c179e"
            ],
            [
             0.4444444444444444,
             "#bd3786"
            ],
            [
             0.5555555555555556,
             "#d8576b"
            ],
            [
             0.6666666666666666,
             "#ed7953"
            ],
            [
             0.7777777777777778,
             "#fb9f3a"
            ],
            [
             0.8888888888888888,
             "#fdca26"
            ],
            [
             1,
             "#f0f921"
            ]
           ]
          },
          "colorway": [
           "#636efa",
           "#EF553B",
           "#00cc96",
           "#ab63fa",
           "#FFA15A",
           "#19d3f3",
           "#FF6692",
           "#B6E880",
           "#FF97FF",
           "#FECB52"
          ],
          "font": {
           "color": "#2a3f5f"
          },
          "geo": {
           "bgcolor": "white",
           "lakecolor": "white",
           "landcolor": "#E5ECF6",
           "showlakes": true,
           "showland": true,
           "subunitcolor": "white"
          },
          "hoverlabel": {
           "align": "left"
          },
          "hovermode": "closest",
          "mapbox": {
           "style": "light"
          },
          "paper_bgcolor": "white",
          "plot_bgcolor": "#E5ECF6",
          "polar": {
           "angularaxis": {
            "gridcolor": "white",
            "linecolor": "white",
            "ticks": ""
           },
           "bgcolor": "#E5ECF6",
           "radialaxis": {
            "gridcolor": "white",
            "linecolor": "white",
            "ticks": ""
           }
          },
          "scene": {
           "xaxis": {
            "backgroundcolor": "#E5ECF6",
            "gridcolor": "white",
            "gridwidth": 2,
            "linecolor": "white",
            "showbackground": true,
            "ticks": "",
            "zerolinecolor": "white"
           },
           "yaxis": {
            "backgroundcolor": "#E5ECF6",
            "gridcolor": "white",
            "gridwidth": 2,
            "linecolor": "white",
            "showbackground": true,
            "ticks": "",
            "zerolinecolor": "white"
           },
           "zaxis": {
            "backgroundcolor": "#E5ECF6",
            "gridcolor": "white",
            "gridwidth": 2,
            "linecolor": "white",
            "showbackground": true,
            "ticks": "",
            "zerolinecolor": "white"
           }
          },
          "shapedefaults": {
           "line": {
            "color": "#2a3f5f"
           }
          },
          "ternary": {
           "aaxis": {
            "gridcolor": "white",
            "linecolor": "white",
            "ticks": ""
           },
           "baxis": {
            "gridcolor": "white",
            "linecolor": "white",
            "ticks": ""
           },
           "bgcolor": "#E5ECF6",
           "caxis": {
            "gridcolor": "white",
            "linecolor": "white",
            "ticks": ""
           }
          },
          "title": {
           "x": 0.05
          },
          "xaxis": {
           "automargin": true,
           "gridcolor": "white",
           "linecolor": "white",
           "ticks": "",
           "title": {
            "standoff": 15
           },
           "zerolinecolor": "white",
           "zerolinewidth": 2
          },
          "yaxis": {
           "automargin": true,
           "gridcolor": "white",
           "linecolor": "white",
           "ticks": "",
           "title": {
            "standoff": 15
           },
           "zerolinecolor": "white",
           "zerolinewidth": 2
          }
         }
        },
        "title": {
         "text": "Μετά τους πρώτους 10 θανάτους"
        },
        "xaxis": {
         "anchor": "y",
         "domain": [
          0,
          1
         ],
         "gridcolor": "#F8FAFA",
         "gridwidth": 0.1,
         "linecolor": "#F8FAFA",
         "linewidth": 0.1,
         "showgrid": true,
         "showline": false,
         "showticklabels": true,
         "tickvals": [
          5,
          10,
          15,
          20,
          25,
          30,
          35,
          40,
          45,
          50,
          55
         ],
         "title": {
          "font": {
           "color": "#114B5F",
           "size": 11
          },
          "text": "Ημέρες από το 10o κρούσμα"
         }
        },
        "yaxis": {
         "anchor": "x",
         "domain": [
          0,
          1
         ],
         "gridcolor": "#F8FAFA",
         "gridwidth": 0.1,
         "linecolor": "#114B5F",
         "linewidth": 2,
         "nticks": 4,
         "showgrid": true,
         "showline": true,
         "showticklabels": true,
         "title": {
          "font": {
           "color": "#114B5F",
           "size": 11
          },
          "text": "Αριθμός κρουσμάτων"
         },
         "type": "log"
        }
       }
      },
      "text/html": [
       "<div>\n",
       "        \n",
       "        \n",
       "            <div id=\"a8ffe4ad-9051-4787-a4dc-60233ea327c5\" class=\"plotly-graph-div\" style=\"height:380px; width:100%;\"></div>\n",
       "            <script type=\"text/javascript\">\n",
       "                require([\"plotly\"], function(Plotly) {\n",
       "                    window.PLOTLYENV=window.PLOTLYENV || {};\n",
       "                    \n",
       "                if (document.getElementById(\"a8ffe4ad-9051-4787-a4dc-60233ea327c5\")) {\n",
       "                    Plotly.newPlot(\n",
       "                        'a8ffe4ad-9051-4787-a4dc-60233ea327c5',\n",
       "                        [{\"customdata\": [[\"\\u0391\\u03c6\\u03b3\\u03b1\\u03bd\\u03b9\\u03c3\\u03c4\\u03ac\\u03bd\"], [\"\\u0391\\u03c6\\u03b3\\u03b1\\u03bd\\u03b9\\u03c3\\u03c4\\u03ac\\u03bd\"], [\"\\u0391\\u03c6\\u03b3\\u03b1\\u03bd\\u03b9\\u03c3\\u03c4\\u03ac\\u03bd\"], [\"\\u0391\\u03c6\\u03b3\\u03b1\\u03bd\\u03b9\\u03c3\\u03c4\\u03ac\\u03bd\"], [\"\\u0391\\u03c6\\u03b3\\u03b1\\u03bd\\u03b9\\u03c3\\u03c4\\u03ac\\u03bd\"], [\"\\u0391\\u03c6\\u03b3\\u03b1\\u03bd\\u03b9\\u03c3\\u03c4\\u03ac\\u03bd\"], [\"\\u0391\\u03c6\\u03b3\\u03b1\\u03bd\\u03b9\\u03c3\\u03c4\\u03ac\\u03bd\"]], \"hoverlabel\": {\"namelength\": 0}, \"hovertemplate\": \"\\u03a7\\u03ce\\u03c1\\u03b1=%{customdata[0]}<br>\\u0391\\u03c1\\u03b9\\u03b8\\u03bc\\u03cc\\u03c2 \\u039a\\u03c1\\u03bf\\u03c5\\u03c3\\u03bc\\u03ac\\u03c4\\u03c9\\u03bd=%{y}\", \"legendgroup\": \"\\u0391\\u03c6\\u03b3\\u03b1\\u03bd\\u03b9\\u03c3\\u03c4\\u03ac\\u03bd\", \"line\": {\"color\": \"rgb(189,189,189)\", \"dash\": \"solid\", \"shape\": \"spline\"}, \"mode\": \"lines\", \"name\": \"\\u0391\\u03c6\\u03b3\\u03b1\\u03bd\\u03b9\\u03c3\\u03c4\\u03ac\\u03bd\", \"showlegend\": true, \"type\": \"scatter\", \"xaxis\": \"x\", \"y\": [11, 14, 14, 15, 15, 18, 18], \"yaxis\": \"y\"}, {\"customdata\": [[\"\\u0391\\u03bb\\u03b2\\u03b1\\u03bd\\u03af\\u03b1\"], [\"\\u0391\\u03bb\\u03b2\\u03b1\\u03bd\\u03af\\u03b1\"], [\"\\u0391\\u03bb\\u03b2\\u03b1\\u03bd\\u03af\\u03b1\"], [\"\\u0391\\u03bb\\u03b2\\u03b1\\u03bd\\u03af\\u03b1\"], [\"\\u0391\\u03bb\\u03b2\\u03b1\\u03bd\\u03af\\u03b1\"], [\"\\u0391\\u03bb\\u03b2\\u03b1\\u03bd\\u03af\\u03b1\"], [\"\\u0391\\u03bb\\u03b2\\u03b1\\u03bd\\u03af\\u03b1\"], [\"\\u0391\\u03bb\\u03b2\\u03b1\\u03bd\\u03af\\u03b1\"], [\"\\u0391\\u03bb\\u03b2\\u03b1\\u03bd\\u03af\\u03b1\"], [\"\\u0391\\u03bb\\u03b2\\u03b1\\u03bd\\u03af\\u03b1\"], [\"\\u0391\\u03bb\\u03b2\\u03b1\\u03bd\\u03af\\u03b1\"], [\"\\u0391\\u03bb\\u03b2\\u03b1\\u03bd\\u03af\\u03b1\"], [\"\\u0391\\u03bb\\u03b2\\u03b1\\u03bd\\u03af\\u03b1\"], [\"\\u0391\\u03bb\\u03b2\\u03b1\\u03bd\\u03af\\u03b1\"], [\"\\u0391\\u03bb\\u03b2\\u03b1\\u03bd\\u03af\\u03b1\"], [\"\\u0391\\u03bb\\u03b2\\u03b1\\u03bd\\u03af\\u03b1\"]], \"hoverlabel\": {\"namelength\": 0}, \"hovertemplate\": \"\\u03a7\\u03ce\\u03c1\\u03b1=%{customdata[0]}<br>\\u0391\\u03c1\\u03b9\\u03b8\\u03bc\\u03cc\\u03c2 \\u039a\\u03c1\\u03bf\\u03c5\\u03c3\\u03bc\\u03ac\\u03c4\\u03c9\\u03bd=%{y}\", \"legendgroup\": \"\\u0391\\u03bb\\u03b2\\u03b1\\u03bd\\u03af\\u03b1\", \"line\": {\"color\": \"rgb(189,189,189)\", \"dash\": \"solid\", \"shape\": \"spline\"}, \"mode\": \"lines\", \"name\": \"\\u0391\\u03bb\\u03b2\\u03b1\\u03bd\\u03af\\u03b1\", \"showlegend\": true, \"type\": \"scatter\", \"xaxis\": \"x\", \"y\": [10, 10, 11, 15, 15, 16, 17, 20, 20, 21, 22, 22, 23, 23, 23, 23], \"yaxis\": \"y\"}, {\"customdata\": [[\"\\u0391\\u03bb\\u03b3\\u03b5\\u03c1\\u03af\\u03b1\"], [\"\\u0391\\u03bb\\u03b3\\u03b5\\u03c1\\u03af\\u03b1\"], [\"\\u0391\\u03bb\\u03b3\\u03b5\\u03c1\\u03af\\u03b1\"], [\"\\u0391\\u03bb\\u03b3\\u03b5\\u03c1\\u03af\\u03b1\"], [\"\\u0391\\u03bb\\u03b3\\u03b5\\u03c1\\u03af\\u03b1\"], [\"\\u0391\\u03bb\\u03b3\\u03b5\\u03c1\\u03af\\u03b1\"], [\"\\u0391\\u03bb\\u03b3\\u03b5\\u03c1\\u03af\\u03b1\"], [\"\\u0391\\u03bb\\u03b3\\u03b5\\u03c1\\u03af\\u03b1\"], [\"\\u0391\\u03bb\\u03b3\\u03b5\\u03c1\\u03af\\u03b1\"], [\"\\u0391\\u03bb\\u03b3\\u03b5\\u03c1\\u03af\\u03b1\"], [\"\\u0391\\u03bb\\u03b3\\u03b5\\u03c1\\u03af\\u03b1\"], [\"\\u0391\\u03bb\\u03b3\\u03b5\\u03c1\\u03af\\u03b1\"], [\"\\u0391\\u03bb\\u03b3\\u03b5\\u03c1\\u03af\\u03b1\"], [\"\\u0391\\u03bb\\u03b3\\u03b5\\u03c1\\u03af\\u03b1\"], [\"\\u0391\\u03bb\\u03b3\\u03b5\\u03c1\\u03af\\u03b1\"], [\"\\u0391\\u03bb\\u03b3\\u03b5\\u03c1\\u03af\\u03b1\"], [\"\\u0391\\u03bb\\u03b3\\u03b5\\u03c1\\u03af\\u03b1\"], [\"\\u0391\\u03bb\\u03b3\\u03b5\\u03c1\\u03af\\u03b1\"], [\"\\u0391\\u03bb\\u03b3\\u03b5\\u03c1\\u03af\\u03b1\"], [\"\\u0391\\u03bb\\u03b3\\u03b5\\u03c1\\u03af\\u03b1\"], [\"\\u0391\\u03bb\\u03b3\\u03b5\\u03c1\\u03af\\u03b1\"], [\"\\u0391\\u03bb\\u03b3\\u03b5\\u03c1\\u03af\\u03b1\"], [\"\\u0391\\u03bb\\u03b3\\u03b5\\u03c1\\u03af\\u03b1\"], [\"\\u0391\\u03bb\\u03b3\\u03b5\\u03c1\\u03af\\u03b1\"]], \"hoverlabel\": {\"namelength\": 0}, \"hovertemplate\": \"\\u03a7\\u03ce\\u03c1\\u03b1=%{customdata[0]}<br>\\u0391\\u03c1\\u03b9\\u03b8\\u03bc\\u03cc\\u03c2 \\u039a\\u03c1\\u03bf\\u03c5\\u03c3\\u03bc\\u03ac\\u03c4\\u03c9\\u03bd=%{y}\", \"legendgroup\": \"\\u0391\\u03bb\\u03b3\\u03b5\\u03c1\\u03af\\u03b1\", \"line\": {\"color\": \"rgb(189,189,189)\", \"dash\": \"solid\", \"shape\": \"spline\"}, \"mode\": \"lines\", \"name\": \"\\u0391\\u03bb\\u03b3\\u03b5\\u03c1\\u03af\\u03b1\", \"showlegend\": true, \"type\": \"scatter\", \"xaxis\": \"x\", \"y\": [11, 15, 17, 17, 19, 21, 25, 26, 29, 31, 35, 44, 58, 86, 105, 130, 152, 173, 193, 205, 235, 256, 275, 293], \"yaxis\": \"y\"}, {\"customdata\": [[\"\\u0391\\u03bd\\u03b4\\u03cc\\u03c1\\u03c1\\u03b1\"], [\"\\u0391\\u03bd\\u03b4\\u03cc\\u03c1\\u03c1\\u03b1\"], [\"\\u0391\\u03bd\\u03b4\\u03cc\\u03c1\\u03c1\\u03b1\"], [\"\\u0391\\u03bd\\u03b4\\u03cc\\u03c1\\u03c1\\u03b1\"], [\"\\u0391\\u03bd\\u03b4\\u03cc\\u03c1\\u03c1\\u03b1\"], [\"\\u0391\\u03bd\\u03b4\\u03cc\\u03c1\\u03c1\\u03b1\"], [\"\\u0391\\u03bd\\u03b4\\u03cc\\u03c1\\u03c1\\u03b1\"], [\"\\u0391\\u03bd\\u03b4\\u03cc\\u03c1\\u03c1\\u03b1\"], [\"\\u0391\\u03bd\\u03b4\\u03cc\\u03c1\\u03c1\\u03b1\"], [\"\\u0391\\u03bd\\u03b4\\u03cc\\u03c1\\u03c1\\u03b1\"], [\"\\u0391\\u03bd\\u03b4\\u03cc\\u03c1\\u03c1\\u03b1\"], [\"\\u0391\\u03bd\\u03b4\\u03cc\\u03c1\\u03c1\\u03b1\"], [\"\\u0391\\u03bd\\u03b4\\u03cc\\u03c1\\u03c1\\u03b1\"]], \"hoverlabel\": {\"namelength\": 0}, \"hovertemplate\": \"\\u03a7\\u03ce\\u03c1\\u03b1=%{customdata[0]}<br>\\u0391\\u03c1\\u03b9\\u03b8\\u03bc\\u03cc\\u03c2 \\u039a\\u03c1\\u03bf\\u03c5\\u03c3\\u03bc\\u03ac\\u03c4\\u03c9\\u03bd=%{y}\", \"legendgroup\": \"\\u0391\\u03bd\\u03b4\\u03cc\\u03c1\\u03c1\\u03b1\", \"line\": {\"color\": \"rgb(189,189,189)\", \"dash\": \"solid\", \"shape\": \"spline\"}, \"mode\": \"lines\", \"name\": \"\\u0391\\u03bd\\u03b4\\u03cc\\u03c1\\u03c1\\u03b1\", \"showlegend\": true, \"type\": \"scatter\", \"xaxis\": \"x\", \"y\": [12, 14, 15, 16, 17, 18, 21, 22, 23, 25, 26, 26, 29], \"yaxis\": \"y\"}, {\"customdata\": [[\"\\u0391\\u03c1\\u03b3\\u03b5\\u03bd\\u03c4\\u03b9\\u03bd\\u03ae\"], [\"\\u0391\\u03c1\\u03b3\\u03b5\\u03bd\\u03c4\\u03b9\\u03bd\\u03ae\"], [\"\\u0391\\u03c1\\u03b3\\u03b5\\u03bd\\u03c4\\u03b9\\u03bd\\u03ae\"], [\"\\u0391\\u03c1\\u03b3\\u03b5\\u03bd\\u03c4\\u03b9\\u03bd\\u03ae\"], [\"\\u0391\\u03c1\\u03b3\\u03b5\\u03bd\\u03c4\\u03b9\\u03bd\\u03ae\"], [\"\\u0391\\u03c1\\u03b3\\u03b5\\u03bd\\u03c4\\u03b9\\u03bd\\u03ae\"], [\"\\u0391\\u03c1\\u03b3\\u03b5\\u03bd\\u03c4\\u03b9\\u03bd\\u03ae\"], [\"\\u0391\\u03c1\\u03b3\\u03b5\\u03bd\\u03c4\\u03b9\\u03bd\\u03ae\"], [\"\\u0391\\u03c1\\u03b3\\u03b5\\u03bd\\u03c4\\u03b9\\u03bd\\u03ae\"], [\"\\u0391\\u03c1\\u03b3\\u03b5\\u03bd\\u03c4\\u03b9\\u03bd\\u03ae\"], [\"\\u0391\\u03c1\\u03b3\\u03b5\\u03bd\\u03c4\\u03b9\\u03bd\\u03ae\"], [\"\\u0391\\u03c1\\u03b3\\u03b5\\u03bd\\u03c4\\u03b9\\u03bd\\u03ae\"], [\"\\u0391\\u03c1\\u03b3\\u03b5\\u03bd\\u03c4\\u03b9\\u03bd\\u03ae\"], [\"\\u0391\\u03c1\\u03b3\\u03b5\\u03bd\\u03c4\\u03b9\\u03bd\\u03ae\"], [\"\\u0391\\u03c1\\u03b3\\u03b5\\u03bd\\u03c4\\u03b9\\u03bd\\u03ae\"], [\"\\u0391\\u03c1\\u03b3\\u03b5\\u03bd\\u03c4\\u03b9\\u03bd\\u03ae\"], [\"\\u0391\\u03c1\\u03b3\\u03b5\\u03bd\\u03c4\\u03b9\\u03bd\\u03ae\"]], \"hoverlabel\": {\"namelength\": 0}, \"hovertemplate\": \"\\u03a7\\u03ce\\u03c1\\u03b1=%{customdata[0]}<br>\\u0391\\u03c1\\u03b9\\u03b8\\u03bc\\u03cc\\u03c2 \\u039a\\u03c1\\u03bf\\u03c5\\u03c3\\u03bc\\u03ac\\u03c4\\u03c9\\u03bd=%{y}\", \"legendgroup\": \"\\u0391\\u03c1\\u03b3\\u03b5\\u03bd\\u03c4\\u03b9\\u03bd\\u03ae\", \"line\": {\"color\": \"rgb(189,189,189)\", \"dash\": \"solid\", \"shape\": \"spline\"}, \"mode\": \"lines\", \"name\": \"\\u0391\\u03c1\\u03b3\\u03b5\\u03bd\\u03c4\\u03b9\\u03bd\\u03ae\", \"showlegend\": true, \"type\": \"scatter\", \"xaxis\": \"x\", \"y\": [13, 18, 19, 23, 27, 28, 36, 39, 43, 44, 48, 56, 63, 72, 82, 83, 90], \"yaxis\": \"y\"}, {\"customdata\": [[\"\\u0391\\u03c1\\u03bc\\u03b5\\u03bd\\u03af\\u03b1\"], [\"\\u0391\\u03c1\\u03bc\\u03b5\\u03bd\\u03af\\u03b1\"], [\"\\u0391\\u03c1\\u03bc\\u03b5\\u03bd\\u03af\\u03b1\"], [\"\\u0391\\u03c1\\u03bc\\u03b5\\u03bd\\u03af\\u03b1\"]], \"hoverlabel\": {\"namelength\": 0}, \"hovertemplate\": \"\\u03a7\\u03ce\\u03c1\\u03b1=%{customdata[0]}<br>\\u0391\\u03c1\\u03b9\\u03b8\\u03bc\\u03cc\\u03c2 \\u039a\\u03c1\\u03bf\\u03c5\\u03c3\\u03bc\\u03ac\\u03c4\\u03c9\\u03bd=%{y}\", \"legendgroup\": \"\\u0391\\u03c1\\u03bc\\u03b5\\u03bd\\u03af\\u03b1\", \"line\": {\"color\": \"rgb(189,189,189)\", \"dash\": \"solid\", \"shape\": \"spline\"}, \"mode\": \"lines\", \"name\": \"\\u0391\\u03c1\\u03bc\\u03b5\\u03bd\\u03af\\u03b1\", \"showlegend\": true, \"type\": \"scatter\", \"xaxis\": \"x\", \"y\": [10, 12, 13, 13], \"yaxis\": \"y\"}, {\"customdata\": [[\"\\u0391\\u03c5\\u03c3\\u03c4\\u03c1\\u03b1\\u03bb\\u03af\\u03b1\"], [\"\\u0391\\u03c5\\u03c3\\u03c4\\u03c1\\u03b1\\u03bb\\u03af\\u03b1\"], [\"\\u0391\\u03c5\\u03c3\\u03c4\\u03c1\\u03b1\\u03bb\\u03af\\u03b1\"], [\"\\u0391\\u03c5\\u03c3\\u03c4\\u03c1\\u03b1\\u03bb\\u03af\\u03b1\"], [\"\\u0391\\u03c5\\u03c3\\u03c4\\u03c1\\u03b1\\u03bb\\u03af\\u03b1\"], [\"\\u0391\\u03c5\\u03c3\\u03c4\\u03c1\\u03b1\\u03bb\\u03af\\u03b1\"], [\"\\u0391\\u03c5\\u03c3\\u03c4\\u03c1\\u03b1\\u03bb\\u03af\\u03b1\"], [\"\\u0391\\u03c5\\u03c3\\u03c4\\u03c1\\u03b1\\u03bb\\u03af\\u03b1\"], [\"\\u0391\\u03c5\\u03c3\\u03c4\\u03c1\\u03b1\\u03bb\\u03af\\u03b1\"], [\"\\u0391\\u03c5\\u03c3\\u03c4\\u03c1\\u03b1\\u03bb\\u03af\\u03b1\"], [\"\\u0391\\u03c5\\u03c3\\u03c4\\u03c1\\u03b1\\u03bb\\u03af\\u03b1\"], [\"\\u0391\\u03c5\\u03c3\\u03c4\\u03c1\\u03b1\\u03bb\\u03af\\u03b1\"], [\"\\u0391\\u03c5\\u03c3\\u03c4\\u03c1\\u03b1\\u03bb\\u03af\\u03b1\"], [\"\\u0391\\u03c5\\u03c3\\u03c4\\u03c1\\u03b1\\u03bb\\u03af\\u03b1\"], [\"\\u0391\\u03c5\\u03c3\\u03c4\\u03c1\\u03b1\\u03bb\\u03af\\u03b1\"], [\"\\u0391\\u03c5\\u03c3\\u03c4\\u03c1\\u03b1\\u03bb\\u03af\\u03b1\"], [\"\\u0391\\u03c5\\u03c3\\u03c4\\u03c1\\u03b1\\u03bb\\u03af\\u03b1\"], [\"\\u0391\\u03c5\\u03c3\\u03c4\\u03c1\\u03b1\\u03bb\\u03af\\u03b1\"]], \"hoverlabel\": {\"namelength\": 0}, \"hovertemplate\": \"\\u03a7\\u03ce\\u03c1\\u03b1=%{customdata[0]}<br>\\u0391\\u03c1\\u03b9\\u03b8\\u03bc\\u03cc\\u03c2 \\u039a\\u03c1\\u03bf\\u03c5\\u03c3\\u03bc\\u03ac\\u03c4\\u03c9\\u03bd=%{y}\", \"legendgroup\": \"\\u0391\\u03c5\\u03c3\\u03c4\\u03c1\\u03b1\\u03bb\\u03af\\u03b1\", \"line\": {\"color\": \"rgb(189,189,189)\", \"dash\": \"solid\", \"shape\": \"spline\"}, \"mode\": \"lines\", \"name\": \"\\u0391\\u03c5\\u03c3\\u03c4\\u03c1\\u03b1\\u03bb\\u03af\\u03b1\", \"showlegend\": true, \"type\": \"scatter\", \"xaxis\": \"x\", \"y\": [13, 13, 14, 16, 17, 18, 20, 24, 28, 30, 35, 40, 45, 50, 51, 54, 57, 60], \"yaxis\": \"y\"}, {\"customdata\": [[\"\\u0391\\u03c5\\u03c3\\u03c4\\u03c1\\u03af\\u03b1\"], [\"\\u0391\\u03c5\\u03c3\\u03c4\\u03c1\\u03af\\u03b1\"], [\"\\u0391\\u03c5\\u03c3\\u03c4\\u03c1\\u03af\\u03b1\"], [\"\\u0391\\u03c5\\u03c3\\u03c4\\u03c1\\u03af\\u03b1\"], [\"\\u0391\\u03c5\\u03c3\\u03c4\\u03c1\\u03af\\u03b1\"], [\"\\u0391\\u03c5\\u03c3\\u03c4\\u03c1\\u03af\\u03b1\"], [\"\\u0391\\u03c5\\u03c3\\u03c4\\u03c1\\u03af\\u03b1\"], [\"\\u0391\\u03c5\\u03c3\\u03c4\\u03c1\\u03af\\u03b1\"], [\"\\u0391\\u03c5\\u03c3\\u03c4\\u03c1\\u03af\\u03b1\"], [\"\\u0391\\u03c5\\u03c3\\u03c4\\u03c1\\u03af\\u03b1\"], [\"\\u0391\\u03c5\\u03c3\\u03c4\\u03c1\\u03af\\u03b1\"], [\"\\u0391\\u03c5\\u03c3\\u03c4\\u03c1\\u03af\\u03b1\"], [\"\\u0391\\u03c5\\u03c3\\u03c4\\u03c1\\u03af\\u03b1\"], [\"\\u0391\\u03c5\\u03c3\\u03c4\\u03c1\\u03af\\u03b1\"], [\"\\u0391\\u03c5\\u03c3\\u03c4\\u03c1\\u03af\\u03b1\"], [\"\\u0391\\u03c5\\u03c3\\u03c4\\u03c1\\u03af\\u03b1\"], [\"\\u0391\\u03c5\\u03c3\\u03c4\\u03c1\\u03af\\u03b1\"], [\"\\u0391\\u03c5\\u03c3\\u03c4\\u03c1\\u03af\\u03b1\"], [\"\\u0391\\u03c5\\u03c3\\u03c4\\u03c1\\u03af\\u03b1\"], [\"\\u0391\\u03c5\\u03c3\\u03c4\\u03c1\\u03af\\u03b1\"], [\"\\u0391\\u03c5\\u03c3\\u03c4\\u03c1\\u03af\\u03b1\"], [\"\\u0391\\u03c5\\u03c3\\u03c4\\u03c1\\u03af\\u03b1\"]], \"hoverlabel\": {\"namelength\": 0}, \"hovertemplate\": \"\\u03a7\\u03ce\\u03c1\\u03b1=%{customdata[0]}<br>\\u0391\\u03c1\\u03b9\\u03b8\\u03bc\\u03cc\\u03c2 \\u039a\\u03c1\\u03bf\\u03c5\\u03c3\\u03bc\\u03ac\\u03c4\\u03c9\\u03bd=%{y}\", \"legendgroup\": \"\\u0391\\u03c5\\u03c3\\u03c4\\u03c1\\u03af\\u03b1\", \"line\": {\"color\": \"rgb(189,189,189)\", \"dash\": \"solid\", \"shape\": \"spline\"}, \"mode\": \"lines\", \"name\": \"\\u0391\\u03c5\\u03c3\\u03c4\\u03c1\\u03af\\u03b1\", \"showlegend\": true, \"type\": \"scatter\", \"xaxis\": \"x\", \"y\": [16, 21, 28, 30, 49, 58, 68, 86, 108, 128, 146, 158, 168, 186, 204, 220, 243, 273, 295, 319, 337, 350], \"yaxis\": \"y\"}, {\"customdata\": [[\"\\u0391\\u03b6\\u03b5\\u03c1\\u03bc\\u03c0\\u03b1\\u03ca\\u03c4\\u03b6\\u03ac\\u03bd\"], [\"\\u0391\\u03b6\\u03b5\\u03c1\\u03bc\\u03c0\\u03b1\\u03ca\\u03c4\\u03b6\\u03ac\\u03bd\"], [\"\\u0391\\u03b6\\u03b5\\u03c1\\u03bc\\u03c0\\u03b1\\u03ca\\u03c4\\u03b6\\u03ac\\u03bd\"]], \"hoverlabel\": {\"namelength\": 0}, \"hovertemplate\": \"\\u03a7\\u03ce\\u03c1\\u03b1=%{customdata[0]}<br>\\u0391\\u03c1\\u03b9\\u03b8\\u03bc\\u03cc\\u03c2 \\u039a\\u03c1\\u03bf\\u03c5\\u03c3\\u03bc\\u03ac\\u03c4\\u03c9\\u03bd=%{y}\", \"legendgroup\": \"\\u0391\\u03b6\\u03b5\\u03c1\\u03bc\\u03c0\\u03b1\\u03ca\\u03c4\\u03b6\\u03ac\\u03bd\", \"line\": {\"color\": \"rgb(189,189,189)\", \"dash\": \"solid\", \"shape\": \"spline\"}, \"mode\": \"lines\", \"name\": \"\\u0391\\u03b6\\u03b5\\u03c1\\u03bc\\u03c0\\u03b1\\u03ca\\u03c4\\u03b6\\u03ac\\u03bd\", \"showlegend\": true, \"type\": \"scatter\", \"xaxis\": \"x\", \"y\": [10, 11, 11], \"yaxis\": \"y\"}, {\"customdata\": [[\"\\u039c\\u03c0\\u03b1\\u03bd\\u03b3\\u03ba\\u03bb\\u03b1\\u03bd\\u03c4\\u03ad\\u03c2\"], [\"\\u039c\\u03c0\\u03b1\\u03bd\\u03b3\\u03ba\\u03bb\\u03b1\\u03bd\\u03c4\\u03ad\\u03c2\"], [\"\\u039c\\u03c0\\u03b1\\u03bd\\u03b3\\u03ba\\u03bb\\u03b1\\u03bd\\u03c4\\u03ad\\u03c2\"], [\"\\u039c\\u03c0\\u03b1\\u03bd\\u03b3\\u03ba\\u03bb\\u03b1\\u03bd\\u03c4\\u03ad\\u03c2\"], [\"\\u039c\\u03c0\\u03b1\\u03bd\\u03b3\\u03ba\\u03bb\\u03b1\\u03bd\\u03c4\\u03ad\\u03c2\"], [\"\\u039c\\u03c0\\u03b1\\u03bd\\u03b3\\u03ba\\u03bb\\u03b1\\u03bd\\u03c4\\u03ad\\u03c2\"], [\"\\u039c\\u03c0\\u03b1\\u03bd\\u03b3\\u03ba\\u03bb\\u03b1\\u03bd\\u03c4\\u03ad\\u03c2\"]], \"hoverlabel\": {\"namelength\": 0}, \"hovertemplate\": \"\\u03a7\\u03ce\\u03c1\\u03b1=%{customdata[0]}<br>\\u0391\\u03c1\\u03b9\\u03b8\\u03bc\\u03cc\\u03c2 \\u039a\\u03c1\\u03bf\\u03c5\\u03c3\\u03bc\\u03ac\\u03c4\\u03c9\\u03bd=%{y}\", \"legendgroup\": \"\\u039c\\u03c0\\u03b1\\u03bd\\u03b3\\u03ba\\u03bb\\u03b1\\u03bd\\u03c4\\u03ad\\u03c2\", \"line\": {\"color\": \"rgb(189,189,189)\", \"dash\": \"solid\", \"shape\": \"spline\"}, \"mode\": \"lines\", \"name\": \"\\u039c\\u03c0\\u03b1\\u03bd\\u03b3\\u03ba\\u03bb\\u03b1\\u03bd\\u03c4\\u03ad\\u03c2\", \"showlegend\": true, \"type\": \"scatter\", \"xaxis\": \"x\", \"y\": [12, 17, 20, 21, 27, 30, 34], \"yaxis\": \"y\"}, {\"customdata\": [[\"\\u039b\\u03b5\\u03c5\\u03ba\\u03bf\\u03c1\\u03c9\\u03c3\\u03af\\u03b1\"], [\"\\u039b\\u03b5\\u03c5\\u03ba\\u03bf\\u03c1\\u03c9\\u03c3\\u03af\\u03b1\"], [\"\\u039b\\u03b5\\u03c5\\u03ba\\u03bf\\u03c1\\u03c9\\u03c3\\u03af\\u03b1\"], [\"\\u039b\\u03b5\\u03c5\\u03ba\\u03bf\\u03c1\\u03c9\\u03c3\\u03af\\u03b1\"], [\"\\u039b\\u03b5\\u03c5\\u03ba\\u03bf\\u03c1\\u03c9\\u03c3\\u03af\\u03b1\"], [\"\\u039b\\u03b5\\u03c5\\u03ba\\u03bf\\u03c1\\u03c9\\u03c3\\u03af\\u03b1\"], [\"\\u039b\\u03b5\\u03c5\\u03ba\\u03bf\\u03c1\\u03c9\\u03c3\\u03af\\u03b1\"]], \"hoverlabel\": {\"namelength\": 0}, \"hovertemplate\": \"\\u03a7\\u03ce\\u03c1\\u03b1=%{customdata[0]}<br>\\u0391\\u03c1\\u03b9\\u03b8\\u03bc\\u03cc\\u03c2 \\u039a\\u03c1\\u03bf\\u03c5\\u03c3\\u03bc\\u03ac\\u03c4\\u03c9\\u03bd=%{y}\", \"legendgroup\": \"\\u039b\\u03b5\\u03c5\\u03ba\\u03bf\\u03c1\\u03c9\\u03c3\\u03af\\u03b1\", \"line\": {\"color\": \"rgb(189,189,189)\", \"dash\": \"solid\", \"shape\": \"spline\"}, \"mode\": \"lines\", \"name\": \"\\u039b\\u03b5\\u03c5\\u03ba\\u03bf\\u03c1\\u03c9\\u03c3\\u03af\\u03b1\", \"showlegend\": true, \"type\": \"scatter\", \"xaxis\": \"x\", \"y\": [13, 13, 13, 16, 19, 23, 26], \"yaxis\": \"y\"}, {\"customdata\": [[\"\\u0392\\u03ad\\u03bb\\u03b3\\u03b9\\u03bf\"], [\"\\u0392\\u03ad\\u03bb\\u03b3\\u03b9\\u03bf\"], [\"\\u0392\\u03ad\\u03bb\\u03b3\\u03b9\\u03bf\"], [\"\\u0392\\u03ad\\u03bb\\u03b3\\u03b9\\u03bf\"], [\"\\u0392\\u03ad\\u03bb\\u03b3\\u03b9\\u03bf\"], [\"\\u0392\\u03ad\\u03bb\\u03b3\\u03b9\\u03bf\"], [\"\\u0392\\u03ad\\u03bb\\u03b3\\u03b9\\u03bf\"], [\"\\u0392\\u03ad\\u03bb\\u03b3\\u03b9\\u03bf\"], [\"\\u0392\\u03ad\\u03bb\\u03b3\\u03b9\\u03bf\"], [\"\\u0392\\u03ad\\u03bb\\u03b3\\u03b9\\u03bf\"], [\"\\u0392\\u03ad\\u03bb\\u03b3\\u03b9\\u03bf\"], [\"\\u0392\\u03ad\\u03bb\\u03b3\\u03b9\\u03bf\"], [\"\\u0392\\u03ad\\u03bb\\u03b3\\u03b9\\u03bf\"], [\"\\u0392\\u03ad\\u03bb\\u03b3\\u03b9\\u03bf\"], [\"\\u0392\\u03ad\\u03bb\\u03b3\\u03b9\\u03bf\"], [\"\\u0392\\u03ad\\u03bb\\u03b3\\u03b9\\u03bf\"], [\"\\u0392\\u03ad\\u03bb\\u03b3\\u03b9\\u03bf\"], [\"\\u0392\\u03ad\\u03bb\\u03b3\\u03b9\\u03bf\"], [\"\\u0392\\u03ad\\u03bb\\u03b3\\u03b9\\u03bf\"], [\"\\u0392\\u03ad\\u03bb\\u03b3\\u03b9\\u03bf\"], [\"\\u0392\\u03ad\\u03bb\\u03b3\\u03b9\\u03bf\"], [\"\\u0392\\u03ad\\u03bb\\u03b3\\u03b9\\u03bf\"], [\"\\u0392\\u03ad\\u03bb\\u03b3\\u03b9\\u03bf\"], [\"\\u0392\\u03ad\\u03bb\\u03b3\\u03b9\\u03bf\"], [\"\\u0392\\u03ad\\u03bb\\u03b3\\u03b9\\u03bf\"], [\"\\u0392\\u03ad\\u03bb\\u03b3\\u03b9\\u03bf\"], [\"\\u0392\\u03ad\\u03bb\\u03b3\\u03b9\\u03bf\"]], \"hoverlabel\": {\"namelength\": 0}, \"hovertemplate\": \"\\u03a7\\u03ce\\u03c1\\u03b1=%{customdata[0]}<br>\\u0391\\u03c1\\u03b9\\u03b8\\u03bc\\u03cc\\u03c2 \\u039a\\u03c1\\u03bf\\u03c5\\u03c3\\u03bc\\u03ac\\u03c4\\u03c9\\u03bd=%{y}\", \"legendgroup\": \"\\u0392\\u03ad\\u03bb\\u03b3\\u03b9\\u03bf\", \"line\": {\"color\": \"rgb(189,189,189)\", \"dash\": \"solid\", \"shape\": \"spline\"}, \"mode\": \"lines\", \"name\": \"\\u0392\\u03ad\\u03bb\\u03b3\\u03b9\\u03bf\", \"showlegend\": true, \"type\": \"scatter\", \"xaxis\": \"x\", \"y\": [10, 14, 21, 37, 67, 75, 88, 122, 178, 220, 289, 353, 431, 513, 705, 828, 1011, 1143, 1283, 1447, 1632, 2035, 2240, 2523, 3019, 3346, 3600], \"yaxis\": \"y\"}, {\"customdata\": [[\"\\u0392\\u03bf\\u03bb\\u03b9\\u03b2\\u03af\\u03b1\"], [\"\\u0392\\u03bf\\u03bb\\u03b9\\u03b2\\u03af\\u03b1\"], [\"\\u0392\\u03bf\\u03bb\\u03b9\\u03b2\\u03af\\u03b1\"], [\"\\u0392\\u03bf\\u03bb\\u03b9\\u03b2\\u03af\\u03b1\"], [\"\\u0392\\u03bf\\u03bb\\u03b9\\u03b2\\u03af\\u03b1\"], [\"\\u0392\\u03bf\\u03bb\\u03b9\\u03b2\\u03af\\u03b1\"], [\"\\u0392\\u03bf\\u03bb\\u03b9\\u03b2\\u03af\\u03b1\"], [\"\\u0392\\u03bf\\u03bb\\u03b9\\u03b2\\u03af\\u03b1\"], [\"\\u0392\\u03bf\\u03bb\\u03b9\\u03b2\\u03af\\u03b1\"]], \"hoverlabel\": {\"namelength\": 0}, \"hovertemplate\": \"\\u03a7\\u03ce\\u03c1\\u03b1=%{customdata[0]}<br>\\u0391\\u03c1\\u03b9\\u03b8\\u03bc\\u03cc\\u03c2 \\u039a\\u03c1\\u03bf\\u03c5\\u03c3\\u03bc\\u03ac\\u03c4\\u03c9\\u03bd=%{y}\", \"legendgroup\": \"\\u0392\\u03bf\\u03bb\\u03b9\\u03b2\\u03af\\u03b1\", \"line\": {\"color\": \"rgb(189,189,189)\", \"dash\": \"solid\", \"shape\": \"spline\"}, \"mode\": \"lines\", \"name\": \"\\u0392\\u03bf\\u03bb\\u03b9\\u03b2\\u03af\\u03b1\", \"showlegend\": true, \"type\": \"scatter\", \"xaxis\": \"x\", \"y\": [10, 10, 11, 14, 15, 18, 19, 20, 24], \"yaxis\": \"y\"}, {\"customdata\": [[\"\\u0392\\u03bf\\u03c3\\u03bd\\u03af\\u03b1-\\u0395\\u03c1\\u03b6\\u03b5\\u03b3\\u03bf\\u03b2\\u03af\\u03bd\\u03b7\"], [\"\\u0392\\u03bf\\u03c3\\u03bd\\u03af\\u03b1-\\u0395\\u03c1\\u03b6\\u03b5\\u03b3\\u03bf\\u03b2\\u03af\\u03bd\\u03b7\"], [\"\\u0392\\u03bf\\u03c3\\u03bd\\u03af\\u03b1-\\u0395\\u03c1\\u03b6\\u03b5\\u03b3\\u03bf\\u03b2\\u03af\\u03bd\\u03b7\"], [\"\\u0392\\u03bf\\u03c3\\u03bd\\u03af\\u03b1-\\u0395\\u03c1\\u03b6\\u03b5\\u03b3\\u03bf\\u03b2\\u03af\\u03bd\\u03b7\"], [\"\\u0392\\u03bf\\u03c3\\u03bd\\u03af\\u03b1-\\u0395\\u03c1\\u03b6\\u03b5\\u03b3\\u03bf\\u03b2\\u03af\\u03bd\\u03b7\"], [\"\\u0392\\u03bf\\u03c3\\u03bd\\u03af\\u03b1-\\u0395\\u03c1\\u03b6\\u03b5\\u03b3\\u03bf\\u03b2\\u03af\\u03bd\\u03b7\"], [\"\\u0392\\u03bf\\u03c3\\u03bd\\u03af\\u03b1-\\u0395\\u03c1\\u03b6\\u03b5\\u03b3\\u03bf\\u03b2\\u03af\\u03bd\\u03b7\"], [\"\\u0392\\u03bf\\u03c3\\u03bd\\u03af\\u03b1-\\u0395\\u03c1\\u03b6\\u03b5\\u03b3\\u03bf\\u03b2\\u03af\\u03bd\\u03b7\"], [\"\\u0392\\u03bf\\u03c3\\u03bd\\u03af\\u03b1-\\u0395\\u03c1\\u03b6\\u03b5\\u03b3\\u03bf\\u03b2\\u03af\\u03bd\\u03b7\"], [\"\\u0392\\u03bf\\u03c3\\u03bd\\u03af\\u03b1-\\u0395\\u03c1\\u03b6\\u03b5\\u03b3\\u03bf\\u03b2\\u03af\\u03bd\\u03b7\"], [\"\\u0392\\u03bf\\u03c3\\u03bd\\u03af\\u03b1-\\u0395\\u03c1\\u03b6\\u03b5\\u03b3\\u03bf\\u03b2\\u03af\\u03bd\\u03b7\"], [\"\\u0392\\u03bf\\u03c3\\u03bd\\u03af\\u03b1-\\u0395\\u03c1\\u03b6\\u03b5\\u03b3\\u03bf\\u03b2\\u03af\\u03bd\\u03b7\"], [\"\\u0392\\u03bf\\u03c3\\u03bd\\u03af\\u03b1-\\u0395\\u03c1\\u03b6\\u03b5\\u03b3\\u03bf\\u03b2\\u03af\\u03bd\\u03b7\"], [\"\\u0392\\u03bf\\u03c3\\u03bd\\u03af\\u03b1-\\u0395\\u03c1\\u03b6\\u03b5\\u03b3\\u03bf\\u03b2\\u03af\\u03bd\\u03b7\"]], \"hoverlabel\": {\"namelength\": 0}, \"hovertemplate\": \"\\u03a7\\u03ce\\u03c1\\u03b1=%{customdata[0]}<br>\\u0391\\u03c1\\u03b9\\u03b8\\u03bc\\u03cc\\u03c2 \\u039a\\u03c1\\u03bf\\u03c5\\u03c3\\u03bc\\u03ac\\u03c4\\u03c9\\u03bd=%{y}\", \"legendgroup\": \"\\u0392\\u03bf\\u03c3\\u03bd\\u03af\\u03b1-\\u0395\\u03c1\\u03b6\\u03b5\\u03b3\\u03bf\\u03b2\\u03af\\u03bd\\u03b7\", \"line\": {\"color\": \"rgb(189,189,189)\", \"dash\": \"solid\", \"shape\": \"spline\"}, \"mode\": \"lines\", \"name\": \"\\u0392\\u03bf\\u03c3\\u03bd\\u03af\\u03b1-\\u0395\\u03c1\\u03b6\\u03b5\\u03b3\\u03bf\\u03b2\\u03af\\u03bd\\u03b7\", \"showlegend\": true, \"type\": \"scatter\", \"xaxis\": \"x\", \"y\": [10, 13, 13, 16, 17, 21, 23, 29, 33, 34, 35, 36, 37, 39], \"yaxis\": \"y\"}, {\"customdata\": [[\"\\u0392\\u03c1\\u03b1\\u03b6\\u03b9\\u03bb\\u03af\\u03b1\"], [\"\\u0392\\u03c1\\u03b1\\u03b6\\u03b9\\u03bb\\u03af\\u03b1\"], [\"\\u0392\\u03c1\\u03b1\\u03b6\\u03b9\\u03bb\\u03af\\u03b1\"], [\"\\u0392\\u03c1\\u03b1\\u03b6\\u03b9\\u03bb\\u03af\\u03b1\"], [\"\\u0392\\u03c1\\u03b1\\u03b6\\u03b9\\u03bb\\u03af\\u03b1\"], [\"\\u0392\\u03c1\\u03b1\\u03b6\\u03b9\\u03bb\\u03af\\u03b1\"], [\"\\u0392\\u03c1\\u03b1\\u03b6\\u03b9\\u03bb\\u03af\\u03b1\"], [\"\\u0392\\u03c1\\u03b1\\u03b6\\u03b9\\u03bb\\u03af\\u03b1\"], [\"\\u0392\\u03c1\\u03b1\\u03b6\\u03b9\\u03bb\\u03af\\u03b1\"], [\"\\u0392\\u03c1\\u03b1\\u03b6\\u03b9\\u03bb\\u03af\\u03b1\"], [\"\\u0392\\u03c1\\u03b1\\u03b6\\u03b9\\u03bb\\u03af\\u03b1\"], [\"\\u0392\\u03c1\\u03b1\\u03b6\\u03b9\\u03bb\\u03af\\u03b1\"], [\"\\u0392\\u03c1\\u03b1\\u03b6\\u03b9\\u03bb\\u03af\\u03b1\"], [\"\\u0392\\u03c1\\u03b1\\u03b6\\u03b9\\u03bb\\u03af\\u03b1\"], [\"\\u0392\\u03c1\\u03b1\\u03b6\\u03b9\\u03bb\\u03af\\u03b1\"], [\"\\u0392\\u03c1\\u03b1\\u03b6\\u03b9\\u03bb\\u03af\\u03b1\"], [\"\\u0392\\u03c1\\u03b1\\u03b6\\u03b9\\u03bb\\u03af\\u03b1\"], [\"\\u0392\\u03c1\\u03b1\\u03b6\\u03b9\\u03bb\\u03af\\u03b1\"], [\"\\u0392\\u03c1\\u03b1\\u03b6\\u03b9\\u03bb\\u03af\\u03b1\"], [\"\\u0392\\u03c1\\u03b1\\u03b6\\u03b9\\u03bb\\u03af\\u03b1\"], [\"\\u0392\\u03c1\\u03b1\\u03b6\\u03b9\\u03bb\\u03af\\u03b1\"], [\"\\u0392\\u03c1\\u03b1\\u03b6\\u03b9\\u03bb\\u03af\\u03b1\"], [\"\\u0392\\u03c1\\u03b1\\u03b6\\u03b9\\u03bb\\u03af\\u03b1\"], [\"\\u0392\\u03c1\\u03b1\\u03b6\\u03b9\\u03bb\\u03af\\u03b1\"]], \"hoverlabel\": {\"namelength\": 0}, \"hovertemplate\": \"\\u03a7\\u03ce\\u03c1\\u03b1=%{customdata[0]}<br>\\u0391\\u03c1\\u03b9\\u03b8\\u03bc\\u03cc\\u03c2 \\u039a\\u03c1\\u03bf\\u03c5\\u03c3\\u03bc\\u03ac\\u03c4\\u03c9\\u03bd=%{y}\", \"legendgroup\": \"\\u0392\\u03c1\\u03b1\\u03b6\\u03b9\\u03bb\\u03af\\u03b1\", \"line\": {\"color\": \"rgb(189,189,189)\", \"dash\": \"solid\", \"shape\": \"spline\"}, \"mode\": \"lines\", \"name\": \"\\u0392\\u03c1\\u03b1\\u03b6\\u03b9\\u03bb\\u03af\\u03b1\", \"showlegend\": true, \"type\": \"scatter\", \"xaxis\": \"x\", \"y\": [11, 15, 25, 34, 46, 59, 77, 92, 111, 136, 159, 201, 240, 324, 359, 445, 486, 564, 686, 819, 950, 1057, 1124, 1223], \"yaxis\": \"y\"}, {\"customdata\": [[\"\\u0392\\u03bf\\u03c5\\u03bb\\u03b3\\u03b1\\u03c1\\u03af\\u03b1\"], [\"\\u0392\\u03bf\\u03c5\\u03bb\\u03b3\\u03b1\\u03c1\\u03af\\u03b1\"], [\"\\u0392\\u03bf\\u03c5\\u03bb\\u03b3\\u03b1\\u03c1\\u03af\\u03b1\"], [\"\\u0392\\u03bf\\u03c5\\u03bb\\u03b3\\u03b1\\u03c1\\u03af\\u03b1\"], [\"\\u0392\\u03bf\\u03c5\\u03bb\\u03b3\\u03b1\\u03c1\\u03af\\u03b1\"], [\"\\u0392\\u03bf\\u03c5\\u03bb\\u03b3\\u03b1\\u03c1\\u03af\\u03b1\"], [\"\\u0392\\u03bf\\u03c5\\u03bb\\u03b3\\u03b1\\u03c1\\u03af\\u03b1\"], [\"\\u0392\\u03bf\\u03c5\\u03bb\\u03b3\\u03b1\\u03c1\\u03af\\u03b1\"], [\"\\u0392\\u03bf\\u03c5\\u03bb\\u03b3\\u03b1\\u03c1\\u03af\\u03b1\"], [\"\\u0392\\u03bf\\u03c5\\u03bb\\u03b3\\u03b1\\u03c1\\u03af\\u03b1\"], [\"\\u0392\\u03bf\\u03c5\\u03bb\\u03b3\\u03b1\\u03c1\\u03af\\u03b1\"], [\"\\u0392\\u03bf\\u03c5\\u03bb\\u03b3\\u03b1\\u03c1\\u03af\\u03b1\"]], \"hoverlabel\": {\"namelength\": 0}, \"hovertemplate\": \"\\u03a7\\u03ce\\u03c1\\u03b1=%{customdata[0]}<br>\\u0391\\u03c1\\u03b9\\u03b8\\u03bc\\u03cc\\u03c2 \\u039a\\u03c1\\u03bf\\u03c5\\u03c3\\u03bc\\u03ac\\u03c4\\u03c9\\u03bd=%{y}\", \"legendgroup\": \"\\u0392\\u03bf\\u03c5\\u03bb\\u03b3\\u03b1\\u03c1\\u03af\\u03b1\", \"line\": {\"color\": \"rgb(189,189,189)\", \"dash\": \"solid\", \"shape\": \"spline\"}, \"mode\": \"lines\", \"name\": \"\\u0392\\u03bf\\u03c5\\u03bb\\u03b3\\u03b1\\u03c1\\u03af\\u03b1\", \"showlegend\": true, \"type\": \"scatter\", \"xaxis\": \"x\", \"y\": [10, 10, 14, 17, 20, 22, 23, 24, 24, 25, 28, 29], \"yaxis\": \"y\"}, {\"customdata\": [[\"\\u039c\\u03c0\\u03bf\\u03c5\\u03c1\\u03ba\\u03af\\u03bd\\u03b1 \\u03a6\\u03ac\\u03c3\\u03bf\"], [\"\\u039c\\u03c0\\u03bf\\u03c5\\u03c1\\u03ba\\u03af\\u03bd\\u03b1 \\u03a6\\u03ac\\u03c3\\u03bf\"], [\"\\u039c\\u03c0\\u03bf\\u03c5\\u03c1\\u03ba\\u03af\\u03bd\\u03b1 \\u03a6\\u03ac\\u03c3\\u03bf\"], [\"\\u039c\\u03c0\\u03bf\\u03c5\\u03c1\\u03ba\\u03af\\u03bd\\u03b1 \\u03a6\\u03ac\\u03c3\\u03bf\"], [\"\\u039c\\u03c0\\u03bf\\u03c5\\u03c1\\u03ba\\u03af\\u03bd\\u03b1 \\u03a6\\u03ac\\u03c3\\u03bf\"], [\"\\u039c\\u03c0\\u03bf\\u03c5\\u03c1\\u03ba\\u03af\\u03bd\\u03b1 \\u03a6\\u03ac\\u03c3\\u03bf\"], [\"\\u039c\\u03c0\\u03bf\\u03c5\\u03c1\\u03ba\\u03af\\u03bd\\u03b1 \\u03a6\\u03ac\\u03c3\\u03bf\"], [\"\\u039c\\u03c0\\u03bf\\u03c5\\u03c1\\u03ba\\u03af\\u03bd\\u03b1 \\u03a6\\u03ac\\u03c3\\u03bf\"], [\"\\u039c\\u03c0\\u03bf\\u03c5\\u03c1\\u03ba\\u03af\\u03bd\\u03b1 \\u03a6\\u03ac\\u03c3\\u03bf\"], [\"\\u039c\\u03c0\\u03bf\\u03c5\\u03c1\\u03ba\\u03af\\u03bd\\u03b1 \\u03a6\\u03ac\\u03c3\\u03bf\"], [\"\\u039c\\u03c0\\u03bf\\u03c5\\u03c1\\u03ba\\u03af\\u03bd\\u03b1 \\u03a6\\u03ac\\u03c3\\u03bf\"], [\"\\u039c\\u03c0\\u03bf\\u03c5\\u03c1\\u03ba\\u03af\\u03bd\\u03b1 \\u03a6\\u03ac\\u03c3\\u03bf\"], [\"\\u039c\\u03c0\\u03bf\\u03c5\\u03c1\\u03ba\\u03af\\u03bd\\u03b1 \\u03a6\\u03ac\\u03c3\\u03bf\"], [\"\\u039c\\u03c0\\u03bf\\u03c5\\u03c1\\u03ba\\u03af\\u03bd\\u03b1 \\u03a6\\u03ac\\u03c3\\u03bf\"], [\"\\u039c\\u03c0\\u03bf\\u03c5\\u03c1\\u03ba\\u03af\\u03bd\\u03b1 \\u03a6\\u03ac\\u03c3\\u03bf\"], [\"\\u039c\\u03c0\\u03bf\\u03c5\\u03c1\\u03ba\\u03af\\u03bd\\u03b1 \\u03a6\\u03ac\\u03c3\\u03bf\"]], \"hoverlabel\": {\"namelength\": 0}, \"hovertemplate\": \"\\u03a7\\u03ce\\u03c1\\u03b1=%{customdata[0]}<br>\\u0391\\u03c1\\u03b9\\u03b8\\u03bc\\u03cc\\u03c2 \\u039a\\u03c1\\u03bf\\u03c5\\u03c3\\u03bc\\u03ac\\u03c4\\u03c9\\u03bd=%{y}\", \"legendgroup\": \"\\u039c\\u03c0\\u03bf\\u03c5\\u03c1\\u03ba\\u03af\\u03bd\\u03b1 \\u03a6\\u03ac\\u03c3\\u03bf\", \"line\": {\"color\": \"rgb(189,189,189)\", \"dash\": \"solid\", \"shape\": \"spline\"}, \"mode\": \"lines\", \"name\": \"\\u039c\\u03c0\\u03bf\\u03c5\\u03c1\\u03ba\\u03af\\u03bd\\u03b1 \\u03a6\\u03ac\\u03c3\\u03bf\", \"showlegend\": true, \"type\": \"scatter\", \"xaxis\": \"x\", \"y\": [11, 12, 12, 14, 16, 16, 16, 16, 17, 18, 19, 23, 24, 24, 27, 27], \"yaxis\": \"y\"}, {\"customdata\": [[\"\\u039a\\u03b1\\u03bc\\u03b5\\u03c1\\u03bf\\u03cd\\u03bd\"], [\"\\u039a\\u03b1\\u03bc\\u03b5\\u03c1\\u03bf\\u03cd\\u03bd\"], [\"\\u039a\\u03b1\\u03bc\\u03b5\\u03c1\\u03bf\\u03cd\\u03bd\"], [\"\\u039a\\u03b1\\u03bc\\u03b5\\u03c1\\u03bf\\u03cd\\u03bd\"], [\"\\u039a\\u03b1\\u03bc\\u03b5\\u03c1\\u03bf\\u03cd\\u03bd\"]], \"hoverlabel\": {\"namelength\": 0}, \"hovertemplate\": \"\\u03a7\\u03ce\\u03c1\\u03b1=%{customdata[0]}<br>\\u0391\\u03c1\\u03b9\\u03b8\\u03bc\\u03cc\\u03c2 \\u039a\\u03c1\\u03bf\\u03c5\\u03c3\\u03bc\\u03ac\\u03c4\\u03c9\\u03bd=%{y}\", \"legendgroup\": \"\\u039a\\u03b1\\u03bc\\u03b5\\u03c1\\u03bf\\u03cd\\u03bd\", \"line\": {\"color\": \"rgb(189,189,189)\", \"dash\": \"solid\", \"shape\": \"spline\"}, \"mode\": \"lines\", \"name\": \"\\u039a\\u03b1\\u03bc\\u03b5\\u03c1\\u03bf\\u03cd\\u03bd\", \"showlegend\": true, \"type\": \"scatter\", \"xaxis\": \"x\", \"y\": [10, 10, 12, 12, 12], \"yaxis\": \"y\"}, {\"customdata\": [[\"\\u039a\\u03b1\\u03bd\\u03b1\\u03b4\\u03ac\\u03c2\"], [\"\\u039a\\u03b1\\u03bd\\u03b1\\u03b4\\u03ac\\u03c2\"], [\"\\u039a\\u03b1\\u03bd\\u03b1\\u03b4\\u03ac\\u03c2\"], [\"\\u039a\\u03b1\\u03bd\\u03b1\\u03b4\\u03ac\\u03c2\"], [\"\\u039a\\u03b1\\u03bd\\u03b1\\u03b4\\u03ac\\u03c2\"], [\"\\u039a\\u03b1\\u03bd\\u03b1\\u03b4\\u03ac\\u03c2\"], [\"\\u039a\\u03b1\\u03bd\\u03b1\\u03b4\\u03ac\\u03c2\"], [\"\\u039a\\u03b1\\u03bd\\u03b1\\u03b4\\u03ac\\u03c2\"], [\"\\u039a\\u03b1\\u03bd\\u03b1\\u03b4\\u03ac\\u03c2\"], [\"\\u039a\\u03b1\\u03bd\\u03b1\\u03b4\\u03ac\\u03c2\"], [\"\\u039a\\u03b1\\u03bd\\u03b1\\u03b4\\u03ac\\u03c2\"], [\"\\u039a\\u03b1\\u03bd\\u03b1\\u03b4\\u03ac\\u03c2\"], [\"\\u039a\\u03b1\\u03bd\\u03b1\\u03b4\\u03ac\\u03c2\"], [\"\\u039a\\u03b1\\u03bd\\u03b1\\u03b4\\u03ac\\u03c2\"], [\"\\u039a\\u03b1\\u03bd\\u03b1\\u03b4\\u03ac\\u03c2\"], [\"\\u039a\\u03b1\\u03bd\\u03b1\\u03b4\\u03ac\\u03c2\"], [\"\\u039a\\u03b1\\u03bd\\u03b1\\u03b4\\u03ac\\u03c2\"], [\"\\u039a\\u03b1\\u03bd\\u03b1\\u03b4\\u03ac\\u03c2\"], [\"\\u039a\\u03b1\\u03bd\\u03b1\\u03b4\\u03ac\\u03c2\"], [\"\\u039a\\u03b1\\u03bd\\u03b1\\u03b4\\u03ac\\u03c2\"], [\"\\u039a\\u03b1\\u03bd\\u03b1\\u03b4\\u03ac\\u03c2\"], [\"\\u039a\\u03b1\\u03bd\\u03b1\\u03b4\\u03ac\\u03c2\"], [\"\\u039a\\u03b1\\u03bd\\u03b1\\u03b4\\u03ac\\u03c2\"], [\"\\u039a\\u03b1\\u03bd\\u03b1\\u03b4\\u03ac\\u03c2\"]], \"hoverlabel\": {\"namelength\": 0}, \"hovertemplate\": \"\\u03a7\\u03ce\\u03c1\\u03b1=%{customdata[0]}<br>\\u0391\\u03c1\\u03b9\\u03b8\\u03bc\\u03cc\\u03c2 \\u039a\\u03c1\\u03bf\\u03c5\\u03c3\\u03bc\\u03ac\\u03c4\\u03c9\\u03bd=%{y}\", \"legendgroup\": \"\\u039a\\u03b1\\u03bd\\u03b1\\u03b4\\u03ac\\u03c2\", \"line\": {\"color\": \"rgb(189,189,189)\", \"dash\": \"solid\", \"shape\": \"spline\"}, \"mode\": \"lines\", \"name\": \"\\u039a\\u03b1\\u03bd\\u03b1\\u03b4\\u03ac\\u03c2\", \"showlegend\": true, \"type\": \"scatter\", \"xaxis\": \"x\", \"y\": [12, 19, 21, 25, 26, 30, 38, 54, 61, 64, 80, 101, 109, 139, 179, 218, 259, 339, 375, 407, 503, 557, 654, 714], \"yaxis\": \"y\"}, {\"customdata\": [[\"\\u03a7\\u03b9\\u03bb\\u03ae\"], [\"\\u03a7\\u03b9\\u03bb\\u03ae\"], [\"\\u03a7\\u03b9\\u03bb\\u03ae\"], [\"\\u03a7\\u03b9\\u03bb\\u03ae\"], [\"\\u03a7\\u03b9\\u03bb\\u03ae\"], [\"\\u03a7\\u03b9\\u03bb\\u03ae\"], [\"\\u03a7\\u03b9\\u03bb\\u03ae\"], [\"\\u03a7\\u03b9\\u03bb\\u03ae\"], [\"\\u03a7\\u03b9\\u03bb\\u03ae\"], [\"\\u03a7\\u03b9\\u03bb\\u03ae\"], [\"\\u03a7\\u03b9\\u03bb\\u03ae\"], [\"\\u03a7\\u03b9\\u03bb\\u03ae\"], [\"\\u03a7\\u03b9\\u03bb\\u03ae\"]], \"hoverlabel\": {\"namelength\": 0}, \"hovertemplate\": \"\\u03a7\\u03ce\\u03c1\\u03b1=%{customdata[0]}<br>\\u0391\\u03c1\\u03b9\\u03b8\\u03bc\\u03cc\\u03c2 \\u039a\\u03c1\\u03bf\\u03c5\\u03c3\\u03bc\\u03ac\\u03c4\\u03c9\\u03bd=%{y}\", \"legendgroup\": \"\\u03a7\\u03b9\\u03bb\\u03ae\", \"line\": {\"color\": \"rgb(189,189,189)\", \"dash\": \"solid\", \"shape\": \"spline\"}, \"mode\": \"lines\", \"name\": \"\\u03a7\\u03b9\\u03bb\\u03ae\", \"showlegend\": true, \"type\": \"scatter\", \"xaxis\": \"x\", \"y\": [12, 16, 18, 22, 27, 34, 37, 43, 48, 57, 65, 73, 80], \"yaxis\": \"y\"}, {\"customdata\": [[\"\\u039a\\u03bf\\u03bb\\u03bf\\u03bc\\u03b2\\u03af\\u03b1\"], [\"\\u039a\\u03bf\\u03bb\\u03bf\\u03bc\\u03b2\\u03af\\u03b1\"], [\"\\u039a\\u03bf\\u03bb\\u03bf\\u03bc\\u03b2\\u03af\\u03b1\"], [\"\\u039a\\u03bf\\u03bb\\u03bf\\u03bc\\u03b2\\u03af\\u03b1\"], [\"\\u039a\\u03bf\\u03bb\\u03bf\\u03bc\\u03b2\\u03af\\u03b1\"], [\"\\u039a\\u03bf\\u03bb\\u03bf\\u03bc\\u03b2\\u03af\\u03b1\"], [\"\\u039a\\u03bf\\u03bb\\u03bf\\u03bc\\u03b2\\u03af\\u03b1\"], [\"\\u039a\\u03bf\\u03bb\\u03bf\\u03bc\\u03b2\\u03af\\u03b1\"], [\"\\u039a\\u03bf\\u03bb\\u03bf\\u03bc\\u03b2\\u03af\\u03b1\"], [\"\\u039a\\u03bf\\u03bb\\u03bf\\u03bc\\u03b2\\u03af\\u03b1\"], [\"\\u039a\\u03bf\\u03bb\\u03bf\\u03bc\\u03b2\\u03af\\u03b1\"], [\"\\u039a\\u03bf\\u03bb\\u03bf\\u03bc\\u03b2\\u03af\\u03b1\"], [\"\\u039a\\u03bf\\u03bb\\u03bf\\u03bc\\u03b2\\u03af\\u03b1\"], [\"\\u039a\\u03bf\\u03bb\\u03bf\\u03bc\\u03b2\\u03af\\u03b1\"], [\"\\u039a\\u03bf\\u03bb\\u03bf\\u03bc\\u03b2\\u03af\\u03b1\"]], \"hoverlabel\": {\"namelength\": 0}, \"hovertemplate\": \"\\u03a7\\u03ce\\u03c1\\u03b1=%{customdata[0]}<br>\\u0391\\u03c1\\u03b9\\u03b8\\u03bc\\u03cc\\u03c2 \\u039a\\u03c1\\u03bf\\u03c5\\u03c3\\u03bc\\u03ac\\u03c4\\u03c9\\u03bd=%{y}\", \"legendgroup\": \"\\u039a\\u03bf\\u03bb\\u03bf\\u03bc\\u03b2\\u03af\\u03b1\", \"line\": {\"color\": \"rgb(189,189,189)\", \"dash\": \"solid\", \"shape\": \"spline\"}, \"mode\": \"lines\", \"name\": \"\\u039a\\u03bf\\u03bb\\u03bf\\u03bc\\u03b2\\u03af\\u03b1\", \"showlegend\": true, \"type\": \"scatter\", \"xaxis\": \"x\", \"y\": [10, 12, 16, 17, 19, 25, 32, 35, 46, 50, 54, 69, 80, 100, 109], \"yaxis\": \"y\"}, {\"customdata\": [[\"\\u039b\\u03b1\\u03ca\\u03ba\\u03ae \\u0394\\u03b7\\u03bc/\\u03c4\\u03af\\u03b1 \\u039a\\u03bf\\u03bd\\u03b3\\u03ba\\u03cc\"], [\"\\u039b\\u03b1\\u03ca\\u03ba\\u03ae \\u0394\\u03b7\\u03bc/\\u03c4\\u03af\\u03b1 \\u039a\\u03bf\\u03bd\\u03b3\\u03ba\\u03cc\"], [\"\\u039b\\u03b1\\u03ca\\u03ba\\u03ae \\u0394\\u03b7\\u03bc/\\u03c4\\u03af\\u03b1 \\u039a\\u03bf\\u03bd\\u03b3\\u03ba\\u03cc\"], [\"\\u039b\\u03b1\\u03ca\\u03ba\\u03ae \\u0394\\u03b7\\u03bc/\\u03c4\\u03af\\u03b1 \\u039a\\u03bf\\u03bd\\u03b3\\u03ba\\u03cc\"], [\"\\u039b\\u03b1\\u03ca\\u03ba\\u03ae \\u0394\\u03b7\\u03bc/\\u03c4\\u03af\\u03b1 \\u039a\\u03bf\\u03bd\\u03b3\\u03ba\\u03cc\"], [\"\\u039b\\u03b1\\u03ca\\u03ba\\u03ae \\u0394\\u03b7\\u03bc/\\u03c4\\u03af\\u03b1 \\u039a\\u03bf\\u03bd\\u03b3\\u03ba\\u03cc\"], [\"\\u039b\\u03b1\\u03ca\\u03ba\\u03ae \\u0394\\u03b7\\u03bc/\\u03c4\\u03af\\u03b1 \\u039a\\u03bf\\u03bd\\u03b3\\u03ba\\u03cc\"], [\"\\u039b\\u03b1\\u03ca\\u03ba\\u03ae \\u0394\\u03b7\\u03bc/\\u03c4\\u03af\\u03b1 \\u039a\\u03bf\\u03bd\\u03b3\\u03ba\\u03cc\"], [\"\\u039b\\u03b1\\u03ca\\u03ba\\u03ae \\u0394\\u03b7\\u03bc/\\u03c4\\u03af\\u03b1 \\u039a\\u03bf\\u03bd\\u03b3\\u03ba\\u03cc\"], [\"\\u039b\\u03b1\\u03ca\\u03ba\\u03ae \\u0394\\u03b7\\u03bc/\\u03c4\\u03af\\u03b1 \\u039a\\u03bf\\u03bd\\u03b3\\u03ba\\u03cc\"], [\"\\u039b\\u03b1\\u03ca\\u03ba\\u03ae \\u0394\\u03b7\\u03bc/\\u03c4\\u03af\\u03b1 \\u039a\\u03bf\\u03bd\\u03b3\\u03ba\\u03cc\"]], \"hoverlabel\": {\"namelength\": 0}, \"hovertemplate\": \"\\u03a7\\u03ce\\u03c1\\u03b1=%{customdata[0]}<br>\\u0391\\u03c1\\u03b9\\u03b8\\u03bc\\u03cc\\u03c2 \\u039a\\u03c1\\u03bf\\u03c5\\u03c3\\u03bc\\u03ac\\u03c4\\u03c9\\u03bd=%{y}\", \"legendgroup\": \"\\u039b\\u03b1\\u03ca\\u03ba\\u03ae \\u0394\\u03b7\\u03bc/\\u03c4\\u03af\\u03b1 \\u039a\\u03bf\\u03bd\\u03b3\\u03ba\\u03cc\", \"line\": {\"color\": \"rgb(189,189,189)\", \"dash\": \"solid\", \"shape\": \"spline\"}, \"mode\": \"lines\", \"name\": \"\\u039b\\u03b1\\u03ca\\u03ba\\u03ae \\u0394\\u03b7\\u03bc/\\u03c4\\u03af\\u03b1 \\u039a\\u03bf\\u03bd\\u03b3\\u03ba\\u03cc\", \"showlegend\": true, \"type\": \"scatter\", \"xaxis\": \"x\", \"y\": [13, 13, 18, 18, 18, 18, 18, 18, 20, 20, 20], \"yaxis\": \"y\"}, {\"customdata\": [[\"\\u039a\\u03c1\\u03bf\\u03b1\\u03c4\\u03af\\u03b1\"], [\"\\u039a\\u03c1\\u03bf\\u03b1\\u03c4\\u03af\\u03b1\"], [\"\\u039a\\u03c1\\u03bf\\u03b1\\u03c4\\u03af\\u03b1\"], [\"\\u039a\\u03c1\\u03bf\\u03b1\\u03c4\\u03af\\u03b1\"], [\"\\u039a\\u03c1\\u03bf\\u03b1\\u03c4\\u03af\\u03b1\"], [\"\\u039a\\u03c1\\u03bf\\u03b1\\u03c4\\u03af\\u03b1\"], [\"\\u039a\\u03c1\\u03bf\\u03b1\\u03c4\\u03af\\u03b1\"], [\"\\u039a\\u03c1\\u03bf\\u03b1\\u03c4\\u03af\\u03b1\"], [\"\\u039a\\u03c1\\u03bf\\u03b1\\u03c4\\u03af\\u03b1\"]], \"hoverlabel\": {\"namelength\": 0}, \"hovertemplate\": \"\\u03a7\\u03ce\\u03c1\\u03b1=%{customdata[0]}<br>\\u0391\\u03c1\\u03b9\\u03b8\\u03bc\\u03cc\\u03c2 \\u039a\\u03c1\\u03bf\\u03c5\\u03c3\\u03bc\\u03ac\\u03c4\\u03c9\\u03bd=%{y}\", \"legendgroup\": \"\\u039a\\u03c1\\u03bf\\u03b1\\u03c4\\u03af\\u03b1\", \"line\": {\"color\": \"rgb(189,189,189)\", \"dash\": \"solid\", \"shape\": \"spline\"}, \"mode\": \"lines\", \"name\": \"\\u039a\\u03c1\\u03bf\\u03b1\\u03c4\\u03af\\u03b1\", \"showlegend\": true, \"type\": \"scatter\", \"xaxis\": \"x\", \"y\": [12, 15, 16, 18, 19, 20, 21, 21, 23], \"yaxis\": \"y\"}, {\"customdata\": [[\"\\u039a\\u03bf\\u03cd\\u03b2\\u03b1\"], [\"\\u039a\\u03bf\\u03cd\\u03b2\\u03b1\"], [\"\\u039a\\u03bf\\u03cd\\u03b2\\u03b1\"], [\"\\u039a\\u03bf\\u03cd\\u03b2\\u03b1\"], [\"\\u039a\\u03bf\\u03cd\\u03b2\\u03b1\"], [\"\\u039a\\u03bf\\u03cd\\u03b2\\u03b1\"]], \"hoverlabel\": {\"namelength\": 0}, \"hovertemplate\": \"\\u03a7\\u03ce\\u03c1\\u03b1=%{customdata[0]}<br>\\u0391\\u03c1\\u03b9\\u03b8\\u03bc\\u03cc\\u03c2 \\u039a\\u03c1\\u03bf\\u03c5\\u03c3\\u03bc\\u03ac\\u03c4\\u03c9\\u03bd=%{y}\", \"legendgroup\": \"\\u039a\\u03bf\\u03cd\\u03b2\\u03b1\", \"line\": {\"color\": \"rgb(189,189,189)\", \"dash\": \"solid\", \"shape\": \"spline\"}, \"mode\": \"lines\", \"name\": \"\\u039a\\u03bf\\u03cd\\u03b2\\u03b1\", \"showlegend\": true, \"type\": \"scatter\", \"xaxis\": \"x\", \"y\": [11, 12, 15, 15, 16, 18], \"yaxis\": \"y\"}, {\"customdata\": [[\"\\u039a\\u03cd\\u03c0\\u03c1\\u03bf\\u03c2\"], [\"\\u039a\\u03cd\\u03c0\\u03c1\\u03bf\\u03c2\"], [\"\\u039a\\u03cd\\u03c0\\u03c1\\u03bf\\u03c2\"], [\"\\u039a\\u03cd\\u03c0\\u03c1\\u03bf\\u03c2\"], [\"\\u039a\\u03cd\\u03c0\\u03c1\\u03bf\\u03c2\"], [\"\\u039a\\u03cd\\u03c0\\u03c1\\u03bf\\u03c2\"], [\"\\u039a\\u03cd\\u03c0\\u03c1\\u03bf\\u03c2\"]], \"hoverlabel\": {\"namelength\": 0}, \"hovertemplate\": \"\\u03a7\\u03ce\\u03c1\\u03b1=%{customdata[0]}<br>\\u0391\\u03c1\\u03b9\\u03b8\\u03bc\\u03cc\\u03c2 \\u039a\\u03c1\\u03bf\\u03c5\\u03c3\\u03bc\\u03ac\\u03c4\\u03c9\\u03bd=%{y}\", \"legendgroup\": \"\\u039a\\u03cd\\u03c0\\u03c1\\u03bf\\u03c2\", \"line\": {\"color\": \"rgb(189,189,189)\", \"dash\": \"solid\", \"shape\": \"spline\"}, \"mode\": \"lines\", \"name\": \"\\u039a\\u03cd\\u03c0\\u03c1\\u03bf\\u03c2\", \"showlegend\": true, \"type\": \"scatter\", \"xaxis\": \"x\", \"y\": [10, 11, 11, 10, 10, 10, 11], \"yaxis\": \"y\"}, {\"customdata\": [[\"\\u03a4\\u03c3\\u03b5\\u03c7\\u03af\\u03b1\"], [\"\\u03a4\\u03c3\\u03b5\\u03c7\\u03af\\u03b1\"], [\"\\u03a4\\u03c3\\u03b5\\u03c7\\u03af\\u03b1\"], [\"\\u03a4\\u03c3\\u03b5\\u03c7\\u03af\\u03b1\"], [\"\\u03a4\\u03c3\\u03b5\\u03c7\\u03af\\u03b1\"], [\"\\u03a4\\u03c3\\u03b5\\u03c7\\u03af\\u03b1\"], [\"\\u03a4\\u03c3\\u03b5\\u03c7\\u03af\\u03b1\"], [\"\\u03a4\\u03c3\\u03b5\\u03c7\\u03af\\u03b1\"], [\"\\u03a4\\u03c3\\u03b5\\u03c7\\u03af\\u03b1\"], [\"\\u03a4\\u03c3\\u03b5\\u03c7\\u03af\\u03b1\"], [\"\\u03a4\\u03c3\\u03b5\\u03c7\\u03af\\u03b1\"], [\"\\u03a4\\u03c3\\u03b5\\u03c7\\u03af\\u03b1\"], [\"\\u03a4\\u03c3\\u03b5\\u03c7\\u03af\\u03b1\"], [\"\\u03a4\\u03c3\\u03b5\\u03c7\\u03af\\u03b1\"], [\"\\u03a4\\u03c3\\u03b5\\u03c7\\u03af\\u03b1\"], [\"\\u03a4\\u03c3\\u03b5\\u03c7\\u03af\\u03b1\"]], \"hoverlabel\": {\"namelength\": 0}, \"hovertemplate\": \"\\u03a7\\u03ce\\u03c1\\u03b1=%{customdata[0]}<br>\\u0391\\u03c1\\u03b9\\u03b8\\u03bc\\u03cc\\u03c2 \\u039a\\u03c1\\u03bf\\u03c5\\u03c3\\u03bc\\u03ac\\u03c4\\u03c9\\u03bd=%{y}\", \"legendgroup\": \"\\u03a4\\u03c3\\u03b5\\u03c7\\u03af\\u03b1\", \"line\": {\"color\": \"rgb(189,189,189)\", \"dash\": \"solid\", \"shape\": \"spline\"}, \"mode\": \"lines\", \"name\": \"\\u03a4\\u03c3\\u03b5\\u03c7\\u03af\\u03b1\", \"showlegend\": true, \"type\": \"scatter\", \"xaxis\": \"x\", \"y\": [11, 16, 23, 31, 39, 44, 53, 59, 67, 78, 88, 99, 112, 119, 129, 138], \"yaxis\": \"y\"}, {\"customdata\": [[\"\\u0394\\u03b1\\u03bd\\u03af\\u03b1\"], [\"\\u0394\\u03b1\\u03bd\\u03af\\u03b1\"], [\"\\u0394\\u03b1\\u03bd\\u03af\\u03b1\"], [\"\\u0394\\u03b1\\u03bd\\u03af\\u03b1\"], [\"\\u0394\\u03b1\\u03bd\\u03af\\u03b1\"], [\"\\u0394\\u03b1\\u03bd\\u03af\\u03b1\"], [\"\\u0394\\u03b1\\u03bd\\u03af\\u03b1\"], [\"\\u0394\\u03b1\\u03bd\\u03af\\u03b1\"], [\"\\u0394\\u03b1\\u03bd\\u03af\\u03b1\"], [\"\\u0394\\u03b1\\u03bd\\u03af\\u03b1\"], [\"\\u0394\\u03b1\\u03bd\\u03af\\u03b1\"], [\"\\u0394\\u03b1\\u03bd\\u03af\\u03b1\"], [\"\\u0394\\u03b1\\u03bd\\u03af\\u03b1\"], [\"\\u0394\\u03b1\\u03bd\\u03af\\u03b1\"], [\"\\u0394\\u03b1\\u03bd\\u03af\\u03b1\"], [\"\\u0394\\u03b1\\u03bd\\u03af\\u03b1\"], [\"\\u0394\\u03b1\\u03bd\\u03af\\u03b1\"], [\"\\u0394\\u03b1\\u03bd\\u03af\\u03b1\"], [\"\\u0394\\u03b1\\u03bd\\u03af\\u03b1\"], [\"\\u0394\\u03b1\\u03bd\\u03af\\u03b1\"], [\"\\u0394\\u03b1\\u03bd\\u03af\\u03b1\"], [\"\\u0394\\u03b1\\u03bd\\u03af\\u03b1\"], [\"\\u0394\\u03b1\\u03bd\\u03af\\u03b1\"]], \"hoverlabel\": {\"namelength\": 0}, \"hovertemplate\": \"\\u03a7\\u03ce\\u03c1\\u03b1=%{customdata[0]}<br>\\u0391\\u03c1\\u03b9\\u03b8\\u03bc\\u03cc\\u03c2 \\u039a\\u03c1\\u03bf\\u03c5\\u03c3\\u03bc\\u03ac\\u03c4\\u03c9\\u03bd=%{y}\", \"legendgroup\": \"\\u0394\\u03b1\\u03bd\\u03af\\u03b1\", \"line\": {\"color\": \"rgb(189,189,189)\", \"dash\": \"solid\", \"shape\": \"spline\"}, \"mode\": \"lines\", \"name\": \"\\u0394\\u03b1\\u03bd\\u03af\\u03b1\", \"showlegend\": true, \"type\": \"scatter\", \"xaxis\": \"x\", \"y\": [13, 13, 24, 32, 34, 41, 52, 65, 72, 77, 90, 104, 123, 139, 161, 179, 187, 203, 218, 237, 247, 260, 273], \"yaxis\": \"y\"}, {\"customdata\": [[\"\\u0394\\u03bf\\u03bc\\u03b9\\u03bd\\u03b9\\u03ba\\u03b1\\u03bd\\u03ae \\u0394\\u03b7\\u03bc/\\u03c4\\u03af\\u03b1\"], [\"\\u0394\\u03bf\\u03bc\\u03b9\\u03bd\\u03b9\\u03ba\\u03b1\\u03bd\\u03ae \\u0394\\u03b7\\u03bc/\\u03c4\\u03af\\u03b1\"], [\"\\u0394\\u03bf\\u03bc\\u03b9\\u03bd\\u03b9\\u03ba\\u03b1\\u03bd\\u03ae \\u0394\\u03b7\\u03bc/\\u03c4\\u03af\\u03b1\"], [\"\\u0394\\u03bf\\u03bc\\u03b9\\u03bd\\u03b9\\u03ba\\u03b1\\u03bd\\u03ae \\u0394\\u03b7\\u03bc/\\u03c4\\u03af\\u03b1\"], [\"\\u0394\\u03bf\\u03bc\\u03b9\\u03bd\\u03b9\\u03ba\\u03b1\\u03bd\\u03ae \\u0394\\u03b7\\u03bc/\\u03c4\\u03af\\u03b1\"], [\"\\u0394\\u03bf\\u03bc\\u03b9\\u03bd\\u03b9\\u03ba\\u03b1\\u03bd\\u03ae \\u0394\\u03b7\\u03bc/\\u03c4\\u03af\\u03b1\"], [\"\\u0394\\u03bf\\u03bc\\u03b9\\u03bd\\u03b9\\u03ba\\u03b1\\u03bd\\u03ae \\u0394\\u03b7\\u03bc/\\u03c4\\u03af\\u03b1\"], [\"\\u0394\\u03bf\\u03bc\\u03b9\\u03bd\\u03b9\\u03ba\\u03b1\\u03bd\\u03ae \\u0394\\u03b7\\u03bc/\\u03c4\\u03af\\u03b1\"], [\"\\u0394\\u03bf\\u03bc\\u03b9\\u03bd\\u03b9\\u03ba\\u03b1\\u03bd\\u03ae \\u0394\\u03b7\\u03bc/\\u03c4\\u03af\\u03b1\"], [\"\\u0394\\u03bf\\u03bc\\u03b9\\u03bd\\u03b9\\u03ba\\u03b1\\u03bd\\u03ae \\u0394\\u03b7\\u03bc/\\u03c4\\u03af\\u03b1\"], [\"\\u0394\\u03bf\\u03bc\\u03b9\\u03bd\\u03b9\\u03ba\\u03b1\\u03bd\\u03ae \\u0394\\u03b7\\u03bc/\\u03c4\\u03af\\u03b1\"], [\"\\u0394\\u03bf\\u03bc\\u03b9\\u03bd\\u03b9\\u03ba\\u03b1\\u03bd\\u03ae \\u0394\\u03b7\\u03bc/\\u03c4\\u03af\\u03b1\"], [\"\\u0394\\u03bf\\u03bc\\u03b9\\u03bd\\u03b9\\u03ba\\u03b1\\u03bd\\u03ae \\u0394\\u03b7\\u03bc/\\u03c4\\u03af\\u03b1\"], [\"\\u0394\\u03bf\\u03bc\\u03b9\\u03bd\\u03b9\\u03ba\\u03b1\\u03bd\\u03ae \\u0394\\u03b7\\u03bc/\\u03c4\\u03af\\u03b1\"], [\"\\u0394\\u03bf\\u03bc\\u03b9\\u03bd\\u03b9\\u03ba\\u03b1\\u03bd\\u03ae \\u0394\\u03b7\\u03bc/\\u03c4\\u03af\\u03b1\"], [\"\\u0394\\u03bf\\u03bc\\u03b9\\u03bd\\u03b9\\u03ba\\u03b1\\u03bd\\u03ae \\u0394\\u03b7\\u03bc/\\u03c4\\u03af\\u03b1\"], [\"\\u0394\\u03bf\\u03bc\\u03b9\\u03bd\\u03b9\\u03ba\\u03b1\\u03bd\\u03ae \\u0394\\u03b7\\u03bc/\\u03c4\\u03af\\u03b1\"], [\"\\u0394\\u03bf\\u03bc\\u03b9\\u03bd\\u03b9\\u03ba\\u03b1\\u03bd\\u03ae \\u0394\\u03b7\\u03bc/\\u03c4\\u03af\\u03b1\"], [\"\\u0394\\u03bf\\u03bc\\u03b9\\u03bd\\u03b9\\u03ba\\u03b1\\u03bd\\u03ae \\u0394\\u03b7\\u03bc/\\u03c4\\u03af\\u03b1\"]], \"hoverlabel\": {\"namelength\": 0}, \"hovertemplate\": \"\\u03a7\\u03ce\\u03c1\\u03b1=%{customdata[0]}<br>\\u0391\\u03c1\\u03b9\\u03b8\\u03bc\\u03cc\\u03c2 \\u039a\\u03c1\\u03bf\\u03c5\\u03c3\\u03bc\\u03ac\\u03c4\\u03c9\\u03bd=%{y}\", \"legendgroup\": \"\\u0394\\u03bf\\u03bc\\u03b9\\u03bd\\u03b9\\u03ba\\u03b1\\u03bd\\u03ae \\u0394\\u03b7\\u03bc/\\u03c4\\u03af\\u03b1\", \"line\": {\"color\": \"rgb(189,189,189)\", \"dash\": \"solid\", \"shape\": \"spline\"}, \"mode\": \"lines\", \"name\": \"\\u0394\\u03bf\\u03bc\\u03b9\\u03bd\\u03b9\\u03ba\\u03b1\\u03bd\\u03ae \\u0394\\u03b7\\u03bc/\\u03c4\\u03af\\u03b1\", \"showlegend\": true, \"type\": \"scatter\", \"xaxis\": \"x\", \"y\": [10, 10, 20, 28, 39, 42, 51, 57, 60, 68, 68, 82, 86, 98, 108, 118, 126, 135, 173], \"yaxis\": \"y\"}, {\"customdata\": [[\"\\u0399\\u03c3\\u03b7\\u03bc\\u03b5\\u03c1\\u03b9\\u03bd\\u03cc\\u03c2\"], [\"\\u0399\\u03c3\\u03b7\\u03bc\\u03b5\\u03c1\\u03b9\\u03bd\\u03cc\\u03c2\"], [\"\\u0399\\u03c3\\u03b7\\u03bc\\u03b5\\u03c1\\u03b9\\u03bd\\u03cc\\u03c2\"], [\"\\u0399\\u03c3\\u03b7\\u03bc\\u03b5\\u03c1\\u03b9\\u03bd\\u03cc\\u03c2\"], [\"\\u0399\\u03c3\\u03b7\\u03bc\\u03b5\\u03c1\\u03b9\\u03bd\\u03cc\\u03c2\"], [\"\\u0399\\u03c3\\u03b7\\u03bc\\u03b5\\u03c1\\u03b9\\u03bd\\u03cc\\u03c2\"], [\"\\u0399\\u03c3\\u03b7\\u03bc\\u03b5\\u03c1\\u03b9\\u03bd\\u03cc\\u03c2\"], [\"\\u0399\\u03c3\\u03b7\\u03bc\\u03b5\\u03c1\\u03b9\\u03bd\\u03cc\\u03c2\"], [\"\\u0399\\u03c3\\u03b7\\u03bc\\u03b5\\u03c1\\u03b9\\u03bd\\u03cc\\u03c2\"], [\"\\u0399\\u03c3\\u03b7\\u03bc\\u03b5\\u03c1\\u03b9\\u03bd\\u03cc\\u03c2\"], [\"\\u0399\\u03c3\\u03b7\\u03bc\\u03b5\\u03c1\\u03b9\\u03bd\\u03cc\\u03c2\"], [\"\\u0399\\u03c3\\u03b7\\u03bc\\u03b5\\u03c1\\u03b9\\u03bd\\u03cc\\u03c2\"], [\"\\u0399\\u03c3\\u03b7\\u03bc\\u03b5\\u03c1\\u03b9\\u03bd\\u03cc\\u03c2\"], [\"\\u0399\\u03c3\\u03b7\\u03bc\\u03b5\\u03c1\\u03b9\\u03bd\\u03cc\\u03c2\"], [\"\\u0399\\u03c3\\u03b7\\u03bc\\u03b5\\u03c1\\u03b9\\u03bd\\u03cc\\u03c2\"], [\"\\u0399\\u03c3\\u03b7\\u03bc\\u03b5\\u03c1\\u03b9\\u03bd\\u03cc\\u03c2\"], [\"\\u0399\\u03c3\\u03b7\\u03bc\\u03b5\\u03c1\\u03b9\\u03bd\\u03cc\\u03c2\"], [\"\\u0399\\u03c3\\u03b7\\u03bc\\u03b5\\u03c1\\u03b9\\u03bd\\u03cc\\u03c2\"], [\"\\u0399\\u03c3\\u03b7\\u03bc\\u03b5\\u03c1\\u03b9\\u03bd\\u03cc\\u03c2\"], [\"\\u0399\\u03c3\\u03b7\\u03bc\\u03b5\\u03c1\\u03b9\\u03bd\\u03cc\\u03c2\"], [\"\\u0399\\u03c3\\u03b7\\u03bc\\u03b5\\u03c1\\u03b9\\u03bd\\u03cc\\u03c2\"], [\"\\u0399\\u03c3\\u03b7\\u03bc\\u03b5\\u03c1\\u03b9\\u03bd\\u03cc\\u03c2\"]], \"hoverlabel\": {\"namelength\": 0}, \"hovertemplate\": \"\\u03a7\\u03ce\\u03c1\\u03b1=%{customdata[0]}<br>\\u0391\\u03c1\\u03b9\\u03b8\\u03bc\\u03cc\\u03c2 \\u039a\\u03c1\\u03bf\\u03c5\\u03c3\\u03bc\\u03ac\\u03c4\\u03c9\\u03bd=%{y}\", \"legendgroup\": \"\\u0399\\u03c3\\u03b7\\u03bc\\u03b5\\u03c1\\u03b9\\u03bd\\u03cc\\u03c2\", \"line\": {\"color\": \"rgb(189,189,189)\", \"dash\": \"solid\", \"shape\": \"spline\"}, \"mode\": \"lines\", \"name\": \"\\u0399\\u03c3\\u03b7\\u03bc\\u03b5\\u03c1\\u03b9\\u03bd\\u03cc\\u03c2\", \"showlegend\": true, \"type\": \"scatter\", \"xaxis\": \"x\", \"y\": [14, 18, 27, 28, 34, 36, 48, 58, 60, 75, 93, 120, 145, 172, 180, 191, 191, 242, 272, 297, 315, 333], \"yaxis\": \"y\"}, {\"customdata\": [[\"\\u0391\\u03af\\u03b3\\u03c5\\u03c0\\u03c4\\u03bf\\u03c2\"], [\"\\u0391\\u03af\\u03b3\\u03c5\\u03c0\\u03c4\\u03bf\\u03c2\"], [\"\\u0391\\u03af\\u03b3\\u03c5\\u03c0\\u03c4\\u03bf\\u03c2\"], [\"\\u0391\\u03af\\u03b3\\u03c5\\u03c0\\u03c4\\u03bf\\u03c2\"], [\"\\u0391\\u03af\\u03b3\\u03c5\\u03c0\\u03c4\\u03bf\\u03c2\"], [\"\\u0391\\u03af\\u03b3\\u03c5\\u03c0\\u03c4\\u03bf\\u03c2\"], [\"\\u0391\\u03af\\u03b3\\u03c5\\u03c0\\u03c4\\u03bf\\u03c2\"], [\"\\u0391\\u03af\\u03b3\\u03c5\\u03c0\\u03c4\\u03bf\\u03c2\"], [\"\\u0391\\u03af\\u03b3\\u03c5\\u03c0\\u03c4\\u03bf\\u03c2\"], [\"\\u0391\\u03af\\u03b3\\u03c5\\u03c0\\u03c4\\u03bf\\u03c2\"], [\"\\u0391\\u03af\\u03b3\\u03c5\\u03c0\\u03c4\\u03bf\\u03c2\"], [\"\\u0391\\u03af\\u03b3\\u03c5\\u03c0\\u03c4\\u03bf\\u03c2\"], [\"\\u0391\\u03af\\u03b3\\u03c5\\u03c0\\u03c4\\u03bf\\u03c2\"], [\"\\u0391\\u03af\\u03b3\\u03c5\\u03c0\\u03c4\\u03bf\\u03c2\"], [\"\\u0391\\u03af\\u03b3\\u03c5\\u03c0\\u03c4\\u03bf\\u03c2\"], [\"\\u0391\\u03af\\u03b3\\u03c5\\u03c0\\u03c4\\u03bf\\u03c2\"], [\"\\u0391\\u03af\\u03b3\\u03c5\\u03c0\\u03c4\\u03bf\\u03c2\"], [\"\\u0391\\u03af\\u03b3\\u03c5\\u03c0\\u03c4\\u03bf\\u03c2\"], [\"\\u0391\\u03af\\u03b3\\u03c5\\u03c0\\u03c4\\u03bf\\u03c2\"], [\"\\u0391\\u03af\\u03b3\\u03c5\\u03c0\\u03c4\\u03bf\\u03c2\"], [\"\\u0391\\u03af\\u03b3\\u03c5\\u03c0\\u03c4\\u03bf\\u03c2\"], [\"\\u0391\\u03af\\u03b3\\u03c5\\u03c0\\u03c4\\u03bf\\u03c2\"], [\"\\u0391\\u03af\\u03b3\\u03c5\\u03c0\\u03c4\\u03bf\\u03c2\"]], \"hoverlabel\": {\"namelength\": 0}, \"hovertemplate\": \"\\u03a7\\u03ce\\u03c1\\u03b1=%{customdata[0]}<br>\\u0391\\u03c1\\u03b9\\u03b8\\u03bc\\u03cc\\u03c2 \\u039a\\u03c1\\u03bf\\u03c5\\u03c3\\u03bc\\u03ac\\u03c4\\u03c9\\u03bd=%{y}\", \"legendgroup\": \"\\u0391\\u03af\\u03b3\\u03c5\\u03c0\\u03c4\\u03bf\\u03c2\", \"line\": {\"color\": \"rgb(189,189,189)\", \"dash\": \"solid\", \"shape\": \"spline\"}, \"mode\": \"lines\", \"name\": \"\\u0391\\u03af\\u03b3\\u03c5\\u03c0\\u03c4\\u03bf\\u03c2\", \"showlegend\": true, \"type\": \"scatter\", \"xaxis\": \"x\", \"y\": [10, 14, 19, 20, 21, 24, 30, 36, 40, 41, 46, 52, 58, 66, 71, 78, 85, 94, 103, 118, 135, 146, 159], \"yaxis\": \"y\"}, {\"customdata\": [[\"\\u0395\\u03c3\\u03b8\\u03bf\\u03bd\\u03af\\u03b1\"], [\"\\u0395\\u03c3\\u03b8\\u03bf\\u03bd\\u03af\\u03b1\"], [\"\\u0395\\u03c3\\u03b8\\u03bf\\u03bd\\u03af\\u03b1\"], [\"\\u0395\\u03c3\\u03b8\\u03bf\\u03bd\\u03af\\u03b1\"], [\"\\u0395\\u03c3\\u03b8\\u03bf\\u03bd\\u03af\\u03b1\"], [\"\\u0395\\u03c3\\u03b8\\u03bf\\u03bd\\u03af\\u03b1\"], [\"\\u0395\\u03c3\\u03b8\\u03bf\\u03bd\\u03af\\u03b1\"], [\"\\u0395\\u03c3\\u03b8\\u03bf\\u03bd\\u03af\\u03b1\"], [\"\\u0395\\u03c3\\u03b8\\u03bf\\u03bd\\u03af\\u03b1\"], [\"\\u0395\\u03c3\\u03b8\\u03bf\\u03bd\\u03af\\u03b1\"], [\"\\u0395\\u03c3\\u03b8\\u03bf\\u03bd\\u03af\\u03b1\"]], \"hoverlabel\": {\"namelength\": 0}, \"hovertemplate\": \"\\u03a7\\u03ce\\u03c1\\u03b1=%{customdata[0]}<br>\\u0391\\u03c1\\u03b9\\u03b8\\u03bc\\u03cc\\u03c2 \\u039a\\u03c1\\u03bf\\u03c5\\u03c3\\u03bc\\u03ac\\u03c4\\u03c9\\u03bd=%{y}\", \"legendgroup\": \"\\u0395\\u03c3\\u03b8\\u03bf\\u03bd\\u03af\\u03b1\", \"line\": {\"color\": \"rgb(189,189,189)\", \"dash\": \"solid\", \"shape\": \"spline\"}, \"mode\": \"lines\", \"name\": \"\\u0395\\u03c3\\u03b8\\u03bf\\u03bd\\u03af\\u03b1\", \"showlegend\": true, \"type\": \"scatter\", \"xaxis\": \"x\", \"y\": [11, 12, 13, 15, 19, 21, 24, 24, 24, 24, 25], \"yaxis\": \"y\"}, {\"customdata\": [[\"\\u03a6\\u03b9\\u03bd\\u03bb\\u03b1\\u03bd\\u03b4\\u03af\\u03b1\"], [\"\\u03a6\\u03b9\\u03bd\\u03bb\\u03b1\\u03bd\\u03b4\\u03af\\u03b1\"], [\"\\u03a6\\u03b9\\u03bd\\u03bb\\u03b1\\u03bd\\u03b4\\u03af\\u03b1\"], [\"\\u03a6\\u03b9\\u03bd\\u03bb\\u03b1\\u03bd\\u03b4\\u03af\\u03b1\"], [\"\\u03a6\\u03b9\\u03bd\\u03bb\\u03b1\\u03bd\\u03b4\\u03af\\u03b1\"], [\"\\u03a6\\u03b9\\u03bd\\u03bb\\u03b1\\u03bd\\u03b4\\u03af\\u03b1\"], [\"\\u03a6\\u03b9\\u03bd\\u03bb\\u03b1\\u03bd\\u03b4\\u03af\\u03b1\"], [\"\\u03a6\\u03b9\\u03bd\\u03bb\\u03b1\\u03bd\\u03b4\\u03af\\u03b1\"], [\"\\u03a6\\u03b9\\u03bd\\u03bb\\u03b1\\u03bd\\u03b4\\u03af\\u03b1\"], [\"\\u03a6\\u03b9\\u03bd\\u03bb\\u03b1\\u03bd\\u03b4\\u03af\\u03b1\"], [\"\\u03a6\\u03b9\\u03bd\\u03bb\\u03b1\\u03bd\\u03b4\\u03af\\u03b1\"], [\"\\u03a6\\u03b9\\u03bd\\u03bb\\u03b1\\u03bd\\u03b4\\u03af\\u03b1\"], [\"\\u03a6\\u03b9\\u03bd\\u03bb\\u03b1\\u03bd\\u03b4\\u03af\\u03b1\"], [\"\\u03a6\\u03b9\\u03bd\\u03bb\\u03b1\\u03bd\\u03b4\\u03af\\u03b1\"], [\"\\u03a6\\u03b9\\u03bd\\u03bb\\u03b1\\u03bd\\u03b4\\u03af\\u03b1\"]], \"hoverlabel\": {\"namelength\": 0}, \"hovertemplate\": \"\\u03a7\\u03ce\\u03c1\\u03b1=%{customdata[0]}<br>\\u0391\\u03c1\\u03b9\\u03b8\\u03bc\\u03cc\\u03c2 \\u039a\\u03c1\\u03bf\\u03c5\\u03c3\\u03bc\\u03ac\\u03c4\\u03c9\\u03bd=%{y}\", \"legendgroup\": \"\\u03a6\\u03b9\\u03bd\\u03bb\\u03b1\\u03bd\\u03b4\\u03af\\u03b1\", \"line\": {\"color\": \"rgb(189,189,189)\", \"dash\": \"solid\", \"shape\": \"spline\"}, \"mode\": \"lines\", \"name\": \"\\u03a6\\u03b9\\u03bd\\u03bb\\u03b1\\u03bd\\u03b4\\u03af\\u03b1\", \"showlegend\": true, \"type\": \"scatter\", \"xaxis\": \"x\", \"y\": [11, 13, 17, 17, 19, 20, 25, 28, 27, 34, 40, 42, 48, 49, 56], \"yaxis\": \"y\"}, {\"customdata\": [[\"\\u0393\\u03b1\\u03bb\\u03bb\\u03af\\u03b1\"], [\"\\u0393\\u03b1\\u03bb\\u03bb\\u03af\\u03b1\"], [\"\\u0393\\u03b1\\u03bb\\u03bb\\u03af\\u03b1\"], [\"\\u0393\\u03b1\\u03bb\\u03bb\\u03af\\u03b1\"], [\"\\u0393\\u03b1\\u03bb\\u03bb\\u03af\\u03b1\"], [\"\\u0393\\u03b1\\u03bb\\u03bb\\u03af\\u03b1\"], [\"\\u0393\\u03b1\\u03bb\\u03bb\\u03af\\u03b1\"], [\"\\u0393\\u03b1\\u03bb\\u03bb\\u03af\\u03b1\"], [\"\\u0393\\u03b1\\u03bb\\u03bb\\u03af\\u03b1\"], [\"\\u0393\\u03b1\\u03bb\\u03bb\\u03af\\u03b1\"], [\"\\u0393\\u03b1\\u03bb\\u03bb\\u03af\\u03b1\"], [\"\\u0393\\u03b1\\u03bb\\u03bb\\u03af\\u03b1\"], [\"\\u0393\\u03b1\\u03bb\\u03bb\\u03af\\u03b1\"], [\"\\u0393\\u03b1\\u03bb\\u03bb\\u03af\\u03b1\"], [\"\\u0393\\u03b1\\u03bb\\u03bb\\u03af\\u03b1\"], [\"\\u0393\\u03b1\\u03bb\\u03bb\\u03af\\u03b1\"], [\"\\u0393\\u03b1\\u03bb\\u03bb\\u03af\\u03b1\"], [\"\\u0393\\u03b1\\u03bb\\u03bb\\u03af\\u03b1\"], [\"\\u0393\\u03b1\\u03bb\\u03bb\\u03af\\u03b1\"], [\"\\u0393\\u03b1\\u03bb\\u03bb\\u03af\\u03b1\"], [\"\\u0393\\u03b1\\u03bb\\u03bb\\u03af\\u03b1\"], [\"\\u0393\\u03b1\\u03bb\\u03bb\\u03af\\u03b1\"], [\"\\u0393\\u03b1\\u03bb\\u03bb\\u03af\\u03b1\"], [\"\\u0393\\u03b1\\u03bb\\u03bb\\u03af\\u03b1\"], [\"\\u0393\\u03b1\\u03bb\\u03bb\\u03af\\u03b1\"], [\"\\u0393\\u03b1\\u03bb\\u03bb\\u03af\\u03b1\"], [\"\\u0393\\u03b1\\u03bb\\u03bb\\u03af\\u03b1\"], [\"\\u0393\\u03b1\\u03bb\\u03bb\\u03af\\u03b1\"], [\"\\u0393\\u03b1\\u03bb\\u03bb\\u03af\\u03b1\"], [\"\\u0393\\u03b1\\u03bb\\u03bb\\u03af\\u03b1\"], [\"\\u0393\\u03b1\\u03bb\\u03bb\\u03af\\u03b1\"], [\"\\u0393\\u03b1\\u03bb\\u03bb\\u03af\\u03b1\"], [\"\\u0393\\u03b1\\u03bb\\u03bb\\u03af\\u03b1\"], [\"\\u0393\\u03b1\\u03bb\\u03bb\\u03af\\u03b1\"], [\"\\u0393\\u03b1\\u03bb\\u03bb\\u03af\\u03b1\"], [\"\\u0393\\u03b1\\u03bb\\u03bb\\u03af\\u03b1\"], [\"\\u0393\\u03b1\\u03bb\\u03bb\\u03af\\u03b1\"]], \"hoverlabel\": {\"namelength\": 0}, \"hovertemplate\": \"\\u03a7\\u03ce\\u03c1\\u03b1=%{customdata[0]}<br>\\u0391\\u03c1\\u03b9\\u03b8\\u03bc\\u03cc\\u03c2 \\u039a\\u03c1\\u03bf\\u03c5\\u03c3\\u03bc\\u03ac\\u03c4\\u03c9\\u03bd=%{y}\", \"legendgroup\": \"\\u0393\\u03b1\\u03bb\\u03bb\\u03af\\u03b1\", \"line\": {\"color\": \"rgb(189,189,189)\", \"dash\": \"solid\", \"shape\": \"spline\"}, \"mode\": \"lines\", \"name\": \"\\u0393\\u03b1\\u03bb\\u03bb\\u03af\\u03b1\", \"showlegend\": true, \"type\": \"scatter\", \"xaxis\": \"x\", \"y\": [11, 19, 19, 33, 48, 48, 79, 91, 91, 149, 149, 149, 244, 451, 563, 676, 862, 1102, 1333, 1698, 1997, 2317, 2611, 3030, 3532, 4043, 5398, 6520, 7574, 8093, 8926, 10343, 10887, 12228, 13215, 13851, 14412], \"yaxis\": \"y\"}, {\"customdata\": [[\"\\u039f\\u03bd\\u03b4\\u03bf\\u03cd\\u03c1\\u03b1\"], [\"\\u039f\\u03bd\\u03b4\\u03bf\\u03cd\\u03c1\\u03b1\"], [\"\\u039f\\u03bd\\u03b4\\u03bf\\u03cd\\u03c1\\u03b1\"], [\"\\u039f\\u03bd\\u03b4\\u03bf\\u03cd\\u03c1\\u03b1\"], [\"\\u039f\\u03bd\\u03b4\\u03bf\\u03cd\\u03c1\\u03b1\"], [\"\\u039f\\u03bd\\u03b4\\u03bf\\u03cd\\u03c1\\u03b1\"], [\"\\u039f\\u03bd\\u03b4\\u03bf\\u03cd\\u03c1\\u03b1\"], [\"\\u039f\\u03bd\\u03b4\\u03bf\\u03cd\\u03c1\\u03b1\"], [\"\\u039f\\u03bd\\u03b4\\u03bf\\u03cd\\u03c1\\u03b1\"], [\"\\u039f\\u03bd\\u03b4\\u03bf\\u03cd\\u03c1\\u03b1\"], [\"\\u039f\\u03bd\\u03b4\\u03bf\\u03cd\\u03c1\\u03b1\"], [\"\\u039f\\u03bd\\u03b4\\u03bf\\u03cd\\u03c1\\u03b1\"]], \"hoverlabel\": {\"namelength\": 0}, \"hovertemplate\": \"\\u03a7\\u03ce\\u03c1\\u03b1=%{customdata[0]}<br>\\u0391\\u03c1\\u03b9\\u03b8\\u03bc\\u03cc\\u03c2 \\u039a\\u03c1\\u03bf\\u03c5\\u03c3\\u03bc\\u03ac\\u03c4\\u03c9\\u03bd=%{y}\", \"legendgroup\": \"\\u039f\\u03bd\\u03b4\\u03bf\\u03cd\\u03c1\\u03b1\", \"line\": {\"color\": \"rgb(189,189,189)\", \"dash\": \"solid\", \"shape\": \"spline\"}, \"mode\": \"lines\", \"name\": \"\\u039f\\u03bd\\u03b4\\u03bf\\u03cd\\u03c1\\u03b1\", \"showlegend\": true, \"type\": \"scatter\", \"xaxis\": \"x\", \"y\": [10, 14, 15, 15, 22, 22, 22, 22, 23, 23, 24, 25], \"yaxis\": \"y\"}, {\"customdata\": [[\"\\u039f\\u03c5\\u03b3\\u03b3\\u03b1\\u03c1\\u03af\\u03b1\"], [\"\\u039f\\u03c5\\u03b3\\u03b3\\u03b1\\u03c1\\u03af\\u03b1\"], [\"\\u039f\\u03c5\\u03b3\\u03b3\\u03b1\\u03c1\\u03af\\u03b1\"], [\"\\u039f\\u03c5\\u03b3\\u03b3\\u03b1\\u03c1\\u03af\\u03b1\"], [\"\\u039f\\u03c5\\u03b3\\u03b3\\u03b1\\u03c1\\u03af\\u03b1\"], [\"\\u039f\\u03c5\\u03b3\\u03b3\\u03b1\\u03c1\\u03af\\u03b1\"], [\"\\u039f\\u03c5\\u03b3\\u03b3\\u03b1\\u03c1\\u03af\\u03b1\"], [\"\\u039f\\u03c5\\u03b3\\u03b3\\u03b1\\u03c1\\u03af\\u03b1\"], [\"\\u039f\\u03c5\\u03b3\\u03b3\\u03b1\\u03c1\\u03af\\u03b1\"], [\"\\u039f\\u03c5\\u03b3\\u03b3\\u03b1\\u03c1\\u03af\\u03b1\"], [\"\\u039f\\u03c5\\u03b3\\u03b3\\u03b1\\u03c1\\u03af\\u03b1\"], [\"\\u039f\\u03c5\\u03b3\\u03b3\\u03b1\\u03c1\\u03af\\u03b1\"], [\"\\u039f\\u03c5\\u03b3\\u03b3\\u03b1\\u03c1\\u03af\\u03b1\"], [\"\\u039f\\u03c5\\u03b3\\u03b3\\u03b1\\u03c1\\u03af\\u03b1\"], [\"\\u039f\\u03c5\\u03b3\\u03b3\\u03b1\\u03c1\\u03af\\u03b1\"], [\"\\u039f\\u03c5\\u03b3\\u03b3\\u03b1\\u03c1\\u03af\\u03b1\"], [\"\\u039f\\u03c5\\u03b3\\u03b3\\u03b1\\u03c1\\u03af\\u03b1\"], [\"\\u039f\\u03c5\\u03b3\\u03b3\\u03b1\\u03c1\\u03af\\u03b1\"], [\"\\u039f\\u03c5\\u03b3\\u03b3\\u03b1\\u03c1\\u03af\\u03b1\"]], \"hoverlabel\": {\"namelength\": 0}, \"hovertemplate\": \"\\u03a7\\u03ce\\u03c1\\u03b1=%{customdata[0]}<br>\\u0391\\u03c1\\u03b9\\u03b8\\u03bc\\u03cc\\u03c2 \\u039a\\u03c1\\u03bf\\u03c5\\u03c3\\u03bc\\u03ac\\u03c4\\u03c9\\u03bd=%{y}\", \"legendgroup\": \"\\u039f\\u03c5\\u03b3\\u03b3\\u03b1\\u03c1\\u03af\\u03b1\", \"line\": {\"color\": \"rgb(189,189,189)\", \"dash\": \"solid\", \"shape\": \"spline\"}, \"mode\": \"lines\", \"name\": \"\\u039f\\u03c5\\u03b3\\u03b3\\u03b1\\u03c1\\u03af\\u03b1\", \"showlegend\": true, \"type\": \"scatter\", \"xaxis\": \"x\", \"y\": [10, 10, 10, 11, 13, 15, 16, 20, 21, 26, 32, 34, 38, 47, 58, 66, 77, 85, 99], \"yaxis\": \"y\"}, {\"customdata\": [[\"\\u0399\\u03bd\\u03b4\\u03af\\u03b1\"], [\"\\u0399\\u03bd\\u03b4\\u03af\\u03b1\"], [\"\\u0399\\u03bd\\u03b4\\u03af\\u03b1\"], [\"\\u0399\\u03bd\\u03b4\\u03af\\u03b1\"], [\"\\u0399\\u03bd\\u03b4\\u03af\\u03b1\"], [\"\\u0399\\u03bd\\u03b4\\u03af\\u03b1\"], [\"\\u0399\\u03bd\\u03b4\\u03af\\u03b1\"], [\"\\u0399\\u03bd\\u03b4\\u03af\\u03b1\"], [\"\\u0399\\u03bd\\u03b4\\u03af\\u03b1\"], [\"\\u0399\\u03bd\\u03b4\\u03af\\u03b1\"], [\"\\u0399\\u03bd\\u03b4\\u03af\\u03b1\"], [\"\\u0399\\u03bd\\u03b4\\u03af\\u03b1\"], [\"\\u0399\\u03bd\\u03b4\\u03af\\u03b1\"], [\"\\u0399\\u03bd\\u03b4\\u03af\\u03b1\"], [\"\\u0399\\u03bd\\u03b4\\u03af\\u03b1\"], [\"\\u0399\\u03bd\\u03b4\\u03af\\u03b1\"], [\"\\u0399\\u03bd\\u03b4\\u03af\\u03b1\"], [\"\\u0399\\u03bd\\u03b4\\u03af\\u03b1\"], [\"\\u0399\\u03bd\\u03b4\\u03af\\u03b1\"], [\"\\u0399\\u03bd\\u03b4\\u03af\\u03b1\"], [\"\\u0399\\u03bd\\u03b4\\u03af\\u03b1\"]], \"hoverlabel\": {\"namelength\": 0}, \"hovertemplate\": \"\\u03a7\\u03ce\\u03c1\\u03b1=%{customdata[0]}<br>\\u0391\\u03c1\\u03b9\\u03b8\\u03bc\\u03cc\\u03c2 \\u039a\\u03c1\\u03bf\\u03c5\\u03c3\\u03bc\\u03ac\\u03c4\\u03c9\\u03bd=%{y}\", \"legendgroup\": \"\\u0399\\u03bd\\u03b4\\u03af\\u03b1\", \"line\": {\"color\": \"rgb(189,189,189)\", \"dash\": \"solid\", \"shape\": \"spline\"}, \"mode\": \"lines\", \"name\": \"\\u0399\\u03bd\\u03b4\\u03af\\u03b1\", \"showlegend\": true, \"type\": \"scatter\", \"xaxis\": \"x\", \"y\": [10, 10, 12, 20, 20, 24, 27, 32, 35, 58, 72, 72, 86, 99, 136, 150, 178, 226, 246, 288, 331], \"yaxis\": \"y\"}, {\"customdata\": [[\"\\u0399\\u03bd\\u03b4\\u03bf\\u03bd\\u03b7\\u03c3\\u03af\\u03b1\"], [\"\\u0399\\u03bd\\u03b4\\u03bf\\u03bd\\u03b7\\u03c3\\u03af\\u03b1\"], [\"\\u0399\\u03bd\\u03b4\\u03bf\\u03bd\\u03b7\\u03c3\\u03af\\u03b1\"], [\"\\u0399\\u03bd\\u03b4\\u03bf\\u03bd\\u03b7\\u03c3\\u03af\\u03b1\"], [\"\\u0399\\u03bd\\u03b4\\u03bf\\u03bd\\u03b7\\u03c3\\u03af\\u03b1\"], [\"\\u0399\\u03bd\\u03b4\\u03bf\\u03bd\\u03b7\\u03c3\\u03af\\u03b1\"], [\"\\u0399\\u03bd\\u03b4\\u03bf\\u03bd\\u03b7\\u03c3\\u03af\\u03b1\"], [\"\\u0399\\u03bd\\u03b4\\u03bf\\u03bd\\u03b7\\u03c3\\u03af\\u03b1\"], [\"\\u0399\\u03bd\\u03b4\\u03bf\\u03bd\\u03b7\\u03c3\\u03af\\u03b1\"], [\"\\u0399\\u03bd\\u03b4\\u03bf\\u03bd\\u03b7\\u03c3\\u03af\\u03b1\"], [\"\\u0399\\u03bd\\u03b4\\u03bf\\u03bd\\u03b7\\u03c3\\u03af\\u03b1\"], [\"\\u0399\\u03bd\\u03b4\\u03bf\\u03bd\\u03b7\\u03c3\\u03af\\u03b1\"], [\"\\u0399\\u03bd\\u03b4\\u03bf\\u03bd\\u03b7\\u03c3\\u03af\\u03b1\"], [\"\\u0399\\u03bd\\u03b4\\u03bf\\u03bd\\u03b7\\u03c3\\u03af\\u03b1\"], [\"\\u0399\\u03bd\\u03b4\\u03bf\\u03bd\\u03b7\\u03c3\\u03af\\u03b1\"], [\"\\u0399\\u03bd\\u03b4\\u03bf\\u03bd\\u03b7\\u03c3\\u03af\\u03b1\"], [\"\\u0399\\u03bd\\u03b4\\u03bf\\u03bd\\u03b7\\u03c3\\u03af\\u03b1\"], [\"\\u0399\\u03bd\\u03b4\\u03bf\\u03bd\\u03b7\\u03c3\\u03af\\u03b1\"], [\"\\u0399\\u03bd\\u03b4\\u03bf\\u03bd\\u03b7\\u03c3\\u03af\\u03b1\"], [\"\\u0399\\u03bd\\u03b4\\u03bf\\u03bd\\u03b7\\u03c3\\u03af\\u03b1\"], [\"\\u0399\\u03bd\\u03b4\\u03bf\\u03bd\\u03b7\\u03c3\\u03af\\u03b1\"], [\"\\u0399\\u03bd\\u03b4\\u03bf\\u03bd\\u03b7\\u03c3\\u03af\\u03b1\"], [\"\\u0399\\u03bd\\u03b4\\u03bf\\u03bd\\u03b7\\u03c3\\u03af\\u03b1\"], [\"\\u0399\\u03bd\\u03b4\\u03bf\\u03bd\\u03b7\\u03c3\\u03af\\u03b1\"], [\"\\u0399\\u03bd\\u03b4\\u03bf\\u03bd\\u03b7\\u03c3\\u03af\\u03b1\"], [\"\\u0399\\u03bd\\u03b4\\u03bf\\u03bd\\u03b7\\u03c3\\u03af\\u03b1\"]], \"hoverlabel\": {\"namelength\": 0}, \"hovertemplate\": \"\\u03a7\\u03ce\\u03c1\\u03b1=%{customdata[0]}<br>\\u0391\\u03c1\\u03b9\\u03b8\\u03bc\\u03cc\\u03c2 \\u039a\\u03c1\\u03bf\\u03c5\\u03c3\\u03bc\\u03ac\\u03c4\\u03c9\\u03bd=%{y}\", \"legendgroup\": \"\\u0399\\u03bd\\u03b4\\u03bf\\u03bd\\u03b7\\u03c3\\u03af\\u03b1\", \"line\": {\"color\": \"rgb(189,189,189)\", \"dash\": \"solid\", \"shape\": \"spline\"}, \"mode\": \"lines\", \"name\": \"\\u0399\\u03bd\\u03b4\\u03bf\\u03bd\\u03b7\\u03c3\\u03af\\u03b1\", \"showlegend\": true, \"type\": \"scatter\", \"xaxis\": \"x\", \"y\": [19, 25, 32, 38, 48, 49, 55, 58, 78, 87, 102, 114, 122, 136, 157, 170, 181, 191, 198, 209, 221, 240, 280, 306, 327, 373], \"yaxis\": \"y\"}, {\"customdata\": [[\"\\u0399\\u03c1\\u03ac\\u03bd\"], [\"\\u0399\\u03c1\\u03ac\\u03bd\"], [\"\\u0399\\u03c1\\u03ac\\u03bd\"], [\"\\u0399\\u03c1\\u03ac\\u03bd\"], [\"\\u0399\\u03c1\\u03ac\\u03bd\"], [\"\\u0399\\u03c1\\u03ac\\u03bd\"], [\"\\u0399\\u03c1\\u03ac\\u03bd\"], [\"\\u0399\\u03c1\\u03ac\\u03bd\"], [\"\\u0399\\u03c1\\u03ac\\u03bd\"], [\"\\u0399\\u03c1\\u03ac\\u03bd\"], [\"\\u0399\\u03c1\\u03ac\\u03bd\"], [\"\\u0399\\u03c1\\u03ac\\u03bd\"], [\"\\u0399\\u03c1\\u03ac\\u03bd\"], [\"\\u0399\\u03c1\\u03ac\\u03bd\"], [\"\\u0399\\u03c1\\u03ac\\u03bd\"], [\"\\u0399\\u03c1\\u03ac\\u03bd\"], [\"\\u0399\\u03c1\\u03ac\\u03bd\"], [\"\\u0399\\u03c1\\u03ac\\u03bd\"], [\"\\u0399\\u03c1\\u03ac\\u03bd\"], [\"\\u0399\\u03c1\\u03ac\\u03bd\"], [\"\\u0399\\u03c1\\u03ac\\u03bd\"], [\"\\u0399\\u03c1\\u03ac\\u03bd\"], [\"\\u0399\\u03c1\\u03ac\\u03bd\"], [\"\\u0399\\u03c1\\u03ac\\u03bd\"], [\"\\u0399\\u03c1\\u03ac\\u03bd\"], [\"\\u0399\\u03c1\\u03ac\\u03bd\"], [\"\\u0399\\u03c1\\u03ac\\u03bd\"], [\"\\u0399\\u03c1\\u03ac\\u03bd\"], [\"\\u0399\\u03c1\\u03ac\\u03bd\"], [\"\\u0399\\u03c1\\u03ac\\u03bd\"], [\"\\u0399\\u03c1\\u03ac\\u03bd\"], [\"\\u0399\\u03c1\\u03ac\\u03bd\"], [\"\\u0399\\u03c1\\u03ac\\u03bd\"], [\"\\u0399\\u03c1\\u03ac\\u03bd\"], [\"\\u0399\\u03c1\\u03ac\\u03bd\"], [\"\\u0399\\u03c1\\u03ac\\u03bd\"], [\"\\u0399\\u03c1\\u03ac\\u03bd\"], [\"\\u0399\\u03c1\\u03ac\\u03bd\"], [\"\\u0399\\u03c1\\u03ac\\u03bd\"], [\"\\u0399\\u03c1\\u03ac\\u03bd\"], [\"\\u0399\\u03c1\\u03ac\\u03bd\"], [\"\\u0399\\u03c1\\u03ac\\u03bd\"], [\"\\u0399\\u03c1\\u03ac\\u03bd\"], [\"\\u0399\\u03c1\\u03ac\\u03bd\"], [\"\\u0399\\u03c1\\u03ac\\u03bd\"], [\"\\u0399\\u03c1\\u03ac\\u03bd\"], [\"\\u0399\\u03c1\\u03ac\\u03bd\"], [\"\\u0399\\u03c1\\u03ac\\u03bd\"], [\"\\u0399\\u03c1\\u03ac\\u03bd\"]], \"hoverlabel\": {\"namelength\": 0}, \"hovertemplate\": \"\\u03a7\\u03ce\\u03c1\\u03b1=%{customdata[0]}<br>\\u0391\\u03c1\\u03b9\\u03b8\\u03bc\\u03cc\\u03c2 \\u039a\\u03c1\\u03bf\\u03c5\\u03c3\\u03bc\\u03ac\\u03c4\\u03c9\\u03bd=%{y}\", \"legendgroup\": \"\\u0399\\u03c1\\u03ac\\u03bd\", \"line\": {\"color\": \"rgb(189,189,189)\", \"dash\": \"solid\", \"shape\": \"spline\"}, \"mode\": \"lines\", \"name\": \"\\u0399\\u03c1\\u03ac\\u03bd\", \"showlegend\": true, \"type\": \"scatter\", \"xaxis\": \"x\", \"y\": [12, 16, 19, 26, 34, 43, 54, 66, 77, 92, 107, 124, 145, 194, 237, 291, 354, 429, 514, 611, 724, 853, 988, 1135, 1284, 1433, 1556, 1685, 1812, 1934, 2077, 2234, 2378, 2517, 2640, 2757, 2898, 3036, 3160, 3294, 3452, 3603, 3739, 3872, 3993, 4110, 4232, 4357, 4474], \"yaxis\": \"y\"}, {\"customdata\": [[\"\\u0399\\u03c1\\u03ac\\u03ba\"], [\"\\u0399\\u03c1\\u03ac\\u03ba\"], [\"\\u0399\\u03c1\\u03ac\\u03ba\"], [\"\\u0399\\u03c1\\u03ac\\u03ba\"], [\"\\u0399\\u03c1\\u03ac\\u03ba\"], [\"\\u0399\\u03c1\\u03ac\\u03ba\"], [\"\\u0399\\u03c1\\u03ac\\u03ba\"], [\"\\u0399\\u03c1\\u03ac\\u03ba\"], [\"\\u0399\\u03c1\\u03ac\\u03ba\"], [\"\\u0399\\u03c1\\u03ac\\u03ba\"], [\"\\u0399\\u03c1\\u03ac\\u03ba\"], [\"\\u0399\\u03c1\\u03ac\\u03ba\"], [\"\\u0399\\u03c1\\u03ac\\u03ba\"], [\"\\u0399\\u03c1\\u03ac\\u03ba\"], [\"\\u0399\\u03c1\\u03ac\\u03ba\"], [\"\\u0399\\u03c1\\u03ac\\u03ba\"], [\"\\u0399\\u03c1\\u03ac\\u03ba\"], [\"\\u0399\\u03c1\\u03ac\\u03ba\"], [\"\\u0399\\u03c1\\u03ac\\u03ba\"], [\"\\u0399\\u03c1\\u03ac\\u03ba\"], [\"\\u0399\\u03c1\\u03ac\\u03ba\"], [\"\\u0399\\u03c1\\u03ac\\u03ba\"], [\"\\u0399\\u03c1\\u03ac\\u03ba\"], [\"\\u0399\\u03c1\\u03ac\\u03ba\"], [\"\\u0399\\u03c1\\u03ac\\u03ba\"], [\"\\u0399\\u03c1\\u03ac\\u03ba\"], [\"\\u0399\\u03c1\\u03ac\\u03ba\"], [\"\\u0399\\u03c1\\u03ac\\u03ba\"], [\"\\u0399\\u03c1\\u03ac\\u03ba\"], [\"\\u0399\\u03c1\\u03ac\\u03ba\"]], \"hoverlabel\": {\"namelength\": 0}, \"hovertemplate\": \"\\u03a7\\u03ce\\u03c1\\u03b1=%{customdata[0]}<br>\\u0391\\u03c1\\u03b9\\u03b8\\u03bc\\u03cc\\u03c2 \\u039a\\u03c1\\u03bf\\u03c5\\u03c3\\u03bc\\u03ac\\u03c4\\u03c9\\u03bd=%{y}\", \"legendgroup\": \"\\u0399\\u03c1\\u03ac\\u03ba\", \"line\": {\"color\": \"rgb(189,189,189)\", \"dash\": \"solid\", \"shape\": \"spline\"}, \"mode\": \"lines\", \"name\": \"\\u0399\\u03c1\\u03ac\\u03ba\", \"showlegend\": true, \"type\": \"scatter\", \"xaxis\": \"x\", \"y\": [10, 10, 10, 11, 12, 13, 17, 17, 20, 23, 27, 29, 36, 40, 42, 42, 46, 50, 52, 54, 54, 56, 61, 64, 65, 69, 69, 70, 72, 76], \"yaxis\": \"y\"}, {\"customdata\": [[\"\\u0399\\u03c1\\u03bb\\u03b1\\u03bd\\u03b4\\u03af\\u03b1\"], [\"\\u0399\\u03c1\\u03bb\\u03b1\\u03bd\\u03b4\\u03af\\u03b1\"], [\"\\u0399\\u03c1\\u03bb\\u03b1\\u03bd\\u03b4\\u03af\\u03b1\"], [\"\\u0399\\u03c1\\u03bb\\u03b1\\u03bd\\u03b4\\u03af\\u03b1\"], [\"\\u0399\\u03c1\\u03bb\\u03b1\\u03bd\\u03b4\\u03af\\u03b1\"], [\"\\u0399\\u03c1\\u03bb\\u03b1\\u03bd\\u03b4\\u03af\\u03b1\"], [\"\\u0399\\u03c1\\u03bb\\u03b1\\u03bd\\u03b4\\u03af\\u03b1\"], [\"\\u0399\\u03c1\\u03bb\\u03b1\\u03bd\\u03b4\\u03af\\u03b1\"], [\"\\u0399\\u03c1\\u03bb\\u03b1\\u03bd\\u03b4\\u03af\\u03b1\"], [\"\\u0399\\u03c1\\u03bb\\u03b1\\u03bd\\u03b4\\u03af\\u03b1\"], [\"\\u0399\\u03c1\\u03bb\\u03b1\\u03bd\\u03b4\\u03af\\u03b1\"], [\"\\u0399\\u03c1\\u03bb\\u03b1\\u03bd\\u03b4\\u03af\\u03b1\"], [\"\\u0399\\u03c1\\u03bb\\u03b1\\u03bd\\u03b4\\u03af\\u03b1\"], [\"\\u0399\\u03c1\\u03bb\\u03b1\\u03bd\\u03b4\\u03af\\u03b1\"], [\"\\u0399\\u03c1\\u03bb\\u03b1\\u03bd\\u03b4\\u03af\\u03b1\"], [\"\\u0399\\u03c1\\u03bb\\u03b1\\u03bd\\u03b4\\u03af\\u03b1\"], [\"\\u0399\\u03c1\\u03bb\\u03b1\\u03bd\\u03b4\\u03af\\u03b1\"], [\"\\u0399\\u03c1\\u03bb\\u03b1\\u03bd\\u03b4\\u03af\\u03b1\"]], \"hoverlabel\": {\"namelength\": 0}, \"hovertemplate\": \"\\u03a7\\u03ce\\u03c1\\u03b1=%{customdata[0]}<br>\\u0391\\u03c1\\u03b9\\u03b8\\u03bc\\u03cc\\u03c2 \\u039a\\u03c1\\u03bf\\u03c5\\u03c3\\u03bc\\u03ac\\u03c4\\u03c9\\u03bd=%{y}\", \"legendgroup\": \"\\u0399\\u03c1\\u03bb\\u03b1\\u03bd\\u03b4\\u03af\\u03b1\", \"line\": {\"color\": \"rgb(189,189,189)\", \"dash\": \"solid\", \"shape\": \"spline\"}, \"mode\": \"lines\", \"name\": \"\\u0399\\u03c1\\u03bb\\u03b1\\u03bd\\u03b4\\u03af\\u03b1\", \"showlegend\": true, \"type\": \"scatter\", \"xaxis\": \"x\", \"y\": [19, 22, 36, 46, 54, 71, 85, 98, 120, 137, 158, 174, 210, 235, 263, 287, 320, 334], \"yaxis\": \"y\"}, {\"customdata\": [[\"\\u0399\\u03c3\\u03c1\\u03b1\\u03ae\\u03bb\"], [\"\\u0399\\u03c3\\u03c1\\u03b1\\u03ae\\u03bb\"], [\"\\u0399\\u03c3\\u03c1\\u03b1\\u03ae\\u03bb\"], [\"\\u0399\\u03c3\\u03c1\\u03b1\\u03ae\\u03bb\"], [\"\\u0399\\u03c3\\u03c1\\u03b1\\u03ae\\u03bb\"], [\"\\u0399\\u03c3\\u03c1\\u03b1\\u03ae\\u03bb\"], [\"\\u0399\\u03c3\\u03c1\\u03b1\\u03ae\\u03bb\"], [\"\\u0399\\u03c3\\u03c1\\u03b1\\u03ae\\u03bb\"], [\"\\u0399\\u03c3\\u03c1\\u03b1\\u03ae\\u03bb\"], [\"\\u0399\\u03c3\\u03c1\\u03b1\\u03ae\\u03bb\"], [\"\\u0399\\u03c3\\u03c1\\u03b1\\u03ae\\u03bb\"], [\"\\u0399\\u03c3\\u03c1\\u03b1\\u03ae\\u03bb\"], [\"\\u0399\\u03c3\\u03c1\\u03b1\\u03ae\\u03bb\"], [\"\\u0399\\u03c3\\u03c1\\u03b1\\u03ae\\u03bb\"], [\"\\u0399\\u03c3\\u03c1\\u03b1\\u03ae\\u03bb\"], [\"\\u0399\\u03c3\\u03c1\\u03b1\\u03ae\\u03bb\"], [\"\\u0399\\u03c3\\u03c1\\u03b1\\u03ae\\u03bb\"]], \"hoverlabel\": {\"namelength\": 0}, \"hovertemplate\": \"\\u03a7\\u03ce\\u03c1\\u03b1=%{customdata[0]}<br>\\u0391\\u03c1\\u03b9\\u03b8\\u03bc\\u03cc\\u03c2 \\u039a\\u03c1\\u03bf\\u03c5\\u03c3\\u03bc\\u03ac\\u03c4\\u03c9\\u03bd=%{y}\", \"legendgroup\": \"\\u0399\\u03c3\\u03c1\\u03b1\\u03ae\\u03bb\", \"line\": {\"color\": \"rgb(189,189,189)\", \"dash\": \"solid\", \"shape\": \"spline\"}, \"mode\": \"lines\", \"name\": \"\\u0399\\u03c3\\u03c1\\u03b1\\u03ae\\u03bb\", \"showlegend\": true, \"type\": \"scatter\", \"xaxis\": \"x\", \"y\": [12, 12, 15, 16, 20, 26, 36, 40, 44, 49, 57, 65, 73, 86, 95, 101, 103], \"yaxis\": \"y\"}, {\"customdata\": [[\"\\u0399\\u03b1\\u03c0\\u03c9\\u03bd\\u03af\\u03b1\"], [\"\\u0399\\u03b1\\u03c0\\u03c9\\u03bd\\u03af\\u03b1\"], [\"\\u0399\\u03b1\\u03c0\\u03c9\\u03bd\\u03af\\u03b1\"], [\"\\u0399\\u03b1\\u03c0\\u03c9\\u03bd\\u03af\\u03b1\"], [\"\\u0399\\u03b1\\u03c0\\u03c9\\u03bd\\u03af\\u03b1\"], [\"\\u0399\\u03b1\\u03c0\\u03c9\\u03bd\\u03af\\u03b1\"], [\"\\u0399\\u03b1\\u03c0\\u03c9\\u03bd\\u03af\\u03b1\"], [\"\\u0399\\u03b1\\u03c0\\u03c9\\u03bd\\u03af\\u03b1\"], [\"\\u0399\\u03b1\\u03c0\\u03c9\\u03bd\\u03af\\u03b1\"], [\"\\u0399\\u03b1\\u03c0\\u03c9\\u03bd\\u03af\\u03b1\"], [\"\\u0399\\u03b1\\u03c0\\u03c9\\u03bd\\u03af\\u03b1\"], [\"\\u0399\\u03b1\\u03c0\\u03c9\\u03bd\\u03af\\u03b1\"], [\"\\u0399\\u03b1\\u03c0\\u03c9\\u03bd\\u03af\\u03b1\"], [\"\\u0399\\u03b1\\u03c0\\u03c9\\u03bd\\u03af\\u03b1\"], [\"\\u0399\\u03b1\\u03c0\\u03c9\\u03bd\\u03af\\u03b1\"], [\"\\u0399\\u03b1\\u03c0\\u03c9\\u03bd\\u03af\\u03b1\"], [\"\\u0399\\u03b1\\u03c0\\u03c9\\u03bd\\u03af\\u03b1\"], [\"\\u0399\\u03b1\\u03c0\\u03c9\\u03bd\\u03af\\u03b1\"], [\"\\u0399\\u03b1\\u03c0\\u03c9\\u03bd\\u03af\\u03b1\"], [\"\\u0399\\u03b1\\u03c0\\u03c9\\u03bd\\u03af\\u03b1\"], [\"\\u0399\\u03b1\\u03c0\\u03c9\\u03bd\\u03af\\u03b1\"], [\"\\u0399\\u03b1\\u03c0\\u03c9\\u03bd\\u03af\\u03b1\"], [\"\\u0399\\u03b1\\u03c0\\u03c9\\u03bd\\u03af\\u03b1\"], [\"\\u0399\\u03b1\\u03c0\\u03c9\\u03bd\\u03af\\u03b1\"], [\"\\u0399\\u03b1\\u03c0\\u03c9\\u03bd\\u03af\\u03b1\"], [\"\\u0399\\u03b1\\u03c0\\u03c9\\u03bd\\u03af\\u03b1\"], [\"\\u0399\\u03b1\\u03c0\\u03c9\\u03bd\\u03af\\u03b1\"], [\"\\u0399\\u03b1\\u03c0\\u03c9\\u03bd\\u03af\\u03b1\"], [\"\\u0399\\u03b1\\u03c0\\u03c9\\u03bd\\u03af\\u03b1\"], [\"\\u0399\\u03b1\\u03c0\\u03c9\\u03bd\\u03af\\u03b1\"], [\"\\u0399\\u03b1\\u03c0\\u03c9\\u03bd\\u03af\\u03b1\"], [\"\\u0399\\u03b1\\u03c0\\u03c9\\u03bd\\u03af\\u03b1\"], [\"\\u0399\\u03b1\\u03c0\\u03c9\\u03bd\\u03af\\u03b1\"], [\"\\u0399\\u03b1\\u03c0\\u03c9\\u03bd\\u03af\\u03b1\"], [\"\\u0399\\u03b1\\u03c0\\u03c9\\u03bd\\u03af\\u03b1\"]], \"hoverlabel\": {\"namelength\": 0}, \"hovertemplate\": \"\\u03a7\\u03ce\\u03c1\\u03b1=%{customdata[0]}<br>\\u0391\\u03c1\\u03b9\\u03b8\\u03bc\\u03cc\\u03c2 \\u039a\\u03c1\\u03bf\\u03c5\\u03c3\\u03bc\\u03ac\\u03c4\\u03c9\\u03bd=%{y}\", \"legendgroup\": \"\\u0399\\u03b1\\u03c0\\u03c9\\u03bd\\u03af\\u03b1\", \"line\": {\"color\": \"rgb(189,189,189)\", \"dash\": \"solid\", \"shape\": \"spline\"}, \"mode\": \"lines\", \"name\": \"\\u0399\\u03b1\\u03c0\\u03c9\\u03bd\\u03af\\u03b1\", \"showlegend\": true, \"type\": \"scatter\", \"xaxis\": \"x\", \"y\": [10, 10, 15, 16, 19, 22, 22, 27, 29, 29, 29, 33, 35, 41, 42, 43, 45, 47, 49, 52, 54, 54, 56, 57, 62, 63, 77, 77, 85, 92, 93, 94, 99, 99, 108], \"yaxis\": \"y\"}, {\"customdata\": [[\"\\u039a\\u03b1\\u03b6\\u03b1\\u03ba\\u03c3\\u03c4\\u03ac\\u03bd\"], [\"\\u039a\\u03b1\\u03b6\\u03b1\\u03ba\\u03c3\\u03c4\\u03ac\\u03bd\"], [\"\\u039a\\u03b1\\u03b6\\u03b1\\u03ba\\u03c3\\u03c4\\u03ac\\u03bd\"]], \"hoverlabel\": {\"namelength\": 0}, \"hovertemplate\": \"\\u03a7\\u03ce\\u03c1\\u03b1=%{customdata[0]}<br>\\u0391\\u03c1\\u03b9\\u03b8\\u03bc\\u03cc\\u03c2 \\u039a\\u03c1\\u03bf\\u03c5\\u03c3\\u03bc\\u03ac\\u03c4\\u03c9\\u03bd=%{y}\", \"legendgroup\": \"\\u039a\\u03b1\\u03b6\\u03b1\\u03ba\\u03c3\\u03c4\\u03ac\\u03bd\", \"line\": {\"color\": \"rgb(189,189,189)\", \"dash\": \"solid\", \"shape\": \"spline\"}, \"mode\": \"lines\", \"name\": \"\\u039a\\u03b1\\u03b6\\u03b1\\u03ba\\u03c3\\u03c4\\u03ac\\u03bd\", \"showlegend\": true, \"type\": \"scatter\", \"xaxis\": \"x\", \"y\": [10, 10, 10], \"yaxis\": \"y\"}, {\"customdata\": [[\"\\u039d\\u03cc\\u03c4\\u03b9\\u03b1 \\u039a\\u03bf\\u03c1\\u03ad\\u03b1\"], [\"\\u039d\\u03cc\\u03c4\\u03b9\\u03b1 \\u039a\\u03bf\\u03c1\\u03ad\\u03b1\"], [\"\\u039d\\u03cc\\u03c4\\u03b9\\u03b1 \\u039a\\u03bf\\u03c1\\u03ad\\u03b1\"], [\"\\u039d\\u03cc\\u03c4\\u03b9\\u03b1 \\u039a\\u03bf\\u03c1\\u03ad\\u03b1\"], [\"\\u039d\\u03cc\\u03c4\\u03b9\\u03b1 \\u039a\\u03bf\\u03c1\\u03ad\\u03b1\"], [\"\\u039d\\u03cc\\u03c4\\u03b9\\u03b1 \\u039a\\u03bf\\u03c1\\u03ad\\u03b1\"], [\"\\u039d\\u03cc\\u03c4\\u03b9\\u03b1 \\u039a\\u03bf\\u03c1\\u03ad\\u03b1\"], [\"\\u039d\\u03cc\\u03c4\\u03b9\\u03b1 \\u039a\\u03bf\\u03c1\\u03ad\\u03b1\"], [\"\\u039d\\u03cc\\u03c4\\u03b9\\u03b1 \\u039a\\u03bf\\u03c1\\u03ad\\u03b1\"], [\"\\u039d\\u03cc\\u03c4\\u03b9\\u03b1 \\u039a\\u03bf\\u03c1\\u03ad\\u03b1\"], [\"\\u039d\\u03cc\\u03c4\\u03b9\\u03b1 \\u039a\\u03bf\\u03c1\\u03ad\\u03b1\"], [\"\\u039d\\u03cc\\u03c4\\u03b9\\u03b1 \\u039a\\u03bf\\u03c1\\u03ad\\u03b1\"], [\"\\u039d\\u03cc\\u03c4\\u03b9\\u03b1 \\u039a\\u03bf\\u03c1\\u03ad\\u03b1\"], [\"\\u039d\\u03cc\\u03c4\\u03b9\\u03b1 \\u039a\\u03bf\\u03c1\\u03ad\\u03b1\"], [\"\\u039d\\u03cc\\u03c4\\u03b9\\u03b1 \\u039a\\u03bf\\u03c1\\u03ad\\u03b1\"], [\"\\u039d\\u03cc\\u03c4\\u03b9\\u03b1 \\u039a\\u03bf\\u03c1\\u03ad\\u03b1\"], [\"\\u039d\\u03cc\\u03c4\\u03b9\\u03b1 \\u039a\\u03bf\\u03c1\\u03ad\\u03b1\"], [\"\\u039d\\u03cc\\u03c4\\u03b9\\u03b1 \\u039a\\u03bf\\u03c1\\u03ad\\u03b1\"], [\"\\u039d\\u03cc\\u03c4\\u03b9\\u03b1 \\u039a\\u03bf\\u03c1\\u03ad\\u03b1\"], [\"\\u039d\\u03cc\\u03c4\\u03b9\\u03b1 \\u039a\\u03bf\\u03c1\\u03ad\\u03b1\"], [\"\\u039d\\u03cc\\u03c4\\u03b9\\u03b1 \\u039a\\u03bf\\u03c1\\u03ad\\u03b1\"], [\"\\u039d\\u03cc\\u03c4\\u03b9\\u03b1 \\u039a\\u03bf\\u03c1\\u03ad\\u03b1\"], [\"\\u039d\\u03cc\\u03c4\\u03b9\\u03b1 \\u039a\\u03bf\\u03c1\\u03ad\\u03b1\"], [\"\\u039d\\u03cc\\u03c4\\u03b9\\u03b1 \\u039a\\u03bf\\u03c1\\u03ad\\u03b1\"], [\"\\u039d\\u03cc\\u03c4\\u03b9\\u03b1 \\u039a\\u03bf\\u03c1\\u03ad\\u03b1\"], [\"\\u039d\\u03cc\\u03c4\\u03b9\\u03b1 \\u039a\\u03bf\\u03c1\\u03ad\\u03b1\"], [\"\\u039d\\u03cc\\u03c4\\u03b9\\u03b1 \\u039a\\u03bf\\u03c1\\u03ad\\u03b1\"], [\"\\u039d\\u03cc\\u03c4\\u03b9\\u03b1 \\u039a\\u03bf\\u03c1\\u03ad\\u03b1\"], [\"\\u039d\\u03cc\\u03c4\\u03b9\\u03b1 \\u039a\\u03bf\\u03c1\\u03ad\\u03b1\"], [\"\\u039d\\u03cc\\u03c4\\u03b9\\u03b1 \\u039a\\u03bf\\u03c1\\u03ad\\u03b1\"], [\"\\u039d\\u03cc\\u03c4\\u03b9\\u03b1 \\u039a\\u03bf\\u03c1\\u03ad\\u03b1\"], [\"\\u039d\\u03cc\\u03c4\\u03b9\\u03b1 \\u039a\\u03bf\\u03c1\\u03ad\\u03b1\"], [\"\\u039d\\u03cc\\u03c4\\u03b9\\u03b1 \\u039a\\u03bf\\u03c1\\u03ad\\u03b1\"], [\"\\u039d\\u03cc\\u03c4\\u03b9\\u03b1 \\u039a\\u03bf\\u03c1\\u03ad\\u03b1\"], [\"\\u039d\\u03cc\\u03c4\\u03b9\\u03b1 \\u039a\\u03bf\\u03c1\\u03ad\\u03b1\"], [\"\\u039d\\u03cc\\u03c4\\u03b9\\u03b1 \\u039a\\u03bf\\u03c1\\u03ad\\u03b1\"], [\"\\u039d\\u03cc\\u03c4\\u03b9\\u03b1 \\u039a\\u03bf\\u03c1\\u03ad\\u03b1\"], [\"\\u039d\\u03cc\\u03c4\\u03b9\\u03b1 \\u039a\\u03bf\\u03c1\\u03ad\\u03b1\"], [\"\\u039d\\u03cc\\u03c4\\u03b9\\u03b1 \\u039a\\u03bf\\u03c1\\u03ad\\u03b1\"], [\"\\u039d\\u03cc\\u03c4\\u03b9\\u03b1 \\u039a\\u03bf\\u03c1\\u03ad\\u03b1\"], [\"\\u039d\\u03cc\\u03c4\\u03b9\\u03b1 \\u039a\\u03bf\\u03c1\\u03ad\\u03b1\"], [\"\\u039d\\u03cc\\u03c4\\u03b9\\u03b1 \\u039a\\u03bf\\u03c1\\u03ad\\u03b1\"], [\"\\u039d\\u03cc\\u03c4\\u03b9\\u03b1 \\u039a\\u03bf\\u03c1\\u03ad\\u03b1\"], [\"\\u039d\\u03cc\\u03c4\\u03b9\\u03b1 \\u039a\\u03bf\\u03c1\\u03ad\\u03b1\"], [\"\\u039d\\u03cc\\u03c4\\u03b9\\u03b1 \\u039a\\u03bf\\u03c1\\u03ad\\u03b1\"], [\"\\u039d\\u03cc\\u03c4\\u03b9\\u03b1 \\u039a\\u03bf\\u03c1\\u03ad\\u03b1\"], [\"\\u039d\\u03cc\\u03c4\\u03b9\\u03b1 \\u039a\\u03bf\\u03c1\\u03ad\\u03b1\"], [\"\\u039d\\u03cc\\u03c4\\u03b9\\u03b1 \\u039a\\u03bf\\u03c1\\u03ad\\u03b1\"]], \"hoverlabel\": {\"namelength\": 0}, \"hovertemplate\": \"\\u03a7\\u03ce\\u03c1\\u03b1=%{customdata[0]}<br>\\u0391\\u03c1\\u03b9\\u03b8\\u03bc\\u03cc\\u03c2 \\u039a\\u03c1\\u03bf\\u03c5\\u03c3\\u03bc\\u03ac\\u03c4\\u03c9\\u03bd=%{y}\", \"legendgroup\": \"\\u039d\\u03cc\\u03c4\\u03b9\\u03b1 \\u039a\\u03bf\\u03c1\\u03ad\\u03b1\", \"line\": {\"color\": \"rgb(189,189,189)\", \"dash\": \"solid\", \"shape\": \"spline\"}, \"mode\": \"lines\", \"name\": \"\\u039d\\u03cc\\u03c4\\u03b9\\u03b1 \\u039a\\u03bf\\u03c1\\u03ad\\u03b1\", \"showlegend\": true, \"type\": \"scatter\", \"xaxis\": \"x\", \"y\": [10, 12, 13, 13, 16, 17, 28, 28, 35, 35, 42, 44, 50, 53, 54, 60, 66, 66, 72, 75, 75, 81, 84, 91, 94, 102, 111, 111, 120, 126, 131, 139, 144, 152, 158, 162, 165, 169, 174, 177, 183, 186, 192, 200, 204, 208, 211, 214], \"yaxis\": \"y\"}, {\"customdata\": [[\"\\u039b\\u03af\\u03b2\\u03b1\\u03bd\\u03bf\\u03c2\"], [\"\\u039b\\u03af\\u03b2\\u03b1\\u03bd\\u03bf\\u03c2\"], [\"\\u039b\\u03af\\u03b2\\u03b1\\u03bd\\u03bf\\u03c2\"], [\"\\u039b\\u03af\\u03b2\\u03b1\\u03bd\\u03bf\\u03c2\"], [\"\\u039b\\u03af\\u03b2\\u03b1\\u03bd\\u03bf\\u03c2\"], [\"\\u039b\\u03af\\u03b2\\u03b1\\u03bd\\u03bf\\u03c2\"], [\"\\u039b\\u03af\\u03b2\\u03b1\\u03bd\\u03bf\\u03c2\"], [\"\\u039b\\u03af\\u03b2\\u03b1\\u03bd\\u03bf\\u03c2\"], [\"\\u039b\\u03af\\u03b2\\u03b1\\u03bd\\u03bf\\u03c2\"], [\"\\u039b\\u03af\\u03b2\\u03b1\\u03bd\\u03bf\\u03c2\"], [\"\\u039b\\u03af\\u03b2\\u03b1\\u03bd\\u03bf\\u03c2\"], [\"\\u039b\\u03af\\u03b2\\u03b1\\u03bd\\u03bf\\u03c2\"], [\"\\u039b\\u03af\\u03b2\\u03b1\\u03bd\\u03bf\\u03c2\"], [\"\\u039b\\u03af\\u03b2\\u03b1\\u03bd\\u03bf\\u03c2\"], [\"\\u039b\\u03af\\u03b2\\u03b1\\u03bd\\u03bf\\u03c2\"]], \"hoverlabel\": {\"namelength\": 0}, \"hovertemplate\": \"\\u03a7\\u03ce\\u03c1\\u03b1=%{customdata[0]}<br>\\u0391\\u03c1\\u03b9\\u03b8\\u03bc\\u03cc\\u03c2 \\u039a\\u03c1\\u03bf\\u03c5\\u03c3\\u03bc\\u03ac\\u03c4\\u03c9\\u03bd=%{y}\", \"legendgroup\": \"\\u039b\\u03af\\u03b2\\u03b1\\u03bd\\u03bf\\u03c2\", \"line\": {\"color\": \"rgb(189,189,189)\", \"dash\": \"solid\", \"shape\": \"spline\"}, \"mode\": \"lines\", \"name\": \"\\u039b\\u03af\\u03b2\\u03b1\\u03bd\\u03bf\\u03c2\", \"showlegend\": true, \"type\": \"scatter\", \"xaxis\": \"x\", \"y\": [10, 11, 12, 14, 16, 17, 17, 18, 19, 19, 19, 19, 20, 20, 20], \"yaxis\": \"y\"}, {\"customdata\": [[\"\\u039b\\u03b9\\u03b8\\u03bf\\u03c5\\u03b1\\u03bd\\u03af\\u03b1\"], [\"\\u039b\\u03b9\\u03b8\\u03bf\\u03c5\\u03b1\\u03bd\\u03af\\u03b1\"], [\"\\u039b\\u03b9\\u03b8\\u03bf\\u03c5\\u03b1\\u03bd\\u03af\\u03b1\"], [\"\\u039b\\u03b9\\u03b8\\u03bf\\u03c5\\u03b1\\u03bd\\u03af\\u03b1\"], [\"\\u039b\\u03b9\\u03b8\\u03bf\\u03c5\\u03b1\\u03bd\\u03af\\u03b1\"], [\"\\u039b\\u03b9\\u03b8\\u03bf\\u03c5\\u03b1\\u03bd\\u03af\\u03b1\"], [\"\\u039b\\u03b9\\u03b8\\u03bf\\u03c5\\u03b1\\u03bd\\u03af\\u03b1\"], [\"\\u039b\\u03b9\\u03b8\\u03bf\\u03c5\\u03b1\\u03bd\\u03af\\u03b1\"], [\"\\u039b\\u03b9\\u03b8\\u03bf\\u03c5\\u03b1\\u03bd\\u03af\\u03b1\"]], \"hoverlabel\": {\"namelength\": 0}, \"hovertemplate\": \"\\u03a7\\u03ce\\u03c1\\u03b1=%{customdata[0]}<br>\\u0391\\u03c1\\u03b9\\u03b8\\u03bc\\u03cc\\u03c2 \\u039a\\u03c1\\u03bf\\u03c5\\u03c3\\u03bc\\u03ac\\u03c4\\u03c9\\u03bd=%{y}\", \"legendgroup\": \"\\u039b\\u03b9\\u03b8\\u03bf\\u03c5\\u03b1\\u03bd\\u03af\\u03b1\", \"line\": {\"color\": \"rgb(189,189,189)\", \"dash\": \"solid\", \"shape\": \"spline\"}, \"mode\": \"lines\", \"name\": \"\\u039b\\u03b9\\u03b8\\u03bf\\u03c5\\u03b1\\u03bd\\u03af\\u03b1\", \"showlegend\": true, \"type\": \"scatter\", \"xaxis\": \"x\", \"y\": [11, 13, 15, 15, 15, 16, 22, 23, 23], \"yaxis\": \"y\"}, {\"customdata\": [[\"\\u039b\\u03bf\\u03c5\\u03be\\u03b5\\u03bc\\u03b2\\u03bf\\u03cd\\u03c1\\u03b3\\u03bf\"], [\"\\u039b\\u03bf\\u03c5\\u03be\\u03b5\\u03bc\\u03b2\\u03bf\\u03cd\\u03c1\\u03b3\\u03bf\"], [\"\\u039b\\u03bf\\u03c5\\u03be\\u03b5\\u03bc\\u03b2\\u03bf\\u03cd\\u03c1\\u03b3\\u03bf\"], [\"\\u039b\\u03bf\\u03c5\\u03be\\u03b5\\u03bc\\u03b2\\u03bf\\u03cd\\u03c1\\u03b3\\u03bf\"], [\"\\u039b\\u03bf\\u03c5\\u03be\\u03b5\\u03bc\\u03b2\\u03bf\\u03cd\\u03c1\\u03b3\\u03bf\"], [\"\\u039b\\u03bf\\u03c5\\u03be\\u03b5\\u03bc\\u03b2\\u03bf\\u03cd\\u03c1\\u03b3\\u03bf\"], [\"\\u039b\\u03bf\\u03c5\\u03be\\u03b5\\u03bc\\u03b2\\u03bf\\u03cd\\u03c1\\u03b3\\u03bf\"], [\"\\u039b\\u03bf\\u03c5\\u03be\\u03b5\\u03bc\\u03b2\\u03bf\\u03cd\\u03c1\\u03b3\\u03bf\"], [\"\\u039b\\u03bf\\u03c5\\u03be\\u03b5\\u03bc\\u03b2\\u03bf\\u03cd\\u03c1\\u03b3\\u03bf\"], [\"\\u039b\\u03bf\\u03c5\\u03be\\u03b5\\u03bc\\u03b2\\u03bf\\u03cd\\u03c1\\u03b3\\u03bf\"], [\"\\u039b\\u03bf\\u03c5\\u03be\\u03b5\\u03bc\\u03b2\\u03bf\\u03cd\\u03c1\\u03b3\\u03bf\"], [\"\\u039b\\u03bf\\u03c5\\u03be\\u03b5\\u03bc\\u03b2\\u03bf\\u03cd\\u03c1\\u03b3\\u03bf\"], [\"\\u039b\\u03bf\\u03c5\\u03be\\u03b5\\u03bc\\u03b2\\u03bf\\u03cd\\u03c1\\u03b3\\u03bf\"], [\"\\u039b\\u03bf\\u03c5\\u03be\\u03b5\\u03bc\\u03b2\\u03bf\\u03cd\\u03c1\\u03b3\\u03bf\"], [\"\\u039b\\u03bf\\u03c5\\u03be\\u03b5\\u03bc\\u03b2\\u03bf\\u03cd\\u03c1\\u03b3\\u03bf\"], [\"\\u039b\\u03bf\\u03c5\\u03be\\u03b5\\u03bc\\u03b2\\u03bf\\u03cd\\u03c1\\u03b3\\u03bf\"], [\"\\u039b\\u03bf\\u03c5\\u03be\\u03b5\\u03bc\\u03b2\\u03bf\\u03cd\\u03c1\\u03b3\\u03bf\"]], \"hoverlabel\": {\"namelength\": 0}, \"hovertemplate\": \"\\u03a7\\u03ce\\u03c1\\u03b1=%{customdata[0]}<br>\\u0391\\u03c1\\u03b9\\u03b8\\u03bc\\u03cc\\u03c2 \\u039a\\u03c1\\u03bf\\u03c5\\u03c3\\u03bc\\u03ac\\u03c4\\u03c9\\u03bd=%{y}\", \"legendgroup\": \"\\u039b\\u03bf\\u03c5\\u03be\\u03b5\\u03bc\\u03b2\\u03bf\\u03cd\\u03c1\\u03b3\\u03bf\", \"line\": {\"color\": \"rgb(189,189,189)\", \"dash\": \"solid\", \"shape\": \"spline\"}, \"mode\": \"lines\", \"name\": \"\\u039b\\u03bf\\u03c5\\u03be\\u03b5\\u03bc\\u03b2\\u03bf\\u03cd\\u03c1\\u03b3\\u03bf\", \"showlegend\": true, \"type\": \"scatter\", \"xaxis\": \"x\", \"y\": [15, 18, 21, 22, 23, 29, 30, 31, 31, 36, 41, 44, 46, 52, 54, 62, 66], \"yaxis\": \"y\"}, {\"customdata\": [[\"\\u039c\\u03b1\\u03bb\\u03b1\\u03b9\\u03c3\\u03af\\u03b1\"], [\"\\u039c\\u03b1\\u03bb\\u03b1\\u03b9\\u03c3\\u03af\\u03b1\"], [\"\\u039c\\u03b1\\u03bb\\u03b1\\u03b9\\u03c3\\u03af\\u03b1\"], [\"\\u039c\\u03b1\\u03bb\\u03b1\\u03b9\\u03c3\\u03af\\u03b1\"], [\"\\u039c\\u03b1\\u03bb\\u03b1\\u03b9\\u03c3\\u03af\\u03b1\"], [\"\\u039c\\u03b1\\u03bb\\u03b1\\u03b9\\u03c3\\u03af\\u03b1\"], [\"\\u039c\\u03b1\\u03bb\\u03b1\\u03b9\\u03c3\\u03af\\u03b1\"], [\"\\u039c\\u03b1\\u03bb\\u03b1\\u03b9\\u03c3\\u03af\\u03b1\"], [\"\\u039c\\u03b1\\u03bb\\u03b1\\u03b9\\u03c3\\u03af\\u03b1\"], [\"\\u039c\\u03b1\\u03bb\\u03b1\\u03b9\\u03c3\\u03af\\u03b1\"], [\"\\u039c\\u03b1\\u03bb\\u03b1\\u03b9\\u03c3\\u03af\\u03b1\"], [\"\\u039c\\u03b1\\u03bb\\u03b1\\u03b9\\u03c3\\u03af\\u03b1\"], [\"\\u039c\\u03b1\\u03bb\\u03b1\\u03b9\\u03c3\\u03af\\u03b1\"], [\"\\u039c\\u03b1\\u03bb\\u03b1\\u03b9\\u03c3\\u03af\\u03b1\"], [\"\\u039c\\u03b1\\u03bb\\u03b1\\u03b9\\u03c3\\u03af\\u03b1\"], [\"\\u039c\\u03b1\\u03bb\\u03b1\\u03b9\\u03c3\\u03af\\u03b1\"], [\"\\u039c\\u03b1\\u03bb\\u03b1\\u03b9\\u03c3\\u03af\\u03b1\"], [\"\\u039c\\u03b1\\u03bb\\u03b1\\u03b9\\u03c3\\u03af\\u03b1\"], [\"\\u039c\\u03b1\\u03bb\\u03b1\\u03b9\\u03c3\\u03af\\u03b1\"], [\"\\u039c\\u03b1\\u03bb\\u03b1\\u03b9\\u03c3\\u03af\\u03b1\"], [\"\\u039c\\u03b1\\u03bb\\u03b1\\u03b9\\u03c3\\u03af\\u03b1\"], [\"\\u039c\\u03b1\\u03bb\\u03b1\\u03b9\\u03c3\\u03af\\u03b1\"]], \"hoverlabel\": {\"namelength\": 0}, \"hovertemplate\": \"\\u03a7\\u03ce\\u03c1\\u03b1=%{customdata[0]}<br>\\u0391\\u03c1\\u03b9\\u03b8\\u03bc\\u03cc\\u03c2 \\u039a\\u03c1\\u03bf\\u03c5\\u03c3\\u03bc\\u03ac\\u03c4\\u03c9\\u03bd=%{y}\", \"legendgroup\": \"\\u039c\\u03b1\\u03bb\\u03b1\\u03b9\\u03c3\\u03af\\u03b1\", \"line\": {\"color\": \"rgb(189,189,189)\", \"dash\": \"solid\", \"shape\": \"spline\"}, \"mode\": \"lines\", \"name\": \"\\u039c\\u03b1\\u03bb\\u03b1\\u03b9\\u03c3\\u03af\\u03b1\", \"showlegend\": true, \"type\": \"scatter\", \"xaxis\": \"x\", \"y\": [10, 14, 16, 20, 23, 26, 27, 35, 37, 43, 45, 50, 53, 57, 61, 62, 63, 65, 67, 70, 73, 76], \"yaxis\": \"y\"}, {\"customdata\": [[\"\\u039c\\u03b5\\u03be\\u03b9\\u03ba\\u03cc\"], [\"\\u039c\\u03b5\\u03be\\u03b9\\u03ba\\u03cc\"], [\"\\u039c\\u03b5\\u03be\\u03b9\\u03ba\\u03cc\"], [\"\\u039c\\u03b5\\u03be\\u03b9\\u03ba\\u03cc\"], [\"\\u039c\\u03b5\\u03be\\u03b9\\u03ba\\u03cc\"], [\"\\u039c\\u03b5\\u03be\\u03b9\\u03ba\\u03cc\"], [\"\\u039c\\u03b5\\u03be\\u03b9\\u03ba\\u03cc\"], [\"\\u039c\\u03b5\\u03be\\u03b9\\u03ba\\u03cc\"], [\"\\u039c\\u03b5\\u03be\\u03b9\\u03ba\\u03cc\"], [\"\\u039c\\u03b5\\u03be\\u03b9\\u03ba\\u03cc\"], [\"\\u039c\\u03b5\\u03be\\u03b9\\u03ba\\u03cc\"], [\"\\u039c\\u03b5\\u03be\\u03b9\\u03ba\\u03cc\"], [\"\\u039c\\u03b5\\u03be\\u03b9\\u03ba\\u03cc\"], [\"\\u039c\\u03b5\\u03be\\u03b9\\u03ba\\u03cc\"], [\"\\u039c\\u03b5\\u03be\\u03b9\\u03ba\\u03cc\"], [\"\\u039c\\u03b5\\u03be\\u03b9\\u03ba\\u03cc\"]], \"hoverlabel\": {\"namelength\": 0}, \"hovertemplate\": \"\\u03a7\\u03ce\\u03c1\\u03b1=%{customdata[0]}<br>\\u0391\\u03c1\\u03b9\\u03b8\\u03bc\\u03cc\\u03c2 \\u039a\\u03c1\\u03bf\\u03c5\\u03c3\\u03bc\\u03ac\\u03c4\\u03c9\\u03bd=%{y}\", \"legendgroup\": \"\\u039c\\u03b5\\u03be\\u03b9\\u03ba\\u03cc\", \"line\": {\"color\": \"rgb(189,189,189)\", \"dash\": \"solid\", \"shape\": \"spline\"}, \"mode\": \"lines\", \"name\": \"\\u039c\\u03b5\\u03be\\u03b9\\u03ba\\u03cc\", \"showlegend\": true, \"type\": \"scatter\", \"xaxis\": \"x\", \"y\": [12, 16, 20, 28, 29, 37, 50, 60, 79, 94, 125, 141, 174, 194, 233, 273], \"yaxis\": \"y\"}, {\"customdata\": [[\"\\u039c\\u03bf\\u03bb\\u03b4\\u03bf\\u03b2\\u03af\\u03b1\"], [\"\\u039c\\u03bf\\u03bb\\u03b4\\u03bf\\u03b2\\u03af\\u03b1\"], [\"\\u039c\\u03bf\\u03bb\\u03b4\\u03bf\\u03b2\\u03af\\u03b1\"], [\"\\u039c\\u03bf\\u03bb\\u03b4\\u03bf\\u03b2\\u03af\\u03b1\"], [\"\\u039c\\u03bf\\u03bb\\u03b4\\u03bf\\u03b2\\u03af\\u03b1\"], [\"\\u039c\\u03bf\\u03bb\\u03b4\\u03bf\\u03b2\\u03af\\u03b1\"], [\"\\u039c\\u03bf\\u03bb\\u03b4\\u03bf\\u03b2\\u03af\\u03b1\"], [\"\\u039c\\u03bf\\u03bb\\u03b4\\u03bf\\u03b2\\u03af\\u03b1\"], [\"\\u039c\\u03bf\\u03bb\\u03b4\\u03bf\\u03b2\\u03af\\u03b1\"]], \"hoverlabel\": {\"namelength\": 0}, \"hovertemplate\": \"\\u03a7\\u03ce\\u03c1\\u03b1=%{customdata[0]}<br>\\u0391\\u03c1\\u03b9\\u03b8\\u03bc\\u03cc\\u03c2 \\u039a\\u03c1\\u03bf\\u03c5\\u03c3\\u03bc\\u03ac\\u03c4\\u03c9\\u03bd=%{y}\", \"legendgroup\": \"\\u039c\\u03bf\\u03bb\\u03b4\\u03bf\\u03b2\\u03af\\u03b1\", \"line\": {\"color\": \"rgb(189,189,189)\", \"dash\": \"solid\", \"shape\": \"spline\"}, \"mode\": \"lines\", \"name\": \"\\u039c\\u03bf\\u03bb\\u03b4\\u03bf\\u03b2\\u03af\\u03b1\", \"showlegend\": true, \"type\": \"scatter\", \"xaxis\": \"x\", \"y\": [12, 15, 19, 22, 27, 29, 29, 30, 31], \"yaxis\": \"y\"}, {\"customdata\": [[\"\\u039c\\u03b1\\u03c1\\u03cc\\u03ba\\u03bf\"], [\"\\u039c\\u03b1\\u03c1\\u03cc\\u03ba\\u03bf\"], [\"\\u039c\\u03b1\\u03c1\\u03cc\\u03ba\\u03bf\"], [\"\\u039c\\u03b1\\u03c1\\u03cc\\u03ba\\u03bf\"], [\"\\u039c\\u03b1\\u03c1\\u03cc\\u03ba\\u03bf\"], [\"\\u039c\\u03b1\\u03c1\\u03cc\\u03ba\\u03bf\"], [\"\\u039c\\u03b1\\u03c1\\u03cc\\u03ba\\u03bf\"], [\"\\u039c\\u03b1\\u03c1\\u03cc\\u03ba\\u03bf\"], [\"\\u039c\\u03b1\\u03c1\\u03cc\\u03ba\\u03bf\"], [\"\\u039c\\u03b1\\u03c1\\u03cc\\u03ba\\u03bf\"], [\"\\u039c\\u03b1\\u03c1\\u03cc\\u03ba\\u03bf\"], [\"\\u039c\\u03b1\\u03c1\\u03cc\\u03ba\\u03bf\"], [\"\\u039c\\u03b1\\u03c1\\u03cc\\u03ba\\u03bf\"], [\"\\u039c\\u03b1\\u03c1\\u03cc\\u03ba\\u03bf\"], [\"\\u039c\\u03b1\\u03c1\\u03cc\\u03ba\\u03bf\"], [\"\\u039c\\u03b1\\u03c1\\u03cc\\u03ba\\u03bf\"], [\"\\u039c\\u03b1\\u03c1\\u03cc\\u03ba\\u03bf\"], [\"\\u039c\\u03b1\\u03c1\\u03cc\\u03ba\\u03bf\"]], \"hoverlabel\": {\"namelength\": 0}, \"hovertemplate\": \"\\u03a7\\u03ce\\u03c1\\u03b1=%{customdata[0]}<br>\\u0391\\u03c1\\u03b9\\u03b8\\u03bc\\u03cc\\u03c2 \\u039a\\u03c1\\u03bf\\u03c5\\u03c3\\u03bc\\u03ac\\u03c4\\u03c9\\u03bd=%{y}\", \"legendgroup\": \"\\u039c\\u03b1\\u03c1\\u03cc\\u03ba\\u03bf\", \"line\": {\"color\": \"rgb(189,189,189)\", \"dash\": \"solid\", \"shape\": \"spline\"}, \"mode\": \"lines\", \"name\": \"\\u039c\\u03b1\\u03c1\\u03cc\\u03ba\\u03bf\", \"showlegend\": true, \"type\": \"scatter\", \"xaxis\": \"x\", \"y\": [11, 23, 25, 26, 33, 36, 39, 44, 48, 59, 70, 80, 90, 93, 97, 107, 111, 118], \"yaxis\": \"y\"}, {\"customdata\": [[\"\\u039f\\u03bb\\u03bb\\u03b1\\u03bd\\u03b4\\u03af\\u03b1\"], [\"\\u039f\\u03bb\\u03bb\\u03b1\\u03bd\\u03b4\\u03af\\u03b1\"], [\"\\u039f\\u03bb\\u03bb\\u03b1\\u03bd\\u03b4\\u03af\\u03b1\"], [\"\\u039f\\u03bb\\u03bb\\u03b1\\u03bd\\u03b4\\u03af\\u03b1\"], [\"\\u039f\\u03bb\\u03bb\\u03b1\\u03bd\\u03b4\\u03af\\u03b1\"], [\"\\u039f\\u03bb\\u03bb\\u03b1\\u03bd\\u03b4\\u03af\\u03b1\"], [\"\\u039f\\u03bb\\u03bb\\u03b1\\u03bd\\u03b4\\u03af\\u03b1\"], [\"\\u039f\\u03bb\\u03bb\\u03b1\\u03bd\\u03b4\\u03af\\u03b1\"], [\"\\u039f\\u03bb\\u03bb\\u03b1\\u03bd\\u03b4\\u03af\\u03b1\"], [\"\\u039f\\u03bb\\u03bb\\u03b1\\u03bd\\u03b4\\u03af\\u03b1\"], [\"\\u039f\\u03bb\\u03bb\\u03b1\\u03bd\\u03b4\\u03af\\u03b1\"], [\"\\u039f\\u03bb\\u03bb\\u03b1\\u03bd\\u03b4\\u03af\\u03b1\"], [\"\\u039f\\u03bb\\u03bb\\u03b1\\u03bd\\u03b4\\u03af\\u03b1\"], [\"\\u039f\\u03bb\\u03bb\\u03b1\\u03bd\\u03b4\\u03af\\u03b1\"], [\"\\u039f\\u03bb\\u03bb\\u03b1\\u03bd\\u03b4\\u03af\\u03b1\"], [\"\\u039f\\u03bb\\u03bb\\u03b1\\u03bd\\u03b4\\u03af\\u03b1\"], [\"\\u039f\\u03bb\\u03bb\\u03b1\\u03bd\\u03b4\\u03af\\u03b1\"], [\"\\u039f\\u03bb\\u03bb\\u03b1\\u03bd\\u03b4\\u03af\\u03b1\"], [\"\\u039f\\u03bb\\u03bb\\u03b1\\u03bd\\u03b4\\u03af\\u03b1\"], [\"\\u039f\\u03bb\\u03bb\\u03b1\\u03bd\\u03b4\\u03af\\u03b1\"], [\"\\u039f\\u03bb\\u03bb\\u03b1\\u03bd\\u03b4\\u03af\\u03b1\"], [\"\\u039f\\u03bb\\u03bb\\u03b1\\u03bd\\u03b4\\u03af\\u03b1\"], [\"\\u039f\\u03bb\\u03bb\\u03b1\\u03bd\\u03b4\\u03af\\u03b1\"], [\"\\u039f\\u03bb\\u03bb\\u03b1\\u03bd\\u03b4\\u03af\\u03b1\"], [\"\\u039f\\u03bb\\u03bb\\u03b1\\u03bd\\u03b4\\u03af\\u03b1\"], [\"\\u039f\\u03bb\\u03bb\\u03b1\\u03bd\\u03b4\\u03af\\u03b1\"], [\"\\u039f\\u03bb\\u03bb\\u03b1\\u03bd\\u03b4\\u03af\\u03b1\"], [\"\\u039f\\u03bb\\u03bb\\u03b1\\u03bd\\u03b4\\u03af\\u03b1\"], [\"\\u039f\\u03bb\\u03bb\\u03b1\\u03bd\\u03b4\\u03af\\u03b1\"], [\"\\u039f\\u03bb\\u03bb\\u03b1\\u03bd\\u03b4\\u03af\\u03b1\"], [\"\\u039f\\u03bb\\u03bb\\u03b1\\u03bd\\u03b4\\u03af\\u03b1\"]], \"hoverlabel\": {\"namelength\": 0}, \"hovertemplate\": \"\\u03a7\\u03ce\\u03c1\\u03b1=%{customdata[0]}<br>\\u0391\\u03c1\\u03b9\\u03b8\\u03bc\\u03cc\\u03c2 \\u039a\\u03c1\\u03bf\\u03c5\\u03c3\\u03bc\\u03ac\\u03c4\\u03c9\\u03bd=%{y}\", \"legendgroup\": \"\\u039f\\u03bb\\u03bb\\u03b1\\u03bd\\u03b4\\u03af\\u03b1\", \"line\": {\"color\": \"rgb(189,189,189)\", \"dash\": \"solid\", \"shape\": \"spline\"}, \"mode\": \"lines\", \"name\": \"\\u039f\\u03bb\\u03bb\\u03b1\\u03bd\\u03b4\\u03af\\u03b1\", \"showlegend\": true, \"type\": \"scatter\", \"xaxis\": \"x\", \"y\": [10, 12, 20, 24, 43, 58, 77, 107, 137, 180, 214, 277, 357, 435, 547, 640, 772, 865, 1040, 1175, 1341, 1490, 1656, 1771, 1874, 2108, 2255, 2403, 2520, 2653, 2747], \"yaxis\": \"y\"}, {\"customdata\": [[\"\\u039d\\u03af\\u03b3\\u03b7\\u03c1\\u03b1\\u03c2\"], [\"\\u039d\\u03af\\u03b3\\u03b7\\u03c1\\u03b1\\u03c2\"], [\"\\u039d\\u03af\\u03b3\\u03b7\\u03c1\\u03b1\\u03c2\"], [\"\\u039d\\u03af\\u03b3\\u03b7\\u03c1\\u03b1\\u03c2\"], [\"\\u039d\\u03af\\u03b3\\u03b7\\u03c1\\u03b1\\u03c2\"], [\"\\u039d\\u03af\\u03b3\\u03b7\\u03c1\\u03b1\\u03c2\"], [\"\\u039d\\u03af\\u03b3\\u03b7\\u03c1\\u03b1\\u03c2\"], [\"\\u039d\\u03af\\u03b3\\u03b7\\u03c1\\u03b1\\u03c2\"]], \"hoverlabel\": {\"namelength\": 0}, \"hovertemplate\": \"\\u03a7\\u03ce\\u03c1\\u03b1=%{customdata[0]}<br>\\u0391\\u03c1\\u03b9\\u03b8\\u03bc\\u03cc\\u03c2 \\u039a\\u03c1\\u03bf\\u03c5\\u03c3\\u03bc\\u03ac\\u03c4\\u03c9\\u03bd=%{y}\", \"legendgroup\": \"\\u039d\\u03af\\u03b3\\u03b7\\u03c1\\u03b1\\u03c2\", \"line\": {\"color\": \"rgb(189,189,189)\", \"dash\": \"solid\", \"shape\": \"spline\"}, \"mode\": \"lines\", \"name\": \"\\u039d\\u03af\\u03b3\\u03b7\\u03c1\\u03b1\\u03c2\", \"showlegend\": true, \"type\": \"scatter\", \"xaxis\": \"x\", \"y\": [10, 10, 11, 11, 11, 11, 11, 12], \"yaxis\": \"y\"}, {\"customdata\": [[\"\\u039d\\u03b9\\u03b3\\u03b7\\u03c1\\u03af\\u03b1\"], [\"\\u039d\\u03b9\\u03b3\\u03b7\\u03c1\\u03af\\u03b1\"]], \"hoverlabel\": {\"namelength\": 0}, \"hovertemplate\": \"\\u03a7\\u03ce\\u03c1\\u03b1=%{customdata[0]}<br>\\u0391\\u03c1\\u03b9\\u03b8\\u03bc\\u03cc\\u03c2 \\u039a\\u03c1\\u03bf\\u03c5\\u03c3\\u03bc\\u03ac\\u03c4\\u03c9\\u03bd=%{y}\", \"legendgroup\": \"\\u039d\\u03b9\\u03b3\\u03b7\\u03c1\\u03af\\u03b1\", \"line\": {\"color\": \"rgb(189,189,189)\", \"dash\": \"solid\", \"shape\": \"spline\"}, \"mode\": \"lines\", \"name\": \"\\u039d\\u03b9\\u03b3\\u03b7\\u03c1\\u03af\\u03b1\", \"showlegend\": true, \"type\": \"scatter\", \"xaxis\": \"x\", \"y\": [10, 10], \"yaxis\": \"y\"}, {\"customdata\": [[\"\\u0392\\u03cc\\u03c1\\u03b5\\u03b9\\u03b1 \\u039c\\u03b1\\u03ba\\u03b5\\u03b4\\u03bf\\u03bd\\u03af\\u03b1\"], [\"\\u0392\\u03cc\\u03c1\\u03b5\\u03b9\\u03b1 \\u039c\\u03b1\\u03ba\\u03b5\\u03b4\\u03bf\\u03bd\\u03af\\u03b1\"], [\"\\u0392\\u03cc\\u03c1\\u03b5\\u03b9\\u03b1 \\u039c\\u03b1\\u03ba\\u03b5\\u03b4\\u03bf\\u03bd\\u03af\\u03b1\"], [\"\\u0392\\u03cc\\u03c1\\u03b5\\u03b9\\u03b1 \\u039c\\u03b1\\u03ba\\u03b5\\u03b4\\u03bf\\u03bd\\u03af\\u03b1\"], [\"\\u0392\\u03cc\\u03c1\\u03b5\\u03b9\\u03b1 \\u039c\\u03b1\\u03ba\\u03b5\\u03b4\\u03bf\\u03bd\\u03af\\u03b1\"], [\"\\u0392\\u03cc\\u03c1\\u03b5\\u03b9\\u03b1 \\u039c\\u03b1\\u03ba\\u03b5\\u03b4\\u03bf\\u03bd\\u03af\\u03b1\"], [\"\\u0392\\u03cc\\u03c1\\u03b5\\u03b9\\u03b1 \\u039c\\u03b1\\u03ba\\u03b5\\u03b4\\u03bf\\u03bd\\u03af\\u03b1\"], [\"\\u0392\\u03cc\\u03c1\\u03b5\\u03b9\\u03b1 \\u039c\\u03b1\\u03ba\\u03b5\\u03b4\\u03bf\\u03bd\\u03af\\u03b1\"], [\"\\u0392\\u03cc\\u03c1\\u03b5\\u03b9\\u03b1 \\u039c\\u03b1\\u03ba\\u03b5\\u03b4\\u03bf\\u03bd\\u03af\\u03b1\"], [\"\\u0392\\u03cc\\u03c1\\u03b5\\u03b9\\u03b1 \\u039c\\u03b1\\u03ba\\u03b5\\u03b4\\u03bf\\u03bd\\u03af\\u03b1\"], [\"\\u0392\\u03cc\\u03c1\\u03b5\\u03b9\\u03b1 \\u039c\\u03b1\\u03ba\\u03b5\\u03b4\\u03bf\\u03bd\\u03af\\u03b1\"], [\"\\u0392\\u03cc\\u03c1\\u03b5\\u03b9\\u03b1 \\u039c\\u03b1\\u03ba\\u03b5\\u03b4\\u03bf\\u03bd\\u03af\\u03b1\"]], \"hoverlabel\": {\"namelength\": 0}, \"hovertemplate\": \"\\u03a7\\u03ce\\u03c1\\u03b1=%{customdata[0]}<br>\\u0391\\u03c1\\u03b9\\u03b8\\u03bc\\u03cc\\u03c2 \\u039a\\u03c1\\u03bf\\u03c5\\u03c3\\u03bc\\u03ac\\u03c4\\u03c9\\u03bd=%{y}\", \"legendgroup\": \"\\u0392\\u03cc\\u03c1\\u03b5\\u03b9\\u03b1 \\u039c\\u03b1\\u03ba\\u03b5\\u03b4\\u03bf\\u03bd\\u03af\\u03b1\", \"line\": {\"color\": \"rgb(189,189,189)\", \"dash\": \"solid\", \"shape\": \"spline\"}, \"mode\": \"lines\", \"name\": \"\\u0392\\u03cc\\u03c1\\u03b5\\u03b9\\u03b1 \\u039c\\u03b1\\u03ba\\u03b5\\u03b4\\u03bf\\u03bd\\u03af\\u03b1\", \"showlegend\": true, \"type\": \"scatter\", \"xaxis\": \"x\", \"y\": [11, 11, 12, 17, 18, 23, 26, 29, 30, 32, 34, 34], \"yaxis\": \"y\"}, {\"customdata\": [[\"\\u039d\\u03bf\\u03c1\\u03b2\\u03b7\\u03b3\\u03af\\u03b1\"], [\"\\u039d\\u03bf\\u03c1\\u03b2\\u03b7\\u03b3\\u03af\\u03b1\"], [\"\\u039d\\u03bf\\u03c1\\u03b2\\u03b7\\u03b3\\u03af\\u03b1\"], [\"\\u039d\\u03bf\\u03c1\\u03b2\\u03b7\\u03b3\\u03af\\u03b1\"], [\"\\u039d\\u03bf\\u03c1\\u03b2\\u03b7\\u03b3\\u03af\\u03b1\"], [\"\\u039d\\u03bf\\u03c1\\u03b2\\u03b7\\u03b3\\u03af\\u03b1\"], [\"\\u039d\\u03bf\\u03c1\\u03b2\\u03b7\\u03b3\\u03af\\u03b1\"], [\"\\u039d\\u03bf\\u03c1\\u03b2\\u03b7\\u03b3\\u03af\\u03b1\"], [\"\\u039d\\u03bf\\u03c1\\u03b2\\u03b7\\u03b3\\u03af\\u03b1\"], [\"\\u039d\\u03bf\\u03c1\\u03b2\\u03b7\\u03b3\\u03af\\u03b1\"], [\"\\u039d\\u03bf\\u03c1\\u03b2\\u03b7\\u03b3\\u03af\\u03b1\"], [\"\\u039d\\u03bf\\u03c1\\u03b2\\u03b7\\u03b3\\u03af\\u03b1\"], [\"\\u039d\\u03bf\\u03c1\\u03b2\\u03b7\\u03b3\\u03af\\u03b1\"], [\"\\u039d\\u03bf\\u03c1\\u03b2\\u03b7\\u03b3\\u03af\\u03b1\"], [\"\\u039d\\u03bf\\u03c1\\u03b2\\u03b7\\u03b3\\u03af\\u03b1\"], [\"\\u039d\\u03bf\\u03c1\\u03b2\\u03b7\\u03b3\\u03af\\u03b1\"], [\"\\u039d\\u03bf\\u03c1\\u03b2\\u03b7\\u03b3\\u03af\\u03b1\"], [\"\\u039d\\u03bf\\u03c1\\u03b2\\u03b7\\u03b3\\u03af\\u03b1\"], [\"\\u039d\\u03bf\\u03c1\\u03b2\\u03b7\\u03b3\\u03af\\u03b1\"], [\"\\u039d\\u03bf\\u03c1\\u03b2\\u03b7\\u03b3\\u03af\\u03b1\"], [\"\\u039d\\u03bf\\u03c1\\u03b2\\u03b7\\u03b3\\u03af\\u03b1\"]], \"hoverlabel\": {\"namelength\": 0}, \"hovertemplate\": \"\\u03a7\\u03ce\\u03c1\\u03b1=%{customdata[0]}<br>\\u0391\\u03c1\\u03b9\\u03b8\\u03bc\\u03cc\\u03c2 \\u039a\\u03c1\\u03bf\\u03c5\\u03c3\\u03bc\\u03ac\\u03c4\\u03c9\\u03bd=%{y}\", \"legendgroup\": \"\\u039d\\u03bf\\u03c1\\u03b2\\u03b7\\u03b3\\u03af\\u03b1\", \"line\": {\"color\": \"rgb(189,189,189)\", \"dash\": \"solid\", \"shape\": \"spline\"}, \"mode\": \"lines\", \"name\": \"\\u039d\\u03bf\\u03c1\\u03b2\\u03b7\\u03b3\\u03af\\u03b1\", \"showlegend\": true, \"type\": \"scatter\", \"xaxis\": \"x\", \"y\": [10, 12, 14, 14, 19, 23, 25, 32, 39, 44, 50, 59, 62, 71, 76, 89, 101, 108, 113, 119, 128], \"yaxis\": \"y\"}, {\"customdata\": [[\"\\u03a0\\u03b1\\u03ba\\u03b9\\u03c3\\u03c4\\u03ac\\u03bd\"], [\"\\u03a0\\u03b1\\u03ba\\u03b9\\u03c3\\u03c4\\u03ac\\u03bd\"], [\"\\u03a0\\u03b1\\u03ba\\u03b9\\u03c3\\u03c4\\u03ac\\u03bd\"], [\"\\u03a0\\u03b1\\u03ba\\u03b9\\u03c3\\u03c4\\u03ac\\u03bd\"], [\"\\u03a0\\u03b1\\u03ba\\u03b9\\u03c3\\u03c4\\u03ac\\u03bd\"], [\"\\u03a0\\u03b1\\u03ba\\u03b9\\u03c3\\u03c4\\u03ac\\u03bd\"], [\"\\u03a0\\u03b1\\u03ba\\u03b9\\u03c3\\u03c4\\u03ac\\u03bd\"], [\"\\u03a0\\u03b1\\u03ba\\u03b9\\u03c3\\u03c4\\u03ac\\u03bd\"], [\"\\u03a0\\u03b1\\u03ba\\u03b9\\u03c3\\u03c4\\u03ac\\u03bd\"], [\"\\u03a0\\u03b1\\u03ba\\u03b9\\u03c3\\u03c4\\u03ac\\u03bd\"], [\"\\u03a0\\u03b1\\u03ba\\u03b9\\u03c3\\u03c4\\u03ac\\u03bd\"], [\"\\u03a0\\u03b1\\u03ba\\u03b9\\u03c3\\u03c4\\u03ac\\u03bd\"], [\"\\u03a0\\u03b1\\u03ba\\u03b9\\u03c3\\u03c4\\u03ac\\u03bd\"], [\"\\u03a0\\u03b1\\u03ba\\u03b9\\u03c3\\u03c4\\u03ac\\u03bd\"], [\"\\u03a0\\u03b1\\u03ba\\u03b9\\u03c3\\u03c4\\u03ac\\u03bd\"], [\"\\u03a0\\u03b1\\u03ba\\u03b9\\u03c3\\u03c4\\u03ac\\u03bd\"], [\"\\u03a0\\u03b1\\u03ba\\u03b9\\u03c3\\u03c4\\u03ac\\u03bd\"]], \"hoverlabel\": {\"namelength\": 0}, \"hovertemplate\": \"\\u03a7\\u03ce\\u03c1\\u03b1=%{customdata[0]}<br>\\u0391\\u03c1\\u03b9\\u03b8\\u03bc\\u03cc\\u03c2 \\u039a\\u03c1\\u03bf\\u03c5\\u03c3\\u03bc\\u03ac\\u03c4\\u03c9\\u03bd=%{y}\", \"legendgroup\": \"\\u03a0\\u03b1\\u03ba\\u03b9\\u03c3\\u03c4\\u03ac\\u03bd\", \"line\": {\"color\": \"rgb(189,189,189)\", \"dash\": \"solid\", \"shape\": \"spline\"}, \"mode\": \"lines\", \"name\": \"\\u03a0\\u03b1\\u03ba\\u03b9\\u03c3\\u03c4\\u03ac\\u03bd\", \"showlegend\": true, \"type\": \"scatter\", \"xaxis\": \"x\", \"y\": [11, 12, 14, 21, 26, 27, 34, 40, 41, 47, 53, 57, 61, 65, 66, 86, 91], \"yaxis\": \"y\"}, {\"customdata\": [[\"\\u03a0\\u03b1\\u03bd\\u03b1\\u03bc\\u03ac\\u03c2\"], [\"\\u03a0\\u03b1\\u03bd\\u03b1\\u03bc\\u03ac\\u03c2\"], [\"\\u03a0\\u03b1\\u03bd\\u03b1\\u03bc\\u03ac\\u03c2\"], [\"\\u03a0\\u03b1\\u03bd\\u03b1\\u03bc\\u03ac\\u03c2\"], [\"\\u03a0\\u03b1\\u03bd\\u03b1\\u03bc\\u03ac\\u03c2\"], [\"\\u03a0\\u03b1\\u03bd\\u03b1\\u03bc\\u03ac\\u03c2\"], [\"\\u03a0\\u03b1\\u03bd\\u03b1\\u03bc\\u03ac\\u03c2\"], [\"\\u03a0\\u03b1\\u03bd\\u03b1\\u03bc\\u03ac\\u03c2\"], [\"\\u03a0\\u03b1\\u03bd\\u03b1\\u03bc\\u03ac\\u03c2\"], [\"\\u03a0\\u03b1\\u03bd\\u03b1\\u03bc\\u03ac\\u03c2\"], [\"\\u03a0\\u03b1\\u03bd\\u03b1\\u03bc\\u03ac\\u03c2\"], [\"\\u03a0\\u03b1\\u03bd\\u03b1\\u03bc\\u03ac\\u03c2\"], [\"\\u03a0\\u03b1\\u03bd\\u03b1\\u03bc\\u03ac\\u03c2\"], [\"\\u03a0\\u03b1\\u03bd\\u03b1\\u03bc\\u03ac\\u03c2\"], [\"\\u03a0\\u03b1\\u03bd\\u03b1\\u03bc\\u03ac\\u03c2\"], [\"\\u03a0\\u03b1\\u03bd\\u03b1\\u03bc\\u03ac\\u03c2\"]], \"hoverlabel\": {\"namelength\": 0}, \"hovertemplate\": \"\\u03a7\\u03ce\\u03c1\\u03b1=%{customdata[0]}<br>\\u0391\\u03c1\\u03b9\\u03b8\\u03bc\\u03cc\\u03c2 \\u039a\\u03c1\\u03bf\\u03c5\\u03c3\\u03bc\\u03ac\\u03c4\\u03c9\\u03bd=%{y}\", \"legendgroup\": \"\\u03a0\\u03b1\\u03bd\\u03b1\\u03bc\\u03ac\\u03c2\", \"line\": {\"color\": \"rgb(189,189,189)\", \"dash\": \"solid\", \"shape\": \"spline\"}, \"mode\": \"lines\", \"name\": \"\\u03a0\\u03b1\\u03bd\\u03b1\\u03bc\\u03ac\\u03c2\", \"showlegend\": true, \"type\": \"scatter\", \"xaxis\": \"x\", \"y\": [14, 17, 24, 30, 30, 32, 37, 41, 46, 54, 55, 59, 63, 66, 74, 79], \"yaxis\": \"y\"}, {\"customdata\": [[\"\\u03a0\\u03b5\\u03c1\\u03bf\\u03cd\"], [\"\\u03a0\\u03b5\\u03c1\\u03bf\\u03cd\"], [\"\\u03a0\\u03b5\\u03c1\\u03bf\\u03cd\"], [\"\\u03a0\\u03b5\\u03c1\\u03bf\\u03cd\"], [\"\\u03a0\\u03b5\\u03c1\\u03bf\\u03cd\"], [\"\\u03a0\\u03b5\\u03c1\\u03bf\\u03cd\"], [\"\\u03a0\\u03b5\\u03c1\\u03bf\\u03cd\"], [\"\\u03a0\\u03b5\\u03c1\\u03bf\\u03cd\"], [\"\\u03a0\\u03b5\\u03c1\\u03bf\\u03cd\"], [\"\\u03a0\\u03b5\\u03c1\\u03bf\\u03cd\"], [\"\\u03a0\\u03b5\\u03c1\\u03bf\\u03cd\"], [\"\\u03a0\\u03b5\\u03c1\\u03bf\\u03cd\"], [\"\\u03a0\\u03b5\\u03c1\\u03bf\\u03cd\"], [\"\\u03a0\\u03b5\\u03c1\\u03bf\\u03cd\"], [\"\\u03a0\\u03b5\\u03c1\\u03bf\\u03cd\"], [\"\\u03a0\\u03b5\\u03c1\\u03bf\\u03cd\"], [\"\\u03a0\\u03b5\\u03c1\\u03bf\\u03cd\"]], \"hoverlabel\": {\"namelength\": 0}, \"hovertemplate\": \"\\u03a7\\u03ce\\u03c1\\u03b1=%{customdata[0]}<br>\\u0391\\u03c1\\u03b9\\u03b8\\u03bc\\u03cc\\u03c2 \\u039a\\u03c1\\u03bf\\u03c5\\u03c3\\u03bc\\u03ac\\u03c4\\u03c9\\u03bd=%{y}\", \"legendgroup\": \"\\u03a0\\u03b5\\u03c1\\u03bf\\u03cd\", \"line\": {\"color\": \"rgb(189,189,189)\", \"dash\": \"solid\", \"shape\": \"spline\"}, \"mode\": \"lines\", \"name\": \"\\u03a0\\u03b5\\u03c1\\u03bf\\u03cd\", \"showlegend\": true, \"type\": \"scatter\", \"xaxis\": \"x\", \"y\": [11, 16, 18, 24, 30, 38, 55, 61, 73, 83, 92, 107, 121, 138, 169, 181, 193], \"yaxis\": \"y\"}, {\"customdata\": [[\"\\u03a6\\u03b9\\u03bb\\u03b9\\u03c0\\u03c0\\u03af\\u03bd\\u03b5\\u03c2\"], [\"\\u03a6\\u03b9\\u03bb\\u03b9\\u03c0\\u03c0\\u03af\\u03bd\\u03b5\\u03c2\"], [\"\\u03a6\\u03b9\\u03bb\\u03b9\\u03c0\\u03c0\\u03af\\u03bd\\u03b5\\u03c2\"], [\"\\u03a6\\u03b9\\u03bb\\u03b9\\u03c0\\u03c0\\u03af\\u03bd\\u03b5\\u03c2\"], [\"\\u03a6\\u03b9\\u03bb\\u03b9\\u03c0\\u03c0\\u03af\\u03bd\\u03b5\\u03c2\"], [\"\\u03a6\\u03b9\\u03bb\\u03b9\\u03c0\\u03c0\\u03af\\u03bd\\u03b5\\u03c2\"], [\"\\u03a6\\u03b9\\u03bb\\u03b9\\u03c0\\u03c0\\u03af\\u03bd\\u03b5\\u03c2\"], [\"\\u03a6\\u03b9\\u03bb\\u03b9\\u03c0\\u03c0\\u03af\\u03bd\\u03b5\\u03c2\"], [\"\\u03a6\\u03b9\\u03bb\\u03b9\\u03c0\\u03c0\\u03af\\u03bd\\u03b5\\u03c2\"], [\"\\u03a6\\u03b9\\u03bb\\u03b9\\u03c0\\u03c0\\u03af\\u03bd\\u03b5\\u03c2\"], [\"\\u03a6\\u03b9\\u03bb\\u03b9\\u03c0\\u03c0\\u03af\\u03bd\\u03b5\\u03c2\"], [\"\\u03a6\\u03b9\\u03bb\\u03b9\\u03c0\\u03c0\\u03af\\u03bd\\u03b5\\u03c2\"], [\"\\u03a6\\u03b9\\u03bb\\u03b9\\u03c0\\u03c0\\u03af\\u03bd\\u03b5\\u03c2\"], [\"\\u03a6\\u03b9\\u03bb\\u03b9\\u03c0\\u03c0\\u03af\\u03bd\\u03b5\\u03c2\"], [\"\\u03a6\\u03b9\\u03bb\\u03b9\\u03c0\\u03c0\\u03af\\u03bd\\u03b5\\u03c2\"], [\"\\u03a6\\u03b9\\u03bb\\u03b9\\u03c0\\u03c0\\u03af\\u03bd\\u03b5\\u03c2\"], [\"\\u03a6\\u03b9\\u03bb\\u03b9\\u03c0\\u03c0\\u03af\\u03bd\\u03b5\\u03c2\"], [\"\\u03a6\\u03b9\\u03bb\\u03b9\\u03c0\\u03c0\\u03af\\u03bd\\u03b5\\u03c2\"], [\"\\u03a6\\u03b9\\u03bb\\u03b9\\u03c0\\u03c0\\u03af\\u03bd\\u03b5\\u03c2\"], [\"\\u03a6\\u03b9\\u03bb\\u03b9\\u03c0\\u03c0\\u03af\\u03bd\\u03b5\\u03c2\"], [\"\\u03a6\\u03b9\\u03bb\\u03b9\\u03c0\\u03c0\\u03af\\u03bd\\u03b5\\u03c2\"], [\"\\u03a6\\u03b9\\u03bb\\u03b9\\u03c0\\u03c0\\u03af\\u03bd\\u03b5\\u03c2\"], [\"\\u03a6\\u03b9\\u03bb\\u03b9\\u03c0\\u03c0\\u03af\\u03bd\\u03b5\\u03c2\"], [\"\\u03a6\\u03b9\\u03bb\\u03b9\\u03c0\\u03c0\\u03af\\u03bd\\u03b5\\u03c2\"], [\"\\u03a6\\u03b9\\u03bb\\u03b9\\u03c0\\u03c0\\u03af\\u03bd\\u03b5\\u03c2\"], [\"\\u03a6\\u03b9\\u03bb\\u03b9\\u03c0\\u03c0\\u03af\\u03bd\\u03b5\\u03c2\"], [\"\\u03a6\\u03b9\\u03bb\\u03b9\\u03c0\\u03c0\\u03af\\u03bd\\u03b5\\u03c2\"], [\"\\u03a6\\u03b9\\u03bb\\u03b9\\u03c0\\u03c0\\u03af\\u03bd\\u03b5\\u03c2\"], [\"\\u03a6\\u03b9\\u03bb\\u03b9\\u03c0\\u03c0\\u03af\\u03bd\\u03b5\\u03c2\"]], \"hoverlabel\": {\"namelength\": 0}, \"hovertemplate\": \"\\u03a7\\u03ce\\u03c1\\u03b1=%{customdata[0]}<br>\\u0391\\u03c1\\u03b9\\u03b8\\u03bc\\u03cc\\u03c2 \\u039a\\u03c1\\u03bf\\u03c5\\u03c3\\u03bc\\u03ac\\u03c4\\u03c9\\u03bd=%{y}\", \"legendgroup\": \"\\u03a6\\u03b9\\u03bb\\u03b9\\u03c0\\u03c0\\u03af\\u03bd\\u03b5\\u03c2\", \"line\": {\"color\": \"rgb(189,189,189)\", \"dash\": \"solid\", \"shape\": \"spline\"}, \"mode\": \"lines\", \"name\": \"\\u03a6\\u03b9\\u03bb\\u03b9\\u03c0\\u03c0\\u03af\\u03bd\\u03b5\\u03c2\", \"showlegend\": true, \"type\": \"scatter\", \"xaxis\": \"x\", \"y\": [11, 12, 12, 19, 17, 18, 19, 25, 33, 35, 38, 45, 54, 68, 71, 78, 88, 96, 107, 136, 144, 152, 163, 177, 182, 203, 221, 247, 297], \"yaxis\": \"y\"}, {\"customdata\": [[\"\\u03a0\\u03bf\\u03bb\\u03c9\\u03bd\\u03af\\u03b1\"], [\"\\u03a0\\u03bf\\u03bb\\u03c9\\u03bd\\u03af\\u03b1\"], [\"\\u03a0\\u03bf\\u03bb\\u03c9\\u03bd\\u03af\\u03b1\"], [\"\\u03a0\\u03bf\\u03bb\\u03c9\\u03bd\\u03af\\u03b1\"], [\"\\u03a0\\u03bf\\u03bb\\u03c9\\u03bd\\u03af\\u03b1\"], [\"\\u03a0\\u03bf\\u03bb\\u03c9\\u03bd\\u03af\\u03b1\"], [\"\\u03a0\\u03bf\\u03bb\\u03c9\\u03bd\\u03af\\u03b1\"], [\"\\u03a0\\u03bf\\u03bb\\u03c9\\u03bd\\u03af\\u03b1\"], [\"\\u03a0\\u03bf\\u03bb\\u03c9\\u03bd\\u03af\\u03b1\"], [\"\\u03a0\\u03bf\\u03bb\\u03c9\\u03bd\\u03af\\u03b1\"], [\"\\u03a0\\u03bf\\u03bb\\u03c9\\u03bd\\u03af\\u03b1\"], [\"\\u03a0\\u03bf\\u03bb\\u03c9\\u03bd\\u03af\\u03b1\"], [\"\\u03a0\\u03bf\\u03bb\\u03c9\\u03bd\\u03af\\u03b1\"], [\"\\u03a0\\u03bf\\u03bb\\u03c9\\u03bd\\u03af\\u03b1\"], [\"\\u03a0\\u03bf\\u03bb\\u03c9\\u03bd\\u03af\\u03b1\"], [\"\\u03a0\\u03bf\\u03bb\\u03c9\\u03bd\\u03af\\u03b1\"], [\"\\u03a0\\u03bf\\u03bb\\u03c9\\u03bd\\u03af\\u03b1\"], [\"\\u03a0\\u03bf\\u03bb\\u03c9\\u03bd\\u03af\\u03b1\"], [\"\\u03a0\\u03bf\\u03bb\\u03c9\\u03bd\\u03af\\u03b1\"], [\"\\u03a0\\u03bf\\u03bb\\u03c9\\u03bd\\u03af\\u03b1\"]], \"hoverlabel\": {\"namelength\": 0}, \"hovertemplate\": \"\\u03a7\\u03ce\\u03c1\\u03b1=%{customdata[0]}<br>\\u0391\\u03c1\\u03b9\\u03b8\\u03bc\\u03cc\\u03c2 \\u039a\\u03c1\\u03bf\\u03c5\\u03c3\\u03bc\\u03ac\\u03c4\\u03c9\\u03bd=%{y}\", \"legendgroup\": \"\\u03a0\\u03bf\\u03bb\\u03c9\\u03bd\\u03af\\u03b1\", \"line\": {\"color\": \"rgb(189,189,189)\", \"dash\": \"solid\", \"shape\": \"spline\"}, \"mode\": \"lines\", \"name\": \"\\u03a0\\u03bf\\u03bb\\u03c9\\u03bd\\u03af\\u03b1\", \"showlegend\": true, \"type\": \"scatter\", \"xaxis\": \"x\", \"y\": [10, 14, 16, 16, 18, 22, 31, 33, 43, 57, 71, 79, 94, 107, 129, 159, 174, 181, 208, 232], \"yaxis\": \"y\"}, {\"customdata\": [[\"\\u03a0\\u03bf\\u03c1\\u03c4\\u03bf\\u03b3\\u03b1\\u03bb\\u03af\\u03b1\"], [\"\\u03a0\\u03bf\\u03c1\\u03c4\\u03bf\\u03b3\\u03b1\\u03bb\\u03af\\u03b1\"], [\"\\u03a0\\u03bf\\u03c1\\u03c4\\u03bf\\u03b3\\u03b1\\u03bb\\u03af\\u03b1\"], [\"\\u03a0\\u03bf\\u03c1\\u03c4\\u03bf\\u03b3\\u03b1\\u03bb\\u03af\\u03b1\"], [\"\\u03a0\\u03bf\\u03c1\\u03c4\\u03bf\\u03b3\\u03b1\\u03bb\\u03af\\u03b1\"], [\"\\u03a0\\u03bf\\u03c1\\u03c4\\u03bf\\u03b3\\u03b1\\u03bb\\u03af\\u03b1\"], [\"\\u03a0\\u03bf\\u03c1\\u03c4\\u03bf\\u03b3\\u03b1\\u03bb\\u03af\\u03b1\"], [\"\\u03a0\\u03bf\\u03c1\\u03c4\\u03bf\\u03b3\\u03b1\\u03bb\\u03af\\u03b1\"], [\"\\u03a0\\u03bf\\u03c1\\u03c4\\u03bf\\u03b3\\u03b1\\u03bb\\u03af\\u03b1\"], [\"\\u03a0\\u03bf\\u03c1\\u03c4\\u03bf\\u03b3\\u03b1\\u03bb\\u03af\\u03b1\"], [\"\\u03a0\\u03bf\\u03c1\\u03c4\\u03bf\\u03b3\\u03b1\\u03bb\\u03af\\u03b1\"], [\"\\u03a0\\u03bf\\u03c1\\u03c4\\u03bf\\u03b3\\u03b1\\u03bb\\u03af\\u03b1\"], [\"\\u03a0\\u03bf\\u03c1\\u03c4\\u03bf\\u03b3\\u03b1\\u03bb\\u03af\\u03b1\"], [\"\\u03a0\\u03bf\\u03c1\\u03c4\\u03bf\\u03b3\\u03b1\\u03bb\\u03af\\u03b1\"], [\"\\u03a0\\u03bf\\u03c1\\u03c4\\u03bf\\u03b3\\u03b1\\u03bb\\u03af\\u03b1\"], [\"\\u03a0\\u03bf\\u03c1\\u03c4\\u03bf\\u03b3\\u03b1\\u03bb\\u03af\\u03b1\"], [\"\\u03a0\\u03bf\\u03c1\\u03c4\\u03bf\\u03b3\\u03b1\\u03bb\\u03af\\u03b1\"], [\"\\u03a0\\u03bf\\u03c1\\u03c4\\u03bf\\u03b3\\u03b1\\u03bb\\u03af\\u03b1\"], [\"\\u03a0\\u03bf\\u03c1\\u03c4\\u03bf\\u03b3\\u03b1\\u03bb\\u03af\\u03b1\"], [\"\\u03a0\\u03bf\\u03c1\\u03c4\\u03bf\\u03b3\\u03b1\\u03bb\\u03af\\u03b1\"], [\"\\u03a0\\u03bf\\u03c1\\u03c4\\u03bf\\u03b3\\u03b1\\u03bb\\u03af\\u03b1\"], [\"\\u03a0\\u03bf\\u03c1\\u03c4\\u03bf\\u03b3\\u03b1\\u03bb\\u03af\\u03b1\"], [\"\\u03a0\\u03bf\\u03c1\\u03c4\\u03bf\\u03b3\\u03b1\\u03bb\\u03af\\u03b1\"]], \"hoverlabel\": {\"namelength\": 0}, \"hovertemplate\": \"\\u03a7\\u03ce\\u03c1\\u03b1=%{customdata[0]}<br>\\u0391\\u03c1\\u03b9\\u03b8\\u03bc\\u03cc\\u03c2 \\u039a\\u03c1\\u03bf\\u03c5\\u03c3\\u03bc\\u03ac\\u03c4\\u03c9\\u03bd=%{y}\", \"legendgroup\": \"\\u03a0\\u03bf\\u03c1\\u03c4\\u03bf\\u03b3\\u03b1\\u03bb\\u03af\\u03b1\", \"line\": {\"color\": \"rgb(189,189,189)\", \"dash\": \"solid\", \"shape\": \"spline\"}, \"mode\": \"lines\", \"name\": \"\\u03a0\\u03bf\\u03c1\\u03c4\\u03bf\\u03b3\\u03b1\\u03bb\\u03af\\u03b1\", \"showlegend\": true, \"type\": \"scatter\", \"xaxis\": \"x\", \"y\": [12, 14, 23, 33, 43, 60, 76, 100, 119, 140, 160, 187, 209, 246, 266, 295, 311, 345, 380, 409, 435, 470, 504], \"yaxis\": \"y\"}, {\"customdata\": [[\"\\u03a1\\u03bf\\u03c5\\u03bc\\u03b1\\u03bd\\u03af\\u03b1\"], [\"\\u03a1\\u03bf\\u03c5\\u03bc\\u03b1\\u03bd\\u03af\\u03b1\"], [\"\\u03a1\\u03bf\\u03c5\\u03bc\\u03b1\\u03bd\\u03af\\u03b1\"], [\"\\u03a1\\u03bf\\u03c5\\u03bc\\u03b1\\u03bd\\u03af\\u03b1\"], [\"\\u03a1\\u03bf\\u03c5\\u03bc\\u03b1\\u03bd\\u03af\\u03b1\"], [\"\\u03a1\\u03bf\\u03c5\\u03bc\\u03b1\\u03bd\\u03af\\u03b1\"], [\"\\u03a1\\u03bf\\u03c5\\u03bc\\u03b1\\u03bd\\u03af\\u03b1\"], [\"\\u03a1\\u03bf\\u03c5\\u03bc\\u03b1\\u03bd\\u03af\\u03b1\"], [\"\\u03a1\\u03bf\\u03c5\\u03bc\\u03b1\\u03bd\\u03af\\u03b1\"], [\"\\u03a1\\u03bf\\u03c5\\u03bc\\u03b1\\u03bd\\u03af\\u03b1\"], [\"\\u03a1\\u03bf\\u03c5\\u03bc\\u03b1\\u03bd\\u03af\\u03b1\"], [\"\\u03a1\\u03bf\\u03c5\\u03bc\\u03b1\\u03bd\\u03af\\u03b1\"], [\"\\u03a1\\u03bf\\u03c5\\u03bc\\u03b1\\u03bd\\u03af\\u03b1\"], [\"\\u03a1\\u03bf\\u03c5\\u03bc\\u03b1\\u03bd\\u03af\\u03b1\"], [\"\\u03a1\\u03bf\\u03c5\\u03bc\\u03b1\\u03bd\\u03af\\u03b1\"], [\"\\u03a1\\u03bf\\u03c5\\u03bc\\u03b1\\u03bd\\u03af\\u03b1\"], [\"\\u03a1\\u03bf\\u03c5\\u03bc\\u03b1\\u03bd\\u03af\\u03b1\"], [\"\\u03a1\\u03bf\\u03c5\\u03bc\\u03b1\\u03bd\\u03af\\u03b1\"], [\"\\u03a1\\u03bf\\u03c5\\u03bc\\u03b1\\u03bd\\u03af\\u03b1\"], [\"\\u03a1\\u03bf\\u03c5\\u03bc\\u03b1\\u03bd\\u03af\\u03b1\"]], \"hoverlabel\": {\"namelength\": 0}, \"hovertemplate\": \"\\u03a7\\u03ce\\u03c1\\u03b1=%{customdata[0]}<br>\\u0391\\u03c1\\u03b9\\u03b8\\u03bc\\u03cc\\u03c2 \\u039a\\u03c1\\u03bf\\u03c5\\u03c3\\u03bc\\u03ac\\u03c4\\u03c9\\u03bd=%{y}\", \"legendgroup\": \"\\u03a1\\u03bf\\u03c5\\u03bc\\u03b1\\u03bd\\u03af\\u03b1\", \"line\": {\"color\": \"rgb(189,189,189)\", \"dash\": \"solid\", \"shape\": \"spline\"}, \"mode\": \"lines\", \"name\": \"\\u03a1\\u03bf\\u03c5\\u03bc\\u03b1\\u03bd\\u03af\\u03b1\", \"showlegend\": true, \"type\": \"scatter\", \"xaxis\": \"x\", \"y\": [11, 17, 23, 26, 37, 43, 65, 82, 92, 115, 133, 146, 151, 176, 197, 220, 248, 270, 291, 316], \"yaxis\": \"y\"}, {\"customdata\": [[\"\\u03a1\\u03c9\\u03c3\\u03af\\u03b1\"], [\"\\u03a1\\u03c9\\u03c3\\u03af\\u03b1\"], [\"\\u03a1\\u03c9\\u03c3\\u03af\\u03b1\"], [\"\\u03a1\\u03c9\\u03c3\\u03af\\u03b1\"], [\"\\u03a1\\u03c9\\u03c3\\u03af\\u03b1\"], [\"\\u03a1\\u03c9\\u03c3\\u03af\\u03b1\"], [\"\\u03a1\\u03c9\\u03c3\\u03af\\u03b1\"], [\"\\u03a1\\u03c9\\u03c3\\u03af\\u03b1\"], [\"\\u03a1\\u03c9\\u03c3\\u03af\\u03b1\"], [\"\\u03a1\\u03c9\\u03c3\\u03af\\u03b1\"], [\"\\u03a1\\u03c9\\u03c3\\u03af\\u03b1\"], [\"\\u03a1\\u03c9\\u03c3\\u03af\\u03b1\"], [\"\\u03a1\\u03c9\\u03c3\\u03af\\u03b1\"]], \"hoverlabel\": {\"namelength\": 0}, \"hovertemplate\": \"\\u03a7\\u03ce\\u03c1\\u03b1=%{customdata[0]}<br>\\u0391\\u03c1\\u03b9\\u03b8\\u03bc\\u03cc\\u03c2 \\u039a\\u03c1\\u03bf\\u03c5\\u03c3\\u03bc\\u03ac\\u03c4\\u03c9\\u03bd=%{y}\", \"legendgroup\": \"\\u03a1\\u03c9\\u03c3\\u03af\\u03b1\", \"line\": {\"color\": \"rgb(189,189,189)\", \"dash\": \"solid\", \"shape\": \"spline\"}, \"mode\": \"lines\", \"name\": \"\\u03a1\\u03c9\\u03c3\\u03af\\u03b1\", \"showlegend\": true, \"type\": \"scatter\", \"xaxis\": \"x\", \"y\": [17, 24, 30, 34, 43, 45, 47, 58, 63, 76, 94, 106, 130], \"yaxis\": \"y\"}, {\"customdata\": [[\"\\u0386\\u03b3. \\u039c\\u03b1\\u03c1\\u03af\\u03bd\\u03bf\\u03c2\"], [\"\\u0386\\u03b3. \\u039c\\u03b1\\u03c1\\u03af\\u03bd\\u03bf\\u03c2\"], [\"\\u0386\\u03b3. \\u039c\\u03b1\\u03c1\\u03af\\u03bd\\u03bf\\u03c2\"], [\"\\u0386\\u03b3. \\u039c\\u03b1\\u03c1\\u03af\\u03bd\\u03bf\\u03c2\"], [\"\\u0386\\u03b3. \\u039c\\u03b1\\u03c1\\u03af\\u03bd\\u03bf\\u03c2\"], [\"\\u0386\\u03b3. \\u039c\\u03b1\\u03c1\\u03af\\u03bd\\u03bf\\u03c2\"], [\"\\u0386\\u03b3. \\u039c\\u03b1\\u03c1\\u03af\\u03bd\\u03bf\\u03c2\"], [\"\\u0386\\u03b3. \\u039c\\u03b1\\u03c1\\u03af\\u03bd\\u03bf\\u03c2\"], [\"\\u0386\\u03b3. \\u039c\\u03b1\\u03c1\\u03af\\u03bd\\u03bf\\u03c2\"], [\"\\u0386\\u03b3. \\u039c\\u03b1\\u03c1\\u03af\\u03bd\\u03bf\\u03c2\"], [\"\\u0386\\u03b3. \\u039c\\u03b1\\u03c1\\u03af\\u03bd\\u03bf\\u03c2\"], [\"\\u0386\\u03b3. \\u039c\\u03b1\\u03c1\\u03af\\u03bd\\u03bf\\u03c2\"], [\"\\u0386\\u03b3. \\u039c\\u03b1\\u03c1\\u03af\\u03bd\\u03bf\\u03c2\"], [\"\\u0386\\u03b3. \\u039c\\u03b1\\u03c1\\u03af\\u03bd\\u03bf\\u03c2\"], [\"\\u0386\\u03b3. \\u039c\\u03b1\\u03c1\\u03af\\u03bd\\u03bf\\u03c2\"], [\"\\u0386\\u03b3. \\u039c\\u03b1\\u03c1\\u03af\\u03bd\\u03bf\\u03c2\"], [\"\\u0386\\u03b3. \\u039c\\u03b1\\u03c1\\u03af\\u03bd\\u03bf\\u03c2\"], [\"\\u0386\\u03b3. \\u039c\\u03b1\\u03c1\\u03af\\u03bd\\u03bf\\u03c2\"], [\"\\u0386\\u03b3. \\u039c\\u03b1\\u03c1\\u03af\\u03bd\\u03bf\\u03c2\"], [\"\\u0386\\u03b3. \\u039c\\u03b1\\u03c1\\u03af\\u03bd\\u03bf\\u03c2\"], [\"\\u0386\\u03b3. \\u039c\\u03b1\\u03c1\\u03af\\u03bd\\u03bf\\u03c2\"], [\"\\u0386\\u03b3. \\u039c\\u03b1\\u03c1\\u03af\\u03bd\\u03bf\\u03c2\"], [\"\\u0386\\u03b3. \\u039c\\u03b1\\u03c1\\u03af\\u03bd\\u03bf\\u03c2\"], [\"\\u0386\\u03b3. \\u039c\\u03b1\\u03c1\\u03af\\u03bd\\u03bf\\u03c2\"], [\"\\u0386\\u03b3. \\u039c\\u03b1\\u03c1\\u03af\\u03bd\\u03bf\\u03c2\"], [\"\\u0386\\u03b3. \\u039c\\u03b1\\u03c1\\u03af\\u03bd\\u03bf\\u03c2\"]], \"hoverlabel\": {\"namelength\": 0}, \"hovertemplate\": \"\\u03a7\\u03ce\\u03c1\\u03b1=%{customdata[0]}<br>\\u0391\\u03c1\\u03b9\\u03b8\\u03bc\\u03cc\\u03c2 \\u039a\\u03c1\\u03bf\\u03c5\\u03c3\\u03bc\\u03ac\\u03c4\\u03c9\\u03bd=%{y}\", \"legendgroup\": \"\\u0386\\u03b3. \\u039c\\u03b1\\u03c1\\u03af\\u03bd\\u03bf\\u03c2\", \"line\": {\"color\": \"rgb(189,189,189)\", \"dash\": \"solid\", \"shape\": \"spline\"}, \"mode\": \"lines\", \"name\": \"\\u0386\\u03b3. \\u039c\\u03b1\\u03c1\\u03af\\u03bd\\u03bf\\u03c2\", \"showlegend\": true, \"type\": \"scatter\", \"xaxis\": \"x\", \"y\": [11, 11, 14, 20, 20, 20, 21, 21, 21, 21, 22, 22, 25, 26, 26, 30, 30, 32, 32, 32, 34, 34, 34, 34, 35, 35], \"yaxis\": \"y\"}, {\"customdata\": [[\"\\u03a3\\u03b1\\u03bf\\u03c5\\u03b4\\u03b9\\u03ba\\u03ae \\u0391\\u03c1\\u03b1\\u03b2\\u03af\\u03b1\"], [\"\\u03a3\\u03b1\\u03bf\\u03c5\\u03b4\\u03b9\\u03ba\\u03ae \\u0391\\u03c1\\u03b1\\u03b2\\u03af\\u03b1\"], [\"\\u03a3\\u03b1\\u03bf\\u03c5\\u03b4\\u03b9\\u03ba\\u03ae \\u0391\\u03c1\\u03b1\\u03b2\\u03af\\u03b1\"], [\"\\u03a3\\u03b1\\u03bf\\u03c5\\u03b4\\u03b9\\u03ba\\u03ae \\u0391\\u03c1\\u03b1\\u03b2\\u03af\\u03b1\"], [\"\\u03a3\\u03b1\\u03bf\\u03c5\\u03b4\\u03b9\\u03ba\\u03ae \\u0391\\u03c1\\u03b1\\u03b2\\u03af\\u03b1\"], [\"\\u03a3\\u03b1\\u03bf\\u03c5\\u03b4\\u03b9\\u03ba\\u03ae \\u0391\\u03c1\\u03b1\\u03b2\\u03af\\u03b1\"], [\"\\u03a3\\u03b1\\u03bf\\u03c5\\u03b4\\u03b9\\u03ba\\u03ae \\u0391\\u03c1\\u03b1\\u03b2\\u03af\\u03b1\"], [\"\\u03a3\\u03b1\\u03bf\\u03c5\\u03b4\\u03b9\\u03ba\\u03ae \\u0391\\u03c1\\u03b1\\u03b2\\u03af\\u03b1\"], [\"\\u03a3\\u03b1\\u03bf\\u03c5\\u03b4\\u03b9\\u03ba\\u03ae \\u0391\\u03c1\\u03b1\\u03b2\\u03af\\u03b1\"], [\"\\u03a3\\u03b1\\u03bf\\u03c5\\u03b4\\u03b9\\u03ba\\u03ae \\u0391\\u03c1\\u03b1\\u03b2\\u03af\\u03b1\"], [\"\\u03a3\\u03b1\\u03bf\\u03c5\\u03b4\\u03b9\\u03ba\\u03ae \\u0391\\u03c1\\u03b1\\u03b2\\u03af\\u03b1\"], [\"\\u03a3\\u03b1\\u03bf\\u03c5\\u03b4\\u03b9\\u03ba\\u03ae \\u0391\\u03c1\\u03b1\\u03b2\\u03af\\u03b1\"], [\"\\u03a3\\u03b1\\u03bf\\u03c5\\u03b4\\u03b9\\u03ba\\u03ae \\u0391\\u03c1\\u03b1\\u03b2\\u03af\\u03b1\"]], \"hoverlabel\": {\"namelength\": 0}, \"hovertemplate\": \"\\u03a7\\u03ce\\u03c1\\u03b1=%{customdata[0]}<br>\\u0391\\u03c1\\u03b9\\u03b8\\u03bc\\u03cc\\u03c2 \\u039a\\u03c1\\u03bf\\u03c5\\u03c3\\u03bc\\u03ac\\u03c4\\u03c9\\u03bd=%{y}\", \"legendgroup\": \"\\u03a3\\u03b1\\u03bf\\u03c5\\u03b4\\u03b9\\u03ba\\u03ae \\u0391\\u03c1\\u03b1\\u03b2\\u03af\\u03b1\", \"line\": {\"color\": \"rgb(189,189,189)\", \"dash\": \"solid\", \"shape\": \"spline\"}, \"mode\": \"lines\", \"name\": \"\\u03a3\\u03b1\\u03bf\\u03c5\\u03b4\\u03b9\\u03ba\\u03ae \\u0391\\u03c1\\u03b1\\u03b2\\u03af\\u03b1\", \"showlegend\": true, \"type\": \"scatter\", \"xaxis\": \"x\", \"y\": [10, 16, 21, 25, 29, 34, 38, 41, 41, 44, 47, 52, 59], \"yaxis\": \"y\"}, {\"customdata\": [[\"\\u03a3\\u03b5\\u03c1\\u03b2\\u03af\\u03b1\"], [\"\\u03a3\\u03b5\\u03c1\\u03b2\\u03af\\u03b1\"], [\"\\u03a3\\u03b5\\u03c1\\u03b2\\u03af\\u03b1\"], [\"\\u03a3\\u03b5\\u03c1\\u03b2\\u03af\\u03b1\"], [\"\\u03a3\\u03b5\\u03c1\\u03b2\\u03af\\u03b1\"], [\"\\u03a3\\u03b5\\u03c1\\u03b2\\u03af\\u03b1\"], [\"\\u03a3\\u03b5\\u03c1\\u03b2\\u03af\\u03b1\"], [\"\\u03a3\\u03b5\\u03c1\\u03b2\\u03af\\u03b1\"], [\"\\u03a3\\u03b5\\u03c1\\u03b2\\u03af\\u03b1\"], [\"\\u03a3\\u03b5\\u03c1\\u03b2\\u03af\\u03b1\"], [\"\\u03a3\\u03b5\\u03c1\\u03b2\\u03af\\u03b1\"], [\"\\u03a3\\u03b5\\u03c1\\u03b2\\u03af\\u03b1\"], [\"\\u03a3\\u03b5\\u03c1\\u03b2\\u03af\\u03b1\"], [\"\\u03a3\\u03b5\\u03c1\\u03b2\\u03af\\u03b1\"], [\"\\u03a3\\u03b5\\u03c1\\u03b2\\u03af\\u03b1\"], [\"\\u03a3\\u03b5\\u03c1\\u03b2\\u03af\\u03b1\"]], \"hoverlabel\": {\"namelength\": 0}, \"hovertemplate\": \"\\u03a7\\u03ce\\u03c1\\u03b1=%{customdata[0]}<br>\\u0391\\u03c1\\u03b9\\u03b8\\u03bc\\u03cc\\u03c2 \\u039a\\u03c1\\u03bf\\u03c5\\u03c3\\u03bc\\u03ac\\u03c4\\u03c9\\u03bd=%{y}\", \"legendgroup\": \"\\u03a3\\u03b5\\u03c1\\u03b2\\u03af\\u03b1\", \"line\": {\"color\": \"rgb(189,189,189)\", \"dash\": \"solid\", \"shape\": \"spline\"}, \"mode\": \"lines\", \"name\": \"\\u03a3\\u03b5\\u03c1\\u03b2\\u03af\\u03b1\", \"showlegend\": true, \"type\": \"scatter\", \"xaxis\": \"x\", \"y\": [10, 13, 16, 16, 28, 31, 39, 44, 51, 58, 61, 65, 66, 71, 74, 80], \"yaxis\": \"y\"}, {\"customdata\": [[\"\\u03a3\\u03bb\\u03bf\\u03b2\\u03b5\\u03bd\\u03af\\u03b1\"], [\"\\u03a3\\u03bb\\u03bf\\u03b2\\u03b5\\u03bd\\u03af\\u03b1\"], [\"\\u03a3\\u03bb\\u03bf\\u03b2\\u03b5\\u03bd\\u03af\\u03b1\"], [\"\\u03a3\\u03bb\\u03bf\\u03b2\\u03b5\\u03bd\\u03af\\u03b1\"], [\"\\u03a3\\u03bb\\u03bf\\u03b2\\u03b5\\u03bd\\u03af\\u03b1\"], [\"\\u03a3\\u03bb\\u03bf\\u03b2\\u03b5\\u03bd\\u03af\\u03b1\"], [\"\\u03a3\\u03bb\\u03bf\\u03b2\\u03b5\\u03bd\\u03af\\u03b1\"], [\"\\u03a3\\u03bb\\u03bf\\u03b2\\u03b5\\u03bd\\u03af\\u03b1\"], [\"\\u03a3\\u03bb\\u03bf\\u03b2\\u03b5\\u03bd\\u03af\\u03b1\"], [\"\\u03a3\\u03bb\\u03bf\\u03b2\\u03b5\\u03bd\\u03af\\u03b1\"], [\"\\u03a3\\u03bb\\u03bf\\u03b2\\u03b5\\u03bd\\u03af\\u03b1\"], [\"\\u03a3\\u03bb\\u03bf\\u03b2\\u03b5\\u03bd\\u03af\\u03b1\"], [\"\\u03a3\\u03bb\\u03bf\\u03b2\\u03b5\\u03bd\\u03af\\u03b1\"], [\"\\u03a3\\u03bb\\u03bf\\u03b2\\u03b5\\u03bd\\u03af\\u03b1\"], [\"\\u03a3\\u03bb\\u03bf\\u03b2\\u03b5\\u03bd\\u03af\\u03b1\"]], \"hoverlabel\": {\"namelength\": 0}, \"hovertemplate\": \"\\u03a7\\u03ce\\u03c1\\u03b1=%{customdata[0]}<br>\\u0391\\u03c1\\u03b9\\u03b8\\u03bc\\u03cc\\u03c2 \\u039a\\u03c1\\u03bf\\u03c5\\u03c3\\u03bc\\u03ac\\u03c4\\u03c9\\u03bd=%{y}\", \"legendgroup\": \"\\u03a3\\u03bb\\u03bf\\u03b2\\u03b5\\u03bd\\u03af\\u03b1\", \"line\": {\"color\": \"rgb(189,189,189)\", \"dash\": \"solid\", \"shape\": \"spline\"}, \"mode\": \"lines\", \"name\": \"\\u03a3\\u03bb\\u03bf\\u03b2\\u03b5\\u03bd\\u03af\\u03b1\", \"showlegend\": true, \"type\": \"scatter\", \"xaxis\": \"x\", \"y\": [11, 11, 15, 15, 17, 20, 22, 28, 30, 36, 40, 43, 45, 50, 53], \"yaxis\": \"y\"}, {\"customdata\": [[\"\\u039d\\u03cc\\u03c4\\u03b9\\u03b1 \\u0391\\u03c6\\u03c1\\u03b9\\u03ba\\u03ae\"], [\"\\u039d\\u03cc\\u03c4\\u03b9\\u03b1 \\u0391\\u03c6\\u03c1\\u03b9\\u03ba\\u03ae\"], [\"\\u039d\\u03cc\\u03c4\\u03b9\\u03b1 \\u0391\\u03c6\\u03c1\\u03b9\\u03ba\\u03ae\"], [\"\\u039d\\u03cc\\u03c4\\u03b9\\u03b1 \\u0391\\u03c6\\u03c1\\u03b9\\u03ba\\u03ae\"], [\"\\u039d\\u03cc\\u03c4\\u03b9\\u03b1 \\u0391\\u03c6\\u03c1\\u03b9\\u03ba\\u03ae\"], [\"\\u039d\\u03cc\\u03c4\\u03b9\\u03b1 \\u0391\\u03c6\\u03c1\\u03b9\\u03ba\\u03ae\"], [\"\\u039d\\u03cc\\u03c4\\u03b9\\u03b1 \\u0391\\u03c6\\u03c1\\u03b9\\u03ba\\u03ae\"], [\"\\u039d\\u03cc\\u03c4\\u03b9\\u03b1 \\u0391\\u03c6\\u03c1\\u03b9\\u03ba\\u03ae\"]], \"hoverlabel\": {\"namelength\": 0}, \"hovertemplate\": \"\\u03a7\\u03ce\\u03c1\\u03b1=%{customdata[0]}<br>\\u0391\\u03c1\\u03b9\\u03b8\\u03bc\\u03cc\\u03c2 \\u039a\\u03c1\\u03bf\\u03c5\\u03c3\\u03bc\\u03ac\\u03c4\\u03c9\\u03bd=%{y}\", \"legendgroup\": \"\\u039d\\u03cc\\u03c4\\u03b9\\u03b1 \\u0391\\u03c6\\u03c1\\u03b9\\u03ba\\u03ae\", \"line\": {\"color\": \"rgb(189,189,189)\", \"dash\": \"solid\", \"shape\": \"spline\"}, \"mode\": \"lines\", \"name\": \"\\u039d\\u03cc\\u03c4\\u03b9\\u03b1 \\u0391\\u03c6\\u03c1\\u03b9\\u03ba\\u03ae\", \"showlegend\": true, \"type\": \"scatter\", \"xaxis\": \"x\", \"y\": [11, 12, 13, 18, 18, 24, 25, 25], \"yaxis\": \"y\"}, {\"customdata\": [[\"\\u03a3\\u03bf\\u03c5\\u03b7\\u03b4\\u03af\\u03b1\"], [\"\\u03a3\\u03bf\\u03c5\\u03b7\\u03b4\\u03af\\u03b1\"], [\"\\u03a3\\u03bf\\u03c5\\u03b7\\u03b4\\u03af\\u03b1\"], [\"\\u03a3\\u03bf\\u03c5\\u03b7\\u03b4\\u03af\\u03b1\"], [\"\\u03a3\\u03bf\\u03c5\\u03b7\\u03b4\\u03af\\u03b1\"], [\"\\u03a3\\u03bf\\u03c5\\u03b7\\u03b4\\u03af\\u03b1\"], [\"\\u03a3\\u03bf\\u03c5\\u03b7\\u03b4\\u03af\\u03b1\"], [\"\\u03a3\\u03bf\\u03c5\\u03b7\\u03b4\\u03af\\u03b1\"], [\"\\u03a3\\u03bf\\u03c5\\u03b7\\u03b4\\u03af\\u03b1\"], [\"\\u03a3\\u03bf\\u03c5\\u03b7\\u03b4\\u03af\\u03b1\"], [\"\\u03a3\\u03bf\\u03c5\\u03b7\\u03b4\\u03af\\u03b1\"], [\"\\u03a3\\u03bf\\u03c5\\u03b7\\u03b4\\u03af\\u03b1\"], [\"\\u03a3\\u03bf\\u03c5\\u03b7\\u03b4\\u03af\\u03b1\"], [\"\\u03a3\\u03bf\\u03c5\\u03b7\\u03b4\\u03af\\u03b1\"], [\"\\u03a3\\u03bf\\u03c5\\u03b7\\u03b4\\u03af\\u03b1\"], [\"\\u03a3\\u03bf\\u03c5\\u03b7\\u03b4\\u03af\\u03b1\"], [\"\\u03a3\\u03bf\\u03c5\\u03b7\\u03b4\\u03af\\u03b1\"], [\"\\u03a3\\u03bf\\u03c5\\u03b7\\u03b4\\u03af\\u03b1\"], [\"\\u03a3\\u03bf\\u03c5\\u03b7\\u03b4\\u03af\\u03b1\"], [\"\\u03a3\\u03bf\\u03c5\\u03b7\\u03b4\\u03af\\u03b1\"], [\"\\u03a3\\u03bf\\u03c5\\u03b7\\u03b4\\u03af\\u03b1\"], [\"\\u03a3\\u03bf\\u03c5\\u03b7\\u03b4\\u03af\\u03b1\"], [\"\\u03a3\\u03bf\\u03c5\\u03b7\\u03b4\\u03af\\u03b1\"], [\"\\u03a3\\u03bf\\u03c5\\u03b7\\u03b4\\u03af\\u03b1\"], [\"\\u03a3\\u03bf\\u03c5\\u03b7\\u03b4\\u03af\\u03b1\"], [\"\\u03a3\\u03bf\\u03c5\\u03b7\\u03b4\\u03af\\u03b1\"]], \"hoverlabel\": {\"namelength\": 0}, \"hovertemplate\": \"\\u03a7\\u03ce\\u03c1\\u03b1=%{customdata[0]}<br>\\u0391\\u03c1\\u03b9\\u03b8\\u03bc\\u03cc\\u03c2 \\u039a\\u03c1\\u03bf\\u03c5\\u03c3\\u03bc\\u03ac\\u03c4\\u03c9\\u03bd=%{y}\", \"legendgroup\": \"\\u03a3\\u03bf\\u03c5\\u03b7\\u03b4\\u03af\\u03b1\", \"line\": {\"color\": \"rgb(189,189,189)\", \"dash\": \"solid\", \"shape\": \"spline\"}, \"mode\": \"lines\", \"name\": \"\\u03a3\\u03bf\\u03c5\\u03b7\\u03b4\\u03af\\u03b1\", \"showlegend\": true, \"type\": \"scatter\", \"xaxis\": \"x\", \"y\": [10, 11, 16, 20, 21, 25, 36, 62, 77, 105, 105, 110, 146, 180, 239, 308, 358, 373, 401, 477, 591, 687, 793, 870, 887, 899], \"yaxis\": \"y\"}, {\"customdata\": [[\"\\u0395\\u03bb\\u03b2\\u03b5\\u03c4\\u03af\\u03b1\"], [\"\\u0395\\u03bb\\u03b2\\u03b5\\u03c4\\u03af\\u03b1\"], [\"\\u0395\\u03bb\\u03b2\\u03b5\\u03c4\\u03af\\u03b1\"], [\"\\u0395\\u03bb\\u03b2\\u03b5\\u03c4\\u03af\\u03b1\"], [\"\\u0395\\u03bb\\u03b2\\u03b5\\u03c4\\u03af\\u03b1\"], [\"\\u0395\\u03bb\\u03b2\\u03b5\\u03c4\\u03af\\u03b1\"], [\"\\u0395\\u03bb\\u03b2\\u03b5\\u03c4\\u03af\\u03b1\"], [\"\\u0395\\u03bb\\u03b2\\u03b5\\u03c4\\u03af\\u03b1\"], [\"\\u0395\\u03bb\\u03b2\\u03b5\\u03c4\\u03af\\u03b1\"], [\"\\u0395\\u03bb\\u03b2\\u03b5\\u03c4\\u03af\\u03b1\"], [\"\\u0395\\u03bb\\u03b2\\u03b5\\u03c4\\u03af\\u03b1\"], [\"\\u0395\\u03bb\\u03b2\\u03b5\\u03c4\\u03af\\u03b1\"], [\"\\u0395\\u03bb\\u03b2\\u03b5\\u03c4\\u03af\\u03b1\"], [\"\\u0395\\u03bb\\u03b2\\u03b5\\u03c4\\u03af\\u03b1\"], [\"\\u0395\\u03bb\\u03b2\\u03b5\\u03c4\\u03af\\u03b1\"], [\"\\u0395\\u03bb\\u03b2\\u03b5\\u03c4\\u03af\\u03b1\"], [\"\\u0395\\u03bb\\u03b2\\u03b5\\u03c4\\u03af\\u03b1\"], [\"\\u0395\\u03bb\\u03b2\\u03b5\\u03c4\\u03af\\u03b1\"], [\"\\u0395\\u03bb\\u03b2\\u03b5\\u03c4\\u03af\\u03b1\"], [\"\\u0395\\u03bb\\u03b2\\u03b5\\u03c4\\u03af\\u03b1\"], [\"\\u0395\\u03bb\\u03b2\\u03b5\\u03c4\\u03af\\u03b1\"], [\"\\u0395\\u03bb\\u03b2\\u03b5\\u03c4\\u03af\\u03b1\"], [\"\\u0395\\u03bb\\u03b2\\u03b5\\u03c4\\u03af\\u03b1\"], [\"\\u0395\\u03bb\\u03b2\\u03b5\\u03c4\\u03af\\u03b1\"], [\"\\u0395\\u03bb\\u03b2\\u03b5\\u03c4\\u03af\\u03b1\"], [\"\\u0395\\u03bb\\u03b2\\u03b5\\u03c4\\u03af\\u03b1\"], [\"\\u0395\\u03bb\\u03b2\\u03b5\\u03c4\\u03af\\u03b1\"], [\"\\u0395\\u03bb\\u03b2\\u03b5\\u03c4\\u03af\\u03b1\"], [\"\\u0395\\u03bb\\u03b2\\u03b5\\u03c4\\u03af\\u03b1\"], [\"\\u0395\\u03bb\\u03b2\\u03b5\\u03c4\\u03af\\u03b1\"], [\"\\u0395\\u03bb\\u03b2\\u03b5\\u03c4\\u03af\\u03b1\"]], \"hoverlabel\": {\"namelength\": 0}, \"hovertemplate\": \"\\u03a7\\u03ce\\u03c1\\u03b1=%{customdata[0]}<br>\\u0391\\u03c1\\u03b9\\u03b8\\u03bc\\u03cc\\u03c2 \\u039a\\u03c1\\u03bf\\u03c5\\u03c3\\u03bc\\u03ac\\u03c4\\u03c9\\u03bd=%{y}\", \"legendgroup\": \"\\u0395\\u03bb\\u03b2\\u03b5\\u03c4\\u03af\\u03b1\", \"line\": {\"color\": \"rgb(189,189,189)\", \"dash\": \"solid\", \"shape\": \"spline\"}, \"mode\": \"lines\", \"name\": \"\\u0395\\u03bb\\u03b2\\u03b5\\u03c4\\u03af\\u03b1\", \"showlegend\": true, \"type\": \"scatter\", \"xaxis\": \"x\", \"y\": [11, 13, 14, 14, 27, 28, 41, 54, 75, 98, 120, 122, 153, 191, 231, 264, 300, 359, 433, 488, 536, 591, 666, 715, 765, 821, 895, 948, 1002, 1036, 1106], \"yaxis\": \"y\"}, {\"customdata\": [[\"\\u03a4\\u03b1\\u03ca\\u03bb\\u03ac\\u03bd\\u03b4\\u03b7\"], [\"\\u03a4\\u03b1\\u03ca\\u03bb\\u03ac\\u03bd\\u03b4\\u03b7\"], [\"\\u03a4\\u03b1\\u03ca\\u03bb\\u03ac\\u03bd\\u03b4\\u03b7\"], [\"\\u03a4\\u03b1\\u03ca\\u03bb\\u03ac\\u03bd\\u03b4\\u03b7\"], [\"\\u03a4\\u03b1\\u03ca\\u03bb\\u03ac\\u03bd\\u03b4\\u03b7\"], [\"\\u03a4\\u03b1\\u03ca\\u03bb\\u03ac\\u03bd\\u03b4\\u03b7\"], [\"\\u03a4\\u03b1\\u03ca\\u03bb\\u03ac\\u03bd\\u03b4\\u03b7\"], [\"\\u03a4\\u03b1\\u03ca\\u03bb\\u03ac\\u03bd\\u03b4\\u03b7\"], [\"\\u03a4\\u03b1\\u03ca\\u03bb\\u03ac\\u03bd\\u03b4\\u03b7\"], [\"\\u03a4\\u03b1\\u03ca\\u03bb\\u03ac\\u03bd\\u03b4\\u03b7\"], [\"\\u03a4\\u03b1\\u03ca\\u03bb\\u03ac\\u03bd\\u03b4\\u03b7\"], [\"\\u03a4\\u03b1\\u03ca\\u03bb\\u03ac\\u03bd\\u03b4\\u03b7\"], [\"\\u03a4\\u03b1\\u03ca\\u03bb\\u03ac\\u03bd\\u03b4\\u03b7\"]], \"hoverlabel\": {\"namelength\": 0}, \"hovertemplate\": \"\\u03a7\\u03ce\\u03c1\\u03b1=%{customdata[0]}<br>\\u0391\\u03c1\\u03b9\\u03b8\\u03bc\\u03cc\\u03c2 \\u039a\\u03c1\\u03bf\\u03c5\\u03c3\\u03bc\\u03ac\\u03c4\\u03c9\\u03bd=%{y}\", \"legendgroup\": \"\\u03a4\\u03b1\\u03ca\\u03bb\\u03ac\\u03bd\\u03b4\\u03b7\", \"line\": {\"color\": \"rgb(189,189,189)\", \"dash\": \"solid\", \"shape\": \"spline\"}, \"mode\": \"lines\", \"name\": \"\\u03a4\\u03b1\\u03ca\\u03bb\\u03ac\\u03bd\\u03b4\\u03b7\", \"showlegend\": true, \"type\": \"scatter\", \"xaxis\": \"x\", \"y\": [10, 12, 15, 19, 20, 23, 26, 27, 30, 32, 33, 35, 38], \"yaxis\": \"y\"}, {\"customdata\": [[\"\\u03a4\\u03c5\\u03bd\\u03b7\\u03c3\\u03af\\u03b1\"], [\"\\u03a4\\u03c5\\u03bd\\u03b7\\u03c3\\u03af\\u03b1\"], [\"\\u03a4\\u03c5\\u03bd\\u03b7\\u03c3\\u03af\\u03b1\"], [\"\\u03a4\\u03c5\\u03bd\\u03b7\\u03c3\\u03af\\u03b1\"], [\"\\u03a4\\u03c5\\u03bd\\u03b7\\u03c3\\u03af\\u03b1\"], [\"\\u03a4\\u03c5\\u03bd\\u03b7\\u03c3\\u03af\\u03b1\"], [\"\\u03a4\\u03c5\\u03bd\\u03b7\\u03c3\\u03af\\u03b1\"], [\"\\u03a4\\u03c5\\u03bd\\u03b7\\u03c3\\u03af\\u03b1\"], [\"\\u03a4\\u03c5\\u03bd\\u03b7\\u03c3\\u03af\\u03b1\"], [\"\\u03a4\\u03c5\\u03bd\\u03b7\\u03c3\\u03af\\u03b1\"], [\"\\u03a4\\u03c5\\u03bd\\u03b7\\u03c3\\u03af\\u03b1\"], [\"\\u03a4\\u03c5\\u03bd\\u03b7\\u03c3\\u03af\\u03b1\"], [\"\\u03a4\\u03c5\\u03bd\\u03b7\\u03c3\\u03af\\u03b1\"]], \"hoverlabel\": {\"namelength\": 0}, \"hovertemplate\": \"\\u03a7\\u03ce\\u03c1\\u03b1=%{customdata[0]}<br>\\u0391\\u03c1\\u03b9\\u03b8\\u03bc\\u03cc\\u03c2 \\u039a\\u03c1\\u03bf\\u03c5\\u03c3\\u03bc\\u03ac\\u03c4\\u03c9\\u03bd=%{y}\", \"legendgroup\": \"\\u03a4\\u03c5\\u03bd\\u03b7\\u03c3\\u03af\\u03b1\", \"line\": {\"color\": \"rgb(189,189,189)\", \"dash\": \"solid\", \"shape\": \"spline\"}, \"mode\": \"lines\", \"name\": \"\\u03a4\\u03c5\\u03bd\\u03b7\\u03c3\\u03af\\u03b1\", \"showlegend\": true, \"type\": \"scatter\", \"xaxis\": \"x\", \"y\": [10, 12, 14, 18, 18, 22, 22, 23, 24, 25, 25, 28, 31], \"yaxis\": \"y\"}, {\"customdata\": [[\"\\u03a4\\u03bf\\u03c5\\u03c1\\u03ba\\u03af\\u03b1\"], [\"\\u03a4\\u03bf\\u03c5\\u03c1\\u03ba\\u03af\\u03b1\"], [\"\\u03a4\\u03bf\\u03c5\\u03c1\\u03ba\\u03af\\u03b1\"], [\"\\u03a4\\u03bf\\u03c5\\u03c1\\u03ba\\u03af\\u03b1\"], [\"\\u03a4\\u03bf\\u03c5\\u03c1\\u03ba\\u03af\\u03b1\"], [\"\\u03a4\\u03bf\\u03c5\\u03c1\\u03ba\\u03af\\u03b1\"], [\"\\u03a4\\u03bf\\u03c5\\u03c1\\u03ba\\u03af\\u03b1\"], [\"\\u03a4\\u03bf\\u03c5\\u03c1\\u03ba\\u03af\\u03b1\"], [\"\\u03a4\\u03bf\\u03c5\\u03c1\\u03ba\\u03af\\u03b1\"], [\"\\u03a4\\u03bf\\u03c5\\u03c1\\u03ba\\u03af\\u03b1\"], [\"\\u03a4\\u03bf\\u03c5\\u03c1\\u03ba\\u03af\\u03b1\"], [\"\\u03a4\\u03bf\\u03c5\\u03c1\\u03ba\\u03af\\u03b1\"], [\"\\u03a4\\u03bf\\u03c5\\u03c1\\u03ba\\u03af\\u03b1\"], [\"\\u03a4\\u03bf\\u03c5\\u03c1\\u03ba\\u03af\\u03b1\"], [\"\\u03a4\\u03bf\\u03c5\\u03c1\\u03ba\\u03af\\u03b1\"], [\"\\u03a4\\u03bf\\u03c5\\u03c1\\u03ba\\u03af\\u03b1\"], [\"\\u03a4\\u03bf\\u03c5\\u03c1\\u03ba\\u03af\\u03b1\"], [\"\\u03a4\\u03bf\\u03c5\\u03c1\\u03ba\\u03af\\u03b1\"], [\"\\u03a4\\u03bf\\u03c5\\u03c1\\u03ba\\u03af\\u03b1\"], [\"\\u03a4\\u03bf\\u03c5\\u03c1\\u03ba\\u03af\\u03b1\"], [\"\\u03a4\\u03bf\\u03c5\\u03c1\\u03ba\\u03af\\u03b1\"], [\"\\u03a4\\u03bf\\u03c5\\u03c1\\u03ba\\u03af\\u03b1\"]], \"hoverlabel\": {\"namelength\": 0}, \"hovertemplate\": \"\\u03a7\\u03ce\\u03c1\\u03b1=%{customdata[0]}<br>\\u0391\\u03c1\\u03b9\\u03b8\\u03bc\\u03cc\\u03c2 \\u039a\\u03c1\\u03bf\\u03c5\\u03c3\\u03bc\\u03ac\\u03c4\\u03c9\\u03bd=%{y}\", \"legendgroup\": \"\\u03a4\\u03bf\\u03c5\\u03c1\\u03ba\\u03af\\u03b1\", \"line\": {\"color\": \"rgb(189,189,189)\", \"dash\": \"solid\", \"shape\": \"spline\"}, \"mode\": \"lines\", \"name\": \"\\u03a4\\u03bf\\u03c5\\u03c1\\u03ba\\u03af\\u03b1\", \"showlegend\": true, \"type\": \"scatter\", \"xaxis\": \"x\", \"y\": [30, 37, 44, 59, 75, 92, 108, 131, 168, 214, 277, 356, 425, 501, 574, 649, 725, 812, 908, 1006, 1101, 1198], \"yaxis\": \"y\"}, {\"customdata\": [[\"\\u039f\\u03c5\\u03ba\\u03c1\\u03b1\\u03bd\\u03af\\u03b1\"], [\"\\u039f\\u03c5\\u03ba\\u03c1\\u03b1\\u03bd\\u03af\\u03b1\"], [\"\\u039f\\u03c5\\u03ba\\u03c1\\u03b1\\u03bd\\u03af\\u03b1\"], [\"\\u039f\\u03c5\\u03ba\\u03c1\\u03b1\\u03bd\\u03af\\u03b1\"], [\"\\u039f\\u03c5\\u03ba\\u03c1\\u03b1\\u03bd\\u03af\\u03b1\"], [\"\\u039f\\u03c5\\u03ba\\u03c1\\u03b1\\u03bd\\u03af\\u03b1\"], [\"\\u039f\\u03c5\\u03ba\\u03c1\\u03b1\\u03bd\\u03af\\u03b1\"], [\"\\u039f\\u03c5\\u03ba\\u03c1\\u03b1\\u03bd\\u03af\\u03b1\"], [\"\\u039f\\u03c5\\u03ba\\u03c1\\u03b1\\u03bd\\u03af\\u03b1\"], [\"\\u039f\\u03c5\\u03ba\\u03c1\\u03b1\\u03bd\\u03af\\u03b1\"], [\"\\u039f\\u03c5\\u03ba\\u03c1\\u03b1\\u03bd\\u03af\\u03b1\"], [\"\\u039f\\u03c5\\u03ba\\u03c1\\u03b1\\u03bd\\u03af\\u03b1\"], [\"\\u039f\\u03c5\\u03ba\\u03c1\\u03b1\\u03bd\\u03af\\u03b1\"], [\"\\u039f\\u03c5\\u03ba\\u03c1\\u03b1\\u03bd\\u03af\\u03b1\"], [\"\\u039f\\u03c5\\u03ba\\u03c1\\u03b1\\u03bd\\u03af\\u03b1\"]], \"hoverlabel\": {\"namelength\": 0}, \"hovertemplate\": \"\\u03a7\\u03ce\\u03c1\\u03b1=%{customdata[0]}<br>\\u0391\\u03c1\\u03b9\\u03b8\\u03bc\\u03cc\\u03c2 \\u039a\\u03c1\\u03bf\\u03c5\\u03c3\\u03bc\\u03ac\\u03c4\\u03c9\\u03bd=%{y}\", \"legendgroup\": \"\\u039f\\u03c5\\u03ba\\u03c1\\u03b1\\u03bd\\u03af\\u03b1\", \"line\": {\"color\": \"rgb(189,189,189)\", \"dash\": \"solid\", \"shape\": \"spline\"}, \"mode\": \"lines\", \"name\": \"\\u039f\\u03c5\\u03ba\\u03c1\\u03b1\\u03bd\\u03af\\u03b1\", \"showlegend\": true, \"type\": \"scatter\", \"xaxis\": \"x\", \"y\": [10, 13, 17, 20, 22, 27, 32, 37, 38, 45, 52, 57, 69, 73, 83], \"yaxis\": \"y\"}, {\"customdata\": [[\"\\u0397\\u03bd. \\u0391\\u03c1\\u03b1\\u03b2\\u03b9\\u03ba\\u03ac \\u0395\\u03bc\\u03b9\\u03c1\\u03ac\\u03c4\\u03b1\"], [\"\\u0397\\u03bd. \\u0391\\u03c1\\u03b1\\u03b2\\u03b9\\u03ba\\u03ac \\u0395\\u03bc\\u03b9\\u03c1\\u03ac\\u03c4\\u03b1\"], [\"\\u0397\\u03bd. \\u0391\\u03c1\\u03b1\\u03b2\\u03b9\\u03ba\\u03ac \\u0395\\u03bc\\u03b9\\u03c1\\u03ac\\u03c4\\u03b1\"], [\"\\u0397\\u03bd. \\u0391\\u03c1\\u03b1\\u03b2\\u03b9\\u03ba\\u03ac \\u0395\\u03bc\\u03b9\\u03c1\\u03ac\\u03c4\\u03b1\"], [\"\\u0397\\u03bd. \\u0391\\u03c1\\u03b1\\u03b2\\u03b9\\u03ba\\u03ac \\u0395\\u03bc\\u03b9\\u03c1\\u03ac\\u03c4\\u03b1\"], [\"\\u0397\\u03bd. \\u0391\\u03c1\\u03b1\\u03b2\\u03b9\\u03ba\\u03ac \\u0395\\u03bc\\u03b9\\u03c1\\u03ac\\u03c4\\u03b1\"], [\"\\u0397\\u03bd. \\u0391\\u03c1\\u03b1\\u03b2\\u03b9\\u03ba\\u03ac \\u0395\\u03bc\\u03b9\\u03c1\\u03ac\\u03c4\\u03b1\"], [\"\\u0397\\u03bd. \\u0391\\u03c1\\u03b1\\u03b2\\u03b9\\u03ba\\u03ac \\u0395\\u03bc\\u03b9\\u03c1\\u03ac\\u03c4\\u03b1\"], [\"\\u0397\\u03bd. \\u0391\\u03c1\\u03b1\\u03b2\\u03b9\\u03ba\\u03ac \\u0395\\u03bc\\u03b9\\u03c1\\u03ac\\u03c4\\u03b1\"]], \"hoverlabel\": {\"namelength\": 0}, \"hovertemplate\": \"\\u03a7\\u03ce\\u03c1\\u03b1=%{customdata[0]}<br>\\u0391\\u03c1\\u03b9\\u03b8\\u03bc\\u03cc\\u03c2 \\u039a\\u03c1\\u03bf\\u03c5\\u03c3\\u03bc\\u03ac\\u03c4\\u03c9\\u03bd=%{y}\", \"legendgroup\": \"\\u0397\\u03bd. \\u0391\\u03c1\\u03b1\\u03b2\\u03b9\\u03ba\\u03ac \\u0395\\u03bc\\u03b9\\u03c1\\u03ac\\u03c4\\u03b1\", \"line\": {\"color\": \"rgb(189,189,189)\", \"dash\": \"solid\", \"shape\": \"spline\"}, \"mode\": \"lines\", \"name\": \"\\u0397\\u03bd. \\u0391\\u03c1\\u03b1\\u03b2\\u03b9\\u03ba\\u03ac \\u0395\\u03bc\\u03b9\\u03c1\\u03ac\\u03c4\\u03b1\", \"showlegend\": true, \"type\": \"scatter\", \"xaxis\": \"x\", \"y\": [10, 10, 11, 12, 12, 14, 16, 20, 22], \"yaxis\": \"y\"}, {\"hovertemplate\": \"<b>%{y:.f}</b> \\u03ba\\u03c1\\u03bf\\u03cd\\u03c3\\u03bc\\u03b1\\u03c4\\u03b1 \\u03c3\\u03c4\\u03b7\\u03bd \\u0393\\u03b5\\u03c1\\u03bc\\u03b1\\u03bd\\u03af\\u03b1<extra></extra>\", \"line\": {\"color\": \"black\", \"width\": 2}, \"name\": \"\\u0393\\u03b5\\u03c1\\u03bc\\u03b1\\u03bd\\u03af\\u03b1\", \"type\": \"scatter\", \"y\": [11, 17, 24, 28, 44, 67, 84, 94, 123, 157, 206, 267, 342, 433, 533, 645, 775, 920, 1107, 1275, 1444, 1584, 1810, 2016, 2349, 2607, 2767, 2736, 3022]}, {\"hovertemplate\": \"<b>%{y:.f}</b> \\u03ba\\u03c1\\u03bf\\u03cd\\u03c3\\u03bc\\u03b1\\u03c4\\u03b1 \\u03c3\\u03c4\\u03b7\\u03bd \\u0399\\u03c4\\u03b1\\u03bb\\u03af\\u03b1<extra></extra>\", \"line\": {\"color\": \"#3E82B3\", \"width\": 2}, \"name\": \"\\u0399\\u03c4\\u03b1\\u03bb\\u03af\\u03b1\", \"type\": \"scatter\", \"y\": [12, 17, 21, 29, 34, 52, 79, 107, 148, 197, 233, 366, 463, 631, 827, 827, 1266, 1441, 1809, 2158, 2503, 2978, 3405, 4032, 4825, 5476, 6077, 6820, 7503, 8215, 9134, 10023, 10779, 11591, 12428, 13155, 13915, 14681, 15362, 15887, 16523, 17127, 17669, 18279, 18849, 19468, 19899]}, {\"hovertemplate\": \"<b>%{y:.f}</b> \\u03ba\\u03c1\\u03bf\\u03cd\\u03c3\\u03bc\\u03b1\\u03c4\\u03b1 \\u03c3\\u03c4\\u03bf \\u0397\\u03bd\\u03c9\\u03bc\\u03ad\\u03bd\\u03bf \\u0392\\u03b1\\u03c3\\u03af\\u03bb\\u03b5\\u03b9\\u03bf<extra></extra>\", \"line\": {\"color\": \"#FFD400\", \"width\": 2}, \"name\": \"\\u0397\\u03bd\\u03c9\\u03bc\\u03ad\\u03bd\\u03bf \\u0392\\u03b1\\u03c3\\u03af\\u03bb\\u03b5\\u03b9\\u03bf\", \"type\": \"scatter\", \"y\": [21, 21, 56, 56, 72, 138, 178, 234, 282, 336, 423, 466, 580, 761, 1021, 1231, 1411, 1793, 2357, 2926, 3611, 4320, 4943, 5385, 6171, 7111, 7993, 8974, 9892, 10629]}, {\"hovertemplate\": \"<b>%{y:.f}</b> \\u03ba\\u03c1\\u03bf\\u03cd\\u03c3\\u03bc\\u03b1\\u03c4\\u03b1 \\u03c3\\u03c4\\u03b9\\u03c2 \\u0397\\u03a0\\u0391<extra></extra>\", \"line\": {\"color\": \"lightgreen\", \"width\": 2}, \"name\": \"\\u0397\\u03a0\\u0391\", \"type\": \"scatter\", \"y\": [11, 12, 14, 17, 21, 22, 28, 36, 40, 47, 54, 63, 85, 108, 118, 200, 244, 307, 417, 557, 706, 942, 1209, 1581, 2026, 2467, 2978, 3873, 4757, 5926, 7087, 8407, 9619, 10783, 12722, 14695, 16478, 18586, 20463, 22020]}, {\"hovertemplate\": \"<b>%{y:.f}</b> \\u03ba\\u03c1\\u03bf\\u03cd\\u03c3\\u03bc\\u03b1\\u03c4\\u03b1 \\u03c3\\u03c4\\u03b7\\u03bd \\u0399\\u03c3\\u03c0\\u03b1\\u03bd\\u03af\\u03b1<extra></extra>\", \"line\": {\"color\": \"purple\", \"width\": 2}, \"name\": \"\\u0399\\u03c3\\u03c0\\u03b1\\u03bd\\u03af\\u03b1\", \"type\": \"scatter\", \"y\": [17, 28, 35, 54, 55, 133, 195, 289, 342, 533, 623, 830, 1043, 1375, 1772, 2311, 2808, 3647, 4365, 5138, 5982, 6803, 7716, 8464, 9387, 10348, 11198, 11947, 12641, 13341, 14045, 14792, 15447, 16081, 16606, 17209]}, {\"hovertemplate\": \"<b>%{y:.f}</b> \\u03ba\\u03c1\\u03bf\\u03cd\\u03c3\\u03bc\\u03b1\\u03c4\\u03b1 \\u03c3\\u03c4\\u03b7\\u03bd \\u0395\\u03bb\\u03bb\\u03ac\\u03b4\\u03b1<extra></extra>\", \"line\": {\"color\": \"#BA3A0A\", \"width\": 3}, \"name\": \"\\u0395\\u03bb\\u03bb\\u03ac\\u03b4\\u03b1\", \"type\": \"scatter\", \"y\": [13, 15, 17, 20, 22, 26, 28, 32, 38, 43, 49, 50, 53, 63, 68, 73, 79, 81, 83, 87, 92, 93, 98]}],\n",
       "                        {\"annotations\": [{\"showarrow\": false, \"text\": \"<i>\\u039b\\u03bf\\u03b3\\u03b1\\u03c1\\u03b9\\u03b8\\u03bc\\u03b9\\u03ba\\u03ae \\u03ba\\u03bb\\u03af\\u03bc\\u03b1\\u03ba\\u03b1</i>\", \"x\": -0.02, \"xref\": \"paper\", \"y\": 1.2, \"yref\": \"paper\"}], \"font\": {\"color\": \"#114B5F\", \"family\": \"Roboto\", \"size\": 11}, \"height\": 380, \"hoverlabel\": {\"align\": \"left\", \"bgcolor\": \"white\", \"font\": {\"family\": \"Roboto\", \"size\": 12}}, \"hovermode\": \"closest\", \"legend\": {\"bgcolor\": \"#E6ECEC\", \"bordercolor\": \"#dadada\", \"borderwidth\": 0.3, \"font\": {\"color\": \"black\", \"family\": \"roboto\", \"size\": 10}, \"itemsizing\": \"constant\", \"title\": {\"text\": \"\"}, \"tracegroupgap\": 0, \"traceorder\": \"reversed\"}, \"paper_bgcolor\": \"#E6ECEC\", \"plot_bgcolor\": \"#E6ECEC\", \"showlegend\": true, \"template\": {\"data\": {\"bar\": [{\"error_x\": {\"color\": \"#2a3f5f\"}, \"error_y\": {\"color\": \"#2a3f5f\"}, \"marker\": {\"line\": {\"color\": \"#E5ECF6\", \"width\": 0.5}}, \"type\": \"bar\"}], \"barpolar\": [{\"marker\": {\"line\": {\"color\": \"#E5ECF6\", \"width\": 0.5}}, \"type\": \"barpolar\"}], \"carpet\": [{\"aaxis\": {\"endlinecolor\": \"#2a3f5f\", \"gridcolor\": \"white\", \"linecolor\": \"white\", \"minorgridcolor\": \"white\", \"startlinecolor\": \"#2a3f5f\"}, \"baxis\": {\"endlinecolor\": \"#2a3f5f\", \"gridcolor\": \"white\", \"linecolor\": \"white\", \"minorgridcolor\": \"white\", \"startlinecolor\": \"#2a3f5f\"}, \"type\": \"carpet\"}], \"choropleth\": [{\"colorbar\": {\"outlinewidth\": 0, \"ticks\": \"\"}, \"type\": \"choropleth\"}], \"contour\": [{\"colorbar\": {\"outlinewidth\": 0, \"ticks\": \"\"}, \"colorscale\": [[0.0, \"#0d0887\"], [0.1111111111111111, \"#46039f\"], [0.2222222222222222, \"#7201a8\"], [0.3333333333333333, \"#9c179e\"], [0.4444444444444444, \"#bd3786\"], [0.5555555555555556, \"#d8576b\"], [0.6666666666666666, \"#ed7953\"], [0.7777777777777778, \"#fb9f3a\"], [0.8888888888888888, \"#fdca26\"], [1.0, \"#f0f921\"]], \"type\": \"contour\"}], \"contourcarpet\": [{\"colorbar\": {\"outlinewidth\": 0, \"ticks\": \"\"}, \"type\": \"contourcarpet\"}], \"heatmap\": [{\"colorbar\": {\"outlinewidth\": 0, \"ticks\": \"\"}, \"colorscale\": [[0.0, \"#0d0887\"], [0.1111111111111111, \"#46039f\"], [0.2222222222222222, \"#7201a8\"], [0.3333333333333333, \"#9c179e\"], [0.4444444444444444, \"#bd3786\"], [0.5555555555555556, \"#d8576b\"], [0.6666666666666666, \"#ed7953\"], [0.7777777777777778, \"#fb9f3a\"], [0.8888888888888888, \"#fdca26\"], [1.0, \"#f0f921\"]], \"type\": \"heatmap\"}], \"heatmapgl\": [{\"colorbar\": {\"outlinewidth\": 0, \"ticks\": \"\"}, \"colorscale\": [[0.0, \"#0d0887\"], [0.1111111111111111, \"#46039f\"], [0.2222222222222222, \"#7201a8\"], [0.3333333333333333, \"#9c179e\"], [0.4444444444444444, \"#bd3786\"], [0.5555555555555556, \"#d8576b\"], [0.6666666666666666, \"#ed7953\"], [0.7777777777777778, \"#fb9f3a\"], [0.8888888888888888, \"#fdca26\"], [1.0, \"#f0f921\"]], \"type\": \"heatmapgl\"}], \"histogram\": [{\"marker\": {\"colorbar\": {\"outlinewidth\": 0, \"ticks\": \"\"}}, \"type\": \"histogram\"}], \"histogram2d\": [{\"colorbar\": {\"outlinewidth\": 0, \"ticks\": \"\"}, \"colorscale\": [[0.0, \"#0d0887\"], [0.1111111111111111, \"#46039f\"], [0.2222222222222222, \"#7201a8\"], [0.3333333333333333, \"#9c179e\"], [0.4444444444444444, \"#bd3786\"], [0.5555555555555556, \"#d8576b\"], [0.6666666666666666, \"#ed7953\"], [0.7777777777777778, \"#fb9f3a\"], [0.8888888888888888, \"#fdca26\"], [1.0, \"#f0f921\"]], \"type\": \"histogram2d\"}], \"histogram2dcontour\": [{\"colorbar\": {\"outlinewidth\": 0, \"ticks\": \"\"}, \"colorscale\": [[0.0, \"#0d0887\"], [0.1111111111111111, \"#46039f\"], [0.2222222222222222, \"#7201a8\"], [0.3333333333333333, \"#9c179e\"], [0.4444444444444444, \"#bd3786\"], [0.5555555555555556, \"#d8576b\"], [0.6666666666666666, \"#ed7953\"], [0.7777777777777778, \"#fb9f3a\"], [0.8888888888888888, \"#fdca26\"], [1.0, \"#f0f921\"]], \"type\": \"histogram2dcontour\"}], \"mesh3d\": [{\"colorbar\": {\"outlinewidth\": 0, \"ticks\": \"\"}, \"type\": \"mesh3d\"}], \"parcoords\": [{\"line\": {\"colorbar\": {\"outlinewidth\": 0, \"ticks\": \"\"}}, \"type\": \"parcoords\"}], \"pie\": [{\"automargin\": true, \"type\": \"pie\"}], \"scatter\": [{\"marker\": {\"colorbar\": {\"outlinewidth\": 0, \"ticks\": \"\"}}, \"type\": \"scatter\"}], \"scatter3d\": [{\"line\": {\"colorbar\": {\"outlinewidth\": 0, \"ticks\": \"\"}}, \"marker\": {\"colorbar\": {\"outlinewidth\": 0, \"ticks\": \"\"}}, \"type\": \"scatter3d\"}], \"scattercarpet\": [{\"marker\": {\"colorbar\": {\"outlinewidth\": 0, \"ticks\": \"\"}}, \"type\": \"scattercarpet\"}], \"scattergeo\": [{\"marker\": {\"colorbar\": {\"outlinewidth\": 0, \"ticks\": \"\"}}, \"type\": \"scattergeo\"}], \"scattergl\": [{\"marker\": {\"colorbar\": {\"outlinewidth\": 0, \"ticks\": \"\"}}, \"type\": \"scattergl\"}], \"scattermapbox\": [{\"marker\": {\"colorbar\": {\"outlinewidth\": 0, \"ticks\": \"\"}}, \"type\": \"scattermapbox\"}], \"scatterpolar\": [{\"marker\": {\"colorbar\": {\"outlinewidth\": 0, \"ticks\": \"\"}}, \"type\": \"scatterpolar\"}], \"scatterpolargl\": [{\"marker\": {\"colorbar\": {\"outlinewidth\": 0, \"ticks\": \"\"}}, \"type\": \"scatterpolargl\"}], \"scatterternary\": [{\"marker\": {\"colorbar\": {\"outlinewidth\": 0, \"ticks\": \"\"}}, \"type\": \"scatterternary\"}], \"surface\": [{\"colorbar\": {\"outlinewidth\": 0, \"ticks\": \"\"}, \"colorscale\": [[0.0, \"#0d0887\"], [0.1111111111111111, \"#46039f\"], [0.2222222222222222, \"#7201a8\"], [0.3333333333333333, \"#9c179e\"], [0.4444444444444444, \"#bd3786\"], [0.5555555555555556, \"#d8576b\"], [0.6666666666666666, \"#ed7953\"], [0.7777777777777778, \"#fb9f3a\"], [0.8888888888888888, \"#fdca26\"], [1.0, \"#f0f921\"]], \"type\": \"surface\"}], \"table\": [{\"cells\": {\"fill\": {\"color\": \"#EBF0F8\"}, \"line\": {\"color\": \"white\"}}, \"header\": {\"fill\": {\"color\": \"#C8D4E3\"}, \"line\": {\"color\": \"white\"}}, \"type\": \"table\"}]}, \"layout\": {\"annotationdefaults\": {\"arrowcolor\": \"#2a3f5f\", \"arrowhead\": 0, \"arrowwidth\": 1}, \"coloraxis\": {\"colorbar\": {\"outlinewidth\": 0, \"ticks\": \"\"}}, \"colorscale\": {\"diverging\": [[0, \"#8e0152\"], [0.1, \"#c51b7d\"], [0.2, \"#de77ae\"], [0.3, \"#f1b6da\"], [0.4, \"#fde0ef\"], [0.5, \"#f7f7f7\"], [0.6, \"#e6f5d0\"], [0.7, \"#b8e186\"], [0.8, \"#7fbc41\"], [0.9, \"#4d9221\"], [1, \"#276419\"]], \"sequential\": [[0.0, \"#0d0887\"], [0.1111111111111111, \"#46039f\"], [0.2222222222222222, \"#7201a8\"], [0.3333333333333333, \"#9c179e\"], [0.4444444444444444, \"#bd3786\"], [0.5555555555555556, \"#d8576b\"], [0.6666666666666666, \"#ed7953\"], [0.7777777777777778, \"#fb9f3a\"], [0.8888888888888888, \"#fdca26\"], [1.0, \"#f0f921\"]], \"sequentialminus\": [[0.0, \"#0d0887\"], [0.1111111111111111, \"#46039f\"], [0.2222222222222222, \"#7201a8\"], [0.3333333333333333, \"#9c179e\"], [0.4444444444444444, \"#bd3786\"], [0.5555555555555556, \"#d8576b\"], [0.6666666666666666, \"#ed7953\"], [0.7777777777777778, \"#fb9f3a\"], [0.8888888888888888, \"#fdca26\"], [1.0, \"#f0f921\"]]}, \"colorway\": [\"#636efa\", \"#EF553B\", \"#00cc96\", \"#ab63fa\", \"#FFA15A\", \"#19d3f3\", \"#FF6692\", \"#B6E880\", \"#FF97FF\", \"#FECB52\"], \"font\": {\"color\": \"#2a3f5f\"}, \"geo\": {\"bgcolor\": \"white\", \"lakecolor\": \"white\", \"landcolor\": \"#E5ECF6\", \"showlakes\": true, \"showland\": true, \"subunitcolor\": \"white\"}, \"hoverlabel\": {\"align\": \"left\"}, \"hovermode\": \"closest\", \"mapbox\": {\"style\": \"light\"}, \"paper_bgcolor\": \"white\", \"plot_bgcolor\": \"#E5ECF6\", \"polar\": {\"angularaxis\": {\"gridcolor\": \"white\", \"linecolor\": \"white\", \"ticks\": \"\"}, \"bgcolor\": \"#E5ECF6\", \"radialaxis\": {\"gridcolor\": \"white\", \"linecolor\": \"white\", \"ticks\": \"\"}}, \"scene\": {\"xaxis\": {\"backgroundcolor\": \"#E5ECF6\", \"gridcolor\": \"white\", \"gridwidth\": 2, \"linecolor\": \"white\", \"showbackground\": true, \"ticks\": \"\", \"zerolinecolor\": \"white\"}, \"yaxis\": {\"backgroundcolor\": \"#E5ECF6\", \"gridcolor\": \"white\", \"gridwidth\": 2, \"linecolor\": \"white\", \"showbackground\": true, \"ticks\": \"\", \"zerolinecolor\": \"white\"}, \"zaxis\": {\"backgroundcolor\": \"#E5ECF6\", \"gridcolor\": \"white\", \"gridwidth\": 2, \"linecolor\": \"white\", \"showbackground\": true, \"ticks\": \"\", \"zerolinecolor\": \"white\"}}, \"shapedefaults\": {\"line\": {\"color\": \"#2a3f5f\"}}, \"ternary\": {\"aaxis\": {\"gridcolor\": \"white\", \"linecolor\": \"white\", \"ticks\": \"\"}, \"baxis\": {\"gridcolor\": \"white\", \"linecolor\": \"white\", \"ticks\": \"\"}, \"bgcolor\": \"#E5ECF6\", \"caxis\": {\"gridcolor\": \"white\", \"linecolor\": \"white\", \"ticks\": \"\"}}, \"title\": {\"x\": 0.05}, \"xaxis\": {\"automargin\": true, \"gridcolor\": \"white\", \"linecolor\": \"white\", \"ticks\": \"\", \"title\": {\"standoff\": 15}, \"zerolinecolor\": \"white\", \"zerolinewidth\": 2}, \"yaxis\": {\"automargin\": true, \"gridcolor\": \"white\", \"linecolor\": \"white\", \"ticks\": \"\", \"title\": {\"standoff\": 15}, \"zerolinecolor\": \"white\", \"zerolinewidth\": 2}}}, \"title\": {\"text\": \"\\u039c\\u03b5\\u03c4\\u03ac \\u03c4\\u03bf\\u03c5\\u03c2 \\u03c0\\u03c1\\u03ce\\u03c4\\u03bf\\u03c5\\u03c2 10 \\u03b8\\u03b1\\u03bd\\u03ac\\u03c4\\u03bf\\u03c5\\u03c2\"}, \"xaxis\": {\"anchor\": \"y\", \"domain\": [0.0, 1.0], \"gridcolor\": \"#F8FAFA\", \"gridwidth\": 0.1, \"linecolor\": \"#F8FAFA\", \"linewidth\": 0.1, \"showgrid\": true, \"showline\": false, \"showticklabels\": true, \"tickvals\": [5, 10, 15, 20, 25, 30, 35, 40, 45, 50, 55], \"title\": {\"font\": {\"color\": \"#114B5F\", \"size\": 11}, \"text\": \"\\u0397\\u03bc\\u03ad\\u03c1\\u03b5\\u03c2 \\u03b1\\u03c0\\u03cc \\u03c4\\u03bf 10o \\u03ba\\u03c1\\u03bf\\u03cd\\u03c3\\u03bc\\u03b1\"}}, \"yaxis\": {\"anchor\": \"x\", \"domain\": [0.0, 1.0], \"gridcolor\": \"#F8FAFA\", \"gridwidth\": 0.1, \"linecolor\": \"#114B5F\", \"linewidth\": 2, \"nticks\": 4, \"showgrid\": true, \"showline\": true, \"showticklabels\": true, \"title\": {\"font\": {\"color\": \"#114B5F\", \"size\": 11}, \"text\": \"\\u0391\\u03c1\\u03b9\\u03b8\\u03bc\\u03cc\\u03c2 \\u03ba\\u03c1\\u03bf\\u03c5\\u03c3\\u03bc\\u03ac\\u03c4\\u03c9\\u03bd\"}, \"type\": \"log\"}},\n",
       "                        {\"responsive\": true}\n",
       "                    ).then(function(){\n",
       "                            \n",
       "var gd = document.getElementById('a8ffe4ad-9051-4787-a4dc-60233ea327c5');\n",
       "var x = new MutationObserver(function (mutations, observer) {{\n",
       "        var display = window.getComputedStyle(gd).display;\n",
       "        if (!display || display === 'none') {{\n",
       "            console.log([gd, 'removed!']);\n",
       "            Plotly.purge(gd);\n",
       "            observer.disconnect();\n",
       "        }}\n",
       "}});\n",
       "\n",
       "// Listen for the removal of the full notebook cells\n",
       "var notebookContainer = gd.closest('#notebook-container');\n",
       "if (notebookContainer) {{\n",
       "    x.observe(notebookContainer, {childList: true});\n",
       "}}\n",
       "\n",
       "// Listen for the clearing of the current output cell\n",
       "var outputEl = gd.closest('.output');\n",
       "if (outputEl) {{\n",
       "    x.observe(outputEl, {childList: true});\n",
       "}}\n",
       "\n",
       "                        })\n",
       "                };\n",
       "                });\n",
       "            </script>\n",
       "        </div>"
      ]
     },
     "metadata": {},
     "output_type": "display_data"
    }
   ],
   "source": [
    "'''φορτώνουμε το αρχείο που επιθυμούμε, τον αριθμό σημείο έναρξης της οπτικοποίησης,\n",
    "το όνομα της νέας στήλης που θα δημιουργηθεί από το melt, \n",
    "το όνομα του αρχείου που θέλουμε να σώσουμε'''\n",
    "\n",
    "def after100Cases(fileName, numberCompare, columnName, outputName, titleGraphic):\n",
    "    \n",
    "    ''' φορτώνουμε το πρώτο αρχείο από το Hopkins'''\n",
    "    df=pd.read_csv(baseHopkinsURL + fileName)\\\n",
    "        .drop(['Lat', 'Long'], axis=1) \\\n",
    "        .melt(id_vars=['Province/State', 'Country/Region'], \n",
    "                 var_name='Date', value_name=columnName) \\\n",
    "        .astype({'Date':'datetime64[ns]', columnName:'Int64'}, \n",
    "                 errors='ignore')\n",
    "    \n",
    "    ''' φορτώνουμε το αρχείο με την αντιστοίχιση ελληνικών - αγγλικών ονομάτων χωρών'''\n",
    "    gr=pd.read_csv(countriesInGreek)\n",
    "    ''' το συνδέουμε με το dataframe από το Hopkins ώστε να προστεθεί το ADMIN_GR'''\n",
    "    df=pd.merge(df,gr, how='left', left_on='Country/Region', right_on='ADMIN')\n",
    "    \n",
    "    ''' φορτώνουμε το αρχείο με τους πληθυσμούς'''\n",
    "    pop=pd.read_csv(population, usecols = ['Country,Other','Population (2020)'])\n",
    "    '''συνδέουμε το dataframe με τα ελληνικά ονόματα '''\n",
    "    gr=pd.merge(gr,pop, how='right', left_on='ADMIN', right_on='Country,Other')\n",
    "    \n",
    "    '''Ενώνουμε το dataframe του Hopkins και εκείνο του population με βάση την στήλη με τα ελληνικά ονόματα'''\n",
    "    df=pd.merge(df,gr, how='left', on='ADMIN_GR')\n",
    "\n",
    "    \n",
    "    ''' υπολογίζουμε συγκεντρωτικά για κάθε χώρα τα κρούσματα και τους θανάτους ανά ημέρα'''\n",
    "    df=df.groupby(['Country/Region','Date','ADMIN_GR','Population (2020)'])[columnName].sum().reset_index()\n",
    "    \n",
    "    ''' ------------------- ΞΕΚΙΝΑ Η ΟΠΤΙΚΟΠΟΙΗΣΗ ------------------'''\n",
    "    \n",
    "    ''' Φτιάχνουμε ένα variable που ΔΕΝ ΘΑ ΠΕΡΙΕΧΕΙ τις χώρες αναφοράς - που θα χρωματίσουμε με άλλο χρώμα'''\n",
    "    cnt= df[(df['Country/Region']!='Greece') & \n",
    "        (df['Country/Region']!='Germany') & \n",
    "        (df['Country/Region']!='Italy') & \n",
    "        (df['Country/Region']!='United Kingdom') & \n",
    "        (df['Country/Region']!='US') & \n",
    "        (df['Country/Region']!='Spain')&\n",
    "        (df['Country/Region']!='China')]\n",
    "    \n",
    "    fig = px.line(cnt[(cnt['Country/Region']!='Diamond Princess') & \n",
    "                  (cnt['deaths']>=numberCompare)],\n",
    "              y=columnName,\n",
    "              color='ADMIN_GR',\n",
    "              hover_data=['ADMIN_GR'],\n",
    "              labels={'Date':'Ημερομηνία',\n",
    "                    columnName:'Αριθμός Κρουσμάτων',\n",
    "                    'ADMIN_GR':'Χώρα'},\n",
    "              title=titleGraphic,\n",
    "              \n",
    "              line_shape=\"spline\", render_mode=\"svg\",\n",
    "#               color_discrete_sequence=px.colors.sequential.ice\n",
    "#               color_discrete_sequence=px.colors.qualitative.Prism\n",
    "              color_discrete_sequence=['rgb(189,189,189)']\n",
    "             )\n",
    "    \n",
    "    fig.update_layout(paper_bgcolor=\"#E6ECEC\",\n",
    "                 plot_bgcolor=\"#E6ECEC\",\n",
    "                 font=dict(\n",
    "                family=\"Roboto\",\n",
    "                size=11,\n",
    "                color=\"#114B5F\")\n",
    "                 )\n",
    "\n",
    "    # fig.update_traces(mode=\"markers+lines\", hovertemplate=None)\n",
    "    # fig.update_layout(hovermode=\"x\")\n",
    "    fig.update_layout(hovermode=\"closest\",\n",
    "                     hoverlabel=dict(\n",
    "                        bgcolor=\"white\", \n",
    "                        font_size=12, \n",
    "                        font_family=\"Roboto\"),\n",
    "                     hoverlabel_align = 'left',)\n",
    "\n",
    "    fig.update_layout(showlegend=True)\n",
    "    fig.update_layout(legend_title='',\n",
    "\n",
    "                     legend=dict(\n",
    "    #                      θέση του legend\n",
    "    #                     x=0,\n",
    "    #                     y=1,\n",
    "\n",
    "    #                      σειρά χωρών reversed, normal, grouped\n",
    "                        traceorder=\"reversed\", \n",
    "                        font=dict(\n",
    "                            family=\"roboto\",\n",
    "                            size=10,\n",
    "                            color=\"black\"\n",
    "                        ),\n",
    "\n",
    "                        bgcolor=\"#E6ECEC\",\n",
    "                        bordercolor=\"#dadada\",\n",
    "                        borderwidth=.3\n",
    "                    ))\n",
    "\n",
    "    fig.update_yaxes(nticks=4,\n",
    "                    \n",
    "                    showticklabels=True,\n",
    "                    showline=True,\n",
    "                     linewidth=2,\n",
    "                    linecolor='#114B5F',\n",
    "                    showgrid=True, \n",
    "                     gridwidth=.1, \n",
    "                     gridcolor='#F8FAFA',\n",
    "                    title_text = \"Αριθμός κρουσμάτων\",\n",
    "                    title_font = {\"size\": 11,\n",
    "                                 'color':'#114B5F'},)\n",
    "\n",
    "    fig.update_xaxes(tickvals=[5, 10, 15, 20, 25, 30,35,40,45,50,55],\n",
    "                    ticks=None,\n",
    "                    showticklabels=True,\n",
    "                     showline=False,\n",
    "                     linewidth=.1,\n",
    "                    linecolor='#F8FAFA',\n",
    "                    showgrid=True, \n",
    "                     gridwidth=.1, \n",
    "                     gridcolor='#F8FAFA',\n",
    "                    title_text = \"Ημέρες από το {}o κρούσμα\".format(numberCompare),\n",
    "                    title_font = {\"size\": 11,\n",
    "                                 'color':'#114B5F'},\n",
    "                    )\n",
    "\n",
    "    fig.update_layout(xaxis_showgrid=True, \n",
    "                      yaxis_showgrid=True)\n",
    "\n",
    "\n",
    "    fig.update_layout(yaxis_type=\"log\")\n",
    "\n",
    "    fig.update_layout(height=380)\n",
    "\n",
    "    \n",
    "    # Γερμανία\n",
    "    fig.add_trace(go.Scatter(y=df[(df['Country/Region']=='Germany')&(df[columnName]>numberCompare)][columnName],\n",
    "                             name='Γερμανία',\n",
    "                            line=dict(color=\"black\",\n",
    "                                    width=2),\n",
    "                             hovertemplate = '<b>%{y:.f}</b> κρούσματα στην Γερμανία<extra></extra>'\n",
    "                            ))\n",
    "    \n",
    "       # Ιταλία\n",
    "    fig.add_trace(go.Scatter(y=df[(df['Country/Region']=='Italy')&(df[columnName]>numberCompare)][columnName],\n",
    "                             name='Ιταλία',\n",
    "                            line=dict(color=\"#3E82B3\",\n",
    "                                    width=2),\n",
    "                             hovertemplate = '<b>%{y:.f}</b> κρούσματα στην Ιταλία<extra></extra>'\n",
    "                            ))\n",
    "\n",
    "    # UK\n",
    "    fig.add_trace(go.Scatter(y=df[(df['Country/Region']=='United Kingdom')&(df[columnName]>numberCompare)][columnName],\n",
    "                             name='Ηνωμένο Βασίλειο',\n",
    "                            line=dict(color=\"#FFD400\",\n",
    "                                    width=2),\n",
    "                             hovertemplate = '<b>%{y:.f}</b> κρούσματα στο Ηνωμένο Βασίλειο<extra></extra>'\n",
    "                            ))\n",
    "\n",
    "\n",
    "    # USA\n",
    "    fig.add_trace(go.Scatter(y=df[(df['Country/Region']=='US')&(df[columnName]>numberCompare)][columnName],\n",
    "                             name='ΗΠΑ',\n",
    "                            line=dict(color=\"lightgreen\",\n",
    "                                    width=2),\n",
    "                             hovertemplate = '<b>%{y:.f}</b> κρούσματα στις ΗΠΑ<extra></extra>'\n",
    "                            ))\n",
    "    # Spain\n",
    "    fig.add_trace(go.Scatter(y=df[(df['Country/Region']=='Spain')&(df[columnName]>numberCompare)][columnName],\n",
    "                             name='Ισπανία',\n",
    "                            line=dict(color=\"purple\",\n",
    "                                    width=2),\n",
    "                             hovertemplate = '<b>%{y:.f}</b> κρούσματα στην Ισπανία<extra></extra>'\n",
    "                            ))\n",
    "    # Greece\n",
    "    fig.add_trace(go.Scatter(y=df[(df['Country/Region']=='Greece')&(df[columnName]>numberCompare)][columnName],\n",
    "                             name='Ελλάδα',\n",
    "                            line=dict(color=\"#BA3A0A\",\n",
    "                                    width=3),\n",
    "                             hovertemplate = '<b>%{y:.f}</b> κρούσματα στην Ελλάδα<extra></extra>'\n",
    "                            ))\n",
    "\n",
    "\n",
    "    \n",
    "    config = dict({'displayModeBar': False, \n",
    "                'scrollZoom': False,\n",
    "                'displaylogo': False,\n",
    "                'responsive': True,\n",
    "                'staticPlot': False\n",
    "\n",
    "                  })\n",
    "    # μέγεθος γραμμής σε κάθε χώρα στο legend, trace/constant\n",
    "    fig.update_layout(legend= {'itemsizing': 'constant'},\n",
    "                     \n",
    "        annotations = [dict(\n",
    "            x=-.02,\n",
    "            y=1.2,\n",
    "            xref='paper',\n",
    "            yref='paper',\n",
    "            text='<i>Λογαριθμική κλίμακα</i>',\n",
    "            showarrow = False\n",
    "        )])\n",
    "    \n",
    "    fig.show()\n",
    "    \n",
    "    return fig.write_json(outputName)\n",
    "after100Cases(deathsHopkinsFileName, 10, 'deaths', '10_deaths.json','Μετά τους πρώτους 10 θανάτους')"
   ]
  },
  {
   "cell_type": "code",
   "execution_count": null,
   "metadata": {},
   "outputs": [],
   "source": []
  },
  {
   "cell_type": "markdown",
   "metadata": {},
   "source": [
    "# Heatmap"
   ]
  },
  {
   "cell_type": "code",
   "execution_count": 61,
   "metadata": {},
   "outputs": [
    {
     "data": {
      "application/vnd.plotly.v1+json": {
       "config": {
        "plotlyServerURL": "https://plot.ly"
       },
       "data": [
        {
         "colorbar": {
          "tick0": 0,
          "tickmode": "auto",
          "tickvals": [
           0,
           1000,
           1800
          ],
          "title": {
           "text": "θάνατοι/<br>100 χιλ "
          }
         },
         "colorscale": [
          [
           0,
           "#E6ECEC"
          ],
          [
           0.0001,
           "#dadada"
          ],
          [
           0.001,
           "#d7dfe3"
          ],
          [
           0.01,
           "#b0bfc7"
          ],
          [
           0.1,
           "#3f6678"
          ],
          [
           1,
           "#BA3A0A"
          ]
         ],
         "customdata": [
          0,
          0,
          0,
          0,
          0,
          1,
          0,
          0,
          0,
          2,
          0,
          1,
          2,
          0,
          2,
          8,
          5,
          7,
          2,
          19,
          9,
          10,
          18,
          22,
          20,
          18,
          12,
          10,
          18,
          18,
          16,
          23,
          30,
          22,
          24,
          18,
          13,
          0,
          0,
          0,
          0,
          0,
          0,
          1,
          0,
          0,
          0,
          0,
          0,
          0,
          0,
          0,
          0,
          0,
          0,
          1,
          1,
          0,
          1,
          0,
          0,
          1,
          0,
          0,
          0,
          0,
          2,
          0,
          1,
          0,
          1,
          1,
          1,
          0,
          0,
          0,
          0,
          0,
          0,
          0,
          0,
          0,
          0,
          0,
          0,
          0,
          0,
          0,
          0,
          0,
          0,
          0,
          0,
          0,
          0,
          0,
          0,
          0,
          1,
          1,
          2,
          0,
          1,
          3,
          5,
          0,
          0,
          3,
          3,
          4,
          3,
          0,
          0,
          0,
          0,
          3,
          0,
          0,
          1,
          0,
          1,
          5,
          4,
          7,
          16,
          30,
          8,
          13,
          34,
          56,
          42,
          69,
          64,
          78,
          82,
          192,
          123,
          183,
          132,
          140,
          164,
          185,
          403,
          205,
          283,
          496,
          327,
          254,
          0,
          0,
          0,
          0,
          0,
          0,
          0,
          0,
          0,
          0,
          0,
          0,
          0,
          0,
          0,
          0,
          0,
          0,
          0,
          0,
          0,
          0,
          1,
          3,
          2,
          1,
          1,
          1,
          1,
          0,
          1,
          3,
          1,
          3,
          1,
          1,
          4,
          0,
          0,
          0,
          0,
          0,
          0,
          0,
          0,
          0,
          0,
          0,
          0,
          0,
          0,
          0,
          0,
          0,
          0,
          0,
          0,
          0,
          0,
          0,
          0,
          0,
          0,
          0,
          0,
          0,
          0,
          0,
          0,
          0,
          0,
          0,
          0,
          0,
          0,
          0,
          0,
          0,
          0,
          0,
          0,
          0,
          0,
          0,
          0,
          1,
          0,
          0,
          0,
          0,
          0,
          0,
          0,
          1,
          0,
          1,
          0,
          1,
          2,
          0,
          0,
          0,
          0,
          2,
          1,
          2,
          1,
          3,
          0,
          1,
          2,
          0,
          0,
          0,
          0,
          0,
          0,
          0,
          0,
          0,
          0,
          0,
          0,
          0,
          0,
          0,
          1,
          0,
          2,
          3,
          3,
          0,
          2,
          5,
          7,
          8,
          8,
          5,
          9,
          6,
          8,
          11,
          10,
          11,
          13,
          7,
          10,
          9,
          0,
          0,
          0,
          0,
          0,
          0,
          0,
          0,
          0,
          0,
          1,
          0,
          1,
          0,
          0,
          1,
          0,
          3,
          4,
          0,
          10,
          8,
          11,
          3,
          9,
          6,
          3,
          8,
          0,
          14,
          4,
          12,
          10,
          10,
          8,
          9,
          38,
          0,
          0,
          0,
          0,
          1,
          0,
          0,
          2,
          1,
          0,
          1,
          0,
          1,
          0,
          7,
          2,
          2,
          3,
          2,
          4,
          2,
          4,
          6,
          5,
          6,
          1,
          3,
          10,
          5,
          5,
          6,
          2,
          2,
          4,
          5,
          1,
          5,
          0,
          0,
          0,
          0,
          0,
          0,
          0,
          0,
          0,
          0,
          0,
          0,
          0,
          0,
          0,
          0,
          0,
          0,
          0,
          0,
          0,
          0,
          0,
          0,
          0,
          0,
          0,
          0,
          0,
          1,
          0,
          0,
          0,
          1,
          0,
          0,
          1,
          0,
          0,
          0,
          0,
          0,
          0,
          0,
          0,
          0,
          0,
          0,
          0,
          0,
          0,
          0,
          0,
          0,
          0,
          0,
          1,
          0,
          0,
          2,
          4,
          0,
          3,
          4,
          1,
          0,
          7,
          0,
          0,
          0,
          1,
          0,
          1,
          1,
          0,
          0,
          0,
          0,
          0,
          0,
          0,
          0,
          1,
          0,
          0,
          0,
          0,
          2,
          1,
          2,
          1,
          2,
          1,
          0,
          0,
          1,
          2,
          2,
          1,
          4,
          1,
          5,
          6,
          2,
          4,
          9,
          11,
          8,
          11,
          8,
          14,
          0,
          0,
          0,
          0,
          0,
          0,
          0,
          0,
          0,
          0,
          0,
          0,
          0,
          0,
          0,
          0,
          0,
          0,
          0,
          0,
          1,
          0,
          2,
          2,
          0,
          0,
          0,
          0,
          0,
          0,
          1,
          0,
          0,
          1,
          0,
          0,
          0,
          0,
          0,
          0,
          0,
          0,
          0,
          0,
          0,
          0,
          0,
          1,
          1,
          1,
          3,
          6,
          2,
          9,
          10,
          10,
          17,
          16,
          24,
          19,
          21,
          20,
          27,
          22,
          37,
          20,
          29,
          16,
          34,
          35,
          29,
          26,
          35,
          34,
          0,
          0,
          0,
          0,
          0,
          0,
          0,
          0,
          0,
          0,
          0,
          0,
          0,
          0,
          0,
          0,
          0,
          0,
          0,
          0,
          0,
          0,
          0,
          0,
          0,
          0,
          0,
          0,
          0,
          0,
          0,
          0,
          0,
          0,
          0,
          0,
          0,
          0,
          0,
          0,
          0,
          1,
          0,
          0,
          1,
          1,
          3,
          1,
          3,
          1,
          5,
          4,
          1,
          4,
          11,
          26,
          15,
          28,
          0,
          5,
          36,
          34,
          59,
          69,
          50,
          15,
          28,
          76,
          114,
          96,
          106,
          77,
          17,
          12,
          0,
          0,
          0,
          0,
          0,
          0,
          0,
          0,
          0,
          0,
          0,
          0,
          1,
          0,
          0,
          2,
          0,
          1,
          1,
          1,
          0,
          2,
          0,
          0,
          2,
          2,
          2,
          4,
          0,
          4,
          0,
          1,
          1,
          1,
          0,
          3,
          3,
          0,
          0,
          0,
          0,
          0,
          0,
          0,
          0,
          0,
          0,
          0,
          0,
          0,
          2,
          0,
          0,
          0,
          0,
          0,
          0,
          0,
          0,
          1,
          2,
          1,
          2,
          0,
          1,
          1,
          0,
          1,
          1,
          0,
          2,
          2,
          4,
          2
         ],
         "hovertemplate": "<b>%{y}</b><br><i>%{x}</i><br><br>%{customdata} θάνατοι<extra></extra>",
         "showscale": true,
         "type": "heatmap",
         "x": [
          "2020-03-07T00:00:00",
          "2020-03-08T00:00:00",
          "2020-03-09T00:00:00",
          "2020-03-10T00:00:00",
          "2020-03-11T00:00:00",
          "2020-03-12T00:00:00",
          "2020-03-13T00:00:00",
          "2020-03-14T00:00:00",
          "2020-03-15T00:00:00",
          "2020-03-16T00:00:00",
          "2020-03-17T00:00:00",
          "2020-03-18T00:00:00",
          "2020-03-19T00:00:00",
          "2020-03-20T00:00:00",
          "2020-03-21T00:00:00",
          "2020-03-22T00:00:00",
          "2020-03-23T00:00:00",
          "2020-03-24T00:00:00",
          "2020-03-25T00:00:00",
          "2020-03-26T00:00:00",
          "2020-03-27T00:00:00",
          "2020-03-28T00:00:00",
          "2020-03-29T00:00:00",
          "2020-03-30T00:00:00",
          "2020-03-31T00:00:00",
          "2020-04-01T00:00:00",
          "2020-04-02T00:00:00",
          "2020-04-03T00:00:00",
          "2020-04-04T00:00:00",
          "2020-04-05T00:00:00",
          "2020-04-06T00:00:00",
          "2020-04-07T00:00:00",
          "2020-04-08T00:00:00",
          "2020-04-09T00:00:00",
          "2020-04-10T00:00:00",
          "2020-04-11T00:00:00",
          "2020-04-12T00:00:00",
          "2020-03-07T00:00:00",
          "2020-03-08T00:00:00",
          "2020-03-09T00:00:00",
          "2020-03-10T00:00:00",
          "2020-03-11T00:00:00",
          "2020-03-12T00:00:00",
          "2020-03-13T00:00:00",
          "2020-03-14T00:00:00",
          "2020-03-15T00:00:00",
          "2020-03-16T00:00:00",
          "2020-03-17T00:00:00",
          "2020-03-18T00:00:00",
          "2020-03-19T00:00:00",
          "2020-03-20T00:00:00",
          "2020-03-21T00:00:00",
          "2020-03-22T00:00:00",
          "2020-03-23T00:00:00",
          "2020-03-24T00:00:00",
          "2020-03-25T00:00:00",
          "2020-03-26T00:00:00",
          "2020-03-27T00:00:00",
          "2020-03-28T00:00:00",
          "2020-03-29T00:00:00",
          "2020-03-30T00:00:00",
          "2020-03-31T00:00:00",
          "2020-04-01T00:00:00",
          "2020-04-02T00:00:00",
          "2020-04-03T00:00:00",
          "2020-04-04T00:00:00",
          "2020-04-05T00:00:00",
          "2020-04-06T00:00:00",
          "2020-04-07T00:00:00",
          "2020-04-08T00:00:00",
          "2020-04-09T00:00:00",
          "2020-04-10T00:00:00",
          "2020-04-11T00:00:00",
          "2020-04-12T00:00:00",
          "2020-03-07T00:00:00",
          "2020-03-08T00:00:00",
          "2020-03-09T00:00:00",
          "2020-03-10T00:00:00",
          "2020-03-11T00:00:00",
          "2020-03-12T00:00:00",
          "2020-03-13T00:00:00",
          "2020-03-14T00:00:00",
          "2020-03-15T00:00:00",
          "2020-03-16T00:00:00",
          "2020-03-17T00:00:00",
          "2020-03-18T00:00:00",
          "2020-03-19T00:00:00",
          "2020-03-20T00:00:00",
          "2020-03-21T00:00:00",
          "2020-03-22T00:00:00",
          "2020-03-23T00:00:00",
          "2020-03-24T00:00:00",
          "2020-03-25T00:00:00",
          "2020-03-26T00:00:00",
          "2020-03-27T00:00:00",
          "2020-03-28T00:00:00",
          "2020-03-29T00:00:00",
          "2020-03-30T00:00:00",
          "2020-03-31T00:00:00",
          "2020-04-01T00:00:00",
          "2020-04-02T00:00:00",
          "2020-04-03T00:00:00",
          "2020-04-04T00:00:00",
          "2020-04-05T00:00:00",
          "2020-04-06T00:00:00",
          "2020-04-07T00:00:00",
          "2020-04-08T00:00:00",
          "2020-04-09T00:00:00",
          "2020-04-10T00:00:00",
          "2020-04-11T00:00:00",
          "2020-04-12T00:00:00",
          "2020-03-07T00:00:00",
          "2020-03-08T00:00:00",
          "2020-03-09T00:00:00",
          "2020-03-10T00:00:00",
          "2020-03-11T00:00:00",
          "2020-03-12T00:00:00",
          "2020-03-13T00:00:00",
          "2020-03-14T00:00:00",
          "2020-03-15T00:00:00",
          "2020-03-16T00:00:00",
          "2020-03-17T00:00:00",
          "2020-03-18T00:00:00",
          "2020-03-19T00:00:00",
          "2020-03-20T00:00:00",
          "2020-03-21T00:00:00",
          "2020-03-22T00:00:00",
          "2020-03-23T00:00:00",
          "2020-03-24T00:00:00",
          "2020-03-25T00:00:00",
          "2020-03-26T00:00:00",
          "2020-03-27T00:00:00",
          "2020-03-28T00:00:00",
          "2020-03-29T00:00:00",
          "2020-03-30T00:00:00",
          "2020-03-31T00:00:00",
          "2020-04-01T00:00:00",
          "2020-04-02T00:00:00",
          "2020-04-03T00:00:00",
          "2020-04-04T00:00:00",
          "2020-04-05T00:00:00",
          "2020-04-06T00:00:00",
          "2020-04-07T00:00:00",
          "2020-04-08T00:00:00",
          "2020-04-09T00:00:00",
          "2020-04-10T00:00:00",
          "2020-04-11T00:00:00",
          "2020-04-12T00:00:00",
          "2020-03-07T00:00:00",
          "2020-03-08T00:00:00",
          "2020-03-09T00:00:00",
          "2020-03-10T00:00:00",
          "2020-03-11T00:00:00",
          "2020-03-12T00:00:00",
          "2020-03-13T00:00:00",
          "2020-03-14T00:00:00",
          "2020-03-15T00:00:00",
          "2020-03-16T00:00:00",
          "2020-03-17T00:00:00",
          "2020-03-18T00:00:00",
          "2020-03-19T00:00:00",
          "2020-03-20T00:00:00",
          "2020-03-21T00:00:00",
          "2020-03-22T00:00:00",
          "2020-03-23T00:00:00",
          "2020-03-24T00:00:00",
          "2020-03-25T00:00:00",
          "2020-03-26T00:00:00",
          "2020-03-27T00:00:00",
          "2020-03-28T00:00:00",
          "2020-03-29T00:00:00",
          "2020-03-30T00:00:00",
          "2020-03-31T00:00:00",
          "2020-04-01T00:00:00",
          "2020-04-02T00:00:00",
          "2020-04-03T00:00:00",
          "2020-04-04T00:00:00",
          "2020-04-05T00:00:00",
          "2020-04-06T00:00:00",
          "2020-04-07T00:00:00",
          "2020-04-08T00:00:00",
          "2020-04-09T00:00:00",
          "2020-04-10T00:00:00",
          "2020-04-11T00:00:00",
          "2020-04-12T00:00:00",
          "2020-03-07T00:00:00",
          "2020-03-08T00:00:00",
          "2020-03-09T00:00:00",
          "2020-03-10T00:00:00",
          "2020-03-11T00:00:00",
          "2020-03-12T00:00:00",
          "2020-03-13T00:00:00",
          "2020-03-14T00:00:00",
          "2020-03-15T00:00:00",
          "2020-03-16T00:00:00",
          "2020-03-17T00:00:00",
          "2020-03-18T00:00:00",
          "2020-03-19T00:00:00",
          "2020-03-20T00:00:00",
          "2020-03-21T00:00:00",
          "2020-03-22T00:00:00",
          "2020-03-23T00:00:00",
          "2020-03-24T00:00:00",
          "2020-03-25T00:00:00",
          "2020-03-26T00:00:00",
          "2020-03-27T00:00:00",
          "2020-03-28T00:00:00",
          "2020-03-29T00:00:00",
          "2020-03-30T00:00:00",
          "2020-03-31T00:00:00",
          "2020-04-01T00:00:00",
          "2020-04-02T00:00:00",
          "2020-04-03T00:00:00",
          "2020-04-04T00:00:00",
          "2020-04-05T00:00:00",
          "2020-04-06T00:00:00",
          "2020-04-07T00:00:00",
          "2020-04-08T00:00:00",
          "2020-04-09T00:00:00",
          "2020-04-10T00:00:00",
          "2020-04-11T00:00:00",
          "2020-04-12T00:00:00",
          "2020-03-07T00:00:00",
          "2020-03-08T00:00:00",
          "2020-03-09T00:00:00",
          "2020-03-10T00:00:00",
          "2020-03-11T00:00:00",
          "2020-03-12T00:00:00",
          "2020-03-13T00:00:00",
          "2020-03-14T00:00:00",
          "2020-03-15T00:00:00",
          "2020-03-16T00:00:00",
          "2020-03-17T00:00:00",
          "2020-03-18T00:00:00",
          "2020-03-19T00:00:00",
          "2020-03-20T00:00:00",
          "2020-03-21T00:00:00",
          "2020-03-22T00:00:00",
          "2020-03-23T00:00:00",
          "2020-03-24T00:00:00",
          "2020-03-25T00:00:00",
          "2020-03-26T00:00:00",
          "2020-03-27T00:00:00",
          "2020-03-28T00:00:00",
          "2020-03-29T00:00:00",
          "2020-03-30T00:00:00",
          "2020-03-31T00:00:00",
          "2020-04-01T00:00:00",
          "2020-04-02T00:00:00",
          "2020-04-03T00:00:00",
          "2020-04-04T00:00:00",
          "2020-04-05T00:00:00",
          "2020-04-06T00:00:00",
          "2020-04-07T00:00:00",
          "2020-04-08T00:00:00",
          "2020-04-09T00:00:00",
          "2020-04-10T00:00:00",
          "2020-04-11T00:00:00",
          "2020-04-12T00:00:00",
          "2020-03-07T00:00:00",
          "2020-03-08T00:00:00",
          "2020-03-09T00:00:00",
          "2020-03-10T00:00:00",
          "2020-03-11T00:00:00",
          "2020-03-12T00:00:00",
          "2020-03-13T00:00:00",
          "2020-03-14T00:00:00",
          "2020-03-15T00:00:00",
          "2020-03-16T00:00:00",
          "2020-03-17T00:00:00",
          "2020-03-18T00:00:00",
          "2020-03-19T00:00:00",
          "2020-03-20T00:00:00",
          "2020-03-21T00:00:00",
          "2020-03-22T00:00:00",
          "2020-03-23T00:00:00",
          "2020-03-24T00:00:00",
          "2020-03-25T00:00:00",
          "2020-03-26T00:00:00",
          "2020-03-27T00:00:00",
          "2020-03-28T00:00:00",
          "2020-03-29T00:00:00",
          "2020-03-30T00:00:00",
          "2020-03-31T00:00:00",
          "2020-04-01T00:00:00",
          "2020-04-02T00:00:00",
          "2020-04-03T00:00:00",
          "2020-04-04T00:00:00",
          "2020-04-05T00:00:00",
          "2020-04-06T00:00:00",
          "2020-04-07T00:00:00",
          "2020-04-08T00:00:00",
          "2020-04-09T00:00:00",
          "2020-04-10T00:00:00",
          "2020-04-11T00:00:00",
          "2020-04-12T00:00:00",
          "2020-03-07T00:00:00",
          "2020-03-08T00:00:00",
          "2020-03-09T00:00:00",
          "2020-03-10T00:00:00",
          "2020-03-11T00:00:00",
          "2020-03-12T00:00:00",
          "2020-03-13T00:00:00",
          "2020-03-14T00:00:00",
          "2020-03-15T00:00:00",
          "2020-03-16T00:00:00",
          "2020-03-17T00:00:00",
          "2020-03-18T00:00:00",
          "2020-03-19T00:00:00",
          "2020-03-20T00:00:00",
          "2020-03-21T00:00:00",
          "2020-03-22T00:00:00",
          "2020-03-23T00:00:00",
          "2020-03-24T00:00:00",
          "2020-03-25T00:00:00",
          "2020-03-26T00:00:00",
          "2020-03-27T00:00:00",
          "2020-03-28T00:00:00",
          "2020-03-29T00:00:00",
          "2020-03-30T00:00:00",
          "2020-03-31T00:00:00",
          "2020-04-01T00:00:00",
          "2020-04-02T00:00:00",
          "2020-04-03T00:00:00",
          "2020-04-04T00:00:00",
          "2020-04-05T00:00:00",
          "2020-04-06T00:00:00",
          "2020-04-07T00:00:00",
          "2020-04-08T00:00:00",
          "2020-04-09T00:00:00",
          "2020-04-10T00:00:00",
          "2020-04-11T00:00:00",
          "2020-04-12T00:00:00",
          "2020-03-07T00:00:00",
          "2020-03-08T00:00:00",
          "2020-03-09T00:00:00",
          "2020-03-10T00:00:00",
          "2020-03-11T00:00:00",
          "2020-03-12T00:00:00",
          "2020-03-13T00:00:00",
          "2020-03-14T00:00:00",
          "2020-03-15T00:00:00",
          "2020-03-16T00:00:00",
          "2020-03-17T00:00:00",
          "2020-03-18T00:00:00",
          "2020-03-19T00:00:00",
          "2020-03-20T00:00:00",
          "2020-03-21T00:00:00",
          "2020-03-22T00:00:00",
          "2020-03-23T00:00:00",
          "2020-03-24T00:00:00",
          "2020-03-25T00:00:00",
          "2020-03-26T00:00:00",
          "2020-03-27T00:00:00",
          "2020-03-28T00:00:00",
          "2020-03-29T00:00:00",
          "2020-03-30T00:00:00",
          "2020-03-31T00:00:00",
          "2020-04-01T00:00:00",
          "2020-04-02T00:00:00",
          "2020-04-03T00:00:00",
          "2020-04-04T00:00:00",
          "2020-04-05T00:00:00",
          "2020-04-06T00:00:00",
          "2020-04-07T00:00:00",
          "2020-04-08T00:00:00",
          "2020-04-09T00:00:00",
          "2020-04-10T00:00:00",
          "2020-04-11T00:00:00",
          "2020-04-12T00:00:00",
          "2020-03-07T00:00:00",
          "2020-03-08T00:00:00",
          "2020-03-09T00:00:00",
          "2020-03-10T00:00:00",
          "2020-03-11T00:00:00",
          "2020-03-12T00:00:00",
          "2020-03-13T00:00:00",
          "2020-03-14T00:00:00",
          "2020-03-15T00:00:00",
          "2020-03-16T00:00:00",
          "2020-03-17T00:00:00",
          "2020-03-18T00:00:00",
          "2020-03-19T00:00:00",
          "2020-03-20T00:00:00",
          "2020-03-21T00:00:00",
          "2020-03-22T00:00:00",
          "2020-03-23T00:00:00",
          "2020-03-24T00:00:00",
          "2020-03-25T00:00:00",
          "2020-03-26T00:00:00",
          "2020-03-27T00:00:00",
          "2020-03-28T00:00:00",
          "2020-03-29T00:00:00",
          "2020-03-30T00:00:00",
          "2020-03-31T00:00:00",
          "2020-04-01T00:00:00",
          "2020-04-02T00:00:00",
          "2020-04-03T00:00:00",
          "2020-04-04T00:00:00",
          "2020-04-05T00:00:00",
          "2020-04-06T00:00:00",
          "2020-04-07T00:00:00",
          "2020-04-08T00:00:00",
          "2020-04-09T00:00:00",
          "2020-04-10T00:00:00",
          "2020-04-11T00:00:00",
          "2020-04-12T00:00:00",
          "2020-03-07T00:00:00",
          "2020-03-08T00:00:00",
          "2020-03-09T00:00:00",
          "2020-03-10T00:00:00",
          "2020-03-11T00:00:00",
          "2020-03-12T00:00:00",
          "2020-03-13T00:00:00",
          "2020-03-14T00:00:00",
          "2020-03-15T00:00:00",
          "2020-03-16T00:00:00",
          "2020-03-17T00:00:00",
          "2020-03-18T00:00:00",
          "2020-03-19T00:00:00",
          "2020-03-20T00:00:00",
          "2020-03-21T00:00:00",
          "2020-03-22T00:00:00",
          "2020-03-23T00:00:00",
          "2020-03-24T00:00:00",
          "2020-03-25T00:00:00",
          "2020-03-26T00:00:00",
          "2020-03-27T00:00:00",
          "2020-03-28T00:00:00",
          "2020-03-29T00:00:00",
          "2020-03-30T00:00:00",
          "2020-03-31T00:00:00",
          "2020-04-01T00:00:00",
          "2020-04-02T00:00:00",
          "2020-04-03T00:00:00",
          "2020-04-04T00:00:00",
          "2020-04-05T00:00:00",
          "2020-04-06T00:00:00",
          "2020-04-07T00:00:00",
          "2020-04-08T00:00:00",
          "2020-04-09T00:00:00",
          "2020-04-10T00:00:00",
          "2020-04-11T00:00:00",
          "2020-04-12T00:00:00",
          "2020-03-07T00:00:00",
          "2020-03-08T00:00:00",
          "2020-03-09T00:00:00",
          "2020-03-10T00:00:00",
          "2020-03-11T00:00:00",
          "2020-03-12T00:00:00",
          "2020-03-13T00:00:00",
          "2020-03-14T00:00:00",
          "2020-03-15T00:00:00",
          "2020-03-16T00:00:00",
          "2020-03-17T00:00:00",
          "2020-03-18T00:00:00",
          "2020-03-19T00:00:00",
          "2020-03-20T00:00:00",
          "2020-03-21T00:00:00",
          "2020-03-22T00:00:00",
          "2020-03-23T00:00:00",
          "2020-03-24T00:00:00",
          "2020-03-25T00:00:00",
          "2020-03-26T00:00:00",
          "2020-03-27T00:00:00",
          "2020-03-28T00:00:00",
          "2020-03-29T00:00:00",
          "2020-03-30T00:00:00",
          "2020-03-31T00:00:00",
          "2020-04-01T00:00:00",
          "2020-04-02T00:00:00",
          "2020-04-03T00:00:00",
          "2020-04-04T00:00:00",
          "2020-04-05T00:00:00",
          "2020-04-06T00:00:00",
          "2020-04-07T00:00:00",
          "2020-04-08T00:00:00",
          "2020-04-09T00:00:00",
          "2020-04-10T00:00:00",
          "2020-04-11T00:00:00",
          "2020-04-12T00:00:00",
          "2020-03-07T00:00:00",
          "2020-03-08T00:00:00",
          "2020-03-09T00:00:00",
          "2020-03-10T00:00:00",
          "2020-03-11T00:00:00",
          "2020-03-12T00:00:00",
          "2020-03-13T00:00:00",
          "2020-03-14T00:00:00",
          "2020-03-15T00:00:00",
          "2020-03-16T00:00:00",
          "2020-03-17T00:00:00",
          "2020-03-18T00:00:00",
          "2020-03-19T00:00:00",
          "2020-03-20T00:00:00",
          "2020-03-21T00:00:00",
          "2020-03-22T00:00:00",
          "2020-03-23T00:00:00",
          "2020-03-24T00:00:00",
          "2020-03-25T00:00:00",
          "2020-03-26T00:00:00",
          "2020-03-27T00:00:00",
          "2020-03-28T00:00:00",
          "2020-03-29T00:00:00",
          "2020-03-30T00:00:00",
          "2020-03-31T00:00:00",
          "2020-04-01T00:00:00",
          "2020-04-02T00:00:00",
          "2020-04-03T00:00:00",
          "2020-04-04T00:00:00",
          "2020-04-05T00:00:00",
          "2020-04-06T00:00:00",
          "2020-04-07T00:00:00",
          "2020-04-08T00:00:00",
          "2020-04-09T00:00:00",
          "2020-04-10T00:00:00",
          "2020-04-11T00:00:00",
          "2020-04-12T00:00:00",
          "2020-03-07T00:00:00",
          "2020-03-08T00:00:00",
          "2020-03-09T00:00:00",
          "2020-03-10T00:00:00",
          "2020-03-11T00:00:00",
          "2020-03-12T00:00:00",
          "2020-03-13T00:00:00",
          "2020-03-14T00:00:00",
          "2020-03-15T00:00:00",
          "2020-03-16T00:00:00",
          "2020-03-17T00:00:00",
          "2020-03-18T00:00:00",
          "2020-03-19T00:00:00",
          "2020-03-20T00:00:00",
          "2020-03-21T00:00:00",
          "2020-03-22T00:00:00",
          "2020-03-23T00:00:00",
          "2020-03-24T00:00:00",
          "2020-03-25T00:00:00",
          "2020-03-26T00:00:00",
          "2020-03-27T00:00:00",
          "2020-03-28T00:00:00",
          "2020-03-29T00:00:00",
          "2020-03-30T00:00:00",
          "2020-03-31T00:00:00",
          "2020-04-01T00:00:00",
          "2020-04-02T00:00:00",
          "2020-04-03T00:00:00",
          "2020-04-04T00:00:00",
          "2020-04-05T00:00:00",
          "2020-04-06T00:00:00",
          "2020-04-07T00:00:00",
          "2020-04-08T00:00:00",
          "2020-04-09T00:00:00",
          "2020-04-10T00:00:00",
          "2020-04-11T00:00:00",
          "2020-04-12T00:00:00",
          "2020-03-07T00:00:00",
          "2020-03-08T00:00:00",
          "2020-03-09T00:00:00",
          "2020-03-10T00:00:00",
          "2020-03-11T00:00:00",
          "2020-03-12T00:00:00",
          "2020-03-13T00:00:00",
          "2020-03-14T00:00:00",
          "2020-03-15T00:00:00",
          "2020-03-16T00:00:00",
          "2020-03-17T00:00:00",
          "2020-03-18T00:00:00",
          "2020-03-19T00:00:00",
          "2020-03-20T00:00:00",
          "2020-03-21T00:00:00",
          "2020-03-22T00:00:00",
          "2020-03-23T00:00:00",
          "2020-03-24T00:00:00",
          "2020-03-25T00:00:00",
          "2020-03-26T00:00:00",
          "2020-03-27T00:00:00",
          "2020-03-28T00:00:00",
          "2020-03-29T00:00:00",
          "2020-03-30T00:00:00",
          "2020-03-31T00:00:00",
          "2020-04-01T00:00:00",
          "2020-04-02T00:00:00",
          "2020-04-03T00:00:00",
          "2020-04-04T00:00:00",
          "2020-04-05T00:00:00",
          "2020-04-06T00:00:00",
          "2020-04-07T00:00:00",
          "2020-04-08T00:00:00",
          "2020-04-09T00:00:00",
          "2020-04-10T00:00:00",
          "2020-04-11T00:00:00",
          "2020-04-12T00:00:00",
          "2020-03-07T00:00:00",
          "2020-03-08T00:00:00",
          "2020-03-09T00:00:00",
          "2020-03-10T00:00:00",
          "2020-03-11T00:00:00",
          "2020-03-12T00:00:00",
          "2020-03-13T00:00:00",
          "2020-03-14T00:00:00",
          "2020-03-15T00:00:00",
          "2020-03-16T00:00:00",
          "2020-03-17T00:00:00",
          "2020-03-18T00:00:00",
          "2020-03-19T00:00:00",
          "2020-03-20T00:00:00",
          "2020-03-21T00:00:00",
          "2020-03-22T00:00:00",
          "2020-03-23T00:00:00",
          "2020-03-24T00:00:00",
          "2020-03-25T00:00:00",
          "2020-03-26T00:00:00",
          "2020-03-27T00:00:00",
          "2020-03-28T00:00:00",
          "2020-03-29T00:00:00",
          "2020-03-30T00:00:00",
          "2020-03-31T00:00:00",
          "2020-04-01T00:00:00",
          "2020-04-02T00:00:00",
          "2020-04-03T00:00:00",
          "2020-04-04T00:00:00",
          "2020-04-05T00:00:00",
          "2020-04-06T00:00:00",
          "2020-04-07T00:00:00",
          "2020-04-08T00:00:00",
          "2020-04-09T00:00:00",
          "2020-04-10T00:00:00",
          "2020-04-11T00:00:00",
          "2020-04-12T00:00:00",
          "2020-03-07T00:00:00",
          "2020-03-08T00:00:00",
          "2020-03-09T00:00:00",
          "2020-03-10T00:00:00",
          "2020-03-11T00:00:00",
          "2020-03-12T00:00:00",
          "2020-03-13T00:00:00",
          "2020-03-14T00:00:00",
          "2020-03-15T00:00:00",
          "2020-03-16T00:00:00",
          "2020-03-17T00:00:00",
          "2020-03-18T00:00:00",
          "2020-03-19T00:00:00",
          "2020-03-20T00:00:00",
          "2020-03-21T00:00:00",
          "2020-03-22T00:00:00",
          "2020-03-23T00:00:00",
          "2020-03-24T00:00:00",
          "2020-03-25T00:00:00",
          "2020-03-26T00:00:00",
          "2020-03-27T00:00:00",
          "2020-03-28T00:00:00",
          "2020-03-29T00:00:00",
          "2020-03-30T00:00:00",
          "2020-03-31T00:00:00",
          "2020-04-01T00:00:00",
          "2020-04-02T00:00:00",
          "2020-04-03T00:00:00",
          "2020-04-04T00:00:00",
          "2020-04-05T00:00:00",
          "2020-04-06T00:00:00",
          "2020-04-07T00:00:00",
          "2020-04-08T00:00:00",
          "2020-04-09T00:00:00",
          "2020-04-10T00:00:00",
          "2020-04-11T00:00:00",
          "2020-04-12T00:00:00",
          "2020-03-07T00:00:00",
          "2020-03-08T00:00:00",
          "2020-03-09T00:00:00",
          "2020-03-10T00:00:00",
          "2020-03-11T00:00:00",
          "2020-03-12T00:00:00",
          "2020-03-13T00:00:00",
          "2020-03-14T00:00:00",
          "2020-03-15T00:00:00",
          "2020-03-16T00:00:00",
          "2020-03-17T00:00:00",
          "2020-03-18T00:00:00",
          "2020-03-19T00:00:00",
          "2020-03-20T00:00:00",
          "2020-03-21T00:00:00",
          "2020-03-22T00:00:00",
          "2020-03-23T00:00:00",
          "2020-03-24T00:00:00",
          "2020-03-25T00:00:00",
          "2020-03-26T00:00:00",
          "2020-03-27T00:00:00",
          "2020-03-28T00:00:00",
          "2020-03-29T00:00:00",
          "2020-03-30T00:00:00",
          "2020-03-31T00:00:00",
          "2020-04-01T00:00:00",
          "2020-04-02T00:00:00",
          "2020-04-03T00:00:00",
          "2020-04-04T00:00:00",
          "2020-04-05T00:00:00",
          "2020-04-06T00:00:00",
          "2020-04-07T00:00:00",
          "2020-04-08T00:00:00",
          "2020-04-09T00:00:00",
          "2020-04-10T00:00:00",
          "2020-04-11T00:00:00",
          "2020-04-12T00:00:00"
         ],
         "y": [
          "Αυστρία",
          "Αυστρία",
          "Αυστρία",
          "Αυστρία",
          "Αυστρία",
          "Αυστρία",
          "Αυστρία",
          "Αυστρία",
          "Αυστρία",
          "Αυστρία",
          "Αυστρία",
          "Αυστρία",
          "Αυστρία",
          "Αυστρία",
          "Αυστρία",
          "Αυστρία",
          "Αυστρία",
          "Αυστρία",
          "Αυστρία",
          "Αυστρία",
          "Αυστρία",
          "Αυστρία",
          "Αυστρία",
          "Αυστρία",
          "Αυστρία",
          "Αυστρία",
          "Αυστρία",
          "Αυστρία",
          "Αυστρία",
          "Αυστρία",
          "Αυστρία",
          "Αυστρία",
          "Αυστρία",
          "Αυστρία",
          "Αυστρία",
          "Αυστρία",
          "Αυστρία",
          "Αζερμπαϊτζάν",
          "Αζερμπαϊτζάν",
          "Αζερμπαϊτζάν",
          "Αζερμπαϊτζάν",
          "Αζερμπαϊτζάν",
          "Αζερμπαϊτζάν",
          "Αζερμπαϊτζάν",
          "Αζερμπαϊτζάν",
          "Αζερμπαϊτζάν",
          "Αζερμπαϊτζάν",
          "Αζερμπαϊτζάν",
          "Αζερμπαϊτζάν",
          "Αζερμπαϊτζάν",
          "Αζερμπαϊτζάν",
          "Αζερμπαϊτζάν",
          "Αζερμπαϊτζάν",
          "Αζερμπαϊτζάν",
          "Αζερμπαϊτζάν",
          "Αζερμπαϊτζάν",
          "Αζερμπαϊτζάν",
          "Αζερμπαϊτζάν",
          "Αζερμπαϊτζάν",
          "Αζερμπαϊτζάν",
          "Αζερμπαϊτζάν",
          "Αζερμπαϊτζάν",
          "Αζερμπαϊτζάν",
          "Αζερμπαϊτζάν",
          "Αζερμπαϊτζάν",
          "Αζερμπαϊτζάν",
          "Αζερμπαϊτζάν",
          "Αζερμπαϊτζάν",
          "Αζερμπαϊτζάν",
          "Αζερμπαϊτζάν",
          "Αζερμπαϊτζάν",
          "Αζερμπαϊτζάν",
          "Αζερμπαϊτζάν",
          "Αζερμπαϊτζάν",
          "Λευκορωσία",
          "Λευκορωσία",
          "Λευκορωσία",
          "Λευκορωσία",
          "Λευκορωσία",
          "Λευκορωσία",
          "Λευκορωσία",
          "Λευκορωσία",
          "Λευκορωσία",
          "Λευκορωσία",
          "Λευκορωσία",
          "Λευκορωσία",
          "Λευκορωσία",
          "Λευκορωσία",
          "Λευκορωσία",
          "Λευκορωσία",
          "Λευκορωσία",
          "Λευκορωσία",
          "Λευκορωσία",
          "Λευκορωσία",
          "Λευκορωσία",
          "Λευκορωσία",
          "Λευκορωσία",
          "Λευκορωσία",
          "Λευκορωσία",
          "Λευκορωσία",
          "Λευκορωσία",
          "Λευκορωσία",
          "Λευκορωσία",
          "Λευκορωσία",
          "Λευκορωσία",
          "Λευκορωσία",
          "Λευκορωσία",
          "Λευκορωσία",
          "Λευκορωσία",
          "Λευκορωσία",
          "Λευκορωσία",
          "Βέλγιο",
          "Βέλγιο",
          "Βέλγιο",
          "Βέλγιο",
          "Βέλγιο",
          "Βέλγιο",
          "Βέλγιο",
          "Βέλγιο",
          "Βέλγιο",
          "Βέλγιο",
          "Βέλγιο",
          "Βέλγιο",
          "Βέλγιο",
          "Βέλγιο",
          "Βέλγιο",
          "Βέλγιο",
          "Βέλγιο",
          "Βέλγιο",
          "Βέλγιο",
          "Βέλγιο",
          "Βέλγιο",
          "Βέλγιο",
          "Βέλγιο",
          "Βέλγιο",
          "Βέλγιο",
          "Βέλγιο",
          "Βέλγιο",
          "Βέλγιο",
          "Βέλγιο",
          "Βέλγιο",
          "Βέλγιο",
          "Βέλγιο",
          "Βέλγιο",
          "Βέλγιο",
          "Βέλγιο",
          "Βέλγιο",
          "Βέλγιο",
          "Βολιβία",
          "Βολιβία",
          "Βολιβία",
          "Βολιβία",
          "Βολιβία",
          "Βολιβία",
          "Βολιβία",
          "Βολιβία",
          "Βολιβία",
          "Βολιβία",
          "Βολιβία",
          "Βολιβία",
          "Βολιβία",
          "Βολιβία",
          "Βολιβία",
          "Βολιβία",
          "Βολιβία",
          "Βολιβία",
          "Βολιβία",
          "Βολιβία",
          "Βολιβία",
          "Βολιβία",
          "Βολιβία",
          "Βολιβία",
          "Βολιβία",
          "Βολιβία",
          "Βολιβία",
          "Βολιβία",
          "Βολιβία",
          "Βολιβία",
          "Βολιβία",
          "Βολιβία",
          "Βολιβία",
          "Βολιβία",
          "Βολιβία",
          "Βολιβία",
          "Βολιβία",
          "Μπουρούντι",
          "Μπουρούντι",
          "Μπουρούντι",
          "Μπουρούντι",
          "Μπουρούντι",
          "Μπουρούντι",
          "Μπουρούντι",
          "Μπουρούντι",
          "Μπουρούντι",
          "Μπουρούντι",
          "Μπουρούντι",
          "Μπουρούντι",
          "Μπουρούντι",
          "Μπουρούντι",
          "Μπουρούντι",
          "Μπουρούντι",
          "Μπουρούντι",
          "Μπουρούντι",
          "Μπουρούντι",
          "Μπουρούντι",
          "Μπουρούντι",
          "Μπουρούντι",
          "Μπουρούντι",
          "Μπουρούντι",
          "Μπουρούντι",
          "Μπουρούντι",
          "Μπουρούντι",
          "Μπουρούντι",
          "Μπουρούντι",
          "Μπουρούντι",
          "Μπουρούντι",
          "Μπουρούντι",
          "Μπουρούντι",
          "Μπουρούντι",
          "Μπουρούντι",
          "Μπουρούντι",
          "Μπουρούντι",
          "Κούβα",
          "Κούβα",
          "Κούβα",
          "Κούβα",
          "Κούβα",
          "Κούβα",
          "Κούβα",
          "Κούβα",
          "Κούβα",
          "Κούβα",
          "Κούβα",
          "Κούβα",
          "Κούβα",
          "Κούβα",
          "Κούβα",
          "Κούβα",
          "Κούβα",
          "Κούβα",
          "Κούβα",
          "Κούβα",
          "Κούβα",
          "Κούβα",
          "Κούβα",
          "Κούβα",
          "Κούβα",
          "Κούβα",
          "Κούβα",
          "Κούβα",
          "Κούβα",
          "Κούβα",
          "Κούβα",
          "Κούβα",
          "Κούβα",
          "Κούβα",
          "Κούβα",
          "Κούβα",
          "Κούβα",
          "Τσεχία",
          "Τσεχία",
          "Τσεχία",
          "Τσεχία",
          "Τσεχία",
          "Τσεχία",
          "Τσεχία",
          "Τσεχία",
          "Τσεχία",
          "Τσεχία",
          "Τσεχία",
          "Τσεχία",
          "Τσεχία",
          "Τσεχία",
          "Τσεχία",
          "Τσεχία",
          "Τσεχία",
          "Τσεχία",
          "Τσεχία",
          "Τσεχία",
          "Τσεχία",
          "Τσεχία",
          "Τσεχία",
          "Τσεχία",
          "Τσεχία",
          "Τσεχία",
          "Τσεχία",
          "Τσεχία",
          "Τσεχία",
          "Τσεχία",
          "Τσεχία",
          "Τσεχία",
          "Τσεχία",
          "Τσεχία",
          "Τσεχία",
          "Τσεχία",
          "Τσεχία",
          "Δομινικανή Δημ/τία",
          "Δομινικανή Δημ/τία",
          "Δομινικανή Δημ/τία",
          "Δομινικανή Δημ/τία",
          "Δομινικανή Δημ/τία",
          "Δομινικανή Δημ/τία",
          "Δομινικανή Δημ/τία",
          "Δομινικανή Δημ/τία",
          "Δομινικανή Δημ/τία",
          "Δομινικανή Δημ/τία",
          "Δομινικανή Δημ/τία",
          "Δομινικανή Δημ/τία",
          "Δομινικανή Δημ/τία",
          "Δομινικανή Δημ/τία",
          "Δομινικανή Δημ/τία",
          "Δομινικανή Δημ/τία",
          "Δομινικανή Δημ/τία",
          "Δομινικανή Δημ/τία",
          "Δομινικανή Δημ/τία",
          "Δομινικανή Δημ/τία",
          "Δομινικανή Δημ/τία",
          "Δομινικανή Δημ/τία",
          "Δομινικανή Δημ/τία",
          "Δομινικανή Δημ/τία",
          "Δομινικανή Δημ/τία",
          "Δομινικανή Δημ/τία",
          "Δομινικανή Δημ/τία",
          "Δομινικανή Δημ/τία",
          "Δομινικανή Δημ/τία",
          "Δομινικανή Δημ/τία",
          "Δομινικανή Δημ/τία",
          "Δομινικανή Δημ/τία",
          "Δομινικανή Δημ/τία",
          "Δομινικανή Δημ/τία",
          "Δομινικανή Δημ/τία",
          "Δομινικανή Δημ/τία",
          "Δομινικανή Δημ/τία",
          "Ελλάδα",
          "Ελλάδα",
          "Ελλάδα",
          "Ελλάδα",
          "Ελλάδα",
          "Ελλάδα",
          "Ελλάδα",
          "Ελλάδα",
          "Ελλάδα",
          "Ελλάδα",
          "Ελλάδα",
          "Ελλάδα",
          "Ελλάδα",
          "Ελλάδα",
          "Ελλάδα",
          "Ελλάδα",
          "Ελλάδα",
          "Ελλάδα",
          "Ελλάδα",
          "Ελλάδα",
          "Ελλάδα",
          "Ελλάδα",
          "Ελλάδα",
          "Ελλάδα",
          "Ελλάδα",
          "Ελλάδα",
          "Ελλάδα",
          "Ελλάδα",
          "Ελλάδα",
          "Ελλάδα",
          "Ελλάδα",
          "Ελλάδα",
          "Ελλάδα",
          "Ελλάδα",
          "Ελλάδα",
          "Ελλάδα",
          "Ελλάδα",
          "Αϊτή",
          "Αϊτή",
          "Αϊτή",
          "Αϊτή",
          "Αϊτή",
          "Αϊτή",
          "Αϊτή",
          "Αϊτή",
          "Αϊτή",
          "Αϊτή",
          "Αϊτή",
          "Αϊτή",
          "Αϊτή",
          "Αϊτή",
          "Αϊτή",
          "Αϊτή",
          "Αϊτή",
          "Αϊτή",
          "Αϊτή",
          "Αϊτή",
          "Αϊτή",
          "Αϊτή",
          "Αϊτή",
          "Αϊτή",
          "Αϊτή",
          "Αϊτή",
          "Αϊτή",
          "Αϊτή",
          "Αϊτή",
          "Αϊτή",
          "Αϊτή",
          "Αϊτή",
          "Αϊτή",
          "Αϊτή",
          "Αϊτή",
          "Αϊτή",
          "Αϊτή",
          "Ονδούρα",
          "Ονδούρα",
          "Ονδούρα",
          "Ονδούρα",
          "Ονδούρα",
          "Ονδούρα",
          "Ονδούρα",
          "Ονδούρα",
          "Ονδούρα",
          "Ονδούρα",
          "Ονδούρα",
          "Ονδούρα",
          "Ονδούρα",
          "Ονδούρα",
          "Ονδούρα",
          "Ονδούρα",
          "Ονδούρα",
          "Ονδούρα",
          "Ονδούρα",
          "Ονδούρα",
          "Ονδούρα",
          "Ονδούρα",
          "Ονδούρα",
          "Ονδούρα",
          "Ονδούρα",
          "Ονδούρα",
          "Ονδούρα",
          "Ονδούρα",
          "Ονδούρα",
          "Ονδούρα",
          "Ονδούρα",
          "Ονδούρα",
          "Ονδούρα",
          "Ονδούρα",
          "Ονδούρα",
          "Ονδούρα",
          "Ονδούρα",
          "Ουγγαρία",
          "Ουγγαρία",
          "Ουγγαρία",
          "Ουγγαρία",
          "Ουγγαρία",
          "Ουγγαρία",
          "Ουγγαρία",
          "Ουγγαρία",
          "Ουγγαρία",
          "Ουγγαρία",
          "Ουγγαρία",
          "Ουγγαρία",
          "Ουγγαρία",
          "Ουγγαρία",
          "Ουγγαρία",
          "Ουγγαρία",
          "Ουγγαρία",
          "Ουγγαρία",
          "Ουγγαρία",
          "Ουγγαρία",
          "Ουγγαρία",
          "Ουγγαρία",
          "Ουγγαρία",
          "Ουγγαρία",
          "Ουγγαρία",
          "Ουγγαρία",
          "Ουγγαρία",
          "Ουγγαρία",
          "Ουγγαρία",
          "Ουγγαρία",
          "Ουγγαρία",
          "Ουγγαρία",
          "Ουγγαρία",
          "Ουγγαρία",
          "Ουγγαρία",
          "Ουγγαρία",
          "Ουγγαρία",
          "Ιορδανία",
          "Ιορδανία",
          "Ιορδανία",
          "Ιορδανία",
          "Ιορδανία",
          "Ιορδανία",
          "Ιορδανία",
          "Ιορδανία",
          "Ιορδανία",
          "Ιορδανία",
          "Ιορδανία",
          "Ιορδανία",
          "Ιορδανία",
          "Ιορδανία",
          "Ιορδανία",
          "Ιορδανία",
          "Ιορδανία",
          "Ιορδανία",
          "Ιορδανία",
          "Ιορδανία",
          "Ιορδανία",
          "Ιορδανία",
          "Ιορδανία",
          "Ιορδανία",
          "Ιορδανία",
          "Ιορδανία",
          "Ιορδανία",
          "Ιορδανία",
          "Ιορδανία",
          "Ιορδανία",
          "Ιορδανία",
          "Ιορδανία",
          "Ιορδανία",
          "Ιορδανία",
          "Ιορδανία",
          "Ιορδανία",
          "Ιορδανία",
          "Πορτογαλία",
          "Πορτογαλία",
          "Πορτογαλία",
          "Πορτογαλία",
          "Πορτογαλία",
          "Πορτογαλία",
          "Πορτογαλία",
          "Πορτογαλία",
          "Πορτογαλία",
          "Πορτογαλία",
          "Πορτογαλία",
          "Πορτογαλία",
          "Πορτογαλία",
          "Πορτογαλία",
          "Πορτογαλία",
          "Πορτογαλία",
          "Πορτογαλία",
          "Πορτογαλία",
          "Πορτογαλία",
          "Πορτογαλία",
          "Πορτογαλία",
          "Πορτογαλία",
          "Πορτογαλία",
          "Πορτογαλία",
          "Πορτογαλία",
          "Πορτογαλία",
          "Πορτογαλία",
          "Πορτογαλία",
          "Πορτογαλία",
          "Πορτογαλία",
          "Πορτογαλία",
          "Πορτογαλία",
          "Πορτογαλία",
          "Πορτογαλία",
          "Πορτογαλία",
          "Πορτογαλία",
          "Πορτογαλία",
          "Νότιο Σουδάν",
          "Νότιο Σουδάν",
          "Νότιο Σουδάν",
          "Νότιο Σουδάν",
          "Νότιο Σουδάν",
          "Νότιο Σουδάν",
          "Νότιο Σουδάν",
          "Νότιο Σουδάν",
          "Νότιο Σουδάν",
          "Νότιο Σουδάν",
          "Νότιο Σουδάν",
          "Νότιο Σουδάν",
          "Νότιο Σουδάν",
          "Νότιο Σουδάν",
          "Νότιο Σουδάν",
          "Νότιο Σουδάν",
          "Νότιο Σουδάν",
          "Νότιο Σουδάν",
          "Νότιο Σουδάν",
          "Νότιο Σουδάν",
          "Νότιο Σουδάν",
          "Νότιο Σουδάν",
          "Νότιο Σουδάν",
          "Νότιο Σουδάν",
          "Νότιο Σουδάν",
          "Νότιο Σουδάν",
          "Νότιο Σουδάν",
          "Νότιο Σουδάν",
          "Νότιο Σουδάν",
          "Νότιο Σουδάν",
          "Νότιο Σουδάν",
          "Νότιο Σουδάν",
          "Νότιο Σουδάν",
          "Νότιο Σουδάν",
          "Νότιο Σουδάν",
          "Νότιο Σουδάν",
          "Νότιο Σουδάν",
          "Σουηδία",
          "Σουηδία",
          "Σουηδία",
          "Σουηδία",
          "Σουηδία",
          "Σουηδία",
          "Σουηδία",
          "Σουηδία",
          "Σουηδία",
          "Σουηδία",
          "Σουηδία",
          "Σουηδία",
          "Σουηδία",
          "Σουηδία",
          "Σουηδία",
          "Σουηδία",
          "Σουηδία",
          "Σουηδία",
          "Σουηδία",
          "Σουηδία",
          "Σουηδία",
          "Σουηδία",
          "Σουηδία",
          "Σουηδία",
          "Σουηδία",
          "Σουηδία",
          "Σουηδία",
          "Σουηδία",
          "Σουηδία",
          "Σουηδία",
          "Σουηδία",
          "Σουηδία",
          "Σουηδία",
          "Σουηδία",
          "Σουηδία",
          "Σουηδία",
          "Σουηδία",
          "Τυνησία",
          "Τυνησία",
          "Τυνησία",
          "Τυνησία",
          "Τυνησία",
          "Τυνησία",
          "Τυνησία",
          "Τυνησία",
          "Τυνησία",
          "Τυνησία",
          "Τυνησία",
          "Τυνησία",
          "Τυνησία",
          "Τυνησία",
          "Τυνησία",
          "Τυνησία",
          "Τυνησία",
          "Τυνησία",
          "Τυνησία",
          "Τυνησία",
          "Τυνησία",
          "Τυνησία",
          "Τυνησία",
          "Τυνησία",
          "Τυνησία",
          "Τυνησία",
          "Τυνησία",
          "Τυνησία",
          "Τυνησία",
          "Τυνησία",
          "Τυνησία",
          "Τυνησία",
          "Τυνησία",
          "Τυνησία",
          "Τυνησία",
          "Τυνησία",
          "Τυνησία",
          "Ην. Αραβικά Εμιράτα",
          "Ην. Αραβικά Εμιράτα",
          "Ην. Αραβικά Εμιράτα",
          "Ην. Αραβικά Εμιράτα",
          "Ην. Αραβικά Εμιράτα",
          "Ην. Αραβικά Εμιράτα",
          "Ην. Αραβικά Εμιράτα",
          "Ην. Αραβικά Εμιράτα",
          "Ην. Αραβικά Εμιράτα",
          "Ην. Αραβικά Εμιράτα",
          "Ην. Αραβικά Εμιράτα",
          "Ην. Αραβικά Εμιράτα",
          "Ην. Αραβικά Εμιράτα",
          "Ην. Αραβικά Εμιράτα",
          "Ην. Αραβικά Εμιράτα",
          "Ην. Αραβικά Εμιράτα",
          "Ην. Αραβικά Εμιράτα",
          "Ην. Αραβικά Εμιράτα",
          "Ην. Αραβικά Εμιράτα",
          "Ην. Αραβικά Εμιράτα",
          "Ην. Αραβικά Εμιράτα",
          "Ην. Αραβικά Εμιράτα",
          "Ην. Αραβικά Εμιράτα",
          "Ην. Αραβικά Εμιράτα",
          "Ην. Αραβικά Εμιράτα",
          "Ην. Αραβικά Εμιράτα",
          "Ην. Αραβικά Εμιράτα",
          "Ην. Αραβικά Εμιράτα",
          "Ην. Αραβικά Εμιράτα",
          "Ην. Αραβικά Εμιράτα",
          "Ην. Αραβικά Εμιράτα",
          "Ην. Αραβικά Εμιράτα",
          "Ην. Αραβικά Εμιράτα",
          "Ην. Αραβικά Εμιράτα",
          "Ην. Αραβικά Εμιράτα",
          "Ην. Αραβικά Εμιράτα",
          "Ην. Αραβικά Εμιράτα"
         ],
         "z": [
          0,
          0,
          0,
          0,
          0,
          0.01,
          0,
          0,
          0,
          0.02,
          0,
          0.01,
          0.02,
          0,
          0.02,
          0.09,
          0.06,
          0.08,
          0.02,
          0.21,
          0.1,
          0.11,
          0.2,
          0.24,
          0.22,
          0.2,
          0.13,
          0.11,
          0.2,
          0.2,
          0.18,
          0.26,
          0.33,
          0.24,
          0.27,
          0.2,
          0.14,
          0,
          0,
          0,
          0,
          0,
          0,
          0.01,
          0,
          0,
          0,
          0,
          0,
          0,
          0,
          0,
          0,
          0,
          0,
          0.01,
          0.01,
          0,
          0.01,
          0,
          0,
          0.01,
          0,
          0,
          0,
          0,
          0.02,
          0,
          0.01,
          0,
          0.01,
          0.01,
          0.01,
          0,
          0,
          0,
          0,
          0,
          0,
          0,
          0,
          0,
          0,
          0,
          0,
          0,
          0,
          0,
          0,
          0,
          0,
          0,
          0,
          0,
          0,
          0,
          0,
          0,
          0.01,
          0.01,
          0.02,
          0,
          0.01,
          0.03,
          0.05,
          0,
          0,
          0.03,
          0.03,
          0.04,
          0.03,
          0,
          0,
          0,
          0,
          0.03,
          0,
          0,
          0.01,
          0,
          0.01,
          0.04,
          0.03,
          0.06,
          0.14,
          0.26,
          0.07,
          0.11,
          0.29,
          0.48,
          0.36,
          0.6,
          0.55,
          0.67,
          0.71,
          1.66,
          1.06,
          1.58,
          1.14,
          1.21,
          1.42,
          1.6,
          3.48,
          1.77,
          2.44,
          4.28,
          2.82,
          2.19,
          0,
          0,
          0,
          0,
          0,
          0,
          0,
          0,
          0,
          0,
          0,
          0,
          0,
          0,
          0,
          0,
          0,
          0,
          0,
          0,
          0,
          0,
          0.01,
          0.03,
          0.02,
          0.01,
          0.01,
          0.01,
          0.01,
          0,
          0.01,
          0.03,
          0.01,
          0.03,
          0.01,
          0.01,
          0.03,
          0,
          0,
          0,
          0,
          0,
          0,
          0,
          0,
          0,
          0,
          0,
          0,
          0,
          0,
          0,
          0,
          0,
          0,
          0,
          0,
          0,
          0,
          0,
          0,
          0,
          0,
          0,
          0,
          0,
          0,
          0,
          0,
          0,
          0,
          0,
          0,
          0,
          0,
          0,
          0,
          0,
          0,
          0,
          0,
          0,
          0,
          0,
          0,
          0.01,
          0,
          0,
          0,
          0,
          0,
          0,
          0,
          0.01,
          0,
          0.01,
          0,
          0.01,
          0.02,
          0,
          0,
          0,
          0,
          0.02,
          0.01,
          0.02,
          0.01,
          0.03,
          0,
          0.01,
          0.02,
          0,
          0,
          0,
          0,
          0,
          0,
          0,
          0,
          0,
          0,
          0,
          0,
          0,
          0,
          0,
          0.01,
          0,
          0.02,
          0.03,
          0.03,
          0,
          0.02,
          0.05,
          0.07,
          0.07,
          0.07,
          0.05,
          0.08,
          0.06,
          0.07,
          0.1,
          0.09,
          0.1,
          0.12,
          0.07,
          0.09,
          0.08,
          0,
          0,
          0,
          0,
          0,
          0,
          0,
          0,
          0,
          0,
          0.01,
          0,
          0.01,
          0,
          0,
          0.01,
          0,
          0.03,
          0.04,
          0,
          0.09,
          0.07,
          0.1,
          0.03,
          0.08,
          0.06,
          0.03,
          0.07,
          0,
          0.13,
          0.04,
          0.11,
          0.09,
          0.09,
          0.07,
          0.08,
          0.35,
          0,
          0,
          0,
          0,
          0.01,
          0,
          0,
          0.02,
          0.01,
          0,
          0.01,
          0,
          0.01,
          0,
          0.07,
          0.02,
          0.02,
          0.03,
          0.02,
          0.04,
          0.02,
          0.04,
          0.06,
          0.05,
          0.06,
          0.01,
          0.03,
          0.1,
          0.05,
          0.05,
          0.06,
          0.02,
          0.02,
          0.04,
          0.05,
          0.01,
          0.05,
          0,
          0,
          0,
          0,
          0,
          0,
          0,
          0,
          0,
          0,
          0,
          0,
          0,
          0,
          0,
          0,
          0,
          0,
          0,
          0,
          0,
          0,
          0,
          0,
          0,
          0,
          0,
          0,
          0,
          0.01,
          0,
          0,
          0,
          0.01,
          0,
          0,
          0.01,
          0,
          0,
          0,
          0,
          0,
          0,
          0,
          0,
          0,
          0,
          0,
          0,
          0,
          0,
          0,
          0,
          0,
          0,
          0,
          0.01,
          0,
          0,
          0.02,
          0.04,
          0,
          0.03,
          0.04,
          0.01,
          0,
          0.07,
          0,
          0,
          0,
          0.01,
          0,
          0.01,
          0.01,
          0,
          0,
          0,
          0,
          0,
          0,
          0,
          0,
          0.01,
          0,
          0,
          0,
          0,
          0.02,
          0.01,
          0.02,
          0.01,
          0.02,
          0.01,
          0,
          0,
          0.01,
          0.02,
          0.02,
          0.01,
          0.04,
          0.01,
          0.05,
          0.06,
          0.02,
          0.04,
          0.09,
          0.11,
          0.08,
          0.11,
          0.08,
          0.14,
          0,
          0,
          0,
          0,
          0,
          0,
          0,
          0,
          0,
          0,
          0,
          0,
          0,
          0,
          0,
          0,
          0,
          0,
          0,
          0,
          0.01,
          0,
          0.02,
          0.02,
          0,
          0,
          0,
          0,
          0,
          0,
          0.01,
          0,
          0,
          0.01,
          0,
          0,
          0,
          0,
          0,
          0,
          0,
          0,
          0,
          0,
          0,
          0,
          0,
          0.01,
          0.01,
          0.01,
          0.03,
          0.06,
          0.02,
          0.09,
          0.1,
          0.1,
          0.17,
          0.16,
          0.24,
          0.19,
          0.21,
          0.2,
          0.26,
          0.22,
          0.36,
          0.2,
          0.28,
          0.16,
          0.33,
          0.34,
          0.28,
          0.25,
          0.34,
          0.33,
          0,
          0,
          0,
          0,
          0,
          0,
          0,
          0,
          0,
          0,
          0,
          0,
          0,
          0,
          0,
          0,
          0,
          0,
          0,
          0,
          0,
          0,
          0,
          0,
          0,
          0,
          0,
          0,
          0,
          0,
          0,
          0,
          0,
          0,
          0,
          0,
          0,
          0,
          0,
          0,
          0,
          0.01,
          0,
          0,
          0.01,
          0.01,
          0.03,
          0.01,
          0.03,
          0.01,
          0.05,
          0.04,
          0.01,
          0.04,
          0.11,
          0.26,
          0.15,
          0.28,
          0,
          0.05,
          0.36,
          0.34,
          0.58,
          0.68,
          0.5,
          0.15,
          0.28,
          0.75,
          1.13,
          0.95,
          1.05,
          0.76,
          0.17,
          0.12,
          0,
          0,
          0,
          0,
          0,
          0,
          0,
          0,
          0,
          0,
          0,
          0,
          0.01,
          0,
          0,
          0.02,
          0,
          0.01,
          0.01,
          0.01,
          0,
          0.02,
          0,
          0,
          0.02,
          0.02,
          0.02,
          0.03,
          0,
          0.03,
          0,
          0.01,
          0.01,
          0.01,
          0,
          0.03,
          0.03,
          0,
          0,
          0,
          0,
          0,
          0,
          0,
          0,
          0,
          0,
          0,
          0,
          0,
          0.02,
          0,
          0,
          0,
          0,
          0,
          0,
          0,
          0,
          0.01,
          0.02,
          0.01,
          0.02,
          0,
          0.01,
          0.01,
          0,
          0.01,
          0.01,
          0,
          0.02,
          0.02,
          0.04,
          0.02
         ]
        }
       ],
       "layout": {
        "font": {
         "color": "#114B5F",
         "family": "Roboto",
         "size": 11
        },
        "height": 380,
        "hoverlabel": {
         "align": "left",
         "bgcolor": "white",
         "font": {
          "family": "Roboto",
          "size": 12
         }
        },
        "hovermode": "closest",
        "margin": {
         "b": 20,
         "l": 10,
         "pad": 1,
         "r": 10,
         "t": 100
        },
        "paper_bgcolor": "#E6ECEC",
        "plot_bgcolor": "#E6ECEC",
        "template": {
         "data": {
          "bar": [
           {
            "error_x": {
             "color": "#2a3f5f"
            },
            "error_y": {
             "color": "#2a3f5f"
            },
            "marker": {
             "line": {
              "color": "#E5ECF6",
              "width": 0.5
             }
            },
            "type": "bar"
           }
          ],
          "barpolar": [
           {
            "marker": {
             "line": {
              "color": "#E5ECF6",
              "width": 0.5
             }
            },
            "type": "barpolar"
           }
          ],
          "carpet": [
           {
            "aaxis": {
             "endlinecolor": "#2a3f5f",
             "gridcolor": "white",
             "linecolor": "white",
             "minorgridcolor": "white",
             "startlinecolor": "#2a3f5f"
            },
            "baxis": {
             "endlinecolor": "#2a3f5f",
             "gridcolor": "white",
             "linecolor": "white",
             "minorgridcolor": "white",
             "startlinecolor": "#2a3f5f"
            },
            "type": "carpet"
           }
          ],
          "choropleth": [
           {
            "colorbar": {
             "outlinewidth": 0,
             "ticks": ""
            },
            "type": "choropleth"
           }
          ],
          "contour": [
           {
            "colorbar": {
             "outlinewidth": 0,
             "ticks": ""
            },
            "colorscale": [
             [
              0,
              "#0d0887"
             ],
             [
              0.1111111111111111,
              "#46039f"
             ],
             [
              0.2222222222222222,
              "#7201a8"
             ],
             [
              0.3333333333333333,
              "#9c179e"
             ],
             [
              0.4444444444444444,
              "#bd3786"
             ],
             [
              0.5555555555555556,
              "#d8576b"
             ],
             [
              0.6666666666666666,
              "#ed7953"
             ],
             [
              0.7777777777777778,
              "#fb9f3a"
             ],
             [
              0.8888888888888888,
              "#fdca26"
             ],
             [
              1,
              "#f0f921"
             ]
            ],
            "type": "contour"
           }
          ],
          "contourcarpet": [
           {
            "colorbar": {
             "outlinewidth": 0,
             "ticks": ""
            },
            "type": "contourcarpet"
           }
          ],
          "heatmap": [
           {
            "colorbar": {
             "outlinewidth": 0,
             "ticks": ""
            },
            "colorscale": [
             [
              0,
              "#0d0887"
             ],
             [
              0.1111111111111111,
              "#46039f"
             ],
             [
              0.2222222222222222,
              "#7201a8"
             ],
             [
              0.3333333333333333,
              "#9c179e"
             ],
             [
              0.4444444444444444,
              "#bd3786"
             ],
             [
              0.5555555555555556,
              "#d8576b"
             ],
             [
              0.6666666666666666,
              "#ed7953"
             ],
             [
              0.7777777777777778,
              "#fb9f3a"
             ],
             [
              0.8888888888888888,
              "#fdca26"
             ],
             [
              1,
              "#f0f921"
             ]
            ],
            "type": "heatmap"
           }
          ],
          "heatmapgl": [
           {
            "colorbar": {
             "outlinewidth": 0,
             "ticks": ""
            },
            "colorscale": [
             [
              0,
              "#0d0887"
             ],
             [
              0.1111111111111111,
              "#46039f"
             ],
             [
              0.2222222222222222,
              "#7201a8"
             ],
             [
              0.3333333333333333,
              "#9c179e"
             ],
             [
              0.4444444444444444,
              "#bd3786"
             ],
             [
              0.5555555555555556,
              "#d8576b"
             ],
             [
              0.6666666666666666,
              "#ed7953"
             ],
             [
              0.7777777777777778,
              "#fb9f3a"
             ],
             [
              0.8888888888888888,
              "#fdca26"
             ],
             [
              1,
              "#f0f921"
             ]
            ],
            "type": "heatmapgl"
           }
          ],
          "histogram": [
           {
            "marker": {
             "colorbar": {
              "outlinewidth": 0,
              "ticks": ""
             }
            },
            "type": "histogram"
           }
          ],
          "histogram2d": [
           {
            "colorbar": {
             "outlinewidth": 0,
             "ticks": ""
            },
            "colorscale": [
             [
              0,
              "#0d0887"
             ],
             [
              0.1111111111111111,
              "#46039f"
             ],
             [
              0.2222222222222222,
              "#7201a8"
             ],
             [
              0.3333333333333333,
              "#9c179e"
             ],
             [
              0.4444444444444444,
              "#bd3786"
             ],
             [
              0.5555555555555556,
              "#d8576b"
             ],
             [
              0.6666666666666666,
              "#ed7953"
             ],
             [
              0.7777777777777778,
              "#fb9f3a"
             ],
             [
              0.8888888888888888,
              "#fdca26"
             ],
             [
              1,
              "#f0f921"
             ]
            ],
            "type": "histogram2d"
           }
          ],
          "histogram2dcontour": [
           {
            "colorbar": {
             "outlinewidth": 0,
             "ticks": ""
            },
            "colorscale": [
             [
              0,
              "#0d0887"
             ],
             [
              0.1111111111111111,
              "#46039f"
             ],
             [
              0.2222222222222222,
              "#7201a8"
             ],
             [
              0.3333333333333333,
              "#9c179e"
             ],
             [
              0.4444444444444444,
              "#bd3786"
             ],
             [
              0.5555555555555556,
              "#d8576b"
             ],
             [
              0.6666666666666666,
              "#ed7953"
             ],
             [
              0.7777777777777778,
              "#fb9f3a"
             ],
             [
              0.8888888888888888,
              "#fdca26"
             ],
             [
              1,
              "#f0f921"
             ]
            ],
            "type": "histogram2dcontour"
           }
          ],
          "mesh3d": [
           {
            "colorbar": {
             "outlinewidth": 0,
             "ticks": ""
            },
            "type": "mesh3d"
           }
          ],
          "parcoords": [
           {
            "line": {
             "colorbar": {
              "outlinewidth": 0,
              "ticks": ""
             }
            },
            "type": "parcoords"
           }
          ],
          "pie": [
           {
            "automargin": true,
            "type": "pie"
           }
          ],
          "scatter": [
           {
            "marker": {
             "colorbar": {
              "outlinewidth": 0,
              "ticks": ""
             }
            },
            "type": "scatter"
           }
          ],
          "scatter3d": [
           {
            "line": {
             "colorbar": {
              "outlinewidth": 0,
              "ticks": ""
             }
            },
            "marker": {
             "colorbar": {
              "outlinewidth": 0,
              "ticks": ""
             }
            },
            "type": "scatter3d"
           }
          ],
          "scattercarpet": [
           {
            "marker": {
             "colorbar": {
              "outlinewidth": 0,
              "ticks": ""
             }
            },
            "type": "scattercarpet"
           }
          ],
          "scattergeo": [
           {
            "marker": {
             "colorbar": {
              "outlinewidth": 0,
              "ticks": ""
             }
            },
            "type": "scattergeo"
           }
          ],
          "scattergl": [
           {
            "marker": {
             "colorbar": {
              "outlinewidth": 0,
              "ticks": ""
             }
            },
            "type": "scattergl"
           }
          ],
          "scattermapbox": [
           {
            "marker": {
             "colorbar": {
              "outlinewidth": 0,
              "ticks": ""
             }
            },
            "type": "scattermapbox"
           }
          ],
          "scatterpolar": [
           {
            "marker": {
             "colorbar": {
              "outlinewidth": 0,
              "ticks": ""
             }
            },
            "type": "scatterpolar"
           }
          ],
          "scatterpolargl": [
           {
            "marker": {
             "colorbar": {
              "outlinewidth": 0,
              "ticks": ""
             }
            },
            "type": "scatterpolargl"
           }
          ],
          "scatterternary": [
           {
            "marker": {
             "colorbar": {
              "outlinewidth": 0,
              "ticks": ""
             }
            },
            "type": "scatterternary"
           }
          ],
          "surface": [
           {
            "colorbar": {
             "outlinewidth": 0,
             "ticks": ""
            },
            "colorscale": [
             [
              0,
              "#0d0887"
             ],
             [
              0.1111111111111111,
              "#46039f"
             ],
             [
              0.2222222222222222,
              "#7201a8"
             ],
             [
              0.3333333333333333,
              "#9c179e"
             ],
             [
              0.4444444444444444,
              "#bd3786"
             ],
             [
              0.5555555555555556,
              "#d8576b"
             ],
             [
              0.6666666666666666,
              "#ed7953"
             ],
             [
              0.7777777777777778,
              "#fb9f3a"
             ],
             [
              0.8888888888888888,
              "#fdca26"
             ],
             [
              1,
              "#f0f921"
             ]
            ],
            "type": "surface"
           }
          ],
          "table": [
           {
            "cells": {
             "fill": {
              "color": "#EBF0F8"
             },
             "line": {
              "color": "white"
             }
            },
            "header": {
             "fill": {
              "color": "#C8D4E3"
             },
             "line": {
              "color": "white"
             }
            },
            "type": "table"
           }
          ]
         },
         "layout": {
          "annotationdefaults": {
           "arrowcolor": "#2a3f5f",
           "arrowhead": 0,
           "arrowwidth": 1
          },
          "coloraxis": {
           "colorbar": {
            "outlinewidth": 0,
            "ticks": ""
           }
          },
          "colorscale": {
           "diverging": [
            [
             0,
             "#8e0152"
            ],
            [
             0.1,
             "#c51b7d"
            ],
            [
             0.2,
             "#de77ae"
            ],
            [
             0.3,
             "#f1b6da"
            ],
            [
             0.4,
             "#fde0ef"
            ],
            [
             0.5,
             "#f7f7f7"
            ],
            [
             0.6,
             "#e6f5d0"
            ],
            [
             0.7,
             "#b8e186"
            ],
            [
             0.8,
             "#7fbc41"
            ],
            [
             0.9,
             "#4d9221"
            ],
            [
             1,
             "#276419"
            ]
           ],
           "sequential": [
            [
             0,
             "#0d0887"
            ],
            [
             0.1111111111111111,
             "#46039f"
            ],
            [
             0.2222222222222222,
             "#7201a8"
            ],
            [
             0.3333333333333333,
             "#9c179e"
            ],
            [
             0.4444444444444444,
             "#bd3786"
            ],
            [
             0.5555555555555556,
             "#d8576b"
            ],
            [
             0.6666666666666666,
             "#ed7953"
            ],
            [
             0.7777777777777778,
             "#fb9f3a"
            ],
            [
             0.8888888888888888,
             "#fdca26"
            ],
            [
             1,
             "#f0f921"
            ]
           ],
           "sequentialminus": [
            [
             0,
             "#0d0887"
            ],
            [
             0.1111111111111111,
             "#46039f"
            ],
            [
             0.2222222222222222,
             "#7201a8"
            ],
            [
             0.3333333333333333,
             "#9c179e"
            ],
            [
             0.4444444444444444,
             "#bd3786"
            ],
            [
             0.5555555555555556,
             "#d8576b"
            ],
            [
             0.6666666666666666,
             "#ed7953"
            ],
            [
             0.7777777777777778,
             "#fb9f3a"
            ],
            [
             0.8888888888888888,
             "#fdca26"
            ],
            [
             1,
             "#f0f921"
            ]
           ]
          },
          "colorway": [
           "#636efa",
           "#EF553B",
           "#00cc96",
           "#ab63fa",
           "#FFA15A",
           "#19d3f3",
           "#FF6692",
           "#B6E880",
           "#FF97FF",
           "#FECB52"
          ],
          "font": {
           "color": "#2a3f5f"
          },
          "geo": {
           "bgcolor": "white",
           "lakecolor": "white",
           "landcolor": "#E5ECF6",
           "showlakes": true,
           "showland": true,
           "subunitcolor": "white"
          },
          "hoverlabel": {
           "align": "left"
          },
          "hovermode": "closest",
          "mapbox": {
           "style": "light"
          },
          "paper_bgcolor": "white",
          "plot_bgcolor": "#E5ECF6",
          "polar": {
           "angularaxis": {
            "gridcolor": "white",
            "linecolor": "white",
            "ticks": ""
           },
           "bgcolor": "#E5ECF6",
           "radialaxis": {
            "gridcolor": "white",
            "linecolor": "white",
            "ticks": ""
           }
          },
          "scene": {
           "xaxis": {
            "backgroundcolor": "#E5ECF6",
            "gridcolor": "white",
            "gridwidth": 2,
            "linecolor": "white",
            "showbackground": true,
            "ticks": "",
            "zerolinecolor": "white"
           },
           "yaxis": {
            "backgroundcolor": "#E5ECF6",
            "gridcolor": "white",
            "gridwidth": 2,
            "linecolor": "white",
            "showbackground": true,
            "ticks": "",
            "zerolinecolor": "white"
           },
           "zaxis": {
            "backgroundcolor": "#E5ECF6",
            "gridcolor": "white",
            "gridwidth": 2,
            "linecolor": "white",
            "showbackground": true,
            "ticks": "",
            "zerolinecolor": "white"
           }
          },
          "shapedefaults": {
           "line": {
            "color": "#2a3f5f"
           }
          },
          "ternary": {
           "aaxis": {
            "gridcolor": "white",
            "linecolor": "white",
            "ticks": ""
           },
           "baxis": {
            "gridcolor": "white",
            "linecolor": "white",
            "ticks": ""
           },
           "bgcolor": "#E5ECF6",
           "caxis": {
            "gridcolor": "white",
            "linecolor": "white",
            "ticks": ""
           }
          },
          "title": {
           "x": 0.05
          },
          "xaxis": {
           "automargin": true,
           "gridcolor": "white",
           "linecolor": "white",
           "ticks": "",
           "title": {
            "standoff": 15
           },
           "zerolinecolor": "white",
           "zerolinewidth": 2
          },
          "yaxis": {
           "automargin": true,
           "gridcolor": "white",
           "linecolor": "white",
           "ticks": "",
           "title": {
            "standoff": 15
           },
           "zerolinecolor": "white",
           "zerolinewidth": 2
          }
         }
        },
        "title": {
         "text": "Θάνατοι ανά 100 χιλ. πληθυσμού"
        },
        "xaxis": {
         "side": "top"
        }
       }
      },
      "text/html": [
       "<div>\n",
       "        \n",
       "        \n",
       "            <div id=\"aaa48d1d-0337-47a9-b0c6-4218e85c6ca5\" class=\"plotly-graph-div\" style=\"height:380px; width:100%;\"></div>\n",
       "            <script type=\"text/javascript\">\n",
       "                require([\"plotly\"], function(Plotly) {\n",
       "                    window.PLOTLYENV=window.PLOTLYENV || {};\n",
       "                    \n",
       "                if (document.getElementById(\"aaa48d1d-0337-47a9-b0c6-4218e85c6ca5\")) {\n",
       "                    Plotly.newPlot(\n",
       "                        'aaa48d1d-0337-47a9-b0c6-4218e85c6ca5',\n",
       "                        [{\"colorbar\": {\"tick0\": 0, \"tickmode\": \"auto\", \"tickvals\": [0, 1000, 1800], \"title\": {\"text\": \"\\u03b8\\u03ac\\u03bd\\u03b1\\u03c4\\u03bf\\u03b9/<br>100 \\u03c7\\u03b9\\u03bb \"}}, \"colorscale\": [[0, \"#E6ECEC\"], [0.0001, \"#dadada\"], [0.001, \"#d7dfe3\"], [0.01, \"#b0bfc7\"], [0.1, \"#3f6678\"], [1.0, \"#BA3A0A\"]], \"customdata\": [0, 0, 0, 0, 0, 1, 0, 0, 0, 2, 0, 1, 2, 0, 2, 8, 5, 7, 2, 19, 9, 10, 18, 22, 20, 18, 12, 10, 18, 18, 16, 23, 30, 22, 24, 18, 13, 0, 0, 0, 0, 0, 0, 1, 0, 0, 0, 0, 0, 0, 0, 0, 0, 0, 0, 1, 1, 0, 1, 0, 0, 1, 0, 0, 0, 0, 2, 0, 1, 0, 1, 1, 1, 0, 0, 0, 0, 0, 0, 0, 0, 0, 0, 0, 0, 0, 0, 0, 0, 0, 0, 0, 0, 0, 0, 0, 0, 0, 1, 1, 2, 0, 1, 3, 5, 0, 0, 3, 3, 4, 3, 0, 0, 0, 0, 3, 0, 0, 1, 0, 1, 5, 4, 7, 16, 30, 8, 13, 34, 56, 42, 69, 64, 78, 82, 192, 123, 183, 132, 140, 164, 185, 403, 205, 283, 496, 327, 254, 0, 0, 0, 0, 0, 0, 0, 0, 0, 0, 0, 0, 0, 0, 0, 0, 0, 0, 0, 0, 0, 0, 1, 3, 2, 1, 1, 1, 1, 0, 1, 3, 1, 3, 1, 1, 4, 0, 0, 0, 0, 0, 0, 0, 0, 0, 0, 0, 0, 0, 0, 0, 0, 0, 0, 0, 0, 0, 0, 0, 0, 0, 0, 0, 0, 0, 0, 0, 0, 0, 0, 0, 0, 0, 0, 0, 0, 0, 0, 0, 0, 0, 0, 0, 0, 1, 0, 0, 0, 0, 0, 0, 0, 1, 0, 1, 0, 1, 2, 0, 0, 0, 0, 2, 1, 2, 1, 3, 0, 1, 2, 0, 0, 0, 0, 0, 0, 0, 0, 0, 0, 0, 0, 0, 0, 0, 1, 0, 2, 3, 3, 0, 2, 5, 7, 8, 8, 5, 9, 6, 8, 11, 10, 11, 13, 7, 10, 9, 0, 0, 0, 0, 0, 0, 0, 0, 0, 0, 1, 0, 1, 0, 0, 1, 0, 3, 4, 0, 10, 8, 11, 3, 9, 6, 3, 8, 0, 14, 4, 12, 10, 10, 8, 9, 38, 0, 0, 0, 0, 1, 0, 0, 2, 1, 0, 1, 0, 1, 0, 7, 2, 2, 3, 2, 4, 2, 4, 6, 5, 6, 1, 3, 10, 5, 5, 6, 2, 2, 4, 5, 1, 5, 0, 0, 0, 0, 0, 0, 0, 0, 0, 0, 0, 0, 0, 0, 0, 0, 0, 0, 0, 0, 0, 0, 0, 0, 0, 0, 0, 0, 0, 1, 0, 0, 0, 1, 0, 0, 1, 0, 0, 0, 0, 0, 0, 0, 0, 0, 0, 0, 0, 0, 0, 0, 0, 0, 0, 0, 1, 0, 0, 2, 4, 0, 3, 4, 1, 0, 7, 0, 0, 0, 1, 0, 1, 1, 0, 0, 0, 0, 0, 0, 0, 0, 1, 0, 0, 0, 0, 2, 1, 2, 1, 2, 1, 0, 0, 1, 2, 2, 1, 4, 1, 5, 6, 2, 4, 9, 11, 8, 11, 8, 14, 0, 0, 0, 0, 0, 0, 0, 0, 0, 0, 0, 0, 0, 0, 0, 0, 0, 0, 0, 0, 1, 0, 2, 2, 0, 0, 0, 0, 0, 0, 1, 0, 0, 1, 0, 0, 0, 0, 0, 0, 0, 0, 0, 0, 0, 0, 0, 1, 1, 1, 3, 6, 2, 9, 10, 10, 17, 16, 24, 19, 21, 20, 27, 22, 37, 20, 29, 16, 34, 35, 29, 26, 35, 34, 0, 0, 0, 0, 0, 0, 0, 0, 0, 0, 0, 0, 0, 0, 0, 0, 0, 0, 0, 0, 0, 0, 0, 0, 0, 0, 0, 0, 0, 0, 0, 0, 0, 0, 0, 0, 0, 0, 0, 0, 0, 1, 0, 0, 1, 1, 3, 1, 3, 1, 5, 4, 1, 4, 11, 26, 15, 28, 0, 5, 36, 34, 59, 69, 50, 15, 28, 76, 114, 96, 106, 77, 17, 12, 0, 0, 0, 0, 0, 0, 0, 0, 0, 0, 0, 0, 1, 0, 0, 2, 0, 1, 1, 1, 0, 2, 0, 0, 2, 2, 2, 4, 0, 4, 0, 1, 1, 1, 0, 3, 3, 0, 0, 0, 0, 0, 0, 0, 0, 0, 0, 0, 0, 0, 2, 0, 0, 0, 0, 0, 0, 0, 0, 1, 2, 1, 2, 0, 1, 1, 0, 1, 1, 0, 2, 2, 4, 2], \"hovertemplate\": \"<b>%{y}</b><br><i>%{x}</i><br><br>%{customdata} \\u03b8\\u03ac\\u03bd\\u03b1\\u03c4\\u03bf\\u03b9<extra></extra>\", \"showscale\": true, \"type\": \"heatmap\", \"x\": [\"2020-03-07T00:00:00\", \"2020-03-08T00:00:00\", \"2020-03-09T00:00:00\", \"2020-03-10T00:00:00\", \"2020-03-11T00:00:00\", \"2020-03-12T00:00:00\", \"2020-03-13T00:00:00\", \"2020-03-14T00:00:00\", \"2020-03-15T00:00:00\", \"2020-03-16T00:00:00\", \"2020-03-17T00:00:00\", \"2020-03-18T00:00:00\", \"2020-03-19T00:00:00\", \"2020-03-20T00:00:00\", \"2020-03-21T00:00:00\", \"2020-03-22T00:00:00\", \"2020-03-23T00:00:00\", \"2020-03-24T00:00:00\", \"2020-03-25T00:00:00\", \"2020-03-26T00:00:00\", \"2020-03-27T00:00:00\", \"2020-03-28T00:00:00\", \"2020-03-29T00:00:00\", \"2020-03-30T00:00:00\", \"2020-03-31T00:00:00\", \"2020-04-01T00:00:00\", \"2020-04-02T00:00:00\", \"2020-04-03T00:00:00\", \"2020-04-04T00:00:00\", \"2020-04-05T00:00:00\", \"2020-04-06T00:00:00\", \"2020-04-07T00:00:00\", \"2020-04-08T00:00:00\", \"2020-04-09T00:00:00\", \"2020-04-10T00:00:00\", \"2020-04-11T00:00:00\", \"2020-04-12T00:00:00\", \"2020-03-07T00:00:00\", \"2020-03-08T00:00:00\", \"2020-03-09T00:00:00\", \"2020-03-10T00:00:00\", \"2020-03-11T00:00:00\", \"2020-03-12T00:00:00\", \"2020-03-13T00:00:00\", \"2020-03-14T00:00:00\", \"2020-03-15T00:00:00\", \"2020-03-16T00:00:00\", \"2020-03-17T00:00:00\", \"2020-03-18T00:00:00\", \"2020-03-19T00:00:00\", \"2020-03-20T00:00:00\", \"2020-03-21T00:00:00\", \"2020-03-22T00:00:00\", \"2020-03-23T00:00:00\", \"2020-03-24T00:00:00\", \"2020-03-25T00:00:00\", \"2020-03-26T00:00:00\", \"2020-03-27T00:00:00\", \"2020-03-28T00:00:00\", \"2020-03-29T00:00:00\", \"2020-03-30T00:00:00\", \"2020-03-31T00:00:00\", \"2020-04-01T00:00:00\", \"2020-04-02T00:00:00\", \"2020-04-03T00:00:00\", \"2020-04-04T00:00:00\", \"2020-04-05T00:00:00\", \"2020-04-06T00:00:00\", \"2020-04-07T00:00:00\", \"2020-04-08T00:00:00\", \"2020-04-09T00:00:00\", \"2020-04-10T00:00:00\", \"2020-04-11T00:00:00\", \"2020-04-12T00:00:00\", \"2020-03-07T00:00:00\", \"2020-03-08T00:00:00\", \"2020-03-09T00:00:00\", \"2020-03-10T00:00:00\", \"2020-03-11T00:00:00\", \"2020-03-12T00:00:00\", \"2020-03-13T00:00:00\", \"2020-03-14T00:00:00\", \"2020-03-15T00:00:00\", \"2020-03-16T00:00:00\", \"2020-03-17T00:00:00\", \"2020-03-18T00:00:00\", \"2020-03-19T00:00:00\", \"2020-03-20T00:00:00\", \"2020-03-21T00:00:00\", \"2020-03-22T00:00:00\", \"2020-03-23T00:00:00\", \"2020-03-24T00:00:00\", \"2020-03-25T00:00:00\", \"2020-03-26T00:00:00\", \"2020-03-27T00:00:00\", \"2020-03-28T00:00:00\", \"2020-03-29T00:00:00\", \"2020-03-30T00:00:00\", \"2020-03-31T00:00:00\", \"2020-04-01T00:00:00\", \"2020-04-02T00:00:00\", \"2020-04-03T00:00:00\", \"2020-04-04T00:00:00\", \"2020-04-05T00:00:00\", \"2020-04-06T00:00:00\", \"2020-04-07T00:00:00\", \"2020-04-08T00:00:00\", \"2020-04-09T00:00:00\", \"2020-04-10T00:00:00\", \"2020-04-11T00:00:00\", \"2020-04-12T00:00:00\", \"2020-03-07T00:00:00\", \"2020-03-08T00:00:00\", \"2020-03-09T00:00:00\", \"2020-03-10T00:00:00\", \"2020-03-11T00:00:00\", \"2020-03-12T00:00:00\", \"2020-03-13T00:00:00\", \"2020-03-14T00:00:00\", \"2020-03-15T00:00:00\", \"2020-03-16T00:00:00\", \"2020-03-17T00:00:00\", \"2020-03-18T00:00:00\", \"2020-03-19T00:00:00\", \"2020-03-20T00:00:00\", \"2020-03-21T00:00:00\", \"2020-03-22T00:00:00\", \"2020-03-23T00:00:00\", \"2020-03-24T00:00:00\", \"2020-03-25T00:00:00\", \"2020-03-26T00:00:00\", \"2020-03-27T00:00:00\", \"2020-03-28T00:00:00\", \"2020-03-29T00:00:00\", \"2020-03-30T00:00:00\", \"2020-03-31T00:00:00\", \"2020-04-01T00:00:00\", \"2020-04-02T00:00:00\", \"2020-04-03T00:00:00\", \"2020-04-04T00:00:00\", \"2020-04-05T00:00:00\", \"2020-04-06T00:00:00\", \"2020-04-07T00:00:00\", \"2020-04-08T00:00:00\", \"2020-04-09T00:00:00\", \"2020-04-10T00:00:00\", \"2020-04-11T00:00:00\", \"2020-04-12T00:00:00\", \"2020-03-07T00:00:00\", \"2020-03-08T00:00:00\", \"2020-03-09T00:00:00\", \"2020-03-10T00:00:00\", \"2020-03-11T00:00:00\", \"2020-03-12T00:00:00\", \"2020-03-13T00:00:00\", \"2020-03-14T00:00:00\", \"2020-03-15T00:00:00\", \"2020-03-16T00:00:00\", \"2020-03-17T00:00:00\", \"2020-03-18T00:00:00\", \"2020-03-19T00:00:00\", \"2020-03-20T00:00:00\", \"2020-03-21T00:00:00\", \"2020-03-22T00:00:00\", \"2020-03-23T00:00:00\", \"2020-03-24T00:00:00\", \"2020-03-25T00:00:00\", \"2020-03-26T00:00:00\", \"2020-03-27T00:00:00\", \"2020-03-28T00:00:00\", \"2020-03-29T00:00:00\", \"2020-03-30T00:00:00\", \"2020-03-31T00:00:00\", \"2020-04-01T00:00:00\", \"2020-04-02T00:00:00\", \"2020-04-03T00:00:00\", \"2020-04-04T00:00:00\", \"2020-04-05T00:00:00\", \"2020-04-06T00:00:00\", \"2020-04-07T00:00:00\", \"2020-04-08T00:00:00\", \"2020-04-09T00:00:00\", \"2020-04-10T00:00:00\", \"2020-04-11T00:00:00\", \"2020-04-12T00:00:00\", \"2020-03-07T00:00:00\", \"2020-03-08T00:00:00\", \"2020-03-09T00:00:00\", \"2020-03-10T00:00:00\", \"2020-03-11T00:00:00\", \"2020-03-12T00:00:00\", \"2020-03-13T00:00:00\", \"2020-03-14T00:00:00\", \"2020-03-15T00:00:00\", \"2020-03-16T00:00:00\", \"2020-03-17T00:00:00\", \"2020-03-18T00:00:00\", \"2020-03-19T00:00:00\", \"2020-03-20T00:00:00\", \"2020-03-21T00:00:00\", \"2020-03-22T00:00:00\", \"2020-03-23T00:00:00\", \"2020-03-24T00:00:00\", \"2020-03-25T00:00:00\", \"2020-03-26T00:00:00\", \"2020-03-27T00:00:00\", \"2020-03-28T00:00:00\", \"2020-03-29T00:00:00\", \"2020-03-30T00:00:00\", \"2020-03-31T00:00:00\", \"2020-04-01T00:00:00\", \"2020-04-02T00:00:00\", \"2020-04-03T00:00:00\", \"2020-04-04T00:00:00\", \"2020-04-05T00:00:00\", \"2020-04-06T00:00:00\", \"2020-04-07T00:00:00\", \"2020-04-08T00:00:00\", \"2020-04-09T00:00:00\", \"2020-04-10T00:00:00\", \"2020-04-11T00:00:00\", \"2020-04-12T00:00:00\", \"2020-03-07T00:00:00\", \"2020-03-08T00:00:00\", \"2020-03-09T00:00:00\", \"2020-03-10T00:00:00\", \"2020-03-11T00:00:00\", \"2020-03-12T00:00:00\", \"2020-03-13T00:00:00\", \"2020-03-14T00:00:00\", \"2020-03-15T00:00:00\", \"2020-03-16T00:00:00\", \"2020-03-17T00:00:00\", \"2020-03-18T00:00:00\", \"2020-03-19T00:00:00\", \"2020-03-20T00:00:00\", \"2020-03-21T00:00:00\", \"2020-03-22T00:00:00\", \"2020-03-23T00:00:00\", \"2020-03-24T00:00:00\", \"2020-03-25T00:00:00\", \"2020-03-26T00:00:00\", \"2020-03-27T00:00:00\", \"2020-03-28T00:00:00\", \"2020-03-29T00:00:00\", \"2020-03-30T00:00:00\", \"2020-03-31T00:00:00\", \"2020-04-01T00:00:00\", \"2020-04-02T00:00:00\", \"2020-04-03T00:00:00\", \"2020-04-04T00:00:00\", \"2020-04-05T00:00:00\", \"2020-04-06T00:00:00\", \"2020-04-07T00:00:00\", \"2020-04-08T00:00:00\", \"2020-04-09T00:00:00\", \"2020-04-10T00:00:00\", \"2020-04-11T00:00:00\", \"2020-04-12T00:00:00\", \"2020-03-07T00:00:00\", \"2020-03-08T00:00:00\", \"2020-03-09T00:00:00\", \"2020-03-10T00:00:00\", \"2020-03-11T00:00:00\", \"2020-03-12T00:00:00\", \"2020-03-13T00:00:00\", \"2020-03-14T00:00:00\", \"2020-03-15T00:00:00\", \"2020-03-16T00:00:00\", \"2020-03-17T00:00:00\", \"2020-03-18T00:00:00\", \"2020-03-19T00:00:00\", \"2020-03-20T00:00:00\", \"2020-03-21T00:00:00\", \"2020-03-22T00:00:00\", \"2020-03-23T00:00:00\", \"2020-03-24T00:00:00\", \"2020-03-25T00:00:00\", \"2020-03-26T00:00:00\", \"2020-03-27T00:00:00\", \"2020-03-28T00:00:00\", \"2020-03-29T00:00:00\", \"2020-03-30T00:00:00\", \"2020-03-31T00:00:00\", \"2020-04-01T00:00:00\", \"2020-04-02T00:00:00\", \"2020-04-03T00:00:00\", \"2020-04-04T00:00:00\", \"2020-04-05T00:00:00\", \"2020-04-06T00:00:00\", \"2020-04-07T00:00:00\", \"2020-04-08T00:00:00\", \"2020-04-09T00:00:00\", \"2020-04-10T00:00:00\", \"2020-04-11T00:00:00\", \"2020-04-12T00:00:00\", \"2020-03-07T00:00:00\", \"2020-03-08T00:00:00\", \"2020-03-09T00:00:00\", \"2020-03-10T00:00:00\", \"2020-03-11T00:00:00\", \"2020-03-12T00:00:00\", \"2020-03-13T00:00:00\", \"2020-03-14T00:00:00\", \"2020-03-15T00:00:00\", \"2020-03-16T00:00:00\", \"2020-03-17T00:00:00\", \"2020-03-18T00:00:00\", \"2020-03-19T00:00:00\", \"2020-03-20T00:00:00\", \"2020-03-21T00:00:00\", \"2020-03-22T00:00:00\", \"2020-03-23T00:00:00\", \"2020-03-24T00:00:00\", \"2020-03-25T00:00:00\", \"2020-03-26T00:00:00\", \"2020-03-27T00:00:00\", \"2020-03-28T00:00:00\", \"2020-03-29T00:00:00\", \"2020-03-30T00:00:00\", \"2020-03-31T00:00:00\", \"2020-04-01T00:00:00\", \"2020-04-02T00:00:00\", \"2020-04-03T00:00:00\", \"2020-04-04T00:00:00\", \"2020-04-05T00:00:00\", \"2020-04-06T00:00:00\", \"2020-04-07T00:00:00\", \"2020-04-08T00:00:00\", \"2020-04-09T00:00:00\", \"2020-04-10T00:00:00\", \"2020-04-11T00:00:00\", \"2020-04-12T00:00:00\", \"2020-03-07T00:00:00\", \"2020-03-08T00:00:00\", \"2020-03-09T00:00:00\", \"2020-03-10T00:00:00\", \"2020-03-11T00:00:00\", \"2020-03-12T00:00:00\", \"2020-03-13T00:00:00\", \"2020-03-14T00:00:00\", \"2020-03-15T00:00:00\", \"2020-03-16T00:00:00\", \"2020-03-17T00:00:00\", \"2020-03-18T00:00:00\", \"2020-03-19T00:00:00\", \"2020-03-20T00:00:00\", \"2020-03-21T00:00:00\", \"2020-03-22T00:00:00\", \"2020-03-23T00:00:00\", \"2020-03-24T00:00:00\", \"2020-03-25T00:00:00\", \"2020-03-26T00:00:00\", \"2020-03-27T00:00:00\", \"2020-03-28T00:00:00\", \"2020-03-29T00:00:00\", \"2020-03-30T00:00:00\", \"2020-03-31T00:00:00\", \"2020-04-01T00:00:00\", \"2020-04-02T00:00:00\", \"2020-04-03T00:00:00\", \"2020-04-04T00:00:00\", \"2020-04-05T00:00:00\", \"2020-04-06T00:00:00\", \"2020-04-07T00:00:00\", \"2020-04-08T00:00:00\", \"2020-04-09T00:00:00\", \"2020-04-10T00:00:00\", \"2020-04-11T00:00:00\", \"2020-04-12T00:00:00\", \"2020-03-07T00:00:00\", \"2020-03-08T00:00:00\", \"2020-03-09T00:00:00\", \"2020-03-10T00:00:00\", \"2020-03-11T00:00:00\", \"2020-03-12T00:00:00\", \"2020-03-13T00:00:00\", \"2020-03-14T00:00:00\", \"2020-03-15T00:00:00\", \"2020-03-16T00:00:00\", \"2020-03-17T00:00:00\", \"2020-03-18T00:00:00\", \"2020-03-19T00:00:00\", \"2020-03-20T00:00:00\", \"2020-03-21T00:00:00\", \"2020-03-22T00:00:00\", \"2020-03-23T00:00:00\", \"2020-03-24T00:00:00\", \"2020-03-25T00:00:00\", \"2020-03-26T00:00:00\", \"2020-03-27T00:00:00\", \"2020-03-28T00:00:00\", \"2020-03-29T00:00:00\", \"2020-03-30T00:00:00\", \"2020-03-31T00:00:00\", \"2020-04-01T00:00:00\", \"2020-04-02T00:00:00\", \"2020-04-03T00:00:00\", \"2020-04-04T00:00:00\", \"2020-04-05T00:00:00\", \"2020-04-06T00:00:00\", \"2020-04-07T00:00:00\", \"2020-04-08T00:00:00\", \"2020-04-09T00:00:00\", \"2020-04-10T00:00:00\", \"2020-04-11T00:00:00\", \"2020-04-12T00:00:00\", \"2020-03-07T00:00:00\", \"2020-03-08T00:00:00\", \"2020-03-09T00:00:00\", \"2020-03-10T00:00:00\", \"2020-03-11T00:00:00\", \"2020-03-12T00:00:00\", \"2020-03-13T00:00:00\", \"2020-03-14T00:00:00\", \"2020-03-15T00:00:00\", \"2020-03-16T00:00:00\", \"2020-03-17T00:00:00\", \"2020-03-18T00:00:00\", \"2020-03-19T00:00:00\", \"2020-03-20T00:00:00\", \"2020-03-21T00:00:00\", \"2020-03-22T00:00:00\", \"2020-03-23T00:00:00\", \"2020-03-24T00:00:00\", \"2020-03-25T00:00:00\", \"2020-03-26T00:00:00\", \"2020-03-27T00:00:00\", \"2020-03-28T00:00:00\", \"2020-03-29T00:00:00\", \"2020-03-30T00:00:00\", \"2020-03-31T00:00:00\", \"2020-04-01T00:00:00\", \"2020-04-02T00:00:00\", \"2020-04-03T00:00:00\", \"2020-04-04T00:00:00\", \"2020-04-05T00:00:00\", \"2020-04-06T00:00:00\", \"2020-04-07T00:00:00\", \"2020-04-08T00:00:00\", \"2020-04-09T00:00:00\", \"2020-04-10T00:00:00\", \"2020-04-11T00:00:00\", \"2020-04-12T00:00:00\", \"2020-03-07T00:00:00\", \"2020-03-08T00:00:00\", \"2020-03-09T00:00:00\", \"2020-03-10T00:00:00\", \"2020-03-11T00:00:00\", \"2020-03-12T00:00:00\", \"2020-03-13T00:00:00\", \"2020-03-14T00:00:00\", \"2020-03-15T00:00:00\", \"2020-03-16T00:00:00\", \"2020-03-17T00:00:00\", \"2020-03-18T00:00:00\", \"2020-03-19T00:00:00\", \"2020-03-20T00:00:00\", \"2020-03-21T00:00:00\", \"2020-03-22T00:00:00\", \"2020-03-23T00:00:00\", \"2020-03-24T00:00:00\", \"2020-03-25T00:00:00\", \"2020-03-26T00:00:00\", \"2020-03-27T00:00:00\", \"2020-03-28T00:00:00\", \"2020-03-29T00:00:00\", \"2020-03-30T00:00:00\", \"2020-03-31T00:00:00\", \"2020-04-01T00:00:00\", \"2020-04-02T00:00:00\", \"2020-04-03T00:00:00\", \"2020-04-04T00:00:00\", \"2020-04-05T00:00:00\", \"2020-04-06T00:00:00\", \"2020-04-07T00:00:00\", \"2020-04-08T00:00:00\", \"2020-04-09T00:00:00\", \"2020-04-10T00:00:00\", \"2020-04-11T00:00:00\", \"2020-04-12T00:00:00\", \"2020-03-07T00:00:00\", \"2020-03-08T00:00:00\", \"2020-03-09T00:00:00\", \"2020-03-10T00:00:00\", \"2020-03-11T00:00:00\", \"2020-03-12T00:00:00\", \"2020-03-13T00:00:00\", \"2020-03-14T00:00:00\", \"2020-03-15T00:00:00\", \"2020-03-16T00:00:00\", \"2020-03-17T00:00:00\", \"2020-03-18T00:00:00\", \"2020-03-19T00:00:00\", \"2020-03-20T00:00:00\", \"2020-03-21T00:00:00\", \"2020-03-22T00:00:00\", \"2020-03-23T00:00:00\", \"2020-03-24T00:00:00\", \"2020-03-25T00:00:00\", \"2020-03-26T00:00:00\", \"2020-03-27T00:00:00\", \"2020-03-28T00:00:00\", \"2020-03-29T00:00:00\", \"2020-03-30T00:00:00\", \"2020-03-31T00:00:00\", \"2020-04-01T00:00:00\", \"2020-04-02T00:00:00\", \"2020-04-03T00:00:00\", \"2020-04-04T00:00:00\", \"2020-04-05T00:00:00\", \"2020-04-06T00:00:00\", \"2020-04-07T00:00:00\", \"2020-04-08T00:00:00\", \"2020-04-09T00:00:00\", \"2020-04-10T00:00:00\", \"2020-04-11T00:00:00\", \"2020-04-12T00:00:00\", \"2020-03-07T00:00:00\", \"2020-03-08T00:00:00\", \"2020-03-09T00:00:00\", \"2020-03-10T00:00:00\", \"2020-03-11T00:00:00\", \"2020-03-12T00:00:00\", \"2020-03-13T00:00:00\", \"2020-03-14T00:00:00\", \"2020-03-15T00:00:00\", \"2020-03-16T00:00:00\", \"2020-03-17T00:00:00\", \"2020-03-18T00:00:00\", \"2020-03-19T00:00:00\", \"2020-03-20T00:00:00\", \"2020-03-21T00:00:00\", \"2020-03-22T00:00:00\", \"2020-03-23T00:00:00\", \"2020-03-24T00:00:00\", \"2020-03-25T00:00:00\", \"2020-03-26T00:00:00\", \"2020-03-27T00:00:00\", \"2020-03-28T00:00:00\", \"2020-03-29T00:00:00\", \"2020-03-30T00:00:00\", \"2020-03-31T00:00:00\", \"2020-04-01T00:00:00\", \"2020-04-02T00:00:00\", \"2020-04-03T00:00:00\", \"2020-04-04T00:00:00\", \"2020-04-05T00:00:00\", \"2020-04-06T00:00:00\", \"2020-04-07T00:00:00\", \"2020-04-08T00:00:00\", \"2020-04-09T00:00:00\", \"2020-04-10T00:00:00\", \"2020-04-11T00:00:00\", \"2020-04-12T00:00:00\", \"2020-03-07T00:00:00\", \"2020-03-08T00:00:00\", \"2020-03-09T00:00:00\", \"2020-03-10T00:00:00\", \"2020-03-11T00:00:00\", \"2020-03-12T00:00:00\", \"2020-03-13T00:00:00\", \"2020-03-14T00:00:00\", \"2020-03-15T00:00:00\", \"2020-03-16T00:00:00\", \"2020-03-17T00:00:00\", \"2020-03-18T00:00:00\", \"2020-03-19T00:00:00\", \"2020-03-20T00:00:00\", \"2020-03-21T00:00:00\", \"2020-03-22T00:00:00\", \"2020-03-23T00:00:00\", \"2020-03-24T00:00:00\", \"2020-03-25T00:00:00\", \"2020-03-26T00:00:00\", \"2020-03-27T00:00:00\", \"2020-03-28T00:00:00\", \"2020-03-29T00:00:00\", \"2020-03-30T00:00:00\", \"2020-03-31T00:00:00\", \"2020-04-01T00:00:00\", \"2020-04-02T00:00:00\", \"2020-04-03T00:00:00\", \"2020-04-04T00:00:00\", \"2020-04-05T00:00:00\", \"2020-04-06T00:00:00\", \"2020-04-07T00:00:00\", \"2020-04-08T00:00:00\", \"2020-04-09T00:00:00\", \"2020-04-10T00:00:00\", \"2020-04-11T00:00:00\", \"2020-04-12T00:00:00\", \"2020-03-07T00:00:00\", \"2020-03-08T00:00:00\", \"2020-03-09T00:00:00\", \"2020-03-10T00:00:00\", \"2020-03-11T00:00:00\", \"2020-03-12T00:00:00\", \"2020-03-13T00:00:00\", \"2020-03-14T00:00:00\", \"2020-03-15T00:00:00\", \"2020-03-16T00:00:00\", \"2020-03-17T00:00:00\", \"2020-03-18T00:00:00\", \"2020-03-19T00:00:00\", \"2020-03-20T00:00:00\", \"2020-03-21T00:00:00\", \"2020-03-22T00:00:00\", \"2020-03-23T00:00:00\", \"2020-03-24T00:00:00\", \"2020-03-25T00:00:00\", \"2020-03-26T00:00:00\", \"2020-03-27T00:00:00\", \"2020-03-28T00:00:00\", \"2020-03-29T00:00:00\", \"2020-03-30T00:00:00\", \"2020-03-31T00:00:00\", \"2020-04-01T00:00:00\", \"2020-04-02T00:00:00\", \"2020-04-03T00:00:00\", \"2020-04-04T00:00:00\", \"2020-04-05T00:00:00\", \"2020-04-06T00:00:00\", \"2020-04-07T00:00:00\", \"2020-04-08T00:00:00\", \"2020-04-09T00:00:00\", \"2020-04-10T00:00:00\", \"2020-04-11T00:00:00\", \"2020-04-12T00:00:00\", \"2020-03-07T00:00:00\", \"2020-03-08T00:00:00\", \"2020-03-09T00:00:00\", \"2020-03-10T00:00:00\", \"2020-03-11T00:00:00\", \"2020-03-12T00:00:00\", \"2020-03-13T00:00:00\", \"2020-03-14T00:00:00\", \"2020-03-15T00:00:00\", \"2020-03-16T00:00:00\", \"2020-03-17T00:00:00\", \"2020-03-18T00:00:00\", \"2020-03-19T00:00:00\", \"2020-03-20T00:00:00\", \"2020-03-21T00:00:00\", \"2020-03-22T00:00:00\", \"2020-03-23T00:00:00\", \"2020-03-24T00:00:00\", \"2020-03-25T00:00:00\", \"2020-03-26T00:00:00\", \"2020-03-27T00:00:00\", \"2020-03-28T00:00:00\", \"2020-03-29T00:00:00\", \"2020-03-30T00:00:00\", \"2020-03-31T00:00:00\", \"2020-04-01T00:00:00\", \"2020-04-02T00:00:00\", \"2020-04-03T00:00:00\", \"2020-04-04T00:00:00\", \"2020-04-05T00:00:00\", \"2020-04-06T00:00:00\", \"2020-04-07T00:00:00\", \"2020-04-08T00:00:00\", \"2020-04-09T00:00:00\", \"2020-04-10T00:00:00\", \"2020-04-11T00:00:00\", \"2020-04-12T00:00:00\", \"2020-03-07T00:00:00\", \"2020-03-08T00:00:00\", \"2020-03-09T00:00:00\", \"2020-03-10T00:00:00\", \"2020-03-11T00:00:00\", \"2020-03-12T00:00:00\", \"2020-03-13T00:00:00\", \"2020-03-14T00:00:00\", \"2020-03-15T00:00:00\", \"2020-03-16T00:00:00\", \"2020-03-17T00:00:00\", \"2020-03-18T00:00:00\", \"2020-03-19T00:00:00\", \"2020-03-20T00:00:00\", \"2020-03-21T00:00:00\", \"2020-03-22T00:00:00\", \"2020-03-23T00:00:00\", \"2020-03-24T00:00:00\", \"2020-03-25T00:00:00\", \"2020-03-26T00:00:00\", \"2020-03-27T00:00:00\", \"2020-03-28T00:00:00\", \"2020-03-29T00:00:00\", \"2020-03-30T00:00:00\", \"2020-03-31T00:00:00\", \"2020-04-01T00:00:00\", \"2020-04-02T00:00:00\", \"2020-04-03T00:00:00\", \"2020-04-04T00:00:00\", \"2020-04-05T00:00:00\", \"2020-04-06T00:00:00\", \"2020-04-07T00:00:00\", \"2020-04-08T00:00:00\", \"2020-04-09T00:00:00\", \"2020-04-10T00:00:00\", \"2020-04-11T00:00:00\", \"2020-04-12T00:00:00\"], \"y\": [\"\\u0391\\u03c5\\u03c3\\u03c4\\u03c1\\u03af\\u03b1\", \"\\u0391\\u03c5\\u03c3\\u03c4\\u03c1\\u03af\\u03b1\", \"\\u0391\\u03c5\\u03c3\\u03c4\\u03c1\\u03af\\u03b1\", \"\\u0391\\u03c5\\u03c3\\u03c4\\u03c1\\u03af\\u03b1\", \"\\u0391\\u03c5\\u03c3\\u03c4\\u03c1\\u03af\\u03b1\", \"\\u0391\\u03c5\\u03c3\\u03c4\\u03c1\\u03af\\u03b1\", \"\\u0391\\u03c5\\u03c3\\u03c4\\u03c1\\u03af\\u03b1\", \"\\u0391\\u03c5\\u03c3\\u03c4\\u03c1\\u03af\\u03b1\", \"\\u0391\\u03c5\\u03c3\\u03c4\\u03c1\\u03af\\u03b1\", \"\\u0391\\u03c5\\u03c3\\u03c4\\u03c1\\u03af\\u03b1\", \"\\u0391\\u03c5\\u03c3\\u03c4\\u03c1\\u03af\\u03b1\", \"\\u0391\\u03c5\\u03c3\\u03c4\\u03c1\\u03af\\u03b1\", \"\\u0391\\u03c5\\u03c3\\u03c4\\u03c1\\u03af\\u03b1\", \"\\u0391\\u03c5\\u03c3\\u03c4\\u03c1\\u03af\\u03b1\", \"\\u0391\\u03c5\\u03c3\\u03c4\\u03c1\\u03af\\u03b1\", \"\\u0391\\u03c5\\u03c3\\u03c4\\u03c1\\u03af\\u03b1\", \"\\u0391\\u03c5\\u03c3\\u03c4\\u03c1\\u03af\\u03b1\", \"\\u0391\\u03c5\\u03c3\\u03c4\\u03c1\\u03af\\u03b1\", \"\\u0391\\u03c5\\u03c3\\u03c4\\u03c1\\u03af\\u03b1\", \"\\u0391\\u03c5\\u03c3\\u03c4\\u03c1\\u03af\\u03b1\", \"\\u0391\\u03c5\\u03c3\\u03c4\\u03c1\\u03af\\u03b1\", \"\\u0391\\u03c5\\u03c3\\u03c4\\u03c1\\u03af\\u03b1\", \"\\u0391\\u03c5\\u03c3\\u03c4\\u03c1\\u03af\\u03b1\", \"\\u0391\\u03c5\\u03c3\\u03c4\\u03c1\\u03af\\u03b1\", \"\\u0391\\u03c5\\u03c3\\u03c4\\u03c1\\u03af\\u03b1\", \"\\u0391\\u03c5\\u03c3\\u03c4\\u03c1\\u03af\\u03b1\", \"\\u0391\\u03c5\\u03c3\\u03c4\\u03c1\\u03af\\u03b1\", \"\\u0391\\u03c5\\u03c3\\u03c4\\u03c1\\u03af\\u03b1\", \"\\u0391\\u03c5\\u03c3\\u03c4\\u03c1\\u03af\\u03b1\", \"\\u0391\\u03c5\\u03c3\\u03c4\\u03c1\\u03af\\u03b1\", \"\\u0391\\u03c5\\u03c3\\u03c4\\u03c1\\u03af\\u03b1\", \"\\u0391\\u03c5\\u03c3\\u03c4\\u03c1\\u03af\\u03b1\", \"\\u0391\\u03c5\\u03c3\\u03c4\\u03c1\\u03af\\u03b1\", \"\\u0391\\u03c5\\u03c3\\u03c4\\u03c1\\u03af\\u03b1\", \"\\u0391\\u03c5\\u03c3\\u03c4\\u03c1\\u03af\\u03b1\", \"\\u0391\\u03c5\\u03c3\\u03c4\\u03c1\\u03af\\u03b1\", \"\\u0391\\u03c5\\u03c3\\u03c4\\u03c1\\u03af\\u03b1\", \"\\u0391\\u03b6\\u03b5\\u03c1\\u03bc\\u03c0\\u03b1\\u03ca\\u03c4\\u03b6\\u03ac\\u03bd\", \"\\u0391\\u03b6\\u03b5\\u03c1\\u03bc\\u03c0\\u03b1\\u03ca\\u03c4\\u03b6\\u03ac\\u03bd\", \"\\u0391\\u03b6\\u03b5\\u03c1\\u03bc\\u03c0\\u03b1\\u03ca\\u03c4\\u03b6\\u03ac\\u03bd\", \"\\u0391\\u03b6\\u03b5\\u03c1\\u03bc\\u03c0\\u03b1\\u03ca\\u03c4\\u03b6\\u03ac\\u03bd\", \"\\u0391\\u03b6\\u03b5\\u03c1\\u03bc\\u03c0\\u03b1\\u03ca\\u03c4\\u03b6\\u03ac\\u03bd\", \"\\u0391\\u03b6\\u03b5\\u03c1\\u03bc\\u03c0\\u03b1\\u03ca\\u03c4\\u03b6\\u03ac\\u03bd\", \"\\u0391\\u03b6\\u03b5\\u03c1\\u03bc\\u03c0\\u03b1\\u03ca\\u03c4\\u03b6\\u03ac\\u03bd\", \"\\u0391\\u03b6\\u03b5\\u03c1\\u03bc\\u03c0\\u03b1\\u03ca\\u03c4\\u03b6\\u03ac\\u03bd\", \"\\u0391\\u03b6\\u03b5\\u03c1\\u03bc\\u03c0\\u03b1\\u03ca\\u03c4\\u03b6\\u03ac\\u03bd\", \"\\u0391\\u03b6\\u03b5\\u03c1\\u03bc\\u03c0\\u03b1\\u03ca\\u03c4\\u03b6\\u03ac\\u03bd\", \"\\u0391\\u03b6\\u03b5\\u03c1\\u03bc\\u03c0\\u03b1\\u03ca\\u03c4\\u03b6\\u03ac\\u03bd\", \"\\u0391\\u03b6\\u03b5\\u03c1\\u03bc\\u03c0\\u03b1\\u03ca\\u03c4\\u03b6\\u03ac\\u03bd\", \"\\u0391\\u03b6\\u03b5\\u03c1\\u03bc\\u03c0\\u03b1\\u03ca\\u03c4\\u03b6\\u03ac\\u03bd\", \"\\u0391\\u03b6\\u03b5\\u03c1\\u03bc\\u03c0\\u03b1\\u03ca\\u03c4\\u03b6\\u03ac\\u03bd\", \"\\u0391\\u03b6\\u03b5\\u03c1\\u03bc\\u03c0\\u03b1\\u03ca\\u03c4\\u03b6\\u03ac\\u03bd\", \"\\u0391\\u03b6\\u03b5\\u03c1\\u03bc\\u03c0\\u03b1\\u03ca\\u03c4\\u03b6\\u03ac\\u03bd\", \"\\u0391\\u03b6\\u03b5\\u03c1\\u03bc\\u03c0\\u03b1\\u03ca\\u03c4\\u03b6\\u03ac\\u03bd\", \"\\u0391\\u03b6\\u03b5\\u03c1\\u03bc\\u03c0\\u03b1\\u03ca\\u03c4\\u03b6\\u03ac\\u03bd\", \"\\u0391\\u03b6\\u03b5\\u03c1\\u03bc\\u03c0\\u03b1\\u03ca\\u03c4\\u03b6\\u03ac\\u03bd\", \"\\u0391\\u03b6\\u03b5\\u03c1\\u03bc\\u03c0\\u03b1\\u03ca\\u03c4\\u03b6\\u03ac\\u03bd\", \"\\u0391\\u03b6\\u03b5\\u03c1\\u03bc\\u03c0\\u03b1\\u03ca\\u03c4\\u03b6\\u03ac\\u03bd\", \"\\u0391\\u03b6\\u03b5\\u03c1\\u03bc\\u03c0\\u03b1\\u03ca\\u03c4\\u03b6\\u03ac\\u03bd\", \"\\u0391\\u03b6\\u03b5\\u03c1\\u03bc\\u03c0\\u03b1\\u03ca\\u03c4\\u03b6\\u03ac\\u03bd\", \"\\u0391\\u03b6\\u03b5\\u03c1\\u03bc\\u03c0\\u03b1\\u03ca\\u03c4\\u03b6\\u03ac\\u03bd\", \"\\u0391\\u03b6\\u03b5\\u03c1\\u03bc\\u03c0\\u03b1\\u03ca\\u03c4\\u03b6\\u03ac\\u03bd\", \"\\u0391\\u03b6\\u03b5\\u03c1\\u03bc\\u03c0\\u03b1\\u03ca\\u03c4\\u03b6\\u03ac\\u03bd\", \"\\u0391\\u03b6\\u03b5\\u03c1\\u03bc\\u03c0\\u03b1\\u03ca\\u03c4\\u03b6\\u03ac\\u03bd\", \"\\u0391\\u03b6\\u03b5\\u03c1\\u03bc\\u03c0\\u03b1\\u03ca\\u03c4\\u03b6\\u03ac\\u03bd\", \"\\u0391\\u03b6\\u03b5\\u03c1\\u03bc\\u03c0\\u03b1\\u03ca\\u03c4\\u03b6\\u03ac\\u03bd\", \"\\u0391\\u03b6\\u03b5\\u03c1\\u03bc\\u03c0\\u03b1\\u03ca\\u03c4\\u03b6\\u03ac\\u03bd\", \"\\u0391\\u03b6\\u03b5\\u03c1\\u03bc\\u03c0\\u03b1\\u03ca\\u03c4\\u03b6\\u03ac\\u03bd\", \"\\u0391\\u03b6\\u03b5\\u03c1\\u03bc\\u03c0\\u03b1\\u03ca\\u03c4\\u03b6\\u03ac\\u03bd\", \"\\u0391\\u03b6\\u03b5\\u03c1\\u03bc\\u03c0\\u03b1\\u03ca\\u03c4\\u03b6\\u03ac\\u03bd\", \"\\u0391\\u03b6\\u03b5\\u03c1\\u03bc\\u03c0\\u03b1\\u03ca\\u03c4\\u03b6\\u03ac\\u03bd\", \"\\u0391\\u03b6\\u03b5\\u03c1\\u03bc\\u03c0\\u03b1\\u03ca\\u03c4\\u03b6\\u03ac\\u03bd\", \"\\u0391\\u03b6\\u03b5\\u03c1\\u03bc\\u03c0\\u03b1\\u03ca\\u03c4\\u03b6\\u03ac\\u03bd\", \"\\u0391\\u03b6\\u03b5\\u03c1\\u03bc\\u03c0\\u03b1\\u03ca\\u03c4\\u03b6\\u03ac\\u03bd\", \"\\u039b\\u03b5\\u03c5\\u03ba\\u03bf\\u03c1\\u03c9\\u03c3\\u03af\\u03b1\", \"\\u039b\\u03b5\\u03c5\\u03ba\\u03bf\\u03c1\\u03c9\\u03c3\\u03af\\u03b1\", \"\\u039b\\u03b5\\u03c5\\u03ba\\u03bf\\u03c1\\u03c9\\u03c3\\u03af\\u03b1\", \"\\u039b\\u03b5\\u03c5\\u03ba\\u03bf\\u03c1\\u03c9\\u03c3\\u03af\\u03b1\", \"\\u039b\\u03b5\\u03c5\\u03ba\\u03bf\\u03c1\\u03c9\\u03c3\\u03af\\u03b1\", \"\\u039b\\u03b5\\u03c5\\u03ba\\u03bf\\u03c1\\u03c9\\u03c3\\u03af\\u03b1\", \"\\u039b\\u03b5\\u03c5\\u03ba\\u03bf\\u03c1\\u03c9\\u03c3\\u03af\\u03b1\", \"\\u039b\\u03b5\\u03c5\\u03ba\\u03bf\\u03c1\\u03c9\\u03c3\\u03af\\u03b1\", \"\\u039b\\u03b5\\u03c5\\u03ba\\u03bf\\u03c1\\u03c9\\u03c3\\u03af\\u03b1\", \"\\u039b\\u03b5\\u03c5\\u03ba\\u03bf\\u03c1\\u03c9\\u03c3\\u03af\\u03b1\", \"\\u039b\\u03b5\\u03c5\\u03ba\\u03bf\\u03c1\\u03c9\\u03c3\\u03af\\u03b1\", \"\\u039b\\u03b5\\u03c5\\u03ba\\u03bf\\u03c1\\u03c9\\u03c3\\u03af\\u03b1\", \"\\u039b\\u03b5\\u03c5\\u03ba\\u03bf\\u03c1\\u03c9\\u03c3\\u03af\\u03b1\", \"\\u039b\\u03b5\\u03c5\\u03ba\\u03bf\\u03c1\\u03c9\\u03c3\\u03af\\u03b1\", \"\\u039b\\u03b5\\u03c5\\u03ba\\u03bf\\u03c1\\u03c9\\u03c3\\u03af\\u03b1\", \"\\u039b\\u03b5\\u03c5\\u03ba\\u03bf\\u03c1\\u03c9\\u03c3\\u03af\\u03b1\", \"\\u039b\\u03b5\\u03c5\\u03ba\\u03bf\\u03c1\\u03c9\\u03c3\\u03af\\u03b1\", \"\\u039b\\u03b5\\u03c5\\u03ba\\u03bf\\u03c1\\u03c9\\u03c3\\u03af\\u03b1\", \"\\u039b\\u03b5\\u03c5\\u03ba\\u03bf\\u03c1\\u03c9\\u03c3\\u03af\\u03b1\", \"\\u039b\\u03b5\\u03c5\\u03ba\\u03bf\\u03c1\\u03c9\\u03c3\\u03af\\u03b1\", \"\\u039b\\u03b5\\u03c5\\u03ba\\u03bf\\u03c1\\u03c9\\u03c3\\u03af\\u03b1\", \"\\u039b\\u03b5\\u03c5\\u03ba\\u03bf\\u03c1\\u03c9\\u03c3\\u03af\\u03b1\", \"\\u039b\\u03b5\\u03c5\\u03ba\\u03bf\\u03c1\\u03c9\\u03c3\\u03af\\u03b1\", \"\\u039b\\u03b5\\u03c5\\u03ba\\u03bf\\u03c1\\u03c9\\u03c3\\u03af\\u03b1\", \"\\u039b\\u03b5\\u03c5\\u03ba\\u03bf\\u03c1\\u03c9\\u03c3\\u03af\\u03b1\", \"\\u039b\\u03b5\\u03c5\\u03ba\\u03bf\\u03c1\\u03c9\\u03c3\\u03af\\u03b1\", \"\\u039b\\u03b5\\u03c5\\u03ba\\u03bf\\u03c1\\u03c9\\u03c3\\u03af\\u03b1\", \"\\u039b\\u03b5\\u03c5\\u03ba\\u03bf\\u03c1\\u03c9\\u03c3\\u03af\\u03b1\", \"\\u039b\\u03b5\\u03c5\\u03ba\\u03bf\\u03c1\\u03c9\\u03c3\\u03af\\u03b1\", \"\\u039b\\u03b5\\u03c5\\u03ba\\u03bf\\u03c1\\u03c9\\u03c3\\u03af\\u03b1\", \"\\u039b\\u03b5\\u03c5\\u03ba\\u03bf\\u03c1\\u03c9\\u03c3\\u03af\\u03b1\", \"\\u039b\\u03b5\\u03c5\\u03ba\\u03bf\\u03c1\\u03c9\\u03c3\\u03af\\u03b1\", \"\\u039b\\u03b5\\u03c5\\u03ba\\u03bf\\u03c1\\u03c9\\u03c3\\u03af\\u03b1\", \"\\u039b\\u03b5\\u03c5\\u03ba\\u03bf\\u03c1\\u03c9\\u03c3\\u03af\\u03b1\", \"\\u039b\\u03b5\\u03c5\\u03ba\\u03bf\\u03c1\\u03c9\\u03c3\\u03af\\u03b1\", \"\\u039b\\u03b5\\u03c5\\u03ba\\u03bf\\u03c1\\u03c9\\u03c3\\u03af\\u03b1\", \"\\u039b\\u03b5\\u03c5\\u03ba\\u03bf\\u03c1\\u03c9\\u03c3\\u03af\\u03b1\", \"\\u0392\\u03ad\\u03bb\\u03b3\\u03b9\\u03bf\", \"\\u0392\\u03ad\\u03bb\\u03b3\\u03b9\\u03bf\", \"\\u0392\\u03ad\\u03bb\\u03b3\\u03b9\\u03bf\", \"\\u0392\\u03ad\\u03bb\\u03b3\\u03b9\\u03bf\", \"\\u0392\\u03ad\\u03bb\\u03b3\\u03b9\\u03bf\", \"\\u0392\\u03ad\\u03bb\\u03b3\\u03b9\\u03bf\", \"\\u0392\\u03ad\\u03bb\\u03b3\\u03b9\\u03bf\", \"\\u0392\\u03ad\\u03bb\\u03b3\\u03b9\\u03bf\", \"\\u0392\\u03ad\\u03bb\\u03b3\\u03b9\\u03bf\", \"\\u0392\\u03ad\\u03bb\\u03b3\\u03b9\\u03bf\", \"\\u0392\\u03ad\\u03bb\\u03b3\\u03b9\\u03bf\", \"\\u0392\\u03ad\\u03bb\\u03b3\\u03b9\\u03bf\", \"\\u0392\\u03ad\\u03bb\\u03b3\\u03b9\\u03bf\", \"\\u0392\\u03ad\\u03bb\\u03b3\\u03b9\\u03bf\", \"\\u0392\\u03ad\\u03bb\\u03b3\\u03b9\\u03bf\", \"\\u0392\\u03ad\\u03bb\\u03b3\\u03b9\\u03bf\", \"\\u0392\\u03ad\\u03bb\\u03b3\\u03b9\\u03bf\", \"\\u0392\\u03ad\\u03bb\\u03b3\\u03b9\\u03bf\", \"\\u0392\\u03ad\\u03bb\\u03b3\\u03b9\\u03bf\", \"\\u0392\\u03ad\\u03bb\\u03b3\\u03b9\\u03bf\", \"\\u0392\\u03ad\\u03bb\\u03b3\\u03b9\\u03bf\", \"\\u0392\\u03ad\\u03bb\\u03b3\\u03b9\\u03bf\", \"\\u0392\\u03ad\\u03bb\\u03b3\\u03b9\\u03bf\", \"\\u0392\\u03ad\\u03bb\\u03b3\\u03b9\\u03bf\", \"\\u0392\\u03ad\\u03bb\\u03b3\\u03b9\\u03bf\", \"\\u0392\\u03ad\\u03bb\\u03b3\\u03b9\\u03bf\", \"\\u0392\\u03ad\\u03bb\\u03b3\\u03b9\\u03bf\", \"\\u0392\\u03ad\\u03bb\\u03b3\\u03b9\\u03bf\", \"\\u0392\\u03ad\\u03bb\\u03b3\\u03b9\\u03bf\", \"\\u0392\\u03ad\\u03bb\\u03b3\\u03b9\\u03bf\", \"\\u0392\\u03ad\\u03bb\\u03b3\\u03b9\\u03bf\", \"\\u0392\\u03ad\\u03bb\\u03b3\\u03b9\\u03bf\", \"\\u0392\\u03ad\\u03bb\\u03b3\\u03b9\\u03bf\", \"\\u0392\\u03ad\\u03bb\\u03b3\\u03b9\\u03bf\", \"\\u0392\\u03ad\\u03bb\\u03b3\\u03b9\\u03bf\", \"\\u0392\\u03ad\\u03bb\\u03b3\\u03b9\\u03bf\", \"\\u0392\\u03ad\\u03bb\\u03b3\\u03b9\\u03bf\", \"\\u0392\\u03bf\\u03bb\\u03b9\\u03b2\\u03af\\u03b1\", \"\\u0392\\u03bf\\u03bb\\u03b9\\u03b2\\u03af\\u03b1\", \"\\u0392\\u03bf\\u03bb\\u03b9\\u03b2\\u03af\\u03b1\", \"\\u0392\\u03bf\\u03bb\\u03b9\\u03b2\\u03af\\u03b1\", \"\\u0392\\u03bf\\u03bb\\u03b9\\u03b2\\u03af\\u03b1\", \"\\u0392\\u03bf\\u03bb\\u03b9\\u03b2\\u03af\\u03b1\", \"\\u0392\\u03bf\\u03bb\\u03b9\\u03b2\\u03af\\u03b1\", \"\\u0392\\u03bf\\u03bb\\u03b9\\u03b2\\u03af\\u03b1\", \"\\u0392\\u03bf\\u03bb\\u03b9\\u03b2\\u03af\\u03b1\", \"\\u0392\\u03bf\\u03bb\\u03b9\\u03b2\\u03af\\u03b1\", \"\\u0392\\u03bf\\u03bb\\u03b9\\u03b2\\u03af\\u03b1\", \"\\u0392\\u03bf\\u03bb\\u03b9\\u03b2\\u03af\\u03b1\", \"\\u0392\\u03bf\\u03bb\\u03b9\\u03b2\\u03af\\u03b1\", \"\\u0392\\u03bf\\u03bb\\u03b9\\u03b2\\u03af\\u03b1\", \"\\u0392\\u03bf\\u03bb\\u03b9\\u03b2\\u03af\\u03b1\", \"\\u0392\\u03bf\\u03bb\\u03b9\\u03b2\\u03af\\u03b1\", \"\\u0392\\u03bf\\u03bb\\u03b9\\u03b2\\u03af\\u03b1\", \"\\u0392\\u03bf\\u03bb\\u03b9\\u03b2\\u03af\\u03b1\", \"\\u0392\\u03bf\\u03bb\\u03b9\\u03b2\\u03af\\u03b1\", \"\\u0392\\u03bf\\u03bb\\u03b9\\u03b2\\u03af\\u03b1\", \"\\u0392\\u03bf\\u03bb\\u03b9\\u03b2\\u03af\\u03b1\", \"\\u0392\\u03bf\\u03bb\\u03b9\\u03b2\\u03af\\u03b1\", \"\\u0392\\u03bf\\u03bb\\u03b9\\u03b2\\u03af\\u03b1\", \"\\u0392\\u03bf\\u03bb\\u03b9\\u03b2\\u03af\\u03b1\", \"\\u0392\\u03bf\\u03bb\\u03b9\\u03b2\\u03af\\u03b1\", \"\\u0392\\u03bf\\u03bb\\u03b9\\u03b2\\u03af\\u03b1\", \"\\u0392\\u03bf\\u03bb\\u03b9\\u03b2\\u03af\\u03b1\", \"\\u0392\\u03bf\\u03bb\\u03b9\\u03b2\\u03af\\u03b1\", \"\\u0392\\u03bf\\u03bb\\u03b9\\u03b2\\u03af\\u03b1\", \"\\u0392\\u03bf\\u03bb\\u03b9\\u03b2\\u03af\\u03b1\", \"\\u0392\\u03bf\\u03bb\\u03b9\\u03b2\\u03af\\u03b1\", \"\\u0392\\u03bf\\u03bb\\u03b9\\u03b2\\u03af\\u03b1\", \"\\u0392\\u03bf\\u03bb\\u03b9\\u03b2\\u03af\\u03b1\", \"\\u0392\\u03bf\\u03bb\\u03b9\\u03b2\\u03af\\u03b1\", \"\\u0392\\u03bf\\u03bb\\u03b9\\u03b2\\u03af\\u03b1\", \"\\u0392\\u03bf\\u03bb\\u03b9\\u03b2\\u03af\\u03b1\", \"\\u0392\\u03bf\\u03bb\\u03b9\\u03b2\\u03af\\u03b1\", \"\\u039c\\u03c0\\u03bf\\u03c5\\u03c1\\u03bf\\u03cd\\u03bd\\u03c4\\u03b9\", \"\\u039c\\u03c0\\u03bf\\u03c5\\u03c1\\u03bf\\u03cd\\u03bd\\u03c4\\u03b9\", \"\\u039c\\u03c0\\u03bf\\u03c5\\u03c1\\u03bf\\u03cd\\u03bd\\u03c4\\u03b9\", \"\\u039c\\u03c0\\u03bf\\u03c5\\u03c1\\u03bf\\u03cd\\u03bd\\u03c4\\u03b9\", \"\\u039c\\u03c0\\u03bf\\u03c5\\u03c1\\u03bf\\u03cd\\u03bd\\u03c4\\u03b9\", \"\\u039c\\u03c0\\u03bf\\u03c5\\u03c1\\u03bf\\u03cd\\u03bd\\u03c4\\u03b9\", \"\\u039c\\u03c0\\u03bf\\u03c5\\u03c1\\u03bf\\u03cd\\u03bd\\u03c4\\u03b9\", \"\\u039c\\u03c0\\u03bf\\u03c5\\u03c1\\u03bf\\u03cd\\u03bd\\u03c4\\u03b9\", \"\\u039c\\u03c0\\u03bf\\u03c5\\u03c1\\u03bf\\u03cd\\u03bd\\u03c4\\u03b9\", \"\\u039c\\u03c0\\u03bf\\u03c5\\u03c1\\u03bf\\u03cd\\u03bd\\u03c4\\u03b9\", \"\\u039c\\u03c0\\u03bf\\u03c5\\u03c1\\u03bf\\u03cd\\u03bd\\u03c4\\u03b9\", \"\\u039c\\u03c0\\u03bf\\u03c5\\u03c1\\u03bf\\u03cd\\u03bd\\u03c4\\u03b9\", \"\\u039c\\u03c0\\u03bf\\u03c5\\u03c1\\u03bf\\u03cd\\u03bd\\u03c4\\u03b9\", \"\\u039c\\u03c0\\u03bf\\u03c5\\u03c1\\u03bf\\u03cd\\u03bd\\u03c4\\u03b9\", \"\\u039c\\u03c0\\u03bf\\u03c5\\u03c1\\u03bf\\u03cd\\u03bd\\u03c4\\u03b9\", \"\\u039c\\u03c0\\u03bf\\u03c5\\u03c1\\u03bf\\u03cd\\u03bd\\u03c4\\u03b9\", \"\\u039c\\u03c0\\u03bf\\u03c5\\u03c1\\u03bf\\u03cd\\u03bd\\u03c4\\u03b9\", \"\\u039c\\u03c0\\u03bf\\u03c5\\u03c1\\u03bf\\u03cd\\u03bd\\u03c4\\u03b9\", \"\\u039c\\u03c0\\u03bf\\u03c5\\u03c1\\u03bf\\u03cd\\u03bd\\u03c4\\u03b9\", \"\\u039c\\u03c0\\u03bf\\u03c5\\u03c1\\u03bf\\u03cd\\u03bd\\u03c4\\u03b9\", \"\\u039c\\u03c0\\u03bf\\u03c5\\u03c1\\u03bf\\u03cd\\u03bd\\u03c4\\u03b9\", \"\\u039c\\u03c0\\u03bf\\u03c5\\u03c1\\u03bf\\u03cd\\u03bd\\u03c4\\u03b9\", \"\\u039c\\u03c0\\u03bf\\u03c5\\u03c1\\u03bf\\u03cd\\u03bd\\u03c4\\u03b9\", \"\\u039c\\u03c0\\u03bf\\u03c5\\u03c1\\u03bf\\u03cd\\u03bd\\u03c4\\u03b9\", \"\\u039c\\u03c0\\u03bf\\u03c5\\u03c1\\u03bf\\u03cd\\u03bd\\u03c4\\u03b9\", \"\\u039c\\u03c0\\u03bf\\u03c5\\u03c1\\u03bf\\u03cd\\u03bd\\u03c4\\u03b9\", \"\\u039c\\u03c0\\u03bf\\u03c5\\u03c1\\u03bf\\u03cd\\u03bd\\u03c4\\u03b9\", \"\\u039c\\u03c0\\u03bf\\u03c5\\u03c1\\u03bf\\u03cd\\u03bd\\u03c4\\u03b9\", \"\\u039c\\u03c0\\u03bf\\u03c5\\u03c1\\u03bf\\u03cd\\u03bd\\u03c4\\u03b9\", \"\\u039c\\u03c0\\u03bf\\u03c5\\u03c1\\u03bf\\u03cd\\u03bd\\u03c4\\u03b9\", \"\\u039c\\u03c0\\u03bf\\u03c5\\u03c1\\u03bf\\u03cd\\u03bd\\u03c4\\u03b9\", \"\\u039c\\u03c0\\u03bf\\u03c5\\u03c1\\u03bf\\u03cd\\u03bd\\u03c4\\u03b9\", \"\\u039c\\u03c0\\u03bf\\u03c5\\u03c1\\u03bf\\u03cd\\u03bd\\u03c4\\u03b9\", \"\\u039c\\u03c0\\u03bf\\u03c5\\u03c1\\u03bf\\u03cd\\u03bd\\u03c4\\u03b9\", \"\\u039c\\u03c0\\u03bf\\u03c5\\u03c1\\u03bf\\u03cd\\u03bd\\u03c4\\u03b9\", \"\\u039c\\u03c0\\u03bf\\u03c5\\u03c1\\u03bf\\u03cd\\u03bd\\u03c4\\u03b9\", \"\\u039c\\u03c0\\u03bf\\u03c5\\u03c1\\u03bf\\u03cd\\u03bd\\u03c4\\u03b9\", \"\\u039a\\u03bf\\u03cd\\u03b2\\u03b1\", \"\\u039a\\u03bf\\u03cd\\u03b2\\u03b1\", \"\\u039a\\u03bf\\u03cd\\u03b2\\u03b1\", \"\\u039a\\u03bf\\u03cd\\u03b2\\u03b1\", \"\\u039a\\u03bf\\u03cd\\u03b2\\u03b1\", \"\\u039a\\u03bf\\u03cd\\u03b2\\u03b1\", \"\\u039a\\u03bf\\u03cd\\u03b2\\u03b1\", \"\\u039a\\u03bf\\u03cd\\u03b2\\u03b1\", \"\\u039a\\u03bf\\u03cd\\u03b2\\u03b1\", \"\\u039a\\u03bf\\u03cd\\u03b2\\u03b1\", \"\\u039a\\u03bf\\u03cd\\u03b2\\u03b1\", \"\\u039a\\u03bf\\u03cd\\u03b2\\u03b1\", \"\\u039a\\u03bf\\u03cd\\u03b2\\u03b1\", \"\\u039a\\u03bf\\u03cd\\u03b2\\u03b1\", \"\\u039a\\u03bf\\u03cd\\u03b2\\u03b1\", \"\\u039a\\u03bf\\u03cd\\u03b2\\u03b1\", \"\\u039a\\u03bf\\u03cd\\u03b2\\u03b1\", \"\\u039a\\u03bf\\u03cd\\u03b2\\u03b1\", \"\\u039a\\u03bf\\u03cd\\u03b2\\u03b1\", \"\\u039a\\u03bf\\u03cd\\u03b2\\u03b1\", \"\\u039a\\u03bf\\u03cd\\u03b2\\u03b1\", \"\\u039a\\u03bf\\u03cd\\u03b2\\u03b1\", \"\\u039a\\u03bf\\u03cd\\u03b2\\u03b1\", \"\\u039a\\u03bf\\u03cd\\u03b2\\u03b1\", \"\\u039a\\u03bf\\u03cd\\u03b2\\u03b1\", \"\\u039a\\u03bf\\u03cd\\u03b2\\u03b1\", \"\\u039a\\u03bf\\u03cd\\u03b2\\u03b1\", \"\\u039a\\u03bf\\u03cd\\u03b2\\u03b1\", \"\\u039a\\u03bf\\u03cd\\u03b2\\u03b1\", \"\\u039a\\u03bf\\u03cd\\u03b2\\u03b1\", \"\\u039a\\u03bf\\u03cd\\u03b2\\u03b1\", \"\\u039a\\u03bf\\u03cd\\u03b2\\u03b1\", \"\\u039a\\u03bf\\u03cd\\u03b2\\u03b1\", \"\\u039a\\u03bf\\u03cd\\u03b2\\u03b1\", \"\\u039a\\u03bf\\u03cd\\u03b2\\u03b1\", \"\\u039a\\u03bf\\u03cd\\u03b2\\u03b1\", \"\\u039a\\u03bf\\u03cd\\u03b2\\u03b1\", \"\\u03a4\\u03c3\\u03b5\\u03c7\\u03af\\u03b1\", \"\\u03a4\\u03c3\\u03b5\\u03c7\\u03af\\u03b1\", \"\\u03a4\\u03c3\\u03b5\\u03c7\\u03af\\u03b1\", \"\\u03a4\\u03c3\\u03b5\\u03c7\\u03af\\u03b1\", \"\\u03a4\\u03c3\\u03b5\\u03c7\\u03af\\u03b1\", \"\\u03a4\\u03c3\\u03b5\\u03c7\\u03af\\u03b1\", \"\\u03a4\\u03c3\\u03b5\\u03c7\\u03af\\u03b1\", \"\\u03a4\\u03c3\\u03b5\\u03c7\\u03af\\u03b1\", \"\\u03a4\\u03c3\\u03b5\\u03c7\\u03af\\u03b1\", \"\\u03a4\\u03c3\\u03b5\\u03c7\\u03af\\u03b1\", \"\\u03a4\\u03c3\\u03b5\\u03c7\\u03af\\u03b1\", \"\\u03a4\\u03c3\\u03b5\\u03c7\\u03af\\u03b1\", \"\\u03a4\\u03c3\\u03b5\\u03c7\\u03af\\u03b1\", \"\\u03a4\\u03c3\\u03b5\\u03c7\\u03af\\u03b1\", \"\\u03a4\\u03c3\\u03b5\\u03c7\\u03af\\u03b1\", \"\\u03a4\\u03c3\\u03b5\\u03c7\\u03af\\u03b1\", \"\\u03a4\\u03c3\\u03b5\\u03c7\\u03af\\u03b1\", \"\\u03a4\\u03c3\\u03b5\\u03c7\\u03af\\u03b1\", \"\\u03a4\\u03c3\\u03b5\\u03c7\\u03af\\u03b1\", \"\\u03a4\\u03c3\\u03b5\\u03c7\\u03af\\u03b1\", \"\\u03a4\\u03c3\\u03b5\\u03c7\\u03af\\u03b1\", \"\\u03a4\\u03c3\\u03b5\\u03c7\\u03af\\u03b1\", \"\\u03a4\\u03c3\\u03b5\\u03c7\\u03af\\u03b1\", \"\\u03a4\\u03c3\\u03b5\\u03c7\\u03af\\u03b1\", \"\\u03a4\\u03c3\\u03b5\\u03c7\\u03af\\u03b1\", \"\\u03a4\\u03c3\\u03b5\\u03c7\\u03af\\u03b1\", \"\\u03a4\\u03c3\\u03b5\\u03c7\\u03af\\u03b1\", \"\\u03a4\\u03c3\\u03b5\\u03c7\\u03af\\u03b1\", \"\\u03a4\\u03c3\\u03b5\\u03c7\\u03af\\u03b1\", \"\\u03a4\\u03c3\\u03b5\\u03c7\\u03af\\u03b1\", \"\\u03a4\\u03c3\\u03b5\\u03c7\\u03af\\u03b1\", \"\\u03a4\\u03c3\\u03b5\\u03c7\\u03af\\u03b1\", \"\\u03a4\\u03c3\\u03b5\\u03c7\\u03af\\u03b1\", \"\\u03a4\\u03c3\\u03b5\\u03c7\\u03af\\u03b1\", \"\\u03a4\\u03c3\\u03b5\\u03c7\\u03af\\u03b1\", \"\\u03a4\\u03c3\\u03b5\\u03c7\\u03af\\u03b1\", \"\\u03a4\\u03c3\\u03b5\\u03c7\\u03af\\u03b1\", \"\\u0394\\u03bf\\u03bc\\u03b9\\u03bd\\u03b9\\u03ba\\u03b1\\u03bd\\u03ae \\u0394\\u03b7\\u03bc/\\u03c4\\u03af\\u03b1\", \"\\u0394\\u03bf\\u03bc\\u03b9\\u03bd\\u03b9\\u03ba\\u03b1\\u03bd\\u03ae \\u0394\\u03b7\\u03bc/\\u03c4\\u03af\\u03b1\", \"\\u0394\\u03bf\\u03bc\\u03b9\\u03bd\\u03b9\\u03ba\\u03b1\\u03bd\\u03ae \\u0394\\u03b7\\u03bc/\\u03c4\\u03af\\u03b1\", \"\\u0394\\u03bf\\u03bc\\u03b9\\u03bd\\u03b9\\u03ba\\u03b1\\u03bd\\u03ae \\u0394\\u03b7\\u03bc/\\u03c4\\u03af\\u03b1\", \"\\u0394\\u03bf\\u03bc\\u03b9\\u03bd\\u03b9\\u03ba\\u03b1\\u03bd\\u03ae \\u0394\\u03b7\\u03bc/\\u03c4\\u03af\\u03b1\", \"\\u0394\\u03bf\\u03bc\\u03b9\\u03bd\\u03b9\\u03ba\\u03b1\\u03bd\\u03ae \\u0394\\u03b7\\u03bc/\\u03c4\\u03af\\u03b1\", \"\\u0394\\u03bf\\u03bc\\u03b9\\u03bd\\u03b9\\u03ba\\u03b1\\u03bd\\u03ae \\u0394\\u03b7\\u03bc/\\u03c4\\u03af\\u03b1\", \"\\u0394\\u03bf\\u03bc\\u03b9\\u03bd\\u03b9\\u03ba\\u03b1\\u03bd\\u03ae \\u0394\\u03b7\\u03bc/\\u03c4\\u03af\\u03b1\", \"\\u0394\\u03bf\\u03bc\\u03b9\\u03bd\\u03b9\\u03ba\\u03b1\\u03bd\\u03ae \\u0394\\u03b7\\u03bc/\\u03c4\\u03af\\u03b1\", \"\\u0394\\u03bf\\u03bc\\u03b9\\u03bd\\u03b9\\u03ba\\u03b1\\u03bd\\u03ae \\u0394\\u03b7\\u03bc/\\u03c4\\u03af\\u03b1\", \"\\u0394\\u03bf\\u03bc\\u03b9\\u03bd\\u03b9\\u03ba\\u03b1\\u03bd\\u03ae \\u0394\\u03b7\\u03bc/\\u03c4\\u03af\\u03b1\", \"\\u0394\\u03bf\\u03bc\\u03b9\\u03bd\\u03b9\\u03ba\\u03b1\\u03bd\\u03ae \\u0394\\u03b7\\u03bc/\\u03c4\\u03af\\u03b1\", \"\\u0394\\u03bf\\u03bc\\u03b9\\u03bd\\u03b9\\u03ba\\u03b1\\u03bd\\u03ae \\u0394\\u03b7\\u03bc/\\u03c4\\u03af\\u03b1\", \"\\u0394\\u03bf\\u03bc\\u03b9\\u03bd\\u03b9\\u03ba\\u03b1\\u03bd\\u03ae \\u0394\\u03b7\\u03bc/\\u03c4\\u03af\\u03b1\", \"\\u0394\\u03bf\\u03bc\\u03b9\\u03bd\\u03b9\\u03ba\\u03b1\\u03bd\\u03ae \\u0394\\u03b7\\u03bc/\\u03c4\\u03af\\u03b1\", \"\\u0394\\u03bf\\u03bc\\u03b9\\u03bd\\u03b9\\u03ba\\u03b1\\u03bd\\u03ae \\u0394\\u03b7\\u03bc/\\u03c4\\u03af\\u03b1\", \"\\u0394\\u03bf\\u03bc\\u03b9\\u03bd\\u03b9\\u03ba\\u03b1\\u03bd\\u03ae \\u0394\\u03b7\\u03bc/\\u03c4\\u03af\\u03b1\", \"\\u0394\\u03bf\\u03bc\\u03b9\\u03bd\\u03b9\\u03ba\\u03b1\\u03bd\\u03ae \\u0394\\u03b7\\u03bc/\\u03c4\\u03af\\u03b1\", \"\\u0394\\u03bf\\u03bc\\u03b9\\u03bd\\u03b9\\u03ba\\u03b1\\u03bd\\u03ae \\u0394\\u03b7\\u03bc/\\u03c4\\u03af\\u03b1\", \"\\u0394\\u03bf\\u03bc\\u03b9\\u03bd\\u03b9\\u03ba\\u03b1\\u03bd\\u03ae \\u0394\\u03b7\\u03bc/\\u03c4\\u03af\\u03b1\", \"\\u0394\\u03bf\\u03bc\\u03b9\\u03bd\\u03b9\\u03ba\\u03b1\\u03bd\\u03ae \\u0394\\u03b7\\u03bc/\\u03c4\\u03af\\u03b1\", \"\\u0394\\u03bf\\u03bc\\u03b9\\u03bd\\u03b9\\u03ba\\u03b1\\u03bd\\u03ae \\u0394\\u03b7\\u03bc/\\u03c4\\u03af\\u03b1\", \"\\u0394\\u03bf\\u03bc\\u03b9\\u03bd\\u03b9\\u03ba\\u03b1\\u03bd\\u03ae \\u0394\\u03b7\\u03bc/\\u03c4\\u03af\\u03b1\", \"\\u0394\\u03bf\\u03bc\\u03b9\\u03bd\\u03b9\\u03ba\\u03b1\\u03bd\\u03ae \\u0394\\u03b7\\u03bc/\\u03c4\\u03af\\u03b1\", \"\\u0394\\u03bf\\u03bc\\u03b9\\u03bd\\u03b9\\u03ba\\u03b1\\u03bd\\u03ae \\u0394\\u03b7\\u03bc/\\u03c4\\u03af\\u03b1\", \"\\u0394\\u03bf\\u03bc\\u03b9\\u03bd\\u03b9\\u03ba\\u03b1\\u03bd\\u03ae \\u0394\\u03b7\\u03bc/\\u03c4\\u03af\\u03b1\", \"\\u0394\\u03bf\\u03bc\\u03b9\\u03bd\\u03b9\\u03ba\\u03b1\\u03bd\\u03ae \\u0394\\u03b7\\u03bc/\\u03c4\\u03af\\u03b1\", \"\\u0394\\u03bf\\u03bc\\u03b9\\u03bd\\u03b9\\u03ba\\u03b1\\u03bd\\u03ae \\u0394\\u03b7\\u03bc/\\u03c4\\u03af\\u03b1\", \"\\u0394\\u03bf\\u03bc\\u03b9\\u03bd\\u03b9\\u03ba\\u03b1\\u03bd\\u03ae \\u0394\\u03b7\\u03bc/\\u03c4\\u03af\\u03b1\", \"\\u0394\\u03bf\\u03bc\\u03b9\\u03bd\\u03b9\\u03ba\\u03b1\\u03bd\\u03ae \\u0394\\u03b7\\u03bc/\\u03c4\\u03af\\u03b1\", \"\\u0394\\u03bf\\u03bc\\u03b9\\u03bd\\u03b9\\u03ba\\u03b1\\u03bd\\u03ae \\u0394\\u03b7\\u03bc/\\u03c4\\u03af\\u03b1\", \"\\u0394\\u03bf\\u03bc\\u03b9\\u03bd\\u03b9\\u03ba\\u03b1\\u03bd\\u03ae \\u0394\\u03b7\\u03bc/\\u03c4\\u03af\\u03b1\", \"\\u0394\\u03bf\\u03bc\\u03b9\\u03bd\\u03b9\\u03ba\\u03b1\\u03bd\\u03ae \\u0394\\u03b7\\u03bc/\\u03c4\\u03af\\u03b1\", \"\\u0394\\u03bf\\u03bc\\u03b9\\u03bd\\u03b9\\u03ba\\u03b1\\u03bd\\u03ae \\u0394\\u03b7\\u03bc/\\u03c4\\u03af\\u03b1\", \"\\u0394\\u03bf\\u03bc\\u03b9\\u03bd\\u03b9\\u03ba\\u03b1\\u03bd\\u03ae \\u0394\\u03b7\\u03bc/\\u03c4\\u03af\\u03b1\", \"\\u0394\\u03bf\\u03bc\\u03b9\\u03bd\\u03b9\\u03ba\\u03b1\\u03bd\\u03ae \\u0394\\u03b7\\u03bc/\\u03c4\\u03af\\u03b1\", \"\\u0394\\u03bf\\u03bc\\u03b9\\u03bd\\u03b9\\u03ba\\u03b1\\u03bd\\u03ae \\u0394\\u03b7\\u03bc/\\u03c4\\u03af\\u03b1\", \"\\u0395\\u03bb\\u03bb\\u03ac\\u03b4\\u03b1\", \"\\u0395\\u03bb\\u03bb\\u03ac\\u03b4\\u03b1\", \"\\u0395\\u03bb\\u03bb\\u03ac\\u03b4\\u03b1\", \"\\u0395\\u03bb\\u03bb\\u03ac\\u03b4\\u03b1\", \"\\u0395\\u03bb\\u03bb\\u03ac\\u03b4\\u03b1\", \"\\u0395\\u03bb\\u03bb\\u03ac\\u03b4\\u03b1\", \"\\u0395\\u03bb\\u03bb\\u03ac\\u03b4\\u03b1\", \"\\u0395\\u03bb\\u03bb\\u03ac\\u03b4\\u03b1\", \"\\u0395\\u03bb\\u03bb\\u03ac\\u03b4\\u03b1\", \"\\u0395\\u03bb\\u03bb\\u03ac\\u03b4\\u03b1\", \"\\u0395\\u03bb\\u03bb\\u03ac\\u03b4\\u03b1\", \"\\u0395\\u03bb\\u03bb\\u03ac\\u03b4\\u03b1\", \"\\u0395\\u03bb\\u03bb\\u03ac\\u03b4\\u03b1\", \"\\u0395\\u03bb\\u03bb\\u03ac\\u03b4\\u03b1\", \"\\u0395\\u03bb\\u03bb\\u03ac\\u03b4\\u03b1\", \"\\u0395\\u03bb\\u03bb\\u03ac\\u03b4\\u03b1\", \"\\u0395\\u03bb\\u03bb\\u03ac\\u03b4\\u03b1\", \"\\u0395\\u03bb\\u03bb\\u03ac\\u03b4\\u03b1\", \"\\u0395\\u03bb\\u03bb\\u03ac\\u03b4\\u03b1\", \"\\u0395\\u03bb\\u03bb\\u03ac\\u03b4\\u03b1\", \"\\u0395\\u03bb\\u03bb\\u03ac\\u03b4\\u03b1\", \"\\u0395\\u03bb\\u03bb\\u03ac\\u03b4\\u03b1\", \"\\u0395\\u03bb\\u03bb\\u03ac\\u03b4\\u03b1\", \"\\u0395\\u03bb\\u03bb\\u03ac\\u03b4\\u03b1\", \"\\u0395\\u03bb\\u03bb\\u03ac\\u03b4\\u03b1\", \"\\u0395\\u03bb\\u03bb\\u03ac\\u03b4\\u03b1\", \"\\u0395\\u03bb\\u03bb\\u03ac\\u03b4\\u03b1\", \"\\u0395\\u03bb\\u03bb\\u03ac\\u03b4\\u03b1\", \"\\u0395\\u03bb\\u03bb\\u03ac\\u03b4\\u03b1\", \"\\u0395\\u03bb\\u03bb\\u03ac\\u03b4\\u03b1\", \"\\u0395\\u03bb\\u03bb\\u03ac\\u03b4\\u03b1\", \"\\u0395\\u03bb\\u03bb\\u03ac\\u03b4\\u03b1\", \"\\u0395\\u03bb\\u03bb\\u03ac\\u03b4\\u03b1\", \"\\u0395\\u03bb\\u03bb\\u03ac\\u03b4\\u03b1\", \"\\u0395\\u03bb\\u03bb\\u03ac\\u03b4\\u03b1\", \"\\u0395\\u03bb\\u03bb\\u03ac\\u03b4\\u03b1\", \"\\u0395\\u03bb\\u03bb\\u03ac\\u03b4\\u03b1\", \"\\u0391\\u03ca\\u03c4\\u03ae\", \"\\u0391\\u03ca\\u03c4\\u03ae\", \"\\u0391\\u03ca\\u03c4\\u03ae\", \"\\u0391\\u03ca\\u03c4\\u03ae\", \"\\u0391\\u03ca\\u03c4\\u03ae\", \"\\u0391\\u03ca\\u03c4\\u03ae\", \"\\u0391\\u03ca\\u03c4\\u03ae\", \"\\u0391\\u03ca\\u03c4\\u03ae\", \"\\u0391\\u03ca\\u03c4\\u03ae\", \"\\u0391\\u03ca\\u03c4\\u03ae\", \"\\u0391\\u03ca\\u03c4\\u03ae\", \"\\u0391\\u03ca\\u03c4\\u03ae\", \"\\u0391\\u03ca\\u03c4\\u03ae\", \"\\u0391\\u03ca\\u03c4\\u03ae\", \"\\u0391\\u03ca\\u03c4\\u03ae\", \"\\u0391\\u03ca\\u03c4\\u03ae\", \"\\u0391\\u03ca\\u03c4\\u03ae\", \"\\u0391\\u03ca\\u03c4\\u03ae\", \"\\u0391\\u03ca\\u03c4\\u03ae\", \"\\u0391\\u03ca\\u03c4\\u03ae\", \"\\u0391\\u03ca\\u03c4\\u03ae\", \"\\u0391\\u03ca\\u03c4\\u03ae\", \"\\u0391\\u03ca\\u03c4\\u03ae\", \"\\u0391\\u03ca\\u03c4\\u03ae\", \"\\u0391\\u03ca\\u03c4\\u03ae\", \"\\u0391\\u03ca\\u03c4\\u03ae\", \"\\u0391\\u03ca\\u03c4\\u03ae\", \"\\u0391\\u03ca\\u03c4\\u03ae\", \"\\u0391\\u03ca\\u03c4\\u03ae\", \"\\u0391\\u03ca\\u03c4\\u03ae\", \"\\u0391\\u03ca\\u03c4\\u03ae\", \"\\u0391\\u03ca\\u03c4\\u03ae\", \"\\u0391\\u03ca\\u03c4\\u03ae\", \"\\u0391\\u03ca\\u03c4\\u03ae\", \"\\u0391\\u03ca\\u03c4\\u03ae\", \"\\u0391\\u03ca\\u03c4\\u03ae\", \"\\u0391\\u03ca\\u03c4\\u03ae\", \"\\u039f\\u03bd\\u03b4\\u03bf\\u03cd\\u03c1\\u03b1\", \"\\u039f\\u03bd\\u03b4\\u03bf\\u03cd\\u03c1\\u03b1\", \"\\u039f\\u03bd\\u03b4\\u03bf\\u03cd\\u03c1\\u03b1\", \"\\u039f\\u03bd\\u03b4\\u03bf\\u03cd\\u03c1\\u03b1\", \"\\u039f\\u03bd\\u03b4\\u03bf\\u03cd\\u03c1\\u03b1\", \"\\u039f\\u03bd\\u03b4\\u03bf\\u03cd\\u03c1\\u03b1\", \"\\u039f\\u03bd\\u03b4\\u03bf\\u03cd\\u03c1\\u03b1\", \"\\u039f\\u03bd\\u03b4\\u03bf\\u03cd\\u03c1\\u03b1\", \"\\u039f\\u03bd\\u03b4\\u03bf\\u03cd\\u03c1\\u03b1\", \"\\u039f\\u03bd\\u03b4\\u03bf\\u03cd\\u03c1\\u03b1\", \"\\u039f\\u03bd\\u03b4\\u03bf\\u03cd\\u03c1\\u03b1\", \"\\u039f\\u03bd\\u03b4\\u03bf\\u03cd\\u03c1\\u03b1\", \"\\u039f\\u03bd\\u03b4\\u03bf\\u03cd\\u03c1\\u03b1\", \"\\u039f\\u03bd\\u03b4\\u03bf\\u03cd\\u03c1\\u03b1\", \"\\u039f\\u03bd\\u03b4\\u03bf\\u03cd\\u03c1\\u03b1\", \"\\u039f\\u03bd\\u03b4\\u03bf\\u03cd\\u03c1\\u03b1\", \"\\u039f\\u03bd\\u03b4\\u03bf\\u03cd\\u03c1\\u03b1\", \"\\u039f\\u03bd\\u03b4\\u03bf\\u03cd\\u03c1\\u03b1\", \"\\u039f\\u03bd\\u03b4\\u03bf\\u03cd\\u03c1\\u03b1\", \"\\u039f\\u03bd\\u03b4\\u03bf\\u03cd\\u03c1\\u03b1\", \"\\u039f\\u03bd\\u03b4\\u03bf\\u03cd\\u03c1\\u03b1\", \"\\u039f\\u03bd\\u03b4\\u03bf\\u03cd\\u03c1\\u03b1\", \"\\u039f\\u03bd\\u03b4\\u03bf\\u03cd\\u03c1\\u03b1\", \"\\u039f\\u03bd\\u03b4\\u03bf\\u03cd\\u03c1\\u03b1\", \"\\u039f\\u03bd\\u03b4\\u03bf\\u03cd\\u03c1\\u03b1\", \"\\u039f\\u03bd\\u03b4\\u03bf\\u03cd\\u03c1\\u03b1\", \"\\u039f\\u03bd\\u03b4\\u03bf\\u03cd\\u03c1\\u03b1\", \"\\u039f\\u03bd\\u03b4\\u03bf\\u03cd\\u03c1\\u03b1\", \"\\u039f\\u03bd\\u03b4\\u03bf\\u03cd\\u03c1\\u03b1\", \"\\u039f\\u03bd\\u03b4\\u03bf\\u03cd\\u03c1\\u03b1\", \"\\u039f\\u03bd\\u03b4\\u03bf\\u03cd\\u03c1\\u03b1\", \"\\u039f\\u03bd\\u03b4\\u03bf\\u03cd\\u03c1\\u03b1\", \"\\u039f\\u03bd\\u03b4\\u03bf\\u03cd\\u03c1\\u03b1\", \"\\u039f\\u03bd\\u03b4\\u03bf\\u03cd\\u03c1\\u03b1\", \"\\u039f\\u03bd\\u03b4\\u03bf\\u03cd\\u03c1\\u03b1\", \"\\u039f\\u03bd\\u03b4\\u03bf\\u03cd\\u03c1\\u03b1\", \"\\u039f\\u03bd\\u03b4\\u03bf\\u03cd\\u03c1\\u03b1\", \"\\u039f\\u03c5\\u03b3\\u03b3\\u03b1\\u03c1\\u03af\\u03b1\", \"\\u039f\\u03c5\\u03b3\\u03b3\\u03b1\\u03c1\\u03af\\u03b1\", \"\\u039f\\u03c5\\u03b3\\u03b3\\u03b1\\u03c1\\u03af\\u03b1\", \"\\u039f\\u03c5\\u03b3\\u03b3\\u03b1\\u03c1\\u03af\\u03b1\", \"\\u039f\\u03c5\\u03b3\\u03b3\\u03b1\\u03c1\\u03af\\u03b1\", \"\\u039f\\u03c5\\u03b3\\u03b3\\u03b1\\u03c1\\u03af\\u03b1\", \"\\u039f\\u03c5\\u03b3\\u03b3\\u03b1\\u03c1\\u03af\\u03b1\", \"\\u039f\\u03c5\\u03b3\\u03b3\\u03b1\\u03c1\\u03af\\u03b1\", \"\\u039f\\u03c5\\u03b3\\u03b3\\u03b1\\u03c1\\u03af\\u03b1\", \"\\u039f\\u03c5\\u03b3\\u03b3\\u03b1\\u03c1\\u03af\\u03b1\", \"\\u039f\\u03c5\\u03b3\\u03b3\\u03b1\\u03c1\\u03af\\u03b1\", \"\\u039f\\u03c5\\u03b3\\u03b3\\u03b1\\u03c1\\u03af\\u03b1\", \"\\u039f\\u03c5\\u03b3\\u03b3\\u03b1\\u03c1\\u03af\\u03b1\", \"\\u039f\\u03c5\\u03b3\\u03b3\\u03b1\\u03c1\\u03af\\u03b1\", \"\\u039f\\u03c5\\u03b3\\u03b3\\u03b1\\u03c1\\u03af\\u03b1\", \"\\u039f\\u03c5\\u03b3\\u03b3\\u03b1\\u03c1\\u03af\\u03b1\", \"\\u039f\\u03c5\\u03b3\\u03b3\\u03b1\\u03c1\\u03af\\u03b1\", \"\\u039f\\u03c5\\u03b3\\u03b3\\u03b1\\u03c1\\u03af\\u03b1\", \"\\u039f\\u03c5\\u03b3\\u03b3\\u03b1\\u03c1\\u03af\\u03b1\", \"\\u039f\\u03c5\\u03b3\\u03b3\\u03b1\\u03c1\\u03af\\u03b1\", \"\\u039f\\u03c5\\u03b3\\u03b3\\u03b1\\u03c1\\u03af\\u03b1\", \"\\u039f\\u03c5\\u03b3\\u03b3\\u03b1\\u03c1\\u03af\\u03b1\", \"\\u039f\\u03c5\\u03b3\\u03b3\\u03b1\\u03c1\\u03af\\u03b1\", \"\\u039f\\u03c5\\u03b3\\u03b3\\u03b1\\u03c1\\u03af\\u03b1\", \"\\u039f\\u03c5\\u03b3\\u03b3\\u03b1\\u03c1\\u03af\\u03b1\", \"\\u039f\\u03c5\\u03b3\\u03b3\\u03b1\\u03c1\\u03af\\u03b1\", \"\\u039f\\u03c5\\u03b3\\u03b3\\u03b1\\u03c1\\u03af\\u03b1\", \"\\u039f\\u03c5\\u03b3\\u03b3\\u03b1\\u03c1\\u03af\\u03b1\", \"\\u039f\\u03c5\\u03b3\\u03b3\\u03b1\\u03c1\\u03af\\u03b1\", \"\\u039f\\u03c5\\u03b3\\u03b3\\u03b1\\u03c1\\u03af\\u03b1\", \"\\u039f\\u03c5\\u03b3\\u03b3\\u03b1\\u03c1\\u03af\\u03b1\", \"\\u039f\\u03c5\\u03b3\\u03b3\\u03b1\\u03c1\\u03af\\u03b1\", \"\\u039f\\u03c5\\u03b3\\u03b3\\u03b1\\u03c1\\u03af\\u03b1\", \"\\u039f\\u03c5\\u03b3\\u03b3\\u03b1\\u03c1\\u03af\\u03b1\", \"\\u039f\\u03c5\\u03b3\\u03b3\\u03b1\\u03c1\\u03af\\u03b1\", \"\\u039f\\u03c5\\u03b3\\u03b3\\u03b1\\u03c1\\u03af\\u03b1\", \"\\u039f\\u03c5\\u03b3\\u03b3\\u03b1\\u03c1\\u03af\\u03b1\", \"\\u0399\\u03bf\\u03c1\\u03b4\\u03b1\\u03bd\\u03af\\u03b1\", \"\\u0399\\u03bf\\u03c1\\u03b4\\u03b1\\u03bd\\u03af\\u03b1\", \"\\u0399\\u03bf\\u03c1\\u03b4\\u03b1\\u03bd\\u03af\\u03b1\", \"\\u0399\\u03bf\\u03c1\\u03b4\\u03b1\\u03bd\\u03af\\u03b1\", \"\\u0399\\u03bf\\u03c1\\u03b4\\u03b1\\u03bd\\u03af\\u03b1\", \"\\u0399\\u03bf\\u03c1\\u03b4\\u03b1\\u03bd\\u03af\\u03b1\", \"\\u0399\\u03bf\\u03c1\\u03b4\\u03b1\\u03bd\\u03af\\u03b1\", \"\\u0399\\u03bf\\u03c1\\u03b4\\u03b1\\u03bd\\u03af\\u03b1\", \"\\u0399\\u03bf\\u03c1\\u03b4\\u03b1\\u03bd\\u03af\\u03b1\", \"\\u0399\\u03bf\\u03c1\\u03b4\\u03b1\\u03bd\\u03af\\u03b1\", \"\\u0399\\u03bf\\u03c1\\u03b4\\u03b1\\u03bd\\u03af\\u03b1\", \"\\u0399\\u03bf\\u03c1\\u03b4\\u03b1\\u03bd\\u03af\\u03b1\", \"\\u0399\\u03bf\\u03c1\\u03b4\\u03b1\\u03bd\\u03af\\u03b1\", \"\\u0399\\u03bf\\u03c1\\u03b4\\u03b1\\u03bd\\u03af\\u03b1\", \"\\u0399\\u03bf\\u03c1\\u03b4\\u03b1\\u03bd\\u03af\\u03b1\", \"\\u0399\\u03bf\\u03c1\\u03b4\\u03b1\\u03bd\\u03af\\u03b1\", \"\\u0399\\u03bf\\u03c1\\u03b4\\u03b1\\u03bd\\u03af\\u03b1\", \"\\u0399\\u03bf\\u03c1\\u03b4\\u03b1\\u03bd\\u03af\\u03b1\", \"\\u0399\\u03bf\\u03c1\\u03b4\\u03b1\\u03bd\\u03af\\u03b1\", \"\\u0399\\u03bf\\u03c1\\u03b4\\u03b1\\u03bd\\u03af\\u03b1\", \"\\u0399\\u03bf\\u03c1\\u03b4\\u03b1\\u03bd\\u03af\\u03b1\", \"\\u0399\\u03bf\\u03c1\\u03b4\\u03b1\\u03bd\\u03af\\u03b1\", \"\\u0399\\u03bf\\u03c1\\u03b4\\u03b1\\u03bd\\u03af\\u03b1\", \"\\u0399\\u03bf\\u03c1\\u03b4\\u03b1\\u03bd\\u03af\\u03b1\", \"\\u0399\\u03bf\\u03c1\\u03b4\\u03b1\\u03bd\\u03af\\u03b1\", \"\\u0399\\u03bf\\u03c1\\u03b4\\u03b1\\u03bd\\u03af\\u03b1\", \"\\u0399\\u03bf\\u03c1\\u03b4\\u03b1\\u03bd\\u03af\\u03b1\", \"\\u0399\\u03bf\\u03c1\\u03b4\\u03b1\\u03bd\\u03af\\u03b1\", \"\\u0399\\u03bf\\u03c1\\u03b4\\u03b1\\u03bd\\u03af\\u03b1\", \"\\u0399\\u03bf\\u03c1\\u03b4\\u03b1\\u03bd\\u03af\\u03b1\", \"\\u0399\\u03bf\\u03c1\\u03b4\\u03b1\\u03bd\\u03af\\u03b1\", \"\\u0399\\u03bf\\u03c1\\u03b4\\u03b1\\u03bd\\u03af\\u03b1\", \"\\u0399\\u03bf\\u03c1\\u03b4\\u03b1\\u03bd\\u03af\\u03b1\", \"\\u0399\\u03bf\\u03c1\\u03b4\\u03b1\\u03bd\\u03af\\u03b1\", \"\\u0399\\u03bf\\u03c1\\u03b4\\u03b1\\u03bd\\u03af\\u03b1\", \"\\u0399\\u03bf\\u03c1\\u03b4\\u03b1\\u03bd\\u03af\\u03b1\", \"\\u0399\\u03bf\\u03c1\\u03b4\\u03b1\\u03bd\\u03af\\u03b1\", \"\\u03a0\\u03bf\\u03c1\\u03c4\\u03bf\\u03b3\\u03b1\\u03bb\\u03af\\u03b1\", \"\\u03a0\\u03bf\\u03c1\\u03c4\\u03bf\\u03b3\\u03b1\\u03bb\\u03af\\u03b1\", \"\\u03a0\\u03bf\\u03c1\\u03c4\\u03bf\\u03b3\\u03b1\\u03bb\\u03af\\u03b1\", \"\\u03a0\\u03bf\\u03c1\\u03c4\\u03bf\\u03b3\\u03b1\\u03bb\\u03af\\u03b1\", \"\\u03a0\\u03bf\\u03c1\\u03c4\\u03bf\\u03b3\\u03b1\\u03bb\\u03af\\u03b1\", \"\\u03a0\\u03bf\\u03c1\\u03c4\\u03bf\\u03b3\\u03b1\\u03bb\\u03af\\u03b1\", \"\\u03a0\\u03bf\\u03c1\\u03c4\\u03bf\\u03b3\\u03b1\\u03bb\\u03af\\u03b1\", \"\\u03a0\\u03bf\\u03c1\\u03c4\\u03bf\\u03b3\\u03b1\\u03bb\\u03af\\u03b1\", \"\\u03a0\\u03bf\\u03c1\\u03c4\\u03bf\\u03b3\\u03b1\\u03bb\\u03af\\u03b1\", \"\\u03a0\\u03bf\\u03c1\\u03c4\\u03bf\\u03b3\\u03b1\\u03bb\\u03af\\u03b1\", \"\\u03a0\\u03bf\\u03c1\\u03c4\\u03bf\\u03b3\\u03b1\\u03bb\\u03af\\u03b1\", \"\\u03a0\\u03bf\\u03c1\\u03c4\\u03bf\\u03b3\\u03b1\\u03bb\\u03af\\u03b1\", \"\\u03a0\\u03bf\\u03c1\\u03c4\\u03bf\\u03b3\\u03b1\\u03bb\\u03af\\u03b1\", \"\\u03a0\\u03bf\\u03c1\\u03c4\\u03bf\\u03b3\\u03b1\\u03bb\\u03af\\u03b1\", \"\\u03a0\\u03bf\\u03c1\\u03c4\\u03bf\\u03b3\\u03b1\\u03bb\\u03af\\u03b1\", \"\\u03a0\\u03bf\\u03c1\\u03c4\\u03bf\\u03b3\\u03b1\\u03bb\\u03af\\u03b1\", \"\\u03a0\\u03bf\\u03c1\\u03c4\\u03bf\\u03b3\\u03b1\\u03bb\\u03af\\u03b1\", \"\\u03a0\\u03bf\\u03c1\\u03c4\\u03bf\\u03b3\\u03b1\\u03bb\\u03af\\u03b1\", \"\\u03a0\\u03bf\\u03c1\\u03c4\\u03bf\\u03b3\\u03b1\\u03bb\\u03af\\u03b1\", \"\\u03a0\\u03bf\\u03c1\\u03c4\\u03bf\\u03b3\\u03b1\\u03bb\\u03af\\u03b1\", \"\\u03a0\\u03bf\\u03c1\\u03c4\\u03bf\\u03b3\\u03b1\\u03bb\\u03af\\u03b1\", \"\\u03a0\\u03bf\\u03c1\\u03c4\\u03bf\\u03b3\\u03b1\\u03bb\\u03af\\u03b1\", \"\\u03a0\\u03bf\\u03c1\\u03c4\\u03bf\\u03b3\\u03b1\\u03bb\\u03af\\u03b1\", \"\\u03a0\\u03bf\\u03c1\\u03c4\\u03bf\\u03b3\\u03b1\\u03bb\\u03af\\u03b1\", \"\\u03a0\\u03bf\\u03c1\\u03c4\\u03bf\\u03b3\\u03b1\\u03bb\\u03af\\u03b1\", \"\\u03a0\\u03bf\\u03c1\\u03c4\\u03bf\\u03b3\\u03b1\\u03bb\\u03af\\u03b1\", \"\\u03a0\\u03bf\\u03c1\\u03c4\\u03bf\\u03b3\\u03b1\\u03bb\\u03af\\u03b1\", \"\\u03a0\\u03bf\\u03c1\\u03c4\\u03bf\\u03b3\\u03b1\\u03bb\\u03af\\u03b1\", \"\\u03a0\\u03bf\\u03c1\\u03c4\\u03bf\\u03b3\\u03b1\\u03bb\\u03af\\u03b1\", \"\\u03a0\\u03bf\\u03c1\\u03c4\\u03bf\\u03b3\\u03b1\\u03bb\\u03af\\u03b1\", \"\\u03a0\\u03bf\\u03c1\\u03c4\\u03bf\\u03b3\\u03b1\\u03bb\\u03af\\u03b1\", \"\\u03a0\\u03bf\\u03c1\\u03c4\\u03bf\\u03b3\\u03b1\\u03bb\\u03af\\u03b1\", \"\\u03a0\\u03bf\\u03c1\\u03c4\\u03bf\\u03b3\\u03b1\\u03bb\\u03af\\u03b1\", \"\\u03a0\\u03bf\\u03c1\\u03c4\\u03bf\\u03b3\\u03b1\\u03bb\\u03af\\u03b1\", \"\\u03a0\\u03bf\\u03c1\\u03c4\\u03bf\\u03b3\\u03b1\\u03bb\\u03af\\u03b1\", \"\\u03a0\\u03bf\\u03c1\\u03c4\\u03bf\\u03b3\\u03b1\\u03bb\\u03af\\u03b1\", \"\\u03a0\\u03bf\\u03c1\\u03c4\\u03bf\\u03b3\\u03b1\\u03bb\\u03af\\u03b1\", \"\\u039d\\u03cc\\u03c4\\u03b9\\u03bf \\u03a3\\u03bf\\u03c5\\u03b4\\u03ac\\u03bd\", \"\\u039d\\u03cc\\u03c4\\u03b9\\u03bf \\u03a3\\u03bf\\u03c5\\u03b4\\u03ac\\u03bd\", \"\\u039d\\u03cc\\u03c4\\u03b9\\u03bf \\u03a3\\u03bf\\u03c5\\u03b4\\u03ac\\u03bd\", \"\\u039d\\u03cc\\u03c4\\u03b9\\u03bf \\u03a3\\u03bf\\u03c5\\u03b4\\u03ac\\u03bd\", \"\\u039d\\u03cc\\u03c4\\u03b9\\u03bf \\u03a3\\u03bf\\u03c5\\u03b4\\u03ac\\u03bd\", \"\\u039d\\u03cc\\u03c4\\u03b9\\u03bf \\u03a3\\u03bf\\u03c5\\u03b4\\u03ac\\u03bd\", \"\\u039d\\u03cc\\u03c4\\u03b9\\u03bf \\u03a3\\u03bf\\u03c5\\u03b4\\u03ac\\u03bd\", \"\\u039d\\u03cc\\u03c4\\u03b9\\u03bf \\u03a3\\u03bf\\u03c5\\u03b4\\u03ac\\u03bd\", \"\\u039d\\u03cc\\u03c4\\u03b9\\u03bf \\u03a3\\u03bf\\u03c5\\u03b4\\u03ac\\u03bd\", \"\\u039d\\u03cc\\u03c4\\u03b9\\u03bf \\u03a3\\u03bf\\u03c5\\u03b4\\u03ac\\u03bd\", \"\\u039d\\u03cc\\u03c4\\u03b9\\u03bf \\u03a3\\u03bf\\u03c5\\u03b4\\u03ac\\u03bd\", \"\\u039d\\u03cc\\u03c4\\u03b9\\u03bf \\u03a3\\u03bf\\u03c5\\u03b4\\u03ac\\u03bd\", \"\\u039d\\u03cc\\u03c4\\u03b9\\u03bf \\u03a3\\u03bf\\u03c5\\u03b4\\u03ac\\u03bd\", \"\\u039d\\u03cc\\u03c4\\u03b9\\u03bf \\u03a3\\u03bf\\u03c5\\u03b4\\u03ac\\u03bd\", \"\\u039d\\u03cc\\u03c4\\u03b9\\u03bf \\u03a3\\u03bf\\u03c5\\u03b4\\u03ac\\u03bd\", \"\\u039d\\u03cc\\u03c4\\u03b9\\u03bf \\u03a3\\u03bf\\u03c5\\u03b4\\u03ac\\u03bd\", \"\\u039d\\u03cc\\u03c4\\u03b9\\u03bf \\u03a3\\u03bf\\u03c5\\u03b4\\u03ac\\u03bd\", \"\\u039d\\u03cc\\u03c4\\u03b9\\u03bf \\u03a3\\u03bf\\u03c5\\u03b4\\u03ac\\u03bd\", \"\\u039d\\u03cc\\u03c4\\u03b9\\u03bf \\u03a3\\u03bf\\u03c5\\u03b4\\u03ac\\u03bd\", \"\\u039d\\u03cc\\u03c4\\u03b9\\u03bf \\u03a3\\u03bf\\u03c5\\u03b4\\u03ac\\u03bd\", \"\\u039d\\u03cc\\u03c4\\u03b9\\u03bf \\u03a3\\u03bf\\u03c5\\u03b4\\u03ac\\u03bd\", \"\\u039d\\u03cc\\u03c4\\u03b9\\u03bf \\u03a3\\u03bf\\u03c5\\u03b4\\u03ac\\u03bd\", \"\\u039d\\u03cc\\u03c4\\u03b9\\u03bf \\u03a3\\u03bf\\u03c5\\u03b4\\u03ac\\u03bd\", \"\\u039d\\u03cc\\u03c4\\u03b9\\u03bf \\u03a3\\u03bf\\u03c5\\u03b4\\u03ac\\u03bd\", \"\\u039d\\u03cc\\u03c4\\u03b9\\u03bf \\u03a3\\u03bf\\u03c5\\u03b4\\u03ac\\u03bd\", \"\\u039d\\u03cc\\u03c4\\u03b9\\u03bf \\u03a3\\u03bf\\u03c5\\u03b4\\u03ac\\u03bd\", \"\\u039d\\u03cc\\u03c4\\u03b9\\u03bf \\u03a3\\u03bf\\u03c5\\u03b4\\u03ac\\u03bd\", \"\\u039d\\u03cc\\u03c4\\u03b9\\u03bf \\u03a3\\u03bf\\u03c5\\u03b4\\u03ac\\u03bd\", \"\\u039d\\u03cc\\u03c4\\u03b9\\u03bf \\u03a3\\u03bf\\u03c5\\u03b4\\u03ac\\u03bd\", \"\\u039d\\u03cc\\u03c4\\u03b9\\u03bf \\u03a3\\u03bf\\u03c5\\u03b4\\u03ac\\u03bd\", \"\\u039d\\u03cc\\u03c4\\u03b9\\u03bf \\u03a3\\u03bf\\u03c5\\u03b4\\u03ac\\u03bd\", \"\\u039d\\u03cc\\u03c4\\u03b9\\u03bf \\u03a3\\u03bf\\u03c5\\u03b4\\u03ac\\u03bd\", \"\\u039d\\u03cc\\u03c4\\u03b9\\u03bf \\u03a3\\u03bf\\u03c5\\u03b4\\u03ac\\u03bd\", \"\\u039d\\u03cc\\u03c4\\u03b9\\u03bf \\u03a3\\u03bf\\u03c5\\u03b4\\u03ac\\u03bd\", \"\\u039d\\u03cc\\u03c4\\u03b9\\u03bf \\u03a3\\u03bf\\u03c5\\u03b4\\u03ac\\u03bd\", \"\\u039d\\u03cc\\u03c4\\u03b9\\u03bf \\u03a3\\u03bf\\u03c5\\u03b4\\u03ac\\u03bd\", \"\\u039d\\u03cc\\u03c4\\u03b9\\u03bf \\u03a3\\u03bf\\u03c5\\u03b4\\u03ac\\u03bd\", \"\\u03a3\\u03bf\\u03c5\\u03b7\\u03b4\\u03af\\u03b1\", \"\\u03a3\\u03bf\\u03c5\\u03b7\\u03b4\\u03af\\u03b1\", \"\\u03a3\\u03bf\\u03c5\\u03b7\\u03b4\\u03af\\u03b1\", \"\\u03a3\\u03bf\\u03c5\\u03b7\\u03b4\\u03af\\u03b1\", \"\\u03a3\\u03bf\\u03c5\\u03b7\\u03b4\\u03af\\u03b1\", \"\\u03a3\\u03bf\\u03c5\\u03b7\\u03b4\\u03af\\u03b1\", \"\\u03a3\\u03bf\\u03c5\\u03b7\\u03b4\\u03af\\u03b1\", \"\\u03a3\\u03bf\\u03c5\\u03b7\\u03b4\\u03af\\u03b1\", \"\\u03a3\\u03bf\\u03c5\\u03b7\\u03b4\\u03af\\u03b1\", \"\\u03a3\\u03bf\\u03c5\\u03b7\\u03b4\\u03af\\u03b1\", \"\\u03a3\\u03bf\\u03c5\\u03b7\\u03b4\\u03af\\u03b1\", \"\\u03a3\\u03bf\\u03c5\\u03b7\\u03b4\\u03af\\u03b1\", \"\\u03a3\\u03bf\\u03c5\\u03b7\\u03b4\\u03af\\u03b1\", \"\\u03a3\\u03bf\\u03c5\\u03b7\\u03b4\\u03af\\u03b1\", \"\\u03a3\\u03bf\\u03c5\\u03b7\\u03b4\\u03af\\u03b1\", \"\\u03a3\\u03bf\\u03c5\\u03b7\\u03b4\\u03af\\u03b1\", \"\\u03a3\\u03bf\\u03c5\\u03b7\\u03b4\\u03af\\u03b1\", \"\\u03a3\\u03bf\\u03c5\\u03b7\\u03b4\\u03af\\u03b1\", \"\\u03a3\\u03bf\\u03c5\\u03b7\\u03b4\\u03af\\u03b1\", \"\\u03a3\\u03bf\\u03c5\\u03b7\\u03b4\\u03af\\u03b1\", \"\\u03a3\\u03bf\\u03c5\\u03b7\\u03b4\\u03af\\u03b1\", \"\\u03a3\\u03bf\\u03c5\\u03b7\\u03b4\\u03af\\u03b1\", \"\\u03a3\\u03bf\\u03c5\\u03b7\\u03b4\\u03af\\u03b1\", \"\\u03a3\\u03bf\\u03c5\\u03b7\\u03b4\\u03af\\u03b1\", \"\\u03a3\\u03bf\\u03c5\\u03b7\\u03b4\\u03af\\u03b1\", \"\\u03a3\\u03bf\\u03c5\\u03b7\\u03b4\\u03af\\u03b1\", \"\\u03a3\\u03bf\\u03c5\\u03b7\\u03b4\\u03af\\u03b1\", \"\\u03a3\\u03bf\\u03c5\\u03b7\\u03b4\\u03af\\u03b1\", \"\\u03a3\\u03bf\\u03c5\\u03b7\\u03b4\\u03af\\u03b1\", \"\\u03a3\\u03bf\\u03c5\\u03b7\\u03b4\\u03af\\u03b1\", \"\\u03a3\\u03bf\\u03c5\\u03b7\\u03b4\\u03af\\u03b1\", \"\\u03a3\\u03bf\\u03c5\\u03b7\\u03b4\\u03af\\u03b1\", \"\\u03a3\\u03bf\\u03c5\\u03b7\\u03b4\\u03af\\u03b1\", \"\\u03a3\\u03bf\\u03c5\\u03b7\\u03b4\\u03af\\u03b1\", \"\\u03a3\\u03bf\\u03c5\\u03b7\\u03b4\\u03af\\u03b1\", \"\\u03a3\\u03bf\\u03c5\\u03b7\\u03b4\\u03af\\u03b1\", \"\\u03a3\\u03bf\\u03c5\\u03b7\\u03b4\\u03af\\u03b1\", \"\\u03a4\\u03c5\\u03bd\\u03b7\\u03c3\\u03af\\u03b1\", \"\\u03a4\\u03c5\\u03bd\\u03b7\\u03c3\\u03af\\u03b1\", \"\\u03a4\\u03c5\\u03bd\\u03b7\\u03c3\\u03af\\u03b1\", \"\\u03a4\\u03c5\\u03bd\\u03b7\\u03c3\\u03af\\u03b1\", \"\\u03a4\\u03c5\\u03bd\\u03b7\\u03c3\\u03af\\u03b1\", \"\\u03a4\\u03c5\\u03bd\\u03b7\\u03c3\\u03af\\u03b1\", \"\\u03a4\\u03c5\\u03bd\\u03b7\\u03c3\\u03af\\u03b1\", \"\\u03a4\\u03c5\\u03bd\\u03b7\\u03c3\\u03af\\u03b1\", \"\\u03a4\\u03c5\\u03bd\\u03b7\\u03c3\\u03af\\u03b1\", \"\\u03a4\\u03c5\\u03bd\\u03b7\\u03c3\\u03af\\u03b1\", \"\\u03a4\\u03c5\\u03bd\\u03b7\\u03c3\\u03af\\u03b1\", \"\\u03a4\\u03c5\\u03bd\\u03b7\\u03c3\\u03af\\u03b1\", \"\\u03a4\\u03c5\\u03bd\\u03b7\\u03c3\\u03af\\u03b1\", \"\\u03a4\\u03c5\\u03bd\\u03b7\\u03c3\\u03af\\u03b1\", \"\\u03a4\\u03c5\\u03bd\\u03b7\\u03c3\\u03af\\u03b1\", \"\\u03a4\\u03c5\\u03bd\\u03b7\\u03c3\\u03af\\u03b1\", \"\\u03a4\\u03c5\\u03bd\\u03b7\\u03c3\\u03af\\u03b1\", \"\\u03a4\\u03c5\\u03bd\\u03b7\\u03c3\\u03af\\u03b1\", \"\\u03a4\\u03c5\\u03bd\\u03b7\\u03c3\\u03af\\u03b1\", \"\\u03a4\\u03c5\\u03bd\\u03b7\\u03c3\\u03af\\u03b1\", \"\\u03a4\\u03c5\\u03bd\\u03b7\\u03c3\\u03af\\u03b1\", \"\\u03a4\\u03c5\\u03bd\\u03b7\\u03c3\\u03af\\u03b1\", \"\\u03a4\\u03c5\\u03bd\\u03b7\\u03c3\\u03af\\u03b1\", \"\\u03a4\\u03c5\\u03bd\\u03b7\\u03c3\\u03af\\u03b1\", \"\\u03a4\\u03c5\\u03bd\\u03b7\\u03c3\\u03af\\u03b1\", \"\\u03a4\\u03c5\\u03bd\\u03b7\\u03c3\\u03af\\u03b1\", \"\\u03a4\\u03c5\\u03bd\\u03b7\\u03c3\\u03af\\u03b1\", \"\\u03a4\\u03c5\\u03bd\\u03b7\\u03c3\\u03af\\u03b1\", \"\\u03a4\\u03c5\\u03bd\\u03b7\\u03c3\\u03af\\u03b1\", \"\\u03a4\\u03c5\\u03bd\\u03b7\\u03c3\\u03af\\u03b1\", \"\\u03a4\\u03c5\\u03bd\\u03b7\\u03c3\\u03af\\u03b1\", \"\\u03a4\\u03c5\\u03bd\\u03b7\\u03c3\\u03af\\u03b1\", \"\\u03a4\\u03c5\\u03bd\\u03b7\\u03c3\\u03af\\u03b1\", \"\\u03a4\\u03c5\\u03bd\\u03b7\\u03c3\\u03af\\u03b1\", \"\\u03a4\\u03c5\\u03bd\\u03b7\\u03c3\\u03af\\u03b1\", \"\\u03a4\\u03c5\\u03bd\\u03b7\\u03c3\\u03af\\u03b1\", \"\\u03a4\\u03c5\\u03bd\\u03b7\\u03c3\\u03af\\u03b1\", \"\\u0397\\u03bd. \\u0391\\u03c1\\u03b1\\u03b2\\u03b9\\u03ba\\u03ac \\u0395\\u03bc\\u03b9\\u03c1\\u03ac\\u03c4\\u03b1\", \"\\u0397\\u03bd. \\u0391\\u03c1\\u03b1\\u03b2\\u03b9\\u03ba\\u03ac \\u0395\\u03bc\\u03b9\\u03c1\\u03ac\\u03c4\\u03b1\", \"\\u0397\\u03bd. \\u0391\\u03c1\\u03b1\\u03b2\\u03b9\\u03ba\\u03ac \\u0395\\u03bc\\u03b9\\u03c1\\u03ac\\u03c4\\u03b1\", \"\\u0397\\u03bd. \\u0391\\u03c1\\u03b1\\u03b2\\u03b9\\u03ba\\u03ac \\u0395\\u03bc\\u03b9\\u03c1\\u03ac\\u03c4\\u03b1\", \"\\u0397\\u03bd. \\u0391\\u03c1\\u03b1\\u03b2\\u03b9\\u03ba\\u03ac \\u0395\\u03bc\\u03b9\\u03c1\\u03ac\\u03c4\\u03b1\", \"\\u0397\\u03bd. \\u0391\\u03c1\\u03b1\\u03b2\\u03b9\\u03ba\\u03ac \\u0395\\u03bc\\u03b9\\u03c1\\u03ac\\u03c4\\u03b1\", \"\\u0397\\u03bd. \\u0391\\u03c1\\u03b1\\u03b2\\u03b9\\u03ba\\u03ac \\u0395\\u03bc\\u03b9\\u03c1\\u03ac\\u03c4\\u03b1\", \"\\u0397\\u03bd. \\u0391\\u03c1\\u03b1\\u03b2\\u03b9\\u03ba\\u03ac \\u0395\\u03bc\\u03b9\\u03c1\\u03ac\\u03c4\\u03b1\", \"\\u0397\\u03bd. \\u0391\\u03c1\\u03b1\\u03b2\\u03b9\\u03ba\\u03ac \\u0395\\u03bc\\u03b9\\u03c1\\u03ac\\u03c4\\u03b1\", \"\\u0397\\u03bd. \\u0391\\u03c1\\u03b1\\u03b2\\u03b9\\u03ba\\u03ac \\u0395\\u03bc\\u03b9\\u03c1\\u03ac\\u03c4\\u03b1\", \"\\u0397\\u03bd. \\u0391\\u03c1\\u03b1\\u03b2\\u03b9\\u03ba\\u03ac \\u0395\\u03bc\\u03b9\\u03c1\\u03ac\\u03c4\\u03b1\", \"\\u0397\\u03bd. \\u0391\\u03c1\\u03b1\\u03b2\\u03b9\\u03ba\\u03ac \\u0395\\u03bc\\u03b9\\u03c1\\u03ac\\u03c4\\u03b1\", \"\\u0397\\u03bd. \\u0391\\u03c1\\u03b1\\u03b2\\u03b9\\u03ba\\u03ac \\u0395\\u03bc\\u03b9\\u03c1\\u03ac\\u03c4\\u03b1\", \"\\u0397\\u03bd. \\u0391\\u03c1\\u03b1\\u03b2\\u03b9\\u03ba\\u03ac \\u0395\\u03bc\\u03b9\\u03c1\\u03ac\\u03c4\\u03b1\", \"\\u0397\\u03bd. \\u0391\\u03c1\\u03b1\\u03b2\\u03b9\\u03ba\\u03ac \\u0395\\u03bc\\u03b9\\u03c1\\u03ac\\u03c4\\u03b1\", \"\\u0397\\u03bd. \\u0391\\u03c1\\u03b1\\u03b2\\u03b9\\u03ba\\u03ac \\u0395\\u03bc\\u03b9\\u03c1\\u03ac\\u03c4\\u03b1\", \"\\u0397\\u03bd. \\u0391\\u03c1\\u03b1\\u03b2\\u03b9\\u03ba\\u03ac \\u0395\\u03bc\\u03b9\\u03c1\\u03ac\\u03c4\\u03b1\", \"\\u0397\\u03bd. \\u0391\\u03c1\\u03b1\\u03b2\\u03b9\\u03ba\\u03ac \\u0395\\u03bc\\u03b9\\u03c1\\u03ac\\u03c4\\u03b1\", \"\\u0397\\u03bd. \\u0391\\u03c1\\u03b1\\u03b2\\u03b9\\u03ba\\u03ac \\u0395\\u03bc\\u03b9\\u03c1\\u03ac\\u03c4\\u03b1\", \"\\u0397\\u03bd. \\u0391\\u03c1\\u03b1\\u03b2\\u03b9\\u03ba\\u03ac \\u0395\\u03bc\\u03b9\\u03c1\\u03ac\\u03c4\\u03b1\", \"\\u0397\\u03bd. \\u0391\\u03c1\\u03b1\\u03b2\\u03b9\\u03ba\\u03ac \\u0395\\u03bc\\u03b9\\u03c1\\u03ac\\u03c4\\u03b1\", \"\\u0397\\u03bd. \\u0391\\u03c1\\u03b1\\u03b2\\u03b9\\u03ba\\u03ac \\u0395\\u03bc\\u03b9\\u03c1\\u03ac\\u03c4\\u03b1\", \"\\u0397\\u03bd. \\u0391\\u03c1\\u03b1\\u03b2\\u03b9\\u03ba\\u03ac \\u0395\\u03bc\\u03b9\\u03c1\\u03ac\\u03c4\\u03b1\", \"\\u0397\\u03bd. \\u0391\\u03c1\\u03b1\\u03b2\\u03b9\\u03ba\\u03ac \\u0395\\u03bc\\u03b9\\u03c1\\u03ac\\u03c4\\u03b1\", \"\\u0397\\u03bd. \\u0391\\u03c1\\u03b1\\u03b2\\u03b9\\u03ba\\u03ac \\u0395\\u03bc\\u03b9\\u03c1\\u03ac\\u03c4\\u03b1\", \"\\u0397\\u03bd. \\u0391\\u03c1\\u03b1\\u03b2\\u03b9\\u03ba\\u03ac \\u0395\\u03bc\\u03b9\\u03c1\\u03ac\\u03c4\\u03b1\", \"\\u0397\\u03bd. \\u0391\\u03c1\\u03b1\\u03b2\\u03b9\\u03ba\\u03ac \\u0395\\u03bc\\u03b9\\u03c1\\u03ac\\u03c4\\u03b1\", \"\\u0397\\u03bd. \\u0391\\u03c1\\u03b1\\u03b2\\u03b9\\u03ba\\u03ac \\u0395\\u03bc\\u03b9\\u03c1\\u03ac\\u03c4\\u03b1\", \"\\u0397\\u03bd. \\u0391\\u03c1\\u03b1\\u03b2\\u03b9\\u03ba\\u03ac \\u0395\\u03bc\\u03b9\\u03c1\\u03ac\\u03c4\\u03b1\", \"\\u0397\\u03bd. \\u0391\\u03c1\\u03b1\\u03b2\\u03b9\\u03ba\\u03ac \\u0395\\u03bc\\u03b9\\u03c1\\u03ac\\u03c4\\u03b1\", \"\\u0397\\u03bd. \\u0391\\u03c1\\u03b1\\u03b2\\u03b9\\u03ba\\u03ac \\u0395\\u03bc\\u03b9\\u03c1\\u03ac\\u03c4\\u03b1\", \"\\u0397\\u03bd. \\u0391\\u03c1\\u03b1\\u03b2\\u03b9\\u03ba\\u03ac \\u0395\\u03bc\\u03b9\\u03c1\\u03ac\\u03c4\\u03b1\", \"\\u0397\\u03bd. \\u0391\\u03c1\\u03b1\\u03b2\\u03b9\\u03ba\\u03ac \\u0395\\u03bc\\u03b9\\u03c1\\u03ac\\u03c4\\u03b1\", \"\\u0397\\u03bd. \\u0391\\u03c1\\u03b1\\u03b2\\u03b9\\u03ba\\u03ac \\u0395\\u03bc\\u03b9\\u03c1\\u03ac\\u03c4\\u03b1\", \"\\u0397\\u03bd. \\u0391\\u03c1\\u03b1\\u03b2\\u03b9\\u03ba\\u03ac \\u0395\\u03bc\\u03b9\\u03c1\\u03ac\\u03c4\\u03b1\", \"\\u0397\\u03bd. \\u0391\\u03c1\\u03b1\\u03b2\\u03b9\\u03ba\\u03ac \\u0395\\u03bc\\u03b9\\u03c1\\u03ac\\u03c4\\u03b1\", \"\\u0397\\u03bd. \\u0391\\u03c1\\u03b1\\u03b2\\u03b9\\u03ba\\u03ac \\u0395\\u03bc\\u03b9\\u03c1\\u03ac\\u03c4\\u03b1\"], \"z\": [0.0, 0.0, 0.0, 0.0, 0.0, 0.01, 0.0, 0.0, 0.0, 0.02, 0.0, 0.01, 0.02, 0.0, 0.02, 0.09, 0.06, 0.08, 0.02, 0.21, 0.1, 0.11, 0.2, 0.24, 0.22, 0.2, 0.13, 0.11, 0.2, 0.2, 0.18, 0.26, 0.33, 0.24, 0.27, 0.2, 0.14, 0.0, 0.0, 0.0, 0.0, 0.0, 0.0, 0.01, 0.0, 0.0, 0.0, 0.0, 0.0, 0.0, 0.0, 0.0, 0.0, 0.0, 0.0, 0.01, 0.01, 0.0, 0.01, 0.0, 0.0, 0.01, 0.0, 0.0, 0.0, 0.0, 0.02, 0.0, 0.01, 0.0, 0.01, 0.01, 0.01, 0.0, 0.0, 0.0, 0.0, 0.0, 0.0, 0.0, 0.0, 0.0, 0.0, 0.0, 0.0, 0.0, 0.0, 0.0, 0.0, 0.0, 0.0, 0.0, 0.0, 0.0, 0.0, 0.0, 0.0, 0.0, 0.01, 0.01, 0.02, 0.0, 0.01, 0.03, 0.05, 0.0, 0.0, 0.03, 0.03, 0.04, 0.03, 0.0, 0.0, 0.0, 0.0, 0.03, 0.0, 0.0, 0.01, 0.0, 0.01, 0.04, 0.03, 0.06, 0.14, 0.26, 0.07, 0.11, 0.29, 0.48, 0.36, 0.6, 0.55, 0.67, 0.71, 1.66, 1.06, 1.58, 1.14, 1.21, 1.42, 1.6, 3.48, 1.77, 2.44, 4.28, 2.82, 2.19, 0.0, 0.0, 0.0, 0.0, 0.0, 0.0, 0.0, 0.0, 0.0, 0.0, 0.0, 0.0, 0.0, 0.0, 0.0, 0.0, 0.0, 0.0, 0.0, 0.0, 0.0, 0.0, 0.01, 0.03, 0.02, 0.01, 0.01, 0.01, 0.01, 0.0, 0.01, 0.03, 0.01, 0.03, 0.01, 0.01, 0.03, 0.0, 0.0, 0.0, 0.0, 0.0, 0.0, 0.0, 0.0, 0.0, 0.0, 0.0, 0.0, 0.0, 0.0, 0.0, 0.0, 0.0, 0.0, 0.0, 0.0, 0.0, 0.0, 0.0, 0.0, 0.0, 0.0, 0.0, 0.0, 0.0, 0.0, 0.0, 0.0, 0.0, 0.0, 0.0, 0.0, 0.0, 0.0, 0.0, 0.0, 0.0, 0.0, 0.0, 0.0, 0.0, 0.0, 0.0, 0.0, 0.01, 0.0, 0.0, 0.0, 0.0, 0.0, 0.0, 0.0, 0.01, 0.0, 0.01, 0.0, 0.01, 0.02, 0.0, 0.0, 0.0, 0.0, 0.02, 0.01, 0.02, 0.01, 0.03, 0.0, 0.01, 0.02, 0.0, 0.0, 0.0, 0.0, 0.0, 0.0, 0.0, 0.0, 0.0, 0.0, 0.0, 0.0, 0.0, 0.0, 0.0, 0.01, 0.0, 0.02, 0.03, 0.03, 0.0, 0.02, 0.05, 0.07, 0.07, 0.07, 0.05, 0.08, 0.06, 0.07, 0.1, 0.09, 0.1, 0.12, 0.07, 0.09, 0.08, 0.0, 0.0, 0.0, 0.0, 0.0, 0.0, 0.0, 0.0, 0.0, 0.0, 0.01, 0.0, 0.01, 0.0, 0.0, 0.01, 0.0, 0.03, 0.04, 0.0, 0.09, 0.07, 0.1, 0.03, 0.08, 0.06, 0.03, 0.07, 0.0, 0.13, 0.04, 0.11, 0.09, 0.09, 0.07, 0.08, 0.35, 0.0, 0.0, 0.0, 0.0, 0.01, 0.0, 0.0, 0.02, 0.01, 0.0, 0.01, 0.0, 0.01, 0.0, 0.07, 0.02, 0.02, 0.03, 0.02, 0.04, 0.02, 0.04, 0.06, 0.05, 0.06, 0.01, 0.03, 0.1, 0.05, 0.05, 0.06, 0.02, 0.02, 0.04, 0.05, 0.01, 0.05, 0.0, 0.0, 0.0, 0.0, 0.0, 0.0, 0.0, 0.0, 0.0, 0.0, 0.0, 0.0, 0.0, 0.0, 0.0, 0.0, 0.0, 0.0, 0.0, 0.0, 0.0, 0.0, 0.0, 0.0, 0.0, 0.0, 0.0, 0.0, 0.0, 0.01, 0.0, 0.0, 0.0, 0.01, 0.0, 0.0, 0.01, 0.0, 0.0, 0.0, 0.0, 0.0, 0.0, 0.0, 0.0, 0.0, 0.0, 0.0, 0.0, 0.0, 0.0, 0.0, 0.0, 0.0, 0.0, 0.0, 0.01, 0.0, 0.0, 0.02, 0.04, 0.0, 0.03, 0.04, 0.01, 0.0, 0.07, 0.0, 0.0, 0.0, 0.01, 0.0, 0.01, 0.01, 0.0, 0.0, 0.0, 0.0, 0.0, 0.0, 0.0, 0.0, 0.01, 0.0, 0.0, 0.0, 0.0, 0.02, 0.01, 0.02, 0.01, 0.02, 0.01, 0.0, 0.0, 0.01, 0.02, 0.02, 0.01, 0.04, 0.01, 0.05, 0.06, 0.02, 0.04, 0.09, 0.11, 0.08, 0.11, 0.08, 0.14, 0.0, 0.0, 0.0, 0.0, 0.0, 0.0, 0.0, 0.0, 0.0, 0.0, 0.0, 0.0, 0.0, 0.0, 0.0, 0.0, 0.0, 0.0, 0.0, 0.0, 0.01, 0.0, 0.02, 0.02, 0.0, 0.0, 0.0, 0.0, 0.0, 0.0, 0.01, 0.0, 0.0, 0.01, 0.0, 0.0, 0.0, 0.0, 0.0, 0.0, 0.0, 0.0, 0.0, 0.0, 0.0, 0.0, 0.0, 0.01, 0.01, 0.01, 0.03, 0.06, 0.02, 0.09, 0.1, 0.1, 0.17, 0.16, 0.24, 0.19, 0.21, 0.2, 0.26, 0.22, 0.36, 0.2, 0.28, 0.16, 0.33, 0.34, 0.28, 0.25, 0.34, 0.33, 0.0, 0.0, 0.0, 0.0, 0.0, 0.0, 0.0, 0.0, 0.0, 0.0, 0.0, 0.0, 0.0, 0.0, 0.0, 0.0, 0.0, 0.0, 0.0, 0.0, 0.0, 0.0, 0.0, 0.0, 0.0, 0.0, 0.0, 0.0, 0.0, 0.0, 0.0, 0.0, 0.0, 0.0, 0.0, 0.0, 0.0, 0.0, 0.0, 0.0, 0.0, 0.01, 0.0, 0.0, 0.01, 0.01, 0.03, 0.01, 0.03, 0.01, 0.05, 0.04, 0.01, 0.04, 0.11, 0.26, 0.15, 0.28, 0.0, 0.05, 0.36, 0.34, 0.58, 0.68, 0.5, 0.15, 0.28, 0.75, 1.13, 0.95, 1.05, 0.76, 0.17, 0.12, 0.0, 0.0, 0.0, 0.0, 0.0, 0.0, 0.0, 0.0, 0.0, 0.0, 0.0, 0.0, 0.01, 0.0, 0.0, 0.02, 0.0, 0.01, 0.01, 0.01, 0.0, 0.02, 0.0, 0.0, 0.02, 0.02, 0.02, 0.03, 0.0, 0.03, 0.0, 0.01, 0.01, 0.01, 0.0, 0.03, 0.03, 0.0, 0.0, 0.0, 0.0, 0.0, 0.0, 0.0, 0.0, 0.0, 0.0, 0.0, 0.0, 0.0, 0.02, 0.0, 0.0, 0.0, 0.0, 0.0, 0.0, 0.0, 0.0, 0.01, 0.02, 0.01, 0.02, 0.0, 0.01, 0.01, 0.0, 0.01, 0.01, 0.0, 0.02, 0.02, 0.04, 0.02]}],\n",
       "                        {\"font\": {\"color\": \"#114B5F\", \"family\": \"Roboto\", \"size\": 11}, \"height\": 380, \"hoverlabel\": {\"align\": \"left\", \"bgcolor\": \"white\", \"font\": {\"family\": \"Roboto\", \"size\": 12}}, \"hovermode\": \"closest\", \"margin\": {\"b\": 20, \"l\": 10, \"pad\": 1, \"r\": 10, \"t\": 100}, \"paper_bgcolor\": \"#E6ECEC\", \"plot_bgcolor\": \"#E6ECEC\", \"template\": {\"data\": {\"bar\": [{\"error_x\": {\"color\": \"#2a3f5f\"}, \"error_y\": {\"color\": \"#2a3f5f\"}, \"marker\": {\"line\": {\"color\": \"#E5ECF6\", \"width\": 0.5}}, \"type\": \"bar\"}], \"barpolar\": [{\"marker\": {\"line\": {\"color\": \"#E5ECF6\", \"width\": 0.5}}, \"type\": \"barpolar\"}], \"carpet\": [{\"aaxis\": {\"endlinecolor\": \"#2a3f5f\", \"gridcolor\": \"white\", \"linecolor\": \"white\", \"minorgridcolor\": \"white\", \"startlinecolor\": \"#2a3f5f\"}, \"baxis\": {\"endlinecolor\": \"#2a3f5f\", \"gridcolor\": \"white\", \"linecolor\": \"white\", \"minorgridcolor\": \"white\", \"startlinecolor\": \"#2a3f5f\"}, \"type\": \"carpet\"}], \"choropleth\": [{\"colorbar\": {\"outlinewidth\": 0, \"ticks\": \"\"}, \"type\": \"choropleth\"}], \"contour\": [{\"colorbar\": {\"outlinewidth\": 0, \"ticks\": \"\"}, \"colorscale\": [[0.0, \"#0d0887\"], [0.1111111111111111, \"#46039f\"], [0.2222222222222222, \"#7201a8\"], [0.3333333333333333, \"#9c179e\"], [0.4444444444444444, \"#bd3786\"], [0.5555555555555556, \"#d8576b\"], [0.6666666666666666, \"#ed7953\"], [0.7777777777777778, \"#fb9f3a\"], [0.8888888888888888, \"#fdca26\"], [1.0, \"#f0f921\"]], \"type\": \"contour\"}], \"contourcarpet\": [{\"colorbar\": {\"outlinewidth\": 0, \"ticks\": \"\"}, \"type\": \"contourcarpet\"}], \"heatmap\": [{\"colorbar\": {\"outlinewidth\": 0, \"ticks\": \"\"}, \"colorscale\": [[0.0, \"#0d0887\"], [0.1111111111111111, \"#46039f\"], [0.2222222222222222, \"#7201a8\"], [0.3333333333333333, \"#9c179e\"], [0.4444444444444444, \"#bd3786\"], [0.5555555555555556, \"#d8576b\"], [0.6666666666666666, \"#ed7953\"], [0.7777777777777778, \"#fb9f3a\"], [0.8888888888888888, \"#fdca26\"], [1.0, \"#f0f921\"]], \"type\": \"heatmap\"}], \"heatmapgl\": [{\"colorbar\": {\"outlinewidth\": 0, \"ticks\": \"\"}, \"colorscale\": [[0.0, \"#0d0887\"], [0.1111111111111111, \"#46039f\"], [0.2222222222222222, \"#7201a8\"], [0.3333333333333333, \"#9c179e\"], [0.4444444444444444, \"#bd3786\"], [0.5555555555555556, \"#d8576b\"], [0.6666666666666666, \"#ed7953\"], [0.7777777777777778, \"#fb9f3a\"], [0.8888888888888888, \"#fdca26\"], [1.0, \"#f0f921\"]], \"type\": \"heatmapgl\"}], \"histogram\": [{\"marker\": {\"colorbar\": {\"outlinewidth\": 0, \"ticks\": \"\"}}, \"type\": \"histogram\"}], \"histogram2d\": [{\"colorbar\": {\"outlinewidth\": 0, \"ticks\": \"\"}, \"colorscale\": [[0.0, \"#0d0887\"], [0.1111111111111111, \"#46039f\"], [0.2222222222222222, \"#7201a8\"], [0.3333333333333333, \"#9c179e\"], [0.4444444444444444, \"#bd3786\"], [0.5555555555555556, \"#d8576b\"], [0.6666666666666666, \"#ed7953\"], [0.7777777777777778, \"#fb9f3a\"], [0.8888888888888888, \"#fdca26\"], [1.0, \"#f0f921\"]], \"type\": \"histogram2d\"}], \"histogram2dcontour\": [{\"colorbar\": {\"outlinewidth\": 0, \"ticks\": \"\"}, \"colorscale\": [[0.0, \"#0d0887\"], [0.1111111111111111, \"#46039f\"], [0.2222222222222222, \"#7201a8\"], [0.3333333333333333, \"#9c179e\"], [0.4444444444444444, \"#bd3786\"], [0.5555555555555556, \"#d8576b\"], [0.6666666666666666, \"#ed7953\"], [0.7777777777777778, \"#fb9f3a\"], [0.8888888888888888, \"#fdca26\"], [1.0, \"#f0f921\"]], \"type\": \"histogram2dcontour\"}], \"mesh3d\": [{\"colorbar\": {\"outlinewidth\": 0, \"ticks\": \"\"}, \"type\": \"mesh3d\"}], \"parcoords\": [{\"line\": {\"colorbar\": {\"outlinewidth\": 0, \"ticks\": \"\"}}, \"type\": \"parcoords\"}], \"pie\": [{\"automargin\": true, \"type\": \"pie\"}], \"scatter\": [{\"marker\": {\"colorbar\": {\"outlinewidth\": 0, \"ticks\": \"\"}}, \"type\": \"scatter\"}], \"scatter3d\": [{\"line\": {\"colorbar\": {\"outlinewidth\": 0, \"ticks\": \"\"}}, \"marker\": {\"colorbar\": {\"outlinewidth\": 0, \"ticks\": \"\"}}, \"type\": \"scatter3d\"}], \"scattercarpet\": [{\"marker\": {\"colorbar\": {\"outlinewidth\": 0, \"ticks\": \"\"}}, \"type\": \"scattercarpet\"}], \"scattergeo\": [{\"marker\": {\"colorbar\": {\"outlinewidth\": 0, \"ticks\": \"\"}}, \"type\": \"scattergeo\"}], \"scattergl\": [{\"marker\": {\"colorbar\": {\"outlinewidth\": 0, \"ticks\": \"\"}}, \"type\": \"scattergl\"}], \"scattermapbox\": [{\"marker\": {\"colorbar\": {\"outlinewidth\": 0, \"ticks\": \"\"}}, \"type\": \"scattermapbox\"}], \"scatterpolar\": [{\"marker\": {\"colorbar\": {\"outlinewidth\": 0, \"ticks\": \"\"}}, \"type\": \"scatterpolar\"}], \"scatterpolargl\": [{\"marker\": {\"colorbar\": {\"outlinewidth\": 0, \"ticks\": \"\"}}, \"type\": \"scatterpolargl\"}], \"scatterternary\": [{\"marker\": {\"colorbar\": {\"outlinewidth\": 0, \"ticks\": \"\"}}, \"type\": \"scatterternary\"}], \"surface\": [{\"colorbar\": {\"outlinewidth\": 0, \"ticks\": \"\"}, \"colorscale\": [[0.0, \"#0d0887\"], [0.1111111111111111, \"#46039f\"], [0.2222222222222222, \"#7201a8\"], [0.3333333333333333, \"#9c179e\"], [0.4444444444444444, \"#bd3786\"], [0.5555555555555556, \"#d8576b\"], [0.6666666666666666, \"#ed7953\"], [0.7777777777777778, \"#fb9f3a\"], [0.8888888888888888, \"#fdca26\"], [1.0, \"#f0f921\"]], \"type\": \"surface\"}], \"table\": [{\"cells\": {\"fill\": {\"color\": \"#EBF0F8\"}, \"line\": {\"color\": \"white\"}}, \"header\": {\"fill\": {\"color\": \"#C8D4E3\"}, \"line\": {\"color\": \"white\"}}, \"type\": \"table\"}]}, \"layout\": {\"annotationdefaults\": {\"arrowcolor\": \"#2a3f5f\", \"arrowhead\": 0, \"arrowwidth\": 1}, \"coloraxis\": {\"colorbar\": {\"outlinewidth\": 0, \"ticks\": \"\"}}, \"colorscale\": {\"diverging\": [[0, \"#8e0152\"], [0.1, \"#c51b7d\"], [0.2, \"#de77ae\"], [0.3, \"#f1b6da\"], [0.4, \"#fde0ef\"], [0.5, \"#f7f7f7\"], [0.6, \"#e6f5d0\"], [0.7, \"#b8e186\"], [0.8, \"#7fbc41\"], [0.9, \"#4d9221\"], [1, \"#276419\"]], \"sequential\": [[0.0, \"#0d0887\"], [0.1111111111111111, \"#46039f\"], [0.2222222222222222, \"#7201a8\"], [0.3333333333333333, \"#9c179e\"], [0.4444444444444444, \"#bd3786\"], [0.5555555555555556, \"#d8576b\"], [0.6666666666666666, \"#ed7953\"], [0.7777777777777778, \"#fb9f3a\"], [0.8888888888888888, \"#fdca26\"], [1.0, \"#f0f921\"]], \"sequentialminus\": [[0.0, \"#0d0887\"], [0.1111111111111111, \"#46039f\"], [0.2222222222222222, \"#7201a8\"], [0.3333333333333333, \"#9c179e\"], [0.4444444444444444, \"#bd3786\"], [0.5555555555555556, \"#d8576b\"], [0.6666666666666666, \"#ed7953\"], [0.7777777777777778, \"#fb9f3a\"], [0.8888888888888888, \"#fdca26\"], [1.0, \"#f0f921\"]]}, \"colorway\": [\"#636efa\", \"#EF553B\", \"#00cc96\", \"#ab63fa\", \"#FFA15A\", \"#19d3f3\", \"#FF6692\", \"#B6E880\", \"#FF97FF\", \"#FECB52\"], \"font\": {\"color\": \"#2a3f5f\"}, \"geo\": {\"bgcolor\": \"white\", \"lakecolor\": \"white\", \"landcolor\": \"#E5ECF6\", \"showlakes\": true, \"showland\": true, \"subunitcolor\": \"white\"}, \"hoverlabel\": {\"align\": \"left\"}, \"hovermode\": \"closest\", \"mapbox\": {\"style\": \"light\"}, \"paper_bgcolor\": \"white\", \"plot_bgcolor\": \"#E5ECF6\", \"polar\": {\"angularaxis\": {\"gridcolor\": \"white\", \"linecolor\": \"white\", \"ticks\": \"\"}, \"bgcolor\": \"#E5ECF6\", \"radialaxis\": {\"gridcolor\": \"white\", \"linecolor\": \"white\", \"ticks\": \"\"}}, \"scene\": {\"xaxis\": {\"backgroundcolor\": \"#E5ECF6\", \"gridcolor\": \"white\", \"gridwidth\": 2, \"linecolor\": \"white\", \"showbackground\": true, \"ticks\": \"\", \"zerolinecolor\": \"white\"}, \"yaxis\": {\"backgroundcolor\": \"#E5ECF6\", \"gridcolor\": \"white\", \"gridwidth\": 2, \"linecolor\": \"white\", \"showbackground\": true, \"ticks\": \"\", \"zerolinecolor\": \"white\"}, \"zaxis\": {\"backgroundcolor\": \"#E5ECF6\", \"gridcolor\": \"white\", \"gridwidth\": 2, \"linecolor\": \"white\", \"showbackground\": true, \"ticks\": \"\", \"zerolinecolor\": \"white\"}}, \"shapedefaults\": {\"line\": {\"color\": \"#2a3f5f\"}}, \"ternary\": {\"aaxis\": {\"gridcolor\": \"white\", \"linecolor\": \"white\", \"ticks\": \"\"}, \"baxis\": {\"gridcolor\": \"white\", \"linecolor\": \"white\", \"ticks\": \"\"}, \"bgcolor\": \"#E5ECF6\", \"caxis\": {\"gridcolor\": \"white\", \"linecolor\": \"white\", \"ticks\": \"\"}}, \"title\": {\"x\": 0.05}, \"xaxis\": {\"automargin\": true, \"gridcolor\": \"white\", \"linecolor\": \"white\", \"ticks\": \"\", \"title\": {\"standoff\": 15}, \"zerolinecolor\": \"white\", \"zerolinewidth\": 2}, \"yaxis\": {\"automargin\": true, \"gridcolor\": \"white\", \"linecolor\": \"white\", \"ticks\": \"\", \"title\": {\"standoff\": 15}, \"zerolinecolor\": \"white\", \"zerolinewidth\": 2}}}, \"title\": {\"text\": \"\\u0398\\u03ac\\u03bd\\u03b1\\u03c4\\u03bf\\u03b9 \\u03b1\\u03bd\\u03ac 100 \\u03c7\\u03b9\\u03bb. \\u03c0\\u03bb\\u03b7\\u03b8\\u03c5\\u03c3\\u03bc\\u03bf\\u03cd\"}, \"xaxis\": {\"side\": \"top\"}},\n",
       "                        {\"responsive\": true}\n",
       "                    ).then(function(){\n",
       "                            \n",
       "var gd = document.getElementById('aaa48d1d-0337-47a9-b0c6-4218e85c6ca5');\n",
       "var x = new MutationObserver(function (mutations, observer) {{\n",
       "        var display = window.getComputedStyle(gd).display;\n",
       "        if (!display || display === 'none') {{\n",
       "            console.log([gd, 'removed!']);\n",
       "            Plotly.purge(gd);\n",
       "            observer.disconnect();\n",
       "        }}\n",
       "}});\n",
       "\n",
       "// Listen for the removal of the full notebook cells\n",
       "var notebookContainer = gd.closest('#notebook-container');\n",
       "if (notebookContainer) {{\n",
       "    x.observe(notebookContainer, {childList: true});\n",
       "}}\n",
       "\n",
       "// Listen for the clearing of the current output cell\n",
       "var outputEl = gd.closest('.output');\n",
       "if (outputEl) {{\n",
       "    x.observe(outputEl, {childList: true});\n",
       "}}\n",
       "\n",
       "                        })\n",
       "                };\n",
       "                });\n",
       "            </script>\n",
       "        </div>"
      ]
     },
     "metadata": {},
     "output_type": "display_data"
    }
   ],
   "source": [
    "def heatmap(fileName, columnName, outputName, titleGraphic, keyWord):\n",
    "    \n",
    "    ''' φορτώνουμε το πρώτο αρχείο από το Hopkins'''\n",
    "    df=pd.read_csv(baseHopkinsURL + fileName)\\\n",
    "        .drop(['Lat', 'Long'], axis=1) \n",
    "    \n",
    "    ''' υπολογίζουμε το difference από ημέρα σε ημέρα, ώστε να βγάλουμε τα ΝΕΑ κρούσματα/θάνατοι ανά ημέρα'''\n",
    "    cols=df.columns.to_list()\n",
    "    df_dif=df[cols[4:]].diff(axis=1)\n",
    "    df=df_dif.join(df['Country/Region'])\\\n",
    "        \n",
    "    ''' αλλάζουμε τα data από wide σε long + μετρέπουμε τη στήλη Date σε datetime'''    \n",
    "    df=pd.melt(df, id_vars=['Country/Region'], \n",
    "                 var_name='Date', value_name=columnName) \\\n",
    "        .astype({'Date':'datetime64[ns]', columnName:'Int64'}, \n",
    "                 errors='ignore')\n",
    "    \n",
    "    ''' φορτώνουμε το αρχείο με την αντιστοίχιση ελληνικών - αγγλικών ονομάτων χωρών'''\n",
    "    gr=pd.read_csv(countriesInGreek)\n",
    "    ''' το συνδέουμε με το dataframe από το Hopkins ώστε να προστεθεί το ADMIN_GR'''\n",
    "    df=pd.merge(df,gr, how='left', left_on='Country/Region', right_on='ADMIN')\n",
    "    \n",
    "    ''' φορτώνουμε το αρχείο με τους πληθυσμούς'''\n",
    "    pop=pd.read_csv(population, usecols = ['Country,Other','Population (2020)'])\n",
    "    '''συνδέουμε το dataframe με τα ελληνικά ονόματα '''\n",
    "    gr=pd.merge(gr,pop, how='right', left_on='ADMIN', right_on='Country,Other')\n",
    "    \n",
    "    '''Ενώνουμε το dataframe του Hopkins και εκείνο του population με βάση την στήλη με τα ελληνικά ονόματα'''\n",
    "    df=pd.merge(df,gr, how='left', on='ADMIN_GR')\n",
    "    \n",
    "    ''' υπολογίζουμε συγκεντρωτικά για κάθε χώρα τα κρούσματα και τους θανάτους ανά ημέρα'''\n",
    "    df=df.groupby(['Country/Region','Date','ADMIN_GR','Population (2020)'])[columnName].sum().reset_index()\n",
    "    \n",
    "    \n",
    "    \n",
    "    ''' ------------------- ΠΡΟΕΤΟΙΜΑΖΟΥΜΕ ΤΗ ΣΤΗΛΗ ΠΟΥ ΘΑ ΟΠΤΙΚΟΠΟΙΗΣΟΥΜΕ -----------------'''\n",
    "    \n",
    "    df[columnName + '_per_hundr']=round((df[columnName]/df['Population (2020)'])*100000,2)\n",
    "    \n",
    "    \n",
    "    \n",
    "    ''' ------------------- ΕΠΙΛΕΓΟΥΜΕ ΤΙΣ ΧΩΡΕΣ ΜΕ ΠΑΡΟΜΟΙΟ ΠΛΗΘΥΣΜΟ ΜΕ ΤΗΝ ΕΛΛΑΔΑ -----------'''\n",
    "    \n",
    "    df=df[(df['Population (2020)']>9000000)\\\n",
    "     & (df['Population (2020)']<12000000)\\\n",
    "     & (df['Date']>'2020-03-06')]\n",
    "    \n",
    "    ''' ------------------- ΞΕΚΙΝΑ Η ΟΠΤΙΚΟΠΟΙΗΣΗ ------------------'''\n",
    "    \n",
    "    \n",
    "    countries = df['ADMIN_GR']\n",
    "    item =df[columnName + '_per_hundr']\n",
    "    base = datetime.datetime.today()\n",
    "    dates = df['Date']\n",
    "    \n",
    "\n",
    "    fig = go.Figure(data=go.Heatmap(\n",
    "            z=item,\n",
    "            x=dates,\n",
    "            y=countries,\n",
    "            customdata=df[columnName],\n",
    "\n",
    "            showscale=True,\n",
    "\n",
    "            hovertemplate=\n",
    "            \"<b>%{y}</b><br>\" +\n",
    "            \"<i>%{x}</i><br><br>\" +\n",
    "            \"%{customdata} \"+ keyWord +\n",
    "            \"<extra></extra>\",\n",
    "\n",
    "            colorscale= [\n",
    "            [0, '#E6ECEC'],        #0\n",
    "            [1./10000, '#dadada'], #10\n",
    "            [1./1000, '#d7dfe3'],  #100\n",
    "            [1./100, '#b0bfc7'],   #1000\n",
    "            [1./10, '#3f6678'],       #10000\n",
    "            [1., '#BA3A0A']],\n",
    "            colorbar= dict(\n",
    "                    title=keyWord + \"/<br>100 χιλ \",\n",
    "                    tick0= 0,\n",
    "                    tickmode= 'auto', # όταν το tickmode είναι array, τότε παίρνει τα values του tickvals\n",
    "                    tickvals= [0, 1000,1800])))\n",
    "\n",
    "    fig.update_layout(title=titleGraphic)\n",
    "\n",
    "    fig.update_layout(hovermode=\"closest\",\n",
    "                     hoverlabel=dict(\n",
    "                        bgcolor=\"white\", \n",
    "                        font_size=12, \n",
    "                        font_family=\"Roboto\"),\n",
    "                     hoverlabel_align = 'left',)\n",
    "\n",
    "    fig.update_layout(paper_bgcolor=\"#E6ECEC\",\n",
    "                     plot_bgcolor=\"#E6ECEC\",\n",
    "                     font=dict(\n",
    "                    family=\"Roboto\",\n",
    "                    size=11,\n",
    "                    color=\"#114B5F\")\n",
    "                     )\n",
    "\n",
    "    fig.update_layout(height=380, \n",
    "                 margin=dict(\n",
    "                    l=10,\n",
    "                    r=10,\n",
    "                    b=20,\n",
    "                    t=100,\n",
    "                    pad=1\n",
    "    ))\n",
    "    fig.update_xaxes(side=\"top\")\n",
    "\n",
    "    \n",
    "    config = dict({'displayModeBar': False, \n",
    "                'scrollZoom': False,\n",
    "                'displaylogo': False,\n",
    "                'responsive': True,\n",
    "                'staticPlot': False\n",
    "\n",
    "                  })\n",
    "    \n",
    "    fig.show()\n",
    "    \n",
    "    return fig.write_json(outputName)\n",
    "\n",
    "heatmap(deathsHopkinsFileName,'deaths','death_heat.json','Θάνατοι ανά 100 χιλ. πληθυσμού', 'θάνατοι')\n",
    "\n"
   ]
  },
  {
   "cell_type": "code",
   "execution_count": null,
   "metadata": {},
   "outputs": [],
   "source": []
  },
  {
   "cell_type": "code",
   "execution_count": null,
   "metadata": {},
   "outputs": [],
   "source": []
  },
  {
   "cell_type": "code",
   "execution_count": null,
   "metadata": {},
   "outputs": [],
   "source": []
  },
  {
   "cell_type": "code",
   "execution_count": null,
   "metadata": {},
   "outputs": [],
   "source": []
  }
 ],
 "metadata": {
  "kernelspec": {
   "display_name": "Python 3",
   "language": "python",
   "name": "python3"
  },
  "language_info": {
   "codemirror_mode": {
    "name": "ipython",
    "version": 3
   },
   "file_extension": ".py",
   "mimetype": "text/x-python",
   "name": "python",
   "nbconvert_exporter": "python",
   "pygments_lexer": "ipython3",
   "version": "3.8.1"
  }
 },
 "nbformat": 4,
 "nbformat_minor": 4
}
